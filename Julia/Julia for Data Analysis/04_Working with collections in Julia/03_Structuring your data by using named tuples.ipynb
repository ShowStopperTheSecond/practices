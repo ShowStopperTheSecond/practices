{
 "cells": [
  {
   "cell_type": "markdown",
   "id": "26b3cc12-43de-4d87-9c37-e562d9648399",
   "metadata": {},
   "source": [
    "# Structuring your data by using named tuples"
   ]
  },
  {
   "cell_type": "markdown",
   "id": "f3f211ba-6c16-43b3-9de9-f4b0ea61a354",
   "metadata": {},
   "source": [
    "The NamedTuple\n",
    "type is a basic method to add structure to your code. You can think of a NamedTuple\n",
    "as a way to add names to the consecutive elements of a tuple."
   ]
  },
  {
   "cell_type": "code",
   "execution_count": 3,
   "id": "040ae469-071c-4518-ab9d-6f2e52ebe11d",
   "metadata": {},
   "outputs": [
    {
     "data": {
      "text/plain": [
       "11×8 Matrix{Float64}:\n",
       "  7.78536    4.83653   9.6885    1.35995   …   9.26827   4.86986     2.3597\n",
       " 11.6281     8.30996   8.80445   3.80326      13.7997    1.37371    11.0791\n",
       "  3.0478     9.11315   2.2198    7.05243       8.01321  10.8671      1.19453\n",
       "  4.12105    1.82298   4.86586   0.683873     12.3057    0.546671   11.9969\n",
       "  9.53409    8.84699   2.09452   9.9412        7.32993  12.1817      4.79019\n",
       "  3.44051    4.39119   8.94      7.89347   …  11.191     3.96647    13.9121\n",
       " 11.736     10.4064    5.74373   7.07984       1.07578   0.0305362   6.80115\n",
       "  0.909522   6.33205   3.92323  10.8936        9.1766   10.9841     10.6966\n",
       "  1.88126    6.49563   8.26233   6.03877      10.6326    8.87685     9.43032\n",
       "  3.8849    12.7331   13.9156   13.9722       11.4215   11.8548      3.29229\n",
       "  4.08944    5.76094  10.4867    5.64438   …   6.17229   5.07871     8.91156"
      ]
     },
     "execution_count": 3,
     "metadata": {},
     "output_type": "execute_result"
    }
   ],
   "source": [
    "aq = rand(11, 8)*14"
   ]
  },
  {
   "cell_type": "markdown",
   "id": "c082291f-55b7-4de4-992b-8133503f3426",
   "metadata": {},
   "source": [
    "### Defining named tuples and accessing their contents"
   ]
  },
  {
   "cell_type": "code",
   "execution_count": 4,
   "id": "05c2fc33-a053-4e8a-9646-d734f70f53f2",
   "metadata": {},
   "outputs": [
    {
     "data": {
      "text/plain": [
       "(x = [7.785361844152274, 11.628113143874893, 3.047795624523852, 4.121045996997349, 9.534086452568783, 3.440508144849459, 11.73595838992245, 0.9095219008828741, 1.8812600071542145, 3.884895122172503, 4.089437638671869], y = [4.8365315979180545, 8.309958508940783, 9.113154820539648, 1.8229757405863345, 8.84699047882784, 4.391193037691046, 10.406398939127568, 6.332054717370709, 6.495630441337451, 12.733138447949035, 5.760939422369723])"
      ]
     },
     "execution_count": 4,
     "metadata": {},
     "output_type": "execute_result"
    }
   ],
   "source": [
    "data_set_1 = (x=aq[:, 1], y=aq[:, 2])"
   ]
  },
  {
   "cell_type": "code",
   "execution_count": 10,
   "id": "4a417316-2e24-4948-afef-a88f46141e4b",
   "metadata": {},
   "outputs": [
    {
     "data": {
      "text/plain": [
       "11-element Vector{Float64}:\n",
       "  7.785361844152274\n",
       " 11.628113143874893\n",
       "  3.047795624523852\n",
       "  4.121045996997349\n",
       "  9.534086452568783\n",
       "  3.440508144849459\n",
       " 11.73595838992245\n",
       "  0.9095219008828741\n",
       "  1.8812600071542145\n",
       "  3.884895122172503\n",
       "  4.089437638671869"
      ]
     },
     "execution_count": 10,
     "metadata": {},
     "output_type": "execute_result"
    }
   ],
   "source": [
    "data_set_1[1]"
   ]
  },
  {
   "cell_type": "code",
   "execution_count": 11,
   "id": "0730f3a1-cf22-47c4-86e2-840501c6367f",
   "metadata": {},
   "outputs": [
    {
     "data": {
      "text/plain": [
       "11-element Vector{Float64}:\n",
       "  7.785361844152274\n",
       " 11.628113143874893\n",
       "  3.047795624523852\n",
       "  4.121045996997349\n",
       "  9.534086452568783\n",
       "  3.440508144849459\n",
       " 11.73595838992245\n",
       "  0.9095219008828741\n",
       "  1.8812600071542145\n",
       "  3.884895122172503\n",
       "  4.089437638671869"
      ]
     },
     "execution_count": 11,
     "metadata": {},
     "output_type": "execute_result"
    }
   ],
   "source": [
    "data_set_1.x"
   ]
  },
  {
   "cell_type": "markdown",
   "id": "d43c9c99-b006-46a8-95b7-9e360eecfb91",
   "metadata": {},
   "source": [
    "Let’s now create a nested named tuple holding our four data sets in the next listing."
   ]
  },
  {
   "cell_type": "code",
   "execution_count": 17,
   "id": "b096553d-446b-4b32-99d1-aa88444e4fd5",
   "metadata": {},
   "outputs": [
    {
     "data": {
      "text/plain": [
       "(set1 = (x = [7.785361844152274, 11.628113143874893, 3.047795624523852, 4.121045996997349, 9.534086452568783, 3.440508144849459, 11.73595838992245, 0.9095219008828741, 1.8812600071542145, 3.884895122172503, 4.089437638671869], y = [4.8365315979180545, 8.309958508940783, 9.113154820539648, 1.8229757405863345, 8.84699047882784, 4.391193037691046, 10.406398939127568, 6.332054717370709, 6.495630441337451, 12.733138447949035, 5.760939422369723]), set2 = (x = [9.688497377320946, 8.80444698441519, 2.219797630578099, 4.8658602764395615, 2.09452440859174, 8.939995582012816, 5.743728166421002, 3.9232341647061713, 8.262333887432044, 13.91555920231956, 10.486691971327392], y = [1.359946042534186, 3.8032635657387104, 7.052425482641526, 0.6838732409071597, 9.941201439212062, 7.8934736238470204, 7.079838951036613, 10.893565693522998, 6.038769004793378, 13.972168615771118, 5.644379651651209]), set3 = (x = [13.71271352167529, 3.404346142688194, 5.562832442757952, 8.474402295770965, 9.157025256756754, 4.195704860822142, 12.143028592457444, 8.116678352555343, 2.9588542397587565, 0.07178864590472234, 6.9468456244808685], y = [9.268266283299313, 13.799726093350676, 8.013211730199913, 12.305694435834031, 7.329928160491688, 11.190974166708958, 1.0757840480479615, 9.176596256083709, 10.632571077968711, 11.421469607801205, 6.172292344881663]), set4 = (x = [4.869857336650886, 1.3737143246154528, 10.867080161781022, 0.546670662692101, 12.181733237265496, 3.966472212111177, 0.030536210926044305, 10.984050811577838, 8.87685074334605, 11.854841022651032, 5.078712972441029], y = [2.3597017239472304, 11.07914156382027, 1.1945309823546708, 11.996917609851227, 4.790188224899192, 13.912054603527723, 6.801153795418909, 10.696600277525313, 9.430319907173013, 3.292287051888711, 8.911555524502386]))"
      ]
     },
     "execution_count": 17,
     "metadata": {},
     "output_type": "execute_result"
    }
   ],
   "source": [
    "data = (\n",
    "    set1 = (x = aq[:, 1], y = aq[:, 2]), \n",
    "    set2 = (x = aq[:, 3], y = aq[:, 4]), \n",
    "    set3 = (x = aq[:, 5], y = aq[:, 6]), \n",
    "    set4 = (x = aq[:, 7], y = aq[:, 8]), \n",
    "    )\n",
    "\n",
    "    \n",
    "    "
   ]
  },
  {
   "cell_type": "code",
   "execution_count": 18,
   "id": "d54f7803-158c-4a9b-b5d2-98652bb0ed50",
   "metadata": {},
   "outputs": [
    {
     "data": {
      "text/plain": [
       "11-element Vector{Float64}:\n",
       "  7.785361844152274\n",
       " 11.628113143874893\n",
       "  3.047795624523852\n",
       "  4.121045996997349\n",
       "  9.534086452568783\n",
       "  3.440508144849459\n",
       " 11.73595838992245\n",
       "  0.9095219008828741\n",
       "  1.8812600071542145\n",
       "  3.884895122172503\n",
       "  4.089437638671869"
      ]
     },
     "execution_count": 18,
     "metadata": {},
     "output_type": "execute_result"
    }
   ],
   "source": [
    "data.set1.x"
   ]
  },
  {
   "cell_type": "markdown",
   "id": "de4ef719-9a60-438c-bfad-253bf570b6af",
   "metadata": {},
   "source": [
    "### Analyzing Anscombe’s quartet data stored in a named tuple"
   ]
  },
  {
   "cell_type": "code",
   "execution_count": 19,
   "id": "9d7731a7-833b-48f4-bd43-f4546ef27f17",
   "metadata": {},
   "outputs": [],
   "source": [
    "using Statistics"
   ]
  },
  {
   "cell_type": "code",
   "execution_count": 23,
   "id": "5dd5d0e5-8706-4294-8e07-4d7cbe144b91",
   "metadata": {},
   "outputs": [
    {
     "data": {
      "text/plain": [
       "(set1 = 5.641634933251866, set2 = 7.176788150142229, set3 = 6.794929088693493, set4 = 6.420956336005284)"
      ]
     },
     "execution_count": 23,
     "metadata": {},
     "output_type": "execute_result"
    }
   ],
   "source": [
    "map(s -> mean(s.x), data)"
   ]
  },
  {
   "cell_type": "markdown",
   "id": "e01bb4cc-0cc2-4e47-b760-aadecac35f98",
   "metadata": {},
   "source": [
    "In the code, we create an anonymous function s -> mean(s.x) that extracts the x\n",
    "field from a passed NamedTuple and computes its mean. An interesting feature to\n",
    "note is that the map function is smart enough to return a NamedTuple that keeps the\n",
    "names of processed fields from the source NamedTuple. Calculation of Pearson’s cor-\n",
    "relation works similarly:"
   ]
  },
  {
   "cell_type": "code",
   "execution_count": 25,
   "id": "b0288272-34d4-427a-b2fe-9bb63061aed8",
   "metadata": {},
   "outputs": [
    {
     "data": {
      "text/plain": [
       "(set1 = 0.30587556329036153, set2 = 0.0696799427252521, set3 = -0.5790658671390951, set4 = -0.48435264229121855)"
      ]
     },
     "execution_count": 25,
     "metadata": {},
     "output_type": "execute_result"
    }
   ],
   "source": [
    "map(s -> cor(s.x, s.y) , data)"
   ]
  },
  {
   "cell_type": "markdown",
   "id": "03f90f55-fbb8-485c-a645-d71ee7c945ec",
   "metadata": {},
   "source": [
    "Finally, let’s fit a linear model for the first data set by using the GLM.jl package. In the\n",
    "model, the target variable is y, and we have one feature x:"
   ]
  },
  {
   "cell_type": "code",
   "execution_count": 29,
   "id": "e1df7883-6bb4-4885-9c64-118c5bbeaf45",
   "metadata": {},
   "outputs": [],
   "source": [
    "using GLM"
   ]
  },
  {
   "cell_type": "code",
   "execution_count": 32,
   "id": "6d2ef43c-45ae-4cf9-9066-25816296e00d",
   "metadata": {},
   "outputs": [
    {
     "data": {
      "text/plain": [
       "StatsModels.TableRegressionModel{LinearModel{GLM.LmResp{Vector{Float64}}, GLM.DensePredChol{Float64, LinearAlgebra.CholeskyPivoted{Float64, Matrix{Float64}, Vector{Int64}}}}, Matrix{Float64}}\n",
       "\n",
       "y ~ 1 + x\n",
       "\n",
       "Coefficients:\n",
       "───────────────────────────────────────────────────────────────────────\n",
       "                Coef.  Std. Error     t  Pr(>|t|)  Lower 95%  Upper 95%\n",
       "───────────────────────────────────────────────────────────────────────\n",
       "(Intercept)  5.81246     1.70125   3.42    0.0077   1.96397    9.66096\n",
       "x            0.243512    0.252653  0.96    0.3603  -0.328028   0.815052\n",
       "───────────────────────────────────────────────────────────────────────"
      ]
     },
     "execution_count": 32,
     "metadata": {},
     "output_type": "execute_result"
    }
   ],
   "source": [
    "model = lm(@formula(y ~ x), data.set1)"
   ]
  },
  {
   "cell_type": "markdown",
   "id": "3e7657d0-f97b-43f0-bc58-947314b77688",
   "metadata": {},
   "source": [
    "As the last example, let’s use the r2 function from GLM.jl to calculate the coeffi-\n",
    "cient of determination of our model:"
   ]
  },
  {
   "cell_type": "code",
   "execution_count": 34,
   "id": "417611bd-75df-4d36-9bce-6c8be533bf6d",
   "metadata": {},
   "outputs": [
    {
     "data": {
      "text/plain": [
       "0.09355986021819607"
      ]
     },
     "execution_count": 34,
     "metadata": {},
     "output_type": "execute_result"
    }
   ],
   "source": [
    "r2(model)"
   ]
  },
  {
   "cell_type": "markdown",
   "id": "f61de6b9-2ca3-4a93-b3db-6c3d3271ddf1",
   "metadata": {},
   "source": [
    "## Understanding composite types and mutability of values in Julia"
   ]
  },
  {
   "cell_type": "markdown",
   "id": "9e08183f-1ba2-4bb0-88ad-cecde7ac6c2b",
   "metadata": {},
   "source": [
    "### COMPOSITE TYPES"
   ]
  },
  {
   "cell_type": "markdown",
   "id": "46869341-51ac-4a5f-ba72-9f4200d1c818",
   "metadata": {},
   "source": [
    "The model variable that we worked with in section 4.3.2 has a TableRegression-\n",
    "Model type that is a composite type—namely, a struct. When doing basic opera-\n",
    "tions, you will most likely not need to create them on your own, but you will often\n",
    "encounter them returned by functions from packages.\n",
    "The TableRegressionModel type is defined in the StatsModels.jl package as fol-\n",
    "lows:"
   ]
  },
  {
   "cell_type": "markdown",
   "id": "0c89f004-30e7-4389-9a1f-50d092df2241",
   "metadata": {},
   "source": [
    "\n",
    "``` julia\n",
    "struct TableRegressionModel{M,T} <: RegressionModel\n",
    "model::M\n",
    "mf::ModelFrame\n",
    "mm::ModelMatrix{T}\n",
    "end\n",
    "```"
   ]
  },
  {
   "cell_type": "markdown",
   "id": "faa0a3bf-8634-422e-9280-192bc7acb400",
   "metadata": {},
   "source": [
    "At a basic level, you do not need to understand all the details of this definition. What\n",
    "is important for us now is that the struct defines three fields: model, mf, and mm.\n",
    "When you get a value having such a type, you can easily access its fields by using a dot\n",
    "(.), just as for a NamedTuple (in part 2, you will learn that the way the dot operator"
   ]
  },
  {
   "cell_type": "code",
   "execution_count": 35,
   "id": "d874b1d0-767b-40d6-8a50-4604be82e4cc",
   "metadata": {},
   "outputs": [
    {
     "data": {
      "text/plain": [
       "ModelFrame{NamedTuple{(:y, :x), Tuple{Vector{Float64}, Vector{Float64}}}, LinearModel}(y ~ 1 + x, StatsModels.Schema with 2 entries:\n",
       "  x => x\n",
       "  y => y\n",
       ", (y = [4.8365315979180545, 8.309958508940783, 9.113154820539648, 1.8229757405863345, 8.84699047882784, 4.391193037691046, 10.406398939127568, 6.332054717370709, 6.495630441337451, 12.733138447949035, 5.760939422369723], x = [7.785361844152274, 11.628113143874893, 3.047795624523852, 4.121045996997349, 9.534086452568783, 3.440508144849459, 11.73595838992245, 0.9095219008828741, 1.8812600071542145, 3.884895122172503, 4.089437638671869]), LinearModel)"
      ]
     },
     "execution_count": 35,
     "metadata": {},
     "output_type": "execute_result"
    }
   ],
   "source": [
    "model.mf"
   ]
  },
  {
   "cell_type": "code",
   "execution_count": 36,
   "id": "a3006b71-6f4a-4022-9b11-61c2fc867e44",
   "metadata": {},
   "outputs": [
    {
     "data": {
      "text/plain": [
       "ModelMatrix{Matrix{Float64}}([1.0 7.785361844152274; 1.0 11.628113143874893; … ; 1.0 3.884895122172503; 1.0 4.089437638671869], [1, 2])"
      ]
     },
     "execution_count": 36,
     "metadata": {},
     "output_type": "execute_result"
    }
   ],
   "source": [
    "model.mm"
   ]
  },
  {
   "cell_type": "code",
   "execution_count": 37,
   "id": "fac08011-6a8f-4375-ac72-1ff4d2d163ab",
   "metadata": {},
   "outputs": [
    {
     "data": {
      "text/plain": [
       "LinearModel{GLM.LmResp{Vector{Float64}}, GLM.DensePredChol{Float64, LinearAlgebra.CholeskyPivoted{Float64, Matrix{Float64}, Vector{Int64}}}}:\n",
       "\n",
       "Coefficients:\n",
       "──────────────────────────────────────────────────────────────\n",
       "       Coef.  Std. Error     t  Pr(>|t|)  Lower 95%  Upper 95%\n",
       "──────────────────────────────────────────────────────────────\n",
       "x1  5.81246     1.70125   3.42    0.0077   1.96397    9.66096\n",
       "x2  0.243512    0.252653  0.96    0.3603  -0.328028   0.815052\n",
       "──────────────────────────────────────────────────────────────\n"
      ]
     },
     "execution_count": 37,
     "metadata": {},
     "output_type": "execute_result"
    }
   ],
   "source": [
    "model.model"
   ]
  },
  {
   "cell_type": "markdown",
   "id": "b6019054-8e83-4b9b-9ad3-f4f7a8ef8b3e",
   "metadata": {},
   "source": [
    "### MUTABILITY OF VALUES"
   ]
  },
  {
   "cell_type": "markdown",
   "id": "2ac84c64-5c3a-4719-b7f7-58665dc5fed9",
   "metadata": {},
   "source": [
    "Julia distinguishes between mutable and immutable types. Here is a classification of\n",
    "selected types encountered so far in this book:"
   ]
  },
  {
   "cell_type": "markdown",
   "id": "8daabc16-efb1-4939-b518-ea9f03ed3eb5",
   "metadata": {},
   "source": [
    "- Immutable—Int, Float64, String, Tuple, NamedTuple, struct\n",
    "- Mutable—Array (so also Vector and Matrix), Dict, and struct created with mutable keyword added"
   ]
  },
  {
   "cell_type": "markdown",
   "id": "9fa10a18-94d4-4308-8dee-f61ae7c6dd2e",
   "metadata": {},
   "source": [
    "You might ask how immutable and mutable types differ. The point is that mutable val-\n",
    "ues can be changed."
   ]
  },
  {
   "cell_type": "markdown",
   "id": "99f1a8d9-1bfb-4079-b5aa-221bb4a54c82",
   "metadata": {},
   "source": [
    "This might sound obvious, but the crucial thing is that they can\n",
    "also be changed by functions to which they are passed. Such side effects can be quite\n",
    "surprising. Therefore, as discussed in chapter 2, it is crucially important to annotate\n",
    "the functions that mutate their arguments with the exclamation point suffix (!)."
   ]
  },
  {
   "cell_type": "markdown",
   "id": "8eb286d2-4236-4fb7-a0d4-70bb879521f4",
   "metadata": {},
   "source": [
    "In the first example, we see the difference between calling the unique and unique!\n",
    "functions on a vector. They both remove duplicates from a collection. The difference\n",
    "between them is that unique returns a new vector, while unique! works in place:"
   ]
  },
  {
   "cell_type": "code",
   "execution_count": 56,
   "id": "1c842916-0c80-4bfe-b92e-533cef812d40",
   "metadata": {},
   "outputs": [
    {
     "data": {
      "text/plain": [
       "8-element Vector{Int64}:\n",
       " 1\n",
       " 2\n",
       " 3\n",
       " 4\n",
       " 5\n",
       " 1\n",
       " 2\n",
       " 5"
      ]
     },
     "execution_count": 56,
     "metadata": {},
     "output_type": "execute_result"
    }
   ],
   "source": [
    "x = [1, 2, 3, 4, 5, 1, 2, 5]"
   ]
  },
  {
   "cell_type": "code",
   "execution_count": 57,
   "id": "a47e421d-c6a9-4fea-ac25-10f19b0d70b9",
   "metadata": {},
   "outputs": [
    {
     "data": {
      "text/plain": [
       "1×5 adjoint(::Vector{Int64}) with eltype Int64:\n",
       " 1  2  3  4  5"
      ]
     },
     "execution_count": 57,
     "metadata": {},
     "output_type": "execute_result"
    }
   ],
   "source": [
    "unique(x)'"
   ]
  },
  {
   "cell_type": "code",
   "execution_count": 62,
   "id": "fec7d3e0-6b22-4936-9a95-e895d9b550f5",
   "metadata": {},
   "outputs": [
    {
     "data": {
      "text/plain": [
       "1×5 adjoint(::Vector{Int64}) with eltype Int64:\n",
       " 1  2  3  4  5"
      ]
     },
     "execution_count": 62,
     "metadata": {},
     "output_type": "execute_result"
    }
   ],
   "source": [
    "x'"
   ]
  },
  {
   "cell_type": "code",
   "execution_count": 59,
   "id": "a28d4ef9-4be1-4fa1-9fd9-0e73101faea5",
   "metadata": {},
   "outputs": [
    {
     "data": {
      "text/plain": [
       "1×5 adjoint(::Vector{Int64}) with eltype Int64:\n",
       " 1  2  3  4  5"
      ]
     },
     "execution_count": 59,
     "metadata": {},
     "output_type": "execute_result"
    }
   ],
   "source": [
    "unique!(x)'"
   ]
  },
  {
   "cell_type": "code",
   "execution_count": 61,
   "id": "b4d95e5a-c7e5-4574-9a7f-7958f6e176d1",
   "metadata": {},
   "outputs": [
    {
     "data": {
      "text/plain": [
       "1×5 adjoint(::Vector{Int64}) with eltype Int64:\n",
       " 1  2  3  4  5"
      ]
     },
     "execution_count": 61,
     "metadata": {},
     "output_type": "execute_result"
    }
   ],
   "source": [
    "x'"
   ]
  },
  {
   "cell_type": "markdown",
   "id": "734ba72b-591e-4c99-8034-048c8f47ff44",
   "metadata": {},
   "source": [
    "The second example is meant to show you that even if your data structure is\n",
    "immutable, it might contain mutable elements that can be changed by a function. In\n",
    "this example, we use the empty! function that takes a mutable collection as its argu-\n",
    "ment and removes all elements stored in it in place:"
   ]
  },
  {
   "cell_type": "markdown",
   "id": "21501887-b7ae-4f4d-95c2-156b414535b4",
   "metadata": {},
   "source": [
    "In summary, stressing what we have already discussed, Julia does not copy data\n",
    "when passing arguments to a function. If an object is passed to a function and con-\n",
    "tains a structure (even a nested one) that is mutable, that object can potentially be\n",
    "mutated by the function. If you want to create a fully independent object when pass-\n",
    "ing a value to a function, to be sure that the original value is guaranteed not to be\n",
    "mutated, use the deepcopy function to create it."
   ]
  },
  {
   "cell_type": "code",
   "execution_count": null,
   "id": "c5f88968-b29f-4982-80ba-96ef39029449",
   "metadata": {},
   "outputs": [],
   "source": []
  }
 ],
 "metadata": {
  "kernelspec": {
   "display_name": "Julia 1.8.5",
   "language": "julia",
   "name": "julia-1.8"
  },
  "language_info": {
   "file_extension": ".jl",
   "mimetype": "application/julia",
   "name": "julia",
   "version": "1.8.5"
  }
 },
 "nbformat": 4,
 "nbformat_minor": 5
}
