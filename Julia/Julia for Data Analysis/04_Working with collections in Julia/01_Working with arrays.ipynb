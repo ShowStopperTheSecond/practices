{
 "cells": [
  {
   "cell_type": "markdown",
   "id": "4484a670-ac07-4a7d-8117-b1017da3ca06",
   "metadata": {},
   "source": [
    "## Working with arrays"
   ]
  },
  {
   "cell_type": "markdown",
   "id": "598f5bf7-ce23-4378-ba1d-1c33b811b004",
   "metadata": {},
   "source": [
    "### Getting the data into a matrix"
   ]
  },
  {
   "cell_type": "markdown",
   "id": "c001cc30-c439-4eae-b1ef-8ba25f2cd9c2",
   "metadata": {},
   "source": [
    "Before analyzing the data, we need to store it in the computer’s memory. Since the\n",
    "data is of a homogeneous type (these are all numbers), it is natural to use a matrix as\n",
    "a container."
   ]
  },
  {
   "cell_type": "code",
   "execution_count": 28,
   "id": "d60c094f-1714-49fb-befc-01bc300d60e6",
   "metadata": {},
   "outputs": [
    {
     "data": {
      "text/plain": [
       "11×9 Matrix{Float64}:\n",
       " 11.0983   13.4108    2.59585  12.161     …  12.257     11.4864    8.20261\n",
       " 12.2991   13.3456    9.10354   0.977913     11.1365     2.15588   7.82385\n",
       "  6.40516   4.15438  11.7597    1.09927       9.51187   13.5557    6.28267\n",
       "  4.59096   4.0007   10.5588    3.7404        4.34437   10.9612    5.10538\n",
       " 10.1014    5.13547  10.2253    8.92903       3.62145    1.17192  12.4403\n",
       " 10.7323    6.4389    2.47537   9.14894   …   4.06553    9.44254   2.2252\n",
       "  3.8471    3.49485   1.32054   8.35305       5.36904    1.61013   4.21223\n",
       "  7.18692   3.7057    2.33526   5.54921       0.822981  11.1512    2.96317\n",
       "  4.18247  10.394     6.83713   6.63886       9.07527    9.4176    6.69137\n",
       "  8.08907  11.7575   12.7493    0.671882      5.30385    7.56462   4.68671\n",
       " 13.679     7.35726   1.55444   1.7493    …  13.8031     1.09639  10.9873"
      ]
     },
     "execution_count": 28,
     "metadata": {},
     "output_type": "execute_result"
    }
   ],
   "source": [
    "aq = rand(Float64, (11, 9))*14"
   ]
  },
  {
   "cell_type": "markdown",
   "id": "fbeca4e6-b38a-4611-bd9f-152c5bbe9547",
   "metadata": {},
   "source": [
    "in Julia, it is easy to\n",
    "create a matrix storing predefined data. You just need to write each row of data as a\n",
    "single line of the input, using whitespace as a separator of columns, and wrap every-\n",
    "thing in square brackets."
   ]
  },
  {
   "cell_type": "code",
   "execution_count": 32,
   "id": "d4ce97d9-043c-49d7-a0b6-6a2f02560dbb",
   "metadata": {},
   "outputs": [
    {
     "data": {
      "text/plain": [
       "2×5 Matrix{Int64}:\n",
       " 1  2  3  4  5\n",
       " 2  3  4  5  6"
      ]
     },
     "execution_count": 32,
     "metadata": {},
     "output_type": "execute_result"
    }
   ],
   "source": [
    "x = [1 2 3 4 5 \n",
    "    2 3 4 5 6]"
   ]
  },
  {
   "cell_type": "markdown",
   "id": "8dc2919c-ca89-45bb-810a-b53ed51c9f38",
   "metadata": {},
   "source": [
    "The size function can take either one argument, in which case it returns a tuple of\n",
    "dimensions, or two arguments, where the second argument is the dimension that we\n",
    "want to investigate (where 1 stands for rows and 2 stands for columns).In the head of the output of our operation in listing 4.1, we can see that the matrix\n",
    "has 11 rows and eight columns. We can check this by using the size function:"
   ]
  },
  {
   "cell_type": "code",
   "execution_count": 36,
   "id": "be741a12-0cdd-4575-9086-8c5241e80f5d",
   "metadata": {},
   "outputs": [
    {
     "data": {
      "text/plain": [
       "(11, 9)"
      ]
     },
     "execution_count": 36,
     "metadata": {},
     "output_type": "execute_result"
    }
   ],
   "source": [
    "size(aq)"
   ]
  },
  {
   "cell_type": "code",
   "execution_count": 37,
   "id": "d0ecbf20-329e-4f62-94d9-121d02235e10",
   "metadata": {},
   "outputs": [
    {
     "data": {
      "text/plain": [
       "11"
      ]
     },
     "execution_count": 37,
     "metadata": {},
     "output_type": "execute_result"
    }
   ],
   "source": [
    "size(aq, 1)"
   ]
  },
  {
   "cell_type": "code",
   "execution_count": 38,
   "id": "2c3ea6ac-f36a-4b06-b2d3-2a8c42f46289",
   "metadata": {},
   "outputs": [
    {
     "data": {
      "text/plain": [
       "9"
      ]
     },
     "execution_count": 38,
     "metadata": {},
     "output_type": "execute_result"
    }
   ],
   "source": [
    "size(aq, 2)"
   ]
  },
  {
   "cell_type": "markdown",
   "id": "b77b57cc-6169-48ef-862a-4672837dc43e",
   "metadata": {},
   "source": [
    "### WORKING WITH TUPLES"
   ]
  },
  {
   "cell_type": "markdown",
   "id": "000e1d1f-32ff-4846-84f5-49a04bae92a2",
   "metadata": {},
   "source": [
    "Before moving forward, let’s briefly discuss what a tuple is. You can think of it as a vec-\n",
    "tor but with a fixed length and immutable. It is created using parentheses, while vec-\n",
    "tors are created with square brackets. You can get elements of the tuple, as with\n",
    "vectors, but you cannot set them, unlike with vectors, because tuples are immutable;"
   ]
  },
  {
   "cell_type": "markdown",
   "id": "dfa32dd3-a25d-492b-9680-aa40d449aeef",
   "metadata": {},
   "source": [
    "Tuples in Julia are similar to tuples in Python, and their type is Tuple."
   ]
  },
  {
   "cell_type": "markdown",
   "id": "5d31f055-4cc4-43c4-bd3e-176464c7dc6b",
   "metadata": {},
   "source": [
    "#### Tuples vs. vectors\n",
    "You might ask what the benefit is of using tuples instead of vectors. The consider-\n",
    "ations are as follows.\n",
    "Tuples are immutable, so if in your code you want to ensure that the user will not be\n",
    "able to change them, they are safer to use.\n",
    "Since tuples are immutable, they are faster, as the compiler does not have to use\n",
    "dynamic memory allocation to work with them (in type-stable code) and is able to\n",
    "know the types of variables stored in them even if they are heterogeneous (refer to\n",
    "the Julia Manual, http://mng.bz/epPP, for a list of tips ensuring the performance of\n",
    "Julia code).\n",
    "As a downside, I do not recommend creating tuples that store a large number of ele-\n",
    "ments (they are best suited to holding small collections). Large tuples may lead to\n",
    "significant compilation time of your programs."
   ]
  },
  {
   "cell_type": "markdown",
   "id": "fc2af2f4-5837-4127-b23d-142dc48b0102",
   "metadata": {},
   "source": [
    "For more technically oriented readers, let me mention that in Julia, tuples are allo-\n",
    "cated on the stack, and standard arrays are heap allocated. If you do not know these\n",
    "memory allocation models, see http://mng.bz/o5a2. For working efficiently with\n",
    "Julia, you do not need to know the details of how memory management is handled.\n",
    "It’s enough to understand that heap allocation is slower than stack allocation. Addi-\n",
    "tionally, heap allocation requires an additional process called garbage collection (GC) to\n",
    "be run. GC is responsible for releasing the memory that has been heap allocated and\n",
    "is not referenced anymore."
   ]
  },
  {
   "cell_type": "code",
   "execution_count": 39,
   "id": "aae4705b-9988-43df-9dac-3bacc35c161c",
   "metadata": {},
   "outputs": [],
   "source": [
    "using BenchmarkTools"
   ]
  },
  {
   "cell_type": "code",
   "execution_count": 40,
   "id": "f59b3d52-6ce8-49de-aab5-adf23fc629bb",
   "metadata": {},
   "outputs": [
    {
     "data": {
      "text/plain": [
       "BenchmarkTools.Trial: 10000 samples with 1000 evaluations.\n",
       " Range \u001b[90m(\u001b[39m\u001b[36m\u001b[1mmin\u001b[22m\u001b[39m … \u001b[35mmax\u001b[39m\u001b[90m):  \u001b[39m\u001b[36m\u001b[1m1.493 ns\u001b[22m\u001b[39m … \u001b[35m14.933 ns\u001b[39m  \u001b[90m┊\u001b[39m GC \u001b[90m(\u001b[39mmin … max\u001b[90m): \u001b[39m0.00% … 0.00%\n",
       " Time  \u001b[90m(\u001b[39m\u001b[34m\u001b[1mmedian\u001b[22m\u001b[39m\u001b[90m):     \u001b[39m\u001b[34m\u001b[1m1.821 ns              \u001b[22m\u001b[39m\u001b[90m┊\u001b[39m GC \u001b[90m(\u001b[39mmedian\u001b[90m):    \u001b[39m0.00%\n",
       " Time  \u001b[90m(\u001b[39m\u001b[32m\u001b[1mmean\u001b[22m\u001b[39m ± \u001b[32mσ\u001b[39m\u001b[90m):   \u001b[39m\u001b[32m\u001b[1m1.790 ns\u001b[22m\u001b[39m ± \u001b[32m 0.319 ns\u001b[39m  \u001b[90m┊\u001b[39m GC \u001b[90m(\u001b[39mmean ± σ\u001b[90m):  \u001b[39m0.00% ± 0.00%\n",
       "\n",
       "  \u001b[39m \u001b[39m \u001b[39m \u001b[39m \u001b[39m \u001b[39m \u001b[39m \u001b[39m \u001b[39m \u001b[39m \u001b[39m \u001b[39m \u001b[39m \u001b[39m \u001b[39m \u001b[39m \u001b[39m \u001b[39m \u001b[39m \u001b[39m \u001b[39m \u001b[39m \u001b[39m \u001b[39m \u001b[39m \u001b[39m \u001b[39m \u001b[39m \u001b[39m \u001b[39m \u001b[39m \u001b[39m \u001b[39m \u001b[39m \u001b[39m \u001b[39m \u001b[32m \u001b[39m\u001b[39m \u001b[39m \u001b[39m \u001b[34m \u001b[39m\u001b[39m \u001b[39m \u001b[39m \u001b[39m \u001b[39m \u001b[39m \u001b[39m█\u001b[39m \u001b[39m \u001b[39m \u001b[39m \u001b[39m \u001b[39m \u001b[39m \u001b[39m \u001b[39m▂\u001b[39m \u001b[39m \u001b[39m \n",
       "  \u001b[39m▄\u001b[39m▃\u001b[39m▁\u001b[39m▁\u001b[39m▁\u001b[39m▄\u001b[39m▅\u001b[39m▃\u001b[39m▁\u001b[39m▁\u001b[39m▁\u001b[39m▅\u001b[39m▄\u001b[39m▂\u001b[39m▁\u001b[39m▁\u001b[39m▁\u001b[39m▅\u001b[39m█\u001b[39m▄\u001b[39m▁\u001b[39m▁\u001b[39m▁\u001b[39m▂\u001b[39m▅\u001b[39m▄\u001b[39m▂\u001b[39m▁\u001b[39m▁\u001b[39m▁\u001b[39m▂\u001b[39m▅\u001b[39m▄\u001b[39m▂\u001b[39m▁\u001b[39m▁\u001b[32m▁\u001b[39m\u001b[39m▁\u001b[39m▃\u001b[39m▆\u001b[34m▄\u001b[39m\u001b[39m▂\u001b[39m▁\u001b[39m▁\u001b[39m▁\u001b[39m▁\u001b[39m▃\u001b[39m█\u001b[39m▇\u001b[39m▃\u001b[39m▁\u001b[39m▁\u001b[39m▁\u001b[39m▁\u001b[39m▁\u001b[39m▅\u001b[39m█\u001b[39m▅\u001b[39m \u001b[39m▃\n",
       "  1.49 ns\u001b[90m        Histogram: frequency by time\u001b[39m        1.97 ns \u001b[0m\u001b[1m<\u001b[22m\n",
       "\n",
       " Memory estimate\u001b[90m: \u001b[39m\u001b[33m0 bytes\u001b[39m, allocs estimate\u001b[90m: \u001b[39m\u001b[33m0\u001b[39m."
      ]
     },
     "execution_count": 40,
     "metadata": {},
     "output_type": "execute_result"
    }
   ],
   "source": [
    "@benchmark (1, 2, 3)"
   ]
  },
  {
   "cell_type": "code",
   "execution_count": 41,
   "id": "a4713bf0-ea82-43d2-bc94-9568565b20d2",
   "metadata": {},
   "outputs": [
    {
     "data": {
      "text/plain": [
       "BenchmarkTools.Trial: 10000 samples with 994 evaluations.\n",
       " Range \u001b[90m(\u001b[39m\u001b[36m\u001b[1mmin\u001b[22m\u001b[39m … \u001b[35mmax\u001b[39m\u001b[90m):  \u001b[39m\u001b[36m\u001b[1m26.626 ns\u001b[22m\u001b[39m … \u001b[35m 3.446 μs\u001b[39m  \u001b[90m┊\u001b[39m GC \u001b[90m(\u001b[39mmin … max\u001b[90m): \u001b[39m 0.00% … 98.90%\n",
       " Time  \u001b[90m(\u001b[39m\u001b[34m\u001b[1mmedian\u001b[22m\u001b[39m\u001b[90m):     \u001b[39m\u001b[34m\u001b[1m27.935 ns              \u001b[22m\u001b[39m\u001b[90m┊\u001b[39m GC \u001b[90m(\u001b[39mmedian\u001b[90m):    \u001b[39m 0.00%\n",
       " Time  \u001b[90m(\u001b[39m\u001b[32m\u001b[1mmean\u001b[22m\u001b[39m ± \u001b[32mσ\u001b[39m\u001b[90m):   \u001b[39m\u001b[32m\u001b[1m34.723 ns\u001b[22m\u001b[39m ± \u001b[32m88.961 ns\u001b[39m  \u001b[90m┊\u001b[39m GC \u001b[90m(\u001b[39mmean ± σ\u001b[90m):  \u001b[39m10.27% ±  4.06%\n",
       "\n",
       "  \u001b[39m▃\u001b[39m█\u001b[34m▅\u001b[39m\u001b[39m▄\u001b[39m▃\u001b[39m▂\u001b[39m▂\u001b[39m \u001b[39m \u001b[39m \u001b[39m \u001b[32m \u001b[39m\u001b[39m \u001b[39m \u001b[39m \u001b[39m \u001b[39m \u001b[39m \u001b[39m \u001b[39m \u001b[39m \u001b[39m \u001b[39m \u001b[39m \u001b[39m \u001b[39m \u001b[39m \u001b[39m \u001b[39m \u001b[39m \u001b[39m \u001b[39m \u001b[39m \u001b[39m \u001b[39m \u001b[39m \u001b[39m \u001b[39m \u001b[39m \u001b[39m \u001b[39m \u001b[39m \u001b[39m \u001b[39m \u001b[39m \u001b[39m \u001b[39m \u001b[39m \u001b[39m \u001b[39m \u001b[39m \u001b[39m \u001b[39m \u001b[39m \u001b[39m \u001b[39m \u001b[39m \u001b[39m \u001b[39m \u001b[39m \u001b[39m▁\n",
       "  \u001b[39m█\u001b[39m█\u001b[34m█\u001b[39m\u001b[39m█\u001b[39m█\u001b[39m█\u001b[39m█\u001b[39m█\u001b[39m▇\u001b[39m▆\u001b[39m▇\u001b[32m▆\u001b[39m\u001b[39m█\u001b[39m▇\u001b[39m█\u001b[39m▇\u001b[39m▆\u001b[39m▅\u001b[39m▆\u001b[39m▆\u001b[39m▆\u001b[39m▆\u001b[39m▆\u001b[39m▆\u001b[39m▆\u001b[39m▅\u001b[39m▆\u001b[39m▆\u001b[39m▆\u001b[39m▅\u001b[39m▆\u001b[39m▅\u001b[39m▅\u001b[39m▄\u001b[39m▆\u001b[39m▆\u001b[39m▆\u001b[39m▆\u001b[39m▆\u001b[39m▆\u001b[39m▆\u001b[39m▇\u001b[39m▆\u001b[39m▆\u001b[39m▅\u001b[39m▆\u001b[39m▆\u001b[39m█\u001b[39m▇\u001b[39m█\u001b[39m▇\u001b[39m▅\u001b[39m▅\u001b[39m▆\u001b[39m▆\u001b[39m▆\u001b[39m▅\u001b[39m▄\u001b[39m▄\u001b[39m \u001b[39m█\n",
       "  26.6 ns\u001b[90m      \u001b[39m\u001b[90mHistogram: \u001b[39m\u001b[90m\u001b[1mlog(\u001b[22m\u001b[39m\u001b[90mfrequency\u001b[39m\u001b[90m\u001b[1m)\u001b[22m\u001b[39m\u001b[90m by time\u001b[39m      72.1 ns \u001b[0m\u001b[1m<\u001b[22m\n",
       "\n",
       " Memory estimate\u001b[90m: \u001b[39m\u001b[33m80 bytes\u001b[39m, allocs estimate\u001b[90m: \u001b[39m\u001b[33m1\u001b[39m."
      ]
     },
     "execution_count": 41,
     "metadata": {},
     "output_type": "execute_result"
    }
   ],
   "source": [
    "@benchmark [1, 2, 3]"
   ]
  },
  {
   "cell_type": "markdown",
   "id": "bd84e0b5-9643-4233-bd9f-d89d529d8fd7",
   "metadata": {},
   "source": [
    "You can see in\n",
    "the Memory estimate section (marked with a rectangle) that creating a vector\n",
    "requires one memory allocation, while creating a tuple does not lead to any alloca-\n",
    "tions. Therefore, in the GC section (marked with a rounded rectangle), you can see\n",
    "that when benchmarking the creation of a tuple, GC is never triggered, while when\n",
    "benchmarking a vector, GC is occasionally run."
   ]
  },
  {
   "cell_type": "markdown",
   "id": "55471cd3-034b-4ef3-a60d-d2b45dd050a0",
   "metadata": {},
   "source": [
    "To wrap up the comparison of vectors and tuples, let’s discuss their construction when\n",
    "you pass data of mixed types. When you construct a vector using square brackets, Julia\n",
    "will try to promote all passed elements to a common type, while constructing a tuple\n",
    "does not result in such a conversion."
   ]
  },
  {
   "cell_type": "code",
   "execution_count": 42,
   "id": "02865ecc-83c7-40f2-b93e-1b286b00b041",
   "metadata": {},
   "outputs": [
    {
     "data": {
      "text/plain": [
       "(1, 2, \"string\")"
      ]
     },
     "execution_count": 42,
     "metadata": {},
     "output_type": "execute_result"
    }
   ],
   "source": [
    "(1, 2, \"string\")"
   ]
  },
  {
   "cell_type": "code",
   "execution_count": 43,
   "id": "6d2f4d5e-23b8-490e-be61-30eb9bea2885",
   "metadata": {},
   "outputs": [
    {
     "data": {
      "text/plain": [
       "3-element Vector{Any}:\n",
       " 1\n",
       " 2\n",
       "  \"string\""
      ]
     },
     "execution_count": 43,
     "metadata": {},
     "output_type": "execute_result"
    }
   ],
   "source": [
    "[1, 2, \"string\"]"
   ]
  },
  {
   "cell_type": "markdown",
   "id": "ea8743e0-9e58-4856-994a-c44453632d68",
   "metadata": {},
   "source": [
    "### Computing basic statistics of the data stored in a matrix"
   ]
  },
  {
   "cell_type": "code",
   "execution_count": 44,
   "id": "2bb1b275-9186-481d-b54e-adf505946ddd",
   "metadata": {},
   "outputs": [],
   "source": [
    "using Statistics"
   ]
  },
  {
   "cell_type": "code",
   "execution_count": 49,
   "id": "a07096c3-5c4d-481a-997d-33733414fd97",
   "metadata": {},
   "outputs": [
    {
     "data": {
      "text/plain": [
       "1×9 Matrix{Float64}:\n",
       " 8.3829  7.5632  6.50138  5.36535  9.46333  6.31842  7.21009  7.2376  6.51098"
      ]
     },
     "execution_count": 49,
     "metadata": {},
     "output_type": "execute_result"
    }
   ],
   "source": [
    "mean(aq, dims=1)"
   ]
  },
  {
   "cell_type": "code",
   "execution_count": 50,
   "id": "7159e59b-7790-4506-a9dd-87c59b36bb9b",
   "metadata": {},
   "outputs": [
    {
     "data": {
      "text/plain": [
       "1×9 Matrix{Float64}:\n",
       " 3.42427  3.95196  4.51699  3.98714  …  3.90771  4.14646  4.78406  3.18444"
      ]
     },
     "execution_count": 50,
     "metadata": {},
     "output_type": "execute_result"
    }
   ],
   "source": [
    "std(aq, dims=1)"
   ]
  },
  {
   "cell_type": "markdown",
   "id": "5a973257-e6be-4f9e-86c8-640ac14100c7",
   "metadata": {},
   "source": [
    "Let’s discuss two alternative ways to compute the required statistics. Here is the\n",
    "first one:"
   ]
  },
  {
   "cell_type": "code",
   "execution_count": 51,
   "id": "58684c7b-cae5-4122-beba-bfc6bd2e3811",
   "metadata": {},
   "outputs": [
    {
     "data": {
      "text/plain": [
       "9-element Vector{Float64}:\n",
       " 8.382897539203036\n",
       " 7.563198545767233\n",
       " 6.5013820319134945\n",
       " 5.365354051582288\n",
       " 9.463333830460135\n",
       " 6.3184244794132205\n",
       " 7.210094117913622\n",
       " 7.237597086877191\n",
       " 6.510975828940257"
      ]
     },
     "execution_count": 51,
     "metadata": {},
     "output_type": "execute_result"
    }
   ],
   "source": [
    "map(mean, eachcol(aq))"
   ]
  },
  {
   "cell_type": "code",
   "execution_count": 53,
   "id": "50ba6f5f-ef99-48e6-ba45-07b0bab8eb9e",
   "metadata": {},
   "outputs": [
    {
     "data": {
      "text/plain": [
       "9-element Vector{Float64}:\n",
       " 3.4242720142097927\n",
       " 3.9519624931873727\n",
       " 4.516993852603389\n",
       " 3.98713822937857\n",
       " 3.6791894674359047\n",
       " 3.907712493010446\n",
       " 4.146456842527298\n",
       " 4.784060155436407\n",
       " 3.1844362037920204"
      ]
     },
     "execution_count": 53,
     "metadata": {},
     "output_type": "execute_result"
    }
   ],
   "source": [
    "map(std, eachcol(aq))"
   ]
  },
  {
   "cell_type": "markdown",
   "id": "61ddd9e7-7e2b-4b58-818a-789acb5cac53",
   "metadata": {},
   "source": [
    "As a reminder from chapter\n",
    "2, note that we could have used the do-end notation with the map function like this:\n",
    "    "
   ]
  },
  {
   "cell_type": "code",
   "execution_count": 55,
   "id": "68c40be1-a9f4-4091-9c11-d596927f56ee",
   "metadata": {},
   "outputs": [
    {
     "data": {
      "text/plain": [
       "9-element Vector{Float64}:\n",
       " 8.382897539203036\n",
       " 7.563198545767233\n",
       " 6.5013820319134945\n",
       " 5.365354051582288\n",
       " 9.463333830460135\n",
       " 6.3184244794132205\n",
       " 7.210094117913622\n",
       " 7.237597086877191\n",
       " 6.510975828940257"
      ]
     },
     "execution_count": 55,
     "metadata": {},
     "output_type": "execute_result"
    }
   ],
   "source": [
    "map(eachcol(aq)) do col\n",
    "mean(col)\n",
    "end"
   ]
  },
  {
   "cell_type": "markdown",
   "id": "933f446e-b645-48d5-9d10-82e1aa513dbf",
   "metadata": {},
   "source": [
    "Instead of using the map function, we could have used a comprehension to create\n",
    "a vector by iterating columns of the aq matrix:"
   ]
  },
  {
   "cell_type": "code",
   "execution_count": 56,
   "id": "dfc69d61-ecfc-456a-93a9-3763c9b62490",
   "metadata": {},
   "outputs": [
    {
     "data": {
      "text/plain": [
       "9-element Vector{Float64}:\n",
       " 8.382897539203036\n",
       " 7.563198545767233\n",
       " 6.5013820319134945\n",
       " 5.365354051582288\n",
       " 9.463333830460135\n",
       " 6.3184244794132205\n",
       " 7.210094117913622\n",
       " 7.237597086877191\n",
       " 6.510975828940257"
      ]
     },
     "execution_count": 56,
     "metadata": {},
     "output_type": "execute_result"
    }
   ],
   "source": [
    "[mean(col) for col in eachcol(aq)]"
   ]
  },
  {
   "cell_type": "code",
   "execution_count": 57,
   "id": "c64b421b-fe90-4484-9bfd-40d0c1d0a686",
   "metadata": {},
   "outputs": [
    {
     "data": {
      "text/plain": [
       "9-element Vector{Float64}:\n",
       " 3.4242720142097927\n",
       " 3.9519624931873727\n",
       " 4.516993852603389\n",
       " 3.98713822937857\n",
       " 3.6791894674359047\n",
       " 3.907712493010446\n",
       " 4.146456842527298\n",
       " 4.784060155436407\n",
       " 3.1844362037920204"
      ]
     },
     "execution_count": 57,
     "metadata": {},
     "output_type": "execute_result"
    }
   ],
   "source": [
    "[std(col) for col in eachcol(aq)]"
   ]
  },
  {
   "cell_type": "markdown",
   "id": "d466e456-d1ef-4ecc-a63c-83bbe3d72ecf",
   "metadata": {},
   "source": [
    "Another difference is that com-\n",
    "prehensions always produce arrays, while the map function can produce values of a\n",
    "different type. Here is an example of taking the absolute value of several numbers\n",
    "stored in a tuple. A comprehension produces a vector, while map returns a tuple:"
   ]
  },
  {
   "cell_type": "code",
   "execution_count": 58,
   "id": "bb1b1887-46fc-41dc-8a71-758ae9160660",
   "metadata": {},
   "outputs": [
    {
     "data": {
      "text/plain": [
       "(-2, -1, 0, 1, 2)"
      ]
     },
     "execution_count": 58,
     "metadata": {},
     "output_type": "execute_result"
    }
   ],
   "source": [
    "x = (-2, -1, 0, 1, 2)"
   ]
  },
  {
   "cell_type": "code",
   "execution_count": 59,
   "id": "67614b29-ec01-4799-a4f9-96b4a985fd6c",
   "metadata": {},
   "outputs": [
    {
     "data": {
      "text/plain": [
       "5-element Vector{Int64}:\n",
       " 2\n",
       " 1\n",
       " 0\n",
       " 1\n",
       " 2"
      ]
     },
     "execution_count": 59,
     "metadata": {},
     "output_type": "execute_result"
    }
   ],
   "source": [
    "[abs(s) for s in x]"
   ]
  },
  {
   "cell_type": "code",
   "execution_count": 61,
   "id": "dff5181d-532d-417b-8b3a-8d4da69c9622",
   "metadata": {},
   "outputs": [
    {
     "data": {
      "text/plain": [
       "(2, 1, 0, 1, 2)"
      ]
     },
     "execution_count": 61,
     "metadata": {},
     "output_type": "execute_result"
    }
   ],
   "source": [
    "map(abs, x)"
   ]
  },
  {
   "cell_type": "markdown",
   "id": "02909d00-b525-4feb-8b1d-ee7bc7a945bf",
   "metadata": {},
   "source": [
    "## Indexing into arrays"
   ]
  },
  {
   "cell_type": "markdown",
   "id": "9d1ab853-6ae7-4352-a673-f079231b587d",
   "metadata": {},
   "source": [
    "Often you want to select part of a matrix to be able to work with it later. This is easily\n",
    "done using indexing."
   ]
  },
  {
   "cell_type": "code",
   "execution_count": 63,
   "id": "2250b271-710e-4d16-bf5a-9a7b3d2e7d71",
   "metadata": {},
   "outputs": [
    {
     "data": {
      "text/plain": [
       "9-element Vector{Float64}:\n",
       " 8.382897539203036\n",
       " 7.563198545767233\n",
       " 6.5013820319134945\n",
       " 5.365354051582288\n",
       " 9.463333830460135\n",
       " 6.3184244794132205\n",
       " 7.210094117913622\n",
       " 7.237597086877191\n",
       " 6.510975828940257"
      ]
     },
     "execution_count": 63,
     "metadata": {},
     "output_type": "execute_result"
    }
   ],
   "source": [
    "[mean(aq[:, i]) for i in axes(aq, 2)]"
   ]
  },
  {
   "cell_type": "markdown",
   "id": "111e0d3a-2389-4b85-bdbe-16e7353ce8ad",
   "metadata": {},
   "source": [
    "The axes function is similar to the\n",
    "size function discussed previously. The difference is that instead of returning the\n",
    "length of the given dimension, it produces a valid range of indices in a given dimen-\n",
    "sion. In this example, it is as follows:"
   ]
  },
  {
   "cell_type": "code",
   "execution_count": 64,
   "id": "532aa22f-838e-4adc-b1f7-f56832a49b48",
   "metadata": {},
   "outputs": [
    {
     "data": {
      "text/plain": [
       "Base.OneTo(9)"
      ]
     },
     "execution_count": 64,
     "metadata": {},
     "output_type": "execute_result"
    }
   ],
   "source": [
    "axes(aq, 2)"
   ]
  },
  {
   "cell_type": "markdown",
   "id": "ca4ca7f5-3633-4bbb-969a-63370a5b76e6",
   "metadata": {},
   "source": [
    "In our comprehension, since we now iterate indices of the second dimension of our\n",
    "matrix, we need to extract its single column. This is done using the aq[:, j] expres-\n",
    "sion. The colon (:) means that we pick all rows of the j-th column of aq."
   ]
  },
  {
   "cell_type": "code",
   "execution_count": 65,
   "id": "f30caf81-69ee-448a-a43e-bb65c1cbc431",
   "metadata": {},
   "outputs": [
    {
     "data": {
      "text/plain": [
       "11-element Vector{Float64}:\n",
       " 11.098287101412001\n",
       " 12.299148427485664\n",
       "  6.405164366186594\n",
       "  4.590961891832809\n",
       " 10.101403748013208\n",
       " 10.73230239989706\n",
       "  3.8471018121148997\n",
       "  7.186917034060474\n",
       "  4.182472766022412\n",
       "  8.08907182686122\n",
       " 13.679041557347063"
      ]
     },
     "execution_count": 65,
     "metadata": {},
     "output_type": "execute_result"
    }
   ],
   "source": [
    "aq[:, 1]"
   ]
  },
  {
   "cell_type": "markdown",
   "id": "c8764c93-fd6f-4930-9943-1bd12da1a794",
   "metadata": {},
   "source": [
    "A final note related to the aq[:, j] expression is that it makes a copy of the j-th col-\n",
    "umn of our matrix. Sometimes, for performance reasons, you might prefer not to\n",
    "copy data, but use a view into the aq matrix instead. This can be done using the view\n",
    "function or the @view macro as follows:"
   ]
  },
  {
   "cell_type": "code",
   "execution_count": 77,
   "id": "560506d4-cd22-4d58-a866-57cb6d90c650",
   "metadata": {},
   "outputs": [
    {
     "data": {
      "text/plain": [
       "BenchmarkTools.Trial: 10000 samples with 818 evaluations.\n",
       " Range \u001b[90m(\u001b[39m\u001b[36m\u001b[1mmin\u001b[22m\u001b[39m … \u001b[35mmax\u001b[39m\u001b[90m):  \u001b[39m\u001b[36m\u001b[1m149.544 ns\u001b[22m\u001b[39m … \u001b[35m 2.490 μs\u001b[39m  \u001b[90m┊\u001b[39m GC \u001b[90m(\u001b[39mmin … max\u001b[90m): \u001b[39m0.00% … 87.96%\n",
       " Time  \u001b[90m(\u001b[39m\u001b[34m\u001b[1mmedian\u001b[22m\u001b[39m\u001b[90m):     \u001b[39m\u001b[34m\u001b[1m153.143 ns              \u001b[22m\u001b[39m\u001b[90m┊\u001b[39m GC \u001b[90m(\u001b[39mmedian\u001b[90m):    \u001b[39m0.00%\n",
       " Time  \u001b[90m(\u001b[39m\u001b[32m\u001b[1mmean\u001b[22m\u001b[39m ± \u001b[32mσ\u001b[39m\u001b[90m):   \u001b[39m\u001b[32m\u001b[1m172.993 ns\u001b[22m\u001b[39m ± \u001b[32m68.686 ns\u001b[39m  \u001b[90m┊\u001b[39m GC \u001b[90m(\u001b[39mmean ± σ\u001b[90m):  \u001b[39m1.44% ±  4.08%\n",
       "\n",
       "  \u001b[39m▅\u001b[34m█\u001b[39m\u001b[39m▁\u001b[39m▂\u001b[39m▅\u001b[39m▂\u001b[39m▁\u001b[39m▁\u001b[32m \u001b[39m\u001b[39m \u001b[39m▁\u001b[39m \u001b[39m \u001b[39m \u001b[39m \u001b[39m \u001b[39m▂\u001b[39m \u001b[39m \u001b[39m \u001b[39m \u001b[39m \u001b[39m \u001b[39m \u001b[39m \u001b[39m \u001b[39m \u001b[39m \u001b[39m \u001b[39m \u001b[39m \u001b[39m \u001b[39m \u001b[39m \u001b[39m \u001b[39m \u001b[39m \u001b[39m \u001b[39m \u001b[39m▁\u001b[39m▂\u001b[39m \u001b[39m \u001b[39m \u001b[39m \u001b[39m \u001b[39m \u001b[39m \u001b[39m \u001b[39m \u001b[39m \u001b[39m \u001b[39m \u001b[39m \u001b[39m \u001b[39m \u001b[39m \u001b[39m \u001b[39m \u001b[39m \u001b[39m \u001b[39m▁\n",
       "  \u001b[39m█\u001b[34m█\u001b[39m\u001b[39m█\u001b[39m█\u001b[39m█\u001b[39m█\u001b[39m█\u001b[39m█\u001b[32m█\u001b[39m\u001b[39m█\u001b[39m█\u001b[39m█\u001b[39m█\u001b[39m█\u001b[39m█\u001b[39m█\u001b[39m█\u001b[39m█\u001b[39m█\u001b[39m▇\u001b[39m▇\u001b[39m█\u001b[39m▇\u001b[39m▇\u001b[39m▇\u001b[39m▆\u001b[39m▆\u001b[39m▇\u001b[39m▇\u001b[39m▇\u001b[39m█\u001b[39m▇\u001b[39m▇\u001b[39m▆\u001b[39m▅\u001b[39m▅\u001b[39m▆\u001b[39m▆\u001b[39m▇\u001b[39m█\u001b[39m█\u001b[39m▅\u001b[39m▆\u001b[39m▇\u001b[39m▆\u001b[39m▆\u001b[39m▇\u001b[39m▇\u001b[39m▇\u001b[39m▆\u001b[39m▅\u001b[39m▅\u001b[39m▅\u001b[39m▄\u001b[39m▅\u001b[39m▅\u001b[39m▅\u001b[39m▅\u001b[39m▆\u001b[39m▆\u001b[39m \u001b[39m█\n",
       "  150 ns\u001b[90m        \u001b[39m\u001b[90mHistogram: \u001b[39m\u001b[90m\u001b[1mlog(\u001b[22m\u001b[39m\u001b[90mfrequency\u001b[39m\u001b[90m\u001b[1m)\u001b[22m\u001b[39m\u001b[90m by time\u001b[39m       332 ns \u001b[0m\u001b[1m<\u001b[22m\n",
       "\n",
       " Memory estimate\u001b[90m: \u001b[39m\u001b[33m128 bytes\u001b[39m, allocs estimate\u001b[90m: \u001b[39m\u001b[33m1\u001b[39m."
      ]
     },
     "execution_count": 77,
     "metadata": {},
     "output_type": "execute_result"
    }
   ],
   "source": [
    "@benchmark [mean(view($aq, :, j)) for j in axes($aq, 2)]"
   ]
  },
  {
   "cell_type": "code",
   "execution_count": 78,
   "id": "de31d2d8-de7f-4431-b0ea-71272fedc2dd",
   "metadata": {},
   "outputs": [
    {
     "data": {
      "text/plain": [
       "BenchmarkTools.Trial: 10000 samples with 815 evaluations.\n",
       " Range \u001b[90m(\u001b[39m\u001b[36m\u001b[1mmin\u001b[22m\u001b[39m … \u001b[35mmax\u001b[39m\u001b[90m):  \u001b[39m\u001b[36m\u001b[1m151.514 ns\u001b[22m\u001b[39m … \u001b[35m 1.877 μs\u001b[39m  \u001b[90m┊\u001b[39m GC \u001b[90m(\u001b[39mmin … max\u001b[90m): \u001b[39m0.00% … 90.87%\n",
       " Time  \u001b[90m(\u001b[39m\u001b[34m\u001b[1mmedian\u001b[22m\u001b[39m\u001b[90m):     \u001b[39m\u001b[34m\u001b[1m162.616 ns              \u001b[22m\u001b[39m\u001b[90m┊\u001b[39m GC \u001b[90m(\u001b[39mmedian\u001b[90m):    \u001b[39m0.00%\n",
       " Time  \u001b[90m(\u001b[39m\u001b[32m\u001b[1mmean\u001b[22m\u001b[39m ± \u001b[32mσ\u001b[39m\u001b[90m):   \u001b[39m\u001b[32m\u001b[1m176.681 ns\u001b[22m\u001b[39m ± \u001b[32m67.324 ns\u001b[39m  \u001b[90m┊\u001b[39m GC \u001b[90m(\u001b[39mmean ± σ\u001b[90m):  \u001b[39m1.44% ±  4.07%\n",
       "\n",
       "  \u001b[39m█\u001b[39m▁\u001b[39m \u001b[39m█\u001b[34m▄\u001b[39m\u001b[39m▃\u001b[39m▁\u001b[39m▁\u001b[32m▁\u001b[39m\u001b[39m▁\u001b[39m▁\u001b[39m \u001b[39m \u001b[39m▁\u001b[39m▁\u001b[39m▂\u001b[39m▁\u001b[39m▁\u001b[39m▁\u001b[39m▁\u001b[39m \u001b[39m \u001b[39m▁\u001b[39m \u001b[39m \u001b[39m \u001b[39m \u001b[39m▁\u001b[39m \u001b[39m▁\u001b[39m \u001b[39m \u001b[39m \u001b[39m \u001b[39m \u001b[39m \u001b[39m \u001b[39m \u001b[39m \u001b[39m \u001b[39m \u001b[39m \u001b[39m \u001b[39m \u001b[39m \u001b[39m \u001b[39m \u001b[39m \u001b[39m \u001b[39m \u001b[39m \u001b[39m \u001b[39m \u001b[39m \u001b[39m \u001b[39m \u001b[39m \u001b[39m \u001b[39m \u001b[39m \u001b[39m \u001b[39m▁\n",
       "  \u001b[39m█\u001b[39m█\u001b[39m▇\u001b[39m█\u001b[34m█\u001b[39m\u001b[39m█\u001b[39m█\u001b[39m█\u001b[32m█\u001b[39m\u001b[39m█\u001b[39m█\u001b[39m█\u001b[39m█\u001b[39m█\u001b[39m█\u001b[39m█\u001b[39m█\u001b[39m█\u001b[39m█\u001b[39m█\u001b[39m█\u001b[39m█\u001b[39m█\u001b[39m▇\u001b[39m█\u001b[39m▇\u001b[39m▇\u001b[39m█\u001b[39m█\u001b[39m█\u001b[39m█\u001b[39m▇\u001b[39m▇\u001b[39m▇\u001b[39m▇\u001b[39m█\u001b[39m▇\u001b[39m▆\u001b[39m▇\u001b[39m▅\u001b[39m▇\u001b[39m▇\u001b[39m▆\u001b[39m▇\u001b[39m▅\u001b[39m▆\u001b[39m▆\u001b[39m▆\u001b[39m▆\u001b[39m▆\u001b[39m▅\u001b[39m▅\u001b[39m▄\u001b[39m▅\u001b[39m▆\u001b[39m▅\u001b[39m▆\u001b[39m▆\u001b[39m▄\u001b[39m▅\u001b[39m \u001b[39m█\n",
       "  152 ns\u001b[90m        \u001b[39m\u001b[90mHistogram: \u001b[39m\u001b[90m\u001b[1mlog(\u001b[22m\u001b[39m\u001b[90mfrequency\u001b[39m\u001b[90m\u001b[1m)\u001b[22m\u001b[39m\u001b[90m by time\u001b[39m       336 ns \u001b[0m\u001b[1m<\u001b[22m\n",
       "\n",
       " Memory estimate\u001b[90m: \u001b[39m\u001b[33m128 bytes\u001b[39m, allocs estimate\u001b[90m: \u001b[39m\u001b[33m1\u001b[39m."
      ]
     },
     "execution_count": 78,
     "metadata": {},
     "output_type": "execute_result"
    }
   ],
   "source": [
    "@benchmark [mean(@view $aq[:, j]) for j in axes($aq, 2)]"
   ]
  },
  {
   "cell_type": "markdown",
   "id": "ead39878-4264-4078-a715-e546311357ad",
   "metadata": {},
   "source": [
    "In the first example, when calculating the mean, we use the view function. In this\n",
    "case, we pass the indices as consecutive arguments to it. When using the @view macro,\n",
    "we can use the standard indexing syntax. I have shown this approach when calculating\n",
    "the standard deviation. Apart from syntax differences, writing view(aq, :, j) and\n",
    "@view aq[:, j] are equivalent."
   ]
  },
  {
   "cell_type": "markdown",
   "id": "c4bb1795-60fb-4dae-9e6f-c49dc39d247f",
   "metadata": {},
   "source": [
    "### What is a view?\n",
    "In Julia, if you have an array and create its view, no data from the parent array is cop-\n",
    "ied. Instead, a lightweight object is created that lazily references the parent array.\n",
    "Therefore, the parent and its view share the same memory to store data. If you modify\n",
    "data stored in a view, this change is also visible in the parent."
   ]
  },
  {
   "cell_type": "code",
   "execution_count": 79,
   "id": "26ce38d9-b3e8-4f19-97eb-610fd772d5c9",
   "metadata": {},
   "outputs": [
    {
     "data": {
      "text/plain": [
       "BenchmarkTools.Trial: 10000 samples with 197 evaluations.\n",
       " Range \u001b[90m(\u001b[39m\u001b[36m\u001b[1mmin\u001b[22m\u001b[39m … \u001b[35mmax\u001b[39m\u001b[90m):  \u001b[39m\u001b[36m\u001b[1m448.391 ns\u001b[22m\u001b[39m … \u001b[35m  7.397 μs\u001b[39m  \u001b[90m┊\u001b[39m GC \u001b[90m(\u001b[39mmin … max\u001b[90m): \u001b[39m0.00% … 88.79%\n",
       " Time  \u001b[90m(\u001b[39m\u001b[34m\u001b[1mmedian\u001b[22m\u001b[39m\u001b[90m):     \u001b[39m\u001b[34m\u001b[1m486.734 ns               \u001b[22m\u001b[39m\u001b[90m┊\u001b[39m GC \u001b[90m(\u001b[39mmedian\u001b[90m):    \u001b[39m0.00%\n",
       " Time  \u001b[90m(\u001b[39m\u001b[32m\u001b[1mmean\u001b[22m\u001b[39m ± \u001b[32mσ\u001b[39m\u001b[90m):   \u001b[39m\u001b[32m\u001b[1m548.191 ns\u001b[22m\u001b[39m ± \u001b[32m374.818 ns\u001b[39m  \u001b[90m┊\u001b[39m GC \u001b[90m(\u001b[39mmean ± σ\u001b[90m):  \u001b[39m4.94% ±  6.96%\n",
       "\n",
       "  \u001b[39m▇\u001b[39m▇\u001b[39m▁\u001b[34m█\u001b[39m\u001b[39m▄\u001b[39m▂\u001b[39m▁\u001b[39m▁\u001b[39m▁\u001b[32m▂\u001b[39m\u001b[39m▁\u001b[39m \u001b[39m \u001b[39m \u001b[39m \u001b[39m \u001b[39m \u001b[39m \u001b[39m \u001b[39m \u001b[39m \u001b[39m▁\u001b[39m \u001b[39m \u001b[39m \u001b[39m▁\u001b[39m \u001b[39m \u001b[39m \u001b[39m \u001b[39m \u001b[39m \u001b[39m \u001b[39m \u001b[39m \u001b[39m \u001b[39m \u001b[39m \u001b[39m \u001b[39m \u001b[39m \u001b[39m \u001b[39m \u001b[39m \u001b[39m \u001b[39m \u001b[39m \u001b[39m \u001b[39m \u001b[39m \u001b[39m \u001b[39m \u001b[39m \u001b[39m \u001b[39m \u001b[39m \u001b[39m \u001b[39m \u001b[39m \u001b[39m \u001b[39m \u001b[39m \u001b[39m▁\n",
       "  \u001b[39m█\u001b[39m█\u001b[39m█\u001b[34m█\u001b[39m\u001b[39m█\u001b[39m█\u001b[39m█\u001b[39m█\u001b[39m█\u001b[32m█\u001b[39m\u001b[39m█\u001b[39m▇\u001b[39m▇\u001b[39m▆\u001b[39m▆\u001b[39m█\u001b[39m▇\u001b[39m█\u001b[39m█\u001b[39m█\u001b[39m█\u001b[39m█\u001b[39m▇\u001b[39m▇\u001b[39m▆\u001b[39m█\u001b[39m▇\u001b[39m▇\u001b[39m▆\u001b[39m▅\u001b[39m▆\u001b[39m█\u001b[39m▇\u001b[39m█\u001b[39m▆\u001b[39m▆\u001b[39m▆\u001b[39m▆\u001b[39m▆\u001b[39m▆\u001b[39m▇\u001b[39m▇\u001b[39m▆\u001b[39m▅\u001b[39m▅\u001b[39m▆\u001b[39m▆\u001b[39m▅\u001b[39m▇\u001b[39m▇\u001b[39m▇\u001b[39m▅\u001b[39m▄\u001b[39m▆\u001b[39m▇\u001b[39m▇\u001b[39m▆\u001b[39m▆\u001b[39m▅\u001b[39m▆\u001b[39m▇\u001b[39m \u001b[39m█\n",
       "  448 ns\u001b[90m        \u001b[39m\u001b[90mHistogram: \u001b[39m\u001b[90m\u001b[1mlog(\u001b[22m\u001b[39m\u001b[90mfrequency\u001b[39m\u001b[90m\u001b[1m)\u001b[22m\u001b[39m\u001b[90m by time\u001b[39m       1.13 μs \u001b[0m\u001b[1m<\u001b[22m\n",
       "\n",
       " Memory estimate\u001b[90m: \u001b[39m\u001b[33m1.39 KiB\u001b[39m, allocs estimate\u001b[90m: \u001b[39m\u001b[33m10\u001b[39m."
      ]
     },
     "execution_count": 79,
     "metadata": {},
     "output_type": "execute_result"
    }
   ],
   "source": [
    "@benchmark [mean($aq[:, i]) for i in axes($aq, 2)]"
   ]
  },
  {
   "cell_type": "code",
   "execution_count": 81,
   "id": "9c34e6a5-b0c8-4e27-8e7c-e615db4bdf65",
   "metadata": {},
   "outputs": [
    {
     "data": {
      "text/plain": [
       "BenchmarkTools.Trial: 10000 samples with 825 evaluations.\n",
       " Range \u001b[90m(\u001b[39m\u001b[36m\u001b[1mmin\u001b[22m\u001b[39m … \u001b[35mmax\u001b[39m\u001b[90m):  \u001b[39m\u001b[36m\u001b[1m149.181 ns\u001b[22m\u001b[39m … \u001b[35m 2.336 μs\u001b[39m  \u001b[90m┊\u001b[39m GC \u001b[90m(\u001b[39mmin … max\u001b[90m): \u001b[39m0.00% … 86.77%\n",
       " Time  \u001b[90m(\u001b[39m\u001b[34m\u001b[1mmedian\u001b[22m\u001b[39m\u001b[90m):     \u001b[39m\u001b[34m\u001b[1m152.427 ns              \u001b[22m\u001b[39m\u001b[90m┊\u001b[39m GC \u001b[90m(\u001b[39mmedian\u001b[90m):    \u001b[39m0.00%\n",
       " Time  \u001b[90m(\u001b[39m\u001b[32m\u001b[1mmean\u001b[22m\u001b[39m ± \u001b[32mσ\u001b[39m\u001b[90m):   \u001b[39m\u001b[32m\u001b[1m166.003 ns\u001b[22m\u001b[39m ± \u001b[32m63.651 ns\u001b[39m  \u001b[90m┊\u001b[39m GC \u001b[90m(\u001b[39mmean ± σ\u001b[90m):  \u001b[39m1.54% ±  4.13%\n",
       "\n",
       "  \u001b[39m▄\u001b[34m█\u001b[39m\u001b[39m▁\u001b[39m \u001b[39m▃\u001b[39m▅\u001b[39m \u001b[32m▁\u001b[39m\u001b[39m \u001b[39m▁\u001b[39m \u001b[39m \u001b[39m \u001b[39m▁\u001b[39m \u001b[39m \u001b[39m \u001b[39m \u001b[39m \u001b[39m \u001b[39m▁\u001b[39m \u001b[39m \u001b[39m \u001b[39m \u001b[39m \u001b[39m \u001b[39m \u001b[39m \u001b[39m \u001b[39m \u001b[39m \u001b[39m \u001b[39m \u001b[39m \u001b[39m \u001b[39m \u001b[39m \u001b[39m \u001b[39m \u001b[39m \u001b[39m \u001b[39m \u001b[39m \u001b[39m \u001b[39m \u001b[39m \u001b[39m \u001b[39m \u001b[39m \u001b[39m \u001b[39m \u001b[39m \u001b[39m \u001b[39m \u001b[39m \u001b[39m \u001b[39m \u001b[39m \u001b[39m \u001b[39m \u001b[39m▁\n",
       "  \u001b[39m█\u001b[34m█\u001b[39m\u001b[39m█\u001b[39m▆\u001b[39m█\u001b[39m█\u001b[39m█\u001b[32m█\u001b[39m\u001b[39m█\u001b[39m█\u001b[39m▇\u001b[39m▇\u001b[39m█\u001b[39m█\u001b[39m▇\u001b[39m█\u001b[39m▇\u001b[39m▆\u001b[39m█\u001b[39m█\u001b[39m█\u001b[39m▇\u001b[39m█\u001b[39m▇\u001b[39m▆\u001b[39m▇\u001b[39m▇\u001b[39m▆\u001b[39m▇\u001b[39m▇\u001b[39m▆\u001b[39m▆\u001b[39m▆\u001b[39m▆\u001b[39m▆\u001b[39m▇\u001b[39m▇\u001b[39m▇\u001b[39m▇\u001b[39m▇\u001b[39m▆\u001b[39m▆\u001b[39m▆\u001b[39m▅\u001b[39m▆\u001b[39m▆\u001b[39m▅\u001b[39m▅\u001b[39m▅\u001b[39m▅\u001b[39m▂\u001b[39m▅\u001b[39m▅\u001b[39m▄\u001b[39m▅\u001b[39m▅\u001b[39m▃\u001b[39m▄\u001b[39m▃\u001b[39m▃\u001b[39m \u001b[39m█\n",
       "  149 ns\u001b[90m        \u001b[39m\u001b[90mHistogram: \u001b[39m\u001b[90m\u001b[1mlog(\u001b[22m\u001b[39m\u001b[90mfrequency\u001b[39m\u001b[90m\u001b[1m)\u001b[22m\u001b[39m\u001b[90m by time\u001b[39m       293 ns \u001b[0m\u001b[1m<\u001b[22m\n",
       "\n",
       " Memory estimate\u001b[90m: \u001b[39m\u001b[33m128 bytes\u001b[39m, allocs estimate\u001b[90m: \u001b[39m\u001b[33m1\u001b[39m."
      ]
     },
     "execution_count": 81,
     "metadata": {},
     "output_type": "execute_result"
    }
   ],
   "source": [
    "@benchmark [mean(col) for col in eachcol($aq)]"
   ]
  },
  {
   "cell_type": "markdown",
   "id": "75b341ac-fc49-4435-a798-5cf3cabfddd1",
   "metadata": {},
   "source": [
    "### Performance considerations of copying vs. making a view"
   ]
  },
  {
   "cell_type": "markdown",
   "id": "38ce1979-a0e4-486e-8bf8-59aec4bf451d",
   "metadata": {},
   "source": [
    "Using view macro is preferable when we have a large dataset"
   ]
  },
  {
   "cell_type": "code",
   "execution_count": 83,
   "id": "a92bab40-4241-476f-995c-765b4bf4543a",
   "metadata": {},
   "outputs": [],
   "source": [
    "x = ones(10^6, 10);"
   ]
  },
  {
   "cell_type": "code",
   "execution_count": 84,
   "id": "b2e8c398-b01e-485c-891a-18a9f0798edd",
   "metadata": {},
   "outputs": [
    {
     "data": {
      "text/plain": [
       "BenchmarkTools.Trial: 292 samples with 1 evaluation.\n",
       " Range \u001b[90m(\u001b[39m\u001b[36m\u001b[1mmin\u001b[22m\u001b[39m … \u001b[35mmax\u001b[39m\u001b[90m):  \u001b[39m\u001b[36m\u001b[1m14.250 ms\u001b[22m\u001b[39m … \u001b[35m26.737 ms\u001b[39m  \u001b[90m┊\u001b[39m GC \u001b[90m(\u001b[39mmin … max\u001b[90m): \u001b[39m0.00% … 0.00%\n",
       " Time  \u001b[90m(\u001b[39m\u001b[34m\u001b[1mmedian\u001b[22m\u001b[39m\u001b[90m):     \u001b[39m\u001b[34m\u001b[1m17.067 ms              \u001b[22m\u001b[39m\u001b[90m┊\u001b[39m GC \u001b[90m(\u001b[39mmedian\u001b[90m):    \u001b[39m4.37%\n",
       " Time  \u001b[90m(\u001b[39m\u001b[32m\u001b[1mmean\u001b[22m\u001b[39m ± \u001b[32mσ\u001b[39m\u001b[90m):   \u001b[39m\u001b[32m\u001b[1m17.155 ms\u001b[22m\u001b[39m ± \u001b[32m 1.927 ms\u001b[39m  \u001b[90m┊\u001b[39m GC \u001b[90m(\u001b[39mmean ± σ\u001b[90m):  \u001b[39m3.63% ± 2.68%\n",
       "\n",
       "  \u001b[39m▁\u001b[39m▂\u001b[39m \u001b[39m \u001b[39m \u001b[39m▁\u001b[39m \u001b[39m▁\u001b[39m▁\u001b[39m▆\u001b[39m▆\u001b[39m▅\u001b[39m \u001b[39m▁\u001b[39m▁\u001b[39m \u001b[39m \u001b[39m▁\u001b[39m \u001b[39m \u001b[34m█\u001b[39m\u001b[32m▁\u001b[39m\u001b[39m▇\u001b[39m▃\u001b[39m▁\u001b[39m \u001b[39m \u001b[39m▁\u001b[39m \u001b[39m▃\u001b[39m \u001b[39m▁\u001b[39m▂\u001b[39m \u001b[39m \u001b[39m \u001b[39m \u001b[39m \u001b[39m \u001b[39m \u001b[39m \u001b[39m \u001b[39m \u001b[39m \u001b[39m \u001b[39m \u001b[39m \u001b[39m \u001b[39m \u001b[39m \u001b[39m \u001b[39m \u001b[39m \u001b[39m \u001b[39m \u001b[39m \u001b[39m \u001b[39m \u001b[39m \u001b[39m \u001b[39m \n",
       "  \u001b[39m█\u001b[39m█\u001b[39m▇\u001b[39m▄\u001b[39m▅\u001b[39m█\u001b[39m█\u001b[39m█\u001b[39m█\u001b[39m█\u001b[39m█\u001b[39m█\u001b[39m█\u001b[39m█\u001b[39m█\u001b[39m▆\u001b[39m█\u001b[39m█\u001b[39m█\u001b[39m█\u001b[34m█\u001b[39m\u001b[32m█\u001b[39m\u001b[39m█\u001b[39m█\u001b[39m█\u001b[39m▄\u001b[39m▅\u001b[39m█\u001b[39m▆\u001b[39m█\u001b[39m█\u001b[39m█\u001b[39m█\u001b[39m▆\u001b[39m▇\u001b[39m▄\u001b[39m▇\u001b[39m▆\u001b[39m▃\u001b[39m▄\u001b[39m▃\u001b[39m▁\u001b[39m▃\u001b[39m▄\u001b[39m▃\u001b[39m▁\u001b[39m▁\u001b[39m▄\u001b[39m▁\u001b[39m▄\u001b[39m▃\u001b[39m▁\u001b[39m▃\u001b[39m▃\u001b[39m▄\u001b[39m▁\u001b[39m▁\u001b[39m▁\u001b[39m▅\u001b[39m \u001b[39m▄\n",
       "  14.2 ms\u001b[90m         Histogram: frequency by time\u001b[39m        22.6 ms \u001b[0m\u001b[1m<\u001b[22m\n",
       "\n",
       " Memory estimate\u001b[90m: \u001b[39m\u001b[33m76.29 MiB\u001b[39m, allocs estimate\u001b[90m: \u001b[39m\u001b[33m24\u001b[39m."
      ]
     },
     "execution_count": 84,
     "metadata": {},
     "output_type": "execute_result"
    }
   ],
   "source": [
    "@benchmark [mean($x[:, i]) for i in axes(x, 2)]"
   ]
  },
  {
   "cell_type": "code",
   "execution_count": 85,
   "id": "29cff675-71dd-42e4-b84d-b625b8222c6c",
   "metadata": {},
   "outputs": [
    {
     "data": {
      "text/plain": [
       "BenchmarkTools.Trial: 1091 samples with 1 evaluation.\n",
       " Range \u001b[90m(\u001b[39m\u001b[36m\u001b[1mmin\u001b[22m\u001b[39m … \u001b[35mmax\u001b[39m\u001b[90m):  \u001b[39m\u001b[36m\u001b[1m4.208 ms\u001b[22m\u001b[39m … \u001b[35m  8.452 ms\u001b[39m  \u001b[90m┊\u001b[39m GC \u001b[90m(\u001b[39mmin … max\u001b[90m): \u001b[39m0.00% … 0.00%\n",
       " Time  \u001b[90m(\u001b[39m\u001b[34m\u001b[1mmedian\u001b[22m\u001b[39m\u001b[90m):     \u001b[39m\u001b[34m\u001b[1m4.506 ms               \u001b[22m\u001b[39m\u001b[90m┊\u001b[39m GC \u001b[90m(\u001b[39mmedian\u001b[90m):    \u001b[39m0.00%\n",
       " Time  \u001b[90m(\u001b[39m\u001b[32m\u001b[1mmean\u001b[22m\u001b[39m ± \u001b[32mσ\u001b[39m\u001b[90m):   \u001b[39m\u001b[32m\u001b[1m4.576 ms\u001b[22m\u001b[39m ± \u001b[32m341.506 μs\u001b[39m  \u001b[90m┊\u001b[39m GC \u001b[90m(\u001b[39mmean ± σ\u001b[90m):  \u001b[39m0.00% ± 0.00%\n",
       "\n",
       "  \u001b[39m \u001b[39m \u001b[39m \u001b[39m \u001b[39m▄\u001b[39m▄\u001b[39m▃\u001b[39m▃\u001b[39m█\u001b[34m▅\u001b[39m\u001b[39m▂\u001b[32m▂\u001b[39m\u001b[39m▃\u001b[39m▂\u001b[39m▁\u001b[39m \u001b[39m \u001b[39m \u001b[39m \u001b[39m \u001b[39m \u001b[39m \u001b[39m \u001b[39m \u001b[39m \u001b[39m \u001b[39m \u001b[39m \u001b[39m \u001b[39m \u001b[39m \u001b[39m \u001b[39m \u001b[39m \u001b[39m \u001b[39m \u001b[39m \u001b[39m \u001b[39m \u001b[39m \u001b[39m \u001b[39m \u001b[39m \u001b[39m \u001b[39m \u001b[39m \u001b[39m \u001b[39m \u001b[39m \u001b[39m \u001b[39m \u001b[39m \u001b[39m \u001b[39m \u001b[39m \u001b[39m \u001b[39m \u001b[39m \u001b[39m \u001b[39m \u001b[39m \n",
       "  \u001b[39m▅\u001b[39m▆\u001b[39m▇\u001b[39m▇\u001b[39m█\u001b[39m█\u001b[39m█\u001b[39m█\u001b[39m█\u001b[34m█\u001b[39m\u001b[39m█\u001b[32m█\u001b[39m\u001b[39m█\u001b[39m█\u001b[39m█\u001b[39m█\u001b[39m█\u001b[39m█\u001b[39m▆\u001b[39m▆\u001b[39m▆\u001b[39m▅\u001b[39m▇\u001b[39m▅\u001b[39m▄\u001b[39m▁\u001b[39m▅\u001b[39m▄\u001b[39m▆\u001b[39m▁\u001b[39m▄\u001b[39m▅\u001b[39m▅\u001b[39m▄\u001b[39m▅\u001b[39m▄\u001b[39m▁\u001b[39m▅\u001b[39m▁\u001b[39m▅\u001b[39m▄\u001b[39m▁\u001b[39m▅\u001b[39m▁\u001b[39m▁\u001b[39m▁\u001b[39m▁\u001b[39m▄\u001b[39m▁\u001b[39m▁\u001b[39m▄\u001b[39m▄\u001b[39m▁\u001b[39m▁\u001b[39m▁\u001b[39m▄\u001b[39m▁\u001b[39m▁\u001b[39m▄\u001b[39m \u001b[39m█\n",
       "  4.21 ms\u001b[90m      \u001b[39m\u001b[90mHistogram: \u001b[39m\u001b[90m\u001b[1mlog(\u001b[22m\u001b[39m\u001b[90mfrequency\u001b[39m\u001b[90m\u001b[1m)\u001b[22m\u001b[39m\u001b[90m by time\u001b[39m      6.25 ms \u001b[0m\u001b[1m<\u001b[22m\n",
       "\n",
       " Memory estimate\u001b[90m: \u001b[39m\u001b[33m208 bytes\u001b[39m, allocs estimate\u001b[90m: \u001b[39m\u001b[33m4\u001b[39m."
      ]
     },
     "execution_count": 85,
     "metadata": {},
     "output_type": "execute_result"
    }
   ],
   "source": [
    "@benchmark [mean(@view $x[:, i]) for i in axes(x, 2)]"
   ]
  },
  {
   "cell_type": "markdown",
   "id": "58a77038-e71c-45a4-809c-66d411249d50",
   "metadata": {},
   "source": [
    "### Calculating correlations between variables"
   ]
  },
  {
   "cell_type": "markdown",
   "id": "e814f107-16bd-4afc-b905-877827225997",
   "metadata": {},
   "source": [
    "We want to calculate the correlation of columns 1 and 2, 3 and 4, 5 and 6, and 7 and\n",
    "8. Here is a simple approach using the cor function from the Statistics module:"
   ]
  },
  {
   "cell_type": "code",
   "execution_count": 89,
   "id": "5626ee9b-ff55-430c-8ab3-c6cd807c8a63",
   "metadata": {},
   "outputs": [
    {
     "data": {
      "text/plain": [
       "(11, 9)"
      ]
     },
     "execution_count": 89,
     "metadata": {},
     "output_type": "execute_result"
    }
   ],
   "source": [
    "size(aq)"
   ]
  },
  {
   "cell_type": "code",
   "execution_count": 90,
   "id": "bbb975cc-c2cc-418e-bdbd-76339e864c97",
   "metadata": {},
   "outputs": [
    {
     "data": {
      "text/plain": [
       "Base.OneTo(9)"
      ]
     },
     "execution_count": 90,
     "metadata": {},
     "output_type": "execute_result"
    }
   ],
   "source": [
    "axes(aq, 2)"
   ]
  },
  {
   "cell_type": "code",
   "execution_count": 91,
   "id": "b91b71b1-bf7e-4a5d-9d06-48c6507bb898",
   "metadata": {},
   "outputs": [
    {
     "data": {
      "text/plain": [
       "8-element Vector{Float64}:\n",
       "  0.4493893537184495\n",
       "  0.11561852387051137\n",
       " -0.53414254359444\n",
       "  0.46595543239187415\n",
       " -0.15110498023475766\n",
       " -0.05006863399864355\n",
       " -0.15872824696602464\n",
       " -0.5265509237502947"
      ]
     },
     "execution_count": 91,
     "metadata": {},
     "output_type": "execute_result"
    }
   ],
   "source": [
    "[cor(aq[:, i], aq[:, i+1]) for i in 1:8]"
   ]
  },
  {
   "cell_type": "markdown",
   "id": "8699b905-4774-45f0-911c-4ff32068c543",
   "metadata": {},
   "source": [
    "You’ve already learned about ranges of the form start:stop that\n",
    "span all values starting from start and finishing at stop, inclusive, with step equal\n",
    "to 1. The style start:step:stop is a generalization of this syntax, allowing you to\n",
    "specify the step of the range via the parameter step"
   ]
  },
  {
   "cell_type": "code",
   "execution_count": 96,
   "id": "fefe71e1-a3d4-4017-af12-59ef6dcb7c54",
   "metadata": {},
   "outputs": [
    {
     "data": {
      "text/plain": [
       "1×15 adjoint(::Vector{Int64}) with eltype Int64:\n",
       " 1  3  5  7  9  11  13  15  17  19  21  23  25  27  29"
      ]
     },
     "execution_count": 96,
     "metadata": {},
     "output_type": "execute_result"
    }
   ],
   "source": [
    "collect(1:2:30)'"
   ]
  },
  {
   "cell_type": "code",
   "execution_count": 97,
   "id": "c36d6f3f-9ee2-46f0-b3d0-4784b5e8c451",
   "metadata": {},
   "outputs": [
    {
     "data": {
      "text/plain": [
       "BenchmarkTools.Trial: 10000 samples with 17 evaluations.\n",
       " Range \u001b[90m(\u001b[39m\u001b[36m\u001b[1mmin\u001b[22m\u001b[39m … \u001b[35mmax\u001b[39m\u001b[90m):  \u001b[39m\u001b[36m\u001b[1m949.941 ns\u001b[22m\u001b[39m … \u001b[35m518.519 μs\u001b[39m  \u001b[90m┊\u001b[39m GC \u001b[90m(\u001b[39mmin … max\u001b[90m): \u001b[39m0.00% … 99.77%\n",
       " Time  \u001b[90m(\u001b[39m\u001b[34m\u001b[1mmedian\u001b[22m\u001b[39m\u001b[90m):     \u001b[39m\u001b[34m\u001b[1m  1.642 μs               \u001b[22m\u001b[39m\u001b[90m┊\u001b[39m GC \u001b[90m(\u001b[39mmedian\u001b[90m):    \u001b[39m0.00%\n",
       " Time  \u001b[90m(\u001b[39m\u001b[32m\u001b[1mmean\u001b[22m\u001b[39m ± \u001b[32mσ\u001b[39m\u001b[90m):   \u001b[39m\u001b[32m\u001b[1m  1.681 μs\u001b[22m\u001b[39m ± \u001b[32m  8.905 μs\u001b[39m  \u001b[90m┊\u001b[39m GC \u001b[90m(\u001b[39mmean ± σ\u001b[90m):  \u001b[39m9.16% ±  1.73%\n",
       "\n",
       "  \u001b[39m█\u001b[39m█\u001b[39m▂\u001b[39m▁\u001b[39m \u001b[39m \u001b[39m \u001b[39m \u001b[39m \u001b[39m \u001b[39m \u001b[39m \u001b[39m \u001b[39m \u001b[39m \u001b[39m \u001b[39m \u001b[39m▃\u001b[39m▃\u001b[39m▆\u001b[39m▆\u001b[34m▇\u001b[39m\u001b[39m▇\u001b[32m▇\u001b[39m\u001b[39m▆\u001b[39m▅\u001b[39m▄\u001b[39m▄\u001b[39m▂\u001b[39m▂\u001b[39m▁\u001b[39m▂\u001b[39m▁\u001b[39m▂\u001b[39m▂\u001b[39m▂\u001b[39m▂\u001b[39m▂\u001b[39m▂\u001b[39m▂\u001b[39m▁\u001b[39m \u001b[39m \u001b[39m \u001b[39m \u001b[39m \u001b[39m \u001b[39m \u001b[39m \u001b[39m \u001b[39m \u001b[39m \u001b[39m \u001b[39m \u001b[39m \u001b[39m \u001b[39m \u001b[39m \u001b[39m \u001b[39m \u001b[39m \u001b[39m \u001b[39m▃\n",
       "  \u001b[39m█\u001b[39m█\u001b[39m█\u001b[39m█\u001b[39m▅\u001b[39m▃\u001b[39m▅\u001b[39m▅\u001b[39m▄\u001b[39m▃\u001b[39m▅\u001b[39m▄\u001b[39m▄\u001b[39m▅\u001b[39m▅\u001b[39m▁\u001b[39m▅\u001b[39m█\u001b[39m█\u001b[39m█\u001b[39m█\u001b[34m█\u001b[39m\u001b[39m█\u001b[32m█\u001b[39m\u001b[39m█\u001b[39m█\u001b[39m█\u001b[39m█\u001b[39m█\u001b[39m█\u001b[39m█\u001b[39m█\u001b[39m█\u001b[39m█\u001b[39m█\u001b[39m█\u001b[39m█\u001b[39m█\u001b[39m█\u001b[39m█\u001b[39m█\u001b[39m█\u001b[39m▇\u001b[39m▇\u001b[39m▇\u001b[39m▇\u001b[39m▇\u001b[39m▇\u001b[39m█\u001b[39m▇\u001b[39m█\u001b[39m▇\u001b[39m▆\u001b[39m▆\u001b[39m▆\u001b[39m▇\u001b[39m▆\u001b[39m▅\u001b[39m▆\u001b[39m▅\u001b[39m▆\u001b[39m \u001b[39m█\n",
       "  950 ns\u001b[90m        \u001b[39m\u001b[90mHistogram: \u001b[39m\u001b[90m\u001b[1mlog(\u001b[22m\u001b[39m\u001b[90mfrequency\u001b[39m\u001b[90m\u001b[1m)\u001b[22m\u001b[39m\u001b[90m by time\u001b[39m       2.93 μs \u001b[0m\u001b[1m<\u001b[22m\n",
       "\n",
       " Memory estimate\u001b[90m: \u001b[39m\u001b[33m2.38 KiB\u001b[39m, allocs estimate\u001b[90m: \u001b[39m\u001b[33m17\u001b[39m."
      ]
     },
     "execution_count": 97,
     "metadata": {},
     "output_type": "execute_result"
    }
   ],
   "source": [
    "@benchmark [cor($aq[:, i], $aq[:, i+1]) for i in 1:8]"
   ]
  },
  {
   "cell_type": "code",
   "execution_count": 99,
   "id": "9a48f07e-58a4-4771-a059-9efa52d20ad4",
   "metadata": {},
   "outputs": [
    {
     "data": {
      "text/plain": [
       "BenchmarkTools.Trial: 10000 samples with 189 evaluations.\n",
       " Range \u001b[90m(\u001b[39m\u001b[36m\u001b[1mmin\u001b[22m\u001b[39m … \u001b[35mmax\u001b[39m\u001b[90m):  \u001b[39m\u001b[36m\u001b[1m511.942 ns\u001b[22m\u001b[39m … \u001b[35m 49.037 μs\u001b[39m  \u001b[90m┊\u001b[39m GC \u001b[90m(\u001b[39mmin … max\u001b[90m): \u001b[39m0.00% … 98.86%\n",
       " Time  \u001b[90m(\u001b[39m\u001b[34m\u001b[1mmedian\u001b[22m\u001b[39m\u001b[90m):     \u001b[39m\u001b[34m\u001b[1m573.976 ns               \u001b[22m\u001b[39m\u001b[90m┊\u001b[39m GC \u001b[90m(\u001b[39mmedian\u001b[90m):    \u001b[39m0.00%\n",
       " Time  \u001b[90m(\u001b[39m\u001b[32m\u001b[1mmean\u001b[22m\u001b[39m ± \u001b[32mσ\u001b[39m\u001b[90m):   \u001b[39m\u001b[32m\u001b[1m612.469 ns\u001b[22m\u001b[39m ± \u001b[32m695.321 ns\u001b[39m  \u001b[90m┊\u001b[39m GC \u001b[90m(\u001b[39mmean ± σ\u001b[90m):  \u001b[39m1.58% ±  1.40%\n",
       "\n",
       "  \u001b[39m▆\u001b[39m \u001b[39m▆\u001b[39m█\u001b[39m▃\u001b[39m▅\u001b[34m█\u001b[39m\u001b[39m▄\u001b[39m▂\u001b[39m▂\u001b[32m▁\u001b[39m\u001b[39m▁\u001b[39m▁\u001b[39m▂\u001b[39m▁\u001b[39m▁\u001b[39m \u001b[39m \u001b[39m▁\u001b[39m▁\u001b[39m▁\u001b[39m▁\u001b[39m▁\u001b[39m \u001b[39m▁\u001b[39m▁\u001b[39m \u001b[39m \u001b[39m▁\u001b[39m▁\u001b[39m \u001b[39m \u001b[39m \u001b[39m \u001b[39m \u001b[39m \u001b[39m \u001b[39m \u001b[39m \u001b[39m \u001b[39m \u001b[39m \u001b[39m \u001b[39m \u001b[39m \u001b[39m \u001b[39m \u001b[39m \u001b[39m \u001b[39m \u001b[39m \u001b[39m \u001b[39m \u001b[39m \u001b[39m \u001b[39m \u001b[39m \u001b[39m \u001b[39m \u001b[39m \u001b[39m \u001b[39m \u001b[39m▂\n",
       "  \u001b[39m█\u001b[39m▃\u001b[39m█\u001b[39m█\u001b[39m█\u001b[39m█\u001b[34m█\u001b[39m\u001b[39m█\u001b[39m█\u001b[39m█\u001b[32m█\u001b[39m\u001b[39m█\u001b[39m█\u001b[39m█\u001b[39m█\u001b[39m█\u001b[39m█\u001b[39m█\u001b[39m█\u001b[39m█\u001b[39m█\u001b[39m█\u001b[39m█\u001b[39m█\u001b[39m█\u001b[39m█\u001b[39m█\u001b[39m█\u001b[39m█\u001b[39m█\u001b[39m▇\u001b[39m▇\u001b[39m▇\u001b[39m▇\u001b[39m▇\u001b[39m▇\u001b[39m▇\u001b[39m▇\u001b[39m█\u001b[39m▇\u001b[39m▇\u001b[39m▇\u001b[39m▇\u001b[39m▆\u001b[39m▆\u001b[39m▇\u001b[39m▇\u001b[39m▆\u001b[39m▆\u001b[39m▆\u001b[39m▅\u001b[39m▆\u001b[39m▅\u001b[39m▆\u001b[39m▄\u001b[39m▇\u001b[39m▆\u001b[39m▄\u001b[39m▄\u001b[39m▄\u001b[39m▆\u001b[39m \u001b[39m█\n",
       "  512 ns\u001b[90m        \u001b[39m\u001b[90mHistogram: \u001b[39m\u001b[90m\u001b[1mlog(\u001b[22m\u001b[39m\u001b[90mfrequency\u001b[39m\u001b[90m\u001b[1m)\u001b[22m\u001b[39m\u001b[90m by time\u001b[39m       1.15 μs \u001b[0m\u001b[1m<\u001b[22m\n",
       "\n",
       " Memory estimate\u001b[90m: \u001b[39m\u001b[33m128 bytes\u001b[39m, allocs estimate\u001b[90m: \u001b[39m\u001b[33m1\u001b[39m."
      ]
     },
     "execution_count": 99,
     "metadata": {},
     "output_type": "execute_result"
    }
   ],
   "source": [
    "@benchmark [cor(@view($aq[:, i]), @view ($aq[:, i+1])) for i in 1:8]"
   ]
  },
  {
   "cell_type": "markdown",
   "id": "e79ce235-d5f1-4df1-aefd-c27e401f155c",
   "metadata": {},
   "source": [
    "### Fitting a linear regression"
   ]
  },
  {
   "cell_type": "code",
   "execution_count": 106,
   "id": "df1bfff9-c261-470c-837a-f0d527af350d",
   "metadata": {},
   "outputs": [
    {
     "name": "stdout",
     "output_type": "stream",
     "text": [
      "search: \u001b[0m\u001b[1m\\\u001b[22m\n",
      "\n"
     ]
    },
    {
     "data": {
      "text/latex": [
       "\\begin{verbatim}\n",
       "\\(x, y)\n",
       "\\end{verbatim}\n",
       "Left division operator: multiplication of \\texttt{y} by the inverse of \\texttt{x} on the left. Gives floating-point results for integer arguments.\n",
       "\n",
       "\\section{Examples}\n",
       "\\begin{verbatim}\n",
       "julia> 3 \\ 6\n",
       "2.0\n",
       "\n",
       "julia> inv(3) * 6\n",
       "2.0\n",
       "\n",
       "julia> A = [4 3; 2 1]; x = [5, 6];\n",
       "\n",
       "julia> A \\ x\n",
       "2-element Vector{Float64}:\n",
       "  6.5\n",
       " -7.0\n",
       "\n",
       "julia> inv(A) * x\n",
       "2-element Vector{Float64}:\n",
       "  6.5\n",
       " -7.0\n",
       "\\end{verbatim}\n",
       "\\rule{\\textwidth}{1pt}\n",
       "\\begin{verbatim}\n",
       "\\(A, B)\n",
       "\\end{verbatim}\n",
       "Matrix division using a polyalgorithm. For input matrices \\texttt{A} and \\texttt{B}, the result \\texttt{X} is such that \\texttt{A*X == B} when \\texttt{A} is square. The solver that is used depends upon the structure of \\texttt{A}.  If \\texttt{A} is upper or lower triangular (or diagonal), no factorization of \\texttt{A} is required and the system is solved with either forward or backward substitution. For non-triangular square matrices, an LU factorization is used.\n",
       "\n",
       "For rectangular \\texttt{A} the result is the minimum-norm least squares solution computed by a pivoted QR factorization of \\texttt{A} and a rank estimate of \\texttt{A} based on the R factor.\n",
       "\n",
       "When \\texttt{A} is sparse, a similar polyalgorithm is used. For indefinite matrices, the \\texttt{LDLt} factorization does not use pivoting during the numerical factorization and therefore the procedure can fail even for invertible matrices.\n",
       "\n",
       "See also: \\href{@ref}{\\texttt{factorize}}, \\href{@ref}{\\texttt{pinv}}.\n",
       "\n",
       "\\section{Examples}\n",
       "\\begin{verbatim}\n",
       "julia> A = [1 0; 1 -2]; B = [32; -4];\n",
       "\n",
       "julia> X = A \\ B\n",
       "2-element Vector{Float64}:\n",
       " 32.0\n",
       " 18.0\n",
       "\n",
       "julia> A * X == B\n",
       "true\n",
       "\\end{verbatim}\n",
       "\\rule{\\textwidth}{1pt}\n",
       "\\begin{verbatim}\n",
       "(\\)(F::QRSparse, B::StridedVecOrMat)\n",
       "\\end{verbatim}\n",
       "Solve the least squares problem $\\min\\|Ax - b\\|^2$ or the linear system of equations $Ax=b$ when \\texttt{F} is the sparse QR factorization of $A$. A basic solution is returned when the problem is underdetermined.\n",
       "\n",
       "\\section{Examples}\n",
       "\\begin{verbatim}\n",
       "julia> A = sparse([1,2,4], [1,1,1], [1.0,1.0,1.0], 4, 2)\n",
       "4×2 SparseMatrixCSC{Float64, Int64} with 3 stored entries:\n",
       " 1.0   ⋅\n",
       " 1.0   ⋅\n",
       "  ⋅    ⋅\n",
       " 1.0   ⋅\n",
       "\n",
       "julia> qr(A)\\fill(1.0, 4)\n",
       "2-element Vector{Float64}:\n",
       " 1.0\n",
       " 0.0\n",
       "\\end{verbatim}\n"
      ],
      "text/markdown": [
       "```\n",
       "\\(x, y)\n",
       "```\n",
       "\n",
       "Left division operator: multiplication of `y` by the inverse of `x` on the left. Gives floating-point results for integer arguments.\n",
       "\n",
       "# Examples\n",
       "\n",
       "```jldoctest\n",
       "julia> 3 \\ 6\n",
       "2.0\n",
       "\n",
       "julia> inv(3) * 6\n",
       "2.0\n",
       "\n",
       "julia> A = [4 3; 2 1]; x = [5, 6];\n",
       "\n",
       "julia> A \\ x\n",
       "2-element Vector{Float64}:\n",
       "  6.5\n",
       " -7.0\n",
       "\n",
       "julia> inv(A) * x\n",
       "2-element Vector{Float64}:\n",
       "  6.5\n",
       " -7.0\n",
       "```\n",
       "\n",
       "---\n",
       "\n",
       "```\n",
       "\\(A, B)\n",
       "```\n",
       "\n",
       "Matrix division using a polyalgorithm. For input matrices `A` and `B`, the result `X` is such that `A*X == B` when `A` is square. The solver that is used depends upon the structure of `A`.  If `A` is upper or lower triangular (or diagonal), no factorization of `A` is required and the system is solved with either forward or backward substitution. For non-triangular square matrices, an LU factorization is used.\n",
       "\n",
       "For rectangular `A` the result is the minimum-norm least squares solution computed by a pivoted QR factorization of `A` and a rank estimate of `A` based on the R factor.\n",
       "\n",
       "When `A` is sparse, a similar polyalgorithm is used. For indefinite matrices, the `LDLt` factorization does not use pivoting during the numerical factorization and therefore the procedure can fail even for invertible matrices.\n",
       "\n",
       "See also: [`factorize`](@ref), [`pinv`](@ref).\n",
       "\n",
       "# Examples\n",
       "\n",
       "```jldoctest\n",
       "julia> A = [1 0; 1 -2]; B = [32; -4];\n",
       "\n",
       "julia> X = A \\ B\n",
       "2-element Vector{Float64}:\n",
       " 32.0\n",
       " 18.0\n",
       "\n",
       "julia> A * X == B\n",
       "true\n",
       "```\n",
       "\n",
       "---\n",
       "\n",
       "```\n",
       "(\\)(F::QRSparse, B::StridedVecOrMat)\n",
       "```\n",
       "\n",
       "Solve the least squares problem $\\min\\|Ax - b\\|^2$ or the linear system of equations $Ax=b$ when `F` is the sparse QR factorization of $A$. A basic solution is returned when the problem is underdetermined.\n",
       "\n",
       "# Examples\n",
       "\n",
       "```jldoctest\n",
       "julia> A = sparse([1,2,4], [1,1,1], [1.0,1.0,1.0], 4, 2)\n",
       "4×2 SparseMatrixCSC{Float64, Int64} with 3 stored entries:\n",
       " 1.0   ⋅\n",
       " 1.0   ⋅\n",
       "  ⋅    ⋅\n",
       " 1.0   ⋅\n",
       "\n",
       "julia> qr(A)\\fill(1.0, 4)\n",
       "2-element Vector{Float64}:\n",
       " 1.0\n",
       " 0.0\n",
       "```\n"
      ],
      "text/plain": [
       "\u001b[36m  \\(x, y)\u001b[39m\n",
       "\n",
       "  Left division operator: multiplication of \u001b[36my\u001b[39m by the inverse of \u001b[36mx\u001b[39m on the left.\n",
       "  Gives floating-point results for integer arguments.\n",
       "\n",
       "\u001b[1m  Examples\u001b[22m\n",
       "\u001b[1m  ≡≡≡≡≡≡≡≡≡≡\u001b[22m\n",
       "\n",
       "\u001b[36m  julia> 3 \\ 6\u001b[39m\n",
       "\u001b[36m  2.0\u001b[39m\n",
       "\u001b[36m  \u001b[39m\n",
       "\u001b[36m  julia> inv(3) * 6\u001b[39m\n",
       "\u001b[36m  2.0\u001b[39m\n",
       "\u001b[36m  \u001b[39m\n",
       "\u001b[36m  julia> A = [4 3; 2 1]; x = [5, 6];\u001b[39m\n",
       "\u001b[36m  \u001b[39m\n",
       "\u001b[36m  julia> A \\ x\u001b[39m\n",
       "\u001b[36m  2-element Vector{Float64}:\u001b[39m\n",
       "\u001b[36m    6.5\u001b[39m\n",
       "\u001b[36m   -7.0\u001b[39m\n",
       "\u001b[36m  \u001b[39m\n",
       "\u001b[36m  julia> inv(A) * x\u001b[39m\n",
       "\u001b[36m  2-element Vector{Float64}:\u001b[39m\n",
       "\u001b[36m    6.5\u001b[39m\n",
       "\u001b[36m   -7.0\u001b[39m\n",
       "\n",
       "  ────────────────────────────────────────────────────────────────────────────\n",
       "\n",
       "\u001b[36m  \\(A, B)\u001b[39m\n",
       "\n",
       "  Matrix division using a polyalgorithm. For input matrices \u001b[36mA\u001b[39m and \u001b[36mB\u001b[39m, the\n",
       "  result \u001b[36mX\u001b[39m is such that \u001b[36mA*X == B\u001b[39m when \u001b[36mA\u001b[39m is square. The solver that is used\n",
       "  depends upon the structure of \u001b[36mA\u001b[39m. If \u001b[36mA\u001b[39m is upper or lower triangular (or\n",
       "  diagonal), no factorization of \u001b[36mA\u001b[39m is required and the system is solved with\n",
       "  either forward or backward substitution. For non-triangular square matrices,\n",
       "  an LU factorization is used.\n",
       "\n",
       "  For rectangular \u001b[36mA\u001b[39m the result is the minimum-norm least squares solution\n",
       "  computed by a pivoted QR factorization of \u001b[36mA\u001b[39m and a rank estimate of \u001b[36mA\u001b[39m based\n",
       "  on the R factor.\n",
       "\n",
       "  When \u001b[36mA\u001b[39m is sparse, a similar polyalgorithm is used. For indefinite matrices,\n",
       "  the \u001b[36mLDLt\u001b[39m factorization does not use pivoting during the numerical\n",
       "  factorization and therefore the procedure can fail even for invertible\n",
       "  matrices.\n",
       "\n",
       "  See also: \u001b[36mfactorize\u001b[39m, \u001b[36mpinv\u001b[39m.\n",
       "\n",
       "\u001b[1m  Examples\u001b[22m\n",
       "\u001b[1m  ≡≡≡≡≡≡≡≡≡≡\u001b[22m\n",
       "\n",
       "\u001b[36m  julia> A = [1 0; 1 -2]; B = [32; -4];\u001b[39m\n",
       "\u001b[36m  \u001b[39m\n",
       "\u001b[36m  julia> X = A \\ B\u001b[39m\n",
       "\u001b[36m  2-element Vector{Float64}:\u001b[39m\n",
       "\u001b[36m   32.0\u001b[39m\n",
       "\u001b[36m   18.0\u001b[39m\n",
       "\u001b[36m  \u001b[39m\n",
       "\u001b[36m  julia> A * X == B\u001b[39m\n",
       "\u001b[36m  true\u001b[39m\n",
       "\n",
       "  ────────────────────────────────────────────────────────────────────────────\n",
       "\n",
       "\u001b[36m  (\\)(F::QRSparse, B::StridedVecOrMat)\u001b[39m\n",
       "\n",
       "  Solve the least squares problem \u001b[35m\\min\\|Ax - b\\|^2\u001b[39m or the linear system of\n",
       "  equations \u001b[35mAx=b\u001b[39m when \u001b[36mF\u001b[39m is the sparse QR factorization of \u001b[35mA\u001b[39m. A basic solution\n",
       "  is returned when the problem is underdetermined.\n",
       "\n",
       "\u001b[1m  Examples\u001b[22m\n",
       "\u001b[1m  ≡≡≡≡≡≡≡≡≡≡\u001b[22m\n",
       "\n",
       "\u001b[36m  julia> A = sparse([1,2,4], [1,1,1], [1.0,1.0,1.0], 4, 2)\u001b[39m\n",
       "\u001b[36m  4×2 SparseMatrixCSC{Float64, Int64} with 3 stored entries:\u001b[39m\n",
       "\u001b[36m   1.0   ⋅\u001b[39m\n",
       "\u001b[36m   1.0   ⋅\u001b[39m\n",
       "\u001b[36m    ⋅    ⋅\u001b[39m\n",
       "\u001b[36m   1.0   ⋅\u001b[39m\n",
       "\u001b[36m  \u001b[39m\n",
       "\u001b[36m  julia> qr(A)\\fill(1.0, 4)\u001b[39m\n",
       "\u001b[36m  2-element Vector{Float64}:\u001b[39m\n",
       "\u001b[36m   1.0\u001b[39m\n",
       "\u001b[36m   0.0\u001b[39m"
      ]
     },
     "execution_count": 106,
     "metadata": {},
     "output_type": "execute_result"
    }
   ],
   "source": [
    "? \\"
   ]
  },
  {
   "cell_type": "code",
   "execution_count": 100,
   "id": "b4bdc17c-2091-4db2-bab2-3a0e14fdda0a",
   "metadata": {},
   "outputs": [
    {
     "data": {
      "text/plain": [
       "11×2 Matrix{Float64}:\n",
       " 1.0  11.0983\n",
       " 1.0  12.2991\n",
       " 1.0   6.40516\n",
       " 1.0   4.59096\n",
       " 1.0  10.1014\n",
       " 1.0  10.7323\n",
       " 1.0   3.8471\n",
       " 1.0   7.18692\n",
       " 1.0   4.18247\n",
       " 1.0   8.08907\n",
       " 1.0  13.679"
      ]
     },
     "execution_count": 100,
     "metadata": {},
     "output_type": "execute_result"
    }
   ],
   "source": [
    "y = aq[:, 2];\n",
    "x = [ones(11) aq[:, 1]];"
   ]
  },
  {
   "cell_type": "markdown",
   "id": "ad958576-81b3-43ca-b947-e72264b1deff",
   "metadata": {},
   "source": [
    "---\n",
    "Then the paramets are :"
   ]
  },
  {
   "cell_type": "code",
   "execution_count": 105,
   "id": "7f9749b4-62b2-4868-a59e-294299adc11a",
   "metadata": {},
   "outputs": [
    {
     "data": {
      "text/plain": [
       "2-element Vector{Float64}:\n",
       " 3.2154792649138364\n",
       " 0.5186415866973291"
      ]
     },
     "execution_count": 105,
     "metadata": {},
     "output_type": "execute_result"
    }
   ],
   "source": [
    "x\\y"
   ]
  },
  {
   "cell_type": "code",
   "execution_count": 110,
   "id": "17e7e657-f117-48cc-802e-3b8652b13c41",
   "metadata": {},
   "outputs": [
    {
     "data": {
      "text/plain": [
       "(11, 9)"
      ]
     },
     "execution_count": 110,
     "metadata": {},
     "output_type": "execute_result"
    }
   ],
   "source": [
    "size(aq)"
   ]
  },
  {
   "cell_type": "code",
   "execution_count": 116,
   "id": "b00d643e-c033-4e0a-b818-bfcadc5cae97",
   "metadata": {},
   "outputs": [
    {
     "data": {
      "text/plain": [
       "4-element Vector{LinearAlgebra.Transpose{Float64, Vector{Float64}}}:\n",
       " [0.10592691176142088 0.9654049320261426]\n",
       " [0.12408573331349965 0.6044740009408164]\n",
       " [0.11743300454277374 1.074601288318723]\n",
       " [0.09888861633391233 0.6738862851885177]"
      ]
     },
     "execution_count": 116,
     "metadata": {},
     "output_type": "execute_result"
    }
   ],
   "source": [
    "all_models = [aq[:, i+1]\\[ones(11) aq[:, i]] for i in 1:2:(size(aq, 2)-1)]"
   ]
  },
  {
   "cell_type": "code",
   "execution_count": 117,
   "id": "da579d8d-0e33-4db9-b2c1-9a729a4398be",
   "metadata": {},
   "outputs": [
    {
     "data": {
      "text/plain": [
       "R² (generic function with 1 method)"
      ]
     },
     "execution_count": 117,
     "metadata": {},
     "output_type": "execute_result"
    }
   ],
   "source": [
    "function R²(x, y)\n",
    "    X = [ones(11) x]\n",
    "    model = X \\ y\n",
    "    prediction = X * model\n",
    "    error = y - prediction\n",
    "    SS_res = sum(v -> v ^ 2, error)\n",
    "    mean_y = mean(y)\n",
    "    SS_tot = sum(v -> (v - mean_y) ^ 2, y)\n",
    "    return 1 - SS_res / SS_tot\n",
    "end"
   ]
  },
  {
   "cell_type": "code",
   "execution_count": 122,
   "id": "df9017dc-a502-4a6a-ba03-8811ec51a2a4",
   "metadata": {},
   "outputs": [
    {
     "data": {
      "text/plain": [
       "4-element Vector{Float64}:\n",
       " 0.20195079123548587\n",
       " 0.28530825687753847\n",
       " 0.022832715051746333\n",
       " 0.025194656384907255"
      ]
     },
     "execution_count": 122,
     "metadata": {},
     "output_type": "execute_result"
    }
   ],
   "source": [
    "[R²( aq[:, i], aq[:, i+1]) for i in 1:2:(size(aq, 2)-1)]"
   ]
  },
  {
   "cell_type": "markdown",
   "id": "bc4a4928-5ce5-476e-a541-23b41fa38154",
   "metadata": {},
   "source": [
    "### Plotting the Anscombe’s quartet data"
   ]
  },
  {
   "cell_type": "code",
   "execution_count": 125,
   "id": "f13a9e67-87a9-4396-adf2-d1a14b21d59c",
   "metadata": {},
   "outputs": [],
   "source": [
    "using Plots"
   ]
  },
  {
   "cell_type": "code",
   "execution_count": 126,
   "id": "bc3ff5c8-6e30-44cc-bcc5-26a79b003d89",
   "metadata": {},
   "outputs": [
    {
     "data": {
      "image/svg+xml": [
       "<?xml version=\"1.0\" encoding=\"utf-8\"?>\n",
       "<svg xmlns=\"http://www.w3.org/2000/svg\" xmlns:xlink=\"http://www.w3.org/1999/xlink\" width=\"600\" height=\"400\" viewBox=\"0 0 2400 1600\">\n",
       "<defs>\n",
       "  <clipPath id=\"clip070\">\n",
       "    <rect x=\"0\" y=\"0\" width=\"2400\" height=\"1600\"/>\n",
       "  </clipPath>\n",
       "</defs>\n",
       "<path clip-path=\"url(#clip070)\" d=\"\n",
       "M0 1600 L2400 1600 L2400 0 L0 0  Z\n",
       "  \" fill=\"#ffffff\" fill-rule=\"evenodd\" fill-opacity=\"1\"/>\n",
       "<defs>\n",
       "  <clipPath id=\"clip071\">\n",
       "    <rect x=\"480\" y=\"0\" width=\"1681\" height=\"1600\"/>\n",
       "  </clipPath>\n",
       "</defs>\n",
       "<path clip-path=\"url(#clip070)\" d=\"\n",
       "M138.959 1486.45 L2352.76 1486.45 L2352.76 47.2441 L138.959 47.2441  Z\n",
       "  \" fill=\"#ffffff\" fill-rule=\"evenodd\" fill-opacity=\"1\"/>\n",
       "<defs>\n",
       "  <clipPath id=\"clip072\">\n",
       "    <rect x=\"138\" y=\"47\" width=\"2215\" height=\"1440\"/>\n",
       "  </clipPath>\n",
       "</defs>\n",
       "<polyline clip-path=\"url(#clip072)\" style=\"stroke:#000000; stroke-linecap:round; stroke-linejoin:round; stroke-width:2; stroke-opacity:0.1; fill:none\" points=\"\n",
       "  234.092,1486.45 234.092,47.2441 \n",
       "  \"/>\n",
       "<polyline clip-path=\"url(#clip072)\" style=\"stroke:#000000; stroke-linecap:round; stroke-linejoin:round; stroke-width:2; stroke-opacity:0.1; fill:none\" points=\"\n",
       "  658.93,1486.45 658.93,47.2441 \n",
       "  \"/>\n",
       "<polyline clip-path=\"url(#clip072)\" style=\"stroke:#000000; stroke-linecap:round; stroke-linejoin:round; stroke-width:2; stroke-opacity:0.1; fill:none\" points=\"\n",
       "  1083.77,1486.45 1083.77,47.2441 \n",
       "  \"/>\n",
       "<polyline clip-path=\"url(#clip072)\" style=\"stroke:#000000; stroke-linecap:round; stroke-linejoin:round; stroke-width:2; stroke-opacity:0.1; fill:none\" points=\"\n",
       "  1508.6,1486.45 1508.6,47.2441 \n",
       "  \"/>\n",
       "<polyline clip-path=\"url(#clip072)\" style=\"stroke:#000000; stroke-linecap:round; stroke-linejoin:round; stroke-width:2; stroke-opacity:0.1; fill:none\" points=\"\n",
       "  1933.44,1486.45 1933.44,47.2441 \n",
       "  \"/>\n",
       "<polyline clip-path=\"url(#clip070)\" style=\"stroke:#000000; stroke-linecap:round; stroke-linejoin:round; stroke-width:4; stroke-opacity:1; fill:none\" points=\"\n",
       "  138.959,1486.45 2352.76,1486.45 \n",
       "  \"/>\n",
       "<polyline clip-path=\"url(#clip070)\" style=\"stroke:#000000; stroke-linecap:round; stroke-linejoin:round; stroke-width:4; stroke-opacity:1; fill:none\" points=\"\n",
       "  234.092,1486.45 234.092,1467.55 \n",
       "  \"/>\n",
       "<polyline clip-path=\"url(#clip070)\" style=\"stroke:#000000; stroke-linecap:round; stroke-linejoin:round; stroke-width:4; stroke-opacity:1; fill:none\" points=\"\n",
       "  658.93,1486.45 658.93,1467.55 \n",
       "  \"/>\n",
       "<polyline clip-path=\"url(#clip070)\" style=\"stroke:#000000; stroke-linecap:round; stroke-linejoin:round; stroke-width:4; stroke-opacity:1; fill:none\" points=\"\n",
       "  1083.77,1486.45 1083.77,1467.55 \n",
       "  \"/>\n",
       "<polyline clip-path=\"url(#clip070)\" style=\"stroke:#000000; stroke-linecap:round; stroke-linejoin:round; stroke-width:4; stroke-opacity:1; fill:none\" points=\"\n",
       "  1508.6,1486.45 1508.6,1467.55 \n",
       "  \"/>\n",
       "<polyline clip-path=\"url(#clip070)\" style=\"stroke:#000000; stroke-linecap:round; stroke-linejoin:round; stroke-width:4; stroke-opacity:1; fill:none\" points=\"\n",
       "  1933.44,1486.45 1933.44,1467.55 \n",
       "  \"/>\n",
       "<path clip-path=\"url(#clip070)\" d=\"M237.102 1518.36 L225.296 1536.81 L237.102 1536.81 L237.102 1518.36 M235.875 1514.29 L241.754 1514.29 L241.754 1536.81 L246.685 1536.81 L246.685 1540.7 L241.754 1540.7 L241.754 1548.85 L237.102 1548.85 L237.102 1540.7 L221.5 1540.7 L221.5 1536.19 L235.875 1514.29 Z\" fill=\"#000000\" fill-rule=\"evenodd\" fill-opacity=\"1\" /><path clip-path=\"url(#clip070)\" d=\"M659.335 1529.7 Q656.187 1529.7 654.335 1531.86 Q652.506 1534.01 652.506 1537.76 Q652.506 1541.49 654.335 1543.66 Q656.187 1545.82 659.335 1545.82 Q662.483 1545.82 664.312 1543.66 Q666.164 1541.49 666.164 1537.76 Q666.164 1534.01 664.312 1531.86 Q662.483 1529.7 659.335 1529.7 M668.617 1515.05 L668.617 1519.31 Q666.858 1518.48 665.052 1518.04 Q663.27 1517.6 661.511 1517.6 Q656.881 1517.6 654.427 1520.72 Q651.997 1523.85 651.65 1530.17 Q653.015 1528.15 655.076 1527.09 Q657.136 1526 659.613 1526 Q664.821 1526 667.83 1529.17 Q670.863 1532.32 670.863 1537.76 Q670.863 1543.08 667.714 1546.3 Q664.566 1549.52 659.335 1549.52 Q653.34 1549.52 650.168 1544.94 Q646.997 1540.33 646.997 1531.6 Q646.997 1523.41 650.886 1518.55 Q654.775 1513.66 661.326 1513.66 Q663.085 1513.66 664.867 1514.01 Q666.673 1514.36 668.617 1515.05 Z\" fill=\"#000000\" fill-rule=\"evenodd\" fill-opacity=\"1\" /><path clip-path=\"url(#clip070)\" d=\"M1083.77 1532.44 Q1080.43 1532.44 1078.51 1534.22 Q1076.61 1536 1076.61 1539.13 Q1076.61 1542.25 1078.51 1544.03 Q1080.43 1545.82 1083.77 1545.82 Q1087.1 1545.82 1089.02 1544.03 Q1090.94 1542.23 1090.94 1539.13 Q1090.94 1536 1089.02 1534.22 Q1087.12 1532.44 1083.77 1532.44 M1079.09 1530.45 Q1076.08 1529.7 1074.39 1527.64 Q1072.73 1525.58 1072.73 1522.62 Q1072.73 1518.48 1075.67 1516.07 Q1078.63 1513.66 1083.77 1513.66 Q1088.93 1513.66 1091.87 1516.07 Q1094.81 1518.48 1094.81 1522.62 Q1094.81 1525.58 1093.12 1527.64 Q1091.45 1529.7 1088.47 1530.45 Q1091.85 1531.23 1093.72 1533.52 Q1095.62 1535.82 1095.62 1539.13 Q1095.62 1544.15 1092.54 1546.83 Q1089.48 1549.52 1083.77 1549.52 Q1078.05 1549.52 1074.97 1546.83 Q1071.92 1544.15 1071.92 1539.13 Q1071.92 1535.82 1073.81 1533.52 Q1075.71 1531.23 1079.09 1530.45 M1077.38 1523.06 Q1077.38 1525.75 1079.04 1527.25 Q1080.73 1528.76 1083.77 1528.76 Q1086.78 1528.76 1088.47 1527.25 Q1090.18 1525.75 1090.18 1523.06 Q1090.18 1520.38 1088.47 1518.87 Q1086.78 1517.37 1083.77 1517.37 Q1080.73 1517.37 1079.04 1518.87 Q1077.38 1520.38 1077.38 1523.06 Z\" fill=\"#000000\" fill-rule=\"evenodd\" fill-opacity=\"1\" /><path clip-path=\"url(#clip070)\" d=\"M1483.29 1544.91 L1490.93 1544.91 L1490.93 1518.55 L1482.62 1520.21 L1482.62 1515.95 L1490.88 1514.29 L1495.56 1514.29 L1495.56 1544.91 L1503.2 1544.91 L1503.2 1548.85 L1483.29 1548.85 L1483.29 1544.91 Z\" fill=\"#000000\" fill-rule=\"evenodd\" fill-opacity=\"1\" /><path clip-path=\"url(#clip070)\" d=\"M1522.64 1517.37 Q1519.03 1517.37 1517.2 1520.93 Q1515.4 1524.47 1515.4 1531.6 Q1515.4 1538.71 1517.2 1542.27 Q1519.03 1545.82 1522.64 1545.82 Q1526.28 1545.82 1528.08 1542.27 Q1529.91 1538.71 1529.91 1531.6 Q1529.91 1524.47 1528.08 1520.93 Q1526.28 1517.37 1522.64 1517.37 M1522.64 1513.66 Q1528.45 1513.66 1531.51 1518.27 Q1534.59 1522.85 1534.59 1531.6 Q1534.59 1540.33 1531.51 1544.94 Q1528.45 1549.52 1522.64 1549.52 Q1516.83 1549.52 1513.75 1544.94 Q1510.7 1540.33 1510.7 1531.6 Q1510.7 1522.85 1513.75 1518.27 Q1516.83 1513.66 1522.64 1513.66 Z\" fill=\"#000000\" fill-rule=\"evenodd\" fill-opacity=\"1\" /><path clip-path=\"url(#clip070)\" d=\"M1908.93 1544.91 L1916.57 1544.91 L1916.57 1518.55 L1908.26 1520.21 L1908.26 1515.95 L1916.52 1514.29 L1921.2 1514.29 L1921.2 1544.91 L1928.84 1544.91 L1928.84 1548.85 L1908.93 1548.85 L1908.93 1544.91 Z\" fill=\"#000000\" fill-rule=\"evenodd\" fill-opacity=\"1\" /><path clip-path=\"url(#clip070)\" d=\"M1942.31 1544.91 L1958.63 1544.91 L1958.63 1548.85 L1936.68 1548.85 L1936.68 1544.91 Q1939.34 1542.16 1943.93 1537.53 Q1948.53 1532.88 1949.71 1531.53 Q1951.96 1529.01 1952.84 1527.27 Q1953.74 1525.51 1953.74 1523.82 Q1953.74 1521.07 1951.8 1519.33 Q1949.88 1517.6 1946.77 1517.6 Q1944.58 1517.6 1942.12 1518.36 Q1939.69 1519.13 1936.91 1520.68 L1936.91 1515.95 Q1939.74 1514.82 1942.19 1514.24 Q1944.65 1513.66 1946.68 1513.66 Q1952.05 1513.66 1955.25 1516.35 Q1958.44 1519.03 1958.44 1523.52 Q1958.44 1525.65 1957.63 1527.57 Q1956.84 1529.47 1954.74 1532.07 Q1954.16 1532.74 1951.06 1535.95 Q1947.96 1539.15 1942.31 1544.91 Z\" fill=\"#000000\" fill-rule=\"evenodd\" fill-opacity=\"1\" /><polyline clip-path=\"url(#clip072)\" style=\"stroke:#000000; stroke-linecap:round; stroke-linejoin:round; stroke-width:2; stroke-opacity:0.1; fill:none\" points=\"\n",
       "  138.959,1376.55 2352.76,1376.55 \n",
       "  \"/>\n",
       "<polyline clip-path=\"url(#clip072)\" style=\"stroke:#000000; stroke-linecap:round; stroke-linejoin:round; stroke-width:2; stroke-opacity:0.1; fill:none\" points=\"\n",
       "  138.959,1102.7 2352.76,1102.7 \n",
       "  \"/>\n",
       "<polyline clip-path=\"url(#clip072)\" style=\"stroke:#000000; stroke-linecap:round; stroke-linejoin:round; stroke-width:2; stroke-opacity:0.1; fill:none\" points=\"\n",
       "  138.959,828.85 2352.76,828.85 \n",
       "  \"/>\n",
       "<polyline clip-path=\"url(#clip072)\" style=\"stroke:#000000; stroke-linecap:round; stroke-linejoin:round; stroke-width:2; stroke-opacity:0.1; fill:none\" points=\"\n",
       "  138.959,555.001 2352.76,555.001 \n",
       "  \"/>\n",
       "<polyline clip-path=\"url(#clip072)\" style=\"stroke:#000000; stroke-linecap:round; stroke-linejoin:round; stroke-width:2; stroke-opacity:0.1; fill:none\" points=\"\n",
       "  138.959,281.152 2352.76,281.152 \n",
       "  \"/>\n",
       "<polyline clip-path=\"url(#clip070)\" style=\"stroke:#000000; stroke-linecap:round; stroke-linejoin:round; stroke-width:4; stroke-opacity:1; fill:none\" points=\"\n",
       "  138.959,1486.45 138.959,47.2441 \n",
       "  \"/>\n",
       "<polyline clip-path=\"url(#clip070)\" style=\"stroke:#000000; stroke-linecap:round; stroke-linejoin:round; stroke-width:4; stroke-opacity:1; fill:none\" points=\"\n",
       "  138.959,1376.55 157.857,1376.55 \n",
       "  \"/>\n",
       "<polyline clip-path=\"url(#clip070)\" style=\"stroke:#000000; stroke-linecap:round; stroke-linejoin:round; stroke-width:4; stroke-opacity:1; fill:none\" points=\"\n",
       "  138.959,1102.7 157.857,1102.7 \n",
       "  \"/>\n",
       "<polyline clip-path=\"url(#clip070)\" style=\"stroke:#000000; stroke-linecap:round; stroke-linejoin:round; stroke-width:4; stroke-opacity:1; fill:none\" points=\"\n",
       "  138.959,828.85 157.857,828.85 \n",
       "  \"/>\n",
       "<polyline clip-path=\"url(#clip070)\" style=\"stroke:#000000; stroke-linecap:round; stroke-linejoin:round; stroke-width:4; stroke-opacity:1; fill:none\" points=\"\n",
       "  138.959,555.001 157.857,555.001 \n",
       "  \"/>\n",
       "<polyline clip-path=\"url(#clip070)\" style=\"stroke:#000000; stroke-linecap:round; stroke-linejoin:round; stroke-width:4; stroke-opacity:1; fill:none\" points=\"\n",
       "  138.959,281.152 157.857,281.152 \n",
       "  \"/>\n",
       "<path clip-path=\"url(#clip070)\" d=\"M93.3762 1363.34 L81.5707 1381.79 L93.3762 1381.79 L93.3762 1363.34 M92.1493 1359.27 L98.0289 1359.27 L98.0289 1381.79 L102.959 1381.79 L102.959 1385.68 L98.0289 1385.68 L98.0289 1393.83 L93.3762 1393.83 L93.3762 1385.68 L77.7744 1385.68 L77.7744 1381.17 L92.1493 1359.27 Z\" fill=\"#000000\" fill-rule=\"evenodd\" fill-opacity=\"1\" /><path clip-path=\"url(#clip070)\" d=\"M91.4317 1100.84 Q88.2836 1100.84 86.4318 1102.99 Q84.6031 1105.14 84.6031 1108.89 Q84.6031 1112.62 86.4318 1114.79 Q88.2836 1116.95 91.4317 1116.95 Q94.5799 1116.95 96.4085 1114.79 Q98.2604 1112.62 98.2604 1108.89 Q98.2604 1105.14 96.4085 1102.99 Q94.5799 1100.84 91.4317 1100.84 M100.714 1086.18 L100.714 1090.44 Q98.9548 1089.61 97.1493 1089.17 Q95.3669 1088.73 93.6076 1088.73 Q88.978 1088.73 86.5243 1091.85 Q84.0938 1094.98 83.7466 1101.3 Q85.1123 1099.28 87.1725 1098.22 Q89.2327 1097.13 91.7095 1097.13 Q96.9178 1097.13 99.927 1100.3 Q102.959 1103.45 102.959 1108.89 Q102.959 1114.21 99.8113 1117.43 Q96.6632 1120.65 91.4317 1120.65 Q85.4364 1120.65 82.2651 1116.07 Q79.0938 1111.46 79.0938 1102.73 Q79.0938 1094.54 82.9827 1089.68 Q86.8716 1084.79 93.4225 1084.79 Q95.1817 1084.79 96.9641 1085.14 Q98.7696 1085.49 100.714 1086.18 Z\" fill=\"#000000\" fill-rule=\"evenodd\" fill-opacity=\"1\" /><path clip-path=\"url(#clip070)\" d=\"M91.1077 829.718 Q87.7743 829.718 85.8531 831.5 Q83.9549 833.283 83.9549 836.408 Q83.9549 839.533 85.8531 841.315 Q87.7743 843.097 91.1077 843.097 Q94.441 843.097 96.3623 841.315 Q98.2835 839.509 98.2835 836.408 Q98.2835 833.283 96.3623 831.5 Q94.4641 829.718 91.1077 829.718 M86.4318 827.727 Q83.4225 826.986 81.7327 824.926 Q80.066 822.866 80.066 819.903 Q80.066 815.76 83.0058 813.352 Q85.9688 810.945 91.1077 810.945 Q96.2697 810.945 99.2095 813.352 Q102.149 815.76 102.149 819.903 Q102.149 822.866 100.459 824.926 Q98.7928 826.986 95.8067 827.727 Q99.1863 828.514 101.061 830.806 Q102.959 833.097 102.959 836.408 Q102.959 841.431 99.8808 844.116 Q96.8252 846.801 91.1077 846.801 Q85.3901 846.801 82.3114 844.116 Q79.2559 841.431 79.2559 836.408 Q79.2559 833.097 81.154 830.806 Q83.0521 828.514 86.4318 827.727 M84.7188 820.343 Q84.7188 823.028 86.3855 824.533 Q88.0753 826.037 91.1077 826.037 Q94.1169 826.037 95.8067 824.533 Q97.5197 823.028 97.5197 820.343 Q97.5197 817.658 95.8067 816.153 Q94.1169 814.649 91.1077 814.649 Q88.0753 814.649 86.3855 816.153 Q84.7188 817.658 84.7188 820.343 Z\" fill=\"#000000\" fill-rule=\"evenodd\" fill-opacity=\"1\" /><path clip-path=\"url(#clip070)\" d=\"M51.6634 568.346 L59.3023 568.346 L59.3023 541.98 L50.9921 543.647 L50.9921 539.388 L59.256 537.721 L63.9319 537.721 L63.9319 568.346 L71.5707 568.346 L71.5707 572.281 L51.6634 572.281 L51.6634 568.346 Z\" fill=\"#000000\" fill-rule=\"evenodd\" fill-opacity=\"1\" /><path clip-path=\"url(#clip070)\" d=\"M91.0151 540.8 Q87.404 540.8 85.5753 544.364 Q83.7697 547.906 83.7697 555.036 Q83.7697 562.142 85.5753 565.707 Q87.404 569.248 91.0151 569.248 Q94.6493 569.248 96.4548 565.707 Q98.2835 562.142 98.2835 555.036 Q98.2835 547.906 96.4548 544.364 Q94.6493 540.8 91.0151 540.8 M91.0151 537.096 Q96.8252 537.096 99.8808 541.702 Q102.959 546.286 102.959 555.036 Q102.959 563.762 99.8808 568.369 Q96.8252 572.952 91.0151 572.952 Q85.2049 572.952 82.1262 568.369 Q79.0707 563.762 79.0707 555.036 Q79.0707 546.286 82.1262 541.702 Q85.2049 537.096 91.0151 537.096 Z\" fill=\"#000000\" fill-rule=\"evenodd\" fill-opacity=\"1\" /><path clip-path=\"url(#clip070)\" d=\"M53.2606 294.497 L60.8995 294.497 L60.8995 268.131 L52.5893 269.798 L52.5893 265.539 L60.8532 263.872 L65.5291 263.872 L65.5291 294.497 L73.1679 294.497 L73.1679 298.432 L53.2606 298.432 L53.2606 294.497 Z\" fill=\"#000000\" fill-rule=\"evenodd\" fill-opacity=\"1\" /><path clip-path=\"url(#clip070)\" d=\"M86.6401 294.497 L102.959 294.497 L102.959 298.432 L81.0151 298.432 L81.0151 294.497 Q83.6771 291.742 88.2604 287.113 Q92.8669 282.46 94.0475 281.117 Q96.2928 278.594 97.1724 276.858 Q98.0752 275.099 98.0752 273.409 Q98.0752 270.654 96.1308 268.918 Q94.2095 267.182 91.1077 267.182 Q88.9086 267.182 86.4549 267.946 Q84.0244 268.71 81.2466 270.261 L81.2466 265.539 Q84.0707 264.404 86.5243 263.826 Q88.978 263.247 91.0151 263.247 Q96.3854 263.247 99.5798 265.932 Q102.774 268.617 102.774 273.108 Q102.774 275.238 101.964 277.159 Q101.177 279.057 99.0706 281.65 Q98.4919 282.321 95.39 285.538 Q92.2882 288.733 86.6401 294.497 Z\" fill=\"#000000\" fill-rule=\"evenodd\" fill-opacity=\"1\" /><circle clip-path=\"url(#clip072)\" cx=\"1741.9\" cy=\"87.9763\" r=\"14.4\" fill=\"#009af9\" fill-rule=\"evenodd\" fill-opacity=\"1\" stroke=\"#000000\" stroke-opacity=\"1\" stroke-width=\"3.2\"/>\n",
       "<circle clip-path=\"url(#clip072)\" cx=\"1996.99\" cy=\"96.9071\" r=\"14.4\" fill=\"#009af9\" fill-rule=\"evenodd\" fill-opacity=\"1\" stroke=\"#000000\" stroke-opacity=\"1\" stroke-width=\"3.2\"/>\n",
       "<circle clip-path=\"url(#clip072)\" cx=\"744.994\" cy=\"1355.41\" r=\"14.4\" fill=\"#009af9\" fill-rule=\"evenodd\" fill-opacity=\"1\" stroke=\"#000000\" stroke-opacity=\"1\" stroke-width=\"3.2\"/>\n",
       "<circle clip-path=\"url(#clip072)\" cx=\"359.624\" cy=\"1376.45\" r=\"14.4\" fill=\"#009af9\" fill-rule=\"evenodd\" fill-opacity=\"1\" stroke=\"#000000\" stroke-opacity=\"1\" stroke-width=\"3.2\"/>\n",
       "<circle clip-path=\"url(#clip072)\" cx=\"1530.14\" cy=\"1221.07\" r=\"14.4\" fill=\"#009af9\" fill-rule=\"evenodd\" fill-opacity=\"1\" stroke=\"#000000\" stroke-opacity=\"1\" stroke-width=\"3.2\"/>\n",
       "<circle clip-path=\"url(#clip072)\" cx=\"1664.16\" cy=\"1042.6\" r=\"14.4\" fill=\"#009af9\" fill-rule=\"evenodd\" fill-opacity=\"1\" stroke=\"#000000\" stroke-opacity=\"1\" stroke-width=\"3.2\"/>\n",
       "<circle clip-path=\"url(#clip072)\" cx=\"201.614\" cy=\"1445.72\" r=\"14.4\" fill=\"#009af9\" fill-rule=\"evenodd\" fill-opacity=\"1\" stroke=\"#000000\" stroke-opacity=\"1\" stroke-width=\"3.2\"/>\n",
       "<circle clip-path=\"url(#clip072)\" cx=\"911.053\" cy=\"1416.84\" r=\"14.4\" fill=\"#009af9\" fill-rule=\"evenodd\" fill-opacity=\"1\" stroke=\"#000000\" stroke-opacity=\"1\" stroke-width=\"3.2\"/>\n",
       "<circle clip-path=\"url(#clip072)\" cx=\"272.853\" cy=\"501.057\" r=\"14.4\" fill=\"#009af9\" fill-rule=\"evenodd\" fill-opacity=\"1\" stroke=\"#000000\" stroke-opacity=\"1\" stroke-width=\"3.2\"/>\n",
       "<circle clip-path=\"url(#clip072)\" cx=\"1102.69\" cy=\"314.349\" r=\"14.4\" fill=\"#009af9\" fill-rule=\"evenodd\" fill-opacity=\"1\" stroke=\"#000000\" stroke-opacity=\"1\" stroke-width=\"3.2\"/>\n",
       "<circle clip-path=\"url(#clip072)\" cx=\"2290.1\" cy=\"916.857\" r=\"14.4\" fill=\"#009af9\" fill-rule=\"evenodd\" fill-opacity=\"1\" stroke=\"#000000\" stroke-opacity=\"1\" stroke-width=\"3.2\"/>\n",
       "<path clip-path=\"url(#clip070)\" d=\"\n",
       "M212.753 198.898 L486.563 198.898 L486.563 95.2176 L212.753 95.2176  Z\n",
       "  \" fill=\"#ffffff\" fill-rule=\"evenodd\" fill-opacity=\"1\"/>\n",
       "<polyline clip-path=\"url(#clip070)\" style=\"stroke:#000000; stroke-linecap:round; stroke-linejoin:round; stroke-width:4; stroke-opacity:1; fill:none\" points=\"\n",
       "  212.753,198.898 486.563,198.898 486.563,95.2176 212.753,95.2176 212.753,198.898 \n",
       "  \"/>\n",
       "<circle clip-path=\"url(#clip070)\" cx=\"311.144\" cy=\"147.058\" r=\"23.04\" fill=\"#009af9\" fill-rule=\"evenodd\" fill-opacity=\"1\" stroke=\"#000000\" stroke-opacity=\"1\" stroke-width=\"5.12\"/>\n",
       "<path clip-path=\"url(#clip070)\" d=\"M423.377 166.745 Q421.572 171.375 419.859 172.787 Q418.146 174.199 415.275 174.199 L411.873 174.199 L411.873 170.634 L414.373 170.634 Q416.132 170.634 417.104 169.8 Q418.076 168.967 419.257 165.865 L420.021 163.921 L409.535 138.412 L414.048 138.412 L422.15 158.689 L430.252 138.412 L434.766 138.412 L423.377 166.745 Z\" fill=\"#000000\" fill-rule=\"evenodd\" fill-opacity=\"1\" /><path clip-path=\"url(#clip070)\" d=\"M442.058 160.402 L449.696 160.402 L449.696 134.037 L441.386 135.703 L441.386 131.444 L449.65 129.778 L454.326 129.778 L454.326 160.402 L461.965 160.402 L461.965 164.338 L442.058 164.338 L442.058 160.402 Z\" fill=\"#000000\" fill-rule=\"evenodd\" fill-opacity=\"1\" /></svg>\n"
      ]
     },
     "execution_count": 126,
     "metadata": {},
     "output_type": "execute_result"
    }
   ],
   "source": [
    "scatter(aq[:, 1], aq[:, 2])"
   ]
  },
  {
   "cell_type": "code",
   "execution_count": 132,
   "id": "6ec2230b-f5fb-4b03-9740-0dfe0370f64f",
   "metadata": {},
   "outputs": [
    {
     "data": {
      "image/svg+xml": [
       "<?xml version=\"1.0\" encoding=\"utf-8\"?>\n",
       "<svg xmlns=\"http://www.w3.org/2000/svg\" xmlns:xlink=\"http://www.w3.org/1999/xlink\" width=\"600\" height=\"400\" viewBox=\"0 0 2400 1600\">\n",
       "<defs>\n",
       "  <clipPath id=\"clip150\">\n",
       "    <rect x=\"0\" y=\"0\" width=\"2400\" height=\"1600\"/>\n",
       "  </clipPath>\n",
       "</defs>\n",
       "<path clip-path=\"url(#clip150)\" d=\"\n",
       "M0 1600 L2400 1600 L2400 0 L0 0  Z\n",
       "  \" fill=\"#ffffff\" fill-rule=\"evenodd\" fill-opacity=\"1\"/>\n",
       "<defs>\n",
       "  <clipPath id=\"clip151\">\n",
       "    <rect x=\"480\" y=\"0\" width=\"1681\" height=\"1600\"/>\n",
       "  </clipPath>\n",
       "</defs>\n",
       "<path clip-path=\"url(#clip150)\" d=\"\n",
       "M184.191 686.448 L1152.76 686.448 L1152.76 47.2441 L184.191 47.2441  Z\n",
       "  \" fill=\"#ffffff\" fill-rule=\"evenodd\" fill-opacity=\"1\"/>\n",
       "<defs>\n",
       "  <clipPath id=\"clip152\">\n",
       "    <rect x=\"184\" y=\"47\" width=\"970\" height=\"640\"/>\n",
       "  </clipPath>\n",
       "</defs>\n",
       "<polyline clip-path=\"url(#clip152)\" style=\"stroke:#000000; stroke-linecap:round; stroke-linejoin:round; stroke-width:2; stroke-opacity:0.1; fill:none\" points=\"\n",
       "  225.813,686.448 225.813,47.2441 \n",
       "  \"/>\n",
       "<polyline clip-path=\"url(#clip152)\" style=\"stroke:#000000; stroke-linecap:round; stroke-linejoin:round; stroke-width:2; stroke-opacity:0.1; fill:none\" points=\"\n",
       "  411.685,686.448 411.685,47.2441 \n",
       "  \"/>\n",
       "<polyline clip-path=\"url(#clip152)\" style=\"stroke:#000000; stroke-linecap:round; stroke-linejoin:round; stroke-width:2; stroke-opacity:0.1; fill:none\" points=\"\n",
       "  597.556,686.448 597.556,47.2441 \n",
       "  \"/>\n",
       "<polyline clip-path=\"url(#clip152)\" style=\"stroke:#000000; stroke-linecap:round; stroke-linejoin:round; stroke-width:2; stroke-opacity:0.1; fill:none\" points=\"\n",
       "  783.428,686.448 783.428,47.2441 \n",
       "  \"/>\n",
       "<polyline clip-path=\"url(#clip152)\" style=\"stroke:#000000; stroke-linecap:round; stroke-linejoin:round; stroke-width:2; stroke-opacity:0.1; fill:none\" points=\"\n",
       "  969.3,686.448 969.3,47.2441 \n",
       "  \"/>\n",
       "<polyline clip-path=\"url(#clip150)\" style=\"stroke:#000000; stroke-linecap:round; stroke-linejoin:round; stroke-width:4; stroke-opacity:1; fill:none\" points=\"\n",
       "  184.191,686.448 1152.76,686.448 \n",
       "  \"/>\n",
       "<polyline clip-path=\"url(#clip150)\" style=\"stroke:#000000; stroke-linecap:round; stroke-linejoin:round; stroke-width:4; stroke-opacity:1; fill:none\" points=\"\n",
       "  225.813,686.448 225.813,667.55 \n",
       "  \"/>\n",
       "<polyline clip-path=\"url(#clip150)\" style=\"stroke:#000000; stroke-linecap:round; stroke-linejoin:round; stroke-width:4; stroke-opacity:1; fill:none\" points=\"\n",
       "  411.685,686.448 411.685,667.55 \n",
       "  \"/>\n",
       "<polyline clip-path=\"url(#clip150)\" style=\"stroke:#000000; stroke-linecap:round; stroke-linejoin:round; stroke-width:4; stroke-opacity:1; fill:none\" points=\"\n",
       "  597.556,686.448 597.556,667.55 \n",
       "  \"/>\n",
       "<polyline clip-path=\"url(#clip150)\" style=\"stroke:#000000; stroke-linecap:round; stroke-linejoin:round; stroke-width:4; stroke-opacity:1; fill:none\" points=\"\n",
       "  783.428,686.448 783.428,667.55 \n",
       "  \"/>\n",
       "<polyline clip-path=\"url(#clip150)\" style=\"stroke:#000000; stroke-linecap:round; stroke-linejoin:round; stroke-width:4; stroke-opacity:1; fill:none\" points=\"\n",
       "  969.3,686.448 969.3,667.55 \n",
       "  \"/>\n",
       "<path clip-path=\"url(#clip150)\" d=\"M228.822 718.362 L217.016 736.811 L228.822 736.811 L228.822 718.362 M227.595 714.288 L233.475 714.288 L233.475 736.811 L238.405 736.811 L238.405 740.7 L233.475 740.7 L233.475 748.848 L228.822 748.848 L228.822 740.7 L213.22 740.7 L213.22 736.186 L227.595 714.288 Z\" fill=\"#000000\" fill-rule=\"evenodd\" fill-opacity=\"1\" /><path clip-path=\"url(#clip150)\" d=\"M412.09 729.704 Q408.942 729.704 407.09 731.857 Q405.261 734.01 405.261 737.76 Q405.261 741.487 407.09 743.663 Q408.942 745.815 412.09 745.815 Q415.238 745.815 417.066 743.663 Q418.918 741.487 418.918 737.76 Q418.918 734.01 417.066 731.857 Q415.238 729.704 412.09 729.704 M421.372 715.052 L421.372 719.311 Q419.613 718.478 417.807 718.038 Q416.025 717.598 414.266 717.598 Q409.636 717.598 407.182 720.723 Q404.752 723.848 404.405 730.167 Q405.77 728.154 407.83 727.089 Q409.891 726.001 412.367 726.001 Q417.576 726.001 420.585 729.172 Q423.617 732.32 423.617 737.76 Q423.617 743.084 420.469 746.302 Q417.321 749.519 412.09 749.519 Q406.094 749.519 402.923 744.936 Q399.752 740.329 399.752 731.603 Q399.752 723.408 403.641 718.547 Q407.529 713.663 414.08 713.663 Q415.84 713.663 417.622 714.01 Q419.428 714.357 421.372 715.052 Z\" fill=\"#000000\" fill-rule=\"evenodd\" fill-opacity=\"1\" /><path clip-path=\"url(#clip150)\" d=\"M597.556 732.436 Q594.223 732.436 592.302 734.218 Q590.404 736.001 590.404 739.126 Q590.404 742.251 592.302 744.033 Q594.223 745.815 597.556 745.815 Q600.89 745.815 602.811 744.033 Q604.732 742.228 604.732 739.126 Q604.732 736.001 602.811 734.218 Q600.913 732.436 597.556 732.436 M592.881 730.445 Q589.871 729.704 588.182 727.644 Q586.515 725.584 586.515 722.621 Q586.515 718.478 589.455 716.07 Q592.418 713.663 597.556 713.663 Q602.719 713.663 605.658 716.07 Q608.598 718.478 608.598 722.621 Q608.598 725.584 606.908 727.644 Q605.242 729.704 602.256 730.445 Q605.635 731.232 607.51 733.524 Q609.408 735.816 609.408 739.126 Q609.408 744.149 606.33 746.834 Q603.274 749.519 597.556 749.519 Q591.839 749.519 588.76 746.834 Q585.705 744.149 585.705 739.126 Q585.705 735.816 587.603 733.524 Q589.501 731.232 592.881 730.445 M591.168 723.061 Q591.168 725.746 592.834 727.251 Q594.524 728.755 597.556 728.755 Q600.566 728.755 602.256 727.251 Q603.968 725.746 603.968 723.061 Q603.968 720.376 602.256 718.871 Q600.566 717.367 597.556 717.367 Q594.524 717.367 592.834 718.871 Q591.168 720.376 591.168 723.061 Z\" fill=\"#000000\" fill-rule=\"evenodd\" fill-opacity=\"1\" /><path clip-path=\"url(#clip150)\" d=\"M758.116 744.913 L765.755 744.913 L765.755 718.547 L757.445 720.214 L757.445 715.955 L765.709 714.288 L770.385 714.288 L770.385 744.913 L778.023 744.913 L778.023 748.848 L758.116 748.848 L758.116 744.913 Z\" fill=\"#000000\" fill-rule=\"evenodd\" fill-opacity=\"1\" /><path clip-path=\"url(#clip150)\" d=\"M797.468 717.367 Q793.857 717.367 792.028 720.931 Q790.222 724.473 790.222 731.603 Q790.222 738.709 792.028 742.274 Q793.857 745.815 797.468 745.815 Q801.102 745.815 802.907 742.274 Q804.736 738.709 804.736 731.603 Q804.736 724.473 802.907 720.931 Q801.102 717.367 797.468 717.367 M797.468 713.663 Q803.278 713.663 806.333 718.269 Q809.412 722.853 809.412 731.603 Q809.412 740.329 806.333 744.936 Q803.278 749.519 797.468 749.519 Q791.658 749.519 788.579 744.936 Q785.523 740.329 785.523 731.603 Q785.523 722.853 788.579 718.269 Q791.658 713.663 797.468 713.663 Z\" fill=\"#000000\" fill-rule=\"evenodd\" fill-opacity=\"1\" /><path clip-path=\"url(#clip150)\" d=\"M944.787 744.913 L952.425 744.913 L952.425 718.547 L944.115 720.214 L944.115 715.955 L952.379 714.288 L957.055 714.288 L957.055 744.913 L964.694 744.913 L964.694 748.848 L944.787 748.848 L944.787 744.913 Z\" fill=\"#000000\" fill-rule=\"evenodd\" fill-opacity=\"1\" /><path clip-path=\"url(#clip150)\" d=\"M978.166 744.913 L994.485 744.913 L994.485 748.848 L972.541 748.848 L972.541 744.913 Q975.203 742.158 979.786 737.528 Q984.393 732.876 985.573 731.533 Q987.819 729.01 988.698 727.274 Q989.601 725.515 989.601 723.825 Q989.601 721.07 987.657 719.334 Q985.735 717.598 982.634 717.598 Q980.435 717.598 977.981 718.362 Q975.55 719.126 972.773 720.677 L972.773 715.955 Q975.597 714.82 978.05 714.242 Q980.504 713.663 982.541 713.663 Q987.911 713.663 991.106 716.348 Q994.3 719.033 994.3 723.524 Q994.3 725.654 993.49 727.575 Q992.703 729.473 990.597 732.066 Q990.018 732.737 986.916 735.954 Q983.814 739.149 978.166 744.913 Z\" fill=\"#000000\" fill-rule=\"evenodd\" fill-opacity=\"1\" /><polyline clip-path=\"url(#clip152)\" style=\"stroke:#000000; stroke-linecap:round; stroke-linejoin:round; stroke-width:2; stroke-opacity:0.1; fill:none\" points=\"\n",
       "  184.191,637.637 1152.76,637.637 \n",
       "  \"/>\n",
       "<polyline clip-path=\"url(#clip152)\" style=\"stroke:#000000; stroke-linecap:round; stroke-linejoin:round; stroke-width:2; stroke-opacity:0.1; fill:none\" points=\"\n",
       "  184.191,516.011 1152.76,516.011 \n",
       "  \"/>\n",
       "<polyline clip-path=\"url(#clip152)\" style=\"stroke:#000000; stroke-linecap:round; stroke-linejoin:round; stroke-width:2; stroke-opacity:0.1; fill:none\" points=\"\n",
       "  184.191,394.384 1152.76,394.384 \n",
       "  \"/>\n",
       "<polyline clip-path=\"url(#clip152)\" style=\"stroke:#000000; stroke-linecap:round; stroke-linejoin:round; stroke-width:2; stroke-opacity:0.1; fill:none\" points=\"\n",
       "  184.191,272.758 1152.76,272.758 \n",
       "  \"/>\n",
       "<polyline clip-path=\"url(#clip152)\" style=\"stroke:#000000; stroke-linecap:round; stroke-linejoin:round; stroke-width:2; stroke-opacity:0.1; fill:none\" points=\"\n",
       "  184.191,151.131 1152.76,151.131 \n",
       "  \"/>\n",
       "<polyline clip-path=\"url(#clip150)\" style=\"stroke:#000000; stroke-linecap:round; stroke-linejoin:round; stroke-width:4; stroke-opacity:1; fill:none\" points=\"\n",
       "  184.191,686.448 184.191,47.2441 \n",
       "  \"/>\n",
       "<polyline clip-path=\"url(#clip150)\" style=\"stroke:#000000; stroke-linecap:round; stroke-linejoin:round; stroke-width:4; stroke-opacity:1; fill:none\" points=\"\n",
       "  184.191,637.637 203.088,637.637 \n",
       "  \"/>\n",
       "<polyline clip-path=\"url(#clip150)\" style=\"stroke:#000000; stroke-linecap:round; stroke-linejoin:round; stroke-width:4; stroke-opacity:1; fill:none\" points=\"\n",
       "  184.191,516.011 203.088,516.011 \n",
       "  \"/>\n",
       "<polyline clip-path=\"url(#clip150)\" style=\"stroke:#000000; stroke-linecap:round; stroke-linejoin:round; stroke-width:4; stroke-opacity:1; fill:none\" points=\"\n",
       "  184.191,394.384 203.088,394.384 \n",
       "  \"/>\n",
       "<polyline clip-path=\"url(#clip150)\" style=\"stroke:#000000; stroke-linecap:round; stroke-linejoin:round; stroke-width:4; stroke-opacity:1; fill:none\" points=\"\n",
       "  184.191,272.758 203.088,272.758 \n",
       "  \"/>\n",
       "<polyline clip-path=\"url(#clip150)\" style=\"stroke:#000000; stroke-linecap:round; stroke-linejoin:round; stroke-width:4; stroke-opacity:1; fill:none\" points=\"\n",
       "  184.191,151.131 203.088,151.131 \n",
       "  \"/>\n",
       "<path clip-path=\"url(#clip150)\" d=\"M138.607 624.431 L126.802 642.88 L138.607 642.88 L138.607 624.431 M137.381 620.357 L143.26 620.357 L143.26 642.88 L148.191 642.88 L148.191 646.769 L143.26 646.769 L143.26 654.917 L138.607 654.917 L138.607 646.769 L123.006 646.769 L123.006 642.255 L137.381 620.357 Z\" fill=\"#000000\" fill-rule=\"evenodd\" fill-opacity=\"1\" /><path clip-path=\"url(#clip150)\" d=\"M136.663 514.147 Q133.515 514.147 131.663 516.3 Q129.834 518.453 129.834 522.203 Q129.834 525.93 131.663 528.106 Q133.515 530.258 136.663 530.258 Q139.811 530.258 141.64 528.106 Q143.492 525.93 143.492 522.203 Q143.492 518.453 141.64 516.3 Q139.811 514.147 136.663 514.147 M145.945 499.495 L145.945 503.754 Q144.186 502.92 142.381 502.481 Q140.598 502.041 138.839 502.041 Q134.209 502.041 131.756 505.166 Q129.325 508.291 128.978 514.61 Q130.344 512.596 132.404 511.532 Q134.464 510.444 136.941 510.444 Q142.149 510.444 145.158 513.615 Q148.191 516.763 148.191 522.203 Q148.191 527.527 145.043 530.744 Q141.894 533.962 136.663 533.962 Q130.668 533.962 127.496 529.379 Q124.325 524.772 124.325 516.045 Q124.325 507.851 128.214 502.99 Q132.103 498.106 138.654 498.106 Q140.413 498.106 142.195 498.453 Q144.001 498.8 145.945 499.495 Z\" fill=\"#000000\" fill-rule=\"evenodd\" fill-opacity=\"1\" /><path clip-path=\"url(#clip150)\" d=\"M136.339 395.252 Q133.006 395.252 131.084 397.035 Q129.186 398.817 129.186 401.942 Q129.186 405.067 131.084 406.849 Q133.006 408.632 136.339 408.632 Q139.672 408.632 141.593 406.849 Q143.515 405.044 143.515 401.942 Q143.515 398.817 141.593 397.035 Q139.695 395.252 136.339 395.252 M131.663 393.262 Q128.654 392.521 126.964 390.461 Q125.297 388.4 125.297 385.437 Q125.297 381.294 128.237 378.887 Q131.2 376.479 136.339 376.479 Q141.501 376.479 144.441 378.887 Q147.38 381.294 147.38 385.437 Q147.38 388.4 145.691 390.461 Q144.024 392.521 141.038 393.262 Q144.418 394.049 146.293 396.34 Q148.191 398.632 148.191 401.942 Q148.191 406.965 145.112 409.65 Q142.056 412.335 136.339 412.335 Q130.621 412.335 127.543 409.65 Q124.487 406.965 124.487 401.942 Q124.487 398.632 126.385 396.34 Q128.283 394.049 131.663 393.262 M129.95 385.877 Q129.95 388.562 131.617 390.067 Q133.306 391.572 136.339 391.572 Q139.348 391.572 141.038 390.067 Q142.751 388.562 142.751 385.877 Q142.751 383.192 141.038 381.687 Q139.348 380.183 136.339 380.183 Q133.306 380.183 131.617 381.687 Q129.95 383.192 129.95 385.877 Z\" fill=\"#000000\" fill-rule=\"evenodd\" fill-opacity=\"1\" /><path clip-path=\"url(#clip150)\" d=\"M96.8947 286.103 L104.534 286.103 L104.534 259.737 L96.2234 261.404 L96.2234 257.144 L104.487 255.478 L109.163 255.478 L109.163 286.103 L116.802 286.103 L116.802 290.038 L96.8947 290.038 L96.8947 286.103 Z\" fill=\"#000000\" fill-rule=\"evenodd\" fill-opacity=\"1\" /><path clip-path=\"url(#clip150)\" d=\"M136.246 258.556 Q132.635 258.556 130.807 262.121 Q129.001 265.663 129.001 272.792 Q129.001 279.899 130.807 283.464 Q132.635 287.005 136.246 287.005 Q139.881 287.005 141.686 283.464 Q143.515 279.899 143.515 272.792 Q143.515 265.663 141.686 262.121 Q139.881 258.556 136.246 258.556 M136.246 254.853 Q142.056 254.853 145.112 259.459 Q148.191 264.042 148.191 272.792 Q148.191 281.519 145.112 286.126 Q142.056 290.709 136.246 290.709 Q130.436 290.709 127.357 286.126 Q124.302 281.519 124.302 272.792 Q124.302 264.042 127.357 259.459 Q130.436 254.853 136.246 254.853 Z\" fill=\"#000000\" fill-rule=\"evenodd\" fill-opacity=\"1\" /><path clip-path=\"url(#clip150)\" d=\"M98.4919 164.476 L106.131 164.476 L106.131 138.11 L97.8206 139.777 L97.8206 135.518 L106.084 133.851 L110.76 133.851 L110.76 164.476 L118.399 164.476 L118.399 168.411 L98.4919 168.411 L98.4919 164.476 Z\" fill=\"#000000\" fill-rule=\"evenodd\" fill-opacity=\"1\" /><path clip-path=\"url(#clip150)\" d=\"M131.871 164.476 L148.191 164.476 L148.191 168.411 L126.246 168.411 L126.246 164.476 Q128.908 161.721 133.492 157.092 Q138.098 152.439 139.279 151.096 Q141.524 148.573 142.404 146.837 Q143.306 145.078 143.306 143.388 Q143.306 140.634 141.362 138.897 Q139.441 137.161 136.339 137.161 Q134.14 137.161 131.686 137.925 Q129.256 138.689 126.478 140.24 L126.478 135.518 Q129.302 134.384 131.756 133.805 Q134.209 133.226 136.246 133.226 Q141.617 133.226 144.811 135.911 Q148.005 138.597 148.005 143.087 Q148.005 145.217 147.195 147.138 Q146.408 149.036 144.302 151.629 Q143.723 152.3 140.621 155.518 Q137.519 158.712 131.871 164.476 Z\" fill=\"#000000\" fill-rule=\"evenodd\" fill-opacity=\"1\" /><circle clip-path=\"url(#clip152)\" cx=\"885.499\" cy=\"65.3348\" r=\"14.4\" fill=\"#009af9\" fill-rule=\"evenodd\" fill-opacity=\"1\" stroke=\"#000000\" stroke-opacity=\"1\" stroke-width=\"3.2\"/>\n",
       "<circle clip-path=\"url(#clip152)\" cx=\"997.102\" cy=\"69.3013\" r=\"14.4\" fill=\"#009af9\" fill-rule=\"evenodd\" fill-opacity=\"1\" stroke=\"#000000\" stroke-opacity=\"1\" stroke-width=\"3.2\"/>\n",
       "<circle clip-path=\"url(#clip152)\" cx=\"449.339\" cy=\"628.249\" r=\"14.4\" fill=\"#009af9\" fill-rule=\"evenodd\" fill-opacity=\"1\" stroke=\"#000000\" stroke-opacity=\"1\" stroke-width=\"3.2\"/>\n",
       "<circle clip-path=\"url(#clip152)\" cx=\"280.734\" cy=\"637.594\" r=\"14.4\" fill=\"#009af9\" fill-rule=\"evenodd\" fill-opacity=\"1\" stroke=\"#000000\" stroke-opacity=\"1\" stroke-width=\"3.2\"/>\n",
       "<circle clip-path=\"url(#clip152)\" cx=\"792.852\" cy=\"568.585\" r=\"14.4\" fill=\"#009af9\" fill-rule=\"evenodd\" fill-opacity=\"1\" stroke=\"#000000\" stroke-opacity=\"1\" stroke-width=\"3.2\"/>\n",
       "<circle clip-path=\"url(#clip152)\" cx=\"851.486\" cy=\"489.32\" r=\"14.4\" fill=\"#009af9\" fill-rule=\"evenodd\" fill-opacity=\"1\" stroke=\"#000000\" stroke-opacity=\"1\" stroke-width=\"3.2\"/>\n",
       "<circle clip-path=\"url(#clip152)\" cx=\"211.603\" cy=\"668.357\" r=\"14.4\" fill=\"#009af9\" fill-rule=\"evenodd\" fill-opacity=\"1\" stroke=\"#000000\" stroke-opacity=\"1\" stroke-width=\"3.2\"/>\n",
       "<circle clip-path=\"url(#clip152)\" cx=\"521.992\" cy=\"655.535\" r=\"14.4\" fill=\"#009af9\" fill-rule=\"evenodd\" fill-opacity=\"1\" stroke=\"#000000\" stroke-opacity=\"1\" stroke-width=\"3.2\"/>\n",
       "<circle clip-path=\"url(#clip152)\" cx=\"242.771\" cy=\"248.799\" r=\"14.4\" fill=\"#009af9\" fill-rule=\"evenodd\" fill-opacity=\"1\" stroke=\"#000000\" stroke-opacity=\"1\" stroke-width=\"3.2\"/>\n",
       "<circle clip-path=\"url(#clip152)\" cx=\"605.834\" cy=\"165.875\" r=\"14.4\" fill=\"#009af9\" fill-rule=\"evenodd\" fill-opacity=\"1\" stroke=\"#000000\" stroke-opacity=\"1\" stroke-width=\"3.2\"/>\n",
       "<circle clip-path=\"url(#clip152)\" cx=\"1125.34\" cy=\"433.472\" r=\"14.4\" fill=\"#009af9\" fill-rule=\"evenodd\" fill-opacity=\"1\" stroke=\"#000000\" stroke-opacity=\"1\" stroke-width=\"3.2\"/>\n",
       "<path clip-path=\"url(#clip150)\" d=\"\n",
       "M216.476 172.231 L365.763 172.231 L365.763 68.5509 L216.476 68.5509  Z\n",
       "  \" fill=\"#ffffff\" fill-rule=\"evenodd\" fill-opacity=\"1\"/>\n",
       "<polyline clip-path=\"url(#clip150)\" style=\"stroke:#000000; stroke-linecap:round; stroke-linejoin:round; stroke-width:4; stroke-opacity:1; fill:none\" points=\"\n",
       "  216.476,172.231 365.763,172.231 365.763,68.5509 216.476,68.5509 216.476,172.231 \n",
       "  \"/>\n",
       "<circle clip-path=\"url(#clip150)\" cx=\"259.524\" cy=\"120.391\" r=\"23.04\" fill=\"#009af9\" fill-rule=\"evenodd\" fill-opacity=\"1\" stroke=\"#000000\" stroke-opacity=\"1\" stroke-width=\"5.12\"/>\n",
       "<path clip-path=\"url(#clip150)\" d=\"M316.413 140.078 Q314.608 144.708 312.895 146.12 Q311.182 147.532 308.312 147.532 L304.909 147.532 L304.909 143.967 L307.409 143.967 Q309.168 143.967 310.14 143.134 Q311.112 142.3 312.293 139.199 L313.057 137.254 L302.571 111.745 L307.085 111.745 L315.187 132.023 L323.288 111.745 L327.802 111.745 L316.413 140.078 Z\" fill=\"#000000\" fill-rule=\"evenodd\" fill-opacity=\"1\" /><path clip-path=\"url(#clip150)\" d=\"M335.094 133.736 L342.733 133.736 L342.733 107.37 L334.423 109.037 L334.423 104.778 L342.686 103.111 L347.362 103.111 L347.362 133.736 L355.001 133.736 L355.001 137.671 L335.094 137.671 L335.094 133.736 Z\" fill=\"#000000\" fill-rule=\"evenodd\" fill-opacity=\"1\" /><path clip-path=\"url(#clip150)\" d=\"\n",
       "M1384.19 686.448 L2352.76 686.448 L2352.76 47.2441 L1384.19 47.2441  Z\n",
       "  \" fill=\"#ffffff\" fill-rule=\"evenodd\" fill-opacity=\"1\"/>\n",
       "<defs>\n",
       "  <clipPath id=\"clip153\">\n",
       "    <rect x=\"1384\" y=\"47\" width=\"970\" height=\"640\"/>\n",
       "  </clipPath>\n",
       "</defs>\n",
       "<polyline clip-path=\"url(#clip153)\" style=\"stroke:#000000; stroke-linecap:round; stroke-linejoin:round; stroke-width:2; stroke-opacity:0.1; fill:none\" points=\"\n",
       "  1505.9,686.448 1505.9,47.2441 \n",
       "  \"/>\n",
       "<polyline clip-path=\"url(#clip153)\" style=\"stroke:#000000; stroke-linecap:round; stroke-linejoin:round; stroke-width:2; stroke-opacity:0.1; fill:none\" points=\"\n",
       "  1705.78,686.448 1705.78,47.2441 \n",
       "  \"/>\n",
       "<polyline clip-path=\"url(#clip153)\" style=\"stroke:#000000; stroke-linecap:round; stroke-linejoin:round; stroke-width:2; stroke-opacity:0.1; fill:none\" points=\"\n",
       "  1905.66,686.448 1905.66,47.2441 \n",
       "  \"/>\n",
       "<polyline clip-path=\"url(#clip153)\" style=\"stroke:#000000; stroke-linecap:round; stroke-linejoin:round; stroke-width:2; stroke-opacity:0.1; fill:none\" points=\"\n",
       "  2105.53,686.448 2105.53,47.2441 \n",
       "  \"/>\n",
       "<polyline clip-path=\"url(#clip153)\" style=\"stroke:#000000; stroke-linecap:round; stroke-linejoin:round; stroke-width:2; stroke-opacity:0.1; fill:none\" points=\"\n",
       "  2305.41,686.448 2305.41,47.2441 \n",
       "  \"/>\n",
       "<polyline clip-path=\"url(#clip150)\" style=\"stroke:#000000; stroke-linecap:round; stroke-linejoin:round; stroke-width:4; stroke-opacity:1; fill:none\" points=\"\n",
       "  1384.19,686.448 2352.76,686.448 \n",
       "  \"/>\n",
       "<polyline clip-path=\"url(#clip150)\" style=\"stroke:#000000; stroke-linecap:round; stroke-linejoin:round; stroke-width:4; stroke-opacity:1; fill:none\" points=\"\n",
       "  1505.9,686.448 1505.9,667.55 \n",
       "  \"/>\n",
       "<polyline clip-path=\"url(#clip150)\" style=\"stroke:#000000; stroke-linecap:round; stroke-linejoin:round; stroke-width:4; stroke-opacity:1; fill:none\" points=\"\n",
       "  1705.78,686.448 1705.78,667.55 \n",
       "  \"/>\n",
       "<polyline clip-path=\"url(#clip150)\" style=\"stroke:#000000; stroke-linecap:round; stroke-linejoin:round; stroke-width:4; stroke-opacity:1; fill:none\" points=\"\n",
       "  1905.66,686.448 1905.66,667.55 \n",
       "  \"/>\n",
       "<polyline clip-path=\"url(#clip150)\" style=\"stroke:#000000; stroke-linecap:round; stroke-linejoin:round; stroke-width:4; stroke-opacity:1; fill:none\" points=\"\n",
       "  2105.53,686.448 2105.53,667.55 \n",
       "  \"/>\n",
       "<polyline clip-path=\"url(#clip150)\" style=\"stroke:#000000; stroke-linecap:round; stroke-linejoin:round; stroke-width:4; stroke-opacity:1; fill:none\" points=\"\n",
       "  2305.41,686.448 2305.41,667.55 \n",
       "  \"/>\n",
       "<path clip-path=\"url(#clip150)\" d=\"M1477.64 744.913 L1493.96 744.913 L1493.96 748.848 L1472.01 748.848 L1472.01 744.913 Q1474.68 742.158 1479.26 737.528 Q1483.87 732.876 1485.05 731.533 Q1487.29 729.01 1488.17 727.274 Q1489.07 725.515 1489.07 723.825 Q1489.07 721.07 1487.13 719.334 Q1485.21 717.598 1482.11 717.598 Q1479.91 717.598 1477.45 718.362 Q1475.02 719.126 1472.24 720.677 L1472.24 715.955 Q1475.07 714.82 1477.52 714.242 Q1479.98 713.663 1482.01 713.663 Q1487.38 713.663 1490.58 716.348 Q1493.77 719.033 1493.77 723.524 Q1493.77 725.654 1492.96 727.575 Q1492.18 729.473 1490.07 732.066 Q1489.49 732.737 1486.39 735.954 Q1483.29 739.149 1477.64 744.913 Z\" fill=\"#000000\" fill-rule=\"evenodd\" fill-opacity=\"1\" /><path clip-path=\"url(#clip150)\" d=\"M1503.77 742.968 L1508.66 742.968 L1508.66 748.848 L1503.77 748.848 L1503.77 742.968 Z\" fill=\"#000000\" fill-rule=\"evenodd\" fill-opacity=\"1\" /><path clip-path=\"url(#clip150)\" d=\"M1518.89 714.288 L1537.24 714.288 L1537.24 718.223 L1523.17 718.223 L1523.17 726.695 Q1524.19 726.348 1525.21 726.186 Q1526.23 726.001 1527.24 726.001 Q1533.03 726.001 1536.41 729.172 Q1539.79 732.343 1539.79 737.76 Q1539.79 743.339 1536.32 746.44 Q1532.85 749.519 1526.53 749.519 Q1524.35 749.519 1522.08 749.149 Q1519.84 748.778 1517.43 748.038 L1517.43 743.339 Q1519.51 744.473 1521.74 745.028 Q1523.96 745.584 1526.43 745.584 Q1530.44 745.584 1532.78 743.478 Q1535.11 741.371 1535.11 737.76 Q1535.11 734.149 1532.78 732.042 Q1530.44 729.936 1526.43 729.936 Q1524.56 729.936 1522.68 730.353 Q1520.83 730.769 1518.89 731.649 L1518.89 714.288 Z\" fill=\"#000000\" fill-rule=\"evenodd\" fill-opacity=\"1\" /><path clip-path=\"url(#clip150)\" d=\"M1672.94 714.288 L1691.3 714.288 L1691.3 718.223 L1677.23 718.223 L1677.23 726.695 Q1678.24 726.348 1679.26 726.186 Q1680.28 726.001 1681.3 726.001 Q1687.09 726.001 1690.47 729.172 Q1693.85 732.343 1693.85 737.76 Q1693.85 743.339 1690.37 746.44 Q1686.9 749.519 1680.58 749.519 Q1678.41 749.519 1676.14 749.149 Q1673.89 748.778 1671.49 748.038 L1671.49 743.339 Q1673.57 744.473 1675.79 745.028 Q1678.01 745.584 1680.49 745.584 Q1684.49 745.584 1686.83 743.478 Q1689.17 741.371 1689.17 737.76 Q1689.17 734.149 1686.83 732.042 Q1684.49 729.936 1680.49 729.936 Q1678.61 729.936 1676.74 730.353 Q1674.89 730.769 1672.94 731.649 L1672.94 714.288 Z\" fill=\"#000000\" fill-rule=\"evenodd\" fill-opacity=\"1\" /><path clip-path=\"url(#clip150)\" d=\"M1703.06 742.968 L1707.94 742.968 L1707.94 748.848 L1703.06 748.848 L1703.06 742.968 Z\" fill=\"#000000\" fill-rule=\"evenodd\" fill-opacity=\"1\" /><path clip-path=\"url(#clip150)\" d=\"M1728.13 717.367 Q1724.52 717.367 1722.69 720.931 Q1720.88 724.473 1720.88 731.603 Q1720.88 738.709 1722.69 742.274 Q1724.52 745.815 1728.13 745.815 Q1731.76 745.815 1733.57 742.274 Q1735.4 738.709 1735.4 731.603 Q1735.4 724.473 1733.57 720.931 Q1731.76 717.367 1728.13 717.367 M1728.13 713.663 Q1733.94 713.663 1736.99 718.269 Q1740.07 722.853 1740.07 731.603 Q1740.07 740.329 1736.99 744.936 Q1733.94 749.519 1728.13 749.519 Q1722.32 749.519 1719.24 744.936 Q1716.18 740.329 1716.18 731.603 Q1716.18 722.853 1719.24 718.269 Q1722.32 713.663 1728.13 713.663 Z\" fill=\"#000000\" fill-rule=\"evenodd\" fill-opacity=\"1\" /><path clip-path=\"url(#clip150)\" d=\"M1871.98 714.288 L1894.2 714.288 L1894.2 716.279 L1881.65 748.848 L1876.77 748.848 L1888.57 718.223 L1871.98 718.223 L1871.98 714.288 Z\" fill=\"#000000\" fill-rule=\"evenodd\" fill-opacity=\"1\" /><path clip-path=\"url(#clip150)\" d=\"M1903.32 742.968 L1908.2 742.968 L1908.2 748.848 L1903.32 748.848 L1903.32 742.968 Z\" fill=\"#000000\" fill-rule=\"evenodd\" fill-opacity=\"1\" /><path clip-path=\"url(#clip150)\" d=\"M1918.43 714.288 L1936.79 714.288 L1936.79 718.223 L1922.72 718.223 L1922.72 726.695 Q1923.73 726.348 1924.75 726.186 Q1925.77 726.001 1926.79 726.001 Q1932.58 726.001 1935.96 729.172 Q1939.34 732.343 1939.34 737.76 Q1939.34 743.339 1935.86 746.44 Q1932.39 749.519 1926.07 749.519 Q1923.9 749.519 1921.63 749.149 Q1919.38 748.778 1916.98 748.038 L1916.98 743.339 Q1919.06 744.473 1921.28 745.028 Q1923.5 745.584 1925.98 745.584 Q1929.98 745.584 1932.32 743.478 Q1934.66 741.371 1934.66 737.76 Q1934.66 734.149 1932.32 732.042 Q1929.98 729.936 1925.98 729.936 Q1924.1 729.936 1922.23 730.353 Q1920.38 730.769 1918.43 731.649 L1918.43 714.288 Z\" fill=\"#000000\" fill-rule=\"evenodd\" fill-opacity=\"1\" /><path clip-path=\"url(#clip150)\" d=\"M2057.6 744.913 L2065.24 744.913 L2065.24 718.547 L2056.93 720.214 L2056.93 715.955 L2065.2 714.288 L2069.87 714.288 L2069.87 744.913 L2077.51 744.913 L2077.51 748.848 L2057.6 748.848 L2057.6 744.913 Z\" fill=\"#000000\" fill-rule=\"evenodd\" fill-opacity=\"1\" /><path clip-path=\"url(#clip150)\" d=\"M2096.96 717.367 Q2093.35 717.367 2091.52 720.931 Q2089.71 724.473 2089.71 731.603 Q2089.71 738.709 2091.52 742.274 Q2093.35 745.815 2096.96 745.815 Q2100.59 745.815 2102.4 742.274 Q2104.23 738.709 2104.23 731.603 Q2104.23 724.473 2102.4 720.931 Q2100.59 717.367 2096.96 717.367 M2096.96 713.663 Q2102.77 713.663 2105.82 718.269 Q2108.9 722.853 2108.9 731.603 Q2108.9 740.329 2105.82 744.936 Q2102.77 749.519 2096.96 749.519 Q2091.15 749.519 2088.07 744.936 Q2085.01 740.329 2085.01 731.603 Q2085.01 722.853 2088.07 718.269 Q2091.15 713.663 2096.96 713.663 Z\" fill=\"#000000\" fill-rule=\"evenodd\" fill-opacity=\"1\" /><path clip-path=\"url(#clip150)\" d=\"M2117.12 742.968 L2122 742.968 L2122 748.848 L2117.12 748.848 L2117.12 742.968 Z\" fill=\"#000000\" fill-rule=\"evenodd\" fill-opacity=\"1\" /><path clip-path=\"url(#clip150)\" d=\"M2142.19 717.367 Q2138.58 717.367 2136.75 720.931 Q2134.94 724.473 2134.94 731.603 Q2134.94 738.709 2136.75 742.274 Q2138.58 745.815 2142.19 745.815 Q2145.82 745.815 2147.63 742.274 Q2149.46 738.709 2149.46 731.603 Q2149.46 724.473 2147.63 720.931 Q2145.82 717.367 2142.19 717.367 M2142.19 713.663 Q2148 713.663 2151.05 718.269 Q2154.13 722.853 2154.13 731.603 Q2154.13 740.329 2151.05 744.936 Q2148 749.519 2142.19 749.519 Q2136.38 749.519 2133.3 744.936 Q2130.24 740.329 2130.24 731.603 Q2130.24 722.853 2133.3 718.269 Q2136.38 713.663 2142.19 713.663 Z\" fill=\"#000000\" fill-rule=\"evenodd\" fill-opacity=\"1\" /><path clip-path=\"url(#clip150)\" d=\"M2257.98 744.913 L2265.62 744.913 L2265.62 718.547 L2257.31 720.214 L2257.31 715.955 L2265.57 714.288 L2270.25 714.288 L2270.25 744.913 L2277.89 744.913 L2277.89 748.848 L2257.98 748.848 L2257.98 744.913 Z\" fill=\"#000000\" fill-rule=\"evenodd\" fill-opacity=\"1\" /><path clip-path=\"url(#clip150)\" d=\"M2291.36 744.913 L2307.68 744.913 L2307.68 748.848 L2285.73 748.848 L2285.73 744.913 Q2288.4 742.158 2292.98 737.528 Q2297.59 732.876 2298.77 731.533 Q2301.01 729.01 2301.89 727.274 Q2302.79 725.515 2302.79 723.825 Q2302.79 721.07 2300.85 719.334 Q2298.93 717.598 2295.83 717.598 Q2293.63 717.598 2291.17 718.362 Q2288.74 719.126 2285.97 720.677 L2285.97 715.955 Q2288.79 714.82 2291.24 714.242 Q2293.7 713.663 2295.73 713.663 Q2301.1 713.663 2304.3 716.348 Q2307.49 719.033 2307.49 723.524 Q2307.49 725.654 2306.68 727.575 Q2305.9 729.473 2303.79 732.066 Q2303.21 732.737 2300.11 735.954 Q2297.01 739.149 2291.36 744.913 Z\" fill=\"#000000\" fill-rule=\"evenodd\" fill-opacity=\"1\" /><path clip-path=\"url(#clip150)\" d=\"M2317.49 742.968 L2322.38 742.968 L2322.38 748.848 L2317.49 748.848 L2317.49 742.968 Z\" fill=\"#000000\" fill-rule=\"evenodd\" fill-opacity=\"1\" /><path clip-path=\"url(#clip150)\" d=\"M2332.61 714.288 L2350.97 714.288 L2350.97 718.223 L2336.89 718.223 L2336.89 726.695 Q2337.91 726.348 2338.93 726.186 Q2339.95 726.001 2340.97 726.001 Q2346.75 726.001 2350.13 729.172 Q2353.51 732.343 2353.51 737.76 Q2353.51 743.339 2350.04 746.44 Q2346.57 749.519 2340.25 749.519 Q2338.07 749.519 2335.8 749.149 Q2333.56 748.778 2331.15 748.038 L2331.15 743.339 Q2333.23 744.473 2335.46 745.028 Q2337.68 745.584 2340.16 745.584 Q2344.16 745.584 2346.5 743.478 Q2348.84 741.371 2348.84 737.76 Q2348.84 734.149 2346.5 732.042 Q2344.16 729.936 2340.16 729.936 Q2338.28 729.936 2336.41 730.353 Q2334.55 730.769 2332.61 731.649 L2332.61 714.288 Z\" fill=\"#000000\" fill-rule=\"evenodd\" fill-opacity=\"1\" /><polyline clip-path=\"url(#clip153)\" style=\"stroke:#000000; stroke-linecap:round; stroke-linejoin:round; stroke-width:2; stroke-opacity:0.1; fill:none\" points=\"\n",
       "  1384.19,572.406 2352.76,572.406 \n",
       "  \"/>\n",
       "<polyline clip-path=\"url(#clip153)\" style=\"stroke:#000000; stroke-linecap:round; stroke-linejoin:round; stroke-width:2; stroke-opacity:0.1; fill:none\" points=\"\n",
       "  1384.19,441.191 2352.76,441.191 \n",
       "  \"/>\n",
       "<polyline clip-path=\"url(#clip153)\" style=\"stroke:#000000; stroke-linecap:round; stroke-linejoin:round; stroke-width:2; stroke-opacity:0.1; fill:none\" points=\"\n",
       "  1384.19,309.975 2352.76,309.975 \n",
       "  \"/>\n",
       "<polyline clip-path=\"url(#clip153)\" style=\"stroke:#000000; stroke-linecap:round; stroke-linejoin:round; stroke-width:2; stroke-opacity:0.1; fill:none\" points=\"\n",
       "  1384.19,178.76 2352.76,178.76 \n",
       "  \"/>\n",
       "<polyline clip-path=\"url(#clip153)\" style=\"stroke:#000000; stroke-linecap:round; stroke-linejoin:round; stroke-width:2; stroke-opacity:0.1; fill:none\" points=\"\n",
       "  1384.19,47.544 2352.76,47.544 \n",
       "  \"/>\n",
       "<polyline clip-path=\"url(#clip150)\" style=\"stroke:#000000; stroke-linecap:round; stroke-linejoin:round; stroke-width:4; stroke-opacity:1; fill:none\" points=\"\n",
       "  1384.19,686.448 1384.19,47.2441 \n",
       "  \"/>\n",
       "<polyline clip-path=\"url(#clip150)\" style=\"stroke:#000000; stroke-linecap:round; stroke-linejoin:round; stroke-width:4; stroke-opacity:1; fill:none\" points=\"\n",
       "  1384.19,572.406 1403.09,572.406 \n",
       "  \"/>\n",
       "<polyline clip-path=\"url(#clip150)\" style=\"stroke:#000000; stroke-linecap:round; stroke-linejoin:round; stroke-width:4; stroke-opacity:1; fill:none\" points=\"\n",
       "  1384.19,441.191 1403.09,441.191 \n",
       "  \"/>\n",
       "<polyline clip-path=\"url(#clip150)\" style=\"stroke:#000000; stroke-linecap:round; stroke-linejoin:round; stroke-width:4; stroke-opacity:1; fill:none\" points=\"\n",
       "  1384.19,309.975 1403.09,309.975 \n",
       "  \"/>\n",
       "<polyline clip-path=\"url(#clip150)\" style=\"stroke:#000000; stroke-linecap:round; stroke-linejoin:round; stroke-width:4; stroke-opacity:1; fill:none\" points=\"\n",
       "  1384.19,178.76 1403.09,178.76 \n",
       "  \"/>\n",
       "<polyline clip-path=\"url(#clip150)\" style=\"stroke:#000000; stroke-linecap:round; stroke-linejoin:round; stroke-width:4; stroke-opacity:1; fill:none\" points=\"\n",
       "  1384.19,47.544 1403.09,47.544 \n",
       "  \"/>\n",
       "<path clip-path=\"url(#clip150)\" d=\"M1286.04 585.751 L1302.36 585.751 L1302.36 589.686 L1280.41 589.686 L1280.41 585.751 Q1283.08 582.996 1287.66 578.367 Q1292.27 573.714 1293.45 572.371 Q1295.69 569.848 1296.57 568.112 Q1297.47 566.353 1297.47 564.663 Q1297.47 561.909 1295.53 560.172 Q1293.61 558.436 1290.51 558.436 Q1288.31 558.436 1285.85 559.2 Q1283.42 559.964 1280.64 561.515 L1280.64 556.793 Q1283.47 555.659 1285.92 555.08 Q1288.38 554.501 1290.41 554.501 Q1295.78 554.501 1298.98 557.186 Q1302.17 559.872 1302.17 564.362 Q1302.17 566.492 1301.36 568.413 Q1300.58 570.311 1298.47 572.904 Q1297.89 573.575 1294.79 576.793 Q1291.69 579.987 1286.04 585.751 Z\" fill=\"#000000\" fill-rule=\"evenodd\" fill-opacity=\"1\" /><path clip-path=\"url(#clip150)\" d=\"M1312.17 583.807 L1317.06 583.807 L1317.06 589.686 L1312.17 589.686 L1312.17 583.807 Z\" fill=\"#000000\" fill-rule=\"evenodd\" fill-opacity=\"1\" /><path clip-path=\"url(#clip150)\" d=\"M1327.29 555.126 L1345.64 555.126 L1345.64 559.061 L1331.57 559.061 L1331.57 567.534 Q1332.59 567.186 1333.61 567.024 Q1334.63 566.839 1335.64 566.839 Q1341.43 566.839 1344.81 570.01 Q1348.19 573.182 1348.19 578.598 Q1348.19 584.177 1344.72 587.279 Q1341.25 590.357 1334.93 590.357 Q1332.75 590.357 1330.48 589.987 Q1328.24 589.617 1325.83 588.876 L1325.83 584.177 Q1327.91 585.311 1330.14 585.867 Q1332.36 586.422 1334.83 586.422 Q1338.84 586.422 1341.18 584.316 Q1343.51 582.209 1343.51 578.598 Q1343.51 574.987 1341.18 572.881 Q1338.84 570.774 1334.83 570.774 Q1332.96 570.774 1331.08 571.191 Q1329.23 571.608 1327.29 572.487 L1327.29 555.126 Z\" fill=\"#000000\" fill-rule=\"evenodd\" fill-opacity=\"1\" /><path clip-path=\"url(#clip150)\" d=\"M1281.06 423.911 L1299.42 423.911 L1299.42 427.846 L1285.34 427.846 L1285.34 436.318 Q1286.36 435.971 1287.38 435.809 Q1288.4 435.624 1289.42 435.624 Q1295.2 435.624 1298.58 438.795 Q1301.96 441.966 1301.96 447.383 Q1301.96 452.961 1298.49 456.063 Q1295.02 459.142 1288.7 459.142 Q1286.52 459.142 1284.26 458.772 Q1282.01 458.401 1279.6 457.66 L1279.6 452.961 Q1281.69 454.096 1283.91 454.651 Q1286.13 455.207 1288.61 455.207 Q1292.61 455.207 1294.95 453.1 Q1297.29 450.994 1297.29 447.383 Q1297.29 443.772 1294.95 441.665 Q1292.61 439.559 1288.61 439.559 Q1286.73 439.559 1284.86 439.975 Q1283.01 440.392 1281.06 441.272 L1281.06 423.911 Z\" fill=\"#000000\" fill-rule=\"evenodd\" fill-opacity=\"1\" /><path clip-path=\"url(#clip150)\" d=\"M1311.18 452.591 L1316.06 452.591 L1316.06 458.471 L1311.18 458.471 L1311.18 452.591 Z\" fill=\"#000000\" fill-rule=\"evenodd\" fill-opacity=\"1\" /><path clip-path=\"url(#clip150)\" d=\"M1336.25 426.989 Q1332.64 426.989 1330.81 430.554 Q1329 434.096 1329 441.225 Q1329 448.332 1330.81 451.897 Q1332.64 455.438 1336.25 455.438 Q1339.88 455.438 1341.69 451.897 Q1343.51 448.332 1343.51 441.225 Q1343.51 434.096 1341.69 430.554 Q1339.88 426.989 1336.25 426.989 M1336.25 423.286 Q1342.06 423.286 1345.11 427.892 Q1348.19 432.475 1348.19 441.225 Q1348.19 449.952 1345.11 454.559 Q1342.06 459.142 1336.25 459.142 Q1330.44 459.142 1327.36 454.559 Q1324.3 449.952 1324.3 441.225 Q1324.3 432.475 1327.36 427.892 Q1330.44 423.286 1336.25 423.286 Z\" fill=\"#000000\" fill-rule=\"evenodd\" fill-opacity=\"1\" /><path clip-path=\"url(#clip150)\" d=\"M1280.83 292.695 L1303.05 292.695 L1303.05 294.686 L1290.51 327.255 L1285.62 327.255 L1297.43 296.63 L1280.83 296.63 L1280.83 292.695 Z\" fill=\"#000000\" fill-rule=\"evenodd\" fill-opacity=\"1\" /><path clip-path=\"url(#clip150)\" d=\"M1312.17 321.375 L1317.06 321.375 L1317.06 327.255 L1312.17 327.255 L1312.17 321.375 Z\" fill=\"#000000\" fill-rule=\"evenodd\" fill-opacity=\"1\" /><path clip-path=\"url(#clip150)\" d=\"M1327.29 292.695 L1345.64 292.695 L1345.64 296.63 L1331.57 296.63 L1331.57 305.102 Q1332.59 304.755 1333.61 304.593 Q1334.63 304.408 1335.64 304.408 Q1341.43 304.408 1344.81 307.579 Q1348.19 310.751 1348.19 316.167 Q1348.19 321.746 1344.72 324.848 Q1341.25 327.926 1334.93 327.926 Q1332.75 327.926 1330.48 327.556 Q1328.24 327.186 1325.83 326.445 L1325.83 321.746 Q1327.91 322.88 1330.14 323.436 Q1332.36 323.991 1334.83 323.991 Q1338.84 323.991 1341.18 321.885 Q1343.51 319.778 1343.51 316.167 Q1343.51 312.556 1341.18 310.45 Q1338.84 308.343 1334.83 308.343 Q1332.96 308.343 1331.08 308.76 Q1329.23 309.176 1327.29 310.056 L1327.29 292.695 Z\" fill=\"#000000\" fill-rule=\"evenodd\" fill-opacity=\"1\" /><path clip-path=\"url(#clip150)\" d=\"M1251.66 192.104 L1259.3 192.104 L1259.3 165.739 L1250.99 167.405 L1250.99 163.146 L1259.26 161.48 L1263.93 161.48 L1263.93 192.104 L1271.57 192.104 L1271.57 196.04 L1251.66 196.04 L1251.66 192.104 Z\" fill=\"#000000\" fill-rule=\"evenodd\" fill-opacity=\"1\" /><path clip-path=\"url(#clip150)\" d=\"M1291.02 164.558 Q1287.4 164.558 1285.58 168.123 Q1283.77 171.665 1283.77 178.794 Q1283.77 185.901 1285.58 189.465 Q1287.4 193.007 1291.02 193.007 Q1294.65 193.007 1296.45 189.465 Q1298.28 185.901 1298.28 178.794 Q1298.28 171.665 1296.45 168.123 Q1294.65 164.558 1291.02 164.558 M1291.02 160.855 Q1296.83 160.855 1299.88 165.461 Q1302.96 170.044 1302.96 178.794 Q1302.96 187.521 1299.88 192.128 Q1296.83 196.711 1291.02 196.711 Q1285.2 196.711 1282.13 192.128 Q1279.07 187.521 1279.07 178.794 Q1279.07 170.044 1282.13 165.461 Q1285.2 160.855 1291.02 160.855 Z\" fill=\"#000000\" fill-rule=\"evenodd\" fill-opacity=\"1\" /><path clip-path=\"url(#clip150)\" d=\"M1311.18 190.16 L1316.06 190.16 L1316.06 196.04 L1311.18 196.04 L1311.18 190.16 Z\" fill=\"#000000\" fill-rule=\"evenodd\" fill-opacity=\"1\" /><path clip-path=\"url(#clip150)\" d=\"M1336.25 164.558 Q1332.64 164.558 1330.81 168.123 Q1329 171.665 1329 178.794 Q1329 185.901 1330.81 189.465 Q1332.64 193.007 1336.25 193.007 Q1339.88 193.007 1341.69 189.465 Q1343.51 185.901 1343.51 178.794 Q1343.51 171.665 1341.69 168.123 Q1339.88 164.558 1336.25 164.558 M1336.25 160.855 Q1342.06 160.855 1345.11 165.461 Q1348.19 170.044 1348.19 178.794 Q1348.19 187.521 1345.11 192.128 Q1342.06 196.711 1336.25 196.711 Q1330.44 196.711 1327.36 192.128 Q1324.3 187.521 1324.3 178.794 Q1324.3 170.044 1327.36 165.461 Q1330.44 160.855 1336.25 160.855 Z\" fill=\"#000000\" fill-rule=\"evenodd\" fill-opacity=\"1\" /><path clip-path=\"url(#clip150)\" d=\"M1252.66 60.8888 L1260.3 60.8888 L1260.3 34.5232 L1251.99 36.1899 L1251.99 31.9306 L1260.25 30.264 L1264.93 30.264 L1264.93 60.8888 L1272.57 60.8888 L1272.57 64.824 L1252.66 64.824 L1252.66 60.8888 Z\" fill=\"#000000\" fill-rule=\"evenodd\" fill-opacity=\"1\" /><path clip-path=\"url(#clip150)\" d=\"M1286.04 60.8888 L1302.36 60.8888 L1302.36 64.824 L1280.41 64.824 L1280.41 60.8888 Q1283.08 58.1342 1287.66 53.5046 Q1292.27 48.8519 1293.45 47.5093 Q1295.69 44.9861 1296.57 43.25 Q1297.47 41.4908 1297.47 39.801 Q1297.47 37.0464 1295.53 35.3103 Q1293.61 33.5742 1290.51 33.5742 Q1288.31 33.5742 1285.85 34.338 Q1283.42 35.1019 1280.64 36.6528 L1280.64 31.9306 Q1283.47 30.7964 1285.92 30.2177 Q1288.38 29.639 1290.41 29.639 Q1295.78 29.639 1298.98 32.3242 Q1302.17 35.0093 1302.17 39.5001 Q1302.17 41.6297 1301.36 43.551 Q1300.58 45.4491 1298.47 48.0417 Q1297.89 48.713 1294.79 51.9305 Q1291.69 55.125 1286.04 60.8888 Z\" fill=\"#000000\" fill-rule=\"evenodd\" fill-opacity=\"1\" /><path clip-path=\"url(#clip150)\" d=\"M1312.17 58.9444 L1317.06 58.9444 L1317.06 64.824 L1312.17 64.824 L1312.17 58.9444 Z\" fill=\"#000000\" fill-rule=\"evenodd\" fill-opacity=\"1\" /><path clip-path=\"url(#clip150)\" d=\"M1327.29 30.264 L1345.64 30.264 L1345.64 34.1992 L1331.57 34.1992 L1331.57 42.6713 Q1332.59 42.3241 1333.61 42.1621 Q1334.63 41.9769 1335.64 41.9769 Q1341.43 41.9769 1344.81 45.1482 Q1348.19 48.3194 1348.19 53.7361 Q1348.19 59.3148 1344.72 62.4166 Q1341.25 65.4953 1334.93 65.4953 Q1332.75 65.4953 1330.48 65.1249 Q1328.24 64.7545 1325.83 64.0138 L1325.83 59.3148 Q1327.91 60.449 1330.14 61.0046 Q1332.36 61.5601 1334.83 61.5601 Q1338.84 61.5601 1341.18 59.4536 Q1343.51 57.3472 1343.51 53.7361 Q1343.51 50.125 1341.18 48.0185 Q1338.84 45.9121 1334.83 45.9121 Q1332.96 45.9121 1331.08 46.3287 Q1329.23 46.7454 1327.29 47.625 L1327.29 30.264 Z\" fill=\"#000000\" fill-rule=\"evenodd\" fill-opacity=\"1\" /><circle clip-path=\"url(#clip153)\" cx=\"1513.57\" cy=\"65.3348\" r=\"14.4\" fill=\"#009af9\" fill-rule=\"evenodd\" fill-opacity=\"1\" stroke=\"#000000\" stroke-opacity=\"1\" stroke-width=\"3.2\"/>\n",
       "<circle clip-path=\"url(#clip153)\" cx=\"2033.86\" cy=\"652.295\" r=\"14.4\" fill=\"#009af9\" fill-rule=\"evenodd\" fill-opacity=\"1\" stroke=\"#000000\" stroke-opacity=\"1\" stroke-width=\"3.2\"/>\n",
       "<circle clip-path=\"url(#clip153)\" cx=\"2246.22\" cy=\"645.925\" r=\"14.4\" fill=\"#009af9\" fill-rule=\"evenodd\" fill-opacity=\"1\" stroke=\"#000000\" stroke-opacity=\"1\" stroke-width=\"3.2\"/>\n",
       "<circle clip-path=\"url(#clip153)\" cx=\"2150.21\" cy=\"507.302\" r=\"14.4\" fill=\"#009af9\" fill-rule=\"evenodd\" fill-opacity=\"1\" stroke=\"#000000\" stroke-opacity=\"1\" stroke-width=\"3.2\"/>\n",
       "<circle clip-path=\"url(#clip153)\" cx=\"2123.54\" cy=\"234.971\" r=\"14.4\" fill=\"#009af9\" fill-rule=\"evenodd\" fill-opacity=\"1\" stroke=\"#000000\" stroke-opacity=\"1\" stroke-width=\"3.2\"/>\n",
       "<circle clip-path=\"url(#clip153)\" cx=\"1503.93\" cy=\"223.428\" r=\"14.4\" fill=\"#009af9\" fill-rule=\"evenodd\" fill-opacity=\"1\" stroke=\"#000000\" stroke-opacity=\"1\" stroke-width=\"3.2\"/>\n",
       "<circle clip-path=\"url(#clip153)\" cx=\"1411.6\" cy=\"265.202\" r=\"14.4\" fill=\"#009af9\" fill-rule=\"evenodd\" fill-opacity=\"1\" stroke=\"#000000\" stroke-opacity=\"1\" stroke-width=\"3.2\"/>\n",
       "<circle clip-path=\"url(#clip153)\" cx=\"1492.73\" cy=\"412.365\" r=\"14.4\" fill=\"#009af9\" fill-rule=\"evenodd\" fill-opacity=\"1\" stroke=\"#000000\" stroke-opacity=\"1\" stroke-width=\"3.2\"/>\n",
       "<circle clip-path=\"url(#clip153)\" cx=\"1852.66\" cy=\"355.173\" r=\"14.4\" fill=\"#009af9\" fill-rule=\"evenodd\" fill-opacity=\"1\" stroke=\"#000000\" stroke-opacity=\"1\" stroke-width=\"3.2\"/>\n",
       "<circle clip-path=\"url(#clip153)\" cx=\"2325.34\" cy=\"668.357\" r=\"14.4\" fill=\"#009af9\" fill-rule=\"evenodd\" fill-opacity=\"1\" stroke=\"#000000\" stroke-opacity=\"1\" stroke-width=\"3.2\"/>\n",
       "<circle clip-path=\"url(#clip153)\" cx=\"1430.3\" cy=\"611.808\" r=\"14.4\" fill=\"#009af9\" fill-rule=\"evenodd\" fill-opacity=\"1\" stroke=\"#000000\" stroke-opacity=\"1\" stroke-width=\"3.2\"/>\n",
       "<path clip-path=\"url(#clip150)\" d=\"\n",
       "M2171.18 172.231 L2320.47 172.231 L2320.47 68.5509 L2171.18 68.5509  Z\n",
       "  \" fill=\"#ffffff\" fill-rule=\"evenodd\" fill-opacity=\"1\"/>\n",
       "<polyline clip-path=\"url(#clip150)\" style=\"stroke:#000000; stroke-linecap:round; stroke-linejoin:round; stroke-width:4; stroke-opacity:1; fill:none\" points=\"\n",
       "  2171.18,172.231 2320.47,172.231 2320.47,68.5509 2171.18,68.5509 2171.18,172.231 \n",
       "  \"/>\n",
       "<circle clip-path=\"url(#clip150)\" cx=\"2214.23\" cy=\"120.391\" r=\"23.04\" fill=\"#009af9\" fill-rule=\"evenodd\" fill-opacity=\"1\" stroke=\"#000000\" stroke-opacity=\"1\" stroke-width=\"5.12\"/>\n",
       "<path clip-path=\"url(#clip150)\" d=\"M2271.12 140.078 Q2269.32 144.708 2267.6 146.12 Q2265.89 147.532 2263.02 147.532 L2259.62 147.532 L2259.62 143.967 L2262.12 143.967 Q2263.88 143.967 2264.85 143.134 Q2265.82 142.3 2267 139.199 L2267.76 137.254 L2257.28 111.745 L2261.79 111.745 L2269.89 132.023 L2278 111.745 L2282.51 111.745 L2271.12 140.078 Z\" fill=\"#000000\" fill-rule=\"evenodd\" fill-opacity=\"1\" /><path clip-path=\"url(#clip150)\" d=\"M2289.8 133.736 L2297.44 133.736 L2297.44 107.37 L2289.13 109.037 L2289.13 104.778 L2297.39 103.111 L2302.07 103.111 L2302.07 133.736 L2309.71 133.736 L2309.71 137.671 L2289.8 137.671 L2289.8 133.736 Z\" fill=\"#000000\" fill-rule=\"evenodd\" fill-opacity=\"1\" /><path clip-path=\"url(#clip150)\" d=\"\n",
       "M184.191 1486.45 L1152.76 1486.45 L1152.76 847.244 L184.191 847.244  Z\n",
       "  \" fill=\"#ffffff\" fill-rule=\"evenodd\" fill-opacity=\"1\"/>\n",
       "<defs>\n",
       "  <clipPath id=\"clip154\">\n",
       "    <rect x=\"184\" y=\"847\" width=\"970\" height=\"640\"/>\n",
       "  </clipPath>\n",
       "</defs>\n",
       "<polyline clip-path=\"url(#clip154)\" style=\"stroke:#000000; stroke-linecap:round; stroke-linejoin:round; stroke-width:2; stroke-opacity:0.1; fill:none\" points=\"\n",
       "  271.742,1486.45 271.742,847.244 \n",
       "  \"/>\n",
       "<polyline clip-path=\"url(#clip154)\" style=\"stroke:#000000; stroke-linecap:round; stroke-linejoin:round; stroke-width:2; stroke-opacity:0.1; fill:none\" points=\"\n",
       "  450.935,1486.45 450.935,847.244 \n",
       "  \"/>\n",
       "<polyline clip-path=\"url(#clip154)\" style=\"stroke:#000000; stroke-linecap:round; stroke-linejoin:round; stroke-width:2; stroke-opacity:0.1; fill:none\" points=\"\n",
       "  630.128,1486.45 630.128,847.244 \n",
       "  \"/>\n",
       "<polyline clip-path=\"url(#clip154)\" style=\"stroke:#000000; stroke-linecap:round; stroke-linejoin:round; stroke-width:2; stroke-opacity:0.1; fill:none\" points=\"\n",
       "  809.321,1486.45 809.321,847.244 \n",
       "  \"/>\n",
       "<polyline clip-path=\"url(#clip154)\" style=\"stroke:#000000; stroke-linecap:round; stroke-linejoin:round; stroke-width:2; stroke-opacity:0.1; fill:none\" points=\"\n",
       "  988.514,1486.45 988.514,847.244 \n",
       "  \"/>\n",
       "<polyline clip-path=\"url(#clip150)\" style=\"stroke:#000000; stroke-linecap:round; stroke-linejoin:round; stroke-width:4; stroke-opacity:1; fill:none\" points=\"\n",
       "  184.191,1486.45 1152.76,1486.45 \n",
       "  \"/>\n",
       "<polyline clip-path=\"url(#clip150)\" style=\"stroke:#000000; stroke-linecap:round; stroke-linejoin:round; stroke-width:4; stroke-opacity:1; fill:none\" points=\"\n",
       "  271.742,1486.45 271.742,1467.55 \n",
       "  \"/>\n",
       "<polyline clip-path=\"url(#clip150)\" style=\"stroke:#000000; stroke-linecap:round; stroke-linejoin:round; stroke-width:4; stroke-opacity:1; fill:none\" points=\"\n",
       "  450.935,1486.45 450.935,1467.55 \n",
       "  \"/>\n",
       "<polyline clip-path=\"url(#clip150)\" style=\"stroke:#000000; stroke-linecap:round; stroke-linejoin:round; stroke-width:4; stroke-opacity:1; fill:none\" points=\"\n",
       "  630.128,1486.45 630.128,1467.55 \n",
       "  \"/>\n",
       "<polyline clip-path=\"url(#clip150)\" style=\"stroke:#000000; stroke-linecap:round; stroke-linejoin:round; stroke-width:4; stroke-opacity:1; fill:none\" points=\"\n",
       "  809.321,1486.45 809.321,1467.55 \n",
       "  \"/>\n",
       "<polyline clip-path=\"url(#clip150)\" style=\"stroke:#000000; stroke-linecap:round; stroke-linejoin:round; stroke-width:4; stroke-opacity:1; fill:none\" points=\"\n",
       "  988.514,1486.45 988.514,1467.55 \n",
       "  \"/>\n",
       "<path clip-path=\"url(#clip150)\" d=\"M274.751 1518.36 L262.946 1536.81 L274.751 1536.81 L274.751 1518.36 M273.525 1514.29 L279.404 1514.29 L279.404 1536.81 L284.335 1536.81 L284.335 1540.7 L279.404 1540.7 L279.404 1548.85 L274.751 1548.85 L274.751 1540.7 L259.15 1540.7 L259.15 1536.19 L273.525 1514.29 Z\" fill=\"#000000\" fill-rule=\"evenodd\" fill-opacity=\"1\" /><path clip-path=\"url(#clip150)\" d=\"M451.34 1529.7 Q448.192 1529.7 446.34 1531.86 Q444.511 1534.01 444.511 1537.76 Q444.511 1541.49 446.34 1543.66 Q448.192 1545.82 451.34 1545.82 Q454.488 1545.82 456.317 1543.66 Q458.169 1541.49 458.169 1537.76 Q458.169 1534.01 456.317 1531.86 Q454.488 1529.7 451.34 1529.7 M460.622 1515.05 L460.622 1519.31 Q458.863 1518.48 457.058 1518.04 Q455.275 1517.6 453.516 1517.6 Q448.886 1517.6 446.433 1520.72 Q444.002 1523.85 443.655 1530.17 Q445.021 1528.15 447.081 1527.09 Q449.141 1526 451.618 1526 Q456.826 1526 459.835 1529.17 Q462.868 1532.32 462.868 1537.76 Q462.868 1543.08 459.72 1546.3 Q456.572 1549.52 451.34 1549.52 Q445.345 1549.52 442.174 1544.94 Q439.002 1540.33 439.002 1531.6 Q439.002 1523.41 442.891 1518.55 Q446.78 1513.66 453.331 1513.66 Q455.09 1513.66 456.872 1514.01 Q458.678 1514.36 460.622 1515.05 Z\" fill=\"#000000\" fill-rule=\"evenodd\" fill-opacity=\"1\" /><path clip-path=\"url(#clip150)\" d=\"M630.128 1532.44 Q626.795 1532.44 624.873 1534.22 Q622.975 1536 622.975 1539.13 Q622.975 1542.25 624.873 1544.03 Q626.795 1545.82 630.128 1545.82 Q633.461 1545.82 635.382 1544.03 Q637.304 1542.23 637.304 1539.13 Q637.304 1536 635.382 1534.22 Q633.484 1532.44 630.128 1532.44 M625.452 1530.45 Q622.443 1529.7 620.753 1527.64 Q619.086 1525.58 619.086 1522.62 Q619.086 1518.48 622.026 1516.07 Q624.989 1513.66 630.128 1513.66 Q635.29 1513.66 638.23 1516.07 Q641.169 1518.48 641.169 1522.62 Q641.169 1525.58 639.48 1527.64 Q637.813 1529.7 634.827 1530.45 Q638.207 1531.23 640.082 1533.52 Q641.98 1535.82 641.98 1539.13 Q641.98 1544.15 638.901 1546.83 Q635.845 1549.52 630.128 1549.52 Q624.41 1549.52 621.332 1546.83 Q618.276 1544.15 618.276 1539.13 Q618.276 1535.82 620.174 1533.52 Q622.072 1531.23 625.452 1530.45 M623.739 1523.06 Q623.739 1525.75 625.406 1527.25 Q627.095 1528.76 630.128 1528.76 Q633.137 1528.76 634.827 1527.25 Q636.54 1525.75 636.54 1523.06 Q636.54 1520.38 634.827 1518.87 Q633.137 1517.37 630.128 1517.37 Q627.095 1517.37 625.406 1518.87 Q623.739 1520.38 623.739 1523.06 Z\" fill=\"#000000\" fill-rule=\"evenodd\" fill-opacity=\"1\" /><path clip-path=\"url(#clip150)\" d=\"M784.008 1544.91 L791.647 1544.91 L791.647 1518.55 L783.337 1520.21 L783.337 1515.95 L791.601 1514.29 L796.277 1514.29 L796.277 1544.91 L803.916 1544.91 L803.916 1548.85 L784.008 1548.85 L784.008 1544.91 Z\" fill=\"#000000\" fill-rule=\"evenodd\" fill-opacity=\"1\" /><path clip-path=\"url(#clip150)\" d=\"M823.36 1517.37 Q819.749 1517.37 817.92 1520.93 Q816.115 1524.47 816.115 1531.6 Q816.115 1538.71 817.92 1542.27 Q819.749 1545.82 823.36 1545.82 Q826.994 1545.82 828.8 1542.27 Q830.628 1538.71 830.628 1531.6 Q830.628 1524.47 828.8 1520.93 Q826.994 1517.37 823.36 1517.37 M823.36 1513.66 Q829.17 1513.66 832.226 1518.27 Q835.304 1522.85 835.304 1531.6 Q835.304 1540.33 832.226 1544.94 Q829.17 1549.52 823.36 1549.52 Q817.55 1549.52 814.471 1544.94 Q811.416 1540.33 811.416 1531.6 Q811.416 1522.85 814.471 1518.27 Q817.55 1513.66 823.36 1513.66 Z\" fill=\"#000000\" fill-rule=\"evenodd\" fill-opacity=\"1\" /><path clip-path=\"url(#clip150)\" d=\"M964 1544.91 L971.639 1544.91 L971.639 1518.55 L963.328 1520.21 L963.328 1515.95 L971.592 1514.29 L976.268 1514.29 L976.268 1544.91 L983.907 1544.91 L983.907 1548.85 L964 1548.85 L964 1544.91 Z\" fill=\"#000000\" fill-rule=\"evenodd\" fill-opacity=\"1\" /><path clip-path=\"url(#clip150)\" d=\"M997.379 1544.91 L1013.7 1544.91 L1013.7 1548.85 L991.754 1548.85 L991.754 1544.91 Q994.416 1542.16 999 1537.53 Q1003.61 1532.88 1004.79 1531.53 Q1007.03 1529.01 1007.91 1527.27 Q1008.81 1525.51 1008.81 1523.82 Q1008.81 1521.07 1006.87 1519.33 Q1004.95 1517.6 1001.85 1517.6 Q999.648 1517.6 997.194 1518.36 Q994.763 1519.13 991.986 1520.68 L991.986 1515.95 Q994.81 1514.82 997.263 1514.24 Q999.717 1513.66 1001.75 1513.66 Q1007.12 1513.66 1010.32 1516.35 Q1013.51 1519.03 1013.51 1523.52 Q1013.51 1525.65 1012.7 1527.57 Q1011.92 1529.47 1009.81 1532.07 Q1009.23 1532.74 1006.13 1535.95 Q1003.03 1539.15 997.379 1544.91 Z\" fill=\"#000000\" fill-rule=\"evenodd\" fill-opacity=\"1\" /><polyline clip-path=\"url(#clip154)\" style=\"stroke:#000000; stroke-linecap:round; stroke-linejoin:round; stroke-width:2; stroke-opacity:0.1; fill:none\" points=\"\n",
       "  184.191,1382.66 1152.76,1382.66 \n",
       "  \"/>\n",
       "<polyline clip-path=\"url(#clip154)\" style=\"stroke:#000000; stroke-linecap:round; stroke-linejoin:round; stroke-width:2; stroke-opacity:0.1; fill:none\" points=\"\n",
       "  184.191,1242.36 1152.76,1242.36 \n",
       "  \"/>\n",
       "<polyline clip-path=\"url(#clip154)\" style=\"stroke:#000000; stroke-linecap:round; stroke-linejoin:round; stroke-width:2; stroke-opacity:0.1; fill:none\" points=\"\n",
       "  184.191,1102.07 1152.76,1102.07 \n",
       "  \"/>\n",
       "<polyline clip-path=\"url(#clip154)\" style=\"stroke:#000000; stroke-linecap:round; stroke-linejoin:round; stroke-width:2; stroke-opacity:0.1; fill:none\" points=\"\n",
       "  184.191,961.775 1152.76,961.775 \n",
       "  \"/>\n",
       "<polyline clip-path=\"url(#clip150)\" style=\"stroke:#000000; stroke-linecap:round; stroke-linejoin:round; stroke-width:4; stroke-opacity:1; fill:none\" points=\"\n",
       "  184.191,1486.45 184.191,847.244 \n",
       "  \"/>\n",
       "<polyline clip-path=\"url(#clip150)\" style=\"stroke:#000000; stroke-linecap:round; stroke-linejoin:round; stroke-width:4; stroke-opacity:1; fill:none\" points=\"\n",
       "  184.191,1382.66 203.088,1382.66 \n",
       "  \"/>\n",
       "<polyline clip-path=\"url(#clip150)\" style=\"stroke:#000000; stroke-linecap:round; stroke-linejoin:round; stroke-width:4; stroke-opacity:1; fill:none\" points=\"\n",
       "  184.191,1242.36 203.088,1242.36 \n",
       "  \"/>\n",
       "<polyline clip-path=\"url(#clip150)\" style=\"stroke:#000000; stroke-linecap:round; stroke-linejoin:round; stroke-width:4; stroke-opacity:1; fill:none\" points=\"\n",
       "  184.191,1102.07 203.088,1102.07 \n",
       "  \"/>\n",
       "<polyline clip-path=\"url(#clip150)\" style=\"stroke:#000000; stroke-linecap:round; stroke-linejoin:round; stroke-width:4; stroke-opacity:1; fill:none\" points=\"\n",
       "  184.191,961.775 203.088,961.775 \n",
       "  \"/>\n",
       "<path clip-path=\"url(#clip150)\" d=\"M86.0382 1396 L102.358 1396 L102.358 1399.94 L80.4133 1399.94 L80.4133 1396 Q83.0753 1393.25 87.6586 1388.62 Q92.2651 1383.96 93.4456 1382.62 Q95.691 1380.1 96.5706 1378.36 Q97.4734 1376.6 97.4734 1374.91 Q97.4734 1372.16 95.5289 1370.42 Q93.6076 1368.69 90.5058 1368.69 Q88.3067 1368.69 85.8531 1369.45 Q83.4225 1370.21 80.6447 1371.76 L80.6447 1367.04 Q83.4688 1365.91 85.9225 1365.33 Q88.3762 1364.75 90.4132 1364.75 Q95.7836 1364.75 98.978 1367.44 Q102.172 1370.12 102.172 1374.61 Q102.172 1376.74 101.362 1378.66 Q100.575 1380.56 98.4687 1383.15 Q97.89 1383.82 94.7882 1387.04 Q91.6864 1390.24 86.0382 1396 Z\" fill=\"#000000\" fill-rule=\"evenodd\" fill-opacity=\"1\" /><path clip-path=\"url(#clip150)\" d=\"M112.172 1394.06 L117.057 1394.06 L117.057 1399.94 L112.172 1399.94 L112.172 1394.06 Z\" fill=\"#000000\" fill-rule=\"evenodd\" fill-opacity=\"1\" /><path clip-path=\"url(#clip150)\" d=\"M127.288 1365.38 L145.644 1365.38 L145.644 1369.31 L131.57 1369.31 L131.57 1377.78 Q132.589 1377.44 133.607 1377.27 Q134.626 1377.09 135.644 1377.09 Q141.431 1377.09 144.811 1380.26 Q148.191 1383.43 148.191 1388.85 Q148.191 1394.43 144.718 1397.53 Q141.246 1400.61 134.927 1400.61 Q132.751 1400.61 130.482 1400.24 Q128.237 1399.87 125.83 1399.13 L125.83 1394.43 Q127.913 1395.56 130.135 1396.12 Q132.357 1396.67 134.834 1396.67 Q138.839 1396.67 141.177 1394.57 Q143.515 1392.46 143.515 1388.85 Q143.515 1385.24 141.177 1383.13 Q138.839 1381.02 134.834 1381.02 Q132.959 1381.02 131.084 1381.44 Q129.232 1381.86 127.288 1382.74 L127.288 1365.38 Z\" fill=\"#000000\" fill-rule=\"evenodd\" fill-opacity=\"1\" /><path clip-path=\"url(#clip150)\" d=\"M81.0614 1225.08 L99.4178 1225.08 L99.4178 1229.02 L85.3438 1229.02 L85.3438 1237.49 Q86.3623 1237.14 87.3808 1236.98 Q88.3993 1236.8 89.4178 1236.8 Q95.2049 1236.8 98.5845 1239.97 Q101.964 1243.14 101.964 1248.55 Q101.964 1254.13 98.4919 1257.23 Q95.0197 1260.31 88.7003 1260.31 Q86.5243 1260.31 84.2558 1259.94 Q82.0105 1259.57 79.6031 1258.83 L79.6031 1254.13 Q81.6864 1255.27 83.9086 1255.82 Q86.1308 1256.38 88.6077 1256.38 Q92.6123 1256.38 94.9502 1254.27 Q97.2882 1252.17 97.2882 1248.55 Q97.2882 1244.94 94.9502 1242.84 Q92.6123 1240.73 88.6077 1240.73 Q86.7327 1240.73 84.8577 1241.15 Q83.0058 1241.56 81.0614 1242.44 L81.0614 1225.08 Z\" fill=\"#000000\" fill-rule=\"evenodd\" fill-opacity=\"1\" /><path clip-path=\"url(#clip150)\" d=\"M111.177 1253.76 L116.061 1253.76 L116.061 1259.64 L111.177 1259.64 L111.177 1253.76 Z\" fill=\"#000000\" fill-rule=\"evenodd\" fill-opacity=\"1\" /><path clip-path=\"url(#clip150)\" d=\"M136.246 1228.16 Q132.635 1228.16 130.807 1231.73 Q129.001 1235.27 129.001 1242.4 Q129.001 1249.5 130.807 1253.07 Q132.635 1256.61 136.246 1256.61 Q139.881 1256.61 141.686 1253.07 Q143.515 1249.5 143.515 1242.4 Q143.515 1235.27 141.686 1231.73 Q139.881 1228.16 136.246 1228.16 M136.246 1224.46 Q142.056 1224.46 145.112 1229.06 Q148.191 1233.65 148.191 1242.4 Q148.191 1251.12 145.112 1255.73 Q142.056 1260.31 136.246 1260.31 Q130.436 1260.31 127.357 1255.73 Q124.302 1251.12 124.302 1242.4 Q124.302 1233.65 127.357 1229.06 Q130.436 1224.46 136.246 1224.46 Z\" fill=\"#000000\" fill-rule=\"evenodd\" fill-opacity=\"1\" /><path clip-path=\"url(#clip150)\" d=\"M80.8299 1084.79 L103.052 1084.79 L103.052 1086.78 L90.5058 1119.35 L85.6216 1119.35 L97.4271 1088.72 L80.8299 1088.72 L80.8299 1084.79 Z\" fill=\"#000000\" fill-rule=\"evenodd\" fill-opacity=\"1\" /><path clip-path=\"url(#clip150)\" d=\"M112.172 1113.47 L117.057 1113.47 L117.057 1119.35 L112.172 1119.35 L112.172 1113.47 Z\" fill=\"#000000\" fill-rule=\"evenodd\" fill-opacity=\"1\" /><path clip-path=\"url(#clip150)\" d=\"M127.288 1084.79 L145.644 1084.79 L145.644 1088.72 L131.57 1088.72 L131.57 1097.2 Q132.589 1096.85 133.607 1096.69 Q134.626 1096.5 135.644 1096.5 Q141.431 1096.5 144.811 1099.67 Q148.191 1102.84 148.191 1108.26 Q148.191 1113.84 144.718 1116.94 Q141.246 1120.02 134.927 1120.02 Q132.751 1120.02 130.482 1119.65 Q128.237 1119.28 125.83 1118.54 L125.83 1113.84 Q127.913 1114.97 130.135 1115.53 Q132.357 1116.08 134.834 1116.08 Q138.839 1116.08 141.177 1113.98 Q143.515 1111.87 143.515 1108.26 Q143.515 1104.65 141.177 1102.54 Q138.839 1100.44 134.834 1100.44 Q132.959 1100.44 131.084 1100.85 Q129.232 1101.27 127.288 1102.15 L127.288 1084.79 Z\" fill=\"#000000\" fill-rule=\"evenodd\" fill-opacity=\"1\" /><path clip-path=\"url(#clip150)\" d=\"M51.6634 975.12 L59.3023 975.12 L59.3023 948.754 L50.9921 950.421 L50.9921 946.161 L59.256 944.495 L63.9319 944.495 L63.9319 975.12 L71.5707 975.12 L71.5707 979.055 L51.6634 979.055 L51.6634 975.12 Z\" fill=\"#000000\" fill-rule=\"evenodd\" fill-opacity=\"1\" /><path clip-path=\"url(#clip150)\" d=\"M91.0151 947.573 Q87.404 947.573 85.5753 951.138 Q83.7697 954.68 83.7697 961.809 Q83.7697 968.916 85.5753 972.481 Q87.404 976.022 91.0151 976.022 Q94.6493 976.022 96.4548 972.481 Q98.2835 968.916 98.2835 961.809 Q98.2835 954.68 96.4548 951.138 Q94.6493 947.573 91.0151 947.573 M91.0151 943.87 Q96.8252 943.87 99.8808 948.476 Q102.959 953.059 102.959 961.809 Q102.959 970.536 99.8808 975.143 Q96.8252 979.726 91.0151 979.726 Q85.2049 979.726 82.1262 975.143 Q79.0707 970.536 79.0707 961.809 Q79.0707 953.059 82.1262 948.476 Q85.2049 943.87 91.0151 943.87 Z\" fill=\"#000000\" fill-rule=\"evenodd\" fill-opacity=\"1\" /><path clip-path=\"url(#clip150)\" d=\"M111.177 973.175 L116.061 973.175 L116.061 979.055 L111.177 979.055 L111.177 973.175 Z\" fill=\"#000000\" fill-rule=\"evenodd\" fill-opacity=\"1\" /><path clip-path=\"url(#clip150)\" d=\"M136.246 947.573 Q132.635 947.573 130.807 951.138 Q129.001 954.68 129.001 961.809 Q129.001 968.916 130.807 972.481 Q132.635 976.022 136.246 976.022 Q139.881 976.022 141.686 972.481 Q143.515 968.916 143.515 961.809 Q143.515 954.68 141.686 951.138 Q139.881 947.573 136.246 947.573 M136.246 943.87 Q142.056 943.87 145.112 948.476 Q148.191 953.059 148.191 961.809 Q148.191 970.536 145.112 975.143 Q142.056 979.726 136.246 979.726 Q130.436 979.726 127.357 975.143 Q124.302 970.536 124.302 961.809 Q124.302 953.059 127.357 948.476 Q130.436 943.87 136.246 943.87 Z\" fill=\"#000000\" fill-rule=\"evenodd\" fill-opacity=\"1\" /><circle clip-path=\"url(#clip154)\" cx=\"745.751\" cy=\"1429.06\" r=\"14.4\" fill=\"#009af9\" fill-rule=\"evenodd\" fill-opacity=\"1\" stroke=\"#000000\" stroke-opacity=\"1\" stroke-width=\"3.2\"/>\n",
       "<circle clip-path=\"url(#clip154)\" cx=\"1125.34\" cy=\"1437.32\" r=\"14.4\" fill=\"#009af9\" fill-rule=\"evenodd\" fill-opacity=\"1\" stroke=\"#000000\" stroke-opacity=\"1\" stroke-width=\"3.2\"/>\n",
       "<circle clip-path=\"url(#clip154)\" cx=\"378.664\" cy=\"1031.27\" r=\"14.4\" fill=\"#009af9\" fill-rule=\"evenodd\" fill-opacity=\"1\" stroke=\"#000000\" stroke-opacity=\"1\" stroke-width=\"3.2\"/>\n",
       "<circle clip-path=\"url(#clip154)\" cx=\"884.121\" cy=\"976.45\" r=\"14.4\" fill=\"#009af9\" fill-rule=\"evenodd\" fill-opacity=\"1\" stroke=\"#000000\" stroke-opacity=\"1\" stroke-width=\"3.2\"/>\n",
       "<circle clip-path=\"url(#clip154)\" cx=\"981.05\" cy=\"1346.54\" r=\"14.4\" fill=\"#009af9\" fill-rule=\"evenodd\" fill-opacity=\"1\" stroke=\"#000000\" stroke-opacity=\"1\" stroke-width=\"3.2\"/>\n",
       "<circle clip-path=\"url(#clip154)\" cx=\"767.64\" cy=\"1468.36\" r=\"14.4\" fill=\"#009af9\" fill-rule=\"evenodd\" fill-opacity=\"1\" stroke=\"#000000\" stroke-opacity=\"1\" stroke-width=\"3.2\"/>\n",
       "<circle clip-path=\"url(#clip154)\" cx=\"1045.17\" cy=\"1115.47\" r=\"14.4\" fill=\"#009af9\" fill-rule=\"evenodd\" fill-opacity=\"1\" stroke=\"#000000\" stroke-opacity=\"1\" stroke-width=\"3.2\"/>\n",
       "<circle clip-path=\"url(#clip154)\" cx=\"919.247\" cy=\"984.217\" r=\"14.4\" fill=\"#009af9\" fill-rule=\"evenodd\" fill-opacity=\"1\" stroke=\"#000000\" stroke-opacity=\"1\" stroke-width=\"3.2\"/>\n",
       "<circle clip-path=\"url(#clip154)\" cx=\"1054.25\" cy=\"865.335\" r=\"14.4\" fill=\"#009af9\" fill-rule=\"evenodd\" fill-opacity=\"1\" stroke=\"#000000\" stroke-opacity=\"1\" stroke-width=\"3.2\"/>\n",
       "<circle clip-path=\"url(#clip154)\" cx=\"260.771\" cy=\"1211.02\" r=\"14.4\" fill=\"#009af9\" fill-rule=\"evenodd\" fill-opacity=\"1\" stroke=\"#000000\" stroke-opacity=\"1\" stroke-width=\"3.2\"/>\n",
       "<circle clip-path=\"url(#clip154)\" cx=\"211.603\" cy=\"987.085\" r=\"14.4\" fill=\"#009af9\" fill-rule=\"evenodd\" fill-opacity=\"1\" stroke=\"#000000\" stroke-opacity=\"1\" stroke-width=\"3.2\"/>\n",
       "<path clip-path=\"url(#clip150)\" d=\"\n",
       "M216.476 1465.14 L365.763 1465.14 L365.763 1361.46 L216.476 1361.46  Z\n",
       "  \" fill=\"#ffffff\" fill-rule=\"evenodd\" fill-opacity=\"1\"/>\n",
       "<polyline clip-path=\"url(#clip150)\" style=\"stroke:#000000; stroke-linecap:round; stroke-linejoin:round; stroke-width:4; stroke-opacity:1; fill:none\" points=\"\n",
       "  216.476,1465.14 365.763,1465.14 365.763,1361.46 216.476,1361.46 216.476,1465.14 \n",
       "  \"/>\n",
       "<circle clip-path=\"url(#clip150)\" cx=\"259.524\" cy=\"1413.3\" r=\"23.04\" fill=\"#009af9\" fill-rule=\"evenodd\" fill-opacity=\"1\" stroke=\"#000000\" stroke-opacity=\"1\" stroke-width=\"5.12\"/>\n",
       "<path clip-path=\"url(#clip150)\" d=\"M316.413 1432.99 Q314.608 1437.62 312.895 1439.03 Q311.182 1440.44 308.312 1440.44 L304.909 1440.44 L304.909 1436.88 L307.409 1436.88 Q309.168 1436.88 310.14 1436.04 Q311.112 1435.21 312.293 1432.11 L313.057 1430.16 L302.571 1404.66 L307.085 1404.66 L315.187 1424.93 L323.288 1404.66 L327.802 1404.66 L316.413 1432.99 Z\" fill=\"#000000\" fill-rule=\"evenodd\" fill-opacity=\"1\" /><path clip-path=\"url(#clip150)\" d=\"M335.094 1426.65 L342.733 1426.65 L342.733 1400.28 L334.423 1401.95 L334.423 1397.69 L342.686 1396.02 L347.362 1396.02 L347.362 1426.65 L355.001 1426.65 L355.001 1430.58 L335.094 1430.58 L335.094 1426.65 Z\" fill=\"#000000\" fill-rule=\"evenodd\" fill-opacity=\"1\" /><path clip-path=\"url(#clip150)\" d=\"\n",
       "M1384.19 1486.45 L2352.76 1486.45 L2352.76 847.244 L1384.19 847.244  Z\n",
       "  \" fill=\"#ffffff\" fill-rule=\"evenodd\" fill-opacity=\"1\"/>\n",
       "<defs>\n",
       "  <clipPath id=\"clip155\">\n",
       "    <rect x=\"1384\" y=\"847\" width=\"970\" height=\"640\"/>\n",
       "  </clipPath>\n",
       "</defs>\n",
       "<polyline clip-path=\"url(#clip155)\" style=\"stroke:#000000; stroke-linecap:round; stroke-linejoin:round; stroke-width:2; stroke-opacity:0.1; fill:none\" points=\"\n",
       "  1529.66,1486.45 1529.66,847.244 \n",
       "  \"/>\n",
       "<polyline clip-path=\"url(#clip155)\" style=\"stroke:#000000; stroke-linecap:round; stroke-linejoin:round; stroke-width:2; stroke-opacity:0.1; fill:none\" points=\"\n",
       "  1705.65,1486.45 1705.65,847.244 \n",
       "  \"/>\n",
       "<polyline clip-path=\"url(#clip155)\" style=\"stroke:#000000; stroke-linecap:round; stroke-linejoin:round; stroke-width:2; stroke-opacity:0.1; fill:none\" points=\"\n",
       "  1881.63,1486.45 1881.63,847.244 \n",
       "  \"/>\n",
       "<polyline clip-path=\"url(#clip155)\" style=\"stroke:#000000; stroke-linecap:round; stroke-linejoin:round; stroke-width:2; stroke-opacity:0.1; fill:none\" points=\"\n",
       "  2057.62,1486.45 2057.62,847.244 \n",
       "  \"/>\n",
       "<polyline clip-path=\"url(#clip155)\" style=\"stroke:#000000; stroke-linecap:round; stroke-linejoin:round; stroke-width:2; stroke-opacity:0.1; fill:none\" points=\"\n",
       "  2233.61,1486.45 2233.61,847.244 \n",
       "  \"/>\n",
       "<polyline clip-path=\"url(#clip150)\" style=\"stroke:#000000; stroke-linecap:round; stroke-linejoin:round; stroke-width:4; stroke-opacity:1; fill:none\" points=\"\n",
       "  1384.19,1486.45 2352.76,1486.45 \n",
       "  \"/>\n",
       "<polyline clip-path=\"url(#clip150)\" style=\"stroke:#000000; stroke-linecap:round; stroke-linejoin:round; stroke-width:4; stroke-opacity:1; fill:none\" points=\"\n",
       "  1529.66,1486.45 1529.66,1467.55 \n",
       "  \"/>\n",
       "<polyline clip-path=\"url(#clip150)\" style=\"stroke:#000000; stroke-linecap:round; stroke-linejoin:round; stroke-width:4; stroke-opacity:1; fill:none\" points=\"\n",
       "  1705.65,1486.45 1705.65,1467.55 \n",
       "  \"/>\n",
       "<polyline clip-path=\"url(#clip150)\" style=\"stroke:#000000; stroke-linecap:round; stroke-linejoin:round; stroke-width:4; stroke-opacity:1; fill:none\" points=\"\n",
       "  1881.63,1486.45 1881.63,1467.55 \n",
       "  \"/>\n",
       "<polyline clip-path=\"url(#clip150)\" style=\"stroke:#000000; stroke-linecap:round; stroke-linejoin:round; stroke-width:4; stroke-opacity:1; fill:none\" points=\"\n",
       "  2057.62,1486.45 2057.62,1467.55 \n",
       "  \"/>\n",
       "<polyline clip-path=\"url(#clip150)\" style=\"stroke:#000000; stroke-linecap:round; stroke-linejoin:round; stroke-width:4; stroke-opacity:1; fill:none\" points=\"\n",
       "  2233.61,1486.45 2233.61,1467.55 \n",
       "  \"/>\n",
       "<path clip-path=\"url(#clip150)\" d=\"M1501.39 1544.91 L1517.71 1544.91 L1517.71 1548.85 L1495.77 1548.85 L1495.77 1544.91 Q1498.43 1542.16 1503.01 1537.53 Q1507.62 1532.88 1508.8 1531.53 Q1511.05 1529.01 1511.93 1527.27 Q1512.83 1525.51 1512.83 1523.82 Q1512.83 1521.07 1510.88 1519.33 Q1508.96 1517.6 1505.86 1517.6 Q1503.66 1517.6 1501.21 1518.36 Q1498.78 1519.13 1496 1520.68 L1496 1515.95 Q1498.82 1514.82 1501.28 1514.24 Q1503.73 1513.66 1505.77 1513.66 Q1511.14 1513.66 1514.33 1516.35 Q1517.53 1519.03 1517.53 1523.52 Q1517.53 1525.65 1516.72 1527.57 Q1515.93 1529.47 1513.82 1532.07 Q1513.25 1532.74 1510.14 1535.95 Q1507.04 1539.15 1501.39 1544.91 Z\" fill=\"#000000\" fill-rule=\"evenodd\" fill-opacity=\"1\" /><path clip-path=\"url(#clip150)\" d=\"M1527.53 1542.97 L1532.41 1542.97 L1532.41 1548.85 L1527.53 1548.85 L1527.53 1542.97 Z\" fill=\"#000000\" fill-rule=\"evenodd\" fill-opacity=\"1\" /><path clip-path=\"url(#clip150)\" d=\"M1542.64 1514.29 L1561 1514.29 L1561 1518.22 L1546.93 1518.22 L1546.93 1526.7 Q1547.94 1526.35 1548.96 1526.19 Q1549.98 1526 1551 1526 Q1556.79 1526 1560.17 1529.17 Q1563.55 1532.34 1563.55 1537.76 Q1563.55 1543.34 1560.07 1546.44 Q1556.6 1549.52 1550.28 1549.52 Q1548.11 1549.52 1545.84 1549.15 Q1543.59 1548.78 1541.18 1548.04 L1541.18 1543.34 Q1543.27 1544.47 1545.49 1545.03 Q1547.71 1545.58 1550.19 1545.58 Q1554.19 1545.58 1556.53 1543.48 Q1558.87 1541.37 1558.87 1537.76 Q1558.87 1534.15 1556.53 1532.04 Q1554.19 1529.94 1550.19 1529.94 Q1548.31 1529.94 1546.44 1530.35 Q1544.59 1530.77 1542.64 1531.65 L1542.64 1514.29 Z\" fill=\"#000000\" fill-rule=\"evenodd\" fill-opacity=\"1\" /><path clip-path=\"url(#clip150)\" d=\"M1672.81 1514.29 L1691.17 1514.29 L1691.17 1518.22 L1677.09 1518.22 L1677.09 1526.7 Q1678.11 1526.35 1679.13 1526.19 Q1680.15 1526 1681.17 1526 Q1686.95 1526 1690.33 1529.17 Q1693.71 1532.34 1693.71 1537.76 Q1693.71 1543.34 1690.24 1546.44 Q1686.77 1549.52 1680.45 1549.52 Q1678.27 1549.52 1676 1549.15 Q1673.76 1548.78 1671.35 1548.04 L1671.35 1543.34 Q1673.43 1544.47 1675.66 1545.03 Q1677.88 1545.58 1680.36 1545.58 Q1684.36 1545.58 1686.7 1543.48 Q1689.04 1541.37 1689.04 1537.76 Q1689.04 1534.15 1686.7 1532.04 Q1684.36 1529.94 1680.36 1529.94 Q1678.48 1529.94 1676.61 1530.35 Q1674.75 1530.77 1672.81 1531.65 L1672.81 1514.29 Z\" fill=\"#000000\" fill-rule=\"evenodd\" fill-opacity=\"1\" /><path clip-path=\"url(#clip150)\" d=\"M1702.93 1542.97 L1707.81 1542.97 L1707.81 1548.85 L1702.93 1548.85 L1702.93 1542.97 Z\" fill=\"#000000\" fill-rule=\"evenodd\" fill-opacity=\"1\" /><path clip-path=\"url(#clip150)\" d=\"M1727.99 1517.37 Q1724.38 1517.37 1722.55 1520.93 Q1720.75 1524.47 1720.75 1531.6 Q1720.75 1538.71 1722.55 1542.27 Q1724.38 1545.82 1727.99 1545.82 Q1731.63 1545.82 1733.43 1542.27 Q1735.26 1538.71 1735.26 1531.6 Q1735.26 1524.47 1733.43 1520.93 Q1731.63 1517.37 1727.99 1517.37 M1727.99 1513.66 Q1733.8 1513.66 1736.86 1518.27 Q1739.94 1522.85 1739.94 1531.6 Q1739.94 1540.33 1736.86 1544.94 Q1733.8 1549.52 1727.99 1549.52 Q1722.18 1549.52 1719.11 1544.94 Q1716.05 1540.33 1716.05 1531.6 Q1716.05 1522.85 1719.11 1518.27 Q1722.18 1513.66 1727.99 1513.66 Z\" fill=\"#000000\" fill-rule=\"evenodd\" fill-opacity=\"1\" /><path clip-path=\"url(#clip150)\" d=\"M1847.95 1514.29 L1870.17 1514.29 L1870.17 1516.28 L1857.63 1548.85 L1852.74 1548.85 L1864.55 1518.22 L1847.95 1518.22 L1847.95 1514.29 Z\" fill=\"#000000\" fill-rule=\"evenodd\" fill-opacity=\"1\" /><path clip-path=\"url(#clip150)\" d=\"M1879.3 1542.97 L1884.18 1542.97 L1884.18 1548.85 L1879.3 1548.85 L1879.3 1542.97 Z\" fill=\"#000000\" fill-rule=\"evenodd\" fill-opacity=\"1\" /><path clip-path=\"url(#clip150)\" d=\"M1894.41 1514.29 L1912.77 1514.29 L1912.77 1518.22 L1898.69 1518.22 L1898.69 1526.7 Q1899.71 1526.35 1900.73 1526.19 Q1901.75 1526 1902.77 1526 Q1908.55 1526 1911.93 1529.17 Q1915.31 1532.34 1915.31 1537.76 Q1915.31 1543.34 1911.84 1546.44 Q1908.37 1549.52 1902.05 1549.52 Q1899.87 1549.52 1897.61 1549.15 Q1895.36 1548.78 1892.95 1548.04 L1892.95 1543.34 Q1895.04 1544.47 1897.26 1545.03 Q1899.48 1545.58 1901.96 1545.58 Q1905.96 1545.58 1908.3 1543.48 Q1910.64 1541.37 1910.64 1537.76 Q1910.64 1534.15 1908.3 1532.04 Q1905.96 1529.94 1901.96 1529.94 Q1900.08 1529.94 1898.21 1530.35 Q1896.36 1530.77 1894.41 1531.65 L1894.41 1514.29 Z\" fill=\"#000000\" fill-rule=\"evenodd\" fill-opacity=\"1\" /><path clip-path=\"url(#clip150)\" d=\"M2009.69 1544.91 L2017.33 1544.91 L2017.33 1518.55 L2009.02 1520.21 L2009.02 1515.95 L2017.29 1514.29 L2021.96 1514.29 L2021.96 1544.91 L2029.6 1544.91 L2029.6 1548.85 L2009.69 1548.85 L2009.69 1544.91 Z\" fill=\"#000000\" fill-rule=\"evenodd\" fill-opacity=\"1\" /><path clip-path=\"url(#clip150)\" d=\"M2049.04 1517.37 Q2045.43 1517.37 2043.6 1520.93 Q2041.8 1524.47 2041.8 1531.6 Q2041.8 1538.71 2043.6 1542.27 Q2045.43 1545.82 2049.04 1545.82 Q2052.68 1545.82 2054.48 1542.27 Q2056.31 1538.71 2056.31 1531.6 Q2056.31 1524.47 2054.48 1520.93 Q2052.68 1517.37 2049.04 1517.37 M2049.04 1513.66 Q2054.85 1513.66 2057.91 1518.27 Q2060.99 1522.85 2060.99 1531.6 Q2060.99 1540.33 2057.91 1544.94 Q2054.85 1549.52 2049.04 1549.52 Q2043.23 1549.52 2040.16 1544.94 Q2037.1 1540.33 2037.1 1531.6 Q2037.1 1522.85 2040.16 1518.27 Q2043.23 1513.66 2049.04 1513.66 Z\" fill=\"#000000\" fill-rule=\"evenodd\" fill-opacity=\"1\" /><path clip-path=\"url(#clip150)\" d=\"M2069.21 1542.97 L2074.09 1542.97 L2074.09 1548.85 L2069.21 1548.85 L2069.21 1542.97 Z\" fill=\"#000000\" fill-rule=\"evenodd\" fill-opacity=\"1\" /><path clip-path=\"url(#clip150)\" d=\"M2094.28 1517.37 Q2090.66 1517.37 2088.84 1520.93 Q2087.03 1524.47 2087.03 1531.6 Q2087.03 1538.71 2088.84 1542.27 Q2090.66 1545.82 2094.28 1545.82 Q2097.91 1545.82 2099.72 1542.27 Q2101.54 1538.71 2101.54 1531.6 Q2101.54 1524.47 2099.72 1520.93 Q2097.91 1517.37 2094.28 1517.37 M2094.28 1513.66 Q2100.09 1513.66 2103.14 1518.27 Q2106.22 1522.85 2106.22 1531.6 Q2106.22 1540.33 2103.14 1544.94 Q2100.09 1549.52 2094.28 1549.52 Q2088.47 1549.52 2085.39 1544.94 Q2082.33 1540.33 2082.33 1531.6 Q2082.33 1522.85 2085.39 1518.27 Q2088.47 1513.66 2094.28 1513.66 Z\" fill=\"#000000\" fill-rule=\"evenodd\" fill-opacity=\"1\" /><path clip-path=\"url(#clip150)\" d=\"M2186.18 1544.91 L2193.82 1544.91 L2193.82 1518.55 L2185.51 1520.21 L2185.51 1515.95 L2193.77 1514.29 L2198.45 1514.29 L2198.45 1544.91 L2206.09 1544.91 L2206.09 1548.85 L2186.18 1548.85 L2186.18 1544.91 Z\" fill=\"#000000\" fill-rule=\"evenodd\" fill-opacity=\"1\" /><path clip-path=\"url(#clip150)\" d=\"M2219.56 1544.91 L2235.88 1544.91 L2235.88 1548.85 L2213.93 1548.85 L2213.93 1544.91 Q2216.6 1542.16 2221.18 1537.53 Q2225.79 1532.88 2226.97 1531.53 Q2229.21 1529.01 2230.09 1527.27 Q2230.99 1525.51 2230.99 1523.82 Q2230.99 1521.07 2229.05 1519.33 Q2227.13 1517.6 2224.03 1517.6 Q2221.83 1517.6 2219.37 1518.36 Q2216.94 1519.13 2214.16 1520.68 L2214.16 1515.95 Q2216.99 1514.82 2219.44 1514.24 Q2221.9 1513.66 2223.93 1513.66 Q2229.3 1513.66 2232.5 1516.35 Q2235.69 1519.03 2235.69 1523.52 Q2235.69 1525.65 2234.88 1527.57 Q2234.1 1529.47 2231.99 1532.07 Q2231.41 1532.74 2228.31 1535.95 Q2225.21 1539.15 2219.56 1544.91 Z\" fill=\"#000000\" fill-rule=\"evenodd\" fill-opacity=\"1\" /><path clip-path=\"url(#clip150)\" d=\"M2245.69 1542.97 L2250.58 1542.97 L2250.58 1548.85 L2245.69 1548.85 L2245.69 1542.97 Z\" fill=\"#000000\" fill-rule=\"evenodd\" fill-opacity=\"1\" /><path clip-path=\"url(#clip150)\" d=\"M2260.81 1514.29 L2279.16 1514.29 L2279.16 1518.22 L2265.09 1518.22 L2265.09 1526.7 Q2266.11 1526.35 2267.13 1526.19 Q2268.15 1526 2269.16 1526 Q2274.95 1526 2278.33 1529.17 Q2281.71 1532.34 2281.71 1537.76 Q2281.71 1543.34 2278.24 1546.44 Q2274.77 1549.52 2268.45 1549.52 Q2266.27 1549.52 2264 1549.15 Q2261.76 1548.78 2259.35 1548.04 L2259.35 1543.34 Q2261.43 1544.47 2263.66 1545.03 Q2265.88 1545.58 2268.35 1545.58 Q2272.36 1545.58 2274.7 1543.48 Q2277.03 1541.37 2277.03 1537.76 Q2277.03 1534.15 2274.7 1532.04 Q2272.36 1529.94 2268.35 1529.94 Q2266.48 1529.94 2264.6 1530.35 Q2262.75 1530.77 2260.81 1531.65 L2260.81 1514.29 Z\" fill=\"#000000\" fill-rule=\"evenodd\" fill-opacity=\"1\" /><polyline clip-path=\"url(#clip155)\" style=\"stroke:#000000; stroke-linecap:round; stroke-linejoin:round; stroke-width:2; stroke-opacity:0.1; fill:none\" points=\"\n",
       "  1384.19,1400.42 2352.76,1400.42 \n",
       "  \"/>\n",
       "<polyline clip-path=\"url(#clip155)\" style=\"stroke:#000000; stroke-linecap:round; stroke-linejoin:round; stroke-width:2; stroke-opacity:0.1; fill:none\" points=\"\n",
       "  1384.19,1279.42 2352.76,1279.42 \n",
       "  \"/>\n",
       "<polyline clip-path=\"url(#clip155)\" style=\"stroke:#000000; stroke-linecap:round; stroke-linejoin:round; stroke-width:2; stroke-opacity:0.1; fill:none\" points=\"\n",
       "  1384.19,1158.43 2352.76,1158.43 \n",
       "  \"/>\n",
       "<polyline clip-path=\"url(#clip155)\" style=\"stroke:#000000; stroke-linecap:round; stroke-linejoin:round; stroke-width:2; stroke-opacity:0.1; fill:none\" points=\"\n",
       "  1384.19,1037.43 2352.76,1037.43 \n",
       "  \"/>\n",
       "<polyline clip-path=\"url(#clip155)\" style=\"stroke:#000000; stroke-linecap:round; stroke-linejoin:round; stroke-width:2; stroke-opacity:0.1; fill:none\" points=\"\n",
       "  1384.19,916.428 2352.76,916.428 \n",
       "  \"/>\n",
       "<polyline clip-path=\"url(#clip150)\" style=\"stroke:#000000; stroke-linecap:round; stroke-linejoin:round; stroke-width:4; stroke-opacity:1; fill:none\" points=\"\n",
       "  1384.19,1486.45 1384.19,847.244 \n",
       "  \"/>\n",
       "<polyline clip-path=\"url(#clip150)\" style=\"stroke:#000000; stroke-linecap:round; stroke-linejoin:round; stroke-width:4; stroke-opacity:1; fill:none\" points=\"\n",
       "  1384.19,1400.42 1403.09,1400.42 \n",
       "  \"/>\n",
       "<polyline clip-path=\"url(#clip150)\" style=\"stroke:#000000; stroke-linecap:round; stroke-linejoin:round; stroke-width:4; stroke-opacity:1; fill:none\" points=\"\n",
       "  1384.19,1279.42 1403.09,1279.42 \n",
       "  \"/>\n",
       "<polyline clip-path=\"url(#clip150)\" style=\"stroke:#000000; stroke-linecap:round; stroke-linejoin:round; stroke-width:4; stroke-opacity:1; fill:none\" points=\"\n",
       "  1384.19,1158.43 1403.09,1158.43 \n",
       "  \"/>\n",
       "<polyline clip-path=\"url(#clip150)\" style=\"stroke:#000000; stroke-linecap:round; stroke-linejoin:round; stroke-width:4; stroke-opacity:1; fill:none\" points=\"\n",
       "  1384.19,1037.43 1403.09,1037.43 \n",
       "  \"/>\n",
       "<polyline clip-path=\"url(#clip150)\" style=\"stroke:#000000; stroke-linecap:round; stroke-linejoin:round; stroke-width:4; stroke-opacity:1; fill:none\" points=\"\n",
       "  1384.19,916.428 1403.09,916.428 \n",
       "  \"/>\n",
       "<path clip-path=\"url(#clip150)\" d=\"M1286.04 1413.77 L1302.36 1413.77 L1302.36 1417.7 L1280.41 1417.7 L1280.41 1413.77 Q1283.08 1411.01 1287.66 1406.38 Q1292.27 1401.73 1293.45 1400.39 Q1295.69 1397.87 1296.57 1396.13 Q1297.47 1394.37 1297.47 1392.68 Q1297.47 1389.93 1295.53 1388.19 Q1293.61 1386.45 1290.51 1386.45 Q1288.31 1386.45 1285.85 1387.22 Q1283.42 1387.98 1280.64 1389.53 L1280.64 1384.81 Q1283.47 1383.68 1285.92 1383.1 Q1288.38 1382.52 1290.41 1382.52 Q1295.78 1382.52 1298.98 1385.2 Q1302.17 1387.89 1302.17 1392.38 Q1302.17 1394.51 1301.36 1396.43 Q1300.58 1398.33 1298.47 1400.92 Q1297.89 1401.59 1294.79 1404.81 Q1291.69 1408 1286.04 1413.77 Z\" fill=\"#000000\" fill-rule=\"evenodd\" fill-opacity=\"1\" /><path clip-path=\"url(#clip150)\" d=\"M1312.17 1411.82 L1317.06 1411.82 L1317.06 1417.7 L1312.17 1417.7 L1312.17 1411.82 Z\" fill=\"#000000\" fill-rule=\"evenodd\" fill-opacity=\"1\" /><path clip-path=\"url(#clip150)\" d=\"M1327.29 1383.14 L1345.64 1383.14 L1345.64 1387.08 L1331.57 1387.08 L1331.57 1395.55 Q1332.59 1395.2 1333.61 1395.04 Q1334.63 1394.86 1335.64 1394.86 Q1341.43 1394.86 1344.81 1398.03 Q1348.19 1401.2 1348.19 1406.62 Q1348.19 1412.19 1344.72 1415.3 Q1341.25 1418.37 1334.93 1418.37 Q1332.75 1418.37 1330.48 1418 Q1328.24 1417.63 1325.83 1416.89 L1325.83 1412.19 Q1327.91 1413.33 1330.14 1413.88 Q1332.36 1414.44 1334.83 1414.44 Q1338.84 1414.44 1341.18 1412.33 Q1343.51 1410.23 1343.51 1406.62 Q1343.51 1403 1341.18 1400.9 Q1338.84 1398.79 1334.83 1398.79 Q1332.96 1398.79 1331.08 1399.21 Q1329.23 1399.62 1327.29 1400.5 L1327.29 1383.14 Z\" fill=\"#000000\" fill-rule=\"evenodd\" fill-opacity=\"1\" /><path clip-path=\"url(#clip150)\" d=\"M1281.06 1262.14 L1299.42 1262.14 L1299.42 1266.08 L1285.34 1266.08 L1285.34 1274.55 Q1286.36 1274.2 1287.38 1274.04 Q1288.4 1273.86 1289.42 1273.86 Q1295.2 1273.86 1298.58 1277.03 Q1301.96 1280.2 1301.96 1285.62 Q1301.96 1291.2 1298.49 1294.3 Q1295.02 1297.38 1288.7 1297.38 Q1286.52 1297.38 1284.26 1297.01 Q1282.01 1296.63 1279.6 1295.89 L1279.6 1291.2 Q1281.69 1292.33 1283.91 1292.88 Q1286.13 1293.44 1288.61 1293.44 Q1292.61 1293.44 1294.95 1291.33 Q1297.29 1289.23 1297.29 1285.62 Q1297.29 1282.01 1294.95 1279.9 Q1292.61 1277.79 1288.61 1277.79 Q1286.73 1277.79 1284.86 1278.21 Q1283.01 1278.63 1281.06 1279.51 L1281.06 1262.14 Z\" fill=\"#000000\" fill-rule=\"evenodd\" fill-opacity=\"1\" /><path clip-path=\"url(#clip150)\" d=\"M1311.18 1290.82 L1316.06 1290.82 L1316.06 1296.7 L1311.18 1296.7 L1311.18 1290.82 Z\" fill=\"#000000\" fill-rule=\"evenodd\" fill-opacity=\"1\" /><path clip-path=\"url(#clip150)\" d=\"M1336.25 1265.22 Q1332.64 1265.22 1330.81 1268.79 Q1329 1272.33 1329 1279.46 Q1329 1286.57 1330.81 1290.13 Q1332.64 1293.67 1336.25 1293.67 Q1339.88 1293.67 1341.69 1290.13 Q1343.51 1286.57 1343.51 1279.46 Q1343.51 1272.33 1341.69 1268.79 Q1339.88 1265.22 1336.25 1265.22 M1336.25 1261.52 Q1342.06 1261.52 1345.11 1266.13 Q1348.19 1270.71 1348.19 1279.46 Q1348.19 1288.19 1345.11 1292.79 Q1342.06 1297.38 1336.25 1297.38 Q1330.44 1297.38 1327.36 1292.79 Q1324.3 1288.19 1324.3 1279.46 Q1324.3 1270.71 1327.36 1266.13 Q1330.44 1261.52 1336.25 1261.52 Z\" fill=\"#000000\" fill-rule=\"evenodd\" fill-opacity=\"1\" /><path clip-path=\"url(#clip150)\" d=\"M1280.83 1141.15 L1303.05 1141.15 L1303.05 1143.14 L1290.51 1175.71 L1285.62 1175.71 L1297.43 1145.08 L1280.83 1145.08 L1280.83 1141.15 Z\" fill=\"#000000\" fill-rule=\"evenodd\" fill-opacity=\"1\" /><path clip-path=\"url(#clip150)\" d=\"M1312.17 1169.83 L1317.06 1169.83 L1317.06 1175.71 L1312.17 1175.71 L1312.17 1169.83 Z\" fill=\"#000000\" fill-rule=\"evenodd\" fill-opacity=\"1\" /><path clip-path=\"url(#clip150)\" d=\"M1327.29 1141.15 L1345.64 1141.15 L1345.64 1145.08 L1331.57 1145.08 L1331.57 1153.55 Q1332.59 1153.21 1333.61 1153.04 Q1334.63 1152.86 1335.64 1152.86 Q1341.43 1152.86 1344.81 1156.03 Q1348.19 1159.2 1348.19 1164.62 Q1348.19 1170.2 1344.72 1173.3 Q1341.25 1176.38 1334.93 1176.38 Q1332.75 1176.38 1330.48 1176.01 Q1328.24 1175.64 1325.83 1174.9 L1325.83 1170.2 Q1327.91 1171.33 1330.14 1171.89 Q1332.36 1172.44 1334.83 1172.44 Q1338.84 1172.44 1341.18 1170.34 Q1343.51 1168.23 1343.51 1164.62 Q1343.51 1161.01 1341.18 1158.9 Q1338.84 1156.79 1334.83 1156.79 Q1332.96 1156.79 1331.08 1157.21 Q1329.23 1157.63 1327.29 1158.51 L1327.29 1141.15 Z\" fill=\"#000000\" fill-rule=\"evenodd\" fill-opacity=\"1\" /><path clip-path=\"url(#clip150)\" d=\"M1251.66 1050.77 L1259.3 1050.77 L1259.3 1024.41 L1250.99 1026.07 L1250.99 1021.81 L1259.26 1020.15 L1263.93 1020.15 L1263.93 1050.77 L1271.57 1050.77 L1271.57 1054.71 L1251.66 1054.71 L1251.66 1050.77 Z\" fill=\"#000000\" fill-rule=\"evenodd\" fill-opacity=\"1\" /><path clip-path=\"url(#clip150)\" d=\"M1291.02 1023.23 Q1287.4 1023.23 1285.58 1026.79 Q1283.77 1030.33 1283.77 1037.46 Q1283.77 1044.57 1285.58 1048.13 Q1287.4 1051.67 1291.02 1051.67 Q1294.65 1051.67 1296.45 1048.13 Q1298.28 1044.57 1298.28 1037.46 Q1298.28 1030.33 1296.45 1026.79 Q1294.65 1023.23 1291.02 1023.23 M1291.02 1019.52 Q1296.83 1019.52 1299.88 1024.13 Q1302.96 1028.71 1302.96 1037.46 Q1302.96 1046.19 1299.88 1050.79 Q1296.83 1055.38 1291.02 1055.38 Q1285.2 1055.38 1282.13 1050.79 Q1279.07 1046.19 1279.07 1037.46 Q1279.07 1028.71 1282.13 1024.13 Q1285.2 1019.52 1291.02 1019.52 Z\" fill=\"#000000\" fill-rule=\"evenodd\" fill-opacity=\"1\" /><path clip-path=\"url(#clip150)\" d=\"M1311.18 1048.83 L1316.06 1048.83 L1316.06 1054.71 L1311.18 1054.71 L1311.18 1048.83 Z\" fill=\"#000000\" fill-rule=\"evenodd\" fill-opacity=\"1\" /><path clip-path=\"url(#clip150)\" d=\"M1336.25 1023.23 Q1332.64 1023.23 1330.81 1026.79 Q1329 1030.33 1329 1037.46 Q1329 1044.57 1330.81 1048.13 Q1332.64 1051.67 1336.25 1051.67 Q1339.88 1051.67 1341.69 1048.13 Q1343.51 1044.57 1343.51 1037.46 Q1343.51 1030.33 1341.69 1026.79 Q1339.88 1023.23 1336.25 1023.23 M1336.25 1019.52 Q1342.06 1019.52 1345.11 1024.13 Q1348.19 1028.71 1348.19 1037.46 Q1348.19 1046.19 1345.11 1050.79 Q1342.06 1055.38 1336.25 1055.38 Q1330.44 1055.38 1327.36 1050.79 Q1324.3 1046.19 1324.3 1037.46 Q1324.3 1028.71 1327.36 1024.13 Q1330.44 1019.52 1336.25 1019.52 Z\" fill=\"#000000\" fill-rule=\"evenodd\" fill-opacity=\"1\" /><path clip-path=\"url(#clip150)\" d=\"M1252.66 929.773 L1260.3 929.773 L1260.3 903.407 L1251.99 905.074 L1251.99 900.814 L1260.25 899.148 L1264.93 899.148 L1264.93 929.773 L1272.57 929.773 L1272.57 933.708 L1252.66 933.708 L1252.66 929.773 Z\" fill=\"#000000\" fill-rule=\"evenodd\" fill-opacity=\"1\" /><path clip-path=\"url(#clip150)\" d=\"M1286.04 929.773 L1302.36 929.773 L1302.36 933.708 L1280.41 933.708 L1280.41 929.773 Q1283.08 927.018 1287.66 922.388 Q1292.27 917.736 1293.45 916.393 Q1295.69 913.87 1296.57 912.134 Q1297.47 910.375 1297.47 908.685 Q1297.47 905.93 1295.53 904.194 Q1293.61 902.458 1290.51 902.458 Q1288.31 902.458 1285.85 903.222 Q1283.42 903.986 1280.64 905.537 L1280.64 900.814 Q1283.47 899.68 1285.92 899.101 Q1288.38 898.523 1290.41 898.523 Q1295.78 898.523 1298.98 901.208 Q1302.17 903.893 1302.17 908.384 Q1302.17 910.513 1301.36 912.435 Q1300.58 914.333 1298.47 916.925 Q1297.89 917.597 1294.79 920.814 Q1291.69 924.009 1286.04 929.773 Z\" fill=\"#000000\" fill-rule=\"evenodd\" fill-opacity=\"1\" /><path clip-path=\"url(#clip150)\" d=\"M1312.17 927.828 L1317.06 927.828 L1317.06 933.708 L1312.17 933.708 L1312.17 927.828 Z\" fill=\"#000000\" fill-rule=\"evenodd\" fill-opacity=\"1\" /><path clip-path=\"url(#clip150)\" d=\"M1327.29 899.148 L1345.64 899.148 L1345.64 903.083 L1331.57 903.083 L1331.57 911.555 Q1332.59 911.208 1333.61 911.046 Q1334.63 910.861 1335.64 910.861 Q1341.43 910.861 1344.81 914.032 Q1348.19 917.203 1348.19 922.62 Q1348.19 928.199 1344.72 931.3 Q1341.25 934.379 1334.93 934.379 Q1332.75 934.379 1330.48 934.009 Q1328.24 933.638 1325.83 932.898 L1325.83 928.199 Q1327.91 929.333 1330.14 929.888 Q1332.36 930.444 1334.83 930.444 Q1338.84 930.444 1341.18 928.337 Q1343.51 926.231 1343.51 922.62 Q1343.51 919.009 1341.18 916.902 Q1338.84 914.796 1334.83 914.796 Q1332.96 914.796 1331.08 915.213 Q1329.23 915.629 1327.29 916.509 L1327.29 899.148 Z\" fill=\"#000000\" fill-rule=\"evenodd\" fill-opacity=\"1\" /><circle clip-path=\"url(#clip155)\" cx=\"2216.5\" cy=\"965.486\" r=\"14.4\" fill=\"#009af9\" fill-rule=\"evenodd\" fill-opacity=\"1\" stroke=\"#000000\" stroke-opacity=\"1\" stroke-width=\"3.2\"/>\n",
       "<circle clip-path=\"url(#clip155)\" cx=\"2137.63\" cy=\"1417.08\" r=\"14.4\" fill=\"#009af9\" fill-rule=\"evenodd\" fill-opacity=\"1\" stroke=\"#000000\" stroke-opacity=\"1\" stroke-width=\"3.2\"/>\n",
       "<circle clip-path=\"url(#clip155)\" cx=\"2023.26\" cy=\"865.335\" r=\"14.4\" fill=\"#009af9\" fill-rule=\"evenodd\" fill-opacity=\"1\" stroke=\"#000000\" stroke-opacity=\"1\" stroke-width=\"3.2\"/>\n",
       "<circle clip-path=\"url(#clip155)\" cx=\"1659.49\" cy=\"990.904\" r=\"14.4\" fill=\"#009af9\" fill-rule=\"evenodd\" fill-opacity=\"1\" stroke=\"#000000\" stroke-opacity=\"1\" stroke-width=\"3.2\"/>\n",
       "<circle clip-path=\"url(#clip155)\" cx=\"1608.6\" cy=\"1464.7\" r=\"14.4\" fill=\"#009af9\" fill-rule=\"evenodd\" fill-opacity=\"1\" stroke=\"#000000\" stroke-opacity=\"1\" stroke-width=\"3.2\"/>\n",
       "<circle clip-path=\"url(#clip155)\" cx=\"1639.86\" cy=\"1064.41\" r=\"14.4\" fill=\"#009af9\" fill-rule=\"evenodd\" fill-opacity=\"1\" stroke=\"#000000\" stroke-opacity=\"1\" stroke-width=\"3.2\"/>\n",
       "<circle clip-path=\"url(#clip155)\" cx=\"1731.62\" cy=\"1443.49\" r=\"14.4\" fill=\"#009af9\" fill-rule=\"evenodd\" fill-opacity=\"1\" stroke=\"#000000\" stroke-opacity=\"1\" stroke-width=\"3.2\"/>\n",
       "<circle clip-path=\"url(#clip155)\" cx=\"1411.6\" cy=\"981.708\" r=\"14.4\" fill=\"#009af9\" fill-rule=\"evenodd\" fill-opacity=\"1\" stroke=\"#000000\" stroke-opacity=\"1\" stroke-width=\"3.2\"/>\n",
       "<circle clip-path=\"url(#clip155)\" cx=\"1992.52\" cy=\"1065.61\" r=\"14.4\" fill=\"#009af9\" fill-rule=\"evenodd\" fill-opacity=\"1\" stroke=\"#000000\" stroke-opacity=\"1\" stroke-width=\"3.2\"/>\n",
       "<circle clip-path=\"url(#clip155)\" cx=\"1727.03\" cy=\"1155.3\" r=\"14.4\" fill=\"#009af9\" fill-rule=\"evenodd\" fill-opacity=\"1\" stroke=\"#000000\" stroke-opacity=\"1\" stroke-width=\"3.2\"/>\n",
       "<circle clip-path=\"url(#clip155)\" cx=\"2325.34\" cy=\"1468.36\" r=\"14.4\" fill=\"#009af9\" fill-rule=\"evenodd\" fill-opacity=\"1\" stroke=\"#000000\" stroke-opacity=\"1\" stroke-width=\"3.2\"/>\n",
       "<path clip-path=\"url(#clip150)\" d=\"\n",
       "M1416.48 1465.14 L1565.76 1465.14 L1565.76 1361.46 L1416.48 1361.46  Z\n",
       "  \" fill=\"#ffffff\" fill-rule=\"evenodd\" fill-opacity=\"1\"/>\n",
       "<polyline clip-path=\"url(#clip150)\" style=\"stroke:#000000; stroke-linecap:round; stroke-linejoin:round; stroke-width:4; stroke-opacity:1; fill:none\" points=\"\n",
       "  1416.48,1465.14 1565.76,1465.14 1565.76,1361.46 1416.48,1361.46 1416.48,1465.14 \n",
       "  \"/>\n",
       "<circle clip-path=\"url(#clip150)\" cx=\"1459.52\" cy=\"1413.3\" r=\"23.04\" fill=\"#009af9\" fill-rule=\"evenodd\" fill-opacity=\"1\" stroke=\"#000000\" stroke-opacity=\"1\" stroke-width=\"5.12\"/>\n",
       "<path clip-path=\"url(#clip150)\" d=\"M1516.41 1432.99 Q1514.61 1437.62 1512.89 1439.03 Q1511.18 1440.44 1508.31 1440.44 L1504.91 1440.44 L1504.91 1436.88 L1507.41 1436.88 Q1509.17 1436.88 1510.14 1436.04 Q1511.11 1435.21 1512.29 1432.11 L1513.06 1430.16 L1502.57 1404.66 L1507.08 1404.66 L1515.19 1424.93 L1523.29 1404.66 L1527.8 1404.66 L1516.41 1432.99 Z\" fill=\"#000000\" fill-rule=\"evenodd\" fill-opacity=\"1\" /><path clip-path=\"url(#clip150)\" d=\"M1535.09 1426.65 L1542.73 1426.65 L1542.73 1400.28 L1534.42 1401.95 L1534.42 1397.69 L1542.69 1396.02 L1547.36 1396.02 L1547.36 1426.65 L1555 1426.65 L1555 1430.58 L1535.09 1430.58 L1535.09 1426.65 Z\" fill=\"#000000\" fill-rule=\"evenodd\" fill-opacity=\"1\" /></svg>\n"
      ]
     },
     "execution_count": 132,
     "metadata": {},
     "output_type": "execute_result"
    }
   ],
   "source": [
    "plot(scatter(aq[:, 1], aq[:, 2]),\n",
    "scatter(aq[:, 3], aq[:, 4]),\n",
    "scatter(aq[:, 5], aq[:, 6]),\n",
    "scatter(aq[:, 7], aq[:, 8]))"
   ]
  },
  {
   "cell_type": "code",
   "execution_count": 134,
   "id": "ecba2ce9-4012-4f05-8ddc-7e3829bdc023",
   "metadata": {},
   "outputs": [
    {
     "data": {
      "image/svg+xml": [
       "<?xml version=\"1.0\" encoding=\"utf-8\"?>\n",
       "<svg xmlns=\"http://www.w3.org/2000/svg\" xmlns:xlink=\"http://www.w3.org/1999/xlink\" width=\"600\" height=\"400\" viewBox=\"0 0 2400 1600\">\n",
       "<defs>\n",
       "  <clipPath id=\"clip230\">\n",
       "    <rect x=\"0\" y=\"0\" width=\"2400\" height=\"1600\"/>\n",
       "  </clipPath>\n",
       "</defs>\n",
       "<path clip-path=\"url(#clip230)\" d=\"\n",
       "M0 1600 L2400 1600 L2400 0 L0 0  Z\n",
       "  \" fill=\"#ffffff\" fill-rule=\"evenodd\" fill-opacity=\"1\"/>\n",
       "<defs>\n",
       "  <clipPath id=\"clip231\">\n",
       "    <rect x=\"480\" y=\"0\" width=\"1681\" height=\"1600\"/>\n",
       "  </clipPath>\n",
       "</defs>\n",
       "<path clip-path=\"url(#clip230)\" d=\"\n",
       "M184.191 686.448 L1152.76 686.448 L1152.76 47.2441 L184.191 47.2441  Z\n",
       "  \" fill=\"#ffffff\" fill-rule=\"evenodd\" fill-opacity=\"1\"/>\n",
       "<defs>\n",
       "  <clipPath id=\"clip232\">\n",
       "    <rect x=\"184\" y=\"47\" width=\"970\" height=\"640\"/>\n",
       "  </clipPath>\n",
       "</defs>\n",
       "<polyline clip-path=\"url(#clip232)\" style=\"stroke:#000000; stroke-linecap:round; stroke-linejoin:round; stroke-width:2; stroke-opacity:0.1; fill:none\" points=\"\n",
       "  225.813,686.448 225.813,47.2441 \n",
       "  \"/>\n",
       "<polyline clip-path=\"url(#clip232)\" style=\"stroke:#000000; stroke-linecap:round; stroke-linejoin:round; stroke-width:2; stroke-opacity:0.1; fill:none\" points=\"\n",
       "  411.685,686.448 411.685,47.2441 \n",
       "  \"/>\n",
       "<polyline clip-path=\"url(#clip232)\" style=\"stroke:#000000; stroke-linecap:round; stroke-linejoin:round; stroke-width:2; stroke-opacity:0.1; fill:none\" points=\"\n",
       "  597.556,686.448 597.556,47.2441 \n",
       "  \"/>\n",
       "<polyline clip-path=\"url(#clip232)\" style=\"stroke:#000000; stroke-linecap:round; stroke-linejoin:round; stroke-width:2; stroke-opacity:0.1; fill:none\" points=\"\n",
       "  783.428,686.448 783.428,47.2441 \n",
       "  \"/>\n",
       "<polyline clip-path=\"url(#clip232)\" style=\"stroke:#000000; stroke-linecap:round; stroke-linejoin:round; stroke-width:2; stroke-opacity:0.1; fill:none\" points=\"\n",
       "  969.3,686.448 969.3,47.2441 \n",
       "  \"/>\n",
       "<polyline clip-path=\"url(#clip230)\" style=\"stroke:#000000; stroke-linecap:round; stroke-linejoin:round; stroke-width:4; stroke-opacity:1; fill:none\" points=\"\n",
       "  184.191,686.448 1152.76,686.448 \n",
       "  \"/>\n",
       "<polyline clip-path=\"url(#clip230)\" style=\"stroke:#000000; stroke-linecap:round; stroke-linejoin:round; stroke-width:4; stroke-opacity:1; fill:none\" points=\"\n",
       "  225.813,686.448 225.813,667.55 \n",
       "  \"/>\n",
       "<polyline clip-path=\"url(#clip230)\" style=\"stroke:#000000; stroke-linecap:round; stroke-linejoin:round; stroke-width:4; stroke-opacity:1; fill:none\" points=\"\n",
       "  411.685,686.448 411.685,667.55 \n",
       "  \"/>\n",
       "<polyline clip-path=\"url(#clip230)\" style=\"stroke:#000000; stroke-linecap:round; stroke-linejoin:round; stroke-width:4; stroke-opacity:1; fill:none\" points=\"\n",
       "  597.556,686.448 597.556,667.55 \n",
       "  \"/>\n",
       "<polyline clip-path=\"url(#clip230)\" style=\"stroke:#000000; stroke-linecap:round; stroke-linejoin:round; stroke-width:4; stroke-opacity:1; fill:none\" points=\"\n",
       "  783.428,686.448 783.428,667.55 \n",
       "  \"/>\n",
       "<polyline clip-path=\"url(#clip230)\" style=\"stroke:#000000; stroke-linecap:round; stroke-linejoin:round; stroke-width:4; stroke-opacity:1; fill:none\" points=\"\n",
       "  969.3,686.448 969.3,667.55 \n",
       "  \"/>\n",
       "<path clip-path=\"url(#clip230)\" d=\"M228.822 718.362 L217.016 736.811 L228.822 736.811 L228.822 718.362 M227.595 714.288 L233.475 714.288 L233.475 736.811 L238.405 736.811 L238.405 740.7 L233.475 740.7 L233.475 748.848 L228.822 748.848 L228.822 740.7 L213.22 740.7 L213.22 736.186 L227.595 714.288 Z\" fill=\"#000000\" fill-rule=\"evenodd\" fill-opacity=\"1\" /><path clip-path=\"url(#clip230)\" d=\"M412.09 729.704 Q408.942 729.704 407.09 731.857 Q405.261 734.01 405.261 737.76 Q405.261 741.487 407.09 743.663 Q408.942 745.815 412.09 745.815 Q415.238 745.815 417.066 743.663 Q418.918 741.487 418.918 737.76 Q418.918 734.01 417.066 731.857 Q415.238 729.704 412.09 729.704 M421.372 715.052 L421.372 719.311 Q419.613 718.478 417.807 718.038 Q416.025 717.598 414.266 717.598 Q409.636 717.598 407.182 720.723 Q404.752 723.848 404.405 730.167 Q405.77 728.154 407.83 727.089 Q409.891 726.001 412.367 726.001 Q417.576 726.001 420.585 729.172 Q423.617 732.32 423.617 737.76 Q423.617 743.084 420.469 746.302 Q417.321 749.519 412.09 749.519 Q406.094 749.519 402.923 744.936 Q399.752 740.329 399.752 731.603 Q399.752 723.408 403.641 718.547 Q407.529 713.663 414.08 713.663 Q415.84 713.663 417.622 714.01 Q419.428 714.357 421.372 715.052 Z\" fill=\"#000000\" fill-rule=\"evenodd\" fill-opacity=\"1\" /><path clip-path=\"url(#clip230)\" d=\"M597.556 732.436 Q594.223 732.436 592.302 734.218 Q590.404 736.001 590.404 739.126 Q590.404 742.251 592.302 744.033 Q594.223 745.815 597.556 745.815 Q600.89 745.815 602.811 744.033 Q604.732 742.228 604.732 739.126 Q604.732 736.001 602.811 734.218 Q600.913 732.436 597.556 732.436 M592.881 730.445 Q589.871 729.704 588.182 727.644 Q586.515 725.584 586.515 722.621 Q586.515 718.478 589.455 716.07 Q592.418 713.663 597.556 713.663 Q602.719 713.663 605.658 716.07 Q608.598 718.478 608.598 722.621 Q608.598 725.584 606.908 727.644 Q605.242 729.704 602.256 730.445 Q605.635 731.232 607.51 733.524 Q609.408 735.816 609.408 739.126 Q609.408 744.149 606.33 746.834 Q603.274 749.519 597.556 749.519 Q591.839 749.519 588.76 746.834 Q585.705 744.149 585.705 739.126 Q585.705 735.816 587.603 733.524 Q589.501 731.232 592.881 730.445 M591.168 723.061 Q591.168 725.746 592.834 727.251 Q594.524 728.755 597.556 728.755 Q600.566 728.755 602.256 727.251 Q603.968 725.746 603.968 723.061 Q603.968 720.376 602.256 718.871 Q600.566 717.367 597.556 717.367 Q594.524 717.367 592.834 718.871 Q591.168 720.376 591.168 723.061 Z\" fill=\"#000000\" fill-rule=\"evenodd\" fill-opacity=\"1\" /><path clip-path=\"url(#clip230)\" d=\"M758.116 744.913 L765.755 744.913 L765.755 718.547 L757.445 720.214 L757.445 715.955 L765.709 714.288 L770.385 714.288 L770.385 744.913 L778.023 744.913 L778.023 748.848 L758.116 748.848 L758.116 744.913 Z\" fill=\"#000000\" fill-rule=\"evenodd\" fill-opacity=\"1\" /><path clip-path=\"url(#clip230)\" d=\"M797.468 717.367 Q793.857 717.367 792.028 720.931 Q790.222 724.473 790.222 731.603 Q790.222 738.709 792.028 742.274 Q793.857 745.815 797.468 745.815 Q801.102 745.815 802.907 742.274 Q804.736 738.709 804.736 731.603 Q804.736 724.473 802.907 720.931 Q801.102 717.367 797.468 717.367 M797.468 713.663 Q803.278 713.663 806.333 718.269 Q809.412 722.853 809.412 731.603 Q809.412 740.329 806.333 744.936 Q803.278 749.519 797.468 749.519 Q791.658 749.519 788.579 744.936 Q785.523 740.329 785.523 731.603 Q785.523 722.853 788.579 718.269 Q791.658 713.663 797.468 713.663 Z\" fill=\"#000000\" fill-rule=\"evenodd\" fill-opacity=\"1\" /><path clip-path=\"url(#clip230)\" d=\"M944.787 744.913 L952.425 744.913 L952.425 718.547 L944.115 720.214 L944.115 715.955 L952.379 714.288 L957.055 714.288 L957.055 744.913 L964.694 744.913 L964.694 748.848 L944.787 748.848 L944.787 744.913 Z\" fill=\"#000000\" fill-rule=\"evenodd\" fill-opacity=\"1\" /><path clip-path=\"url(#clip230)\" d=\"M978.166 744.913 L994.485 744.913 L994.485 748.848 L972.541 748.848 L972.541 744.913 Q975.203 742.158 979.786 737.528 Q984.393 732.876 985.573 731.533 Q987.819 729.01 988.698 727.274 Q989.601 725.515 989.601 723.825 Q989.601 721.07 987.657 719.334 Q985.735 717.598 982.634 717.598 Q980.435 717.598 977.981 718.362 Q975.55 719.126 972.773 720.677 L972.773 715.955 Q975.597 714.82 978.05 714.242 Q980.504 713.663 982.541 713.663 Q987.911 713.663 991.106 716.348 Q994.3 719.033 994.3 723.524 Q994.3 725.654 993.49 727.575 Q992.703 729.473 990.597 732.066 Q990.018 732.737 986.916 735.954 Q983.814 739.149 978.166 744.913 Z\" fill=\"#000000\" fill-rule=\"evenodd\" fill-opacity=\"1\" /><polyline clip-path=\"url(#clip232)\" style=\"stroke:#000000; stroke-linecap:round; stroke-linejoin:round; stroke-width:2; stroke-opacity:0.1; fill:none\" points=\"\n",
       "  184.191,637.637 1152.76,637.637 \n",
       "  \"/>\n",
       "<polyline clip-path=\"url(#clip232)\" style=\"stroke:#000000; stroke-linecap:round; stroke-linejoin:round; stroke-width:2; stroke-opacity:0.1; fill:none\" points=\"\n",
       "  184.191,516.011 1152.76,516.011 \n",
       "  \"/>\n",
       "<polyline clip-path=\"url(#clip232)\" style=\"stroke:#000000; stroke-linecap:round; stroke-linejoin:round; stroke-width:2; stroke-opacity:0.1; fill:none\" points=\"\n",
       "  184.191,394.384 1152.76,394.384 \n",
       "  \"/>\n",
       "<polyline clip-path=\"url(#clip232)\" style=\"stroke:#000000; stroke-linecap:round; stroke-linejoin:round; stroke-width:2; stroke-opacity:0.1; fill:none\" points=\"\n",
       "  184.191,272.758 1152.76,272.758 \n",
       "  \"/>\n",
       "<polyline clip-path=\"url(#clip232)\" style=\"stroke:#000000; stroke-linecap:round; stroke-linejoin:round; stroke-width:2; stroke-opacity:0.1; fill:none\" points=\"\n",
       "  184.191,151.131 1152.76,151.131 \n",
       "  \"/>\n",
       "<polyline clip-path=\"url(#clip230)\" style=\"stroke:#000000; stroke-linecap:round; stroke-linejoin:round; stroke-width:4; stroke-opacity:1; fill:none\" points=\"\n",
       "  184.191,686.448 184.191,47.2441 \n",
       "  \"/>\n",
       "<polyline clip-path=\"url(#clip230)\" style=\"stroke:#000000; stroke-linecap:round; stroke-linejoin:round; stroke-width:4; stroke-opacity:1; fill:none\" points=\"\n",
       "  184.191,637.637 203.088,637.637 \n",
       "  \"/>\n",
       "<polyline clip-path=\"url(#clip230)\" style=\"stroke:#000000; stroke-linecap:round; stroke-linejoin:round; stroke-width:4; stroke-opacity:1; fill:none\" points=\"\n",
       "  184.191,516.011 203.088,516.011 \n",
       "  \"/>\n",
       "<polyline clip-path=\"url(#clip230)\" style=\"stroke:#000000; stroke-linecap:round; stroke-linejoin:round; stroke-width:4; stroke-opacity:1; fill:none\" points=\"\n",
       "  184.191,394.384 203.088,394.384 \n",
       "  \"/>\n",
       "<polyline clip-path=\"url(#clip230)\" style=\"stroke:#000000; stroke-linecap:round; stroke-linejoin:round; stroke-width:4; stroke-opacity:1; fill:none\" points=\"\n",
       "  184.191,272.758 203.088,272.758 \n",
       "  \"/>\n",
       "<polyline clip-path=\"url(#clip230)\" style=\"stroke:#000000; stroke-linecap:round; stroke-linejoin:round; stroke-width:4; stroke-opacity:1; fill:none\" points=\"\n",
       "  184.191,151.131 203.088,151.131 \n",
       "  \"/>\n",
       "<path clip-path=\"url(#clip230)\" d=\"M138.607 624.431 L126.802 642.88 L138.607 642.88 L138.607 624.431 M137.381 620.357 L143.26 620.357 L143.26 642.88 L148.191 642.88 L148.191 646.769 L143.26 646.769 L143.26 654.917 L138.607 654.917 L138.607 646.769 L123.006 646.769 L123.006 642.255 L137.381 620.357 Z\" fill=\"#000000\" fill-rule=\"evenodd\" fill-opacity=\"1\" /><path clip-path=\"url(#clip230)\" d=\"M136.663 514.147 Q133.515 514.147 131.663 516.3 Q129.834 518.453 129.834 522.203 Q129.834 525.93 131.663 528.106 Q133.515 530.258 136.663 530.258 Q139.811 530.258 141.64 528.106 Q143.492 525.93 143.492 522.203 Q143.492 518.453 141.64 516.3 Q139.811 514.147 136.663 514.147 M145.945 499.495 L145.945 503.754 Q144.186 502.92 142.381 502.481 Q140.598 502.041 138.839 502.041 Q134.209 502.041 131.756 505.166 Q129.325 508.291 128.978 514.61 Q130.344 512.596 132.404 511.532 Q134.464 510.444 136.941 510.444 Q142.149 510.444 145.158 513.615 Q148.191 516.763 148.191 522.203 Q148.191 527.527 145.043 530.744 Q141.894 533.962 136.663 533.962 Q130.668 533.962 127.496 529.379 Q124.325 524.772 124.325 516.045 Q124.325 507.851 128.214 502.99 Q132.103 498.106 138.654 498.106 Q140.413 498.106 142.195 498.453 Q144.001 498.8 145.945 499.495 Z\" fill=\"#000000\" fill-rule=\"evenodd\" fill-opacity=\"1\" /><path clip-path=\"url(#clip230)\" d=\"M136.339 395.252 Q133.006 395.252 131.084 397.035 Q129.186 398.817 129.186 401.942 Q129.186 405.067 131.084 406.849 Q133.006 408.632 136.339 408.632 Q139.672 408.632 141.593 406.849 Q143.515 405.044 143.515 401.942 Q143.515 398.817 141.593 397.035 Q139.695 395.252 136.339 395.252 M131.663 393.262 Q128.654 392.521 126.964 390.461 Q125.297 388.4 125.297 385.437 Q125.297 381.294 128.237 378.887 Q131.2 376.479 136.339 376.479 Q141.501 376.479 144.441 378.887 Q147.38 381.294 147.38 385.437 Q147.38 388.4 145.691 390.461 Q144.024 392.521 141.038 393.262 Q144.418 394.049 146.293 396.34 Q148.191 398.632 148.191 401.942 Q148.191 406.965 145.112 409.65 Q142.056 412.335 136.339 412.335 Q130.621 412.335 127.543 409.65 Q124.487 406.965 124.487 401.942 Q124.487 398.632 126.385 396.34 Q128.283 394.049 131.663 393.262 M129.95 385.877 Q129.95 388.562 131.617 390.067 Q133.306 391.572 136.339 391.572 Q139.348 391.572 141.038 390.067 Q142.751 388.562 142.751 385.877 Q142.751 383.192 141.038 381.687 Q139.348 380.183 136.339 380.183 Q133.306 380.183 131.617 381.687 Q129.95 383.192 129.95 385.877 Z\" fill=\"#000000\" fill-rule=\"evenodd\" fill-opacity=\"1\" /><path clip-path=\"url(#clip230)\" d=\"M96.8947 286.103 L104.534 286.103 L104.534 259.737 L96.2234 261.404 L96.2234 257.144 L104.487 255.478 L109.163 255.478 L109.163 286.103 L116.802 286.103 L116.802 290.038 L96.8947 290.038 L96.8947 286.103 Z\" fill=\"#000000\" fill-rule=\"evenodd\" fill-opacity=\"1\" /><path clip-path=\"url(#clip230)\" d=\"M136.246 258.556 Q132.635 258.556 130.807 262.121 Q129.001 265.663 129.001 272.792 Q129.001 279.899 130.807 283.464 Q132.635 287.005 136.246 287.005 Q139.881 287.005 141.686 283.464 Q143.515 279.899 143.515 272.792 Q143.515 265.663 141.686 262.121 Q139.881 258.556 136.246 258.556 M136.246 254.853 Q142.056 254.853 145.112 259.459 Q148.191 264.042 148.191 272.792 Q148.191 281.519 145.112 286.126 Q142.056 290.709 136.246 290.709 Q130.436 290.709 127.357 286.126 Q124.302 281.519 124.302 272.792 Q124.302 264.042 127.357 259.459 Q130.436 254.853 136.246 254.853 Z\" fill=\"#000000\" fill-rule=\"evenodd\" fill-opacity=\"1\" /><path clip-path=\"url(#clip230)\" d=\"M98.4919 164.476 L106.131 164.476 L106.131 138.11 L97.8206 139.777 L97.8206 135.518 L106.084 133.851 L110.76 133.851 L110.76 164.476 L118.399 164.476 L118.399 168.411 L98.4919 168.411 L98.4919 164.476 Z\" fill=\"#000000\" fill-rule=\"evenodd\" fill-opacity=\"1\" /><path clip-path=\"url(#clip230)\" d=\"M131.871 164.476 L148.191 164.476 L148.191 168.411 L126.246 168.411 L126.246 164.476 Q128.908 161.721 133.492 157.092 Q138.098 152.439 139.279 151.096 Q141.524 148.573 142.404 146.837 Q143.306 145.078 143.306 143.388 Q143.306 140.634 141.362 138.897 Q139.441 137.161 136.339 137.161 Q134.14 137.161 131.686 137.925 Q129.256 138.689 126.478 140.24 L126.478 135.518 Q129.302 134.384 131.756 133.805 Q134.209 133.226 136.246 133.226 Q141.617 133.226 144.811 135.911 Q148.005 138.597 148.005 143.087 Q148.005 145.217 147.195 147.138 Q146.408 149.036 144.302 151.629 Q143.723 152.3 140.621 155.518 Q137.519 158.712 131.871 164.476 Z\" fill=\"#000000\" fill-rule=\"evenodd\" fill-opacity=\"1\" /><circle clip-path=\"url(#clip232)\" cx=\"885.499\" cy=\"65.3348\" r=\"14.4\" fill=\"#009af9\" fill-rule=\"evenodd\" fill-opacity=\"1\" stroke=\"#000000\" stroke-opacity=\"1\" stroke-width=\"3.2\"/>\n",
       "<circle clip-path=\"url(#clip232)\" cx=\"997.102\" cy=\"69.3013\" r=\"14.4\" fill=\"#009af9\" fill-rule=\"evenodd\" fill-opacity=\"1\" stroke=\"#000000\" stroke-opacity=\"1\" stroke-width=\"3.2\"/>\n",
       "<circle clip-path=\"url(#clip232)\" cx=\"449.339\" cy=\"628.249\" r=\"14.4\" fill=\"#009af9\" fill-rule=\"evenodd\" fill-opacity=\"1\" stroke=\"#000000\" stroke-opacity=\"1\" stroke-width=\"3.2\"/>\n",
       "<circle clip-path=\"url(#clip232)\" cx=\"280.734\" cy=\"637.594\" r=\"14.4\" fill=\"#009af9\" fill-rule=\"evenodd\" fill-opacity=\"1\" stroke=\"#000000\" stroke-opacity=\"1\" stroke-width=\"3.2\"/>\n",
       "<circle clip-path=\"url(#clip232)\" cx=\"792.852\" cy=\"568.585\" r=\"14.4\" fill=\"#009af9\" fill-rule=\"evenodd\" fill-opacity=\"1\" stroke=\"#000000\" stroke-opacity=\"1\" stroke-width=\"3.2\"/>\n",
       "<circle clip-path=\"url(#clip232)\" cx=\"851.486\" cy=\"489.32\" r=\"14.4\" fill=\"#009af9\" fill-rule=\"evenodd\" fill-opacity=\"1\" stroke=\"#000000\" stroke-opacity=\"1\" stroke-width=\"3.2\"/>\n",
       "<circle clip-path=\"url(#clip232)\" cx=\"211.603\" cy=\"668.357\" r=\"14.4\" fill=\"#009af9\" fill-rule=\"evenodd\" fill-opacity=\"1\" stroke=\"#000000\" stroke-opacity=\"1\" stroke-width=\"3.2\"/>\n",
       "<circle clip-path=\"url(#clip232)\" cx=\"521.992\" cy=\"655.535\" r=\"14.4\" fill=\"#009af9\" fill-rule=\"evenodd\" fill-opacity=\"1\" stroke=\"#000000\" stroke-opacity=\"1\" stroke-width=\"3.2\"/>\n",
       "<circle clip-path=\"url(#clip232)\" cx=\"242.771\" cy=\"248.799\" r=\"14.4\" fill=\"#009af9\" fill-rule=\"evenodd\" fill-opacity=\"1\" stroke=\"#000000\" stroke-opacity=\"1\" stroke-width=\"3.2\"/>\n",
       "<circle clip-path=\"url(#clip232)\" cx=\"605.834\" cy=\"165.875\" r=\"14.4\" fill=\"#009af9\" fill-rule=\"evenodd\" fill-opacity=\"1\" stroke=\"#000000\" stroke-opacity=\"1\" stroke-width=\"3.2\"/>\n",
       "<circle clip-path=\"url(#clip232)\" cx=\"1125.34\" cy=\"433.472\" r=\"14.4\" fill=\"#009af9\" fill-rule=\"evenodd\" fill-opacity=\"1\" stroke=\"#000000\" stroke-opacity=\"1\" stroke-width=\"3.2\"/>\n",
       "<path clip-path=\"url(#clip230)\" d=\"\n",
       "M1384.19 686.448 L2352.76 686.448 L2352.76 47.2441 L1384.19 47.2441  Z\n",
       "  \" fill=\"#ffffff\" fill-rule=\"evenodd\" fill-opacity=\"1\"/>\n",
       "<defs>\n",
       "  <clipPath id=\"clip233\">\n",
       "    <rect x=\"1384\" y=\"47\" width=\"970\" height=\"640\"/>\n",
       "  </clipPath>\n",
       "</defs>\n",
       "<polyline clip-path=\"url(#clip233)\" style=\"stroke:#000000; stroke-linecap:round; stroke-linejoin:round; stroke-width:2; stroke-opacity:0.1; fill:none\" points=\"\n",
       "  1505.9,686.448 1505.9,47.2441 \n",
       "  \"/>\n",
       "<polyline clip-path=\"url(#clip233)\" style=\"stroke:#000000; stroke-linecap:round; stroke-linejoin:round; stroke-width:2; stroke-opacity:0.1; fill:none\" points=\"\n",
       "  1705.78,686.448 1705.78,47.2441 \n",
       "  \"/>\n",
       "<polyline clip-path=\"url(#clip233)\" style=\"stroke:#000000; stroke-linecap:round; stroke-linejoin:round; stroke-width:2; stroke-opacity:0.1; fill:none\" points=\"\n",
       "  1905.66,686.448 1905.66,47.2441 \n",
       "  \"/>\n",
       "<polyline clip-path=\"url(#clip233)\" style=\"stroke:#000000; stroke-linecap:round; stroke-linejoin:round; stroke-width:2; stroke-opacity:0.1; fill:none\" points=\"\n",
       "  2105.53,686.448 2105.53,47.2441 \n",
       "  \"/>\n",
       "<polyline clip-path=\"url(#clip233)\" style=\"stroke:#000000; stroke-linecap:round; stroke-linejoin:round; stroke-width:2; stroke-opacity:0.1; fill:none\" points=\"\n",
       "  2305.41,686.448 2305.41,47.2441 \n",
       "  \"/>\n",
       "<polyline clip-path=\"url(#clip230)\" style=\"stroke:#000000; stroke-linecap:round; stroke-linejoin:round; stroke-width:4; stroke-opacity:1; fill:none\" points=\"\n",
       "  1384.19,686.448 2352.76,686.448 \n",
       "  \"/>\n",
       "<polyline clip-path=\"url(#clip230)\" style=\"stroke:#000000; stroke-linecap:round; stroke-linejoin:round; stroke-width:4; stroke-opacity:1; fill:none\" points=\"\n",
       "  1505.9,686.448 1505.9,667.55 \n",
       "  \"/>\n",
       "<polyline clip-path=\"url(#clip230)\" style=\"stroke:#000000; stroke-linecap:round; stroke-linejoin:round; stroke-width:4; stroke-opacity:1; fill:none\" points=\"\n",
       "  1705.78,686.448 1705.78,667.55 \n",
       "  \"/>\n",
       "<polyline clip-path=\"url(#clip230)\" style=\"stroke:#000000; stroke-linecap:round; stroke-linejoin:round; stroke-width:4; stroke-opacity:1; fill:none\" points=\"\n",
       "  1905.66,686.448 1905.66,667.55 \n",
       "  \"/>\n",
       "<polyline clip-path=\"url(#clip230)\" style=\"stroke:#000000; stroke-linecap:round; stroke-linejoin:round; stroke-width:4; stroke-opacity:1; fill:none\" points=\"\n",
       "  2105.53,686.448 2105.53,667.55 \n",
       "  \"/>\n",
       "<polyline clip-path=\"url(#clip230)\" style=\"stroke:#000000; stroke-linecap:round; stroke-linejoin:round; stroke-width:4; stroke-opacity:1; fill:none\" points=\"\n",
       "  2305.41,686.448 2305.41,667.55 \n",
       "  \"/>\n",
       "<path clip-path=\"url(#clip230)\" d=\"M1477.64 744.913 L1493.96 744.913 L1493.96 748.848 L1472.01 748.848 L1472.01 744.913 Q1474.68 742.158 1479.26 737.528 Q1483.87 732.876 1485.05 731.533 Q1487.29 729.01 1488.17 727.274 Q1489.07 725.515 1489.07 723.825 Q1489.07 721.07 1487.13 719.334 Q1485.21 717.598 1482.11 717.598 Q1479.91 717.598 1477.45 718.362 Q1475.02 719.126 1472.24 720.677 L1472.24 715.955 Q1475.07 714.82 1477.52 714.242 Q1479.98 713.663 1482.01 713.663 Q1487.38 713.663 1490.58 716.348 Q1493.77 719.033 1493.77 723.524 Q1493.77 725.654 1492.96 727.575 Q1492.18 729.473 1490.07 732.066 Q1489.49 732.737 1486.39 735.954 Q1483.29 739.149 1477.64 744.913 Z\" fill=\"#000000\" fill-rule=\"evenodd\" fill-opacity=\"1\" /><path clip-path=\"url(#clip230)\" d=\"M1503.77 742.968 L1508.66 742.968 L1508.66 748.848 L1503.77 748.848 L1503.77 742.968 Z\" fill=\"#000000\" fill-rule=\"evenodd\" fill-opacity=\"1\" /><path clip-path=\"url(#clip230)\" d=\"M1518.89 714.288 L1537.24 714.288 L1537.24 718.223 L1523.17 718.223 L1523.17 726.695 Q1524.19 726.348 1525.21 726.186 Q1526.23 726.001 1527.24 726.001 Q1533.03 726.001 1536.41 729.172 Q1539.79 732.343 1539.79 737.76 Q1539.79 743.339 1536.32 746.44 Q1532.85 749.519 1526.53 749.519 Q1524.35 749.519 1522.08 749.149 Q1519.84 748.778 1517.43 748.038 L1517.43 743.339 Q1519.51 744.473 1521.74 745.028 Q1523.96 745.584 1526.43 745.584 Q1530.44 745.584 1532.78 743.478 Q1535.11 741.371 1535.11 737.76 Q1535.11 734.149 1532.78 732.042 Q1530.44 729.936 1526.43 729.936 Q1524.56 729.936 1522.68 730.353 Q1520.83 730.769 1518.89 731.649 L1518.89 714.288 Z\" fill=\"#000000\" fill-rule=\"evenodd\" fill-opacity=\"1\" /><path clip-path=\"url(#clip230)\" d=\"M1672.94 714.288 L1691.3 714.288 L1691.3 718.223 L1677.23 718.223 L1677.23 726.695 Q1678.24 726.348 1679.26 726.186 Q1680.28 726.001 1681.3 726.001 Q1687.09 726.001 1690.47 729.172 Q1693.85 732.343 1693.85 737.76 Q1693.85 743.339 1690.37 746.44 Q1686.9 749.519 1680.58 749.519 Q1678.41 749.519 1676.14 749.149 Q1673.89 748.778 1671.49 748.038 L1671.49 743.339 Q1673.57 744.473 1675.79 745.028 Q1678.01 745.584 1680.49 745.584 Q1684.49 745.584 1686.83 743.478 Q1689.17 741.371 1689.17 737.76 Q1689.17 734.149 1686.83 732.042 Q1684.49 729.936 1680.49 729.936 Q1678.61 729.936 1676.74 730.353 Q1674.89 730.769 1672.94 731.649 L1672.94 714.288 Z\" fill=\"#000000\" fill-rule=\"evenodd\" fill-opacity=\"1\" /><path clip-path=\"url(#clip230)\" d=\"M1703.06 742.968 L1707.94 742.968 L1707.94 748.848 L1703.06 748.848 L1703.06 742.968 Z\" fill=\"#000000\" fill-rule=\"evenodd\" fill-opacity=\"1\" /><path clip-path=\"url(#clip230)\" d=\"M1728.13 717.367 Q1724.52 717.367 1722.69 720.931 Q1720.88 724.473 1720.88 731.603 Q1720.88 738.709 1722.69 742.274 Q1724.52 745.815 1728.13 745.815 Q1731.76 745.815 1733.57 742.274 Q1735.4 738.709 1735.4 731.603 Q1735.4 724.473 1733.57 720.931 Q1731.76 717.367 1728.13 717.367 M1728.13 713.663 Q1733.94 713.663 1736.99 718.269 Q1740.07 722.853 1740.07 731.603 Q1740.07 740.329 1736.99 744.936 Q1733.94 749.519 1728.13 749.519 Q1722.32 749.519 1719.24 744.936 Q1716.18 740.329 1716.18 731.603 Q1716.18 722.853 1719.24 718.269 Q1722.32 713.663 1728.13 713.663 Z\" fill=\"#000000\" fill-rule=\"evenodd\" fill-opacity=\"1\" /><path clip-path=\"url(#clip230)\" d=\"M1871.98 714.288 L1894.2 714.288 L1894.2 716.279 L1881.65 748.848 L1876.77 748.848 L1888.57 718.223 L1871.98 718.223 L1871.98 714.288 Z\" fill=\"#000000\" fill-rule=\"evenodd\" fill-opacity=\"1\" /><path clip-path=\"url(#clip230)\" d=\"M1903.32 742.968 L1908.2 742.968 L1908.2 748.848 L1903.32 748.848 L1903.32 742.968 Z\" fill=\"#000000\" fill-rule=\"evenodd\" fill-opacity=\"1\" /><path clip-path=\"url(#clip230)\" d=\"M1918.43 714.288 L1936.79 714.288 L1936.79 718.223 L1922.72 718.223 L1922.72 726.695 Q1923.73 726.348 1924.75 726.186 Q1925.77 726.001 1926.79 726.001 Q1932.58 726.001 1935.96 729.172 Q1939.34 732.343 1939.34 737.76 Q1939.34 743.339 1935.86 746.44 Q1932.39 749.519 1926.07 749.519 Q1923.9 749.519 1921.63 749.149 Q1919.38 748.778 1916.98 748.038 L1916.98 743.339 Q1919.06 744.473 1921.28 745.028 Q1923.5 745.584 1925.98 745.584 Q1929.98 745.584 1932.32 743.478 Q1934.66 741.371 1934.66 737.76 Q1934.66 734.149 1932.32 732.042 Q1929.98 729.936 1925.98 729.936 Q1924.1 729.936 1922.23 730.353 Q1920.38 730.769 1918.43 731.649 L1918.43 714.288 Z\" fill=\"#000000\" fill-rule=\"evenodd\" fill-opacity=\"1\" /><path clip-path=\"url(#clip230)\" d=\"M2057.6 744.913 L2065.24 744.913 L2065.24 718.547 L2056.93 720.214 L2056.93 715.955 L2065.2 714.288 L2069.87 714.288 L2069.87 744.913 L2077.51 744.913 L2077.51 748.848 L2057.6 748.848 L2057.6 744.913 Z\" fill=\"#000000\" fill-rule=\"evenodd\" fill-opacity=\"1\" /><path clip-path=\"url(#clip230)\" d=\"M2096.96 717.367 Q2093.35 717.367 2091.52 720.931 Q2089.71 724.473 2089.71 731.603 Q2089.71 738.709 2091.52 742.274 Q2093.35 745.815 2096.96 745.815 Q2100.59 745.815 2102.4 742.274 Q2104.23 738.709 2104.23 731.603 Q2104.23 724.473 2102.4 720.931 Q2100.59 717.367 2096.96 717.367 M2096.96 713.663 Q2102.77 713.663 2105.82 718.269 Q2108.9 722.853 2108.9 731.603 Q2108.9 740.329 2105.82 744.936 Q2102.77 749.519 2096.96 749.519 Q2091.15 749.519 2088.07 744.936 Q2085.01 740.329 2085.01 731.603 Q2085.01 722.853 2088.07 718.269 Q2091.15 713.663 2096.96 713.663 Z\" fill=\"#000000\" fill-rule=\"evenodd\" fill-opacity=\"1\" /><path clip-path=\"url(#clip230)\" d=\"M2117.12 742.968 L2122 742.968 L2122 748.848 L2117.12 748.848 L2117.12 742.968 Z\" fill=\"#000000\" fill-rule=\"evenodd\" fill-opacity=\"1\" /><path clip-path=\"url(#clip230)\" d=\"M2142.19 717.367 Q2138.58 717.367 2136.75 720.931 Q2134.94 724.473 2134.94 731.603 Q2134.94 738.709 2136.75 742.274 Q2138.58 745.815 2142.19 745.815 Q2145.82 745.815 2147.63 742.274 Q2149.46 738.709 2149.46 731.603 Q2149.46 724.473 2147.63 720.931 Q2145.82 717.367 2142.19 717.367 M2142.19 713.663 Q2148 713.663 2151.05 718.269 Q2154.13 722.853 2154.13 731.603 Q2154.13 740.329 2151.05 744.936 Q2148 749.519 2142.19 749.519 Q2136.38 749.519 2133.3 744.936 Q2130.24 740.329 2130.24 731.603 Q2130.24 722.853 2133.3 718.269 Q2136.38 713.663 2142.19 713.663 Z\" fill=\"#000000\" fill-rule=\"evenodd\" fill-opacity=\"1\" /><path clip-path=\"url(#clip230)\" d=\"M2257.98 744.913 L2265.62 744.913 L2265.62 718.547 L2257.31 720.214 L2257.31 715.955 L2265.57 714.288 L2270.25 714.288 L2270.25 744.913 L2277.89 744.913 L2277.89 748.848 L2257.98 748.848 L2257.98 744.913 Z\" fill=\"#000000\" fill-rule=\"evenodd\" fill-opacity=\"1\" /><path clip-path=\"url(#clip230)\" d=\"M2291.36 744.913 L2307.68 744.913 L2307.68 748.848 L2285.73 748.848 L2285.73 744.913 Q2288.4 742.158 2292.98 737.528 Q2297.59 732.876 2298.77 731.533 Q2301.01 729.01 2301.89 727.274 Q2302.79 725.515 2302.79 723.825 Q2302.79 721.07 2300.85 719.334 Q2298.93 717.598 2295.83 717.598 Q2293.63 717.598 2291.17 718.362 Q2288.74 719.126 2285.97 720.677 L2285.97 715.955 Q2288.79 714.82 2291.24 714.242 Q2293.7 713.663 2295.73 713.663 Q2301.1 713.663 2304.3 716.348 Q2307.49 719.033 2307.49 723.524 Q2307.49 725.654 2306.68 727.575 Q2305.9 729.473 2303.79 732.066 Q2303.21 732.737 2300.11 735.954 Q2297.01 739.149 2291.36 744.913 Z\" fill=\"#000000\" fill-rule=\"evenodd\" fill-opacity=\"1\" /><path clip-path=\"url(#clip230)\" d=\"M2317.49 742.968 L2322.38 742.968 L2322.38 748.848 L2317.49 748.848 L2317.49 742.968 Z\" fill=\"#000000\" fill-rule=\"evenodd\" fill-opacity=\"1\" /><path clip-path=\"url(#clip230)\" d=\"M2332.61 714.288 L2350.97 714.288 L2350.97 718.223 L2336.89 718.223 L2336.89 726.695 Q2337.91 726.348 2338.93 726.186 Q2339.95 726.001 2340.97 726.001 Q2346.75 726.001 2350.13 729.172 Q2353.51 732.343 2353.51 737.76 Q2353.51 743.339 2350.04 746.44 Q2346.57 749.519 2340.25 749.519 Q2338.07 749.519 2335.8 749.149 Q2333.56 748.778 2331.15 748.038 L2331.15 743.339 Q2333.23 744.473 2335.46 745.028 Q2337.68 745.584 2340.16 745.584 Q2344.16 745.584 2346.5 743.478 Q2348.84 741.371 2348.84 737.76 Q2348.84 734.149 2346.5 732.042 Q2344.16 729.936 2340.16 729.936 Q2338.28 729.936 2336.41 730.353 Q2334.55 730.769 2332.61 731.649 L2332.61 714.288 Z\" fill=\"#000000\" fill-rule=\"evenodd\" fill-opacity=\"1\" /><polyline clip-path=\"url(#clip233)\" style=\"stroke:#000000; stroke-linecap:round; stroke-linejoin:round; stroke-width:2; stroke-opacity:0.1; fill:none\" points=\"\n",
       "  1384.19,572.406 2352.76,572.406 \n",
       "  \"/>\n",
       "<polyline clip-path=\"url(#clip233)\" style=\"stroke:#000000; stroke-linecap:round; stroke-linejoin:round; stroke-width:2; stroke-opacity:0.1; fill:none\" points=\"\n",
       "  1384.19,441.191 2352.76,441.191 \n",
       "  \"/>\n",
       "<polyline clip-path=\"url(#clip233)\" style=\"stroke:#000000; stroke-linecap:round; stroke-linejoin:round; stroke-width:2; stroke-opacity:0.1; fill:none\" points=\"\n",
       "  1384.19,309.975 2352.76,309.975 \n",
       "  \"/>\n",
       "<polyline clip-path=\"url(#clip233)\" style=\"stroke:#000000; stroke-linecap:round; stroke-linejoin:round; stroke-width:2; stroke-opacity:0.1; fill:none\" points=\"\n",
       "  1384.19,178.76 2352.76,178.76 \n",
       "  \"/>\n",
       "<polyline clip-path=\"url(#clip233)\" style=\"stroke:#000000; stroke-linecap:round; stroke-linejoin:round; stroke-width:2; stroke-opacity:0.1; fill:none\" points=\"\n",
       "  1384.19,47.544 2352.76,47.544 \n",
       "  \"/>\n",
       "<polyline clip-path=\"url(#clip230)\" style=\"stroke:#000000; stroke-linecap:round; stroke-linejoin:round; stroke-width:4; stroke-opacity:1; fill:none\" points=\"\n",
       "  1384.19,686.448 1384.19,47.2441 \n",
       "  \"/>\n",
       "<polyline clip-path=\"url(#clip230)\" style=\"stroke:#000000; stroke-linecap:round; stroke-linejoin:round; stroke-width:4; stroke-opacity:1; fill:none\" points=\"\n",
       "  1384.19,572.406 1403.09,572.406 \n",
       "  \"/>\n",
       "<polyline clip-path=\"url(#clip230)\" style=\"stroke:#000000; stroke-linecap:round; stroke-linejoin:round; stroke-width:4; stroke-opacity:1; fill:none\" points=\"\n",
       "  1384.19,441.191 1403.09,441.191 \n",
       "  \"/>\n",
       "<polyline clip-path=\"url(#clip230)\" style=\"stroke:#000000; stroke-linecap:round; stroke-linejoin:round; stroke-width:4; stroke-opacity:1; fill:none\" points=\"\n",
       "  1384.19,309.975 1403.09,309.975 \n",
       "  \"/>\n",
       "<polyline clip-path=\"url(#clip230)\" style=\"stroke:#000000; stroke-linecap:round; stroke-linejoin:round; stroke-width:4; stroke-opacity:1; fill:none\" points=\"\n",
       "  1384.19,178.76 1403.09,178.76 \n",
       "  \"/>\n",
       "<polyline clip-path=\"url(#clip230)\" style=\"stroke:#000000; stroke-linecap:round; stroke-linejoin:round; stroke-width:4; stroke-opacity:1; fill:none\" points=\"\n",
       "  1384.19,47.544 1403.09,47.544 \n",
       "  \"/>\n",
       "<path clip-path=\"url(#clip230)\" d=\"M1286.04 585.751 L1302.36 585.751 L1302.36 589.686 L1280.41 589.686 L1280.41 585.751 Q1283.08 582.996 1287.66 578.367 Q1292.27 573.714 1293.45 572.371 Q1295.69 569.848 1296.57 568.112 Q1297.47 566.353 1297.47 564.663 Q1297.47 561.909 1295.53 560.172 Q1293.61 558.436 1290.51 558.436 Q1288.31 558.436 1285.85 559.2 Q1283.42 559.964 1280.64 561.515 L1280.64 556.793 Q1283.47 555.659 1285.92 555.08 Q1288.38 554.501 1290.41 554.501 Q1295.78 554.501 1298.98 557.186 Q1302.17 559.872 1302.17 564.362 Q1302.17 566.492 1301.36 568.413 Q1300.58 570.311 1298.47 572.904 Q1297.89 573.575 1294.79 576.793 Q1291.69 579.987 1286.04 585.751 Z\" fill=\"#000000\" fill-rule=\"evenodd\" fill-opacity=\"1\" /><path clip-path=\"url(#clip230)\" d=\"M1312.17 583.807 L1317.06 583.807 L1317.06 589.686 L1312.17 589.686 L1312.17 583.807 Z\" fill=\"#000000\" fill-rule=\"evenodd\" fill-opacity=\"1\" /><path clip-path=\"url(#clip230)\" d=\"M1327.29 555.126 L1345.64 555.126 L1345.64 559.061 L1331.57 559.061 L1331.57 567.534 Q1332.59 567.186 1333.61 567.024 Q1334.63 566.839 1335.64 566.839 Q1341.43 566.839 1344.81 570.01 Q1348.19 573.182 1348.19 578.598 Q1348.19 584.177 1344.72 587.279 Q1341.25 590.357 1334.93 590.357 Q1332.75 590.357 1330.48 589.987 Q1328.24 589.617 1325.83 588.876 L1325.83 584.177 Q1327.91 585.311 1330.14 585.867 Q1332.36 586.422 1334.83 586.422 Q1338.84 586.422 1341.18 584.316 Q1343.51 582.209 1343.51 578.598 Q1343.51 574.987 1341.18 572.881 Q1338.84 570.774 1334.83 570.774 Q1332.96 570.774 1331.08 571.191 Q1329.23 571.608 1327.29 572.487 L1327.29 555.126 Z\" fill=\"#000000\" fill-rule=\"evenodd\" fill-opacity=\"1\" /><path clip-path=\"url(#clip230)\" d=\"M1281.06 423.911 L1299.42 423.911 L1299.42 427.846 L1285.34 427.846 L1285.34 436.318 Q1286.36 435.971 1287.38 435.809 Q1288.4 435.624 1289.42 435.624 Q1295.2 435.624 1298.58 438.795 Q1301.96 441.966 1301.96 447.383 Q1301.96 452.961 1298.49 456.063 Q1295.02 459.142 1288.7 459.142 Q1286.52 459.142 1284.26 458.772 Q1282.01 458.401 1279.6 457.66 L1279.6 452.961 Q1281.69 454.096 1283.91 454.651 Q1286.13 455.207 1288.61 455.207 Q1292.61 455.207 1294.95 453.1 Q1297.29 450.994 1297.29 447.383 Q1297.29 443.772 1294.95 441.665 Q1292.61 439.559 1288.61 439.559 Q1286.73 439.559 1284.86 439.975 Q1283.01 440.392 1281.06 441.272 L1281.06 423.911 Z\" fill=\"#000000\" fill-rule=\"evenodd\" fill-opacity=\"1\" /><path clip-path=\"url(#clip230)\" d=\"M1311.18 452.591 L1316.06 452.591 L1316.06 458.471 L1311.18 458.471 L1311.18 452.591 Z\" fill=\"#000000\" fill-rule=\"evenodd\" fill-opacity=\"1\" /><path clip-path=\"url(#clip230)\" d=\"M1336.25 426.989 Q1332.64 426.989 1330.81 430.554 Q1329 434.096 1329 441.225 Q1329 448.332 1330.81 451.897 Q1332.64 455.438 1336.25 455.438 Q1339.88 455.438 1341.69 451.897 Q1343.51 448.332 1343.51 441.225 Q1343.51 434.096 1341.69 430.554 Q1339.88 426.989 1336.25 426.989 M1336.25 423.286 Q1342.06 423.286 1345.11 427.892 Q1348.19 432.475 1348.19 441.225 Q1348.19 449.952 1345.11 454.559 Q1342.06 459.142 1336.25 459.142 Q1330.44 459.142 1327.36 454.559 Q1324.3 449.952 1324.3 441.225 Q1324.3 432.475 1327.36 427.892 Q1330.44 423.286 1336.25 423.286 Z\" fill=\"#000000\" fill-rule=\"evenodd\" fill-opacity=\"1\" /><path clip-path=\"url(#clip230)\" d=\"M1280.83 292.695 L1303.05 292.695 L1303.05 294.686 L1290.51 327.255 L1285.62 327.255 L1297.43 296.63 L1280.83 296.63 L1280.83 292.695 Z\" fill=\"#000000\" fill-rule=\"evenodd\" fill-opacity=\"1\" /><path clip-path=\"url(#clip230)\" d=\"M1312.17 321.375 L1317.06 321.375 L1317.06 327.255 L1312.17 327.255 L1312.17 321.375 Z\" fill=\"#000000\" fill-rule=\"evenodd\" fill-opacity=\"1\" /><path clip-path=\"url(#clip230)\" d=\"M1327.29 292.695 L1345.64 292.695 L1345.64 296.63 L1331.57 296.63 L1331.57 305.102 Q1332.59 304.755 1333.61 304.593 Q1334.63 304.408 1335.64 304.408 Q1341.43 304.408 1344.81 307.579 Q1348.19 310.751 1348.19 316.167 Q1348.19 321.746 1344.72 324.848 Q1341.25 327.926 1334.93 327.926 Q1332.75 327.926 1330.48 327.556 Q1328.24 327.186 1325.83 326.445 L1325.83 321.746 Q1327.91 322.88 1330.14 323.436 Q1332.36 323.991 1334.83 323.991 Q1338.84 323.991 1341.18 321.885 Q1343.51 319.778 1343.51 316.167 Q1343.51 312.556 1341.18 310.45 Q1338.84 308.343 1334.83 308.343 Q1332.96 308.343 1331.08 308.76 Q1329.23 309.176 1327.29 310.056 L1327.29 292.695 Z\" fill=\"#000000\" fill-rule=\"evenodd\" fill-opacity=\"1\" /><path clip-path=\"url(#clip230)\" d=\"M1251.66 192.104 L1259.3 192.104 L1259.3 165.739 L1250.99 167.405 L1250.99 163.146 L1259.26 161.48 L1263.93 161.48 L1263.93 192.104 L1271.57 192.104 L1271.57 196.04 L1251.66 196.04 L1251.66 192.104 Z\" fill=\"#000000\" fill-rule=\"evenodd\" fill-opacity=\"1\" /><path clip-path=\"url(#clip230)\" d=\"M1291.02 164.558 Q1287.4 164.558 1285.58 168.123 Q1283.77 171.665 1283.77 178.794 Q1283.77 185.901 1285.58 189.465 Q1287.4 193.007 1291.02 193.007 Q1294.65 193.007 1296.45 189.465 Q1298.28 185.901 1298.28 178.794 Q1298.28 171.665 1296.45 168.123 Q1294.65 164.558 1291.02 164.558 M1291.02 160.855 Q1296.83 160.855 1299.88 165.461 Q1302.96 170.044 1302.96 178.794 Q1302.96 187.521 1299.88 192.128 Q1296.83 196.711 1291.02 196.711 Q1285.2 196.711 1282.13 192.128 Q1279.07 187.521 1279.07 178.794 Q1279.07 170.044 1282.13 165.461 Q1285.2 160.855 1291.02 160.855 Z\" fill=\"#000000\" fill-rule=\"evenodd\" fill-opacity=\"1\" /><path clip-path=\"url(#clip230)\" d=\"M1311.18 190.16 L1316.06 190.16 L1316.06 196.04 L1311.18 196.04 L1311.18 190.16 Z\" fill=\"#000000\" fill-rule=\"evenodd\" fill-opacity=\"1\" /><path clip-path=\"url(#clip230)\" d=\"M1336.25 164.558 Q1332.64 164.558 1330.81 168.123 Q1329 171.665 1329 178.794 Q1329 185.901 1330.81 189.465 Q1332.64 193.007 1336.25 193.007 Q1339.88 193.007 1341.69 189.465 Q1343.51 185.901 1343.51 178.794 Q1343.51 171.665 1341.69 168.123 Q1339.88 164.558 1336.25 164.558 M1336.25 160.855 Q1342.06 160.855 1345.11 165.461 Q1348.19 170.044 1348.19 178.794 Q1348.19 187.521 1345.11 192.128 Q1342.06 196.711 1336.25 196.711 Q1330.44 196.711 1327.36 192.128 Q1324.3 187.521 1324.3 178.794 Q1324.3 170.044 1327.36 165.461 Q1330.44 160.855 1336.25 160.855 Z\" fill=\"#000000\" fill-rule=\"evenodd\" fill-opacity=\"1\" /><path clip-path=\"url(#clip230)\" d=\"M1252.66 60.8888 L1260.3 60.8888 L1260.3 34.5232 L1251.99 36.1899 L1251.99 31.9306 L1260.25 30.264 L1264.93 30.264 L1264.93 60.8888 L1272.57 60.8888 L1272.57 64.824 L1252.66 64.824 L1252.66 60.8888 Z\" fill=\"#000000\" fill-rule=\"evenodd\" fill-opacity=\"1\" /><path clip-path=\"url(#clip230)\" d=\"M1286.04 60.8888 L1302.36 60.8888 L1302.36 64.824 L1280.41 64.824 L1280.41 60.8888 Q1283.08 58.1342 1287.66 53.5046 Q1292.27 48.8519 1293.45 47.5093 Q1295.69 44.9861 1296.57 43.25 Q1297.47 41.4908 1297.47 39.801 Q1297.47 37.0464 1295.53 35.3103 Q1293.61 33.5742 1290.51 33.5742 Q1288.31 33.5742 1285.85 34.338 Q1283.42 35.1019 1280.64 36.6528 L1280.64 31.9306 Q1283.47 30.7964 1285.92 30.2177 Q1288.38 29.639 1290.41 29.639 Q1295.78 29.639 1298.98 32.3242 Q1302.17 35.0093 1302.17 39.5001 Q1302.17 41.6297 1301.36 43.551 Q1300.58 45.4491 1298.47 48.0417 Q1297.89 48.713 1294.79 51.9305 Q1291.69 55.125 1286.04 60.8888 Z\" fill=\"#000000\" fill-rule=\"evenodd\" fill-opacity=\"1\" /><path clip-path=\"url(#clip230)\" d=\"M1312.17 58.9444 L1317.06 58.9444 L1317.06 64.824 L1312.17 64.824 L1312.17 58.9444 Z\" fill=\"#000000\" fill-rule=\"evenodd\" fill-opacity=\"1\" /><path clip-path=\"url(#clip230)\" d=\"M1327.29 30.264 L1345.64 30.264 L1345.64 34.1992 L1331.57 34.1992 L1331.57 42.6713 Q1332.59 42.3241 1333.61 42.1621 Q1334.63 41.9769 1335.64 41.9769 Q1341.43 41.9769 1344.81 45.1482 Q1348.19 48.3194 1348.19 53.7361 Q1348.19 59.3148 1344.72 62.4166 Q1341.25 65.4953 1334.93 65.4953 Q1332.75 65.4953 1330.48 65.1249 Q1328.24 64.7545 1325.83 64.0138 L1325.83 59.3148 Q1327.91 60.449 1330.14 61.0046 Q1332.36 61.5601 1334.83 61.5601 Q1338.84 61.5601 1341.18 59.4536 Q1343.51 57.3472 1343.51 53.7361 Q1343.51 50.125 1341.18 48.0185 Q1338.84 45.9121 1334.83 45.9121 Q1332.96 45.9121 1331.08 46.3287 Q1329.23 46.7454 1327.29 47.625 L1327.29 30.264 Z\" fill=\"#000000\" fill-rule=\"evenodd\" fill-opacity=\"1\" /><circle clip-path=\"url(#clip233)\" cx=\"1513.57\" cy=\"65.3348\" r=\"14.4\" fill=\"#009af9\" fill-rule=\"evenodd\" fill-opacity=\"1\" stroke=\"#000000\" stroke-opacity=\"1\" stroke-width=\"3.2\"/>\n",
       "<circle clip-path=\"url(#clip233)\" cx=\"2033.86\" cy=\"652.295\" r=\"14.4\" fill=\"#009af9\" fill-rule=\"evenodd\" fill-opacity=\"1\" stroke=\"#000000\" stroke-opacity=\"1\" stroke-width=\"3.2\"/>\n",
       "<circle clip-path=\"url(#clip233)\" cx=\"2246.22\" cy=\"645.925\" r=\"14.4\" fill=\"#009af9\" fill-rule=\"evenodd\" fill-opacity=\"1\" stroke=\"#000000\" stroke-opacity=\"1\" stroke-width=\"3.2\"/>\n",
       "<circle clip-path=\"url(#clip233)\" cx=\"2150.21\" cy=\"507.302\" r=\"14.4\" fill=\"#009af9\" fill-rule=\"evenodd\" fill-opacity=\"1\" stroke=\"#000000\" stroke-opacity=\"1\" stroke-width=\"3.2\"/>\n",
       "<circle clip-path=\"url(#clip233)\" cx=\"2123.54\" cy=\"234.971\" r=\"14.4\" fill=\"#009af9\" fill-rule=\"evenodd\" fill-opacity=\"1\" stroke=\"#000000\" stroke-opacity=\"1\" stroke-width=\"3.2\"/>\n",
       "<circle clip-path=\"url(#clip233)\" cx=\"1503.93\" cy=\"223.428\" r=\"14.4\" fill=\"#009af9\" fill-rule=\"evenodd\" fill-opacity=\"1\" stroke=\"#000000\" stroke-opacity=\"1\" stroke-width=\"3.2\"/>\n",
       "<circle clip-path=\"url(#clip233)\" cx=\"1411.6\" cy=\"265.202\" r=\"14.4\" fill=\"#009af9\" fill-rule=\"evenodd\" fill-opacity=\"1\" stroke=\"#000000\" stroke-opacity=\"1\" stroke-width=\"3.2\"/>\n",
       "<circle clip-path=\"url(#clip233)\" cx=\"1492.73\" cy=\"412.365\" r=\"14.4\" fill=\"#009af9\" fill-rule=\"evenodd\" fill-opacity=\"1\" stroke=\"#000000\" stroke-opacity=\"1\" stroke-width=\"3.2\"/>\n",
       "<circle clip-path=\"url(#clip233)\" cx=\"1852.66\" cy=\"355.173\" r=\"14.4\" fill=\"#009af9\" fill-rule=\"evenodd\" fill-opacity=\"1\" stroke=\"#000000\" stroke-opacity=\"1\" stroke-width=\"3.2\"/>\n",
       "<circle clip-path=\"url(#clip233)\" cx=\"2325.34\" cy=\"668.357\" r=\"14.4\" fill=\"#009af9\" fill-rule=\"evenodd\" fill-opacity=\"1\" stroke=\"#000000\" stroke-opacity=\"1\" stroke-width=\"3.2\"/>\n",
       "<circle clip-path=\"url(#clip233)\" cx=\"1430.3\" cy=\"611.808\" r=\"14.4\" fill=\"#009af9\" fill-rule=\"evenodd\" fill-opacity=\"1\" stroke=\"#000000\" stroke-opacity=\"1\" stroke-width=\"3.2\"/>\n",
       "<path clip-path=\"url(#clip230)\" d=\"\n",
       "M184.191 1486.45 L1152.76 1486.45 L1152.76 847.244 L184.191 847.244  Z\n",
       "  \" fill=\"#ffffff\" fill-rule=\"evenodd\" fill-opacity=\"1\"/>\n",
       "<defs>\n",
       "  <clipPath id=\"clip234\">\n",
       "    <rect x=\"184\" y=\"847\" width=\"970\" height=\"640\"/>\n",
       "  </clipPath>\n",
       "</defs>\n",
       "<polyline clip-path=\"url(#clip234)\" style=\"stroke:#000000; stroke-linecap:round; stroke-linejoin:round; stroke-width:2; stroke-opacity:0.1; fill:none\" points=\"\n",
       "  271.742,1486.45 271.742,847.244 \n",
       "  \"/>\n",
       "<polyline clip-path=\"url(#clip234)\" style=\"stroke:#000000; stroke-linecap:round; stroke-linejoin:round; stroke-width:2; stroke-opacity:0.1; fill:none\" points=\"\n",
       "  450.935,1486.45 450.935,847.244 \n",
       "  \"/>\n",
       "<polyline clip-path=\"url(#clip234)\" style=\"stroke:#000000; stroke-linecap:round; stroke-linejoin:round; stroke-width:2; stroke-opacity:0.1; fill:none\" points=\"\n",
       "  630.128,1486.45 630.128,847.244 \n",
       "  \"/>\n",
       "<polyline clip-path=\"url(#clip234)\" style=\"stroke:#000000; stroke-linecap:round; stroke-linejoin:round; stroke-width:2; stroke-opacity:0.1; fill:none\" points=\"\n",
       "  809.321,1486.45 809.321,847.244 \n",
       "  \"/>\n",
       "<polyline clip-path=\"url(#clip234)\" style=\"stroke:#000000; stroke-linecap:round; stroke-linejoin:round; stroke-width:2; stroke-opacity:0.1; fill:none\" points=\"\n",
       "  988.514,1486.45 988.514,847.244 \n",
       "  \"/>\n",
       "<polyline clip-path=\"url(#clip230)\" style=\"stroke:#000000; stroke-linecap:round; stroke-linejoin:round; stroke-width:4; stroke-opacity:1; fill:none\" points=\"\n",
       "  184.191,1486.45 1152.76,1486.45 \n",
       "  \"/>\n",
       "<polyline clip-path=\"url(#clip230)\" style=\"stroke:#000000; stroke-linecap:round; stroke-linejoin:round; stroke-width:4; stroke-opacity:1; fill:none\" points=\"\n",
       "  271.742,1486.45 271.742,1467.55 \n",
       "  \"/>\n",
       "<polyline clip-path=\"url(#clip230)\" style=\"stroke:#000000; stroke-linecap:round; stroke-linejoin:round; stroke-width:4; stroke-opacity:1; fill:none\" points=\"\n",
       "  450.935,1486.45 450.935,1467.55 \n",
       "  \"/>\n",
       "<polyline clip-path=\"url(#clip230)\" style=\"stroke:#000000; stroke-linecap:round; stroke-linejoin:round; stroke-width:4; stroke-opacity:1; fill:none\" points=\"\n",
       "  630.128,1486.45 630.128,1467.55 \n",
       "  \"/>\n",
       "<polyline clip-path=\"url(#clip230)\" style=\"stroke:#000000; stroke-linecap:round; stroke-linejoin:round; stroke-width:4; stroke-opacity:1; fill:none\" points=\"\n",
       "  809.321,1486.45 809.321,1467.55 \n",
       "  \"/>\n",
       "<polyline clip-path=\"url(#clip230)\" style=\"stroke:#000000; stroke-linecap:round; stroke-linejoin:round; stroke-width:4; stroke-opacity:1; fill:none\" points=\"\n",
       "  988.514,1486.45 988.514,1467.55 \n",
       "  \"/>\n",
       "<path clip-path=\"url(#clip230)\" d=\"M274.751 1518.36 L262.946 1536.81 L274.751 1536.81 L274.751 1518.36 M273.525 1514.29 L279.404 1514.29 L279.404 1536.81 L284.335 1536.81 L284.335 1540.7 L279.404 1540.7 L279.404 1548.85 L274.751 1548.85 L274.751 1540.7 L259.15 1540.7 L259.15 1536.19 L273.525 1514.29 Z\" fill=\"#000000\" fill-rule=\"evenodd\" fill-opacity=\"1\" /><path clip-path=\"url(#clip230)\" d=\"M451.34 1529.7 Q448.192 1529.7 446.34 1531.86 Q444.511 1534.01 444.511 1537.76 Q444.511 1541.49 446.34 1543.66 Q448.192 1545.82 451.34 1545.82 Q454.488 1545.82 456.317 1543.66 Q458.169 1541.49 458.169 1537.76 Q458.169 1534.01 456.317 1531.86 Q454.488 1529.7 451.34 1529.7 M460.622 1515.05 L460.622 1519.31 Q458.863 1518.48 457.058 1518.04 Q455.275 1517.6 453.516 1517.6 Q448.886 1517.6 446.433 1520.72 Q444.002 1523.85 443.655 1530.17 Q445.021 1528.15 447.081 1527.09 Q449.141 1526 451.618 1526 Q456.826 1526 459.835 1529.17 Q462.868 1532.32 462.868 1537.76 Q462.868 1543.08 459.72 1546.3 Q456.572 1549.52 451.34 1549.52 Q445.345 1549.52 442.174 1544.94 Q439.002 1540.33 439.002 1531.6 Q439.002 1523.41 442.891 1518.55 Q446.78 1513.66 453.331 1513.66 Q455.09 1513.66 456.872 1514.01 Q458.678 1514.36 460.622 1515.05 Z\" fill=\"#000000\" fill-rule=\"evenodd\" fill-opacity=\"1\" /><path clip-path=\"url(#clip230)\" d=\"M630.128 1532.44 Q626.795 1532.44 624.873 1534.22 Q622.975 1536 622.975 1539.13 Q622.975 1542.25 624.873 1544.03 Q626.795 1545.82 630.128 1545.82 Q633.461 1545.82 635.382 1544.03 Q637.304 1542.23 637.304 1539.13 Q637.304 1536 635.382 1534.22 Q633.484 1532.44 630.128 1532.44 M625.452 1530.45 Q622.443 1529.7 620.753 1527.64 Q619.086 1525.58 619.086 1522.62 Q619.086 1518.48 622.026 1516.07 Q624.989 1513.66 630.128 1513.66 Q635.29 1513.66 638.23 1516.07 Q641.169 1518.48 641.169 1522.62 Q641.169 1525.58 639.48 1527.64 Q637.813 1529.7 634.827 1530.45 Q638.207 1531.23 640.082 1533.52 Q641.98 1535.82 641.98 1539.13 Q641.98 1544.15 638.901 1546.83 Q635.845 1549.52 630.128 1549.52 Q624.41 1549.52 621.332 1546.83 Q618.276 1544.15 618.276 1539.13 Q618.276 1535.82 620.174 1533.52 Q622.072 1531.23 625.452 1530.45 M623.739 1523.06 Q623.739 1525.75 625.406 1527.25 Q627.095 1528.76 630.128 1528.76 Q633.137 1528.76 634.827 1527.25 Q636.54 1525.75 636.54 1523.06 Q636.54 1520.38 634.827 1518.87 Q633.137 1517.37 630.128 1517.37 Q627.095 1517.37 625.406 1518.87 Q623.739 1520.38 623.739 1523.06 Z\" fill=\"#000000\" fill-rule=\"evenodd\" fill-opacity=\"1\" /><path clip-path=\"url(#clip230)\" d=\"M784.008 1544.91 L791.647 1544.91 L791.647 1518.55 L783.337 1520.21 L783.337 1515.95 L791.601 1514.29 L796.277 1514.29 L796.277 1544.91 L803.916 1544.91 L803.916 1548.85 L784.008 1548.85 L784.008 1544.91 Z\" fill=\"#000000\" fill-rule=\"evenodd\" fill-opacity=\"1\" /><path clip-path=\"url(#clip230)\" d=\"M823.36 1517.37 Q819.749 1517.37 817.92 1520.93 Q816.115 1524.47 816.115 1531.6 Q816.115 1538.71 817.92 1542.27 Q819.749 1545.82 823.36 1545.82 Q826.994 1545.82 828.8 1542.27 Q830.628 1538.71 830.628 1531.6 Q830.628 1524.47 828.8 1520.93 Q826.994 1517.37 823.36 1517.37 M823.36 1513.66 Q829.17 1513.66 832.226 1518.27 Q835.304 1522.85 835.304 1531.6 Q835.304 1540.33 832.226 1544.94 Q829.17 1549.52 823.36 1549.52 Q817.55 1549.52 814.471 1544.94 Q811.416 1540.33 811.416 1531.6 Q811.416 1522.85 814.471 1518.27 Q817.55 1513.66 823.36 1513.66 Z\" fill=\"#000000\" fill-rule=\"evenodd\" fill-opacity=\"1\" /><path clip-path=\"url(#clip230)\" d=\"M964 1544.91 L971.639 1544.91 L971.639 1518.55 L963.328 1520.21 L963.328 1515.95 L971.592 1514.29 L976.268 1514.29 L976.268 1544.91 L983.907 1544.91 L983.907 1548.85 L964 1548.85 L964 1544.91 Z\" fill=\"#000000\" fill-rule=\"evenodd\" fill-opacity=\"1\" /><path clip-path=\"url(#clip230)\" d=\"M997.379 1544.91 L1013.7 1544.91 L1013.7 1548.85 L991.754 1548.85 L991.754 1544.91 Q994.416 1542.16 999 1537.53 Q1003.61 1532.88 1004.79 1531.53 Q1007.03 1529.01 1007.91 1527.27 Q1008.81 1525.51 1008.81 1523.82 Q1008.81 1521.07 1006.87 1519.33 Q1004.95 1517.6 1001.85 1517.6 Q999.648 1517.6 997.194 1518.36 Q994.763 1519.13 991.986 1520.68 L991.986 1515.95 Q994.81 1514.82 997.263 1514.24 Q999.717 1513.66 1001.75 1513.66 Q1007.12 1513.66 1010.32 1516.35 Q1013.51 1519.03 1013.51 1523.52 Q1013.51 1525.65 1012.7 1527.57 Q1011.92 1529.47 1009.81 1532.07 Q1009.23 1532.74 1006.13 1535.95 Q1003.03 1539.15 997.379 1544.91 Z\" fill=\"#000000\" fill-rule=\"evenodd\" fill-opacity=\"1\" /><polyline clip-path=\"url(#clip234)\" style=\"stroke:#000000; stroke-linecap:round; stroke-linejoin:round; stroke-width:2; stroke-opacity:0.1; fill:none\" points=\"\n",
       "  184.191,1382.66 1152.76,1382.66 \n",
       "  \"/>\n",
       "<polyline clip-path=\"url(#clip234)\" style=\"stroke:#000000; stroke-linecap:round; stroke-linejoin:round; stroke-width:2; stroke-opacity:0.1; fill:none\" points=\"\n",
       "  184.191,1242.36 1152.76,1242.36 \n",
       "  \"/>\n",
       "<polyline clip-path=\"url(#clip234)\" style=\"stroke:#000000; stroke-linecap:round; stroke-linejoin:round; stroke-width:2; stroke-opacity:0.1; fill:none\" points=\"\n",
       "  184.191,1102.07 1152.76,1102.07 \n",
       "  \"/>\n",
       "<polyline clip-path=\"url(#clip234)\" style=\"stroke:#000000; stroke-linecap:round; stroke-linejoin:round; stroke-width:2; stroke-opacity:0.1; fill:none\" points=\"\n",
       "  184.191,961.775 1152.76,961.775 \n",
       "  \"/>\n",
       "<polyline clip-path=\"url(#clip230)\" style=\"stroke:#000000; stroke-linecap:round; stroke-linejoin:round; stroke-width:4; stroke-opacity:1; fill:none\" points=\"\n",
       "  184.191,1486.45 184.191,847.244 \n",
       "  \"/>\n",
       "<polyline clip-path=\"url(#clip230)\" style=\"stroke:#000000; stroke-linecap:round; stroke-linejoin:round; stroke-width:4; stroke-opacity:1; fill:none\" points=\"\n",
       "  184.191,1382.66 203.088,1382.66 \n",
       "  \"/>\n",
       "<polyline clip-path=\"url(#clip230)\" style=\"stroke:#000000; stroke-linecap:round; stroke-linejoin:round; stroke-width:4; stroke-opacity:1; fill:none\" points=\"\n",
       "  184.191,1242.36 203.088,1242.36 \n",
       "  \"/>\n",
       "<polyline clip-path=\"url(#clip230)\" style=\"stroke:#000000; stroke-linecap:round; stroke-linejoin:round; stroke-width:4; stroke-opacity:1; fill:none\" points=\"\n",
       "  184.191,1102.07 203.088,1102.07 \n",
       "  \"/>\n",
       "<polyline clip-path=\"url(#clip230)\" style=\"stroke:#000000; stroke-linecap:round; stroke-linejoin:round; stroke-width:4; stroke-opacity:1; fill:none\" points=\"\n",
       "  184.191,961.775 203.088,961.775 \n",
       "  \"/>\n",
       "<path clip-path=\"url(#clip230)\" d=\"M86.0382 1396 L102.358 1396 L102.358 1399.94 L80.4133 1399.94 L80.4133 1396 Q83.0753 1393.25 87.6586 1388.62 Q92.2651 1383.96 93.4456 1382.62 Q95.691 1380.1 96.5706 1378.36 Q97.4734 1376.6 97.4734 1374.91 Q97.4734 1372.16 95.5289 1370.42 Q93.6076 1368.69 90.5058 1368.69 Q88.3067 1368.69 85.8531 1369.45 Q83.4225 1370.21 80.6447 1371.76 L80.6447 1367.04 Q83.4688 1365.91 85.9225 1365.33 Q88.3762 1364.75 90.4132 1364.75 Q95.7836 1364.75 98.978 1367.44 Q102.172 1370.12 102.172 1374.61 Q102.172 1376.74 101.362 1378.66 Q100.575 1380.56 98.4687 1383.15 Q97.89 1383.82 94.7882 1387.04 Q91.6864 1390.24 86.0382 1396 Z\" fill=\"#000000\" fill-rule=\"evenodd\" fill-opacity=\"1\" /><path clip-path=\"url(#clip230)\" d=\"M112.172 1394.06 L117.057 1394.06 L117.057 1399.94 L112.172 1399.94 L112.172 1394.06 Z\" fill=\"#000000\" fill-rule=\"evenodd\" fill-opacity=\"1\" /><path clip-path=\"url(#clip230)\" d=\"M127.288 1365.38 L145.644 1365.38 L145.644 1369.31 L131.57 1369.31 L131.57 1377.78 Q132.589 1377.44 133.607 1377.27 Q134.626 1377.09 135.644 1377.09 Q141.431 1377.09 144.811 1380.26 Q148.191 1383.43 148.191 1388.85 Q148.191 1394.43 144.718 1397.53 Q141.246 1400.61 134.927 1400.61 Q132.751 1400.61 130.482 1400.24 Q128.237 1399.87 125.83 1399.13 L125.83 1394.43 Q127.913 1395.56 130.135 1396.12 Q132.357 1396.67 134.834 1396.67 Q138.839 1396.67 141.177 1394.57 Q143.515 1392.46 143.515 1388.85 Q143.515 1385.24 141.177 1383.13 Q138.839 1381.02 134.834 1381.02 Q132.959 1381.02 131.084 1381.44 Q129.232 1381.86 127.288 1382.74 L127.288 1365.38 Z\" fill=\"#000000\" fill-rule=\"evenodd\" fill-opacity=\"1\" /><path clip-path=\"url(#clip230)\" d=\"M81.0614 1225.08 L99.4178 1225.08 L99.4178 1229.02 L85.3438 1229.02 L85.3438 1237.49 Q86.3623 1237.14 87.3808 1236.98 Q88.3993 1236.8 89.4178 1236.8 Q95.2049 1236.8 98.5845 1239.97 Q101.964 1243.14 101.964 1248.55 Q101.964 1254.13 98.4919 1257.23 Q95.0197 1260.31 88.7003 1260.31 Q86.5243 1260.31 84.2558 1259.94 Q82.0105 1259.57 79.6031 1258.83 L79.6031 1254.13 Q81.6864 1255.27 83.9086 1255.82 Q86.1308 1256.38 88.6077 1256.38 Q92.6123 1256.38 94.9502 1254.27 Q97.2882 1252.17 97.2882 1248.55 Q97.2882 1244.94 94.9502 1242.84 Q92.6123 1240.73 88.6077 1240.73 Q86.7327 1240.73 84.8577 1241.15 Q83.0058 1241.56 81.0614 1242.44 L81.0614 1225.08 Z\" fill=\"#000000\" fill-rule=\"evenodd\" fill-opacity=\"1\" /><path clip-path=\"url(#clip230)\" d=\"M111.177 1253.76 L116.061 1253.76 L116.061 1259.64 L111.177 1259.64 L111.177 1253.76 Z\" fill=\"#000000\" fill-rule=\"evenodd\" fill-opacity=\"1\" /><path clip-path=\"url(#clip230)\" d=\"M136.246 1228.16 Q132.635 1228.16 130.807 1231.73 Q129.001 1235.27 129.001 1242.4 Q129.001 1249.5 130.807 1253.07 Q132.635 1256.61 136.246 1256.61 Q139.881 1256.61 141.686 1253.07 Q143.515 1249.5 143.515 1242.4 Q143.515 1235.27 141.686 1231.73 Q139.881 1228.16 136.246 1228.16 M136.246 1224.46 Q142.056 1224.46 145.112 1229.06 Q148.191 1233.65 148.191 1242.4 Q148.191 1251.12 145.112 1255.73 Q142.056 1260.31 136.246 1260.31 Q130.436 1260.31 127.357 1255.73 Q124.302 1251.12 124.302 1242.4 Q124.302 1233.65 127.357 1229.06 Q130.436 1224.46 136.246 1224.46 Z\" fill=\"#000000\" fill-rule=\"evenodd\" fill-opacity=\"1\" /><path clip-path=\"url(#clip230)\" d=\"M80.8299 1084.79 L103.052 1084.79 L103.052 1086.78 L90.5058 1119.35 L85.6216 1119.35 L97.4271 1088.72 L80.8299 1088.72 L80.8299 1084.79 Z\" fill=\"#000000\" fill-rule=\"evenodd\" fill-opacity=\"1\" /><path clip-path=\"url(#clip230)\" d=\"M112.172 1113.47 L117.057 1113.47 L117.057 1119.35 L112.172 1119.35 L112.172 1113.47 Z\" fill=\"#000000\" fill-rule=\"evenodd\" fill-opacity=\"1\" /><path clip-path=\"url(#clip230)\" d=\"M127.288 1084.79 L145.644 1084.79 L145.644 1088.72 L131.57 1088.72 L131.57 1097.2 Q132.589 1096.85 133.607 1096.69 Q134.626 1096.5 135.644 1096.5 Q141.431 1096.5 144.811 1099.67 Q148.191 1102.84 148.191 1108.26 Q148.191 1113.84 144.718 1116.94 Q141.246 1120.02 134.927 1120.02 Q132.751 1120.02 130.482 1119.65 Q128.237 1119.28 125.83 1118.54 L125.83 1113.84 Q127.913 1114.97 130.135 1115.53 Q132.357 1116.08 134.834 1116.08 Q138.839 1116.08 141.177 1113.98 Q143.515 1111.87 143.515 1108.26 Q143.515 1104.65 141.177 1102.54 Q138.839 1100.44 134.834 1100.44 Q132.959 1100.44 131.084 1100.85 Q129.232 1101.27 127.288 1102.15 L127.288 1084.79 Z\" fill=\"#000000\" fill-rule=\"evenodd\" fill-opacity=\"1\" /><path clip-path=\"url(#clip230)\" d=\"M51.6634 975.12 L59.3023 975.12 L59.3023 948.754 L50.9921 950.421 L50.9921 946.161 L59.256 944.495 L63.9319 944.495 L63.9319 975.12 L71.5707 975.12 L71.5707 979.055 L51.6634 979.055 L51.6634 975.12 Z\" fill=\"#000000\" fill-rule=\"evenodd\" fill-opacity=\"1\" /><path clip-path=\"url(#clip230)\" d=\"M91.0151 947.573 Q87.404 947.573 85.5753 951.138 Q83.7697 954.68 83.7697 961.809 Q83.7697 968.916 85.5753 972.481 Q87.404 976.022 91.0151 976.022 Q94.6493 976.022 96.4548 972.481 Q98.2835 968.916 98.2835 961.809 Q98.2835 954.68 96.4548 951.138 Q94.6493 947.573 91.0151 947.573 M91.0151 943.87 Q96.8252 943.87 99.8808 948.476 Q102.959 953.059 102.959 961.809 Q102.959 970.536 99.8808 975.143 Q96.8252 979.726 91.0151 979.726 Q85.2049 979.726 82.1262 975.143 Q79.0707 970.536 79.0707 961.809 Q79.0707 953.059 82.1262 948.476 Q85.2049 943.87 91.0151 943.87 Z\" fill=\"#000000\" fill-rule=\"evenodd\" fill-opacity=\"1\" /><path clip-path=\"url(#clip230)\" d=\"M111.177 973.175 L116.061 973.175 L116.061 979.055 L111.177 979.055 L111.177 973.175 Z\" fill=\"#000000\" fill-rule=\"evenodd\" fill-opacity=\"1\" /><path clip-path=\"url(#clip230)\" d=\"M136.246 947.573 Q132.635 947.573 130.807 951.138 Q129.001 954.68 129.001 961.809 Q129.001 968.916 130.807 972.481 Q132.635 976.022 136.246 976.022 Q139.881 976.022 141.686 972.481 Q143.515 968.916 143.515 961.809 Q143.515 954.68 141.686 951.138 Q139.881 947.573 136.246 947.573 M136.246 943.87 Q142.056 943.87 145.112 948.476 Q148.191 953.059 148.191 961.809 Q148.191 970.536 145.112 975.143 Q142.056 979.726 136.246 979.726 Q130.436 979.726 127.357 975.143 Q124.302 970.536 124.302 961.809 Q124.302 953.059 127.357 948.476 Q130.436 943.87 136.246 943.87 Z\" fill=\"#000000\" fill-rule=\"evenodd\" fill-opacity=\"1\" /><circle clip-path=\"url(#clip234)\" cx=\"745.751\" cy=\"1429.06\" r=\"14.4\" fill=\"#009af9\" fill-rule=\"evenodd\" fill-opacity=\"1\" stroke=\"#000000\" stroke-opacity=\"1\" stroke-width=\"3.2\"/>\n",
       "<circle clip-path=\"url(#clip234)\" cx=\"1125.34\" cy=\"1437.32\" r=\"14.4\" fill=\"#009af9\" fill-rule=\"evenodd\" fill-opacity=\"1\" stroke=\"#000000\" stroke-opacity=\"1\" stroke-width=\"3.2\"/>\n",
       "<circle clip-path=\"url(#clip234)\" cx=\"378.664\" cy=\"1031.27\" r=\"14.4\" fill=\"#009af9\" fill-rule=\"evenodd\" fill-opacity=\"1\" stroke=\"#000000\" stroke-opacity=\"1\" stroke-width=\"3.2\"/>\n",
       "<circle clip-path=\"url(#clip234)\" cx=\"884.121\" cy=\"976.45\" r=\"14.4\" fill=\"#009af9\" fill-rule=\"evenodd\" fill-opacity=\"1\" stroke=\"#000000\" stroke-opacity=\"1\" stroke-width=\"3.2\"/>\n",
       "<circle clip-path=\"url(#clip234)\" cx=\"981.05\" cy=\"1346.54\" r=\"14.4\" fill=\"#009af9\" fill-rule=\"evenodd\" fill-opacity=\"1\" stroke=\"#000000\" stroke-opacity=\"1\" stroke-width=\"3.2\"/>\n",
       "<circle clip-path=\"url(#clip234)\" cx=\"767.64\" cy=\"1468.36\" r=\"14.4\" fill=\"#009af9\" fill-rule=\"evenodd\" fill-opacity=\"1\" stroke=\"#000000\" stroke-opacity=\"1\" stroke-width=\"3.2\"/>\n",
       "<circle clip-path=\"url(#clip234)\" cx=\"1045.17\" cy=\"1115.47\" r=\"14.4\" fill=\"#009af9\" fill-rule=\"evenodd\" fill-opacity=\"1\" stroke=\"#000000\" stroke-opacity=\"1\" stroke-width=\"3.2\"/>\n",
       "<circle clip-path=\"url(#clip234)\" cx=\"919.247\" cy=\"984.217\" r=\"14.4\" fill=\"#009af9\" fill-rule=\"evenodd\" fill-opacity=\"1\" stroke=\"#000000\" stroke-opacity=\"1\" stroke-width=\"3.2\"/>\n",
       "<circle clip-path=\"url(#clip234)\" cx=\"1054.25\" cy=\"865.335\" r=\"14.4\" fill=\"#009af9\" fill-rule=\"evenodd\" fill-opacity=\"1\" stroke=\"#000000\" stroke-opacity=\"1\" stroke-width=\"3.2\"/>\n",
       "<circle clip-path=\"url(#clip234)\" cx=\"260.771\" cy=\"1211.02\" r=\"14.4\" fill=\"#009af9\" fill-rule=\"evenodd\" fill-opacity=\"1\" stroke=\"#000000\" stroke-opacity=\"1\" stroke-width=\"3.2\"/>\n",
       "<circle clip-path=\"url(#clip234)\" cx=\"211.603\" cy=\"987.085\" r=\"14.4\" fill=\"#009af9\" fill-rule=\"evenodd\" fill-opacity=\"1\" stroke=\"#000000\" stroke-opacity=\"1\" stroke-width=\"3.2\"/>\n",
       "<path clip-path=\"url(#clip230)\" d=\"\n",
       "M1384.19 1486.45 L2352.76 1486.45 L2352.76 847.244 L1384.19 847.244  Z\n",
       "  \" fill=\"#ffffff\" fill-rule=\"evenodd\" fill-opacity=\"1\"/>\n",
       "<defs>\n",
       "  <clipPath id=\"clip235\">\n",
       "    <rect x=\"1384\" y=\"847\" width=\"970\" height=\"640\"/>\n",
       "  </clipPath>\n",
       "</defs>\n",
       "<polyline clip-path=\"url(#clip235)\" style=\"stroke:#000000; stroke-linecap:round; stroke-linejoin:round; stroke-width:2; stroke-opacity:0.1; fill:none\" points=\"\n",
       "  1529.66,1486.45 1529.66,847.244 \n",
       "  \"/>\n",
       "<polyline clip-path=\"url(#clip235)\" style=\"stroke:#000000; stroke-linecap:round; stroke-linejoin:round; stroke-width:2; stroke-opacity:0.1; fill:none\" points=\"\n",
       "  1705.65,1486.45 1705.65,847.244 \n",
       "  \"/>\n",
       "<polyline clip-path=\"url(#clip235)\" style=\"stroke:#000000; stroke-linecap:round; stroke-linejoin:round; stroke-width:2; stroke-opacity:0.1; fill:none\" points=\"\n",
       "  1881.63,1486.45 1881.63,847.244 \n",
       "  \"/>\n",
       "<polyline clip-path=\"url(#clip235)\" style=\"stroke:#000000; stroke-linecap:round; stroke-linejoin:round; stroke-width:2; stroke-opacity:0.1; fill:none\" points=\"\n",
       "  2057.62,1486.45 2057.62,847.244 \n",
       "  \"/>\n",
       "<polyline clip-path=\"url(#clip235)\" style=\"stroke:#000000; stroke-linecap:round; stroke-linejoin:round; stroke-width:2; stroke-opacity:0.1; fill:none\" points=\"\n",
       "  2233.61,1486.45 2233.61,847.244 \n",
       "  \"/>\n",
       "<polyline clip-path=\"url(#clip230)\" style=\"stroke:#000000; stroke-linecap:round; stroke-linejoin:round; stroke-width:4; stroke-opacity:1; fill:none\" points=\"\n",
       "  1384.19,1486.45 2352.76,1486.45 \n",
       "  \"/>\n",
       "<polyline clip-path=\"url(#clip230)\" style=\"stroke:#000000; stroke-linecap:round; stroke-linejoin:round; stroke-width:4; stroke-opacity:1; fill:none\" points=\"\n",
       "  1529.66,1486.45 1529.66,1467.55 \n",
       "  \"/>\n",
       "<polyline clip-path=\"url(#clip230)\" style=\"stroke:#000000; stroke-linecap:round; stroke-linejoin:round; stroke-width:4; stroke-opacity:1; fill:none\" points=\"\n",
       "  1705.65,1486.45 1705.65,1467.55 \n",
       "  \"/>\n",
       "<polyline clip-path=\"url(#clip230)\" style=\"stroke:#000000; stroke-linecap:round; stroke-linejoin:round; stroke-width:4; stroke-opacity:1; fill:none\" points=\"\n",
       "  1881.63,1486.45 1881.63,1467.55 \n",
       "  \"/>\n",
       "<polyline clip-path=\"url(#clip230)\" style=\"stroke:#000000; stroke-linecap:round; stroke-linejoin:round; stroke-width:4; stroke-opacity:1; fill:none\" points=\"\n",
       "  2057.62,1486.45 2057.62,1467.55 \n",
       "  \"/>\n",
       "<polyline clip-path=\"url(#clip230)\" style=\"stroke:#000000; stroke-linecap:round; stroke-linejoin:round; stroke-width:4; stroke-opacity:1; fill:none\" points=\"\n",
       "  2233.61,1486.45 2233.61,1467.55 \n",
       "  \"/>\n",
       "<path clip-path=\"url(#clip230)\" d=\"M1501.39 1544.91 L1517.71 1544.91 L1517.71 1548.85 L1495.77 1548.85 L1495.77 1544.91 Q1498.43 1542.16 1503.01 1537.53 Q1507.62 1532.88 1508.8 1531.53 Q1511.05 1529.01 1511.93 1527.27 Q1512.83 1525.51 1512.83 1523.82 Q1512.83 1521.07 1510.88 1519.33 Q1508.96 1517.6 1505.86 1517.6 Q1503.66 1517.6 1501.21 1518.36 Q1498.78 1519.13 1496 1520.68 L1496 1515.95 Q1498.82 1514.82 1501.28 1514.24 Q1503.73 1513.66 1505.77 1513.66 Q1511.14 1513.66 1514.33 1516.35 Q1517.53 1519.03 1517.53 1523.52 Q1517.53 1525.65 1516.72 1527.57 Q1515.93 1529.47 1513.82 1532.07 Q1513.25 1532.74 1510.14 1535.95 Q1507.04 1539.15 1501.39 1544.91 Z\" fill=\"#000000\" fill-rule=\"evenodd\" fill-opacity=\"1\" /><path clip-path=\"url(#clip230)\" d=\"M1527.53 1542.97 L1532.41 1542.97 L1532.41 1548.85 L1527.53 1548.85 L1527.53 1542.97 Z\" fill=\"#000000\" fill-rule=\"evenodd\" fill-opacity=\"1\" /><path clip-path=\"url(#clip230)\" d=\"M1542.64 1514.29 L1561 1514.29 L1561 1518.22 L1546.93 1518.22 L1546.93 1526.7 Q1547.94 1526.35 1548.96 1526.19 Q1549.98 1526 1551 1526 Q1556.79 1526 1560.17 1529.17 Q1563.55 1532.34 1563.55 1537.76 Q1563.55 1543.34 1560.07 1546.44 Q1556.6 1549.52 1550.28 1549.52 Q1548.11 1549.52 1545.84 1549.15 Q1543.59 1548.78 1541.18 1548.04 L1541.18 1543.34 Q1543.27 1544.47 1545.49 1545.03 Q1547.71 1545.58 1550.19 1545.58 Q1554.19 1545.58 1556.53 1543.48 Q1558.87 1541.37 1558.87 1537.76 Q1558.87 1534.15 1556.53 1532.04 Q1554.19 1529.94 1550.19 1529.94 Q1548.31 1529.94 1546.44 1530.35 Q1544.59 1530.77 1542.64 1531.65 L1542.64 1514.29 Z\" fill=\"#000000\" fill-rule=\"evenodd\" fill-opacity=\"1\" /><path clip-path=\"url(#clip230)\" d=\"M1672.81 1514.29 L1691.17 1514.29 L1691.17 1518.22 L1677.09 1518.22 L1677.09 1526.7 Q1678.11 1526.35 1679.13 1526.19 Q1680.15 1526 1681.17 1526 Q1686.95 1526 1690.33 1529.17 Q1693.71 1532.34 1693.71 1537.76 Q1693.71 1543.34 1690.24 1546.44 Q1686.77 1549.52 1680.45 1549.52 Q1678.27 1549.52 1676 1549.15 Q1673.76 1548.78 1671.35 1548.04 L1671.35 1543.34 Q1673.43 1544.47 1675.66 1545.03 Q1677.88 1545.58 1680.36 1545.58 Q1684.36 1545.58 1686.7 1543.48 Q1689.04 1541.37 1689.04 1537.76 Q1689.04 1534.15 1686.7 1532.04 Q1684.36 1529.94 1680.36 1529.94 Q1678.48 1529.94 1676.61 1530.35 Q1674.75 1530.77 1672.81 1531.65 L1672.81 1514.29 Z\" fill=\"#000000\" fill-rule=\"evenodd\" fill-opacity=\"1\" /><path clip-path=\"url(#clip230)\" d=\"M1702.93 1542.97 L1707.81 1542.97 L1707.81 1548.85 L1702.93 1548.85 L1702.93 1542.97 Z\" fill=\"#000000\" fill-rule=\"evenodd\" fill-opacity=\"1\" /><path clip-path=\"url(#clip230)\" d=\"M1727.99 1517.37 Q1724.38 1517.37 1722.55 1520.93 Q1720.75 1524.47 1720.75 1531.6 Q1720.75 1538.71 1722.55 1542.27 Q1724.38 1545.82 1727.99 1545.82 Q1731.63 1545.82 1733.43 1542.27 Q1735.26 1538.71 1735.26 1531.6 Q1735.26 1524.47 1733.43 1520.93 Q1731.63 1517.37 1727.99 1517.37 M1727.99 1513.66 Q1733.8 1513.66 1736.86 1518.27 Q1739.94 1522.85 1739.94 1531.6 Q1739.94 1540.33 1736.86 1544.94 Q1733.8 1549.52 1727.99 1549.52 Q1722.18 1549.52 1719.11 1544.94 Q1716.05 1540.33 1716.05 1531.6 Q1716.05 1522.85 1719.11 1518.27 Q1722.18 1513.66 1727.99 1513.66 Z\" fill=\"#000000\" fill-rule=\"evenodd\" fill-opacity=\"1\" /><path clip-path=\"url(#clip230)\" d=\"M1847.95 1514.29 L1870.17 1514.29 L1870.17 1516.28 L1857.63 1548.85 L1852.74 1548.85 L1864.55 1518.22 L1847.95 1518.22 L1847.95 1514.29 Z\" fill=\"#000000\" fill-rule=\"evenodd\" fill-opacity=\"1\" /><path clip-path=\"url(#clip230)\" d=\"M1879.3 1542.97 L1884.18 1542.97 L1884.18 1548.85 L1879.3 1548.85 L1879.3 1542.97 Z\" fill=\"#000000\" fill-rule=\"evenodd\" fill-opacity=\"1\" /><path clip-path=\"url(#clip230)\" d=\"M1894.41 1514.29 L1912.77 1514.29 L1912.77 1518.22 L1898.69 1518.22 L1898.69 1526.7 Q1899.71 1526.35 1900.73 1526.19 Q1901.75 1526 1902.77 1526 Q1908.55 1526 1911.93 1529.17 Q1915.31 1532.34 1915.31 1537.76 Q1915.31 1543.34 1911.84 1546.44 Q1908.37 1549.52 1902.05 1549.52 Q1899.87 1549.52 1897.61 1549.15 Q1895.36 1548.78 1892.95 1548.04 L1892.95 1543.34 Q1895.04 1544.47 1897.26 1545.03 Q1899.48 1545.58 1901.96 1545.58 Q1905.96 1545.58 1908.3 1543.48 Q1910.64 1541.37 1910.64 1537.76 Q1910.64 1534.15 1908.3 1532.04 Q1905.96 1529.94 1901.96 1529.94 Q1900.08 1529.94 1898.21 1530.35 Q1896.36 1530.77 1894.41 1531.65 L1894.41 1514.29 Z\" fill=\"#000000\" fill-rule=\"evenodd\" fill-opacity=\"1\" /><path clip-path=\"url(#clip230)\" d=\"M2009.69 1544.91 L2017.33 1544.91 L2017.33 1518.55 L2009.02 1520.21 L2009.02 1515.95 L2017.29 1514.29 L2021.96 1514.29 L2021.96 1544.91 L2029.6 1544.91 L2029.6 1548.85 L2009.69 1548.85 L2009.69 1544.91 Z\" fill=\"#000000\" fill-rule=\"evenodd\" fill-opacity=\"1\" /><path clip-path=\"url(#clip230)\" d=\"M2049.04 1517.37 Q2045.43 1517.37 2043.6 1520.93 Q2041.8 1524.47 2041.8 1531.6 Q2041.8 1538.71 2043.6 1542.27 Q2045.43 1545.82 2049.04 1545.82 Q2052.68 1545.82 2054.48 1542.27 Q2056.31 1538.71 2056.31 1531.6 Q2056.31 1524.47 2054.48 1520.93 Q2052.68 1517.37 2049.04 1517.37 M2049.04 1513.66 Q2054.85 1513.66 2057.91 1518.27 Q2060.99 1522.85 2060.99 1531.6 Q2060.99 1540.33 2057.91 1544.94 Q2054.85 1549.52 2049.04 1549.52 Q2043.23 1549.52 2040.16 1544.94 Q2037.1 1540.33 2037.1 1531.6 Q2037.1 1522.85 2040.16 1518.27 Q2043.23 1513.66 2049.04 1513.66 Z\" fill=\"#000000\" fill-rule=\"evenodd\" fill-opacity=\"1\" /><path clip-path=\"url(#clip230)\" d=\"M2069.21 1542.97 L2074.09 1542.97 L2074.09 1548.85 L2069.21 1548.85 L2069.21 1542.97 Z\" fill=\"#000000\" fill-rule=\"evenodd\" fill-opacity=\"1\" /><path clip-path=\"url(#clip230)\" d=\"M2094.28 1517.37 Q2090.66 1517.37 2088.84 1520.93 Q2087.03 1524.47 2087.03 1531.6 Q2087.03 1538.71 2088.84 1542.27 Q2090.66 1545.82 2094.28 1545.82 Q2097.91 1545.82 2099.72 1542.27 Q2101.54 1538.71 2101.54 1531.6 Q2101.54 1524.47 2099.72 1520.93 Q2097.91 1517.37 2094.28 1517.37 M2094.28 1513.66 Q2100.09 1513.66 2103.14 1518.27 Q2106.22 1522.85 2106.22 1531.6 Q2106.22 1540.33 2103.14 1544.94 Q2100.09 1549.52 2094.28 1549.52 Q2088.47 1549.52 2085.39 1544.94 Q2082.33 1540.33 2082.33 1531.6 Q2082.33 1522.85 2085.39 1518.27 Q2088.47 1513.66 2094.28 1513.66 Z\" fill=\"#000000\" fill-rule=\"evenodd\" fill-opacity=\"1\" /><path clip-path=\"url(#clip230)\" d=\"M2186.18 1544.91 L2193.82 1544.91 L2193.82 1518.55 L2185.51 1520.21 L2185.51 1515.95 L2193.77 1514.29 L2198.45 1514.29 L2198.45 1544.91 L2206.09 1544.91 L2206.09 1548.85 L2186.18 1548.85 L2186.18 1544.91 Z\" fill=\"#000000\" fill-rule=\"evenodd\" fill-opacity=\"1\" /><path clip-path=\"url(#clip230)\" d=\"M2219.56 1544.91 L2235.88 1544.91 L2235.88 1548.85 L2213.93 1548.85 L2213.93 1544.91 Q2216.6 1542.16 2221.18 1537.53 Q2225.79 1532.88 2226.97 1531.53 Q2229.21 1529.01 2230.09 1527.27 Q2230.99 1525.51 2230.99 1523.82 Q2230.99 1521.07 2229.05 1519.33 Q2227.13 1517.6 2224.03 1517.6 Q2221.83 1517.6 2219.37 1518.36 Q2216.94 1519.13 2214.16 1520.68 L2214.16 1515.95 Q2216.99 1514.82 2219.44 1514.24 Q2221.9 1513.66 2223.93 1513.66 Q2229.3 1513.66 2232.5 1516.35 Q2235.69 1519.03 2235.69 1523.52 Q2235.69 1525.65 2234.88 1527.57 Q2234.1 1529.47 2231.99 1532.07 Q2231.41 1532.74 2228.31 1535.95 Q2225.21 1539.15 2219.56 1544.91 Z\" fill=\"#000000\" fill-rule=\"evenodd\" fill-opacity=\"1\" /><path clip-path=\"url(#clip230)\" d=\"M2245.69 1542.97 L2250.58 1542.97 L2250.58 1548.85 L2245.69 1548.85 L2245.69 1542.97 Z\" fill=\"#000000\" fill-rule=\"evenodd\" fill-opacity=\"1\" /><path clip-path=\"url(#clip230)\" d=\"M2260.81 1514.29 L2279.16 1514.29 L2279.16 1518.22 L2265.09 1518.22 L2265.09 1526.7 Q2266.11 1526.35 2267.13 1526.19 Q2268.15 1526 2269.16 1526 Q2274.95 1526 2278.33 1529.17 Q2281.71 1532.34 2281.71 1537.76 Q2281.71 1543.34 2278.24 1546.44 Q2274.77 1549.52 2268.45 1549.52 Q2266.27 1549.52 2264 1549.15 Q2261.76 1548.78 2259.35 1548.04 L2259.35 1543.34 Q2261.43 1544.47 2263.66 1545.03 Q2265.88 1545.58 2268.35 1545.58 Q2272.36 1545.58 2274.7 1543.48 Q2277.03 1541.37 2277.03 1537.76 Q2277.03 1534.15 2274.7 1532.04 Q2272.36 1529.94 2268.35 1529.94 Q2266.48 1529.94 2264.6 1530.35 Q2262.75 1530.77 2260.81 1531.65 L2260.81 1514.29 Z\" fill=\"#000000\" fill-rule=\"evenodd\" fill-opacity=\"1\" /><polyline clip-path=\"url(#clip235)\" style=\"stroke:#000000; stroke-linecap:round; stroke-linejoin:round; stroke-width:2; stroke-opacity:0.1; fill:none\" points=\"\n",
       "  1384.19,1400.42 2352.76,1400.42 \n",
       "  \"/>\n",
       "<polyline clip-path=\"url(#clip235)\" style=\"stroke:#000000; stroke-linecap:round; stroke-linejoin:round; stroke-width:2; stroke-opacity:0.1; fill:none\" points=\"\n",
       "  1384.19,1279.42 2352.76,1279.42 \n",
       "  \"/>\n",
       "<polyline clip-path=\"url(#clip235)\" style=\"stroke:#000000; stroke-linecap:round; stroke-linejoin:round; stroke-width:2; stroke-opacity:0.1; fill:none\" points=\"\n",
       "  1384.19,1158.43 2352.76,1158.43 \n",
       "  \"/>\n",
       "<polyline clip-path=\"url(#clip235)\" style=\"stroke:#000000; stroke-linecap:round; stroke-linejoin:round; stroke-width:2; stroke-opacity:0.1; fill:none\" points=\"\n",
       "  1384.19,1037.43 2352.76,1037.43 \n",
       "  \"/>\n",
       "<polyline clip-path=\"url(#clip235)\" style=\"stroke:#000000; stroke-linecap:round; stroke-linejoin:round; stroke-width:2; stroke-opacity:0.1; fill:none\" points=\"\n",
       "  1384.19,916.428 2352.76,916.428 \n",
       "  \"/>\n",
       "<polyline clip-path=\"url(#clip230)\" style=\"stroke:#000000; stroke-linecap:round; stroke-linejoin:round; stroke-width:4; stroke-opacity:1; fill:none\" points=\"\n",
       "  1384.19,1486.45 1384.19,847.244 \n",
       "  \"/>\n",
       "<polyline clip-path=\"url(#clip230)\" style=\"stroke:#000000; stroke-linecap:round; stroke-linejoin:round; stroke-width:4; stroke-opacity:1; fill:none\" points=\"\n",
       "  1384.19,1400.42 1403.09,1400.42 \n",
       "  \"/>\n",
       "<polyline clip-path=\"url(#clip230)\" style=\"stroke:#000000; stroke-linecap:round; stroke-linejoin:round; stroke-width:4; stroke-opacity:1; fill:none\" points=\"\n",
       "  1384.19,1279.42 1403.09,1279.42 \n",
       "  \"/>\n",
       "<polyline clip-path=\"url(#clip230)\" style=\"stroke:#000000; stroke-linecap:round; stroke-linejoin:round; stroke-width:4; stroke-opacity:1; fill:none\" points=\"\n",
       "  1384.19,1158.43 1403.09,1158.43 \n",
       "  \"/>\n",
       "<polyline clip-path=\"url(#clip230)\" style=\"stroke:#000000; stroke-linecap:round; stroke-linejoin:round; stroke-width:4; stroke-opacity:1; fill:none\" points=\"\n",
       "  1384.19,1037.43 1403.09,1037.43 \n",
       "  \"/>\n",
       "<polyline clip-path=\"url(#clip230)\" style=\"stroke:#000000; stroke-linecap:round; stroke-linejoin:round; stroke-width:4; stroke-opacity:1; fill:none\" points=\"\n",
       "  1384.19,916.428 1403.09,916.428 \n",
       "  \"/>\n",
       "<path clip-path=\"url(#clip230)\" d=\"M1286.04 1413.77 L1302.36 1413.77 L1302.36 1417.7 L1280.41 1417.7 L1280.41 1413.77 Q1283.08 1411.01 1287.66 1406.38 Q1292.27 1401.73 1293.45 1400.39 Q1295.69 1397.87 1296.57 1396.13 Q1297.47 1394.37 1297.47 1392.68 Q1297.47 1389.93 1295.53 1388.19 Q1293.61 1386.45 1290.51 1386.45 Q1288.31 1386.45 1285.85 1387.22 Q1283.42 1387.98 1280.64 1389.53 L1280.64 1384.81 Q1283.47 1383.68 1285.92 1383.1 Q1288.38 1382.52 1290.41 1382.52 Q1295.78 1382.52 1298.98 1385.2 Q1302.17 1387.89 1302.17 1392.38 Q1302.17 1394.51 1301.36 1396.43 Q1300.58 1398.33 1298.47 1400.92 Q1297.89 1401.59 1294.79 1404.81 Q1291.69 1408 1286.04 1413.77 Z\" fill=\"#000000\" fill-rule=\"evenodd\" fill-opacity=\"1\" /><path clip-path=\"url(#clip230)\" d=\"M1312.17 1411.82 L1317.06 1411.82 L1317.06 1417.7 L1312.17 1417.7 L1312.17 1411.82 Z\" fill=\"#000000\" fill-rule=\"evenodd\" fill-opacity=\"1\" /><path clip-path=\"url(#clip230)\" d=\"M1327.29 1383.14 L1345.64 1383.14 L1345.64 1387.08 L1331.57 1387.08 L1331.57 1395.55 Q1332.59 1395.2 1333.61 1395.04 Q1334.63 1394.86 1335.64 1394.86 Q1341.43 1394.86 1344.81 1398.03 Q1348.19 1401.2 1348.19 1406.62 Q1348.19 1412.19 1344.72 1415.3 Q1341.25 1418.37 1334.93 1418.37 Q1332.75 1418.37 1330.48 1418 Q1328.24 1417.63 1325.83 1416.89 L1325.83 1412.19 Q1327.91 1413.33 1330.14 1413.88 Q1332.36 1414.44 1334.83 1414.44 Q1338.84 1414.44 1341.18 1412.33 Q1343.51 1410.23 1343.51 1406.62 Q1343.51 1403 1341.18 1400.9 Q1338.84 1398.79 1334.83 1398.79 Q1332.96 1398.79 1331.08 1399.21 Q1329.23 1399.62 1327.29 1400.5 L1327.29 1383.14 Z\" fill=\"#000000\" fill-rule=\"evenodd\" fill-opacity=\"1\" /><path clip-path=\"url(#clip230)\" d=\"M1281.06 1262.14 L1299.42 1262.14 L1299.42 1266.08 L1285.34 1266.08 L1285.34 1274.55 Q1286.36 1274.2 1287.38 1274.04 Q1288.4 1273.86 1289.42 1273.86 Q1295.2 1273.86 1298.58 1277.03 Q1301.96 1280.2 1301.96 1285.62 Q1301.96 1291.2 1298.49 1294.3 Q1295.02 1297.38 1288.7 1297.38 Q1286.52 1297.38 1284.26 1297.01 Q1282.01 1296.63 1279.6 1295.89 L1279.6 1291.2 Q1281.69 1292.33 1283.91 1292.88 Q1286.13 1293.44 1288.61 1293.44 Q1292.61 1293.44 1294.95 1291.33 Q1297.29 1289.23 1297.29 1285.62 Q1297.29 1282.01 1294.95 1279.9 Q1292.61 1277.79 1288.61 1277.79 Q1286.73 1277.79 1284.86 1278.21 Q1283.01 1278.63 1281.06 1279.51 L1281.06 1262.14 Z\" fill=\"#000000\" fill-rule=\"evenodd\" fill-opacity=\"1\" /><path clip-path=\"url(#clip230)\" d=\"M1311.18 1290.82 L1316.06 1290.82 L1316.06 1296.7 L1311.18 1296.7 L1311.18 1290.82 Z\" fill=\"#000000\" fill-rule=\"evenodd\" fill-opacity=\"1\" /><path clip-path=\"url(#clip230)\" d=\"M1336.25 1265.22 Q1332.64 1265.22 1330.81 1268.79 Q1329 1272.33 1329 1279.46 Q1329 1286.57 1330.81 1290.13 Q1332.64 1293.67 1336.25 1293.67 Q1339.88 1293.67 1341.69 1290.13 Q1343.51 1286.57 1343.51 1279.46 Q1343.51 1272.33 1341.69 1268.79 Q1339.88 1265.22 1336.25 1265.22 M1336.25 1261.52 Q1342.06 1261.52 1345.11 1266.13 Q1348.19 1270.71 1348.19 1279.46 Q1348.19 1288.19 1345.11 1292.79 Q1342.06 1297.38 1336.25 1297.38 Q1330.44 1297.38 1327.36 1292.79 Q1324.3 1288.19 1324.3 1279.46 Q1324.3 1270.71 1327.36 1266.13 Q1330.44 1261.52 1336.25 1261.52 Z\" fill=\"#000000\" fill-rule=\"evenodd\" fill-opacity=\"1\" /><path clip-path=\"url(#clip230)\" d=\"M1280.83 1141.15 L1303.05 1141.15 L1303.05 1143.14 L1290.51 1175.71 L1285.62 1175.71 L1297.43 1145.08 L1280.83 1145.08 L1280.83 1141.15 Z\" fill=\"#000000\" fill-rule=\"evenodd\" fill-opacity=\"1\" /><path clip-path=\"url(#clip230)\" d=\"M1312.17 1169.83 L1317.06 1169.83 L1317.06 1175.71 L1312.17 1175.71 L1312.17 1169.83 Z\" fill=\"#000000\" fill-rule=\"evenodd\" fill-opacity=\"1\" /><path clip-path=\"url(#clip230)\" d=\"M1327.29 1141.15 L1345.64 1141.15 L1345.64 1145.08 L1331.57 1145.08 L1331.57 1153.55 Q1332.59 1153.21 1333.61 1153.04 Q1334.63 1152.86 1335.64 1152.86 Q1341.43 1152.86 1344.81 1156.03 Q1348.19 1159.2 1348.19 1164.62 Q1348.19 1170.2 1344.72 1173.3 Q1341.25 1176.38 1334.93 1176.38 Q1332.75 1176.38 1330.48 1176.01 Q1328.24 1175.64 1325.83 1174.9 L1325.83 1170.2 Q1327.91 1171.33 1330.14 1171.89 Q1332.36 1172.44 1334.83 1172.44 Q1338.84 1172.44 1341.18 1170.34 Q1343.51 1168.23 1343.51 1164.62 Q1343.51 1161.01 1341.18 1158.9 Q1338.84 1156.79 1334.83 1156.79 Q1332.96 1156.79 1331.08 1157.21 Q1329.23 1157.63 1327.29 1158.51 L1327.29 1141.15 Z\" fill=\"#000000\" fill-rule=\"evenodd\" fill-opacity=\"1\" /><path clip-path=\"url(#clip230)\" d=\"M1251.66 1050.77 L1259.3 1050.77 L1259.3 1024.41 L1250.99 1026.07 L1250.99 1021.81 L1259.26 1020.15 L1263.93 1020.15 L1263.93 1050.77 L1271.57 1050.77 L1271.57 1054.71 L1251.66 1054.71 L1251.66 1050.77 Z\" fill=\"#000000\" fill-rule=\"evenodd\" fill-opacity=\"1\" /><path clip-path=\"url(#clip230)\" d=\"M1291.02 1023.23 Q1287.4 1023.23 1285.58 1026.79 Q1283.77 1030.33 1283.77 1037.46 Q1283.77 1044.57 1285.58 1048.13 Q1287.4 1051.67 1291.02 1051.67 Q1294.65 1051.67 1296.45 1048.13 Q1298.28 1044.57 1298.28 1037.46 Q1298.28 1030.33 1296.45 1026.79 Q1294.65 1023.23 1291.02 1023.23 M1291.02 1019.52 Q1296.83 1019.52 1299.88 1024.13 Q1302.96 1028.71 1302.96 1037.46 Q1302.96 1046.19 1299.88 1050.79 Q1296.83 1055.38 1291.02 1055.38 Q1285.2 1055.38 1282.13 1050.79 Q1279.07 1046.19 1279.07 1037.46 Q1279.07 1028.71 1282.13 1024.13 Q1285.2 1019.52 1291.02 1019.52 Z\" fill=\"#000000\" fill-rule=\"evenodd\" fill-opacity=\"1\" /><path clip-path=\"url(#clip230)\" d=\"M1311.18 1048.83 L1316.06 1048.83 L1316.06 1054.71 L1311.18 1054.71 L1311.18 1048.83 Z\" fill=\"#000000\" fill-rule=\"evenodd\" fill-opacity=\"1\" /><path clip-path=\"url(#clip230)\" d=\"M1336.25 1023.23 Q1332.64 1023.23 1330.81 1026.79 Q1329 1030.33 1329 1037.46 Q1329 1044.57 1330.81 1048.13 Q1332.64 1051.67 1336.25 1051.67 Q1339.88 1051.67 1341.69 1048.13 Q1343.51 1044.57 1343.51 1037.46 Q1343.51 1030.33 1341.69 1026.79 Q1339.88 1023.23 1336.25 1023.23 M1336.25 1019.52 Q1342.06 1019.52 1345.11 1024.13 Q1348.19 1028.71 1348.19 1037.46 Q1348.19 1046.19 1345.11 1050.79 Q1342.06 1055.38 1336.25 1055.38 Q1330.44 1055.38 1327.36 1050.79 Q1324.3 1046.19 1324.3 1037.46 Q1324.3 1028.71 1327.36 1024.13 Q1330.44 1019.52 1336.25 1019.52 Z\" fill=\"#000000\" fill-rule=\"evenodd\" fill-opacity=\"1\" /><path clip-path=\"url(#clip230)\" d=\"M1252.66 929.773 L1260.3 929.773 L1260.3 903.407 L1251.99 905.074 L1251.99 900.814 L1260.25 899.148 L1264.93 899.148 L1264.93 929.773 L1272.57 929.773 L1272.57 933.708 L1252.66 933.708 L1252.66 929.773 Z\" fill=\"#000000\" fill-rule=\"evenodd\" fill-opacity=\"1\" /><path clip-path=\"url(#clip230)\" d=\"M1286.04 929.773 L1302.36 929.773 L1302.36 933.708 L1280.41 933.708 L1280.41 929.773 Q1283.08 927.018 1287.66 922.388 Q1292.27 917.736 1293.45 916.393 Q1295.69 913.87 1296.57 912.134 Q1297.47 910.375 1297.47 908.685 Q1297.47 905.93 1295.53 904.194 Q1293.61 902.458 1290.51 902.458 Q1288.31 902.458 1285.85 903.222 Q1283.42 903.986 1280.64 905.537 L1280.64 900.814 Q1283.47 899.68 1285.92 899.101 Q1288.38 898.523 1290.41 898.523 Q1295.78 898.523 1298.98 901.208 Q1302.17 903.893 1302.17 908.384 Q1302.17 910.513 1301.36 912.435 Q1300.58 914.333 1298.47 916.925 Q1297.89 917.597 1294.79 920.814 Q1291.69 924.009 1286.04 929.773 Z\" fill=\"#000000\" fill-rule=\"evenodd\" fill-opacity=\"1\" /><path clip-path=\"url(#clip230)\" d=\"M1312.17 927.828 L1317.06 927.828 L1317.06 933.708 L1312.17 933.708 L1312.17 927.828 Z\" fill=\"#000000\" fill-rule=\"evenodd\" fill-opacity=\"1\" /><path clip-path=\"url(#clip230)\" d=\"M1327.29 899.148 L1345.64 899.148 L1345.64 903.083 L1331.57 903.083 L1331.57 911.555 Q1332.59 911.208 1333.61 911.046 Q1334.63 910.861 1335.64 910.861 Q1341.43 910.861 1344.81 914.032 Q1348.19 917.203 1348.19 922.62 Q1348.19 928.199 1344.72 931.3 Q1341.25 934.379 1334.93 934.379 Q1332.75 934.379 1330.48 934.009 Q1328.24 933.638 1325.83 932.898 L1325.83 928.199 Q1327.91 929.333 1330.14 929.888 Q1332.36 930.444 1334.83 930.444 Q1338.84 930.444 1341.18 928.337 Q1343.51 926.231 1343.51 922.62 Q1343.51 919.009 1341.18 916.902 Q1338.84 914.796 1334.83 914.796 Q1332.96 914.796 1331.08 915.213 Q1329.23 915.629 1327.29 916.509 L1327.29 899.148 Z\" fill=\"#000000\" fill-rule=\"evenodd\" fill-opacity=\"1\" /><circle clip-path=\"url(#clip235)\" cx=\"2216.5\" cy=\"965.486\" r=\"14.4\" fill=\"#009af9\" fill-rule=\"evenodd\" fill-opacity=\"1\" stroke=\"#000000\" stroke-opacity=\"1\" stroke-width=\"3.2\"/>\n",
       "<circle clip-path=\"url(#clip235)\" cx=\"2137.63\" cy=\"1417.08\" r=\"14.4\" fill=\"#009af9\" fill-rule=\"evenodd\" fill-opacity=\"1\" stroke=\"#000000\" stroke-opacity=\"1\" stroke-width=\"3.2\"/>\n",
       "<circle clip-path=\"url(#clip235)\" cx=\"2023.26\" cy=\"865.335\" r=\"14.4\" fill=\"#009af9\" fill-rule=\"evenodd\" fill-opacity=\"1\" stroke=\"#000000\" stroke-opacity=\"1\" stroke-width=\"3.2\"/>\n",
       "<circle clip-path=\"url(#clip235)\" cx=\"1659.49\" cy=\"990.904\" r=\"14.4\" fill=\"#009af9\" fill-rule=\"evenodd\" fill-opacity=\"1\" stroke=\"#000000\" stroke-opacity=\"1\" stroke-width=\"3.2\"/>\n",
       "<circle clip-path=\"url(#clip235)\" cx=\"1608.6\" cy=\"1464.7\" r=\"14.4\" fill=\"#009af9\" fill-rule=\"evenodd\" fill-opacity=\"1\" stroke=\"#000000\" stroke-opacity=\"1\" stroke-width=\"3.2\"/>\n",
       "<circle clip-path=\"url(#clip235)\" cx=\"1639.86\" cy=\"1064.41\" r=\"14.4\" fill=\"#009af9\" fill-rule=\"evenodd\" fill-opacity=\"1\" stroke=\"#000000\" stroke-opacity=\"1\" stroke-width=\"3.2\"/>\n",
       "<circle clip-path=\"url(#clip235)\" cx=\"1731.62\" cy=\"1443.49\" r=\"14.4\" fill=\"#009af9\" fill-rule=\"evenodd\" fill-opacity=\"1\" stroke=\"#000000\" stroke-opacity=\"1\" stroke-width=\"3.2\"/>\n",
       "<circle clip-path=\"url(#clip235)\" cx=\"1411.6\" cy=\"981.708\" r=\"14.4\" fill=\"#009af9\" fill-rule=\"evenodd\" fill-opacity=\"1\" stroke=\"#000000\" stroke-opacity=\"1\" stroke-width=\"3.2\"/>\n",
       "<circle clip-path=\"url(#clip235)\" cx=\"1992.52\" cy=\"1065.61\" r=\"14.4\" fill=\"#009af9\" fill-rule=\"evenodd\" fill-opacity=\"1\" stroke=\"#000000\" stroke-opacity=\"1\" stroke-width=\"3.2\"/>\n",
       "<circle clip-path=\"url(#clip235)\" cx=\"1727.03\" cy=\"1155.3\" r=\"14.4\" fill=\"#009af9\" fill-rule=\"evenodd\" fill-opacity=\"1\" stroke=\"#000000\" stroke-opacity=\"1\" stroke-width=\"3.2\"/>\n",
       "<circle clip-path=\"url(#clip235)\" cx=\"2325.34\" cy=\"1468.36\" r=\"14.4\" fill=\"#009af9\" fill-rule=\"evenodd\" fill-opacity=\"1\" stroke=\"#000000\" stroke-opacity=\"1\" stroke-width=\"3.2\"/>\n",
       "</svg>\n"
      ]
     },
     "execution_count": 134,
     "metadata": {},
     "output_type": "execute_result"
    }
   ],
   "source": [
    "plot([scatter(aq[:, i], aq[:, i+1]; legend=false) for i in 1:2:7]...)"
   ]
  },
  {
   "cell_type": "markdown",
   "id": "a9857045-e17b-46cb-9408-da2fc418559c",
   "metadata": {},
   "source": [
    "Observe, however, that we had to add one small detail. Since the plot function\n",
    "accepts subplots as its consecutive positional arguments, we cannot just pass a vector\n",
    "produced by our comprehension to it, as that would produce an error. We need to\n",
    "expand the vector into multiple positional arguments in the function call. This opera-\n",
    "tion, called splatting, is performed using the triple dots (...). In our code, they\n",
    "directly follow the comprehension expression inside the function call."
   ]
  },
  {
   "cell_type": "code",
   "execution_count": null,
   "id": "80145505-5332-4557-b29e-e97562e0ecfd",
   "metadata": {},
   "outputs": [],
   "source": []
  }
 ],
 "metadata": {
  "kernelspec": {
   "display_name": "Julia 1.8.5",
   "language": "julia",
   "name": "julia-1.8"
  },
  "language_info": {
   "file_extension": ".jl",
   "mimetype": "application/julia",
   "name": "julia",
   "version": "1.8.5"
  }
 },
 "nbformat": 4,
 "nbformat_minor": 5
}
