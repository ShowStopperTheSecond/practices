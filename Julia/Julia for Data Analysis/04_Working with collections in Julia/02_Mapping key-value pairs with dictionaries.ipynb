{
 "cells": [
  {
   "cell_type": "markdown",
   "id": "3d48726d-6413-497a-b85e-d8fa7d3c7aa7",
   "metadata": {},
   "source": [
    "# Mapping key-value pairs with dictionaries"
   ]
  },
  {
   "cell_type": "markdown",
   "id": "af57d91b-7e7c-434d-9e96-0838dc6c8066",
   "metadata": {},
   "source": [
    "## THE SICHERMAN PUZZLE"
   ]
  },
  {
   "cell_type": "markdown",
   "id": "0b821305-8b51-4cf1-9b35-4e7155a6a84f",
   "metadata": {},
   "source": [
    "A standard die has six sides, with faces numbered from 1 to 6. In many games, players\n",
    "roll two standard dice and sum the obtained results. In the Sicherman puzzle, we are\n",
    "asked to check if it is possible to number the faces of a pair of cubes in a way com-\n",
    "pletely different from that of standard dice so that the cubes can be used in any dice\n",
    "game and all the odds will be the same as they are when standard dice are used. More\n",
    "formally, we want to check if there exist other pairs of two six-sided dice, not necessar-\n",
    "ily identical, with faces numbered with positive integers that have the same probability\n",
    "distribution for the sum of rolled values as standard dice."
   ]
  },
  {
   "cell_type": "code",
   "execution_count": 1,
   "id": "a09163e5-c75e-4f6b-9685-408e78ca4824",
   "metadata": {},
   "outputs": [
    {
     "data": {
      "text/plain": [
       "Dict{Int64, Int64}()"
      ]
     },
     "execution_count": 1,
     "metadata": {},
     "output_type": "execute_result"
    }
   ],
   "source": [
    "two_standard_dist = Dict{Int, Int}()"
   ]
  },
  {
   "cell_type": "code",
   "execution_count": 2,
   "id": "fd515a57-453e-46b4-a5ee-2cf17f38b4cc",
   "metadata": {},
   "outputs": [],
   "source": [
    "for i in 1:6\n",
    "    for j in 1:6\n",
    "        s = i+j\n",
    "        if haskey(two_standard_dist, s)\n",
    "            two_standard_dist[s] +=1\n",
    "        else\n",
    "            two_standard_dist[s]=1\n",
    "        end\n",
    "    end\n",
    "end\n",
    "\n",
    "        "
   ]
  },
  {
   "cell_type": "code",
   "execution_count": 3,
   "id": "812e0c13-cc07-4bc4-a290-0ca46c70a3eb",
   "metadata": {},
   "outputs": [
    {
     "data": {
      "text/plain": [
       "Dict{Int64, Int64} with 11 entries:\n",
       "  5  => 4\n",
       "  12 => 1\n",
       "  8  => 5\n",
       "  6  => 5\n",
       "  11 => 2\n",
       "  9  => 4\n",
       "  3  => 2\n",
       "  7  => 6\n",
       "  4  => 3\n",
       "  2  => 1\n",
       "  10 => 3"
      ]
     },
     "execution_count": 3,
     "metadata": {},
     "output_type": "execute_result"
    }
   ],
   "source": [
    "two_standard_dist"
   ]
  },
  {
   "cell_type": "code",
   "execution_count": 4,
   "id": "af2062ef-4415-4db7-87c0-c90ad2e5c1b0",
   "metadata": {},
   "outputs": [
    {
     "data": {
      "text/plain": [
       "ValueIterator for a Dict{Int64, Int64} with 11 entries. Values:\n",
       "  4\n",
       "  1\n",
       "  5\n",
       "  5\n",
       "  2\n",
       "  4\n",
       "  2\n",
       "  6\n",
       "  3\n",
       "  1\n",
       "  3"
      ]
     },
     "execution_count": 4,
     "metadata": {},
     "output_type": "execute_result"
    }
   ],
   "source": [
    "values(two_standard_dist)"
   ]
  },
  {
   "cell_type": "code",
   "execution_count": 5,
   "id": "dfd61309-0cb4-4342-9a93-eebaf0d5a77f",
   "metadata": {},
   "outputs": [],
   "source": [
    "using Plots "
   ]
  },
  {
   "cell_type": "code",
   "execution_count": 19,
   "id": "27c5e535-f83a-45af-a4f1-84087fd8987b",
   "metadata": {},
   "outputs": [],
   "source": [
    "y = collect(values(two_standard_dist));\n",
    "x = collect(keys(two_standard_dist));"
   ]
  },
  {
   "cell_type": "code",
   "execution_count": 26,
   "id": "a7e78b44-3aff-4acc-b90e-f66a87fbbfbf",
   "metadata": {},
   "outputs": [
    {
     "data": {
      "image/svg+xml": [
       "<?xml version=\"1.0\" encoding=\"utf-8\"?>\n",
       "<svg xmlns=\"http://www.w3.org/2000/svg\" xmlns:xlink=\"http://www.w3.org/1999/xlink\" width=\"600\" height=\"400\" viewBox=\"0 0 2400 1600\">\n",
       "<defs>\n",
       "  <clipPath id=\"clip100\">\n",
       "    <rect x=\"0\" y=\"0\" width=\"2400\" height=\"1600\"/>\n",
       "  </clipPath>\n",
       "</defs>\n",
       "<path clip-path=\"url(#clip100)\" d=\"\n",
       "M0 1600 L2400 1600 L2400 0 L0 0  Z\n",
       "  \" fill=\"#ffffff\" fill-rule=\"evenodd\" fill-opacity=\"1\"/>\n",
       "<defs>\n",
       "  <clipPath id=\"clip101\">\n",
       "    <rect x=\"480\" y=\"0\" width=\"1681\" height=\"1600\"/>\n",
       "  </clipPath>\n",
       "</defs>\n",
       "<path clip-path=\"url(#clip100)\" d=\"\n",
       "M112.177 1486.45 L2352.76 1486.45 L2352.76 47.2441 L112.177 47.2441  Z\n",
       "  \" fill=\"#ffffff\" fill-rule=\"evenodd\" fill-opacity=\"1\"/>\n",
       "<defs>\n",
       "  <clipPath id=\"clip102\">\n",
       "    <rect x=\"112\" y=\"47\" width=\"2242\" height=\"1440\"/>\n",
       "  </clipPath>\n",
       "</defs>\n",
       "<polyline clip-path=\"url(#clip102)\" style=\"stroke:#000000; stroke-linecap:round; stroke-linejoin:round; stroke-width:2; stroke-opacity:0.1; fill:none\" points=\"\n",
       "  175.59,1486.45 175.59,47.2441 \n",
       "  \"/>\n",
       "<polyline clip-path=\"url(#clip102)\" style=\"stroke:#000000; stroke-linecap:round; stroke-linejoin:round; stroke-width:2; stroke-opacity:0.1; fill:none\" points=\"\n",
       "  386.965,1486.45 386.965,47.2441 \n",
       "  \"/>\n",
       "<polyline clip-path=\"url(#clip102)\" style=\"stroke:#000000; stroke-linecap:round; stroke-linejoin:round; stroke-width:2; stroke-opacity:0.1; fill:none\" points=\"\n",
       "  598.34,1486.45 598.34,47.2441 \n",
       "  \"/>\n",
       "<polyline clip-path=\"url(#clip102)\" style=\"stroke:#000000; stroke-linecap:round; stroke-linejoin:round; stroke-width:2; stroke-opacity:0.1; fill:none\" points=\"\n",
       "  809.716,1486.45 809.716,47.2441 \n",
       "  \"/>\n",
       "<polyline clip-path=\"url(#clip102)\" style=\"stroke:#000000; stroke-linecap:round; stroke-linejoin:round; stroke-width:2; stroke-opacity:0.1; fill:none\" points=\"\n",
       "  1021.09,1486.45 1021.09,47.2441 \n",
       "  \"/>\n",
       "<polyline clip-path=\"url(#clip102)\" style=\"stroke:#000000; stroke-linecap:round; stroke-linejoin:round; stroke-width:2; stroke-opacity:0.1; fill:none\" points=\"\n",
       "  1232.47,1486.45 1232.47,47.2441 \n",
       "  \"/>\n",
       "<polyline clip-path=\"url(#clip102)\" style=\"stroke:#000000; stroke-linecap:round; stroke-linejoin:round; stroke-width:2; stroke-opacity:0.1; fill:none\" points=\"\n",
       "  1443.84,1486.45 1443.84,47.2441 \n",
       "  \"/>\n",
       "<polyline clip-path=\"url(#clip102)\" style=\"stroke:#000000; stroke-linecap:round; stroke-linejoin:round; stroke-width:2; stroke-opacity:0.1; fill:none\" points=\"\n",
       "  1655.22,1486.45 1655.22,47.2441 \n",
       "  \"/>\n",
       "<polyline clip-path=\"url(#clip102)\" style=\"stroke:#000000; stroke-linecap:round; stroke-linejoin:round; stroke-width:2; stroke-opacity:0.1; fill:none\" points=\"\n",
       "  1866.59,1486.45 1866.59,47.2441 \n",
       "  \"/>\n",
       "<polyline clip-path=\"url(#clip102)\" style=\"stroke:#000000; stroke-linecap:round; stroke-linejoin:round; stroke-width:2; stroke-opacity:0.1; fill:none\" points=\"\n",
       "  2077.97,1486.45 2077.97,47.2441 \n",
       "  \"/>\n",
       "<polyline clip-path=\"url(#clip102)\" style=\"stroke:#000000; stroke-linecap:round; stroke-linejoin:round; stroke-width:2; stroke-opacity:0.1; fill:none\" points=\"\n",
       "  2289.34,1486.45 2289.34,47.2441 \n",
       "  \"/>\n",
       "<polyline clip-path=\"url(#clip100)\" style=\"stroke:#000000; stroke-linecap:round; stroke-linejoin:round; stroke-width:4; stroke-opacity:1; fill:none\" points=\"\n",
       "  112.177,1486.45 2352.76,1486.45 \n",
       "  \"/>\n",
       "<polyline clip-path=\"url(#clip100)\" style=\"stroke:#000000; stroke-linecap:round; stroke-linejoin:round; stroke-width:4; stroke-opacity:1; fill:none\" points=\"\n",
       "  175.59,1486.45 175.59,1467.55 \n",
       "  \"/>\n",
       "<polyline clip-path=\"url(#clip100)\" style=\"stroke:#000000; stroke-linecap:round; stroke-linejoin:round; stroke-width:4; stroke-opacity:1; fill:none\" points=\"\n",
       "  386.965,1486.45 386.965,1467.55 \n",
       "  \"/>\n",
       "<polyline clip-path=\"url(#clip100)\" style=\"stroke:#000000; stroke-linecap:round; stroke-linejoin:round; stroke-width:4; stroke-opacity:1; fill:none\" points=\"\n",
       "  598.34,1486.45 598.34,1467.55 \n",
       "  \"/>\n",
       "<polyline clip-path=\"url(#clip100)\" style=\"stroke:#000000; stroke-linecap:round; stroke-linejoin:round; stroke-width:4; stroke-opacity:1; fill:none\" points=\"\n",
       "  809.716,1486.45 809.716,1467.55 \n",
       "  \"/>\n",
       "<polyline clip-path=\"url(#clip100)\" style=\"stroke:#000000; stroke-linecap:round; stroke-linejoin:round; stroke-width:4; stroke-opacity:1; fill:none\" points=\"\n",
       "  1021.09,1486.45 1021.09,1467.55 \n",
       "  \"/>\n",
       "<polyline clip-path=\"url(#clip100)\" style=\"stroke:#000000; stroke-linecap:round; stroke-linejoin:round; stroke-width:4; stroke-opacity:1; fill:none\" points=\"\n",
       "  1232.47,1486.45 1232.47,1467.55 \n",
       "  \"/>\n",
       "<polyline clip-path=\"url(#clip100)\" style=\"stroke:#000000; stroke-linecap:round; stroke-linejoin:round; stroke-width:4; stroke-opacity:1; fill:none\" points=\"\n",
       "  1443.84,1486.45 1443.84,1467.55 \n",
       "  \"/>\n",
       "<polyline clip-path=\"url(#clip100)\" style=\"stroke:#000000; stroke-linecap:round; stroke-linejoin:round; stroke-width:4; stroke-opacity:1; fill:none\" points=\"\n",
       "  1655.22,1486.45 1655.22,1467.55 \n",
       "  \"/>\n",
       "<polyline clip-path=\"url(#clip100)\" style=\"stroke:#000000; stroke-linecap:round; stroke-linejoin:round; stroke-width:4; stroke-opacity:1; fill:none\" points=\"\n",
       "  1866.59,1486.45 1866.59,1467.55 \n",
       "  \"/>\n",
       "<polyline clip-path=\"url(#clip100)\" style=\"stroke:#000000; stroke-linecap:round; stroke-linejoin:round; stroke-width:4; stroke-opacity:1; fill:none\" points=\"\n",
       "  2077.97,1486.45 2077.97,1467.55 \n",
       "  \"/>\n",
       "<polyline clip-path=\"url(#clip100)\" style=\"stroke:#000000; stroke-linecap:round; stroke-linejoin:round; stroke-width:4; stroke-opacity:1; fill:none\" points=\"\n",
       "  2289.34,1486.45 2289.34,1467.55 \n",
       "  \"/>\n",
       "<path clip-path=\"url(#clip100)\" d=\"M170.243 1544.91 L186.562 1544.91 L186.562 1548.85 L164.618 1548.85 L164.618 1544.91 Q167.28 1542.16 171.863 1537.53 Q176.469 1532.88 177.65 1531.53 Q179.895 1529.01 180.775 1527.27 Q181.678 1525.51 181.678 1523.82 Q181.678 1521.07 179.733 1519.33 Q177.812 1517.6 174.71 1517.6 Q172.511 1517.6 170.057 1518.36 Q167.627 1519.13 164.849 1520.68 L164.849 1515.95 Q167.673 1514.82 170.127 1514.24 Q172.581 1513.66 174.618 1513.66 Q179.988 1513.66 183.182 1516.35 Q186.377 1519.03 186.377 1523.52 Q186.377 1525.65 185.567 1527.57 Q184.78 1529.47 182.673 1532.07 Q182.094 1532.74 178.993 1535.95 Q175.891 1539.15 170.243 1544.91 Z\" fill=\"#000000\" fill-rule=\"evenodd\" fill-opacity=\"1\" /><path clip-path=\"url(#clip100)\" d=\"M391.213 1530.21 Q394.569 1530.93 396.444 1533.2 Q398.342 1535.47 398.342 1538.8 Q398.342 1543.92 394.824 1546.72 Q391.305 1549.52 384.824 1549.52 Q382.648 1549.52 380.333 1549.08 Q378.042 1548.66 375.588 1547.81 L375.588 1543.29 Q377.532 1544.43 379.847 1545.01 Q382.162 1545.58 384.685 1545.58 Q389.083 1545.58 391.375 1543.85 Q393.69 1542.11 393.69 1538.8 Q393.69 1535.75 391.537 1534.03 Q389.407 1532.3 385.588 1532.3 L381.56 1532.3 L381.56 1528.45 L385.773 1528.45 Q389.222 1528.45 391.051 1527.09 Q392.879 1525.7 392.879 1523.11 Q392.879 1520.45 390.981 1519.03 Q389.106 1517.6 385.588 1517.6 Q383.667 1517.6 381.467 1518.01 Q379.268 1518.43 376.63 1519.31 L376.63 1515.14 Q379.292 1514.4 381.606 1514.03 Q383.944 1513.66 386.004 1513.66 Q391.329 1513.66 394.43 1516.09 Q397.532 1518.5 397.532 1522.62 Q397.532 1525.49 395.889 1527.48 Q394.245 1529.45 391.213 1530.21 Z\" fill=\"#000000\" fill-rule=\"evenodd\" fill-opacity=\"1\" /><path clip-path=\"url(#clip100)\" d=\"M601.35 1518.36 L589.544 1536.81 L601.35 1536.81 L601.35 1518.36 M600.123 1514.29 L606.002 1514.29 L606.002 1536.81 L610.933 1536.81 L610.933 1540.7 L606.002 1540.7 L606.002 1548.85 L601.35 1548.85 L601.35 1540.7 L585.748 1540.7 L585.748 1536.19 L600.123 1514.29 Z\" fill=\"#000000\" fill-rule=\"evenodd\" fill-opacity=\"1\" /><path clip-path=\"url(#clip100)\" d=\"M799.994 1514.29 L818.35 1514.29 L818.35 1518.22 L804.276 1518.22 L804.276 1526.7 Q805.295 1526.35 806.313 1526.19 Q807.332 1526 808.35 1526 Q814.137 1526 817.517 1529.17 Q820.896 1532.34 820.896 1537.76 Q820.896 1543.34 817.424 1546.44 Q813.952 1549.52 807.633 1549.52 Q805.457 1549.52 803.188 1549.15 Q800.943 1548.78 798.535 1548.04 L798.535 1543.34 Q800.619 1544.47 802.841 1545.03 Q805.063 1545.58 807.54 1545.58 Q811.545 1545.58 813.882 1543.48 Q816.22 1541.37 816.22 1537.76 Q816.22 1534.15 813.882 1532.04 Q811.545 1529.94 807.54 1529.94 Q805.665 1529.94 803.79 1530.35 Q801.938 1530.77 799.994 1531.65 L799.994 1514.29 Z\" fill=\"#000000\" fill-rule=\"evenodd\" fill-opacity=\"1\" /><path clip-path=\"url(#clip100)\" d=\"M1021.5 1529.7 Q1018.35 1529.7 1016.5 1531.86 Q1014.67 1534.01 1014.67 1537.76 Q1014.67 1541.49 1016.5 1543.66 Q1018.35 1545.82 1021.5 1545.82 Q1024.64 1545.82 1026.47 1543.66 Q1028.32 1541.49 1028.32 1537.76 Q1028.32 1534.01 1026.47 1531.86 Q1024.64 1529.7 1021.5 1529.7 M1030.78 1515.05 L1030.78 1519.31 Q1029.02 1518.48 1027.21 1518.04 Q1025.43 1517.6 1023.67 1517.6 Q1019.04 1517.6 1016.59 1520.72 Q1014.16 1523.85 1013.81 1530.17 Q1015.18 1528.15 1017.24 1527.09 Q1019.3 1526 1021.77 1526 Q1026.98 1526 1029.99 1529.17 Q1033.02 1532.32 1033.02 1537.76 Q1033.02 1543.08 1029.88 1546.3 Q1026.73 1549.52 1021.5 1549.52 Q1015.5 1549.52 1012.33 1544.94 Q1009.16 1540.33 1009.16 1531.6 Q1009.16 1523.41 1013.05 1518.55 Q1016.94 1513.66 1023.49 1513.66 Q1025.25 1513.66 1027.03 1514.01 Q1028.83 1514.36 1030.78 1515.05 Z\" fill=\"#000000\" fill-rule=\"evenodd\" fill-opacity=\"1\" /><path clip-path=\"url(#clip100)\" d=\"M1221.36 1514.29 L1243.58 1514.29 L1243.58 1516.28 L1231.03 1548.85 L1226.15 1548.85 L1237.95 1518.22 L1221.36 1518.22 L1221.36 1514.29 Z\" fill=\"#000000\" fill-rule=\"evenodd\" fill-opacity=\"1\" /><path clip-path=\"url(#clip100)\" d=\"M1443.84 1532.44 Q1440.51 1532.44 1438.59 1534.22 Q1436.69 1536 1436.69 1539.13 Q1436.69 1542.25 1438.59 1544.03 Q1440.51 1545.82 1443.84 1545.82 Q1447.18 1545.82 1449.1 1544.03 Q1451.02 1542.23 1451.02 1539.13 Q1451.02 1536 1449.1 1534.22 Q1447.2 1532.44 1443.84 1532.44 M1439.17 1530.45 Q1436.16 1529.7 1434.47 1527.64 Q1432.8 1525.58 1432.8 1522.62 Q1432.8 1518.48 1435.74 1516.07 Q1438.7 1513.66 1443.84 1513.66 Q1449 1513.66 1451.94 1516.07 Q1454.88 1518.48 1454.88 1522.62 Q1454.88 1525.58 1453.19 1527.64 Q1451.53 1529.7 1448.54 1530.45 Q1451.92 1531.23 1453.8 1533.52 Q1455.69 1535.82 1455.69 1539.13 Q1455.69 1544.15 1452.61 1546.83 Q1449.56 1549.52 1443.84 1549.52 Q1438.12 1549.52 1435.05 1546.83 Q1431.99 1544.15 1431.99 1539.13 Q1431.99 1535.82 1433.89 1533.52 Q1435.79 1531.23 1439.17 1530.45 M1437.45 1523.06 Q1437.45 1525.75 1439.12 1527.25 Q1440.81 1528.76 1443.84 1528.76 Q1446.85 1528.76 1448.54 1527.25 Q1450.25 1525.75 1450.25 1523.06 Q1450.25 1520.38 1448.54 1518.87 Q1446.85 1517.37 1443.84 1517.37 Q1440.81 1517.37 1439.12 1518.87 Q1437.45 1520.38 1437.45 1523.06 Z\" fill=\"#000000\" fill-rule=\"evenodd\" fill-opacity=\"1\" /><path clip-path=\"url(#clip100)\" d=\"M1645.52 1548.13 L1645.52 1543.87 Q1647.28 1544.7 1649.08 1545.14 Q1650.89 1545.58 1652.62 1545.58 Q1657.25 1545.58 1659.68 1542.48 Q1662.14 1539.36 1662.49 1533.01 Q1661.14 1535.01 1659.08 1536.07 Q1657.02 1537.13 1654.52 1537.13 Q1649.34 1537.13 1646.31 1534.01 Q1643.3 1530.86 1643.3 1525.42 Q1643.3 1520.1 1646.44 1516.88 Q1649.59 1513.66 1654.82 1513.66 Q1660.82 1513.66 1663.97 1518.27 Q1667.14 1522.85 1667.14 1531.6 Q1667.14 1539.77 1663.25 1544.66 Q1659.38 1549.52 1652.83 1549.52 Q1651.07 1549.52 1649.27 1549.17 Q1647.46 1548.82 1645.52 1548.13 M1654.82 1533.48 Q1657.97 1533.48 1659.8 1531.32 Q1661.65 1529.17 1661.65 1525.42 Q1661.65 1521.7 1659.8 1519.54 Q1657.97 1517.37 1654.82 1517.37 Q1651.68 1517.37 1649.82 1519.54 Q1648 1521.7 1648 1525.42 Q1648 1529.17 1649.82 1531.32 Q1651.68 1533.48 1654.82 1533.48 Z\" fill=\"#000000\" fill-rule=\"evenodd\" fill-opacity=\"1\" /><path clip-path=\"url(#clip100)\" d=\"M1841.28 1544.91 L1848.92 1544.91 L1848.92 1518.55 L1840.61 1520.21 L1840.61 1515.95 L1848.87 1514.29 L1853.55 1514.29 L1853.55 1544.91 L1861.19 1544.91 L1861.19 1548.85 L1841.28 1548.85 L1841.28 1544.91 Z\" fill=\"#000000\" fill-rule=\"evenodd\" fill-opacity=\"1\" /><path clip-path=\"url(#clip100)\" d=\"M1880.63 1517.37 Q1877.02 1517.37 1875.19 1520.93 Q1873.39 1524.47 1873.39 1531.6 Q1873.39 1538.71 1875.19 1542.27 Q1877.02 1545.82 1880.63 1545.82 Q1884.27 1545.82 1886.07 1542.27 Q1887.9 1538.71 1887.9 1531.6 Q1887.9 1524.47 1886.07 1520.93 Q1884.27 1517.37 1880.63 1517.37 M1880.63 1513.66 Q1886.44 1513.66 1889.5 1518.27 Q1892.58 1522.85 1892.58 1531.6 Q1892.58 1540.33 1889.5 1544.94 Q1886.44 1549.52 1880.63 1549.52 Q1874.82 1549.52 1871.74 1544.94 Q1868.69 1540.33 1868.69 1531.6 Q1868.69 1522.85 1871.74 1518.27 Q1874.82 1513.66 1880.63 1513.66 Z\" fill=\"#000000\" fill-rule=\"evenodd\" fill-opacity=\"1\" /><path clip-path=\"url(#clip100)\" d=\"M2053.27 1544.91 L2060.91 1544.91 L2060.91 1518.55 L2052.6 1520.21 L2052.6 1515.95 L2060.86 1514.29 L2065.54 1514.29 L2065.54 1544.91 L2073.18 1544.91 L2073.18 1548.85 L2053.27 1548.85 L2053.27 1544.91 Z\" fill=\"#000000\" fill-rule=\"evenodd\" fill-opacity=\"1\" /><path clip-path=\"url(#clip100)\" d=\"M2083.43 1544.91 L2091.07 1544.91 L2091.07 1518.55 L2082.76 1520.21 L2082.76 1515.95 L2091.02 1514.29 L2095.7 1514.29 L2095.7 1544.91 L2103.34 1544.91 L2103.34 1548.85 L2083.43 1548.85 L2083.43 1544.91 Z\" fill=\"#000000\" fill-rule=\"evenodd\" fill-opacity=\"1\" /><path clip-path=\"url(#clip100)\" d=\"M2264.83 1544.91 L2272.47 1544.91 L2272.47 1518.55 L2264.16 1520.21 L2264.16 1515.95 L2272.42 1514.29 L2277.1 1514.29 L2277.1 1544.91 L2284.74 1544.91 L2284.74 1548.85 L2264.83 1548.85 L2264.83 1544.91 Z\" fill=\"#000000\" fill-rule=\"evenodd\" fill-opacity=\"1\" /><path clip-path=\"url(#clip100)\" d=\"M2298.21 1544.91 L2314.53 1544.91 L2314.53 1548.85 L2292.58 1548.85 L2292.58 1544.91 Q2295.25 1542.16 2299.83 1537.53 Q2304.44 1532.88 2305.62 1531.53 Q2307.86 1529.01 2308.74 1527.27 Q2309.64 1525.51 2309.64 1523.82 Q2309.64 1521.07 2307.7 1519.33 Q2305.78 1517.6 2302.68 1517.6 Q2300.48 1517.6 2298.02 1518.36 Q2295.59 1519.13 2292.82 1520.68 L2292.82 1515.95 Q2295.64 1514.82 2298.09 1514.24 Q2300.55 1513.66 2302.58 1513.66 Q2307.95 1513.66 2311.15 1516.35 Q2314.34 1519.03 2314.34 1523.52 Q2314.34 1525.65 2313.53 1527.57 Q2312.75 1529.47 2310.64 1532.07 Q2310.06 1532.74 2306.96 1535.95 Q2303.86 1539.15 2298.21 1544.91 Z\" fill=\"#000000\" fill-rule=\"evenodd\" fill-opacity=\"1\" /><polyline clip-path=\"url(#clip102)\" style=\"stroke:#000000; stroke-linecap:round; stroke-linejoin:round; stroke-width:2; stroke-opacity:0.1; fill:none\" points=\"\n",
       "  112.177,1445.72 2352.76,1445.72 \n",
       "  \"/>\n",
       "<polyline clip-path=\"url(#clip102)\" style=\"stroke:#000000; stroke-linecap:round; stroke-linejoin:round; stroke-width:2; stroke-opacity:0.1; fill:none\" points=\"\n",
       "  112.177,1174.17 2352.76,1174.17 \n",
       "  \"/>\n",
       "<polyline clip-path=\"url(#clip102)\" style=\"stroke:#000000; stroke-linecap:round; stroke-linejoin:round; stroke-width:2; stroke-opacity:0.1; fill:none\" points=\"\n",
       "  112.177,902.62 2352.76,902.62 \n",
       "  \"/>\n",
       "<polyline clip-path=\"url(#clip102)\" style=\"stroke:#000000; stroke-linecap:round; stroke-linejoin:round; stroke-width:2; stroke-opacity:0.1; fill:none\" points=\"\n",
       "  112.177,631.072 2352.76,631.072 \n",
       "  \"/>\n",
       "<polyline clip-path=\"url(#clip102)\" style=\"stroke:#000000; stroke-linecap:round; stroke-linejoin:round; stroke-width:2; stroke-opacity:0.1; fill:none\" points=\"\n",
       "  112.177,359.524 2352.76,359.524 \n",
       "  \"/>\n",
       "<polyline clip-path=\"url(#clip102)\" style=\"stroke:#000000; stroke-linecap:round; stroke-linejoin:round; stroke-width:2; stroke-opacity:0.1; fill:none\" points=\"\n",
       "  112.177,87.9763 2352.76,87.9763 \n",
       "  \"/>\n",
       "<polyline clip-path=\"url(#clip100)\" style=\"stroke:#000000; stroke-linecap:round; stroke-linejoin:round; stroke-width:4; stroke-opacity:1; fill:none\" points=\"\n",
       "  112.177,1486.45 112.177,47.2441 \n",
       "  \"/>\n",
       "<polyline clip-path=\"url(#clip100)\" style=\"stroke:#000000; stroke-linecap:round; stroke-linejoin:round; stroke-width:4; stroke-opacity:1; fill:none\" points=\"\n",
       "  112.177,1445.72 131.075,1445.72 \n",
       "  \"/>\n",
       "<polyline clip-path=\"url(#clip100)\" style=\"stroke:#000000; stroke-linecap:round; stroke-linejoin:round; stroke-width:4; stroke-opacity:1; fill:none\" points=\"\n",
       "  112.177,1174.17 131.075,1174.17 \n",
       "  \"/>\n",
       "<polyline clip-path=\"url(#clip100)\" style=\"stroke:#000000; stroke-linecap:round; stroke-linejoin:round; stroke-width:4; stroke-opacity:1; fill:none\" points=\"\n",
       "  112.177,902.62 131.075,902.62 \n",
       "  \"/>\n",
       "<polyline clip-path=\"url(#clip100)\" style=\"stroke:#000000; stroke-linecap:round; stroke-linejoin:round; stroke-width:4; stroke-opacity:1; fill:none\" points=\"\n",
       "  112.177,631.072 131.075,631.072 \n",
       "  \"/>\n",
       "<polyline clip-path=\"url(#clip100)\" style=\"stroke:#000000; stroke-linecap:round; stroke-linejoin:round; stroke-width:4; stroke-opacity:1; fill:none\" points=\"\n",
       "  112.177,359.524 131.075,359.524 \n",
       "  \"/>\n",
       "<polyline clip-path=\"url(#clip100)\" style=\"stroke:#000000; stroke-linecap:round; stroke-linejoin:round; stroke-width:4; stroke-opacity:1; fill:none\" points=\"\n",
       "  112.177,87.9763 131.075,87.9763 \n",
       "  \"/>\n",
       "<path clip-path=\"url(#clip100)\" d=\"M56.2699 1459.06 L63.9087 1459.06 L63.9087 1432.69 L55.5986 1434.36 L55.5986 1430.1 L63.8624 1428.44 L68.5383 1428.44 L68.5383 1459.06 L76.1772 1459.06 L76.1772 1463 L56.2699 1463 L56.2699 1459.06 Z\" fill=\"#000000\" fill-rule=\"evenodd\" fill-opacity=\"1\" /><path clip-path=\"url(#clip100)\" d=\"M59.8578 1187.51 L76.1772 1187.51 L76.1772 1191.45 L54.2328 1191.45 L54.2328 1187.51 Q56.8949 1184.76 61.4782 1180.13 Q66.0846 1175.48 67.2652 1174.13 Q69.5105 1171.61 70.3902 1169.87 Q71.2929 1168.11 71.2929 1166.42 Q71.2929 1163.67 69.3485 1161.93 Q67.4272 1160.2 64.3254 1160.2 Q62.1263 1160.2 59.6726 1160.96 Q57.2421 1161.73 54.4643 1163.28 L54.4643 1158.55 Q57.2884 1157.42 59.7421 1156.84 Q62.1958 1156.26 64.2328 1156.26 Q69.6031 1156.26 72.7976 1158.95 Q75.992 1161.63 75.992 1166.12 Q75.992 1168.25 75.1818 1170.17 Q74.3948 1172.07 72.2883 1174.67 Q71.7096 1175.34 68.6078 1178.55 Q65.5059 1181.75 59.8578 1187.51 Z\" fill=\"#000000\" fill-rule=\"evenodd\" fill-opacity=\"1\" /><path clip-path=\"url(#clip100)\" d=\"M69.0476 901.266 Q72.404 901.983 74.279 904.252 Q76.1772 906.52 76.1772 909.854 Q76.1772 914.969 72.6587 917.77 Q69.1402 920.571 62.6587 920.571 Q60.4828 920.571 58.168 920.131 Q55.8764 919.715 53.4227 918.858 L53.4227 914.344 Q55.3671 915.479 57.6819 916.057 Q59.9967 916.636 62.5198 916.636 Q66.918 916.636 69.2096 914.9 Q71.5244 913.164 71.5244 909.854 Q71.5244 906.798 69.3717 905.085 Q67.242 903.349 63.4226 903.349 L59.3949 903.349 L59.3949 899.507 L63.6078 899.507 Q67.0569 899.507 68.8855 898.141 Q70.7142 896.752 70.7142 894.159 Q70.7142 891.497 68.8161 890.085 Q66.9411 888.65 63.4226 888.65 Q61.5013 888.65 59.3023 889.067 Q57.1032 889.483 54.4643 890.363 L54.4643 886.196 Q57.1264 885.456 59.4412 885.085 Q61.7791 884.715 63.8393 884.715 Q69.1633 884.715 72.2652 887.145 Q75.367 889.553 75.367 893.673 Q75.367 896.544 73.7235 898.534 Q72.08 900.502 69.0476 901.266 Z\" fill=\"#000000\" fill-rule=\"evenodd\" fill-opacity=\"1\" /><path clip-path=\"url(#clip100)\" d=\"M66.5939 617.866 L54.7884 636.315 L66.5939 636.315 L66.5939 617.866 M65.367 613.792 L71.2466 613.792 L71.2466 636.315 L76.1772 636.315 L76.1772 640.204 L71.2466 640.204 L71.2466 648.352 L66.5939 648.352 L66.5939 640.204 L50.9921 640.204 L50.9921 635.69 L65.367 613.792 Z\" fill=\"#000000\" fill-rule=\"evenodd\" fill-opacity=\"1\" /><path clip-path=\"url(#clip100)\" d=\"M55.2745 342.244 L73.6309 342.244 L73.6309 346.179 L59.5569 346.179 L59.5569 354.652 Q60.5754 354.304 61.5939 354.142 Q62.6124 353.957 63.6309 353.957 Q69.418 353.957 72.7976 357.128 Q76.1772 360.3 76.1772 365.716 Q76.1772 371.295 72.705 374.397 Q69.2328 377.475 62.9134 377.475 Q60.7374 377.475 58.4689 377.105 Q56.2236 376.735 53.8162 375.994 L53.8162 371.295 Q55.8995 372.429 58.1217 372.985 Q60.3439 373.54 62.8208 373.54 Q66.8254 373.54 69.1633 371.434 Q71.5013 369.327 71.5013 365.716 Q71.5013 362.105 69.1633 359.999 Q66.8254 357.892 62.8208 357.892 Q60.9458 357.892 59.0708 358.309 Q57.2189 358.726 55.2745 359.605 L55.2745 342.244 Z\" fill=\"#000000\" fill-rule=\"evenodd\" fill-opacity=\"1\" /><path clip-path=\"url(#clip100)\" d=\"M64.6495 86.1129 Q61.5013 86.1129 59.6495 88.2656 Q57.8208 90.4184 57.8208 94.1684 Q57.8208 97.8952 59.6495 100.071 Q61.5013 102.224 64.6495 102.224 Q67.7976 102.224 69.6263 100.071 Q71.4781 97.8952 71.4781 94.1684 Q71.4781 90.4184 69.6263 88.2656 Q67.7976 86.1129 64.6495 86.1129 M73.9318 71.4602 L73.9318 75.7194 Q72.1726 74.8861 70.367 74.4463 Q68.5846 74.0064 66.8254 74.0064 Q62.1958 74.0064 59.7421 77.1314 Q57.3115 80.2564 56.9643 86.5758 Q58.33 84.5619 60.3902 83.4971 Q62.4504 82.4092 64.9272 82.4092 Q70.1355 82.4092 73.1448 85.5805 Q76.1772 88.7286 76.1772 94.1684 Q76.1772 99.4924 73.029 102.71 Q69.8809 105.928 64.6495 105.928 Q58.6541 105.928 55.4828 101.344 Q52.3116 96.7378 52.3116 88.011 Q52.3116 79.8166 56.2004 74.9555 Q60.0893 70.0713 66.6402 70.0713 Q68.3994 70.0713 70.1818 70.4185 Q71.9874 70.7657 73.9318 71.4602 Z\" fill=\"#000000\" fill-rule=\"evenodd\" fill-opacity=\"1\" /><circle clip-path=\"url(#clip102)\" cx=\"809.716\" cy=\"631.072\" r=\"14.4\" fill=\"#009af9\" fill-rule=\"evenodd\" fill-opacity=\"1\" stroke=\"#000000\" stroke-opacity=\"1\" stroke-width=\"3.2\"/>\n",
       "<circle clip-path=\"url(#clip102)\" cx=\"2289.34\" cy=\"1445.72\" r=\"14.4\" fill=\"#009af9\" fill-rule=\"evenodd\" fill-opacity=\"1\" stroke=\"#000000\" stroke-opacity=\"1\" stroke-width=\"3.2\"/>\n",
       "<circle clip-path=\"url(#clip102)\" cx=\"1443.84\" cy=\"359.524\" r=\"14.4\" fill=\"#009af9\" fill-rule=\"evenodd\" fill-opacity=\"1\" stroke=\"#000000\" stroke-opacity=\"1\" stroke-width=\"3.2\"/>\n",
       "<circle clip-path=\"url(#clip102)\" cx=\"1021.09\" cy=\"359.524\" r=\"14.4\" fill=\"#009af9\" fill-rule=\"evenodd\" fill-opacity=\"1\" stroke=\"#000000\" stroke-opacity=\"1\" stroke-width=\"3.2\"/>\n",
       "<circle clip-path=\"url(#clip102)\" cx=\"2077.97\" cy=\"1174.17\" r=\"14.4\" fill=\"#009af9\" fill-rule=\"evenodd\" fill-opacity=\"1\" stroke=\"#000000\" stroke-opacity=\"1\" stroke-width=\"3.2\"/>\n",
       "<circle clip-path=\"url(#clip102)\" cx=\"1655.22\" cy=\"631.072\" r=\"14.4\" fill=\"#009af9\" fill-rule=\"evenodd\" fill-opacity=\"1\" stroke=\"#000000\" stroke-opacity=\"1\" stroke-width=\"3.2\"/>\n",
       "<circle clip-path=\"url(#clip102)\" cx=\"386.965\" cy=\"1174.17\" r=\"14.4\" fill=\"#009af9\" fill-rule=\"evenodd\" fill-opacity=\"1\" stroke=\"#000000\" stroke-opacity=\"1\" stroke-width=\"3.2\"/>\n",
       "<circle clip-path=\"url(#clip102)\" cx=\"1232.47\" cy=\"87.9763\" r=\"14.4\" fill=\"#009af9\" fill-rule=\"evenodd\" fill-opacity=\"1\" stroke=\"#000000\" stroke-opacity=\"1\" stroke-width=\"3.2\"/>\n",
       "<circle clip-path=\"url(#clip102)\" cx=\"598.34\" cy=\"902.62\" r=\"14.4\" fill=\"#009af9\" fill-rule=\"evenodd\" fill-opacity=\"1\" stroke=\"#000000\" stroke-opacity=\"1\" stroke-width=\"3.2\"/>\n",
       "<circle clip-path=\"url(#clip102)\" cx=\"175.59\" cy=\"1445.72\" r=\"14.4\" fill=\"#009af9\" fill-rule=\"evenodd\" fill-opacity=\"1\" stroke=\"#000000\" stroke-opacity=\"1\" stroke-width=\"3.2\"/>\n",
       "<circle clip-path=\"url(#clip102)\" cx=\"1866.59\" cy=\"902.62\" r=\"14.4\" fill=\"#009af9\" fill-rule=\"evenodd\" fill-opacity=\"1\" stroke=\"#000000\" stroke-opacity=\"1\" stroke-width=\"3.2\"/>\n",
       "</svg>\n"
      ]
     },
     "execution_count": 26,
     "metadata": {},
     "output_type": "execute_result"
    }
   ],
   "source": [
    "scatter(x, y, xaxis=1:12, legend=false)"
   ]
  },
  {
   "cell_type": "code",
   "execution_count": 71,
   "id": "c4f3cfae-2ab6-4543-a84c-abc181685f09",
   "metadata": {},
   "outputs": [
    {
     "data": {
      "text/plain": [
       "2002-element Vector{Vector{Int64}}:\n",
       " [1, 2, 2, 2, 2, 2]\n",
       " [1, 2, 2, 2, 2, 3]\n",
       " [1, 2, 2, 2, 2, 4]\n",
       " [1, 2, 2, 2, 2, 5]\n",
       " [1, 2, 2, 2, 2, 6]\n",
       " [1, 2, 2, 2, 2, 7]\n",
       " [1, 2, 2, 2, 2, 8]\n",
       " [1, 2, 2, 2, 2, 9]\n",
       " [1, 2, 2, 2, 2, 10]\n",
       " [1, 2, 2, 2, 2, 11]\n",
       " [1, 2, 2, 2, 3, 3]\n",
       " [1, 2, 2, 2, 3, 4]\n",
       " [1, 2, 2, 2, 3, 5]\n",
       " ⋮\n",
       " [1, 9, 9, 11, 11, 11]\n",
       " [1, 9, 10, 10, 10, 10]\n",
       " [1, 9, 10, 10, 10, 11]\n",
       " [1, 9, 10, 10, 11, 11]\n",
       " [1, 9, 10, 11, 11, 11]\n",
       " [1, 9, 11, 11, 11, 11]\n",
       " [1, 10, 10, 10, 10, 10]\n",
       " [1, 10, 10, 10, 10, 11]\n",
       " [1, 10, 10, 10, 11, 11]\n",
       " [1, 10, 10, 11, 11, 11]\n",
       " [1, 10, 11, 11, 11, 11]\n",
       " [1, 11, 11, 11, 11, 11]"
      ]
     },
     "execution_count": 71,
     "metadata": {},
     "output_type": "execute_result"
    }
   ],
   "source": [
    "all_possible_cases = [[1, x2, x3, x4, x5, x6] \n",
    "        for x2 in 2:11\n",
    "            for x3 in x2:11 \n",
    "                for x4 in x3:11 \n",
    "                    for x5 in x4:11 \n",
    "                        for x6 in x5: 11]"
   ]
  },
  {
   "cell_type": "code",
   "execution_count": 72,
   "id": "fbb23c9e-8960-44b2-aa0a-9ddd99951c8a",
   "metadata": {},
   "outputs": [],
   "source": [
    "answers = []\n",
    "for d1 in all_possible_cases, d2 in all_possible_cases\n",
    "    current_case_dist = Dict{Int, Int}()\n",
    "    for i in d1, j in d2\n",
    "            s = i+j\n",
    "            if haskey(current_case_dist, s)\n",
    "                current_case_dist[s] +=1\n",
    "            else\n",
    "                current_case_dist[s]=1\n",
    "            end\n",
    "        end\n",
    "    if current_case_dist == two_standard_dist\n",
    "            append!(answers,[d1, d2, current_case_dist])\n",
    "    end\n",
    "end"
   ]
  },
  {
   "cell_type": "code",
   "execution_count": 73,
   "id": "0c12beaf-3847-42a6-a5a4-d5a9734f3f72",
   "metadata": {},
   "outputs": [
    {
     "data": {
      "text/plain": [
       "9-element Vector{Any}:\n",
       " [1, 2, 2, 3, 3, 4]\n",
       " [1, 3, 4, 5, 6, 8]\n",
       " Dict(5 => 4, 12 => 1, 8 => 5, 6 => 5, 11 => 2, 9 => 4, 3 => 2, 7 => 6, 4 => 3, 2 => 1…)\n",
       " [1, 2, 3, 4, 5, 6]\n",
       " [1, 2, 3, 4, 5, 6]\n",
       " Dict(5 => 4, 12 => 1, 8 => 5, 6 => 5, 11 => 2, 9 => 4, 3 => 2, 7 => 6, 4 => 3, 2 => 1…)\n",
       " [1, 3, 4, 5, 6, 8]\n",
       " [1, 2, 2, 3, 3, 4]\n",
       " Dict(5 => 4, 12 => 1, 8 => 5, 6 => 5, 11 => 2, 9 => 4, 3 => 2, 7 => 6, 4 => 3, 2 => 1…)"
      ]
     },
     "execution_count": 73,
     "metadata": {},
     "output_type": "execute_result"
    }
   ],
   "source": [
    "answers"
   ]
  },
  {
   "cell_type": "code",
   "execution_count": null,
   "id": "ae67fa4b-a1b9-4e77-bf8d-641a01890d98",
   "metadata": {},
   "outputs": [],
   "source": []
  }
 ],
 "metadata": {
  "kernelspec": {
   "display_name": "Julia 1.8.5",
   "language": "julia",
   "name": "julia-1.8"
  },
  "language_info": {
   "file_extension": ".jl",
   "mimetype": "application/julia",
   "name": "julia",
   "version": "1.8.5"
  }
 },
 "nbformat": 4,
 "nbformat_minor": 5
}
