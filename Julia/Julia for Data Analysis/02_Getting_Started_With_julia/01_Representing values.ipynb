{
 "cells": [
  {
   "cell_type": "code",
   "execution_count": 7,
   "id": "8dd7ccf5-d83f-414c-ae46-712e08150494",
   "metadata": {},
   "outputs": [
    {
     "data": {
      "text/plain": [
       "\"what\""
      ]
     },
     "execution_count": 7,
     "metadata": {},
     "output_type": "execute_result"
    }
   ],
   "source": [
    "\"what\""
   ]
  },
  {
   "cell_type": "code",
   "execution_count": 8,
   "id": "2221edbb-5192-49b5-82f3-cb8867fd62c7",
   "metadata": {},
   "outputs": [
    {
     "data": {
      "text/plain": [
       "1"
      ]
     },
     "execution_count": 8,
     "metadata": {},
     "output_type": "execute_result"
    }
   ],
   "source": [
    "1"
   ]
  },
  {
   "cell_type": "code",
   "execution_count": 9,
   "id": "577eaf37-e865-4dda-b1aa-80c67a4baad0",
   "metadata": {},
   "outputs": [
    {
     "data": {
      "text/plain": [
       "true"
      ]
     },
     "execution_count": 9,
     "metadata": {},
     "output_type": "execute_result"
    }
   ],
   "source": [
    "true"
   ]
  },
  {
   "cell_type": "code",
   "execution_count": 10,
   "id": "9abb28a4-f068-49e5-bd10-71e89edff0f7",
   "metadata": {},
   "outputs": [
    {
     "data": {
      "text/plain": [
       "false"
      ]
     },
     "execution_count": 10,
     "metadata": {},
     "output_type": "execute_result"
    }
   ],
   "source": [
    "false"
   ]
  },
  {
   "cell_type": "code",
   "execution_count": 11,
   "id": "027c7fa9-03ba-4ba3-88c4-01b420d03c4a",
   "metadata": {},
   "outputs": [
    {
     "data": {
      "text/plain": [
       "10.23"
      ]
     },
     "execution_count": 11,
     "metadata": {},
     "output_type": "execute_result"
    }
   ],
   "source": [
    "10.23"
   ]
  },
  {
   "cell_type": "code",
   "execution_count": 12,
   "id": "a0046a06-e8b3-4a78-932d-eab82c360c1b",
   "metadata": {},
   "outputs": [
    {
     "data": {
      "text/plain": [
       "π = 3.1415926535897..."
      ]
     },
     "execution_count": 12,
     "metadata": {},
     "output_type": "execute_result"
    }
   ],
   "source": [
    "pi"
   ]
  },
  {
   "cell_type": "code",
   "execution_count": 13,
   "id": "59a7c750-c62d-4b27-ac3b-9350aaf0b7b9",
   "metadata": {},
   "outputs": [
    {
     "data": {
      "text/plain": [
       "1.1415926535897931"
      ]
     },
     "execution_count": 13,
     "metadata": {},
     "output_type": "execute_result"
    }
   ],
   "source": [
    "π -2 "
   ]
  },
  {
   "cell_type": "code",
   "execution_count": 18,
   "id": "66b46301-71a5-4ab3-b869-78d73a699790",
   "metadata": {},
   "outputs": [
    {
     "data": {
      "text/plain": [
       "4-element Vector{Int64}:\n",
       " 1\n",
       " 2\n",
       " 3\n",
       " 4"
      ]
     },
     "execution_count": 18,
     "metadata": {},
     "output_type": "execute_result"
    }
   ],
   "source": [
    "[1, 2, 3, 4]"
   ]
  },
  {
   "cell_type": "code",
   "execution_count": 15,
   "id": "88add435-8766-478e-a7b7-15ad969ed9a2",
   "metadata": {},
   "outputs": [
    {
     "data": {
      "text/plain": [
       "Int64"
      ]
     },
     "execution_count": 15,
     "metadata": {},
     "output_type": "execute_result"
    }
   ],
   "source": [
    "typeof(1)"
   ]
  },
  {
   "cell_type": "code",
   "execution_count": 17,
   "id": "08aa2afd-3055-4569-a5d3-b82447254604",
   "metadata": {},
   "outputs": [
    {
     "data": {
      "text/plain": [
       "Float64"
      ]
     },
     "execution_count": 17,
     "metadata": {},
     "output_type": "execute_result"
    }
   ],
   "source": [
    "typeof(1/π)"
   ]
  },
  {
   "cell_type": "code",
   "execution_count": 21,
   "id": "beed9b12-d9a6-4a52-a925-d977e2e02470",
   "metadata": {},
   "outputs": [
    {
     "data": {
      "text/plain": [
       "Vector{Int64}\u001b[90m (alias for \u001b[39m\u001b[90mArray{Int64, 1}\u001b[39m\u001b[90m)\u001b[39m"
      ]
     },
     "execution_count": 21,
     "metadata": {},
     "output_type": "execute_result"
    }
   ],
   "source": [
    "typeof([1, 2, 3, 4])"
   ]
  },
  {
   "cell_type": "markdown",
   "id": "2b6e13a4-e43f-4e96-ac18-d1aec2bf05e9",
   "metadata": {},
   "source": [
    "In Julia, you can check, if needed, the exact memory layout of numbers by using\n",
    "the bitstring function, producing a string holding a sequence of bits that make the\n",
    "passed value. I show this in the following code to convince you that, indeed, 1 and 1.0\n",
    "take 64 bits on my machine, and Int8(1) takes 8 bits."
   ]
  },
  {
   "cell_type": "code",
   "execution_count": 22,
   "id": "456ce53a-b3fe-4995-ad9f-44d85afaaf30",
   "metadata": {},
   "outputs": [
    {
     "data": {
      "text/plain": [
       "\"0000000000000000000000000000000000000000000000000000000000000001\""
      ]
     },
     "execution_count": 22,
     "metadata": {},
     "output_type": "execute_result"
    }
   ],
   "source": [
    "bitstring(1)"
   ]
  },
  {
   "cell_type": "code",
   "execution_count": 23,
   "id": "96e8d508-e5eb-4760-bd2c-a5f859c47d6f",
   "metadata": {},
   "outputs": [
    {
     "data": {
      "text/plain": [
       "\"0011111111110000000000000000000000000000000000000000000000000000\""
      ]
     },
     "execution_count": 23,
     "metadata": {},
     "output_type": "execute_result"
    }
   ],
   "source": [
    "bitstring(1.0)"
   ]
  },
  {
   "cell_type": "code",
   "execution_count": 25,
   "id": "2537ec6a-74e3-4f1b-a079-5d24c34b09e0",
   "metadata": {},
   "outputs": [
    {
     "data": {
      "text/plain": [
       "\"00000001\""
      ]
     },
     "execution_count": 25,
     "metadata": {},
     "output_type": "execute_result"
    }
   ],
   "source": [
    "bitstring(Int8(1))"
   ]
  },
  {
   "cell_type": "markdown",
   "id": "578fb7bb-33c6-4684-9a71-67ba565228a8",
   "metadata": {},
   "source": [
    "you can refer to the Int64 type more briefly by just typing Int:"
   ]
  },
  {
   "cell_type": "code",
   "execution_count": 26,
   "id": "5134fa4f-f450-4112-b47b-3f342a9d6980",
   "metadata": {},
   "outputs": [
    {
     "data": {
      "text/plain": [
       "Int64"
      ]
     },
     "execution_count": 26,
     "metadata": {},
     "output_type": "execute_result"
    }
   ],
   "source": [
    "Int"
   ]
  },
  {
   "cell_type": "code",
   "execution_count": 28,
   "id": "e4be4bbb-f054-4bc6-a525-e1b884ca12ac",
   "metadata": {},
   "outputs": [
    {
     "data": {
      "text/plain": [
       "2"
      ]
     },
     "execution_count": 28,
     "metadata": {},
     "output_type": "execute_result"
    }
   ],
   "source": [
    "z = Int8(2)"
   ]
  },
  {
   "cell_type": "code",
   "execution_count": 29,
   "id": "168369a7-43e9-4639-84c6-7bf1dc844c48",
   "metadata": {},
   "outputs": [
    {
     "data": {
      "text/plain": [
       "Int8"
      ]
     },
     "execution_count": 29,
     "metadata": {},
     "output_type": "execute_result"
    }
   ],
   "source": [
    "typeof(z)"
   ]
  },
  {
   "cell_type": "markdown",
   "id": "6db10db4-2a69-4d81-804a-b2d498ad69c1",
   "metadata": {},
   "source": [
    "The second thing to notice is the type of the [1, 2, 3] vector, which is Vector{Int64}\n",
    "(alias for Array{Int64, 1}). It seems quite verbose. Let’s dissect this.\n",
    "Start with Array{Int64, 1}. We see that our vector is of the Array type. In the\n",
    "curly brackets, we get the parameters of this type: {Int64, 1}. The subtypes of\n",
    "AbstractArray normally take two parameters, and Array takes exactly two para-\n",
    "meters. The first parameter is the type of elements that the array can store (in our\n",
    "case, Int64). The second parameter is the dimension of the array, which is 1 in this\n",
    "example."
   ]
  },
  {
   "cell_type": "code",
   "execution_count": 30,
   "id": "7641f7c4-8696-4c5c-b6c9-09749d4b92cd",
   "metadata": {},
   "outputs": [
    {
     "data": {
      "text/plain": [
       "Vector{Int64}\u001b[90m (alias for \u001b[39m\u001b[90mArray{Int64, 1}\u001b[39m\u001b[90m)\u001b[39m"
      ]
     },
     "execution_count": 30,
     "metadata": {},
     "output_type": "execute_result"
    }
   ],
   "source": [
    "typeof([1, 2, 3])"
   ]
  },
  {
   "cell_type": "code",
   "execution_count": 31,
   "id": "6c26cf39-ffe9-412f-857a-578ee9d3e2e2",
   "metadata": {},
   "outputs": [
    {
     "data": {
      "text/plain": [
       "Matrix{Int64}\u001b[90m (alias for \u001b[39m\u001b[90mArray{Int64, 2}\u001b[39m\u001b[90m)\u001b[39m"
      ]
     },
     "execution_count": 31,
     "metadata": {},
     "output_type": "execute_result"
    }
   ],
   "source": [
    "x = Array{Int, 2}"
   ]
  },
  {
   "cell_type": "markdown",
   "id": "5118bbe0-ae17-404b-8bd7-ce7e8d5d9761",
   "metadata": {},
   "source": [
    "Because one-dimensional arrays are typically called vectors in mathematics, Julia\n",
    "allows you to just write Vector{Int64}, which means the same as Array{Int64,\n",
    "1}. Since the type name is Vector, which means it is a one-dimensional array, we can\n",
    "omit passing the dimension parameter. However, we still need to pass the element\n",
    "type that the vector is allowed to store so it gets one parameter, in this case, {Int64}."
   ]
  },
  {
   "cell_type": "code",
   "execution_count": 38,
   "id": "85468c61-8003-4b78-8e25-79746fa183af",
   "metadata": {},
   "outputs": [
    {
     "data": {
      "text/plain": [
       "Vector{Bool}\u001b[90m (alias for \u001b[39m\u001b[90mArray{Bool, 1}\u001b[39m\u001b[90m)\u001b[39m"
      ]
     },
     "execution_count": 38,
     "metadata": {},
     "output_type": "execute_result"
    }
   ],
   "source": [
    "x = Vector{Bool}"
   ]
  },
  {
   "cell_type": "markdown",
   "id": "263e90b4-a2a4-4e90-9070-2b612e3dd469",
   "metadata": {},
   "source": [
    "In addition to getting the type of a value with the typeof function, you can conve-\n",
    "niently test whether a value is of a particular type by using the isa operator. Let’s\n",
    "check this [1, 2, 3] vector:"
   ]
  },
  {
   "cell_type": "code",
   "execution_count": 42,
   "id": "13620c58-68cc-4d3f-a496-9fea08875add",
   "metadata": {},
   "outputs": [
    {
     "data": {
      "text/plain": [
       "false"
      ]
     },
     "execution_count": 42,
     "metadata": {},
     "output_type": "execute_result"
    }
   ],
   "source": [
    "1 isa String"
   ]
  },
  {
   "cell_type": "code",
   "execution_count": null,
   "id": "e5070d1f-27c9-49dd-8077-3f382fbd5b4a",
   "metadata": {},
   "outputs": [],
   "source": []
  }
 ],
 "metadata": {
  "kernelspec": {
   "display_name": "Julia 1.8.5",
   "language": "julia",
   "name": "julia-1.8"
  },
  "language_info": {
   "file_extension": ".jl",
   "mimetype": "application/julia",
   "name": "julia",
   "version": "1.8.5"
  }
 },
 "nbformat": 4,
 "nbformat_minor": 5
}
