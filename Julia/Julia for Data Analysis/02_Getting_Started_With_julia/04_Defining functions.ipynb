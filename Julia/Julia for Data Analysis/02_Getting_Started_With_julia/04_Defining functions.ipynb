{
 "cells": [
  {
   "cell_type": "markdown",
   "id": "9675c500-0462-47ea-ae49-b23c3680a496",
   "metadata": {},
   "source": [
    "## Defining functions using the function keyword"
   ]
  },
  {
   "cell_type": "code",
   "execution_count": 2,
   "id": "cf84ebe7-9a9a-4101-9053-ace029ab0d19",
   "metadata": {},
   "outputs": [
    {
     "data": {
      "text/plain": [
       "fn (generic function with 1 method)"
      ]
     },
     "execution_count": 2,
     "metadata": {},
     "output_type": "execute_result"
    }
   ],
   "source": [
    "function fn(x)\n",
    "    return x^2\n",
    "end\n"
   ]
  },
  {
   "cell_type": "code",
   "execution_count": 3,
   "id": "a00e0052-efc8-4003-a52e-5e216bd76321",
   "metadata": {},
   "outputs": [
    {
     "data": {
      "text/plain": [
       "144"
      ]
     },
     "execution_count": 3,
     "metadata": {},
     "output_type": "execute_result"
    }
   ],
   "source": [
    "fn(12)"
   ]
  },
  {
   "cell_type": "markdown",
   "id": "e704d9b0-3b03-40ba-98b8-8b65041ffd60",
   "metadata": {},
   "source": [
    "The function definition is finished when the end keyword is reached. You can use\n",
    "the return keyword to return the value of the expression following it. Defining a\n",
    "function without the return keyword is allowed, in which case the value of the last\n",
    "expression in the body of the function is returned (just as in R)"
   ]
  },
  {
   "cell_type": "markdown",
   "id": "7b1ee5ba-f410-492c-a795-d4338db94834",
   "metadata": {},
   "source": [
    "## Positional and keyword arguments of functions"
   ]
  },
  {
   "cell_type": "markdown",
   "id": "9b841676-84fc-440d-a96e-2d9ccce625ac",
   "metadata": {},
   "source": [
    "In general, Julia allows you to define functions with positional arguments and keyword\n",
    "arguments that optionally can get a default value. Also, a function can return more\n",
    "than one value."
   ]
  },
  {
   "cell_type": "code",
   "execution_count": 13,
   "id": "45237220-d2bd-4737-9320-8784f7df5d47",
   "metadata": {},
   "outputs": [
    {
     "data": {
      "text/plain": [
       "fnn (generic function with 2 methods)"
      ]
     },
     "execution_count": 13,
     "metadata": {},
     "output_type": "execute_result"
    }
   ],
   "source": [
    "function fnn(x, y=10; a, b=10)\n",
    "    return x, y, a, b\n",
    "end\n"
   ]
  },
  {
   "cell_type": "code",
   "execution_count": 15,
   "id": "618367d9-57d6-4686-ab7c-485e03f2c0d4",
   "metadata": {},
   "outputs": [
    {
     "data": {
      "text/plain": [
       "(10, 10, 0, 10)"
      ]
     },
     "execution_count": 15,
     "metadata": {},
     "output_type": "execute_result"
    }
   ],
   "source": [
    "fnn(10, a=0)"
   ]
  },
  {
   "cell_type": "markdown",
   "id": "c53f6be2-3075-4162-875e-426d3eb80f0a",
   "metadata": {},
   "source": [
    "If you give a positional argument a default value, all\n",
    "positional arguments that follow it also must be given a default value;"
   ]
  },
  {
   "cell_type": "markdown",
   "id": "fbd9d87b-4858-401a-8310-a5137d34054a",
   "metadata": {},
   "source": [
    "## Rules for passing arguments to functions"
   ]
  },
  {
   "cell_type": "markdown",
   "id": "12e5e9de-91a3-4108-8bba-de7b988a8802",
   "metadata": {},
   "source": [
    "Values are passed by reference "
   ]
  },
  {
   "cell_type": "markdown",
   "id": "9d77dbaa-98b1-4cee-a07b-e69bd0147fd4",
   "metadata": {},
   "source": [
    "Adding ! as a suffix to a function name is a stylistic conven-\n",
    "tion that signals its users that it may mutate its arguments (we will discuss this conven-\n",
    "tion in more detail later in this chapter)."
   ]
  },
  {
   "cell_type": "code",
   "execution_count": 17,
   "id": "021056af-af96-4b68-bb9c-333237d0cdee",
   "metadata": {},
   "outputs": [
    {
     "data": {
      "text/plain": [
       "f! (generic function with 1 method)"
      ]
     },
     "execution_count": 17,
     "metadata": {},
     "output_type": "execute_result"
    }
   ],
   "source": [
    "function f!(x)\n",
    "    x[1] = -x[1]\n",
    "    return x\n",
    "end"
   ]
  },
  {
   "cell_type": "code",
   "execution_count": 18,
   "id": "e8be7027-3cae-4d0c-96b3-3d59f43f5f64",
   "metadata": {},
   "outputs": [
    {
     "data": {
      "text/plain": [
       "4-element Vector{Int64}:\n",
       " 1\n",
       " 2\n",
       " 3\n",
       " 4"
      ]
     },
     "execution_count": 18,
     "metadata": {},
     "output_type": "execute_result"
    }
   ],
   "source": [
    "x = [1, 2,3 ,4]\n"
   ]
  },
  {
   "cell_type": "code",
   "execution_count": 19,
   "id": "0c8fc29d-46eb-4dea-abac-17301a860248",
   "metadata": {},
   "outputs": [
    {
     "data": {
      "text/plain": [
       "4-element Vector{Int64}:\n",
       " -1\n",
       "  2\n",
       "  3\n",
       "  4"
      ]
     },
     "execution_count": 19,
     "metadata": {},
     "output_type": "execute_result"
    }
   ],
   "source": [
    "f!(x)"
   ]
  },
  {
   "cell_type": "code",
   "execution_count": 20,
   "id": "52954f50-41d6-4276-8613-45bdddd90cce",
   "metadata": {},
   "outputs": [
    {
     "data": {
      "text/plain": [
       "4-element Vector{Int64}:\n",
       " -1\n",
       "  2\n",
       "  3\n",
       "  4"
      ]
     },
     "execution_count": 20,
     "metadata": {},
     "output_type": "execute_result"
    }
   ],
   "source": [
    "x"
   ]
  },
  {
   "cell_type": "markdown",
   "id": "cb94e141-be23-4ec5-8e63-bdb7e20346bb",
   "metadata": {},
   "source": [
    "## Short syntax for defining simple functions"
   ]
  },
  {
   "cell_type": "markdown",
   "id": "2ce7f75f-ce32-4089-b457-ea2eceb29591",
   "metadata": {},
   "source": [
    "To define short functions, Julia allows you to use a shorter syntax that uses the assign-\n",
    "ment = operator. You can then omit the function and end keyword arguments in the\n",
    "definition, subject to a limitation that the body of the function must be a single\n",
    "expression."
   ]
  },
  {
   "cell_type": "code",
   "execution_count": 21,
   "id": "847a81dc-5903-42c2-aac8-94cae5a49d80",
   "metadata": {},
   "outputs": [
    {
     "data": {
      "text/plain": [
       "double (generic function with 1 method)"
      ]
     },
     "execution_count": 21,
     "metadata": {},
     "output_type": "execute_result"
    }
   ],
   "source": [
    "double(x) = 2*x"
   ]
  },
  {
   "cell_type": "code",
   "execution_count": 22,
   "id": "c4033641-b7ad-4407-b4af-c05716d4e374",
   "metadata": {},
   "outputs": [
    {
     "data": {
      "text/plain": [
       "4-element Vector{Int64}:\n",
       " -2\n",
       "  4\n",
       "  6\n",
       "  8"
      ]
     },
     "execution_count": 22,
     "metadata": {},
     "output_type": "execute_result"
    }
   ],
   "source": [
    "double(x)"
   ]
  },
  {
   "cell_type": "markdown",
   "id": "e9ffd107-fe7b-4246-86d0-965d31d5cbb1",
   "metadata": {},
   "source": [
    "## Anonymous functions"
   ]
  },
  {
   "cell_type": "markdown",
   "id": "a7fce437-2f7d-4540-a897-b17657aa47e3",
   "metadata": {},
   "source": [
    "When you pass a function as an argument to another function, you’ll often want to\n",
    "define a function that does not need a name. You just want to temporarily define this\n",
    "function and pass it to another function. In Julia, you can define nameless functions,\n",
    "which are called anonymous functions."
   ]
  },
  {
   "cell_type": "markdown",
   "id": "dfe8d6d4-6c76-4053-8e95-626f3af2b687",
   "metadata": {},
   "source": [
    "The syntax is similar to the short syntax introduced previously, except that you skip\n",
    "the function name and replace = with ->, as the next listing shows."
   ]
  },
  {
   "cell_type": "code",
   "execution_count": 23,
   "id": "1bdc6a3f-76ba-4490-aae2-b130b811483b",
   "metadata": {},
   "outputs": [
    {
     "data": {
      "text/plain": [
       "4-element Vector{Int64}:\n",
       "  1\n",
       "  4\n",
       "  9\n",
       " 16"
      ]
     },
     "execution_count": 23,
     "metadata": {},
     "output_type": "execute_result"
    }
   ],
   "source": [
    "map(x->x^2, [1, 2, 3, 4])"
   ]
  },
  {
   "cell_type": "markdown",
   "id": "3f7911fb-7b8e-4382-9852-ca5af8bf33da",
   "metadata": {},
   "source": [
    "But in general, if we use more than one argument, parentheses are needed, as\n",
    "in this definition: (x, y) -> x + y."
   ]
  },
  {
   "cell_type": "code",
   "execution_count": 24,
   "id": "cd4edeb3-0da0-4e80-8996-f4ec16984871",
   "metadata": {},
   "outputs": [
    {
     "data": {
      "text/plain": [
       "30"
      ]
     },
     "execution_count": 24,
     "metadata": {},
     "output_type": "execute_result"
    }
   ],
   "source": [
    "sum(x->x^2, [1, 2, 3, 4])"
   ]
  },
  {
   "cell_type": "markdown",
   "id": "16aad250-c971-4955-92d3-24bbe1fc2949",
   "metadata": {},
   "source": [
    "We calculate the sum of squares of the values stored in the vector. In this case, the key\n",
    "benefit of being able to use a function as a first argument of the sum function is the\n",
    "following. A natural way to compute the sum of squares of a vector is to first square its\n",
    "elements, store the result in a temporary vector, and then calculate its sum. However,\n",
    "this approach is expensive because it needs to allocate this temporary vector. When\n",
    "sum(x -> x ^ 2, [1, 2, 3]) is executed, no allocations are performed."
   ]
  },
  {
   "cell_type": "markdown",
   "id": "5e40eb8e-9e2f-4ad7-90dc-3b8322a8dbea",
   "metadata": {},
   "source": [
    "## Do blocks"
   ]
  },
  {
   "cell_type": "markdown",
   "id": "e99d41cf-8ebb-4f56-916f-41501b0c6a8c",
   "metadata": {},
   "source": [
    "One last convenience syntax that you should learn is the do-end block. These blocks\n",
    "are used if \n",
    "- (1) you use a function that accepts another function as its first positional argument and \n",
    "- (2) you want to pass an anonymous function composed of several expressions (so a standard anonymous function definition style is not convenient)."
   ]
  },
  {
   "cell_type": "code",
   "execution_count": 30,
   "id": "3b790f33-ed15-4237-b364-336d973d556f",
   "metadata": {},
   "outputs": [
    {
     "name": "stdout",
     "output_type": "stream",
     "text": [
      "1: 1\n",
      "2: 4\n",
      "3: 9\n"
     ]
    },
    {
     "data": {
      "text/plain": [
       "14"
      ]
     },
     "execution_count": 30,
     "metadata": {},
     "output_type": "execute_result"
    }
   ],
   "source": [
    "sum([1, 2, 3]) do x\n",
    "    println(x,\": \" , x^2)\n",
    "    return x^2\n",
    "end\n"
   ]
  },
  {
   "cell_type": "markdown",
   "id": "4701564f-3172-4050-aeb9-e78ca59d3977",
   "metadata": {},
   "source": [
    "## Function-naming convention in Julia"
   ]
  },
  {
   "cell_type": "markdown",
   "id": "f5dab2e0-788e-448a-a446-b80f8b8ae262",
   "metadata": {},
   "source": [
    "a Julia convention recommends that developers add ! at the end of func-\n",
    "tions they create if those functions modify their arguments. Here is an example com-\n",
    "parison of how the sort and sort! functions work.Both return a sorted collection.\n",
    "However, sort does not change its argument, while sort! modifies it in place:"
   ]
  },
  {
   "cell_type": "code",
   "execution_count": 48,
   "id": "90a1dfe5-f4ae-44e1-b293-6edc2dbca2c9",
   "metadata": {},
   "outputs": [
    {
     "data": {
      "text/plain": [
       "3-element Vector{Int8}:\n",
       " 43\n",
       " 98\n",
       " 55"
      ]
     },
     "execution_count": 48,
     "metadata": {},
     "output_type": "execute_result"
    }
   ],
   "source": [
    "x = rand(Int8, 3)"
   ]
  },
  {
   "cell_type": "code",
   "execution_count": 49,
   "id": "5b3b6776-37c0-488b-9daa-3ecbccdfee94",
   "metadata": {},
   "outputs": [
    {
     "data": {
      "text/plain": [
       "3-element Vector{Int8}:\n",
       " 43\n",
       " 55\n",
       " 98"
      ]
     },
     "execution_count": 49,
     "metadata": {},
     "output_type": "execute_result"
    }
   ],
   "source": [
    "sort(x)"
   ]
  },
  {
   "cell_type": "code",
   "execution_count": 50,
   "id": "0a5c27d7-087d-4dde-889f-3b13fdeb914b",
   "metadata": {},
   "outputs": [
    {
     "data": {
      "text/plain": [
       "3-element Vector{Int8}:\n",
       " 43\n",
       " 98\n",
       " 55"
      ]
     },
     "execution_count": 50,
     "metadata": {},
     "output_type": "execute_result"
    }
   ],
   "source": [
    "x"
   ]
  },
  {
   "cell_type": "code",
   "execution_count": 51,
   "id": "c5d9206a-955f-49c1-b6e9-eff61a6e2e23",
   "metadata": {},
   "outputs": [
    {
     "data": {
      "text/plain": [
       "3-element Vector{Int8}:\n",
       " 43\n",
       " 55\n",
       " 98"
      ]
     },
     "execution_count": 51,
     "metadata": {},
     "output_type": "execute_result"
    }
   ],
   "source": [
    "sort!(x)"
   ]
  },
  {
   "cell_type": "code",
   "execution_count": 52,
   "id": "9d1378fa-6dd8-4397-86d0-89869a1f0dac",
   "metadata": {},
   "outputs": [
    {
     "data": {
      "text/plain": [
       "3-element Vector{Int8}:\n",
       " 43\n",
       " 55\n",
       " 98"
      ]
     },
     "execution_count": 52,
     "metadata": {},
     "output_type": "execute_result"
    }
   ],
   "source": [
    "x"
   ]
  },
  {
   "cell_type": "markdown",
   "id": "5bbbc201-ec0f-47a4-b8ba-a7a32bc481ed",
   "metadata": {},
   "source": [
    "You might wonder why this convention is useful. Although most functions do not\n",
    "modify their arguments, Julia uses pass-by-sharing when passing arguments to func-\n",
    "tions, so all functions potentially could modify their arguments. Therefore, it is useful\n",
    "to visually warn the user that a given function indeed takes advantage of pass-by-\n",
    "sharing and modifies its arguments (usually the benefit of modifying the arguments in\n",
    "place is improved performance)."
   ]
  },
  {
   "cell_type": "markdown",
   "id": "7e1972a8-0ff4-435e-b3ae-3c7dfe39d48e",
   "metadata": {},
   "source": [
    "## A simplified definition of a function computing the winsorized mean"
   ]
  },
  {
   "cell_type": "code",
   "execution_count": 59,
   "id": "f7147654-2166-4025-84da-e75ca97ceb1d",
   "metadata": {},
   "outputs": [
    {
     "data": {
      "text/plain": [
       "winsorized_mean (generic function with 1 method)"
      ]
     },
     "execution_count": 59,
     "metadata": {},
     "output_type": "execute_result"
    }
   ],
   "source": [
    "function winsorized_mean(x, k)\n",
    "    a = sort(x)\n",
    "    a[1:1:k] = a[k+1:1:2*k]\n",
    "    a[end-k+1:1:end] = a[end-2*k+1:1:end-k]\n",
    "    println(x')\n",
    "    println(a')\n",
    "    return sum(a)/length(a)\n",
    "end\n",
    "\n",
    "    "
   ]
  },
  {
   "cell_type": "code",
   "execution_count": 60,
   "id": "4004fa95-f463-4717-ab74-679553aff518",
   "metadata": {},
   "outputs": [
    {
     "name": "stdout",
     "output_type": "stream",
     "text": [
      "[8 3 1 5 7]\n",
      "[3 3 5 7 7]\n"
     ]
    },
    {
     "data": {
      "text/plain": [
       "5.0"
      ]
     },
     "execution_count": 60,
     "metadata": {},
     "output_type": "execute_result"
    }
   ],
   "source": [
    "winsorized_mean([8, 3, 1, 5, 7], 1)"
   ]
  },
  {
   "cell_type": "code",
   "execution_count": null,
   "id": "cf64cd36-ebee-424b-92cd-83706c40a1dc",
   "metadata": {},
   "outputs": [],
   "source": []
  }
 ],
 "metadata": {
  "kernelspec": {
   "display_name": "Julia 1.8.5",
   "language": "julia",
   "name": "julia-1.8"
  },
  "language_info": {
   "file_extension": ".jl",
   "mimetype": "application/julia",
   "name": "julia",
   "version": "1.8.5"
  }
 },
 "nbformat": 4,
 "nbformat_minor": 5
}
