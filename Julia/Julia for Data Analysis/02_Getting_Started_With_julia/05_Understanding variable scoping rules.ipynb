{
 "cells": [
  {
   "cell_type": "markdown",
   "id": "3c4829d2-8715-445d-a1c0-6c185de3e7bf",
   "metadata": {},
   "source": [
    "## Understanding variable scoping rules"
   ]
  },
  {
   "cell_type": "markdown",
   "id": "c504eac4-c86d-47ea-9621-3b0c7a799b28",
   "metadata": {},
   "source": [
    "If you define a variable in a top-level scope of your code (outside any construct\n",
    "introducing local scope, such as functions), that variable is created in a global scope."
   ]
  },
  {
   "cell_type": "markdown",
   "id": "c8a3564b-a8d7-4abb-9ffb-1c1b298f80bc",
   "metadata": {},
   "source": [
    "Julia allows users to define global variables, as this is often convenient, especially when\n",
    "working interactively with the Julia REPL. However, using global variables is discour-\n",
    "aged, as it can have a negative impact on code execution speed."
   ]
  },
  {
   "cell_type": "markdown",
   "id": "7282a9e3-e199-4530-b325-e1697ca93153",
   "metadata": {},
   "source": [
    "The following types of constructs that you have learned already create a new scope\n",
    "(called local scope). In the list, I omit several more advanced constructs that we do not\n",
    "use in this book):"
   ]
  },
  {
   "cell_type": "markdown",
   "id": "abf49e27-c361-457c-81a6-dc7577f7fe2d",
   "metadata": {},
   "source": [
    "- Functions, anonymous functions, do-end blocks\n",
    "- for and while loops\n",
    "- try-catch-end blocks (discussed in section chapter 7)\n",
    "- Comprehensions (discussed in chapter 4)"
   ]
  },
  {
   "cell_type": "markdown",
   "id": "10ea56ad-1dc6-4449-a3f9-8c61bb310844",
   "metadata": {},
   "source": [
    "Notably, the if blocks and begin-end blocks do not introduce a new scope. Variables\n",
    "defined in these blocks leak out to the enclosing scope."
   ]
  },
  {
   "cell_type": "markdown",
   "id": "9948d19f-ccb4-4ea2-b9f3-131f419ab313",
   "metadata": {},
   "source": [
    "For completeness of the discussion, let me add that modules, which are discussed\n",
    "in chapter 3, introduce a new global scope."
   ]
  },
  {
   "cell_type": "code",
   "execution_count": 7,
   "id": "4f72791b-2533-44ae-a669-70369eaedd62",
   "metadata": {},
   "outputs": [
    {
     "data": {
      "text/plain": [
       "f1 (generic function with 1 method)"
      ]
     },
     "execution_count": 7,
     "metadata": {},
     "output_type": "execute_result"
    }
   ],
   "source": [
    "function f1()\n",
    "    x = 12\n",
    "    return x\n",
    "end\n"
   ]
  },
  {
   "cell_type": "code",
   "execution_count": 8,
   "id": "40ca7093-d493-4176-b5de-cec911e641ab",
   "metadata": {},
   "outputs": [
    {
     "data": {
      "text/plain": [
       "12"
      ]
     },
     "execution_count": 8,
     "metadata": {},
     "output_type": "execute_result"
    }
   ],
   "source": [
    "f1()"
   ]
  },
  {
   "cell_type": "markdown",
   "id": "f5578572-5b7a-4ba1-9790-c9e3a853af8a",
   "metadata": {},
   "source": [
    "Next, I will illustrate the conse-\n",
    "quences of if blocks not introducing a new scope:"
   ]
  },
  {
   "cell_type": "code",
   "execution_count": 13,
   "id": "cef65792-5a26-4de9-b66b-f433ec6ab86a",
   "metadata": {},
   "outputs": [
    {
     "data": {
      "text/plain": [
       "43"
      ]
     },
     "execution_count": 13,
     "metadata": {},
     "output_type": "execute_result"
    }
   ],
   "source": [
    "value = false\n",
    "if value\n",
    "    x = 23\n",
    "else\n",
    "    y=43\n",
    "end\n"
   ]
  },
  {
   "cell_type": "code",
   "execution_count": 14,
   "id": "c92271eb-afd8-40f9-898e-acdcc43a06f6",
   "metadata": {},
   "outputs": [
    {
     "data": {
      "text/plain": [
       "43"
      ]
     },
     "execution_count": 14,
     "metadata": {},
     "output_type": "execute_result"
    }
   ],
   "source": [
    "y"
   ]
  },
  {
   "cell_type": "markdown",
   "id": "274745a3-bcea-4d99-9043-e67dd67212b6",
   "metadata": {},
   "source": [
    "Unlike if blocks, loops introduce a new local scope. The most important scenar-\n",
    "ios of a loop introducing a new local scope are shown in the following four examples:"
   ]
  },
  {
   "cell_type": "code",
   "execution_count": 15,
   "id": "1af8a208-d316-40cc-9db0-1debe4a28c3f",
   "metadata": {},
   "outputs": [
    {
     "name": "stdout",
     "output_type": "stream",
     "text": [
      "1\n",
      "2\n"
     ]
    }
   ],
   "source": [
    "for i in 1:2\n",
    "    println(i)\n",
    "end"
   ]
  },
  {
   "cell_type": "code",
   "execution_count": 16,
   "id": "ffc0611e-d417-44fc-9508-8fdd640da41c",
   "metadata": {},
   "outputs": [
    {
     "ename": "LoadError",
     "evalue": "UndefVarError: i not defined",
     "output_type": "error",
     "traceback": [
      "UndefVarError: i not defined",
      ""
     ]
    }
   ],
   "source": [
    "i"
   ]
  },
  {
   "cell_type": "markdown",
   "id": "e0236723-5ae1-44be-ae2a-32295fbe80ce",
   "metadata": {},
   "source": [
    "a loop-local variable, like x in the preceding example, is freshly defined\n",
    "for each iteration of the loop, so the following code also fails:"
   ]
  },
  {
   "cell_type": "code",
   "execution_count": 19,
   "id": "8642c212-8513-4736-9398-7644bb8c70b6",
   "metadata": {},
   "outputs": [
    {
     "data": {
      "text/plain": [
       "fun5 (generic function with 1 method)"
      ]
     },
     "execution_count": 19,
     "metadata": {},
     "output_type": "execute_result"
    }
   ],
   "source": [
    "function fun5()\n",
    "    for i in [1, 2, 3]\n",
    "        if i == 1\n",
    "            x = 1\n",
    "        else\n",
    "            x += 1\n",
    "        end\n",
    "        println(x)\n",
    "    end\n",
    "    return x\n",
    "end"
   ]
  },
  {
   "cell_type": "code",
   "execution_count": 20,
   "id": "c9372540-43dd-4248-8318-2b46a82bf474",
   "metadata": {},
   "outputs": [
    {
     "name": "stdout",
     "output_type": "stream",
     "text": [
      "1\n"
     ]
    },
    {
     "ename": "LoadError",
     "evalue": "UndefVarError: x not defined",
     "output_type": "error",
     "traceback": [
      "UndefVarError: x not defined",
      "",
      "Stacktrace:",
      " [1] fun5()",
      "   @ Main ./In[19]:6",
      " [2] top-level scope",
      "   @ In[20]:1"
     ]
    }
   ],
   "source": [
    "fun5()"
   ]
  },
  {
   "cell_type": "code",
   "execution_count": 21,
   "id": "d97bded2-f5c8-41e9-b537-24f0bc2aa66e",
   "metadata": {},
   "outputs": [
    {
     "data": {
      "text/plain": [
       "fun6 (generic function with 1 method)"
      ]
     },
     "execution_count": 21,
     "metadata": {},
     "output_type": "execute_result"
    }
   ],
   "source": [
    "function fun6()\n",
    "    x = 0\n",
    "    for i in [1, 2, 3]\n",
    "        if i == 1\n",
    "            x = 1\n",
    "        else\n",
    "            x += 1\n",
    "        end\n",
    "        println(x)\n",
    "    end\n",
    "end"
   ]
  },
  {
   "cell_type": "code",
   "execution_count": 22,
   "id": "41c23f1e-8721-4fa0-9ea1-647616cd3904",
   "metadata": {},
   "outputs": [
    {
     "name": "stdout",
     "output_type": "stream",
     "text": [
      "1\n",
      "2\n",
      "3\n"
     ]
    }
   ],
   "source": [
    "fun6()"
   ]
  },
  {
   "cell_type": "code",
   "execution_count": 26,
   "id": "cdc2fa7d-8862-4925-b03a-c21de4257d95",
   "metadata": {},
   "outputs": [
    {
     "name": "stdout",
     "output_type": "stream",
     "text": [
      "1\n",
      "2\n",
      "3\n"
     ]
    }
   ],
   "source": [
    "x = fun6()"
   ]
  },
  {
   "cell_type": "code",
   "execution_count": 27,
   "id": "06150eaa-d4b6-430e-a140-7cca42fd3b0e",
   "metadata": {},
   "outputs": [],
   "source": [
    "x"
   ]
  },
  {
   "cell_type": "code",
   "execution_count": null,
   "id": "ad6d9f32-8803-4085-ad61-eeebc288efde",
   "metadata": {},
   "outputs": [],
   "source": []
  }
 ],
 "metadata": {
  "kernelspec": {
   "display_name": "Julia 1.8.5",
   "language": "julia",
   "name": "julia-1.8"
  },
  "language_info": {
   "file_extension": ".jl",
   "mimetype": "application/julia",
   "name": "julia",
   "version": "1.8.5"
  }
 },
 "nbformat": 4,
 "nbformat_minor": 5
}
