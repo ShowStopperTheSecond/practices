{
 "cells": [
  {
   "cell_type": "markdown",
   "id": "01c4dec8-149f-4c78-9566-6c76d0b9a814",
   "metadata": {},
   "source": [
    "## Computations depending on a Boolean condition"
   ]
  },
  {
   "cell_type": "code",
   "execution_count": 1,
   "id": "ef5f0b24-e485-4b39-b5a1-bff9f5281f6e",
   "metadata": {},
   "outputs": [
    {
     "data": {
      "text/plain": [
       "-7"
      ]
     },
     "execution_count": 1,
     "metadata": {},
     "output_type": "execute_result"
    }
   ],
   "source": [
    "x = -7"
   ]
  },
  {
   "cell_type": "code",
   "execution_count": 2,
   "id": "6d03b498-ce88-4b74-8a98-c2ca15790285",
   "metadata": {},
   "outputs": [
    {
     "name": "stdout",
     "output_type": "stream",
     "text": [
      "the number is negative\n"
     ]
    }
   ],
   "source": [
    "if x > 0\n",
    "    println(\"the number is positive\")\n",
    "elseif x< 0\n",
    "    println(\"the number is negative\") \n",
    "elseif x==0\n",
    "    println(\"the number is zero\")\n",
    "else\n",
    "    print(\"Unexpected error occored\")\n",
    "end"
   ]
  },
  {
   "cell_type": "markdown",
   "id": "772da244-8900-4dca-acd4-644a73b9103a",
   "metadata": {},
   "source": [
    "It is important to stress\n",
    "that the expression passed after if must have a logical value. The type of the value of\n",
    "the expression must be Bool; otherwise, an error is thrown:"
   ]
  },
  {
   "cell_type": "code",
   "execution_count": 3,
   "id": "b05cfdea-5575-4d46-8160-6fc63bef63af",
   "metadata": {},
   "outputs": [
    {
     "ename": "LoadError",
     "evalue": "syntax: incomplete: premature end of input",
     "output_type": "error",
     "traceback": [
      "syntax: incomplete: premature end of input",
      "",
      "Stacktrace:",
      " [1] top-level scope",
      "   @ In[3]:1"
     ]
    }
   ],
   "source": [
    "if x\n",
    "    print(\"everything is fine\")"
   ]
  },
  {
   "cell_type": "markdown",
   "id": "587a5cd8-b0ef-40b2-a31c-40e68b846e65",
   "metadata": {},
   "source": [
    "In general, Julia identifies the end of a code block\n",
    "when it encounters the end keyword or other keywords that are specific to a given\n",
    "statement (for example, in a conditional expression, these additional keywords are\n",
    "else and elseif)."
   ]
  },
  {
   "cell_type": "markdown",
   "id": "0472c1c6-f4e2-4b24-8961-128378552b3d",
   "metadata": {},
   "source": [
    "The Institute of Electrical and\n",
    "Electronics Engineers (IEEE) 754 standard for floating-point arithmetic defines a spe-\n",
    "cial NaN (not a number) value that, when compared to other values using <, <=, >, >=,\n",
    "and ==, always produces false, as you can see here:"
   ]
  },
  {
   "cell_type": "code",
   "execution_count": 4,
   "id": "395390a5-b8c4-41a2-bf92-e0b81d21ddc9",
   "metadata": {},
   "outputs": [
    {
     "data": {
      "text/plain": [
       "false"
      ]
     },
     "execution_count": 4,
     "metadata": {},
     "output_type": "execute_result"
    }
   ],
   "source": [
    "NaN == 0"
   ]
  },
  {
   "cell_type": "code",
   "execution_count": 5,
   "id": "5e37c8c2-af52-4459-9a2b-6aa7d3a65f1a",
   "metadata": {},
   "outputs": [
    {
     "data": {
      "text/plain": [
       "false"
      ]
     },
     "execution_count": 5,
     "metadata": {},
     "output_type": "execute_result"
    }
   ],
   "source": [
    "NaN == NaN "
   ]
  },
  {
   "cell_type": "markdown",
   "id": "f1aa89f8-8718-41a3-9dc0-1bdb8318670f",
   "metadata": {},
   "source": [
    "According to the IEEE 754 standard, comparing NaN to a value produces true only\n",
    "when the not-equal operator (!=) is used:"
   ]
  },
  {
   "cell_type": "code",
   "execution_count": 6,
   "id": "8e3bd61d-f31c-460a-ad9a-b25687a29dea",
   "metadata": {},
   "outputs": [
    {
     "data": {
      "text/plain": [
       "true"
      ]
     },
     "execution_count": 6,
     "metadata": {},
     "output_type": "execute_result"
    }
   ],
   "source": [
    "NaN != 0"
   ]
  },
  {
   "cell_type": "markdown",
   "id": "8185dc93-d802-4928-9d84-296f65cc00b7",
   "metadata": {},
   "source": [
    "### CONSEQUENCES OF INEXACT REPRESENTATION OF NUMBERS BY FLOATING-POINT VALUES"
   ]
  },
  {
   "cell_type": "markdown",
   "id": "58f04922-ec4c-41fd-b401-5c151f88deac",
   "metadata": {},
   "source": [
    "Another similar problem arises because floating-point numbers only approximately\n",
    "represent real numbers. Therefore, for instance, we have this:"
   ]
  },
  {
   "cell_type": "code",
   "execution_count": 2,
   "id": "37e4775d-b9ba-4989-9e2b-f5c0ec079bab",
   "metadata": {},
   "outputs": [
    {
     "data": {
      "text/plain": [
       "false"
      ]
     },
     "execution_count": 2,
     "metadata": {},
     "output_type": "execute_result"
    }
   ],
   "source": [
    "(.1 + .2) == .3"
   ]
  },
  {
   "cell_type": "markdown",
   "id": "e16b278d-6022-48f9-beff-b0b33b779783",
   "metadata": {},
   "source": [
    "This is surprising. The reason for this is that none of the Float64 values created by\n",
    "the evaluation of literals 0.1, 0.2, and 0.3 exactly represent the written real num-\n",
    "bers. What Julia does is store the Float64 values that are the closest representation\n",
    "of the requested numbers. Therefore, we have a small, but often nonzero, error. By\n",
    "writing this"
   ]
  },
  {
   "cell_type": "code",
   "execution_count": 3,
   "id": "2539b477-041e-4978-a015-11235cde157b",
   "metadata": {},
   "outputs": [
    {
     "data": {
      "text/plain": [
       "0.30000000000000004"
      ]
     },
     "execution_count": 3,
     "metadata": {},
     "output_type": "execute_result"
    }
   ],
   "source": [
    ".1 + .2"
   ]
  },
  {
   "cell_type": "markdown",
   "id": "16806e20-7b46-4665-8296-be8ad56105ef",
   "metadata": {},
   "source": [
    "In Julia, you can use the isapprox function to perform an\n",
    "approximate comparison:"
   ]
  },
  {
   "cell_type": "code",
   "execution_count": 4,
   "id": "1a2d87d2-4a77-4bce-a44e-8732056899e6",
   "metadata": {},
   "outputs": [
    {
     "data": {
      "text/plain": [
       "true"
      ]
     },
     "execution_count": 4,
     "metadata": {},
     "output_type": "execute_result"
    }
   ],
   "source": [
    "isapprox(.1+.2, .3)"
   ]
  },
  {
   "cell_type": "code",
   "execution_count": 6,
   "id": "814b8d15-df5b-4a97-9045-4732a1d7c8d9",
   "metadata": {},
   "outputs": [
    {
     "data": {
      "text/plain": [
       "true"
      ]
     },
     "execution_count": 6,
     "metadata": {},
     "output_type": "execute_result"
    }
   ],
   "source": [
    "(.1 + .2) ≈ .3"
   ]
  },
  {
   "cell_type": "markdown",
   "id": "ac9e50bc-0b6f-442d-a202-0fb5f99688bc",
   "metadata": {},
   "source": [
    "You can get the approx (≈) character in the Julia REPL by typing \\approx and press-\n",
    "ing Tab."
   ]
  },
  {
   "cell_type": "markdown",
   "id": "38e82836-0df4-4d43-b4eb-82109946a573",
   "metadata": {},
   "source": [
    "### COMBINING SEVERAL LOGICAL CONDITIONS"
   ]
  },
  {
   "cell_type": "markdown",
   "id": "4ee1e76e-acba-49e1-b813-47e0f568fc56",
   "metadata": {},
   "source": [
    "In Julia, you can combine conditions by\n",
    "using the && (and) and || (or) operators."
   ]
  },
  {
   "cell_type": "markdown",
   "id": "8b115c17-b431-4b57-b21a-9b891c71b4e0",
   "metadata": {},
   "source": [
    "As a convenience, when comparisons against the same value are joined using the &&\n",
    "operator, they can be written more concisely. Therefore, instead of writing x > 0 && x\n",
    "< 10, you could write 0 < x < 10, just as you would do when writing a condition in a\n",
    "mathematical text."
   ]
  },
  {
   "cell_type": "code",
   "execution_count": 7,
   "id": "bd215ada-603f-43eb-9c96-4a6ab1223df1",
   "metadata": {},
   "outputs": [
    {
     "data": {
      "text/plain": [
       "2"
      ]
     },
     "execution_count": 7,
     "metadata": {},
     "output_type": "execute_result"
    }
   ],
   "source": [
    "x = 02"
   ]
  },
  {
   "cell_type": "code",
   "execution_count": 9,
   "id": "2163058c-3e25-4a90-8afb-21f6984a75d9",
   "metadata": {},
   "outputs": [
    {
     "data": {
      "text/plain": [
       "true"
      ]
     },
     "execution_count": 9,
     "metadata": {},
     "output_type": "execute_result"
    }
   ],
   "source": [
    "-1<x<=2<3<4"
   ]
  },
  {
   "cell_type": "markdown",
   "id": "e15b4a46-a11a-45cb-9a70-b9468ee3241c",
   "metadata": {},
   "source": [
    "### SHORT-CIRCUIT EVALUATION OF CONDITIONS IN JULIA"
   ]
  },
  {
   "cell_type": "markdown",
   "id": "5cb42c2c-a32a-47d0-b119-91706d956cab",
   "metadata": {},
   "source": [
    "Another important feature of && and || operators in Julia is that they perform short-\n",
    "circuit evaluation: they evaluate only as many conditions (starting from the leftmost) as\n",
    "are needed to determine the logical value of the whole expression."
   ]
  },
  {
   "cell_type": "code",
   "execution_count": 10,
   "id": "89a0bc4d-4c13-4360-b5b7-7a9db668fda6",
   "metadata": {},
   "outputs": [
    {
     "data": {
      "text/plain": [
       "-1"
      ]
     },
     "execution_count": 10,
     "metadata": {},
     "output_type": "execute_result"
    }
   ],
   "source": [
    "x = -1"
   ]
  },
  {
   "cell_type": "code",
   "execution_count": 11,
   "id": "2dc39fb2-57bc-4cfb-92ba-133e92c82b1b",
   "metadata": {},
   "outputs": [
    {
     "data": {
      "text/plain": [
       "true"
      ]
     },
     "execution_count": 11,
     "metadata": {},
     "output_type": "execute_result"
    }
   ],
   "source": [
    "x <0 || log(x)<0"
   ]
  },
  {
   "cell_type": "code",
   "execution_count": 13,
   "id": "ec2e288e-33d6-4d52-839b-c3a43657124c",
   "metadata": {},
   "outputs": [
    {
     "ename": "LoadError",
     "evalue": "DomainError with -1.0:\nlog will only return a complex result if called with a complex argument. Try log(Complex(x)).",
     "output_type": "error",
     "traceback": [
      "DomainError with -1.0:\nlog will only return a complex result if called with a complex argument. Try log(Complex(x)).",
      "",
      "Stacktrace:",
      " [1] throw_complex_domainerror(f::Symbol, x::Float64)",
      "   @ Base.Math ./math.jl:33",
      " [2] _log(x::Float64, base::Val{:ℯ}, func::Symbol)",
      "   @ Base.Math ./special/log.jl:301",
      " [3] log",
      "   @ ./special/log.jl:267 [inlined]",
      " [4] log(x::Int64)",
      "   @ Base.Math ./math.jl:1372",
      " [5] top-level scope",
      "   @ In[13]:1"
     ]
    }
   ],
   "source": [
    "log(x)"
   ]
  },
  {
   "cell_type": "code",
   "execution_count": 16,
   "id": "dcab5e9f-edec-4ca6-bd22-7d7610e32d29",
   "metadata": {},
   "outputs": [
    {
     "name": "stdout",
     "output_type": "stream",
     "text": [
      "-1\n"
     ]
    }
   ],
   "source": [
    "x < 0 && println(x)"
   ]
  },
  {
   "cell_type": "code",
   "execution_count": 19,
   "id": "b7bc94b7-024c-47bd-b87b-17524c77e3d8",
   "metadata": {},
   "outputs": [
    {
     "name": "stdout",
     "output_type": "stream",
     "text": [
      "-1\n"
     ]
    }
   ],
   "source": [
    "if x<0 \n",
    "    println(x)\n",
    "end\n"
   ]
  },
  {
   "cell_type": "markdown",
   "id": "fa955f91-9a43-4c94-9fb9-9a1c65e1059d",
   "metadata": {},
   "source": [
    "similarly we can say"
   ]
  },
  {
   "cell_type": "code",
   "execution_count": 20,
   "id": "3ab94d7b-e9c2-4f71-ac2d-a314f9547e2a",
   "metadata": {},
   "outputs": [
    {
     "name": "stdout",
     "output_type": "stream",
     "text": [
      "-1\n"
     ]
    }
   ],
   "source": [
    "x > 0 || println(x)"
   ]
  },
  {
   "cell_type": "code",
   "execution_count": 21,
   "id": "26a68ae4-6b43-48a3-9ced-48da41b3e4a2",
   "metadata": {},
   "outputs": [
    {
     "name": "stdout",
     "output_type": "stream",
     "text": [
      "-1\n"
     ]
    }
   ],
   "source": [
    "if !(x>0)\n",
    "    println(x)\n",
    "end\n"
   ]
  },
  {
   "cell_type": "markdown",
   "id": "17cef5f2-0a3f-40ba-a80e-47772db21260",
   "metadata": {},
   "source": [
    "As a consequence, the && and || operators can be used to conveniently write one-\n",
    "liners performing conditional evaluation:"
   ]
  },
  {
   "cell_type": "code",
   "execution_count": 24,
   "id": "9df06b3e-a4ed-4aa1-9717-21c1b018dee0",
   "metadata": {},
   "outputs": [
    {
     "name": "stdout",
     "output_type": "stream",
     "text": [
      "it's odd\n"
     ]
    }
   ],
   "source": [
    "iseven(x) || println(\"it's odd\")"
   ]
  },
  {
   "cell_type": "markdown",
   "id": "d9a776df-80ee-4f88-989d-21fe9ddf0f12",
   "metadata": {},
   "source": [
    "### TERNARY OPERATOR"
   ]
  },
  {
   "cell_type": "code",
   "execution_count": 32,
   "id": "50b02dff-1e89-4627-9a34-6f3c555a168b",
   "metadata": {},
   "outputs": [
    {
     "data": {
      "text/plain": [
       "1"
      ]
     },
     "execution_count": 32,
     "metadata": {},
     "output_type": "execute_result"
    }
   ],
   "source": [
    "a = x<0 ? 1 : 2"
   ]
  },
  {
   "cell_type": "code",
   "execution_count": 33,
   "id": "365e8490-535b-41b0-b878-1a78c12f9eea",
   "metadata": {},
   "outputs": [
    {
     "name": "stdout",
     "output_type": "stream",
     "text": [
      "x is not positive\n"
     ]
    }
   ],
   "source": [
    "x > 0 ? println(\"x is positive\") : println(\"x is not positive\")"
   ]
  },
  {
   "cell_type": "markdown",
   "id": "a3b67d8f-75a4-4af1-9b74-ae22efabab92",
   "metadata": {},
   "source": [
    "### CONDITIONAL EXPRESSIONS RETURN A VALUE"
   ]
  },
  {
   "cell_type": "markdown",
   "id": "7bd40f5b-d35f-42ff-9e97-e6f486099f42",
   "metadata": {},
   "source": [
    "The if-elseif-else-end expressions and the ternary operator return a value that is\n",
    "the return value of the last executed expression in the branch that was chosen. This is\n",
    "often useful if you want to bind this return value to a variable."
   ]
  },
  {
   "cell_type": "code",
   "execution_count": 35,
   "id": "66f0abe9-b60c-42f9-ad96-b934a75705b5",
   "metadata": {},
   "outputs": [
    {
     "data": {
      "text/plain": [
       "9"
      ]
     },
     "execution_count": 35,
     "metadata": {},
     "output_type": "execute_result"
    }
   ],
   "source": [
    "y = if x<0 \n",
    "    9\n",
    "else\n",
    "    10\n",
    "end\n"
   ]
  },
  {
   "cell_type": "code",
   "execution_count": 36,
   "id": "4f7c96fb-b1b8-4e45-a178-8d7e7328a470",
   "metadata": {},
   "outputs": [
    {
     "data": {
      "text/plain": [
       "1.0"
      ]
     },
     "execution_count": 36,
     "metadata": {},
     "output_type": "execute_result"
    }
   ],
   "source": [
    "y = x > 0 ? sqrt(x) : sqrt(-x)"
   ]
  },
  {
   "cell_type": "markdown",
   "id": "4c7f2f7e-112b-411a-8cfb-6d8263833f58",
   "metadata": {},
   "source": [
    "## Loops"
   ]
  },
  {
   "cell_type": "markdown",
   "id": "61393498-5f5b-47e5-b10f-dbb939a54c0b",
   "metadata": {},
   "source": [
    "### For Loops"
   ]
  },
  {
   "cell_type": "code",
   "execution_count": 40,
   "id": "5734ebc6-ec46-48b4-b014-9fdebc8e28bd",
   "metadata": {},
   "outputs": [
    {
     "name": "stdout",
     "output_type": "stream",
     "text": [
      "1 is odd\n",
      "2 is even\n",
      "3 is odd\n",
      "4 is even\n"
     ]
    }
   ],
   "source": [
    "for i in [1, 2, 3, 4]\n",
    "    println(i, \" is \", isodd(i) ? \"odd\" : \"even\")\n",
    "end"
   ]
  },
  {
   "cell_type": "markdown",
   "id": "26e6c4da-d04d-4669-a6b2-fcd77f91122b",
   "metadata": {},
   "source": [
    "### While Loops"
   ]
  },
  {
   "cell_type": "code",
   "execution_count": 47,
   "id": "57ebe589-944c-41e7-bf76-3dae84708e82",
   "metadata": {},
   "outputs": [
    {
     "name": "stdout",
     "output_type": "stream",
     "text": [
      "0 is even\n",
      "1 is odd\n",
      "2 is even\n",
      "3 is odd\n"
     ]
    }
   ],
   "source": [
    "i = 0\n",
    "while i< 4\n",
    "    println(i, \" is \", isodd(i) ? \"odd\" : \"even\")\n",
    "    global i +=1\n",
    "    # i++\n",
    "end\n",
    "\n",
    "    "
   ]
  },
  {
   "cell_type": "markdown",
   "id": "0e70ef34-17f7-4ab0-a4c0-067373b65ad0",
   "metadata": {},
   "source": [
    "----\n",
    "In both for and while loops, you can use two special keywords:\n",
    "- continue immediately stops an iteration and moves to the next one.\n",
    "- break immediately terminates the loop."
   ]
  },
  {
   "cell_type": "code",
   "execution_count": 49,
   "id": "b7c48497-3793-44fc-b52a-71775fff89b9",
   "metadata": {},
   "outputs": [
    {
     "name": "stdout",
     "output_type": "stream",
     "text": [
      "0 is even\n",
      "1 is odd\n",
      "2 is even\n",
      "3 is odd\n",
      "4 is even\n",
      "5 is odd\n",
      "6 is even\n",
      "7 is odd\n",
      "8 is even\n",
      "9 is odd\n",
      "10 is even\n"
     ]
    }
   ],
   "source": [
    "i = 0\n",
    "while true\n",
    "    i>10 && break\n",
    "    println(i, \" is \", isodd(i) ? \"odd\" : \"even\")\n",
    "    global i +=1\n",
    "end\n"
   ]
  },
  {
   "cell_type": "markdown",
   "id": "25cae5fa-39e6-4f8e-9d72-fdf673085134",
   "metadata": {},
   "source": [
    "### Compound expressions"
   ]
  },
  {
   "cell_type": "markdown",
   "id": "681be6b4-6b41-4c95-88f2-818f278fcbdf",
   "metadata": {},
   "source": [
    "In Julia, you have two options for packing several\n",
    "expressions into one.\n",
    "The first is using begin-end blocks. The second is more lightweight and allows\n",
    "chaining expressions by using the semicolon (;). Often, we need to wrap a chain of\n",
    "expressions separated by ; in parentheses to delimit the range of the compound\n",
    "expression. The next listing shows some examples."
   ]
  },
  {
   "cell_type": "code",
   "execution_count": 54,
   "id": "3e10c073-e43e-4fc1-9eee-87738fcde025",
   "metadata": {},
   "outputs": [
    {
     "data": {
      "text/plain": [
       "10"
      ]
     },
     "execution_count": 54,
     "metadata": {},
     "output_type": "execute_result"
    }
   ],
   "source": [
    "x = 10"
   ]
  },
  {
   "cell_type": "code",
   "execution_count": 57,
   "id": "33e26a65-dcb4-496b-baa1-dcafd28a55b6",
   "metadata": {},
   "outputs": [
    {
     "name": "stdout",
     "output_type": "stream",
     "text": [
      "10\n",
      "qtf\n"
     ]
    },
    {
     "data": {
      "text/plain": [
       "3.1622776601683795"
      ]
     },
     "execution_count": 57,
     "metadata": {},
     "output_type": "execute_result"
    }
   ],
   "source": [
    "y = x > 0 && begin\n",
    "    println(x)\n",
    "    println(\"qtf\")\n",
    "    sqrt(x)\n",
    "end\n"
   ]
  },
  {
   "cell_type": "code",
   "execution_count": 59,
   "id": "b4fd21eb-a451-4287-b51f-246ba935fa93",
   "metadata": {},
   "outputs": [
    {
     "data": {
      "text/plain": [
       "3.1622776601683795"
      ]
     },
     "execution_count": 59,
     "metadata": {},
     "output_type": "execute_result"
    }
   ],
   "source": [
    "y"
   ]
  },
  {
   "cell_type": "code",
   "execution_count": 61,
   "id": "e1b3c26e-e2aa-4bff-aa78-01cbc6444c4e",
   "metadata": {},
   "outputs": [
    {
     "data": {
      "text/plain": [
       "-11"
      ]
     },
     "execution_count": 61,
     "metadata": {},
     "output_type": "execute_result"
    }
   ],
   "source": [
    "x = -11"
   ]
  },
  {
   "cell_type": "code",
   "execution_count": 62,
   "id": "f2f9d252-f9f1-416b-b91a-47f1dd53eaae",
   "metadata": {},
   "outputs": [
    {
     "name": "stdout",
     "output_type": "stream",
     "text": [
      "-10\n"
     ]
    },
    {
     "data": {
      "text/plain": [
       "-10"
      ]
     },
     "execution_count": 62,
     "metadata": {},
     "output_type": "execute_result"
    }
   ],
   "source": [
    "x > 0 ? (println(x); x) : (x += 1; println(x); x)"
   ]
  },
  {
   "cell_type": "markdown",
   "id": "71bd258f-7ac9-41cc-9d51-7226901bcd64",
   "metadata": {},
   "source": [
    "In practice, you should not overuse compound expressions as they might lead to\n",
    "less readable code. Often it is better, for example, to use the standard conditional\n",
    "expression or define a helper function to improve code clarity. However, you are likely\n",
    "to encounter compound expressions in the source code of various packages, so it is\n",
    "important that you know how to interpret them."
   ]
  },
  {
   "cell_type": "markdown",
   "id": "f3305974-4355-4b21-bf67-5d71bfddc9c2",
   "metadata": {},
   "source": [
    "### A first approach to calculating the winsorized mean"
   ]
  },
  {
   "cell_type": "code",
   "execution_count": 135,
   "id": "67d4ac6a-a43e-4fdc-a418-d22859ccc31a",
   "metadata": {},
   "outputs": [
    {
     "data": {
      "text/plain": [
       "2"
      ]
     },
     "execution_count": 135,
     "metadata": {},
     "output_type": "execute_result"
    }
   ],
   "source": [
    "x = [10, 23, 40, 0, 2, 3, 4, 5, 6, 7, 9]\n",
    "k = 2"
   ]
  },
  {
   "cell_type": "code",
   "execution_count": 136,
   "id": "8cd35a2a-0633-4240-aa32-d66b00412827",
   "metadata": {},
   "outputs": [],
   "source": [
    "sorted_x = sort(x);"
   ]
  },
  {
   "cell_type": "code",
   "execution_count": 137,
   "id": "3d2c2836-b967-484f-a486-8cc6a5faaf13",
   "metadata": {},
   "outputs": [
    {
     "data": {
      "text/plain": [
       "1×11 adjoint(::Vector{Int64}) with eltype Int64:\n",
       " 0  2  3  4  5  6  7  9  10  23  40"
      ]
     },
     "execution_count": 137,
     "metadata": {},
     "output_type": "execute_result"
    }
   ],
   "source": [
    "sorted_x'"
   ]
  },
  {
   "cell_type": "code",
   "execution_count": 138,
   "id": "5dd19e40-7168-4bf5-8a2c-0b1c55931830",
   "metadata": {},
   "outputs": [
    {
     "data": {
      "text/plain": [
       "2-element Vector{Int64}:\n",
       " 3\n",
       " 4"
      ]
     },
     "execution_count": 138,
     "metadata": {},
     "output_type": "execute_result"
    }
   ],
   "source": [
    "sorted_x[1:1:k] = sorted_x[k+1:1:2*k]"
   ]
  },
  {
   "cell_type": "code",
   "execution_count": 145,
   "id": "46284f14-06ca-49af-beef-4f587fe4d099",
   "metadata": {},
   "outputs": [
    {
     "data": {
      "text/plain": [
       "2-element Vector{Int64}:\n",
       "  9\n",
       " 10"
      ]
     },
     "execution_count": 145,
     "metadata": {},
     "output_type": "execute_result"
    }
   ],
   "source": [
    "sorted_x[end-k+1:1:end] = sorted_x[end-2*k+1:1:end-k]"
   ]
  },
  {
   "cell_type": "code",
   "execution_count": 147,
   "id": "005789b0-8bce-4b42-a015-4fcb55c64a68",
   "metadata": {},
   "outputs": [
    {
     "data": {
      "text/plain": [
       "1×11 adjoint(::Vector{Int64}) with eltype Int64:\n",
       " 3  4  3  4  5  6  7  9  10  9  10"
      ]
     },
     "execution_count": 147,
     "metadata": {},
     "output_type": "execute_result"
    }
   ],
   "source": [
    "sorted_x'"
   ]
  },
  {
   "cell_type": "code",
   "execution_count": 149,
   "id": "9263ba21-536e-4b0d-90d5-d8d504580c9b",
   "metadata": {},
   "outputs": [
    {
     "data": {
      "text/plain": [
       "6.363636363636363"
      ]
     },
     "execution_count": 149,
     "metadata": {},
     "output_type": "execute_result"
    }
   ],
   "source": [
    "sum(sorted_x)/length(sorted_x)"
   ]
  },
  {
   "cell_type": "code",
   "execution_count": 150,
   "id": "af1b5893-4fd1-489c-b6c3-3977580bc6bb",
   "metadata": {},
   "outputs": [
    {
     "data": {
      "text/plain": [
       "10-element Vector{Int64}:\n",
       " 10\n",
       " 23\n",
       " 40\n",
       "  0\n",
       "  2\n",
       "  3\n",
       "  4\n",
       "  5\n",
       "  6\n",
       "  7"
      ]
     },
     "execution_count": 150,
     "metadata": {},
     "output_type": "execute_result"
    }
   ],
   "source": []
  },
  {
   "cell_type": "code",
   "execution_count": null,
   "id": "fb75229f-2110-4b1d-bbdd-833bf83f9aa1",
   "metadata": {},
   "outputs": [],
   "source": []
  }
 ],
 "metadata": {
  "kernelspec": {
   "display_name": "Julia 1.8.5",
   "language": "julia",
   "name": "julia-1.8"
  },
  "language_info": {
   "file_extension": ".jl",
   "mimetype": "application/julia",
   "name": "julia",
   "version": "1.8.5"
  }
 },
 "nbformat": 4,
 "nbformat_minor": 5
}
