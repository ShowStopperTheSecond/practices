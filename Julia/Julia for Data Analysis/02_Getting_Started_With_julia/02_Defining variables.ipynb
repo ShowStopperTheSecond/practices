{
 "cells": [
  {
   "cell_type": "markdown",
   "id": "ce066eb8-39e0-4fa3-aa7b-2643ff1daa87",
   "metadata": {},
   "source": [
    "A variable is a name that is bound to a value. The simplest way to bind a value to a\n",
    "variable name is to use the assignment operator = (equals sign):"
   ]
  },
  {
   "cell_type": "code",
   "execution_count": 1,
   "id": "0f2cb6ef-c551-40e4-a0a5-e429cddfb0e2",
   "metadata": {},
   "outputs": [
    {
     "data": {
      "text/plain": [
       "1"
      ]
     },
     "execution_count": 1,
     "metadata": {},
     "output_type": "execute_result"
    }
   ],
   "source": [
    "x = 1"
   ]
  },
  {
   "cell_type": "code",
   "execution_count": 2,
   "id": "929ceec2-8172-4d6f-9ee6-ad63db2a4202",
   "metadata": {},
   "outputs": [
    {
     "data": {
      "text/plain": [
       "4-element Vector{Int64}:\n",
       " 1\n",
       " 2\n",
       " 3\n",
       " 4"
      ]
     },
     "execution_count": 2,
     "metadata": {},
     "output_type": "execute_result"
    }
   ],
   "source": [
    "y = [1, 2, 3, 4]"
   ]
  },
  {
   "cell_type": "markdown",
   "id": "f1e64aca-2b49-475a-b212-2ae792678bc8",
   "metadata": {},
   "source": [
    "It is important to highlight that in Julia, the assignment operator (=) performs only\n",
    "binding of values to variables.if a vector is bound to two different variables and you mutate it, the change will be visible\n",
    "in both variables"
   ]
  },
  {
   "cell_type": "markdown",
   "id": "417c60f2-2a6c-4346-bb92-42be54614143",
   "metadata": {},
   "source": [
    "If you would like to bind to a variable\n",
    "y a copy of a value bound to variable x, write y = copy(x). In this case, changing\n",
    "the value bound to x will not affect y."
   ]
  },
  {
   "cell_type": "markdown",
   "id": "51ca7e4c-2c44-4e4b-b919-ff4b8ea42b29",
   "metadata": {},
   "source": [
    "---"
   ]
  },
  {
   "cell_type": "markdown",
   "id": "0a23a9ad-82a5-4838-a8e9-533fd435e364",
   "metadata": {},
   "source": [
    "It is important to highlight here that Julia is a dynamically typed language, so it does\n",
    "not need to know the types bound to variables during compile time. The practical\n",
    "consequence of this fact is that you can bind values of different types to the same vari-\n",
    "able name in your code. Here is an example:"
   ]
  },
  {
   "cell_type": "code",
   "execution_count": 4,
   "id": "b3f76e83-4676-4085-a71b-555e72495e14",
   "metadata": {},
   "outputs": [
    {
     "data": {
      "text/plain": [
       "1"
      ]
     },
     "execution_count": 4,
     "metadata": {},
     "output_type": "execute_result"
    }
   ],
   "source": [
    "x = 1"
   ]
  },
  {
   "cell_type": "code",
   "execution_count": 5,
   "id": "802bc226-894e-4ec1-92a9-d0746bcbe477",
   "metadata": {},
   "outputs": [
    {
     "data": {
      "text/plain": [
       "Int64"
      ]
     },
     "execution_count": 5,
     "metadata": {},
     "output_type": "execute_result"
    }
   ],
   "source": [
    "typeof(x)"
   ]
  },
  {
   "cell_type": "code",
   "execution_count": 6,
   "id": "8da75b72-84e4-4d6a-8952-c7dcf2b6aa6c",
   "metadata": {},
   "outputs": [
    {
     "data": {
      "text/plain": [
       "1.2"
      ]
     },
     "execution_count": 6,
     "metadata": {},
     "output_type": "execute_result"
    }
   ],
   "source": [
    "x = 1.2"
   ]
  },
  {
   "cell_type": "code",
   "execution_count": 7,
   "id": "e98f19e7-ddf8-45ce-a5dc-d95a66f1d8e5",
   "metadata": {},
   "outputs": [
    {
     "data": {
      "text/plain": [
       "Float64"
      ]
     },
     "execution_count": 7,
     "metadata": {},
     "output_type": "execute_result"
    }
   ],
   "source": [
    "typeof(x)"
   ]
  },
  {
   "cell_type": "markdown",
   "id": "a4603384-9e14-45ff-8cc9-10d80c7ae3d7",
   "metadata": {},
   "source": [
    "For convenience, Julia allows you to bind values of different types to the same vari-\n",
    "able name. However, that is not recommended for performance reasons.\n",
    "As we discussed in chapter 1, Julia is a compiled language. During compilation, Julia\n",
    "tries to automatically find all possible types of values that can be bound to a given\n",
    "variable name. If the Julia compiler can prove that this is a single type (or, in some\n",
    "cases, a closed list of a few types), then Julia is able to generate more-efficient code.\n",
    "In the Julia Manual, code that avoids changing the type of values bound to a variable\n",
    "is called type stable. Writing type-stable code is one of the most important perfor-\n",
    "mance recommendations in Julia"
   ]
  },
  {
   "cell_type": "markdown",
   "id": "ce5e715f-64a7-4e5a-904a-720b1af2a9a8",
   "metadata": {},
   "source": [
    "---"
   ]
  },
  {
   "cell_type": "markdown",
   "id": "de21f70d-22a3-443b-b39a-4636051314bf",
   "metadata": {},
   "source": [
    "Julia offers a lot of flexibility in naming your variables. You can use Unicode charac-\n",
    "ters in variable names, and they are case-sensitive. Here are three examples"
   ]
  },
  {
   "cell_type": "code",
   "execution_count": 11,
   "id": "1e03e41e-011d-48d4-b322-591cb4116702",
   "metadata": {},
   "outputs": [
    {
     "data": {
      "text/plain": [
       "2"
      ]
     },
     "execution_count": 11,
     "metadata": {},
     "output_type": "execute_result"
    }
   ],
   "source": [
    "x₁ = 2"
   ]
  },
  {
   "cell_type": "code",
   "execution_count": 12,
   "id": "3778c1f7-190e-4bb5-a577-0f0a1dff6e41",
   "metadata": {},
   "outputs": [
    {
     "name": "stdout",
     "output_type": "stream",
     "text": [
      "\"\u001b[36mx₁\u001b[39m\" can be typed by \u001b[36mx\\_1<tab>\u001b[39m\n",
      "\n",
      "search: \u001b[0m\u001b[1mx\u001b[22m\u001b[0m\u001b[1m₁\u001b[22m\n",
      "\n"
     ]
    },
    {
     "data": {
      "text/latex": [
       "No documentation found.\n",
       "\n",
       "\\texttt{x₁} is of type \\texttt{Int64}.\n",
       "\n",
       "\\section{Summary}\n",
       "\\begin{verbatim}\n",
       "primitive type Int64\n",
       "\\end{verbatim}\n",
       "\\section{Supertype Hierarchy}\n",
       "\\begin{verbatim}\n",
       "Int64 <: Signed <: Integer <: Real <: Number <: Any\n",
       "\\end{verbatim}\n"
      ],
      "text/markdown": [
       "No documentation found.\n",
       "\n",
       "`x₁` is of type `Int64`.\n",
       "\n",
       "# Summary\n",
       "\n",
       "```\n",
       "primitive type Int64\n",
       "```\n",
       "\n",
       "# Supertype Hierarchy\n",
       "\n",
       "```\n",
       "Int64 <: Signed <: Integer <: Real <: Number <: Any\n",
       "```\n"
      ],
      "text/plain": [
       "  No documentation found.\n",
       "\n",
       "  \u001b[36mx₁\u001b[39m is of type \u001b[36mInt64\u001b[39m.\n",
       "\n",
       "\u001b[1m  Summary\u001b[22m\n",
       "\u001b[1m  ≡≡≡≡≡≡≡≡≡\u001b[22m\n",
       "\n",
       "\u001b[36m  primitive type Int64\u001b[39m\n",
       "\n",
       "\u001b[1m  Supertype Hierarchy\u001b[22m\n",
       "\u001b[1m  ≡≡≡≡≡≡≡≡≡≡≡≡≡≡≡≡≡≡≡≡≡\u001b[22m\n",
       "\n",
       "\u001b[36m  Int64 <: Signed <: Integer <: Real <: Number <: Any\u001b[39m"
      ]
     },
     "execution_count": 12,
     "metadata": {},
     "output_type": "execute_result"
    }
   ],
   "source": [
    "? x₁"
   ]
  },
  {
   "cell_type": "code",
   "execution_count": 14,
   "id": "4419c36a-2bd1-4cee-9037-ee4837006268",
   "metadata": {},
   "outputs": [
    {
     "ename": "LoadError",
     "evalue": "UndefVarError: ϵ not defined",
     "output_type": "error",
     "traceback": [
      "UndefVarError: ϵ not defined",
      ""
     ]
    }
   ],
   "source": [
    "ϵ "
   ]
  },
  {
   "cell_type": "code",
   "execution_count": null,
   "id": "ffb7a070-3aef-458f-a7f0-4d75cc3daabf",
   "metadata": {},
   "outputs": [],
   "source": []
  }
 ],
 "metadata": {
  "kernelspec": {
   "display_name": "Julia 1.8.5",
   "language": "julia",
   "name": "julia-1.8"
  },
  "language_info": {
   "file_extension": ".jl",
   "mimetype": "application/julia",
   "name": "julia",
   "version": "1.8.5"
  }
 },
 "nbformat": 4,
 "nbformat_minor": 5
}
