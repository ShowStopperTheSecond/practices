{
 "cells": [
  {
   "cell_type": "markdown",
   "id": "75de8664-b1c1-47c5-b567-7719e885c561",
   "metadata": {},
   "source": [
    "## Working with packages and modules"
   ]
  },
  {
   "cell_type": "markdown",
   "id": "833738c0-86ae-48a5-90b3-f714d6a307b8",
   "metadata": {},
   "source": [
    "### What is a module in Julia?"
   ]
  },
  {
   "cell_type": "markdown",
   "id": "d5ac7662-728d-4551-8b1c-a6fd1237a0bf",
   "metadata": {},
   "source": [
    "Larger programs in Julia require structure that helps organize their code. Therefore,\n",
    "it is likely that someone already implemented a function like our winsorized_mean\n",
    "because it is a commonly used statistical method. In Julia, such functions are shared\n",
    "using packages. So, if someone did create a function like ours, then instead of writing\n",
    "our own function, we could use the one defined in a package. That’s why you need to\n",
    "know how to use packages in Julia."
   ]
  },
  {
   "cell_type": "markdown",
   "id": "9d7ac529-d459-48bb-a513-6cff073a0ede",
   "metadata": {},
   "source": [
    "Assume your code is split into three files—file1.jl, file2.jl, and file3.jl—and you\n",
    "want to create a main file—call it, for example, main.jl—that uses these three files.\n",
    "You can achieve this by using the include function. Assume that the source code of\n",
    "your main.jl file is the following:"
   ]
  },
  {
   "cell_type": "markdown",
   "id": "43d8807e-68ef-40ca-8bef-f7e79b533aac",
   "metadata": {},
   "source": [
    "``` Julia\n",
    "include(\"file1.jl\")\n",
    "include(\"file2.jl\")\n",
    "include(\"file3.jl\")\n",
    "```"
   ]
  },
  {
   "cell_type": "markdown",
   "id": "dcc8fa08-37ba-42c6-b542-01834bdc7662",
   "metadata": {},
   "source": [
    "You can define the module ExampleModule that defines a single function called\n",
    "example by using the module keyword argument like this:"
   ]
  },
  {
   "cell_type": "code",
   "execution_count": 2,
   "id": "e477e788-f867-49e0-90de-daf4c6a3d26f",
   "metadata": {},
   "outputs": [
    {
     "data": {
      "text/plain": [
       "Main.ExampleModule"
      ]
     },
     "execution_count": 2,
     "metadata": {},
     "output_type": "execute_result"
    }
   ],
   "source": [
    "module ExampleModule\n",
    "function example()\n",
    "println(\"Hello\")\n",
    "end\n",
    "end # ExampleModule"
   ]
  },
  {
   "cell_type": "code",
   "execution_count": 3,
   "id": "039c774f-86f2-4334-bd15-727525990f0a",
   "metadata": {},
   "outputs": [
    {
     "name": "stdout",
     "output_type": "stream",
     "text": [
      "Hello\n"
     ]
    }
   ],
   "source": [
    "ExampleModule.example()"
   ]
  },
  {
   "cell_type": "markdown",
   "id": "2ef6dcdb-fe21-4c3b-828a-1e65c88b86cb",
   "metadata": {},
   "source": [
    "- Code inside the module is not indented as a convention (unlike all other blocks\n",
    "in Julia). Modules can get very large (spanning even thousands of lines), so\n",
    "using four-space indentation for the entire content of the module would not be\n",
    "practical.\n",
    "- There is a convention to put a comment with the module name after the end\n",
    "keyword argument. Again, modules typically contain hundreds or even thou-\n",
    "sands of lines of code. Therefore, it is often hard to visually identify that the\n",
    "end keyword is finishing the definition of the module. For this reason, it is use-\n",
    "ful to explicitly indicate the end by using a comment."
   ]
  },
  {
   "cell_type": "markdown",
   "id": "d0e04775-d853-4843-a5a0-e6a5fa2af327",
   "metadata": {},
   "source": [
    "- Unlike Python, modules have no relationship with how the code is organized\n",
    "into files. You can have many modules in a single file, or a single module can be\n",
    "defined in multiple files (combined using the include function). Modules are\n",
    "used only to give a logical structure to your code by defining separate variable\n",
    "namespaces and module-specific global scopes.\n",
    "- A module designer can decide which variables and functions are exposed to the\n",
    "module users by using the export keyword."
   ]
  },
  {
   "cell_type": "markdown",
   "id": "ea0ecf66-1388-4860-95f4-85e149165907",
   "metadata": {},
   "source": [
    "If someone creates a module that is intended to be shared with other Julia users, it can\n",
    "be registered with the Julia general registry (https://github.com/JuliaRegistries/\n",
    "General). These modules must have a special structure, and after being registered,\n",
    "they become available as packages. You can find instructions for managing packages in\n",
    "appendix A."
   ]
  },
  {
   "cell_type": "markdown",
   "id": "0da4fb92-c66d-405b-8d10-d0082cd1caf2",
   "metadata": {},
   "source": [
    "### How can packages be used in Julia?"
   ]
  },
  {
   "cell_type": "markdown",
   "id": "2ed96065-42e7-4fd4-a9e7-2b7f8670aaef",
   "metadata": {},
   "source": [
    "Knowing how to use modules that are bundled into packages is important for a data\n",
    "scientist. You have two basic ways to make the functionality of an installed package\n",
    "usable in your code: using the import or using keyword arguments"
   ]
  },
  {
   "cell_type": "markdown",
   "id": "39bb05f7-42ce-44f8-9cfd-a777aacedd88",
   "metadata": {},
   "source": [
    "When you use\n",
    "import, only the module name is brought into the scope of your code. To access vari-\n",
    "ables and functions defined by the module, you need to prefix their names with the\n",
    "module name, followed by a dot. Here is an example"
   ]
  },
  {
   "cell_type": "code",
   "execution_count": 5,
   "id": "2362bdf1-2f6f-4553-a3ab-705b659de53a",
   "metadata": {},
   "outputs": [],
   "source": [
    "import Statistics as st"
   ]
  },
  {
   "cell_type": "code",
   "execution_count": 6,
   "id": "975d6763-404c-4f79-b842-db8dfba4f249",
   "metadata": {},
   "outputs": [
    {
     "data": {
      "text/plain": [
       "4-element Vector{Int64}:\n",
       " 1\n",
       " 2\n",
       " 3\n",
       " 4"
      ]
     },
     "execution_count": 6,
     "metadata": {},
     "output_type": "execute_result"
    }
   ],
   "source": [
    "x = [1, 2, 3, 4]"
   ]
  },
  {
   "cell_type": "code",
   "execution_count": 7,
   "id": "88f16c74-b3de-4169-82c1-106c4ce08643",
   "metadata": {},
   "outputs": [
    {
     "data": {
      "text/plain": [
       "2.5"
      ]
     },
     "execution_count": 7,
     "metadata": {},
     "output_type": "execute_result"
    }
   ],
   "source": [
    "st.mean(x)"
   ]
  },
  {
   "cell_type": "markdown",
   "id": "6b2e4d38-ca2c-4653-b088-5c4119e9268f",
   "metadata": {},
   "source": [
    "Instead, with the using keyword, we bring all exported functionalities of the mod-\n",
    "ule into the scope so they can be used directly. Therefore, following the preceding\n",
    "example, we have this:"
   ]
  },
  {
   "cell_type": "code",
   "execution_count": 8,
   "id": "fb6fa7d2-aa03-484b-a3c4-d5a6c4d282a9",
   "metadata": {},
   "outputs": [],
   "source": [
    "using Statistics"
   ]
  },
  {
   "cell_type": "code",
   "execution_count": 9,
   "id": "1797787c-888b-405f-a8fa-5cb473e3d6bd",
   "metadata": {},
   "outputs": [
    {
     "data": {
      "text/plain": [
       "2.5"
      ]
     },
     "execution_count": 9,
     "metadata": {},
     "output_type": "execute_result"
    }
   ],
   "source": [
    "mean(x)"
   ]
  },
  {
   "cell_type": "markdown",
   "id": "dad74a6a-46d4-4fe8-be8a-5086e1ef9c72",
   "metadata": {},
   "source": [
    "Now you might wonder if you should be using the import or the using state-\n",
    "ments in your code. This is a question often asked by Python users who learn that it is\n",
    "safe to import only the functions or variables that they plan to use in code. This is not\n",
    "the case in Julia"
   ]
  },
  {
   "cell_type": "markdown",
   "id": "52e6f311-b2f9-48d5-8636-03690dd18679",
   "metadata": {},
   "source": [
    "### Using StatsBase.jl to compute the winsorized mean"
   ]
  },
  {
   "cell_type": "code",
   "execution_count": 10,
   "id": "4462849f-18df-40d2-abf5-470eb7949265",
   "metadata": {},
   "outputs": [],
   "source": [
    "using StatsBase"
   ]
  },
  {
   "cell_type": "code",
   "execution_count": 11,
   "id": "b63e52df-8c20-4e29-9844-49f107044d63",
   "metadata": {},
   "outputs": [
    {
     "name": "stdout",
     "output_type": "stream",
     "text": [
      "search: \u001b[0m\u001b[1mw\u001b[22m\u001b[0m\u001b[1mi\u001b[22m\u001b[0m\u001b[1mn\u001b[22m\u001b[0m\u001b[1ms\u001b[22m\u001b[0m\u001b[1mo\u001b[22m\u001b[0m\u001b[1mr\u001b[22m \u001b[0m\u001b[1mw\u001b[22m\u001b[0m\u001b[1mi\u001b[22m\u001b[0m\u001b[1mn\u001b[22m\u001b[0m\u001b[1ms\u001b[22m\u001b[0m\u001b[1mo\u001b[22m\u001b[0m\u001b[1mr\u001b[22m!\n",
      "\n"
     ]
    },
    {
     "data": {
      "text/latex": [
       "\\begin{verbatim}\n",
       "winsor(x::AbstractVector; prop=0.0, count=0)\n",
       "\\end{verbatim}\n",
       "Return an iterator of all elements of \\texttt{x} that replaces either \\texttt{count} or proportion \\texttt{prop} of the highest elements with the previous-highest element and an equal number of the lowest elements with the next-lowest element.\n",
       "\n",
       "The number of replaced elements could be smaller than specified if several elements equal the lower or upper bound.\n",
       "\n",
       "To compute the Winsorized mean of \\texttt{x} use \\texttt{mean(winsor(x))}.\n",
       "\n",
       "\\section{Example}\n",
       "\\begin{verbatim}\n",
       "julia> collect(winsor([5,2,3,4,1], prop=0.2))\n",
       "5-element Array{Int64,1}:\n",
       " 4\n",
       " 2\n",
       " 3\n",
       " 4\n",
       " 2\n",
       "\\end{verbatim}\n"
      ],
      "text/markdown": [
       "```\n",
       "winsor(x::AbstractVector; prop=0.0, count=0)\n",
       "```\n",
       "\n",
       "Return an iterator of all elements of `x` that replaces either `count` or proportion `prop` of the highest elements with the previous-highest element and an equal number of the lowest elements with the next-lowest element.\n",
       "\n",
       "The number of replaced elements could be smaller than specified if several elements equal the lower or upper bound.\n",
       "\n",
       "To compute the Winsorized mean of `x` use `mean(winsor(x))`.\n",
       "\n",
       "# Example\n",
       "\n",
       "```julia\n",
       "julia> collect(winsor([5,2,3,4,1], prop=0.2))\n",
       "5-element Array{Int64,1}:\n",
       " 4\n",
       " 2\n",
       " 3\n",
       " 4\n",
       " 2\n",
       "```\n"
      ],
      "text/plain": [
       "\u001b[36m  winsor(x::AbstractVector; prop=0.0, count=0)\u001b[39m\n",
       "\n",
       "  Return an iterator of all elements of \u001b[36mx\u001b[39m that replaces either \u001b[36mcount\u001b[39m or\n",
       "  proportion \u001b[36mprop\u001b[39m of the highest elements with the previous-highest element\n",
       "  and an equal number of the lowest elements with the next-lowest element.\n",
       "\n",
       "  The number of replaced elements could be smaller than specified if several\n",
       "  elements equal the lower or upper bound.\n",
       "\n",
       "  To compute the Winsorized mean of \u001b[36mx\u001b[39m use \u001b[36mmean(winsor(x))\u001b[39m.\n",
       "\n",
       "\u001b[1m  Example\u001b[22m\n",
       "\u001b[1m  ≡≡≡≡≡≡≡≡≡\u001b[22m\n",
       "\n",
       "\u001b[36m  julia> collect(winsor([5,2,3,4,1], prop=0.2))\u001b[39m\n",
       "\u001b[36m  5-element Array{Int64,1}:\u001b[39m\n",
       "\u001b[36m   4\u001b[39m\n",
       "\u001b[36m   2\u001b[39m\n",
       "\u001b[36m   3\u001b[39m\n",
       "\u001b[36m   4\u001b[39m\n",
       "\u001b[36m   2\u001b[39m"
      ]
     },
     "execution_count": 11,
     "metadata": {},
     "output_type": "execute_result"
    }
   ],
   "source": [
    "? winsor"
   ]
  },
  {
   "cell_type": "code",
   "execution_count": 12,
   "id": "b9d76d5a-44e6-4604-99c6-cc9ccd690af8",
   "metadata": {},
   "outputs": [
    {
     "data": {
      "text/plain": [
       "5.0"
      ]
     },
     "execution_count": 12,
     "metadata": {},
     "output_type": "execute_result"
    }
   ],
   "source": [
    "mean(winsor([8, 3, 1, 5, 7], count=1))"
   ]
  },
  {
   "cell_type": "code",
   "execution_count": null,
   "id": "d914c486-1a63-49e7-b2f9-92b4bc6c6db0",
   "metadata": {},
   "outputs": [],
   "source": []
  }
 ],
 "metadata": {
  "kernelspec": {
   "display_name": "Julia 1.8.5",
   "language": "julia",
   "name": "julia-1.8"
  },
  "language_info": {
   "file_extension": ".jl",
   "mimetype": "application/julia",
   "name": "julia",
   "version": "1.8.5"
  }
 },
 "nbformat": 4,
 "nbformat_minor": 5
}
