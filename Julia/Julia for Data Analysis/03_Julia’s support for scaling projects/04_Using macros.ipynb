{
 "cells": [
  {
   "cell_type": "markdown",
   "id": "2c82d985-c4e4-4afb-8379-960f8d1ee7e4",
   "metadata": {},
   "source": [
    "## Using macros"
   ]
  },
  {
   "cell_type": "code",
   "execution_count": 1,
   "id": "62fa67e2-83db-44e7-b55c-ed3aa7cbf719",
   "metadata": {},
   "outputs": [
    {
     "name": "stdout",
     "output_type": "stream",
     "text": [
      "  0.000001 seconds\n"
     ]
    },
    {
     "data": {
      "text/plain": [
       "3"
      ]
     },
     "execution_count": 1,
     "metadata": {},
     "output_type": "execute_result"
    }
   ],
   "source": [
    "@time 1 + 2"
   ]
  },
  {
   "cell_type": "code",
   "execution_count": 6,
   "id": "abf3627b-96a0-40ad-9b93-c53831b5870e",
   "metadata": {},
   "outputs": [
    {
     "name": "stdout",
     "output_type": "stream",
     "text": [
      "  0.000001 seconds\n"
     ]
    },
    {
     "data": {
      "text/plain": [
       "3"
      ]
     },
     "execution_count": 6,
     "metadata": {},
     "output_type": "execute_result"
    }
   ],
   "source": [
    "@time (1 + 2)"
   ]
  },
  {
   "cell_type": "code",
   "execution_count": 8,
   "id": "27d85acd-b1f6-47b3-8ed9-fb507a3d2200",
   "metadata": {},
   "outputs": [
    {
     "ename": "LoadError",
     "evalue": "AssertionError: 2 is not equal 4",
     "output_type": "error",
     "traceback": [
      "AssertionError: 2 is not equal 4",
      "",
      "Stacktrace:",
      " [1] top-level scope",
      "   @ In[8]:1"
     ]
    }
   ],
   "source": [
    "@assert 2 == 4 \"2 is not equal 4\""
   ]
  },
  {
   "cell_type": "code",
   "execution_count": 9,
   "id": "449a778d-0b76-41da-87bc-ffc395c1bed5",
   "metadata": {},
   "outputs": [
    {
     "ename": "LoadError",
     "evalue": "AssertionError: 2 is not equal 4",
     "output_type": "error",
     "traceback": [
      "AssertionError: 2 is not equal 4",
      "",
      "Stacktrace:",
      " [1] top-level scope",
      "   @ In[9]:1"
     ]
    }
   ],
   "source": [
    "@assert( 2 == 4, \"2 is not equal 4\")"
   ]
  },
  {
   "cell_type": "markdown",
   "id": "259d8dc0-2380-4fa6-8605-efbc8ef770d1",
   "metadata": {},
   "source": [
    "Note that if you do not use parentheses, the expressions passed to the macro should\n",
    "be separated with a space (a comma must not be used in this case)."
   ]
  },
  {
   "cell_type": "markdown",
   "id": "f2ab1324-986c-491e-a39e-34eef1b97e81",
   "metadata": {},
   "source": [
    "You now know how macros are called, but what do they do? As I have said, they\n",
    "rewrite your code to generate new, transformed code. You can easily see this rewritten\n",
    "code by using the @macroexpand macro. Let’s start with a simple example of the\n",
    "@assert macro:"
   ]
  },
  {
   "cell_type": "code",
   "execution_count": 10,
   "id": "8e76bcb1-0245-41e5-b36a-0a329e056843",
   "metadata": {},
   "outputs": [
    {
     "data": {
      "text/plain": [
       ":(if 1 == 2\n",
       "      nothing\n",
       "  else\n",
       "      Base.throw(Base.AssertionError(\"1 is not equal 2\"))\n",
       "  end)"
      ]
     },
     "execution_count": 10,
     "metadata": {},
     "output_type": "execute_result"
    }
   ],
   "source": [
    "@macroexpand @assert(1 == 2, \"1 is not equal 2\")"
   ]
  },
  {
   "cell_type": "markdown",
   "id": "ee1a100d-cc45-4403-a6e5-27eb5b5beb59",
   "metadata": {},
   "source": [
    "Of course, normally macros can generate much more complex code. For example,\n",
    "the @time macro performs multiple operations to ensure proper measurement of the\n",
    "execution time of the passed expression:"
   ]
  },
  {
   "cell_type": "code",
   "execution_count": 11,
   "id": "3769167e-117e-4df1-8cf3-a45b1e2d63e7",
   "metadata": {},
   "outputs": [
    {
     "data": {
      "text/plain": [
       "quote\n",
       "    \u001b[90m#= timing.jl:252 =#\u001b[39m\n",
       "    begin\n",
       "        \u001b[90m#= timing.jl:257 =#\u001b[39m\n",
       "        $(Expr(:meta, :force_compile))\n",
       "        \u001b[90m#= timing.jl:258 =#\u001b[39m\n",
       "        local var\"#43#stats\" = Base.gc_num()\n",
       "        \u001b[90m#= timing.jl:259 =#\u001b[39m\n",
       "        local var\"#45#elapsedtime\" = Base.time_ns()\n",
       "        \u001b[90m#= timing.jl:260 =#\u001b[39m\n",
       "        Base.cumulative_compile_timing(true)\n",
       "        \u001b[90m#= timing.jl:261 =#\u001b[39m\n",
       "        local var\"#46#compile_elapsedtimes\" = Base.cumulative_compile_time_ns()\n",
       "        \u001b[90m#= timing.jl:262 =#\u001b[39m\n",
       "        local var\"#44#val\" = $(Expr(:tryfinally, :(1 + 2), quote\n",
       "    var\"#45#elapsedtime\" = Base.time_ns() - var\"#45#elapsedtime\"\n",
       "    \u001b[90m#= timing.jl:264 =#\u001b[39m\n",
       "    Base.cumulative_compile_timing(false)\n",
       "    \u001b[90m#= timing.jl:265 =#\u001b[39m\n",
       "    var\"#46#compile_elapsedtimes\" = Base.cumulative_compile_time_ns() .- var\"#46#compile_elapsedtimes\"\n",
       "end))\n",
       "        \u001b[90m#= timing.jl:267 =#\u001b[39m\n",
       "        local var\"#47#diff\" = Base.GC_Diff(Base.gc_num(), var\"#43#stats\")\n",
       "        \u001b[90m#= timing.jl:268 =#\u001b[39m\n",
       "        local var\"#48#_msg\" = Base.nothing\n",
       "        \u001b[90m#= timing.jl:269 =#\u001b[39m\n",
       "        local var\"#49#has_msg\" = !(Base.isnothing(var\"#48#_msg\"))\n",
       "        \u001b[90m#= timing.jl:270 =#\u001b[39m\n",
       "        var\"#49#has_msg\" && Base.print(var\"#48#_msg\", \": \")\n",
       "        \u001b[90m#= timing.jl:271 =#\u001b[39m\n",
       "        Base.time_print(var\"#45#elapsedtime\", (var\"#47#diff\").allocd, (var\"#47#diff\").total_time, Base.gc_alloc_count(var\"#47#diff\"), Base.first(var\"#46#compile_elapsedtimes\"), Base.last(var\"#46#compile_elapsedtimes\"), true, !var\"#49#has_msg\")\n",
       "        \u001b[90m#= timing.jl:272 =#\u001b[39m\n",
       "        var\"#44#val\"\n",
       "    end\n",
       "end"
      ]
     },
     "execution_count": 11,
     "metadata": {},
     "output_type": "execute_result"
    }
   ],
   "source": [
    "@macroexpand @time(1+2)"
   ]
  },
  {
   "cell_type": "markdown",
   "id": "bad6053f-466d-46fd-9a0d-8bdcfe723dbf",
   "metadata": {},
   "source": [
    "Now you might ask why @time is a macro and not just a function. If you were to\n",
    "define the time function instead and write time(1 + 2), the 1 + 2 expression would\n",
    "be evaluated before it was passed to the function, so it would be impossible to measure\n",
    "the time it took to execute it. To measure the execution time of an expression, we\n",
    "must augment it with proper code before the expression is run. This is possible only\n",
    "during parsing of the Julia code."
   ]
  },
  {
   "cell_type": "markdown",
   "id": "5d2d33f2-ef22-4238-b261-969772936a3d",
   "metadata": {},
   "source": [
    "---\n",
    "For benchmarking, we will use the @benchmark macro\n",
    "from the BenchmarkTools.jl package. It differs from the @time macro in that it runs\n",
    "the expression many times and then calculates the statistics of the observed run times"
   ]
  },
  {
   "cell_type": "code",
   "execution_count": 13,
   "id": "9e150577-995a-492a-9a95-5e536a9dad95",
   "metadata": {},
   "outputs": [],
   "source": [
    "using BenchmarkTools"
   ]
  },
  {
   "cell_type": "code",
   "execution_count": 14,
   "id": "8fb7e4c0-742f-4522-9cf3-87a81ad1fc47",
   "metadata": {},
   "outputs": [
    {
     "data": {
      "text/plain": [
       "winsorized_mean (generic function with 1 method)"
      ]
     },
     "execution_count": 14,
     "metadata": {},
     "output_type": "execute_result"
    }
   ],
   "source": [
    "function winsorized_mean(x::AbstractVector, k::Integer)\n",
    "    sorted_x = sort(x)\n",
    "    sorted_x[1 : k] = sorted_x[k+1 : 2*k]\n",
    "    sorted_x[ end - k + 1 : end ] = sorted_x[ (end - 2 * k + 1) : end - k ]\n",
    "    # print(sorted_x)\n",
    "    return sum(sorted_x)/length(sorted_x)\n",
    "end\n"
   ]
  },
  {
   "cell_type": "code",
   "execution_count": 16,
   "id": "da4473de-8117-408a-9a85-8e92a89c12c9",
   "metadata": {},
   "outputs": [],
   "source": [
    "x = rand(10^6);"
   ]
  },
  {
   "cell_type": "code",
   "execution_count": 20,
   "id": "0a1c2a57-3472-4e21-ac59-ff31d7265e8f",
   "metadata": {},
   "outputs": [
    {
     "data": {
      "text/plain": [
       "(1000000,)"
      ]
     },
     "execution_count": 20,
     "metadata": {},
     "output_type": "execute_result"
    }
   ],
   "source": [
    "size(x)"
   ]
  },
  {
   "cell_type": "code",
   "execution_count": 21,
   "id": "bf12e959-6909-4b56-8237-67bc00d4bbba",
   "metadata": {},
   "outputs": [
    {
     "data": {
      "text/plain": [
       "BenchmarkTools.Trial: 69 samples with 1 evaluation.\n",
       " Range \u001b[90m(\u001b[39m\u001b[36m\u001b[1mmin\u001b[22m\u001b[39m … \u001b[35mmax\u001b[39m\u001b[90m):  \u001b[39m\u001b[36m\u001b[1m70.273 ms\u001b[22m\u001b[39m … \u001b[35m82.426 ms\u001b[39m  \u001b[90m┊\u001b[39m GC \u001b[90m(\u001b[39mmin … max\u001b[90m): \u001b[39m0.00% … 0.69%\n",
       " Time  \u001b[90m(\u001b[39m\u001b[34m\u001b[1mmedian\u001b[22m\u001b[39m\u001b[90m):     \u001b[39m\u001b[34m\u001b[1m72.540 ms              \u001b[22m\u001b[39m\u001b[90m┊\u001b[39m GC \u001b[90m(\u001b[39mmedian\u001b[90m):    \u001b[39m0.00%\n",
       " Time  \u001b[90m(\u001b[39m\u001b[32m\u001b[1mmean\u001b[22m\u001b[39m ± \u001b[32mσ\u001b[39m\u001b[90m):   \u001b[39m\u001b[32m\u001b[1m73.082 ms\u001b[22m\u001b[39m ± \u001b[32m 2.111 ms\u001b[39m  \u001b[90m┊\u001b[39m GC \u001b[90m(\u001b[39mmean ± σ\u001b[90m):  \u001b[39m0.12% ± 0.26%\n",
       "\n",
       "  \u001b[39m \u001b[39m \u001b[39m \u001b[39m \u001b[39m \u001b[39m \u001b[39m█\u001b[39m \u001b[39m▁\u001b[39m▃\u001b[39m \u001b[39m▃\u001b[39m \u001b[39m \u001b[34m \u001b[39m\u001b[39m \u001b[39m \u001b[39m \u001b[32m \u001b[39m\u001b[39m \u001b[39m \u001b[39m \u001b[39m \u001b[39m \u001b[39m \u001b[39m \u001b[39m \u001b[39m \u001b[39m \u001b[39m \u001b[39m \u001b[39m \u001b[39m \u001b[39m \u001b[39m \u001b[39m \u001b[39m \u001b[39m \u001b[39m \u001b[39m \u001b[39m \u001b[39m \u001b[39m \u001b[39m \u001b[39m \u001b[39m \u001b[39m \u001b[39m \u001b[39m \u001b[39m \u001b[39m \u001b[39m \u001b[39m \u001b[39m \u001b[39m \u001b[39m \u001b[39m \u001b[39m \u001b[39m \u001b[39m \u001b[39m \n",
       "  \u001b[39m▄\u001b[39m▄\u001b[39m▁\u001b[39m▄\u001b[39m▄\u001b[39m▄\u001b[39m█\u001b[39m▄\u001b[39m█\u001b[39m█\u001b[39m▇\u001b[39m█\u001b[39m▁\u001b[39m▇\u001b[34m▆\u001b[39m\u001b[39m▆\u001b[39m▆\u001b[39m▆\u001b[32m▆\u001b[39m\u001b[39m▄\u001b[39m▄\u001b[39m▁\u001b[39m▇\u001b[39m▄\u001b[39m▇\u001b[39m▁\u001b[39m▄\u001b[39m▆\u001b[39m▄\u001b[39m▄\u001b[39m▄\u001b[39m▁\u001b[39m▁\u001b[39m▆\u001b[39m▇\u001b[39m▁\u001b[39m▁\u001b[39m▁\u001b[39m▄\u001b[39m▁\u001b[39m▄\u001b[39m▁\u001b[39m▁\u001b[39m▁\u001b[39m▁\u001b[39m▄\u001b[39m▁\u001b[39m▁\u001b[39m▁\u001b[39m▁\u001b[39m▁\u001b[39m▁\u001b[39m▁\u001b[39m▁\u001b[39m▁\u001b[39m▁\u001b[39m▁\u001b[39m▁\u001b[39m▄\u001b[39m \u001b[39m▁\n",
       "  70.3 ms\u001b[90m         Histogram: frequency by time\u001b[39m        79.4 ms \u001b[0m\u001b[1m<\u001b[22m\n",
       "\n",
       " Memory estimate\u001b[90m: \u001b[39m\u001b[33m9.16 MiB\u001b[39m, allocs estimate\u001b[90m: \u001b[39m\u001b[33m6\u001b[39m."
      ]
     },
     "execution_count": 21,
     "metadata": {},
     "output_type": "execute_result"
    }
   ],
   "source": [
    "@benchmark winsorized_mean($x, 10^5)"
   ]
  },
  {
   "cell_type": "markdown",
   "id": "a12f463d-bad8-4fcf-94fa-72d332afe9d1",
   "metadata": {},
   "source": [
    "---"
   ]
  },
  {
   "cell_type": "markdown",
   "id": "cbe5815e-9783-4939-a591-366af3237eea",
   "metadata": {},
   "source": [
    "Now we benchmark computation of the winsorized mean by using the functions pro-\n",
    "vided by the packages from the Julia statistics ecosystem:"
   ]
  },
  {
   "cell_type": "code",
   "execution_count": 22,
   "id": "01d696ed-276b-44ba-be47-a662b79bcc06",
   "metadata": {},
   "outputs": [],
   "source": [
    "using Statistics\n",
    "using StatsBase"
   ]
  },
  {
   "cell_type": "code",
   "execution_count": 23,
   "id": "d038505e-1e70-4745-bb01-08aa178c7d74",
   "metadata": {},
   "outputs": [
    {
     "data": {
      "text/plain": [
       "BenchmarkTools.Trial: 280 samples with 1 evaluation.\n",
       " Range \u001b[90m(\u001b[39m\u001b[36m\u001b[1mmin\u001b[22m\u001b[39m … \u001b[35mmax\u001b[39m\u001b[90m):  \u001b[39m\u001b[36m\u001b[1m16.138 ms\u001b[22m\u001b[39m … \u001b[35m24.870 ms\u001b[39m  \u001b[90m┊\u001b[39m GC \u001b[90m(\u001b[39mmin … max\u001b[90m): \u001b[39m0.00% … 0.00%\n",
       " Time  \u001b[90m(\u001b[39m\u001b[34m\u001b[1mmedian\u001b[22m\u001b[39m\u001b[90m):     \u001b[39m\u001b[34m\u001b[1m17.738 ms              \u001b[22m\u001b[39m\u001b[90m┊\u001b[39m GC \u001b[90m(\u001b[39mmedian\u001b[90m):    \u001b[39m0.00%\n",
       " Time  \u001b[90m(\u001b[39m\u001b[32m\u001b[1mmean\u001b[22m\u001b[39m ± \u001b[32mσ\u001b[39m\u001b[90m):   \u001b[39m\u001b[32m\u001b[1m17.848 ms\u001b[22m\u001b[39m ± \u001b[32m 1.392 ms\u001b[39m  \u001b[90m┊\u001b[39m GC \u001b[90m(\u001b[39mmean ± σ\u001b[90m):  \u001b[39m0.61% ± 1.34%\n",
       "\n",
       "  \u001b[39m \u001b[39m \u001b[39m█\u001b[39m▇\u001b[39m█\u001b[39m▄\u001b[39m \u001b[39m \u001b[39m \u001b[39m \u001b[39m \u001b[39m▂\u001b[39m \u001b[39m \u001b[34m▂\u001b[39m\u001b[32m▂\u001b[39m\u001b[39m▄\u001b[39m▄\u001b[39m▂\u001b[39m \u001b[39m▁\u001b[39m \u001b[39m \u001b[39m \u001b[39m \u001b[39m \u001b[39m \u001b[39m \u001b[39m \u001b[39m \u001b[39m \u001b[39m \u001b[39m \u001b[39m \u001b[39m \u001b[39m \u001b[39m \u001b[39m \u001b[39m \u001b[39m \u001b[39m \u001b[39m \u001b[39m \u001b[39m \u001b[39m \u001b[39m \u001b[39m \u001b[39m \u001b[39m \u001b[39m \u001b[39m \u001b[39m \u001b[39m \u001b[39m \u001b[39m \u001b[39m \u001b[39m \u001b[39m \u001b[39m \u001b[39m \u001b[39m \n",
       "  \u001b[39m▄\u001b[39m▇\u001b[39m█\u001b[39m█\u001b[39m█\u001b[39m█\u001b[39m█\u001b[39m▅\u001b[39m█\u001b[39m▄\u001b[39m█\u001b[39m█\u001b[39m▇\u001b[39m▆\u001b[34m█\u001b[39m\u001b[32m█\u001b[39m\u001b[39m█\u001b[39m█\u001b[39m█\u001b[39m█\u001b[39m█\u001b[39m▃\u001b[39m▇\u001b[39m▄\u001b[39m▄\u001b[39m▅\u001b[39m▆\u001b[39m▄\u001b[39m▁\u001b[39m▃\u001b[39m▁\u001b[39m▃\u001b[39m▆\u001b[39m▁\u001b[39m▄\u001b[39m▁\u001b[39m▃\u001b[39m▁\u001b[39m▃\u001b[39m▃\u001b[39m▄\u001b[39m▃\u001b[39m▁\u001b[39m▃\u001b[39m▁\u001b[39m▃\u001b[39m▁\u001b[39m▁\u001b[39m▁\u001b[39m▁\u001b[39m▁\u001b[39m▁\u001b[39m▁\u001b[39m▃\u001b[39m▃\u001b[39m▁\u001b[39m▁\u001b[39m▁\u001b[39m▃\u001b[39m \u001b[39m▃\n",
       "  16.1 ms\u001b[90m         Histogram: frequency by time\u001b[39m        22.8 ms \u001b[0m\u001b[1m<\u001b[22m\n",
       "\n",
       " Memory estimate\u001b[90m: \u001b[39m\u001b[33m7.63 MiB\u001b[39m, allocs estimate\u001b[90m: \u001b[39m\u001b[33m2\u001b[39m."
      ]
     },
     "execution_count": 23,
     "metadata": {},
     "output_type": "execute_result"
    }
   ],
   "source": [
    "@benchmark mean(winsor($x; count=10^5))"
   ]
  },
  {
   "cell_type": "code",
   "execution_count": 25,
   "id": "9cdca8eb-b8c9-4eb7-95bf-fb1062b48009",
   "metadata": {},
   "outputs": [],
   "source": [
    "# <!-- An important aspect of using the @benchmark macro is that we use $x instead of\n",
    "# just x. This is needed to get a correct assessment of execution time of the expressions\n",
    "# we check. As a rule, remember to prefix with $ all global variables you use in the\n",
    "# expressions you want to benchmark (this applies only to benchmarking and is not a\n",
    "# general rule when using macros) -->"
   ]
  },
  {
   "cell_type": "markdown",
   "id": "0b37d2e5-d7fa-4526-9bcf-6b5c2c3dfcd3",
   "metadata": {},
   "source": [
    "The short explanation is as follows. Recall that since x is a global\n",
    "variable, code using it is not type stable. When the @benchmark macro sees the $x, it\n",
    "is instructed to turn the x variable into one that is local (and thus type stable) before\n",
    "running the benchmarks."
   ]
  },
  {
   "cell_type": "markdown",
   "id": "6a9b9706-6fad-463f-b1c9-65eb4a731fd3",
   "metadata": {},
   "source": [
    "The BenchmarkTools.jl package also provides the @btime macro that accepts the\n",
    "same arguments as @benchmark. The difference is that it produces less-verbose out-\n",
    "put, similar to @time, and the printed time is the minimum elapsed time measured\n",
    "during benchmarking. Here is an example:"
   ]
  },
  {
   "cell_type": "code",
   "execution_count": 26,
   "id": "67ffc319-9e7c-4db1-a7f7-96198d1417f0",
   "metadata": {},
   "outputs": [
    {
     "name": "stdout",
     "output_type": "stream",
     "text": [
      "  16.141 ms (2 allocations: 7.63 MiB)\n"
     ]
    },
    {
     "data": {
      "text/plain": [
       "0.4998842942950655"
      ]
     },
     "execution_count": 26,
     "metadata": {},
     "output_type": "execute_result"
    }
   ],
   "source": [
    "@btime mean(winsor($x; count=10^5))"
   ]
  },
  {
   "cell_type": "markdown",
   "id": "298b7e23-01ce-4c77-ac91-a8680ed71c6e",
   "metadata": {},
   "source": [
    "@edit is one of my favorite macros. In your source code editor, it takes you directly to\n",
    "the source code of the function you are using (you can specify which editor should beSummary\n",
    "used by setting the JULIA_EDITOR environment variable"
   ]
  },
  {
   "cell_type": "code",
   "execution_count": 28,
   "id": "b51a0450-9aa7-451e-b7c5-9a3049dfca75",
   "metadata": {},
   "outputs": [],
   "source": [
    "# @edit winsor(x, count=10^5)"
   ]
  },
  {
   "cell_type": "code",
   "execution_count": 36,
   "id": "178b8c3e-5d90-433f-8f7b-ace7843b62ac",
   "metadata": {},
   "outputs": [],
   "source": [
    "x = collect(1:10^6);"
   ]
  },
  {
   "cell_type": "code",
   "execution_count": 37,
   "id": "72f619f6-6da5-408e-aa69-81cdf58e82e5",
   "metadata": {},
   "outputs": [
    {
     "data": {
      "text/plain": [
       "(1000000,)"
      ]
     },
     "execution_count": 37,
     "metadata": {},
     "output_type": "execute_result"
    }
   ],
   "source": [
    "size(x)"
   ]
  },
  {
   "cell_type": "code",
   "execution_count": 38,
   "id": "b321d24a-b04a-457a-a9e4-b8392a6e3812",
   "metadata": {},
   "outputs": [
    {
     "name": "stdout",
     "output_type": "stream",
     "text": [
      "  0.014246 seconds (56 allocations: 7.632 MiB, 26.61% compilation time)\n"
     ]
    },
    {
     "data": {
      "text/plain": [
       "1000000-element Vector{Int64}:\n",
       "       1\n",
       "       2\n",
       "       3\n",
       "       4\n",
       "       5\n",
       "       6\n",
       "       7\n",
       "       8\n",
       "       9\n",
       "      10\n",
       "      11\n",
       "      12\n",
       "      13\n",
       "       ⋮\n",
       "  999989\n",
       "  999990\n",
       "  999991\n",
       "  999992\n",
       "  999993\n",
       "  999994\n",
       "  999995\n",
       "  999996\n",
       "  999997\n",
       "  999998\n",
       "  999999\n",
       " 1000000"
      ]
     },
     "execution_count": 38,
     "metadata": {},
     "output_type": "execute_result"
    }
   ],
   "source": [
    "@time y = sort(x)"
   ]
  },
  {
   "cell_type": "code",
   "execution_count": 39,
   "id": "1ed87e80-61ec-4c67-8f0a-4f8df49981d7",
   "metadata": {},
   "outputs": [
    {
     "data": {
      "text/plain": [
       "BenchmarkTools.Trial: 538 samples with 1 evaluation.\n",
       " Range \u001b[90m(\u001b[39m\u001b[36m\u001b[1mmin\u001b[22m\u001b[39m … \u001b[35mmax\u001b[39m\u001b[90m):  \u001b[39m\u001b[36m\u001b[1m8.310 ms\u001b[22m\u001b[39m … \u001b[35m15.692 ms\u001b[39m  \u001b[90m┊\u001b[39m GC \u001b[90m(\u001b[39mmin … max\u001b[90m): \u001b[39m0.00% … 6.46%\n",
       " Time  \u001b[90m(\u001b[39m\u001b[34m\u001b[1mmedian\u001b[22m\u001b[39m\u001b[90m):     \u001b[39m\u001b[34m\u001b[1m8.774 ms              \u001b[22m\u001b[39m\u001b[90m┊\u001b[39m GC \u001b[90m(\u001b[39mmedian\u001b[90m):    \u001b[39m0.00%\n",
       " Time  \u001b[90m(\u001b[39m\u001b[32m\u001b[1mmean\u001b[22m\u001b[39m ± \u001b[32mσ\u001b[39m\u001b[90m):   \u001b[39m\u001b[32m\u001b[1m9.295 ms\u001b[22m\u001b[39m ± \u001b[32m 1.192 ms\u001b[39m  \u001b[90m┊\u001b[39m GC \u001b[90m(\u001b[39mmean ± σ\u001b[90m):  \u001b[39m1.00% ± 2.31%\n",
       "\n",
       "  \u001b[39m \u001b[39m█\u001b[39m█\u001b[39m▇\u001b[39m▂\u001b[34m \u001b[39m\u001b[39m \u001b[39m \u001b[39m \u001b[39m \u001b[39m \u001b[32m \u001b[39m\u001b[39m \u001b[39m \u001b[39m \u001b[39m \u001b[39m \u001b[39m \u001b[39m \u001b[39m \u001b[39m \u001b[39m \u001b[39m \u001b[39m \u001b[39m \u001b[39m \u001b[39m \u001b[39m \u001b[39m \u001b[39m \u001b[39m \u001b[39m \u001b[39m \u001b[39m \u001b[39m \u001b[39m \u001b[39m \u001b[39m \u001b[39m \u001b[39m \u001b[39m \u001b[39m \u001b[39m \u001b[39m \u001b[39m \u001b[39m \u001b[39m \u001b[39m \u001b[39m \u001b[39m \u001b[39m \u001b[39m \u001b[39m \u001b[39m \u001b[39m \u001b[39m \u001b[39m \u001b[39m \u001b[39m \u001b[39m \n",
       "  \u001b[39m█\u001b[39m█\u001b[39m█\u001b[39m█\u001b[39m█\u001b[34m█\u001b[39m\u001b[39m▇\u001b[39m▄\u001b[39m▆\u001b[39m▄\u001b[39m▅\u001b[32m▆\u001b[39m\u001b[39m▄\u001b[39m▄\u001b[39m▅\u001b[39m▃\u001b[39m▃\u001b[39m▃\u001b[39m▃\u001b[39m▄\u001b[39m▃\u001b[39m▄\u001b[39m▃\u001b[39m▃\u001b[39m▃\u001b[39m▁\u001b[39m▁\u001b[39m▂\u001b[39m▃\u001b[39m▃\u001b[39m▂\u001b[39m▂\u001b[39m▃\u001b[39m▃\u001b[39m▂\u001b[39m▂\u001b[39m▃\u001b[39m▂\u001b[39m▃\u001b[39m▂\u001b[39m▁\u001b[39m▂\u001b[39m▃\u001b[39m▃\u001b[39m▁\u001b[39m▂\u001b[39m▁\u001b[39m▂\u001b[39m▂\u001b[39m▃\u001b[39m▂\u001b[39m▁\u001b[39m▂\u001b[39m▂\u001b[39m▂\u001b[39m▂\u001b[39m▁\u001b[39m▂\u001b[39m \u001b[39m▃\n",
       "  8.31 ms\u001b[90m        Histogram: frequency by time\u001b[39m        13.5 ms \u001b[0m\u001b[1m<\u001b[22m\n",
       "\n",
       " Memory estimate\u001b[90m: \u001b[39m\u001b[33m7.63 MiB\u001b[39m, allocs estimate\u001b[90m: \u001b[39m\u001b[33m2\u001b[39m."
      ]
     },
     "execution_count": 39,
     "metadata": {},
     "output_type": "execute_result"
    }
   ],
   "source": [
    "@benchmark y = sort($x)"
   ]
  },
  {
   "cell_type": "code",
   "execution_count": null,
   "id": "759aaf38-a57c-4091-8841-78595b56603a",
   "metadata": {},
   "outputs": [],
   "source": []
  }
 ],
 "metadata": {
  "kernelspec": {
   "display_name": "Julia 1.8.5",
   "language": "julia",
   "name": "julia-1.8"
  },
  "language_info": {
   "file_extension": ".jl",
   "mimetype": "application/julia",
   "name": "julia",
   "version": "1.8.5"
  }
 },
 "nbformat": 4,
 "nbformat_minor": 5
}
