{
 "cells": [
  {
   "cell_type": "markdown",
   "id": "7b3f55e8-cdc7-491a-8d59-c4b844ae5c98",
   "metadata": {},
   "source": [
    "## Understanding Julia’s type system"
   ]
  },
  {
   "cell_type": "markdown",
   "id": "74e8e23d-169b-41f3-b951-3b4812068eaf",
   "metadata": {},
   "source": [
    "### A single function in Julia may have multiple methods"
   ]
  },
  {
   "cell_type": "markdown",
   "id": "411a69b8-1409-4200-a4cb-836ab6c62f85",
   "metadata": {},
   "source": [
    "You can define multiple methods for the same function with\n",
    "different implementations, depending on the types of the passed arguments. You can\n",
    "use the methods function to get the list of methods defined for a given function."
   ]
  },
  {
   "cell_type": "code",
   "execution_count": 1,
   "id": "b456b072-6dfb-427f-a2b3-de141dbce776",
   "metadata": {},
   "outputs": [
    {
     "data": {
      "text/html": [
       "# 4 methods for generic function <b>cd</b>:<ul><li> cd() in Base.Filesystem at <a href=\"https://github.com/JuliaLang/julia/tree/17cfb8e65ead377bf1b4598d8a9869144142c84e/base/file.jl#L94\" target=\"_blank\">file.jl:94</a></li> <li> cd(dir::<b>AbstractString</b>) in Base.Filesystem at <a href=\"https://github.com/JuliaLang/julia/tree/17cfb8e65ead377bf1b4598d8a9869144142c84e/base/file.jl#L89\" target=\"_blank\">file.jl:89</a></li> <li> cd(f::<b>Function</b>) in Base.Filesystem at <a href=\"https://github.com/JuliaLang/julia/tree/17cfb8e65ead377bf1b4598d8a9869144142c84e/base/file.jl#L147\" target=\"_blank\">file.jl:147</a></li> <li> cd(f::<b>Function</b>, dir::<b>AbstractString</b>) in Base.Filesystem at <a href=\"https://github.com/JuliaLang/julia/tree/17cfb8e65ead377bf1b4598d8a9869144142c84e/base/file.jl#L107\" target=\"_blank\">file.jl:107</a></li> </ul>"
      ],
      "text/plain": [
       "# 4 methods for generic function \"cd\":\n",
       "[1] cd() in Base.Filesystem at file.jl:94\n",
       "[2] cd(dir::AbstractString) in Base.Filesystem at file.jl:89\n",
       "[3] cd(f::Function) in Base.Filesystem at file.jl:147\n",
       "[4] cd(f::Function, dir::AbstractString) in Base.Filesystem at file.jl:107"
      ]
     },
     "execution_count": 1,
     "metadata": {},
     "output_type": "execute_result"
    }
   ],
   "source": [
    "methods(cd)"
   ]
  },
  {
   "cell_type": "markdown",
   "id": "4f3fea9a-7f40-4770-8b0c-70eca72572d0",
   "metadata": {},
   "source": [
    "You can see that some of the arguments of the functions have type annotations; in this\n",
    "case, they are ::Function and ::AbstractString, which restrict the types of val-\n",
    "ues allowed by the given methods and change their behavior, depending on types of\n",
    "passed values."
   ]
  },
  {
   "cell_type": "code",
   "execution_count": 2,
   "id": "5b794ef8-272c-4537-b886-90c09b188b45",
   "metadata": {},
   "outputs": [
    {
     "data": {
      "text/plain": [
       "true"
      ]
     },
     "execution_count": 2,
     "metadata": {},
     "output_type": "execute_result"
    }
   ],
   "source": [
    "sum isa Function"
   ]
  },
  {
   "cell_type": "code",
   "execution_count": 3,
   "id": "c7ab7117-f281-4287-84cc-d4d223e881a6",
   "metadata": {},
   "outputs": [
    {
     "data": {
      "text/plain": [
       "typeof(sum) (singleton type of function sum, subtype of Function)"
      ]
     },
     "execution_count": 3,
     "metadata": {},
     "output_type": "execute_result"
    }
   ],
   "source": [
    "typeof(sum)"
   ]
  },
  {
   "cell_type": "code",
   "execution_count": 4,
   "id": "9b106e63-b665-4970-b471-a515efd381bc",
   "metadata": {},
   "outputs": [
    {
     "data": {
      "text/plain": [
       "false"
      ]
     },
     "execution_count": 4,
     "metadata": {},
     "output_type": "execute_result"
    }
   ],
   "source": [
    "typeof(sum) == Function"
   ]
  },
  {
   "cell_type": "markdown",
   "id": "2fd87825-1998-44bc-959c-5c04f657df0e",
   "metadata": {},
   "source": [
    "we need to know that in Julia, types are orga-\n",
    "nized in a hierarchy. This allows the bundling together of several types when defining\n",
    "methods for functions. For instance, in the preceding example, the cd function can\n",
    "take any function as an argument."
   ]
  },
  {
   "cell_type": "markdown",
   "id": "776144dc-4edc-4455-847b-9376214f2e3a",
   "metadata": {},
   "source": [
    "### Types in Julia are arranged in a hierarchy"
   ]
  },
  {
   "cell_type": "markdown",
   "id": "a259f5e9-6158-41f5-875d-66d37c1d152c",
   "metadata": {},
   "source": [
    "In Julia, all types are arranged in a tree, and each type has a parent. This parent,\n",
    "called a supertype, can be checked using the supertype function:"
   ]
  },
  {
   "cell_type": "code",
   "execution_count": 5,
   "id": "3799f3f8-c6e1-4383-a43f-5504853a14be",
   "metadata": {},
   "outputs": [
    {
     "data": {
      "text/plain": [
       "Any"
      ]
     },
     "execution_count": 5,
     "metadata": {},
     "output_type": "execute_result"
    }
   ],
   "source": [
    "supertype(Function)"
   ]
  },
  {
   "cell_type": "code",
   "execution_count": 6,
   "id": "a03e0aec-7b05-47c8-b4ed-4770594d83ad",
   "metadata": {},
   "outputs": [
    {
     "data": {
      "text/plain": [
       "Unsigned"
      ]
     },
     "execution_count": 6,
     "metadata": {},
     "output_type": "execute_result"
    }
   ],
   "source": [
    "supertype(UInt)"
   ]
  },
  {
   "cell_type": "code",
   "execution_count": 7,
   "id": "bcc0b40f-111c-48f4-8492-a9a7ae7d759e",
   "metadata": {},
   "outputs": [
    {
     "data": {
      "text/plain": [
       "Function"
      ]
     },
     "execution_count": 7,
     "metadata": {},
     "output_type": "execute_result"
    }
   ],
   "source": [
    "supertype(typeof(sum))"
   ]
  },
  {
   "cell_type": "code",
   "execution_count": 8,
   "id": "4127b094-6170-4531-8e80-f1a704e22d63",
   "metadata": {},
   "outputs": [
    {
     "data": {
      "text/plain": [
       "typeof(sum) (singleton type of function sum, subtype of Function)"
      ]
     },
     "execution_count": 8,
     "metadata": {},
     "output_type": "execute_result"
    }
   ],
   "source": [
    "typeof(sum)"
   ]
  },
  {
   "cell_type": "markdown",
   "id": "7f6320be-6d98-4413-a817-6bc920fb54c1",
   "metadata": {},
   "source": [
    "So, indeed, we see that the type of the sum function is a subtype of the Function type."
   ]
  },
  {
   "cell_type": "markdown",
   "id": "c24c20df-bba6-43f0-b546-06d2ecdde216",
   "metadata": {},
   "source": [
    "- The root type of the tree is called Any. All other types are subtypes of the Any\n",
    "type. If you define a function without specifying its argument(s) type, as we did\n",
    "in section 2.4, Julia assumes by default that the Any type is allowed; that is, you\n",
    "can pass a value of any type to such a function."
   ]
  },
  {
   "cell_type": "markdown",
   "id": "eaa63d0c-d4ca-4486-8bb3-6dc934d2f7b0",
   "metadata": {},
   "source": [
    "- Only the types that are leaves can have instances (that is, have objects that are of\n",
    "that specific type). The types that can be instantiated are called concrete. In other\n",
    "words, if you have a value, you can be sure that its type is concrete and that it is\n",
    "a leaf type. For this reason, there is no function whose type is Function. Every\n",
    "function has its own unique concrete type that is a subtype of the Function type."
   ]
  },
  {
   "cell_type": "markdown",
   "id": "c02b4b15-1991-4cd5-885a-e52ae5db74df",
   "metadata": {},
   "source": [
    "- The types that are not leaves of the type tree (for example, Any or Function)\n",
    "cannot be instantiated. They serve only as intermediate types allowing for logi-\n",
    "cal grouping of other types and are called abstract. You can find the list of sub-\n",
    "types of an abstract type by calling the subtypes function."
   ]
  },
  {
   "cell_type": "code",
   "execution_count": 9,
   "id": "0069420a-3a02-417a-8f15-12476d55ead4",
   "metadata": {},
   "outputs": [
    {
     "data": {
      "text/plain": [
       "(Int64, Signed, Integer, Real, Number, Any)"
      ]
     },
     "execution_count": 9,
     "metadata": {},
     "output_type": "execute_result"
    }
   ],
   "source": [
    "supertypes(Int)"
   ]
  },
  {
   "cell_type": "code",
   "execution_count": 10,
   "id": "1643f9c0-a7dc-4982-8212-cfd0a8f7dd7f",
   "metadata": {},
   "outputs": [
    {
     "data": {
      "text/plain": [
       "(Function, Any)"
      ]
     },
     "execution_count": 10,
     "metadata": {},
     "output_type": "execute_result"
    }
   ],
   "source": [
    "supertypes(Function)"
   ]
  },
  {
   "cell_type": "markdown",
   "id": "b59b3d33-ad17-417d-b914-e95b8cc57712",
   "metadata": {},
   "source": [
    "Only concrete types can be instantiated and cannot have concrete subtypes. You can\n",
    "check whether a given type is concrete by using the isconcretetype function.\n",
    "Abstract types cannot have instances but can have subtypes. You can check whether\n",
    "a given type is abstract by using the isabstracttype function. Therefore, it is not\n",
    "possible for a type to be both abstract and concrete."
   ]
  },
  {
   "cell_type": "markdown",
   "id": "aef2475e-6dc0-4828-b708-161f2482835f",
   "metadata": {},
   "source": [
    "However, some types are neither abstract nor concrete. You will encounter these\n",
    "types in chapter 4 when you learn more about parametric types. An example of such\n",
    "a type is Vector. (Note that this type has its parameter left out, and this is why it is\n",
    "not concrete;"
   ]
  },
  {
   "cell_type": "markdown",
   "id": "805623db-d2e2-42fd-9192-abd94d425b87",
   "metadata": {},
   "source": [
    "### Finding all supertypes of a type"
   ]
  },
  {
   "cell_type": "code",
   "execution_count": 11,
   "id": "56aef368-6115-4ef5-bf93-690d6097326a",
   "metadata": {},
   "outputs": [
    {
     "data": {
      "text/plain": [
       "print_supertypes (generic function with 1 method)"
      ]
     },
     "execution_count": 11,
     "metadata": {},
     "output_type": "execute_result"
    }
   ],
   "source": [
    "function print_supertypes(T)\n",
    "    println(T)\n",
    "    T == Any || print_supertypes(supertype(T))\n",
    "    return nothing\n",
    "end\n"
   ]
  },
  {
   "cell_type": "code",
   "execution_count": 12,
   "id": "163e5af6-b28a-4eb6-9336-bef574b97aaa",
   "metadata": {},
   "outputs": [
    {
     "name": "stdout",
     "output_type": "stream",
     "text": [
      "Int64\n",
      "Signed\n",
      "Integer\n",
      "Real\n",
      "Number\n",
      "Any\n"
     ]
    }
   ],
   "source": [
    "print_supertypes(Int)"
   ]
  },
  {
   "cell_type": "markdown",
   "id": "d267a471-b803-47a6-8327-2e4a182e7ab7",
   "metadata": {},
   "source": [
    "As you can see, the type hierarchy is quite deep. This allows your functions to have\n",
    "fine-grained control of the types of arguments they accept"
   ]
  },
  {
   "cell_type": "markdown",
   "id": "7cf9748d-fa92-41a4-b023-6b8a242bd142",
   "metadata": {},
   "source": [
    "It is a good practice to explicitly specify the value a function has to return  "
   ]
  },
  {
   "cell_type": "markdown",
   "id": "897f2b28-de0e-4799-8406-17c7de831af2",
   "metadata": {},
   "source": [
    "If a function returns nothing, the Julia REPL\n",
    "does not print any return value to the terminal. Therefore, in this exam-\n",
    "ple, the only things that get printed are the types outputted by the\n",
    "println(T) operation"
   ]
  },
  {
   "cell_type": "markdown",
   "id": "da2b9d25-deee-4b33-bbdd-0fed9f6f65a7",
   "metadata": {},
   "source": [
    "### Finding all subtypes of a type"
   ]
  },
  {
   "cell_type": "code",
   "execution_count": 13,
   "id": "8c28dc4f-d674-4435-b293-575f7df9549b",
   "metadata": {},
   "outputs": [
    {
     "data": {
      "text/plain": [
       "print_subtypes (generic function with 2 methods)"
      ]
     },
     "execution_count": 13,
     "metadata": {},
     "output_type": "execute_result"
    }
   ],
   "source": [
    "function print_subtypes(T, indent_level=0)\n",
    "    println(\" \" ^ indent_level, T)\n",
    "    for s in subtypes(T)\n",
    "        print_subtypes(s, indent_level+4)\n",
    "    end\n",
    "    return nothing \n",
    "end\n",
    "\n",
    "    "
   ]
  },
  {
   "cell_type": "code",
   "execution_count": 14,
   "id": "10b0bdbe-e513-4e61-b21f-9a217e042906",
   "metadata": {},
   "outputs": [
    {
     "name": "stdout",
     "output_type": "stream",
     "text": [
      "Integer\n",
      "    Bool\n",
      "    Signed\n",
      "        BigInt\n",
      "        Int128\n",
      "        Int16\n",
      "        Int32\n",
      "        Int64\n",
      "        Int8\n",
      "    Unsigned\n",
      "        UInt128\n",
      "        UInt16\n",
      "        UInt32\n",
      "        UInt64\n",
      "        UInt8\n"
     ]
    }
   ],
   "source": [
    "print_subtypes(Integer)"
   ]
  },
  {
   "cell_type": "markdown",
   "id": "65a2ed85-c249-439e-83cb-f6ecd4ce2185",
   "metadata": {},
   "source": [
    "### Union of types"
   ]
  },
  {
   "cell_type": "markdown",
   "id": "745b8631-b8a9-4b1f-acd6-ecfd3bce5fa2",
   "metadata": {},
   "source": [
    "Referring to collections of types by using abstract types is useful. However, sometimes\n",
    "you might want to specify a list of types that do not have the respective node (abstract\n",
    "type) in the type tree. For instance, what if you want to allow only signed or unsigned\n",
    "integers in your code but not Bool values? You could use the Union keyword."
   ]
  },
  {
   "cell_type": "markdown",
   "id": "0980535c-52e2-4fbe-a505-d62cccffe1fd",
   "metadata": {},
   "source": [
    "In our\n",
    "scenario, if you write Union{Signed, Unsigned}, you tell Julia that you allow any of\n",
    "the types specified inside the curly brackets after the Union keyword."
   ]
  },
  {
   "cell_type": "markdown",
   "id": "3c182b8f-84dc-4bf3-8a53-862277b41242",
   "metadata": {},
   "source": [
    "In data science workflows, the Union keyword is often used when we specify a\n",
    "union between a certain type and the Missing type. For instance, if you write\n",
    "Union{String, Missing}, you indicate that a value must be a String but can\n",
    "optionally be missing. Chapter 7 covers handling missing values in more detail."
   ]
  },
  {
   "cell_type": "markdown",
   "id": "6a8ecf26-f7f4-40eb-aff7-005d137a421d",
   "metadata": {},
   "source": [
    "### Deciding what type restrictions to put in method signature"
   ]
  },
  {
   "cell_type": "code",
   "execution_count": 20,
   "id": "1e485719-d7a9-4fcb-8711-e8a94c207a7d",
   "metadata": {},
   "outputs": [
    {
     "name": "stdout",
     "output_type": "stream",
     "text": [
      "Vector{Float64}\n",
      "DenseVector{Float64}\n",
      "AbstractVector{Float64}\n",
      "Any\n"
     ]
    }
   ],
   "source": [
    "print_supertypes(typeof([1., 2., 3]))"
   ]
  },
  {
   "cell_type": "code",
   "execution_count": 24,
   "id": "bea791aa-f724-409a-99ac-099a1f2d5dd5",
   "metadata": {},
   "outputs": [
    {
     "name": "stdout",
     "output_type": "stream",
     "text": [
      "UnitRange{Int64}\n",
      "AbstractUnitRange{Int64}\n",
      "OrdinalRange{Int64, Int64}\n",
      "AbstractRange{Int64}\n",
      "AbstractVector{Int64}\n",
      "Any\n"
     ]
    }
   ],
   "source": [
    "print_supertypes(typeof(1:3))"
   ]
  },
  {
   "cell_type": "code",
   "execution_count": 25,
   "id": "8853c186-05e1-4d12-b403-fdc7dad5bcb3",
   "metadata": {},
   "outputs": [
    {
     "data": {
      "text/plain": [
       "AbstractVector\u001b[90m (alias for \u001b[39m\u001b[90mAbstractArray{T, 1} where T\u001b[39m\u001b[90m)\u001b[39m"
      ]
     },
     "execution_count": 25,
     "metadata": {},
     "output_type": "execute_result"
    }
   ],
   "source": [
    "AbstractVector"
   ]
  },
  {
   "cell_type": "markdown",
   "id": "be5549a8-6737-4fa2-8a83-e264f666303a",
   "metadata": {},
   "source": [
    "The typejoin function finds the narrowest type that is a supertype of types passed as\n",
    "its arguments. You will not need this function often, but it is useful to confirm our\n",
    "intuition in this case."
   ]
  },
  {
   "cell_type": "code",
   "execution_count": 26,
   "id": "fde84d47-bc41-4205-8333-f1fb846f7630",
   "metadata": {},
   "outputs": [
    {
     "data": {
      "text/plain": [
       "Vector\u001b[90m (alias for \u001b[39m\u001b[90mArray{T, 1} where T\u001b[39m\u001b[90m)\u001b[39m"
      ]
     },
     "execution_count": 26,
     "metadata": {},
     "output_type": "execute_result"
    }
   ],
   "source": [
    "typejoin(typeof([1, 2]), typeof([1., 2.]))"
   ]
  },
  {
   "cell_type": "code",
   "execution_count": null,
   "id": "11663ba0-95f8-430d-b668-dcbb658638e4",
   "metadata": {},
   "outputs": [],
   "source": []
  }
 ],
 "metadata": {
  "kernelspec": {
   "display_name": "Julia 1.8.5",
   "language": "julia",
   "name": "julia-1.8"
  },
  "language_info": {
   "file_extension": ".jl",
   "mimetype": "application/julia",
   "name": "julia",
   "version": "1.8.5"
  }
 },
 "nbformat": 4,
 "nbformat_minor": 5
}
