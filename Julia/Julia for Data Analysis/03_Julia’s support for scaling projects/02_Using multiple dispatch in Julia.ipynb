{
 "cells": [
  {
   "cell_type": "markdown",
   "id": "204d9a53-9ad1-45ce-abb6-e446038823aa",
   "metadata": {},
   "source": [
    "## Using multiple dispatch in Julia"
   ]
  },
  {
   "cell_type": "markdown",
   "id": "ad2f1d1c-6a24-4d06-af5f-894e87f9ab4b",
   "metadata": {},
   "source": [
    "Fortunately, defining methods is relatively easy if you understand the principles of\n",
    "how Julia’s type system works. You just add the type restriction to the arguments of the\n",
    "function after ::"
   ]
  },
  {
   "cell_type": "markdown",
   "id": "2537fb84-ed03-4a11-a908-c0ec7a68cd14",
   "metadata": {},
   "source": [
    "If the type specification part is omitted,\n",
    "Julia assumes that a value of Any type is allowed."
   ]
  },
  {
   "cell_type": "code",
   "execution_count": 1,
   "id": "70d21c75-31b3-442c-82d8-037e4ee6377c",
   "metadata": {},
   "outputs": [
    {
     "data": {
      "text/plain": [
       "k (generic function with 1 method)"
      ]
     },
     "execution_count": 1,
     "metadata": {},
     "output_type": "execute_result"
    }
   ],
   "source": [
    "function k(a::Integer, b::String; c::Number, d::Any)\n",
    "    return 5\n",
    "end\n"
   ]
  },
  {
   "cell_type": "code",
   "execution_count": 2,
   "id": "06baf401-bf66-412f-ac8b-519170a3a426",
   "metadata": {},
   "outputs": [
    {
     "data": {
      "text/plain": [
       "5"
      ]
     },
     "execution_count": 2,
     "metadata": {},
     "output_type": "execute_result"
    }
   ],
   "source": [
    "k(1, \"ws\", c=3, d=4)"
   ]
  },
  {
   "cell_type": "code",
   "execution_count": 3,
   "id": "9324670c-1592-46ed-9d5a-6dea4022e7a2",
   "metadata": {},
   "outputs": [
    {
     "data": {
      "text/plain": [
       "String"
      ]
     },
     "execution_count": 3,
     "metadata": {},
     "output_type": "execute_result"
    }
   ],
   "source": [
    "typeof(\"javid\")"
   ]
  },
  {
   "cell_type": "code",
   "execution_count": 4,
   "id": "c954708d-b4cb-4eae-aae8-0766728c99b4",
   "metadata": {},
   "outputs": [
    {
     "data": {
      "text/plain": [
       "Int64"
      ]
     },
     "execution_count": 4,
     "metadata": {},
     "output_type": "execute_result"
    }
   ],
   "source": [
    "typeof(1)"
   ]
  },
  {
   "cell_type": "code",
   "execution_count": 5,
   "id": "2d13f2c8-a284-4dfd-bc01-29a62ed11541",
   "metadata": {},
   "outputs": [
    {
     "data": {
      "text/html": [
       "# 1 method for generic function <b>k</b>:<ul><li> k(a::<b>Integer</b>, b::<b>String</b>; <i>c, d</i>) in Main at In[1]:1</li> </ul>"
      ],
      "text/plain": [
       "# 1 method for generic function \"k\":\n",
       "[1] k(a::Integer, b::String; c, d) in Main at In[1]:1"
      ]
     },
     "execution_count": 5,
     "metadata": {},
     "output_type": "execute_result"
    }
   ],
   "source": [
    "methods(k)"
   ]
  },
  {
   "cell_type": "markdown",
   "id": "758436ab-6b79-4a20-958f-b5eec5ab07c4",
   "metadata": {},
   "source": [
    "## Method ambiguity problem"
   ]
  },
  {
   "cell_type": "markdown",
   "id": "cb74544e-5907-46ab-8639-e9c97e03eef3",
   "metadata": {},
   "source": [
    "When defining multiple methods for a function, you must avoid method ambiguities.\n",
    "They happen when the Julia compiler is not able to decide which method for a given\n",
    "set of arguments should be selected."
   ]
  },
  {
   "cell_type": "code",
   "execution_count": 6,
   "id": "f84db11d-d035-4815-a730-8d9fd0e4f717",
   "metadata": {},
   "outputs": [
    {
     "data": {
      "text/plain": [
       "bar (generic function with 3 methods)"
      ]
     },
     "execution_count": 6,
     "metadata": {},
     "output_type": "execute_result"
    }
   ],
   "source": [
    "bar(a, b) = println(\"None are numbers\")\n",
    "bar(a::Number, b) = println(\"First one is a number\")\n",
    "bar(a, b::Number) = println(\"Second one is a number\")"
   ]
  },
  {
   "cell_type": "code",
   "execution_count": 7,
   "id": "a5ce21e7-ea8c-4706-8a0d-93685d2aa9d8",
   "metadata": {},
   "outputs": [
    {
     "name": "stdout",
     "output_type": "stream",
     "text": [
      "None are numbers\n"
     ]
    }
   ],
   "source": [
    "bar(\"s\", \"dd\")"
   ]
  },
  {
   "cell_type": "code",
   "execution_count": 8,
   "id": "47c32fda-57ff-41bf-9b00-d7fcc28d23a6",
   "metadata": {},
   "outputs": [
    {
     "name": "stdout",
     "output_type": "stream",
     "text": [
      "First one is a number\n"
     ]
    }
   ],
   "source": [
    "bar(1, \"\")"
   ]
  },
  {
   "cell_type": "code",
   "execution_count": 9,
   "id": "f8c3495e-85ea-47a3-bfca-6acb7309ef13",
   "metadata": {},
   "outputs": [
    {
     "name": "stdout",
     "output_type": "stream",
     "text": [
      "Second one is a number\n"
     ]
    }
   ],
   "source": [
    "bar(\"\", 1)"
   ]
  },
  {
   "cell_type": "code",
   "execution_count": 10,
   "id": "a58deaac-a57f-40d1-9535-dd7c423346d0",
   "metadata": {},
   "outputs": [
    {
     "ename": "LoadError",
     "evalue": "MethodError: bar(::Int64, ::Int64) is ambiguous. Candidates:\n  bar(a::Number, b) in Main at In[6]:2\n  bar(a, b::Number) in Main at In[6]:3\nPossible fix, define\n  bar(::Number, ::Number)",
     "output_type": "error",
     "traceback": [
      "MethodError: bar(::Int64, ::Int64) is ambiguous. Candidates:\n  bar(a::Number, b) in Main at In[6]:2\n  bar(a, b::Number) in Main at In[6]:3\nPossible fix, define\n  bar(::Number, ::Number)",
      "",
      "Stacktrace:",
      " [1] top-level scope",
      "   @ In[10]:1"
     ]
    }
   ],
   "source": [
    "bar(1, 2)"
   ]
  },
  {
   "cell_type": "markdown",
   "id": "9e8cc0f9-374d-452f-a670-c8e0546bab71",
   "metadata": {},
   "source": [
    "## Improved implementation of winsorized mean"
   ]
  },
  {
   "cell_type": "code",
   "execution_count": 11,
   "id": "48882cca-fe75-4998-8a00-c05cc1a5b5b9",
   "metadata": {},
   "outputs": [
    {
     "data": {
      "text/plain": [
       "(Vector{Int64}, DenseVector{Int64}, AbstractVector{Int64}, Any)"
      ]
     },
     "execution_count": 11,
     "metadata": {},
     "output_type": "execute_result"
    }
   ],
   "source": [
    "supertypes(typeof([1, 2]))"
   ]
  },
  {
   "cell_type": "code",
   "execution_count": 12,
   "id": "8ee2c9b8-e266-43cf-a093-78a17f7f08c7",
   "metadata": {},
   "outputs": [
    {
     "data": {
      "text/plain": [
       "(Int64, Signed, Integer, Real, Number, Any)"
      ]
     },
     "execution_count": 12,
     "metadata": {},
     "output_type": "execute_result"
    }
   ],
   "source": [
    "supertypes(typeof(1))"
   ]
  },
  {
   "cell_type": "code",
   "execution_count": 13,
   "id": "06efde79-9aa4-478e-a9e3-75c0c964b557",
   "metadata": {},
   "outputs": [
    {
     "data": {
      "text/plain": [
       "winsorized_mean (generic function with 1 method)"
      ]
     },
     "execution_count": 13,
     "metadata": {},
     "output_type": "execute_result"
    }
   ],
   "source": [
    "function winsorized_mean(x::AbstractVector, k::Integer)\n",
    "    sorted_x = sort(x)\n",
    "    sorted_x[1 : k] = sorted_x[k+1 : 2*k]\n",
    "    sorted_x[ end - k + 1 : end ] = sorted_x[ (end - 2 * k + 1) : end - k ]\n",
    "    # print(sorted_x)\n",
    "    return sum(sorted_x)/length(sorted_x)\n",
    "end\n"
   ]
  },
  {
   "cell_type": "code",
   "execution_count": 14,
   "id": "54764ea9-aa58-41a4-9863-62385c35e5e1",
   "metadata": {},
   "outputs": [
    {
     "data": {
      "text/plain": [
       "5.0"
      ]
     },
     "execution_count": 14,
     "metadata": {},
     "output_type": "execute_result"
    }
   ],
   "source": [
    "winsorized_mean([8, 3, 1, 5, 7], 1)"
   ]
  },
  {
   "cell_type": "code",
   "execution_count": 20,
   "id": "24baf9b4-2c78-49be-8475-7d90b5c281ee",
   "metadata": {},
   "outputs": [
    {
     "data": {
      "text/plain": [
       "5.5"
      ]
     },
     "execution_count": 20,
     "metadata": {},
     "output_type": "execute_result"
    }
   ],
   "source": [
    "winsorized_mean(collect(1:10), 2)"
   ]
  },
  {
   "cell_type": "code",
   "execution_count": null,
   "id": "34d4ecca-c2a7-47ff-a86a-a25b360405a6",
   "metadata": {},
   "outputs": [],
   "source": []
  }
 ],
 "metadata": {
  "kernelspec": {
   "display_name": "Julia 1.8.5",
   "language": "julia",
   "name": "julia-1.8"
  },
  "language_info": {
   "file_extension": ".jl",
   "mimetype": "application/julia",
   "name": "julia",
   "version": "1.8.5"
  }
 },
 "nbformat": 4,
 "nbformat_minor": 5
}
