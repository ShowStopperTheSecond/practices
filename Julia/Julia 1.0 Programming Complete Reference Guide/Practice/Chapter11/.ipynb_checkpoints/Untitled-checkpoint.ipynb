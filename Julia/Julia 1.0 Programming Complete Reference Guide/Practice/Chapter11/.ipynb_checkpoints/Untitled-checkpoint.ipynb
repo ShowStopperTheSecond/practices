{
 "cells": [
  {
   "cell_type": "markdown",
   "id": "1316fec0-92e8-42bf-a64a-8d71999973b3",
   "metadata": {},
   "source": [
    "# Creating Our First Julia App"
   ]
  },
  {
   "cell_type": "markdown",
   "id": "c8e825fa-34e0-4d1a-875f-e7993cf69434",
   "metadata": {},
   "source": [
    "We will learn to perform exploratory data analysis with Julia. In the process, we'll take a\n",
    "look at RDatasets, a package that provides access to over 700 learning datasets. We'll load\n",
    "one of them, the Iris flowers dataset, and we'll manipulate it using standard data analysis\n",
    "functions. Then we'll look more closely at the data by employing common visualization\n",
    "techniques. And finally, we'll see how to persist and (re)load our data."
   ]
  },
  {
   "cell_type": "markdown",
   "id": "1a6b27fa-d900-48ab-b4a1-ef583935806d",
   "metadata": {},
   "source": [
    "But, in order to do that, first we need to revisit and take a look at some of the language's\n",
    "most important building blocks."
   ]
  },
  {
   "cell_type": "markdown",
   "id": "31880a4a-8fa5-45a5-acb7-68d8fa1ffdb6",
   "metadata": {},
   "source": [
    "We will cover the following topics in this chapter:"
   ]
  },
  {
   "cell_type": "markdown",
   "id": "2aeb0b2f-b14e-4c43-a2d8-5ce4db44887e",
   "metadata": {},
   "source": [
    "- Declaring variables (and constants)\n",
    "- Working with Strings of characters and regular expressions\n",
    "- Numbers and numeric types\n",
    "- Our first Julia data structures—Tuple, Range, and Array\n",
    "- Exploratory data analysis using the Iris flower dataset—RDatasets and core\n",
    "- Statistics\n",
    "- Quick data visualization with Gadfly\n",
    "- Saving and loading tabular data with CSV and Feather\n",
    "- Interacting with MongoDB databases"
   ]
  },
  {
   "cell_type": "markdown",
   "id": "8a83cce0-e9ab-4bce-88d4-b1963fe10d8f",
   "metadata": {},
   "source": [
    "# Technical requirements"
   ]
  },
  {
   "cell_type": "markdown",
   "id": "df56680b-4cca-4e9f-a798-254405bf2300",
   "metadata": {},
   "source": [
    "In order to install a specific version of a package you need to run:"
   ]
  },
  {
   "cell_type": "code",
   "execution_count": 2,
   "id": "5bbba594-c8b7-40bc-8f8f-be092ceebd7b",
   "metadata": {},
   "outputs": [],
   "source": [
    "# pkg> add PackageName@vX.Y.Z"
   ]
  },
  {
   "cell_type": "markdown",
   "id": "627636ab-320e-4259-a082-5eb7e41cb19a",
   "metadata": {},
   "source": [
    "# Defining variables"
   ]
  },
  {
   "cell_type": "markdown",
   "id": "9ab3db1d-26fc-4fab-8b1d-64c0e66de978",
   "metadata": {},
   "source": [
    "We have seen in the previous chapter how to use the REPL in order to execute\n",
    "computations and have the result displayed back to us. Julia even lends a helping hand by\n",
    "setting up the ans variable, which automatically holds the last computed value."
   ]
  },
  {
   "cell_type": "markdown",
   "id": "23bc6628-96cd-425e-86d8-d575ff274ccc",
   "metadata": {},
   "source": [
    "But, if we want to write anything but the most trivial programs, we need to learn how to\n",
    "define variables ourselves. In Julia, a variable is simply a name associated to a value. There\n",
    "are very few restrictions for naming variables, and the names themselves have no semantic\n",
    "meaning (the language will not treat variables differently based on their names, unlike say\n",
    "Ruby, where a name that is all caps is treated as a constant)."
   ]
  },
  {
   "cell_type": "markdown",
   "id": "bd047676-37c7-493b-b77c-ed2f5f6a87c4",
   "metadata": {},
   "source": [
    "The variables, names are case-sensitive, meaning that ANSWER and answer (and Answer\n",
    "and aNsWeR) are completely different things"
   ]
  },
  {
   "cell_type": "markdown",
   "id": "e017666c-25af-40a4-a0af-77e5dc848f53",
   "metadata": {},
   "source": [
    "Emojis also work, if your terminal supports them:"
   ]
  },
  {
   "cell_type": "markdown",
   "id": "1bcb91a8-66b9-4d0e-a28d-be5f42e89e6e",
   "metadata": {},
   "source": [
    "The only explicitly disallowed names for variables are the names of built-in Julia statements\n",
    "(do, end, try, catch, if, and else, plus a few more):"
   ]
  },
  {
   "cell_type": "code",
   "execution_count": 4,
   "id": "7d076635-4c19-4cd2-90f3-5212ecde021f",
   "metadata": {},
   "outputs": [
    {
     "ename": "LoadError",
     "evalue": "syntax: invalid \"do\" syntax",
     "output_type": "error",
     "traceback": [
      "syntax: invalid \"do\" syntax",
      "",
      "Stacktrace:",
      " [1] top-level scope",
      "   @ In[4]:1",
      " [2] eval",
      "   @ ./boot.jl:373 [inlined]",
      " [3] include_string(mapexpr::typeof(REPL.softscope), mod::Module, code::String, filename::String)",
      "   @ Base ./loading.jl:1196"
     ]
    }
   ],
   "source": [
    "do = 3"
   ]
  },
  {
   "cell_type": "markdown",
   "id": "ab7ea28e-b3ed-4e68-8b55-0cf8130b2429",
   "metadata": {},
   "source": [
    "Attempting to access a variable that hasn't been defined will result in an error:"
   ]
  },
  {
   "cell_type": "markdown",
   "id": "d4ef8af2-f5fd-41f0-b790-64b8560fb6d1",
   "metadata": {},
   "source": [
    "It's true that the language does not impose many restrictions, but a set of code style\n",
    "conventions is always useful—and even more so for an open source language. The Julia\n",
    "community has distilled a set of best practices for writing code. In regard to naming\n",
    "variables, the names should be lowercase and in just one word; word separation can be\n",
    "done with underscores (_), but only if the name would be difficult to read without them.\n",
    "For example, myvar versus total_length_horizontal."
   ]
  },
  {
   "cell_type": "markdown",
   "id": "89933922-7846-4763-a4cc-3e0a6ce5fc40",
   "metadata": {},
   "source": [
    "# Constants"
   ]
  },
  {
   "cell_type": "markdown",
   "id": "2976b01f-5d40-44a2-b9f9-c135bd220549",
   "metadata": {},
   "source": [
    "Constants are variables that, once declared, can't be changed. They are declared by\n",
    "prefixing them with the const keyword:"
   ]
  },
  {
   "cell_type": "code",
   "execution_count": 6,
   "id": "e6058cc8-934a-4346-9499-c4e71d6bd226",
   "metadata": {},
   "outputs": [
    {
     "data": {
      "text/plain": [
       "3.2"
      ]
     },
     "execution_count": 6,
     "metadata": {},
     "output_type": "execute_result"
    }
   ],
   "source": [
    "const a = 3.2"
   ]
  },
  {
   "cell_type": "markdown",
   "id": "be9de3c2-ebaf-4ebf-9434-5b3dcd2e86a7",
   "metadata": {},
   "source": [
    "Very importantly in Julia, constants are not concerned with their value, but rather with\n",
    "their type. It is a bit too early to discuss types in Julia, so for now it suffices to say that a type\n",
    "represents what kind of a value we're dealing with. For instance, \"abc\" (within double\n",
    "quotes) is of type String, 'a' (within single quotes) is of type Char , and 1000 is of type\n",
    "Int (because it's an integer). Thus, in Julia, unlike most other languages, we can change the\n",
    "value assigned to a constant as long as the type remains the same. For instance, we can at\n",
    "first decide that eggs and milk are acceptable meal choices and go vegetarian:"
   ]
  },
  {
   "cell_type": "code",
   "execution_count": 7,
   "id": "a5799c1a-3214-417d-b268-920713a7c35f",
   "metadata": {},
   "outputs": [
    {
     "name": "stderr",
     "output_type": "stream",
     "text": [
      "WARNING: redefinition of constant a. This may fail, cause incorrect answers, or produce other errors.\n"
     ]
    },
    {
     "data": {
      "text/plain": [
       "3.9"
      ]
     },
     "execution_count": 7,
     "metadata": {},
     "output_type": "execute_result"
    }
   ],
   "source": [
    "a = 3.9"
   ]
  },
  {
   "cell_type": "code",
   "execution_count": 8,
   "id": "f07808ff-8d38-46db-8ef4-95c72e7c4ba1",
   "metadata": {},
   "outputs": [
    {
     "ename": "LoadError",
     "evalue": "invalid redefinition of constant a",
     "output_type": "error",
     "traceback": [
      "invalid redefinition of constant a",
      "",
      "Stacktrace:",
      " [1] top-level scope",
      "   @ In[8]:1",
      " [2] eval",
      "   @ ./boot.jl:373 [inlined]",
      " [3] include_string(mapexpr::typeof(REPL.softscope), mod::Module, code::String, filename::String)",
      "   @ Base ./loading.jl:1196"
     ]
    }
   ],
   "source": [
    "a = 1"
   ]
  },
  {
   "cell_type": "markdown",
   "id": "fd2d525b-ead5-4211-836a-8fa83f1f459d",
   "metadata": {},
   "source": [
    "# Why are constants important?"
   ]
  },
  {
   "cell_type": "markdown",
   "id": "2ce0e63e-9009-466f-b635-a9165829fda9",
   "metadata": {},
   "source": [
    "It's mostly about performance. Constants can be especially useful as global values. Because\n",
    "global variables are long-lived and can be modified at any time and from any location in\n",
    "your code, the compiler is having a hard time optimizing them. If we tell the compiler that\n",
    "the value is constant and thus that the type of the value won't change, the performance\n",
    "problem can be optimized away."
   ]
  },
  {
   "cell_type": "markdown",
   "id": "c3e0897f-a540-4704-a4a9-f412225dcea5",
   "metadata": {},
   "source": [
    "Global values in Julia, like in other languages,\n",
    "must be avoided whenever possible. Besides performance issues, they can\n",
    "create subtle bugs that are hard to catch and understand. Also, keep in\n",
    "mind that, since Julia allows changing the value of a constant, accidental\n",
    "modification becomes possible."
   ]
  },
  {
   "cell_type": "markdown",
   "id": "d1864ddb-8368-462e-994a-a080cea49c1c",
   "metadata": {},
   "source": [
    "# Comments"
   ]
  },
  {
   "cell_type": "markdown",
   "id": "f12ec8ae-a168-497b-882c-017e63e9677b",
   "metadata": {},
   "source": [
    "Common programming wisdom says the following: </br>\n",
    "\"Code is read much more often than it is written, so plan accordingly.\""
   ]
  },
  {
   "cell_type": "markdown",
   "id": "b9dc25d9-4317-4e6c-9acd-87f0f27e1f96",
   "metadata": {},
   "source": [
    "Code comments are a powerful tool that make the programs easier to understand later on.\n",
    "In Julia, comments are marked with the # sign. Single-line comments are denoted by a # and everything that follows this, until the end of the line, is ignored by the compiler.\n",
    "Multiline comments are enclosed between #= ... =#. Everything within the opening and\n",
    "the closing comment tags is also ignored by the compiler. Here is an example:"
   ]
  },
  {
   "cell_type": "markdown",
   "id": "48ff9ca6-1b84-4ee0-a38c-ae549ce8fe4d",
   "metadata": {},
   "source": [
    "# Strings"
   ]
  },
  {
   "cell_type": "markdown",
   "id": "af84a9b1-8cf0-4016-9dce-83fe750b80c4",
   "metadata": {},
   "source": [
    "A string represents a sequence of characters. We can create a string by enclosing the\n",
    "corresponding sequence of characters between double quotes"
   ]
  },
  {
   "cell_type": "code",
   "execution_count": 9,
   "id": "1f440f28-d7e9-4178-b4c7-57751ae7ac24",
   "metadata": {},
   "outputs": [
    {
     "data": {
      "text/plain": [
       "\"WTF\""
      ]
     },
     "execution_count": 9,
     "metadata": {},
     "output_type": "execute_result"
    }
   ],
   "source": [
    "str = \"WTF\""
   ]
  },
  {
   "cell_type": "markdown",
   "id": "70a3f88f-6335-480d-9471-3d9eacbbbabe",
   "metadata": {},
   "source": [
    "If the string also includes quotes, we can escape these by prefixing them with a backslash \\:"
   ]
  },
  {
   "cell_type": "code",
   "execution_count": 10,
   "id": "f20bd25e-37ce-46e7-8dfd-716601f86577",
   "metadata": {},
   "outputs": [
    {
     "data": {
      "text/plain": [
       "\"W\\\"T\""
      ]
     },
     "execution_count": 10,
     "metadata": {},
     "output_type": "execute_result"
    }
   ],
   "source": [
    "str = \"W\\\"T\""
   ]
  },
  {
   "cell_type": "markdown",
   "id": "5d9bf2fd-e7a3-458a-8169-6a055bf15834",
   "metadata": {},
   "source": [
    "# Triple-quoted strings"
   ]
  },
  {
   "cell_type": "markdown",
   "id": "7ef18e9b-ff95-497b-8abe-ace831e2f6e4",
   "metadata": {},
   "source": [
    "However, escaping can get messy, so there's a much better way of dealing with this—by\n",
    "using triple quotes \"\"\"...\"\"\"."
   ]
  },
  {
   "cell_type": "markdown",
   "id": "342f5191-1c1d-4d08-8e2a-2a68be5ece10",
   "metadata": {},
   "source": [
    "Within triple quotes, it is no longer necessary to escape the single quotes. However, make\n",
    "sure that the single quotes and the triple quotes are separated—or else the compiler will get\n",
    "confused:"
   ]
  },
  {
   "cell_type": "code",
   "execution_count": 11,
   "id": "59aaf296-3077-4787-b780-c8978137b58f",
   "metadata": {},
   "outputs": [
    {
     "data": {
      "text/plain": [
       "\"My name is j\\\"n \""
      ]
     },
     "execution_count": 11,
     "metadata": {},
     "output_type": "execute_result"
    }
   ],
   "source": [
    "\"\"\"My name is j\"n \"\"\""
   ]
  },
  {
   "cell_type": "markdown",
   "id": "ea16fc32-e395-4a01-86db-47c844e38dbb",
   "metadata": {},
   "source": [
    "The triple quotes come with some extra special powers when used with multiline text. First,\n",
    "if the opening \"\"\" is followed by a newline, this newline is stripped from the string. Also,\n",
    "whitespace is preserved but the string is dedented to the level of the least-indented line:"
   ]
  },
  {
   "cell_type": "code",
   "execution_count": 16,
   "id": "e8b16947-9957-4ba3-8492-b312fa4b3dfe",
   "metadata": {},
   "outputs": [
    {
     "data": {
      "text/plain": [
       "\"        Hello\\n   Look\\nHere      \""
      ]
     },
     "execution_count": 16,
     "metadata": {},
     "output_type": "execute_result"
    }
   ],
   "source": [
    "\"\"\"\n",
    "         Hello\n",
    "    Look\n",
    " Here      \"\"\""
   ]
  },
  {
   "cell_type": "code",
   "execution_count": 17,
   "id": "94dda843-3608-4a33-b5a3-a5d41ee03e4d",
   "metadata": {},
   "outputs": [
    {
     "name": "stdout",
     "output_type": "stream",
     "text": [
      "        Hello\n",
      "   Look\n",
      "Here      "
     ]
    }
   ],
   "source": [
    "print(ans)"
   ]
  },
  {
   "cell_type": "markdown",
   "id": "e0b75471-9d44-4224-9930-e2ff53a0e22c",
   "metadata": {},
   "source": [
    ":| It didn't work :("
   ]
  },
  {
   "cell_type": "markdown",
   "id": "b38c025d-99b3-45a7-98b3-7243ffde7ea4",
   "metadata": {},
   "source": [
    "# Concatenating strings"
   ]
  },
  {
   "cell_type": "markdown",
   "id": "cc07e22a-88f3-4387-9a74-614a417b4ac3",
   "metadata": {},
   "source": [
    "Two or more strings can be joined together (concatenated) to form a single string by using\n",
    "the star * operator:"
   ]
  },
  {
   "cell_type": "code",
   "execution_count": 4,
   "id": "112f5324-34ec-490a-905b-296ba67c119a",
   "metadata": {},
   "outputs": [
    {
     "data": {
      "text/plain": [
       "\"WTF Jarvis\\n What do you want from me :\\facepalm\""
      ]
     },
     "execution_count": 4,
     "metadata": {},
     "output_type": "execute_result"
    }
   ],
   "source": [
    "\"WTF\" * \" Jarvis\" * \"\\n What do you want from me :\\facepalm\""
   ]
  },
  {
   "cell_type": "markdown",
   "id": "8681f066-1b76-4b6a-bf1b-a5ca73d0aa3a",
   "metadata": {},
   "source": [
    "Alternatively, we can invoke the string function, passing in all the words we want to\n",
    "concatenate:"
   ]
  },
  {
   "cell_type": "code",
   "execution_count": 6,
   "id": "369390cd-fafa-4f0e-9c7a-c4d4aa1e47bd",
   "metadata": {},
   "outputs": [
    {
     "data": {
      "text/plain": [
       "\"What Do you want?\""
      ]
     },
     "execution_count": 6,
     "metadata": {},
     "output_type": "execute_result"
    }
   ],
   "source": [
    "string(\"What \", \"Do \", \"you want?\")"
   ]
  },
  {
   "cell_type": "code",
   "execution_count": 7,
   "id": "02a6a012-5daf-4f68-a56a-24d6f6ceb11a",
   "metadata": {},
   "outputs": [
    {
     "data": {
      "text/plain": [
       "\"norouzi\""
      ]
     },
     "execution_count": 7,
     "metadata": {},
     "output_type": "execute_result"
    }
   ],
   "source": [
    "first_name = \"javid\"\n",
    "last_name = \"norouzi\""
   ]
  },
  {
   "cell_type": "code",
   "execution_count": 8,
   "id": "0353c06c-f571-4c26-b035-a0eeadddee4e",
   "metadata": {},
   "outputs": [
    {
     "name": "stdout",
     "output_type": "stream",
     "text": [
      "javid norouzi"
     ]
    }
   ],
   "source": [
    "print(first_name * \" \" * last_name)"
   ]
  },
  {
   "cell_type": "markdown",
   "id": "01b2b9e3-61c1-40c0-a967-80285722dce4",
   "metadata": {},
   "source": [
    "However, again, we need to be careful when dealing with types (types are central to Julia,\n",
    "so this will be a recurring topic). Concatenation only works for strings:"
   ]
  },
  {
   "cell_type": "code",
   "execution_count": 9,
   "id": "0baf2c07-2a7d-4be7-b662-1943b565d076",
   "metadata": {},
   "outputs": [
    {
     "data": {
      "text/plain": [
       "82973874"
      ]
     },
     "execution_count": 9,
     "metadata": {},
     "output_type": "execute_result"
    }
   ],
   "source": [
    "id = 82973874\n"
   ]
  },
  {
   "cell_type": "code",
   "execution_count": 10,
   "id": "cd7d3bfe-eac8-4ea1-8091-0209a9753694",
   "metadata": {},
   "outputs": [
    {
     "ename": "LoadError",
     "evalue": "MethodError: no method matching *(::String, ::Int64)\n\u001b[0mClosest candidates are:\n\u001b[0m  *(::Any, ::Any, \u001b[91m::Any\u001b[39m, \u001b[91m::Any...\u001b[39m) at /opt/julia-1.7.1/share/julia/base/operators.jl:655\n\u001b[0m  *(\u001b[91m::T\u001b[39m, ::T) where T<:Union{Int128, Int16, Int32, Int64, Int8, UInt128, UInt16, UInt32, UInt64, UInt8} at /opt/julia-1.7.1/share/julia/base/int.jl:88\n\u001b[0m  *(::Union{AbstractChar, AbstractString}, \u001b[91m::Union{AbstractChar, AbstractString}...\u001b[39m) at /opt/julia-1.7.1/share/julia/base/strings/basic.jl:260\n\u001b[0m  ...",
     "output_type": "error",
     "traceback": [
      "MethodError: no method matching *(::String, ::Int64)\n\u001b[0mClosest candidates are:\n\u001b[0m  *(::Any, ::Any, \u001b[91m::Any\u001b[39m, \u001b[91m::Any...\u001b[39m) at /opt/julia-1.7.1/share/julia/base/operators.jl:655\n\u001b[0m  *(\u001b[91m::T\u001b[39m, ::T) where T<:Union{Int128, Int16, Int32, Int64, Int8, UInt128, UInt16, UInt32, UInt64, UInt8} at /opt/julia-1.7.1/share/julia/base/int.jl:88\n\u001b[0m  *(::Union{AbstractChar, AbstractString}, \u001b[91m::Union{AbstractChar, AbstractString}...\u001b[39m) at /opt/julia-1.7.1/share/julia/base/strings/basic.jl:260\n\u001b[0m  ...",
      "",
      "Stacktrace:",
      " [1] *(::String, ::String, ::Int64)",
      "   @ Base ./operators.jl:655",
      " [2] top-level scope",
      "   @ In[10]:1",
      " [3] eval",
      "   @ ./boot.jl:373 [inlined]",
      " [4] include_string(mapexpr::typeof(REPL.softscope), mod::Module, code::String, filename::String)",
      "   @ Base ./loading.jl:1196"
     ]
    }
   ],
   "source": [
    "print(first_name * \" \" * id)"
   ]
  },
  {
   "cell_type": "markdown",
   "id": "be406f2d-725a-4c90-b8f9-18eb4b30e940",
   "metadata": {},
   "source": [
    "Performing the concatenation by invoking the string function does work even if not all\n",
    "the arguments are strings:"
   ]
  },
  {
   "cell_type": "code",
   "execution_count": 12,
   "id": "bcc42274-3132-43ae-bd8d-6f64540ef371",
   "metadata": {},
   "outputs": [
    {
     "data": {
      "text/plain": [
       "\"javid norouzi 82973874\""
      ]
     },
     "execution_count": 12,
     "metadata": {},
     "output_type": "execute_result"
    }
   ],
   "source": [
    "string(first_name, \" \", last_name, \" \", id)"
   ]
  },
  {
   "cell_type": "markdown",
   "id": "8c6319b3-5c52-4a35-9527-f5618ac894bc",
   "metadata": {},
   "source": [
    "Thus, string has the added advantage that it automatically converts its parameters to\n",
    "strings. The following example works too:"
   ]
  },
  {
   "cell_type": "code",
   "execution_count": 13,
   "id": "589f4703-6b03-4652-8f0d-c733e0c2716f",
   "metadata": {},
   "outputs": [
    {
     "data": {
      "text/plain": [
       "\"2 And 3\""
      ]
     },
     "execution_count": 13,
     "metadata": {},
     "output_type": "execute_result"
    }
   ],
   "source": [
    "string(2, \" And \", 3)"
   ]
  },
  {
   "cell_type": "markdown",
   "id": "ca8f4a26-f6ff-4c3d-a3c7-5cc4936f41e9",
   "metadata": {},
   "source": [
    "# Interpolating strings"
   ]
  },
  {
   "cell_type": "markdown",
   "id": "874f0ed9-b543-422b-b390-ae4de1f29bdc",
   "metadata": {},
   "source": [
    "When creating longer, more complex strings, concatenation can be noisy and error-prone.\n",
    "For such cases, we're better off using the $ symbol to perform variable interpolation into\n",
    "strings:"
   ]
  },
  {
   "cell_type": "code",
   "execution_count": 14,
   "id": "69eb0f49-253d-481a-b2bf-0d8dff1b7d7c",
   "metadata": {},
   "outputs": [
    {
     "data": {
      "text/plain": [
       "\"javid norouzi 82973874\""
      ]
     },
     "execution_count": 14,
     "metadata": {},
     "output_type": "execute_result"
    }
   ],
   "source": [
    "\"$first_name $last_name $id\""
   ]
  },
  {
   "cell_type": "markdown",
   "id": "7bcea994-5998-4e2f-ac25-1fa2bd169cf3",
   "metadata": {},
   "source": [
    "More complex expressions can be interpolated by wrapping them into $(...):"
   ]
  },
  {
   "cell_type": "code",
   "execution_count": 16,
   "id": "c61f0d88-2b32-4215-af27-3883a05db061",
   "metadata": {},
   "outputs": [
    {
     "data": {
      "text/plain": [
       "\"JAVID , norouzi\""
      ]
     },
     "execution_count": 16,
     "metadata": {},
     "output_type": "execute_result"
    }
   ],
   "source": [
    "\"$(uppercase(first_name)) , $(lowercase(last_name))\""
   ]
  },
  {
   "cell_type": "markdown",
   "id": "1bb1498c-b7eb-43a3-a13b-5872d4c8ac48",
   "metadata": {},
   "source": [
    "Just like the string function, interpolation takes care of converting the values to strings:"
   ]
  },
  {
   "cell_type": "markdown",
   "id": "b70e28c3-5d62-4411-9502-e3c2032610be",
   "metadata": {},
   "source": [
    "# Manipulating strings"
   ]
  },
  {
   "cell_type": "markdown",
   "id": "b8c24112-fe0b-41d5-aa98-ceef27caf1b8",
   "metadata": {},
   "source": [
    "Strings can be treated as a list of characters, so we can index into them—that is, access the\n",
    "character at a certain position in the word:"
   ]
  },
  {
   "cell_type": "code",
   "execution_count": 17,
   "id": "c0647945-62ce-462e-97fb-c1be5ea3f1a3",
   "metadata": {},
   "outputs": [
    {
     "data": {
      "text/plain": [
       "\"Strings can be treated as a list of characters, so we can index into them—that is, access the\\ncharacter at a certain position in the word:\""
      ]
     },
     "execution_count": 17,
     "metadata": {},
     "output_type": "execute_result"
    }
   ],
   "source": [
    "str = \"Strings can be treated as a list of characters, so we can index into them—that is, access the\n",
    "character at a certain position in the word:\""
   ]
  },
  {
   "cell_type": "code",
   "execution_count": 18,
   "id": "549d51a8-f31b-4451-bb6d-cd40c1e98077",
   "metadata": {},
   "outputs": [
    {
     "data": {
      "text/plain": [
       "'a': ASCII/Unicode U+0061 (category Ll: Letter, lowercase)"
      ]
     },
     "execution_count": 18,
     "metadata": {},
     "output_type": "execute_result"
    }
   ],
   "source": [
    "str[10]"
   ]
  },
  {
   "cell_type": "markdown",
   "id": "53605dd3-6449-4c48-99cd-c6b9735b68d0",
   "metadata": {},
   "source": [
    "Julia has support for arrays with arbitrary indices, allowing, for example,\n",
    "to start numbering at 0. However, arbitrary indexing is a more advanced\n",
    "feature that we won't cover here. If you are curious, you can check the\n",
    "official documentation at https:/​/​docs.​julialang.​org/​en/​v1/​devdocs/\n",
    "offset-​arrays/​."
   ]
  },
  {
   "cell_type": "code",
   "execution_count": 19,
   "id": "85fabb46-1fee-4ac8-acca-cd2bd7b86537",
   "metadata": {},
   "outputs": [
    {
     "data": {
      "text/plain": [
       "\"an be treat\""
      ]
     },
     "execution_count": 19,
     "metadata": {},
     "output_type": "execute_result"
    }
   ],
   "source": [
    "str[10:20]"
   ]
  },
  {
   "cell_type": "markdown",
   "id": "801bd926-355a-47be-9685-3da8e95c5117",
   "metadata": {},
   "source": [
    "It is important to notice that indexing via a singular value returns a Char , while indexing\n",
    "via a range returns a String (remember, for Julia these are two completely different\n",
    "things):"
   ]
  },
  {
   "cell_type": "code",
   "execution_count": 20,
   "id": "9d259a96-eaa8-40be-8249-507be82dbfa2",
   "metadata": {},
   "outputs": [
    {
     "data": {
      "text/plain": [
       "'a': ASCII/Unicode U+0061 (category Ll: Letter, lowercase)"
      ]
     },
     "execution_count": 20,
     "metadata": {},
     "output_type": "execute_result"
    }
   ],
   "source": [
    "str[10]"
   ]
  },
  {
   "cell_type": "code",
   "execution_count": 21,
   "id": "2f4260c7-40e8-4e36-923d-34098cbe4ef3",
   "metadata": {},
   "outputs": [
    {
     "data": {
      "text/plain": [
       "Char"
      ]
     },
     "execution_count": 21,
     "metadata": {},
     "output_type": "execute_result"
    }
   ],
   "source": [
    "typeof(ans)"
   ]
  },
  {
   "cell_type": "code",
   "execution_count": 22,
   "id": "4ccd83fd-b6e5-43b1-aa68-47915ef93994",
   "metadata": {},
   "outputs": [
    {
     "data": {
      "text/plain": [
       "\"a\""
      ]
     },
     "execution_count": 22,
     "metadata": {},
     "output_type": "execute_result"
    }
   ],
   "source": [
    "str[10:10]"
   ]
  },
  {
   "cell_type": "code",
   "execution_count": 23,
   "id": "4b28dde6-da1e-4284-9cc7-cc1cbca12f18",
   "metadata": {},
   "outputs": [
    {
     "data": {
      "text/plain": [
       "String"
      ]
     },
     "execution_count": 23,
     "metadata": {},
     "output_type": "execute_result"
    }
   ],
   "source": [
    "typeof(ans)"
   ]
  },
  {
   "cell_type": "markdown",
   "id": "65237fbf-5e18-4b4c-848f-b7333a85aeb8",
   "metadata": {},
   "source": [
    "# Unicode and UTF-8"
   ]
  },
  {
   "cell_type": "markdown",
   "id": "d067b35f-2ed8-4a54-aa8d-a824db54e093",
   "metadata": {},
   "source": [
    "In Julia, string literals are encoded using UTF-8. UTF-8 is a variable-width encoding,\n",
    "meaning that not all characters are represented using the same number of bytes. For\n",
    "example, ASCII characters are encoded using a single byte—but other characters can use up\n",
    "to four bytes. This means that not every byte index into a UTF-8 string is necessarily a valid\n",
    "index for a corresponding character. If you index into a string at such an invalid byte index,\n",
    "an error will be thrown. Here is what I mean:"
   ]
  },
  {
   "cell_type": "markdown",
   "id": "d608c6d3-ccb1-42c4-aae3-c9e53d0cc8af",
   "metadata": {},
   "source": [
    "str = \"Søren Kierkegaard was a Danish Philosopher\""
   ]
  },
  {
   "cell_type": "code",
   "execution_count": null,
   "id": "4761bd71-87c3-47e6-b64e-b8e76f55184f",
   "metadata": {},
   "outputs": [],
   "source": []
  }
 ],
 "metadata": {
  "kernelspec": {
   "display_name": "Julia 1.7.1",
   "language": "julia",
   "name": "julia-1.7"
  },
  "language_info": {
   "file_extension": ".jl",
   "mimetype": "application/julia",
   "name": "julia",
   "version": "1.7.1"
  }
 },
 "nbformat": 4,
 "nbformat_minor": 5
}
