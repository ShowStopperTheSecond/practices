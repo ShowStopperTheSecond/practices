{
 "cells": [
  {
   "cell_type": "markdown",
   "id": "e686e229-73fc-49d1-8405-199735fa75b5",
   "metadata": {},
   "source": [
    "# Collection Types"
   ]
  },
  {
   "cell_type": "markdown",
   "id": "fc8bdf73-b493-40d9-80b1-1ef1ebc10963",
   "metadata": {},
   "source": [
    "In this chapter, we will look more deeply\n",
    "into multidimensional arrays (or matrices), and into the tuple type as well. A dictionary\n",
    "type, where you can look up a value through a key, is indispensable in a modern language,\n",
    "and Julia has this too. Finally, we will explore the set type. Like arrays, all these types are\n",
    "parameterized; the type of their elements can be specified at the time of object construction."
   ]
  },
  {
   "cell_type": "markdown",
   "id": "639c042a-a839-4581-89f7-4a31616fb899",
   "metadata": {},
   "source": [
    "So, the following are the topics for this chapter:\n",
    "- Matrices\n",
    "- Tuples\n",
    "- Dictionaries\n",
    "- Sets\n",
    "- An example project—word frequency"
   ]
  },
  {
   "cell_type": "markdown",
   "id": "2975ec54-62fe-4011-a911-120479d5f735",
   "metadata": {},
   "source": [
    "## Matrices"
   ]
  },
  {
   "cell_type": "markdown",
   "id": "539a9c8d-167a-4758-b4f1-dfab9b3723cf",
   "metadata": {},
   "source": [
    "We know that the notation [1, 2, 3] is used to create an array. In fact, this notation\n",
    "denotes a special type of array, called a (column) vector in Julia"
   ]
  },
  {
   "cell_type": "markdown",
   "id": "ad01c5ca-dad2-449b-982b-381750120bf2",
   "metadata": {},
   "source": [
    "To create this as a row vector (1 2 3), use the notation [1 2 3] with spaces instead of\n",
    "commas."
   ]
  },
  {
   "cell_type": "code",
   "execution_count": 2,
   "id": "a3e7af75-d83e-47be-a8ec-092dd3304e0d",
   "metadata": {},
   "outputs": [
    {
     "data": {
      "text/plain": [
       "1×3 Matrix{Int64}:\n",
       " 1  2  3"
      ]
     },
     "execution_count": 2,
     "metadata": {},
     "output_type": "execute_result"
    }
   ],
   "source": [
    "[1 2 3]"
   ]
  },
  {
   "cell_type": "code",
   "execution_count": 3,
   "id": "b041dde9-d9bc-4316-bed2-97a9b27fafd8",
   "metadata": {},
   "outputs": [
    {
     "data": {
      "text/plain": [
       "Matrix{Int64} (alias for Array{Int64, 2})"
      ]
     },
     "execution_count": 3,
     "metadata": {},
     "output_type": "execute_result"
    }
   ],
   "source": [
    "typeof(ans)"
   ]
  },
  {
   "cell_type": "markdown",
   "id": "579d027c-3fce-4efd-9e1c-933f5f589e92",
   "metadata": {},
   "source": [
    "This array is of type 1 x 3 Array{Int64,2}, so it has two dimensions. (The\n",
    "spaces used in [1, 2, 3] are for readability only, we could have written this as [1,2,3])."
   ]
  },
  {
   "cell_type": "markdown",
   "id": "bca4ceb8-0188-4bc9-95b9-2b387d918d60",
   "metadata": {},
   "source": [
    "A matrix is a two- or multidimensional array (in fact, a matrix is an alias for the two-\n",
    "dimensional case). We can write this as follows:"
   ]
  },
  {
   "cell_type": "code",
   "execution_count": 4,
   "id": "7962a743-d508-4dc9-b097-b658bbce66dc",
   "metadata": {},
   "outputs": [
    {
     "data": {
      "text/plain": [
       "true"
      ]
     },
     "execution_count": 4,
     "metadata": {},
     "output_type": "execute_result"
    }
   ],
   "source": [
    "Array{Int64,1} == Vector{Int64}"
   ]
  },
  {
   "cell_type": "code",
   "execution_count": 6,
   "id": "5a750af2-619a-401e-942f-bb12a8a37b15",
   "metadata": {},
   "outputs": [
    {
     "data": {
      "text/plain": [
       "true"
      ]
     },
     "execution_count": 6,
     "metadata": {},
     "output_type": "execute_result"
    }
   ],
   "source": [
    "Array{Int64,2} == Matrix{Int64}"
   ]
  },
  {
   "cell_type": "markdown",
   "id": "28e487f5-ead9-4ccf-883d-7f34711a8364",
   "metadata": {},
   "source": [
    "To create a matrix, use space-separated values for the columns and semicolon-separated for\n",
    "the rows:"
   ]
  },
  {
   "cell_type": "code",
   "execution_count": 7,
   "id": "f7bdcf80-bdd3-420c-8214-0e3d977f51e1",
   "metadata": {},
   "outputs": [
    {
     "data": {
      "text/plain": [
       "2×3 Matrix{Int64}:\n",
       " 1  2  3\n",
       " 4  5  6"
      ]
     },
     "execution_count": 7,
     "metadata": {},
     "output_type": "execute_result"
    }
   ],
   "source": [
    "matrix = [1 2 3; 4 5 6]"
   ]
  },
  {
   "cell_type": "markdown",
   "id": "b629b6fc-34ea-461b-b196-1c85bb778b33",
   "metadata": {},
   "source": [
    "So, the column vector from the beginning can also be written as [1; 2; 3]. However, you\n",
    "cannot use commas and semicolons together."
   ]
  },
  {
   "cell_type": "code",
   "execution_count": 8,
   "id": "fc80278c-b7b1-4202-8670-c5be4cbc68b3",
   "metadata": {},
   "outputs": [
    {
     "ename": "LoadError",
     "evalue": "syntax: unexpected semicolon in array expression around In[8]:1",
     "output_type": "error",
     "traceback": [
      "syntax: unexpected semicolon in array expression around In[8]:1",
      "",
      "Stacktrace:",
      " [1] top-level scope",
      "   @ In[8]:1",
      " [2] eval",
      "   @ ./boot.jl:373 [inlined]",
      " [3] include_string(mapexpr::typeof(REPL.softscope), mod::Module, code::String, filename::String)",
      "   @ Base ./loading.jl:1196"
     ]
    }
   ],
   "source": [
    "[2,3;2,3]"
   ]
  },
  {
   "cell_type": "code",
   "execution_count": 46,
   "id": "3256e7a8-883b-4e3b-9ec1-f2519f85a0ee",
   "metadata": {},
   "outputs": [
    {
     "data": {
      "text/plain": [
       "2-element Vector{Matrix{Int64}}:\n",
       " [1 2]\n",
       " [1 2]"
      ]
     },
     "execution_count": 46,
     "metadata": {},
     "output_type": "execute_result"
    }
   ],
   "source": [
    "[[1 2],[ 1 2]]"
   ]
  },
  {
   "cell_type": "markdown",
   "id": "4dff5839-e217-4e9c-a493-4bf9691e96a0",
   "metadata": {},
   "source": [
    "To get the value from a specific element in the matrix, you need to index it by row and then\n",
    "by column, for example, matrix[2, 1] returns the value 3 (second row, first column)."
   ]
  },
  {
   "cell_type": "code",
   "execution_count": 47,
   "id": "b12c7e67-1430-421c-b9fd-671564a424d7",
   "metadata": {},
   "outputs": [
    {
     "data": {
      "text/plain": [
       "(2,)"
      ]
     },
     "execution_count": 47,
     "metadata": {},
     "output_type": "execute_result"
    }
   ],
   "source": [
    "size(ans)"
   ]
  },
  {
   "cell_type": "code",
   "execution_count": 21,
   "id": "c37f3f25-78b7-4ff2-8060-75adc9ceec5c",
   "metadata": {},
   "outputs": [
    {
     "data": {
      "text/plain": [
       "2×2 Matrix{Int64}:\n",
       " 140529354331504  140529354331568\n",
       " 140529553906512  140529354333360"
      ]
     },
     "execution_count": 21,
     "metadata": {},
     "output_type": "execute_result"
    }
   ],
   "source": [
    "m1 = Array{Int64,2}(undef,(2,2))"
   ]
  },
  {
   "cell_type": "code",
   "execution_count": 22,
   "id": "13f8246b-d08b-424f-991e-ee15b4f79fc0",
   "metadata": {},
   "outputs": [
    {
     "data": {
      "text/plain": [
       "140529354331504"
      ]
     },
     "execution_count": 22,
     "metadata": {},
     "output_type": "execute_result"
    }
   ],
   "source": [
    "m1[1,1]"
   ]
  },
  {
   "cell_type": "code",
   "execution_count": 23,
   "id": "f1586c40-90ed-44e4-832f-1fe15748f0a7",
   "metadata": {},
   "outputs": [
    {
     "data": {
      "text/plain": [
       "140529354333360"
      ]
     },
     "execution_count": 23,
     "metadata": {},
     "output_type": "execute_result"
    }
   ],
   "source": [
    "m1[2,2]"
   ]
  },
  {
   "cell_type": "markdown",
   "id": "06683ddb-a6be-4b22-9e70-7f408edd919e",
   "metadata": {},
   "source": [
    "Using the same notation, one can calculate products of matrices such as [1 2] * [3 ;\n",
    "4]; this is calculated as [1 2] * [3 4], which returns the value 11 (which is equal to 1*3 + 2*4)."
   ]
  },
  {
   "cell_type": "code",
   "execution_count": 49,
   "id": "0796a2aa-cfb6-48e0-b906-c136132a67dd",
   "metadata": {},
   "outputs": [
    {
     "data": {
      "text/plain": [
       "1-element Vector{Int64}:\n",
       " 5"
      ]
     },
     "execution_count": 49,
     "metadata": {},
     "output_type": "execute_result"
    }
   ],
   "source": [
    "[1 2] * [1 ; 2]"
   ]
  },
  {
   "cell_type": "code",
   "execution_count": 52,
   "id": "89b03a25-d51e-4224-9c8d-a37047c3af0a",
   "metadata": {},
   "outputs": [
    {
     "data": {
      "text/plain": [
       "1-element Vector{Int64}:\n",
       " 5"
      ]
     },
     "execution_count": 52,
     "metadata": {},
     "output_type": "execute_result"
    }
   ],
   "source": [
    "[1 2] * [1 , 2]"
   ]
  },
  {
   "cell_type": "code",
   "execution_count": 53,
   "id": "c3132223-9b27-443b-85ee-29f2a5b4792b",
   "metadata": {},
   "outputs": [
    {
     "data": {
      "text/plain": [
       "2-element Vector{Int64}:\n",
       " 1\n",
       " 2"
      ]
     },
     "execution_count": 53,
     "metadata": {},
     "output_type": "execute_result"
    }
   ],
   "source": [
    "[1,2]"
   ]
  },
  {
   "cell_type": "code",
   "execution_count": 54,
   "id": "7886e005-0172-413c-aacd-9d4abd4bfb3f",
   "metadata": {},
   "outputs": [
    {
     "data": {
      "text/plain": [
       "(2,)"
      ]
     },
     "execution_count": 54,
     "metadata": {},
     "output_type": "execute_result"
    }
   ],
   "source": [
    "size(ans)"
   ]
  },
  {
   "cell_type": "code",
   "execution_count": 55,
   "id": "33a850e9-3c28-4750-a241-199f3eafc044",
   "metadata": {},
   "outputs": [
    {
     "data": {
      "text/plain": [
       "2-element Vector{Int64}:\n",
       " 1\n",
       " 2"
      ]
     },
     "execution_count": 55,
     "metadata": {},
     "output_type": "execute_result"
    }
   ],
   "source": [
    "[1; 2]"
   ]
  },
  {
   "cell_type": "code",
   "execution_count": 56,
   "id": "33ec578a-cb0f-44ff-8527-5787462a91e8",
   "metadata": {},
   "outputs": [
    {
     "data": {
      "text/plain": [
       "(2,)"
      ]
     },
     "execution_count": 56,
     "metadata": {},
     "output_type": "execute_result"
    }
   ],
   "source": [
    "size(ans)"
   ]
  },
  {
   "cell_type": "markdown",
   "id": "b4eb275c-b494-43ba-b15c-1403f9469d25",
   "metadata": {},
   "source": [
    "In contrast to this, conventional matrix multiplication is defined with the operator"
   ]
  },
  {
   "cell_type": "code",
   "execution_count": 60,
   "id": "3e612712-20b6-4cd6-87f9-7cb393d4ac61",
   "metadata": {},
   "outputs": [
    {
     "data": {
      "text/plain": [
       "2×3 Matrix{Int64}:\n",
       " 1  2  3\n",
       " 2  4  6"
      ]
     },
     "execution_count": 60,
     "metadata": {},
     "output_type": "execute_result"
    }
   ],
   "source": [
    "[1 2 3] .* [1, 2]"
   ]
  },
  {
   "cell_type": "code",
   "execution_count": 63,
   "id": "f393dc95-0b52-4dfd-8062-fc9aa8435ab3",
   "metadata": {},
   "outputs": [
    {
     "data": {
      "text/plain": [
       "3×2 Matrix{Int64}:\n",
       " 1  2\n",
       " 2  4\n",
       " 3  6"
      ]
     },
     "execution_count": 63,
     "metadata": {},
     "output_type": "execute_result"
    }
   ],
   "source": [
    "[1, 2, 3] * [1 2]"
   ]
  },
  {
   "cell_type": "markdown",
   "id": "8b289180-b9b1-473d-ac3a-31ecf2e362a7",
   "metadata": {},
   "source": [
    "To create a matrix from random numbers between 0 and 1, with three rows and\n",
    "five columns, use ma1 = rand(3, 5), which shows the following results:"
   ]
  },
  {
   "cell_type": "code",
   "execution_count": 64,
   "id": "8086b600-799c-44f0-bad8-950b7dad90ac",
   "metadata": {},
   "outputs": [
    {
     "data": {
      "text/plain": [
       "2×2 Matrix{Float64}:\n",
       " 0.574467  0.447271\n",
       " 0.369652  0.140397"
      ]
     },
     "execution_count": 64,
     "metadata": {},
     "output_type": "execute_result"
    }
   ],
   "source": [
    "m2 = rand(2,2)"
   ]
  },
  {
   "cell_type": "code",
   "execution_count": 68,
   "id": "5ec8ba5f-21e8-40c0-8459-ac74648d9ba7",
   "metadata": {},
   "outputs": [
    {
     "data": {
      "text/plain": [
       "2×2 Matrix{Int64}:\n",
       " 3  3\n",
       " 1  1"
      ]
     },
     "execution_count": 68,
     "metadata": {},
     "output_type": "execute_result"
    }
   ],
   "source": [
    "m2 = rand([1,2,3],2,2)"
   ]
  },
  {
   "cell_type": "markdown",
   "id": "5619ceba-f926-4b45-850d-5465cf4ef6a3",
   "metadata": {},
   "source": [
    "The ndims function can be used to obtain the number of dimensions of a matrix. Consider\n",
    "the following example:"
   ]
  },
  {
   "cell_type": "code",
   "execution_count": 69,
   "id": "5d97e789-e3b8-4696-ba4e-8d195c2293f0",
   "metadata": {},
   "outputs": [
    {
     "data": {
      "text/plain": [
       "2"
      ]
     },
     "execution_count": 69,
     "metadata": {},
     "output_type": "execute_result"
    }
   ],
   "source": [
    "ndims(m2)"
   ]
  },
  {
   "cell_type": "code",
   "execution_count": 70,
   "id": "cbf5d96e-0ee2-4b79-84e7-4474a7b73d73",
   "metadata": {},
   "outputs": [
    {
     "data": {
      "text/plain": [
       "(2, 2)"
      ]
     },
     "execution_count": 70,
     "metadata": {},
     "output_type": "execute_result"
    }
   ],
   "source": [
    "size(m2)"
   ]
  },
  {
   "cell_type": "markdown",
   "id": "d152005a-f26f-4c08-bb69-d77edca63db1",
   "metadata": {},
   "source": [
    "To get the number of rows (3), run the following command:"
   ]
  },
  {
   "cell_type": "code",
   "execution_count": 71,
   "id": "0598bfec-1cae-48b5-adb8-82d5a79ecae0",
   "metadata": {},
   "outputs": [
    {
     "data": {
      "text/plain": [
       "2"
      ]
     },
     "execution_count": 71,
     "metadata": {},
     "output_type": "execute_result"
    }
   ],
   "source": [
    "size(m2,1)"
   ]
  },
  {
   "cell_type": "code",
   "execution_count": 72,
   "id": "b8ce7c73-a6ac-46e1-9453-90c41b48cd6f",
   "metadata": {},
   "outputs": [
    {
     "data": {
      "text/plain": [
       "2"
      ]
     },
     "execution_count": 72,
     "metadata": {},
     "output_type": "execute_result"
    }
   ],
   "source": [
    "size(m2,2)"
   ]
  },
  {
   "cell_type": "code",
   "execution_count": 73,
   "id": "ad794356-62f6-4071-bf78-8435e17d6710",
   "metadata": {},
   "outputs": [
    {
     "data": {
      "text/plain": [
       "2"
      ]
     },
     "execution_count": 73,
     "metadata": {},
     "output_type": "execute_result"
    }
   ],
   "source": [
    "size(m2)[1]"
   ]
  },
  {
   "cell_type": "code",
   "execution_count": 74,
   "id": "7b947ae8-63ac-4c6d-be5d-41f0ec591d0c",
   "metadata": {},
   "outputs": [
    {
     "data": {
      "text/plain": [
       "4"
      ]
     },
     "execution_count": 74,
     "metadata": {},
     "output_type": "execute_result"
    }
   ],
   "source": [
    "length(m2)"
   ]
  },
  {
   "cell_type": "markdown",
   "id": "e2ff9a0b-8206-42d4-89e9-426a3c968c15",
   "metadata": {},
   "source": [
    "If you need an identity matrix, where all the elements are zero, except for the elements on\n",
    "the diagonal that are 1.0, use the I function (from the LinearAlgebra package) with the\n",
    "argument 3 for a 3 x 3 matrix:"
   ]
  },
  {
   "cell_type": "code",
   "execution_count": 77,
   "id": "34482cab-07a4-4594-b833-46502b951550",
   "metadata": {},
   "outputs": [],
   "source": [
    "using LinearAlgebra"
   ]
  },
  {
   "cell_type": "code",
   "execution_count": 79,
   "id": "ed321d51-d9cf-42d4-b68b-efd3ee0c9728",
   "metadata": {},
   "outputs": [
    {
     "data": {
      "text/plain": [
       "4×5 Matrix{Float64}:\n",
       " 1.0  0.0  0.0  0.0  0.0\n",
       " 0.0  1.0  0.0  0.0  0.0\n",
       " 0.0  0.0  1.0  0.0  0.0\n",
       " 0.0  0.0  0.0  1.0  0.0"
      ]
     },
     "execution_count": 79,
     "metadata": {},
     "output_type": "execute_result"
    }
   ],
   "source": [
    "idm = Matrix(1.0*I,4,5)"
   ]
  },
  {
   "cell_type": "markdown",
   "id": "741c93b1-60f9-4102-9bd5-4251379cf9a1",
   "metadata": {},
   "source": [
    "You can easily work with parts of a matrix, known as slices; these are similar to those used\n",
    "in Python and NumPy as follows:"
   ]
  },
  {
   "cell_type": "code",
   "execution_count": 80,
   "id": "fe63bb75-6234-4c3b-836e-0dc66332ca26",
   "metadata": {},
   "outputs": [
    {
     "data": {
      "text/plain": [
       "4-element Vector{Float64}:\n",
       " 0.0\n",
       " 1.0\n",
       " 0.0\n",
       " 0.0"
      ]
     },
     "execution_count": 80,
     "metadata": {},
     "output_type": "execute_result"
    }
   ],
   "source": [
    "idm[:,2]"
   ]
  },
  {
   "cell_type": "code",
   "execution_count": 81,
   "id": "3ed8c8dd-d914-4426-bce7-09cd7183608f",
   "metadata": {},
   "outputs": [
    {
     "data": {
      "text/plain": [
       "5-element Vector{Float64}:\n",
       " 0.0\n",
       " 1.0\n",
       " 0.0\n",
       " 0.0\n",
       " 0.0"
      ]
     },
     "execution_count": 81,
     "metadata": {},
     "output_type": "execute_result"
    }
   ],
   "source": [
    "idm[2,:]"
   ]
  },
  {
   "cell_type": "code",
   "execution_count": 83,
   "id": "f796f598-fd8b-4436-a04f-8dd387d805fb",
   "metadata": {},
   "outputs": [
    {
     "data": {
      "text/plain": [
       "3×4 Matrix{Float64}:\n",
       " 1.0  0.0  0.0  0.0\n",
       " 0.0  1.0  0.0  0.0\n",
       " 0.0  0.0  1.0  0.0"
      ]
     },
     "execution_count": 83,
     "metadata": {},
     "output_type": "execute_result"
    }
   ],
   "source": [
    "idm[2:end, 2:end]"
   ]
  },
  {
   "cell_type": "markdown",
   "id": "a7c73c33-fd84-4619-a370-3b2190251b55",
   "metadata": {},
   "source": [
    "Slicing operations create views into the original array rather than copying the data, so a\n",
    "change in the slice changes the original array or matrix."
   ]
  },
  {
   "cell_type": "markdown",
   "id": "2fd5fb73-1162-44c9-95a9-c0773fe19749",
   "metadata": {},
   "source": [
    "Any multidimensional matrix can also be seen as a one-dimensional vector in column\n",
    "order, as follows:"
   ]
  },
  {
   "cell_type": "code",
   "execution_count": 90,
   "id": "4f01d2a3-ce00-4cc9-aedb-ca0e5b2bf07d",
   "metadata": {},
   "outputs": [
    {
     "name": "stdout",
     "output_type": "stream",
     "text": [
      "[1.0, 0.0, 0.0, 0.0, 0.0, 1.0, 0.0, 0.0, 0.0, 0.0, 1.0, 0.0, 0.0, 0.0, 0.0, 1.0, 0.0, 0.0, 0.0, 0.0]"
     ]
    }
   ],
   "source": [
    "show(idm[:])"
   ]
  },
  {
   "cell_type": "markdown",
   "id": "bc878a42-0c2a-42d4-bfe1-d001a508fa41",
   "metadata": {},
   "source": [
    "To make an array of arrays (a jagged array), use an Array initialization, and then push!\n",
    "each array in its place, for example:"
   ]
  },
  {
   "cell_type": "code",
   "execution_count": 91,
   "id": "897f3a6e-b560-46e6-b23b-f56d0851ced2",
   "metadata": {},
   "outputs": [
    {
     "data": {
      "text/plain": [
       "Array{Int64}[]"
      ]
     },
     "execution_count": 91,
     "metadata": {},
     "output_type": "execute_result"
    }
   ],
   "source": [
    "jarr = Array{Int64}[]"
   ]
  },
  {
   "cell_type": "code",
   "execution_count": 93,
   "id": "79895064-1944-457b-bb43-3951f775d6f3",
   "metadata": {},
   "outputs": [
    {
     "data": {
      "text/plain": [
       "1-element Vector{Array{Int64}}:\n",
       " [1, 2, 3]"
      ]
     },
     "execution_count": 93,
     "metadata": {},
     "output_type": "execute_result"
    }
   ],
   "source": [
    "push!(jarr,[1, 2, 3])"
   ]
  },
  {
   "cell_type": "code",
   "execution_count": 94,
   "id": "1473da81-3797-4bef-bcb8-6779b520ce6e",
   "metadata": {},
   "outputs": [
    {
     "data": {
      "text/plain": [
       "2-element Vector{Array{Int64}}:\n",
       " [1, 2, 3]\n",
       " [1, 2, 3, 4]"
      ]
     },
     "execution_count": 94,
     "metadata": {},
     "output_type": "execute_result"
    }
   ],
   "source": [
    "push!(jarr,[1,2,3,4])"
   ]
  },
  {
   "cell_type": "code",
   "execution_count": 95,
   "id": "acff909e-c13d-4d59-9578-060e16afbd13",
   "metadata": {},
   "outputs": [
    {
     "data": {
      "text/plain": [
       "3-element Vector{Array{Int64}}:\n",
       " [1, 2, 3]\n",
       " [1, 2, 3, 4]\n",
       " [1, 2, 3, 4, 5, 6, 7, 8, 9, 10]"
      ]
     },
     "execution_count": 95,
     "metadata": {},
     "output_type": "execute_result"
    }
   ],
   "source": [
    "push!(jarr,collect(1:10))"
   ]
  },
  {
   "cell_type": "markdown",
   "id": "0f138d9c-f5e9-44f2-b96d-ad9b31eb6e9a",
   "metadata": {},
   "source": [
    "If ma is a matrix, say [1 2; 3 4], then ma' is the transpose matrix, that is [1 3; 2 4]:"
   ]
  },
  {
   "cell_type": "code",
   "execution_count": 99,
   "id": "c05707b1-f6e2-421c-8c62-a838d47df27a",
   "metadata": {},
   "outputs": [
    {
     "data": {
      "text/plain": [
       "2×3 Matrix{Int64}:\n",
       " 1  1  1\n",
       " 0  1  1"
      ]
     },
     "execution_count": 99,
     "metadata": {},
     "output_type": "execute_result"
    }
   ],
   "source": [
    "m1 = rand([0, 1], 2, 3)"
   ]
  },
  {
   "cell_type": "code",
   "execution_count": 100,
   "id": "80d1ec05-1405-4953-a969-bd800f89da82",
   "metadata": {},
   "outputs": [
    {
     "data": {
      "text/plain": [
       "3×2 adjoint(::Matrix{Int64}) with eltype Int64:\n",
       " 1  0\n",
       " 1  1\n",
       " 1  1"
      ]
     },
     "execution_count": 100,
     "metadata": {},
     "output_type": "execute_result"
    }
   ],
   "source": [
    "m1'"
   ]
  },
  {
   "cell_type": "markdown",
   "id": "c21b7ee9-d3c0-4c95-9c77-23ce1778fe1a",
   "metadata": {},
   "source": [
    "ma' is an operator notation for the transpose(ma) function."
   ]
  },
  {
   "cell_type": "markdown",
   "id": "2e554252-52bb-4f74-a307-a90b0340198f",
   "metadata": {},
   "source": [
    "Multiplication is defined between matrices, as in mathematics,"
   ]
  },
  {
   "cell_type": "code",
   "execution_count": 103,
   "id": "ae564a5c-e37f-4b60-809f-7e4be3250051",
   "metadata": {},
   "outputs": [
    {
     "data": {
      "text/plain": [
       "2×2 Matrix{Int64}:\n",
       " 3  2\n",
       " 2  2"
      ]
     },
     "execution_count": 103,
     "metadata": {},
     "output_type": "execute_result"
    }
   ],
   "source": [
    "m1 * m1'"
   ]
  },
  {
   "cell_type": "markdown",
   "id": "c309d9aa-92ce-44be-8d20-7c652bb1461e",
   "metadata": {},
   "source": [
    "If you need element-wise multiplication, use ma .* ma'"
   ]
  },
  {
   "cell_type": "code",
   "execution_count": 106,
   "id": "b39298e0-551c-4125-97ba-ce744a34b9f8",
   "metadata": {},
   "outputs": [
    {
     "data": {
      "text/plain": [
       "2×2 Matrix{Int64}:\n",
       " 5  3\n",
       " 4  3"
      ]
     },
     "execution_count": 106,
     "metadata": {},
     "output_type": "execute_result"
    }
   ],
   "source": [
    "m2 = rand([0,2,3,4,5],2,2)"
   ]
  },
  {
   "cell_type": "code",
   "execution_count": 107,
   "id": "0fcd2456-da14-4598-90e4-3a752289a562",
   "metadata": {},
   "outputs": [
    {
     "data": {
      "text/plain": [
       "2×2 Matrix{Int64}:\n",
       " 25  9\n",
       " 16  9"
      ]
     },
     "execution_count": 107,
     "metadata": {},
     "output_type": "execute_result"
    }
   ],
   "source": [
    "m2 .* m2"
   ]
  },
  {
   "cell_type": "markdown",
   "id": "c469d6cd-7d88-4a90-a5ad-6d769c4733b6",
   "metadata": {},
   "source": [
    "The inverse of a matrix ma (if it exists) is given by the inv(ma) function. The inv(ma)\n",
    "function returns 2 x 2 Array{Float64,2}:"
   ]
  },
  {
   "cell_type": "code",
   "execution_count": 108,
   "id": "636e69d6-f646-42dd-b3c6-c441a39d448a",
   "metadata": {},
   "outputs": [
    {
     "data": {
      "text/plain": [
       "2×2 Matrix{Float64}:\n",
       "  0.111111  -0.111111\n",
       " -0.197531   0.308642"
      ]
     },
     "execution_count": 108,
     "metadata": {},
     "output_type": "execute_result"
    }
   ],
   "source": [
    "inv(m2 .* m2)"
   ]
  },
  {
   "cell_type": "code",
   "execution_count": 109,
   "id": "6162a1c9-d477-4ed5-83da-790c72d439b5",
   "metadata": {},
   "outputs": [
    {
     "data": {
      "text/plain": [
       "2×2 Matrix{Float64}:\n",
       " 1.0  -8.88178e-16\n",
       " 0.0   1.0"
      ]
     },
     "execution_count": 109,
     "metadata": {},
     "output_type": "execute_result"
    }
   ],
   "source": [
    "m2 * inv(m2)"
   ]
  },
  {
   "cell_type": "markdown",
   "id": "0f696837-9f37-43b1-b3b5-170f33206641",
   "metadata": {},
   "source": [
    "Trying to take the inverse of a singular matrix (a matrix that does not have\n",
    "a well-defined inverse) will result in LAPACKException or\n",
    "SingularException, depending on the matrix type. Suppose you want\n",
    "to solve the ma1 * X = ma2 equation, where ma1, X, and ma2 are\n",
    "matrices. The obvious solution is X = inv(ma1) * ma2. However, this is\n",
    "actually not that good. It is better to use the built-in solver, where X =\n",
    "ma1 \\ ma2. If you have to solve the X * ma1 = ma2 equation, use the\n",
    "solution X = ma2 / ma1. Solutions that use / and \\ are much more\n",
    "numerically stable, and also much faster."
   ]
  },
  {
   "cell_type": "markdown",
   "id": "d00539cc-54fa-42a7-9747-c328a2496479",
   "metadata": {},
   "source": [
    "If v = [1.,2.,3.] and w = [2.,4.,6.], and you want to form a 3 x 2 matrix with these\n",
    "two column vectors, then use hcat(v, w) (for horizontal concatenation) to produce the\n",
    "following output:"
   ]
  },
  {
   "cell_type": "code",
   "execution_count": 112,
   "id": "9b0ee99c-c560-4623-b029-418871cadeb4",
   "metadata": {},
   "outputs": [
    {
     "data": {
      "text/plain": [
       "10×2 Matrix{Int64}:\n",
       "  1  11\n",
       "  2  12\n",
       "  3  13\n",
       "  4  14\n",
       "  5  15\n",
       "  6  16\n",
       "  7  17\n",
       "  8  18\n",
       "  9  19\n",
       " 10  20"
      ]
     },
     "execution_count": 112,
     "metadata": {},
     "output_type": "execute_result"
    }
   ],
   "source": [
    "v = collect(1:10)\n",
    "w = collect(11:20)\n",
    "hcat(v,w)"
   ]
  },
  {
   "cell_type": "code",
   "execution_count": 113,
   "id": "7fe0b36a-c2e2-4f57-b451-af2558fbe17c",
   "metadata": {},
   "outputs": [
    {
     "data": {
      "text/plain": [
       "20-element Vector{Int64}:\n",
       "  1\n",
       "  2\n",
       "  3\n",
       "  4\n",
       "  5\n",
       "  6\n",
       "  7\n",
       "  8\n",
       "  9\n",
       " 10\n",
       " 11\n",
       " 12\n",
       " 13\n",
       " 14\n",
       " 15\n",
       " 16\n",
       " 17\n",
       " 18\n",
       " 19\n",
       " 20"
      ]
     },
     "execution_count": 113,
     "metadata": {},
     "output_type": "execute_result"
    }
   ],
   "source": [
    "vcat(v, w)"
   ]
  },
  {
   "cell_type": "markdown",
   "id": "e6c4b99f-3e71-4241-bb7d-4f448c78474d",
   "metadata": {},
   "source": [
    "vcat(v,w) (for vertical concatenation) results in a one-dimensional array with all the six\n",
    "elements with the same result as append!(v, w)"
   ]
  },
  {
   "cell_type": "markdown",
   "id": "db6dee9a-0d5a-41b3-84ff-8403012c3623",
   "metadata": {},
   "source": [
    "Thus, hcat concatenates vectors or matrices along the second dimension (columns), while\n",
    "vcat concatenates along the first dimension (rows). The more general cat can be used to\n",
    "concatenate multidimensional arrays along arbitrary dimensions."
   ]
  },
  {
   "cell_type": "markdown",
   "id": "e20ed564-1887-4656-907b-70d2c244fb51",
   "metadata": {},
   "source": [
    "There is an even simpler literal notation: to concatenate two matrices a and b with the same\n",
    "number of rows to a matrix c, just execute c = [a b]. now b is appended to the right of a.\n",
    "To put b beneath c, use c = [a; b]."
   ]
  },
  {
   "cell_type": "code",
   "execution_count": 114,
   "id": "ed2999c9-5715-4b62-97ef-7546936166c4",
   "metadata": {},
   "outputs": [
    {
     "data": {
      "text/plain": [
       "2×2 Matrix{Int64}:\n",
       " 1  6\n",
       " 1  8"
      ]
     },
     "execution_count": 114,
     "metadata": {},
     "output_type": "execute_result"
    }
   ],
   "source": [
    "a = rand([1,2,3,4], 2, 2)\n",
    "b = rand([1,6,5,8], 2, 2)\n"
   ]
  },
  {
   "cell_type": "code",
   "execution_count": 115,
   "id": "7b1ae2fb-f440-419d-815b-ce043549b624",
   "metadata": {},
   "outputs": [
    {
     "data": {
      "text/plain": [
       "2×2 Matrix{Int64}:\n",
       " 1  2\n",
       " 3  3"
      ]
     },
     "execution_count": 115,
     "metadata": {},
     "output_type": "execute_result"
    }
   ],
   "source": [
    "a"
   ]
  },
  {
   "cell_type": "code",
   "execution_count": 116,
   "id": "66381443-7043-4f55-b571-55ed42419a71",
   "metadata": {},
   "outputs": [
    {
     "data": {
      "text/plain": [
       "2×2 Matrix{Int64}:\n",
       " 1  6\n",
       " 1  8"
      ]
     },
     "execution_count": 116,
     "metadata": {},
     "output_type": "execute_result"
    }
   ],
   "source": [
    "b"
   ]
  },
  {
   "cell_type": "code",
   "execution_count": 117,
   "id": "7e665694-94d3-49c5-8bc5-467f4852e2c5",
   "metadata": {},
   "outputs": [
    {
     "data": {
      "text/plain": [
       "2×4 Matrix{Int64}:\n",
       " 1  2  1  6\n",
       " 3  3  1  8"
      ]
     },
     "execution_count": 117,
     "metadata": {},
     "output_type": "execute_result"
    }
   ],
   "source": [
    "[a b]"
   ]
  },
  {
   "cell_type": "code",
   "execution_count": 119,
   "id": "34953382-abc7-4e2f-b050-8cb699a7093e",
   "metadata": {},
   "outputs": [
    {
     "data": {
      "text/plain": [
       "4×2 Matrix{Int64}:\n",
       " 1  2\n",
       " 3  3\n",
       " 1  6\n",
       " 1  8"
      ]
     },
     "execution_count": 119,
     "metadata": {},
     "output_type": "execute_result"
    }
   ],
   "source": [
    "[a; b]"
   ]
  },
  {
   "cell_type": "code",
   "execution_count": 120,
   "id": "1f203cd0-b5d7-4f75-9516-635547803595",
   "metadata": {},
   "outputs": [
    {
     "data": {
      "text/plain": [
       "2-element Vector{Matrix{Int64}}:\n",
       " [1 2; 3 3]\n",
       " [1 6; 1 8]"
      ]
     },
     "execution_count": 120,
     "metadata": {},
     "output_type": "execute_result"
    }
   ],
   "source": [
    "[a, b]"
   ]
  },
  {
   "cell_type": "markdown",
   "id": "df63d867-7384-48e2-8ea4-2d4066ae0591",
   "metadata": {},
   "source": [
    "The reshape function changes the dimensions of a matrix to new values if this is possible,\n",
    "for example:"
   ]
  },
  {
   "cell_type": "code",
   "execution_count": 121,
   "id": "18e4f27c-f4d4-435e-8107-94bdb572a5c9",
   "metadata": {},
   "outputs": [
    {
     "data": {
      "text/plain": [
       "4×5 reshape(::UnitRange{Int64}, 4, 5) with eltype Int64:\n",
       " 1  5   9  13  17\n",
       " 2  6  10  14  18\n",
       " 3  7  11  15  19\n",
       " 4  8  12  16  20"
      ]
     },
     "execution_count": 121,
     "metadata": {},
     "output_type": "execute_result"
    }
   ],
   "source": [
    "reshape(1:20,(4,5))"
   ]
  },
  {
   "cell_type": "code",
   "execution_count": 124,
   "id": "c533ced9-2746-40b1-b870-ae29d2d53020",
   "metadata": {},
   "outputs": [
    {
     "data": {
      "text/plain": [
       "4×3 Matrix{Int64}:\n",
       " 4  3  2\n",
       " 3  4  3\n",
       " 3  2  2\n",
       " 3  4  3"
      ]
     },
     "execution_count": 124,
     "metadata": {},
     "output_type": "execute_result"
    }
   ],
   "source": [
    "reshape(rand([2,3,4],(3,4)),(4,3))"
   ]
  },
  {
   "cell_type": "markdown",
   "id": "4ffd3c9f-945c-4376-b3a4-fbe8465aad5c",
   "metadata": {},
   "source": [
    "When working with arrays that contain arrays, it is important to realize that such an array\n",
    "contains references to the contained arrays, not their values."
   ]
  },
  {
   "cell_type": "markdown",
   "id": "5cce9c3e-77e8-459d-8d06-2c8249da9984",
   "metadata": {},
   "source": [
    "If you want to make a copy of\n",
    "an array, you can use the copy() function, but this produces only a shallow copy with\n",
    "references to the contained arrays. In order to make a complete copy of the values, we need\n",
    "to use the deepcopy() function."
   ]
  },
  {
   "cell_type": "code",
   "execution_count": 126,
   "id": "a3dfc1d9-16c6-4028-8798-dba4007d7a7e",
   "metadata": {},
   "outputs": [
    {
     "data": {
      "text/plain": [
       "2-element Vector{Any}:\n",
       " #undef\n",
       " #undef"
      ]
     },
     "execution_count": 126,
     "metadata": {},
     "output_type": "execute_result"
    }
   ],
   "source": [
    "x = Array{Any}(undef, 2)"
   ]
  },
  {
   "cell_type": "code",
   "execution_count": 127,
   "id": "6db0b396-f5bc-499b-8818-f69be6cde8eb",
   "metadata": {},
   "outputs": [
    {
     "data": {
      "text/plain": [
       "2×3 Matrix{Float64}:\n",
       " 1.0  1.0  1.0\n",
       " 1.0  1.0  1.0"
      ]
     },
     "execution_count": 127,
     "metadata": {},
     "output_type": "execute_result"
    }
   ],
   "source": [
    "x[1] = ones(2,3)"
   ]
  },
  {
   "cell_type": "code",
   "execution_count": 128,
   "id": "1adfa47a-1d8d-4177-80b0-4cf11d49f288",
   "metadata": {},
   "outputs": [
    {
     "data": {
      "text/plain": [
       "3×4 Matrix{Float64}:\n",
       " 0.0  0.0  0.0  0.0\n",
       " 0.0  0.0  0.0  0.0\n",
       " 0.0  0.0  0.0  0.0"
      ]
     },
     "execution_count": 128,
     "metadata": {},
     "output_type": "execute_result"
    }
   ],
   "source": [
    "x[2] = zeros(3,4)"
   ]
  },
  {
   "cell_type": "code",
   "execution_count": 129,
   "id": "67ea8b2b-dded-44b3-ac42-e95bc861bb7a",
   "metadata": {},
   "outputs": [
    {
     "data": {
      "text/plain": [
       "2-element Vector{Any}:\n",
       " [1.0 1.0 1.0; 1.0 1.0 1.0]\n",
       " [0.0 0.0 0.0 0.0; 0.0 0.0 0.0 0.0; 0.0 0.0 0.0 0.0]"
      ]
     },
     "execution_count": 129,
     "metadata": {},
     "output_type": "execute_result"
    }
   ],
   "source": [
    "y = copy(x)"
   ]
  },
  {
   "cell_type": "code",
   "execution_count": 130,
   "id": "6ebb3702-57b2-48e9-805c-ed7f1e311b4d",
   "metadata": {},
   "outputs": [
    {
     "data": {
      "text/plain": [
       "2-element Vector{Any}:\n",
       " [1.0 1.0 1.0; 1.0 1.0 1.0]\n",
       " [0.0 0.0 0.0 0.0; 0.0 0.0 0.0 0.0; 0.0 0.0 0.0 0.0]"
      ]
     },
     "execution_count": 130,
     "metadata": {},
     "output_type": "execute_result"
    }
   ],
   "source": [
    "y"
   ]
  },
  {
   "cell_type": "code",
   "execution_count": 131,
   "id": "3758b67e-1c64-4f5e-ac6c-45e09fcf7d9c",
   "metadata": {},
   "outputs": [
    {
     "data": {
      "text/plain": [
       "1000"
      ]
     },
     "execution_count": 131,
     "metadata": {},
     "output_type": "execute_result"
    }
   ],
   "source": [
    "y[1][1,1] = 1000 "
   ]
  },
  {
   "cell_type": "code",
   "execution_count": 132,
   "id": "d5d1b837-ec41-42bd-93ae-7e24218e5f2c",
   "metadata": {},
   "outputs": [
    {
     "data": {
      "text/plain": [
       "2-element Vector{Any}:\n",
       " [1000.0 1.0 1.0; 1.0 1.0 1.0]\n",
       " [0.0 0.0 0.0 0.0; 0.0 0.0 0.0 0.0; 0.0 0.0 0.0 0.0]"
      ]
     },
     "execution_count": 132,
     "metadata": {},
     "output_type": "execute_result"
    }
   ],
   "source": [
    "y"
   ]
  },
  {
   "cell_type": "code",
   "execution_count": 133,
   "id": "7e846ce8-2e2b-4050-88f0-858281139bdf",
   "metadata": {},
   "outputs": [
    {
     "data": {
      "text/plain": [
       "2-element Vector{Any}:\n",
       " [1000.0 1.0 1.0; 1.0 1.0 1.0]\n",
       " [0.0 0.0 0.0 0.0; 0.0 0.0 0.0 0.0; 0.0 0.0 0.0 0.0]"
      ]
     },
     "execution_count": 133,
     "metadata": {},
     "output_type": "execute_result"
    }
   ],
   "source": [
    "x"
   ]
  },
  {
   "cell_type": "markdown",
   "id": "660a9526-43c5-4eea-849d-2748e251ac1c",
   "metadata": {},
   "source": [
    "Therefore you have to use deepcopy"
   ]
  },
  {
   "cell_type": "code",
   "execution_count": 138,
   "id": "9c8c97ff-b7c8-4894-83ef-ac1608cdd51b",
   "metadata": {},
   "outputs": [
    {
     "data": {
      "text/plain": [
       "2-element Vector{Any}:\n",
       " [1.0, 1.0]\n",
       " Bool[1, 1, 1]"
      ]
     },
     "execution_count": 138,
     "metadata": {},
     "output_type": "execute_result"
    }
   ],
   "source": [
    "x = Array{Any}(undef, 2) #> 2-element Array{Any,1}: #undef #undef\n",
    "x[1] = ones(2) #> 2-element Array{Float64} 1.0 1.0\n",
    "x[2] = trues(3) #> 3-element BitArray{1}: true true true\n",
    "x #> 2-element Array{Any,1}: [1.0,1.0] Bool[true,true,true]"
   ]
  },
  {
   "cell_type": "code",
   "execution_count": 139,
   "id": "6d575ec5-0c63-4b5c-8515-a2878ee47a0b",
   "metadata": {},
   "outputs": [
    {
     "data": {
      "text/plain": [
       "2-element Vector{Any}:\n",
       " [1.0, 1.0]\n",
       " Bool[1, 1, 1]"
      ]
     },
     "execution_count": 139,
     "metadata": {},
     "output_type": "execute_result"
    }
   ],
   "source": [
    "a = x\n",
    "b = copy(x)\n",
    "c = deepcopy(x)"
   ]
  },
  {
   "cell_type": "code",
   "execution_count": 140,
   "id": "a3d1973b-245d-4f42-9279-0b590f31ff57",
   "metadata": {},
   "outputs": [
    {
     "data": {
      "text/plain": [
       "false"
      ]
     },
     "execution_count": 140,
     "metadata": {},
     "output_type": "execute_result"
    }
   ],
   "source": [
    "# Now if we change x:\n",
    "x[1] = \"Julia\"\n",
    "x[2][1] = false"
   ]
  },
  {
   "cell_type": "code",
   "execution_count": 141,
   "id": "285f615e-d577-43d6-8c5a-e7c66c7b3fea",
   "metadata": {},
   "outputs": [
    {
     "data": {
      "text/plain": [
       "2-element Vector{Any}:\n",
       " \"Julia\"\n",
       " Bool[0, 1, 1]"
      ]
     },
     "execution_count": 141,
     "metadata": {},
     "output_type": "execute_result"
    }
   ],
   "source": [
    "x"
   ]
  },
  {
   "cell_type": "code",
   "execution_count": 142,
   "id": "f8a09c81-b679-4818-a3cf-d0bd3b2dfcc7",
   "metadata": {},
   "outputs": [
    {
     "data": {
      "text/plain": [
       "2-element Vector{Any}:\n",
       " \"Julia\"\n",
       " Bool[0, 1, 1]"
      ]
     },
     "execution_count": 142,
     "metadata": {},
     "output_type": "execute_result"
    }
   ],
   "source": [
    "a"
   ]
  },
  {
   "cell_type": "code",
   "execution_count": 143,
   "id": "b362722c-ad91-4868-9199-bf2c788ca2da",
   "metadata": {},
   "outputs": [
    {
     "data": {
      "text/plain": [
       "true"
      ]
     },
     "execution_count": 143,
     "metadata": {},
     "output_type": "execute_result"
    }
   ],
   "source": [
    "isequal(a, x)"
   ]
  },
  {
   "cell_type": "code",
   "execution_count": 144,
   "id": "03edad62-58fc-4732-a05c-4cb8bfcd0611",
   "metadata": {},
   "outputs": [
    {
     "data": {
      "text/plain": [
       "2-element Vector{Any}:\n",
       " [1.0, 1.0]\n",
       " Bool[0, 1, 1]"
      ]
     },
     "execution_count": 144,
     "metadata": {},
     "output_type": "execute_result"
    }
   ],
   "source": [
    "b"
   ]
  },
  {
   "cell_type": "code",
   "execution_count": 145,
   "id": "efd1cd14-bd25-42d5-adae-a3f6cd2e977d",
   "metadata": {},
   "outputs": [
    {
     "data": {
      "text/plain": [
       "false"
      ]
     },
     "execution_count": 145,
     "metadata": {},
     "output_type": "execute_result"
    }
   ],
   "source": [
    "isequal(b, x)"
   ]
  },
  {
   "cell_type": "markdown",
   "id": "7599a890-1552-49d8-a56b-6a2cec7637a2",
   "metadata": {},
   "source": [
    "The reference has changed "
   ]
  },
  {
   "cell_type": "code",
   "execution_count": 148,
   "id": "37e5f600-a387-4d6c-b1c8-5bf19f5ec274",
   "metadata": {},
   "outputs": [
    {
     "data": {
      "text/plain": [
       "false"
      ]
     },
     "execution_count": 148,
     "metadata": {},
     "output_type": "execute_result"
    }
   ],
   "source": [
    "isequal(c, x)"
   ]
  },
  {
   "cell_type": "code",
   "execution_count": 149,
   "id": "1abf2898-0473-4e3d-b9bd-3a6362bd79f4",
   "metadata": {},
   "outputs": [
    {
     "data": {
      "text/plain": [
       "2-element Vector{Any}:\n",
       " [1.0, 1.0]\n",
       " Bool[1, 1, 1]"
      ]
     },
     "execution_count": 149,
     "metadata": {},
     "output_type": "execute_result"
    }
   ],
   "source": [
    "c"
   ]
  },
  {
   "cell_type": "markdown",
   "id": "2befa866-1342-4536-bd88-bf0dd8adb62c",
   "metadata": {},
   "source": [
    "Nothing has changed"
   ]
  },
  {
   "cell_type": "markdown",
   "id": "def23043-64bd-422f-85cd-8d40d69c37af",
   "metadata": {},
   "source": [
    "To further increase performance, consider using the statically-sized and immutable vectors\n",
    "and matrices from the ImmutableArrays package, which is a lot faster, certainly for small\n",
    "matrices, and particularly for vectors."
   ]
  },
  {
   "cell_type": "markdown",
   "id": "daba0544-60d8-4e4b-8eb0-128c9ffe82c4",
   "metadata": {},
   "source": [
    "## Tuples"
   ]
  },
  {
   "cell_type": "markdown",
   "id": "f54904ac-d175-4646-a5b4-eedb79392e4b",
   "metadata": {},
   "source": [
    "A tuple is a fixed-sized group of values, separated by commas and optionally surrounded\n",
    "by parentheses ( )"
   ]
  },
  {
   "cell_type": "markdown",
   "id": "72dd5010-0e16-42dd-8927-b4d031a3c593",
   "metadata": {},
   "source": [
    "The type of these values can be the same, but it doesn't have to be; a\n",
    "tuple can contain values of different types, unlike arrays. A tuple is a heterogeneous\n",
    "container, whereas an array is a homogeneous container. The type of a tuple is just a tuple\n",
    "of the types of the values it contains. So, in this sense, a tuple is very much the counterpart\n",
    "of an array in Julia. Also, changing a value in a tuple is not allowed; tuples are immutable."
   ]
  },
  {
   "cell_type": "code",
   "execution_count": 150,
   "id": "a4e2a269-c685-4bd6-a57a-c903e32ff4f3",
   "metadata": {},
   "outputs": [
    {
     "data": {
      "text/plain": [
       "(1, 22.0, \"World\", 'x')"
      ]
     },
     "execution_count": 150,
     "metadata": {},
     "output_type": "execute_result"
    }
   ],
   "source": [
    "x = 1, 22.0, \"World\", 'x'\n",
    "a, b, c, d = x"
   ]
  },
  {
   "cell_type": "code",
   "execution_count": 151,
   "id": "8302a47a-9bc8-4921-82bb-1b6b97d2a560",
   "metadata": {},
   "outputs": [
    {
     "data": {
      "text/plain": [
       "1"
      ]
     },
     "execution_count": 151,
     "metadata": {},
     "output_type": "execute_result"
    }
   ],
   "source": [
    "a"
   ]
  },
  {
   "cell_type": "code",
   "execution_count": 152,
   "id": "80f31478-8ba0-4dde-8060-1eb000804bb6",
   "metadata": {},
   "outputs": [
    {
     "data": {
      "text/plain": [
       "Tuple{Int64, Float64, String, Char}"
      ]
     },
     "execution_count": 152,
     "metadata": {},
     "output_type": "execute_result"
    }
   ],
   "source": [
    "typeof(x)"
   ]
  },
  {
   "cell_type": "markdown",
   "id": "46058f86-6b63-41f5-9e13-4c1cf0271e0c",
   "metadata": {},
   "source": [
    "The argument list of a function (refer to the Defining functions section in Chapter 3,\n",
    "Functions) is, in fact, also a tuple."
   ]
  },
  {
   "cell_type": "markdown",
   "id": "32ba8224-2f4e-4544-8205-20047c393b63",
   "metadata": {},
   "source": [
    "Similarly, Julia simulates the possibility of returning\n",
    "multiple values by packaging them into a single tuple, and a tuple also appears when using\n",
    "functions with variable argument lists."
   ]
  },
  {
   "cell_type": "markdown",
   "id": "6c7f49ca-f0ed-4090-acec-9e555041511c",
   "metadata": {},
   "source": [
    "( ) represents the empty tuple, and (1,) is a one-\n",
    "element tuple. The type of a tuple can be specified explicitly through a type annotation\n",
    "(refer to the Types section in Chapter 2, Variables, Types, and Operations), such as ('z',\n",
    "3.14)::Tuple{Char, Float64}."
   ]
  },
  {
   "cell_type": "code",
   "execution_count": 161,
   "id": "f965c374-03a1-4643-bf6f-0b4f792ea0d4",
   "metadata": {},
   "outputs": [
    {
     "data": {
      "text/plain": [
       "funt (generic function with 1 method)"
      ]
     },
     "execution_count": 161,
     "metadata": {},
     "output_type": "execute_result"
    }
   ],
   "source": [
    "function funt()\n",
    "    a::Tuple{String, Number} = (\"what the heck\", 23)\n",
    "    print(a)\n",
    "end\n"
   ]
  },
  {
   "cell_type": "code",
   "execution_count": 162,
   "id": "b0801be8-87fe-4647-9816-1e918a419c03",
   "metadata": {},
   "outputs": [
    {
     "name": "stdout",
     "output_type": "stream",
     "text": [
      "(\"what the heck\", 23)"
     ]
    }
   ],
   "source": [
    "funt()"
   ]
  },
  {
   "cell_type": "markdown",
   "id": "9b89326b-125a-4bd3-ac50-acb766de07cd",
   "metadata": {},
   "source": [
    "We can index tuples in the same way as arrays by using\n",
    "brackets, indexing starting from 1, slicing, and index control:"
   ]
  },
  {
   "cell_type": "markdown",
   "id": "56c2c5de-559d-48c1-a1d6-8d978479fce5",
   "metadata": {},
   "source": [
    "To iterate over the elements of a tuple, use a for loop"
   ]
  },
  {
   "cell_type": "code",
   "execution_count": 164,
   "id": "ab5a797f-f6e7-4f87-a119-eeda5699def9",
   "metadata": {},
   "outputs": [
    {
     "data": {
      "text/plain": [
       "(1, 2, 3, 4, 5, 6, 7, 8, 9, 10)"
      ]
     },
     "execution_count": 164,
     "metadata": {},
     "output_type": "execute_result"
    }
   ],
   "source": [
    "a = Tuple(1:10)"
   ]
  },
  {
   "cell_type": "code",
   "execution_count": 165,
   "id": "1fff1ac7-5d45-4fa4-b1d8-93efd526703f",
   "metadata": {},
   "outputs": [
    {
     "name": "stdout",
     "output_type": "stream",
     "text": [
      "12345678910"
     ]
    }
   ],
   "source": [
    "for i in a\n",
    "    print(i)\n",
    "end"
   ]
  },
  {
   "cell_type": "markdown",
   "id": "e2438f2d-e41b-42ac-83cd-6bb633d3171e",
   "metadata": {},
   "source": [
    "A tuple can be unpacked or deconstructed like this: a, b = t3; now a is 5 and b is 6. Notice\n",
    "that we don't get an error despite the left-hand side not being able to take all the values of\n",
    "t3. To do this, we would have to write a, b, c, d = t3."
   ]
  },
  {
   "cell_type": "code",
   "execution_count": 166,
   "id": "b6d2087a-d5c3-489c-b084-4285f88f2b54",
   "metadata": {},
   "outputs": [
    {
     "data": {
      "text/plain": [
       "(1, 2, 3, 4, 5, 6, 7, 8, 9, 10)"
      ]
     },
     "execution_count": 166,
     "metadata": {},
     "output_type": "execute_result"
    }
   ],
   "source": [
    "x, y = a"
   ]
  },
  {
   "cell_type": "code",
   "execution_count": 167,
   "id": "53d5c7bf-dd35-47d8-9d40-6fddb273f801",
   "metadata": {},
   "outputs": [
    {
     "data": {
      "text/plain": [
       "1"
      ]
     },
     "execution_count": 167,
     "metadata": {},
     "output_type": "execute_result"
    }
   ],
   "source": [
    "x"
   ]
  },
  {
   "cell_type": "code",
   "execution_count": 168,
   "id": "7a8c68f9-cf0c-4066-a10c-f778b66e6b6b",
   "metadata": {},
   "outputs": [
    {
     "data": {
      "text/plain": [
       "2"
      ]
     },
     "execution_count": 168,
     "metadata": {},
     "output_type": "execute_result"
    }
   ],
   "source": [
    "y"
   ]
  },
  {
   "cell_type": "code",
   "execution_count": 180,
   "id": "253aa07b-44ca-41f3-95ad-fc0d25eb64cb",
   "metadata": {},
   "outputs": [
    {
     "data": {
      "text/plain": [
       "(\"wTF\", 32)"
      ]
     },
     "execution_count": 180,
     "metadata": {},
     "output_type": "execute_result"
    }
   ],
   "source": [
    "bariable = Tuple{String,Number}((\"wTF\",32))"
   ]
  },
  {
   "cell_type": "code",
   "execution_count": 178,
   "id": "f7a2c188-d5db-463a-b19e-ee72aff981d8",
   "metadata": {},
   "outputs": [
    {
     "data": {
      "text/plain": [
       "(\"wTF\", 32)"
      ]
     },
     "execution_count": 178,
     "metadata": {},
     "output_type": "execute_result"
    }
   ],
   "source": [
    "bariable"
   ]
  },
  {
   "cell_type": "code",
   "execution_count": 181,
   "id": "5dcbfc31-f291-46d7-9d2d-9f6a37265803",
   "metadata": {},
   "outputs": [
    {
     "data": {
      "text/plain": [
       "2-element Vector{Tuple{String, Number}}:\n",
       " (\"wTF\", 32)\n",
       " (\"NOR\", 23)"
      ]
     },
     "execution_count": 181,
     "metadata": {},
     "output_type": "execute_result"
    }
   ],
   "source": [
    "variable = Tuple{String,Number}[(\"wTF\",32), (\"NOR\", 23)]"
   ]
  },
  {
   "cell_type": "code",
   "execution_count": 182,
   "id": "932c9108-e266-4a7e-a898-ab6e9dd88c6d",
   "metadata": {},
   "outputs": [
    {
     "data": {
      "text/plain": [
       "2-element Vector{Tuple{String, Number}}:\n",
       " (\"wTF\", 32)\n",
       " (\"NOR\", 23)"
      ]
     },
     "execution_count": 182,
     "metadata": {},
     "output_type": "execute_result"
    }
   ],
   "source": [
    "variable"
   ]
  },
  {
   "cell_type": "markdown",
   "id": "f39c530f-b7b9-473a-9fd0-9412c61a8316",
   "metadata": {},
   "source": [
    "## Dictionaries "
   ]
  },
  {
   "cell_type": "markdown",
   "id": "2365210c-f381-4c44-b452-5e7e6b6d9f7f",
   "metadata": {},
   "source": [
    "When you want to store and look up values based on a unique key, then the dictionary type\n",
    "Dict (also called hash, associative collection, or map in other languages) is what you need.\n",
    "It is basically a collection of two-element tuples of the form (key, value). To define a\n",
    "dictionary d1 as a literal value, the following syntax is used:"
   ]
  },
  {
   "cell_type": "code",
   "execution_count": 169,
   "id": "edf2b86d-9679-4ea9-96ea-affd4701108e",
   "metadata": {},
   "outputs": [
    {
     "data": {
      "text/plain": [
       "Dict{Any, String} with 2 entries:\n",
       "  :b => \"WTF\"\n",
       "  1  => \"what the heck\""
      ]
     },
     "execution_count": 169,
     "metadata": {},
     "output_type": "execute_result"
    }
   ],
   "source": [
    "d1 = Dict(1 => \"what the heck\", :b => \"WTF\")"
   ]
  },
  {
   "cell_type": "markdown",
   "id": "e0d9f568-534a-4a11-a257-afe3ce50ecab",
   "metadata": {},
   "source": [
    "the key appears before the => symbol\n",
    "and the value appears after it, and the tuples are separated by commas."
   ]
  },
  {
   "cell_type": "markdown",
   "id": "acc556da-79b2-44d3-88b4-d93e414928f3",
   "metadata": {},
   "source": [
    "To explicitly specify the types, use:"
   ]
  },
  {
   "cell_type": "code",
   "execution_count": 179,
   "id": "c6aa328a-cc3c-4c55-abd8-e36afb1ff6d7",
   "metadata": {},
   "outputs": [
    {
     "data": {
      "text/plain": [
       "Dict{Number, String} with 2 entries:\n",
       "  2 => \"Two\"\n",
       "  1 => \"one\""
      ]
     },
     "execution_count": 179,
     "metadata": {},
     "output_type": "execute_result"
    }
   ],
   "source": [
    "d2 = Dict{Number, String}(1 => \"one\", 2 => \"Two\")"
   ]
  },
  {
   "cell_type": "markdown",
   "id": "95bcef6e-cfc2-49e1-a126-63c4ba5ea526",
   "metadata": {},
   "source": [
    "If you use the former [] notation to try to define a dictionary, you now\n",
    "get Array{Pairs{}} instead:"
   ]
  },
  {
   "cell_type": "code",
   "execution_count": 196,
   "id": "f0503505-8b14-46fd-b7b0-4b38ad06ff6e",
   "metadata": {},
   "outputs": [
    {
     "data": {
      "text/plain": [
       "2-element Vector{Pair{Int64, String}}:\n",
       " 1 => \"one\"\n",
       " 2 => \"Two\""
      ]
     },
     "execution_count": 196,
     "metadata": {},
     "output_type": "execute_result"
    }
   ],
   "source": [
    "d3 =[1 => \"one\", 2=> \"Two\"]"
   ]
  },
  {
   "cell_type": "code",
   "execution_count": 197,
   "id": "d81a3ef1-aebc-4a3b-b153-42817fed1bb9",
   "metadata": {},
   "outputs": [
    {
     "data": {
      "text/plain": [
       "Vector{Pair{Int64, String}} (alias for Array{Pair{Int64, String}, 1})"
      ]
     },
     "execution_count": 197,
     "metadata": {},
     "output_type": "execute_result"
    }
   ],
   "source": [
    "typeof(d3)"
   ]
  },
  {
   "cell_type": "code",
   "execution_count": 198,
   "id": "c22b7648-60f0-4661-9837-60f719bf0213",
   "metadata": {},
   "outputs": [
    {
     "data": {
      "text/plain": [
       "Dict{Symbol, Int64} with 2 entries:\n",
       "  :A => 100\n",
       "  :B => 200"
      ]
     },
     "execution_count": 198,
     "metadata": {},
     "output_type": "execute_result"
    }
   ],
   "source": [
    "d2 = Dict{Any,Any}(\"a\"=>1, (2,3)=>true)\n",
    "d3 = Dict(:A => 100, :B => 200)"
   ]
  },
  {
   "cell_type": "markdown",
   "id": "f462d213-1872-41e8-b554-613a66479c45",
   "metadata": {},
   "source": [
    "The Any type is inferred when a common type among the keys or values cannot be\n",
    "detected."
   ]
  },
  {
   "cell_type": "markdown",
   "id": "0105c16d-9f10-40fa-872e-4784ffe64340",
   "metadata": {},
   "source": [
    "So a Dict can have keys of different types, and the same goes for the values: their type is\n",
    "then indicated as Any."
   ]
  },
  {
   "cell_type": "markdown",
   "id": "358c527f-8348-4926-bc55-d84921b842c3",
   "metadata": {},
   "source": [
    "In general, dictionaries that have type {Any, Any} tend to lead to\n",
    "lower performance since the JIT compiler does not know the exact type of the elements."
   ]
  },
  {
   "cell_type": "markdown",
   "id": "02fc97af-2967-423d-8134-a99daf31236a",
   "metadata": {},
   "source": [
    "Dictionaries used in performance-critical parts of the code should therefore be explicitly\n",
    "typed."
   ]
  },
  {
   "cell_type": "markdown",
   "id": "a7738094-9f10-4f17-b806-a1d4667e6f77",
   "metadata": {},
   "source": [
    "Notice that the (key, value) pairs are not returned (or stored) in the key order."
   ]
  },
  {
   "cell_type": "markdown",
   "id": "96ccada0-395e-451d-b4dd-154b467edb62",
   "metadata": {},
   "source": [
    "If the keys are of the Char or String type, you can also use Symbol as the key type, which\n",
    "could be more appropriate since Symbols are immutable, for example:"
   ]
  },
  {
   "cell_type": "code",
   "execution_count": 199,
   "id": "794eaa6f-1e9f-432e-8f89-3fe083e1e20b",
   "metadata": {},
   "outputs": [
    {
     "data": {
      "text/plain": [
       "Dict{Symbol, Int64} with 2 entries:\n",
       "  :two => 2\n",
       "  :one => 1"
      ]
     },
     "execution_count": 199,
     "metadata": {},
     "output_type": "execute_result"
    }
   ],
   "source": [
    "d3 = Dict{Symbol,Int64}(:one => 1, :two => 2)"
   ]
  },
  {
   "cell_type": "markdown",
   "id": "041d1a43-1baa-47ac-96e5-f5c1150cf563",
   "metadata": {},
   "source": [
    "Use the bracket notation, with a key as an index, to get the corresponding value:"
   ]
  },
  {
   "cell_type": "code",
   "execution_count": 200,
   "id": "c428896c-e5a7-4057-8e67-a4eac865151f",
   "metadata": {},
   "outputs": [
    {
     "data": {
      "text/plain": [
       "1"
      ]
     },
     "execution_count": 200,
     "metadata": {},
     "output_type": "execute_result"
    }
   ],
   "source": [
    "d3[:one]"
   ]
  },
  {
   "cell_type": "code",
   "execution_count": 201,
   "id": "fb346c93-b1df-4491-8752-1b10f9173a77",
   "metadata": {},
   "outputs": [
    {
     "ename": "LoadError",
     "evalue": "KeyError: key :z not found",
     "output_type": "error",
     "traceback": [
      "KeyError: key :z not found",
      "",
      "Stacktrace:",
      " [1] getindex(h::Dict{Symbol, Int64}, key::Symbol)",
      "   @ Base ./dict.jl:481",
      " [2] top-level scope",
      "   @ In[201]:1",
      " [3] eval",
      "   @ ./boot.jl:373 [inlined]",
      " [4] include_string(mapexpr::typeof(REPL.softscope), mod::Module, code::String, filename::String)",
      "   @ Base ./loading.jl:1196"
     ]
    }
   ],
   "source": [
    "d3[:z]"
   ]
  },
  {
   "cell_type": "code",
   "execution_count": 206,
   "id": "33a0005f-6522-4cc6-b43e-9dadc2128d8f",
   "metadata": {},
   "outputs": [
    {
     "data": {
      "text/plain": [
       "1"
      ]
     },
     "execution_count": 206,
     "metadata": {},
     "output_type": "execute_result"
    }
   ],
   "source": [
    "get(d3,:one,23)"
   ]
  },
  {
   "cell_type": "code",
   "execution_count": 207,
   "id": "494b7332-2681-447e-83be-f5ee16d78ef1",
   "metadata": {},
   "outputs": [
    {
     "data": {
      "text/plain": [
       "23"
      ]
     },
     "execution_count": 207,
     "metadata": {},
     "output_type": "execute_result"
    }
   ],
   "source": [
    "get(d3,:x,23)"
   ]
  },
  {
   "cell_type": "markdown",
   "id": "0cba806b-192c-4d0c-922d-5854668b0013",
   "metadata": {},
   "source": [
    "To test if a key is present in Dict, you can use the function haskey as follows:"
   ]
  },
  {
   "cell_type": "code",
   "execution_count": 208,
   "id": "4c973cd3-faa9-4924-8785-03cafb465d70",
   "metadata": {},
   "outputs": [
    {
     "data": {
      "text/plain": [
       "false"
      ]
     },
     "execution_count": 208,
     "metadata": {},
     "output_type": "execute_result"
    }
   ],
   "source": [
    "haskey(d3,:what)"
   ]
  },
  {
   "cell_type": "code",
   "execution_count": 210,
   "id": "be243cf5-174c-4bb4-b5b7-6cecf5bb747a",
   "metadata": {},
   "outputs": [
    {
     "data": {
      "text/plain": [
       "true"
      ]
     },
     "execution_count": 210,
     "metadata": {},
     "output_type": "execute_result"
    }
   ],
   "source": [
    "haskey(d3,:one)"
   ]
  },
  {
   "cell_type": "markdown",
   "id": "20278722-17d7-494f-8254-0bbd7ce42d17",
   "metadata": {},
   "source": [
    "Dictionaries are mutable. If we tell Julia to execute d3[:A] = 150, then the value for key\n",
    ":A in d3 has changed to 150"
   ]
  },
  {
   "cell_type": "code",
   "execution_count": 211,
   "id": "1d021492-fd85-433e-be79-11663ed7d03d",
   "metadata": {},
   "outputs": [
    {
     "data": {
      "text/plain": [
       "Dict{Symbol, Int64} with 2 entries:\n",
       "  :two => 2\n",
       "  :one => 1"
      ]
     },
     "execution_count": 211,
     "metadata": {},
     "output_type": "execute_result"
    }
   ],
   "source": [
    "d3"
   ]
  },
  {
   "cell_type": "code",
   "execution_count": 213,
   "id": "7e67db47-385a-4ddc-96b5-836f0571ecb8",
   "metadata": {},
   "outputs": [
    {
     "data": {
      "text/plain": [
       "2433"
      ]
     },
     "execution_count": 213,
     "metadata": {},
     "output_type": "execute_result"
    }
   ],
   "source": [
    "d3[:one] = 2433"
   ]
  },
  {
   "cell_type": "code",
   "execution_count": 215,
   "id": "c5509523-f484-43a5-a463-bb4b754af7c2",
   "metadata": {},
   "outputs": [
    {
     "data": {
      "text/plain": [
       "Dict{Symbol, Int64} with 2 entries:\n",
       "  :two => 2\n",
       "  :one => 2433"
      ]
     },
     "execution_count": 215,
     "metadata": {},
     "output_type": "execute_result"
    }
   ],
   "source": [
    "d3"
   ]
  },
  {
   "cell_type": "markdown",
   "id": "3dc77dc9-7f8c-43ec-bcd8-bcacfc3c579c",
   "metadata": {},
   "source": [
    "If we do this with a new key, then that tuple is added to the\n",
    "dictionary:"
   ]
  },
  {
   "cell_type": "code",
   "execution_count": 216,
   "id": "22205c14-d98c-43e3-89c1-33da0f8d7db6",
   "metadata": {},
   "outputs": [
    {
     "data": {
      "text/plain": [
       "3"
      ]
     },
     "execution_count": 216,
     "metadata": {},
     "output_type": "execute_result"
    }
   ],
   "source": [
    "d3[:three] = 3"
   ]
  },
  {
   "cell_type": "code",
   "execution_count": 217,
   "id": "a9cd5904-4320-4898-a8bc-7b8dab56a8c8",
   "metadata": {},
   "outputs": [
    {
     "data": {
      "text/plain": [
       "Dict{Symbol, Int64} with 3 entries:\n",
       "  :three => 3\n",
       "  :two   => 2\n",
       "  :one   => 2433"
      ]
     },
     "execution_count": 217,
     "metadata": {},
     "output_type": "execute_result"
    }
   ],
   "source": [
    "d3"
   ]
  },
  {
   "cell_type": "markdown",
   "id": "5ff72a31-36d3-44e1-b6f0-ac6a2db5cdba",
   "metadata": {},
   "source": [
    "d4 = Dict() is an empty dictionary of type Any, and you can start populating it in the\n",
    "same way as in the example with d3."
   ]
  },
  {
   "cell_type": "code",
   "execution_count": 218,
   "id": "0e406674-1dc8-48d3-9c8a-88e740650e56",
   "metadata": {},
   "outputs": [
    {
     "data": {
      "text/plain": [
       "Dict{Any, Any}()"
      ]
     },
     "execution_count": 218,
     "metadata": {},
     "output_type": "execute_result"
    }
   ],
   "source": [
    "d4 = Dict()"
   ]
  },
  {
   "cell_type": "code",
   "execution_count": 220,
   "id": "ecd622d9-9bea-473f-b60f-19bec8e1951d",
   "metadata": {},
   "outputs": [
    {
     "data": {
      "text/plain": [
       "\"WTF\""
      ]
     },
     "execution_count": 220,
     "metadata": {},
     "output_type": "execute_result"
    }
   ],
   "source": [
    "d4[:WTF] = \"WTF\""
   ]
  },
  {
   "cell_type": "code",
   "execution_count": 221,
   "id": "c3969973-facb-49cd-b1e5-8b6b208256a3",
   "metadata": {},
   "outputs": [
    {
     "data": {
      "text/plain": [
       "Dict{Any, Any} with 1 entry:\n",
       "  :WTF => \"WTF\""
      ]
     },
     "execution_count": 221,
     "metadata": {},
     "output_type": "execute_result"
    }
   ],
   "source": [
    "d4"
   ]
  },
  {
   "cell_type": "markdown",
   "id": "e1a2df29-f60b-4a81-ab27-5364f71d4595",
   "metadata": {},
   "source": [
    "d5 = Dict{Float64, Int64}() is an empty dictionary with key type Float64 and\n",
    "value type Int64"
   ]
  },
  {
   "cell_type": "code",
   "execution_count": 222,
   "id": "7e59289f-6879-45cf-abc4-617117c40e60",
   "metadata": {},
   "outputs": [
    {
     "data": {
      "text/plain": [
       "Dict{Float64, Int64}()"
      ]
     },
     "execution_count": 222,
     "metadata": {},
     "output_type": "execute_result"
    }
   ],
   "source": [
    "d5 = Dict{Float64,Int64}()"
   ]
  },
  {
   "cell_type": "code",
   "execution_count": 224,
   "id": "d6952903-4c58-44c1-b0e7-6b2a71bd82fc",
   "metadata": {},
   "outputs": [
    {
     "data": {
      "text/plain": [
       "3"
      ]
     },
     "execution_count": 224,
     "metadata": {},
     "output_type": "execute_result"
    }
   ],
   "source": [
    "d5[.3] = 3"
   ]
  },
  {
   "cell_type": "code",
   "execution_count": 225,
   "id": "e0e92fde-7a3f-4daf-8ff5-2c500145cca5",
   "metadata": {},
   "outputs": [
    {
     "data": {
      "text/plain": [
       "Dict{Float64, Int64} with 1 entry:\n",
       "  0.3 => 3"
      ]
     },
     "execution_count": 225,
     "metadata": {},
     "output_type": "execute_result"
    }
   ],
   "source": [
    "d5"
   ]
  },
  {
   "cell_type": "markdown",
   "id": "8f7e45ea-1d12-4d99-8a2a-ec34386b420b",
   "metadata": {},
   "source": [
    "Deleting a key mapping from a collection is also straightforward. delete!(d3, :B)\n",
    "removes (:B, 200) from the dictionary, and returns the collection that contains only :A\n",
    "=> 100."
   ]
  },
  {
   "cell_type": "code",
   "execution_count": 226,
   "id": "4b2890bf-be7c-4e63-8c0b-7568e0b25e5a",
   "metadata": {},
   "outputs": [
    {
     "data": {
      "text/plain": [
       "Dict{Float64, Int64}()"
      ]
     },
     "execution_count": 226,
     "metadata": {},
     "output_type": "execute_result"
    }
   ],
   "source": [
    "delete!(d5,.3)"
   ]
  },
  {
   "cell_type": "code",
   "execution_count": 227,
   "id": "ae05a505-4349-4518-afd3-5a008ff094df",
   "metadata": {},
   "outputs": [
    {
     "data": {
      "text/plain": [
       "Dict{Float64, Int64}()"
      ]
     },
     "execution_count": 227,
     "metadata": {},
     "output_type": "execute_result"
    }
   ],
   "source": [
    "d5"
   ]
  },
  {
   "cell_type": "markdown",
   "id": "f1cc6dff-e46b-4988-b3af-35fa38d12559",
   "metadata": {},
   "source": [
    "## Keys and values – looping"
   ]
  },
  {
   "cell_type": "markdown",
   "id": "4a018666-1b92-4ac9-b064-26b55ed39d93",
   "metadata": {},
   "source": [
    "To isolate the keys of a dictionary, use the keys function ki = keys(d3), with ki being a\n",
    "KeyIterator object, which we can use in a for loop as follows:"
   ]
  },
  {
   "cell_type": "code",
   "execution_count": 3,
   "id": "827a19c0-aaef-4024-aafd-0eb6223846e3",
   "metadata": {},
   "outputs": [
    {
     "data": {
      "text/plain": [
       "Dict{Int64, String} with 3 entries:\n",
       "  2 => \"Two\"\n",
       "  3 => \"Three\"\n",
       "  1 => \"one\""
      ]
     },
     "execution_count": 3,
     "metadata": {},
     "output_type": "execute_result"
    }
   ],
   "source": [
    "d3 = Dict(1 => \"one\", 2 => \"Two\", 3 => \"Three\")"
   ]
  },
  {
   "cell_type": "code",
   "execution_count": 4,
   "id": "f466f7e1-f94f-4123-b1e1-adf7832c6064",
   "metadata": {},
   "outputs": [
    {
     "data": {
      "text/plain": [
       "Dict{Number, String} with 3 entries:\n",
       "  2 => \"Two\"\n",
       "  3 => \"Three\"\n",
       "  1 => \"one\""
      ]
     },
     "execution_count": 4,
     "metadata": {},
     "output_type": "execute_result"
    }
   ],
   "source": [
    "d4 = Dict{Number,String}(1 => \"one\", 2 => \"Two\", 3 => \"Three\")"
   ]
  },
  {
   "cell_type": "code",
   "execution_count": 6,
   "id": "d919622b-0229-48c8-8efb-3fdc809f7b73",
   "metadata": {},
   "outputs": [
    {
     "name": "stdout",
     "output_type": "stream",
     "text": [
      "2, 3, 1, "
     ]
    }
   ],
   "source": [
    "for k in keys(d3)\n",
    "    print(k,\", \")\n",
    "end"
   ]
  },
  {
   "cell_type": "markdown",
   "id": "dd4ca72c-95da-44f7-9041-db6d8694c84a",
   "metadata": {},
   "source": [
    "This\n",
    "also gives us an alternative way to test if a key exists with in. For example, :A in\n",
    "keys(d3) returns true and :Z in keys(d3) returns false."
   ]
  },
  {
   "cell_type": "code",
   "execution_count": 10,
   "id": "d8a43a54-2e9b-4b17-9f8c-67d992623acc",
   "metadata": {},
   "outputs": [
    {
     "data": {
      "text/plain": [
       "true"
      ]
     },
     "execution_count": 10,
     "metadata": {},
     "output_type": "execute_result"
    }
   ],
   "source": [
    "2 in keys(d3)"
   ]
  },
  {
   "cell_type": "markdown",
   "id": "4df5c040-1b02-4a29-9769-c569e1a3bba6",
   "metadata": {},
   "source": [
    "If you want to work with an array of keys, use collect(keys(d3))"
   ]
  },
  {
   "cell_type": "code",
   "execution_count": 11,
   "id": "950fa212-c067-47be-acbe-0e96de430e2c",
   "metadata": {},
   "outputs": [
    {
     "data": {
      "text/plain": [
       "3-element Vector{Int64}:\n",
       " 2\n",
       " 3\n",
       " 1"
      ]
     },
     "execution_count": 11,
     "metadata": {},
     "output_type": "execute_result"
    }
   ],
   "source": [
    "collect(keys(d3))"
   ]
  },
  {
   "cell_type": "markdown",
   "id": "330486c7-6552-4ff5-a724-e0d73d272e3b",
   "metadata": {},
   "source": [
    "To obtain the values, use the values\n",
    "function: vi = values(d3), with vi being a Value Iterator object, which we can also\n",
    "loop through with for:"
   ]
  },
  {
   "cell_type": "code",
   "execution_count": 12,
   "id": "2a20a4ae-e0f3-44f8-bfd9-78ffdbba1d66",
   "metadata": {},
   "outputs": [
    {
     "name": "stdout",
     "output_type": "stream",
     "text": [
      "Two, Three, one, "
     ]
    }
   ],
   "source": [
    "for v in values(d3)\n",
    "    print(v,\", \")\n",
    "end\n"
   ]
  },
  {
   "cell_type": "markdown",
   "id": "7744c7a5-7322-4db1-818d-b8087f3356e4",
   "metadata": {},
   "source": [
    "The order in which the values or keys are returned is\n",
    "undefined."
   ]
  },
  {
   "cell_type": "markdown",
   "id": "9023c7a9-6688-4e87-b16a-120dff626078",
   "metadata": {},
   "source": [
    "Creating a dictionary from arrays with keys and values is trivial because we have a Dict\n",
    "constructor that can use these; as in the following example:"
   ]
  },
  {
   "cell_type": "code",
   "execution_count": 14,
   "id": "44f652d3-6aef-438a-a1b5-c27b406b3702",
   "metadata": {},
   "outputs": [
    {
     "data": {
      "text/plain": [
       "10-element Vector{Int64}:\n",
       " 11\n",
       " 12\n",
       " 13\n",
       " 14\n",
       " 15\n",
       " 16\n",
       " 17\n",
       " 18\n",
       " 19\n",
       " 20"
      ]
     },
     "execution_count": 14,
     "metadata": {},
     "output_type": "execute_result"
    }
   ],
   "source": [
    "a = collect(1:10)\n",
    "b = collect(11:20)"
   ]
  },
  {
   "cell_type": "code",
   "execution_count": 15,
   "id": "651b3154-648a-498e-ac03-c92b9ad7eb25",
   "metadata": {},
   "outputs": [
    {
     "data": {
      "text/plain": [
       "Dict{Int64, Int64} with 10 entries:\n",
       "  5  => 15\n",
       "  4  => 14\n",
       "  6  => 16\n",
       "  7  => 17\n",
       "  2  => 12\n",
       "  10 => 20\n",
       "  9  => 19\n",
       "  8  => 18\n",
       "  3  => 13\n",
       "  1  => 11"
      ]
     },
     "execution_count": 15,
     "metadata": {},
     "output_type": "execute_result"
    }
   ],
   "source": [
    "d5 = Dict(zip(a, b))"
   ]
  },
  {
   "cell_type": "markdown",
   "id": "7be64214-2f89-43d7-a234-68d5135b71af",
   "metadata": {},
   "source": [
    "Working with both the key and value pairs in a loop is also easy. For instance, the for\n",
    "loop over d5 is as follows:"
   ]
  },
  {
   "cell_type": "code",
   "execution_count": 18,
   "id": "4629bc1b-0ba3-4828-8f81-05d369c725fc",
   "metadata": {},
   "outputs": [
    {
     "name": "stdout",
     "output_type": "stream",
     "text": [
      "515, 414, 616, 717, 212, 1020, 919, 818, 313, 111, "
     ]
    }
   ],
   "source": [
    "for (m, n) in d5\n",
    "    print(m, n, \", \")\n",
    "end\n"
   ]
  },
  {
   "cell_type": "markdown",
   "id": "83736f0f-8bdc-4e46-b660-4e9517ed8d7a",
   "metadata": {},
   "source": [
    "Alternatively, we can use an index in the tuple:"
   ]
  },
  {
   "cell_type": "code",
   "execution_count": 20,
   "id": "24aff012-f579-430a-bf41-abf942fc6a47",
   "metadata": {},
   "outputs": [
    {
     "name": "stdout",
     "output_type": "stream",
     "text": [
      "515, 414, 616, 717, 212, 1020, 919, 818, 313, 111, "
     ]
    }
   ],
   "source": [
    "for v in d5\n",
    "    print(v[1], v[2], \", \")\n",
    "end\n",
    "    "
   ]
  },
  {
   "cell_type": "markdown",
   "id": "526957f7-d269-4fe3-8224-9b69045dcda7",
   "metadata": {},
   "source": [
    "Here are some more neat tricks, where dict is a dictionary:"
   ]
  },
  {
   "cell_type": "code",
   "execution_count": 21,
   "id": "894b9459-531e-411d-8da7-bece74ab0ace",
   "metadata": {},
   "outputs": [
    {
     "data": {
      "text/plain": [
       "10-element Vector{Int64}:\n",
       "  5\n",
       "  4\n",
       "  6\n",
       "  7\n",
       "  2\n",
       " 10\n",
       "  9\n",
       "  8\n",
       "  3\n",
       "  1"
      ]
     },
     "execution_count": 21,
     "metadata": {},
     "output_type": "execute_result"
    }
   ],
   "source": [
    "arrkey = [key for (key, _) in d5]"
   ]
  },
  {
   "cell_type": "code",
   "execution_count": 22,
   "id": "e5ee54b8-a310-4197-907a-8b205317090e",
   "metadata": {},
   "outputs": [
    {
     "data": {
      "text/plain": [
       "10-element Vector{Int64}:\n",
       " 15\n",
       " 14\n",
       " 16\n",
       " 17\n",
       " 12\n",
       " 20\n",
       " 19\n",
       " 18\n",
       " 13\n",
       " 11"
      ]
     },
     "execution_count": 22,
     "metadata": {},
     "output_type": "execute_result"
    }
   ],
   "source": [
    "arrval = [value for (_, value) in d5]"
   ]
  },
  {
   "cell_type": "markdown",
   "id": "71e0cbfb-9a61-4fb5-8ee3-6d901afa53d9",
   "metadata": {},
   "source": [
    "# Sets "
   ]
  },
  {
   "cell_type": "markdown",
   "id": "a6e01363-5c69-4870-afc3-eb476953cd53",
   "metadata": {},
   "source": [
    "Array elements are ordered, but can contain duplicates, that is, the same value can occur at\n",
    "different indices. In a dictionary, keys have to be unique, but the values do not, and the\n",
    "keys are not ordered. If you want a collection where order does not matter, but where the\n",
    "elements have to be unique, then use a Set."
   ]
  },
  {
   "cell_type": "code",
   "execution_count": 23,
   "id": "3f07cc5a-f4ba-4a41-be0e-39d62362f151",
   "metadata": {},
   "outputs": [
    {
     "data": {
      "text/plain": [
       "Set{Int64} with 10 elements:\n",
       "  5\n",
       "  4\n",
       "  6\n",
       "  7\n",
       "  2\n",
       "  10\n",
       "  9\n",
       "  8\n",
       "  3\n",
       "  1"
      ]
     },
     "execution_count": 23,
     "metadata": {},
     "output_type": "execute_result"
    }
   ],
   "source": [
    "s = Set(collect(1:10))"
   ]
  },
  {
   "cell_type": "markdown",
   "id": "8a16f9c8-1890-4087-ba2e-ecb85c40512f",
   "metadata": {},
   "source": [
    "The Set() function creates an empty set Set(Any[]). The preceding line returns Set([7,\n",
    "14, 13, 11]), where the duplicates have been eliminated."
   ]
  },
  {
   "cell_type": "markdown",
   "id": "788488f6-cee2-411e-b8b4-7f0a4a1f4658",
   "metadata": {},
   "source": [
    "Operations from the set theory are also defined for s1 = Set([11, 25]) and s2 =\n",
    "Set([25, 3.14]) as follows:"
   ]
  },
  {
   "cell_type": "code",
   "execution_count": 28,
   "id": "65e851c8-1eb8-4990-8d61-492b6eb3c9a8",
   "metadata": {},
   "outputs": [],
   "source": [
    "s1 = Set(rand(collect(1:10), 10));\n",
    "s2 = Set(rand(collect(5:15), 10));"
   ]
  },
  {
   "cell_type": "code",
   "execution_count": 30,
   "id": "c7e57a4d-9424-4ab0-9c8b-ccd6edb9380b",
   "metadata": {},
   "outputs": [
    {
     "name": "stdout",
     "output_type": "stream",
     "text": [
      "Set([4, 7, 2, 10, 8, 3])"
     ]
    }
   ],
   "source": [
    "show(s1)"
   ]
  },
  {
   "cell_type": "code",
   "execution_count": 31,
   "id": "39c6ada3-9683-47d2-bc6d-9aa1df41afca",
   "metadata": {},
   "outputs": [
    {
     "name": "stdout",
     "output_type": "stream",
     "text": [
      "Set([5, 13, 7, 10, 8])"
     ]
    }
   ],
   "source": [
    "show(s2)"
   ]
  },
  {
   "cell_type": "code",
   "execution_count": 32,
   "id": "c79ca6f7-9dee-4611-922e-5ef28825de04",
   "metadata": {},
   "outputs": [
    {
     "data": {
      "text/plain": [
       "Set{Int64} with 8 elements:\n",
       "  5\n",
       "  7\n",
       "  8\n",
       "  4\n",
       "  13\n",
       "  2\n",
       "  10\n",
       "  3"
      ]
     },
     "execution_count": 32,
     "metadata": {},
     "output_type": "execute_result"
    }
   ],
   "source": [
    "union(s1,s2)"
   ]
  },
  {
   "cell_type": "code",
   "execution_count": 33,
   "id": "ba6ce12e-09f0-48d8-ae7a-0cd4ebd4a3bd",
   "metadata": {},
   "outputs": [
    {
     "data": {
      "text/plain": [
       "Set{Int64} with 3 elements:\n",
       "  7\n",
       "  10\n",
       "  8"
      ]
     },
     "execution_count": 33,
     "metadata": {},
     "output_type": "execute_result"
    }
   ],
   "source": [
    "intersect(s1,s2)"
   ]
  },
  {
   "cell_type": "code",
   "execution_count": 34,
   "id": "24752cc4-9ac4-4a81-a683-9a4683a3d27b",
   "metadata": {},
   "outputs": [
    {
     "data": {
      "text/plain": [
       "Set{Int64} with 3 elements:\n",
       "  4\n",
       "  2\n",
       "  3"
      ]
     },
     "execution_count": 34,
     "metadata": {},
     "output_type": "execute_result"
    }
   ],
   "source": [
    "setdiff(s1,s2)"
   ]
  },
  {
   "cell_type": "markdown",
   "id": "e094f1bb-f5b5-44dd-a584-1420dc4fbe94",
   "metadata": {},
   "source": [
    "elements that exist in the first set but not in the second one "
   ]
  },
  {
   "cell_type": "code",
   "execution_count": 35,
   "id": "bdf8c0ed-4e00-4604-9d4c-bf0079e27eeb",
   "metadata": {},
   "outputs": [
    {
     "data": {
      "text/plain": [
       "false"
      ]
     },
     "execution_count": 35,
     "metadata": {},
     "output_type": "execute_result"
    }
   ],
   "source": [
    "issubset(s1,s2)"
   ]
  },
  {
   "cell_type": "markdown",
   "id": "e22ad0b8-5129-4c41-9f5d-ed53dd790147",
   "metadata": {},
   "source": [
    "To add an element to a set is easy: push!(s1, 32) adds 32 to set s1. Adding an existing\n",
    "element will not change the set. To test whether a set contains an element, use in."
   ]
  },
  {
   "cell_type": "code",
   "execution_count": 36,
   "id": "41725d5c-c323-4658-8272-ec28ec5f4955",
   "metadata": {},
   "outputs": [
    {
     "data": {
      "text/plain": [
       "Set{Int64} with 7 elements:\n",
       "  289\n",
       "  4\n",
       "  7\n",
       "  2\n",
       "  10\n",
       "  8\n",
       "  3"
      ]
     },
     "execution_count": 36,
     "metadata": {},
     "output_type": "execute_result"
    }
   ],
   "source": [
    "push!(s1,289)"
   ]
  },
  {
   "cell_type": "code",
   "execution_count": 37,
   "id": "205ee7ea-f57e-4c46-93d0-0f87c61e78e8",
   "metadata": {},
   "outputs": [
    {
     "data": {
      "text/plain": [
       "Set{Int64} with 7 elements:\n",
       "  289\n",
       "  4\n",
       "  7\n",
       "  2\n",
       "  10\n",
       "  8\n",
       "  3"
      ]
     },
     "execution_count": 37,
     "metadata": {},
     "output_type": "execute_result"
    }
   ],
   "source": [
    "s1"
   ]
  },
  {
   "cell_type": "code",
   "execution_count": 38,
   "id": "b3c0e098-93ca-4b1a-b788-e88471726dc4",
   "metadata": {},
   "outputs": [
    {
     "data": {
      "text/plain": [
       "true"
      ]
     },
     "execution_count": 38,
     "metadata": {},
     "output_type": "execute_result"
    }
   ],
   "source": [
    "10 in s1"
   ]
  },
  {
   "cell_type": "markdown",
   "id": "64b5652a-5c45-4d06-8fa6-2b312bd9eff8",
   "metadata": {},
   "source": [
    "Set([1,2,3]) produces a set of integers Set([2,3,1]) of the Set{Int64} type. To get a\n",
    "set of arrays, use Set([[1,2,3]]), which returns Set(Array{Int64,1}[[1, 2, 3]])."
   ]
  },
  {
   "cell_type": "code",
   "execution_count": 55,
   "id": "ca0a1c83-8188-4ddb-a2fd-80f89bca3a4e",
   "metadata": {},
   "outputs": [
    {
     "data": {
      "text/plain": [
       "Set{Array{Int64}} with 1 element:\n",
       "  [1, 2, 3, 4]"
      ]
     },
     "execution_count": 55,
     "metadata": {},
     "output_type": "execute_result"
    }
   ],
   "source": [
    "a = Set(Array{Int64}[[1,2,3,4]])"
   ]
  },
  {
   "cell_type": "code",
   "execution_count": 56,
   "id": "6157d1d6-cb6e-4768-8830-d1f44c69389a",
   "metadata": {},
   "outputs": [
    {
     "data": {
      "text/plain": [
       "Set{Array{Int64}} with 1 element:\n",
       "  [1, 2, 3, 4]"
      ]
     },
     "execution_count": 56,
     "metadata": {},
     "output_type": "execute_result"
    }
   ],
   "source": [
    "a"
   ]
  },
  {
   "cell_type": "code",
   "execution_count": 59,
   "id": "821eca96-36fa-4dcb-876e-bc0489cd6189",
   "metadata": {},
   "outputs": [
    {
     "data": {
      "text/plain": [
       "Set{Int64} with 4 elements:\n",
       "  4\n",
       "  2\n",
       "  3\n",
       "  1"
      ]
     },
     "execution_count": 59,
     "metadata": {},
     "output_type": "execute_result"
    }
   ],
   "source": [
    "a = Set(Array{Int64,1}([1,2,3,4]))"
   ]
  },
  {
   "cell_type": "markdown",
   "id": "b7f13900-5ed9-4426-9957-9de269c167a9",
   "metadata": {},
   "source": [
    "Sets are commonly used when we need to keep track of objects in no particular order. For\n",
    "instance, we might be searching through a graph. We can then use a set to remember which\n",
    "nodes of the graph we have already visited in order to avoid visiting them again."
   ]
  },
  {
   "cell_type": "markdown",
   "id": "c8bd50b9-ad28-4a18-8cbf-7627ded1be45",
   "metadata": {},
   "source": [
    "Checking\n",
    "whether an element is present in a set is independent of the size of the set. This is extremely\n",
    "useful for very large sets of data, for exampl"
   ]
  },
  {
   "cell_type": "code",
   "execution_count": 62,
   "id": "1f580fd1-1254-4e81-bee3-2d8ec167d711",
   "metadata": {},
   "outputs": [],
   "source": [
    "x = Set(collect(1:100)); "
   ]
  },
  {
   "cell_type": "code",
   "execution_count": 79,
   "id": "62f176b5-fbb7-418b-911c-f0d98874717b",
   "metadata": {},
   "outputs": [],
   "source": [
    "y = Set(collect(1:1000));"
   ]
  },
  {
   "cell_type": "code",
   "execution_count": 77,
   "id": "bd809589-a28a-4736-aa30-d241b786df32",
   "metadata": {},
   "outputs": [
    {
     "name": "stdout",
     "output_type": "stream",
     "text": [
      "  0.000003 seconds\n"
     ]
    },
    {
     "data": {
      "text/plain": [
       "true"
      ]
     },
     "execution_count": 77,
     "metadata": {},
     "output_type": "execute_result"
    }
   ],
   "source": [
    "@time 99 in x"
   ]
  },
  {
   "cell_type": "code",
   "execution_count": 78,
   "id": "24ec66c9-a97b-462d-9d10-53b8613b7b2b",
   "metadata": {},
   "outputs": [
    {
     "name": "stdout",
     "output_type": "stream",
     "text": [
      "  0.000003 seconds\n"
     ]
    },
    {
     "data": {
      "text/plain": [
       "true"
      ]
     },
     "execution_count": 78,
     "metadata": {},
     "output_type": "execute_result"
    }
   ],
   "source": [
    "@time 39940 in y"
   ]
  },
  {
   "cell_type": "code",
   "execution_count": 80,
   "id": "7824a985-c3d4-49fe-94e0-f390a67abc7d",
   "metadata": {},
   "outputs": [],
   "source": [
    ";subl words1.txt"
   ]
  },
  {
   "cell_type": "code",
   "execution_count": 82,
   "id": "bc130ae5-9a27-4ad1-b6c4-7ec391951a5d",
   "metadata": {},
   "outputs": [
    {
     "data": {
      "text/plain": [
       "\"to be, or not to be, that is the question\""
      ]
     },
     "execution_count": 82,
     "metadata": {},
     "output_type": "execute_result"
    }
   ],
   "source": [
    "str = read(\"words1.txt\",String)"
   ]
  },
  {
   "cell_type": "code",
   "execution_count": 83,
   "id": "5ea99085-e8b6-498a-b7f9-b92c80c4e019",
   "metadata": {},
   "outputs": [
    {
     "data": {
      "text/plain": [
       "r\"(\\W\\s?)\""
      ]
     },
     "execution_count": 83,
     "metadata": {},
     "output_type": "execute_result"
    }
   ],
   "source": [
    "nonalpha = r\"(\\W\\s?)\""
   ]
  },
  {
   "cell_type": "code",
   "execution_count": 85,
   "id": "10f28ed9-9641-4f58-bf2f-ce4c7d0cab53",
   "metadata": {},
   "outputs": [
    {
     "data": {
      "text/plain": [
       "\"to be or not to be that is the question\""
      ]
     },
     "execution_count": 85,
     "metadata": {},
     "output_type": "execute_result"
    }
   ],
   "source": [
    "str = replace(str, nonalpha => ' ')"
   ]
  },
  {
   "cell_type": "code",
   "execution_count": 87,
   "id": "3e13e739-d58f-4b3d-95a3-ddcd7d433b45",
   "metadata": {},
   "outputs": [
    {
     "data": {
      "text/plain": [
       "r\"(\\d+)\""
      ]
     },
     "execution_count": 87,
     "metadata": {},
     "output_type": "execute_result"
    }
   ],
   "source": [
    "digits = r\"(\\d+)\""
   ]
  },
  {
   "cell_type": "code",
   "execution_count": 88,
   "id": "994c5001-595d-4ecd-acb8-a256bfb82828",
   "metadata": {},
   "outputs": [
    {
     "data": {
      "text/plain": [
       "\"to be or not to be that is the question\""
      ]
     },
     "execution_count": 88,
     "metadata": {},
     "output_type": "execute_result"
    }
   ],
   "source": [
    "str = replace(str, digits => ' ')"
   ]
  },
  {
   "cell_type": "code",
   "execution_count": 119,
   "id": "1ddaa5e4-d071-44d4-926b-50b23c5db546",
   "metadata": {},
   "outputs": [
    {
     "data": {
      "text/plain": [
       "10-element Vector{SubString{String}}:\n",
       " \"to\"\n",
       " \"be\"\n",
       " \"or\"\n",
       " \"not\"\n",
       " \"to\"\n",
       " \"be\"\n",
       " \"that\"\n",
       " \"is\"\n",
       " \"the\"\n",
       " \"question\""
      ]
     },
     "execution_count": 119,
     "metadata": {},
     "output_type": "execute_result"
    }
   ],
   "source": [
    "word_list = split(str, ' ')\n",
    "word_list = strip.(word_list)"
   ]
  },
  {
   "cell_type": "code",
   "execution_count": 120,
   "id": "5c492c0c-2b54-4fc2-ac58-ec1c204f835a",
   "metadata": {},
   "outputs": [
    {
     "data": {
      "text/plain": [
       "10-element Vector{Int64}:\n",
       " 2\n",
       " 2\n",
       " 2\n",
       " 3\n",
       " 2\n",
       " 2\n",
       " 4\n",
       " 2\n",
       " 3\n",
       " 8"
      ]
     },
     "execution_count": 120,
     "metadata": {},
     "output_type": "execute_result"
    }
   ],
   "source": [
    "length_word = length.(word_list) "
   ]
  },
  {
   "cell_type": "code",
   "execution_count": 121,
   "id": "d9fb8ece-8c9d-4ddf-808a-bced57192e6d",
   "metadata": {},
   "outputs": [
    {
     "data": {
      "text/plain": [
       "Dict{String, Int64}()"
      ]
     },
     "execution_count": 121,
     "metadata": {},
     "output_type": "execute_result"
    }
   ],
   "source": [
    "Dictionary = Dict{String, Int64}()"
   ]
  },
  {
   "cell_type": "code",
   "execution_count": 122,
   "id": "089d7faa-b874-42c6-9c20-8cf08ec41cb0",
   "metadata": {},
   "outputs": [],
   "source": [
    "for word in word_list\n",
    "    if word in keys(Dictionary)\n",
    "        Dictionary[word] += 1\n",
    "    else\n",
    "        Dictionary[word] = 1\n",
    "    end\n",
    "end\n"
   ]
  },
  {
   "cell_type": "code",
   "execution_count": 123,
   "id": "f99faa02-f358-49d4-b500-10c1ebeb1300",
   "metadata": {},
   "outputs": [
    {
     "data": {
      "text/plain": [
       "Dict{String, Int64} with 8 entries:\n",
       "  \"question\" => 1\n",
       "  \"or\"       => 1\n",
       "  \"that\"     => 1\n",
       "  \"not\"      => 1\n",
       "  \"is\"       => 1\n",
       "  \"the\"      => 1\n",
       "  \"to\"       => 2\n",
       "  \"be\"       => 2"
      ]
     },
     "execution_count": 123,
     "metadata": {},
     "output_type": "execute_result"
    }
   ],
   "source": [
    "Dictionary"
   ]
  }
 ],
 "metadata": {
  "kernelspec": {
   "display_name": "Julia 1.7.1",
   "language": "julia",
   "name": "julia-1.7"
  },
  "language_info": {
   "file_extension": ".jl",
   "mimetype": "application/julia",
   "name": "julia",
   "version": "1.7.1"
  }
 },
 "nbformat": 4,
 "nbformat_minor": 5
}
