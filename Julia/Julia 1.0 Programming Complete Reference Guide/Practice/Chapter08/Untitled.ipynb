{
 "cells": [
  {
   "cell_type": "markdown",
   "id": "466ef19b-c421-4610-a526-36a2906a378e",
   "metadata": {},
   "source": [
    "# I/O, Networking, and Parallel Computing"
   ]
  },
  {
   "cell_type": "markdown",
   "id": "340a4ff6-06d6-4eff-a219-3f6bfba492ff",
   "metadata": {},
   "source": [
    "In this chapter, we will explore how Julia interacts with the outside world, reading from\n",
    "standard input and writing to standard output, files, networks, and databases. Julia\n",
    "provides asynchronous networking I/O using the libuv library. We will see how to handle\n",
    "data in Julia. We will also explore Julia's parallel processing model."
   ]
  },
  {
   "cell_type": "markdown",
   "id": "5a372c26-951a-41db-a9bd-5170268d8225",
   "metadata": {},
   "source": [
    "In this chapter, the following topics are covered:\n",
    "- Basic input and output\n",
    "- Working with files (including CSV files)\n",
    "- Using DataFrames\n",
    "- Working with TCP sockets and servers\n",
    "- Interacting with databases\n",
    "- Parallel operations and computing"
   ]
  },
  {
   "cell_type": "markdown",
   "id": "f6e02151-1054-48e3-ab76-dd8d06ce622c",
   "metadata": {},
   "source": [
    "# Basic input and output"
   ]
  },
  {
   "cell_type": "markdown",
   "id": "dac0055f-ffed-47b3-a1d3-4b3f4819a498",
   "metadata": {},
   "source": [
    "Julia's vision on input/output (I/O) is stream-oriented, that is, reading or writing streams of\n",
    "bytes. We will introduce different types of stream, file streams, in this chapter. Standard\n",
    "input (stdin) and standard output (stdout) are constants of the TTY type (an abbreviation\n",
    "for the old term, Teletype) that can be read from and written to in Julia code (refer to the\n",
    "code in Chapter 8\\io.jl):"
   ]
  },
  {
   "cell_type": "markdown",
   "id": "b357d377-1a7c-410a-b64d-811840b93546",
   "metadata": {},
   "source": [
    "- read(stdin, Char): This command waits for a character to be entered, and\n",
    "then returns that character; for example, when you type in J, this returns 'J'"
   ]
  },
  {
   "cell_type": "code",
   "execution_count": 34,
   "id": "eb717cd4-80ae-48d9-b83b-20cc07a00f80",
   "metadata": {},
   "outputs": [
    {
     "data": {
      "text/plain": [
       "\"\""
      ]
     },
     "execution_count": 34,
     "metadata": {},
     "output_type": "execute_result"
    }
   ],
   "source": [
    "a = read(stdin, String)"
   ]
  },
  {
   "cell_type": "markdown",
   "id": "b8f11d5d-36b6-457a-8655-80a3d743c076",
   "metadata": {},
   "source": [
    "- write(stdout, \"Julia\"): This command types out Julia5 (the added 5 is\n",
    "the number of bytes in the output stream; it is not added if the command ends in\n",
    "a semicolon ;)"
   ]
  },
  {
   "cell_type": "code",
   "execution_count": 25,
   "id": "467557ec-796e-443d-a166-fddce5f9ea1e",
   "metadata": {},
   "outputs": [
    {
     "name": "stdout",
     "output_type": "stream",
     "text": [
      "WTF"
     ]
    }
   ],
   "source": [
    "write(stdout, \"WTF\");"
   ]
  },
  {
   "cell_type": "code",
   "execution_count": 26,
   "id": "1ad98880-500a-42a4-85f0-104d30bf6af7",
   "metadata": {},
   "outputs": [
    {
     "data": {
      "text/plain": [
       "\"\""
      ]
     },
     "execution_count": 26,
     "metadata": {},
     "output_type": "execute_result"
    }
   ],
   "source": [
    "a = read(stdin, String)"
   ]
  },
  {
   "cell_type": "markdown",
   "id": "fa6ad85a-1931-4809-8169-f1472d682fbd",
   "metadata": {},
   "source": [
    "stdin and stdout are simply streams and can be replaced by any stream object in\n",
    "read/write commands. readbytes is used to read a number of bytes from a stream into a\n",
    "vector:"
   ]
  },
  {
   "cell_type": "code",
   "execution_count": 28,
   "id": "229203e8-d1c3-41d6-aafd-c342cc249820",
   "metadata": {},
   "outputs": [
    {
     "data": {
      "text/plain": [
       "Task (done) @0x00007f0479d74b90"
      ]
     },
     "execution_count": 28,
     "metadata": {},
     "output_type": "execute_result"
    }
   ],
   "source": [
    "a = @async read(stdin, 10)"
   ]
  },
  {
   "cell_type": "markdown",
   "id": "3e26111e-6c76-461a-91ce-2f65e116bf04",
   "metadata": {},
   "source": [
    "readline(stdin): This command reads all the input until a newline\n",
    "character, \\n, is entered. For example, type Julia and press Enter; this returns\n",
    "\"Julia\\r\\n\" on Windows and \"Julia\\n\" on Linux."
   ]
  },
  {
   "cell_type": "code",
   "execution_count": 38,
   "id": "442de805-7634-46d2-a05c-d67b928bef91",
   "metadata": {},
   "outputs": [
    {
     "name": "stdin",
     "output_type": "stream",
     "text": [
      "stdin>  What the heck is going on here \n"
     ]
    },
    {
     "data": {
      "text/plain": [
       "\"What the heck is going on here \""
      ]
     },
     "execution_count": 38,
     "metadata": {},
     "output_type": "execute_result"
    }
   ],
   "source": [
    "readline()"
   ]
  },
  {
   "cell_type": "markdown",
   "id": "fc07ebad-adbb-4bde-a8e3-a69753f07f9c",
   "metadata": {},
   "source": [
    "If you need to read all the lines from an input stream, use the eachline method in a for\n",
    "loop, for example:"
   ]
  },
  {
   "cell_type": "code",
   "execution_count": 42,
   "id": "3b46e747-42a5-434c-8a42-c01e6a709aec",
   "metadata": {},
   "outputs": [],
   "source": [
    "stream = stdin\n",
    "for lines in eachline(stream)\n",
    "    print(lines)\n",
    "end\n"
   ]
  },
  {
   "cell_type": "markdown",
   "id": "9ea97c9e-deb3-4f65-9e1c-a8363c6fdd6c",
   "metadata": {},
   "source": [
    "To test whether you have reached the end of an input stream, use eof(stream) in\n",
    "combination with a while loop, as follows:"
   ]
  },
  {
   "cell_type": "code",
   "execution_count": 44,
   "id": "f2f03d42-c984-423a-b270-7eb555992839",
   "metadata": {},
   "outputs": [],
   "source": [
    "# while !eof(stream)\n",
    "# x = read(stream, Char)\n",
    "# println(\"Found: $x\")\n",
    "# # process the character\n",
    "# end"
   ]
  },
  {
   "cell_type": "markdown",
   "id": "06f53c96-95aa-4409-89e4-ee1b32acda6d",
   "metadata": {},
   "source": [
    "# Working with files"
   ]
  },
  {
   "cell_type": "markdown",
   "id": "d6ce36dd-0b69-41bb-803c-d978c734b508",
   "metadata": {},
   "source": [
    "To work with files, we need the IOStream type. IOStream is a type with the IO supertype\n",
    "and has the following characteristics:"
   ]
  },
  {
   "cell_type": "code",
   "execution_count": 52,
   "id": "d327771e-0d58-4ec7-81c9-e511dbd2df7f",
   "metadata": {},
   "outputs": [
    {
     "data": {
      "text/plain": [
       "(:handle, :ios, :name, :mark, :lock, :_dolock)"
      ]
     },
     "execution_count": 52,
     "metadata": {},
     "output_type": "execute_result"
    }
   ],
   "source": [
    "fieldnames(IOStream)"
   ]
  },
  {
   "cell_type": "code",
   "execution_count": 51,
   "id": "84821f48-6cc2-46b9-b739-5150f72a5047",
   "metadata": {},
   "outputs": [
    {
     "data": {
      "text/plain": [
       "svec(Ptr{Nothing}, Vector{UInt8}, String, Int64, ReentrantLock, Bool)"
      ]
     },
     "execution_count": 51,
     "metadata": {},
     "output_type": "execute_result"
    }
   ],
   "source": [
    "IOStream.types"
   ]
  },
  {
   "cell_type": "markdown",
   "id": "072b4f82-281a-4680-bcd6-05bc405f3f81",
   "metadata": {},
   "source": [
    "The file handle is a pointer of the Ptr type, which is a reference to the file object."
   ]
  },
  {
   "cell_type": "code",
   "execution_count": 53,
   "id": "b630b732-4bf1-4808-acc6-f8f4d4c623fc",
   "metadata": {},
   "outputs": [
    {
     "data": {
      "text/plain": [
       "IOStream(<file /home/javid/quotes/Quotes>)"
      ]
     },
     "execution_count": 53,
     "metadata": {},
     "output_type": "execute_result"
    }
   ],
   "source": [
    "file = open(\"/home/javid/quotes/Quotes\")"
   ]
  },
  {
   "cell_type": "code",
   "execution_count": 56,
   "id": "6fef52c3-1cf8-40bf-a5c3-658388565095",
   "metadata": {},
   "outputs": [
    {
     "data": {
      "text/plain": [
       "IOStream"
      ]
     },
     "execution_count": 56,
     "metadata": {},
     "output_type": "execute_result"
    }
   ],
   "source": [
    "typeof(file)"
   ]
  },
  {
   "cell_type": "code",
   "execution_count": 57,
   "id": "1bacdbdb-97a8-4dfc-9131-72c54db06b79",
   "metadata": {},
   "outputs": [
    {
     "data": {
      "text/plain": [
       "1275-element Vector{String}:\n",
       " \"why don't you grovel at my feet (grovel: crawel,beg)\"\n",
       " \"why must i stoop so low? (stoop: act of bending the body forward and backward)\"\n",
       " \"you make it sound you and I are an Item\"\n",
       " \"ever since i reached puberty ... (adulthoot)\"\n",
       " \"it's as though we added fuel to fire\"\n",
       " \"did you think you could elude me? (elude: evade or escape from)\"\n",
       " \"i will fleece you( fleece :the wool coat of a sheep)\"\n",
       " \"beat your head to a pulp (pulp: soft, wet shapeless)\"\n",
       " \"soil his fur with blood (soil: make dirty)\"\n",
       " \"your locks are just like father's (locks:  a piece of a person's hair that coils or hangs together)\"\n",
       " \"stop quibbling over small matters ( quibble: argue about a trivial matter. )\"\n",
       " \"my hucnch was right(hunch:  a feeling or guess based on intuition. )\"\n",
       " \"they've come to bid a final farewell (bid: offer (a certain price) for something, especially at an auction.)\"\n",
       " \"why would you get so sappy on me(sappy: over semtimental)\"\n",
       " \"i've been missing all my cram classess for high school (cram:  study intensively just before an examination.)\"\n",
       " ⋮\n",
       " \"I came across the story of a woman who had a narcissistic relative who drove her nuts\"\n",
       " \"As the saying goes, the last mile is always the least crowded.\"\n",
       " \"\"\n",
       " \"Incentives can start a habit.(Incentives: something that encourages you to do sth)\"\n",
       " \"He made a brisk progress thanks to a simple habbit(brisk: quick)\"\n",
       " \"As time rolls by,the calendar becomes a record of your habit streak.\"\n",
       " \"Avoid trifling conversation.(trifiling:trivial not important)\"\n",
       " \"As soon as one streak ends I start a new one (streak:a series of successes or failures, especially in a sport or in gambling)\"\n",
       " \"if you focus solely on that number, your motivation will sag(sag:to become weaker or fewer)\"\n",
       " \"He felt compelled to report the incident (compel:having to do something, because you are forced to or feel it is necessary )\"\n",
       " \"The ground was a mush of wet leaves.(mush: a soft thick mass or mixture)\"\n",
       " \"As soon as actions incur an immediate consequence, beha\" ⋯ 91 bytes ⋯ \" result of actions you have taken|| Motahammel shodan)\"\n",
       " \"a 100-metre sprint(sprint: a race in which the people taking part run, swim, etc. very fast over a short distance)\"\n",
       " \"He was a fantastic athlete in his own right\"\n",
       " \"Our genes nudge us towards a centain direction (nudge: to push sb/sth gently or gradually in a particular direction)\""
      ]
     },
     "execution_count": 57,
     "metadata": {},
     "output_type": "execute_result"
    }
   ],
   "source": [
    "data = readlines(file)"
   ]
  },
  {
   "cell_type": "code",
   "execution_count": 58,
   "id": "d3d62847-32ce-43e1-b392-7202fc0283ea",
   "metadata": {},
   "outputs": [
    {
     "data": {
      "text/plain": [
       "1275"
      ]
     },
     "execution_count": 58,
     "metadata": {},
     "output_type": "execute_result"
    }
   ],
   "source": [
    "length(data)"
   ]
  },
  {
   "cell_type": "code",
   "execution_count": 63,
   "id": "21ab70a1-ca6b-40d7-804b-7078ab9f6a81",
   "metadata": {},
   "outputs": [
    {
     "name": "stdout",
     "output_type": "stream",
     "text": [
      "why don't you grovel at my feet (grovel: crawel,beg)\n",
      "why must i stoop so low? (stoop: act of bending the body forward and backward)\n",
      "you make it sound you and I are an Item\n",
      "ever since i reached puberty ... (adulthoot)\n",
      "it's as though we added fuel to fire\n",
      "did you think you could elude me? (elude: evade or escape from)\n",
      "i will fleece you( fleece :the wool coat of a sheep)\n",
      "beat your head to a pulp (pulp: soft, wet shapeless)\n",
      "soil his fur with blood (soil: make dirty)\n",
      "your locks are just like father's (locks:  a piece of a person's hair that coils or hangs together)\n"
     ]
    }
   ],
   "source": [
    "for l in data[1:10]\n",
    "    println(l)\n",
    "end"
   ]
  },
  {
   "cell_type": "markdown",
   "id": "9267efac-300b-4d8b-a58c-163dd09a79c6",
   "metadata": {},
   "source": [
    "Always close the IOStream object to clean and save resources. If you want to read the file\n",
    "into one string, use readall (for example, see the word_frequency program in Chapter\n",
    "5, Collection Types). Use this only for relatively small files because of the memory\n",
    "consumption; this can also be a potential problem when using readlines."
   ]
  },
  {
   "cell_type": "markdown",
   "id": "7a52c2f9-6eca-4fb2-a7f8-14c90ec039ae",
   "metadata": {},
   "source": [
    "There is a convenient shorthand with the do syntax for opening a file, applying a function\n",
    "process, and closing it automatically. This goes as follows (file is the IOStream object in\n",
    "this code):"
   ]
  },
  {
   "cell_type": "code",
   "execution_count": 64,
   "id": "e5a10cd7-f83c-4b75-a272-0e980a349c0a",
   "metadata": {},
   "outputs": [
    {
     "data": {
      "text/plain": [
       "\"/home/javid/quotes/Quotes\""
      ]
     },
     "execution_count": 64,
     "metadata": {},
     "output_type": "execute_result"
    }
   ],
   "source": [
    "file_path = \"/home/javid/quotes/Quotes\""
   ]
  },
  {
   "cell_type": "code",
   "execution_count": 65,
   "id": "884920bd-6bc4-4264-a1c8-f220e81ab2b4",
   "metadata": {},
   "outputs": [
    {
     "data": {
      "text/plain": [
       "1275-element Vector{String}:\n",
       " \"why don't you grovel at my feet (grovel: crawel,beg)\"\n",
       " \"why must i stoop so low? (stoop: act of bending the body forward and backward)\"\n",
       " \"you make it sound you and I are an Item\"\n",
       " \"ever since i reached puberty ... (adulthoot)\"\n",
       " \"it's as though we added fuel to fire\"\n",
       " \"did you think you could elude me? (elude: evade or escape from)\"\n",
       " \"i will fleece you( fleece :the wool coat of a sheep)\"\n",
       " \"beat your head to a pulp (pulp: soft, wet shapeless)\"\n",
       " \"soil his fur with blood (soil: make dirty)\"\n",
       " \"your locks are just like father's (locks:  a piece of a person's hair that coils or hangs together)\"\n",
       " \"stop quibbling over small matters ( quibble: argue about a trivial matter. )\"\n",
       " \"my hucnch was right(hunch:  a feeling or guess based on intuition. )\"\n",
       " \"they've come to bid a final farewell (bid: offer (a certain price) for something, especially at an auction.)\"\n",
       " \"why would you get so sappy on me(sappy: over semtimental)\"\n",
       " \"i've been missing all my cram classess for high school (cram:  study intensively just before an examination.)\"\n",
       " ⋮\n",
       " \"I came across the story of a woman who had a narcissistic relative who drove her nuts\"\n",
       " \"As the saying goes, the last mile is always the least crowded.\"\n",
       " \"\"\n",
       " \"Incentives can start a habit.(Incentives: something that encourages you to do sth)\"\n",
       " \"He made a brisk progress thanks to a simple habbit(brisk: quick)\"\n",
       " \"As time rolls by,the calendar becomes a record of your habit streak.\"\n",
       " \"Avoid trifling conversation.(trifiling:trivial not important)\"\n",
       " \"As soon as one streak ends I start a new one (streak:a series of successes or failures, especially in a sport or in gambling)\"\n",
       " \"if you focus solely on that number, your motivation will sag(sag:to become weaker or fewer)\"\n",
       " \"He felt compelled to report the incident (compel:having to do something, because you are forced to or feel it is necessary )\"\n",
       " \"The ground was a mush of wet leaves.(mush: a soft thick mass or mixture)\"\n",
       " \"As soon as actions incur an immediate consequence, beha\" ⋯ 91 bytes ⋯ \" result of actions you have taken|| Motahammel shodan)\"\n",
       " \"a 100-metre sprint(sprint: a race in which the people taking part run, swim, etc. very fast over a short distance)\"\n",
       " \"He was a fantastic athlete in his own right\"\n",
       " \"Our genes nudge us towards a centain direction (nudge: to push sb/sth gently or gradually in a particular direction)\""
      ]
     },
     "execution_count": 65,
     "metadata": {},
     "output_type": "execute_result"
    }
   ],
   "source": [
    "open(file_path) do file\n",
    "    data = readlines(file)\n",
    "end\n"
   ]
  },
  {
   "cell_type": "code",
   "execution_count": 70,
   "id": "d181b494-d409-4376-a46f-750416c4eb01",
   "metadata": {},
   "outputs": [
    {
     "name": "stdout",
     "output_type": "stream",
     "text": [
      "why don't you grovel at my feet (grovel: crawel,beg)\n",
      "why must i stoop so low? (stoop: act of bending the body forward and backward)\n",
      "you make it sound you and I are an Item\n",
      "ever since i reached puberty ... (adulthoot)\n",
      "it's as though we added fuel to fire\n",
      "did you think you could elude me? (elude: evade or escape from)\n",
      "i will fleece you( fleece :the wool coat of a sheep)\n",
      "beat your head to a pulp (pulp: soft, wet shapeless)\n",
      "soil his fur with blood (soil: make dirty)\n",
      "your locks are just like father's (locks:  a piece of a person's hair that coils or hangs together)\n",
      "stop quibbling over small matters ( quibble: argue about a trivial matter. )\n"
     ]
    }
   ],
   "source": [
    "open(file_path) do file\n",
    "    for (i, line) in enumerate(eachline(file))\n",
    "        println(line) # or process line\n",
    "        if i > 10 break end\n",
    "    end\n",
    "end"
   ]
  },
  {
   "cell_type": "markdown",
   "id": "298d18e9-11a9-4265-b9d8-84812529e094",
   "metadata": {},
   "source": [
    "# Reading and writing CSV files"
   ]
  },
  {
   "cell_type": "markdown",
   "id": "74980660-0bdb-4749-aafa-504e5bc8f040",
   "metadata": {},
   "source": [
    "A CSV file is a comma-separated file. The data fields in each line are separated by commas,\n",
    ",, or another delimiter, such as semicolons, ;. These files are the de-facto standard for\n",
    "exchanging small and medium amounts of tabular data"
   ]
  },
  {
   "cell_type": "markdown",
   "id": "61d34264-e2f1-4e53-be81-0863d51f989f",
   "metadata": {},
   "source": [
    "uch files are structured so that\n",
    "one line contains data about one data object, so we need a way to read and process the file\n",
    "line by line."
   ]
  },
  {
   "cell_type": "markdown",
   "id": "6f2a1fa5-e7ca-488f-b3ad-6a7220c8334e",
   "metadata": {},
   "source": [
    "In general, the readdlm function from the DelimitedFiles package is used to read in the\n",
    "data from the CSV files:"
   ]
  },
  {
   "cell_type": "code",
   "execution_count": 1,
   "id": "3a85b7e9-b9a2-4657-9741-c630da5d5efa",
   "metadata": {},
   "outputs": [],
   "source": [
    "using DelimitedFiles"
   ]
  },
  {
   "cell_type": "code",
   "execution_count": 9,
   "id": "d9d209af-681d-4e9d-b52b-8e52e22a1d47",
   "metadata": {},
   "outputs": [
    {
     "data": {
      "text/plain": [
       "\"../../Julia-1-Programming-Complete-Reference-Guide-master/Chapter08/winequality.csv\""
      ]
     },
     "execution_count": 9,
     "metadata": {},
     "output_type": "execute_result"
    }
   ],
   "source": [
    "file_path = \"../../Julia-1-Programming-Complete-Reference-Guide-master/Chapter08/winequality.csv\""
   ]
  },
  {
   "cell_type": "code",
   "execution_count": 10,
   "id": "289fe162-8e53-4c3c-81bd-4539ec6caeee",
   "metadata": {},
   "outputs": [
    {
     "data": {
      "text/plain": [
       "1600×12 Matrix{Any}:\n",
       "   \"fixed acidity;\\\"volatile acidity\\\";\\\"citric acid\\\";\\\"residua\" ⋯ 58 bytes ⋯ \"ioxide\\\";\\\"density\\\";\\\"pH\\\";\\\"sulphates\\\";\\\"alcohol\\\";\\\"quality\\\"\"  …   \"\"   \"\"      \"\"     \"\"   \"\"       \"\"    \"\"     \"\"   \"\"\n",
       "  7.4                                                                                                                                                                                                  1.9  0.076  11     34    0.9978   3.51  0.56   9.4  5\n",
       "  7.8                                                                                                                                                                                                  2.6  0.098  25     67    0.9968   3.2   0.68   9.8  5\n",
       "  7.8                                                                                                                                                                                                  2.3  0.092  15     54    0.997    3.26  0.65   9.8  5\n",
       " 11.2                                                                                                                                                                                                  1.9  0.075  17     60    0.998    3.16  0.58   9.8  6\n",
       "  7.4                                                                                                                                                                                               …  1.9  0.076  11     34    0.9978   3.51  0.56   9.4  5\n",
       "  7.4                                                                                                                                                                                                  1.8  0.075  13     40    0.9978   3.51  0.56   9.4  5\n",
       "  7.9                                                                                                                                                                                                  1.6  0.069  15     59    0.9964   3.3   0.46   9.4  5\n",
       "  7.3                                                                                                                                                                                                  1.2  0.065  15     21    0.9946   3.39  0.47  10    7\n",
       "  7.8                                                                                                                                                                                                  2    0.073   9     18    0.9968   3.36  0.57   9.5  7\n",
       "  7.5                                                                                                                                                                                               …  6.1  0.071  17    102    0.9978   3.35  0.8   10.5  5\n",
       "  6.7                                                                                                                                                                                                  1.8  0.097  15     65    0.9959   3.28  0.54   9.2  5\n",
       "  7.5                                                                                                                                                                                                  6.1  0.071  17    102    0.9978   3.35  0.8   10.5  5\n",
       "  5.6                                                                                                                                                                                                  1.6  0.089  16     59    0.9943   3.58  0.52   9.9  5\n",
       "  7.8                                                                                                                                                                                                  1.6  0.114   9     29    0.9974   3.26  1.56   9.1  5\n",
       "  ⋮                                                                                                                                                                                                 ⋱               ⋮                                 ⋮    \n",
       "  6.7                                                                                                                                                                                               …  2.4  0.061  24     34    0.99484  3.29  0.8   11.6  7\n",
       "  7.2                                                                                                                                                                                                  2.6  0.066  22     48    0.99494  3.3   0.84  11.5  6\n",
       "  7.5                                                                                                                                                                                                  2.4  0.065  34     60    0.99492  3.34  0.85  11.4  6\n",
       "  5.8                                                                                                                                                                                                  1.8  0.066  18     28    0.99483  3.55  0.66  10.9  6\n",
       "  7.2                                                                                                                                                                                                  2.5  0.068  34    102    0.99414  3.27  0.78  12.8  6\n",
       "  6.6                                                                                                                                                                                               …  7.8  0.073  29     79    0.9977   3.29  0.54   9.2  5\n",
       "  6.3                                                                                                                                                                                                  1.8  0.077  26     35    0.99314  3.32  0.82  11.6  6\n",
       "  5.4                                                                                                                                                                                                  1.7  0.089  16     26    0.99402  3.67  0.56  11.6  6\n",
       "  6.3                                                                                                                                                                                                  2.3  0.076  29     40    0.99574  3.42  0.75  11    6\n",
       "  6.8                                                                                                                                                                                                  1.9  0.068  28     38    0.99651  3.42  0.82   9.5  6\n",
       "  6.2                                                                                                                                                                                               …  2    0.09   32     44    0.9949   3.45  0.58  10.5  5\n",
       "  5.9                                                                                                                                                                                                  2.2  0.062  39     51    0.99512  3.52  0.76  11.2  6\n",
       "  6.3                                                                                                                                                                                                  2.3  0.076  29     40    0.99574  3.42  0.75  11    6\n",
       "  5.9                                                                                                                                                                                                  2    0.075  32     44    0.99547  3.57  0.71  10.2  5\n",
       "  6                                                                                                                                                                                                    3.6  0.067  18     42    0.99549  3.39  0.66  11    6"
      ]
     },
     "execution_count": 10,
     "metadata": {},
     "output_type": "execute_result"
    }
   ],
   "source": [
    "data = DelimitedFiles.readdlm(file_path, ';')"
   ]
  },
  {
   "cell_type": "code",
   "execution_count": 11,
   "id": "1ad66871-c949-4ec6-ad63-4e622bb47351",
   "metadata": {},
   "outputs": [
    {
     "data": {
      "text/plain": [
       "(1600, 12)"
      ]
     },
     "execution_count": 11,
     "metadata": {},
     "output_type": "execute_result"
    }
   ],
   "source": [
    "size(data)"
   ]
  },
  {
   "cell_type": "code",
   "execution_count": 12,
   "id": "21385b63-d0ed-4f49-b3c1-2d158945fb4c",
   "metadata": {},
   "outputs": [
    {
     "data": {
      "text/plain": [
       "19200"
      ]
     },
     "execution_count": 12,
     "metadata": {},
     "output_type": "execute_result"
    }
   ],
   "source": [
    "length(data)"
   ]
  },
  {
   "cell_type": "markdown",
   "id": "0695a2d5-e88a-4e87-bf6d-58a7265a27c6",
   "metadata": {},
   "source": [
    "The problem with what we have done so far is that the header (the column titles) was read\n",
    "as part of the data. Fortunately, we can pass the header=true argument to let Julia put the\n",
    "first line in a separate array."
   ]
  },
  {
   "cell_type": "code",
   "execution_count": 14,
   "id": "74e1cfdb-bc66-41b2-b789-8c53e4caf4ff",
   "metadata": {},
   "outputs": [
    {
     "data": {
      "text/plain": [
       "([7.4 0.7 … 9.4 5.0; 7.8 0.88 … 9.8 5.0; … ; 5.9 0.645 … 10.2 5.0; 6.0 0.31 … 11.0 6.0], AbstractString[\"fixed acidity;\\\"volatile acidity\\\";\\\"citric acid\\\";\\\"residual sugar\\\";\\\"chlorides\\\";\\\"free sulfur dioxide\\\";\\\"total sulfur dioxide\\\";\\\"density\\\";\\\"pH\\\";\\\"sulphates\\\";\\\"alcohol\\\";\\\"quality\\\"\" \"\" … \"\" \"\"])"
      ]
     },
     "execution_count": 14,
     "metadata": {},
     "output_type": "execute_result"
    }
   ],
   "source": [
    "data, header = DelimitedFiles.readdlm(file_path, ';', header=true)"
   ]
  },
  {
   "cell_type": "code",
   "execution_count": 20,
   "id": "56d040ab-925a-4440-a850-0aba25f65fa0",
   "metadata": {},
   "outputs": [
    {
     "data": {
      "text/plain": [
       "\"fixed acidity;\\\"volatile acidity\\\";\\\"citric acid\\\";\\\"residual sugar\\\";\\\"chlorides\\\";\\\"free sulfur dioxide\\\";\\\"total sulfur dioxide\\\";\\\"density\\\";\\\"pH\\\";\\\"sulphates\\\";\\\"alcohol\\\";\\\"quality\\\"\""
      ]
     },
     "execution_count": 20,
     "metadata": {},
     "output_type": "execute_result"
    }
   ],
   "source": [
    "header[1]"
   ]
  },
  {
   "cell_type": "code",
   "execution_count": 23,
   "id": "e9ab03c5-1b03-4e91-b232-a7fa4a063d0a",
   "metadata": {},
   "outputs": [
    {
     "data": {
      "text/plain": [
       "\"fixed acidity;\\\"volatile acidity\\\";\\\"citric acid\\\";\\\"residual sugar\\\";\\\"chlorides\\\";\\\"free sulfur dioxide\\\";\\\"total sulfur dioxide\\\";\\\"density\\\";\\\"pH\\\";\\\"sulphates\\\";\\\"alcohol\\\";\\\"quality\\\"\""
      ]
     },
     "execution_count": 23,
     "metadata": {},
     "output_type": "execute_result"
    }
   ],
   "source": [
    "header[1]"
   ]
  },
  {
   "cell_type": "markdown",
   "id": "1e914093-0398-4253-a94b-51b18640da4f",
   "metadata": {},
   "source": [
    "It then naturally gets the correct datatype, Float64, for the\n",
    "data array. We can also specify the type explicitly, such as this:"
   ]
  },
  {
   "cell_type": "code",
   "execution_count": 24,
   "id": "91748748-f7fc-4baf-b8c1-b7fec3a23b18",
   "metadata": {},
   "outputs": [
    {
     "data": {
      "text/html": [
       "# 6 methods for generic function <b>readdlm</b>:<ul><li> readdlm(input; <i>opts...</i>) in DelimitedFiles at <a href=\"file:///buildworker/worker/package_linux64/build/usr/share/julia/stdlib/v1.7/DelimitedFiles/src/DelimitedFiles.jl\" target=\"_blank\">/opt/julia-1.7.1/share/julia/stdlib/v1.7/DelimitedFiles/src/DelimitedFiles.jl:118</a></li> <li> readdlm(input, T::<b>Type</b>; <i>opts...</i>) in DelimitedFiles at <a href=\"file:///buildworker/worker/package_linux64/build/usr/share/julia/stdlib/v1.7/DelimitedFiles/src/DelimitedFiles.jl\" target=\"_blank\">/opt/julia-1.7.1/share/julia/stdlib/v1.7/DelimitedFiles/src/DelimitedFiles.jl:57</a></li> <li> readdlm(input, dlm::<b>AbstractChar</b>; <i>opts...</i>) in DelimitedFiles at <a href=\"file:///buildworker/worker/package_linux64/build/usr/share/julia/stdlib/v1.7/DelimitedFiles/src/DelimitedFiles.jl\" target=\"_blank\">/opt/julia-1.7.1/share/julia/stdlib/v1.7/DelimitedFiles/src/DelimitedFiles.jl:162</a></li> <li> readdlm(input, dlm::<b>AbstractChar</b>, T::<b>Type</b>; <i>opts...</i>) in DelimitedFiles at <a href=\"file:///buildworker/worker/package_linux64/build/usr/share/julia/stdlib/v1.7/DelimitedFiles/src/DelimitedFiles.jl\" target=\"_blank\">/opt/julia-1.7.1/share/julia/stdlib/v1.7/DelimitedFiles/src/DelimitedFiles.jl:86</a></li> <li> readdlm(input, dlm::<b>AbstractChar</b>, eol::<b>AbstractChar</b>; <i>opts...</i>) in DelimitedFiles at <a href=\"file:///buildworker/worker/package_linux64/build/usr/share/julia/stdlib/v1.7/DelimitedFiles/src/DelimitedFiles.jl\" target=\"_blank\">/opt/julia-1.7.1/share/julia/stdlib/v1.7/DelimitedFiles/src/DelimitedFiles.jl:170</a></li> <li> readdlm(input, dlm::<b>AbstractChar</b>, T::<b>Type</b>, eol::<b>AbstractChar</b>; <i>opts...</i>) in DelimitedFiles at <a href=\"file:///buildworker/worker/package_linux64/build/usr/share/julia/stdlib/v1.7/DelimitedFiles/src/DelimitedFiles.jl\" target=\"_blank\">/opt/julia-1.7.1/share/julia/stdlib/v1.7/DelimitedFiles/src/DelimitedFiles.jl:226</a></li> </ul>"
      ],
      "text/plain": [
       "# 6 methods for generic function \"readdlm\":\n",
       "[1] readdlm(input; opts...) in DelimitedFiles at /opt/julia-1.7.1/share/julia/stdlib/v1.7/DelimitedFiles/src/DelimitedFiles.jl:118\n",
       "[2] readdlm(input, T::Type; opts...) in DelimitedFiles at /opt/julia-1.7.1/share/julia/stdlib/v1.7/DelimitedFiles/src/DelimitedFiles.jl:57\n",
       "[3] readdlm(input, dlm::AbstractChar; opts...) in DelimitedFiles at /opt/julia-1.7.1/share/julia/stdlib/v1.7/DelimitedFiles/src/DelimitedFiles.jl:162\n",
       "[4] readdlm(input, dlm::AbstractChar, T::Type; opts...) in DelimitedFiles at /opt/julia-1.7.1/share/julia/stdlib/v1.7/DelimitedFiles/src/DelimitedFiles.jl:86\n",
       "[5] readdlm(input, dlm::AbstractChar, eol::AbstractChar; opts...) in DelimitedFiles at /opt/julia-1.7.1/share/julia/stdlib/v1.7/DelimitedFiles/src/DelimitedFiles.jl:170\n",
       "[6] readdlm(input, dlm::AbstractChar, T::Type, eol::AbstractChar; opts...) in DelimitedFiles at /opt/julia-1.7.1/share/julia/stdlib/v1.7/DelimitedFiles/src/DelimitedFiles.jl:226"
      ]
     },
     "execution_count": 24,
     "metadata": {},
     "output_type": "execute_result"
    }
   ],
   "source": [
    "methods(DelimitedFiles.readdlm)"
   ]
  },
  {
   "cell_type": "code",
   "execution_count": 28,
   "id": "8bfe7a4d-25d9-4b71-9e97-e8fb4047c991",
   "metadata": {},
   "outputs": [
    {
     "data": {
      "text/plain": [
       "([7.4 0.7 … 9.4 5.0; 7.8 0.88 … 9.8 5.0; … ; 5.9 0.645 … 10.2 5.0; 6.0 0.31 … 11.0 6.0], AbstractString[\"fixed acidity;\\\"volatile acidity\\\";\\\"citric acid\\\";\\\"residual sugar\\\";\\\"chlorides\\\";\\\"free sulfur dioxide\\\";\\\"total sulfur dioxide\\\";\\\"density\\\";\\\"pH\\\";\\\"sulphates\\\";\\\"alcohol\\\";\\\"quality\\\"\" \"\" … \"\" \"\"])"
      ]
     },
     "execution_count": 28,
     "metadata": {},
     "output_type": "execute_result"
    }
   ],
   "source": [
    "data,header = DelimitedFiles.readdlm(file_path, ';',Float64, '\\n' , header=true)"
   ]
  },
  {
   "cell_type": "code",
   "execution_count": 34,
   "id": "6fa33426-230f-4ef5-82be-ac22b2965fcd",
   "metadata": {},
   "outputs": [
    {
     "data": {
      "text/latex": [
       "\\begin{verbatim}\n",
       "readdlm(source, T::Type; options...)\n",
       "\\end{verbatim}\n",
       "The columns are assumed to be separated by one or more whitespaces. The end of line delimiter is taken as \\texttt{{\\textbackslash}n}.\n",
       "\n",
       "\\section{Examples}\n",
       "\\begin{verbatim}\n",
       "julia> using DelimitedFiles\n",
       "\n",
       "julia> x = [1; 2; 3; 4];\n",
       "\n",
       "julia> y = [5; 6; 7; 8];\n",
       "\n",
       "julia> open(\"delim_file.txt\", \"w\") do io\n",
       "           writedlm(io, [x y])\n",
       "       end;\n",
       "\n",
       "julia> readdlm(\"delim_file.txt\", Int64)\n",
       "4×2 Matrix{Int64}:\n",
       " 1  5\n",
       " 2  6\n",
       " 3  7\n",
       " 4  8\n",
       "\n",
       "julia> readdlm(\"delim_file.txt\", Float64)\n",
       "4×2 Matrix{Float64}:\n",
       " 1.0  5.0\n",
       " 2.0  6.0\n",
       " 3.0  7.0\n",
       " 4.0  8.0\n",
       "\n",
       "julia> rm(\"delim_file.txt\")\n",
       "\\end{verbatim}\n",
       "\\rule{\\textwidth}{1pt}\n",
       "\\begin{verbatim}\n",
       "readdlm(source, delim::AbstractChar, T::Type; options...)\n",
       "\\end{verbatim}\n",
       "The end of line delimiter is taken as \\texttt{{\\textbackslash}n}.\n",
       "\n",
       "\\section{Examples}\n",
       "\\begin{verbatim}\n",
       "julia> using DelimitedFiles\n",
       "\n",
       "julia> x = [1; 2; 3; 4];\n",
       "\n",
       "julia> y = [1.1; 2.2; 3.3; 4.4];\n",
       "\n",
       "julia> open(\"delim_file.txt\", \"w\") do io\n",
       "           writedlm(io, [x y], ',')\n",
       "       end;\n",
       "\n",
       "julia> readdlm(\"delim_file.txt\", ',', Float64)\n",
       "4×2 Matrix{Float64}:\n",
       " 1.0  1.1\n",
       " 2.0  2.2\n",
       " 3.0  3.3\n",
       " 4.0  4.4\n",
       "\n",
       "julia> rm(\"delim_file.txt\")\n",
       "\\end{verbatim}\n",
       "\\rule{\\textwidth}{1pt}\n",
       "\\begin{verbatim}\n",
       "readdlm(source; options...)\n",
       "\\end{verbatim}\n",
       "The columns are assumed to be separated by one or more whitespaces. The end of line delimiter is taken as \\texttt{{\\textbackslash}n}. If all data is numeric, the result will be a numeric array. If some elements cannot be parsed as numbers, a heterogeneous array of numbers and strings is returned.\n",
       "\n",
       "\\section{Examples}\n",
       "\\begin{verbatim}\n",
       "julia> using DelimitedFiles\n",
       "\n",
       "julia> x = [1; 2; 3; 4];\n",
       "\n",
       "julia> y = [\"a\"; \"b\"; \"c\"; \"d\"];\n",
       "\n",
       "julia> open(\"delim_file.txt\", \"w\") do io\n",
       "           writedlm(io, [x y])\n",
       "       end;\n",
       "\n",
       "julia> readdlm(\"delim_file.txt\")\n",
       "4×2 Matrix{Any}:\n",
       " 1  \"a\"\n",
       " 2  \"b\"\n",
       " 3  \"c\"\n",
       " 4  \"d\"\n",
       "\n",
       "julia> rm(\"delim_file.txt\")\n",
       "\\end{verbatim}\n",
       "\\rule{\\textwidth}{1pt}\n",
       "\\begin{verbatim}\n",
       "readdlm(source, delim::AbstractChar; options...)\n",
       "\\end{verbatim}\n",
       "The end of line delimiter is taken as \\texttt{{\\textbackslash}n}. If all data is numeric, the result will be a numeric array. If some elements cannot be parsed as numbers, a heterogeneous array of numbers and strings is returned.\n",
       "\n",
       "\\section{Examples}\n",
       "\\begin{verbatim}\n",
       "julia> using DelimitedFiles\n",
       "\n",
       "julia> x = [1; 2; 3; 4];\n",
       "\n",
       "julia> y = [1.1; 2.2; 3.3; 4.4];\n",
       "\n",
       "julia> open(\"delim_file.txt\", \"w\") do io\n",
       "           writedlm(io, [x y], ',')\n",
       "       end;\n",
       "\n",
       "julia> readdlm(\"delim_file.txt\", ',')\n",
       "4×2 Matrix{Float64}:\n",
       " 1.0  1.1\n",
       " 2.0  2.2\n",
       " 3.0  3.3\n",
       " 4.0  4.4\n",
       "\n",
       "julia> z = [\"a\"; \"b\"; \"c\"; \"d\"];\n",
       "\n",
       "julia> open(\"delim_file.txt\", \"w\") do io\n",
       "           writedlm(io, [x z], ',')\n",
       "       end;\n",
       "\n",
       "julia> readdlm(\"delim_file.txt\", ',')\n",
       "4×2 Matrix{Any}:\n",
       " 1  \"a\"\n",
       " 2  \"b\"\n",
       " 3  \"c\"\n",
       " 4  \"d\"\n",
       "\n",
       "julia> rm(\"delim_file.txt\")\n",
       "\\end{verbatim}\n",
       "\\rule{\\textwidth}{1pt}\n",
       "\\begin{verbatim}\n",
       "readdlm(source, delim::AbstractChar, eol::AbstractChar; options...)\n",
       "\\end{verbatim}\n",
       "If all data is numeric, the result will be a numeric array. If some elements cannot be parsed as numbers, a heterogeneous array of numbers and strings is returned.\n",
       "\n",
       "\\rule{\\textwidth}{1pt}\n",
       "\\begin{verbatim}\n",
       "readdlm(source, delim::AbstractChar, T::Type, eol::AbstractChar; header=false, skipstart=0, skipblanks=true, use_mmap, quotes=true, dims, comments=false, comment_char='#')\n",
       "\\end{verbatim}\n",
       "Read a matrix from the source where each line (separated by \\texttt{eol}) gives one row, with elements separated by the given delimiter. The source can be a text file, stream or byte array. Memory mapped files can be used by passing the byte array representation of the mapped segment as source.\n",
       "\n",
       "If \\texttt{T} is a numeric type, the result is an array of that type, with any non-numeric elements as \\texttt{NaN} for floating-point types, or zero. Other useful values of \\texttt{T} include \\texttt{String}, \\texttt{AbstractString}, and \\texttt{Any}.\n",
       "\n",
       "If \\texttt{header} is \\texttt{true}, the first row of data will be read as header and the tuple \\texttt{(data\\_cells, header\\_cells)} is returned instead of only \\texttt{data\\_cells}.\n",
       "\n",
       "Specifying \\texttt{skipstart} will ignore the corresponding number of initial lines from the input.\n",
       "\n",
       "If \\texttt{skipblanks} is \\texttt{true}, blank lines in the input will be ignored.\n",
       "\n",
       "If \\texttt{use\\_mmap} is \\texttt{true}, the file specified by \\texttt{source} is memory mapped for potential speedups if the file is large. Default is \\texttt{false'. On a Windows filesystem,}use\\_mmap\\texttt{should not be set to}true` unless the file is only read once and is also not written to. Some edge cases exist where an OS is Unix-like but the filesystem is Windows-like.\n",
       "\n",
       "If \\texttt{quotes} is \\texttt{true}, columns enclosed within double-quote (\") characters are allowed to contain new lines and column delimiters. Double-quote characters within a quoted field must be escaped with another double-quote.  Specifying \\texttt{dims} as a tuple of the expected rows and columns (including header, if any) may speed up reading of large files.  If \\texttt{comments} is \\texttt{true}, lines beginning with \\texttt{comment\\_char} and text following \\texttt{comment\\_char} in any line are ignored.\n",
       "\n",
       "\\section{Examples}\n",
       "\\begin{verbatim}\n",
       "julia> using DelimitedFiles\n",
       "\n",
       "julia> x = [1; 2; 3; 4];\n",
       "\n",
       "julia> y = [5; 6; 7; 8];\n",
       "\n",
       "julia> open(\"delim_file.txt\", \"w\") do io\n",
       "           writedlm(io, [x y])\n",
       "       end\n",
       "\n",
       "julia> readdlm(\"delim_file.txt\", '\\t', Int, '\\n')\n",
       "4×2 Matrix{Int64}:\n",
       " 1  5\n",
       " 2  6\n",
       " 3  7\n",
       " 4  8\n",
       "\n",
       "julia> rm(\"delim_file.txt\")\n",
       "\\end{verbatim}\n"
      ],
      "text/markdown": [
       "```\n",
       "readdlm(source, T::Type; options...)\n",
       "```\n",
       "\n",
       "The columns are assumed to be separated by one or more whitespaces. The end of line delimiter is taken as `\\n`.\n",
       "\n",
       "# Examples\n",
       "\n",
       "```jldoctest\n",
       "julia> using DelimitedFiles\n",
       "\n",
       "julia> x = [1; 2; 3; 4];\n",
       "\n",
       "julia> y = [5; 6; 7; 8];\n",
       "\n",
       "julia> open(\"delim_file.txt\", \"w\") do io\n",
       "           writedlm(io, [x y])\n",
       "       end;\n",
       "\n",
       "julia> readdlm(\"delim_file.txt\", Int64)\n",
       "4×2 Matrix{Int64}:\n",
       " 1  5\n",
       " 2  6\n",
       " 3  7\n",
       " 4  8\n",
       "\n",
       "julia> readdlm(\"delim_file.txt\", Float64)\n",
       "4×2 Matrix{Float64}:\n",
       " 1.0  5.0\n",
       " 2.0  6.0\n",
       " 3.0  7.0\n",
       " 4.0  8.0\n",
       "\n",
       "julia> rm(\"delim_file.txt\")\n",
       "```\n",
       "\n",
       "---\n",
       "\n",
       "```\n",
       "readdlm(source, delim::AbstractChar, T::Type; options...)\n",
       "```\n",
       "\n",
       "The end of line delimiter is taken as `\\n`.\n",
       "\n",
       "# Examples\n",
       "\n",
       "```jldoctest\n",
       "julia> using DelimitedFiles\n",
       "\n",
       "julia> x = [1; 2; 3; 4];\n",
       "\n",
       "julia> y = [1.1; 2.2; 3.3; 4.4];\n",
       "\n",
       "julia> open(\"delim_file.txt\", \"w\") do io\n",
       "           writedlm(io, [x y], ',')\n",
       "       end;\n",
       "\n",
       "julia> readdlm(\"delim_file.txt\", ',', Float64)\n",
       "4×2 Matrix{Float64}:\n",
       " 1.0  1.1\n",
       " 2.0  2.2\n",
       " 3.0  3.3\n",
       " 4.0  4.4\n",
       "\n",
       "julia> rm(\"delim_file.txt\")\n",
       "```\n",
       "\n",
       "---\n",
       "\n",
       "```\n",
       "readdlm(source; options...)\n",
       "```\n",
       "\n",
       "The columns are assumed to be separated by one or more whitespaces. The end of line delimiter is taken as `\\n`. If all data is numeric, the result will be a numeric array. If some elements cannot be parsed as numbers, a heterogeneous array of numbers and strings is returned.\n",
       "\n",
       "# Examples\n",
       "\n",
       "```jldoctest\n",
       "julia> using DelimitedFiles\n",
       "\n",
       "julia> x = [1; 2; 3; 4];\n",
       "\n",
       "julia> y = [\"a\"; \"b\"; \"c\"; \"d\"];\n",
       "\n",
       "julia> open(\"delim_file.txt\", \"w\") do io\n",
       "           writedlm(io, [x y])\n",
       "       end;\n",
       "\n",
       "julia> readdlm(\"delim_file.txt\")\n",
       "4×2 Matrix{Any}:\n",
       " 1  \"a\"\n",
       " 2  \"b\"\n",
       " 3  \"c\"\n",
       " 4  \"d\"\n",
       "\n",
       "julia> rm(\"delim_file.txt\")\n",
       "```\n",
       "\n",
       "---\n",
       "\n",
       "```\n",
       "readdlm(source, delim::AbstractChar; options...)\n",
       "```\n",
       "\n",
       "The end of line delimiter is taken as `\\n`. If all data is numeric, the result will be a numeric array. If some elements cannot be parsed as numbers, a heterogeneous array of numbers and strings is returned.\n",
       "\n",
       "# Examples\n",
       "\n",
       "```jldoctest\n",
       "julia> using DelimitedFiles\n",
       "\n",
       "julia> x = [1; 2; 3; 4];\n",
       "\n",
       "julia> y = [1.1; 2.2; 3.3; 4.4];\n",
       "\n",
       "julia> open(\"delim_file.txt\", \"w\") do io\n",
       "           writedlm(io, [x y], ',')\n",
       "       end;\n",
       "\n",
       "julia> readdlm(\"delim_file.txt\", ',')\n",
       "4×2 Matrix{Float64}:\n",
       " 1.0  1.1\n",
       " 2.0  2.2\n",
       " 3.0  3.3\n",
       " 4.0  4.4\n",
       "\n",
       "julia> z = [\"a\"; \"b\"; \"c\"; \"d\"];\n",
       "\n",
       "julia> open(\"delim_file.txt\", \"w\") do io\n",
       "           writedlm(io, [x z], ',')\n",
       "       end;\n",
       "\n",
       "julia> readdlm(\"delim_file.txt\", ',')\n",
       "4×2 Matrix{Any}:\n",
       " 1  \"a\"\n",
       " 2  \"b\"\n",
       " 3  \"c\"\n",
       " 4  \"d\"\n",
       "\n",
       "julia> rm(\"delim_file.txt\")\n",
       "```\n",
       "\n",
       "---\n",
       "\n",
       "```\n",
       "readdlm(source, delim::AbstractChar, eol::AbstractChar; options...)\n",
       "```\n",
       "\n",
       "If all data is numeric, the result will be a numeric array. If some elements cannot be parsed as numbers, a heterogeneous array of numbers and strings is returned.\n",
       "\n",
       "---\n",
       "\n",
       "```\n",
       "readdlm(source, delim::AbstractChar, T::Type, eol::AbstractChar; header=false, skipstart=0, skipblanks=true, use_mmap, quotes=true, dims, comments=false, comment_char='#')\n",
       "```\n",
       "\n",
       "Read a matrix from the source where each line (separated by `eol`) gives one row, with elements separated by the given delimiter. The source can be a text file, stream or byte array. Memory mapped files can be used by passing the byte array representation of the mapped segment as source.\n",
       "\n",
       "If `T` is a numeric type, the result is an array of that type, with any non-numeric elements as `NaN` for floating-point types, or zero. Other useful values of `T` include `String`, `AbstractString`, and `Any`.\n",
       "\n",
       "If `header` is `true`, the first row of data will be read as header and the tuple `(data_cells, header_cells)` is returned instead of only `data_cells`.\n",
       "\n",
       "Specifying `skipstart` will ignore the corresponding number of initial lines from the input.\n",
       "\n",
       "If `skipblanks` is `true`, blank lines in the input will be ignored.\n",
       "\n",
       "If `use_mmap` is `true`, the file specified by `source` is memory mapped for potential speedups if the file is large. Default is `false'. On a Windows filesystem,`use_mmap`should not be set to`true` unless the file is only read once and is also not written to. Some edge cases exist where an OS is Unix-like but the filesystem is Windows-like.\n",
       "\n",
       "If `quotes` is `true`, columns enclosed within double-quote (\") characters are allowed to contain new lines and column delimiters. Double-quote characters within a quoted field must be escaped with another double-quote.  Specifying `dims` as a tuple of the expected rows and columns (including header, if any) may speed up reading of large files.  If `comments` is `true`, lines beginning with `comment_char` and text following `comment_char` in any line are ignored.\n",
       "\n",
       "# Examples\n",
       "\n",
       "```jldoctest\n",
       "julia> using DelimitedFiles\n",
       "\n",
       "julia> x = [1; 2; 3; 4];\n",
       "\n",
       "julia> y = [5; 6; 7; 8];\n",
       "\n",
       "julia> open(\"delim_file.txt\", \"w\") do io\n",
       "           writedlm(io, [x y])\n",
       "       end\n",
       "\n",
       "julia> readdlm(\"delim_file.txt\", '\\t', Int, '\\n')\n",
       "4×2 Matrix{Int64}:\n",
       " 1  5\n",
       " 2  6\n",
       " 3  7\n",
       " 4  8\n",
       "\n",
       "julia> rm(\"delim_file.txt\")\n",
       "```\n"
      ],
      "text/plain": [
       "\u001b[36m  readdlm(source, T::Type; options...)\u001b[39m\n",
       "\n",
       "  The columns are assumed to be separated by one or more whitespaces. The end of line delimiter is taken as \u001b[36m\\n\u001b[39m.\n",
       "\n",
       "\u001b[1m  Examples\u001b[22m\n",
       "\u001b[1m  ≡≡≡≡≡≡≡≡≡≡\u001b[22m\n",
       "\n",
       "\u001b[36m  julia> using DelimitedFiles\u001b[39m\n",
       "\u001b[36m  \u001b[39m\n",
       "\u001b[36m  julia> x = [1; 2; 3; 4];\u001b[39m\n",
       "\u001b[36m  \u001b[39m\n",
       "\u001b[36m  julia> y = [5; 6; 7; 8];\u001b[39m\n",
       "\u001b[36m  \u001b[39m\n",
       "\u001b[36m  julia> open(\"delim_file.txt\", \"w\") do io\u001b[39m\n",
       "\u001b[36m             writedlm(io, [x y])\u001b[39m\n",
       "\u001b[36m         end;\u001b[39m\n",
       "\u001b[36m  \u001b[39m\n",
       "\u001b[36m  julia> readdlm(\"delim_file.txt\", Int64)\u001b[39m\n",
       "\u001b[36m  4×2 Matrix{Int64}:\u001b[39m\n",
       "\u001b[36m   1  5\u001b[39m\n",
       "\u001b[36m   2  6\u001b[39m\n",
       "\u001b[36m   3  7\u001b[39m\n",
       "\u001b[36m   4  8\u001b[39m\n",
       "\u001b[36m  \u001b[39m\n",
       "\u001b[36m  julia> readdlm(\"delim_file.txt\", Float64)\u001b[39m\n",
       "\u001b[36m  4×2 Matrix{Float64}:\u001b[39m\n",
       "\u001b[36m   1.0  5.0\u001b[39m\n",
       "\u001b[36m   2.0  6.0\u001b[39m\n",
       "\u001b[36m   3.0  7.0\u001b[39m\n",
       "\u001b[36m   4.0  8.0\u001b[39m\n",
       "\u001b[36m  \u001b[39m\n",
       "\u001b[36m  julia> rm(\"delim_file.txt\")\u001b[39m\n",
       "\n",
       "  ───────────────────────────────────────────────────────────────────────────────────────────────────────────────────────────\n",
       "\n",
       "\u001b[36m  readdlm(source, delim::AbstractChar, T::Type; options...)\u001b[39m\n",
       "\n",
       "  The end of line delimiter is taken as \u001b[36m\\n\u001b[39m.\n",
       "\n",
       "\u001b[1m  Examples\u001b[22m\n",
       "\u001b[1m  ≡≡≡≡≡≡≡≡≡≡\u001b[22m\n",
       "\n",
       "\u001b[36m  julia> using DelimitedFiles\u001b[39m\n",
       "\u001b[36m  \u001b[39m\n",
       "\u001b[36m  julia> x = [1; 2; 3; 4];\u001b[39m\n",
       "\u001b[36m  \u001b[39m\n",
       "\u001b[36m  julia> y = [1.1; 2.2; 3.3; 4.4];\u001b[39m\n",
       "\u001b[36m  \u001b[39m\n",
       "\u001b[36m  julia> open(\"delim_file.txt\", \"w\") do io\u001b[39m\n",
       "\u001b[36m             writedlm(io, [x y], ',')\u001b[39m\n",
       "\u001b[36m         end;\u001b[39m\n",
       "\u001b[36m  \u001b[39m\n",
       "\u001b[36m  julia> readdlm(\"delim_file.txt\", ',', Float64)\u001b[39m\n",
       "\u001b[36m  4×2 Matrix{Float64}:\u001b[39m\n",
       "\u001b[36m   1.0  1.1\u001b[39m\n",
       "\u001b[36m   2.0  2.2\u001b[39m\n",
       "\u001b[36m   3.0  3.3\u001b[39m\n",
       "\u001b[36m   4.0  4.4\u001b[39m\n",
       "\u001b[36m  \u001b[39m\n",
       "\u001b[36m  julia> rm(\"delim_file.txt\")\u001b[39m\n",
       "\n",
       "  ───────────────────────────────────────────────────────────────────────────────────────────────────────────────────────────\n",
       "\n",
       "\u001b[36m  readdlm(source; options...)\u001b[39m\n",
       "\n",
       "  The columns are assumed to be separated by one or more whitespaces. The end of line delimiter is taken as \u001b[36m\\n\u001b[39m. If all data\n",
       "  is numeric, the result will be a numeric array. If some elements cannot be parsed as numbers, a heterogeneous array of\n",
       "  numbers and strings is returned.\n",
       "\n",
       "\u001b[1m  Examples\u001b[22m\n",
       "\u001b[1m  ≡≡≡≡≡≡≡≡≡≡\u001b[22m\n",
       "\n",
       "\u001b[36m  julia> using DelimitedFiles\u001b[39m\n",
       "\u001b[36m  \u001b[39m\n",
       "\u001b[36m  julia> x = [1; 2; 3; 4];\u001b[39m\n",
       "\u001b[36m  \u001b[39m\n",
       "\u001b[36m  julia> y = [\"a\"; \"b\"; \"c\"; \"d\"];\u001b[39m\n",
       "\u001b[36m  \u001b[39m\n",
       "\u001b[36m  julia> open(\"delim_file.txt\", \"w\") do io\u001b[39m\n",
       "\u001b[36m             writedlm(io, [x y])\u001b[39m\n",
       "\u001b[36m         end;\u001b[39m\n",
       "\u001b[36m  \u001b[39m\n",
       "\u001b[36m  julia> readdlm(\"delim_file.txt\")\u001b[39m\n",
       "\u001b[36m  4×2 Matrix{Any}:\u001b[39m\n",
       "\u001b[36m   1  \"a\"\u001b[39m\n",
       "\u001b[36m   2  \"b\"\u001b[39m\n",
       "\u001b[36m   3  \"c\"\u001b[39m\n",
       "\u001b[36m   4  \"d\"\u001b[39m\n",
       "\u001b[36m  \u001b[39m\n",
       "\u001b[36m  julia> rm(\"delim_file.txt\")\u001b[39m\n",
       "\n",
       "  ───────────────────────────────────────────────────────────────────────────────────────────────────────────────────────────\n",
       "\n",
       "\u001b[36m  readdlm(source, delim::AbstractChar; options...)\u001b[39m\n",
       "\n",
       "  The end of line delimiter is taken as \u001b[36m\\n\u001b[39m. If all data is numeric, the result will be a numeric array. If some elements\n",
       "  cannot be parsed as numbers, a heterogeneous array of numbers and strings is returned.\n",
       "\n",
       "\u001b[1m  Examples\u001b[22m\n",
       "\u001b[1m  ≡≡≡≡≡≡≡≡≡≡\u001b[22m\n",
       "\n",
       "\u001b[36m  julia> using DelimitedFiles\u001b[39m\n",
       "\u001b[36m  \u001b[39m\n",
       "\u001b[36m  julia> x = [1; 2; 3; 4];\u001b[39m\n",
       "\u001b[36m  \u001b[39m\n",
       "\u001b[36m  julia> y = [1.1; 2.2; 3.3; 4.4];\u001b[39m\n",
       "\u001b[36m  \u001b[39m\n",
       "\u001b[36m  julia> open(\"delim_file.txt\", \"w\") do io\u001b[39m\n",
       "\u001b[36m             writedlm(io, [x y], ',')\u001b[39m\n",
       "\u001b[36m         end;\u001b[39m\n",
       "\u001b[36m  \u001b[39m\n",
       "\u001b[36m  julia> readdlm(\"delim_file.txt\", ',')\u001b[39m\n",
       "\u001b[36m  4×2 Matrix{Float64}:\u001b[39m\n",
       "\u001b[36m   1.0  1.1\u001b[39m\n",
       "\u001b[36m   2.0  2.2\u001b[39m\n",
       "\u001b[36m   3.0  3.3\u001b[39m\n",
       "\u001b[36m   4.0  4.4\u001b[39m\n",
       "\u001b[36m  \u001b[39m\n",
       "\u001b[36m  julia> z = [\"a\"; \"b\"; \"c\"; \"d\"];\u001b[39m\n",
       "\u001b[36m  \u001b[39m\n",
       "\u001b[36m  julia> open(\"delim_file.txt\", \"w\") do io\u001b[39m\n",
       "\u001b[36m             writedlm(io, [x z], ',')\u001b[39m\n",
       "\u001b[36m         end;\u001b[39m\n",
       "\u001b[36m  \u001b[39m\n",
       "\u001b[36m  julia> readdlm(\"delim_file.txt\", ',')\u001b[39m\n",
       "\u001b[36m  4×2 Matrix{Any}:\u001b[39m\n",
       "\u001b[36m   1  \"a\"\u001b[39m\n",
       "\u001b[36m   2  \"b\"\u001b[39m\n",
       "\u001b[36m   3  \"c\"\u001b[39m\n",
       "\u001b[36m   4  \"d\"\u001b[39m\n",
       "\u001b[36m  \u001b[39m\n",
       "\u001b[36m  julia> rm(\"delim_file.txt\")\u001b[39m\n",
       "\n",
       "  ───────────────────────────────────────────────────────────────────────────────────────────────────────────────────────────\n",
       "\n",
       "\u001b[36m  readdlm(source, delim::AbstractChar, eol::AbstractChar; options...)\u001b[39m\n",
       "\n",
       "  If all data is numeric, the result will be a numeric array. If some elements cannot be parsed as numbers, a heterogeneous\n",
       "  array of numbers and strings is returned.\n",
       "\n",
       "  ───────────────────────────────────────────────────────────────────────────────────────────────────────────────────────────\n",
       "\n",
       "\u001b[36m  readdlm(source, delim::AbstractChar, T::Type, eol::AbstractChar; header=false, skipstart=0, skipblanks=true, use_mmap, quotes=true, dims, comments=false, comment_char='#')\u001b[39m\n",
       "\n",
       "  Read a matrix from the source where each line (separated by \u001b[36meol\u001b[39m) gives one row, with elements separated by the given\n",
       "  delimiter. The source can be a text file, stream or byte array. Memory mapped files can be used by passing the byte array\n",
       "  representation of the mapped segment as source.\n",
       "\n",
       "  If \u001b[36mT\u001b[39m is a numeric type, the result is an array of that type, with any non-numeric elements as \u001b[36mNaN\u001b[39m for floating-point types,\n",
       "  or zero. Other useful values of \u001b[36mT\u001b[39m include \u001b[36mString\u001b[39m, \u001b[36mAbstractString\u001b[39m, and \u001b[36mAny\u001b[39m.\n",
       "\n",
       "  If \u001b[36mheader\u001b[39m is \u001b[36mtrue\u001b[39m, the first row of data will be read as header and the tuple \u001b[36m(data_cells, header_cells)\u001b[39m is returned\n",
       "  instead of only \u001b[36mdata_cells\u001b[39m.\n",
       "\n",
       "  Specifying \u001b[36mskipstart\u001b[39m will ignore the corresponding number of initial lines from the input.\n",
       "\n",
       "  If \u001b[36mskipblanks\u001b[39m is \u001b[36mtrue\u001b[39m, blank lines in the input will be ignored.\n",
       "\n",
       "  If \u001b[36muse_mmap\u001b[39m is \u001b[36mtrue\u001b[39m, the file specified by \u001b[36msource\u001b[39m is memory mapped for potential speedups if the file is large. Default is\n",
       "  \u001b[36mfalse'. On a Windows filesystem,\u001b[39muse_mmap\u001b[36mshould not be set to\u001b[39mtrue` unless the file is only read once and is also not written\n",
       "  to. Some edge cases exist where an OS is Unix-like but the filesystem is Windows-like.\n",
       "\n",
       "  If \u001b[36mquotes\u001b[39m is \u001b[36mtrue\u001b[39m, columns enclosed within double-quote (\") characters are allowed to contain new lines and column\n",
       "  delimiters. Double-quote characters within a quoted field must be escaped with another double-quote. Specifying \u001b[36mdims\u001b[39m as a\n",
       "  tuple of the expected rows and columns (including header, if any) may speed up reading of large files. If \u001b[36mcomments\u001b[39m is \u001b[36mtrue\u001b[39m,\n",
       "  lines beginning with \u001b[36mcomment_char\u001b[39m and text following \u001b[36mcomment_char\u001b[39m in any line are ignored.\n",
       "\n",
       "\u001b[1m  Examples\u001b[22m\n",
       "\u001b[1m  ≡≡≡≡≡≡≡≡≡≡\u001b[22m\n",
       "\n",
       "\u001b[36m  julia> using DelimitedFiles\u001b[39m\n",
       "\u001b[36m  \u001b[39m\n",
       "\u001b[36m  julia> x = [1; 2; 3; 4];\u001b[39m\n",
       "\u001b[36m  \u001b[39m\n",
       "\u001b[36m  julia> y = [5; 6; 7; 8];\u001b[39m\n",
       "\u001b[36m  \u001b[39m\n",
       "\u001b[36m  julia> open(\"delim_file.txt\", \"w\") do io\u001b[39m\n",
       "\u001b[36m             writedlm(io, [x y])\u001b[39m\n",
       "\u001b[36m         end\u001b[39m\n",
       "\u001b[36m  \u001b[39m\n",
       "\u001b[36m  julia> readdlm(\"delim_file.txt\", '\\t', Int, '\\n')\u001b[39m\n",
       "\u001b[36m  4×2 Matrix{Int64}:\u001b[39m\n",
       "\u001b[36m   1  5\u001b[39m\n",
       "\u001b[36m   2  6\u001b[39m\n",
       "\u001b[36m   3  7\u001b[39m\n",
       "\u001b[36m   4  8\u001b[39m\n",
       "\u001b[36m  \u001b[39m\n",
       "\u001b[36m  julia> rm(\"delim_file.txt\")\u001b[39m"
      ]
     },
     "execution_count": 34,
     "metadata": {},
     "output_type": "execute_result"
    }
   ],
   "source": [
    "? DelimitedFiles.readdlm"
   ]
  },
  {
   "cell_type": "markdown",
   "id": "5d3e2be1-afe6-4d84-97df-585d8446cb61",
   "metadata": {},
   "source": [
    "Let's continue working with variable data. The data forms a matrix, and we can get the\n",
    "rows and columns of data using the normal array-matrix syntax (refer to the Matrices\n",
    "section in Chapter 5, Collection Types)."
   ]
  },
  {
   "cell_type": "code",
   "execution_count": 35,
   "id": "09057b0b-4f63-4556-9c19-38c1f6aa4b09",
   "metadata": {},
   "outputs": [
    {
     "data": {
      "text/plain": [
       "12-element Vector{Float64}:\n",
       "  7.8\n",
       "  0.88\n",
       "  0.0\n",
       "  2.6\n",
       "  0.098\n",
       " 25.0\n",
       " 67.0\n",
       "  0.9968\n",
       "  3.2\n",
       "  0.68\n",
       "  9.8\n",
       "  5.0"
      ]
     },
     "execution_count": 35,
     "metadata": {},
     "output_type": "execute_result"
    }
   ],
   "source": [
    "data[2,:]"
   ]
  },
  {
   "cell_type": "code",
   "execution_count": 49,
   "id": "8fa18fd4-70be-4a61-bd18-d79f0399d3b0",
   "metadata": {},
   "outputs": [
    {
     "data": {
      "text/plain": [
       "\"fixed acidity;\\\"volatile acidity\\\";\\\"citric acid\\\";\\\"residual sugar\\\";\\\"chlorides\\\";\\\"free sulfur dioxide\\\";\\\"total sulfur dioxide\\\";\\\"density\\\";\\\"pH\\\";\\\"sulphates\\\";\\\"alcohol\\\";\\\"quality\\\"\""
      ]
     },
     "execution_count": 49,
     "metadata": {},
     "output_type": "execute_result"
    }
   ],
   "source": [
    "header[1]"
   ]
  },
  {
   "cell_type": "code",
   "execution_count": 55,
   "id": "2fd830e8-e3af-49ad-9a7d-68f6e5b6b6bd",
   "metadata": {},
   "outputs": [
    {
     "data": {
      "text/plain": [
       "12-element Vector{SubString{String}}:\n",
       " \"fixed acidity\"\n",
       " \"\\\"volatile acidity\\\"\"\n",
       " \"\\\"citric acid\\\"\"\n",
       " \"\\\"residual sugar\\\"\"\n",
       " \"\\\"chlorides\\\"\"\n",
       " \"\\\"free sulfur dioxide\\\"\"\n",
       " \"\\\"total sulfur dioxide\\\"\"\n",
       " \"\\\"density\\\"\"\n",
       " \"\\\"pH\\\"\"\n",
       " \"\\\"sulphates\\\"\"\n",
       " \"\\\"alcohol\\\"\"\n",
       " \"\\\"quality\\\"\""
      ]
     },
     "execution_count": 55,
     "metadata": {},
     "output_type": "execute_result"
    }
   ],
   "source": [
    "split(header[1],\";\")"
   ]
  },
  {
   "cell_type": "markdown",
   "id": "e5b5265d-c1fd-4257-8178-82fc0e1af38e",
   "metadata": {},
   "source": [
    "To get a matrix with the data from columns 3, 6, and 11, execute the following command:"
   ]
  },
  {
   "cell_type": "code",
   "execution_count": 56,
   "id": "a598f92c-234d-4624-a88f-84bd67d4fab3",
   "metadata": {},
   "outputs": [
    {
     "data": {
      "text/plain": [
       "1599×3 Matrix{Float64}:\n",
       " 0.0   11.0   9.4\n",
       " 0.0   25.0   9.8\n",
       " 0.04  15.0   9.8\n",
       " 0.56  17.0   9.8\n",
       " 0.0   11.0   9.4\n",
       " 0.0   13.0   9.4\n",
       " 0.06  15.0   9.4\n",
       " 0.0   15.0  10.0\n",
       " 0.02   9.0   9.5\n",
       " 0.36  17.0  10.5\n",
       " 0.08  15.0   9.2\n",
       " 0.36  17.0  10.5\n",
       " 0.0   16.0   9.9\n",
       " 0.29   9.0   9.1\n",
       " 0.18  52.0   9.2\n",
       " ⋮           \n",
       " 0.44  24.0  11.6\n",
       " 0.44  22.0  11.5\n",
       " 0.41  34.0  11.4\n",
       " 0.11  18.0  10.9\n",
       " 0.33  34.0  12.8\n",
       " 0.2   29.0   9.2\n",
       " 0.15  26.0  11.6\n",
       " 0.09  16.0  11.6\n",
       " 0.13  29.0  11.0\n",
       " 0.08  28.0   9.5\n",
       " 0.08  32.0  10.5\n",
       " 0.1   39.0  11.2\n",
       " 0.13  29.0  11.0\n",
       " 0.12  32.0  10.2\n",
       " 0.47  18.0  11.0"
      ]
     },
     "execution_count": 56,
     "metadata": {},
     "output_type": "execute_result"
    }
   ],
   "source": [
    "z = [data[:,3] data[:,6] data[:,11]]"
   ]
  },
  {
   "cell_type": "markdown",
   "id": "9efe9ce8-5a72-4fb5-9bb5-317e04af7055",
   "metadata": {},
   "source": [
    "To write to a CSV file, the simplest way is to use the writecsv function for a comma\n",
    "separator, or the writedlm function if you want to specify another separator. For example,\n",
    "to write an array data to a partial.dat file, you need to execute the following command:"
   ]
  },
  {
   "cell_type": "code",
   "execution_count": 57,
   "id": "a591e5ae-ede1-40df-b667-ff48ccb013d2",
   "metadata": {},
   "outputs": [
    {
     "data": {
      "text/plain": [
       "100×100 Matrix{Int64}:\n",
       " 20  35  39   50  11   8   5  99  72  40  74   5  57  44  52  …   9  68  24   87  27   51   42  81   55  71   6  73  93  19\n",
       "  3  18  97    6  90  45  29  56  86  23  97  53  85  96  83     16  11  28   66  42   53   37  77   34   7  32  22  89  50\n",
       " 13  79  22   23  44  78  43  72  43   1  71  54  74  53  15     38  24  39   68  51   46   86  22   61  19  47  90  74  40\n",
       " 23  55  37   92   8  61  21  39  58  28  42  82  70  54  27      1  85  14   88  66   76   35   9   60   5  22  18  73  30\n",
       " 45  84  94   22  77  18  35  27  54  42  33  24  91  46  27      8  82  18   25  85   12   10  72   43  26  61  12  51  13\n",
       " 58  54  78   38  83  57  76  57  55  39  75   1  11  76  28  …  27   4  68   98  98   63   10  38   10  24  67  30   5  48\n",
       " 36  85  28   72  70  83  94  41  30  50  67  53  96  61  75     51  20  71   66  49   19   88  76   25  19  62  58  15  14\n",
       " 78   8  39   93  75  78  86  85  80  48  53  91  74  50   6     69   7  70   85  82   75   70  93   90  67  24  43  82  26\n",
       " 90  79  88   98  46  23  60  49  50  62  34  97  28  47  50     44  82   2   96  55   18   65  69   42  71  29  54  73  65\n",
       " 45  37  56   23  84  84  73  71  71  48  61   5  95   8  49     15  29  25   12  68   27   38  55   46  98  84  20  78   4\n",
       "  9  67  23   99  93  25  74  32  11  77  13  56  71  20  18  …  76  45  70   51  26   33   48  57   50  88  84  79   9  62\n",
       " 18  87  28   85  97  38  12   6   1  81  56  99  80  95  20     46  23  41   20  84   87   60  76   36   6  45  31  82  90\n",
       " 53  68  27   94  31  37  34  48  62  73  74  43  53  78  77      1   4  33    3  12   19   84  35  100  66  97  67  37  60\n",
       " 44  39  43   21  70  88  82  62  50  68  15  35  28  67  40     83  46  53  100  73   56   38  23   61  47  29  98  49  48\n",
       " 12  62  11   30   9  24  68  65   6  88  65  88  68  60  71      3   4  60   69  21    3   51  79   81  33  90  29  75  70\n",
       "  ⋮                    ⋮                   ⋮                  ⋱                    ⋮                      ⋮              \n",
       " 91  94  64  100  54  43  27   1  87  39  61  42  31  75  72  …  50  79  34   68   6   51   81  31   35  40   2  55  27  51\n",
       " 77  84  12   63  36  16  94  78  17  23  81   7  22  82  75     58  37  62   48  64  100    8  58   37  63  54  47  35   7\n",
       "  1  55  92   16  23  79  89  53  57  31  73  64  44  61  74     75  17  35   89  65   87   78  24   78  71   3  59  95  28\n",
       " 35  97  80   93  89  96  16  86  83  68  14  75  85  67  17     14  26  92   97  43   84   46  67   46  61  88   1  70  12\n",
       " 87  87  80   98   9  64  73  88  14  82  74  96  90  93  68     28  25  63   99  10   59   78  40   77   4  28   7  52  33\n",
       " 20  16  74   29  10  43   4  84  89  45   4  96  11  39  86  …  47  71  14   96  53   74  100  16    4  88  14   9  66  87\n",
       " 42  54  53   65   8  43  97  94  40  77  13  80   5  77   8     54  24  46   50  16   59   66  84   87   8  97  53  20  31\n",
       " 27  96  77    5  79  99  90  20  13  91  22  55  48  74  39     81  70  94   95  88   44   89  95    6   7   9  20  13   1\n",
       "  5  45  37   29  36  74  88  87  66  63  93  15  36  70  35     93  33  94   79   1   50   12  10   75  96  11  92  29  79\n",
       " 58  45  75    9  34  38  84  12  38  43  17  88  46   4  62     85  56  83   86  44   59   81  34   61  88  85  25  86  76\n",
       " 71  90  48   73  37  37  19  96  50  33  34  43  72   9  59  …  52  97  57    9  16   91   22  21   98  73  18  39  24  83\n",
       " 59   8   3   84  52  98  48  70  79  46  79  11  69  23  54     78  34   8   41  28   19   98  79   77  51  33  94  64  79\n",
       " 33  23  57   64   9  18  38  38  11   2  31  60  20  60  11     82  42  69   84   6   60   97  14   58  40  19  27  14  98\n",
       " 95  57  91   32  35  55  35  79  27  56  42  32  53   3  57     50  25  11    2  28    5   57  78   48  78   2  91  24  12\n",
       " 32  71  34   33  28  20  61   8   1  39  87   2  48   5  37     46  17  84   10  25   58    2  61   54  46  30  67  83  44"
      ]
     },
     "execution_count": 57,
     "metadata": {},
     "output_type": "execute_result"
    }
   ],
   "source": [
    "data = rand(1:100,(100,100))"
   ]
  },
  {
   "cell_type": "code",
   "execution_count": 58,
   "id": "b548c635-ce22-4378-8b96-ab26a253cffd",
   "metadata": {},
   "outputs": [
    {
     "data": {
      "text/plain": [
       "(100, 100)"
      ]
     },
     "execution_count": 58,
     "metadata": {},
     "output_type": "execute_result"
    }
   ],
   "source": [
    "size(data)"
   ]
  },
  {
   "cell_type": "code",
   "execution_count": 60,
   "id": "e627201b-c938-46e6-98a8-5d479512a9fa",
   "metadata": {},
   "outputs": [],
   "source": [
    "DelimitedFiles.writedlm(\"RandomMatrix.csv\",data,';')"
   ]
  },
  {
   "cell_type": "markdown",
   "id": "1cf4c9ce-3ce8-4174-b1d7-45b6bfaa449b",
   "metadata": {},
   "source": [
    "If more control is necessary, you can easily combine the more basic functions from the\n",
    "previous section. For example, the following code snippet writes 10 tuples of three numbers\n",
    "each to a file:"
   ]
  },
  {
   "cell_type": "code",
   "execution_count": 68,
   "id": "753c6793-46fd-418c-88f8-b885b7b715a7",
   "metadata": {},
   "outputs": [
    {
     "data": {
      "text/plain": [
       "Any[]"
      ]
     },
     "execution_count": 68,
     "metadata": {},
     "output_type": "execute_result"
    }
   ],
   "source": [
    "a = []"
   ]
  },
  {
   "cell_type": "code",
   "execution_count": 73,
   "id": "d4c82337-d7aa-46fe-b45b-aba5c5acfd79",
   "metadata": {},
   "outputs": [
    {
     "data": {
      "text/plain": [
       "4-element Vector{Any}:\n",
       "  [1, 2, 3]\n",
       " 1\n",
       " 2\n",
       " 3"
      ]
     },
     "execution_count": 73,
     "metadata": {},
     "output_type": "execute_result"
    }
   ],
   "source": [
    "push!(a,[1,2,3]...)"
   ]
  },
  {
   "cell_type": "code",
   "execution_count": 74,
   "id": "6d970454-ca49-4feb-a52c-55f0ba03d29b",
   "metadata": {},
   "outputs": [
    {
     "data": {
      "text/plain": [
       "4-element Vector{Any}:\n",
       "  [1, 2, 3]\n",
       " 1\n",
       " 2\n",
       " 3"
      ]
     },
     "execution_count": 74,
     "metadata": {},
     "output_type": "execute_result"
    }
   ],
   "source": [
    "a"
   ]
  },
  {
   "cell_type": "code",
   "execution_count": 66,
   "id": "e9f2fa61-6d49-45db-8491-83d8afe07658",
   "metadata": {},
   "outputs": [],
   "source": [
    ";rm RandomMatrix.csv"
   ]
  },
  {
   "cell_type": "code",
   "execution_count": 126,
   "id": "c62017af-ea0d-402a-ae93-f3ebcaf8b6c2",
   "metadata": {},
   "outputs": [
    {
     "ename": "LoadError",
     "evalue": "MethodError: no method matching open(::String, ::Char)\n\u001b[0mClosest candidates are:\n\u001b[0m  open(::AbstractString; lock, read, write, create, truncate, append) at /opt/julia-1.7.1/share/julia/base/iostream.jl:275\n\u001b[0m  open(::AbstractString, \u001b[91m::AbstractString\u001b[39m; lock) at /opt/julia-1.7.1/share/julia/base/iostream.jl:354\n\u001b[0m  open(\u001b[91m::Function\u001b[39m, ::Any...; kwargs...) at /opt/julia-1.7.1/share/julia/base/io.jl:327",
     "output_type": "error",
     "traceback": [
      "MethodError: no method matching open(::String, ::Char)\n\u001b[0mClosest candidates are:\n\u001b[0m  open(::AbstractString; lock, read, write, create, truncate, append) at /opt/julia-1.7.1/share/julia/base/iostream.jl:275\n\u001b[0m  open(::AbstractString, \u001b[91m::AbstractString\u001b[39m; lock) at /opt/julia-1.7.1/share/julia/base/iostream.jl:354\n\u001b[0m  open(\u001b[91m::Function\u001b[39m, ::Any...; kwargs...) at /opt/julia-1.7.1/share/julia/base/io.jl:327",
      "",
      "Stacktrace:",
      " [1] open(::var\"#89#91\", ::String, ::Vararg{Any}; kwargs::Base.Pairs{Symbol, Union{}, Tuple{}, NamedTuple{(), Tuple{}}})",
      "   @ Base ./io.jl:328",
      " [2] open(::Function, ::String, ::Char)",
      "   @ Base ./io.jl:328",
      " [3] top-level scope",
      "   @ In[126]:1",
      " [4] eval",
      "   @ ./boot.jl:373 [inlined]",
      " [5] include_string(mapexpr::typeof(REPL.softscope), mod::Module, code::String, filename::String)",
      "   @ Base ./loading.jl:1196"
     ]
    }
   ],
   "source": [
    "open(\"RandomMatrix.csv\", 'rw') do file \n",
    "    headers = collect(1:100);\n",
    "    data = rand(1:1000,(100,100));\n",
    "    data_str = [join(headers,\";\")]\n",
    "    push!(data_str,[join(line, \";\") for line in eachcol(data)]...);\n",
    "    #     write(file,data_str)\n",
    "#     write(file, join(data_str,'\\n'))\n",
    "\n",
    "\n",
    "end\n",
    "\n",
    "\n",
    "\n"
   ]
  },
  {
   "cell_type": "markdown",
   "id": "f3818719-bdfc-42b3-8ae8-49ed348ec2a0",
   "metadata": {},
   "source": [
    "# Using DataFrames"
   ]
  },
  {
   "cell_type": "markdown",
   "id": "35034488-936c-473a-97ef-814c3a9f7db0",
   "metadata": {},
   "source": [
    "DataFrame is the most natural representation to work with such a (m x n) table of data."
   ]
  },
  {
   "cell_type": "markdown",
   "id": "4ed690fd-52c6-4904-8ecd-d91aa060195b",
   "metadata": {},
   "source": [
    "They are similar to Pandas DataFrames in Python or data.frame in R. DataFrame is a\n",
    "more specialized tool than a normal array for working with tabular and statistical data, and\n",
    "it is defined in the DataFrames package, a popular Julia library for statistical work"
   ]
  },
  {
   "cell_type": "markdown",
   "id": "e4056ebb-d8b6-45c6-9f19-b81c350b7af1",
   "metadata": {},
   "source": [
    "A common case in statistical data is that data values can be missing (the information is not\n",
    "known). The Missings package provides us with a unique value, missing, which\n",
    "represents a non-existing value, and has the Missing type. The result of the computations\n",
    "that contain the missing values mostly cannot be determined, for example, 42 + missing\n",
    "returns missing."
   ]
  },
  {
   "cell_type": "markdown",
   "id": "3b5a53df-6aed-4b16-81a6-c296d177893c",
   "metadata": {},
   "source": [
    "DataFrame is a kind of in-memory database, versatile in the various ways you can work\n",
    "with data. It consists of columns with names such as Col1, Col2, and Col3. All of these\n",
    "columns are DataArrays that have their own type, and the data they contain can be\n",
    "referred to by the column names as well, so we have substantially more forms of indexing."
   ]
  },
  {
   "cell_type": "markdown",
   "id": "9cfd6fb5-3c2a-44a6-90b3-3c8c42788664",
   "metadata": {},
   "source": [
    "Unlike two-dimensional arrays, columns in DataFrame can be of different types. One\n",
    "column might, for instance, contain the names of students and should therefore be a string.\n",
    "Another column could contain their age and should be an integer."
   ]
  },
  {
   "cell_type": "code",
   "execution_count": 2,
   "id": "9d259e12-18e9-4646-8ca4-fb8ad4606f58",
   "metadata": {},
   "outputs": [],
   "source": [
    "using DataFrames, Missings"
   ]
  },
  {
   "cell_type": "code",
   "execution_count": 9,
   "id": "048bffeb-bad6-4077-8dee-2e48dad4fe68",
   "metadata": {},
   "outputs": [
    {
     "data": {
      "text/html": [
       "<div class=\"data-frame\"><p>0 rows × 0 columns</p><table class=\"data-frame\"><thead><tr><th></th></tr><tr><th></th></tr></thead><tbody></tbody></table></div>"
      ],
      "text/latex": [
       "\\begin{tabular}{r|}\n",
       "\t& \\\\\n",
       "\t\\hline\n",
       "\t& \\\\\n",
       "\t\\hline\n",
       "\\end{tabular}\n"
      ],
      "text/plain": [
       "\u001b[1m0×0 DataFrame\u001b[0m"
      ]
     },
     "execution_count": 9,
     "metadata": {},
     "output_type": "execute_result"
    }
   ],
   "source": [
    "df = DataFrame()"
   ]
  },
  {
   "cell_type": "code",
   "execution_count": 10,
   "id": "03d3bc6b-8b52-4adc-b749-f2a9d07a960c",
   "metadata": {},
   "outputs": [
    {
     "name": "stdout",
     "output_type": "stream",
     "text": [
      "\u001b[1m4×3 DataFrame\u001b[0m\n",
      "\u001b[1m Row \u001b[0m│\u001b[1m Col1  \u001b[0m\u001b[1m Col2     \u001b[0m\u001b[1m Col3  \u001b[0m\n",
      "\u001b[1m     \u001b[0m│\u001b[90m Int64 \u001b[0m\u001b[90m Float64  \u001b[0m\u001b[90m Bool  \u001b[0m\n",
      "─────┼────────────────────────\n",
      "   1 │     1   2.71828   true\n",
      "   2 │     2   3.14159  false\n",
      "   3 │     3   1.41421   true\n",
      "   4 │     4  42.0      false"
     ]
    }
   ],
   "source": [
    "df[!, :Col1] = 1:4\n",
    "df[!, :Col2] = [exp(1), pi, sqrt(2), 42]\n",
    "df[!, :Col3] = [true, false, true, false]\n",
    "show(df)"
   ]
  },
  {
   "cell_type": "code",
   "execution_count": 12,
   "id": "2ef4aaa8-0e06-4e77-9379-c7ac1785e897",
   "metadata": {},
   "outputs": [
    {
     "data": {
      "text/html": [
       "<div class=\"data-frame\"><p>4 rows × 3 columns</p><table class=\"data-frame\"><thead><tr><th></th><th>Col1</th><th>Col2</th><th>Col3</th></tr><tr><th></th><th title=\"Int64\">Int64</th><th title=\"Float64\">Float64</th><th title=\"Bool\">Bool</th></tr></thead><tbody><tr><th>1</th><td>1</td><td>2.71828</td><td>1</td></tr><tr><th>2</th><td>2</td><td>3.14159</td><td>0</td></tr><tr><th>3</th><td>3</td><td>1.41421</td><td>1</td></tr><tr><th>4</th><td>4</td><td>42.0</td><td>0</td></tr></tbody></table></div>"
      ],
      "text/latex": [
       "\\begin{tabular}{r|ccc}\n",
       "\t& Col1 & Col2 & Col3\\\\\n",
       "\t\\hline\n",
       "\t& Int64 & Float64 & Bool\\\\\n",
       "\t\\hline\n",
       "\t1 & 1 & 2.71828 & 1 \\\\\n",
       "\t2 & 2 & 3.14159 & 0 \\\\\n",
       "\t3 & 3 & 1.41421 & 1 \\\\\n",
       "\t4 & 4 & 42.0 & 0 \\\\\n",
       "\\end{tabular}\n"
      ],
      "text/plain": [
       "\u001b[1m4×3 DataFrame\u001b[0m\n",
       "\u001b[1m Row \u001b[0m│\u001b[1m Col1  \u001b[0m\u001b[1m Col2     \u001b[0m\u001b[1m Col3  \u001b[0m\n",
       "\u001b[1m     \u001b[0m│\u001b[90m Int64 \u001b[0m\u001b[90m Float64  \u001b[0m\u001b[90m Bool  \u001b[0m\n",
       "─────┼────────────────────────\n",
       "   1 │     1   2.71828   true\n",
       "   2 │     2   3.14159  false\n",
       "   3 │     3   1.41421   true\n",
       "   4 │     4  42.0      false"
      ]
     },
     "execution_count": 12,
     "metadata": {},
     "output_type": "execute_result"
    }
   ],
   "source": [
    "df"
   ]
  },
  {
   "cell_type": "markdown",
   "id": "a0517e51-0832-48a2-b8d9-e1a68d086f15",
   "metadata": {},
   "source": [
    "show(df) produces a nicely formatted output (whereas show(:Col2) does not). This is\n",
    "because there is a show() routine defined in the package for the entire contents of\n",
    "DataFrame."
   ]
  },
  {
   "cell_type": "markdown",
   "id": "1ea4ce47-7c2c-4fbe-8c85-a0b8e8b698ce",
   "metadata": {},
   "source": [
    "We could also have used the full constructor, as follows:"
   ]
  },
  {
   "cell_type": "code",
   "execution_count": 15,
   "id": "7f48f40f-eeaf-43c2-bee3-aa924a78f74f",
   "metadata": {},
   "outputs": [
    {
     "data": {
      "text/html": [
       "<div class=\"data-frame\"><p>10 rows × 2 columns</p><table class=\"data-frame\"><thead><tr><th></th><th>col1</th><th>col2</th></tr><tr><th></th><th title=\"Int64\">Int64</th><th title=\"Int64\">Int64</th></tr></thead><tbody><tr><th>1</th><td>1</td><td>11</td></tr><tr><th>2</th><td>2</td><td>12</td></tr><tr><th>3</th><td>3</td><td>13</td></tr><tr><th>4</th><td>4</td><td>14</td></tr><tr><th>5</th><td>5</td><td>15</td></tr><tr><th>6</th><td>6</td><td>16</td></tr><tr><th>7</th><td>7</td><td>17</td></tr><tr><th>8</th><td>8</td><td>18</td></tr><tr><th>9</th><td>9</td><td>19</td></tr><tr><th>10</th><td>10</td><td>20</td></tr></tbody></table></div>"
      ],
      "text/latex": [
       "\\begin{tabular}{r|cc}\n",
       "\t& col1 & col2\\\\\n",
       "\t\\hline\n",
       "\t& Int64 & Int64\\\\\n",
       "\t\\hline\n",
       "\t1 & 1 & 11 \\\\\n",
       "\t2 & 2 & 12 \\\\\n",
       "\t3 & 3 & 13 \\\\\n",
       "\t4 & 4 & 14 \\\\\n",
       "\t5 & 5 & 15 \\\\\n",
       "\t6 & 6 & 16 \\\\\n",
       "\t7 & 7 & 17 \\\\\n",
       "\t8 & 8 & 18 \\\\\n",
       "\t9 & 9 & 19 \\\\\n",
       "\t10 & 10 & 20 \\\\\n",
       "\\end{tabular}\n"
      ],
      "text/plain": [
       "\u001b[1m10×2 DataFrame\u001b[0m\n",
       "\u001b[1m Row \u001b[0m│\u001b[1m col1  \u001b[0m\u001b[1m col2  \u001b[0m\n",
       "\u001b[1m     \u001b[0m│\u001b[90m Int64 \u001b[0m\u001b[90m Int64 \u001b[0m\n",
       "─────┼──────────────\n",
       "   1 │     1     11\n",
       "   2 │     2     12\n",
       "   3 │     3     13\n",
       "   4 │     4     14\n",
       "   5 │     5     15\n",
       "   6 │     6     16\n",
       "   7 │     7     17\n",
       "   8 │     8     18\n",
       "   9 │     9     19\n",
       "  10 │    10     20"
      ]
     },
     "execution_count": 15,
     "metadata": {},
     "output_type": "execute_result"
    }
   ],
   "source": [
    "df = DataFrame(col1=1:10, col2=11:20)"
   ]
  },
  {
   "cell_type": "markdown",
   "id": "f67c7cee-207c-471e-a0ab-d0f7e0c1272f",
   "metadata": {},
   "source": [
    "You can refer to columns either by an index (the column number) or by a name; both of the\n",
    "following expressions return the same output:"
   ]
  },
  {
   "cell_type": "code",
   "execution_count": 20,
   "id": "51da46bf-1103-4f5d-b031-4bb5fbeab5ee",
   "metadata": {},
   "outputs": [
    {
     "name": "stdout",
     "output_type": "stream",
     "text": [
      "[11, 12, 13, 14, 15, 16, 17, 18, 19, 20]"
     ]
    }
   ],
   "source": [
    "show(df[!, 2])"
   ]
  },
  {
   "cell_type": "code",
   "execution_count": 23,
   "id": "cb5b2af1-16ec-48cc-b8b6-1b7f79c6990c",
   "metadata": {},
   "outputs": [
    {
     "data": {
      "text/html": [
       "<div class=\"data-frame\"><p>10 rows × 2 columns</p><table class=\"data-frame\"><thead><tr><th></th><th>col1</th><th>col2</th></tr><tr><th></th><th title=\"Int64\">Int64</th><th title=\"Int64\">Int64</th></tr></thead><tbody><tr><th>1</th><td>1</td><td>11</td></tr><tr><th>2</th><td>2</td><td>12</td></tr><tr><th>3</th><td>3</td><td>13</td></tr><tr><th>4</th><td>4</td><td>14</td></tr><tr><th>5</th><td>5</td><td>15</td></tr><tr><th>6</th><td>6</td><td>16</td></tr><tr><th>7</th><td>7</td><td>17</td></tr><tr><th>8</th><td>8</td><td>18</td></tr><tr><th>9</th><td>9</td><td>19</td></tr><tr><th>10</th><td>10</td><td>20</td></tr></tbody></table></div>"
      ],
      "text/latex": [
       "\\begin{tabular}{r|cc}\n",
       "\t& col1 & col2\\\\\n",
       "\t\\hline\n",
       "\t& Int64 & Int64\\\\\n",
       "\t\\hline\n",
       "\t1 & 1 & 11 \\\\\n",
       "\t2 & 2 & 12 \\\\\n",
       "\t3 & 3 & 13 \\\\\n",
       "\t4 & 4 & 14 \\\\\n",
       "\t5 & 5 & 15 \\\\\n",
       "\t6 & 6 & 16 \\\\\n",
       "\t7 & 7 & 17 \\\\\n",
       "\t8 & 8 & 18 \\\\\n",
       "\t9 & 9 & 19 \\\\\n",
       "\t10 & 10 & 20 \\\\\n",
       "\\end{tabular}\n"
      ],
      "text/plain": [
       "\u001b[1m10×2 DataFrame\u001b[0m\n",
       "\u001b[1m Row \u001b[0m│\u001b[1m col1  \u001b[0m\u001b[1m col2  \u001b[0m\n",
       "\u001b[1m     \u001b[0m│\u001b[90m Int64 \u001b[0m\u001b[90m Int64 \u001b[0m\n",
       "─────┼──────────────\n",
       "   1 │     1     11\n",
       "   2 │     2     12\n",
       "   3 │     3     13\n",
       "   4 │     4     14\n",
       "   5 │     5     15\n",
       "   6 │     6     16\n",
       "   7 │     7     17\n",
       "   8 │     8     18\n",
       "   9 │     9     19\n",
       "  10 │    10     20"
      ]
     },
     "execution_count": 23,
     "metadata": {},
     "output_type": "execute_result"
    }
   ],
   "source": [
    "df[!, 1:2]"
   ]
  },
  {
   "cell_type": "code",
   "execution_count": 24,
   "id": "df4fe1b6-bc9e-4e8f-9e39-e448500f8563",
   "metadata": {},
   "outputs": [
    {
     "data": {
      "text/html": [
       "<div class=\"data-frame\"><p>3 rows × 2 columns</p><table class=\"data-frame\"><thead><tr><th></th><th>col1</th><th>col2</th></tr><tr><th></th><th title=\"Int64\">Int64</th><th title=\"Int64\">Int64</th></tr></thead><tbody><tr><th>1</th><td>2</td><td>12</td></tr><tr><th>2</th><td>3</td><td>13</td></tr><tr><th>3</th><td>4</td><td>14</td></tr></tbody></table></div>"
      ],
      "text/latex": [
       "\\begin{tabular}{r|cc}\n",
       "\t& col1 & col2\\\\\n",
       "\t\\hline\n",
       "\t& Int64 & Int64\\\\\n",
       "\t\\hline\n",
       "\t1 & 2 & 12 \\\\\n",
       "\t2 & 3 & 13 \\\\\n",
       "\t3 & 4 & 14 \\\\\n",
       "\\end{tabular}\n"
      ],
      "text/plain": [
       "\u001b[1m3×2 DataFrame\u001b[0m\n",
       "\u001b[1m Row \u001b[0m│\u001b[1m col1  \u001b[0m\u001b[1m col2  \u001b[0m\n",
       "\u001b[1m     \u001b[0m│\u001b[90m Int64 \u001b[0m\u001b[90m Int64 \u001b[0m\n",
       "─────┼──────────────\n",
       "   1 │     2     12\n",
       "   2 │     3     13\n",
       "   3 │     4     14"
      ]
     },
     "execution_count": 24,
     "metadata": {},
     "output_type": "execute_result"
    }
   ],
   "source": [
    "df[2:4, 1:2]"
   ]
  },
  {
   "cell_type": "code",
   "execution_count": 25,
   "id": "b9854ba8-9fe6-48df-aa70-98a7c5b112f3",
   "metadata": {},
   "outputs": [
    {
     "data": {
      "text/plain": [
       "8-element Vector{Int64}:\n",
       " 12\n",
       " 13\n",
       " 14\n",
       " 15\n",
       " 16\n",
       " 17\n",
       " 18\n",
       " 19"
      ]
     },
     "execution_count": 25,
     "metadata": {},
     "output_type": "execute_result"
    }
   ],
   "source": [
    "df[2:9, :col2]"
   ]
  },
  {
   "cell_type": "code",
   "execution_count": 27,
   "id": "96fee2f3-b0e4-425f-88a2-86f07041308e",
   "metadata": {},
   "outputs": [
    {
     "data": {
      "text/html": [
       "<div class=\"data-frame\"><p>7 rows × 2 columns</p><table class=\"data-frame\"><thead><tr><th></th><th>col1</th><th>col2</th></tr><tr><th></th><th title=\"Int64\">Int64</th><th title=\"Int64\">Int64</th></tr></thead><tbody><tr><th>1</th><td>3</td><td>13</td></tr><tr><th>2</th><td>4</td><td>14</td></tr><tr><th>3</th><td>5</td><td>15</td></tr><tr><th>4</th><td>6</td><td>16</td></tr><tr><th>5</th><td>7</td><td>17</td></tr><tr><th>6</th><td>8</td><td>18</td></tr><tr><th>7</th><td>9</td><td>19</td></tr></tbody></table></div>"
      ],
      "text/latex": [
       "\\begin{tabular}{r|cc}\n",
       "\t& col1 & col2\\\\\n",
       "\t\\hline\n",
       "\t& Int64 & Int64\\\\\n",
       "\t\\hline\n",
       "\t1 & 3 & 13 \\\\\n",
       "\t2 & 4 & 14 \\\\\n",
       "\t3 & 5 & 15 \\\\\n",
       "\t4 & 6 & 16 \\\\\n",
       "\t5 & 7 & 17 \\\\\n",
       "\t6 & 8 & 18 \\\\\n",
       "\t7 & 9 & 19 \\\\\n",
       "\\end{tabular}\n"
      ],
      "text/plain": [
       "\u001b[1m7×2 DataFrame\u001b[0m\n",
       "\u001b[1m Row \u001b[0m│\u001b[1m col1  \u001b[0m\u001b[1m col2  \u001b[0m\n",
       "\u001b[1m     \u001b[0m│\u001b[90m Int64 \u001b[0m\u001b[90m Int64 \u001b[0m\n",
       "─────┼──────────────\n",
       "   1 │     3     13\n",
       "   2 │     4     14\n",
       "   3 │     5     15\n",
       "   4 │     6     16\n",
       "   5 │     7     17\n",
       "   6 │     8     18\n",
       "   7 │     9     19"
      ]
     },
     "execution_count": 27,
     "metadata": {},
     "output_type": "execute_result"
    }
   ],
   "source": [
    "df[3:9, [:col1, :col2]]"
   ]
  },
  {
   "cell_type": "markdown",
   "id": "424ce532-e56b-40e1-8172-d7bc00c7f5e9",
   "metadata": {},
   "source": [
    "### The following functions are very useful when working with DataFrames:"
   ]
  },
  {
   "cell_type": "markdown",
   "id": "af7b6475-8b99-4da3-a6be-880f36d06104",
   "metadata": {},
   "source": [
    "- The names function gives the names of the names(df) columns."
   ]
  },
  {
   "cell_type": "code",
   "execution_count": 35,
   "id": "009ad44e-cbab-4cb4-8eaf-0b28c53da1ba",
   "metadata": {},
   "outputs": [
    {
     "data": {
      "text/plain": [
       "2-element Vector{String}:\n",
       " \"col1\"\n",
       " \"col2\""
      ]
     },
     "execution_count": 35,
     "metadata": {},
     "output_type": "execute_result"
    }
   ],
   "source": [
    "names(df)"
   ]
  },
  {
   "cell_type": "markdown",
   "id": "aa814e61-9a86-486a-a812-a7790dd962e8",
   "metadata": {},
   "source": [
    "- The eltypes function gives the data types of the eltypes(df) columns. It gives\n",
    "the output as 3-element Array{Type{T<:Top},1}: Int64 Float64 Bool."
   ]
  },
  {
   "cell_type": "code",
   "execution_count": 36,
   "id": "fed8238e-1ef1-4464-8e66-67f98db83647",
   "metadata": {},
   "outputs": [
    {
     "data": {
      "text/plain": [
       "Any"
      ]
     },
     "execution_count": 36,
     "metadata": {},
     "output_type": "execute_result"
    }
   ],
   "source": [
    "eltype(df)"
   ]
  },
  {
   "cell_type": "markdown",
   "id": "9833ae13-d921-4185-96c2-c45c4da27bee",
   "metadata": {},
   "source": [
    "- The describe function tries to give some useful summary information about the\n",
    "data in the columns, depending on the type."
   ]
  },
  {
   "cell_type": "code",
   "execution_count": 37,
   "id": "28b34b05-152e-4f0a-9486-432dae346b25",
   "metadata": {},
   "outputs": [
    {
     "data": {
      "text/html": [
       "<div class=\"data-frame\"><p>2 rows × 7 columns</p><table class=\"data-frame\"><thead><tr><th></th><th>variable</th><th>mean</th><th>min</th><th>median</th><th>max</th><th>nmissing</th><th>eltype</th></tr><tr><th></th><th title=\"Symbol\">Symbol</th><th title=\"Float64\">Float64</th><th title=\"Int64\">Int64</th><th title=\"Float64\">Float64</th><th title=\"Int64\">Int64</th><th title=\"Int64\">Int64</th><th title=\"DataType\">DataType</th></tr></thead><tbody><tr><th>1</th><td>col1</td><td>5.5</td><td>1</td><td>5.5</td><td>10</td><td>0</td><td>Int64</td></tr><tr><th>2</th><td>col2</td><td>15.5</td><td>11</td><td>15.5</td><td>20</td><td>0</td><td>Int64</td></tr></tbody></table></div>"
      ],
      "text/latex": [
       "\\begin{tabular}{r|ccccccc}\n",
       "\t& variable & mean & min & median & max & nmissing & eltype\\\\\n",
       "\t\\hline\n",
       "\t& Symbol & Float64 & Int64 & Float64 & Int64 & Int64 & DataType\\\\\n",
       "\t\\hline\n",
       "\t1 & col1 & 5.5 & 1 & 5.5 & 10 & 0 & Int64 \\\\\n",
       "\t2 & col2 & 15.5 & 11 & 15.5 & 20 & 0 & Int64 \\\\\n",
       "\\end{tabular}\n"
      ],
      "text/plain": [
       "\u001b[1m2×7 DataFrame\u001b[0m\n",
       "\u001b[1m Row \u001b[0m│\u001b[1m variable \u001b[0m\u001b[1m mean    \u001b[0m\u001b[1m min   \u001b[0m\u001b[1m median  \u001b[0m\u001b[1m max   \u001b[0m\u001b[1m nmissing \u001b[0m\u001b[1m eltype   \u001b[0m\n",
       "\u001b[1m     \u001b[0m│\u001b[90m Symbol   \u001b[0m\u001b[90m Float64 \u001b[0m\u001b[90m Int64 \u001b[0m\u001b[90m Float64 \u001b[0m\u001b[90m Int64 \u001b[0m\u001b[90m Int64    \u001b[0m\u001b[90m DataType \u001b[0m\n",
       "─────┼──────────────────────────────────────────────────────────────\n",
       "   1 │ col1          5.5      1      5.5     10         0  Int64\n",
       "   2 │ col2         15.5     11     15.5     20         0  Int64"
      ]
     },
     "execution_count": 37,
     "metadata": {},
     "output_type": "execute_result"
    }
   ],
   "source": [
    "describe(df)"
   ]
  },
  {
   "cell_type": "markdown",
   "id": "5368f58a-a047-474a-a60b-65a1c31e0224",
   "metadata": {},
   "source": [
    "To load in data from a local CSV file, use the read method from the CSV package (the\n",
    "following are the docs for that package: https://juliadata.github.io/CSV.jl/stable/).\n",
    "The returned object is of the DataFrame type:"
   ]
  },
  {
   "cell_type": "code",
   "execution_count": 38,
   "id": "e64c04ba-c9c6-4283-bdeb-a5245b9eb19e",
   "metadata": {},
   "outputs": [],
   "source": [
    "using CSV"
   ]
  },
  {
   "cell_type": "code",
   "execution_count": 43,
   "id": "7be7b602-cf76-491d-b400-3105120ed5af",
   "metadata": {},
   "outputs": [
    {
     "data": {
      "text/plain": [
       "\"RandomMatrix.csv\""
      ]
     },
     "execution_count": 43,
     "metadata": {},
     "output_type": "execute_result"
    }
   ],
   "source": [
    "file_name = \"RandomMatrix.csv\""
   ]
  },
  {
   "cell_type": "code",
   "execution_count": 45,
   "id": "5e16c123-9bc6-4239-a731-e8ac198a6bd6",
   "metadata": {},
   "outputs": [
    {
     "data": {
      "text/html": [
       "<div class=\"data-frame\"><p>100 rows × 100 columns (omitted printing of 88 columns)</p><table class=\"data-frame\"><thead><tr><th></th><th>1</th><th>2</th><th>3</th><th>4</th><th>5</th><th>6</th><th>7</th><th>8</th><th>9</th><th>10</th><th>11</th><th>12</th></tr><tr><th></th><th title=\"Int64\">Int64</th><th title=\"Int64\">Int64</th><th title=\"Int64\">Int64</th><th title=\"Int64\">Int64</th><th title=\"Int64\">Int64</th><th title=\"Int64\">Int64</th><th title=\"Int64\">Int64</th><th title=\"Int64\">Int64</th><th title=\"Int64\">Int64</th><th title=\"Int64\">Int64</th><th title=\"Int64\">Int64</th><th title=\"Int64\">Int64</th></tr></thead><tbody><tr><th>1</th><td>530</td><td>827</td><td>889</td><td>260</td><td>142</td><td>97</td><td>529</td><td>140</td><td>666</td><td>36</td><td>761</td><td>518</td></tr><tr><th>2</th><td>990</td><td>22</td><td>987</td><td>824</td><td>91</td><td>969</td><td>42</td><td>279</td><td>267</td><td>718</td><td>1</td><td>925</td></tr><tr><th>3</th><td>871</td><td>510</td><td>826</td><td>763</td><td>938</td><td>591</td><td>448</td><td>322</td><td>78</td><td>586</td><td>233</td><td>1</td></tr><tr><th>4</th><td>210</td><td>872</td><td>756</td><td>572</td><td>944</td><td>124</td><td>823</td><td>545</td><td>642</td><td>431</td><td>576</td><td>611</td></tr><tr><th>5</th><td>693</td><td>364</td><td>515</td><td>893</td><td>98</td><td>369</td><td>882</td><td>734</td><td>611</td><td>247</td><td>828</td><td>623</td></tr><tr><th>6</th><td>342</td><td>835</td><td>731</td><td>474</td><td>608</td><td>86</td><td>329</td><td>108</td><td>710</td><td>743</td><td>854</td><td>259</td></tr><tr><th>7</th><td>79</td><td>600</td><td>213</td><td>330</td><td>636</td><td>628</td><td>157</td><td>922</td><td>47</td><td>597</td><td>273</td><td>833</td></tr><tr><th>8</th><td>672</td><td>815</td><td>440</td><td>661</td><td>474</td><td>13</td><td>947</td><td>127</td><td>33</td><td>957</td><td>449</td><td>847</td></tr><tr><th>9</th><td>790</td><td>492</td><td>828</td><td>914</td><td>661</td><td>177</td><td>626</td><td>354</td><td>456</td><td>568</td><td>722</td><td>66</td></tr><tr><th>10</th><td>228</td><td>482</td><td>671</td><td>745</td><td>974</td><td>537</td><td>61</td><td>969</td><td>30</td><td>990</td><td>432</td><td>285</td></tr><tr><th>11</th><td>692</td><td>899</td><td>15</td><td>927</td><td>123</td><td>286</td><td>830</td><td>325</td><td>376</td><td>196</td><td>568</td><td>277</td></tr><tr><th>12</th><td>988</td><td>387</td><td>46</td><td>927</td><td>617</td><td>111</td><td>64</td><td>487</td><td>981</td><td>268</td><td>773</td><td>510</td></tr><tr><th>13</th><td>374</td><td>391</td><td>852</td><td>252</td><td>279</td><td>918</td><td>275</td><td>221</td><td>416</td><td>535</td><td>412</td><td>264</td></tr><tr><th>14</th><td>940</td><td>324</td><td>201</td><td>10</td><td>371</td><td>114</td><td>919</td><td>693</td><td>850</td><td>159</td><td>450</td><td>324</td></tr><tr><th>15</th><td>130</td><td>553</td><td>720</td><td>989</td><td>254</td><td>403</td><td>576</td><td>379</td><td>939</td><td>681</td><td>271</td><td>5</td></tr><tr><th>16</th><td>68</td><td>278</td><td>470</td><td>4</td><td>844</td><td>157</td><td>448</td><td>687</td><td>108</td><td>537</td><td>403</td><td>232</td></tr><tr><th>17</th><td>892</td><td>421</td><td>813</td><td>27</td><td>565</td><td>289</td><td>770</td><td>903</td><td>978</td><td>198</td><td>841</td><td>349</td></tr><tr><th>18</th><td>801</td><td>238</td><td>517</td><td>898</td><td>136</td><td>595</td><td>182</td><td>13</td><td>185</td><td>554</td><td>529</td><td>507</td></tr><tr><th>19</th><td>226</td><td>104</td><td>195</td><td>191</td><td>982</td><td>18</td><td>716</td><td>506</td><td>300</td><td>710</td><td>51</td><td>609</td></tr><tr><th>20</th><td>574</td><td>13</td><td>452</td><td>609</td><td>590</td><td>927</td><td>299</td><td>184</td><td>59</td><td>402</td><td>168</td><td>71</td></tr><tr><th>21</th><td>346</td><td>236</td><td>551</td><td>374</td><td>514</td><td>396</td><td>587</td><td>351</td><td>297</td><td>40</td><td>465</td><td>529</td></tr><tr><th>22</th><td>408</td><td>832</td><td>165</td><td>89</td><td>184</td><td>947</td><td>260</td><td>386</td><td>668</td><td>145</td><td>113</td><td>911</td></tr><tr><th>23</th><td>618</td><td>561</td><td>397</td><td>483</td><td>30</td><td>583</td><td>699</td><td>206</td><td>399</td><td>810</td><td>401</td><td>735</td></tr><tr><th>24</th><td>445</td><td>571</td><td>17</td><td>268</td><td>199</td><td>745</td><td>313</td><td>689</td><td>620</td><td>447</td><td>339</td><td>994</td></tr><tr><th>25</th><td>684</td><td>383</td><td>824</td><td>488</td><td>687</td><td>914</td><td>927</td><td>637</td><td>875</td><td>499</td><td>532</td><td>342</td></tr><tr><th>26</th><td>201</td><td>47</td><td>963</td><td>879</td><td>284</td><td>196</td><td>101</td><td>646</td><td>380</td><td>989</td><td>571</td><td>181</td></tr><tr><th>27</th><td>937</td><td>165</td><td>159</td><td>925</td><td>386</td><td>89</td><td>566</td><td>613</td><td>147</td><td>212</td><td>762</td><td>923</td></tr><tr><th>28</th><td>701</td><td>35</td><td>400</td><td>462</td><td>709</td><td>521</td><td>870</td><td>132</td><td>981</td><td>913</td><td>766</td><td>343</td></tr><tr><th>29</th><td>980</td><td>615</td><td>987</td><td>262</td><td>942</td><td>733</td><td>687</td><td>902</td><td>934</td><td>972</td><td>111</td><td>929</td></tr><tr><th>30</th><td>803</td><td>712</td><td>100</td><td>979</td><td>61</td><td>803</td><td>110</td><td>749</td><td>967</td><td>30</td><td>404</td><td>924</td></tr><tr><th>&vellip;</th><td>&vellip;</td><td>&vellip;</td><td>&vellip;</td><td>&vellip;</td><td>&vellip;</td><td>&vellip;</td><td>&vellip;</td><td>&vellip;</td><td>&vellip;</td><td>&vellip;</td><td>&vellip;</td><td>&vellip;</td></tr></tbody></table></div>"
      ],
      "text/latex": [
       "\\begin{tabular}{r|ccccccccccccc}\n",
       "\t& 1 & 2 & 3 & 4 & 5 & 6 & 7 & 8 & 9 & 10 & 11 & 12 & \\\\\n",
       "\t\\hline\n",
       "\t& Int64 & Int64 & Int64 & Int64 & Int64 & Int64 & Int64 & Int64 & Int64 & Int64 & Int64 & Int64 & \\\\\n",
       "\t\\hline\n",
       "\t1 & 530 & 827 & 889 & 260 & 142 & 97 & 529 & 140 & 666 & 36 & 761 & 518 & $\\dots$ \\\\\n",
       "\t2 & 990 & 22 & 987 & 824 & 91 & 969 & 42 & 279 & 267 & 718 & 1 & 925 & $\\dots$ \\\\\n",
       "\t3 & 871 & 510 & 826 & 763 & 938 & 591 & 448 & 322 & 78 & 586 & 233 & 1 & $\\dots$ \\\\\n",
       "\t4 & 210 & 872 & 756 & 572 & 944 & 124 & 823 & 545 & 642 & 431 & 576 & 611 & $\\dots$ \\\\\n",
       "\t5 & 693 & 364 & 515 & 893 & 98 & 369 & 882 & 734 & 611 & 247 & 828 & 623 & $\\dots$ \\\\\n",
       "\t6 & 342 & 835 & 731 & 474 & 608 & 86 & 329 & 108 & 710 & 743 & 854 & 259 & $\\dots$ \\\\\n",
       "\t7 & 79 & 600 & 213 & 330 & 636 & 628 & 157 & 922 & 47 & 597 & 273 & 833 & $\\dots$ \\\\\n",
       "\t8 & 672 & 815 & 440 & 661 & 474 & 13 & 947 & 127 & 33 & 957 & 449 & 847 & $\\dots$ \\\\\n",
       "\t9 & 790 & 492 & 828 & 914 & 661 & 177 & 626 & 354 & 456 & 568 & 722 & 66 & $\\dots$ \\\\\n",
       "\t10 & 228 & 482 & 671 & 745 & 974 & 537 & 61 & 969 & 30 & 990 & 432 & 285 & $\\dots$ \\\\\n",
       "\t11 & 692 & 899 & 15 & 927 & 123 & 286 & 830 & 325 & 376 & 196 & 568 & 277 & $\\dots$ \\\\\n",
       "\t12 & 988 & 387 & 46 & 927 & 617 & 111 & 64 & 487 & 981 & 268 & 773 & 510 & $\\dots$ \\\\\n",
       "\t13 & 374 & 391 & 852 & 252 & 279 & 918 & 275 & 221 & 416 & 535 & 412 & 264 & $\\dots$ \\\\\n",
       "\t14 & 940 & 324 & 201 & 10 & 371 & 114 & 919 & 693 & 850 & 159 & 450 & 324 & $\\dots$ \\\\\n",
       "\t15 & 130 & 553 & 720 & 989 & 254 & 403 & 576 & 379 & 939 & 681 & 271 & 5 & $\\dots$ \\\\\n",
       "\t16 & 68 & 278 & 470 & 4 & 844 & 157 & 448 & 687 & 108 & 537 & 403 & 232 & $\\dots$ \\\\\n",
       "\t17 & 892 & 421 & 813 & 27 & 565 & 289 & 770 & 903 & 978 & 198 & 841 & 349 & $\\dots$ \\\\\n",
       "\t18 & 801 & 238 & 517 & 898 & 136 & 595 & 182 & 13 & 185 & 554 & 529 & 507 & $\\dots$ \\\\\n",
       "\t19 & 226 & 104 & 195 & 191 & 982 & 18 & 716 & 506 & 300 & 710 & 51 & 609 & $\\dots$ \\\\\n",
       "\t20 & 574 & 13 & 452 & 609 & 590 & 927 & 299 & 184 & 59 & 402 & 168 & 71 & $\\dots$ \\\\\n",
       "\t21 & 346 & 236 & 551 & 374 & 514 & 396 & 587 & 351 & 297 & 40 & 465 & 529 & $\\dots$ \\\\\n",
       "\t22 & 408 & 832 & 165 & 89 & 184 & 947 & 260 & 386 & 668 & 145 & 113 & 911 & $\\dots$ \\\\\n",
       "\t23 & 618 & 561 & 397 & 483 & 30 & 583 & 699 & 206 & 399 & 810 & 401 & 735 & $\\dots$ \\\\\n",
       "\t24 & 445 & 571 & 17 & 268 & 199 & 745 & 313 & 689 & 620 & 447 & 339 & 994 & $\\dots$ \\\\\n",
       "\t25 & 684 & 383 & 824 & 488 & 687 & 914 & 927 & 637 & 875 & 499 & 532 & 342 & $\\dots$ \\\\\n",
       "\t26 & 201 & 47 & 963 & 879 & 284 & 196 & 101 & 646 & 380 & 989 & 571 & 181 & $\\dots$ \\\\\n",
       "\t27 & 937 & 165 & 159 & 925 & 386 & 89 & 566 & 613 & 147 & 212 & 762 & 923 & $\\dots$ \\\\\n",
       "\t28 & 701 & 35 & 400 & 462 & 709 & 521 & 870 & 132 & 981 & 913 & 766 & 343 & $\\dots$ \\\\\n",
       "\t29 & 980 & 615 & 987 & 262 & 942 & 733 & 687 & 902 & 934 & 972 & 111 & 929 & $\\dots$ \\\\\n",
       "\t30 & 803 & 712 & 100 & 979 & 61 & 803 & 110 & 749 & 967 & 30 & 404 & 924 & $\\dots$ \\\\\n",
       "\t$\\dots$ & $\\dots$ & $\\dots$ & $\\dots$ & $\\dots$ & $\\dots$ & $\\dots$ & $\\dots$ & $\\dots$ & $\\dots$ & $\\dots$ & $\\dots$ & $\\dots$ &  \\\\\n",
       "\\end{tabular}\n"
      ],
      "text/plain": [
       "\u001b[1m100×100 DataFrame\u001b[0m\n",
       "\u001b[1m Row \u001b[0m│\u001b[1m 1     \u001b[0m\u001b[1m 2     \u001b[0m\u001b[1m 3     \u001b[0m\u001b[1m 4     \u001b[0m\u001b[1m 5     \u001b[0m\u001b[1m 6     \u001b[0m\u001b[1m 7     \u001b[0m\u001b[1m 8     \u001b[0m\u001b[1m 9     \u001b[0m\u001b[1m 10    \u001b[0m\u001b[1m 1\u001b[0m ⋯\n",
       "\u001b[1m     \u001b[0m│\u001b[90m Int64 \u001b[0m\u001b[90m Int64 \u001b[0m\u001b[90m Int64 \u001b[0m\u001b[90m Int64 \u001b[0m\u001b[90m Int64 \u001b[0m\u001b[90m Int64 \u001b[0m\u001b[90m Int64 \u001b[0m\u001b[90m Int64 \u001b[0m\u001b[90m Int64 \u001b[0m\u001b[90m Int64 \u001b[0m\u001b[90m I\u001b[0m ⋯\n",
       "─────┼──────────────────────────────────────────────────────────────────────────\n",
       "   1 │   530    827    889    260    142     97    529    140    666     36    ⋯\n",
       "   2 │   990     22    987    824     91    969     42    279    267    718\n",
       "   3 │   871    510    826    763    938    591    448    322     78    586\n",
       "   4 │   210    872    756    572    944    124    823    545    642    431\n",
       "   5 │   693    364    515    893     98    369    882    734    611    247    ⋯\n",
       "   6 │   342    835    731    474    608     86    329    108    710    743\n",
       "   7 │    79    600    213    330    636    628    157    922     47    597\n",
       "   8 │   672    815    440    661    474     13    947    127     33    957\n",
       "   9 │   790    492    828    914    661    177    626    354    456    568    ⋯\n",
       "  10 │   228    482    671    745    974    537     61    969     30    990\n",
       "  11 │   692    899     15    927    123    286    830    325    376    196\n",
       "  ⋮  │   ⋮      ⋮      ⋮      ⋮      ⋮      ⋮      ⋮      ⋮      ⋮      ⋮      ⋱\n",
       "  91 │   834     17    725    600    647    334    876    690    683    837\n",
       "  92 │    18    557    747    800     44    289    520     55    240    901    ⋯\n",
       "  93 │   757    174    248    129    520    960    867    959    904    988\n",
       "  94 │   398    611    979    266     74    887    249    595    213    752\n",
       "  95 │   366    632    813    358    155    645    953    291    393    350\n",
       "  96 │   765    181    112    608    154    675    968    977    563    156    ⋯\n",
       "  97 │   507    605    623    179    414      5    784    550     38    852\n",
       "  98 │   580     99    155    108    489    749    190    756    711    550\n",
       "  99 │    62    618    756    824    856    405    345    779    757     31\n",
       " 100 │   911    382    422     38    680    189    400    500    425      4    ⋯\n",
       "\u001b[36m                                                  90 columns and 79 rows omitted\u001b[0m"
      ]
     },
     "execution_count": 45,
     "metadata": {},
     "output_type": "execute_result"
    }
   ],
   "source": [
    "a = CSV.read(file_name, DataFrame, delim=';')"
   ]
  },
  {
   "cell_type": "code",
   "execution_count": 47,
   "id": "c6f3af34-1f1b-4979-a0b0-2809c890da1a",
   "metadata": {},
   "outputs": [
    {
     "data": {
      "text/plain": [
       "(100, 100)"
      ]
     },
     "execution_count": 47,
     "metadata": {},
     "output_type": "execute_result"
    }
   ],
   "source": [
    "size(a)"
   ]
  },
  {
   "cell_type": "markdown",
   "id": "380269b5-bef6-42e2-94ed-c38f5ca3d57a",
   "metadata": {},
   "source": [
    "Writing DataFrame to a file can be done with the CSV.write function, which takes the\n",
    "filename and DataFrame as arguments, for example, CSV.write (\"dataframe1.csv\",\n",
    "df, delim = ';')"
   ]
  },
  {
   "cell_type": "code",
   "execution_count": 52,
   "id": "76926e3e-eb19-45ec-b1d9-ed1a40035077",
   "metadata": {},
   "outputs": [
    {
     "data": {
      "text/plain": [
       "\"RandomMatrix2.csv\""
      ]
     },
     "execution_count": 52,
     "metadata": {},
     "output_type": "execute_result"
    }
   ],
   "source": [
    "CSV.write(\"RandomMatrix2.csv\", a, delim=';')"
   ]
  },
  {
   "cell_type": "code",
   "execution_count": 55,
   "id": "0ad4d3bd-a357-4fb8-836c-a66a4abfe0b7",
   "metadata": {},
   "outputs": [
    {
     "data": {
      "text/plain": [
       "1:100"
      ]
     },
     "execution_count": 55,
     "metadata": {},
     "output_type": "execute_result"
    }
   ],
   "source": [
    "a[!, :quality] = 1:100"
   ]
  },
  {
   "cell_type": "code",
   "execution_count": 95,
   "id": "7b332a6c-02c7-4406-b098-305c16408a48",
   "metadata": {},
   "outputs": [
    {
     "ename": "LoadError",
     "evalue": "UndefVarError: hist not defined",
     "output_type": "error",
     "traceback": [
      "UndefVarError: hist not defined",
      "",
      "Stacktrace:",
      " [1] top-level scope",
      "   @ In[95]:1",
      " [2] eval",
      "   @ ./boot.jl:373 [inlined]",
      " [3] include_string(mapexpr::typeof(REPL.softscope), mod::Module, code::String, filename::String)",
      "   @ Base ./loading.jl:1196"
     ]
    }
   ],
   "source": [
    "hist(a)"
   ]
  },
  {
   "cell_type": "markdown",
   "id": "5de1bf2e-3a29-465d-adb2-6941055d882f",
   "metadata": {},
   "source": [
    "# Other file formats"
   ]
  },
  {
   "cell_type": "markdown",
   "id": "4acd0330-a3d5-40bc-9c87-10728ebc1438",
   "metadata": {},
   "source": [
    "- For JSON, use the JSON package. The parse method converts JSON strings into\n",
    "- dictionaries, and the json method turns any Julia object into a JSON string.\n",
    "- For XML, use the LightXML package.\n",
    "- For YAML, use the YAML package.\n",
    "- For HDF5 (a common format for scientific data), use the HDF5 package.\n",
    "- For working with Windows INI files, use the IniFile package."
   ]
  },
  {
   "cell_type": "markdown",
   "id": "d9e080e7-27ab-4e22-b3a6-ea6b22566e6a",
   "metadata": {},
   "source": [
    "# Working with TCP sockets and servers"
   ]
  },
  {
   "cell_type": "markdown",
   "id": "2de6b31b-0993-424f-9dde-b5238e9f3d93",
   "metadata": {},
   "source": [
    "To send data over a network, the data has to conform to a certain format or protocol. The\n",
    "Transmission Control Protocol / Internet Protocol (TCP/IP) is one of the core protocols to\n",
    "be used on the internet."
   ]
  },
  {
   "cell_type": "code",
   "execution_count": 96,
   "id": "b86c8f3d-97a5-445b-83e7-651b428f52c4",
   "metadata": {},
   "outputs": [],
   "source": [
    "using Sockets"
   ]
  },
  {
   "cell_type": "code",
   "execution_count": 97,
   "id": "d50134f1-9342-49a4-a343-373e0c7a9f09",
   "metadata": {},
   "outputs": [
    {
     "data": {
      "text/plain": [
       "Sockets.TCPServer(RawFD(48) active)"
      ]
     },
     "execution_count": 97,
     "metadata": {},
     "output_type": "execute_result"
    }
   ],
   "source": [
    "server = Sockets.listen(8080)"
   ]
  },
  {
   "cell_type": "code",
   "execution_count": 98,
   "id": "5a53c1d2-3a96-41b0-b1eb-fa24d56e9daf",
   "metadata": {},
   "outputs": [
    {
     "data": {
      "text/plain": [
       "TCPSocket(RawFD(49) open, 0 bytes waiting)"
      ]
     },
     "execution_count": 98,
     "metadata": {},
     "output_type": "execute_result"
    }
   ],
   "source": [
    "conn = accept(server)"
   ]
  },
  {
   "cell_type": "code",
   "execution_count": 99,
   "id": "853c30b9-61ad-430b-b30b-328435ddd50a",
   "metadata": {},
   "outputs": [
    {
     "data": {
      "text/plain": [
       "\"\""
      ]
     },
     "execution_count": 99,
     "metadata": {},
     "output_type": "execute_result"
    }
   ],
   "source": [
    "line = readline(conn)"
   ]
  },
  {
   "cell_type": "code",
   "execution_count": 103,
   "id": "ceb8af02-5f12-4619-b726-a2cb8df0e51d",
   "metadata": {},
   "outputs": [],
   "source": [
    "close(conn)"
   ]
  },
  {
   "cell_type": "code",
   "execution_count": null,
   "id": "dd613959-d125-48dc-a4b6-f8158735547d",
   "metadata": {},
   "outputs": [],
   "source": [
    "using Sockets\n",
    "server = Sockets.listen(8085)\n",
    "while true\n",
    "    conn = accept(server)\n",
    "    @async begin\n",
    "        try\n",
    "            while true\n",
    "                line = readline(conn)\n",
    "                println(line) # output in server console\n",
    "                write(conn,line)\n",
    "            end\n",
    "        catch ex\n",
    "            print(\"connection ended with error $ex\")\n",
    "        end\n",
    "    end # end coroutine block\n",
    "end\n"
   ]
  },
  {
   "cell_type": "markdown",
   "id": "440c445c-cae0-41e0-bc75-a10ca444d422",
   "metadata": {},
   "source": [
    "To achieve this, we place the accept() function within an infinite while loop, so that each\n",
    "incoming connection is accepted. The same is true for reading and writing to a specific\n",
    "client; the server only stops listening to that client when the client disconnects. Because the\n",
    "network communication with the clients is a possible source of errors, we have to surround\n",
    "it within a try/catch expression"
   ]
  },
  {
   "cell_type": "markdown",
   "id": "1af753a6-6ad7-4695-aaa6-cec650ead317",
   "metadata": {},
   "source": [
    "However, we also see an @async macro here; what is its function? The @async macro starts\n",
    "a new coroutine (refer to the Tasks section in Chapter 4, Control Flow) in the local process to\n",
    "handle the execution of the begin...end block that starts right after it. So, the @async\n",
    "macro handles the connection with each particular client in a separate coroutine."
   ]
  },
  {
   "cell_type": "markdown",
   "id": "8dc36b75-b36b-4d29-ae11-38b2eb86298f",
   "metadata": {},
   "source": [
    "On the other hand, the @sync macro is used to enclose a number of @async (or @spawn or\n",
    "@parallel calls, refer to the Parallel operations and computing section), and the code\n",
    "execution waits at the end of the @sync block until all the enclosed calls are finished."
   ]
  },
  {
   "cell_type": "code",
   "execution_count": 1,
   "id": "d13f0653-e33f-44d4-97e5-3a33b3da55bd",
   "metadata": {},
   "outputs": [],
   "source": [
    "using Sockets"
   ]
  },
  {
   "cell_type": "code",
   "execution_count": null,
   "id": "7902fec2-ea59-438b-a178-ef8e752b107d",
   "metadata": {},
   "outputs": [],
   "source": [
    "server = Sockets.listen(9092)\n",
    "while true \n",
    "    connection = accept(server)\n",
    "    @async  begin \n",
    "        while true\n",
    "            try \n",
    "                message = readline(connection)\n",
    "                println(message)\n",
    "                if message == \"Die\" \n",
    "                    write(connection,\"Bye Bye :( I'm gonna Die\")\n",
    "                    close(connection)\n",
    "                    break\n",
    "                end\n",
    "            catch ex\n",
    "                print(ex)\n",
    "            end\n",
    "        end\n",
    "    end\n",
    "end\n",
    "\n",
    "    "
   ]
  },
  {
   "cell_type": "markdown",
   "id": "bb0c1cd4-4645-4d77-a361-e9cf92bbf676",
   "metadata": {},
   "source": [
    "The listen function has some variants, for example, listen(IPv6(0),2001) creates a\n",
    "TCP server that listens on port 2001 on all IPv6 interfaces. Similarly, instead of readline,\n",
    "there are also simpler read methods:"
   ]
  },
  {
   "cell_type": "markdown",
   "id": "ab799ff5-253a-4d8f-9c26-8320da9f9433",
   "metadata": {},
   "source": [
    "- read(conn, UInt8): This method blocks until there is a byte to read from\n",
    "conn, and then returns it. Use convert(Char, n) to convert a UInt8 value into\n",
    "Char. This will let you see the ASCII letter for UInt8 you read in.\n",
    "- read(conn, Char): This method blocks until there is a byte to read from conn,\n",
    "and then returns it."
   ]
  },
  {
   "cell_type": "markdown",
   "id": "088fb535-e1d0-4463-a719-9901e5d12e27",
   "metadata": {},
   "source": [
    "The important aspect about the communication API is that the code looks like synchronous\n",
    "code executing line by line, even though the I/O is actually happening asynchronously\n",
    "through the use of tasks. We don't have to worry about writing callbacks as in some other\n",
    "languages."
   ]
  },
  {
   "cell_type": "markdown",
   "id": "28f47e01-a947-4ddc-9023-75d5c143bcb7",
   "metadata": {},
   "source": [
    "# Interacting with databases"
   ]
  },
  {
   "cell_type": "markdown",
   "id": "1ee65fa6-9a44-47a0-81a6-69a8d406868a",
   "metadata": {},
   "source": [
    "Open Database Connectivity (ODBC) is a low-level protocol for establishing connections\n",
    "with the majority of databases and datasources ( for more details, refer to\n",
    "http://en.wikipedia.org/wiki/Open_Database_Connectivity)."
   ]
  },
  {
   "cell_type": "markdown",
   "id": "f1c2e377-52bb-4093-ae9a-402040e5829e",
   "metadata": {},
   "source": [
    "Julia has an ODBC package that enables Julia scripts to talk to ODBC data sources. Install the\n",
    "package through Pkg.add(\"ODBC\"), and at the start of the code, run it using ODBC."
   ]
  },
  {
   "cell_type": "markdown",
   "id": "2dbf2f0d-75c2-4450-b950-1302762bccf8",
   "metadata": {},
   "source": [
    "The package can work with a system Data Source Name (DSN) that contains all the\n",
    "concrete connection information, such as server name, database, credentials, and so on.\n",
    "Every operating system has its own utility to make DSNs. In Windows, the ODBC\n",
    "administrator can be reached by navigating to Control Panel | Administrative Tools |\n",
    "ODBC Data Sources; on other systems, you have IODBC or Unix ODBC."
   ]
  },
  {
   "cell_type": "markdown",
   "id": "32236f29-0933-4620-87a5-e5775cf5739b",
   "metadata": {},
   "source": [
    "# Parallel operations and computing"
   ]
  },
  {
   "cell_type": "markdown",
   "id": "3e4b58ab-d129-4972-ad71-930e9cdbfc8d",
   "metadata": {},
   "source": [
    "In our multicore CPU and clustered computing world, it is imperative for a new language\n",
    "to have excellent parallel computing capabilities. This is one of the main strengths of Julia:\n",
    "providing an environment based on message-passing between multiple processes that can\n",
    "execute on the same machine or on remote machines."
   ]
  },
  {
   "cell_type": "markdown",
   "id": "87962b5d-c7d1-4224-be34-dbcbf214902b",
   "metadata": {},
   "source": [
    "In that sense, it implements the actor model (as Erlang, Elixir, and Pony do), but we'll see\n",
    "that the actual coding happens on a higher level than receiving and sending messages\n",
    "between processes, or workers (processors) as Julia calls them. The developer only needs to\n",
    "explicitly manage the main process from which all other workers are started. The message\n",
    "send and receive operations are simulated by higher-level operations that look like function\n",
    "calls."
   ]
  },
  {
   "cell_type": "markdown",
   "id": "c31afdce-3609-4a06-be65-5c1477e0cc26",
   "metadata": {},
   "source": [
    "# Creating processes"
   ]
  },
  {
   "cell_type": "markdown",
   "id": "6d3818bc-0e5d-4ba2-b44b-738253d77e65",
   "metadata": {},
   "source": [
    "Julia can be started as a REPL or as a separate application with a number of workers, n,\n",
    "available."
   ]
  },
  {
   "cell_type": "markdown",
   "id": "37745c03-1eb6-4172-810a-22a437f1e574",
   "metadata": {},
   "source": [
    "The following command starts n processes on the local machine (this command\n",
    "includes the Distributed package automatically):"
   ]
  },
  {
   "cell_type": "code",
   "execution_count": 1,
   "id": "df4a52c7-9f83-48ad-9ebe-ff2624a1d81d",
   "metadata": {},
   "outputs": [],
   "source": [
    "# julia -p n"
   ]
  },
  {
   "cell_type": "markdown",
   "id": "a0b5c9ae-feec-41ca-a0a6-85664937a1f3",
   "metadata": {},
   "source": [
    "These workers are different processes, not threads, so they do not share memory."
   ]
  },
  {
   "cell_type": "markdown",
   "id": "e512cb34-3765-4c3e-8a83-896afbf5e4d8",
   "metadata": {},
   "source": [
    "To get the most out of a machine, set n equal to the number of processor cores. For example,\n",
    "when n is 8, you have, in fact, nine workers: one for the REPL shell itself, and eight others\n",
    "that are ready to do parallel tasks."
   ]
  },
  {
   "cell_type": "code",
   "execution_count": 2,
   "id": "078d5373-ec4e-411e-a6d3-3f6c7f8513bc",
   "metadata": {},
   "outputs": [],
   "source": [
    "using Distributed"
   ]
  },
  {
   "cell_type": "markdown",
   "id": "5d890a57-04c1-4d8a-8aab-72ccbb8eed1d",
   "metadata": {},
   "source": [
    ". Every worker has its own integer identifier, which we\n",
    "can see by calling the workers function, workers(). This returns the following:"
   ]
  },
  {
   "cell_type": "code",
   "execution_count": 3,
   "id": "0327f66c-74f6-4495-9939-78a92b41ffad",
   "metadata": {},
   "outputs": [
    {
     "data": {
      "text/plain": [
       "1-element Vector{Int64}:\n",
       " 1"
      ]
     },
     "execution_count": 3,
     "metadata": {},
     "output_type": "execute_result"
    }
   ],
   "source": [
    "workers()"
   ]
  },
  {
   "cell_type": "markdown",
   "id": "48df77c5-dfba-458b-b50d-babc96034179",
   "metadata": {},
   "source": [
    "Each worker can get its own process ID with the myid() function. If you need more\n",
    "workers, adding new ones is easy:"
   ]
  },
  {
   "cell_type": "code",
   "execution_count": 4,
   "id": "060bbc9c-67f3-48f6-a9f8-c3888c1c80d5",
   "metadata": {},
   "outputs": [
    {
     "data": {
      "text/plain": [
       "1"
      ]
     },
     "execution_count": 4,
     "metadata": {},
     "output_type": "execute_result"
    }
   ],
   "source": [
    "myid()"
   ]
  },
  {
   "cell_type": "code",
   "execution_count": 5,
   "id": "1200cf60-b35f-4a15-83ee-d055fd892ad2",
   "metadata": {},
   "outputs": [
    {
     "data": {
      "text/plain": [
       "5-element Vector{Int64}:\n",
       " 2\n",
       " 3\n",
       " 4\n",
       " 5\n",
       " 6"
      ]
     },
     "execution_count": 5,
     "metadata": {},
     "output_type": "execute_result"
    }
   ],
   "source": [
    "addprocs(5)"
   ]
  },
  {
   "cell_type": "code",
   "execution_count": 6,
   "id": "8fe7e593-c998-484c-b8c5-d344ffeb48f1",
   "metadata": {},
   "outputs": [
    {
     "data": {
      "text/plain": [
       "5-element Vector{Int64}:\n",
       " 2\n",
       " 3\n",
       " 4\n",
       " 5\n",
       " 6"
      ]
     },
     "execution_count": 6,
     "metadata": {},
     "output_type": "execute_result"
    }
   ],
   "source": [
    "workers()"
   ]
  },
  {
   "cell_type": "markdown",
   "id": "1a0fc558-b269-4394-8e6d-c1506020d297",
   "metadata": {},
   "source": [
    "but the addprocs\n",
    "method accepts arguments to start processes on remote machines via SSH. This is the\n",
    "secure shell protocol that enables you to execute commands on a remote computer via a\n",
    "shell in a totally encrypted manner."
   ]
  },
  {
   "cell_type": "markdown",
   "id": "7d9d6a89-eea9-43e4-a699-d042ffb60475",
   "metadata": {},
   "source": [
    "The number of available workers is given by nprocs(); in our case, this is 14. A worker\n",
    "can be removed by calling rmprocs() with its identifier; for example, rmprocs(3) stops\n",
    "the worker with the ID 3."
   ]
  },
  {
   "cell_type": "code",
   "execution_count": 8,
   "id": "970764e2-a085-4839-8d99-91bb3a56e12a",
   "metadata": {},
   "outputs": [
    {
     "data": {
      "text/plain": [
       "6"
      ]
     },
     "execution_count": 8,
     "metadata": {},
     "output_type": "execute_result"
    }
   ],
   "source": [
    "nprocs()"
   ]
  },
  {
   "cell_type": "code",
   "execution_count": 9,
   "id": "b7940a2e-9d29-4263-9802-29934319bd12",
   "metadata": {},
   "outputs": [
    {
     "data": {
      "text/plain": [
       "Task (done) @0x00007feb6c95eca0"
      ]
     },
     "execution_count": 9,
     "metadata": {},
     "output_type": "execute_result"
    }
   ],
   "source": [
    "rmprocs(6)"
   ]
  },
  {
   "cell_type": "code",
   "execution_count": 10,
   "id": "3afb00cf-e509-4c8f-89fd-ea58a822999a",
   "metadata": {},
   "outputs": [
    {
     "data": {
      "text/plain": [
       "4-element Vector{Int64}:\n",
       " 2\n",
       " 3\n",
       " 4\n",
       " 5"
      ]
     },
     "execution_count": 10,
     "metadata": {},
     "output_type": "execute_result"
    }
   ],
   "source": [
    "workers()"
   ]
  },
  {
   "cell_type": "markdown",
   "id": "d971dd8f-fa46-4394-92ab-20798f42300d",
   "metadata": {},
   "source": [
    "All these workers communicate via TCP ports and run on the same machine, which is why\n",
    "it is called a local cluster. To activate workers on a cluster of computers, start Julia as\n",
    "follows:"
   ]
  },
  {
   "cell_type": "code",
   "execution_count": 11,
   "id": "63271198-fe6c-490e-944a-997c822bbd29",
   "metadata": {},
   "outputs": [],
   "source": [
    "# julia --machine-file machines driver.jl"
   ]
  },
  {
   "cell_type": "markdown",
   "id": "2f0190af-f28c-4f8e-868b-a08598e0d991",
   "metadata": {},
   "source": [
    "Processors can be dynamically added or removed to a master Julia process, locally on\n",
    "symmetric multiprocessor systems, remotely on a computer cluster, as well as in the cloud.\n",
    "If more versatility is needed, you can work with the ClusterManager type"
   ]
  },
  {
   "cell_type": "markdown",
   "id": "c4a4e3fa-c2d1-4423-9f9d-622ce1e9e185",
   "metadata": {},
   "source": [
    "# Using low-level communications"
   ]
  },
  {
   "cell_type": "markdown",
   "id": "17d6a291-33ca-4f25-aa38-45bec561ca93",
   "metadata": {},
   "source": [
    "Julia's native parallel computing model is based on two primitives: remote calls and remote\n",
    "references. At this level, we can give a certain worker a function with arguments to execute\n",
    "with remotecall, and get the result back with fetch."
   ]
  },
  {
   "cell_type": "markdown",
   "id": "096facda-3db1-4fd8-a17e-79c6587cdbda",
   "metadata": {},
   "source": [
    "As a trivial example in the following\n",
    "code, we call upon worker 2 to execute a square function on the number 1000:"
   ]
  },
  {
   "cell_type": "code",
   "execution_count": 17,
   "id": "98f67c93-2c9e-48b0-9421-090a8519db97",
   "metadata": {},
   "outputs": [
    {
     "data": {
      "text/plain": [
       "Future(2, 1, 12, ReentrantLock(nothing, Base.GenericCondition{Base.Threads.SpinLock}(Base.InvasiveLinkedList{Task}(nothing, nothing), Base.Threads.SpinLock(0)), 0), nothing)"
      ]
     },
     "execution_count": 17,
     "metadata": {},
     "output_type": "execute_result"
    }
   ],
   "source": [
    "r1 = remotecall(x -> x ^ 2 ,2 ,1000)"
   ]
  },
  {
   "cell_type": "markdown",
   "id": "59926a6a-69e8-4f8b-a500-2399b8a6c037",
   "metadata": {},
   "source": [
    "The arguments are: the worker ID, the function, and the function's arguments. Such a\n",
    "remote call returns immediately, thus not blocking the main worker (the REPL in this case).\n",
    "The main process continues executing while the remote worker does the assigned job. The\n",
    "remotecall function returns a variable, r1, of the Future type, which is a reference to the\n",
    "computed result, which we can get using fetch:"
   ]
  },
  {
   "cell_type": "code",
   "execution_count": 19,
   "id": "9350a0cb-940f-4fbf-ba7a-c0eb4d6168ff",
   "metadata": {},
   "outputs": [
    {
     "data": {
      "text/plain": [
       "1000000"
      ]
     },
     "execution_count": 19,
     "metadata": {},
     "output_type": "execute_result"
    }
   ],
   "source": [
    "fetch(r1)"
   ]
  },
  {
   "cell_type": "markdown",
   "id": "0acc9eee-e22d-4484-9a8d-b4849ef9e7b0",
   "metadata": {},
   "source": [
    "The call to fetch will block the main process until worker 2 has finished the calculation.\n",
    "The main processor can also run wait(r1), which also blocks until the result of the remote\n",
    "call becomes available. If you need the remote result immediately in the local operation, use\n",
    "the following command:"
   ]
  },
  {
   "cell_type": "code",
   "execution_count": 20,
   "id": "52cb0ac5-c163-4fe9-91cc-9a4cdb5f4d85",
   "metadata": {},
   "outputs": [
    {
     "data": {
      "text/plain": [
       "-0.13796586727122684"
      ]
     },
     "execution_count": 20,
     "metadata": {},
     "output_type": "execute_result"
    }
   ],
   "source": [
    "remotecall_fetch(sin,3,3.28)"
   ]
  },
  {
   "cell_type": "markdown",
   "id": "5e478088-653e-4f5a-840b-8e179d0afba6",
   "metadata": {},
   "source": [
    "This is more efficient than fetch(remotecall(..))."
   ]
  },
  {
   "cell_type": "markdown",
   "id": "dfcdd8f7-bce8-4860-99b9-5935ca653968",
   "metadata": {},
   "source": [
    "You can also use the @spawnat macro, which evaluates the expression in the second\n",
    "argument on the worker specified by the first argument:"
   ]
  },
  {
   "cell_type": "code",
   "execution_count": 21,
   "id": "ed644b10-a83b-48df-be16-f97fb98dd821",
   "metadata": {},
   "outputs": [
    {
     "data": {
      "text/plain": [
       "Future(5, 1, 15, ReentrantLock(nothing, Base.GenericCondition{Base.Threads.SpinLock}(Base.InvasiveLinkedList{Task}(nothing, nothing), Base.Threads.SpinLock(0)), 0), nothing)"
      ]
     },
     "execution_count": 21,
     "metadata": {},
     "output_type": "execute_result"
    }
   ],
   "source": [
    "x = @spawnat 5 sin(2)"
   ]
  },
  {
   "cell_type": "code",
   "execution_count": 22,
   "id": "12a880b3-1983-40b3-b052-d764951fd7a6",
   "metadata": {},
   "outputs": [
    {
     "data": {
      "text/plain": [
       "Future(5, 1, 15, ReentrantLock(nothing, Base.GenericCondition{Base.Threads.SpinLock}(Base.InvasiveLinkedList{Task}(nothing, nothing), Base.Threads.SpinLock(0)), 0), nothing)"
      ]
     },
     "execution_count": 22,
     "metadata": {},
     "output_type": "execute_result"
    }
   ],
   "source": [
    "x"
   ]
  },
  {
   "cell_type": "code",
   "execution_count": 23,
   "id": "122aa861-edca-4945-a874-97978badf421",
   "metadata": {},
   "outputs": [
    {
     "data": {
      "text/plain": [
       "0.9092974268256817"
      ]
     },
     "execution_count": 23,
     "metadata": {},
     "output_type": "execute_result"
    }
   ],
   "source": [
    "fetch(x)"
   ]
  },
  {
   "cell_type": "markdown",
   "id": "bdb2805a-86c2-4e17-a7bc-c498c793d68c",
   "metadata": {},
   "source": [
    "This is made even easier with @spawn, which only needs an expression to evaluate, because\n",
    "it decides for itself where it will be executed:"
   ]
  },
  {
   "cell_type": "code",
   "execution_count": 24,
   "id": "c44465b4-87c8-4027-881b-fed053d13705",
   "metadata": {},
   "outputs": [
    {
     "data": {
      "text/plain": [
       "Future(2, 1, 17, ReentrantLock(nothing, Base.GenericCondition{Base.Threads.SpinLock}(Base.InvasiveLinkedList{Task}(nothing, nothing), Base.Threads.SpinLock(0)), 0), nothing)"
      ]
     },
     "execution_count": 24,
     "metadata": {},
     "output_type": "execute_result"
    }
   ],
   "source": [
    "x = @spawn sin(2)"
   ]
  },
  {
   "cell_type": "code",
   "execution_count": 25,
   "id": "f423a962-8f44-4365-a640-4f10934e6ec8",
   "metadata": {},
   "outputs": [
    {
     "data": {
      "text/plain": [
       "0.9092974268256817"
      ]
     },
     "execution_count": 25,
     "metadata": {},
     "output_type": "execute_result"
    }
   ],
   "source": [
    "fetch(x)"
   ]
  },
  {
   "cell_type": "markdown",
   "id": "886d46ea-f93a-4758-873d-50c5cdd76647",
   "metadata": {},
   "source": [
    "To execute a certain function on all the workers, we can use a comprehension:"
   ]
  },
  {
   "cell_type": "code",
   "execution_count": 26,
   "id": "fa6ae714-2982-4e83-9262-4db16c24e907",
   "metadata": {},
   "outputs": [
    {
     "data": {
      "text/plain": [
       "100-element Vector{Future}:\n",
       " Future(3, 1, 19, ReentrantLock(nothing, Base.GenericCondition{Base.Threads.SpinLock}(Base.InvasiveLinkedList{Task}(nothing, nothing), Base.Threads.SpinLock(0)), 0), nothing)\n",
       " Future(4, 1, 20, ReentrantLock(nothing, Base.GenericCondition{Base.Threads.SpinLock}(Base.InvasiveLinkedList{Task}(nothing, nothing), Base.Threads.SpinLock(0)), 0), nothing)\n",
       " Future(5, 1, 21, ReentrantLock(nothing, Base.GenericCondition{Base.Threads.SpinLock}(Base.InvasiveLinkedList{Task}(nothing, nothing), Base.Threads.SpinLock(0)), 0), nothing)\n",
       " Future(2, 1, 22, ReentrantLock(nothing, Base.GenericCondition{Base.Threads.SpinLock}(Base.InvasiveLinkedList{Task}(nothing, nothing), Base.Threads.SpinLock(0)), 0), nothing)\n",
       " Future(3, 1, 23, ReentrantLock(nothing, Base.GenericCondition{Base.Threads.SpinLock}(Base.InvasiveLinkedList{Task}(nothing, nothing), Base.Threads.SpinLock(0)), 0), nothing)\n",
       " Future(4, 1, 24, ReentrantLock(nothing, Base.GenericCondition{Base.Threads.SpinLock}(Base.InvasiveLinkedList{Task}(nothing, nothing), Base.Threads.SpinLock(0)), 0), nothing)\n",
       " Future(5, 1, 25, ReentrantLock(nothing, Base.GenericCondition{Base.Threads.SpinLock}(Base.InvasiveLinkedList{Task}(nothing, nothing), Base.Threads.SpinLock(0)), 0), nothing)\n",
       " Future(2, 1, 26, ReentrantLock(nothing, Base.GenericCondition{Base.Threads.SpinLock}(Base.InvasiveLinkedList{Task}(nothing, nothing), Base.Threads.SpinLock(0)), 0), nothing)\n",
       " Future(3, 1, 27, ReentrantLock(nothing, Base.GenericCondition{Base.Threads.SpinLock}(Base.InvasiveLinkedList{Task}(nothing, nothing), Base.Threads.SpinLock(0)), 0), nothing)\n",
       " Future(4, 1, 28, ReentrantLock(nothing, Base.GenericCondition{Base.Threads.SpinLock}(Base.InvasiveLinkedList{Task}(nothing, nothing), Base.Threads.SpinLock(0)), 0), nothing)\n",
       " Future(5, 1, 29, ReentrantLock(nothing, Base.GenericCondition{Base.Threads.SpinLock}(Base.InvasiveLinkedList{Task}(nothing, nothing), Base.Threads.SpinLock(0)), 0), nothing)\n",
       " Future(2, 1, 30, ReentrantLock(nothing, Base.GenericCondition{Base.Threads.SpinLock}(Base.InvasiveLinkedList{Task}(nothing, nothing), Base.Threads.SpinLock(0)), 0), nothing)\n",
       " Future(3, 1, 31, ReentrantLock(nothing, Base.GenericCondition{Base.Threads.SpinLock}(Base.InvasiveLinkedList{Task}(nothing, nothing), Base.Threads.SpinLock(0)), 0), nothing)\n",
       " ⋮\n",
       " Future(3, 1, 107, ReentrantLock(nothing, Base.GenericCondition{Base.Threads.SpinLock}(Base.InvasiveLinkedList{Task}(nothing, nothing), Base.Threads.SpinLock(0)), 0), nothing)\n",
       " Future(4, 1, 108, ReentrantLock(nothing, Base.GenericCondition{Base.Threads.SpinLock}(Base.InvasiveLinkedList{Task}(nothing, nothing), Base.Threads.SpinLock(0)), 0), nothing)\n",
       " Future(5, 1, 109, ReentrantLock(nothing, Base.GenericCondition{Base.Threads.SpinLock}(Base.InvasiveLinkedList{Task}(nothing, nothing), Base.Threads.SpinLock(0)), 0), nothing)\n",
       " Future(2, 1, 110, ReentrantLock(nothing, Base.GenericCondition{Base.Threads.SpinLock}(Base.InvasiveLinkedList{Task}(nothing, nothing), Base.Threads.SpinLock(0)), 0), nothing)\n",
       " Future(3, 1, 111, ReentrantLock(nothing, Base.GenericCondition{Base.Threads.SpinLock}(Base.InvasiveLinkedList{Task}(nothing, nothing), Base.Threads.SpinLock(0)), 0), nothing)\n",
       " Future(4, 1, 112, ReentrantLock(nothing, Base.GenericCondition{Base.Threads.SpinLock}(Base.InvasiveLinkedList{Task}(nothing, nothing), Base.Threads.SpinLock(0)), 0), nothing)\n",
       " Future(5, 1, 113, ReentrantLock(nothing, Base.GenericCondition{Base.Threads.SpinLock}(Base.InvasiveLinkedList{Task}(nothing, nothing), Base.Threads.SpinLock(0)), 0), nothing)\n",
       " Future(2, 1, 114, ReentrantLock(nothing, Base.GenericCondition{Base.Threads.SpinLock}(Base.InvasiveLinkedList{Task}(nothing, nothing), Base.Threads.SpinLock(0)), 0), nothing)\n",
       " Future(3, 1, 115, ReentrantLock(nothing, Base.GenericCondition{Base.Threads.SpinLock}(Base.InvasiveLinkedList{Task}(nothing, nothing), Base.Threads.SpinLock(0)), 0), nothing)\n",
       " Future(4, 1, 116, ReentrantLock(nothing, Base.GenericCondition{Base.Threads.SpinLock}(Base.InvasiveLinkedList{Task}(nothing, nothing), Base.Threads.SpinLock(0)), 0), nothing)\n",
       " Future(5, 1, 117, ReentrantLock(nothing, Base.GenericCondition{Base.Threads.SpinLock}(Base.InvasiveLinkedList{Task}(nothing, nothing), Base.Threads.SpinLock(0)), 0), nothing)\n",
       " Future(2, 1, 118, ReentrantLock(nothing, Base.GenericCondition{Base.Threads.SpinLock}(Base.InvasiveLinkedList{Task}(nothing, nothing), Base.Threads.SpinLock(0)), 0), nothing)"
      ]
     },
     "execution_count": 26,
     "metadata": {},
     "output_type": "execute_result"
    }
   ],
   "source": [
    "r = [@spawn sin(i) for i in 1:100]"
   ]
  },
  {
   "cell_type": "code",
   "execution_count": 27,
   "id": "db628a7b-75d7-4f60-a44b-75a75e1feea7",
   "metadata": {},
   "outputs": [
    {
     "data": {
      "text/plain": [
       "100-element Vector{Float64}:\n",
       "  0.8414709848078965\n",
       "  0.9092974268256817\n",
       "  0.1411200080598672\n",
       " -0.7568024953079282\n",
       " -0.9589242746631385\n",
       " -0.27941549819892586\n",
       "  0.6569865987187891\n",
       "  0.9893582466233818\n",
       "  0.4121184852417566\n",
       " -0.5440211108893698\n",
       " -0.9999902065507035\n",
       " -0.5365729180004349\n",
       "  0.4201670368266409\n",
       "  ⋮\n",
       "  0.8600694058124532\n",
       "  0.8939966636005579\n",
       "  0.10598751175115685\n",
       " -0.7794660696158047\n",
       " -0.9482821412699473\n",
       " -0.24525198546765434\n",
       "  0.683261714736121\n",
       "  0.9835877454343449\n",
       "  0.3796077390275217\n",
       " -0.5733818719904229\n",
       " -0.9992068341863537\n",
       " -0.5063656411097588"
      ]
     },
     "execution_count": 27,
     "metadata": {},
     "output_type": "execute_result"
    }
   ],
   "source": [
    "x = [fetch(a) for a in r]"
   ]
  },
  {
   "cell_type": "markdown",
   "id": "defd1fc4-6697-4001-aebf-a0e5e4813c28",
   "metadata": {},
   "source": [
    "To execute the same statement on all the workers, we can also use the @everywhere macro:"
   ]
  },
  {
   "cell_type": "code",
   "execution_count": 36,
   "id": "272f17f5-3994-4823-896b-0a055c2814ba",
   "metadata": {},
   "outputs": [
    {
     "name": "stdout",
     "output_type": "stream",
     "text": [
      "WTF\n",
      "1\n",
      "      From worker 2:\tWTF\n",
      "      From worker 3:\tWTF\n",
      "      From worker 4:\tWTF\n",
      "      From worker 5:\tWTF\n",
      "      From worker 5:\t5\n",
      "      From worker 3:\t3\n",
      "      From worker 2:\t2\n",
      "      From worker 4:\t4\n"
     ]
    }
   ],
   "source": [
    "@everywhere begin \n",
    "    println(\"WTF\")\n",
    "    println(myid())\n",
    "end\n"
   ]
  },
  {
   "cell_type": "code",
   "execution_count": 37,
   "id": "d6d85e0a-695f-445d-b886-6826604f925d",
   "metadata": {},
   "outputs": [
    {
     "data": {
      "text/plain": [
       "2"
      ]
     },
     "execution_count": 37,
     "metadata": {},
     "output_type": "execute_result"
    }
   ],
   "source": [
    "begin \n",
    "    a = 2\n",
    "end\n"
   ]
  },
  {
   "cell_type": "markdown",
   "id": "344ba1aa-f3e8-4c90-8fc0-06ffa66e364b",
   "metadata": {},
   "source": [
    "All the workers correspond to different processes; they therefore do not share variables, for\n",
    "example:"
   ]
  },
  {
   "cell_type": "code",
   "execution_count": 39,
   "id": "b305bb9c-475c-4db1-9db2-3a69f4252417",
   "metadata": {},
   "outputs": [
    {
     "name": "stdout",
     "output_type": "stream",
     "text": [
      "2"
     ]
    },
    {
     "ename": "LoadError",
     "evalue": "On worker 2:\nUndefVarError: a not defined\nStacktrace:\n [1] top-level scope\n\u001b[90m   @ \u001b[39m\u001b[90m\u001b[4mnone:1\u001b[24m\u001b[39m\n [2] \u001b[0m\u001b[1meval\u001b[22m\n\u001b[90m   @ \u001b[39m\u001b[90m./\u001b[39m\u001b[90m\u001b[4mboot.jl:373\u001b[24m\u001b[39m\n [3] \u001b[0m\u001b[1m#103\u001b[22m\n\u001b[90m   @ \u001b[39m\u001b[90m/opt/julia-1.7.1/share/julia/stdlib/v1.7/Distributed/src/\u001b[39m\u001b[90m\u001b[4mprocess_messages.jl:274\u001b[24m\u001b[39m\n [4] \u001b[0m\u001b[1mrun_work_thunk\u001b[22m\n\u001b[90m   @ \u001b[39m\u001b[90m/opt/julia-1.7.1/share/julia/stdlib/v1.7/Distributed/src/\u001b[39m\u001b[90m\u001b[4mprocess_messages.jl:63\u001b[24m\u001b[39m\n [5] \u001b[0m\u001b[1mrun_work_thunk\u001b[22m\n\u001b[90m   @ \u001b[39m\u001b[90m/opt/julia-1.7.1/share/julia/stdlib/v1.7/Distributed/src/\u001b[39m\u001b[90m\u001b[4mprocess_messages.jl:72\u001b[24m\u001b[39m\n [6] \u001b[0m\u001b[1m#96\u001b[22m\n\u001b[90m   @ \u001b[39m\u001b[90m./\u001b[39m\u001b[90m\u001b[4mtask.jl:423\u001b[24m\u001b[39m\n\n...and 3 more exceptions.\n",
     "output_type": "error",
     "traceback": [
      "On worker 2:\nUndefVarError: a not defined\nStacktrace:\n [1] top-level scope\n\u001b[90m   @ \u001b[39m\u001b[90m\u001b[4mnone:1\u001b[24m\u001b[39m\n [2] \u001b[0m\u001b[1meval\u001b[22m\n\u001b[90m   @ \u001b[39m\u001b[90m./\u001b[39m\u001b[90m\u001b[4mboot.jl:373\u001b[24m\u001b[39m\n [3] \u001b[0m\u001b[1m#103\u001b[22m\n\u001b[90m   @ \u001b[39m\u001b[90m/opt/julia-1.7.1/share/julia/stdlib/v1.7/Distributed/src/\u001b[39m\u001b[90m\u001b[4mprocess_messages.jl:274\u001b[24m\u001b[39m\n [4] \u001b[0m\u001b[1mrun_work_thunk\u001b[22m\n\u001b[90m   @ \u001b[39m\u001b[90m/opt/julia-1.7.1/share/julia/stdlib/v1.7/Distributed/src/\u001b[39m\u001b[90m\u001b[4mprocess_messages.jl:63\u001b[24m\u001b[39m\n [5] \u001b[0m\u001b[1mrun_work_thunk\u001b[22m\n\u001b[90m   @ \u001b[39m\u001b[90m/opt/julia-1.7.1/share/julia/stdlib/v1.7/Distributed/src/\u001b[39m\u001b[90m\u001b[4mprocess_messages.jl:72\u001b[24m\u001b[39m\n [6] \u001b[0m\u001b[1m#96\u001b[22m\n\u001b[90m   @ \u001b[39m\u001b[90m./\u001b[39m\u001b[90m\u001b[4mtask.jl:423\u001b[24m\u001b[39m\n\n...and 3 more exceptions.\n",
      "",
      "Stacktrace:",
      " [1] sync_end(c::Channel{Any})",
      "   @ Base ./task.jl:381",
      " [2] macro expansion",
      "   @ ./task.jl:400 [inlined]",
      " [3] remotecall_eval(m::Module, procs::Vector{Int64}, ex::Expr)",
      "   @ Distributed /opt/julia-1.7.1/share/julia/stdlib/v1.7/Distributed/src/macros.jl:219",
      " [4] top-level scope",
      "   @ /opt/julia-1.7.1/share/julia/stdlib/v1.7/Distributed/src/macros.jl:203",
      " [5] eval",
      "   @ ./boot.jl:373 [inlined]",
      " [6] include_string(mapexpr::typeof(REPL.softscope), mod::Module, code::String, filename::String)",
      "   @ Base ./loading.jl:1196"
     ]
    }
   ],
   "source": [
    "@everywhere print(a)"
   ]
  },
  {
   "cell_type": "markdown",
   "id": "8254c122-79bb-46a1-aafe-6751fb3d98a6",
   "metadata": {},
   "source": [
    "The x variable is only known in the main process, all the other workers return the ERROR:\n",
    "x not defined error message."
   ]
  },
  {
   "cell_type": "markdown",
   "id": "d01e9b71-66be-4846-a74e-2c32f6b7e8c4",
   "metadata": {},
   "source": [
    "@everywhere can also be used to make the data, such as the w variable, available to all\n",
    "processors, for example, @everywhere w = 8."
   ]
  },
  {
   "cell_type": "code",
   "execution_count": 45,
   "id": "17e7ec34-7cb0-4c51-a765-b24a62a437ca",
   "metadata": {},
   "outputs": [
    {
     "name": "stdout",
     "output_type": "stream",
     "text": [
      "8\n",
      "      From worker 3:\t8\n",
      "      From worker 2:\t8\n",
      "      From worker 4:\t8\n",
      "      From worker 5:\t8\n"
     ]
    }
   ],
   "source": [
    "@everywhere begin \n",
    "    w = 8\n",
    "    println(w)\n",
    "end\n"
   ]
  },
  {
   "cell_type": "markdown",
   "id": "a0fcf572-57ee-49b7-8129-6d91a1193fa5",
   "metadata": {},
   "source": [
    "The following example makes a defs.jl source file available to all the workers:\n"
   ]
  },
  {
   "cell_type": "code",
   "execution_count": 46,
   "id": "754a07aa-9d9f-4afb-b5c8-2c37fd47ce41",
   "metadata": {},
   "outputs": [],
   "source": [
    "# @everywhere include(\"defs.jl\")"
   ]
  },
  {
   "cell_type": "code",
   "execution_count": 51,
   "id": "ab03a8e7-690d-4524-82e4-b90dd97759f1",
   "metadata": {},
   "outputs": [],
   "source": [
    "@everywhere function fib(n)\n",
    "    if (n < 2) then\n",
    "        return n\n",
    "    else return fib(n-1) + fib(n-2)\n",
    "    end\n",
    "end"
   ]
  },
  {
   "cell_type": "code",
   "execution_count": 52,
   "id": "42b42745-8388-45e6-a895-ab7b449a35da",
   "metadata": {},
   "outputs": [
    {
     "ename": "LoadError",
     "evalue": "On worker 2:\nUndefVarError: then not defined\nStacktrace:\n [1] \u001b[0m\u001b[1mfib\u001b[22m\n\u001b[90m   @ \u001b[39m\u001b[90m./\u001b[39m\u001b[90m\u001b[4mIn[51]:2\u001b[24m\u001b[39m\n [2] \u001b[0m\u001b[1mfib\u001b[22m\n\u001b[90m   @ \u001b[39m\u001b[90m./\u001b[39m\u001b[90m\u001b[4mIn[51]:4\u001b[24m\u001b[39m\n [3] top-level scope\n\u001b[90m   @ \u001b[39m\u001b[90m\u001b[4mnone:1\u001b[24m\u001b[39m\n [4] \u001b[0m\u001b[1meval\u001b[22m\n\u001b[90m   @ \u001b[39m\u001b[90m./\u001b[39m\u001b[90m\u001b[4mboot.jl:373\u001b[24m\u001b[39m\n [5] \u001b[0m\u001b[1m#103\u001b[22m\n\u001b[90m   @ \u001b[39m\u001b[90m/opt/julia-1.7.1/share/julia/stdlib/v1.7/Distributed/src/\u001b[39m\u001b[90m\u001b[4mprocess_messages.jl:274\u001b[24m\u001b[39m\n [6] \u001b[0m\u001b[1mrun_work_thunk\u001b[22m\n\u001b[90m   @ \u001b[39m\u001b[90m/opt/julia-1.7.1/share/julia/stdlib/v1.7/Distributed/src/\u001b[39m\u001b[90m\u001b[4mprocess_messages.jl:63\u001b[24m\u001b[39m\n [7] \u001b[0m\u001b[1mrun_work_thunk\u001b[22m\n\u001b[90m   @ \u001b[39m\u001b[90m/opt/julia-1.7.1/share/julia/stdlib/v1.7/Distributed/src/\u001b[39m\u001b[90m\u001b[4mprocess_messages.jl:72\u001b[24m\u001b[39m\n [8] \u001b[0m\u001b[1m#96\u001b[22m\n\u001b[90m   @ \u001b[39m\u001b[90m./\u001b[39m\u001b[90m\u001b[4mtask.jl:423\u001b[24m\u001b[39m\n\n...and 4 more exceptions.\n",
     "output_type": "error",
     "traceback": [
      "On worker 2:\nUndefVarError: then not defined\nStacktrace:\n [1] \u001b[0m\u001b[1mfib\u001b[22m\n\u001b[90m   @ \u001b[39m\u001b[90m./\u001b[39m\u001b[90m\u001b[4mIn[51]:2\u001b[24m\u001b[39m\n [2] \u001b[0m\u001b[1mfib\u001b[22m\n\u001b[90m   @ \u001b[39m\u001b[90m./\u001b[39m\u001b[90m\u001b[4mIn[51]:4\u001b[24m\u001b[39m\n [3] top-level scope\n\u001b[90m   @ \u001b[39m\u001b[90m\u001b[4mnone:1\u001b[24m\u001b[39m\n [4] \u001b[0m\u001b[1meval\u001b[22m\n\u001b[90m   @ \u001b[39m\u001b[90m./\u001b[39m\u001b[90m\u001b[4mboot.jl:373\u001b[24m\u001b[39m\n [5] \u001b[0m\u001b[1m#103\u001b[22m\n\u001b[90m   @ \u001b[39m\u001b[90m/opt/julia-1.7.1/share/julia/stdlib/v1.7/Distributed/src/\u001b[39m\u001b[90m\u001b[4mprocess_messages.jl:274\u001b[24m\u001b[39m\n [6] \u001b[0m\u001b[1mrun_work_thunk\u001b[22m\n\u001b[90m   @ \u001b[39m\u001b[90m/opt/julia-1.7.1/share/julia/stdlib/v1.7/Distributed/src/\u001b[39m\u001b[90m\u001b[4mprocess_messages.jl:63\u001b[24m\u001b[39m\n [7] \u001b[0m\u001b[1mrun_work_thunk\u001b[22m\n\u001b[90m   @ \u001b[39m\u001b[90m/opt/julia-1.7.1/share/julia/stdlib/v1.7/Distributed/src/\u001b[39m\u001b[90m\u001b[4mprocess_messages.jl:72\u001b[24m\u001b[39m\n [8] \u001b[0m\u001b[1m#96\u001b[22m\n\u001b[90m   @ \u001b[39m\u001b[90m./\u001b[39m\u001b[90m\u001b[4mtask.jl:423\u001b[24m\u001b[39m\n\n...and 4 more exceptions.\n",
      "",
      "Stacktrace:",
      " [1] sync_end(c::Channel{Any})",
      "   @ Base ./task.jl:381",
      " [2] macro expansion",
      "   @ ./task.jl:400 [inlined]",
      " [3] remotecall_eval(m::Module, procs::Vector{Int64}, ex::Expr)",
      "   @ Distributed /opt/julia-1.7.1/share/julia/stdlib/v1.7/Distributed/src/macros.jl:219",
      " [4] top-level scope",
      "   @ /opt/julia-1.7.1/share/julia/stdlib/v1.7/Distributed/src/macros.jl:203",
      " [5] eval",
      "   @ ./boot.jl:373 [inlined]",
      " [6] include_string(mapexpr::typeof(REPL.softscope), mod::Module, code::String, filename::String)",
      "   @ Base ./loading.jl:1196"
     ]
    }
   ],
   "source": [
    "@everywhere println(fib(myid()))"
   ]
  },
  {
   "cell_type": "code",
   "execution_count": 54,
   "id": "3fc39595-c5ba-4917-ae53-f2c675502894",
   "metadata": {},
   "outputs": [
    {
     "ename": "LoadError",
     "evalue": "On worker 2:\nUndefVarError: then not defined\nStacktrace:\n [1] \u001b[0m\u001b[1mfib\u001b[22m\n\u001b[90m   @ \u001b[39m\u001b[90m./\u001b[39m\u001b[90m\u001b[4mIn[54]:3\u001b[24m\u001b[39m\n [2] \u001b[0m\u001b[1mfib\u001b[22m\u001b[90m (repeats 2 times)\u001b[39m\n\u001b[90m   @ \u001b[39m\u001b[90m./\u001b[39m\u001b[90m\u001b[4mIn[54]:5\u001b[24m\u001b[39m\n [3] top-level scope\n\u001b[90m   @ \u001b[39m\u001b[90m\u001b[4mIn[54]:8\u001b[24m\u001b[39m\n [4] \u001b[0m\u001b[1meval\u001b[22m\n\u001b[90m   @ \u001b[39m\u001b[90m./\u001b[39m\u001b[90m\u001b[4mboot.jl:373\u001b[24m\u001b[39m\n [5] \u001b[0m\u001b[1m#103\u001b[22m\n\u001b[90m   @ \u001b[39m\u001b[90m/opt/julia-1.7.1/share/julia/stdlib/v1.7/Distributed/src/\u001b[39m\u001b[90m\u001b[4mprocess_messages.jl:274\u001b[24m\u001b[39m\n [6] \u001b[0m\u001b[1mrun_work_thunk\u001b[22m\n\u001b[90m   @ \u001b[39m\u001b[90m/opt/julia-1.7.1/share/julia/stdlib/v1.7/Distributed/src/\u001b[39m\u001b[90m\u001b[4mprocess_messages.jl:63\u001b[24m\u001b[39m\n [7] \u001b[0m\u001b[1mrun_work_thunk\u001b[22m\n\u001b[90m   @ \u001b[39m\u001b[90m/opt/julia-1.7.1/share/julia/stdlib/v1.7/Distributed/src/\u001b[39m\u001b[90m\u001b[4mprocess_messages.jl:72\u001b[24m\u001b[39m\n [8] \u001b[0m\u001b[1m#96\u001b[22m\n\u001b[90m   @ \u001b[39m\u001b[90m./\u001b[39m\u001b[90m\u001b[4mtask.jl:423\u001b[24m\u001b[39m\n\n...and 4 more exceptions.\n",
     "output_type": "error",
     "traceback": [
      "On worker 2:\nUndefVarError: then not defined\nStacktrace:\n [1] \u001b[0m\u001b[1mfib\u001b[22m\n\u001b[90m   @ \u001b[39m\u001b[90m./\u001b[39m\u001b[90m\u001b[4mIn[54]:3\u001b[24m\u001b[39m\n [2] \u001b[0m\u001b[1mfib\u001b[22m\u001b[90m (repeats 2 times)\u001b[39m\n\u001b[90m   @ \u001b[39m\u001b[90m./\u001b[39m\u001b[90m\u001b[4mIn[54]:5\u001b[24m\u001b[39m\n [3] top-level scope\n\u001b[90m   @ \u001b[39m\u001b[90m\u001b[4mIn[54]:8\u001b[24m\u001b[39m\n [4] \u001b[0m\u001b[1meval\u001b[22m\n\u001b[90m   @ \u001b[39m\u001b[90m./\u001b[39m\u001b[90m\u001b[4mboot.jl:373\u001b[24m\u001b[39m\n [5] \u001b[0m\u001b[1m#103\u001b[22m\n\u001b[90m   @ \u001b[39m\u001b[90m/opt/julia-1.7.1/share/julia/stdlib/v1.7/Distributed/src/\u001b[39m\u001b[90m\u001b[4mprocess_messages.jl:274\u001b[24m\u001b[39m\n [6] \u001b[0m\u001b[1mrun_work_thunk\u001b[22m\n\u001b[90m   @ \u001b[39m\u001b[90m/opt/julia-1.7.1/share/julia/stdlib/v1.7/Distributed/src/\u001b[39m\u001b[90m\u001b[4mprocess_messages.jl:63\u001b[24m\u001b[39m\n [7] \u001b[0m\u001b[1mrun_work_thunk\u001b[22m\n\u001b[90m   @ \u001b[39m\u001b[90m/opt/julia-1.7.1/share/julia/stdlib/v1.7/Distributed/src/\u001b[39m\u001b[90m\u001b[4mprocess_messages.jl:72\u001b[24m\u001b[39m\n [8] \u001b[0m\u001b[1m#96\u001b[22m\n\u001b[90m   @ \u001b[39m\u001b[90m./\u001b[39m\u001b[90m\u001b[4mtask.jl:423\u001b[24m\u001b[39m\n\n...and 4 more exceptions.\n",
      "",
      "Stacktrace:",
      " [1] sync_end(c::Channel{Any})",
      "   @ Base ./task.jl:381",
      " [2] macro expansion",
      "   @ ./task.jl:400 [inlined]",
      " [3] remotecall_eval(m::Module, procs::Vector{Int64}, ex::Expr)",
      "   @ Distributed /opt/julia-1.7.1/share/julia/stdlib/v1.7/Distributed/src/macros.jl:219",
      " [4] top-level scope",
      "   @ /opt/julia-1.7.1/share/julia/stdlib/v1.7/Distributed/src/macros.jl:203",
      " [5] eval",
      "   @ ./boot.jl:373 [inlined]",
      " [6] include_string(mapexpr::typeof(REPL.softscope), mod::Module, code::String, filename::String)",
      "   @ Base ./loading.jl:1196"
     ]
    }
   ],
   "source": [
    "@everywhere begin \n",
    "    function fib(n)\n",
    "        if (n < 2) then\n",
    "            return n\n",
    "        else return fib(n-1) + fib(n-2)\n",
    "        end\n",
    "    end\n",
    "    println(fib(myid()))\n",
    "end\n"
   ]
  },
  {
   "cell_type": "markdown",
   "id": "73cac97d-0f78-4074-a3c0-3d823a07c351",
   "metadata": {},
   "source": [
    "In order to be able to perform its task, a remote worker needs access to the function it\n",
    "executes. You can make sure that all workers know about the functions they need by\n",
    "loading the functions.jl source code with include, making it available to all workers:"
   ]
  },
  {
   "cell_type": "markdown",
   "id": "c6b45488-d652-4d4b-9f45-419bf5db91c5",
   "metadata": {},
   "source": [
    "A best practice is to separate your code into two files: one file\n",
    "(functions.jl) that contains the functions and parameters that need to\n",
    "be run in parallel, and the other file (driver.jl) that manages the\n",
    "processing and collects the results. Use the include(\"functions.jl\")\n",
    "command in driver.jl to import the functions and parameters to all\n",
    "processors."
   ]
  },
  {
   "cell_type": "markdown",
   "id": "65d707d4-db5d-41bd-a38c-939cbaeb8a2e",
   "metadata": {},
   "source": [
    "An alternative is to specify that the files load on the command line. If you need\n",
    "the file1.jl and file2.jl source files on all the n processors at startup time, use\n",
    "the julia -p n -L file1.jl -L file2.jl driver.jl syntax, where driver.jl is\n",
    "the script that organizes the computations."
   ]
  },
  {
   "cell_type": "code",
   "execution_count": 55,
   "id": "fb3b39cb-a8b2-481f-a0e2-be4a12e63c06",
   "metadata": {},
   "outputs": [],
   "source": [
    "# julia -p n -L file1.jl -L file2.jl driver.jl"
   ]
  },
  {
   "cell_type": "markdown",
   "id": "09bd53f0-4934-4abe-8dd9-d2d0168f5804",
   "metadata": {},
   "source": [
    "Data-movement between workers (such as when calling fetch) needs to be reduced as\n",
    "much as possible in order to get performance and scalability."
   ]
  },
  {
   "cell_type": "code",
   "execution_count": 56,
   "id": "b62a8906-e025-48ee-9a6b-a19848315913",
   "metadata": {},
   "outputs": [],
   "source": [
    "@everywhere a = \"WTF is going on here\""
   ]
  },
  {
   "cell_type": "code",
   "execution_count": 57,
   "id": "0f9b93ed-8b44-4316-b62d-4d29c79fe5fa",
   "metadata": {},
   "outputs": [
    {
     "name": "stdout",
     "output_type": "stream",
     "text": [
      "WTF is going on here\n",
      "      From worker 5:\tWTF is going on here\n",
      "      From worker 2:\tWTF is going on here\n",
      "      From worker 3:\tWTF is going on here\n",
      "      From worker 4:\tWTF is going on here\n"
     ]
    }
   ],
   "source": [
    "@everywhere println(a)"
   ]
  },
  {
   "cell_type": "code",
   "execution_count": 58,
   "id": "31aca349-f1a2-4c82-aede-346b6787c177",
   "metadata": {},
   "outputs": [],
   "source": [
    "@everywhere fb(n) = n < 2 ? 1 : fb(n-1) + fb(n-2)"
   ]
  },
  {
   "cell_type": "code",
   "execution_count": 60,
   "id": "a7e8028c-04e5-48f0-ac14-9d5a270a5347",
   "metadata": {},
   "outputs": [
    {
     "name": "stdout",
     "output_type": "stream",
     "text": [
      "3\n",
      "      From worker 2:\t13\n",
      "      From worker 3:\t55\n",
      "      From worker 4:\t233\n",
      "      From worker 5:\t987\n"
     ]
    }
   ],
   "source": [
    "@everywhere println(fb(myid()*3))"
   ]
  },
  {
   "cell_type": "markdown",
   "id": "4f548b38-aa1b-4ba7-8237-6588997dec62",
   "metadata": {},
   "source": [
    "If every worker needs to know the d variable, this can be broadcast to all processes with the\n",
    "following code:"
   ]
  },
  {
   "cell_type": "markdown",
   "id": "3ab7bc85-1498-4b49-a2e0-d4d7c9b156f8",
   "metadata": {},
   "source": [
    "Each worker then has its local copy of data. Scheduling the workers is done with tasks\n",
    "(refer to the Tasks section of Chapter 4, Control Flow), so that no locking is required; for\n",
    "example, when a communication operation such as fetch or wait is executed, the current\n",
    "task is suspended, and the scheduler picks another task to run. When the wait event\n",
    "completes (for example, the data shows up), the current task is restarted."
   ]
  },
  {
   "cell_type": "markdown",
   "id": "66b68fbe-e865-495e-9f36-33ccbf45a41f",
   "metadata": {},
   "source": [
    "In many cases, however, you do not have to specify or create processes to do parallel\n",
    "programming in Julia, as we will see in the next section."
   ]
  },
  {
   "cell_type": "markdown",
   "id": "7360e0c0-1e42-4137-a66e-5615e3d41d68",
   "metadata": {},
   "source": [
    "# Parallel loops and maps"
   ]
  },
  {
   "cell_type": "markdown",
   "id": "15724ec0-8dad-4dc7-aca1-222f7898edc8",
   "metadata": {},
   "source": [
    "A for loop with a large number of iterations is a good candidate for parallel execution, and\n",
    "Julia has a special construct to do this: the @parallel macro, which can be used for the for\n",
    "loops and comprehensions."
   ]
  },
  {
   "cell_type": "code",
   "execution_count": 61,
   "id": "c01ffbd1-8962-4161-b4fb-17bbbd63489b",
   "metadata": {},
   "outputs": [
    {
     "data": {
      "text/plain": [
       "buffon (generic function with 1 method)"
      ]
     },
     "execution_count": 61,
     "metadata": {},
     "output_type": "execute_result"
    }
   ],
   "source": [
    "function buffon(n)\n",
    "    hit = 0\n",
    "    for i = 1:n\n",
    "        mp = rand()\n",
    "        phi = (rand() * pi) - pi / 2 # angle at which needle falls\n",
    "        xright = mp + cos(phi)/2 # x location of needle\n",
    "        xleft = mp - cos(phi)/2\n",
    "        # does needle cross either x == 0 or x == 1?\n",
    "        p = (xright >= 1 || xleft <= 0) ? 1 : 0\n",
    "        hit += p\n",
    "    end\n",
    "    miss = n - hit\n",
    "    piapprox = n / hit * 2\n",
    "end"
   ]
  },
  {
   "cell_type": "code",
   "execution_count": 63,
   "id": "e3db39e9-16e2-48c0-8640-d95bb8c74ceb",
   "metadata": {},
   "outputs": [
    {
     "name": "stdout",
     "output_type": "stream",
     "text": [
      "  0.000002 seconds\n"
     ]
    }
   ],
   "source": [
    "@time buffon(10);"
   ]
  },
  {
   "cell_type": "code",
   "execution_count": 64,
   "id": "0bdfb1fc-8114-43fa-a953-2c2a7ba2fb48",
   "metadata": {},
   "outputs": [
    {
     "name": "stdout",
     "output_type": "stream",
     "text": [
      "  0.000008 seconds\n"
     ]
    }
   ],
   "source": [
    "@time buffon(100);"
   ]
  },
  {
   "cell_type": "code",
   "execution_count": 65,
   "id": "09dbed70-ab9f-4bf5-9856-362c53f02d71",
   "metadata": {},
   "outputs": [
    {
     "name": "stdout",
     "output_type": "stream",
     "text": [
      "  0.000391 seconds\n"
     ]
    }
   ],
   "source": [
    "@time buffon(10000);"
   ]
  },
  {
   "cell_type": "code",
   "execution_count": 66,
   "id": "70f6d3e6-6973-4f3e-a7ad-fe0e9fe204df",
   "metadata": {},
   "outputs": [
    {
     "name": "stdout",
     "output_type": "stream",
     "text": [
      "  0.040812 seconds\n"
     ]
    }
   ],
   "source": [
    "@time buffon(1000000);"
   ]
  },
  {
   "cell_type": "code",
   "execution_count": 68,
   "id": "e37c2605-e6d2-4f34-8a64-4f9510d4a15b",
   "metadata": {},
   "outputs": [
    {
     "name": "stdout",
     "output_type": "stream",
     "text": [
      "  3.439089 seconds\n"
     ]
    },
    {
     "data": {
      "text/plain": [
       "3.1412899936673164"
      ]
     },
     "execution_count": 68,
     "metadata": {},
     "output_type": "execute_result"
    }
   ],
   "source": [
    "@time buffon(100000000)"
   ]
  },
  {
   "cell_type": "markdown",
   "id": "158951b9-7f84-4b61-86d7-a125278370da",
   "metadata": {},
   "source": [
    "However, what if we could spread the calculations over the available processors? For this,\n",
    "we have to rearrange our code a bit. In the sequential version, the variable hit is increased\n",
    "on every iteration inside the for loop with the p amount (which is 0 or 1). In the parallel\n",
    "version, we rewrite the code, so that this p is exactly the result of the for loop (one\n",
    "calculation) done on one of the involved processors."
   ]
  },
  {
   "cell_type": "markdown",
   "id": "3a1614d5-32f1-4c92-ad41-39deeaa7aaad",
   "metadata": {},
   "source": [
    "Julia also provides a @distributed macro that acts on a for loop, splitting the range and\n",
    "distributing it to each process. It optionally takes a \"reducer\" as its first argument. If a\n",
    "reducer is specified, the results from each remote procedure will be aggregated using the\n",
    "reducer. In the following example, we use the (+) function as a reducer, which means that\n",
    "the last values of the parallel blocks on each worker will be summed to calculate the final\n",
    "value of hit:"
   ]
  },
  {
   "cell_type": "code",
   "execution_count": 69,
   "id": "3b6bb737-4711-472f-8268-98f7fa3ca87b",
   "metadata": {},
   "outputs": [
    {
     "data": {
      "text/plain": [
       "buffon_par (generic function with 1 method)"
      ]
     },
     "execution_count": 69,
     "metadata": {},
     "output_type": "execute_result"
    }
   ],
   "source": [
    "function buffon_par(n)\n",
    "    hit = @distributed (+) for i = 1:n\n",
    "        mp = rand()\n",
    "        phi = (rand() * pi) - pi / 2\n",
    "        xright = mp + cos(phi)/2\n",
    "        xleft = mp - cos(phi)/2\n",
    "        (xright >= 1 || xleft <= 0) ? 1 : 0\n",
    "    end\n",
    "    miss = n - hit\n",
    "    piapprox = n / hit * 2\n",
    "end"
   ]
  },
  {
   "cell_type": "code",
   "execution_count": 76,
   "id": "a30a2b08-9757-4932-b799-ff65aeb29564",
   "metadata": {},
   "outputs": [
    {
     "name": "stdout",
     "output_type": "stream",
     "text": [
      " 35.076468 seconds\n"
     ]
    }
   ],
   "source": [
    "@time buffon(1000000000);"
   ]
  },
  {
   "cell_type": "code",
   "execution_count": 77,
   "id": "08d04142-877b-49d4-b3fb-08345f0806a9",
   "metadata": {},
   "outputs": [
    {
     "name": "stdout",
     "output_type": "stream",
     "text": [
      "  9.484346 seconds (295 allocations: 12.906 KiB)\n"
     ]
    }
   ],
   "source": [
    "@time buffon_par(1000000000);"
   ]
  },
  {
   "cell_type": "markdown",
   "id": "f3e9347c-5bde-4d66-8674-72582d7dfbd4",
   "metadata": {},
   "source": [
    "By changing a normal for loop into a parallel-reducing version, we were able to get\n",
    "substantial improvements in the calculation time, at the cost of higher memory\n",
    "consumption. In general, always test whether the parallel version really is an improvement\n",
    "over the sequential version in your specific case!"
   ]
  },
  {
   "cell_type": "markdown",
   "id": "3a60353a-ebf4-4aa0-acb4-ea0b6bda4a41",
   "metadata": {},
   "source": [
    "The first argument of @distributed is the reducing operator (here, (+)), the second is the\n",
    "for loop, which must start on the same line."
   ]
  },
  {
   "cell_type": "markdown",
   "id": "d6c3741b-bd74-4b29-88c7-d3384f7d2c61",
   "metadata": {},
   "source": [
    "The calculations in the loop must be\n",
    "independent of one another, because the order in which they run is arbitrary, given that\n",
    "they are scheduled over the different workers. The actual reduction (summing up in this\n",
    "case) is done on the calling process."
   ]
  },
  {
   "cell_type": "markdown",
   "id": "3d3d2ee5-f91d-4303-9a4f-2e55f97c953c",
   "metadata": {},
   "source": [
    "Any variables used inside the parallel loop will be copied (broadcasted) to each process.\n",
    "Because of this, the code, such as the following, will fail to initialize the arr array, because\n",
    "each process has a copy of it:"
   ]
  },
  {
   "cell_type": "code",
   "execution_count": 78,
   "id": "e3683255-9167-49fd-bef9-9d0e12766e67",
   "metadata": {},
   "outputs": [
    {
     "ename": "LoadError",
     "evalue": "ArgumentError: Cannot construct range from arguments:\nstart = 1000\nstep = nothing\nstop = nothing\nlength = nothing\nTry specifying more arguments.\n",
     "output_type": "error",
     "traceback": [
      "ArgumentError: Cannot construct range from arguments:\nstart = 1000\nstep = nothing\nstop = nothing\nlength = nothing\nTry specifying more arguments.\n",
      "",
      "Stacktrace:",
      " [1] range_error(start::Int64, step::Nothing, stop::Nothing, length::Nothing)",
      "   @ Base ./range.jl:199",
      " [2] _range(start::Int64, step::Nothing, stop::Nothing, len::Nothing)",
      "   @ Base ./range.jl:125",
      " [3] range(start::Int64; stop::Nothing, length::Nothing, step::Nothing)",
      "   @ Base ./range.jl:109",
      " [4] range(start::Int64)",
      "   @ Base ./range.jl:109",
      " [5] top-level scope",
      "   @ /opt/julia-1.7.1/share/julia/stdlib/v1.7/Distributed/src/macros.jl:301",
      " [6] eval",
      "   @ ./boot.jl:373 [inlined]",
      " [7] include_string(mapexpr::typeof(REPL.softscope), mod::Module, code::String, filename::String)",
      "   @ Base ./loading.jl:1196"
     ]
    }
   ],
   "source": [
    "arr = zeros(1000)\n",
    "@distributed for i in range(1000)\n",
    "    arr[i] = 10\n",
    "end\n"
   ]
  },
  {
   "cell_type": "markdown",
   "id": "4270e3ec-27f0-45ad-aff9-f2537e2925a9",
   "metadata": {},
   "source": [
    "If the computational task is to apply a function to all elements in some collection, you can\n",
    "use a parallel map operation through the pmap function."
   ]
  },
  {
   "cell_type": "markdown",
   "id": "2a948266-db7f-4091-8b6a-1762067a2a16",
   "metadata": {},
   "source": [
    "The pmap function takes the\n",
    "following form: pmap(f, coll), applies an f function on each element of the coll\n",
    "collection in parallel, but preserves the order of the collection in the result. Suppose we\n",
    "have to calculate the rank of a number of large matrices. We can do this sequentially, as\n",
    "follows:"
   ]
  },
  {
   "cell_type": "code",
   "execution_count": 79,
   "id": "aa26e65f-3293-436e-822e-029dc336d029",
   "metadata": {},
   "outputs": [
    {
     "data": {
      "text/plain": [
       "rank_marray (generic function with 1 method)"
      ]
     },
     "execution_count": 79,
     "metadata": {},
     "output_type": "execute_result"
    }
   ],
   "source": [
    "using LinearAlgebra\n",
    "function rank_marray()\n",
    "    marr = [rand(1000,1000) for i=1:10]\n",
    "    for arr in marr\n",
    "        println(LinearAlgebra.rank(arr))\n",
    "    end\n",
    "end"
   ]
  },
  {
   "cell_type": "code",
   "execution_count": 88,
   "id": "78a8cd5c-219e-4e7c-acc8-987aeaeca576",
   "metadata": {},
   "outputs": [
    {
     "name": "stdout",
     "output_type": "stream",
     "text": [
      "1000\n",
      "1000\n",
      "1000\n",
      "1000\n",
      "1000\n",
      "1000\n",
      "1000\n",
      "1000\n",
      "1000\n",
      "1000\n",
      "  2.440538 seconds (355 allocations: 158.397 MiB, 1.69% gc time)\n"
     ]
    }
   ],
   "source": [
    "@time rank_marray();"
   ]
  },
  {
   "cell_type": "markdown",
   "id": "849e860d-ea9f-4142-a102-fd8057ad65e1",
   "metadata": {},
   "source": [
    "In the following, parallelizing also gives benefits (a factor of 1.6):"
   ]
  },
  {
   "cell_type": "code",
   "execution_count": 81,
   "id": "a7ef4796-a490-4824-9bba-c08b6e4f1c6f",
   "metadata": {},
   "outputs": [
    {
     "data": {
      "text/plain": [
       "prank_marray (generic function with 1 method)"
      ]
     },
     "execution_count": 81,
     "metadata": {},
     "output_type": "execute_result"
    }
   ],
   "source": [
    "function prank_marray()\n",
    "    marr = [rand(1000,1000) for i=1:10]\n",
    "    println(pmap(LinearAlgebra.rank, marr))\n",
    "end"
   ]
  },
  {
   "cell_type": "code",
   "execution_count": 87,
   "id": "9967595a-63d4-496a-850c-46824ff0abe7",
   "metadata": {},
   "outputs": [
    {
     "name": "stdout",
     "output_type": "stream",
     "text": [
      "[1000, 1000, 1000, 1000, 1000, 1000, 1000, 1000, 1000, 1000]\n",
      "  2.569863 seconds (925 allocations: 76.324 MiB, 0.04% gc time)\n"
     ]
    }
   ],
   "source": [
    "@time prank_marray();"
   ]
  },
  {
   "cell_type": "markdown",
   "id": "840bbbcb-92ea-434c-95a0-63b5cee33da5",
   "metadata": {},
   "source": [
    "The @distributed macro and pmap are both powerful tools to tackle map-reduce\n",
    "problems."
   ]
  },
  {
   "cell_type": "markdown",
   "id": "e2262907-180f-4d8d-8dd6-6f267cfdb900",
   "metadata": {},
   "source": [
    "Julia's model for building a large parallel application works by means of a global\n",
    "distributed address space. This means that you can hold a reference to an object that lives\n",
    "on another machine participating in a computation. These references are easily\n",
    "manipulated and passed around between machines, making it simple to keep track of\n",
    "what's being computed where. Also, machines can be added in mid-computation when\n",
    "needed."
   ]
  },
  {
   "cell_type": "code",
   "execution_count": null,
   "id": "4b75f4db-fb29-4069-9569-8a100fde7dfa",
   "metadata": {},
   "outputs": [],
   "source": []
  }
 ],
 "metadata": {
  "kernelspec": {
   "display_name": "Julia 1.7.1",
   "language": "julia",
   "name": "julia-1.7"
  },
  "language_info": {
   "file_extension": ".jl",
   "mimetype": "application/julia",
   "name": "julia",
   "version": "1.7.1"
  }
 },
 "nbformat": 4,
 "nbformat_minor": 5
}
