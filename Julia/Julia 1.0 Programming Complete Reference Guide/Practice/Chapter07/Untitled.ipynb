{
 "cells": [
  {
   "cell_type": "markdown",
   "id": "240be987-6127-455f-b2d2-6426e3780624",
   "metadata": {},
   "source": [
    "# Metaprogramming in Julia"
   ]
  },
  {
   "cell_type": "markdown",
   "id": "43c59f46-df57-493f-95a3-4b68ec2dd663",
   "metadata": {},
   "source": [
    "Everything in Julia is an expression that returns a value when executed. Every piece of the\n",
    "program code is internally represented as an ordinary Julia data structure, also called an\n",
    "expression"
   ]
  },
  {
   "cell_type": "markdown",
   "id": "86bfb317-ff29-4d9e-8d81-8319dc2d7fb6",
   "metadata": {},
   "source": [
    "In this chapter, we will see how, by working on expressions, a Julia program\n",
    "can transform and even generate new code. This is a very powerful characteristic, also\n",
    "called homoiconicity"
   ]
  },
  {
   "cell_type": "markdown",
   "id": "3a5458cf-3756-4010-85dc-fb837c9762ab",
   "metadata": {},
   "source": [
    "It inherits this property from Lisp, where code and data are just lists,\n",
    "and where it is commonly referred to with the phrase: Code is data and data is code."
   ]
  },
  {
   "cell_type": "markdown",
   "id": "c23138de-df24-433d-bfd5-cef832c4b526",
   "metadata": {},
   "source": [
    "In homoiconic languages, code can be expressed in terms of the language syntax. This is the\n",
    "case for the Lisp-like family of languages: Lisp, Scheme and, more recently, Clojure, which\n",
    "use s-expressions"
   ]
  },
  {
   "cell_type": "markdown",
   "id": "80c8d9cd-b784-4664-b1dc-b61cc96779bd",
   "metadata": {},
   "source": [
    "Julia is homoiconic, as are others such as Prolog, IO, Rebol, and Red. As\n",
    "such, these are able to generate code during runtime, which can be subsequently executed."
   ]
  },
  {
   "cell_type": "markdown",
   "id": "b94f94cc-7f31-47fb-a2a0-9217df3b8795",
   "metadata": {},
   "source": [
    "We will explore this metaprogramming power by covering the following topics:\n",
    "- Expressions and symbols\n",
    "- Evaluation and interpolation\n",
    "- Defining macros\n",
    "- Built-in macros\n",
    "- Reflection capabilities"
   ]
  },
  {
   "cell_type": "markdown",
   "id": "c65f7352-e320-4765-8f12-c52933f940f0",
   "metadata": {},
   "source": [
    "# Expressions and symbols"
   ]
  },
  {
   "cell_type": "markdown",
   "id": "fb4e6f3a-fe70-49d4-84c5-9543ad090cbd",
   "metadata": {},
   "source": [
    "An abstract syntax tree (AST) is a tree representation of the abstract syntactic structure of\n",
    "source code written in a programming language."
   ]
  },
  {
   "cell_type": "markdown",
   "id": "ca0316c3-2225-4687-bef7-c90716e593ca",
   "metadata": {},
   "source": [
    "When Julia code is parsed by its LLVM JIT\n",
    "compiler, it is internally represented as an abstract syntax tree. The nodes of this tree are\n",
    "simple data structures of the type expression Expr"
   ]
  },
  {
   "cell_type": "markdown",
   "id": "ef30abca-7c60-49d1-8960-a0e32402d00a",
   "metadata": {},
   "source": [
    "An expression is simply an object that represents Julia code."
   ]
  },
  {
   "cell_type": "markdown",
   "id": "2a604e60-1433-419d-bedf-295a9237fa06",
   "metadata": {},
   "source": [
    "To make Julia see this as an expression and block its evaluation, we have to quote it, that is,\n",
    "precede it by a colon (:) as in :(2 + 3)"
   ]
  },
  {
   "cell_type": "code",
   "execution_count": 1,
   "id": "2d906fac-9329-4fe1-bb53-9578b3ce0c50",
   "metadata": {},
   "outputs": [
    {
     "data": {
      "text/plain": [
       ":(2 + 3)"
      ]
     },
     "execution_count": 1,
     "metadata": {},
     "output_type": "execute_result"
    }
   ],
   "source": [
    ":(2 + 3)"
   ]
  },
  {
   "cell_type": "code",
   "execution_count": 2,
   "id": "c145bea6-a996-4f81-b3da-4266e13bf4c5",
   "metadata": {},
   "outputs": [
    {
     "data": {
      "text/plain": [
       "Expr"
      ]
     },
     "execution_count": 2,
     "metadata": {},
     "output_type": "execute_result"
    }
   ],
   "source": [
    "typeof(ans)"
   ]
  },
  {
   "cell_type": "markdown",
   "id": "f40567fa-fd82-4cf1-9445-31b26f42d006",
   "metadata": {},
   "source": [
    "In fact, the :\n",
    "operator (also called the quote operator) sets out to treat its argument as data, not as code."
   ]
  },
  {
   "cell_type": "markdown",
   "id": "56fb6eaf-172c-45b3-ba97-b346a5e849a5",
   "metadata": {},
   "source": [
    "If this code is more than one line, enclose the lines between the quote and end keywords to\n",
    "turn the code into an expression. For example, this expression just returns itself:"
   ]
  },
  {
   "cell_type": "code",
   "execution_count": 3,
   "id": "74750307-596a-46c0-9f58-d6031475a0e2",
   "metadata": {},
   "outputs": [
    {
     "data": {
      "text/plain": [
       "quote\n",
       "    \u001b[90m#= In[3]:2 =#\u001b[39m\n",
       "    a = 43\n",
       "    \u001b[90m#= In[3]:3 =#\u001b[39m\n",
       "    b = a ^ 2\n",
       "    \u001b[90m#= In[3]:4 =#\u001b[39m\n",
       "    a - b\n",
       "end"
      ]
     },
     "execution_count": 3,
     "metadata": {},
     "output_type": "execute_result"
    }
   ],
   "source": [
    "quote \n",
    "    a = 43\n",
    "    b = a ^ 2\n",
    "    a - b\n",
    "end\n"
   ]
  },
  {
   "cell_type": "markdown",
   "id": "5572638f-450f-4acb-a941-94b3ab084889",
   "metadata": {},
   "source": [
    "In fact, this is the same as :(a = 42; b = a^2; a - b). quote...end is just another\n",
    "way to convert blocks of code into expressions."
   ]
  },
  {
   "cell_type": "code",
   "execution_count": 4,
   "id": "766b89ff-4d0c-46b2-a0d0-0bfd3e556337",
   "metadata": {},
   "outputs": [
    {
     "data": {
      "text/plain": [
       "quote\n",
       "    a = 43\n",
       "    \u001b[90m#= In[4]:1 =#\u001b[39m\n",
       "    b = a ^ 2\n",
       "    \u001b[90m#= In[4]:1 =#\u001b[39m\n",
       "    a - b\n",
       "end"
      ]
     },
     "execution_count": 4,
     "metadata": {},
     "output_type": "execute_result"
    }
   ],
   "source": [
    ":(a = 43; b=a^2; a-b)"
   ]
  },
  {
   "cell_type": "code",
   "execution_count": 5,
   "id": "c06a1d96-30d4-41b5-be7a-1dba6008c412",
   "metadata": {},
   "outputs": [
    {
     "data": {
      "text/plain": [
       "quote\n",
       "    a = 43\n",
       "    \u001b[90m#= In[5]:1 =#\u001b[39m\n",
       "    b = a ^ 2\n",
       "    \u001b[90m#= In[5]:1 =#\u001b[39m\n",
       "    a - b\n",
       "end"
      ]
     },
     "execution_count": 5,
     "metadata": {},
     "output_type": "execute_result"
    }
   ],
   "source": [
    "a = :(a = 43; b=a^2; a-b)"
   ]
  },
  {
   "cell_type": "markdown",
   "id": "765247de-24de-4ec7-a3cd-073366a029c6",
   "metadata": {},
   "source": [
    "We can give an expression such as this a name, such as e1 = :(2 + 3). We can ask for the\n",
    "following information"
   ]
  },
  {
   "cell_type": "code",
   "execution_count": 8,
   "id": "1bb0a414-c46d-4aca-81b4-d859cb25384f",
   "metadata": {},
   "outputs": [
    {
     "data": {
      "text/plain": [
       ":(2 + 3)"
      ]
     },
     "execution_count": 8,
     "metadata": {},
     "output_type": "execute_result"
    }
   ],
   "source": [
    "e1 = :(2 + 3)"
   ]
  },
  {
   "cell_type": "code",
   "execution_count": 9,
   "id": "cacfe381-4e31-40e5-9456-62b3bde6980b",
   "metadata": {},
   "outputs": [
    {
     "data": {
      "text/plain": [
       ":call"
      ]
     },
     "execution_count": 9,
     "metadata": {},
     "output_type": "execute_result"
    }
   ],
   "source": [
    "e1.head"
   ]
  },
  {
   "cell_type": "markdown",
   "id": "c2bad4ba-6f1d-4704-9e46-6850a9215799",
   "metadata": {},
   "source": [
    "indicating the kind of expression, which here is a\n",
    "function call"
   ]
  },
  {
   "cell_type": "code",
   "execution_count": 10,
   "id": "13fe8c0e-f399-4ac1-9d0a-be2d2728e4a7",
   "metadata": {},
   "outputs": [
    {
     "data": {
      "text/plain": [
       "3-element Vector{Any}:\n",
       "  :+\n",
       " 2\n",
       " 3"
      ]
     },
     "execution_count": 10,
     "metadata": {},
     "output_type": "execute_result"
    }
   ],
   "source": [
    "e1.args"
   ]
  },
  {
   "cell_type": "markdown",
   "id": "497a43d4-a159-4239-8ea0-fdb25d1e03b3",
   "metadata": {},
   "source": [
    "Indeed the expression 2 + 3 is, in fact, a call of the + function with the argument 2, and 3:\n",
    "2 + 3 == + (2, 3) returns true."
   ]
  },
  {
   "cell_type": "markdown",
   "id": "7424eb17-62fb-4abb-9b94-9d7311c5319d",
   "metadata": {},
   "source": [
    "The args argument consists of a symbol :+, and two\n",
    "literal values, 2 and 3. Expressions are made up of symbols and literals. More complicated\n",
    "expressions will consist of literal values, symbols, and sub- or nested expressions, which\n",
    "can, in turn, be reduced to symbols and literals."
   ]
  },
  {
   "cell_type": "code",
   "execution_count": 11,
   "id": "70ea6bc7-0170-4f64-91f1-01720f35da25",
   "metadata": {},
   "outputs": [
    {
     "data": {
      "text/plain": [
       ":((2 + a * b) - c)"
      ]
     },
     "execution_count": 11,
     "metadata": {},
     "output_type": "execute_result"
    }
   ],
   "source": [
    "e2 = :(2 + a * b - c)"
   ]
  },
  {
   "cell_type": "code",
   "execution_count": 12,
   "id": "60d91d5d-dcab-418b-a444-a66648faba07",
   "metadata": {},
   "outputs": [
    {
     "data": {
      "text/plain": [
       "3-element Vector{Any}:\n",
       " :-\n",
       " :(2 + a * b)\n",
       " :c"
      ]
     },
     "execution_count": 12,
     "metadata": {},
     "output_type": "execute_result"
    }
   ],
   "source": [
    "e2.args"
   ]
  },
  {
   "cell_type": "markdown",
   "id": "3190cb1a-bdfd-431c-8370-24809d6ef527",
   "metadata": {},
   "source": [
    "2 consists of e2.args, which is a 3-element Array{Any,1} that contains :- and :c,\n",
    "which are symbols, and :(2 + a * b), which is also an expression. This last expression,\n",
    "in turn, is itself an expression with args:+, 2, and :(a * b); :(a * b) is an expression\n",
    "with arguments and symbols: :*, :a, and :b."
   ]
  },
  {
   "cell_type": "markdown",
   "id": "0a8beacd-22b8-4be5-872a-beb8db94ec93",
   "metadata": {},
   "source": [
    "In the context of an expression, symbols are used to indicate access to variables; they represent\n",
    "the variable in the tree structure for the code."
   ]
  },
  {
   "cell_type": "markdown",
   "id": "83bbc46f-7503-4429-9fd6-2791447db7ff",
   "metadata": {},
   "source": [
    "In fact, the prevent evaluation character of\n",
    "the quote operator (:) is already at work with symbols: after x = 5, x returns 5, but :x\n",
    "returns :x."
   ]
  },
  {
   "cell_type": "markdown",
   "id": "f63a1bc7-ec87-4da5-a618-b2cd2cea9913",
   "metadata": {},
   "source": [
    "The dump function presents the abstract syntax tree for its argument in a nice way. For\n",
    "example, dump(:(2 + a * b - c)) returns the output, as shown in the following\n",
    "screenshot:"
   ]
  },
  {
   "cell_type": "code",
   "execution_count": 13,
   "id": "78423d30-cd4c-4a78-9f69-e51e0be40e86",
   "metadata": {},
   "outputs": [
    {
     "name": "stdout",
     "output_type": "stream",
     "text": [
      "Expr\n",
      "  head: Symbol call\n",
      "  args: Array{Any}((3,))\n",
      "    1: Symbol -\n",
      "    2: Expr\n",
      "      head: Symbol call\n",
      "      args: Array{Any}((3,))\n",
      "        1: Symbol +\n",
      "        2: Int64 2\n",
      "        3: Expr\n",
      "          head: Symbol call\n",
      "          args: Array{Any}((3,))\n",
      "            1: Symbol *\n",
      "            2: Symbol a\n",
      "            3: Symbol b\n",
      "    3: Symbol c\n"
     ]
    }
   ],
   "source": [
    "dump(:(2 + a * b - c))"
   ]
  },
  {
   "cell_type": "markdown",
   "id": "4d75099b-012c-4252-b5a1-c35e5bbaa22e",
   "metadata": {},
   "source": [
    "# Evaluation and interpolation"
   ]
  },
  {
   "cell_type": "markdown",
   "id": "ba21f18d-252b-4264-bf5d-38340a220973",
   "metadata": {},
   "source": [
    "With the definition of type Expr from the preceding section, we can also build expressions\n",
    "directly from the constructor for Expr"
   ]
  },
  {
   "cell_type": "code",
   "execution_count": 14,
   "id": "55e7dbc5-996f-4471-bcc4-8dfbd64c9e9f",
   "metadata": {},
   "outputs": [
    {
     "data": {
      "text/plain": [
       ":((*)(2, 9))"
      ]
     },
     "execution_count": 14,
     "metadata": {},
     "output_type": "execute_result"
    }
   ],
   "source": [
    "e1 = Expr(:call,*,2,9)"
   ]
  },
  {
   "cell_type": "markdown",
   "id": "b97a3a88-1a5b-4492-a904-fc5b8f598bb2",
   "metadata": {},
   "source": [
    "The result of an expression can be computed with the eval function, eval(e1)"
   ]
  },
  {
   "cell_type": "code",
   "execution_count": 15,
   "id": "5699e7b9-1e3d-4aa8-88f3-4192769539ab",
   "metadata": {},
   "outputs": [
    {
     "data": {
      "text/plain": [
       "18"
      ]
     },
     "execution_count": 15,
     "metadata": {},
     "output_type": "execute_result"
    }
   ],
   "source": [
    "eval(e1)"
   ]
  },
  {
   "cell_type": "markdown",
   "id": "9e156274-436d-4df5-b8e1-5cfa0c4657ea",
   "metadata": {},
   "source": [
    "At the time an expression is constructed, not all the symbols have to\n",
    "be defined, but they have to be defined at the time of evaluation, otherwise an error occurs."
   ]
  },
  {
   "cell_type": "code",
   "execution_count": 19,
   "id": "add57088-632a-49ac-9875-3a76c852567e",
   "metadata": {},
   "outputs": [
    {
     "data": {
      "text/plain": [
       ":((*)(9, a))"
      ]
     },
     "execution_count": 19,
     "metadata": {},
     "output_type": "execute_result"
    }
   ],
   "source": [
    "e2 = Expr(:call, *, 9, :a)"
   ]
  },
  {
   "cell_type": "code",
   "execution_count": 20,
   "id": "97b00bf7-c9d1-4986-9357-d8f92bfefe10",
   "metadata": {},
   "outputs": [
    {
     "ename": "LoadError",
     "evalue": "MethodError: no method matching *(::Int64, ::Expr)\n\u001b[0mClosest candidates are:\n\u001b[0m  *(::Any, ::Any, \u001b[91m::Any\u001b[39m, \u001b[91m::Any...\u001b[39m) at /opt/julia-1.7.1/share/julia/base/operators.jl:655\n\u001b[0m  *(::T, \u001b[91m::T\u001b[39m) where T<:Union{Int128, Int16, Int32, Int64, Int8, UInt128, UInt16, UInt32, UInt64, UInt8} at /opt/julia-1.7.1/share/julia/base/int.jl:88\n\u001b[0m  *(::Union{Int16, Int32, Int64, Int8}, \u001b[91m::BigInt\u001b[39m) at /opt/julia-1.7.1/share/julia/base/gmp.jl:542\n\u001b[0m  ...",
     "output_type": "error",
     "traceback": [
      "MethodError: no method matching *(::Int64, ::Expr)\n\u001b[0mClosest candidates are:\n\u001b[0m  *(::Any, ::Any, \u001b[91m::Any\u001b[39m, \u001b[91m::Any...\u001b[39m) at /opt/julia-1.7.1/share/julia/base/operators.jl:655\n\u001b[0m  *(::T, \u001b[91m::T\u001b[39m) where T<:Union{Int128, Int16, Int32, Int64, Int8, UInt128, UInt16, UInt32, UInt64, UInt8} at /opt/julia-1.7.1/share/julia/base/int.jl:88\n\u001b[0m  *(::Union{Int16, Int32, Int64, Int8}, \u001b[91m::BigInt\u001b[39m) at /opt/julia-1.7.1/share/julia/base/gmp.jl:542\n\u001b[0m  ...",
      "",
      "Stacktrace:",
      " [1] top-level scope",
      "   @ none:1",
      " [2] eval",
      "   @ ./boot.jl:373 [inlined]",
      " [3] eval(x::Expr)",
      "   @ Base.MainInclude ./client.jl:453",
      " [4] top-level scope",
      "   @ In[20]:1",
      " [5] eval",
      "   @ ./boot.jl:373 [inlined]",
      " [6] include_string(mapexpr::typeof(REPL.softscope), mod::Module, code::String, filename::String)",
      "   @ Base ./loading.jl:1196"
     ]
    }
   ],
   "source": [
    "eval(e2)"
   ]
  },
  {
   "cell_type": "code",
   "execution_count": 21,
   "id": "af285c65-ab4e-4496-a481-5984a8baf59f",
   "metadata": {},
   "outputs": [
    {
     "data": {
      "text/plain": [
       "89"
      ]
     },
     "execution_count": 21,
     "metadata": {},
     "output_type": "execute_result"
    }
   ],
   "source": [
    "a = 89"
   ]
  },
  {
   "cell_type": "code",
   "execution_count": 22,
   "id": "c11880ef-8100-4b3d-aebe-87f9de23189d",
   "metadata": {},
   "outputs": [
    {
     "data": {
      "text/plain": [
       "801"
      ]
     },
     "execution_count": 22,
     "metadata": {},
     "output_type": "execute_result"
    }
   ],
   "source": [
    "eval(e2)"
   ]
  },
  {
   "cell_type": "markdown",
   "id": "0ae07e56-7351-4d6e-8555-08ea205b54f1",
   "metadata": {},
   "source": [
    "Expressions can also change the state of the execution environment, for example, the\n",
    "expression e3 = :(b = 1) assigns a value to b when evaluated, and even defines b, if it\n",
    "doesn't exist already."
   ]
  },
  {
   "cell_type": "code",
   "execution_count": 26,
   "id": "031b419c-ca2f-44b7-9ab0-0d46b0e95832",
   "metadata": {},
   "outputs": [
    {
     "data": {
      "text/plain": [
       ":(javid = 1)"
      ]
     },
     "execution_count": 26,
     "metadata": {},
     "output_type": "execute_result"
    }
   ],
   "source": [
    "e3 = :(javid=1)"
   ]
  },
  {
   "cell_type": "code",
   "execution_count": 27,
   "id": "c019c747-2962-4583-a1cc-0f59f8c5d73e",
   "metadata": {},
   "outputs": [
    {
     "data": {
      "text/plain": [
       "1"
      ]
     },
     "execution_count": 27,
     "metadata": {},
     "output_type": "execute_result"
    }
   ],
   "source": [
    "eval(e3)"
   ]
  },
  {
   "cell_type": "code",
   "execution_count": 28,
   "id": "ce6c0a01-e043-4a5e-906c-fe2085778677",
   "metadata": {},
   "outputs": [
    {
     "data": {
      "text/plain": [
       "1"
      ]
     },
     "execution_count": 28,
     "metadata": {},
     "output_type": "execute_result"
    }
   ],
   "source": [
    "b"
   ]
  },
  {
   "cell_type": "code",
   "execution_count": 29,
   "id": "e1b4a1ab-8c21-44fa-bebb-dc763cd0537c",
   "metadata": {},
   "outputs": [
    {
     "data": {
      "text/plain": [
       "1"
      ]
     },
     "execution_count": 29,
     "metadata": {},
     "output_type": "execute_result"
    }
   ],
   "source": [
    "javid"
   ]
  },
  {
   "cell_type": "markdown",
   "id": "d23a13ca-88d3-4494-b574-a111abf87b71",
   "metadata": {},
   "source": [
    "To make writing expressions a bit simpler, we can use the $ operator to do interpolation in\n",
    "expressions, as with $ in strings, and this will evaluate immediately when the expression is\n",
    "made"
   ]
  },
  {
   "cell_type": "code",
   "execution_count": 30,
   "id": "5e9b9aa5-8ffe-473d-a96b-59f9129e4dc7",
   "metadata": {},
   "outputs": [],
   "source": [
    "a = 4; b = 2;"
   ]
  },
  {
   "cell_type": "code",
   "execution_count": 31,
   "id": "32c5d4da-0f99-4acb-ac62-114285fd84c6",
   "metadata": {},
   "outputs": [
    {
     "data": {
      "text/plain": [
       ":(a + b)"
      ]
     },
     "execution_count": 31,
     "metadata": {},
     "output_type": "execute_result"
    }
   ],
   "source": [
    "e4 = :(a + b)"
   ]
  },
  {
   "cell_type": "code",
   "execution_count": 32,
   "id": "b933fc7d-e240-41a9-b6d1-30be7ef739ce",
   "metadata": {},
   "outputs": [
    {
     "data": {
      "text/plain": [
       ":(4 + b)"
      ]
     },
     "execution_count": 32,
     "metadata": {},
     "output_type": "execute_result"
    }
   ],
   "source": [
    "e4 = :($a + b)"
   ]
  },
  {
   "cell_type": "markdown",
   "id": "97cd2ca9-4aa4-443e-9aec-bb850d7c466f",
   "metadata": {},
   "source": [
    "; both expressions evaluate to 5. So, there are two kinds of\n",
    "evaluation here:"
   ]
  },
  {
   "cell_type": "markdown",
   "id": "94a57f0b-7821-40d1-b42f-7267d502e48b",
   "metadata": {},
   "source": [
    "- Expression interpolation (with $) evaluates when the expression is constructed\n",
    "(at parse time)\n",
    "- Quotation (with : or quote) evaluates only when the expression is passed to\n",
    "eval at runtime"
   ]
  },
  {
   "cell_type": "markdown",
   "id": "ff888578-a2c1-472e-8c1d-716ab4e0b034",
   "metadata": {},
   "source": [
    "We now have the capability to build code programmatically. Inside a Julia program, we can\n",
    "construct arbitrary code while it is running, and then evaluate this with eval. So, Julia can\n",
    "generate the code from inside itself during the normal program execution."
   ]
  },
  {
   "cell_type": "markdown",
   "id": "9dad7682-5437-44c8-80e1-5d0624618616",
   "metadata": {},
   "source": [
    "This happens all the time in Julia and it is used, for example, to do things such as\n",
    "generating bindings for external libraries, to reducing the repetitive boilerplate code needed\n",
    "to bind big libraries, or generating lots of similar routines in other situations. Also, in the\n",
    "field of robotics, the ability to generate another program and then run it is very useful. For\n",
    "example: a chirurgical robot learns how to move by perceiving a human surgeon\n",
    "demonstrating a procedure. Then, the robot generates the program code from that\n",
    "perception, so that it is able to perform the procedure by itself."
   ]
  },
  {
   "cell_type": "markdown",
   "id": "17615b48-f22a-48e7-8347-887bc0a52c2c",
   "metadata": {},
   "source": [
    "One of the most powerful Julia tools emerging from what we discussed before is macros,\n",
    "which exist in all the languages of the Lisp family."
   ]
  },
  {
   "cell_type": "markdown",
   "id": "e49f91c0-15ef-417f-b8c0-55e909d05472",
   "metadata": {},
   "source": [
    "Julia version 1.0 also introduces the concept of generated functions: such functions are\n",
    "prefixed by the @generated macro and, instead of normal values, they return expressions.\n",
    "We won't discuss this advanced concept here in this book."
   ]
  },
  {
   "cell_type": "markdown",
   "id": "8b7bbcb2-b108-41ee-bc16-ef758c58c08f",
   "metadata": {},
   "source": [
    "# Defining macros"
   ]
  },
  {
   "cell_type": "markdown",
   "id": "836f237d-bbb0-4f02-a3d5-06bb8fad78c8",
   "metadata": {},
   "source": [
    "Macros are like\n",
    "functions, but instead of values they take expressions (which can also be symbols or literals)\n",
    "as input arguments."
   ]
  },
  {
   "cell_type": "markdown",
   "id": "ec962275-ec57-4b94-8165-36597cf3d988",
   "metadata": {},
   "source": [
    "When a macro is evaluated, the input expression is expanded, that is,\n",
    "the macro returns a modified expression. This expansion occurs at parse time when the\n",
    "syntax tree is being built, not when the code is actually executed"
   ]
  },
  {
   "cell_type": "markdown",
   "id": "30eb3d99-7068-47dd-a043-16ee46361d8e",
   "metadata": {},
   "source": [
    "- Function: It takes the input values and returns the computed values at runtime\n",
    "- Macro: It takes the input expressions and returns the modified expressions at\n",
    "parse time"
   ]
  },
  {
   "cell_type": "markdown",
   "id": "bb2c0783-8438-4866-9571-99f53c7d422e",
   "metadata": {},
   "source": [
    "In other words, a macro is a custom program transformation. Macros are defined with the\n",
    "keyword as follows:"
   ]
  },
  {
   "cell_type": "code",
   "execution_count": 33,
   "id": "bbe48fdc-5c42-4656-b59c-0e16a3eb0fef",
   "metadata": {},
   "outputs": [
    {
     "data": {
      "text/plain": [
       "@mname (macro with 0 methods)"
      ]
     },
     "execution_count": 33,
     "metadata": {},
     "output_type": "execute_result"
    }
   ],
   "source": [
    "macro mname \n",
    "end\n"
   ]
  },
  {
   "cell_type": "markdown",
   "id": "2864b697-58a2-4f9a-8e33-bd9d4af08448",
   "metadata": {},
   "source": [
    "It is invoked as @mname exp1 exp2 or @mname(exp1, exp2) (the @ sign distinguishes it\n",
    "from a normal function call). The macro block defines a new scope. Macros allow us to\n",
    "control when the code is executed."
   ]
  },
  {
   "cell_type": "code",
   "execution_count": 36,
   "id": "579562d2-d764-4fb8-ae3b-eb45e0ba1fd6",
   "metadata": {},
   "outputs": [
    {
     "data": {
      "text/plain": [
       "@macint (macro with 1 method)"
      ]
     },
     "execution_count": 36,
     "metadata": {},
     "output_type": "execute_result"
    }
   ],
   "source": [
    "macro macint(ex)\n",
    "    quote \n",
    "        println(\"Start\")\n",
    "        $ex\n",
    "        println(\"End\")\n",
    "    end\n",
    "end\n"
   ]
  },
  {
   "cell_type": "code",
   "execution_count": 37,
   "id": "fba8dc43-613a-420b-9dae-691b31bf7fc4",
   "metadata": {},
   "outputs": [
    {
     "name": "stdout",
     "output_type": "stream",
     "text": [
      "Start\n",
      "WTF\n",
      "End\n"
     ]
    }
   ],
   "source": [
    "@macint println(\"WTF\")"
   ]
  },
  {
   "cell_type": "code",
   "execution_count": 51,
   "id": "f744e418-2c0a-4f9c-a372-cc47da152447",
   "metadata": {},
   "outputs": [
    {
     "data": {
      "text/plain": [
       "@assert (macro with 1 method)"
      ]
     },
     "execution_count": 51,
     "metadata": {},
     "output_type": "execute_result"
    }
   ],
   "source": [
    "macro assert(ex)\n",
    "#     :($ex ? nothing : error(\"Assertation Failed\", $String(ex)))\n",
    "    :($ex ? nothing : error(\"Assertion failed: \",$(string(ex))))\n",
    "end\n"
   ]
  },
  {
   "cell_type": "code",
   "execution_count": 52,
   "id": "1c4bef44-c2b5-4a1e-ac74-1e29f89b2b41",
   "metadata": {},
   "outputs": [
    {
     "data": {
      "text/plain": [
       "\"WTF\""
      ]
     },
     "execution_count": 52,
     "metadata": {},
     "output_type": "execute_result"
    }
   ],
   "source": [
    "a = \"WTF\""
   ]
  },
  {
   "cell_type": "code",
   "execution_count": 58,
   "id": "b1d15a75-5f33-44f9-9acb-b82e1261a2ec",
   "metadata": {},
   "outputs": [
    {
     "ename": "LoadError",
     "evalue": "Assertion failed: 1 == 42",
     "output_type": "error",
     "traceback": [
      "Assertion failed: 1 == 42",
      "",
      "Stacktrace:",
      " [1] error(::String, ::String)",
      "   @ Base ./error.jl:42",
      " [2] top-level scope",
      "   @ In[58]:1",
      " [3] eval",
      "   @ ./boot.jl:373 [inlined]",
      " [4] include_string(mapexpr::typeof(REPL.softscope), mod::Module, code::String, filename::String)",
      "   @ Base ./loading.jl:1196"
     ]
    }
   ],
   "source": [
    "@assert 1 == 42"
   ]
  },
  {
   "cell_type": "markdown",
   "id": "6a7c23c1-666a-4e38-98ee-a911ab162b38",
   "metadata": {},
   "source": [
    "For example: @assert 1 == 1.0 returns nothing. @assert 1 == 42 returns\n",
    "ERROR: Assertion failed: 1 == 42."
   ]
  },
  {
   "cell_type": "markdown",
   "id": "f596391b-1d09-41b9-bed4-c55d86a2998b",
   "metadata": {},
   "source": [
    "The macro replaces the expression with a ternary operator expression, which is\n",
    "evaluated at runtime."
   ]
  },
  {
   "cell_type": "markdown",
   "id": "afded945-ee9f-4002-8660-3d31c626d133",
   "metadata": {},
   "source": [
    "To examine the resulting expression, use the macroexpand\n",
    "function as follows:"
   ]
  },
  {
   "cell_type": "code",
   "execution_count": 65,
   "id": "6293e160-b828-4028-b2e6-d3b05e07ce39",
   "metadata": {},
   "outputs": [
    {
     "data": {
      "text/plain": [
       ":(if 1 == 42\n",
       "      Main.nothing\n",
       "  else\n",
       "      Main.error(\"Assertion failed: \", \"1 == 42\")\n",
       "  end)"
      ]
     },
     "execution_count": 65,
     "metadata": {},
     "output_type": "execute_result"
    }
   ],
   "source": [
    "macroexpand(Main, :(@assert 1==42))"
   ]
  },
  {
   "cell_type": "markdown",
   "id": "7b3d76ee-c94d-476b-89d1-d403cf48dfcd",
   "metadata": {},
   "source": [
    "The third example mimics an unless construct, where branch is executed if the\n",
    "condition test_cond is not true:"
   ]
  },
  {
   "cell_type": "code",
   "execution_count": 66,
   "id": "f29f189c-e9e0-43b6-a999-b6fe5520ba28",
   "metadata": {},
   "outputs": [
    {
     "data": {
      "text/plain": [
       "@unless (macro with 1 method)"
      ]
     },
     "execution_count": 66,
     "metadata": {},
     "output_type": "execute_result"
    }
   ],
   "source": [
    "macro unless(test_con, branch)\n",
    "    quote \n",
    "        if !$test_con\n",
    "            $branch\n",
    "        end\n",
    "    end\n",
    "end\n"
   ]
  },
  {
   "cell_type": "code",
   "execution_count": 68,
   "id": "4bf8e288-8912-43ca-a58a-5d814158cac2",
   "metadata": {},
   "outputs": [
    {
     "name": "stdout",
     "output_type": "stream",
     "text": [
      "wTF\n"
     ]
    }
   ],
   "source": [
    "@unless 3<2  println(\"wTF\")"
   ]
  },
  {
   "cell_type": "code",
   "execution_count": 76,
   "id": "14b250bb-b6fe-4239-86e2-4594fead63a5",
   "metadata": {},
   "outputs": [],
   "source": [
    "arr = collect(4:10);\n"
   ]
  },
  {
   "cell_type": "code",
   "execution_count": 77,
   "id": "6a6fbfc1-3656-451d-bf80-ec6216ce0aa3",
   "metadata": {},
   "outputs": [
    {
     "name": "stdout",
     "output_type": "stream",
     "text": [
      "arr does not contain 3\n"
     ]
    }
   ],
   "source": [
    "@unless 3 in arr println(\"arr does not contain 3\")"
   ]
  },
  {
   "cell_type": "code",
   "execution_count": 83,
   "id": "d7ce6f14-b631-4c59-b9ce-fb03b1e285d0",
   "metadata": {},
   "outputs": [
    {
     "data": {
      "text/plain": [
       ":(if 3 in arr\n",
       "      nothing\n",
       "  else\n",
       "      Base.throw(Base.AssertionError((Base.Main).Base.string(println(\"arr doesn't contain 3\"))))\n",
       "  end)"
      ]
     },
     "execution_count": 83,
     "metadata": {},
     "output_type": "execute_result"
    }
   ],
   "source": [
    "macroexpand(Base, :(@assert 3 in arr println(\"arr doesn't contain 3\")))"
   ]
  },
  {
   "cell_type": "markdown",
   "id": "c8df38bc-750d-4682-8f7f-7cd60557b209",
   "metadata": {},
   "source": [
    "Unlike functions, macros inject the code directly into the namespace in which they are\n",
    "called, possibly this is also in a different module than the one in which they were defined. It\n",
    "is therefore important to ensure that this generated code does not clash with the code in the\n",
    "module in which the macro is called."
   ]
  },
  {
   "cell_type": "markdown",
   "id": "6129b886-5541-477c-8743-285629fb2bc8",
   "metadata": {},
   "source": [
    "When a macro behaves appropriately like this, it is\n",
    "called a hygienic macro. The following rules are used when writing hygienic macros:"
   ]
  },
  {
   "cell_type": "markdown",
   "id": "1aea3821-13b9-4b65-b2f9-66dc97dedd64",
   "metadata": {},
   "source": [
    "- Declare the variables used in the macro as local, so as not to conflict with the\n",
    "outer variables\n",
    "- Use the escape function esc to make sure that an interpolated expression is not\n",
    "expanded, but instead is used literally\n",
    "- Don't call eval inside a macro (because it is likely that the variables you are\n",
    "evaluating don't even exist at that point)"
   ]
  },
  {
   "cell_type": "code",
   "execution_count": 89,
   "id": "5aec48b3-51a5-493f-921d-15373f9da8e8",
   "metadata": {},
   "outputs": [
    {
     "data": {
      "text/plain": [
       "@mytimeint (macro with 1 method)"
      ]
     },
     "execution_count": 89,
     "metadata": {},
     "output_type": "execute_result"
    }
   ],
   "source": [
    "macro mytimeint(ex)\n",
    "    quote \n",
    "        local t1 = time()\n",
    "        local ret_val = $ex\n",
    "        local t2 = time()\n",
    "        println(\"\\ntime passed : $(t2-t1) s\")\n",
    "    end\n",
    "end\n"
   ]
  },
  {
   "cell_type": "code",
   "execution_count": 90,
   "id": "d8aae8b2-0207-4558-b03e-cb4b441582da",
   "metadata": {},
   "outputs": [
    {
     "name": "stdout",
     "output_type": "stream",
     "text": [
      "WTF\n",
      "\n",
      "time passed : 7.295608520507812e-5 s\n"
     ]
    }
   ],
   "source": [
    "@mytimeint println(\"WTF\")"
   ]
  },
  {
   "cell_type": "markdown",
   "id": "cf7de626-07d2-4dc8-9b52-ba1166837881",
   "metadata": {},
   "source": [
    "Macros are valuable tools which save you a lot of tedious work, and, with the quoting and\n",
    "interpolation mechanism, they are fairly easy to create. You will see them being used\n",
    "everywhere in Julia for lots of different tasks. Ultimately, they allow you to create domain-\n",
    "specific languages (DSLs). To get a better idea of this concept, we suggest you experiment\n",
    "with the other examples in the accompanying code file."
   ]
  },
  {
   "cell_type": "markdown",
   "id": "bcb00789-86bf-4ae4-84f2-3f3d748d0f5e",
   "metadata": {},
   "source": [
    "# Built-in macros"
   ]
  },
  {
   "cell_type": "markdown",
   "id": "87dba092-2b42-43fa-8ba4-affbbca2fc90",
   "metadata": {},
   "source": [
    "Needless to say, the Julia team has put macros to good use. To get help information about a\n",
    "macro, enter a ? in the REPL, and type @macroname after the help> prompt"
   ]
  },
  {
   "cell_type": "code",
   "execution_count": 94,
   "id": "d20cc8a6-38e9-4824-8ebd-8aa09fbac989",
   "metadata": {},
   "outputs": [
    {
     "name": "stdout",
     "output_type": "stream",
     "text": [
      "search: \u001b[0m\u001b[1mm\u001b[22m\u001b[0m\u001b[1ma\u001b[22m\u001b[0m\u001b[1mc\u001b[22m\u001b[0m\u001b[1mr\u001b[22m\u001b[0m\u001b[1mo\u001b[22m \u001b[0m\u001b[1mm\u001b[22m\u001b[0m\u001b[1ma\u001b[22m\u001b[0m\u001b[1mc\u001b[22m\u001b[0m\u001b[1mr\u001b[22m\u001b[0m\u001b[1mo\u001b[22mexpand @\u001b[0m\u001b[1mm\u001b[22m\u001b[0m\u001b[1ma\u001b[22m\u001b[0m\u001b[1mc\u001b[22m\u001b[0m\u001b[1mr\u001b[22m\u001b[0m\u001b[1mo\u001b[22mexpand @\u001b[0m\u001b[1mm\u001b[22m\u001b[0m\u001b[1ma\u001b[22m\u001b[0m\u001b[1mc\u001b[22m\u001b[0m\u001b[1mr\u001b[22m\u001b[0m\u001b[1mo\u001b[22mexpand1\n",
      "\n"
     ]
    },
    {
     "data": {
      "text/latex": [
       "\\begin{verbatim}\n",
       "macro\n",
       "\\end{verbatim}\n",
       "\\texttt{macro} defines a method for inserting generated code into a program. A macro maps a sequence of argument expressions to a returned expression, and the resulting expression is substituted directly into the program at the point where the macro is invoked. Macros are a way to run generated code without calling \\href{@ref Base.eval}{\\texttt{eval}}, since the generated code instead simply becomes part of the surrounding program. Macro arguments may include expressions, literal values, and symbols. Macros can be defined for variable number of arguments (varargs), but do not accept keyword arguments. Every macro also implicitly gets passed the arguments \\texttt{\\_\\_source\\_\\_}, which contains the line number and file name the macro is called from, and \\texttt{\\_\\_module\\_\\_}, which is the module the macro is expanded in.\n",
       "\n",
       "\\section{Examples}\n",
       "\\begin{verbatim}\n",
       "julia> macro sayhello(name)\n",
       "           return :( println(\"Hello, \", $name, \"!\") )\n",
       "       end\n",
       "@sayhello (macro with 1 method)\n",
       "\n",
       "julia> @sayhello \"Charlie\"\n",
       "Hello, Charlie!\n",
       "\n",
       "julia> macro saylots(x...)\n",
       "           return :( println(\"Say: \", $(x...)) )\n",
       "       end\n",
       "@saylots (macro with 1 method)\n",
       "\n",
       "julia> @saylots \"hey \" \"there \" \"friend\"\n",
       "Say: hey there friend\n",
       "\\end{verbatim}\n"
      ],
      "text/markdown": [
       "```\n",
       "macro\n",
       "```\n",
       "\n",
       "`macro` defines a method for inserting generated code into a program. A macro maps a sequence of argument expressions to a returned expression, and the resulting expression is substituted directly into the program at the point where the macro is invoked. Macros are a way to run generated code without calling [`eval`](@ref Base.eval), since the generated code instead simply becomes part of the surrounding program. Macro arguments may include expressions, literal values, and symbols. Macros can be defined for variable number of arguments (varargs), but do not accept keyword arguments. Every macro also implicitly gets passed the arguments `__source__`, which contains the line number and file name the macro is called from, and `__module__`, which is the module the macro is expanded in.\n",
       "\n",
       "# Examples\n",
       "\n",
       "```jldoctest\n",
       "julia> macro sayhello(name)\n",
       "           return :( println(\"Hello, \", $name, \"!\") )\n",
       "       end\n",
       "@sayhello (macro with 1 method)\n",
       "\n",
       "julia> @sayhello \"Charlie\"\n",
       "Hello, Charlie!\n",
       "\n",
       "julia> macro saylots(x...)\n",
       "           return :( println(\"Say: \", $(x...)) )\n",
       "       end\n",
       "@saylots (macro with 1 method)\n",
       "\n",
       "julia> @saylots \"hey \" \"there \" \"friend\"\n",
       "Say: hey there friend\n",
       "```\n"
      ],
      "text/plain": [
       "\u001b[36m  macro\u001b[39m\n",
       "\n",
       "  \u001b[36mmacro\u001b[39m defines a method for inserting generated code into a program. A macro maps a sequence of argument expressions to a\n",
       "  returned expression, and the resulting expression is substituted directly into the program at the point where the macro is\n",
       "  invoked. Macros are a way to run generated code without calling \u001b[36meval\u001b[39m, since the generated code instead simply becomes part\n",
       "  of the surrounding program. Macro arguments may include expressions, literal values, and symbols. Macros can be defined for\n",
       "  variable number of arguments (varargs), but do not accept keyword arguments. Every macro also implicitly gets passed the\n",
       "  arguments \u001b[36m__source__\u001b[39m, which contains the line number and file name the macro is called from, and \u001b[36m__module__\u001b[39m, which is the\n",
       "  module the macro is expanded in.\n",
       "\n",
       "\u001b[1m  Examples\u001b[22m\n",
       "\u001b[1m  ≡≡≡≡≡≡≡≡≡≡\u001b[22m\n",
       "\n",
       "\u001b[36m  julia> macro sayhello(name)\u001b[39m\n",
       "\u001b[36m             return :( println(\"Hello, \", $name, \"!\") )\u001b[39m\n",
       "\u001b[36m         end\u001b[39m\n",
       "\u001b[36m  @sayhello (macro with 1 method)\u001b[39m\n",
       "\u001b[36m  \u001b[39m\n",
       "\u001b[36m  julia> @sayhello \"Charlie\"\u001b[39m\n",
       "\u001b[36m  Hello, Charlie!\u001b[39m\n",
       "\u001b[36m  \u001b[39m\n",
       "\u001b[36m  julia> macro saylots(x...)\u001b[39m\n",
       "\u001b[36m             return :( println(\"Say: \", $(x...)) )\u001b[39m\n",
       "\u001b[36m         end\u001b[39m\n",
       "\u001b[36m  @saylots (macro with 1 method)\u001b[39m\n",
       "\u001b[36m  \u001b[39m\n",
       "\u001b[36m  julia> @saylots \"hey \" \"there \" \"friend\"\u001b[39m\n",
       "\u001b[36m  Say: hey there friend\u001b[39m"
      ]
     },
     "execution_count": 94,
     "metadata": {},
     "output_type": "execute_result"
    }
   ],
   "source": [
    "? macro"
   ]
  },
  {
   "cell_type": "markdown",
   "id": "d0e2e8ab-1bb3-467e-9a58-f968838b5a95",
   "metadata": {},
   "source": [
    "# Built-in macros"
   ]
  },
  {
   "cell_type": "markdown",
   "id": "e4d35e09-a356-414a-bfb0-5b0b87e764d1",
   "metadata": {},
   "source": [
    "# Testing"
   ]
  },
  {
   "cell_type": "markdown",
   "id": "8afbaa66-6c7c-4dae-9080-23f0467d2d6e",
   "metadata": {},
   "source": [
    "The @assert macro actually exists in the standard library. The standard version also\n",
    "allows you to give your own error message, which is printed after ERROR: assertion\n",
    "failed."
   ]
  },
  {
   "cell_type": "code",
   "execution_count": 5,
   "id": "211ff256-2503-41ed-864a-4ad8df0b5ccb",
   "metadata": {},
   "outputs": [
    {
     "ename": "LoadError",
     "evalue": "AssertionError: 1 == 3",
     "output_type": "error",
     "traceback": [
      "AssertionError: 1 == 3",
      "",
      "Stacktrace:",
      " [1] top-level scope",
      "   @ In[5]:1",
      " [2] eval",
      "   @ ./boot.jl:373 [inlined]",
      " [3] include_string(mapexpr::typeof(REPL.softscope), mod::Module, code::String, filename::String)",
      "   @ Base ./loading.jl:1196"
     ]
    }
   ],
   "source": [
    "@assert 1 == 3"
   ]
  },
  {
   "cell_type": "markdown",
   "id": "e3e3b962-071c-4b9e-886c-b42c918b2d16",
   "metadata": {},
   "source": [
    "The Test library contains some useful macros to compare the numbers:"
   ]
  },
  {
   "cell_type": "code",
   "execution_count": 7,
   "id": "8d172fd1-f9bc-4a29-9ecd-6767f2355cb6",
   "metadata": {},
   "outputs": [],
   "source": [
    "using Test"
   ]
  },
  {
   "cell_type": "code",
   "execution_count": 8,
   "id": "5a221ae4-9a99-4929-8f2c-a522a44b9703",
   "metadata": {},
   "outputs": [
    {
     "name": "stdout",
     "output_type": "stream",
     "text": [
      "\u001b[91m\u001b[1mTest Failed\u001b[22m\u001b[39m at \u001b[39m\u001b[1mIn[8]:1\u001b[22m\n",
      "  Expression: 1 == 3\n",
      "   Evaluated: 1 == 3\n"
     ]
    },
    {
     "ename": "LoadError",
     "evalue": "\u001b[91mThere was an error during testing\u001b[39m",
     "output_type": "error",
     "traceback": [
      "\u001b[91mThere was an error during testing\u001b[39m",
      "",
      "Stacktrace:",
      " [1] record(ts::Test.FallbackTestSet, t::Union{Test.Error, Test.Fail})",
      "   @ Test /opt/julia-1.7.1/share/julia/stdlib/v1.7/Test/src/Test.jl:903",
      " [2] do_test(result::Test.ExecutionResult, orig_expr::Any)",
      "   @ Test /opt/julia-1.7.1/share/julia/stdlib/v1.7/Test/src/Test.jl:637",
      " [3] top-level scope",
      "   @ /opt/julia-1.7.1/share/julia/stdlib/v1.7/Test/src/Test.jl:445",
      " [4] eval",
      "   @ ./boot.jl:373 [inlined]",
      " [5] include_string(mapexpr::typeof(REPL.softscope), mod::Module, code::String, filename::String)",
      "   @ Base ./loading.jl:1196"
     ]
    }
   ],
   "source": [
    "@test 1 == 3"
   ]
  },
  {
   "cell_type": "code",
   "execution_count": 9,
   "id": "e3f9f12d-61b0-434e-9fa6-dc119c1a82c4",
   "metadata": {},
   "outputs": [
    {
     "data": {
      "text/plain": [
       "\u001b[32m\u001b[1mTest Passed\u001b[22m\u001b[39m\n",
       "  Expression: 1 == 1\n",
       "   Evaluated: 1 == 1"
      ]
     },
     "execution_count": 9,
     "metadata": {},
     "output_type": "execute_result"
    }
   ],
   "source": [
    "@test 1 == 1"
   ]
  },
  {
   "cell_type": "markdown",
   "id": "139b5508-6fae-4be3-8ea4-ed4e7ec0384c",
   "metadata": {},
   "source": [
    "@test with the ≈ operator tests whether the two numbers are approximately equal. @test\n",
    "1 ≈ 1.1 returns Test Failed because they are not equal within the machine tolerance.\n",
    "However, you can give the interval as the last argument within which they should be\n",
    "equal: @test 1 ≈ 1.1 atol=0.2, which returns Test Passed, so 1 and 1.1 are within\n",
    "0.2 from each other."
   ]
  },
  {
   "cell_type": "code",
   "execution_count": 19,
   "id": "1724c34a-8434-4db4-9488-d0bcc4e0d569",
   "metadata": {},
   "outputs": [
    {
     "data": {
      "text/plain": [
       "\u001b[32m\u001b[1mTest Passed\u001b[22m\u001b[39m\n",
       "  Expression: ≈(1, 1.1, atol = 0.11)\n",
       "   Evaluated: ≈(1, 1.1; atol = 0.11)"
      ]
     },
     "execution_count": 19,
     "metadata": {},
     "output_type": "execute_result"
    }
   ],
   "source": [
    "a = @test 1 ≈ 1.1 atol = 0.11"
   ]
  },
  {
   "cell_type": "code",
   "execution_count": 22,
   "id": "a5038660-7535-4112-9c7f-0dc0ad38f697",
   "metadata": {},
   "outputs": [
    {
     "data": {
      "text/plain": [
       "true"
      ]
     },
     "execution_count": 22,
     "metadata": {},
     "output_type": "execute_result"
    }
   ],
   "source": [
    "a.value"
   ]
  },
  {
   "cell_type": "markdown",
   "id": "0e69f2b5-0074-4054-992a-90ec91246212",
   "metadata": {},
   "source": [
    "# Debugging"
   ]
  },
  {
   "cell_type": "markdown",
   "id": "d43abb8f-3bd1-44b6-aa06-e8e682334b02",
   "metadata": {},
   "source": [
    "If you want to look up in the source code where and how a particular method is defined,\n",
    "use @which."
   ]
  },
  {
   "cell_type": "code",
   "execution_count": 23,
   "id": "6b6ea20b-80e9-4a2d-9ad6-2c395adb8202",
   "metadata": {},
   "outputs": [
    {
     "data": {
      "text/plain": [
       "10-element Vector{Int64}:\n",
       "  1\n",
       "  2\n",
       "  3\n",
       "  4\n",
       "  5\n",
       "  6\n",
       "  7\n",
       "  8\n",
       "  9\n",
       " 10"
      ]
     },
     "execution_count": 23,
     "metadata": {},
     "output_type": "execute_result"
    }
   ],
   "source": [
    "arr = collect(1:10)"
   ]
  },
  {
   "cell_type": "code",
   "execution_count": 24,
   "id": "bfe93990-399f-40e2-bd85-b223913309dc",
   "metadata": {},
   "outputs": [
    {
     "data": {
      "text/html": [
       "sort(v::<b>AbstractVector</b>; <i>kws...</i>) in Base.Sort at <a href=\"https://github.com/JuliaLang/julia/tree/ac5cc99908d463582e66db3368b9b48fae1e2525/base/sort.jl#L770\" target=\"_blank\">sort.jl:770</a>"
      ],
      "text/plain": [
       "sort(v::AbstractVector; kws...) in Base.Sort at sort.jl:770"
      ]
     },
     "execution_count": 24,
     "metadata": {},
     "output_type": "execute_result"
    }
   ],
   "source": [
    "@which sort(arr)"
   ]
  },
  {
   "cell_type": "code",
   "execution_count": 25,
   "id": "d342a353-1a83-41cc-9edc-8df5a5e2ca7a",
   "metadata": {},
   "outputs": [
    {
     "data": {
      "text/plain": [
       "10-element Vector{Int64}:\n",
       "  1\n",
       "  2\n",
       "  3\n",
       "  4\n",
       "  5\n",
       "  6\n",
       "  7\n",
       "  8\n",
       "  9\n",
       " 10"
      ]
     },
     "execution_count": 25,
     "metadata": {},
     "output_type": "execute_result"
    }
   ],
   "source": [
    "sort(arr)"
   ]
  },
  {
   "cell_type": "markdown",
   "id": "53989aaf-8df3-48c6-83a1-2e69555c18ce",
   "metadata": {},
   "source": [
    "@show shows the expression and its result, which is handy for checking the embedded\n",
    "results:"
   ]
  },
  {
   "cell_type": "code",
   "execution_count": 27,
   "id": "e90fa66b-2224-4f4b-a80e-d486bb8487e9",
   "metadata": {},
   "outputs": [
    {
     "name": "stdout",
     "output_type": "stream",
     "text": [
      "6 + 2 = 8\n"
     ]
    },
    {
     "data": {
      "text/plain": [
       "998"
      ]
     },
     "execution_count": 27,
     "metadata": {},
     "output_type": "execute_result"
    }
   ],
   "source": [
    " 99*10 + (@show 6 + 2)"
   ]
  },
  {
   "cell_type": "markdown",
   "id": "b74715da-806d-4cc9-b02e-3cd648bb58db",
   "metadata": {},
   "source": [
    "# Benchmarking"
   ]
  },
  {
   "cell_type": "markdown",
   "id": "173280c1-c7c0-4560-a218-6f529a355399",
   "metadata": {},
   "source": [
    "For benchmarking purposes, we already know @time and @elapsed; @timed gives you the\n",
    "@time results as a tuple:"
   ]
  },
  {
   "cell_type": "code",
   "execution_count": null,
   "id": "3c33cc24-8af7-4055-bbf6-eb3135c2066b",
   "metadata": {},
   "outputs": [],
   "source": [
    "a"
   ]
  },
  {
   "cell_type": "code",
   "execution_count": 31,
   "id": "50be4f9b-9d33-4e52-8f5b-cc3d122e03b1",
   "metadata": {},
   "outputs": [
    {
     "name": "stdout",
     "output_type": "stream",
     "text": [
      "  0.103026 seconds (196.09 k allocations: 10.950 MiB, 16.26% gc time, 98.89% compilation time)\n"
     ]
    },
    {
     "data": {
      "text/plain": [
       "10-element Vector{Int64}:\n",
       "   1\n",
       "   4\n",
       "   9\n",
       "  16\n",
       "  25\n",
       "  36\n",
       "  49\n",
       "  64\n",
       "  81\n",
       " 100"
      ]
     },
     "execution_count": 31,
     "metadata": {},
     "output_type": "execute_result"
    }
   ],
   "source": [
    "@time arr .^ 2"
   ]
  },
  {
   "cell_type": "code",
   "execution_count": 32,
   "id": "454606f9-2bed-4ee6-8d2c-5af23ef6657f",
   "metadata": {},
   "outputs": [
    {
     "data": {
      "text/plain": [
       "1.951e-5"
      ]
     },
     "execution_count": 32,
     "metadata": {},
     "output_type": "execute_result"
    }
   ],
   "source": [
    "@elapsed arr .^ 2"
   ]
  },
  {
   "cell_type": "code",
   "execution_count": 33,
   "id": "b7ba27a6-7065-4295-bb4d-9eba78ef3586",
   "metadata": {},
   "outputs": [
    {
     "data": {
      "text/plain": [
       "(value = [1, 4, 9, 16, 25, 36, 49, 64, 81, 100], time = 1.5921e-5, bytes = 224, gctime = 0.0, gcstats = Base.GC_Diff(224, 0, 0, 5, 0, 0, 0, 0, 0))"
      ]
     },
     "execution_count": 33,
     "metadata": {},
     "output_type": "execute_result"
    }
   ],
   "source": [
    "@timed arr .^ 2"
   ]
  },
  {
   "cell_type": "markdown",
   "id": "e6d04c13-aaea-43d1-95f7-d519d5a63f15",
   "metadata": {},
   "source": [
    "If you are specifically interested in the allocated memory, use @allocated [x^2 for x\n",
    "in 1:1000], which returns 8064."
   ]
  },
  {
   "cell_type": "code",
   "execution_count": 45,
   "id": "60a5cffb-1e36-42c0-a5d7-65217b0fb14d",
   "metadata": {},
   "outputs": [
    {
     "data": {
      "text/plain": [
       "2756440"
      ]
     },
     "execution_count": 45,
     "metadata": {},
     "output_type": "execute_result"
    }
   ],
   "source": [
    "@allocated [Int32(x^2) for x in collect(1:1000)]"
   ]
  },
  {
   "cell_type": "markdown",
   "id": "6b265add-5d61-4f32-a5dd-08d1e6d4db6c",
   "metadata": {},
   "source": [
    "If you are looking for a package, consult BenchmarkingTools. This has some macros and\n",
    "also a good method for benchmarking."
   ]
  },
  {
   "cell_type": "markdown",
   "id": "7f9f22af-5715-4cc9-be74-c22c3b753cc0",
   "metadata": {},
   "source": [
    "# Starting a task"
   ]
  },
  {
   "cell_type": "markdown",
   "id": "9d3f5eca-7afa-473a-95f1-4398532a27ce",
   "metadata": {},
   "source": [
    "Tasks (refer to the Tasks section in Chapter 4, Control Flow) are independent units of code\n",
    "execution. Often, we want to start executing them, and then continue executing the main\n",
    "code without waiting for the task result. In other words, we want to start the task\n",
    "asynchronously. This can be done with the @async macro:"
   ]
  },
  {
   "cell_type": "code",
   "execution_count": 53,
   "id": "1415580a-3832-4651-8580-ff2aa0c6fa5f",
   "metadata": {},
   "outputs": [
    {
     "name": "stdout",
     "output_type": "stream",
     "text": [
      "What do you want\n",
      "WTF\n",
      "No\n"
     ]
    }
   ],
   "source": [
    "a = @async println(\"WTF\")\n",
    "b = @async println(\"No\")\n",
    "println(\"What do you want\")"
   ]
  },
  {
   "cell_type": "markdown",
   "id": "d9cfefe5-efc6-4ae5-8f8d-88081f32090d",
   "metadata": {},
   "source": [
    "# Reflection capabilities"
   ]
  },
  {
   "cell_type": "markdown",
   "id": "91c81af6-4f4f-474b-ae3e-d7656596c938",
   "metadata": {},
   "source": [
    "We saw in this chapter that code in Julia is represented by expressions that are data\n",
    "structures of the Expr type. The structure of a program and its types can therefore be\n",
    "explored programmatically just like any other data"
   ]
  },
  {
   "cell_type": "markdown",
   "id": "7caa1dfa-7dae-4fe5-81da-df11cefab40b",
   "metadata": {},
   "source": [
    "This means that a running program can\n",
    "dynamically discover its own properties, which is called reflection. We have already\n",
    "encountered some of these macros or functions before:"
   ]
  },
  {
   "cell_type": "markdown",
   "id": "724bca5d-7bd0-4ce2-a0b1-82a8ca81ad0d",
   "metadata": {},
   "source": [
    "- Use the @isdefined macro to check whether a variable is already declared, for\n",
    "example if a is not declared, you get:"
   ]
  },
  {
   "cell_type": "code",
   "execution_count": 55,
   "id": "0674fc01-53fc-4771-8fc5-bcba6c81f953",
   "metadata": {},
   "outputs": [
    {
     "data": {
      "text/plain": [
       "false"
      ]
     },
     "execution_count": 55,
     "metadata": {},
     "output_type": "execute_result"
    }
   ],
   "source": [
    "@isdefined k"
   ]
  },
  {
   "cell_type": "markdown",
   "id": "c258bc1b-ee1d-4810-bddf-4c3322cec744",
   "metadata": {},
   "source": [
    "- Use the typeof and InteractiveUtils.subtypes to query the type\n",
    "hierarchy (refer to Chapter 6, More on Types, Methods, and Modules)"
   ]
  },
  {
   "cell_type": "code",
   "execution_count": 56,
   "id": "8d7720f7-c0fa-41fc-b62d-38814c481968",
   "metadata": {},
   "outputs": [
    {
     "data": {
      "text/plain": [
       "Task"
      ]
     },
     "execution_count": 56,
     "metadata": {},
     "output_type": "execute_result"
    }
   ],
   "source": [
    "typeof(a)"
   ]
  },
  {
   "cell_type": "markdown",
   "id": "324dbb76-84de-4a08-a7bc-98b8e5502d07",
   "metadata": {},
   "source": [
    "- Use the methods(f) to see all the methods of a function f (refer to Chapter 3,\n",
    "Functions)"
   ]
  },
  {
   "cell_type": "code",
   "execution_count": 58,
   "id": "cec7215e-a1a3-4318-b5f5-923c5d052b49",
   "metadata": {},
   "outputs": [
    {
     "data": {
      "text/html": [
       "# 0 methods:<ul></ul>"
      ],
      "text/plain": [
       "# 0 methods:"
      ]
     },
     "execution_count": 58,
     "metadata": {},
     "output_type": "execute_result"
    }
   ],
   "source": [
    "methods(a)"
   ]
  },
  {
   "cell_type": "markdown",
   "id": "30d53e84-3200-4c59-8a07-efca00ce3cfb",
   "metadata": {},
   "source": [
    "- names and types: given a type Person:"
   ]
  },
  {
   "cell_type": "code",
   "execution_count": 59,
   "id": "84c4c125-0ff3-4c6c-a04a-22d97eca6c01",
   "metadata": {},
   "outputs": [],
   "source": [
    "struct Person \n",
    "    name::String\n",
    "    age::Float32\n",
    "end\n"
   ]
  },
  {
   "cell_type": "code",
   "execution_count": 61,
   "id": "7c8fc44e-634d-4bb1-a238-3b15f91c431b",
   "metadata": {},
   "outputs": [
    {
     "data": {
      "text/plain": [
       "(:name, :age)"
      ]
     },
     "execution_count": 61,
     "metadata": {},
     "output_type": "execute_result"
    }
   ],
   "source": [
    "fieldnames(Person)"
   ]
  },
  {
   "cell_type": "code",
   "execution_count": 62,
   "id": "3e28cb50-01b9-4fbe-9501-e5201d410848",
   "metadata": {},
   "outputs": [
    {
     "data": {
      "text/plain": [
       "svec(String, Float32)"
      ]
     },
     "execution_count": 62,
     "metadata": {},
     "output_type": "execute_result"
    }
   ],
   "source": [
    "Person.types"
   ]
  },
  {
   "cell_type": "markdown",
   "id": "53641a9f-8138-4b72-a173-c82d7dade318",
   "metadata": {},
   "source": [
    "- To inspect how a function is represented internally, you can use code_lowered:"
   ]
  },
  {
   "cell_type": "code",
   "execution_count": 64,
   "id": "25d552b9-5c15-48cb-bbed-b6d3fb5462b9",
   "metadata": {},
   "outputs": [
    {
     "data": {
      "text/plain": [
       "1-element Vector{Core.CodeInfo}:\n",
       " CodeInfo(\n",
       "\u001b[90m1 ─\u001b[39m %1 = Base.power_by_squaring(x, p)\n",
       "\u001b[90m└──\u001b[39m      return %1\n",
       ")"
      ]
     },
     "execution_count": 64,
     "metadata": {},
     "output_type": "execute_result"
    }
   ],
   "source": [
    "code_lowered(^, (Int64, Int64))"
   ]
  },
  {
   "cell_type": "markdown",
   "id": "09f0128c-619e-4114-ad4f-b223e594e2c2",
   "metadata": {},
   "source": [
    "Or you can use code_typed to see the type-inferred form:"
   ]
  },
  {
   "cell_type": "code",
   "execution_count": 65,
   "id": "47a29849-06d2-4833-85d2-424c961088c9",
   "metadata": {},
   "outputs": [
    {
     "data": {
      "text/plain": [
       "1-element Vector{Any}:\n",
       " CodeInfo(\n",
       "\u001b[90m1 ─\u001b[39m %1 = invoke Base.power_by_squaring(x::Int64, p::Int64)\u001b[36m::Int64\u001b[39m\n",
       "\u001b[90m└──\u001b[39m      return %1\n",
       ") => Int64"
      ]
     },
     "execution_count": 65,
     "metadata": {},
     "output_type": "execute_result"
    }
   ],
   "source": [
    "code_typed(^, (Int64, Int64))"
   ]
  },
  {
   "cell_type": "markdown",
   "id": "752e24d9-d8ac-459b-85e7-64c0de3bc21d",
   "metadata": {},
   "source": [
    "Using code_typed can show you whether your code is type-optimized\n",
    "for performance: if the Any type is used instead of an appropriate specific\n",
    "type that you would expect, then the type annotation in your code can\n",
    "certainly be improved, leading most likely to speeding up the program's\n",
    "execution"
   ]
  },
  {
   "cell_type": "markdown",
   "id": "71784dbc-2ae7-4bcf-a509-d9237f8e1f50",
   "metadata": {},
   "source": [
    "- To inspect the code generated by the LLVM engine, use code_llvm, and, to see\n",
    "the assembly code generated, use code_native (refer to the How Julia works\n",
    "section in Chapter 1, Installing the Julia Platform)."
   ]
  },
  {
   "cell_type": "code",
   "execution_count": 67,
   "id": "03d27be1-3482-40e1-89f9-8641cce96726",
   "metadata": {},
   "outputs": [
    {
     "name": "stdout",
     "output_type": "stream",
     "text": [
      "\u001b[90m;  @ intfuncs.jl:290 within `^`\u001b[39m\n",
      "\u001b[95mdefine\u001b[39m \u001b[36mi64\u001b[39m \u001b[93m@\"julia_^_3521\"\u001b[39m\u001b[33m(\u001b[39m\u001b[36mi64\u001b[39m \u001b[95msignext\u001b[39m \u001b[0m%0\u001b[0m, \u001b[36mi64\u001b[39m \u001b[95msignext\u001b[39m \u001b[0m%1\u001b[33m)\u001b[39m \u001b[0m#0 \u001b[33m{\u001b[39m\n",
      "\u001b[91mtop:\u001b[39m\n",
      "  \u001b[0m%2 \u001b[0m= \u001b[96m\u001b[1mcall\u001b[22m\u001b[39m \u001b[36mi64\u001b[39m \u001b[93m@j_power_by_squaring_3523\u001b[39m\u001b[33m(\u001b[39m\u001b[36mi64\u001b[39m \u001b[95msignext\u001b[39m \u001b[0m%0\u001b[0m, \u001b[36mi64\u001b[39m \u001b[95msignext\u001b[39m \u001b[0m%1\u001b[33m)\u001b[39m \u001b[0m#0\n",
      "  \u001b[96m\u001b[1mret\u001b[22m\u001b[39m \u001b[36mi64\u001b[39m \u001b[0m%2\n",
      "\u001b[33m}\u001b[39m\n"
     ]
    }
   ],
   "source": [
    "code_llvm(^, (Int64, Int64))"
   ]
  },
  {
   "cell_type": "code",
   "execution_count": 69,
   "id": "2e1a8b92-5bb0-487c-a1d4-b31c0e5914ac",
   "metadata": {},
   "outputs": [
    {
     "name": "stdout",
     "output_type": "stream",
     "text": [
      "\t\u001b[0m.text\n",
      "\u001b[90m; ┌ @ intfuncs.jl:290 within `^`\u001b[39m\n",
      "\t\u001b[96m\u001b[1msubq\u001b[22m\u001b[39m\t\u001b[33m$8\u001b[39m\u001b[0m, \u001b[0m%rsp\n",
      "\t\u001b[96m\u001b[1mmovabsq\u001b[22m\u001b[39m\t\u001b[93m$power_by_squaring\u001b[39m\u001b[0m, \u001b[0m%rax\n",
      "\t\u001b[96m\u001b[1mcallq\u001b[22m\u001b[39m\t\u001b[0m*\u001b[0m%rax\n",
      "\t\u001b[96m\u001b[1mpopq\u001b[22m\u001b[39m\t\u001b[0m%rcx\n",
      "\t\u001b[96m\u001b[1mretq\u001b[22m\u001b[39m\n",
      "\t\u001b[96m\u001b[1mnopw\u001b[22m\u001b[39m\t\u001b[0m%cs\u001b[0m:\u001b[33m(\u001b[39m\u001b[0m%rax\u001b[0m,\u001b[0m%rax\u001b[33m)\u001b[39m\n",
      "\u001b[90m; └\u001b[39m\n"
     ]
    }
   ],
   "source": [
    "code_native(^, (Int64, Int64))"
   ]
  },
  {
   "cell_type": "markdown",
   "id": "0443397f-6d4d-47ae-9f11-ab76dba37108",
   "metadata": {},
   "source": [
    "While reflection is not necessary for many of the programs that you will write, it is very\n",
    "useful for IDEs to be able to inspect the internals of an object, as well as for tools generating\n",
    "automatic documentation, and for profiling tools. In other words, reflection is\n",
    "indispensable for tools that need to inspect the internals of code objects programmatically.\n",
    "You should also look at the MacroTools package (from Mike Innes) which has some good\n",
    "examples of macros."
   ]
  },
  {
   "cell_type": "code",
   "execution_count": null,
   "id": "52a933b5-c46e-4228-a6b0-267e3fd52cae",
   "metadata": {},
   "outputs": [],
   "source": []
  }
 ],
 "metadata": {
  "kernelspec": {
   "display_name": "Julia 1.7.1",
   "language": "julia",
   "name": "julia-1.7"
  },
  "language_info": {
   "file_extension": ".jl",
   "mimetype": "application/julia",
   "name": "julia",
   "version": "1.7.1"
  }
 },
 "nbformat": 4,
 "nbformat_minor": 5
}
