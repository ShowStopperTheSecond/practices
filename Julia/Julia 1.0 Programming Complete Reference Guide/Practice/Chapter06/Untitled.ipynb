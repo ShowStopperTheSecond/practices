{
 "cells": [
  {
   "cell_type": "markdown",
   "id": "74cc517f-5835-4af2-bbfa-7d4e576e63df",
   "metadata": {},
   "source": [
    "# More on Types, Methods, and Modules"
   ]
  },
  {
   "cell_type": "markdown",
   "id": "463bda4e-14ca-4bd0-aed7-53d9d10195d0",
   "metadata": {},
   "source": [
    "Julia has a rich built-in type system, and most data types can be parameterized, such as\n",
    "Array{Float64, 2} or Dict{Symbol, Float64}. Typing a variable (or more exactly the\n",
    "value it is bound to) is optional."
   ]
  },
  {
   "cell_type": "markdown",
   "id": "c0f47044-3774-434a-b43a-da51c5803b7d",
   "metadata": {},
   "source": [
    "However, indicating the type of some variables, although\n",
    "they are not statically checked, can provide some of the advantages of static-type systems\n",
    "as in C++, Java, or C#"
   ]
  },
  {
   "cell_type": "markdown",
   "id": "0e42c487-3d6b-4737-8342-af8f6d58e383",
   "metadata": {},
   "source": [
    "A Julia program can run without any indication of types, which can\n",
    "be useful in a prototyping stage, and it will still run fast."
   ]
  },
  {
   "cell_type": "markdown",
   "id": "26420d1a-7c05-4800-b588-3d3d854975f5",
   "metadata": {},
   "source": [
    "However, some type indications\n",
    "can increase the performance by allowing more specialized multiple dispatch."
   ]
  },
  {
   "cell_type": "markdown",
   "id": "9db2eea2-9c5d-49e1-8f2d-7226c1dd77e7",
   "metadata": {},
   "source": [
    "Type\n",
    "assertions also help the LLVM compiler to create more compact, better optimized code."
   ]
  },
  {
   "cell_type": "markdown",
   "id": "2385fd3b-93eb-44b2-9a69-1525dcdaf48b",
   "metadata": {},
   "source": [
    "Moreover, typing function parameters makes the code easier to read and understand. The\n",
    "robustness of the program is also enhanced by throwing exceptions, in cases where certain\n",
    "type operations are not allowed. These failures will manifest themselves during testing, or\n",
    "the code can provide an exception handling mechanism."
   ]
  },
  {
   "cell_type": "markdown",
   "id": "d5fd90b0-4a93-48c4-8ecd-91c7c82a5f57",
   "metadata": {},
   "source": [
    "All functions in Julia are inherently generic or polymorphic, that is, they can operate on\n",
    "different types of their arguments. The most appropriate method (an implementation of the\n",
    "function where argument types are indicated) will be chosen at runtime to be executed,\n",
    "depending on the type of arguments passed to the function"
   ]
  },
  {
   "cell_type": "markdown",
   "id": "671c02fd-286e-4ab4-adbd-88ae5ccd9e56",
   "metadata": {},
   "source": [
    "In this chapter, webroaden the previous discussions by covering the following topics:\n",
    "- Type annotations\n",
    "- The type hierarchy—subtypes and supertypes\n",
    "- Concrete and abstract types\n",
    "- User-defined and composite types\n",
    "- Types and collections—inner constructors\n",
    "- Type unions\n",
    "- Parametric types and methods\n",
    "- Standard modules and paths"
   ]
  },
  {
   "cell_type": "markdown",
   "id": "268aa5d7-8bdf-49a7-9882-da98de0f28e4",
   "metadata": {},
   "source": [
    "Type-annotating a variable is done\n",
    "with the :: operator, such as in the function definition function write(io::IO,\n",
    "s::String)"
   ]
  },
  {
   "cell_type": "markdown",
   "id": "4d7eb57c-93da-4f1d-8743-c6c6f700292f",
   "metadata": {},
   "source": [
    "To put it differently, io has to be an instance of type IO, and s an instance of type\n",
    "String."
   ]
  },
  {
   "cell_type": "markdown",
   "id": "7e218391-c94c-4671-9e27-f6429963c44e",
   "metadata": {},
   "source": [
    "The :: operator is, in fact, an assertion that affirms that the value on the left is of\n",
    "the type on the right. If this is not true, a typeassert error is thrown. Try this out in the\n",
    "REPL:"
   ]
  },
  {
   "cell_type": "code",
   "execution_count": 3,
   "id": "87090ab7-4ee7-46ea-8924-e322647b5dab",
   "metadata": {},
   "outputs": [
    {
     "ename": "LoadError",
     "evalue": "TypeError: in typeassert, expected Float64, got a value of type String",
     "output_type": "error",
     "traceback": [
      "TypeError: in typeassert, expected Float64, got a value of type String",
      "",
      "Stacktrace:",
      " [1] top-level scope",
      "   @ In[3]:1",
      " [2] eval",
      "   @ ./boot.jl:373 [inlined]",
      " [3] include_string(mapexpr::typeof(REPL.softscope), mod::Module, code::String, filename::String)",
      "   @ Base ./loading.jl:1196"
     ]
    }
   ],
   "source": [
    "\"String\"::Float64"
   ]
  },
  {
   "cell_type": "markdown",
   "id": "801d5503-fb2d-4753-b672-03cb7aea88e6",
   "metadata": {},
   "source": [
    "This is, in addition to the method specialization for multiple dispatch, an important reason\n",
    "why type annotations are used in function signatures."
   ]
  },
  {
   "cell_type": "markdown",
   "id": "4106ac7c-46b5-47d0-b1ce-2f2febc210a1",
   "metadata": {},
   "source": [
    "The operator :: can also be used in the sense of a type declaration, but only in local scope,\n",
    "such as in functions, as follows:"
   ]
  },
  {
   "cell_type": "code",
   "execution_count": 4,
   "id": "bcdb6339-b3ee-4a82-b3f6-665641ffdc2d",
   "metadata": {},
   "outputs": [
    {
     "data": {
      "text/plain": [
       "fun (generic function with 1 method)"
      ]
     },
     "execution_count": 4,
     "metadata": {},
     "output_type": "execute_result"
    }
   ],
   "source": [
    "function fun()\n",
    "    a::Int64 = 23\n",
    "end\n"
   ]
  },
  {
   "cell_type": "code",
   "execution_count": 5,
   "id": "875f0816-56e2-4a52-b735-3b2601d1ced1",
   "metadata": {},
   "outputs": [
    {
     "data": {
      "text/plain": [
       "23"
      ]
     },
     "execution_count": 5,
     "metadata": {},
     "output_type": "execute_result"
    }
   ],
   "source": [
    "fun()"
   ]
  },
  {
   "cell_type": "code",
   "execution_count": 6,
   "id": "823cd6d0-aa5d-4f8a-990d-03e6b1586d7c",
   "metadata": {},
   "outputs": [
    {
     "data": {
      "text/plain": [
       "Int64"
      ]
     },
     "execution_count": 6,
     "metadata": {},
     "output_type": "execute_result"
    }
   ],
   "source": [
    "typeof(ans)"
   ]
  },
  {
   "cell_type": "markdown",
   "id": "4a7e1156-802b-471c-872d-d82a13cd57d4",
   "metadata": {},
   "source": [
    "Every value assigned to n will be implicitly converted to the indicated type with the\n",
    "convert function."
   ]
  },
  {
   "cell_type": "markdown",
   "id": "5a9ce7b8-35ce-49de-9b2a-98b6bdb690e9",
   "metadata": {},
   "source": [
    "# Type conversions and promotions"
   ]
  },
  {
   "cell_type": "markdown",
   "id": "9b453515-06e5-4cce-acc0-94647dcaec9a",
   "metadata": {},
   "source": [
    "The convert function can also be used explicitly in the code as convert(Int64, 7.0),\n",
    "which returns 7."
   ]
  },
  {
   "cell_type": "code",
   "execution_count": 9,
   "id": "9ee2bea5-c94f-46ad-9af4-b2ef24f0ea7d",
   "metadata": {},
   "outputs": [
    {
     "ename": "LoadError",
     "evalue": "MethodError: \u001b[0mCannot `convert` an object of type \u001b[92mString\u001b[39m\u001b[0m to an object of type \u001b[91mInt64\u001b[39m\n\u001b[0mClosest candidates are:\n\u001b[0m  convert(::Type{T}, \u001b[91m::T\u001b[39m) where T<:Number at /opt/julia-1.7.1/share/julia/base/number.jl:6\n\u001b[0m  convert(::Type{T}, \u001b[91m::Number\u001b[39m) where T<:Number at /opt/julia-1.7.1/share/julia/base/number.jl:7\n\u001b[0m  convert(::Type{T}, \u001b[91m::Base.TwicePrecision\u001b[39m) where T<:Number at /opt/julia-1.7.1/share/julia/base/twiceprecision.jl:262\n\u001b[0m  ...",
     "output_type": "error",
     "traceback": [
      "MethodError: \u001b[0mCannot `convert` an object of type \u001b[92mString\u001b[39m\u001b[0m to an object of type \u001b[91mInt64\u001b[39m\n\u001b[0mClosest candidates are:\n\u001b[0m  convert(::Type{T}, \u001b[91m::T\u001b[39m) where T<:Number at /opt/julia-1.7.1/share/julia/base/number.jl:6\n\u001b[0m  convert(::Type{T}, \u001b[91m::Number\u001b[39m) where T<:Number at /opt/julia-1.7.1/share/julia/base/number.jl:7\n\u001b[0m  convert(::Type{T}, \u001b[91m::Base.TwicePrecision\u001b[39m) where T<:Number at /opt/julia-1.7.1/share/julia/base/twiceprecision.jl:262\n\u001b[0m  ...",
      "",
      "Stacktrace:",
      " [1] top-level scope",
      "   @ In[9]:1",
      " [2] eval",
      "   @ ./boot.jl:373 [inlined]",
      " [3] include_string(mapexpr::typeof(REPL.softscope), mod::Module, code::String, filename::String)",
      "   @ Base ./loading.jl:1196"
     ]
    }
   ],
   "source": [
    "convert(Int64, \"7\")"
   ]
  },
  {
   "cell_type": "code",
   "execution_count": 10,
   "id": "0f156b2e-aa65-404b-9124-b76bfef056f8",
   "metadata": {},
   "outputs": [
    {
     "ename": "LoadError",
     "evalue": "MethodError: \u001b[0mCannot `convert` an object of type \u001b[92mInt64\u001b[39m\u001b[0m to an object of type \u001b[91mString\u001b[39m\n\u001b[0mClosest candidates are:\n\u001b[0m  convert(::Type{String}, \u001b[91m::String\u001b[39m) at /opt/julia-1.7.1/share/julia/base/essentials.jl:223\n\u001b[0m  convert(::Type{T}, \u001b[91m::T\u001b[39m) where T<:AbstractString at /opt/julia-1.7.1/share/julia/base/strings/basic.jl:231\n\u001b[0m  convert(::Type{T}, \u001b[91m::AbstractString\u001b[39m) where T<:AbstractString at /opt/julia-1.7.1/share/julia/base/strings/basic.jl:232\n\u001b[0m  ...",
     "output_type": "error",
     "traceback": [
      "MethodError: \u001b[0mCannot `convert` an object of type \u001b[92mInt64\u001b[39m\u001b[0m to an object of type \u001b[91mString\u001b[39m\n\u001b[0mClosest candidates are:\n\u001b[0m  convert(::Type{String}, \u001b[91m::String\u001b[39m) at /opt/julia-1.7.1/share/julia/base/essentials.jl:223\n\u001b[0m  convert(::Type{T}, \u001b[91m::T\u001b[39m) where T<:AbstractString at /opt/julia-1.7.1/share/julia/base/strings/basic.jl:231\n\u001b[0m  convert(::Type{T}, \u001b[91m::AbstractString\u001b[39m) where T<:AbstractString at /opt/julia-1.7.1/share/julia/base/strings/basic.jl:232\n\u001b[0m  ...",
      "",
      "Stacktrace:",
      " [1] top-level scope",
      "   @ In[10]:1",
      " [2] eval",
      "   @ ./boot.jl:373 [inlined]",
      " [3] include_string(mapexpr::typeof(REPL.softscope), mod::Module, code::String, filename::String)",
      "   @ Base ./loading.jl:1196"
     ]
    }
   ],
   "source": [
    "convert(String, 7)"
   ]
  },
  {
   "cell_type": "code",
   "execution_count": 11,
   "id": "b3441438-d9dc-4bb9-af0d-a41d8ee1c59a",
   "metadata": {},
   "outputs": [
    {
     "ename": "LoadError",
     "evalue": "InexactError: Int64(3.141592)",
     "output_type": "error",
     "traceback": [
      "InexactError: Int64(3.141592)",
      "",
      "Stacktrace:",
      " [1] Int64",
      "   @ ./float.jl:812 [inlined]",
      " [2] convert(#unused#::Type{Int64}, x::Float64)",
      "   @ Base ./number.jl:7",
      " [3] top-level scope",
      "   @ In[11]:1",
      " [4] eval",
      "   @ ./boot.jl:373 [inlined]",
      " [5] include_string(mapexpr::typeof(REPL.softscope), mod::Module, code::String, filename::String)",
      "   @ Base ./loading.jl:1196"
     ]
    }
   ],
   "source": [
    "convert(Int64, 3.141592)"
   ]
  },
  {
   "cell_type": "code",
   "execution_count": 12,
   "id": "93d1ecab-da65-405c-b65c-a631d5ca3274",
   "metadata": {},
   "outputs": [
    {
     "data": {
      "text/plain": [
       "3"
      ]
     },
     "execution_count": 12,
     "metadata": {},
     "output_type": "execute_result"
    }
   ],
   "source": [
    "convert(Int64, 3.0)"
   ]
  },
  {
   "cell_type": "markdown",
   "id": "2c05e585-8368-47d6-8706-4a923911ef66",
   "metadata": {},
   "source": [
    "In general, convert(Type, x) will attempt to put the x value in an instance of Type. In\n",
    "most cases, type(x) will also do the trick, as in Int64(7.0), returning 7."
   ]
  },
  {
   "cell_type": "code",
   "execution_count": 13,
   "id": "3149806f-ed24-4c20-9879-311f49e256ed",
   "metadata": {},
   "outputs": [
    {
     "data": {
      "text/plain": [
       "3"
      ]
     },
     "execution_count": 13,
     "metadata": {},
     "output_type": "execute_result"
    }
   ],
   "source": [
    "Int64(3.0)"
   ]
  },
  {
   "cell_type": "markdown",
   "id": "a49933d2-7a43-42ff-b5bb-0f797948aa91",
   "metadata": {},
   "source": [
    "The conversion, however, doesn't always work:"
   ]
  },
  {
   "cell_type": "markdown",
   "id": "ee19cdd4-71c0-43f1-a0d8-7f03a1fe9b8b",
   "metadata": {},
   "source": [
    "- When precision is lost—Int64(7.01)returns an ERROR:\n",
    "InexactError() error message"
   ]
  },
  {
   "cell_type": "markdown",
   "id": "0ccfde77-5218-4a81-b9f1-3395a269510b",
   "metadata": {},
   "source": [
    "- When the target type is incompatible with the source value—convert(Int64,\n",
    "\"CV\") returns an ERROR: MethodError: Cannot `convert` an object of\n",
    "type String to an object of type Int64 error message"
   ]
  },
  {
   "cell_type": "markdown",
   "id": "5eccfb47-876d-45ca-9484-6ec60b37b435",
   "metadata": {},
   "source": [
    "he types of the input\n",
    "arguments are matched against the methods available for that function."
   ]
  },
  {
   "cell_type": "markdown",
   "id": "d2f50dca-29d8-4ba6-b17c-dc4bd6965cf6",
   "metadata": {},
   "source": [
    "We can define our own conversions by providing new methods for the convert function."
   ]
  },
  {
   "cell_type": "code",
   "execution_count": 22,
   "id": "c21847cb-7192-4f64-bd76-17ee16c63735",
   "metadata": {},
   "outputs": [
    {
     "data": {
      "text/plain": [
       "903"
      ]
     },
     "execution_count": 22,
     "metadata": {},
     "output_type": "execute_result"
    }
   ],
   "source": [
    "903::Int64"
   ]
  },
  {
   "cell_type": "code",
   "execution_count": 31,
   "id": "a59f112f-ff26-49ce-9518-033490e824aa",
   "metadata": {},
   "outputs": [
    {
     "data": {
      "text/plain": [
       "1"
      ]
     },
     "execution_count": 31,
     "metadata": {},
     "output_type": "execute_result"
    }
   ],
   "source": [
    "11 % 10"
   ]
  },
  {
   "cell_type": "code",
   "execution_count": 32,
   "id": "c14aae93-40c9-4dba-a50f-ee676d24eadb",
   "metadata": {},
   "outputs": [
    {
     "data": {
      "text/plain": [
       "1"
      ]
     },
     "execution_count": 32,
     "metadata": {},
     "output_type": "execute_result"
    }
   ],
   "source": [
    "div(11,10)"
   ]
  },
  {
   "cell_type": "code",
   "execution_count": 39,
   "id": "387a040c-cf74-4669-9979-315bce61a968",
   "metadata": {},
   "outputs": [
    {
     "data": {
      "text/plain": [
       "49"
      ]
     },
     "execution_count": 39,
     "metadata": {},
     "output_type": "execute_result"
    }
   ],
   "source": [
    "Int64('1')"
   ]
  },
  {
   "cell_type": "code",
   "execution_count": 40,
   "id": "3d97f718-bb9d-4e8d-b4f2-ec0d6b433652",
   "metadata": {},
   "outputs": [
    {
     "data": {
      "text/plain": [
       "'0': ASCII/Unicode U+0030 (category Nd: Number, decimal digit)"
      ]
     },
     "execution_count": 40,
     "metadata": {},
     "output_type": "execute_result"
    }
   ],
   "source": [
    "Char(48)"
   ]
  },
  {
   "cell_type": "code",
   "execution_count": 58,
   "id": "dc134a02-c7d1-40b1-8935-f55d1bac6135",
   "metadata": {},
   "outputs": [
    {
     "data": {
      "text/plain": [
       "custom_convert (generic function with 1 method)"
      ]
     },
     "execution_count": 58,
     "metadata": {},
     "output_type": "execute_result"
    }
   ],
   "source": [
    "function custom_convert(type::DataType,number::Int64)\n",
    "    if type != String throw(\"Sorry :(\") end\n",
    "    s = \"\"\n",
    "    while true\n",
    "        digit = number % 5\n",
    "        s = string(s,Char(48+digit))\n",
    "        number = div(number, 5)\n",
    "        if number == 0\n",
    "            return reverse(s)\n",
    "        end\n",
    "    end\n",
    "end\n",
    "\n",
    "            "
   ]
  },
  {
   "cell_type": "code",
   "execution_count": 59,
   "id": "a713b278-15ce-4b79-9157-1b56e902605e",
   "metadata": {},
   "outputs": [
    {
     "data": {
      "text/plain": [
       "\"22\""
      ]
     },
     "execution_count": 59,
     "metadata": {},
     "output_type": "execute_result"
    }
   ],
   "source": [
    "custom_convert(String, 12)"
   ]
  },
  {
   "cell_type": "markdown",
   "id": "75331d01-a238-44f5-8fe6-c1886456f9da",
   "metadata": {},
   "source": [
    "Julia has a built-in system called automatic type promotion to promote arguments of\n",
    "mathematical operators and assignments to a common type: in 4 + 3.14, the integer 4 is\n",
    "promoted to a Float64 value, so that the addition can take place and results in\n",
    "7.140000000000001."
   ]
  },
  {
   "cell_type": "markdown",
   "id": "598905c8-d2d4-47ad-ab76-a82ac13854d1",
   "metadata": {},
   "source": [
    "In general, promotion refers to the conversion of values of different\n",
    "types to one common type. This can be done with the promote function, which takes a\n",
    "number of arguments, and returns a tuple of the same values, converting them to a\n",
    "common type."
   ]
  },
  {
   "cell_type": "code",
   "execution_count": 60,
   "id": "d779585e-57fe-4417-925a-8f6a77261ce4",
   "metadata": {},
   "outputs": [
    {
     "data": {
      "text/plain": [
       "(1.0, 2.5, 0.75)"
      ]
     },
     "execution_count": 60,
     "metadata": {},
     "output_type": "execute_result"
    }
   ],
   "source": [
    "promote(1, 2.5, 3//4)"
   ]
  },
  {
   "cell_type": "markdown",
   "id": "9839aab0-f9de-46cf-80ac-409ecaeeef1a",
   "metadata": {},
   "source": [
    "Thanks to the automatic type promotion system for numbers, Julia doesn't have to define,\n",
    "for example, the + operator for any combinations of numeric types"
   ]
  },
  {
   "cell_type": "code",
   "execution_count": 67,
   "id": "ccab1281-1e51-4a1c-8adb-9e494d29a70e",
   "metadata": {},
   "outputs": [],
   "source": [
    "# +(x::Number, y::Number) = +(promote(x, y)...)"
   ]
  },
  {
   "cell_type": "markdown",
   "id": "18967551-bbb6-4ef9-978a-5f56e6b4337d",
   "metadata": {},
   "source": [
    "It basically says: first, promote the arguments to a common type, and then perform the\n",
    "addition. Number is a common supertype for all values of numeric types."
   ]
  },
  {
   "cell_type": "markdown",
   "id": "64a7f4c6-88ea-4156-a385-8ca81a2c5956",
   "metadata": {},
   "source": [
    "To determine the\n",
    "common promotion type of the two types, use promote_type(Int8, UInt16) to find\n",
    "whether it returns UInt16."
   ]
  },
  {
   "cell_type": "code",
   "execution_count": 73,
   "id": "b7ac248d-aaec-4083-b3c5-b6d729ccc628",
   "metadata": {},
   "outputs": [
    {
     "data": {
      "text/plain": [
       "UInt16"
      ]
     },
     "execution_count": 73,
     "metadata": {},
     "output_type": "execute_result"
    }
   ],
   "source": [
    "promote_type(Int8, UInt16)"
   ]
  },
  {
   "cell_type": "markdown",
   "id": "501afe95-8f13-4c9e-84fd-149d5c404e98",
   "metadata": {},
   "source": [
    "This is because, somewhere in the standard library, the following promote_rule function\n",
    "was defined as promote_rule(::Type{Int8}, ::Type{Uint16}) = UInt16."
   ]
  },
  {
   "cell_type": "markdown",
   "id": "e381d98e-740b-4d2a-a355-1124419e63ad",
   "metadata": {},
   "source": [
    "# The type hierarchy – subtypes and supertypes"
   ]
  },
  {
   "cell_type": "markdown",
   "id": "8beafc13-ef2c-4dc5-82c6-4ce52b5676f4",
   "metadata": {},
   "source": [
    "Julia has a lot of built-in types, in fact, a whole hierarchy starting from the type\n",
    "Any at the top. Every type in this structure also has a type, namely, DataType, so it is very\n",
    "consistent. typeof(Any), typeof(Int64), typeof(Complex{Int64}), and\n",
    "typeof(DataType) all return DataType. So, types in Julia are also objects; all concrete\n",
    "types, except tuple types, which are a tuple of the types of its arguments, are of type\n",
    "DataType."
   ]
  },
  {
   "cell_type": "code",
   "execution_count": 75,
   "id": "9613aa3b-6b73-4c30-a077-6c73ed47a63d",
   "metadata": {},
   "outputs": [
    {
     "data": {
      "text/plain": [
       "Tuple{DataType, DataType}"
      ]
     },
     "execution_count": 75,
     "metadata": {},
     "output_type": "execute_result"
    }
   ],
   "source": [
    "typeof((String,Int64))"
   ]
  },
  {
   "cell_type": "code",
   "execution_count": 77,
   "id": "de06fd2f-a406-4ead-8a61-d0838f0dcd90",
   "metadata": {},
   "outputs": [
    {
     "data": {
      "text/plain": [
       "Tuple{DataType, DataType}"
      ]
     },
     "execution_count": 77,
     "metadata": {},
     "output_type": "execute_result"
    }
   ],
   "source": [
    "typeof(Tuple([String,Int64]))"
   ]
  },
  {
   "cell_type": "markdown",
   "id": "532a62c0-680f-4687-bf0c-ea57aa8905bb",
   "metadata": {},
   "source": [
    "This type hierarchy is like a tree; each type has one parent given by the supertype\n",
    "function:"
   ]
  },
  {
   "cell_type": "markdown",
   "id": "b01bf9f2-90a4-45d4-9650-473ac76207e6",
   "metadata": {},
   "source": [
    "- supertype(Int64) returns Signed\n",
    "- supertype(Signed) returns Integer\n",
    "- supertype(Integer) returns Real\n",
    "- supertype(Real) returns Numberm\n",
    "- supertype(Number) returns Any\n",
    "- supertype(Any) returns Any"
   ]
  },
  {
   "cell_type": "code",
   "execution_count": 83,
   "id": "2f5aef31-9a54-44f6-aa7d-8006a635a293",
   "metadata": {},
   "outputs": [
    {
     "data": {
      "text/plain": [
       "Number"
      ]
     },
     "execution_count": 83,
     "metadata": {},
     "output_type": "execute_result"
    }
   ],
   "source": [
    "supertype(Real)"
   ]
  },
  {
   "cell_type": "markdown",
   "id": "4fc88e97-6201-4840-bc72-e439356ffa5f",
   "metadata": {},
   "source": [
    "A type can have a lot of children or subtypes (a function from the InteractiveUtils\n",
    "package) as follows:"
   ]
  },
  {
   "cell_type": "code",
   "execution_count": 84,
   "id": "d54226d1-49ae-4ad2-9a56-94005830c38e",
   "metadata": {},
   "outputs": [],
   "source": [
    "using InteractiveUtils"
   ]
  },
  {
   "cell_type": "code",
   "execution_count": 86,
   "id": "01575a7c-a781-4c8a-af67-90cb4acb6832",
   "metadata": {},
   "outputs": [
    {
     "data": {
      "text/plain": [
       "3-element Vector{Any}:\n",
       " Bool\n",
       " Signed\n",
       " Unsigned"
      ]
     },
     "execution_count": 86,
     "metadata": {},
     "output_type": "execute_result"
    }
   ],
   "source": [
    "subtypes(Integer)"
   ]
  },
  {
   "cell_type": "markdown",
   "id": "6d11bc9b-9c9b-4951-a62c-94966dbed55a",
   "metadata": {},
   "source": [
    "To indicate the subtype relationship, the operator < is used: Bool <: Integer and Bool\n",
    "<: Any returns true, while Bool <: Char is false"
   ]
  },
  {
   "cell_type": "code",
   "execution_count": 87,
   "id": "18cd6198-52bc-472b-8a42-036fcea95ed4",
   "metadata": {},
   "outputs": [
    {
     "data": {
      "text/plain": [
       "true"
      ]
     },
     "execution_count": 87,
     "metadata": {},
     "output_type": "execute_result"
    }
   ],
   "source": [
    "Integer <: Number"
   ]
  },
  {
   "cell_type": "markdown",
   "id": "809057da-69fa-434a-a5e4-be3f28533fb9",
   "metadata": {},
   "source": [
    "# Concrete and abstract types"
   ]
  },
  {
   "cell_type": "markdown",
   "id": "5f536e98-9b72-4c3f-b2ca-0943c59e88bc",
   "metadata": {},
   "source": [
    "In this hierarchy, some types, such as Number, Integer, and Signed, are abstract, which\n",
    "means that they have no concrete objects or values of their own."
   ]
  },
  {
   "cell_type": "markdown",
   "id": "7e38edb8-a121-4de2-a9ab-4ebc8761e686",
   "metadata": {},
   "source": [
    "Instead, objects or values\n",
    "are of concrete types given by the result of applying typeof(value), such as Int8,\n",
    "Float64, and String."
   ]
  },
  {
   "cell_type": "markdown",
   "id": "3efc4319-bc91-4b5e-a81c-58d5c898e438",
   "metadata": {},
   "source": [
    "the concrete type of the value 5 is Int64 given by\n",
    "typeof(5) (on a 64-bit machine)."
   ]
  },
  {
   "cell_type": "code",
   "execution_count": 90,
   "id": "f84f5e6a-0091-4f9a-84d2-881c2f642981",
   "metadata": {},
   "outputs": [
    {
     "data": {
      "text/plain": [
       "Int64"
      ]
     },
     "execution_count": 90,
     "metadata": {},
     "output_type": "execute_result"
    }
   ],
   "source": [
    "typeof(10)"
   ]
  },
  {
   "cell_type": "markdown",
   "id": "2d2bcbc1-4d4b-44f0-9cd6-c85a06d71419",
   "metadata": {},
   "source": [
    "However, a value also has the type of all of its\n",
    "supertypes; for example, isa(5, Number) returns true ("
   ]
  },
  {
   "cell_type": "code",
   "execution_count": 92,
   "id": "76fc2730-7305-4271-a9e7-b1ffc58f8d01",
   "metadata": {},
   "outputs": [
    {
     "data": {
      "text/plain": [
       "true"
      ]
     },
     "execution_count": 92,
     "metadata": {},
     "output_type": "execute_result"
    }
   ],
   "source": [
    "isa(5, Number)"
   ]
  },
  {
   "cell_type": "markdown",
   "id": "c4c5dc3a-29e3-4958-9fd1-ebfad65082e8",
   "metadata": {},
   "source": [
    "Concrete types have no subtypes and might only have abstract types as their supertypes.\n",
    "Schematically, we can differentiate them as follows:"
   ]
  },
  {
   "cell_type": "markdown",
   "id": "d201e340-d337-479e-903b-6a836a3160e9",
   "metadata": {},
   "source": [
    "An abstract type (such as Number and Real) is only a name that groups multiple subtypes\n",
    "together, but it can be used as a type annotation or used as a type in array literals"
   ]
  },
  {
   "cell_type": "code",
   "execution_count": 93,
   "id": "435eb195-c755-44d3-93de-63d74cc2747b",
   "metadata": {},
   "outputs": [
    {
     "data": {
      "text/plain": [
       "10-element Vector{Number}:\n",
       " #undef\n",
       " #undef\n",
       " #undef\n",
       " #undef\n",
       " #undef\n",
       " #undef\n",
       " #undef\n",
       " #undef\n",
       " #undef\n",
       " #undef"
      ]
     },
     "execution_count": 93,
     "metadata": {},
     "output_type": "execute_result"
    }
   ],
   "source": [
    "a = Array{Number,}(undef,10)"
   ]
  },
  {
   "cell_type": "markdown",
   "id": "44a2c72a-0df2-4a33-b32b-4b07fb029821",
   "metadata": {},
   "source": [
    "Also,\n",
    "note that an abstract type cannot have any fields."
   ]
  },
  {
   "cell_type": "markdown",
   "id": "1984fa72-f8bf-4409-89dc-cd8f7fef5fa5",
   "metadata": {},
   "source": [
    "The abstract type Any is the supertype of all types, and all the objects are also instances of\n",
    "Any."
   ]
  },
  {
   "cell_type": "markdown",
   "id": "97789484-79a6-4015-ac00-518c187b9869",
   "metadata": {},
   "source": [
    "At the other end is Union{}: this type has no values and no subtypes. All types are\n",
    "supertypes of Union{} , and no object is an instance of Union{}. It is unlikely that you will\n",
    "ever have to use this type. The Nothing type has one value called nothing."
   ]
  },
  {
   "cell_type": "code",
   "execution_count": 98,
   "id": "e5c61df7-5394-48d2-9ed8-41aa8ff556ee",
   "metadata": {},
   "outputs": [
    {
     "data": {
      "text/plain": [
       "(Union, Type{T}, Any)"
      ]
     },
     "execution_count": 98,
     "metadata": {},
     "output_type": "execute_result"
    }
   ],
   "source": [
    "supertypes(Union)"
   ]
  },
  {
   "cell_type": "code",
   "execution_count": 99,
   "id": "38ecc88c-dacf-4523-83db-8012adfbfaa6",
   "metadata": {},
   "outputs": [
    {
     "data": {
      "text/plain": [
       "Type[]"
      ]
     },
     "execution_count": 99,
     "metadata": {},
     "output_type": "execute_result"
    }
   ],
   "source": [
    "subtypes(Union)"
   ]
  },
  {
   "cell_type": "code",
   "execution_count": 100,
   "id": "92668215-d200-4e34-a972-c68f655b9d1a",
   "metadata": {},
   "outputs": [
    {
     "data": {
      "text/plain": [
       "Type[]"
      ]
     },
     "execution_count": 100,
     "metadata": {},
     "output_type": "execute_result"
    }
   ],
   "source": [
    "subtypes(Nothing)"
   ]
  },
  {
   "cell_type": "code",
   "execution_count": 101,
   "id": "098ac681-d8ab-4810-946c-8e57af6ed5ab",
   "metadata": {},
   "outputs": [
    {
     "data": {
      "text/plain": [
       "(Nothing, Any)"
      ]
     },
     "execution_count": 101,
     "metadata": {},
     "output_type": "execute_result"
    }
   ],
   "source": [
    "supertypes(Nothing)"
   ]
  },
  {
   "cell_type": "markdown",
   "id": "fe7b41e4-12fb-447a-8753-c57501cef157",
   "metadata": {},
   "source": [
    "When a function is only used for its side-effects, convention dictates that it returns\n",
    "nothing. We have seen this with the println function, where the printing is the side-\n",
    "effect, for instance:"
   ]
  },
  {
   "cell_type": "code",
   "execution_count": 102,
   "id": "6e1514ec-cf8f-470a-8721-5aea2e11beb8",
   "metadata": {},
   "outputs": [
    {
     "name": "stdout",
     "output_type": "stream",
     "text": [
      "WTF"
     ]
    }
   ],
   "source": [
    "ret_val = print(\"WTF\")"
   ]
  },
  {
   "cell_type": "code",
   "execution_count": 104,
   "id": "ed2053da-3187-4df7-b874-fe50bc8da7fd",
   "metadata": {},
   "outputs": [
    {
     "data": {
      "text/plain": [
       "Nothing"
      ]
     },
     "execution_count": 104,
     "metadata": {},
     "output_type": "execute_result"
    }
   ],
   "source": [
    "typeof(ret_val)"
   ]
  },
  {
   "cell_type": "markdown",
   "id": "76101e13-003d-45da-9179-e865ba5fea59",
   "metadata": {},
   "source": [
    "# User-defined and composite types"
   ]
  },
  {
   "cell_type": "markdown",
   "id": "8d89be83-aba4-4240-ac34-4a4538a61cdf",
   "metadata": {},
   "source": [
    "In Julia, as a developer you can define your own types to structure data used in\n",
    "applications. For example, if you need to represent points in a three-dimensional space, you\n",
    "can define a type Point, as follows:"
   ]
  },
  {
   "cell_type": "code",
   "execution_count": 105,
   "id": "5122e1f5-fb6b-4e86-8ab0-13c427af1db9",
   "metadata": {},
   "outputs": [],
   "source": [
    "mutable struct Point \n",
    "    x::Float64\n",
    "    y::Float64\n",
    "    z::Float64\n",
    "end\n"
   ]
  },
  {
   "cell_type": "markdown",
   "id": "c88c8945-dc1d-4517-8b3f-adb4ee5a8c8a",
   "metadata": {},
   "source": [
    "mutable here means that Point values can be modified. If your type values cannot be\n",
    "changed, simply use struct."
   ]
  },
  {
   "cell_type": "code",
   "execution_count": 107,
   "id": "fdeb7a63-31c5-49a9-98a9-2e3d9db66f0c",
   "metadata": {},
   "outputs": [
    {
     "data": {
      "text/plain": [
       "Point(1.0, 2.0, 3.0)"
      ]
     },
     "execution_count": 107,
     "metadata": {},
     "output_type": "execute_result"
    }
   ],
   "source": [
    "a = Point(1,2,3)"
   ]
  },
  {
   "cell_type": "code",
   "execution_count": 111,
   "id": "cbc739b7-526f-44c4-b3c2-103c666b4989",
   "metadata": {},
   "outputs": [
    {
     "data": {
      "text/plain": [
       "Type[]"
      ]
     },
     "execution_count": 111,
     "metadata": {},
     "output_type": "execute_result"
    }
   ],
   "source": [
    "subtypes(Point)"
   ]
  },
  {
   "cell_type": "code",
   "execution_count": 112,
   "id": "50066584-c406-49f6-9118-8c0c7642b960",
   "metadata": {},
   "outputs": [
    {
     "data": {
      "text/plain": [
       "Point"
      ]
     },
     "execution_count": 112,
     "metadata": {},
     "output_type": "execute_result"
    }
   ],
   "source": [
    "typeof(a)"
   ]
  },
  {
   "cell_type": "markdown",
   "id": "3610f792-0ccb-4197-a66d-cd30630d9b29",
   "metadata": {},
   "source": [
    "Such a user-defined type is composed of a set of named fields with an optional type\n",
    "annotation; that's why it is a composite type, and its type is also DataType."
   ]
  },
  {
   "cell_type": "code",
   "execution_count": 113,
   "id": "a225a333-805a-4751-8f3d-352b5542a0ca",
   "metadata": {},
   "outputs": [
    {
     "data": {
      "text/plain": [
       "1.0"
      ]
     },
     "execution_count": 113,
     "metadata": {},
     "output_type": "execute_result"
    }
   ],
   "source": [
    "a.x"
   ]
  },
  {
   "cell_type": "markdown",
   "id": "3c93b1ba-d2f0-47c2-a669-dd26ff39e755",
   "metadata": {},
   "source": [
    "If the type of a\n",
    "named field is not given, then it is Any"
   ]
  },
  {
   "cell_type": "markdown",
   "id": "2f398bb4-77c0-4a7c-86fb-339d55cc3009",
   "metadata": {},
   "source": [
    "A composite type is similar to struct in C, or a\n",
    "class without methods in Java."
   ]
  },
  {
   "cell_type": "markdown",
   "id": "12a54cd4-9b6a-4fac-b71c-d33bb8013683",
   "metadata": {},
   "source": [
    "???????????????Unlike in other object-oriented languages such as Python or Java, where you call a function\n",
    "on an object such as object.func(args), Julia uses the func(object, args) syntax.????????????????????????\n"
   ]
  },
  {
   "cell_type": "code",
   "execution_count": 115,
   "id": "86d44be8-d2aa-428f-940a-ec3a257c4968",
   "metadata": {},
   "outputs": [
    {
     "data": {
      "text/plain": [
       "2.0"
      ]
     },
     "execution_count": 115,
     "metadata": {},
     "output_type": "execute_result"
    }
   ],
   "source": [
    "a.y"
   ]
  },
  {
   "cell_type": "markdown",
   "id": "1c6cb6c9-3bb8-44d1-850e-7bd0a7723c68",
   "metadata": {},
   "source": [
    "y is not a method called on this data type :|"
   ]
  },
  {
   "cell_type": "markdown",
   "id": "e98991d0-ecfd-4963-bd72-278d1f1c0217",
   "metadata": {},
   "source": [
    "Julia has no classes (as types with functions belong to that type); this keeps the data and\n",
    "functions separate. Functions and methods for a type will be defined outside that type.\n",
    "Methods cannot be tied to a single type, because multiple dispatch connects them with\n",
    "different types. This provides more flexibility, because when adding a new method for a\n",
    "type, you don't have to change the code of the type itself, as you would have to do with the\n",
    "code of the class in object-oriented languages."
   ]
  },
  {
   "cell_type": "markdown",
   "id": "33664fa7-2e58-4f03-8317-38bcbde04c60",
   "metadata": {},
   "source": [
    "The names of the fields that belong to a composite type can be obtained with the names\n",
    "function of the type or object: fieldnames(Point) or fieldnames(typeof(p1)) returns\n",
    "(:x, :y, :z)."
   ]
  },
  {
   "cell_type": "code",
   "execution_count": 117,
   "id": "cbb0abdb-a232-45c2-85bf-f22dfe0c1535",
   "metadata": {},
   "outputs": [
    {
     "data": {
      "text/plain": [
       "(:x, :y, :z)"
      ]
     },
     "execution_count": 117,
     "metadata": {},
     "output_type": "execute_result"
    }
   ],
   "source": [
    "fieldnames(Point)"
   ]
  },
  {
   "cell_type": "code",
   "execution_count": 119,
   "id": "4ba71b8b-bf8a-49ab-8c09-8ddd2e4ae1b9",
   "metadata": {},
   "outputs": [
    {
     "data": {
      "text/plain": [
       "(:x, :y, :z)"
      ]
     },
     "execution_count": 119,
     "metadata": {},
     "output_type": "execute_result"
    }
   ],
   "source": [
    "fieldnames(typeof(a))"
   ]
  },
  {
   "cell_type": "markdown",
   "id": "6a713272-e5ea-4ca6-b5ed-63a514b43bce",
   "metadata": {},
   "source": [
    "A user-defined type has two default implicit constructors that have the same name as the\n",
    "type and take an argument for each field. You can see this by asking for the methods of\n",
    "Point: methods(Point);"
   ]
  },
  {
   "cell_type": "code",
   "execution_count": 121,
   "id": "624eede4-de76-41d7-be8e-932fc3a86125",
   "metadata": {},
   "outputs": [
    {
     "data": {
      "text/html": [
       "# 2 methods for type constructor:<ul><li> Point(x::<b>Float64</b>, y::<b>Float64</b>, z::<b>Float64</b>) in Main at In[105]:2</li> <li> Point(x, y, z) in Main at In[105]:2</li> </ul>"
      ],
      "text/plain": [
       "# 2 methods for type constructor:\n",
       "[1] Point(x::Float64, y::Float64, z::Float64) in Main at In[105]:2\n",
       "[2] Point(x, y, z) in Main at In[105]:2"
      ]
     },
     "execution_count": 121,
     "metadata": {},
     "output_type": "execute_result"
    }
   ],
   "source": [
    "methods(Point)"
   ]
  },
  {
   "cell_type": "code",
   "execution_count": 125,
   "id": "62e1a818-e234-4f3c-9c71-73dfe81e0d23",
   "metadata": {},
   "outputs": [
    {
     "data": {
      "text/plain": [
       "distance (generic function with 1 method)"
      ]
     },
     "execution_count": 125,
     "metadata": {},
     "output_type": "execute_result"
    }
   ],
   "source": [
    "function distance(point::Point,)\n",
    "    print(point.x)\n",
    "end\n",
    "\n"
   ]
  },
  {
   "cell_type": "code",
   "execution_count": 126,
   "id": "3ab8abc9-0ad7-47db-a289-f644f1a7f1e6",
   "metadata": {},
   "outputs": [
    {
     "data": {
      "text/html": [
       "# 2 methods for type constructor:<ul><li> Point(x::<b>Float64</b>, y::<b>Float64</b>, z::<b>Float64</b>) in Main at In[105]:2</li> <li> Point(x, y, z) in Main at In[105]:2</li> </ul>"
      ],
      "text/plain": [
       "# 2 methods for type constructor:\n",
       "[1] Point(x::Float64, y::Float64, z::Float64) in Main at In[105]:2\n",
       "[2] Point(x, y, z) in Main at In[105]:2"
      ]
     },
     "execution_count": 126,
     "metadata": {},
     "output_type": "execute_result"
    }
   ],
   "source": [
    "methods(Point)"
   ]
  },
  {
   "cell_type": "markdown",
   "id": "f31a587e-e57b-4237-bc98-914bd8b2bf28",
   "metadata": {},
   "source": [
    "Fields that together contain the state of the object can be accessed by name, as in: p1.y,\n",
    "which returns 4.0."
   ]
  },
  {
   "cell_type": "code",
   "execution_count": 127,
   "id": "1c5a482f-a3c3-4725-b049-a399cd76f484",
   "metadata": {},
   "outputs": [
    {
     "data": {
      "text/plain": [
       "1.0"
      ]
     },
     "execution_count": 127,
     "metadata": {},
     "output_type": "execute_result"
    }
   ],
   "source": [
    "a.x"
   ]
  },
  {
   "cell_type": "markdown",
   "id": "203d129b-1894-4955-9d5f-95d8f60ae48b",
   "metadata": {},
   "source": [
    "Objects of such a type are mutable, for example, I can change the z field to a new value with\n",
    "p1.z = 3.14, resulting in p1 now having the value Point(2.0, 4.0, 3.14). Of course,\n",
    "types are checked: p1.z = \"A\" results in an error."
   ]
  },
  {
   "cell_type": "markdown",
   "id": "e8cf4990-43f8-4a50-bf23-afb8879359dc",
   "metadata": {},
   "source": [
    "Objects as arguments to functions are passed by reference, so that they can be changed inside\n",
    "the function"
   ]
  },
  {
   "cell_type": "markdown",
   "id": "932bb551-584d-487b-8efe-291af05ef7f4",
   "metadata": {},
   "source": [
    "If you don't want your objects to be changeable, replace type with the keyword struct,\n",
    "for example:"
   ]
  },
  {
   "cell_type": "code",
   "execution_count": 128,
   "id": "ab2d22ff-2a62-424e-814b-03f03b19c766",
   "metadata": {},
   "outputs": [],
   "source": [
    "struct ImmutablePoint\n",
    "    x::Float64\n",
    "    y::Float64\n",
    "    z::Float64\n",
    "end\n"
   ]
  },
  {
   "cell_type": "code",
   "execution_count": 129,
   "id": "d85c376e-649f-4a4b-a9ee-86d13d63662c",
   "metadata": {},
   "outputs": [
    {
     "data": {
      "text/plain": [
       "ImmutablePoint(1.0, 2.0, 3.0)"
      ]
     },
     "execution_count": 129,
     "metadata": {},
     "output_type": "execute_result"
    }
   ],
   "source": [
    "b = ImmutablePoint(1,2,3)"
   ]
  },
  {
   "cell_type": "code",
   "execution_count": 130,
   "id": "b2302ded-be9d-4d4a-b206-6cbde5f4b2b6",
   "metadata": {},
   "outputs": [
    {
     "ename": "LoadError",
     "evalue": "setfield!: immutable struct of type ImmutablePoint cannot be changed",
     "output_type": "error",
     "traceback": [
      "setfield!: immutable struct of type ImmutablePoint cannot be changed",
      "",
      "Stacktrace:",
      " [1] setproperty!(x::ImmutablePoint, f::Symbol, v::Int64)",
      "   @ Base ./Base.jl:43",
      " [2] top-level scope",
      "   @ In[130]:1",
      " [3] eval",
      "   @ ./boot.jl:373 [inlined]",
      " [4] include_string(mapexpr::typeof(REPL.softscope), mod::Module, code::String, filename::String)",
      "   @ Base ./loading.jl:1196"
     ]
    }
   ],
   "source": [
    "b.x = 7"
   ]
  },
  {
   "cell_type": "markdown",
   "id": "d50e0998-d702-458f-b866-293a6de78241",
   "metadata": {},
   "source": [
    "Immutable types enhance performance, because Julia can optimize the\n",
    "code for them. Another big advantage of immutable types is thread safety:\n",
    "an immutable object can be shared between threads without needing\n",
    "synchronization. If, however, such an immutable type contains a mutable\n",
    "field such as an array, the contents of that field can be changed. So, define\n",
    "your immutable types without mutable fields."
   ]
  },
  {
   "cell_type": "markdown",
   "id": "9f7a76e0-c146-4d50-8cce-002eae077ba4",
   "metadata": {},
   "source": [
    "A type once defined cannot be changed. If we try to define a new type Point with fields of\n",
    "type Int64, or with added fields, we get an ERROR: invalid redefinition of\n",
    "constant TypeName error message."
   ]
  },
  {
   "cell_type": "code",
   "execution_count": 131,
   "id": "5aba058d-3f01-4373-832c-f34b8e81e45d",
   "metadata": {},
   "outputs": [
    {
     "ename": "LoadError",
     "evalue": "invalid redefinition of constant Point",
     "output_type": "error",
     "traceback": [
      "invalid redefinition of constant Point",
      "",
      "Stacktrace:",
      " [1] top-level scope",
      "   @ In[131]:1",
      " [2] eval",
      "   @ ./boot.jl:373 [inlined]",
      " [3] include_string(mapexpr::typeof(REPL.softscope), mod::Module, code::String, filename::String)",
      "   @ Base ./loading.jl:1196"
     ]
    }
   ],
   "source": [
    "mutable struct Point\n",
    "    x::Float64\n",
    "    y::Float64\n",
    "    z::Float64\n",
    "    a::Float64\n",
    "end"
   ]
  },
  {
   "cell_type": "markdown",
   "id": "0b576dff-02f8-4d58-9929-2bb2a0013219",
   "metadata": {},
   "source": [
    "A new type that is exactly the same as an existing type can be defined as an alias through a\n",
    "simple assignment, for instance, Point3D = Point. Now, objects of type Point3D can also\n",
    "be created: p31 = Point3D(1, 2, 3) returns Point(1.0, 2.0, 3.0). Julia also uses\n",
    "this internally; the alias Int is used for either Int64 or Int32, depending on the\n",
    "architecture of the system that is being used."
   ]
  },
  {
   "cell_type": "markdown",
   "id": "74521bd4-fbbc-4992-9b1c-20864ec8b4db",
   "metadata": {},
   "source": [
    "# When are two values or objects equal or identical?"
   ]
  },
  {
   "cell_type": "markdown",
   "id": "e6f08e89-77cd-46d7-8cbe-48f06dd6c44c",
   "metadata": {},
   "source": [
    "Whether two values are equal or not can be decided by the == operator, for example, 5 ==\n",
    "5 and 5 == 5.0 are both true. Equivalent to this operator is the isequal() function:"
   ]
  },
  {
   "cell_type": "code",
   "execution_count": 1,
   "id": "2e02cd20-5a2c-4ee3-8e42-2c18761b9edc",
   "metadata": {},
   "outputs": [
    {
     "data": {
      "text/plain": [
       "true"
      ]
     },
     "execution_count": 1,
     "metadata": {},
     "output_type": "execute_result"
    }
   ],
   "source": [
    "5 == 5.0"
   ]
  },
  {
   "cell_type": "code",
   "execution_count": 2,
   "id": "ded0f82e-d25f-4268-a339-3ce6eabb9306",
   "metadata": {},
   "outputs": [
    {
     "data": {
      "text/plain": [
       "true"
      ]
     },
     "execution_count": 2,
     "metadata": {},
     "output_type": "execute_result"
    }
   ],
   "source": [
    "isequal(4,4)"
   ]
  },
  {
   "cell_type": "code",
   "execution_count": 3,
   "id": "eb2dc09e-fa68-465c-9816-2e989364cb36",
   "metadata": {},
   "outputs": [
    {
     "data": {
      "text/plain": [
       "true"
      ]
     },
     "execution_count": 3,
     "metadata": {},
     "output_type": "execute_result"
    }
   ],
   "source": [
    "isequal(4.0,4)"
   ]
  },
  {
   "cell_type": "markdown",
   "id": "b102f3fe-7612-438d-b390-424c87ce353f",
   "metadata": {},
   "source": [
    "Both the preceding statements return true, because objects such as numbers are immutable\n",
    "and they are compared at the bits level."
   ]
  },
  {
   "cell_type": "markdown",
   "id": "442c4ddc-78bb-4886-89e2-d0b422d48857",
   "metadata": {},
   "source": [
    "To see whether the two objects x and y are identical, they must be compared with the ===\n",
    "operator."
   ]
  },
  {
   "cell_type": "code",
   "execution_count": 4,
   "id": "8d1dfc3b-6a9d-4884-9714-ecbfd0946e3d",
   "metadata": {},
   "outputs": [
    {
     "data": {
      "text/plain": [
       "true"
      ]
     },
     "execution_count": 4,
     "metadata": {},
     "output_type": "execute_result"
    }
   ],
   "source": [
    "5 === 5"
   ]
  },
  {
   "cell_type": "code",
   "execution_count": 5,
   "id": "3c16664a-6733-48f5-9815-884617244b55",
   "metadata": {},
   "outputs": [
    {
     "data": {
      "text/plain": [
       "false"
      ]
     },
     "execution_count": 5,
     "metadata": {},
     "output_type": "execute_result"
    }
   ],
   "source": [
    "5 === 5.0"
   ]
  },
  {
   "cell_type": "markdown",
   "id": "3748e00e-2d40-45b5-bb9b-1e25deb2113d",
   "metadata": {},
   "source": [
    "For objects that are more complex, such as strings, arrays, or objects that are constructed\n",
    "from composite types, the addresses in the memory are compared to check whether they\n",
    "point to the same memory location."
   ]
  },
  {
   "cell_type": "markdown",
   "id": "5064d4cb-745b-4202-989e-5597208bc188",
   "metadata": {},
   "source": [
    "For immutable object such as struct, this gets\n",
    "optimized so that instances with the same value point to the same object:"
   ]
  },
  {
   "cell_type": "code",
   "execution_count": 6,
   "id": "66036ad9-90c4-4b3f-9f7b-92276793c40a",
   "metadata": {},
   "outputs": [],
   "source": [
    "struct Vector3D\n",
    "    x::Float64\n",
    "    y::Float64\n",
    "    z::Float64\n",
    "end\n"
   ]
  },
  {
   "cell_type": "code",
   "execution_count": 7,
   "id": "6235eb3e-3aba-439a-a366-1bad6142fe20",
   "metadata": {},
   "outputs": [
    {
     "data": {
      "text/plain": [
       "Vector3D(1.0, 2.0, 3.0)"
      ]
     },
     "execution_count": 7,
     "metadata": {},
     "output_type": "execute_result"
    }
   ],
   "source": [
    "a = Vector3D(1,2,3)"
   ]
  },
  {
   "cell_type": "code",
   "execution_count": 8,
   "id": "621094f1-7d7f-40a2-98b7-c3f07069a73b",
   "metadata": {},
   "outputs": [
    {
     "data": {
      "text/plain": [
       "Vector3D(1.0, 2.0, 3.0)"
      ]
     },
     "execution_count": 8,
     "metadata": {},
     "output_type": "execute_result"
    }
   ],
   "source": [
    "b = Vector3D(1,2,3)"
   ]
  },
  {
   "cell_type": "code",
   "execution_count": 9,
   "id": "2f379c57-7814-4e89-94c5-e7e68fdababe",
   "metadata": {},
   "outputs": [
    {
     "data": {
      "text/plain": [
       "true"
      ]
     },
     "execution_count": 9,
     "metadata": {},
     "output_type": "execute_result"
    }
   ],
   "source": [
    "a == b"
   ]
  },
  {
   "cell_type": "code",
   "execution_count": 10,
   "id": "f40c8d81-7353-4bc1-a4d9-148c24d8c3bb",
   "metadata": {},
   "outputs": [
    {
     "data": {
      "text/plain": [
       "true"
      ]
     },
     "execution_count": 10,
     "metadata": {},
     "output_type": "execute_result"
    }
   ],
   "source": [
    "a === b"
   ]
  },
  {
   "cell_type": "code",
   "execution_count": 11,
   "id": "0e04e97a-85b6-4885-b64b-ef6a7a75ae46",
   "metadata": {},
   "outputs": [
    {
     "data": {
      "text/plain": [
       "Vector3D(1.0, 3.0, 3.0)"
      ]
     },
     "execution_count": 11,
     "metadata": {},
     "output_type": "execute_result"
    }
   ],
   "source": [
    "b = Vector3D(1, 3, 3)"
   ]
  },
  {
   "cell_type": "code",
   "execution_count": 12,
   "id": "9cecb036-955a-48ac-921f-e23ed81c67a4",
   "metadata": {},
   "outputs": [
    {
     "data": {
      "text/plain": [
       "false"
      ]
     },
     "execution_count": 12,
     "metadata": {},
     "output_type": "execute_result"
    }
   ],
   "source": [
    "a == b"
   ]
  },
  {
   "cell_type": "code",
   "execution_count": 13,
   "id": "3bb1604d-be9e-47a3-a9ed-3b1e6066d739",
   "metadata": {},
   "outputs": [
    {
     "data": {
      "text/plain": [
       "false"
      ]
     },
     "execution_count": 13,
     "metadata": {},
     "output_type": "execute_result"
    }
   ],
   "source": [
    "a === b"
   ]
  },
  {
   "cell_type": "markdown",
   "id": "87ee67de-88de-4c54-b9c4-4d30aaeeba90",
   "metadata": {},
   "source": [
    "However, if objects are mutable, they are different objects even if they have the same value,\n",
    "as follows:"
   ]
  },
  {
   "cell_type": "code",
   "execution_count": 14,
   "id": "5908c5c0-1946-48a0-90f2-833688dce3bb",
   "metadata": {},
   "outputs": [],
   "source": [
    "mutable struct MVector3D\n",
    "    x::Float64\n",
    "    y::Float64\n",
    "    z::Float64\n",
    "end\n"
   ]
  },
  {
   "cell_type": "code",
   "execution_count": 15,
   "id": "6f5da262-f260-41bf-ab93-ecd9a4b6c34d",
   "metadata": {},
   "outputs": [
    {
     "data": {
      "text/plain": [
       "MVector3D(1.0, 2.0, 3.0)"
      ]
     },
     "execution_count": 15,
     "metadata": {},
     "output_type": "execute_result"
    }
   ],
   "source": [
    "m = MVector3D(1,2,3)\n",
    "n = MVector3D(1,2,3)"
   ]
  },
  {
   "cell_type": "code",
   "execution_count": 16,
   "id": "213858fb-c8a5-4226-b297-0a4e543641ba",
   "metadata": {},
   "outputs": [
    {
     "data": {
      "text/plain": [
       "false"
      ]
     },
     "execution_count": 16,
     "metadata": {},
     "output_type": "execute_result"
    }
   ],
   "source": [
    "isequal(m, n)"
   ]
  },
  {
   "cell_type": "code",
   "execution_count": 17,
   "id": "7e54d516-fb3a-4011-a92b-5db9ad32ef6b",
   "metadata": {},
   "outputs": [
    {
     "data": {
      "text/plain": [
       "false"
      ]
     },
     "execution_count": 17,
     "metadata": {},
     "output_type": "execute_result"
    }
   ],
   "source": [
    "m == n"
   ]
  },
  {
   "cell_type": "code",
   "execution_count": 18,
   "id": "e9302af5-cd04-43e9-ae7d-ab0488ad781c",
   "metadata": {},
   "outputs": [
    {
     "data": {
      "text/plain": [
       "false"
      ]
     },
     "execution_count": 18,
     "metadata": {},
     "output_type": "execute_result"
    }
   ],
   "source": [
    "m === n"
   ]
  },
  {
   "cell_type": "markdown",
   "id": "0c0d303d-312d-4f42-9617-54bdb122ac89",
   "metadata": {},
   "source": [
    "# A multiple-dispatch example"
   ]
  },
  {
   "cell_type": "markdown",
   "id": "3836a283-e081-4782-9656-1db430b1387c",
   "metadata": {},
   "source": [
    "Let's now explore an example about people working in a company to show multiple\n",
    "dispatch in action. Let's define an abstract type Employee and a type Developer that is a\n",
    "subtype:"
   ]
  },
  {
   "cell_type": "code",
   "execution_count": 24,
   "id": "c0b6a207-d70d-41d8-b13f-8cb7e7501a7a",
   "metadata": {},
   "outputs": [],
   "source": [
    "abstract type Employee \n",
    "end"
   ]
  },
  {
   "cell_type": "markdown",
   "id": "ab6390aa-ee6f-45b4-b812-0a165f7b9eb4",
   "metadata": {},
   "source": [
    "We cannot make objects from an abstract type: calling Employee() only returns an ERROR:\n",
    "MethodError: no constructors have been defined for Employee error message."
   ]
  },
  {
   "cell_type": "code",
   "execution_count": 34,
   "id": "94d9971f-53a8-442c-a79f-19edc347733b",
   "metadata": {},
   "outputs": [
    {
     "ename": "LoadError",
     "evalue": "MethodError: no constructors have been defined for Employee",
     "output_type": "error",
     "traceback": [
      "MethodError: no constructors have been defined for Employee",
      "",
      "Stacktrace:",
      " [1] top-level scope",
      "   @ In[34]:1",
      " [2] eval",
      "   @ ./boot.jl:373 [inlined]",
      " [3] include_string(mapexpr::typeof(REPL.softscope), mod::Module, code::String, filename::String)",
      "   @ Base ./loading.jl:1196"
     ]
    }
   ],
   "source": [
    "Employee()"
   ]
  },
  {
   "cell_type": "code",
   "execution_count": 27,
   "id": "22e130e5-b4b9-4873-a1ce-0f17aed7b3f8",
   "metadata": {},
   "outputs": [],
   "source": [
    "mutable struct Developer <: Employee\n",
    "    name::String \n",
    "    iq::UInt8\n",
    "    favorite_language::String\n",
    "end\n"
   ]
  },
  {
   "cell_type": "markdown",
   "id": "4797b3bd-e4fc-4311-ae34-ad670c4c5b50",
   "metadata": {},
   "source": [
    "The type Developer has two implicit constructors, but we can define another outer\n",
    "constructor, which uses a default constructor as follows:"
   ]
  },
  {
   "cell_type": "code",
   "execution_count": 35,
   "id": "260b77db-93ad-4ce7-ba41-9742083cbba3",
   "metadata": {},
   "outputs": [
    {
     "data": {
      "text/plain": [
       "Developer"
      ]
     },
     "execution_count": 35,
     "metadata": {},
     "output_type": "execute_result"
    }
   ],
   "source": [
    "Developer(name, iq) = Developer(name, iq, \"Java\")"
   ]
  },
  {
   "cell_type": "code",
   "execution_count": 36,
   "id": "898aca3a-d235-48d5-a636-7fefdce308bf",
   "metadata": {},
   "outputs": [
    {
     "data": {
      "text/html": [
       "# 3 methods for type constructor:<ul><li> Developer(name::<b>String</b>, iq::<b>UInt8</b>, favorite_language::<b>String</b>) in Main at In[27]:2</li> <li> Developer(name, iq) in Main at In[35]:1</li> <li> Developer(name, iq, favorite_language) in Main at In[27]:2</li> </ul>"
      ],
      "text/plain": [
       "# 3 methods for type constructor:\n",
       "[1] Developer(name::String, iq::UInt8, favorite_language::String) in Main at In[27]:2\n",
       "[2] Developer(name, iq) in Main at In[35]:1\n",
       "[3] Developer(name, iq, favorite_language) in Main at In[27]:2"
      ]
     },
     "execution_count": 36,
     "metadata": {},
     "output_type": "execute_result"
    }
   ],
   "source": [
    "methods(Developer)"
   ]
  },
  {
   "cell_type": "code",
   "execution_count": 29,
   "id": "a0973062-8f0f-4e75-888a-a495c283706e",
   "metadata": {},
   "outputs": [
    {
     "data": {
      "text/plain": [
       "Developer(\"javid\", 0x6e, \"WTF\")"
      ]
     },
     "execution_count": 29,
     "metadata": {},
     "output_type": "execute_result"
    }
   ],
   "source": [
    "a = Developer(\"javid\",110,\"WTF\")"
   ]
  },
  {
   "cell_type": "code",
   "execution_count": 30,
   "id": "a3c7ab9b-c281-48cb-94ae-5e4d00074a8f",
   "metadata": {},
   "outputs": [
    {
     "data": {
      "text/plain": [
       "Developer"
      ]
     },
     "execution_count": 30,
     "metadata": {},
     "output_type": "execute_result"
    }
   ],
   "source": [
    "typeof(a)"
   ]
  },
  {
   "cell_type": "code",
   "execution_count": 31,
   "id": "8c89a386-94d0-44c5-a057-faa39e254629",
   "metadata": {},
   "outputs": [
    {
     "data": {
      "text/plain": [
       "(Developer, Employee, Any)"
      ]
     },
     "execution_count": 31,
     "metadata": {},
     "output_type": "execute_result"
    }
   ],
   "source": [
    "supertypes(typeof(a))"
   ]
  },
  {
   "cell_type": "code",
   "execution_count": 33,
   "id": "eff285b9-1ebf-4a78-bd91-8183ddef42ea",
   "metadata": {},
   "outputs": [
    {
     "data": {
      "text/plain": [
       "true"
      ]
     },
     "execution_count": 33,
     "metadata": {},
     "output_type": "execute_result"
    }
   ],
   "source": [
    "isa(a,Employee)"
   ]
  },
  {
   "cell_type": "code",
   "execution_count": 42,
   "id": "a7519f99-3f8b-4c72-ace8-d0cef96272ff",
   "metadata": {},
   "outputs": [
    {
     "data": {
      "text/plain": [
       "Developer(\"javid\", 0x78, \"Java\")"
      ]
     },
     "execution_count": 42,
     "metadata": {},
     "output_type": "execute_result"
    }
   ],
   "source": [
    "dev11 = Developer(\"Anna\",150)\n",
    "dev12 = Developer(\"javid\", 120)"
   ]
  },
  {
   "cell_type": "markdown",
   "id": "06cc4ccf-1609-4848-bf27-e511b46cbf49",
   "metadata": {},
   "source": [
    "Similarly, we can define a type Manager and an instance of it as follows:"
   ]
  },
  {
   "cell_type": "code",
   "execution_count": 43,
   "id": "04ad2a87-52ee-4a36-9849-3e7608e776b7",
   "metadata": {},
   "outputs": [],
   "source": [
    "mutable struct Manager\n",
    "    name::String\n",
    "    iq::UInt8\n",
    "    favorite_language::String\n",
    "end\n",
    "\n"
   ]
  },
  {
   "cell_type": "code",
   "execution_count": 44,
   "id": "9a937c43-8efb-4948-b0ed-35cd7e4cd0d8",
   "metadata": {},
   "outputs": [
    {
     "data": {
      "text/plain": [
       "Manager(\"Krados\", 0xa0, \"haskell\")"
      ]
     },
     "execution_count": 44,
     "metadata": {},
     "output_type": "execute_result"
    }
   ],
   "source": [
    "man1 = Manager(\"Krados\",160,\"haskell\")"
   ]
  },
  {
   "cell_type": "markdown",
   "id": "f3cb3f7b-e573-4fca-b7b5-67367b54fe80",
   "metadata": {},
   "source": [
    "Concrete types, such as Developer or Manager, cannot be subtyped:"
   ]
  },
  {
   "cell_type": "code",
   "execution_count": 45,
   "id": "3d3029db-d96e-4b09-b1ed-49d7b7ade902",
   "metadata": {},
   "outputs": [
    {
     "ename": "LoadError",
     "evalue": "invalid subtyping in definition of MobileDeveloper",
     "output_type": "error",
     "traceback": [
      "invalid subtyping in definition of MobileDeveloper",
      "",
      "Stacktrace:",
      " [1] top-level scope",
      "   @ In[45]:1",
      " [2] eval",
      "   @ ./boot.jl:373 [inlined]",
      " [3] include_string(mapexpr::typeof(REPL.softscope), mod::Module, code::String, filename::String)",
      "   @ Base ./loading.jl:1196"
     ]
    }
   ],
   "source": [
    "struct MobileDeveloper <: Developer\n",
    "    platform::String\n",
    "end\n"
   ]
  },
  {
   "cell_type": "code",
   "execution_count": 46,
   "id": "956b5265-ea11-4c4b-87c5-a742f6f08ace",
   "metadata": {},
   "outputs": [
    {
     "data": {
      "text/plain": [
       "cleverness (generic function with 1 method)"
      ]
     },
     "execution_count": 46,
     "metadata": {},
     "output_type": "execute_result"
    }
   ],
   "source": [
    "cleverness(emp::Employee) = Int32(emp.iq)"
   ]
  },
  {
   "cell_type": "code",
   "execution_count": 47,
   "id": "0d429173-2216-4dbb-b5de-bf0dc9efffac",
   "metadata": {},
   "outputs": [
    {
     "data": {
      "text/plain": [
       "150"
      ]
     },
     "execution_count": 47,
     "metadata": {},
     "output_type": "execute_result"
    }
   ],
   "source": [
    "cleverness(dev11)"
   ]
  },
  {
   "cell_type": "code",
   "execution_count": 49,
   "id": "003ac24b-9972-4995-898d-be5915b74eee",
   "metadata": {},
   "outputs": [
    {
     "data": {
      "text/html": [
       "# 3 methods for type constructor:<ul><li> Developer(name::<b>String</b>, iq::<b>UInt8</b>, favorite_language::<b>String</b>) in Main at In[27]:2</li> <li> Developer(name, iq) in Main at In[35]:1</li> <li> Developer(name, iq, favorite_language) in Main at In[27]:2</li> </ul>"
      ],
      "text/plain": [
       "# 3 methods for type constructor:\n",
       "[1] Developer(name::String, iq::UInt8, favorite_language::String) in Main at In[27]:2\n",
       "[2] Developer(name, iq) in Main at In[35]:1\n",
       "[3] Developer(name, iq, favorite_language) in Main at In[27]:2"
      ]
     },
     "execution_count": 49,
     "metadata": {},
     "output_type": "execute_result"
    }
   ],
   "source": [
    "methods(Developer)"
   ]
  },
  {
   "cell_type": "code",
   "execution_count": 50,
   "id": "f58437a6-f854-459a-99ee-ba43fae1f4ab",
   "metadata": {},
   "outputs": [
    {
     "ename": "LoadError",
     "evalue": "MethodError: no method matching cleverness(::Manager)\n\u001b[0mClosest candidates are:\n\u001b[0m  cleverness(\u001b[91m::Employee\u001b[39m) at In[46]:1",
     "output_type": "error",
     "traceback": [
      "MethodError: no method matching cleverness(::Manager)\n\u001b[0mClosest candidates are:\n\u001b[0m  cleverness(\u001b[91m::Employee\u001b[39m) at In[46]:1",
      "",
      "Stacktrace:",
      " [1] top-level scope",
      "   @ In[50]:1",
      " [2] eval",
      "   @ ./boot.jl:373 [inlined]",
      " [3] include_string(mapexpr::typeof(REPL.softscope), mod::Module, code::String, filename::String)",
      "   @ Base ./loading.jl:1196"
     ]
    }
   ],
   "source": [
    "cleverness(man1)"
   ]
  },
  {
   "cell_type": "markdown",
   "id": "51921ee8-6ece-45ae-8ee1-a6671c59baa2",
   "metadata": {},
   "source": [
    "If we now define a function cleverness as cleverness(emp::Employee) = emp.iq,\n",
    "then cleverness(devel1) returns 110, but cleverness(man1) returns an ERROR:\n",
    "MethodError: `cleverness` has no method matching cleverness(::Manager)\n",
    "error message; the function has no method for a manager."
   ]
  },
  {
   "cell_type": "markdown",
   "id": "3dc435bf-61df-4592-9f14-8bccdc93d471",
   "metadata": {},
   "source": [
    "The following function makes us think that managers are always cleverer, which is, of\n",
    "course, not true:"
   ]
  },
  {
   "cell_type": "code",
   "execution_count": 53,
   "id": "5f3026f5-dd41-45be-b7f5-eb972891e3ba",
   "metadata": {},
   "outputs": [
    {
     "data": {
      "text/plain": [
       "cleverer (generic function with 1 method)"
      ]
     },
     "execution_count": 53,
     "metadata": {},
     "output_type": "execute_result"
    }
   ],
   "source": [
    "function cleverer(m::Manager, e::Employee)\n",
    "    print(\"The Manager $(m.name) is cleverer! in my ass\")\n",
    "end\n"
   ]
  },
  {
   "cell_type": "code",
   "execution_count": 54,
   "id": "08a335d8-edd0-4423-ba5f-dee71bcefb35",
   "metadata": {},
   "outputs": [
    {
     "name": "stdout",
     "output_type": "stream",
     "text": [
      "The Manager Krados is cleverer! in my ass"
     ]
    }
   ],
   "source": [
    "cleverer(man1,dev11)"
   ]
  },
  {
   "cell_type": "code",
   "execution_count": 57,
   "id": "09dca567-f314-4ff0-9758-33b951c8b7ae",
   "metadata": {},
   "outputs": [
    {
     "data": {
      "text/plain": [
       "cleverer (generic function with 2 methods)"
      ]
     },
     "execution_count": 57,
     "metadata": {},
     "output_type": "execute_result"
    }
   ],
   "source": [
    "function cleverer(d::Developer, e::Employee)\n",
    "    print(\"The Developer $(d.name) is smarter :)\")\n",
    "end\n"
   ]
  },
  {
   "cell_type": "code",
   "execution_count": 58,
   "id": "1e07337f-c949-4565-a7b7-69474784dfe2",
   "metadata": {},
   "outputs": [
    {
     "name": "stdout",
     "output_type": "stream",
     "text": [
      "The Developer Anna is smarter :)"
     ]
    }
   ],
   "source": [
    "cleverer(dev11,dev12)"
   ]
  },
  {
   "cell_type": "markdown",
   "id": "d48a15b6-d352-44a9-afae-eb9d21ab87ff",
   "metadata": {},
   "source": [
    "It matches a method\n",
    "because devel2 is also an employee."
   ]
  },
  {
   "cell_type": "code",
   "execution_count": 60,
   "id": "12dafa5f-1bfc-4143-8497-834598b5c102",
   "metadata": {},
   "outputs": [
    {
     "ename": "LoadError",
     "evalue": "MethodError: no method matching cleverer(::Developer, ::Manager)\n\u001b[0mClosest candidates are:\n\u001b[0m  cleverer(::Developer, \u001b[91m::Employee\u001b[39m) at In[57]:1",
     "output_type": "error",
     "traceback": [
      "MethodError: no method matching cleverer(::Developer, ::Manager)\n\u001b[0mClosest candidates are:\n\u001b[0m  cleverer(::Developer, \u001b[91m::Employee\u001b[39m) at In[57]:1",
      "",
      "Stacktrace:",
      " [1] top-level scope",
      "   @ In[60]:1",
      " [2] eval",
      "   @ ./boot.jl:373 [inlined]",
      " [3] include_string(mapexpr::typeof(REPL.softscope), mod::Module, code::String, filename::String)",
      "   @ Base ./loading.jl:1196"
     ]
    }
   ],
   "source": [
    "cleverer(dev11,man1)"
   ]
  },
  {
   "cell_type": "code",
   "execution_count": 62,
   "id": "50df35fd-d882-4f8c-a1e0-37a181eabbb3",
   "metadata": {},
   "outputs": [
    {
     "data": {
      "text/plain": [
       "cleverer (generic function with 3 methods)"
      ]
     },
     "execution_count": 62,
     "metadata": {},
     "output_type": "execute_result"
    }
   ],
   "source": [
    "function cleverer(e::Employee, d::Developer)\n",
    "    if e.iq <= d.iq \n",
    "        print(\"$(e.name) is smarter than $(b.name)\")\n",
    "    else\n",
    "        print(\"$(d.name) is smarter than $(e.name)\")\n",
    "    end\n",
    "end\n"
   ]
  },
  {
   "cell_type": "code",
   "execution_count": 63,
   "id": "c7b07421-5762-4c32-ae0e-7c2f3c9c1e41",
   "metadata": {},
   "outputs": [
    {
     "ename": "LoadError",
     "evalue": "MethodError: cleverer(::Developer, ::Developer) is ambiguous. Candidates:\n  cleverer(d::Developer, e::Employee) in Main at In[57]:1\n  cleverer(e::Employee, d::Developer) in Main at In[62]:1\nPossible fix, define\n  cleverer(::Developer, ::Developer)",
     "output_type": "error",
     "traceback": [
      "MethodError: cleverer(::Developer, ::Developer) is ambiguous. Candidates:\n  cleverer(d::Developer, e::Employee) in Main at In[57]:1\n  cleverer(e::Employee, d::Developer) in Main at In[62]:1\nPossible fix, define\n  cleverer(::Developer, ::Developer)",
      "",
      "Stacktrace:",
      " [1] top-level scope",
      "   @ In[63]:1",
      " [2] eval",
      "   @ ./boot.jl:373 [inlined]",
      " [3] include_string(mapexpr::typeof(REPL.softscope), mod::Module, code::String, filename::String)",
      "   @ Base ./loading.jl:1196"
     ]
    }
   ],
   "source": [
    "cleverer(dev11,dev12)"
   ]
  },
  {
   "cell_type": "markdown",
   "id": "a3f65282-ea05-4ec5-877f-6833c3e060fe",
   "metadata": {},
   "source": [
    "Devs are both Developer and Evmployee so the compiler doesn't know which to choose"
   ]
  },
  {
   "cell_type": "code",
   "execution_count": 66,
   "id": "7ea3db54-2717-4cd6-abc8-d908eb6a0231",
   "metadata": {},
   "outputs": [
    {
     "data": {
      "text/plain": [
       "cleverer (generic function with 4 methods)"
      ]
     },
     "execution_count": 66,
     "metadata": {},
     "output_type": "execute_result"
    }
   ],
   "source": [
    "function cleverer(d1::Developer, d2::Developer)\n",
    "    if d1.iq <= d2.iq \n",
    "        print(\"$(d2.name) is smarter than $(d1.name)\")\n",
    "    else\n",
    "        print(\"$(d1.name) is smarter than $(d2.name)\")\n",
    "    end\n",
    "end\n"
   ]
  },
  {
   "cell_type": "code",
   "execution_count": 67,
   "id": "977c3981-bdd2-42aa-90f7-b4f4ffaf2fb0",
   "metadata": {},
   "outputs": [
    {
     "name": "stdout",
     "output_type": "stream",
     "text": [
      "Anna is smarter than javid"
     ]
    }
   ],
   "source": [
    "cleverer(dev11,dev12)"
   ]
  },
  {
   "cell_type": "markdown",
   "id": "26845583-481f-4259-8aa6-b4b396a2ac63",
   "metadata": {},
   "source": [
    "Always avoid method ambiguities by specifying an appropriate method\n",
    "for the intersection case."
   ]
  },
  {
   "cell_type": "markdown",
   "id": "0140f21c-9ad5-4c0b-912d-2af389cb4e79",
   "metadata": {},
   "source": [
    "# Types and collections – inner constructors"
   ]
  },
  {
   "cell_type": "code",
   "execution_count": 1,
   "id": "c5eb56b6-c922-4944-98b4-343c3aea036a",
   "metadata": {},
   "outputs": [],
   "source": [
    "mutable struct Person \n",
    "    firstname::String\n",
    "    lastname::String\n",
    "    sex::String\n",
    "    age::Int\n",
    "    Children::Array{String,1}\n",
    "end\n",
    "\n",
    "    "
   ]
  },
  {
   "cell_type": "code",
   "execution_count": 2,
   "id": "a607d0c4-1366-4c3c-9220-9caf5f2b7e07",
   "metadata": {},
   "outputs": [
    {
     "data": {
      "text/plain": [
       "Person(\"javid\", \"norouzi\", \"male\", 28, [\"Javid the second\", \"Javid the third\"])"
      ]
     },
     "execution_count": 2,
     "metadata": {},
     "output_type": "execute_result"
    }
   ],
   "source": [
    "p1 = Person(\"javid\", \"norouzi\", \"male\", 28, [\"Javid the second\", \"Javid the third\"])"
   ]
  },
  {
   "cell_type": "markdown",
   "id": "8c23a312-f019-424e-bc95-54ff39187241",
   "metadata": {},
   "source": [
    "This example demonstrates that an object can contain collections, such as arrays or\n",
    "dictionaries. Custom types can also be stored in a collection, just like built-in types, for\n",
    "example:"
   ]
  },
  {
   "cell_type": "code",
   "execution_count": 3,
   "id": "b30a5418-cd87-4b5a-89ec-8453a379a7ce",
   "metadata": {},
   "outputs": [
    {
     "data": {
      "text/plain": [
       "Person[]"
      ]
     },
     "execution_count": 3,
     "metadata": {},
     "output_type": "execute_result"
    }
   ],
   "source": [
    "peoples = Person[]"
   ]
  },
  {
   "cell_type": "code",
   "execution_count": 4,
   "id": "a5954b3c-e73e-4e69-9593-7c23f8e27672",
   "metadata": {},
   "outputs": [
    {
     "data": {
      "text/plain": [
       "1-element Vector{Person}:\n",
       " Person(\"a\", \"b\", \"female\", 100, [\"NoBody\"])"
      ]
     },
     "execution_count": 4,
     "metadata": {},
     "output_type": "execute_result"
    }
   ],
   "source": [
    "push!(peoples, Person(\"a\",\"b\",\"female\",100,[\"NoBody\"]))"
   ]
  },
  {
   "cell_type": "code",
   "execution_count": 5,
   "id": "6f083b19-c243-421b-8ab2-565404e8993a",
   "metadata": {},
   "outputs": [
    {
     "data": {
      "text/plain": [
       "fullname (generic function with 1 method)"
      ]
     },
     "execution_count": 5,
     "metadata": {},
     "output_type": "execute_result"
    }
   ],
   "source": [
    "fullname(p::Person) = \"$(p.firstname) $(p.lastname)\""
   ]
  },
  {
   "cell_type": "code",
   "execution_count": 6,
   "id": "4dc5ca31-24ea-449d-af07-1ae0a922fe66",
   "metadata": {},
   "outputs": [
    {
     "data": {
      "text/plain": [
       "\"javid norouzi\""
      ]
     },
     "execution_count": 6,
     "metadata": {},
     "output_type": "execute_result"
    }
   ],
   "source": [
    "fullname(p1)"
   ]
  },
  {
   "cell_type": "markdown",
   "id": "6e9a8dc0-decb-4fd5-a2ff-162e9682658b",
   "metadata": {},
   "source": [
    "Or, slightly more performant:"
   ]
  },
  {
   "cell_type": "code",
   "execution_count": 7,
   "id": "6c20a099-9b52-48e9-a991-28ec84eff0c8",
   "metadata": {},
   "outputs": [
    {
     "data": {
      "text/plain": [
       "fullname (generic function with 1 method)"
      ]
     },
     "execution_count": 7,
     "metadata": {},
     "output_type": "execute_result"
    }
   ],
   "source": [
    "fullname(p::Person) = string(p.firstname, \" \", p.lastname)"
   ]
  },
  {
   "cell_type": "code",
   "execution_count": 8,
   "id": "f312ba7e-64aa-415a-be7f-136e651d9513",
   "metadata": {},
   "outputs": [
    {
     "data": {
      "text/plain": [
       "\"javid norouzi\""
      ]
     },
     "execution_count": 8,
     "metadata": {},
     "output_type": "execute_result"
    }
   ],
   "source": [
    "fullname(p1)"
   ]
  },
  {
   "cell_type": "markdown",
   "id": "8f2d2c4d-7f68-42bc-9026-45c2aa7dbbec",
   "metadata": {},
   "source": [
    "If you need to include error checking or transformations as part of the type construction\n",
    "process, you can use inner constructors (so-called because they are defined inside the type\n",
    "itself)"
   ]
  },
  {
   "cell_type": "code",
   "execution_count": 10,
   "id": "46315d36-aa0c-418b-bc22-afd356a9d670",
   "metadata": {},
   "outputs": [],
   "source": [
    "mutable struct Family\n",
    "    name::String\n",
    "    members::Array{String,1}\n",
    "    big::Bool\n",
    "    Family(name::String) = new(name, String[], false)\n",
    "    Family(name::String, members) = new(name, members, length(members)>4)\n",
    "end\n"
   ]
  },
  {
   "cell_type": "code",
   "execution_count": 11,
   "id": "59486ebe-c8f4-4a9b-b452-3245f9650177",
   "metadata": {},
   "outputs": [
    {
     "data": {
      "text/plain": [
       "Family(\"Bates-Smith\", [\"Alan\", \"Julia\", \"Jeff\", \"Stephan\", \"Viral\"], true)"
      ]
     },
     "execution_count": 11,
     "metadata": {},
     "output_type": "execute_result"
    }
   ],
   "source": [
    "fam = Family(\"Bates-Smith\", [\"Alan\", \"Julia\", \"Jeff\", \"Stephan\",\"Viral\"])"
   ]
  },
  {
   "cell_type": "markdown",
   "id": "91af8a2d-d766-48d4-b6e3-9c7675cd3a18",
   "metadata": {},
   "source": [
    "The keyword new can only be used in an inner constructor to create an object of the\n",
    "enclosing type."
   ]
  },
  {
   "cell_type": "markdown",
   "id": "837842d7-4dfc-4979-a549-47c045c911ba",
   "metadata": {},
   "source": [
    "The first constructor takes one argument and generates a default for the\n",
    "other two values. The second constructor takes two arguments and infers the value of big.`"
   ]
  },
  {
   "cell_type": "markdown",
   "id": "b700ccf8-7377-48c7-9322-fda008c244fe",
   "metadata": {},
   "source": [
    "Inner constructors give you more control over how the values of the type can be created.\n",
    "Here, they are written with the short function notation, but if they are multiline, they will\n",
    "use the normal function syntax."
   ]
  },
  {
   "cell_type": "markdown",
   "id": "89d14b5c-b6ad-4e6a-a2d8-8946c8dd8a41",
   "metadata": {},
   "source": [
    "Note that when you use inner constructors, there are no default constructors any more.\n",
    "Outer constructors, calling a limited set of inner constructors, are often the best practice."
   ]
  },
  {
   "cell_type": "markdown",
   "id": "a089da29-b278-4777-bf88-bd32fb6e0821",
   "metadata": {},
   "source": [
    "# Type unions"
   ]
  },
  {
   "cell_type": "markdown",
   "id": "50b66c9f-16cd-4b30-891b-b61e70428855",
   "metadata": {},
   "source": [
    "In geometry, a two-dimensional point and a vector are not the same, even if they both have\n",
    "an x and y component. In Julia, we can also define them as different types, as follows:"
   ]
  },
  {
   "cell_type": "code",
   "execution_count": 12,
   "id": "9079389e-9f5b-4ce5-a711-25343c6c3d89",
   "metadata": {},
   "outputs": [],
   "source": [
    "mutable struct Point\n",
    "    x::Float64\n",
    "    y::Float64\n",
    "end\n"
   ]
  },
  {
   "cell_type": "code",
   "execution_count": 13,
   "id": "49018166-6a16-4e9a-aacd-d6117b9bb822",
   "metadata": {},
   "outputs": [],
   "source": [
    "mutable struct Vector2D\n",
    "    x::Float64\n",
    "    y::Float64\n",
    "end"
   ]
  },
  {
   "cell_type": "code",
   "execution_count": 14,
   "id": "0613054f-d405-4a90-904f-c984876d7054",
   "metadata": {},
   "outputs": [
    {
     "data": {
      "text/plain": [
       "Vector2D(3.0, 4.0)"
      ]
     },
     "execution_count": 14,
     "metadata": {},
     "output_type": "execute_result"
    }
   ],
   "source": [
    "p = Point(2,3)\n",
    "v = Vector2D(3,4)"
   ]
  },
  {
   "cell_type": "code",
   "execution_count": 15,
   "id": "26855982-78be-48ec-abce-29d1accc82d0",
   "metadata": {},
   "outputs": [
    {
     "ename": "LoadError",
     "evalue": "MethodError: no method matching +(::Point, ::Vector2D)\n\u001b[0mClosest candidates are:\n\u001b[0m  +(::Any, ::Any, \u001b[91m::Any\u001b[39m, \u001b[91m::Any...\u001b[39m) at /opt/julia-1.7.1/share/julia/base/operators.jl:655",
     "output_type": "error",
     "traceback": [
      "MethodError: no method matching +(::Point, ::Vector2D)\n\u001b[0mClosest candidates are:\n\u001b[0m  +(::Any, ::Any, \u001b[91m::Any\u001b[39m, \u001b[91m::Any...\u001b[39m) at /opt/julia-1.7.1/share/julia/base/operators.jl:655",
      "",
      "Stacktrace:",
      " [1] top-level scope",
      "   @ In[15]:1",
      " [2] eval",
      "   @ ./boot.jl:373 [inlined]",
      " [3] include_string(mapexpr::typeof(REPL.softscope), mod::Module, code::String, filename::String)",
      "   @ Base ./loading.jl:1196"
     ]
    }
   ],
   "source": [
    "+(p, v)"
   ]
  },
  {
   "cell_type": "markdown",
   "id": "36e843e9-8014-4675-9166-e1882255e380",
   "metadata": {},
   "source": [
    "To define a + method here, first do an import Base.+"
   ]
  },
  {
   "cell_type": "code",
   "execution_count": 17,
   "id": "bcc89163-86f8-445e-81a4-863cb2909157",
   "metadata": {},
   "outputs": [],
   "source": [
    "import Base.+\n"
   ]
  },
  {
   "cell_type": "code",
   "execution_count": 19,
   "id": "952bd892-bb5c-465b-ae10-f55f97060d92",
   "metadata": {},
   "outputs": [
    {
     "data": {
      "text/plain": [
       "+ (generic function with 209 methods)"
      ]
     },
     "execution_count": 19,
     "metadata": {},
     "output_type": "execute_result"
    }
   ],
   "source": [
    "function +(p::Point,v::Vector2D)\n",
    "    return Point(p.x + v.x ,p.y + v.y)\n",
    "end\n"
   ]
  },
  {
   "cell_type": "code",
   "execution_count": 20,
   "id": "75941a45-0574-4e3d-b1c7-62db856b0cb7",
   "metadata": {},
   "outputs": [
    {
     "data": {
      "text/plain": [
       "Point(5.0, 7.0)"
      ]
     },
     "execution_count": 20,
     "metadata": {},
     "output_type": "execute_result"
    }
   ],
   "source": [
    "+(p,v)"
   ]
  },
  {
   "cell_type": "markdown",
   "id": "e3b3d843-1d19-428d-b540-3dfee586d94e",
   "metadata": {},
   "source": [
    "Even after defining the following, +(p, v) still returns the same error because of multiple\n",
    "dispatch. Julia has no way of knowing that +(p,v) should be the same as +(v,p):"
   ]
  },
  {
   "cell_type": "code",
   "execution_count": 21,
   "id": "6ccaf2ec-2e41-494f-bc1d-14d327753408",
   "metadata": {},
   "outputs": [
    {
     "data": {
      "text/plain": [
       "+ (generic function with 212 methods)"
      ]
     },
     "execution_count": 21,
     "metadata": {},
     "output_type": "execute_result"
    }
   ],
   "source": [
    "+(p::Point, q::Point) = Point(p.x + q.x, p.y + q.y)\n",
    "+(u::Vector2D, v::Vector2D) = Point(u.x + v.x, u.y + v.y)\n",
    "+(u::Vector2D, p::Point) = Point(u.x + p.x, u.y + p.y)"
   ]
  },
  {
   "cell_type": "markdown",
   "id": "3b4a2b6c-7e8d-41be-b029-4784aa9d5f35",
   "metadata": {},
   "source": [
    "Now you can ask the question: Don't multiple dispatch and many types give rise to code\n",
    "duplication, as is the case here?"
   ]
  },
  {
   "cell_type": "markdown",
   "id": "9549d47d-c3b2-48b2-a844-08f6de947985",
   "metadata": {},
   "source": [
    "The answer is no, because, in such a case, we can define a union type, VecOrPoint:"
   ]
  },
  {
   "cell_type": "code",
   "execution_count": 23,
   "id": "388cbe1c-cad1-4477-9ac2-a2e8fcfae540",
   "metadata": {},
   "outputs": [
    {
     "data": {
      "text/plain": [
       "Union{Point, Vector2D}"
      ]
     },
     "execution_count": 23,
     "metadata": {},
     "output_type": "execute_result"
    }
   ],
   "source": [
    "VecOrPoint = Union{Vector2D, Point}\n"
   ]
  },
  {
   "cell_type": "code",
   "execution_count": 24,
   "id": "f82c10ee-ff48-4801-89ae-7e529a43b47b",
   "metadata": {},
   "outputs": [
    {
     "data": {
      "text/plain": [
       "+ (generic function with 213 methods)"
      ]
     },
     "execution_count": 24,
     "metadata": {},
     "output_type": "execute_result"
    }
   ],
   "source": [
    "+(a::VecOrPoint, b::VecOrPoint) = VecOrPoint(a.x + b.x, a.y + b.y)"
   ]
  },
  {
   "cell_type": "code",
   "execution_count": 25,
   "id": "b0cd9508-24ed-4be8-bb70-85b57370fe3b",
   "metadata": {},
   "outputs": [
    {
     "data": {
      "text/plain": [
       "Point(5.0, 7.0)"
      ]
     },
     "execution_count": 25,
     "metadata": {},
     "output_type": "execute_result"
    }
   ],
   "source": [
    "p + v"
   ]
  },
  {
   "cell_type": "code",
   "execution_count": 26,
   "id": "9ab0e407-d309-4c85-ab6a-59cfeb21ce3a",
   "metadata": {},
   "outputs": [
    {
     "data": {
      "text/plain": [
       "Point(5.0, 7.0)"
      ]
     },
     "execution_count": 26,
     "metadata": {},
     "output_type": "execute_result"
    }
   ],
   "source": [
    "v + p"
   ]
  },
  {
   "cell_type": "code",
   "execution_count": 27,
   "id": "2654185b-98bb-4d6c-91ca-107e5038a68d",
   "metadata": {},
   "outputs": [
    {
     "data": {
      "text/plain": [
       "Point(5.0, 7.0)"
      ]
     },
     "execution_count": 27,
     "metadata": {},
     "output_type": "execute_result"
    }
   ],
   "source": [
    "+(v,p)"
   ]
  },
  {
   "cell_type": "code",
   "execution_count": 28,
   "id": "83754566-ac71-47ae-b85f-2b380a61f8a1",
   "metadata": {},
   "outputs": [
    {
     "data": {
      "text/plain": [
       "Point(5.0, 7.0)"
      ]
     },
     "execution_count": 28,
     "metadata": {},
     "output_type": "execute_result"
    }
   ],
   "source": [
    "+(p,v)"
   ]
  },
  {
   "cell_type": "markdown",
   "id": "7a8f1d6c-75c1-48cc-a877-7fe1d255274d",
   "metadata": {},
   "source": [
    "# Parametric types and methods"
   ]
  },
  {
   "cell_type": "markdown",
   "id": "370c5f09-0c3a-4c4b-a3fd-5d01db2701c2",
   "metadata": {},
   "source": [
    "An array can take elements of different types. Therefore, we can have, for example, arrays\n",
    "of the following types: Array{Int64,1}, Array{Int8,1}, Array{Float64,1}, or\n",
    "Array{String, 1}, and so on. That is why an Array is a parametric type; its elements can\n",
    "be of any arbitrary type T, written as Array{T, 1}."
   ]
  },
  {
   "cell_type": "markdown",
   "id": "f16a6978-007d-4766-baad-4096117955e3",
   "metadata": {},
   "source": [
    "In general, types can take type parameters, so that type declarations actually introduce a\n",
    "whole family of new types. Returning to the Point example of the previous section, we can\n",
    "generalize it to the following:"
   ]
  },
  {
   "cell_type": "code",
   "execution_count": 30,
   "id": "0ceed67d-923e-47c7-9be3-fb18b6aef538",
   "metadata": {},
   "outputs": [],
   "source": [
    "mutable struct PPoint{T}\n",
    "    x::T\n",
    "    y::T\n",
    "end"
   ]
  },
  {
   "cell_type": "code",
   "execution_count": 31,
   "id": "85d48c0c-27ea-42c4-b8e8-7dba52ad2c32",
   "metadata": {},
   "outputs": [
    {
     "data": {
      "text/plain": [
       "PPoint{Int64}(1, 2)"
      ]
     },
     "execution_count": 31,
     "metadata": {},
     "output_type": "execute_result"
    }
   ],
   "source": [
    "p = PPoint{Int64}(1,2)"
   ]
  },
  {
   "cell_type": "markdown",
   "id": "0dca12ad-b6be-4e79-b746-f1fe5726fadf",
   "metadata": {},
   "source": [
    "This abstract type creates a whole family of new possible concrete types (but they are only\n",
    "compiled as needed at runtime), such as Point{Int64}, Point{Float64}, and\n",
    "Point{String}."
   ]
  },
  {
   "cell_type": "markdown",
   "id": "faec5fb8-6f05-4daf-8398-647d6dabf9f0",
   "metadata": {},
   "source": [
    "These are all subtypes of Point: Point{String} <: Point returns true. However, this\n",
    "is not the case when comparing different Point types, whose parameter types are subtypes\n",
    "of one another: Point{Float64} <: Point{Real} returns false."
   ]
  },
  {
   "cell_type": "code",
   "execution_count": 32,
   "id": "f859c7a3-3615-4a7c-92d0-e208f7f503bf",
   "metadata": {},
   "outputs": [
    {
     "data": {
      "text/plain": [
       "true"
      ]
     },
     "execution_count": 32,
     "metadata": {},
     "output_type": "execute_result"
    }
   ],
   "source": [
    "PPoint{String} <: PPoint"
   ]
  },
  {
   "cell_type": "code",
   "execution_count": 33,
   "id": "f4896584-24c1-4643-b7d1-b0d189b7e6f7",
   "metadata": {},
   "outputs": [
    {
     "data": {
      "text/plain": [
       "false"
      ]
     },
     "execution_count": 33,
     "metadata": {},
     "output_type": "execute_result"
    }
   ],
   "source": [
    "Point <: PPoint"
   ]
  },
  {
   "cell_type": "code",
   "execution_count": 34,
   "id": "9a43cd8d-3e88-4039-ae4e-ad3e77b9818f",
   "metadata": {},
   "outputs": [
    {
     "data": {
      "text/plain": [
       "false"
      ]
     },
     "execution_count": 34,
     "metadata": {},
     "output_type": "execute_result"
    }
   ],
   "source": [
    "PPoint{Float64} <: PPoint{Number}"
   ]
  },
  {
   "cell_type": "markdown",
   "id": "b0b5845c-5064-4da7-98e5-d6cabf8009ea",
   "metadata": {},
   "source": [
    "To construct objects, you can indicate the type T in the constructor, as in p =\n",
    "Point{Int64}(2, 5), but this can be shortened to p = Point(2, 5). Or let's consider\n",
    "another example: p = Point(\"London\", \"Great-Britain\")."
   ]
  },
  {
   "cell_type": "markdown",
   "id": "65a8560b-2a7b-4e79-92ab-f10a3277c680",
   "metadata": {},
   "source": [
    "If you want to restrict the parameter type T to only the subtypes of Real, this can be written\n",
    "as follows:"
   ]
  },
  {
   "cell_type": "code",
   "execution_count": 36,
   "id": "76cd55b5-a796-42aa-b994-a3f048849130",
   "metadata": {},
   "outputs": [],
   "source": [
    "mutable struct PPPoint{T <: Real }\n",
    "    x::T\n",
    "    y::T\n",
    "end"
   ]
  },
  {
   "cell_type": "code",
   "execution_count": 39,
   "id": "5e2e8248-5c7e-429c-af84-4164dae4220b",
   "metadata": {},
   "outputs": [
    {
     "data": {
      "text/plain": [
       "PPoint{String}(\"W\", \"j\")"
      ]
     },
     "execution_count": 39,
     "metadata": {},
     "output_type": "execute_result"
    }
   ],
   "source": [
    "p = PPoint(\"W\", \"j\")"
   ]
  },
  {
   "cell_type": "code",
   "execution_count": 41,
   "id": "9acc3e7f-9208-4baa-ba3d-0846e061fca6",
   "metadata": {},
   "outputs": [
    {
     "data": {
      "text/plain": [
       "PPPoint{Int64}(2, 3)"
      ]
     },
     "execution_count": 41,
     "metadata": {},
     "output_type": "execute_result"
    }
   ],
   "source": [
    "P = PPPoint(2, 3)"
   ]
  },
  {
   "cell_type": "markdown",
   "id": "275b26cf-efe5-4b84-83f3-e1b98657486d",
   "metadata": {},
   "source": [
    "In much the same way, methods can also optionally have type parameters immediately\n",
    "after their name and before the tuple of arguments. For example, to constrain two\n",
    "arguments to be of the same type T, run the following command:"
   ]
  },
  {
   "cell_type": "code",
   "execution_count": 45,
   "id": "9512246f-209c-43c9-a611-389d56159fba",
   "metadata": {},
   "outputs": [
    {
     "data": {
      "text/plain": [
       "add (generic function with 1 method)"
      ]
     },
     "execution_count": 45,
     "metadata": {},
     "output_type": "execute_result"
    }
   ],
   "source": [
    "add(x::T, y::T) where T = x + y"
   ]
  },
  {
   "cell_type": "markdown",
   "id": "e1e375ca-025e-4899-8772-8f6af98aa122",
   "metadata": {},
   "source": [
    "the = is for the functino "
   ]
  },
  {
   "cell_type": "code",
   "execution_count": 47,
   "id": "80f76dfe-fc7f-4aac-bae2-7e381c7fb4ab",
   "metadata": {},
   "outputs": [
    {
     "data": {
      "text/plain": [
       "add (generic function with 1 method)"
      ]
     },
     "execution_count": 47,
     "metadata": {},
     "output_type": "execute_result"
    }
   ],
   "source": [
    "function add(x::T, y::T) where T\n",
    "    x + y\n",
    "end\n"
   ]
  },
  {
   "cell_type": "code",
   "execution_count": 48,
   "id": "5d5e63b5-a478-4b21-b3b9-b3144b37531f",
   "metadata": {},
   "outputs": [
    {
     "data": {
      "text/plain": [
       "5"
      ]
     },
     "execution_count": 48,
     "metadata": {},
     "output_type": "execute_result"
    }
   ],
   "source": [
    "add(2,3)"
   ]
  },
  {
   "cell_type": "code",
   "execution_count": 49,
   "id": "24a2b182-dcc6-4207-83b2-ff2e42ca7c78",
   "metadata": {},
   "outputs": [
    {
     "ename": "LoadError",
     "evalue": "MethodError: no method matching add(::Int64, ::Float64)\n\u001b[0mClosest candidates are:\n\u001b[0m  add(::T, \u001b[91m::T\u001b[39m) where T at In[47]:1",
     "output_type": "error",
     "traceback": [
      "MethodError: no method matching add(::Int64, ::Float64)\n\u001b[0mClosest candidates are:\n\u001b[0m  add(::T, \u001b[91m::T\u001b[39m) where T at In[47]:1",
      "",
      "Stacktrace:",
      " [1] top-level scope",
      "   @ In[49]:1",
      " [2] eval",
      "   @ ./boot.jl:373 [inlined]",
      " [3] include_string(mapexpr::typeof(REPL.softscope), mod::Module, code::String, filename::String)",
      "   @ Base ./loading.jl:1196"
     ]
    }
   ],
   "source": [
    "add(2,3.)"
   ]
  },
  {
   "cell_type": "code",
   "execution_count": 1,
   "id": "6101a1b1-c773-4cb4-8ee8-724aee6bd3c1",
   "metadata": {},
   "outputs": [
    {
     "data": {
      "text/plain": [
       "add (generic function with 1 method)"
      ]
     },
     "execution_count": 1,
     "metadata": {},
     "output_type": "execute_result"
    }
   ],
   "source": [
    "function add(x::T, y::T) where T <: Number  \n",
    "    x + y\n",
    "end\n"
   ]
  },
  {
   "cell_type": "code",
   "execution_count": 2,
   "id": "531e5ffc-8248-4276-948e-d41d5270dc6f",
   "metadata": {},
   "outputs": [
    {
     "data": {
      "text/plain": [
       "true"
      ]
     },
     "execution_count": 2,
     "metadata": {},
     "output_type": "execute_result"
    }
   ],
   "source": [
    "isa(3.0, Number)"
   ]
  },
  {
   "cell_type": "code",
   "execution_count": 3,
   "id": "6afc3c5f-c114-440c-bb43-3bc4871c70d6",
   "metadata": {},
   "outputs": [
    {
     "data": {
      "text/plain": [
       "true"
      ]
     },
     "execution_count": 3,
     "metadata": {},
     "output_type": "execute_result"
    }
   ],
   "source": [
    "isa(2, Number)"
   ]
  },
  {
   "cell_type": "code",
   "execution_count": 20,
   "id": "ac415c53-a21f-48ff-bc6f-3322d941338a",
   "metadata": {},
   "outputs": [
    {
     "data": {
      "text/plain": [
       "add (generic function with 1 method)"
      ]
     },
     "execution_count": 20,
     "metadata": {},
     "output_type": "execute_result"
    }
   ],
   "source": [
    "add(x::T , y::T)   where T <: Number =    x + y\n",
    "\n"
   ]
  },
  {
   "cell_type": "code",
   "execution_count": 24,
   "id": "adde6d33-1ec1-4db9-9808-c2c58ee4df5a",
   "metadata": {},
   "outputs": [
    {
     "ename": "LoadError",
     "evalue": "MethodError: no method matching add(::Float64, ::Int64)\n\u001b[0mClosest candidates are:\n\u001b[0m  add(::T, \u001b[91m::T\u001b[39m) where T<:Number at In[20]:1",
     "output_type": "error",
     "traceback": [
      "MethodError: no method matching add(::Float64, ::Int64)\n\u001b[0mClosest candidates are:\n\u001b[0m  add(::T, \u001b[91m::T\u001b[39m) where T<:Number at In[20]:1",
      "",
      "Stacktrace:",
      " [1] top-level scope",
      "   @ In[24]:1",
      " [2] eval",
      "   @ ./boot.jl:373 [inlined]",
      " [3] include_string(mapexpr::typeof(REPL.softscope), mod::Module, code::String, filename::String)",
      "   @ Base ./loading.jl:1196"
     ]
    }
   ],
   "source": [
    "add(2.,3)"
   ]
  },
  {
   "cell_type": "code",
   "execution_count": 22,
   "id": "d9b15fdd-cca6-40a7-8dc1-9f5bf09fc22f",
   "metadata": {},
   "outputs": [
    {
     "data": {
      "text/html": [
       "# 1 method for generic function <b>add</b>:<ul><li> add(x::<b>T</b>, y::<b>T</b>)<i> where T<:Number</i> in Main at In[20]:1</li> </ul>"
      ],
      "text/plain": [
       "# 1 method for generic function \"add\":\n",
       "[1] add(x::T, y::T) where T<:Number in Main at In[20]:1"
      ]
     },
     "execution_count": 22,
     "metadata": {},
     "output_type": "execute_result"
    }
   ],
   "source": [
    "methods(add)"
   ]
  },
  {
   "cell_type": "code",
   "execution_count": 11,
   "id": "f97a1aca-ee69-4a71-be59-8c8436d0d766",
   "metadata": {},
   "outputs": [
    {
     "data": {
      "text/plain": [
       "vecfloat (generic function with 1 method)"
      ]
     },
     "execution_count": 11,
     "metadata": {},
     "output_type": "execute_result"
    }
   ],
   "source": [
    "function vecfloat(x::Vector{T}) where T <: AbstractFloat\n",
    "# code\n",
    "end"
   ]
  },
  {
   "cell_type": "code",
   "execution_count": 12,
   "id": "36df2ceb-be25-4ae8-ae01-3ea536f8a01b",
   "metadata": {},
   "outputs": [
    {
     "data": {
      "text/plain": [
       "4-element Vector{Int64}:\n",
       " 1\n",
       " 2\n",
       " 3\n",
       " 4"
      ]
     },
     "execution_count": 12,
     "metadata": {},
     "output_type": "execute_result"
    }
   ],
   "source": [
    "a = Vector{Int64}([1,2,3,4])"
   ]
  },
  {
   "cell_type": "code",
   "execution_count": 13,
   "id": "59dcb0eb-666a-4f9f-93eb-5a6b36504404",
   "metadata": {},
   "outputs": [
    {
     "ename": "LoadError",
     "evalue": "MethodError: no method matching vecfloat(::Vector{Int64})\n\u001b[0mClosest candidates are:\n\u001b[0m  vecfloat(\u001b[91m::Vector{T}\u001b[39m) where T<:AbstractFloat at In[11]:1",
     "output_type": "error",
     "traceback": [
      "MethodError: no method matching vecfloat(::Vector{Int64})\n\u001b[0mClosest candidates are:\n\u001b[0m  vecfloat(\u001b[91m::Vector{T}\u001b[39m) where T<:AbstractFloat at In[11]:1",
      "",
      "Stacktrace:",
      " [1] top-level scope",
      "   @ In[13]:1",
      " [2] eval",
      "   @ ./boot.jl:373 [inlined]",
      " [3] include_string(mapexpr::typeof(REPL.softscope), mod::Module, code::String, filename::String)",
      "   @ Base ./loading.jl:1196"
     ]
    }
   ],
   "source": [
    "vecfloat(a)"
   ]
  },
  {
   "cell_type": "code",
   "execution_count": 14,
   "id": "d5571764-0ee2-4188-8206-d8344fd7ac0b",
   "metadata": {},
   "outputs": [
    {
     "data": {
      "text/plain": [
       "4-element Vector{Float64}:\n",
       " 1.0\n",
       " 2.0\n",
       " 3.0\n",
       " 4.0"
      ]
     },
     "execution_count": 14,
     "metadata": {},
     "output_type": "execute_result"
    }
   ],
   "source": [
    "a = Vector{Float64}([1,2,3,4])"
   ]
  },
  {
   "cell_type": "code",
   "execution_count": 25,
   "id": "dae1ebad-d80f-4ac3-9cac-69b5ce86c14b",
   "metadata": {},
   "outputs": [],
   "source": [
    "vecfloat(a)"
   ]
  },
  {
   "cell_type": "markdown",
   "id": "e9720400-fa05-4b19-9642-a5ca3e6811fb",
   "metadata": {},
   "source": [
    "# Standard modules and paths"
   ]
  },
  {
   "cell_type": "markdown",
   "id": "937f1146-2119-4853-8568-3574dbf8289b",
   "metadata": {},
   "source": [
    "The code for Julia packages (also called libraries) is contained in a module whose name\n",
    "starts with an uppercase letter by convention, like this:"
   ]
  },
  {
   "cell_type": "markdown",
   "id": "ea9b576b-36a2-4923-947c-ffe0b7ec02be",
   "metadata": {},
   "source": [
    "This serves to separate all its definitions from those in other modules so that no name\n",
    "conflicts occur. Name conflicts are solved by qualifying the function by the module name.\n",
    "For example, the packages Winston and Gadfly both contain a function plot. If we needed\n",
    "these two versions in the same script, we would write it as follows:m"
   ]
  },
  {
   "cell_type": "code",
   "execution_count": 28,
   "id": "3dbd0bc2-ec8d-4fd9-8967-a9540a558847",
   "metadata": {},
   "outputs": [],
   "source": [
    "# import Winston\n",
    "# import Gadfly\n",
    "# Winston.plot(rand(4))\n",
    "# Gadfly.plot(x=[1:10], y=rand(10))"
   ]
  },
  {
   "cell_type": "markdown",
   "id": "0665106d-5533-4fac-b4d0-f9b6bad647cb",
   "metadata": {},
   "source": [
    "All variables defined in the global scope are automatically added to the Main module.\n",
    "Thus, when you write x = 2 in the REPL, you are adding the variable x to the Main\n",
    "module."
   ]
  },
  {
   "cell_type": "markdown",
   "id": "1bd875f3-4a27-46c4-a920-a3ca78fd36c2",
   "metadata": {},
   "source": [
    "Julia starts with Main as the current top-level module. The module Core is a set of non-Julia\n",
    "sources (in the src directory of the GitHub source); for example, C/C++ and Femtolisp,\n",
    "which are used to create libjulia, are used by the Julia source to interface to the OS\n",
    "through the API. The standard library is also available. The code for the standard library\n",
    "(the contents of /base) is contained in the following modules:"
   ]
  },
  {
   "cell_type": "markdown",
   "id": "ae9e1913-56df-40cc-be6e-890f551677e2",
   "metadata": {},
   "source": [
    "The type of a module is Module: typeof(Base), which returns Module."
   ]
  },
  {
   "cell_type": "code",
   "execution_count": 29,
   "id": "a35c9d7a-712d-470a-ab08-a7fffe3f37f6",
   "metadata": {},
   "outputs": [
    {
     "data": {
      "text/plain": [
       "Module"
      ]
     },
     "execution_count": 29,
     "metadata": {},
     "output_type": "execute_result"
    }
   ],
   "source": [
    "typeof(Base)"
   ]
  },
  {
   "cell_type": "markdown",
   "id": "d16dfe84-b686-46c6-93e5-fce7ed075829",
   "metadata": {},
   "source": [
    "If we call\n",
    "names(Main), we get, for example, 5-element Array{Symbol,1}: :ans, :Main,\n",
    ":Core, :Base, and :InteractiveUtils. If you have defined other variables or functions\n",
    "in the REPL, these would also show up."
   ]
  },
  {
   "cell_type": "code",
   "execution_count": 31,
   "id": "a12b335c-17b6-47e6-9559-4d307f130c3e",
   "metadata": {},
   "outputs": [
    {
     "data": {
      "text/plain": [
       "6-element Vector{Symbol}:\n",
       " :Base\n",
       " :Core\n",
       " :Main\n",
       " :a\n",
       " :add\n",
       " :vecfloat"
      ]
     },
     "execution_count": 31,
     "metadata": {},
     "output_type": "execute_result"
    }
   ],
   "source": [
    "names(Main)"
   ]
  },
  {
   "cell_type": "markdown",
   "id": "9e4db804-9066-4880-a7db-7545db301673",
   "metadata": {},
   "source": [
    "All the top-level defined variables and functions, together with the default modules, are\n",
    "stored as symbols."
   ]
  },
  {
   "cell_type": "code",
   "execution_count": 32,
   "id": "0d91e650-44ea-4c96-8101-e1fab2774e1e",
   "metadata": {},
   "outputs": [
    {
     "data": {
      "text/latex": [
       "\\begin{tabular}\n",
       "{l | r | l}\n",
       "name & size & summary \\\\\n",
       "\\hline\n",
       "Base &  & Module \\\\\n",
       "Core &  & Module \\\\\n",
       "Main &  & Module \\\\\n",
       "a & 72 bytes & 4-element Vector\\{Float64\\} \\\\\n",
       "add & 0 bytes & add (generic function with 1 method) \\\\\n",
       "vecfloat & 0 bytes & vecfloat (generic function with 1 method) \\\\\n",
       "\\end{tabular}\n"
      ],
      "text/markdown": [
       "| name     |     size | summary                                   |\n",
       "|:-------- | --------:|:----------------------------------------- |\n",
       "| Base     |          | Module                                    |\n",
       "| Core     |          | Module                                    |\n",
       "| Main     |          | Module                                    |\n",
       "| a        | 72 bytes | 4-element Vector{Float64}                 |\n",
       "| add      |  0 bytes | add (generic function with 1 method)      |\n",
       "| vecfloat |  0 bytes | vecfloat (generic function with 1 method) |\n"
      ],
      "text/plain": [
       "  name         size summary                                  \n",
       "  –––––––– –––––––– –––––––––––––––––––––––––––––––––––––––––\n",
       "  Base              Module                                   \n",
       "  Core              Module                                   \n",
       "  Main              Module                                   \n",
       "  a        72 bytes 4-element Vector{Float64}                \n",
       "  add       0 bytes add (generic function with 1 method)     \n",
       "  vecfloat  0 bytes vecfloat (generic function with 1 method)"
      ]
     },
     "execution_count": 32,
     "metadata": {},
     "output_type": "execute_result"
    }
   ],
   "source": [
    "varinfo()"
   ]
  },
  {
   "cell_type": "markdown",
   "id": "96ef0472-7708-44ba-b3d9-71ba814480f5",
   "metadata": {},
   "source": [
    "This can also be used for another module. For example, varinfo(Winston) lists all the\n",
    "exported names from the module Winston."
   ]
  },
  {
   "cell_type": "code",
   "execution_count": 33,
   "id": "4b8c0830-b184-40e7-babd-f5d62d48bca4",
   "metadata": {},
   "outputs": [
    {
     "ename": "LoadError",
     "evalue": "UndefVarError: Winston not defined",
     "output_type": "error",
     "traceback": [
      "UndefVarError: Winston not defined",
      "",
      "Stacktrace:",
      " [1] top-level scope",
      "   @ In[33]:1",
      " [2] eval",
      "   @ ./boot.jl:373 [inlined]",
      " [3] include_string(mapexpr::typeof(REPL.softscope), mod::Module, code::String, filename::String)",
      "   @ Base ./loading.jl:1196"
     ]
    }
   ],
   "source": [
    "varinfo(Winston)"
   ]
  },
  {
   "cell_type": "markdown",
   "id": "3ff26e4c-54b8-48fd-9509-d6b4c83c4bf0",
   "metadata": {},
   "source": [
    "A module can make some of its internal definitions (such as constants, variables, types,\n",
    "functions, and so on) visible to other modules (as if making them public) by declaring them\n",
    "with export. This can be seen in the following example:"
   ]
  },
  {
   "cell_type": "code",
   "execution_count": 34,
   "id": "8c8faa85-0439-4857-b516-b8c49a47509a",
   "metadata": {},
   "outputs": [],
   "source": [
    "# export Type1, perc"
   ]
  },
  {
   "cell_type": "markdown",
   "id": "ede335d2-b44d-42d4-a64e-86a65cad2809",
   "metadata": {},
   "source": [
    "As we saw in Chapter 1, Installing the Julia Platform, a module can also include other source\n",
    "files in their entirety with include(\"file1.jl\"). However, this means that the included\n",
    "files are not modules. Using include(\"file1.jl\") is, to the compiler, no different from\n",
    "copying file1.jl and pasting it directly in the current file or the REPL."
   ]
  },
  {
   "cell_type": "markdown",
   "id": "66296adb-4b69-46a2-a69b-dfb917734290",
   "metadata": {},
   "source": [
    "In general, use import to import definitions from another module in the current module:"
   ]
  },
  {
   "cell_type": "markdown",
   "id": "6d2da552-f458-4319-a7e8-8b69a72410ca",
   "metadata": {},
   "source": [
    "- After import.LibA, you can use all definitions from LibA inside the current\n",
    "module by qualifying them with LibA., such as LibA.a\n",
    "\n",
    "- The import LibB.varB or import LibD.funcD statement only imports one\n",
    "name; the function funcD must be used as LibD.funcD.\n",
    "\n",
    "- Use importall LibE to import all the exported names from LibE in the current\n",
    "module."
   ]
  },
  {
   "cell_type": "code",
   "execution_count": 35,
   "id": "920c4f99-9570-4286-a977-1e74c5d05d54",
   "metadata": {},
   "outputs": [],
   "source": [
    ";subl TemperatureConverter.jl"
   ]
  },
  {
   "cell_type": "code",
   "execution_count": 36,
   "id": "d66b028c-3b8b-402a-ade2-48420e15a835",
   "metadata": {},
   "outputs": [
    {
     "data": {
      "text/plain": [
       "Main.TemperatureConverter"
      ]
     },
     "execution_count": 36,
     "metadata": {},
     "output_type": "execute_result"
    }
   ],
   "source": [
    "include(\"TemperatureConverter.jl\")"
   ]
  },
  {
   "cell_type": "code",
   "execution_count": 37,
   "id": "1ac74f6e-5e2f-4b2d-9d3b-f9addf6e2baa",
   "metadata": {},
   "outputs": [
    {
     "name": "stdout",
     "output_type": "stream",
     "text": [
      "100\n"
     ]
    }
   ],
   "source": [
    "println(\"$(TemperatureConverter.as_celsius(100, :Celsius))\")"
   ]
  },
  {
   "cell_type": "markdown",
   "id": "a95bfd68-9d06-4e7d-8e4c-306fffd91c56",
   "metadata": {},
   "source": [
    "Imported variables are read-only, and the current module cannot create variables with the\n",
    "same names as the imported ones"
   ]
  },
  {
   "cell_type": "markdown",
   "id": "edb89e3e-f181-4b70-9f25-4c8f742ef92f",
   "metadata": {},
   "source": [
    "A source file can contain many modules, or one module\n",
    "can be defined in several source files. If a module contains a function __init__(), this will\n",
    "be executed when the module is first loaded."
   ]
  },
  {
   "cell_type": "markdown",
   "id": "5d0ae2c8-c370-4cc6-b2b8-020cecb97a15",
   "metadata": {},
   "source": [
    "The variable LOAD_PATH contains a list of directories where Julia looks for (module) files\n",
    "when running the using, import, or include statements."
   ]
  },
  {
   "cell_type": "markdown",
   "id": "3a74f004-00fd-443b-8c96-a00c5cf15b9d",
   "metadata": {},
   "source": [
    "Put this statement in a file to extend LOAD_PATH on every Julia startup:\n",
    "push!(LOAD_PATH, \"new/path/to/search\")"
   ]
  },
  {
   "cell_type": "code",
   "execution_count": null,
   "id": "dd7b22fa-7f73-41e5-9dd8-2f315d52a46a",
   "metadata": {},
   "outputs": [],
   "source": []
  }
 ],
 "metadata": {
  "kernelspec": {
   "display_name": "Julia 1.7.1",
   "language": "julia",
   "name": "julia-1.7"
  },
  "language_info": {
   "file_extension": ".jl",
   "mimetype": "application/julia",
   "name": "julia",
   "version": "1.7.1"
  }
 },
 "nbformat": 4,
 "nbformat_minor": 5
}
