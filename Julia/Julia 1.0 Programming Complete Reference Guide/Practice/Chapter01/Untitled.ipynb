{
 "cells": [
  {
   "cell_type": "code",
   "execution_count": 1,
   "id": "be970578-a79f-4a64-9b01-3feb55ec5036",
   "metadata": {},
   "outputs": [
    {
     "data": {
      "text/plain": [
       "5"
      ]
     },
     "execution_count": 1,
     "metadata": {},
     "output_type": "execute_result"
    }
   ],
   "source": [
    "a = 5"
   ]
  },
  {
   "cell_type": "code",
   "execution_count": 2,
   "id": "973b7928-e531-468f-8283-27285c435343",
   "metadata": {},
   "outputs": [
    {
     "data": {
      "text/plain": [
       "\"Julia\""
      ]
     },
     "execution_count": 2,
     "metadata": {},
     "output_type": "execute_result"
    }
   ],
   "source": [
    "b = \"Julia\""
   ]
  },
  {
   "cell_type": "code",
   "execution_count": 3,
   "id": "02106885-a8b0-4ba3-b41c-9f43b81e7809",
   "metadata": {},
   "outputs": [
    {
     "ename": "LoadError",
     "evalue": "UndefVarError: c not defined",
     "output_type": "error",
     "traceback": [
      "UndefVarError: c not defined",
      "",
      "Stacktrace:",
      " [1] top-level scope",
      "   @ :0",
      " [2] eval",
      "   @ ./boot.jl:360 [inlined]",
      " [3] include_string(mapexpr::typeof(REPL.softscope), mod::Module, code::String, filename::String)",
      "   @ Base ./loading.jl:1116"
     ]
    }
   ],
   "source": [
    "c"
   ]
  },
  {
   "cell_type": "code",
   "execution_count": 4,
   "id": "95cbc3ab-bcf4-43d3-9fae-55a05fa211b5",
   "metadata": {},
   "outputs": [
    {
     "data": {
      "text/plain": [
       "\"Julia\""
      ]
     },
     "execution_count": 4,
     "metadata": {},
     "output_type": "execute_result"
    }
   ],
   "source": [
    "b"
   ]
  },
  {
   "cell_type": "code",
   "execution_count": 2,
   "id": "b9465380-2dbf-4f9d-b36f-4720742d15a1",
   "metadata": {},
   "outputs": [
    {
     "name": "stdout",
     "output_type": "stream",
     "text": [
      "search:  ] [ = $ ; ( { ) ? . } ⊻ ⊋ ⊊ ⊉ ⊈ ⊇ ⊆ ≥ ≤ ≢ ≡ ≠ ≉ ≈ ∪ ∩ ∛ √ ∘ ∌ ∋ ∉ ∈ ℯ π\n",
      "\n"
     ]
    },
    {
     "data": {
      "text/latex": [
       "\\textbf{Welcome to Julia 1.6.4.} The full manual is available at\n",
       "\n",
       "\\begin{verbatim}\n",
       "https://docs.julialang.org\n",
       "\\end{verbatim}\n",
       "as well as many great tutorials and learning resources:\n",
       "\n",
       "\\begin{verbatim}\n",
       "https://julialang.org/learning/\n",
       "\\end{verbatim}\n",
       "For help on a specific function or macro, type \\texttt{?} followed by its name, e.g. \\texttt{?cos}, or \\texttt{?@time}, and press enter. Type \\texttt{;} to enter shell mode, \\texttt{]} to enter package mode.\n",
       "\n"
      ],
      "text/markdown": [
       "**Welcome to Julia 1.6.4.** The full manual is available at\n",
       "\n",
       "```\n",
       "https://docs.julialang.org\n",
       "```\n",
       "\n",
       "as well as many great tutorials and learning resources:\n",
       "\n",
       "```\n",
       "https://julialang.org/learning/\n",
       "```\n",
       "\n",
       "For help on a specific function or macro, type `?` followed by its name, e.g. `?cos`, or `?@time`, and press enter. Type `;` to enter shell mode, `]` to enter package mode.\n"
      ],
      "text/plain": [
       "  \u001b[1mWelcome to Julia 1.6.4.\u001b[22m The full manual is available at\n",
       "\n",
       "\u001b[36m  https://docs.julialang.org\u001b[39m\n",
       "\n",
       "  as well as many great tutorials and learning resources:\n",
       "\n",
       "\u001b[36m  https://julialang.org/learning/\u001b[39m\n",
       "\n",
       "  For help on a specific function or macro, type \u001b[36m?\u001b[39m followed by its name, e.g.\n",
       "  \u001b[36m?cos\u001b[39m, or \u001b[36m?@time\u001b[39m, and press enter. Type \u001b[36m;\u001b[39m to enter shell mode, \u001b[36m]\u001b[39m to enter\n",
       "  package mode."
      ]
     },
     "execution_count": 2,
     "metadata": {},
     "output_type": "execute_result"
    }
   ],
   "source": [
    "?"
   ]
  },
  {
   "cell_type": "code",
   "execution_count": 3,
   "id": "55a5020c-a087-403b-96d9-e94fde280a4f",
   "metadata": {},
   "outputs": [
    {
     "name": "stdout",
     "output_type": "stream",
     "text": [
      "search: \u001b[0m\u001b[1mu\u001b[22m\u001b[0m\u001b[1ms\u001b[22m\u001b[0m\u001b[1mi\u001b[22m\u001b[0m\u001b[1mn\u001b[22m\u001b[0m\u001b[1mg\u001b[22m S\u001b[0m\u001b[1mu\u001b[22mb\u001b[0m\u001b[1mS\u001b[22mtr\u001b[0m\u001b[1mi\u001b[22m\u001b[0m\u001b[1mn\u001b[22m\u001b[0m\u001b[1mg\u001b[22m incl\u001b[0m\u001b[1mu\u001b[22mde_\u001b[0m\u001b[1ms\u001b[22mtr\u001b[0m\u001b[1mi\u001b[22m\u001b[0m\u001b[1mn\u001b[22m\u001b[0m\u001b[1mg\u001b[22m \u001b[0m\u001b[1mu\u001b[22mn\u001b[0m\u001b[1ms\u001b[22mafe_str\u001b[0m\u001b[1mi\u001b[22m\u001b[0m\u001b[1mn\u001b[22m\u001b[0m\u001b[1mg\u001b[22m \u001b[0m\u001b[1mu\u001b[22mne\u001b[0m\u001b[1ms\u001b[22mcape_str\u001b[0m\u001b[1mi\u001b[22m\u001b[0m\u001b[1mn\u001b[22m\u001b[0m\u001b[1mg\u001b[22m\n",
      "\n"
     ]
    },
    {
     "data": {
      "text/latex": [
       "\\begin{verbatim}\n",
       "using\n",
       "\\end{verbatim}\n",
       "\\texttt{using Foo} will load the module or package \\texttt{Foo} and make its \\href{@ref}{\\texttt{export}}ed names available for direct use. Names can also be used via dot syntax (e.g. \\texttt{Foo.foo} to access the name \\texttt{foo}), whether they are \\texttt{export}ed or not. See the \\href{@ref modules}{manual section about modules} for details.\n",
       "\n"
      ],
      "text/markdown": [
       "```\n",
       "using\n",
       "```\n",
       "\n",
       "`using Foo` will load the module or package `Foo` and make its [`export`](@ref)ed names available for direct use. Names can also be used via dot syntax (e.g. `Foo.foo` to access the name `foo`), whether they are `export`ed or not. See the [manual section about modules](@ref modules) for details.\n"
      ],
      "text/plain": [
       "\u001b[36m  using\u001b[39m\n",
       "\n",
       "  \u001b[36musing Foo\u001b[39m will load the module or package \u001b[36mFoo\u001b[39m and make its \u001b[36mexport\u001b[39med names\n",
       "  available for direct use. Names can also be used via dot syntax (e.g.\n",
       "  \u001b[36mFoo.foo\u001b[39m to access the name \u001b[36mfoo\u001b[39m), whether they are \u001b[36mexport\u001b[39med or not. See the\n",
       "  manual section about modules for details."
      ]
     },
     "execution_count": 3,
     "metadata": {},
     "output_type": "execute_result"
    }
   ],
   "source": [
    "? using"
   ]
  },
  {
   "cell_type": "code",
   "execution_count": 4,
   "id": "7297ef3d-4426-4c8e-9ed8-c8bfb7ff7db7",
   "metadata": {},
   "outputs": [
    {
     "name": "stdout",
     "output_type": "stream",
     "text": [
      "Base.@locals\n",
      "Base.all\n",
      "Base.eachindex\n",
      "Base.Timer\n",
      "Core.Ref\n",
      "Base.:=>\n",
      "Base.@raw_str\n",
      "Base.foreach\n",
      "Base.println\n",
      "Base.finalizer\n",
      "Base.any\n",
      "Base.@isdefined\n",
      "Base.Channel\n",
      "Base.Generator\n",
      "Base.Pair\n",
      "Base.Iterators.enumerate\n",
      "Base.pairs\n",
      "Base.Iterators.filter\n",
      "Base.Iterators.reverse\n",
      "Base.Iterators.countfrom\n",
      "Base.Iterators.accumulate\n",
      "Base.Cartesian.@nif\n",
      "Base.IteratorsMD.CartesianIndices\n",
      "Base.Filesystem.walkdir\n",
      "Base.Docs.Text\n",
      "Base.Docs.HTML\n",
      "LibGit2.isdiff\n",
      "LibGit2.revcount\n",
      "LibGit2.authors\n",
      "LibGit2.isdirty\n",
      "REPL.TerminalMenus.request\n"
     ]
    }
   ],
   "source": [
    "apropos(\"println\")"
   ]
  },
  {
   "cell_type": "code",
   "execution_count": 5,
   "id": "1be08887-25d2-4444-9b63-b53b322671bf",
   "metadata": {},
   "outputs": [
    {
     "data": {
      "text/plain": [
       "2106"
      ]
     },
     "execution_count": 5,
     "metadata": {},
     "output_type": "execute_result"
    }
   ],
   "source": [
    "a = \"My name is javid\"; b = 234 ; b*9"
   ]
  },
  {
   "cell_type": "code",
   "execution_count": 6,
   "id": "9bf53b8c-d8aa-4046-bc63-00e9848f7e92",
   "metadata": {},
   "outputs": [],
   "source": [
    "a = \"My name is javid\"; b = 234; b*9;"
   ]
  },
  {
   "cell_type": "code",
   "execution_count": 7,
   "id": "3057550c-38c6-435a-aaf0-f500d3920c52",
   "metadata": {},
   "outputs": [
    {
     "name": "stdout",
     "output_type": "stream",
     "text": [
      "WTF"
     ]
    }
   ],
   "source": [
    "if a != \"what\"\n",
    "    print(\"WTF\")\n",
    "end"
   ]
  },
  {
   "cell_type": "code",
   "execution_count": 14,
   "id": "f4344f8f-58de-4023-9bb1-fbf2362a36af",
   "metadata": {},
   "outputs": [
    {
     "name": "stdout",
     "output_type": "stream",
     "text": [
      "Untitled.ipynb\n"
     ]
    }
   ],
   "source": [
    ";ls"
   ]
  },
  {
   "cell_type": "code",
   "execution_count": 13,
   "id": "3e81b564-e238-4742-819b-5329076b0561",
   "metadata": {},
   "outputs": [],
   "source": [
    "c = \"What the heck is going on here\" ;"
   ]
  },
  {
   "cell_type": "code",
   "execution_count": 15,
   "id": "b8992171-59cf-4ccc-927e-35bbd84e268e",
   "metadata": {},
   "outputs": [
    {
     "name": "stdout",
     "output_type": "stream",
     "text": [
      "Hello, Julia World!\n"
     ]
    }
   ],
   "source": [
    "include(\"../../Julia-1-Programming-Complete-Reference-Guide-master/Chapter01/hello.jl\")"
   ]
  },
  {
   "cell_type": "code",
   "execution_count": 17,
   "id": "c08f7005-0e76-4550-aa07-e40b164deacb",
   "metadata": {},
   "outputs": [
    {
     "name": "stdout",
     "output_type": "stream",
     "text": [
      "Julia Version 1.6.4\n",
      "Commit 35f0c911f4* (2021-11-19 03:54 UTC)\n",
      "Platform Info:\n",
      "  OS: Linux (x86_64-pc-linux-gnu)\n",
      "  CPU: Intel(R) Core(TM) i7-6700HQ CPU @ 2.60GHz\n",
      "  WORD_SIZE: 64\n",
      "  LIBM: libopenlibm\n",
      "  LLVM: libLLVM-13.0.0 (ORCJIT, skylake)\n"
     ]
    }
   ],
   "source": [
    "versioninfo()"
   ]
  },
  {
   "cell_type": "code",
   "execution_count": 18,
   "id": "69e1029a-0a06-4e34-85ac-3725b1f45299",
   "metadata": {},
   "outputs": [
    {
     "data": {
      "text/plain": [
       "v\"1.6.4\""
      ]
     },
     "execution_count": 18,
     "metadata": {},
     "output_type": "execute_result"
    }
   ],
   "source": [
    "VERSION"
   ]
  },
  {
   "cell_type": "code",
   "execution_count": 21,
   "id": "85659ee1-3f09-4022-8ec6-240a9f37ff94",
   "metadata": {},
   "outputs": [
    {
     "name": "stdout",
     "output_type": "stream",
     "text": [
      "42\n"
     ]
    }
   ],
   "source": [
    ";julia -e 'a = 6 * 7; println(a)'"
   ]
  },
  {
   "cell_type": "code",
   "execution_count": 22,
   "id": "f8ee29bd-0b8d-41c6-bcff-8d3121bbf5a6",
   "metadata": {},
   "outputs": [
    {
     "name": "stdout",
     "output_type": "stream",
     "text": [
      "julia [switches] -- [programfile] [args...]\n",
      " -v, --version             Display version information\n",
      " -h, --help                Print this message (--help-hidden for more)\n",
      " --help-hidden             Uncommon options not shown by `-h`\n",
      "\n",
      " --project[={<dir>|@.}]    Set <dir> as the home project/environment\n",
      " -J, --sysimage <file>     Start up with the given system image file\n",
      " -H, --home <dir>          Set location of `julia` executable\n",
      " --startup-file={yes|no}   Load `~/.julia/config/startup.jl`\n",
      " --handle-signals={yes|no} Enable or disable Julia's default signal handlers\n",
      " --sysimage-native-code={yes|no}\n",
      "                           Use native code from system image if available\n",
      " --compiled-modules={yes|no}\n",
      "                           Enable or disable incremental precompilation of modules\n",
      "\n",
      " -e, --eval <expr>         Evaluate <expr>\n",
      " -E, --print <expr>        Evaluate <expr> and display the result\n",
      " -L, --load <file>         Load <file> immediately on all processors\n",
      "\n",
      " -t, --threads {N|auto}    Enable N threads; \"auto\" currently sets N to the number of local\n",
      "                           CPU threads but this might change in the future\n",
      " -p, --procs {N|auto}      Integer value N launches N additional local worker processes\n",
      "                           \"auto\" launches as many workers as the number of local CPU threads (logical cores)\n",
      " --machine-file <file>     Run processes on hosts listed in <file>\n",
      "\n",
      " -i                        Interactive mode; REPL runs and isinteractive() is true\n",
      " -q, --quiet               Quiet startup: no banner, suppress REPL warnings\n",
      " --banner={yes|no|auto}    Enable or disable startup banner\n",
      " --color={yes|no|auto}     Enable or disable color text\n",
      " --history-file={yes|no}   Load or save history\n",
      "\n",
      " --depwarn={yes|no|error}  Enable or disable syntax and method deprecation warnings (\"error\" turns warnings into errors)\n",
      " --warn-overwrite={yes|no} Enable or disable method overwrite warnings\n",
      " --warn-scope={yes|no}     Enable or disable warning for ambiguous top-level scope\n",
      "\n",
      " -C, --cpu-target <target> Limit usage of CPU features up to <target>; set to \"help\" to see the available options\n",
      " -O, --optimize={0,1,2,3}  Set the optimization level (default level is 2 if unspecified or 3 if used without a level)\n",
      " -g, -g <level>            Enable / Set the level of debug info generation (default level is 1 if unspecified or 2 if used without a level)\n",
      " --inline={yes|no}         Control whether inlining is permitted, including overriding @inline declarations\n",
      " --check-bounds={yes|no|auto}\n",
      "                           Emit bounds checks always, never, or respect @inbounds declarations\n",
      " --math-mode={ieee,fast}   Disallow or enable unsafe floating point optimizations (overrides @fastmath declaration)\n",
      "\n",
      " --code-coverage={none|user|all}, --code-coverage\n",
      "                           Count executions of source lines (omitting setting is equivalent to \"user\")\n",
      " --code-coverage=tracefile.info\n",
      "                           Append coverage information to the LCOV tracefile (filename supports format tokens).\n",
      " --track-allocation={none|user|all}, --track-allocation\n",
      "                           Count bytes allocated by each source line (omitting setting is equivalent to \"user\")\n",
      " --bug-report=KIND         Launch a bug report session. It can be used to start a REPL, run a script, or evaluate\n",
      "                           expressions. It first tries to use BugReporting.jl installed in current environment and\n",
      "                           fallbacks to the latest compatible BugReporting.jl if not. For more information, see\n",
      "                           --bug-report=help.\n",
      "\n"
     ]
    }
   ],
   "source": [
    ";julia -h"
   ]
  },
  {
   "cell_type": "code",
   "execution_count": 28,
   "id": "09f9a31b-59e8-4181-a19b-4811d2a39400",
   "metadata": {},
   "outputs": [
    {
     "name": "stdout",
     "output_type": "stream",
     "text": [
      "for arg in ARGS\n",
      "    println(arg)\n",
      "end"
     ]
    }
   ],
   "source": [
    ";cat ../../Julia-1-Programming-Complete-Reference-Guide-master/Chapter01/args.jl"
   ]
  },
  {
   "cell_type": "code",
   "execution_count": 29,
   "id": "24b27705-4e4a-4024-b14a-86c604fcb43a",
   "metadata": {},
   "outputs": [
    {
     "name": "stdout",
     "output_type": "stream",
     "text": [
      "what\n",
      "the\n",
      "heck\n",
      "is\n",
      "going\n",
      "on\n",
      "here\n",
      "3\n",
      "14\n",
      "15\n",
      "92\n"
     ]
    }
   ],
   "source": [
    ";julia  ../../Julia-1-Programming-Complete-Reference-Guide-master/Chapter01/args.jl what the heck is going on here 3 14 15 92"
   ]
  },
  {
   "cell_type": "code",
   "execution_count": 40,
   "id": "4750dc9c-d953-4caa-ae93-18b48be8e956",
   "metadata": {},
   "outputs": [
    {
     "name": "stdout",
     "output_type": "stream",
     "text": [
      "Is this an interactive session? true\n"
     ]
    }
   ],
   "source": [
    "println(\"Is this an interactive session? $(isinteractive())\")"
   ]
  },
  {
   "cell_type": "code",
   "execution_count": 34,
   "id": "5dad70f6-b45b-43c9-b81c-3979c5e3c616",
   "metadata": {},
   "outputs": [
    {
     "data": {
      "text/plain": [
       "true"
      ]
     },
     "execution_count": 34,
     "metadata": {},
     "output_type": "execute_result"
    }
   ],
   "source": [
    "isinteractive()"
   ]
  },
  {
   "cell_type": "code",
   "execution_count": 38,
   "id": "7db64df8-7649-4fae-8e6e-b317ecb15627",
   "metadata": {},
   "outputs": [
    {
     "name": "stdout",
     "output_type": "stream",
     "text": [
      "println(\"Is this interactive? $(isinteractive())\")"
     ]
    }
   ],
   "source": [
    ";cat  ../../Julia-1-Programming-Complete-Reference-Guide-master/Chapter01/isinteractive.jl"
   ]
  },
  {
   "cell_type": "code",
   "execution_count": 37,
   "id": "8408e4e9-28a7-4e41-b5ed-ce60f3026714",
   "metadata": {},
   "outputs": [
    {
     "name": "stdout",
     "output_type": "stream",
     "text": [
      "Is this interactive? false\n"
     ]
    }
   ],
   "source": [
    ";julia  ../../Julia-1-Programming-Complete-Reference-Guide-master/Chapter01/isinteractive.jl"
   ]
  },
  {
   "cell_type": "code",
   "execution_count": 42,
   "id": "02980c3b-5bdb-4fc4-abaf-72c36a48a325",
   "metadata": {},
   "outputs": [],
   "source": [
    "using Plots"
   ]
  },
  {
   "cell_type": "code",
   "execution_count": 44,
   "id": "ba652dd8-89f8-46be-973b-15d3c4e9fd99",
   "metadata": {},
   "outputs": [
    {
     "name": "stdout",
     "output_type": "stream",
     "text": [
      "search: \u001b[0m\u001b[1mp\u001b[22m\u001b[0m\u001b[1ml\u001b[22m\u001b[0m\u001b[1mo\u001b[22m\u001b[0m\u001b[1mt\u001b[22m \u001b[0m\u001b[1mp\u001b[22m\u001b[0m\u001b[1ml\u001b[22m\u001b[0m\u001b[1mo\u001b[22m\u001b[0m\u001b[1mt\u001b[22m! \u001b[0m\u001b[1mp\u001b[22m\u001b[0m\u001b[1ml\u001b[22m\u001b[0m\u001b[1mo\u001b[22m\u001b[0m\u001b[1mt\u001b[22mly \u001b[0m\u001b[1mp\u001b[22m\u001b[0m\u001b[1ml\u001b[22m\u001b[0m\u001b[1mo\u001b[22m\u001b[0m\u001b[1mt\u001b[22m3d \u001b[0m\u001b[1mP\u001b[22m\u001b[0m\u001b[1ml\u001b[22m\u001b[0m\u001b[1mo\u001b[22m\u001b[0m\u001b[1mt\u001b[22ms \u001b[0m\u001b[1mp\u001b[22m\u001b[0m\u001b[1ml\u001b[22m\u001b[0m\u001b[1mo\u001b[22m\u001b[0m\u001b[1mt\u001b[22m3d! \u001b[0m\u001b[1mp\u001b[22m\u001b[0m\u001b[1ml\u001b[22m\u001b[0m\u001b[1mo\u001b[22m\u001b[0m\u001b[1mt\u001b[22mlyjs \u001b[0m\u001b[1mp\u001b[22m\u001b[0m\u001b[1ml\u001b[22m\u001b[0m\u001b[1mo\u001b[22m\u001b[0m\u001b[1mt\u001b[22mattr \u001b[0m\u001b[1mp\u001b[22m\u001b[0m\u001b[1ml\u001b[22m\u001b[0m\u001b[1mo\u001b[22m\u001b[0m\u001b[1mt\u001b[22marea\n",
      "\n"
     ]
    },
    {
     "data": {
      "text/latex": [
       "The main plot command. Use \\texttt{plot} to create a new plot object, and \\texttt{plot!} to add to an existing one:\n",
       "\n",
       "\\begin{verbatim}\n",
       "    plot(args...; kw...)                  # creates a new plot window, and sets it to be the current\n",
       "    plot!(args...; kw...)                 # adds to the `current`\n",
       "    plot!(plotobj, args...; kw...)        # adds to the plot `plotobj`\n",
       "\\end{verbatim}\n",
       "There are lots of ways to pass in data, and lots of keyword arguments... just try it and it will likely work as expected. When you pass in matrices, it splits by columns. To see the list of available attributes, use the \\texttt{plotattr(attr)} function, where \\texttt{attr} is the symbol \\texttt{:Series}, \\texttt{:Subplot}, \\texttt{:Plot}, or \\texttt{:Axis}. Pass any attribute to \\texttt{plotattr} as a String to look up its docstring, e.g., \\texttt{plotattr(\"seriestype\")}.\n",
       "\n"
      ],
      "text/markdown": [
       "The main plot command. Use `plot` to create a new plot object, and `plot!` to add to an existing one:\n",
       "\n",
       "```\n",
       "    plot(args...; kw...)                  # creates a new plot window, and sets it to be the current\n",
       "    plot!(args...; kw...)                 # adds to the `current`\n",
       "    plot!(plotobj, args...; kw...)        # adds to the plot `plotobj`\n",
       "```\n",
       "\n",
       "There are lots of ways to pass in data, and lots of keyword arguments... just try it and it will likely work as expected. When you pass in matrices, it splits by columns. To see the list of available attributes, use the `plotattr(attr)` function, where `attr` is the symbol `:Series`, `:Subplot`, `:Plot`, or `:Axis`. Pass any attribute to `plotattr` as a String to look up its docstring, e.g., `plotattr(\"seriestype\")`.\n"
      ],
      "text/plain": [
       "  The main plot command. Use \u001b[36mplot\u001b[39m to create a new plot object, and \u001b[36mplot!\u001b[39m to\n",
       "  add to an existing one:\n",
       "\n",
       "\u001b[36m      plot(args...; kw...)                  # creates a new plot window, and sets it to be the current\u001b[39m\n",
       "\u001b[36m      plot!(args...; kw...)                 # adds to the `current`\u001b[39m\n",
       "\u001b[36m      plot!(plotobj, args...; kw...)        # adds to the plot `plotobj`\u001b[39m\n",
       "\n",
       "  There are lots of ways to pass in data, and lots of keyword arguments...\n",
       "  just try it and it will likely work as expected. When you pass in matrices,\n",
       "  it splits by columns. To see the list of available attributes, use the\n",
       "  \u001b[36mplotattr(attr)\u001b[39m function, where \u001b[36mattr\u001b[39m is the symbol \u001b[36m:Series\u001b[39m, \u001b[36m:Subplot\u001b[39m, \u001b[36m:Plot\u001b[39m,\n",
       "  or \u001b[36m:Axis\u001b[39m. Pass any attribute to \u001b[36mplotattr\u001b[39m as a String to look up its\n",
       "  docstring, e.g., \u001b[36mplotattr(\"seriestype\")\u001b[39m."
      ]
     },
     "execution_count": 44,
     "metadata": {},
     "output_type": "execute_result"
    }
   ],
   "source": [
    "?plot"
   ]
  },
  {
   "cell_type": "code",
   "execution_count": 43,
   "id": "235667b8-e2fc-445f-9d2c-221226b723ec",
   "metadata": {},
   "outputs": [
    {
     "data": {
      "image/svg+xml": [
       "<?xml version=\"1.0\" encoding=\"utf-8\"?>\n",
       "<svg xmlns=\"http://www.w3.org/2000/svg\" xmlns:xlink=\"http://www.w3.org/1999/xlink\" width=\"600\" height=\"400\" viewBox=\"0 0 2400 1600\">\n",
       "<defs>\n",
       "  <clipPath id=\"clip470\">\n",
       "    <rect x=\"0\" y=\"0\" width=\"2400\" height=\"1600\"/>\n",
       "  </clipPath>\n",
       "</defs>\n",
       "<path clip-path=\"url(#clip470)\" d=\"\n",
       "M0 1600 L2400 1600 L2400 0 L0 0  Z\n",
       "  \" fill=\"#ffffff\" fill-rule=\"evenodd\" fill-opacity=\"1\"/>\n",
       "<defs>\n",
       "  <clipPath id=\"clip471\">\n",
       "    <rect x=\"480\" y=\"0\" width=\"1681\" height=\"1600\"/>\n",
       "  </clipPath>\n",
       "</defs>\n",
       "<path clip-path=\"url(#clip470)\" d=\"\n",
       "M186.274 1486.45 L2352.76 1486.45 L2352.76 47.2441 L186.274 47.2441  Z\n",
       "  \" fill=\"#ffffff\" fill-rule=\"evenodd\" fill-opacity=\"1\"/>\n",
       "<defs>\n",
       "  <clipPath id=\"clip472\">\n",
       "    <rect x=\"186\" y=\"47\" width=\"2167\" height=\"1440\"/>\n",
       "  </clipPath>\n",
       "</defs>\n",
       "<polyline clip-path=\"url(#clip472)\" style=\"stroke:#000000; stroke-linecap:butt; stroke-linejoin:round; stroke-width:2; stroke-opacity:0.1; fill:none\" points=\"\n",
       "  226.945,1486.45 226.945,47.2441 \n",
       "  \"/>\n",
       "<polyline clip-path=\"url(#clip472)\" style=\"stroke:#000000; stroke-linecap:butt; stroke-linejoin:round; stroke-width:2; stroke-opacity:0.1; fill:none\" points=\"\n",
       "  743.069,1486.45 743.069,47.2441 \n",
       "  \"/>\n",
       "<polyline clip-path=\"url(#clip472)\" style=\"stroke:#000000; stroke-linecap:butt; stroke-linejoin:round; stroke-width:2; stroke-opacity:0.1; fill:none\" points=\"\n",
       "  1259.19,1486.45 1259.19,47.2441 \n",
       "  \"/>\n",
       "<polyline clip-path=\"url(#clip472)\" style=\"stroke:#000000; stroke-linecap:butt; stroke-linejoin:round; stroke-width:2; stroke-opacity:0.1; fill:none\" points=\"\n",
       "  1775.32,1486.45 1775.32,47.2441 \n",
       "  \"/>\n",
       "<polyline clip-path=\"url(#clip472)\" style=\"stroke:#000000; stroke-linecap:butt; stroke-linejoin:round; stroke-width:2; stroke-opacity:0.1; fill:none\" points=\"\n",
       "  2291.44,1486.45 2291.44,47.2441 \n",
       "  \"/>\n",
       "<polyline clip-path=\"url(#clip470)\" style=\"stroke:#000000; stroke-linecap:butt; stroke-linejoin:round; stroke-width:4; stroke-opacity:1; fill:none\" points=\"\n",
       "  186.274,1486.45 2352.76,1486.45 \n",
       "  \"/>\n",
       "<polyline clip-path=\"url(#clip470)\" style=\"stroke:#000000; stroke-linecap:butt; stroke-linejoin:round; stroke-width:4; stroke-opacity:1; fill:none\" points=\"\n",
       "  226.945,1486.45 226.945,1467.55 \n",
       "  \"/>\n",
       "<polyline clip-path=\"url(#clip470)\" style=\"stroke:#000000; stroke-linecap:butt; stroke-linejoin:round; stroke-width:4; stroke-opacity:1; fill:none\" points=\"\n",
       "  743.069,1486.45 743.069,1467.55 \n",
       "  \"/>\n",
       "<polyline clip-path=\"url(#clip470)\" style=\"stroke:#000000; stroke-linecap:butt; stroke-linejoin:round; stroke-width:4; stroke-opacity:1; fill:none\" points=\"\n",
       "  1259.19,1486.45 1259.19,1467.55 \n",
       "  \"/>\n",
       "<polyline clip-path=\"url(#clip470)\" style=\"stroke:#000000; stroke-linecap:butt; stroke-linejoin:round; stroke-width:4; stroke-opacity:1; fill:none\" points=\"\n",
       "  1775.32,1486.45 1775.32,1467.55 \n",
       "  \"/>\n",
       "<polyline clip-path=\"url(#clip470)\" style=\"stroke:#000000; stroke-linecap:butt; stroke-linejoin:round; stroke-width:4; stroke-opacity:1; fill:none\" points=\"\n",
       "  2291.44,1486.45 2291.44,1467.55 \n",
       "  \"/>\n",
       "<path clip-path=\"url(#clip470)\" d=\"M226.945 1517.37 Q223.333 1517.37 221.505 1520.93 Q219.699 1524.47 219.699 1531.6 Q219.699 1538.71 221.505 1542.27 Q223.333 1545.82 226.945 1545.82 Q230.579 1545.82 232.384 1542.27 Q234.213 1538.71 234.213 1531.6 Q234.213 1524.47 232.384 1520.93 Q230.579 1517.37 226.945 1517.37 M226.945 1513.66 Q232.755 1513.66 235.81 1518.27 Q238.889 1522.85 238.889 1531.6 Q238.889 1540.33 235.81 1544.94 Q232.755 1549.52 226.945 1549.52 Q221.134 1549.52 218.056 1544.94 Q215 1540.33 215 1531.6 Q215 1522.85 218.056 1518.27 Q221.134 1513.66 226.945 1513.66 Z\" fill=\"#000000\" fill-rule=\"evenodd\" fill-opacity=\"1\" /><path clip-path=\"url(#clip470)\" d=\"M722.339 1544.91 L738.659 1544.91 L738.659 1548.85 L716.714 1548.85 L716.714 1544.91 Q719.377 1542.16 723.96 1537.53 Q728.566 1532.88 729.747 1531.53 Q731.992 1529.01 732.872 1527.27 Q733.775 1525.51 733.775 1523.82 Q733.775 1521.07 731.83 1519.33 Q729.909 1517.6 726.807 1517.6 Q724.608 1517.6 722.154 1518.36 Q719.724 1519.13 716.946 1520.68 L716.946 1515.95 Q719.77 1514.82 722.224 1514.24 Q724.677 1513.66 726.714 1513.66 Q732.085 1513.66 735.279 1516.35 Q738.474 1519.03 738.474 1523.52 Q738.474 1525.65 737.663 1527.57 Q736.876 1529.47 734.77 1532.07 Q734.191 1532.74 731.089 1535.95 Q727.988 1539.15 722.339 1544.91 Z\" fill=\"#000000\" fill-rule=\"evenodd\" fill-opacity=\"1\" /><path clip-path=\"url(#clip470)\" d=\"M748.52 1514.29 L766.876 1514.29 L766.876 1518.22 L752.802 1518.22 L752.802 1526.7 Q753.821 1526.35 754.839 1526.19 Q755.858 1526 756.876 1526 Q762.663 1526 766.043 1529.17 Q769.423 1532.34 769.423 1537.76 Q769.423 1543.34 765.95 1546.44 Q762.478 1549.52 756.159 1549.52 Q753.983 1549.52 751.714 1549.15 Q749.469 1548.78 747.062 1548.04 L747.062 1543.34 Q749.145 1544.47 751.367 1545.03 Q753.589 1545.58 756.066 1545.58 Q760.071 1545.58 762.409 1543.48 Q764.747 1541.37 764.747 1537.76 Q764.747 1534.15 762.409 1532.04 Q760.071 1529.94 756.066 1529.94 Q754.191 1529.94 752.316 1530.35 Q750.464 1530.77 748.52 1531.65 L748.52 1514.29 Z\" fill=\"#000000\" fill-rule=\"evenodd\" fill-opacity=\"1\" /><path clip-path=\"url(#clip470)\" d=\"M1233.89 1514.29 L1252.25 1514.29 L1252.25 1518.22 L1238.17 1518.22 L1238.17 1526.7 Q1239.19 1526.35 1240.21 1526.19 Q1241.23 1526 1242.25 1526 Q1248.04 1526 1251.41 1529.17 Q1254.79 1532.34 1254.79 1537.76 Q1254.79 1543.34 1251.32 1546.44 Q1247.85 1549.52 1241.53 1549.52 Q1239.35 1549.52 1237.09 1549.15 Q1234.84 1548.78 1232.43 1548.04 L1232.43 1543.34 Q1234.52 1544.47 1236.74 1545.03 Q1238.96 1545.58 1241.44 1545.58 Q1245.44 1545.58 1247.78 1543.48 Q1250.12 1541.37 1250.12 1537.76 Q1250.12 1534.15 1247.78 1532.04 Q1245.44 1529.94 1241.44 1529.94 Q1239.56 1529.94 1237.69 1530.35 Q1235.84 1530.77 1233.89 1531.65 L1233.89 1514.29 Z\" fill=\"#000000\" fill-rule=\"evenodd\" fill-opacity=\"1\" /><path clip-path=\"url(#clip470)\" d=\"M1274.01 1517.37 Q1270.4 1517.37 1268.57 1520.93 Q1266.76 1524.47 1266.76 1531.6 Q1266.76 1538.71 1268.57 1542.27 Q1270.4 1545.82 1274.01 1545.82 Q1277.64 1545.82 1279.45 1542.27 Q1281.28 1538.71 1281.28 1531.6 Q1281.28 1524.47 1279.45 1520.93 Q1277.64 1517.37 1274.01 1517.37 M1274.01 1513.66 Q1279.82 1513.66 1282.87 1518.27 Q1285.95 1522.85 1285.95 1531.6 Q1285.95 1540.33 1282.87 1544.94 Q1279.82 1549.52 1274.01 1549.52 Q1268.2 1549.52 1265.12 1544.94 Q1262.06 1540.33 1262.06 1531.6 Q1262.06 1522.85 1265.12 1518.27 Q1268.2 1513.66 1274.01 1513.66 Z\" fill=\"#000000\" fill-rule=\"evenodd\" fill-opacity=\"1\" /><path clip-path=\"url(#clip470)\" d=\"M1749.17 1514.29 L1771.39 1514.29 L1771.39 1516.28 L1758.85 1548.85 L1753.96 1548.85 L1765.77 1518.22 L1749.17 1518.22 L1749.17 1514.29 Z\" fill=\"#000000\" fill-rule=\"evenodd\" fill-opacity=\"1\" /><path clip-path=\"url(#clip470)\" d=\"M1780.56 1514.29 L1798.92 1514.29 L1798.92 1518.22 L1784.84 1518.22 L1784.84 1526.7 Q1785.86 1526.35 1786.88 1526.19 Q1787.9 1526 1788.92 1526 Q1794.7 1526 1798.08 1529.17 Q1801.46 1532.34 1801.46 1537.76 Q1801.46 1543.34 1797.99 1546.44 Q1794.52 1549.52 1788.2 1549.52 Q1786.02 1549.52 1783.75 1549.15 Q1781.51 1548.78 1779.1 1548.04 L1779.1 1543.34 Q1781.18 1544.47 1783.41 1545.03 Q1785.63 1545.58 1788.11 1545.58 Q1792.11 1545.58 1794.45 1543.48 Q1796.79 1541.37 1796.79 1537.76 Q1796.79 1534.15 1794.45 1532.04 Q1792.11 1529.94 1788.11 1529.94 Q1786.23 1529.94 1784.36 1530.35 Q1782.5 1530.77 1780.56 1531.65 L1780.56 1514.29 Z\" fill=\"#000000\" fill-rule=\"evenodd\" fill-opacity=\"1\" /><path clip-path=\"url(#clip470)\" d=\"M2251.05 1544.91 L2258.69 1544.91 L2258.69 1518.55 L2250.38 1520.21 L2250.38 1515.95 L2258.64 1514.29 L2263.32 1514.29 L2263.32 1544.91 L2270.95 1544.91 L2270.95 1548.85 L2251.05 1548.85 L2251.05 1544.91 Z\" fill=\"#000000\" fill-rule=\"evenodd\" fill-opacity=\"1\" /><path clip-path=\"url(#clip470)\" d=\"M2290.4 1517.37 Q2286.79 1517.37 2284.96 1520.93 Q2283.15 1524.47 2283.15 1531.6 Q2283.15 1538.71 2284.96 1542.27 Q2286.79 1545.82 2290.4 1545.82 Q2294.03 1545.82 2295.84 1542.27 Q2297.67 1538.71 2297.67 1531.6 Q2297.67 1524.47 2295.84 1520.93 Q2294.03 1517.37 2290.4 1517.37 M2290.4 1513.66 Q2296.21 1513.66 2299.26 1518.27 Q2302.34 1522.85 2302.34 1531.6 Q2302.34 1540.33 2299.26 1544.94 Q2296.21 1549.52 2290.4 1549.52 Q2284.59 1549.52 2281.51 1544.94 Q2278.45 1540.33 2278.45 1531.6 Q2278.45 1522.85 2281.51 1518.27 Q2284.59 1513.66 2290.4 1513.66 Z\" fill=\"#000000\" fill-rule=\"evenodd\" fill-opacity=\"1\" /><path clip-path=\"url(#clip470)\" d=\"M2320.56 1517.37 Q2316.95 1517.37 2315.12 1520.93 Q2313.32 1524.47 2313.32 1531.6 Q2313.32 1538.71 2315.12 1542.27 Q2316.95 1545.82 2320.56 1545.82 Q2324.19 1545.82 2326 1542.27 Q2327.83 1538.71 2327.83 1531.6 Q2327.83 1524.47 2326 1520.93 Q2324.19 1517.37 2320.56 1517.37 M2320.56 1513.66 Q2326.37 1513.66 2329.43 1518.27 Q2332.5 1522.85 2332.5 1531.6 Q2332.5 1540.33 2329.43 1544.94 Q2326.37 1549.52 2320.56 1549.52 Q2314.75 1549.52 2311.67 1544.94 Q2308.62 1540.33 2308.62 1531.6 Q2308.62 1522.85 2311.67 1518.27 Q2314.75 1513.66 2320.56 1513.66 Z\" fill=\"#000000\" fill-rule=\"evenodd\" fill-opacity=\"1\" /><polyline clip-path=\"url(#clip472)\" style=\"stroke:#000000; stroke-linecap:butt; stroke-linejoin:round; stroke-width:2; stroke-opacity:0.1; fill:none\" points=\"\n",
       "  186.274,1446.72 2352.76,1446.72 \n",
       "  \"/>\n",
       "<polyline clip-path=\"url(#clip472)\" style=\"stroke:#000000; stroke-linecap:butt; stroke-linejoin:round; stroke-width:2; stroke-opacity:0.1; fill:none\" points=\"\n",
       "  186.274,1105.29 2352.76,1105.29 \n",
       "  \"/>\n",
       "<polyline clip-path=\"url(#clip472)\" style=\"stroke:#000000; stroke-linecap:butt; stroke-linejoin:round; stroke-width:2; stroke-opacity:0.1; fill:none\" points=\"\n",
       "  186.274,763.853 2352.76,763.853 \n",
       "  \"/>\n",
       "<polyline clip-path=\"url(#clip472)\" style=\"stroke:#000000; stroke-linecap:butt; stroke-linejoin:round; stroke-width:2; stroke-opacity:0.1; fill:none\" points=\"\n",
       "  186.274,422.421 2352.76,422.421 \n",
       "  \"/>\n",
       "<polyline clip-path=\"url(#clip472)\" style=\"stroke:#000000; stroke-linecap:butt; stroke-linejoin:round; stroke-width:2; stroke-opacity:0.1; fill:none\" points=\"\n",
       "  186.274,80.9881 2352.76,80.9881 \n",
       "  \"/>\n",
       "<polyline clip-path=\"url(#clip470)\" style=\"stroke:#000000; stroke-linecap:butt; stroke-linejoin:round; stroke-width:4; stroke-opacity:1; fill:none\" points=\"\n",
       "  186.274,1486.45 186.274,47.2441 \n",
       "  \"/>\n",
       "<polyline clip-path=\"url(#clip470)\" style=\"stroke:#000000; stroke-linecap:butt; stroke-linejoin:round; stroke-width:4; stroke-opacity:1; fill:none\" points=\"\n",
       "  186.274,1446.72 205.172,1446.72 \n",
       "  \"/>\n",
       "<polyline clip-path=\"url(#clip470)\" style=\"stroke:#000000; stroke-linecap:butt; stroke-linejoin:round; stroke-width:4; stroke-opacity:1; fill:none\" points=\"\n",
       "  186.274,1105.29 205.172,1105.29 \n",
       "  \"/>\n",
       "<polyline clip-path=\"url(#clip470)\" style=\"stroke:#000000; stroke-linecap:butt; stroke-linejoin:round; stroke-width:4; stroke-opacity:1; fill:none\" points=\"\n",
       "  186.274,763.853 205.172,763.853 \n",
       "  \"/>\n",
       "<polyline clip-path=\"url(#clip470)\" style=\"stroke:#000000; stroke-linecap:butt; stroke-linejoin:round; stroke-width:4; stroke-opacity:1; fill:none\" points=\"\n",
       "  186.274,422.421 205.172,422.421 \n",
       "  \"/>\n",
       "<polyline clip-path=\"url(#clip470)\" style=\"stroke:#000000; stroke-linecap:butt; stroke-linejoin:round; stroke-width:4; stroke-opacity:1; fill:none\" points=\"\n",
       "  186.274,80.9881 205.172,80.9881 \n",
       "  \"/>\n",
       "<path clip-path=\"url(#clip470)\" d=\"M62.9365 1432.52 Q59.3254 1432.52 57.4967 1436.08 Q55.6912 1439.62 55.6912 1446.75 Q55.6912 1453.86 57.4967 1457.42 Q59.3254 1460.97 62.9365 1460.97 Q66.5707 1460.97 68.3763 1457.42 Q70.205 1453.86 70.205 1446.75 Q70.205 1439.62 68.3763 1436.08 Q66.5707 1432.52 62.9365 1432.52 M62.9365 1428.81 Q68.7467 1428.81 71.8022 1433.42 Q74.8809 1438 74.8809 1446.75 Q74.8809 1455.48 71.8022 1460.09 Q68.7467 1464.67 62.9365 1464.67 Q57.1264 1464.67 54.0477 1460.09 Q50.9921 1455.48 50.9921 1446.75 Q50.9921 1438 54.0477 1433.42 Q57.1264 1428.81 62.9365 1428.81 Z\" fill=\"#000000\" fill-rule=\"evenodd\" fill-opacity=\"1\" /><path clip-path=\"url(#clip470)\" d=\"M83.0984 1458.12 L87.9827 1458.12 L87.9827 1464 L83.0984 1464 L83.0984 1458.12 Z\" fill=\"#000000\" fill-rule=\"evenodd\" fill-opacity=\"1\" /><path clip-path=\"url(#clip470)\" d=\"M108.168 1432.52 Q104.557 1432.52 102.728 1436.08 Q100.922 1439.62 100.922 1446.75 Q100.922 1453.86 102.728 1457.42 Q104.557 1460.97 108.168 1460.97 Q111.802 1460.97 113.608 1457.42 Q115.436 1453.86 115.436 1446.75 Q115.436 1439.62 113.608 1436.08 Q111.802 1432.52 108.168 1432.52 M108.168 1428.81 Q113.978 1428.81 117.033 1433.42 Q120.112 1438 120.112 1446.75 Q120.112 1455.48 117.033 1460.09 Q113.978 1464.67 108.168 1464.67 Q102.358 1464.67 99.2789 1460.09 Q96.2234 1455.48 96.2234 1446.75 Q96.2234 1438 99.2789 1433.42 Q102.358 1428.81 108.168 1428.81 Z\" fill=\"#000000\" fill-rule=\"evenodd\" fill-opacity=\"1\" /><path clip-path=\"url(#clip470)\" d=\"M138.33 1432.52 Q134.719 1432.52 132.89 1436.08 Q131.084 1439.62 131.084 1446.75 Q131.084 1453.86 132.89 1457.42 Q134.719 1460.97 138.33 1460.97 Q141.964 1460.97 143.769 1457.42 Q145.598 1453.86 145.598 1446.75 Q145.598 1439.62 143.769 1436.08 Q141.964 1432.52 138.33 1432.52 M138.33 1428.81 Q144.14 1428.81 147.195 1433.42 Q150.274 1438 150.274 1446.75 Q150.274 1455.48 147.195 1460.09 Q144.14 1464.67 138.33 1464.67 Q132.519 1464.67 129.441 1460.09 Q126.385 1455.48 126.385 1446.75 Q126.385 1438 129.441 1433.42 Q132.519 1428.81 138.33 1428.81 Z\" fill=\"#000000\" fill-rule=\"evenodd\" fill-opacity=\"1\" /><path clip-path=\"url(#clip470)\" d=\"M63.9319 1091.08 Q60.3208 1091.08 58.4921 1094.65 Q56.6865 1098.19 56.6865 1105.32 Q56.6865 1112.43 58.4921 1115.99 Q60.3208 1119.53 63.9319 1119.53 Q67.5661 1119.53 69.3717 1115.99 Q71.2004 1112.43 71.2004 1105.32 Q71.2004 1098.19 69.3717 1094.65 Q67.5661 1091.08 63.9319 1091.08 M63.9319 1087.38 Q69.742 1087.38 72.7976 1091.99 Q75.8763 1096.57 75.8763 1105.32 Q75.8763 1114.05 72.7976 1118.65 Q69.742 1123.24 63.9319 1123.24 Q58.1217 1123.24 55.043 1118.65 Q51.9875 1114.05 51.9875 1105.32 Q51.9875 1096.57 55.043 1091.99 Q58.1217 1087.38 63.9319 1087.38 Z\" fill=\"#000000\" fill-rule=\"evenodd\" fill-opacity=\"1\" /><path clip-path=\"url(#clip470)\" d=\"M84.0938 1116.69 L88.978 1116.69 L88.978 1122.57 L84.0938 1122.57 L84.0938 1116.69 Z\" fill=\"#000000\" fill-rule=\"evenodd\" fill-opacity=\"1\" /><path clip-path=\"url(#clip470)\" d=\"M103.191 1118.63 L119.51 1118.63 L119.51 1122.57 L97.566 1122.57 L97.566 1118.63 Q100.228 1115.88 104.811 1111.25 Q109.418 1106.59 110.598 1105.25 Q112.844 1102.73 113.723 1100.99 Q114.626 1099.23 114.626 1097.54 Q114.626 1094.79 112.682 1093.05 Q110.76 1091.32 107.658 1091.32 Q105.459 1091.32 103.006 1092.08 Q100.575 1092.84 97.7974 1094.39 L97.7974 1089.67 Q100.621 1088.54 103.075 1087.96 Q105.529 1087.38 107.566 1087.38 Q112.936 1087.38 116.131 1090.07 Q119.325 1092.75 119.325 1097.24 Q119.325 1099.37 118.515 1101.29 Q117.728 1103.19 115.621 1105.78 Q115.043 1106.45 111.941 1109.67 Q108.839 1112.87 103.191 1118.63 Z\" fill=\"#000000\" fill-rule=\"evenodd\" fill-opacity=\"1\" /><path clip-path=\"url(#clip470)\" d=\"M129.371 1088.01 L147.728 1088.01 L147.728 1091.94 L133.654 1091.94 L133.654 1100.41 Q134.672 1100.07 135.691 1099.9 Q136.709 1099.72 137.728 1099.72 Q143.515 1099.72 146.894 1102.89 Q150.274 1106.06 150.274 1111.48 Q150.274 1117.06 146.802 1120.16 Q143.33 1123.24 137.01 1123.24 Q134.834 1123.24 132.566 1122.87 Q130.32 1122.5 127.913 1121.76 L127.913 1117.06 Q129.996 1118.19 132.219 1118.75 Q134.441 1119.3 136.918 1119.3 Q140.922 1119.3 143.26 1117.2 Q145.598 1115.09 145.598 1111.48 Q145.598 1107.87 143.26 1105.76 Q140.922 1103.65 136.918 1103.65 Q135.043 1103.65 133.168 1104.07 Q131.316 1104.49 129.371 1105.37 L129.371 1088.01 Z\" fill=\"#000000\" fill-rule=\"evenodd\" fill-opacity=\"1\" /><path clip-path=\"url(#clip470)\" d=\"M62.9365 749.652 Q59.3254 749.652 57.4967 753.217 Q55.6912 756.758 55.6912 763.888 Q55.6912 770.994 57.4967 774.559 Q59.3254 778.101 62.9365 778.101 Q66.5707 778.101 68.3763 774.559 Q70.205 770.994 70.205 763.888 Q70.205 756.758 68.3763 753.217 Q66.5707 749.652 62.9365 749.652 M62.9365 745.948 Q68.7467 745.948 71.8022 750.555 Q74.8809 755.138 74.8809 763.888 Q74.8809 772.615 71.8022 777.221 Q68.7467 781.805 62.9365 781.805 Q57.1264 781.805 54.0477 777.221 Q50.9921 772.615 50.9921 763.888 Q50.9921 755.138 54.0477 750.555 Q57.1264 745.948 62.9365 745.948 Z\" fill=\"#000000\" fill-rule=\"evenodd\" fill-opacity=\"1\" /><path clip-path=\"url(#clip470)\" d=\"M83.0984 775.254 L87.9827 775.254 L87.9827 781.133 L83.0984 781.133 L83.0984 775.254 Z\" fill=\"#000000\" fill-rule=\"evenodd\" fill-opacity=\"1\" /><path clip-path=\"url(#clip470)\" d=\"M98.2141 746.573 L116.57 746.573 L116.57 750.508 L102.496 750.508 L102.496 758.981 Q103.515 758.633 104.534 758.471 Q105.552 758.286 106.571 758.286 Q112.358 758.286 115.737 761.457 Q119.117 764.629 119.117 770.045 Q119.117 775.624 115.645 778.726 Q112.172 781.805 105.853 781.805 Q103.677 781.805 101.409 781.434 Q99.1632 781.064 96.7558 780.323 L96.7558 775.624 Q98.8391 776.758 101.061 777.314 Q103.284 777.869 105.76 777.869 Q109.765 777.869 112.103 775.763 Q114.441 773.657 114.441 770.045 Q114.441 766.434 112.103 764.328 Q109.765 762.221 105.76 762.221 Q103.885 762.221 102.01 762.638 Q100.159 763.055 98.2141 763.934 L98.2141 746.573 Z\" fill=\"#000000\" fill-rule=\"evenodd\" fill-opacity=\"1\" /><path clip-path=\"url(#clip470)\" d=\"M138.33 749.652 Q134.719 749.652 132.89 753.217 Q131.084 756.758 131.084 763.888 Q131.084 770.994 132.89 774.559 Q134.719 778.101 138.33 778.101 Q141.964 778.101 143.769 774.559 Q145.598 770.994 145.598 763.888 Q145.598 756.758 143.769 753.217 Q141.964 749.652 138.33 749.652 M138.33 745.948 Q144.14 745.948 147.195 750.555 Q150.274 755.138 150.274 763.888 Q150.274 772.615 147.195 777.221 Q144.14 781.805 138.33 781.805 Q132.519 781.805 129.441 777.221 Q126.385 772.615 126.385 763.888 Q126.385 755.138 129.441 750.555 Q132.519 745.948 138.33 745.948 Z\" fill=\"#000000\" fill-rule=\"evenodd\" fill-opacity=\"1\" /><path clip-path=\"url(#clip470)\" d=\"M63.9319 408.219 Q60.3208 408.219 58.4921 411.784 Q56.6865 415.326 56.6865 422.455 Q56.6865 429.562 58.4921 433.127 Q60.3208 436.668 63.9319 436.668 Q67.5661 436.668 69.3717 433.127 Q71.2004 429.562 71.2004 422.455 Q71.2004 415.326 69.3717 411.784 Q67.5661 408.219 63.9319 408.219 M63.9319 404.516 Q69.742 404.516 72.7976 409.122 Q75.8763 413.705 75.8763 422.455 Q75.8763 431.182 72.7976 435.789 Q69.742 440.372 63.9319 440.372 Q58.1217 440.372 55.043 435.789 Q51.9875 431.182 51.9875 422.455 Q51.9875 413.705 55.043 409.122 Q58.1217 404.516 63.9319 404.516 Z\" fill=\"#000000\" fill-rule=\"evenodd\" fill-opacity=\"1\" /><path clip-path=\"url(#clip470)\" d=\"M84.0938 433.821 L88.978 433.821 L88.978 439.701 L84.0938 439.701 L84.0938 433.821 Z\" fill=\"#000000\" fill-rule=\"evenodd\" fill-opacity=\"1\" /><path clip-path=\"url(#clip470)\" d=\"M97.9826 405.141 L120.205 405.141 L120.205 407.131 L107.658 439.701 L102.774 439.701 L114.58 409.076 L97.9826 409.076 L97.9826 405.141 Z\" fill=\"#000000\" fill-rule=\"evenodd\" fill-opacity=\"1\" /><path clip-path=\"url(#clip470)\" d=\"M129.371 405.141 L147.728 405.141 L147.728 409.076 L133.654 409.076 L133.654 417.548 Q134.672 417.201 135.691 417.039 Q136.709 416.854 137.728 416.854 Q143.515 416.854 146.894 420.025 Q150.274 423.196 150.274 428.613 Q150.274 434.191 146.802 437.293 Q143.33 440.372 137.01 440.372 Q134.834 440.372 132.566 440.002 Q130.32 439.631 127.913 438.891 L127.913 434.191 Q129.996 435.326 132.219 435.881 Q134.441 436.437 136.918 436.437 Q140.922 436.437 143.26 434.33 Q145.598 432.224 145.598 428.613 Q145.598 425.002 143.26 422.895 Q140.922 420.789 136.918 420.789 Q135.043 420.789 133.168 421.205 Q131.316 421.622 129.371 422.502 L129.371 405.141 Z\" fill=\"#000000\" fill-rule=\"evenodd\" fill-opacity=\"1\" /><path clip-path=\"url(#clip470)\" d=\"M53.7467 94.3329 L61.3856 94.3329 L61.3856 67.9673 L53.0754 69.634 L53.0754 65.3748 L61.3393 63.7081 L66.0152 63.7081 L66.0152 94.3329 L73.654 94.3329 L73.654 98.2681 L53.7467 98.2681 L53.7467 94.3329 Z\" fill=\"#000000\" fill-rule=\"evenodd\" fill-opacity=\"1\" /><path clip-path=\"url(#clip470)\" d=\"M83.0984 92.3885 L87.9827 92.3885 L87.9827 98.2681 L83.0984 98.2681 L83.0984 92.3885 Z\" fill=\"#000000\" fill-rule=\"evenodd\" fill-opacity=\"1\" /><path clip-path=\"url(#clip470)\" d=\"M108.168 66.7868 Q104.557 66.7868 102.728 70.3516 Q100.922 73.8932 100.922 81.0228 Q100.922 88.1293 102.728 91.6941 Q104.557 95.2357 108.168 95.2357 Q111.802 95.2357 113.608 91.6941 Q115.436 88.1293 115.436 81.0228 Q115.436 73.8932 113.608 70.3516 Q111.802 66.7868 108.168 66.7868 M108.168 63.0831 Q113.978 63.0831 117.033 67.6896 Q120.112 72.2729 120.112 81.0228 Q120.112 89.7496 117.033 94.3561 Q113.978 98.9394 108.168 98.9394 Q102.358 98.9394 99.2789 94.3561 Q96.2234 89.7496 96.2234 81.0228 Q96.2234 72.2729 99.2789 67.6896 Q102.358 63.0831 108.168 63.0831 Z\" fill=\"#000000\" fill-rule=\"evenodd\" fill-opacity=\"1\" /><path clip-path=\"url(#clip470)\" d=\"M138.33 66.7868 Q134.719 66.7868 132.89 70.3516 Q131.084 73.8932 131.084 81.0228 Q131.084 88.1293 132.89 91.6941 Q134.719 95.2357 138.33 95.2357 Q141.964 95.2357 143.769 91.6941 Q145.598 88.1293 145.598 81.0228 Q145.598 73.8932 143.769 70.3516 Q141.964 66.7868 138.33 66.7868 M138.33 63.0831 Q144.14 63.0831 147.195 67.6896 Q150.274 72.2729 150.274 81.0228 Q150.274 89.7496 147.195 94.3561 Q144.14 98.9394 138.33 98.9394 Q132.519 98.9394 129.441 94.3561 Q126.385 89.7496 126.385 81.0228 Q126.385 72.2729 129.441 67.6896 Q132.519 63.0831 138.33 63.0831 Z\" fill=\"#000000\" fill-rule=\"evenodd\" fill-opacity=\"1\" /><polyline clip-path=\"url(#clip472)\" style=\"stroke:#009af9; stroke-linecap:butt; stroke-linejoin:round; stroke-width:4; stroke-opacity:1; fill:none\" points=\"\n",
       "  247.59,367.422 268.234,258.61 288.879,619.932 309.524,1282.25 330.169,1401.88 350.814,1237.11 371.459,236.457 392.104,682.502 412.749,166.807 433.394,459.689 \n",
       "  454.039,408.321 474.684,823.527 495.329,561.005 515.974,613.965 536.619,648.126 557.264,1115.23 577.909,1016.26 598.554,170.167 619.199,473.344 639.844,1344.71 \n",
       "  660.489,311.874 681.134,372.79 701.779,371.329 722.424,469.361 743.069,116.741 763.713,1223.37 784.358,799.518 805.003,1016.49 825.648,702.459 846.293,1304.32 \n",
       "  866.938,471.773 887.583,688.992 908.228,344.321 928.873,317.928 949.518,631.813 970.163,185.046 990.808,1003.69 1011.45,1210.09 1032.1,1347.48 1052.74,144.566 \n",
       "  1073.39,1189.58 1094.03,808.827 1114.68,647.963 1135.32,1120.27 1155.97,130.983 1176.61,439.76 1197.26,181.175 1217.9,384.049 1238.55,307.871 1259.19,638.859 \n",
       "  1279.84,938.084 1300.48,735.614 1321.13,817.454 1341.77,1445.72 1362.42,1432.07 1383.06,787.742 1403.71,1006.77 1424.35,830.028 1445,876.197 1465.64,104.199 \n",
       "  1486.29,177.443 1506.93,614.665 1527.58,256.352 1548.22,562.492 1568.87,865.024 1589.51,1030.43 1610.16,1288.2 1630.8,1252.05 1651.45,511.069 1672.09,266.171 \n",
       "  1692.74,948.374 1713.38,414.688 1734.03,231.216 1754.67,173.848 1775.32,787.057 1795.96,251.512 1816.61,1347.39 1837.25,1257.74 1857.9,1410.77 1878.54,632.279 \n",
       "  1899.19,731.283 1919.83,1314.6 1940.48,135.177 1961.12,651.324 1981.77,1281.14 2002.41,1331.86 2023.06,1229.25 2043.7,1004.22 2064.35,87.9763 2084.99,941.941 \n",
       "  2105.64,285.825 2126.28,1077.5 2146.93,328.966 2167.57,210.844 2188.22,415.68 2208.86,839.265 2229.51,1199.79 2250.15,397.627 2270.8,1398.66 2291.44,577.597 \n",
       "  \n",
       "  \"/>\n",
       "<path clip-path=\"url(#clip470)\" d=\"\n",
       "M1987.39 198.898 L2280.54 198.898 L2280.54 95.2176 L1987.39 95.2176  Z\n",
       "  \" fill=\"#ffffff\" fill-rule=\"evenodd\" fill-opacity=\"1\"/>\n",
       "<polyline clip-path=\"url(#clip470)\" style=\"stroke:#000000; stroke-linecap:butt; stroke-linejoin:round; stroke-width:4; stroke-opacity:1; fill:none\" points=\"\n",
       "  1987.39,198.898 2280.54,198.898 2280.54,95.2176 1987.39,95.2176 1987.39,198.898 \n",
       "  \"/>\n",
       "<polyline clip-path=\"url(#clip470)\" style=\"stroke:#009af9; stroke-linecap:butt; stroke-linejoin:round; stroke-width:4; stroke-opacity:1; fill:none\" points=\"\n",
       "  2011.46,147.058 2155.89,147.058 \n",
       "  \"/>\n",
       "<path clip-path=\"url(#clip470)\" d=\"M2193.81 166.745 Q2192 171.375 2190.29 172.787 Q2188.58 174.199 2185.71 174.199 L2182.3 174.199 L2182.3 170.634 L2184.8 170.634 Q2186.56 170.634 2187.53 169.8 Q2188.51 168.967 2189.69 165.865 L2190.45 163.921 L2179.97 138.412 L2184.48 138.412 L2192.58 158.689 L2200.68 138.412 L2205.2 138.412 L2193.81 166.745 Z\" fill=\"#000000\" fill-rule=\"evenodd\" fill-opacity=\"1\" /><path clip-path=\"url(#clip470)\" d=\"M2212.49 160.402 L2220.13 160.402 L2220.13 134.037 L2211.82 135.703 L2211.82 131.444 L2220.08 129.778 L2224.76 129.778 L2224.76 160.402 L2232.4 160.402 L2232.4 164.338 L2212.49 164.338 L2212.49 160.402 Z\" fill=\"#000000\" fill-rule=\"evenodd\" fill-opacity=\"1\" /></svg>\n"
      ]
     },
     "execution_count": 43,
     "metadata": {},
     "output_type": "execute_result"
    }
   ],
   "source": [
    "plot(rand(100),)"
   ]
  },
  {
   "cell_type": "code",
   "execution_count": 52,
   "id": "1385cb70-1063-4606-bf5d-6cddad073460",
   "metadata": {},
   "outputs": [
    {
     "data": {
      "text/plain": [
       "209"
      ]
     },
     "execution_count": 52,
     "metadata": {},
     "output_type": "execute_result"
    }
   ],
   "source": [
    "a = 5\n",
    "b = 2a^2 + 30a + 9"
   ]
  },
  {
   "cell_type": "code",
   "execution_count": 53,
   "id": "906f6dae-c082-4c65-aeab-a0639c533196",
   "metadata": {},
   "outputs": [
    {
     "data": {
      "image/png": "[encoded data removed]",
      "text/plain": [
       "Figure(PyObject <Figure size 640x480 with 1 Axes>)"
      ]
     },
     "metadata": {},
     "output_type": "display_data"
    },
    {
     "name": "stderr",
     "output_type": "stream",
     "text": [
      "┌ Warning: linestyle -- is unsupported with Plots.GRBackend().  Choose from: [:auto, :solid, :dash, :dot, :dashdot, :dashdotdot]\n",
      "└ @ Plots /home/javid/.julia/packages/Plots/FCM0H/src/args.jl:1629\n"
     ]
    },
    {
     "data": {
      "text/plain": [
       "PyObject Text(24.000000000000007, 0.5, 'y axis')"
      ]
     },
     "execution_count": 53,
     "metadata": {},
     "output_type": "execute_result"
    }
   ],
   "source": [
    "using PyPlot\n",
    "x = range(0,stop=5,length=101)\n",
    "y = cos.(2x .+ 5)\n",
    "plot(x, y, linewidth=2.0, linestyle=\"--\")\n",
    "title(\"a nice cosinus\")\n",
    "xlabel(\"x axis\")\n",
    "ylabel(\"y axis\")"
   ]
  },
  {
   "cell_type": "code",
   "execution_count": 58,
   "id": "2afa7d3d-2a20-4158-a6d8-be0617d1a1ac",
   "metadata": {},
   "outputs": [],
   "source": [
    "f(x) = x^3 +5 ;"
   ]
  },
  {
   "cell_type": "code",
   "execution_count": 64,
   "id": "682b8643-b6a7-4ff7-ae42-0eebc1c67c71",
   "metadata": {},
   "outputs": [
    {
     "data": {
      "text/plain": [
       "704974"
      ]
     },
     "execution_count": 64,
     "metadata": {},
     "output_type": "execute_result"
    }
   ],
   "source": [
    "f(89)"
   ]
  },
  {
   "cell_type": "code",
   "execution_count": 67,
   "id": "0d0f6355-57cd-4116-b57c-0924c272d7c4",
   "metadata": {},
   "outputs": [
    {
     "name": "stdout",
     "output_type": "stream",
     "text": [
      "\t\u001b[0m.text\n",
      "\u001b[90m; ┌ @ In[58]:1 within `f'\u001b[39m\n",
      "\u001b[90m; │┌ @ intfuncs.jl:314 within `literal_pow'\u001b[39m\n",
      "\u001b[90m; ││┌ @ operators.jl:560 within `*' @ int.jl:88\u001b[39m\n",
      "\t\u001b[96m\u001b[1mmovl\u001b[22m\u001b[39m\t\u001b[0m%edi\u001b[0m, \u001b[0m%eax\n",
      "\t\u001b[96m\u001b[1mimull\u001b[22m\u001b[39m\t\u001b[0m%edi\u001b[0m, \u001b[0m%eax\n",
      "\t\u001b[96m\u001b[1mimull\u001b[22m\u001b[39m\t\u001b[0m%edi\u001b[0m, \u001b[0m%eax\n",
      "\u001b[90m; │└└\u001b[39m\n",
      "\u001b[90m; │┌ @ int.jl:921 within `+'\u001b[39m\n",
      "\u001b[90m; ││┌ @ int.jl:477 within `rem'\u001b[39m\n",
      "\t\u001b[96m\u001b[1mcltq\u001b[22m\u001b[39m\n",
      "\u001b[90m; │└└\u001b[39m\n",
      "\u001b[90m; │┌ @ int.jl:923 within `+' @ int.jl:87\u001b[39m\n",
      "\t\u001b[96m\u001b[1maddq\u001b[22m\u001b[39m\t\u001b[33m$5\u001b[39m\u001b[0m, \u001b[0m%rax\n",
      "\u001b[90m; │└\u001b[39m\n",
      "\t\u001b[96m\u001b[1mretq\u001b[22m\u001b[39m\n",
      "\t\u001b[96m\u001b[1mnop\u001b[22m\u001b[39m\n",
      "\u001b[90m; └\u001b[39m\n"
     ]
    }
   ],
   "source": [
    "code_native(f,(Int32,))"
   ]
  },
  {
   "cell_type": "code",
   "execution_count": 70,
   "id": "68a8dad7-80b6-4776-b5a8-48b8078c2d87",
   "metadata": {},
   "outputs": [
    {
     "name": "stdout",
     "output_type": "stream",
     "text": [
      "\t\u001b[0m.text\n",
      "\u001b[90m; ┌ @ In[58]:1 within `f'\u001b[39m\n",
      "\u001b[90m; │┌ @ intfuncs.jl:314 within `literal_pow'\u001b[39m\n",
      "\u001b[90m; ││┌ @ operators.jl:560 within `*' @ int.jl:88\u001b[39m\n",
      "\t\u001b[96m\u001b[1mmovl\u001b[22m\u001b[39m\t\u001b[0m%edi\u001b[0m, \u001b[0m%eax\n",
      "\t\u001b[96m\u001b[1mimull\u001b[22m\u001b[39m\t\u001b[0m%eax\u001b[0m, \u001b[0m%eax\n",
      "\t\u001b[96m\u001b[1mimull\u001b[22m\u001b[39m\t\u001b[0m%edi\u001b[0m, \u001b[0m%eax\n",
      "\u001b[90m; │└└\u001b[39m\n",
      "\u001b[90m; │┌ @ int.jl:921 within `+'\u001b[39m\n",
      "\u001b[90m; ││┌ @ int.jl:477 within `rem'\u001b[39m\n",
      "\t\u001b[96m\u001b[1mmovswq\u001b[22m\u001b[39m\t\u001b[0m%ax\u001b[0m, \u001b[0m%rax\n",
      "\u001b[90m; │└└\u001b[39m\n",
      "\u001b[90m; │┌ @ int.jl:923 within `+' @ int.jl:87\u001b[39m\n",
      "\t\u001b[96m\u001b[1maddq\u001b[22m\u001b[39m\t\u001b[33m$5\u001b[39m\u001b[0m, \u001b[0m%rax\n",
      "\u001b[90m; │└\u001b[39m\n",
      "\t\u001b[96m\u001b[1mretq\u001b[22m\u001b[39m\n",
      "\t\u001b[96m\u001b[1mnopw\u001b[22m\u001b[39m\t\u001b[0m%cs\u001b[0m:\u001b[33m(\u001b[39m\u001b[0m%rax\u001b[0m,\u001b[0m%rax\u001b[33m)\u001b[39m\n",
      "\u001b[90m; └\u001b[39m\n"
     ]
    }
   ],
   "source": [
    "code_native(f,(Int16,))"
   ]
  },
  {
   "cell_type": "code",
   "execution_count": 71,
   "id": "c6b9ffe3-f2ed-4509-b947-b4b44c6defa1",
   "metadata": {},
   "outputs": [
    {
     "name": "stdout",
     "output_type": "stream",
     "text": [
      "\t\u001b[0m.text\n",
      "\u001b[90m; ┌ @ In[58]:1 within `f'\u001b[39m\n",
      "\u001b[90m; │┌ @ intfuncs.jl:314 within `literal_pow'\u001b[39m\n",
      "\u001b[90m; ││┌ @ operators.jl:560 within `*' @ float.jl:331\u001b[39m\n",
      "\t\u001b[96m\u001b[1mvmulss\u001b[22m\u001b[39m\t\u001b[0m%xmm0\u001b[0m, \u001b[0m%xmm0\u001b[0m, \u001b[0m%xmm1\n",
      "\t\u001b[96m\u001b[1mvmulss\u001b[22m\u001b[39m\t\u001b[0m%xmm0\u001b[0m, \u001b[0m%xmm1\u001b[0m, \u001b[0m%xmm0\n",
      "\t\u001b[96m\u001b[1mmovabsq\u001b[22m\u001b[39m\t\u001b[93m$.rodata.cst4\u001b[39m\u001b[0m, \u001b[0m%rax\n",
      "\u001b[90m; │└└\u001b[39m\n",
      "\u001b[90m; │┌ @ promotion.jl:321 within `+' @ float.jl:325\u001b[39m\n",
      "\t\u001b[96m\u001b[1mvaddss\u001b[22m\u001b[39m\t\u001b[33m(\u001b[39m\u001b[0m%rax\u001b[33m)\u001b[39m\u001b[0m, \u001b[0m%xmm0\u001b[0m, \u001b[0m%xmm0\n",
      "\u001b[90m; │└\u001b[39m\n",
      "\t\u001b[96m\u001b[1mretq\u001b[22m\u001b[39m\n",
      "\t\u001b[96m\u001b[1mnopw\u001b[22m\u001b[39m\t\u001b[33m(\u001b[39m\u001b[0m%rax\u001b[0m,\u001b[0m%rax\u001b[33m)\u001b[39m\n",
      "\u001b[90m; └\u001b[39m\n"
     ]
    }
   ],
   "source": [
    "code_native(f,(Float32,))"
   ]
  },
  {
   "cell_type": "code",
   "execution_count": null,
   "id": "23e6db3a-d937-4eec-9579-220697e3cb3f",
   "metadata": {},
   "outputs": [],
   "source": []
  }
 ],
 "metadata": {
  "kernelspec": {
   "display_name": "Julia 1.6.4",
   "language": "julia",
   "name": "julia-1.6"
  },
  "language_info": {
   "file_extension": ".jl",
   "mimetype": "application/julia",
   "name": "julia",
   "version": "1.6.4"
  }
 },
 "nbformat": 4,
 "nbformat_minor": 5
}
