{
 "cells": [
  {
   "cell_type": "markdown",
   "id": "20400d4f-8e11-4f82-a922-f9c0999a35b2",
   "metadata": {},
   "source": [
    "# Control Flow"
   ]
  },
  {
   "cell_type": "markdown",
   "id": "da040718-d47d-4ee9-be45-5267c643116b",
   "metadata": {},
   "source": [
    "We will cover the following topics in this chapter:\n",
    "- Conditional evaluation\n",
    "- Repeated evaluation\n",
    "- Exception handling\n",
    "- Scope revisited\n",
    "- Tasks"
   ]
  },
  {
   "cell_type": "markdown",
   "id": "1b40d7f7-53cb-4db3-ac6e-8512bd8625bc",
   "metadata": {},
   "source": [
    "# Conditional evaluation"
   ]
  },
  {
   "cell_type": "markdown",
   "id": "e56d2008-cee5-413d-ad68-07654ef05923",
   "metadata": {},
   "source": [
    "Conditional evaluation means that pieces of code are evaluated, depending on whether a\n",
    "Boolean expression is either true or false. The familiar if...elseif...else...end\n",
    "syntax is used here, which is as follows:"
   ]
  },
  {
   "cell_type": "code",
   "execution_count": 2,
   "id": "8d74b26b-2b67-41b7-a142-8eaf83d1d725",
   "metadata": {},
   "outputs": [
    {
     "name": "stdout",
     "output_type": "stream",
     "text": [
      "what"
     ]
    }
   ],
   "source": [
    "var = 8\n",
    "if var < 10 \n",
    "    print(\"what\")\n",
    "elseif var > 14 \n",
    "    print(\"What do you want\")\n",
    "else\n",
    "    print(\"Get lost\")\n",
    "end"
   ]
  },
  {
   "cell_type": "markdown",
   "id": "9b5d2d7e-83ad-4083-8aac-9595562f17d7",
   "metadata": {},
   "source": [
    "The elseif (of which there can be more than one) or else branches are optional"
   ]
  },
  {
   "cell_type": "markdown",
   "id": "7f557c01-0759-4f4b-ab72-1036a390755c",
   "metadata": {},
   "source": [
    "Only one branch ever gets evaluated"
   ]
  },
  {
   "cell_type": "markdown",
   "id": "7ea161b2-43a7-47ad-bdde-8f6f3a78c489",
   "metadata": {},
   "source": [
    "No parentheses around\n",
    "condition(s) are needed, but they can be used for clarity."
   ]
  },
  {
   "cell_type": "markdown",
   "id": "872c2806-0a14-4676-bbb2-9097c7b7f7fb",
   "metadata": {},
   "source": [
    "Each expression tested must\n",
    "effectively result in a true or false value, and no other values (such as 0 or 1) are allowed."
   ]
  },
  {
   "cell_type": "code",
   "execution_count": 4,
   "id": "73d55ae4-cb1d-4d9f-84d8-2aa782dcc33d",
   "metadata": {},
   "outputs": [
    {
     "ename": "LoadError",
     "evalue": "TypeError: non-boolean (Int64) used in boolean context",
     "output_type": "error",
     "traceback": [
      "TypeError: non-boolean (Int64) used in boolean context",
      "",
      "Stacktrace:",
      " [1] top-level scope",
      "   @ In[4]:1",
      " [2] eval",
      "   @ ./boot.jl:373 [inlined]",
      " [3] include_string(mapexpr::typeof(REPL.softscope), mod::Module, code::String, filename::String)",
      "   @ Base ./loading.jl:1196"
     ]
    }
   ],
   "source": [
    "if 1 \n",
    "    print(\"what the heck\")\n",
    "end"
   ]
  },
  {
   "cell_type": "markdown",
   "id": "f5ee57db-dd59-4e7b-b9d2-74fc125e2297",
   "metadata": {},
   "source": [
    "Because every expression in Julia returns a value, so also does the if expression. We can\n",
    "use this expression to do an assignment depending on a condition. In the preceding case,\n",
    "the return value is nothing since that is what println returns."
   ]
  },
  {
   "cell_type": "code",
   "execution_count": 6,
   "id": "9064c560-cebc-4f1f-89ca-cb284d931595",
   "metadata": {},
   "outputs": [
    {
     "data": {
      "text/plain": [
       "10"
      ]
     },
     "execution_count": 6,
     "metadata": {},
     "output_type": "execute_result"
    }
   ],
   "source": [
    "a = 10\n",
    "b = 15\n",
    "c = if a > b b * a else a end\n",
    "    "
   ]
  },
  {
   "cell_type": "markdown",
   "id": "03c51dc6-4c3d-48a5-a7e2-7597bb6aff34",
   "metadata": {},
   "source": [
    "These kinds of expression can be simplified using the ternary operator ? (which we\n",
    "introduced in the Recursive functions section in Chapter 3, Functions) as follows:\n",
    "z = a > b ? a : b"
   ]
  },
  {
   "cell_type": "code",
   "execution_count": 8,
   "id": "6ee79b06-7424-4930-b7ed-e067409c09a6",
   "metadata": {},
   "outputs": [
    {
     "data": {
      "text/plain": [
       "10"
      ]
     },
     "execution_count": 8,
     "metadata": {},
     "output_type": "execute_result"
    }
   ],
   "source": [
    "c = a > b ? a * b : a"
   ]
  },
  {
   "cell_type": "markdown",
   "id": "a5f05c4a-057e-4176-9095-9e1d74750622",
   "metadata": {},
   "source": [
    "The ternary operator can be chained, but then it often\n",
    "becomes harder to read. Our first example can be rewritten as follows:"
   ]
  },
  {
   "cell_type": "code",
   "execution_count": 9,
   "id": "3b7abfaa-dece-4bfd-97d5-f54390131edf",
   "metadata": {},
   "outputs": [
    {
     "name": "stdout",
     "output_type": "stream",
     "text": [
      "var has value 7 and is smaller than 10\n"
     ]
    }
   ],
   "source": [
    "var = 7\n",
    "varout = \"var has value $var\"\n",
    "cond = var > 10 ? \"and is bigger than 10.\" : var < 10 ? \"and is smaller than 10\" : \"and is 10.\"\n",
    "println(\"$varout $cond\") # var has value 7 and is smaller than 10"
   ]
  },
  {
   "cell_type": "markdown",
   "id": "d381f0ac-27aa-4523-940d-f4ef980edbe6",
   "metadata": {},
   "source": [
    "Using short-circuit evaluation (refer to the Elementary mathematical functions section in\n",
    "Chapter 2, Variables, Types, and Operations), the statements with if...only are often\n",
    "written as follows:\n"
   ]
  },
  {
   "cell_type": "code",
   "execution_count": 10,
   "id": "a5d15d46-8814-4be7-a5cb-8c531a072dbf",
   "metadata": {},
   "outputs": [],
   "source": [
    "# - if <cond> <statement> end is written as <cond> && <statement\n",
    "# - if !<cond> <statement> end is written as <cond> || <statement>"
   ]
  },
  {
   "cell_type": "code",
   "execution_count": 12,
   "id": "ef149edb-769b-4bf1-81c5-c3269b08d4c0",
   "metadata": {},
   "outputs": [
    {
     "name": "stdout",
     "output_type": "stream",
     "text": [
      "WTF"
     ]
    }
   ],
   "source": [
    "var > 10 || print(\"WTF\")"
   ]
  },
  {
   "cell_type": "code",
   "execution_count": 14,
   "id": "725b584e-6bf2-4a53-bf30-8fae44b6c031",
   "metadata": {},
   "outputs": [
    {
     "data": {
      "text/plain": [
       "false"
      ]
     },
     "execution_count": 14,
     "metadata": {},
     "output_type": "execute_result"
    }
   ],
   "source": [
    "var > 10 && print(\"WTF\")"
   ]
  },
  {
   "cell_type": "markdown",
   "id": "cf84ce2b-aba1-4d26-828b-2fc7849d2438",
   "metadata": {},
   "source": [
    "This feature can come in handy when guarding the parameter values passed into the\n",
    "arguments, which calculates the square root, like in the following function:"
   ]
  },
  {
   "cell_type": "code",
   "execution_count": 14,
   "id": "e4786298-180a-4d29-9be4-71f4703971ec",
   "metadata": {},
   "outputs": [
    {
     "data": {
      "text/plain": [
       "sqroot (generic function with 1 method)"
      ]
     },
     "execution_count": 14,
     "metadata": {},
     "output_type": "execute_result"
    }
   ],
   "source": [
    "function sqroot(x::Int)\n",
    "    x => 0 || error(\"X must be greater than 0\")\n",
    "    x == 0 && return 0\n",
    "    return sqrt(x)\n",
    "end"
   ]
  },
  {
   "cell_type": "code",
   "execution_count": 20,
   "id": "531d3bee-b647-4959-8dab-64a90bad204d",
   "metadata": {},
   "outputs": [
    {
     "data": {
      "text/plain": [
       "0"
      ]
     },
     "execution_count": 20,
     "metadata": {},
     "output_type": "execute_result"
    }
   ],
   "source": [
    "sqroot(0)"
   ]
  },
  {
   "cell_type": "markdown",
   "id": "a95aff51-c7fe-4d1f-9014-60e13e4ea3aa",
   "metadata": {},
   "source": [
    "The error statement effectively throws an exception with the given message and stops the\n",
    "code execution"
   ]
  },
  {
   "cell_type": "markdown",
   "id": "164fdbb7-7487-434a-9906-b07dfbbdb003",
   "metadata": {},
   "source": [
    "# Repeated evaluation"
   ]
  },
  {
   "cell_type": "markdown",
   "id": "a39def78-cbf2-494c-99e3-47068f7abce3",
   "metadata": {},
   "source": [
    "Julia has a for loop for iterating over a collection or repeating some code a certain number\n",
    "of times. You can use a while loop when the repetition depends on a condition, and you\n",
    "can influence the execution of both loops through break and continue."
   ]
  },
  {
   "cell_type": "code",
   "execution_count": 22,
   "id": "e81a8658-82d8-441f-937f-03713262070a",
   "metadata": {},
   "outputs": [
    {
     "name": "stdout",
     "output_type": "stream",
     "text": [
      "This is not a message"
     ]
    }
   ],
   "source": [
    "message = \"This is not a message\"\n",
    "for s in message\n",
    "    print(s)\n",
    "end"
   ]
  },
  {
   "cell_type": "markdown",
   "id": "2c3171ad-4a75-42b2-9e8d-e86765b8895f",
   "metadata": {},
   "source": [
    "The variable s is not known outside the for loop.\n",
    "When iterating over a numeric range, often = (equal to) is used instead of in:"
   ]
  },
  {
   "cell_type": "code",
   "execution_count": 23,
   "id": "1420c0b8-ff7e-41f0-8a1f-060118b16deb",
   "metadata": {},
   "outputs": [
    {
     "name": "stdout",
     "output_type": "stream",
     "text": [
      "12345678910"
     ]
    }
   ],
   "source": [
    "for i in 1:10\n",
    "    print(i)\n",
    "end"
   ]
  },
  {
   "cell_type": "code",
   "execution_count": 31,
   "id": "74d42d9e-33ff-4117-8519-c60bf681920f",
   "metadata": {},
   "outputs": [
    {
     "name": "stdout",
     "output_type": "stream",
     "text": [
      "12345678910"
     ]
    }
   ],
   "source": [
    "for i = 1:10\n",
    "    print(i)\n",
    "end"
   ]
  },
  {
   "cell_type": "markdown",
   "id": "a399591a-eda0-41af-b3db-2db8937ee3f8",
   "metadata": {},
   "source": [
    "Use for i in 1:n rather than for i in [1:n] since the latter allocates\n",
    "an array while the former uses a simpler range object."
   ]
  },
  {
   "cell_type": "markdown",
   "id": "4243ab99-89b9-490f-a058-6e4e7b94b5a8",
   "metadata": {},
   "source": [
    "You can also use ϵ instead of in or =."
   ]
  },
  {
   "cell_type": "code",
   "execution_count": 32,
   "id": "cf65afa2-c244-4178-846f-aabf70085ec2",
   "metadata": {},
   "outputs": [
    {
     "ename": "LoadError",
     "evalue": "syntax: invalid iteration specification",
     "output_type": "error",
     "traceback": [
      "syntax: invalid iteration specification",
      "",
      "Stacktrace:",
      " [1] top-level scope",
      "   @ In[32]:1",
      " [2] eval",
      "   @ ./boot.jl:373 [inlined]",
      " [3] include_string(mapexpr::typeof(REPL.softscope), mod::Module, code::String, filename::String)",
      "   @ Base ./loading.jl:1196"
     ]
    }
   ],
   "source": [
    "for i ϵ 1:10\n",
    "    print(i)\n",
    "end"
   ]
  },
  {
   "cell_type": "markdown",
   "id": "6285b3c3-44ed-4dee-bd3b-53c1872ba3ee",
   "metadata": {},
   "source": [
    "WTF \n",
    "LIESSSSSSS"
   ]
  },
  {
   "cell_type": "markdown",
   "id": "7330a87d-1bff-4dc1-8ce8-a1debc4a69a0",
   "metadata": {},
   "source": [
    "If you need to know the index when iterating over the elements of an array, run the\n",
    "following code:"
   ]
  },
  {
   "cell_type": "code",
   "execution_count": 39,
   "id": "f4460b36-c3ed-4603-b73d-56d76f37a1ed",
   "metadata": {},
   "outputs": [
    {
     "name": "stdout",
     "output_type": "stream",
     "text": [
      "1 is the 1th value\n",
      "4 is the 2th value\n",
      "9 is the 3th value\n",
      "16 is the 4th value\n",
      "25 is the 5th value\n",
      "36 is the 6th value\n",
      "49 is the 7th value\n",
      "64 is the 8th value\n",
      "81 is the 9th value\n",
      "100 is the 10th value\n"
     ]
    }
   ],
   "source": [
    "arr = [x^2 for x in 1:10 ]\n",
    "for i in 1:length(arr)\n",
    "    print(\"$(arr[i]) is the $(i)th value\\n\")\n",
    "end"
   ]
  },
  {
   "cell_type": "markdown",
   "id": "a0159e88-d9f9-4e7c-b25c-c5336fd2d005",
   "metadata": {},
   "source": [
    "A more elegant way to accomplish this uses the enumerate function, as follows:"
   ]
  },
  {
   "cell_type": "code",
   "execution_count": 45,
   "id": "01bdf541-6771-427e-9af1-3189bc94b627",
   "metadata": {},
   "outputs": [
    {
     "name": "stdout",
     "output_type": "stream",
     "text": [
      "1 is the 1th value\n",
      "4 is the 2th value\n",
      "9 is the 3th value\n",
      "16 is the 4th value\n",
      "25 is the 5th value\n",
      "36 is the 6th value\n",
      "49 is the 7th value\n",
      "64 is the 8th value\n",
      "81 is the 9th value\n",
      "100 is the 10th value\n"
     ]
    }
   ],
   "source": [
    "for (id, value) in enumerate(arr)\n",
    "    print(\"$value is the $(id)th value\\n\")\n",
    "end"
   ]
  },
  {
   "cell_type": "markdown",
   "id": "60ab4bd0-9c70-4355-b61c-c0c6cfb21242",
   "metadata": {},
   "source": [
    "Nested for loops are possible, as in this code snippet, for a multiplication table:"
   ]
  },
  {
   "cell_type": "code",
   "execution_count": 48,
   "id": "51a47e74-bc26-4a7d-bd60-d92dcf8110eb",
   "metadata": {},
   "outputs": [
    {
     "name": "stdout",
     "output_type": "stream",
     "text": [
      "1 x 1 = 1, 2 x 1 = 2, 3 x 1 = 3, 4 x 1 = 4, 5 x 1 = 5, \n",
      "1 x 2 = 2, 2 x 2 = 4, 3 x 2 = 6, 4 x 2 = 8, 5 x 2 = 10, \n",
      "1 x 3 = 3, 2 x 3 = 6, 3 x 3 = 9, 4 x 3 = 12, 5 x 3 = 15, \n",
      "1 x 4 = 4, 2 x 4 = 8, 3 x 4 = 12, 4 x 4 = 16, 5 x 4 = 20, \n",
      "1 x 5 = 5, 2 x 5 = 10, 3 x 5 = 15, 4 x 5 = 20, 5 x 5 = 25, \n"
     ]
    }
   ],
   "source": [
    "for n = 1:5\n",
    "    for m = 1:5\n",
    "        print(\"$m x $n = $(m*n), \")\n",
    "    end\n",
    "    print(\"\\n\")\n",
    "end\n"
   ]
  },
  {
   "cell_type": "markdown",
   "id": "e6dee305-266b-4f71-9f76-6c62bd669073",
   "metadata": {},
   "source": [
    "However, nested for loops can often be combined into a single outer loop, as follows:"
   ]
  },
  {
   "cell_type": "code",
   "execution_count": 50,
   "id": "004e873e-50a5-43ae-9932-9ed9b18c7a2a",
   "metadata": {},
   "outputs": [
    {
     "name": "stdout",
     "output_type": "stream",
     "text": [
      "1 x 1 = 1, 2 x 1 = 2, 3 x 1 = 3, 4 x 1 = 4, 5 x 1 = 5, 6 x 1 = 6, 7 x 1 = 7, 8 x 1 = 8, 9 x 1 = 9, 10 x 1 = 10, \n",
      "2 x 2 = 4, 3 x 2 = 6, 4 x 2 = 8, 5 x 2 = 10, 6 x 2 = 12, 7 x 2 = 14, 8 x 2 = 16, 9 x 2 = 18, 10 x 2 = 20, \n",
      "3 x 3 = 9, 4 x 3 = 12, 5 x 3 = 15, 6 x 3 = 18, 7 x 3 = 21, 8 x 3 = 24, 9 x 3 = 27, 10 x 3 = 30, \n",
      "4 x 4 = 16, 5 x 4 = 20, 6 x 4 = 24, 7 x 4 = 28, 8 x 4 = 32, 9 x 4 = 36, 10 x 4 = 40, \n",
      "5 x 5 = 25, 6 x 5 = 30, 7 x 5 = 35, 8 x 5 = 40, 9 x 5 = 45, 10 x 5 = 50, \n"
     ]
    }
   ],
   "source": [
    "for n = 1:5, m = n:10\n",
    "    print(\"$m x $n = $(m*n), \")\n",
    "    if m == 10 print(\"\\n\") end\n",
    "end"
   ]
  },
  {
   "cell_type": "markdown",
   "id": "3bde7f51-23fe-4049-ae25-651137bc109a",
   "metadata": {},
   "source": [
    "# while loops"
   ]
  },
  {
   "cell_type": "markdown",
   "id": "50404206-77c7-4049-a932-3f428a6f0372",
   "metadata": {},
   "source": [
    "When you want to use looping as long as a condition stays true, use the while loop, which\n",
    "is as follows:"
   ]
  },
  {
   "cell_type": "code",
   "execution_count": 51,
   "id": "a64f7a8b-8303-46b6-8145-10ad2ae28932",
   "metadata": {},
   "outputs": [
    {
     "name": "stdout",
     "output_type": "stream",
     "text": [
      "10\n",
      "11\n",
      "12\n",
      "13\n",
      "14\n"
     ]
    }
   ],
   "source": [
    "a = 10; b = 15;\n",
    "while a < b\n",
    "    println(a)\n",
    "    global a += 1\n",
    "end"
   ]
  },
  {
   "cell_type": "markdown",
   "id": "cdd77704-2b80-444a-aee2-27338e3f7cb3",
   "metadata": {},
   "source": [
    "The global keyword makes a in the current scope refer to\n",
    "the global variable of that name."
   ]
  },
  {
   "cell_type": "code",
   "execution_count": 59,
   "id": "fbb69917-3d1e-4cae-8a20-b8eea3bd2b32",
   "metadata": {},
   "outputs": [
    {
     "name": "stdout",
     "output_type": "stream",
     "text": [
      "10, 9, 8, 7, 6, 5, 4, 3, 2, 1, "
     ]
    }
   ],
   "source": [
    "arr = collect(1:10)\n",
    "while !isempty(arr)\n",
    "#     print((pop!(arr)), \", \")\n",
    "    print(\"$(pop!(arr)), \")\n",
    "    \n",
    "end"
   ]
  },
  {
   "cell_type": "code",
   "execution_count": 60,
   "id": "38da57bb-cb47-4158-8907-fb2091992f7a",
   "metadata": {},
   "outputs": [
    {
     "data": {
      "text/plain": [
       "Int64[]"
      ]
     },
     "execution_count": 60,
     "metadata": {},
     "output_type": "execute_result"
    }
   ],
   "source": [
    "arr"
   ]
  },
  {
   "cell_type": "markdown",
   "id": "008a9f2e-2d44-4bf9-9443-0f88eb14a2cf",
   "metadata": {},
   "source": [
    "# The break statement"
   ]
  },
  {
   "cell_type": "code",
   "execution_count": 62,
   "id": "2d5f98e0-443f-4b83-9846-2ae94b1ef55e",
   "metadata": {},
   "outputs": [
    {
     "name": "stdout",
     "output_type": "stream",
     "text": [
      "10\n",
      "11\n",
      "12\n",
      "13\n",
      "14\n",
      "15\n",
      "16\n",
      "17\n",
      "18\n",
      "19\n",
      "20\n",
      "21\n",
      "22\n",
      "23\n",
      "24\n",
      "25\n",
      "26\n",
      "27\n",
      "28\n",
      "29\n",
      "30\n",
      "31\n",
      "32\n",
      "33\n",
      "34\n",
      "35\n",
      "36\n",
      "37\n",
      "38\n",
      "39\n",
      "40\n"
     ]
    }
   ],
   "source": [
    "a = 10; b = 150\n",
    "while a<b \n",
    "    println(a)\n",
    "    a += 1\n",
    "    if a > 40\n",
    "        break\n",
    "    end\n",
    "end"
   ]
  },
  {
   "cell_type": "code",
   "execution_count": 68,
   "id": "40797d06-18ec-47b7-b0d8-4dd0aefcfa3d",
   "metadata": {},
   "outputs": [
    {
     "name": "stdout",
     "output_type": "stream",
     "text": [
      "[5, 4, 6, 6, 6, 7, 5, 1, 2, 9]\n",
      "4 has been found at index 2"
     ]
    }
   ],
   "source": [
    "arr = rand(1:10,10)\n",
    "show(arr)\n",
    "search = 4\n",
    "for (idx, value) in enumerate(arr)\n",
    "    if value == search \n",
    "        print(\"\\n$search has been found at index $idx\")\n",
    "        break\n",
    "    end\n",
    "end\n",
    "\n",
    "        "
   ]
  },
  {
   "cell_type": "markdown",
   "id": "ab296e72-d945-48e3-b481-6697d1f4eddc",
   "metadata": {},
   "source": [
    "The break statement can be used in for loops as well as in while loops. It is, of course,\n",
    "mandatory in a while true...end loop."
   ]
  },
  {
   "cell_type": "markdown",
   "id": "669101f3-b47f-417c-a607-dd246920f66d",
   "metadata": {},
   "source": [
    "# The continue statement"
   ]
  },
  {
   "cell_type": "code",
   "execution_count": 70,
   "id": "925191e8-e24e-4387-8828-49d1584b793c",
   "metadata": {},
   "outputs": [
    {
     "name": "stdout",
     "output_type": "stream",
     "text": [
      "1238910"
     ]
    }
   ],
   "source": [
    "for i in 1:10\n",
    "    if 3 < i < 8 continue end\n",
    "    print(i)\n",
    "end\n"
   ]
  },
  {
   "cell_type": "markdown",
   "id": "69c2c9fd-e70b-4cc4-aeba-3482d30be219",
   "metadata": {},
   "source": [
    "# Exception handling"
   ]
  },
  {
   "cell_type": "markdown",
   "id": "bcf41368-cbe1-4d86-b3c7-d3dae416d707",
   "metadata": {},
   "source": [
    "When executing a program, abnormal conditions can occur that force the Julia runtime to\n",
    "throw an exception or error, show the exception message and the line where it occurred,\n",
    "and then exit"
   ]
  },
  {
   "cell_type": "markdown",
   "id": "5a752c87-c874-4193-8d04-86504dcbb8da",
   "metadata": {},
   "source": [
    "How can you signal an error condition yourself? You can call one of the built-in exceptions\n",
    "by throwing such an exception; that is, calling the throw function with the exception as an\n",
    "argument."
   ]
  },
  {
   "cell_type": "code",
   "execution_count": 92,
   "id": "18de47fb-01f4-4c1c-b4c3-64b46794944e",
   "metadata": {},
   "outputs": [
    {
     "name": "stdout",
     "output_type": "stream",
     "text": [
      "328108991012"
     ]
    }
   ],
   "source": [
    "\n",
    "numbers = rand(1:10,10)\n",
    "target = 4\n",
    "for i in numbers\n",
    "    print(i)\n",
    "    if i == target \n",
    "#         throw(\"WTF\")\n",
    "        throw(DomainError())\n",
    "    end\n",
    "end"
   ]
  },
  {
   "cell_type": "markdown",
   "id": "903da7db-4cf2-4e0c-823d-38a7689ad796",
   "metadata": {},
   "source": [
    "A rethrow() statement can be useful to hand the current exception to a higher calling code\n",
    "level."
   ]
  },
  {
   "cell_type": "markdown",
   "id": "3d1d263a-0822-4f58-aac7-a51e4ac538b2",
   "metadata": {},
   "source": [
    "Note that you can't give your own message as an argument to DomainError(). This is\n",
    "possible with the error(message) function (refer to the Conditional evaluation section) with\n",
    "a String message. This results in a program stopping with an ErrorException function\n",
    "and an ERROR: message message."
   ]
  },
  {
   "cell_type": "markdown",
   "id": "4d0de842-6405-4bc5-80c7-175580e01973",
   "metadata": {},
   "source": [
    "In order to catch and handle possible exceptions yourself so that the program can continue\n",
    "to run, Julia uses the familiar try...catch...finally construct, which includes the\n",
    "following:\n",
    "- The dangerous code that comes in the try block\n",
    "- The catch block that stops the exception and allows you to react to the code that\n",
    "threw the exception"
   ]
  },
  {
   "cell_type": "code",
   "execution_count": 99,
   "id": "725dcad7-6a14-4a82-ac85-10bc7c81c3e3",
   "metadata": {},
   "outputs": [
    {
     "name": "stdout",
     "output_type": "stream",
     "text": [
      "ArgumentError\n",
      "ArgumentError(\"array must be non-empty\")"
     ]
    }
   ],
   "source": [
    "a = []\n",
    "try \n",
    "    pop!(a)\n",
    "catch ex\n",
    "    println(typeof(ex))\n",
    "#     showerror(STDOUT,ex)\n",
    "    print(ex)\n",
    "end"
   ]
  },
  {
   "cell_type": "markdown",
   "id": "8481fb7a-f80b-4f63-b8eb-957bb1726d13",
   "metadata": {},
   "source": [
    "The showerror function is a\n",
    "handy function; its first argument can be any I/O stream, so it could be a file."
   ]
  },
  {
   "cell_type": "markdown",
   "id": "5a1ffebe-1554-4f88-b4b8-d912526920ff",
   "metadata": {},
   "source": [
    "To differentiate between the different types of exception in the catch block, you can use\n",
    "the following code:"
   ]
  },
  {
   "cell_type": "code",
   "execution_count": 101,
   "id": "41f6ea45-6d8f-4f45-a7cf-f17797c091c9",
   "metadata": {},
   "outputs": [],
   "source": [
    "# try\n",
    "#     # try this code\n",
    "#     catch ex\n",
    "#         if isa(ex, DomainError)\n",
    "#         # do this\n",
    "#         elseif isa(ex, BoundsError)\n",
    "#         # do this\n",
    "#         end\n",
    "# end"
   ]
  },
  {
   "cell_type": "markdown",
   "id": "64e951cc-ff7b-4a71-badc-70769b676e2e",
   "metadata": {},
   "source": [
    "Similar to if and while, try is an expression, so you can assign its return value to a\n",
    "variable. So, run the following code:"
   ]
  },
  {
   "cell_type": "code",
   "execution_count": 102,
   "id": "35af4822-6282-4bd2-a9a3-cbe00a10ef92",
   "metadata": {},
   "outputs": [
    {
     "data": {
      "text/plain": [
       "8"
      ]
     },
     "execution_count": 102,
     "metadata": {},
     "output_type": "execute_result"
    }
   ],
   "source": [
    "ret = try\n",
    "    global a = 4 * 2\n",
    "    catch ex\n",
    "end"
   ]
  },
  {
   "cell_type": "code",
   "execution_count": 103,
   "id": "b0c4dae4-2793-4a0b-98b2-d52396d6bd87",
   "metadata": {},
   "outputs": [
    {
     "data": {
      "text/plain": [
       "8"
      ]
     },
     "execution_count": 103,
     "metadata": {},
     "output_type": "execute_result"
    }
   ],
   "source": [
    "ret"
   ]
  },
  {
   "cell_type": "markdown",
   "id": "0fbc9f5d-6005-4a7b-841e-9c12bd7b1377",
   "metadata": {},
   "source": [
    "Sometimes, it is useful to have a set of statements to be executed no matter what, for\n",
    "example, to clean up resources."
   ]
  },
  {
   "cell_type": "markdown",
   "id": "bd1c8577-57c8-4c5d-894a-2ec2593afed1",
   "metadata": {},
   "source": [
    "Typical use cases are when reading from a file or a\n",
    "database. We want the file or the database connection to be closed after the execution,\n",
    "regardless of whether an error occurred while the file or database was being processed."
   ]
  },
  {
   "cell_type": "markdown",
   "id": "ece24bed-e22b-47ec-ae60-81087c33fce8",
   "metadata": {},
   "source": [
    "This is achieved with the finally clause of a try...catch...finally construct, as in\n",
    "the following code snippet:"
   ]
  },
  {
   "cell_type": "code",
   "execution_count": 111,
   "id": "c34dba75-eed1-4e5e-812e-e29325e89b38",
   "metadata": {},
   "outputs": [
    {
     "data": {
      "text/plain": [
       "IOStream(<file Untitled.ipynb>)"
      ]
     },
     "execution_count": 111,
     "metadata": {},
     "output_type": "execute_result"
    }
   ],
   "source": [
    "try\n",
    "     global f = open(\"Untitled.ipynb\") # returns an IOStream(<file file1.txt>)\n",
    "    # operate on file f\n",
    "    catch ex\n",
    "    finally\n",
    "    close(f)\n",
    "end"
   ]
  },
  {
   "cell_type": "code",
   "execution_count": 117,
   "id": "a5f6cb3e-900d-418c-932e-04f1a53758cc",
   "metadata": {},
   "outputs": [
    {
     "name": "stdout",
     "output_type": "stream",
     "text": [
      "\n",
      "Number of lines in file: 0\n"
     ]
    }
   ],
   "source": [
    "try\n",
    "    open(\"/home/javid/.bashrc\", \"r\") do f\n",
    "        k = 0\n",
    "        while(!eof(f))\n",
    "            a=readline(f)\n",
    "            println(a)\n",
    "            k += 1\n",
    "        end\n",
    "        println(\"\\nNumber of lines in file: $k\")\n",
    "    end\n",
    "    \n",
    "catch ex\n",
    "    \n",
    "finally\n",
    "    close(f)\n",
    "end"
   ]
  },
  {
   "cell_type": "markdown",
   "id": "038684ea-0405-4619-8f63-78cd736e75ad",
   "metadata": {},
   "source": [
    "It is important to realize that try...catch should not be used in\n",
    "performance bottlenecks, because the mechanism impedes performance.\n",
    "Whenever feasible, test a possible exception with normal conditional\n",
    "evaluation."
   ]
  },
  {
   "cell_type": "markdown",
   "id": "f7269391-327c-4c5a-a049-f3e53198327b",
   "metadata": {},
   "source": [
    "# Scope revisited"
   ]
  },
  {
   "cell_type": "markdown",
   "id": "0b4991ff-98f9-43b1-95ea-3a537f523465",
   "metadata": {},
   "source": [
    "A variable that is defined at the top level is said to have global scope."
   ]
  },
  {
   "cell_type": "markdown",
   "id": "84d8f40c-cb99-4b8f-8294-4cdd62acbb68",
   "metadata": {},
   "source": [
    "The for, while, and try blocks (but not the if blocks) all introduce a new scope. Variables\n",
    "defined in these blocks are only known to that scope. This is called the local scope, and\n",
    "nested blocks can introduce several levels of local scope. However, global variables are not\n",
    "accessible in for and while loops."
   ]
  },
  {
   "cell_type": "markdown",
   "id": "4ce35854-889b-4825-88e1-d1d06989c3d4",
   "metadata": {},
   "source": [
    "Variables with the same name in different scopes can safely be used simultaneously. If a\n",
    "variable exists both in global and local scope, you can decide which one you want to use by\n",
    "prefixing them with the global or local keyword:\n",
    "- global: This indicates that you want to use the variable from the outer, global\n",
    "scope. This applies to the whole of the current scope block.\n",
    "- local: This means that you want to define a new variable in the current scope."
   ]
  },
  {
   "cell_type": "code",
   "execution_count": 6,
   "id": "21720a6b-32f7-4335-9725-e4858470b2d1",
   "metadata": {},
   "outputs": [
    {
     "data": {
      "text/plain": [
       "9"
      ]
     },
     "execution_count": 6,
     "metadata": {},
     "output_type": "execute_result"
    }
   ],
   "source": [
    "x = 9"
   ]
  },
  {
   "cell_type": "code",
   "execution_count": 15,
   "id": "3c7dde99-411f-4146-99e5-f1ec7a70f8ba",
   "metadata": {},
   "outputs": [
    {
     "data": {
      "text/plain": [
       "funscope (generic function with 1 method)"
      ]
     },
     "execution_count": 15,
     "metadata": {},
     "output_type": "execute_result"
    }
   ],
   "source": [
    "function funscope(x)\n",
    "    x = 0\n",
    "    for i in 0:10\n",
    "        local x = i + 1\n",
    "        if x == 8\n",
    "            println(\"This is the local x in the for loop: $x\")\n",
    "        end\n",
    "    end\n",
    "    println(\"This is the local x in the the funscope function : $x\")\n",
    "    \n",
    "    println(\"This is the global x in the the funscope function : $(x)\")\n",
    "    \n",
    "    global x = 15\n",
    "end\n",
    "\n",
    "    \n",
    "    "
   ]
  },
  {
   "cell_type": "code",
   "execution_count": 11,
   "id": "c299c491-c8c1-4ed2-a531-205ce96654c5",
   "metadata": {},
   "outputs": [
    {
     "name": "stdout",
     "output_type": "stream",
     "text": [
      "This is the local x in the for loop: 8\n",
      "This is the local x in the the funscope function : 0\n",
      "This is the global x in the the funscope function : 0\n"
     ]
    },
    {
     "data": {
      "text/plain": [
       "15"
      ]
     },
     "execution_count": 11,
     "metadata": {},
     "output_type": "execute_result"
    }
   ],
   "source": [
    "funscope(10)"
   ]
  },
  {
   "cell_type": "code",
   "execution_count": 16,
   "id": "a1d8ad94-ddd7-49e7-b790-06e2ff62219b",
   "metadata": {},
   "outputs": [
    {
     "data": {
      "text/plain": [
       "funscope (generic function with 1 method)"
      ]
     },
     "execution_count": 16,
     "metadata": {},
     "output_type": "execute_result"
    }
   ],
   "source": [
    "function funscope(x)\n",
    "    x = 0\n",
    "    for i in 0:10\n",
    "        x = i + 1\n",
    "        if x == 8\n",
    "            println(\"This is the local x in the for loop: $x\")\n",
    "        end\n",
    "    end\n",
    "    println(\"This is the local x in the the funscope function : $x\")\n",
    "    \n",
    "    println(\"This is the global x in the the funscope function : $(x)\")\n",
    "    global x = 15\n",
    "end\n",
    "\n",
    "    \n",
    "    "
   ]
  },
  {
   "cell_type": "code",
   "execution_count": 17,
   "id": "9f547a25-57ee-4cb7-8420-d0002a8a094b",
   "metadata": {},
   "outputs": [
    {
     "name": "stdout",
     "output_type": "stream",
     "text": [
      "This is the local x in the for loop: 8\n",
      "This is the local x in the the funscope function : 11\n",
      "This is the global x in the the funscope function : 11\n"
     ]
    },
    {
     "data": {
      "text/plain": [
       "15"
      ]
     },
     "execution_count": 17,
     "metadata": {},
     "output_type": "execute_result"
    }
   ],
   "source": [
    "funscope(10)"
   ]
  },
  {
   "cell_type": "markdown",
   "id": "fc870181-24fe-4632-bd02-6d4d4a926fab",
   "metadata": {},
   "source": [
    "If you need to create a new local binding for a variable, use the let block. Execute the\n",
    "following code snippet:"
   ]
  },
  {
   "cell_type": "code",
   "execution_count": 47,
   "id": "1d567ec7-8ee1-41c2-bde7-8e209613b3c9",
   "metadata": {},
   "outputs": [
    {
     "name": "stdout",
     "output_type": "stream",
     "text": [
      "1\n",
      "2\n"
     ]
    }
   ],
   "source": [
    "anon = Array{Any}(undef, 2)\n",
    "for i = 1:2\n",
    "    anon[i] = ()-> println(i)\n",
    "    println(i)\n",
    "    i += 1\n",
    "end"
   ]
  },
  {
   "cell_type": "code",
   "execution_count": 48,
   "id": "829896a0-cd1b-4922-a4ff-9171104771c5",
   "metadata": {},
   "outputs": [
    {
     "name": "stdout",
     "output_type": "stream",
     "text": [
      "2\n"
     ]
    }
   ],
   "source": [
    "anon[1]()"
   ]
  },
  {
   "cell_type": "code",
   "execution_count": 49,
   "id": "8fede2c0-4f19-4e69-803f-b516e96e2b8f",
   "metadata": {},
   "outputs": [
    {
     "name": "stdout",
     "output_type": "stream",
     "text": [
      "3\n"
     ]
    }
   ],
   "source": [
    "anon[2]()"
   ]
  },
  {
   "cell_type": "markdown",
   "id": "d70e8474-78bb-411e-8510-b2cc39494e06",
   "metadata": {},
   "source": [
    "Strange whyyyyyyyyyy???????????/"
   ]
  },
  {
   "cell_type": "markdown",
   "id": "70c274e9-ac7f-4ba0-bb01-d869f82a879e",
   "metadata": {},
   "source": [
    "Here, both anon[1] and anon[2] are anonymous functions. When they are called with\n",
    "anon[1]() and anon[2](), they print 2 and 3 (the values of i when they were created\n",
    "plus one). What if you wanted them to stick with the value of i at the moment of their\n",
    "creation?"
   ]
  },
  {
   "cell_type": "code",
   "execution_count": 29,
   "id": "f1048ddc-25c5-4758-a7a8-5441ea68b347",
   "metadata": {},
   "outputs": [],
   "source": [
    "anon = Array{Any}(undef,2)\n",
    "for i in 1:2\n",
    "    let i = i\n",
    "        anon[i] = () -> print(i)\n",
    "    end\n",
    "end\n"
   ]
  },
  {
   "cell_type": "code",
   "execution_count": 30,
   "id": "f1079edb-573d-4429-816e-8bba08ab2989",
   "metadata": {},
   "outputs": [
    {
     "name": "stdout",
     "output_type": "stream",
     "text": [
      "1"
     ]
    }
   ],
   "source": [
    "anon[1]()"
   ]
  },
  {
   "cell_type": "code",
   "execution_count": 31,
   "id": "472c91e6-ebda-482a-af98-f92b188e704e",
   "metadata": {},
   "outputs": [
    {
     "name": "stdout",
     "output_type": "stream",
     "text": [
      "2"
     ]
    }
   ],
   "source": [
    "anon[2]()"
   ]
  },
  {
   "cell_type": "markdown",
   "id": "1524a831-440c-4cff-b736-c241d7f1474e",
   "metadata": {},
   "source": [
    "The let statement also introduces a new scope. You can, for example, combine it with\n",
    "begin, like this:"
   ]
  },
  {
   "cell_type": "code",
   "execution_count": 32,
   "id": "643065fd-2d15-47e4-a671-e0fb5c6f012b",
   "metadata": {},
   "outputs": [
    {
     "name": "stdout",
     "output_type": "stream",
     "text": [
      "2\n",
      "1\n"
     ]
    }
   ],
   "source": [
    "begin\n",
    "    local x = 1\n",
    "    let\n",
    "        local x = 2\n",
    "        println(x) #> 2\n",
    "    end\n",
    "    x\n",
    "    println(x) #> 1\n",
    "end"
   ]
  },
  {
   "cell_type": "markdown",
   "id": "81dbbfe0-2cdf-4c6a-96f2-e3286ec32c76",
   "metadata": {},
   "source": [
    "for loops and comprehensions differ in the way they scope an iteration variable. When i is\n",
    "initialized to 0 before a for loop, after executing for i = 1:10 end, the variable i is now\n",
    "10:"
   ]
  },
  {
   "cell_type": "code",
   "execution_count": 35,
   "id": "820364c7-3399-48f4-bca5-f7842a6c62e4",
   "metadata": {},
   "outputs": [
    {
     "name": "stdout",
     "output_type": "stream",
     "text": [
      "123456789100"
     ]
    }
   ],
   "source": [
    "i = 0\n",
    "for i = 1:10\n",
    "    print(i)\n",
    "end\n",
    "show(i)"
   ]
  },
  {
   "cell_type": "markdown",
   "id": "69876d66-c26b-4283-bc89-bec4473bd777",
   "metadata": {},
   "source": [
    " LIEEEEEEESSSSSSSSSSS"
   ]
  },
  {
   "cell_type": "markdown",
   "id": "9662ee61-0107-48aa-a2d8-8a5e973f64e1",
   "metadata": {},
   "source": [
    "After executing a comprehension such as [i for i = 1:10], the variable i is still 0:"
   ]
  },
  {
   "cell_type": "markdown",
   "id": "1d16d49d-e8da-4f48-b46d-89c232d0c5bf",
   "metadata": {},
   "source": [
    "### They are both the same and they don't change the value "
   ]
  },
  {
   "cell_type": "markdown",
   "id": "91d8000f-00a0-40f2-945f-b08d6aa1013a",
   "metadata": {},
   "source": [
    "# Tasks"
   ]
  },
  {
   "cell_type": "markdown",
   "id": "6d893c98-767f-4463-a4b6-e36400fce84f",
   "metadata": {},
   "source": [
    "Julia has a built-in system for running tasks, which are, in general, known as coroutines.\n",
    "With this, a computation that generates values into a Channel (with a put! function) can\n",
    "be suspended as a task, while a consumer task can pick up the values (with a take!\n",
    "function). This is similar to the yield keyword in Python."
   ]
  },
  {
   "cell_type": "code",
   "execution_count": 54,
   "id": "6c101bad-a1d5-41d9-b192-6b97b181d667",
   "metadata": {},
   "outputs": [
    {
     "data": {
      "text/plain": [
       "fib_producer (generic function with 1 method)"
      ]
     },
     "execution_count": 54,
     "metadata": {},
     "output_type": "execute_result"
    }
   ],
   "source": [
    "function fib_producer(c::Channel)\n",
    "    a, b = 0, 1\n",
    "    for i in 0:10\n",
    "        put!(c,b)\n",
    "        a, b = b, a + b\n",
    "    end\n",
    "end\n"
   ]
  },
  {
   "cell_type": "code",
   "execution_count": 73,
   "id": "6062e65f-2fb7-4d01-ac97-6627ddc08c3e",
   "metadata": {},
   "outputs": [
    {
     "data": {
      "text/plain": [
       "Channel{Any}(0) (1 item available)"
      ]
     },
     "execution_count": 73,
     "metadata": {},
     "output_type": "execute_result"
    }
   ],
   "source": [
    "chnl = Channel(fib_producer)"
   ]
  },
  {
   "cell_type": "code",
   "execution_count": 69,
   "id": "a5864d8e-143b-4edd-bb0d-9c5baacbd008",
   "metadata": {},
   "outputs": [
    {
     "data": {
      "text/plain": [
       "1"
      ]
     },
     "execution_count": 69,
     "metadata": {},
     "output_type": "execute_result"
    }
   ],
   "source": [
    "take!(chnl)"
   ]
  },
  {
   "cell_type": "code",
   "execution_count": 70,
   "id": "26f33e99-aa6f-4523-a158-35e45c1a11d8",
   "metadata": {},
   "outputs": [
    {
     "data": {
      "text/plain": [
       "1"
      ]
     },
     "execution_count": 70,
     "metadata": {},
     "output_type": "execute_result"
    }
   ],
   "source": [
    "take!(chnl)"
   ]
  },
  {
   "cell_type": "markdown",
   "id": "6587326f-ed2f-4f8b-93fa-ffca732777b3",
   "metadata": {},
   "source": [
    "It is as if the fib_producer function was able to return multiple times, once for each\n",
    "take! call. Between calls to fib_producer, its execution is suspended, and the consumer\n",
    "has control."
   ]
  },
  {
   "cell_type": "markdown",
   "id": "c70751f4-5751-4273-a735-c2de68ee874a",
   "metadata": {},
   "source": [
    "The same values can be more easily consumed in a for loop, where the loop variable\n",
    "becomes one by one the produced values:"
   ]
  },
  {
   "cell_type": "code",
   "execution_count": 74,
   "id": "c8c8746d-ec8d-4b2e-b4dd-0c89b2e26040",
   "metadata": {},
   "outputs": [
    {
     "name": "stdout",
     "output_type": "stream",
     "text": [
      "1, 1, 2, 3, 5, 8, 13, 21, 34, 55, 89, "
     ]
    }
   ],
   "source": [
    "for n in chnl\n",
    "    print(n, \", \")\n",
    "end"
   ]
  },
  {
   "cell_type": "markdown",
   "id": "1d41b43c-79fa-4133-9ed7-910440e721a0",
   "metadata": {},
   "source": [
    "There is a macro @task that does the same thing:"
   ]
  },
  {
   "cell_type": "code",
   "execution_count": 77,
   "id": "5a3fc23d-8577-41eb-bcfb-128c40d5eb16",
   "metadata": {},
   "outputs": [
    {
     "data": {
      "text/plain": [
       "Task (runnable) @0x00007fba84371fb0"
      ]
     },
     "execution_count": 77,
     "metadata": {},
     "output_type": "execute_result"
    }
   ],
   "source": [
    "chnl = @task fib_producer(c::Channel)"
   ]
  },
  {
   "cell_type": "code",
   "execution_count": 78,
   "id": "97ad6fa7-f2e9-4a5d-9aa3-e0a7ecb9bc35",
   "metadata": {},
   "outputs": [
    {
     "ename": "LoadError",
     "evalue": "MethodError: no method matching iterate(::Task)\n\u001b[0mClosest candidates are:\n\u001b[0m  iterate(\u001b[91m::Union{LinRange, StepRangeLen}\u001b[39m) at /usr/share/julia/base/range.jl:826\n\u001b[0m  iterate(\u001b[91m::Union{LinRange, StepRangeLen}\u001b[39m, \u001b[91m::Integer\u001b[39m) at /usr/share/julia/base/range.jl:826\n\u001b[0m  iterate(\u001b[91m::T\u001b[39m) where T<:Union{Base.KeySet{<:Any, <:Dict}, Base.ValueIterator{<:Dict}} at /usr/share/julia/base/dict.jl:695\n\u001b[0m  ...",
     "output_type": "error",
     "traceback": [
      "MethodError: no method matching iterate(::Task)\n\u001b[0mClosest candidates are:\n\u001b[0m  iterate(\u001b[91m::Union{LinRange, StepRangeLen}\u001b[39m) at /usr/share/julia/base/range.jl:826\n\u001b[0m  iterate(\u001b[91m::Union{LinRange, StepRangeLen}\u001b[39m, \u001b[91m::Integer\u001b[39m) at /usr/share/julia/base/range.jl:826\n\u001b[0m  iterate(\u001b[91m::T\u001b[39m) where T<:Union{Base.KeySet{<:Any, <:Dict}, Base.ValueIterator{<:Dict}} at /usr/share/julia/base/dict.jl:695\n\u001b[0m  ...",
      "",
      "Stacktrace:",
      " [1] top-level scope",
      "   @ ./In[78]:1",
      " [2] eval",
      "   @ ./boot.jl:373 [inlined]",
      " [3] include_string(mapexpr::typeof(REPL.softscope), mod::Module, code::String, filename::String)",
      "   @ Base ./loading.jl:1196"
     ]
    }
   ],
   "source": [
    "for n in chnl\n",
    "    print(n, \", \")\n",
    "end"
   ]
  },
  {
   "cell_type": "markdown",
   "id": "26a12340-cc4e-4f8a-be08-1ee74aec3180",
   "metadata": {},
   "source": [
    "????????????????\n"
   ]
  },
  {
   "cell_type": "markdown",
   "id": "2ed2a636-c735-4977-9dca-34f44364bdf0",
   "metadata": {},
   "source": [
    "Coroutines are not executed in different threads, so they cannot run on separate CPUs.\n",
    "Only one coroutine is running at once, but the language runtime switches between them.\n",
    "An internal scheduler controls a queue of runnable tasks and switches between them based\n",
    "on events, such as waiting for data, or data coming in."
   ]
  },
  {
   "cell_type": "markdown",
   "id": "d8ddb636-96ee-4c28-9e6e-2bef3ed06daf",
   "metadata": {},
   "source": [
    "Here is another example, which uses @async to start a task asynchronously, binds a\n",
    "channel to the task, and then prints out the contents of the channel:"
   ]
  },
  {
   "cell_type": "code",
   "execution_count": 79,
   "id": "9ba430cc-01e1-49e8-8760-23d9fbaf0e36",
   "metadata": {},
   "outputs": [
    {
     "name": "stdout",
     "output_type": "stream",
     "text": [
      "i = 1\n",
      "i = 2\n",
      "i = 6\n",
      "i = 24\n",
      "i = 120\n"
     ]
    }
   ],
   "source": [
    "fac(i::Integer) = (i > 1) ? i*fac(i - 1) : 1\n",
    "c = Channel(0)\n",
    "task = @async foreach(i->put!(c,fac(i)), 1:5)\n",
    "bind(c,task)\n",
    "for i in c\n",
    "    @show i\n",
    "end"
   ]
  },
  {
   "cell_type": "markdown",
   "id": "61b334ce-70f9-4602-a219-eac7995710b8",
   "metadata": {},
   "source": [
    "Tasks should be seen as a form of cooperative multitasking in a single thread. Switching\n",
    "between tasks does not consume stack space, unlike normal function calls. In general, tasks\n",
    "have very low overhead; so you can use lots of them if needed"
   ]
  },
  {
   "cell_type": "markdown",
   "id": "6890821c-7e67-4a54-a88a-d4b72c83de42",
   "metadata": {},
   "source": [
    "True parallelism in Julia is discussed in the Parallel operations and computing section of\n",
    "Chapter 8, IO, Networking, and Parallel Computing."
   ]
  },
  {
   "cell_type": "code",
   "execution_count": null,
   "id": "4df8ba7a-33ca-49da-b5ab-f5aef424ba2c",
   "metadata": {},
   "outputs": [],
   "source": []
  }
 ],
 "metadata": {
  "kernelspec": {
   "display_name": "Julia 1.6.4",
   "language": "julia",
   "name": "julia-1.6"
  },
  "language_info": {
   "file_extension": ".jl",
   "mimetype": "application/julia",
   "name": "julia",
   "version": "1.7.0"
  }
 },
 "nbformat": 4,
 "nbformat_minor": 5
}
