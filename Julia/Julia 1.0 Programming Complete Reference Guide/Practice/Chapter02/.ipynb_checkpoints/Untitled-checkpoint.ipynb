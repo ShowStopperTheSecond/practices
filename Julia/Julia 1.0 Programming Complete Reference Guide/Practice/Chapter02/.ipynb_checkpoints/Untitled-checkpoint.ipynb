{
 "cells": [
  {
   "cell_type": "markdown",
   "id": "931eac67-d440-47b8-82dc-3524553c082e",
   "metadata": {},
   "source": [
    "# Variables, naming conventions, and comments"
   ]
  },
  {
   "cell_type": "code",
   "execution_count": 2,
   "id": "18869682-5cd0-422a-a397-83f0043b159c",
   "metadata": {},
   "outputs": [
    {
     "data": {
      "text/plain": [
       "64"
      ]
     },
     "execution_count": 2,
     "metadata": {},
     "output_type": "execute_result"
    }
   ],
   "source": [
    "x = 64"
   ]
  },
  {
   "cell_type": "code",
   "execution_count": 3,
   "id": "9df2581a-a3fe-43de-ae6a-b4391e3b4e58",
   "metadata": {},
   "outputs": [
    {
     "data": {
      "text/plain": [
       "Int64"
      ]
     },
     "execution_count": 3,
     "metadata": {},
     "output_type": "execute_result"
    }
   ],
   "source": [
    "typeof(x)"
   ]
  },
  {
   "cell_type": "code",
   "execution_count": 5,
   "id": "3fd6d9a5-d39b-4d4f-9ea7-c1ae4aed6023",
   "metadata": {},
   "outputs": [
    {
     "data": {
      "text/plain": [
       "\"WTF\""
      ]
     },
     "execution_count": 5,
     "metadata": {},
     "output_type": "execute_result"
    }
   ],
   "source": [
    "s = \"WTF\""
   ]
  },
  {
   "cell_type": "code",
   "execution_count": 6,
   "id": "fc719ae9-d453-43db-89c1-a1d6759e1c5f",
   "metadata": {},
   "outputs": [
    {
     "data": {
      "text/plain": [
       "String"
      ]
     },
     "execution_count": 6,
     "metadata": {},
     "output_type": "execute_result"
    }
   ],
   "source": [
    "typeof(s)"
   ]
  },
  {
   "cell_type": "code",
   "execution_count": 7,
   "id": "07c3ceef-e4df-48e6-951d-09affc7ac949",
   "metadata": {},
   "outputs": [
    {
     "ename": "LoadError",
     "evalue": "MethodError: no method matching +(::Int64, ::String)\n\u001b[0mClosest candidates are:\n\u001b[0m  +(::Any, ::Any, \u001b[91m::Any\u001b[39m, \u001b[91m::Any...\u001b[39m) at operators.jl:560\n\u001b[0m  +(::T, \u001b[91m::T\u001b[39m) where T<:Union{Int128, Int16, Int32, Int64, Int8, UInt128, UInt16, UInt32, UInt64, UInt8} at int.jl:87\n\u001b[0m  +(::Union{Int16, Int32, Int64, Int8}, \u001b[91m::BigInt\u001b[39m) at gmp.jl:534\n\u001b[0m  ...",
     "output_type": "error",
     "traceback": [
      "MethodError: no method matching +(::Int64, ::String)\n\u001b[0mClosest candidates are:\n\u001b[0m  +(::Any, ::Any, \u001b[91m::Any\u001b[39m, \u001b[91m::Any...\u001b[39m) at operators.jl:560\n\u001b[0m  +(::T, \u001b[91m::T\u001b[39m) where T<:Union{Int128, Int16, Int32, Int64, Int8, UInt128, UInt16, UInt32, UInt64, UInt8} at int.jl:87\n\u001b[0m  +(::Union{Int16, Int32, Int64, Int8}, \u001b[91m::BigInt\u001b[39m) at gmp.jl:534\n\u001b[0m  ...",
      "",
      "Stacktrace:",
      " [1] top-level scope",
      "   @ In[7]:1",
      " [2] eval",
      "   @ ./boot.jl:360 [inlined]",
      " [3] include_string(mapexpr::typeof(REPL.softscope), mod::Module, code::String, filename::String)",
      "   @ Base ./loading.jl:1116"
     ]
    }
   ],
   "source": [
    "x + s"
   ]
  },
  {
   "cell_type": "code",
   "execution_count": 8,
   "id": "8df8a6fb-151b-4a87-a8c4-0d79013c78e2",
   "metadata": {},
   "outputs": [
    {
     "data": {
      "text/plain": [
       "3.9"
      ]
     },
     "execution_count": 8,
     "metadata": {},
     "output_type": "execute_result"
    }
   ],
   "source": [
    "y = 3.90"
   ]
  },
  {
   "cell_type": "code",
   "execution_count": 9,
   "id": "b33a2922-53cf-4d04-b065-7443d3a4e18c",
   "metadata": {},
   "outputs": [
    {
     "data": {
      "text/plain": [
       "67.9"
      ]
     },
     "execution_count": 9,
     "metadata": {},
     "output_type": "execute_result"
    }
   ],
   "source": [
    "x + y"
   ]
  },
  {
   "cell_type": "code",
   "execution_count": 10,
   "id": "e1bea58a-223c-4969-bba2-8fb0474d30cf",
   "metadata": {},
   "outputs": [],
   "source": [
    "# what the heck is going on here"
   ]
  },
  {
   "cell_type": "code",
   "execution_count": 11,
   "id": "62616f16-0aa0-4514-8643-833c1df60c63",
   "metadata": {},
   "outputs": [],
   "source": [
    "#= This is \n",
    "    a \n",
    "    multiline \n",
    "    comment =#"
   ]
  },
  {
   "cell_type": "code",
   "execution_count": 17,
   "id": "18ad8468-5712-43a5-b601-bdfb1892c149",
   "metadata": {},
   "outputs": [
    {
     "name": "stdout",
     "output_type": "stream",
     "text": [
      "64WTF"
     ]
    }
   ],
   "source": [
    "print(x,s)"
   ]
  },
  {
   "cell_type": "code",
   "execution_count": 15,
   "id": "972e467e-9d6b-446d-a112-d4bfa4836db5",
   "metadata": {},
   "outputs": [
    {
     "name": "stdout",
     "output_type": "stream",
     "text": [
      "64WTF3.9\n"
     ]
    }
   ],
   "source": [
    "println()"
   ]
  },
  {
   "cell_type": "code",
   "execution_count": 20,
   "id": "81ef089c-7925-4f72-9097-19e8b3696ffd",
   "metadata": {},
   "outputs": [
    {
     "name": "stdout",
     "output_type": "stream",
     "text": [
      "\u001b[39mWhat the heck is going on here\u001b[39m"
     ]
    }
   ],
   "source": [
    "printstyled(\"What the heck is going on here\",color=:purple)"
   ]
  },
  {
   "cell_type": "code",
   "execution_count": 21,
   "id": "19e47ec7-1e31-4a5a-af9e-38a32e701298",
   "metadata": {},
   "outputs": [
    {
     "data": {
      "text/plain": [
       "display (generic function with 30 methods)"
      ]
     },
     "metadata": {},
     "output_type": "display_data"
    }
   ],
   "source": [
    "display(display)"
   ]
  },
  {
   "cell_type": "code",
   "execution_count": 24,
   "id": "90b24d68-e31e-45ae-a6e0-b202ff5ee086",
   "metadata": {},
   "outputs": [
    {
     "name": "stdout",
     "output_type": "stream",
     "text": [
      "\"What the heck is going on here\""
     ]
    }
   ],
   "source": [
    "show(\"What the heck is going on here\")"
   ]
  },
  {
   "cell_type": "markdown",
   "id": "04096e3c-a7d7-4244-9dd2-c46d9451700c",
   "metadata": {},
   "source": [
    "# Types"
   ]
  },
  {
   "cell_type": "code",
   "execution_count": 39,
   "id": "329cf914-af22-4825-a5d0-253dbc620ebe",
   "metadata": {},
   "outputs": [
    {
     "data": {
      "text/plain": [
       "89"
      ]
     },
     "execution_count": 39,
     "metadata": {},
     "output_type": "execute_result"
    }
   ],
   "source": [
    "x = 89\n"
   ]
  },
  {
   "cell_type": "code",
   "execution_count": 40,
   "id": "5d2d74a4-3bb9-4756-86cf-91a531fa0a7f",
   "metadata": {},
   "outputs": [
    {
     "data": {
      "text/plain": [
       "\"String\""
      ]
     },
     "execution_count": 40,
     "metadata": {},
     "output_type": "execute_result"
    }
   ],
   "source": [
    "x = \"String\""
   ]
  },
  {
   "cell_type": "code",
   "execution_count": 42,
   "id": "dd6ca27d-c6f5-4916-b3ff-68e12352dc6c",
   "metadata": {},
   "outputs": [
    {
     "ename": "LoadError",
     "evalue": "syntax: extra token \"x\" after end of expression",
     "output_type": "error",
     "traceback": [
      "syntax: extra token \"x\" after end of expression",
      "",
      "Stacktrace:",
      " [1] top-level scope",
      "   @ In[42]:1",
      " [2] eval",
      "   @ ./boot.jl:360 [inlined]",
      " [3] include_string(mapexpr::typeof(REPL.softscope), mod::Module, code::String, filename::String)",
      "   @ Base ./loading.jl:1116"
     ]
    }
   ],
   "source": [
    "Int64 x  = 34"
   ]
  },
  {
   "cell_type": "code",
   "execution_count": 32,
   "id": "2b18860f-7772-407e-b8d8-2da9671a0bec",
   "metadata": {},
   "outputs": [
    {
     "data": {
      "text/plain": [
       "f (generic function with 2 methods)"
      ]
     },
     "execution_count": 32,
     "metadata": {},
     "output_type": "execute_result"
    }
   ],
   "source": [
    "f(x::Float64) = 2*x^8"
   ]
  },
  {
   "cell_type": "code",
   "execution_count": 33,
   "id": "498724f1-313b-497b-ba1c-d82ba6f9e281",
   "metadata": {},
   "outputs": [
    {
     "data": {
      "text/plain": [
       "13122"
      ]
     },
     "execution_count": 33,
     "metadata": {},
     "output_type": "execute_result"
    }
   ],
   "source": [
    "f(3)"
   ]
  },
  {
   "cell_type": "code",
   "execution_count": 38,
   "id": "dc0a481d-6943-4099-a59e-1ed4d91e274a",
   "metadata": {},
   "outputs": [
    {
     "data": {
      "text/plain": [
       "2"
      ]
     },
     "execution_count": 38,
     "metadata": {},
     "output_type": "execute_result"
    }
   ],
   "source": [
    "(89%3) :: Int64"
   ]
  },
  {
   "cell_type": "markdown",
   "id": "1d5f1b00-f374-417d-8e27-c4e0383d2c70",
   "metadata": {},
   "source": [
    " If you don't specify the type of a function argument, it has the Any type,"
   ]
  },
  {
   "cell_type": "markdown",
   "id": "89d958e3-ce8d-44c8-a152-4b24575cdc46",
   "metadata": {},
   "source": [
    " At the other end of the spectrum, there is type Nothing, which has no values."
   ]
  },
  {
   "cell_type": "markdown",
   "id": "54f7c72e-ce20-43c0-8dca-bd0f73b1e11a",
   "metadata": {},
   "source": [
    " By convention, the names of\n",
    "types begin with a capital letter, and if necessary, the word separation is shown with\n",
    "CamelCase, such as BigFloat or AbstractArray."
   ]
  },
  {
   "cell_type": "markdown",
   "id": "b2f9acb3-ce0c-487e-86c8-27af16e97565",
   "metadata": {},
   "source": [
    "If x is a variable, then typeof(x) gives its type, and isa(x, T) tests whether x is of type\n",
    "T."
   ]
  },
  {
   "cell_type": "code",
   "execution_count": 43,
   "id": "007c6d6f-6cb2-4c06-b95e-e72a30382ea6",
   "metadata": {},
   "outputs": [
    {
     "data": {
      "text/plain": [
       "true"
      ]
     },
     "execution_count": 43,
     "metadata": {},
     "output_type": "execute_result"
    }
   ],
   "source": [
    "isa(s,String)"
   ]
  },
  {
   "cell_type": "markdown",
   "id": "53e30a7e-acd4-4d73-a5d0-e8334603d629",
   "metadata": {},
   "source": [
    "Everything in Julia has a type, including types themselves, which are of type DataType:\n",
    "typeof(Int64) returns DataType"
   ]
  },
  {
   "cell_type": "markdown",
   "id": "8555e50a-57f8-492b-8569-3426e50923a4",
   "metadata": {},
   "source": [
    "Conversion of a variable var to a type Type1 can be\n",
    "done using the type name as a function, such as Type1(var). For example, Int64(3.0)\n",
    "returns 3."
   ]
  },
  {
   "cell_type": "code",
   "execution_count": 51,
   "id": "fa90727f-46df-4f07-beee-d7641676de34",
   "metadata": {},
   "outputs": [
    {
     "data": {
      "text/plain": [
       "29"
      ]
     },
     "execution_count": 51,
     "metadata": {},
     "output_type": "execute_result"
    }
   ],
   "source": [
    "Int64(29.0)"
   ]
  },
  {
   "cell_type": "code",
   "execution_count": 49,
   "id": "943b33fb-0ffa-463e-8d1c-4ad17ce02104",
   "metadata": {},
   "outputs": [
    {
     "ename": "LoadError",
     "evalue": "InexactError: Int64(1839.23)",
     "output_type": "error",
     "traceback": [
      "InexactError: Int64(1839.23)",
      "",
      "Stacktrace:",
      " [1] Int64(x::Float64)",
      "   @ Base ./float.jl:723",
      " [2] top-level scope",
      "   @ In[49]:1",
      " [3] eval",
      "   @ ./boot.jl:360 [inlined]",
      " [4] include_string(mapexpr::typeof(REPL.softscope), mod::Module, code::String, filename::String)",
      "   @ Base ./loading.jl:1116"
     ]
    }
   ],
   "source": [
    "Int64(1839.23)"
   ]
  },
  {
   "cell_type": "code",
   "execution_count": 50,
   "id": "6799044e-af39-4ed4-a50d-875e60aafbf0",
   "metadata": {},
   "outputs": [
    {
     "ename": "LoadError",
     "evalue": "MethodError: no method matching String(::Char)\n\u001b[0mClosest candidates are:\n\u001b[0m  String(\u001b[91m::String\u001b[39m) at boot.jl:350\n\u001b[0m  String(\u001b[91m::Vector{UInt8}\u001b[39m) at strings/string.jl:53\n\u001b[0m  String(\u001b[91m::Symbol\u001b[39m) at strings/string.jl:83\n\u001b[0m  ...",
     "output_type": "error",
     "traceback": [
      "MethodError: no method matching String(::Char)\n\u001b[0mClosest candidates are:\n\u001b[0m  String(\u001b[91m::String\u001b[39m) at boot.jl:350\n\u001b[0m  String(\u001b[91m::Vector{UInt8}\u001b[39m) at strings/string.jl:53\n\u001b[0m  String(\u001b[91m::Symbol\u001b[39m) at strings/string.jl:83\n\u001b[0m  ...",
      "",
      "Stacktrace:",
      " [1] top-level scope",
      "   @ In[50]:1",
      " [2] eval",
      "   @ ./boot.jl:360 [inlined]",
      " [3] include_string(mapexpr::typeof(REPL.softscope), mod::Module, code::String, filename::String)",
      "   @ Base ./loading.jl:1116"
     ]
    }
   ],
   "source": [
    "String('s')"
   ]
  },
  {
   "cell_type": "markdown",
   "id": "8cdb52be-eaf3-427a-aabb-324ede698e3b",
   "metadata": {},
   "source": [
    "# Integers"
   ]
  },
  {
   "cell_type": "markdown",
   "id": "8a3fc24f-929d-4850-8641-5b3ed38a948c",
   "metadata": {},
   "source": [
    "Julia offers support for integer numbers ranging from types Int8 to Int128, with 8 to 128\n",
    "representing the number of bits used, and with unsigned variants with a U prefix, such as\n",
    "UInt8."
   ]
  },
  {
   "cell_type": "markdown",
   "id": "28f0d7b2-d7e8-458c-9fd4-197b52d8365a",
   "metadata": {},
   "source": [
    "The default type (which can also be used as Int) is Int32 or Int64, depending on\n",
    "the target machine architecture."
   ]
  },
  {
   "cell_type": "markdown",
   "id": "ae6e948d-a348-4646-aaac-966901a2f242",
   "metadata": {},
   "source": [
    "The bit width is given by the Sys.WORD_SIZE variable"
   ]
  },
  {
   "cell_type": "code",
   "execution_count": 1,
   "id": "d8728b70-d76d-4c75-aab7-4eada81c5565",
   "metadata": {},
   "outputs": [
    {
     "data": {
      "text/plain": [
       "64"
      ]
     },
     "execution_count": 1,
     "metadata": {},
     "output_type": "execute_result"
    }
   ],
   "source": [
    "Sys.WORD_SIZE"
   ]
  },
  {
   "cell_type": "markdown",
   "id": "60fdceaf-5806-4dda-840a-e5b9daa4923b",
   "metadata": {},
   "source": [
    "The minimum and maximum values are given by the typemin() and\n",
    "typemax() functions, respectively"
   ]
  },
  {
   "cell_type": "code",
   "execution_count": 4,
   "id": "4922b917-71d5-4024-b5f2-9540b1b4c1ce",
   "metadata": {},
   "outputs": [
    {
     "data": {
      "text/plain": [
       "0x00"
      ]
     },
     "execution_count": 4,
     "metadata": {},
     "output_type": "execute_result"
    }
   ],
   "source": [
    "typemin(Int8)"
   ]
  },
  {
   "cell_type": "code",
   "execution_count": 7,
   "id": "4eb614b3-5cd0-4263-a72a-5223b6d12b10",
   "metadata": {},
   "outputs": [
    {
     "data": {
      "text/plain": [
       "127"
      ]
     },
     "execution_count": 7,
     "metadata": {},
     "output_type": "execute_result"
    }
   ],
   "source": [
    "typemax(Int8)"
   ]
  },
  {
   "cell_type": "markdown",
   "id": "97c9734f-7abf-4982-ad32-024980f1a876",
   "metadata": {},
   "source": [
    "If you try to store a number larger than that allowed by typemax, overflow occurs"
   ]
  },
  {
   "cell_type": "markdown",
   "id": "66c79bf7-c539-4063-b3a4-413e22f20d9b",
   "metadata": {},
   "source": [
    "Integers can also be written in binary (0b), octal\n",
    "(0o), and hexadecimal (0x) format."
   ]
  },
  {
   "cell_type": "code",
   "execution_count": 8,
   "id": "7d040c6a-5bdf-41ea-8823-7d4e79c0f740",
   "metadata": {},
   "outputs": [
    {
     "data": {
      "text/plain": [
       "0x54aa"
      ]
     },
     "execution_count": 8,
     "metadata": {},
     "output_type": "execute_result"
    }
   ],
   "source": [
    "0b101010010101010"
   ]
  },
  {
   "cell_type": "code",
   "execution_count": 9,
   "id": "fc93174d-a2e5-49bb-9760-65b5d9ee2c1c",
   "metadata": {},
   "outputs": [
    {
     "data": {
      "text/plain": [
       "0x00000002d1aca7a9"
      ]
     },
     "execution_count": 9,
     "metadata": {},
     "output_type": "execute_result"
    }
   ],
   "source": [
    "0o132153123651"
   ]
  },
  {
   "cell_type": "code",
   "execution_count": 10,
   "id": "59ffe343-db6d-4410-a338-10ecd7cf98c1",
   "metadata": {},
   "outputs": [
    {
     "data": {
      "text/plain": [
       "0x0000000231768abe"
      ]
     },
     "execution_count": 10,
     "metadata": {},
     "output_type": "execute_result"
    }
   ],
   "source": [
    "0x231768abe"
   ]
  },
  {
   "cell_type": "markdown",
   "id": "b39821d7-0f76-4902-9d4b-790ac40dc1ed",
   "metadata": {},
   "source": [
    "For computations needing arbitrary-precision integers, Julia has a BigInt type. These\n",
    "values can be constructed as BigInt(number) or big(number), and support the same\n",
    "operators as normal integers."
   ]
  },
  {
   "cell_type": "code",
   "execution_count": 12,
   "id": "743ce864-6afb-42f5-9597-039c047d4af2",
   "metadata": {},
   "outputs": [
    {
     "data": {
      "text/plain": [
       "71209837239487198649187309871092386409187209387409817209387409817203984016293740817293460918720934861927394710982709348609182039487"
      ]
     },
     "execution_count": 12,
     "metadata": {},
     "output_type": "execute_result"
    }
   ],
   "source": [
    "a = BigInt(71209837239487198649187309871092386409187209387409817209387409817203984016293740817293460918720934861927394710982709348609182039487)"
   ]
  },
  {
   "cell_type": "code",
   "execution_count": 13,
   "id": "100d65c7-9798-486e-a5e2-a4b1eecdbdee",
   "metadata": {},
   "outputs": [
    {
     "data": {
      "text/plain": [
       "BigInt"
      ]
     },
     "execution_count": 13,
     "metadata": {},
     "output_type": "execute_result"
    }
   ],
   "source": [
    "typeof(a)"
   ]
  },
  {
   "cell_type": "markdown",
   "id": "a6ded4c7-e310-462c-a693-0828e2efa447",
   "metadata": {},
   "source": [
    "Conversions between numeric types are automatic, but not\n",
    "between the primitive types and the big types"
   ]
  },
  {
   "cell_type": "markdown",
   "id": "8874b749-8d93-4ba6-96f8-78a48be242b6",
   "metadata": {},
   "source": [
    "The normal operations of addition (+),\n",
    "subtraction (-), and multiplication (*) apply for integers. A division (/) always gives a\n",
    "floating point number"
   ]
  },
  {
   "cell_type": "markdown",
   "id": "5159558c-2b29-41d6-b3fc-9898397c8dae",
   "metadata": {},
   "source": [
    "If you only want integer divisor and remainder, use div and rem.\n",
    "The symbol ^ is used to obtain the power of a number."
   ]
  },
  {
   "cell_type": "code",
   "execution_count": 14,
   "id": "bf0575b4-a93a-4208-98fd-6de8ff246a33",
   "metadata": {},
   "outputs": [
    {
     "data": {
      "text/plain": [
       "4"
      ]
     },
     "execution_count": 14,
     "metadata": {},
     "output_type": "execute_result"
    }
   ],
   "source": [
    "div(9,2)"
   ]
  },
  {
   "cell_type": "code",
   "execution_count": 15,
   "id": "1cf5d355-1fab-4c98-8d9a-377ee9b8be64",
   "metadata": {},
   "outputs": [
    {
     "data": {
      "text/plain": [
       "1"
      ]
     },
     "execution_count": 15,
     "metadata": {},
     "output_type": "execute_result"
    }
   ],
   "source": [
    "rem(9,2)"
   ]
  },
  {
   "cell_type": "markdown",
   "id": "d969b064-b9d0-4271-81c5-6b8d9c57f234",
   "metadata": {},
   "source": [
    "The logical values, true and false, of type Bool are also integers with 8 bits"
   ]
  },
  {
   "cell_type": "markdown",
   "id": "fce333fe-4213-47c1-91f3-79aacf66d41f",
   "metadata": {},
   "source": [
    "0 amounts to\n",
    "false, and 1 to true"
   ]
  },
  {
   "cell_type": "markdown",
   "id": "e7ed95d5-ba2b-4624-bbaf-858a471617dd",
   "metadata": {},
   "source": [
    "Negation can be done with the ! operator; for example, !true is\n",
    "false. Comparing numbers with == (equal), != or < and > returns a Bool value, and\n",
    "comparisons can be chained after one another (as in 0 < x < 3)."
   ]
  },
  {
   "cell_type": "markdown",
   "id": "77e6bef3-f9b7-4311-b3eb-6ea0d6fdca4e",
   "metadata": {},
   "source": [
    "# Floating point numbers"
   ]
  },
  {
   "cell_type": "markdown",
   "id": "fc0ad30c-479d-4a05-abdb-7c29dc655bb5",
   "metadata": {},
   "source": [
    "Floating point numbers follow the IEEE 754 standard and represent numbers with a\n",
    "decimal point, such as 3.14, or an exponent notation, such as 4e-14, and come in the types\n",
    "Float16 up to Float64, the last one being used for double precision."
   ]
  },
  {
   "cell_type": "code",
   "execution_count": 18,
   "id": "d8403758-969d-448e-b9a3-86225cb84126",
   "metadata": {},
   "outputs": [
    {
     "data": {
      "text/plain": [
       "3.7e-15"
      ]
     },
     "execution_count": 18,
     "metadata": {},
     "output_type": "execute_result"
    }
   ],
   "source": [
    "37e-16"
   ]
  },
  {
   "cell_type": "markdown",
   "id": "943879b8-8115-4148-bac3-9f8ad292bad3",
   "metadata": {},
   "source": [
    "Single precision is achieved through the use of the Float32 type."
   ]
  },
  {
   "cell_type": "markdown",
   "id": "683c4b31-a04e-48b6-b806-43363dfd72ad",
   "metadata": {},
   "source": [
    "Single precision float\n",
    "literals must be written in scientific notation, such as 3.14f0, but with f, where one\n",
    "normally uses e"
   ]
  },
  {
   "cell_type": "code",
   "execution_count": 19,
   "id": "bbdb6975-6513-4a7e-b76d-f423c56bc0bb",
   "metadata": {},
   "outputs": [
    {
     "data": {
      "text/plain": [
       "0.001f0"
      ]
     },
     "execution_count": 19,
     "metadata": {},
     "output_type": "execute_result"
    }
   ],
   "source": [
    "a = 1f-3"
   ]
  },
  {
   "cell_type": "code",
   "execution_count": 20,
   "id": "172741ab-2d53-4ea8-9ab5-8c45ecccd08d",
   "metadata": {},
   "outputs": [
    {
     "data": {
      "text/plain": [
       "Float32"
      ]
     },
     "execution_count": 20,
     "metadata": {},
     "output_type": "execute_result"
    }
   ],
   "source": [
    "typeof(a)"
   ]
  },
  {
   "cell_type": "code",
   "execution_count": 21,
   "id": "06f395e6-5e1b-4651-bca5-db9982dcd4e0",
   "metadata": {},
   "outputs": [
    {
     "data": {
      "text/plain": [
       "0.0001"
      ]
     },
     "execution_count": 21,
     "metadata": {},
     "output_type": "execute_result"
    }
   ],
   "source": [
    "b = 1e-4 "
   ]
  },
  {
   "cell_type": "code",
   "execution_count": 22,
   "id": "305ada86-f9e0-4b9c-9464-27cb7ecf3997",
   "metadata": {},
   "outputs": [
    {
     "data": {
      "text/plain": [
       "Float64"
      ]
     },
     "execution_count": 22,
     "metadata": {},
     "output_type": "execute_result"
    }
   ],
   "source": [
    "typeof(b)"
   ]
  },
  {
   "cell_type": "markdown",
   "id": "cfc770e8-eac0-4c04-8cb3-3a42b2ca8cfd",
   "metadata": {},
   "source": [
    "Julia also has a BigFloat type for arbitrary-\n",
    "precision floating numbers computations."
   ]
  },
  {
   "cell_type": "code",
   "execution_count": 27,
   "id": "a633c3e8-9f75-4703-b51a-0dcca4caf531",
   "metadata": {},
   "outputs": [
    {
     "data": {
      "text/plain": [
       "0.0"
      ]
     },
     "execution_count": 27,
     "metadata": {},
     "output_type": "execute_result"
    }
   ],
   "source": [
    "b = BigFloat(1e-12378196283691)"
   ]
  },
  {
   "cell_type": "code",
   "execution_count": 26,
   "id": "7cbfb0e9-c3fb-4969-8614-b19358c1ae3d",
   "metadata": {},
   "outputs": [
    {
     "data": {
      "text/plain": [
       "BigFloat"
      ]
     },
     "execution_count": 26,
     "metadata": {},
     "output_type": "execute_result"
    }
   ],
   "source": [
    "typeof(b)"
   ]
  },
  {
   "cell_type": "markdown",
   "id": "e9334793-14ea-4ea9-8f79-be36711af9f0",
   "metadata": {},
   "source": [
    "A built-in type promotion system takes care of all the numeric types that can work together\n",
    "seamlessly, so that there is no explicit conversion needed."
   ]
  },
  {
   "cell_type": "markdown",
   "id": "7cee15c1-7ec6-48e6-a087-08b1673d0530",
   "metadata": {},
   "source": [
    "Special values exist: Inf and -\n",
    "Inf are used for infinity, and NaN is used for \"not a number\" values such as the result of\n",
    "0/0 or Inf - Inf."
   ]
  },
  {
   "cell_type": "code",
   "execution_count": 28,
   "id": "fce8b818-b76f-4256-94a7-26e20e7616aa",
   "metadata": {},
   "outputs": [
    {
     "data": {
      "text/plain": [
       "Inf"
      ]
     },
     "execution_count": 28,
     "metadata": {},
     "output_type": "execute_result"
    }
   ],
   "source": [
    "Inf"
   ]
  },
  {
   "cell_type": "code",
   "execution_count": 29,
   "id": "8f46100c-72ec-458e-9c37-802cb952e26a",
   "metadata": {},
   "outputs": [
    {
     "data": {
      "text/plain": [
       "Float64"
      ]
     },
     "execution_count": 29,
     "metadata": {},
     "output_type": "execute_result"
    }
   ],
   "source": [
    "typeof(Inf)"
   ]
  },
  {
   "cell_type": "code",
   "execution_count": 30,
   "id": "6791f483-38ce-4382-9d54-36eb42c2774e",
   "metadata": {},
   "outputs": [
    {
     "data": {
      "text/plain": [
       "Float64"
      ]
     },
     "execution_count": 30,
     "metadata": {},
     "output_type": "execute_result"
    }
   ],
   "source": [
    "typeof(NaN)"
   ]
  },
  {
   "cell_type": "markdown",
   "id": "0d3ad81d-aa93-4303-994c-088e439187d7",
   "metadata": {},
   "source": [
    "Floating point arithmetic in all programming languages is often a source of subtle bugs and\n",
    "counter-intuitive behavior. For instance, note the following:"
   ]
  },
  {
   "cell_type": "code",
   "execution_count": 31,
   "id": "93cc34d1-cd40-48b0-94e1-3ddf2ee318b1",
   "metadata": {},
   "outputs": [
    {
     "data": {
      "text/plain": [
       "0.30000000000000004"
      ]
     },
     "execution_count": 31,
     "metadata": {},
     "output_type": "execute_result"
    }
   ],
   "source": [
    "0.1 + 0.2"
   ]
  },
  {
   "cell_type": "markdown",
   "id": "a50559c1-39db-4000-89a8-1a3d8ba60291",
   "metadata": {},
   "source": [
    "This happens because of the way the floating point numbers are stored internally. Most\n",
    "numbers cannot be stored internally with a finite number of bits, such as 1/3 having no\n",
    "finite representation in base 10."
   ]
  },
  {
   "cell_type": "markdown",
   "id": "00b00192-a6a9-4e45-ab1f-f1a15a861859",
   "metadata": {},
   "source": [
    "The computer will choose the closest number it can\n",
    "represent, introducing a small round-off error."
   ]
  },
  {
   "cell_type": "markdown",
   "id": "1cfe4f1d-2aa7-40f5-b37b-bcb8509cf489",
   "metadata": {},
   "source": [
    "Maybe the most important consequence of this is the need to avoid using equality when\n",
    "comparing floating point numbers:"
   ]
  },
  {
   "cell_type": "code",
   "execution_count": 32,
   "id": "852a2600-2cea-4c63-a745-7cabfb403392",
   "metadata": {},
   "outputs": [
    {
     "data": {
      "text/plain": [
       "0.30000000000000004"
      ]
     },
     "execution_count": 32,
     "metadata": {},
     "output_type": "execute_result"
    }
   ],
   "source": [
    "ans"
   ]
  },
  {
   "cell_type": "code",
   "execution_count": 33,
   "id": "7a95dc31-568d-4990-9827-bb3bbbe9501a",
   "metadata": {},
   "outputs": [
    {
     "data": {
      "text/plain": [
       "false"
      ]
     },
     "execution_count": 33,
     "metadata": {},
     "output_type": "execute_result"
    }
   ],
   "source": [
    ".1 + .2 == .3"
   ]
  },
  {
   "cell_type": "markdown",
   "id": "eaae7ebf-1af3-4873-ae0b-0d06308a3bc9",
   "metadata": {},
   "source": [
    "A better solution is to use >= or <= comparisons in logical tests that involve floating point\n",
    "numbers, wherever possible."
   ]
  },
  {
   "cell_type": "code",
   "execution_count": 38,
   "id": "235d05e5-bffc-4268-8a08-489986b1e5a5",
   "metadata": {},
   "outputs": [
    {
     "data": {
      "text/plain": [
       "true"
      ]
     },
     "execution_count": 38,
     "metadata": {},
     "output_type": "execute_result"
    }
   ],
   "source": [
    "abs(.1+.2) <= .3+1e-10"
   ]
  },
  {
   "cell_type": "markdown",
   "id": "a7a0fa57-ad90-493d-9660-69d4b5544718",
   "metadata": {},
   "source": [
    "# Elementary mathematical functions and operations"
   ]
  },
  {
   "cell_type": "markdown",
   "id": "23345a50-eaf7-48a1-9373-b694ce927c53",
   "metadata": {},
   "source": [
    "You can view the binary representation of any number (integer or float) with the\n",
    "bitstring function"
   ]
  },
  {
   "cell_type": "code",
   "execution_count": 47,
   "id": "afae5a7c-4543-4322-a4b1-654dc45433be",
   "metadata": {},
   "outputs": [
    {
     "data": {
      "text/plain": [
       "\"1111111111111111111111111111111111111111111111111111111111111111\""
      ]
     },
     "execution_count": 47,
     "metadata": {},
     "output_type": "execute_result"
    }
   ],
   "source": [
    "bitstring(2^200-1)"
   ]
  },
  {
   "cell_type": "markdown",
   "id": "9481a334-aac5-4306-9466-9b3161959709",
   "metadata": {},
   "source": [
    "To round a number, use the round() function which returns a floating point number"
   ]
  },
  {
   "cell_type": "code",
   "execution_count": 53,
   "id": "9f5d91e7-e7b4-4a23-89ea-1ebea1dec7da",
   "metadata": {},
   "outputs": [
    {
     "data": {
      "text/plain": [
       "6.0"
      ]
     },
     "execution_count": 53,
     "metadata": {},
     "output_type": "execute_result"
    }
   ],
   "source": [
    "round(5+912e-3)"
   ]
  },
  {
   "cell_type": "markdown",
   "id": "88ce8c18-ae80-449c-8a8d-335c785e9a55",
   "metadata": {},
   "source": [
    "All\n",
    "standard mathematical functions are provided, such as sqrt(), cbrt(), exp(), log(),\n",
    "sin(), cos(), tan(), erf() (the error function), and many more (refer to the URL\n",
    "mentioned at the end of this section). To generate a random number, use rand()."
   ]
  },
  {
   "cell_type": "code",
   "execution_count": 56,
   "id": "e6e9e363-f389-4fbc-b939-5e2d330831f8",
   "metadata": {},
   "outputs": [
    {
     "data": {
      "text/plain": [
       "3×3 Matrix{Float64}:\n",
       " 0.913559  0.810324  0.404616\n",
       " 0.906761  0.854676  0.0259997\n",
       " 0.792775  0.217863  0.0604236"
      ]
     },
     "execution_count": 56,
     "metadata": {},
     "output_type": "execute_result"
    }
   ],
   "source": [
    "rand(3,3)"
   ]
  },
  {
   "cell_type": "markdown",
   "id": "27585da6-3c0b-4527-aa2b-84faba4ab332",
   "metadata": {},
   "source": [
    "Use parentheses ( ) around expressions to enforce precedence. Chained assignments, such\n",
    "as a = b = c = d = 1, are allowed"
   ]
  },
  {
   "cell_type": "code",
   "execution_count": 58,
   "id": "2c20dbcc-e5bf-47e9-ac67-78bb0d2e9465",
   "metadata": {},
   "outputs": [
    {
     "data": {
      "text/plain": [
       "123"
      ]
     },
     "execution_count": 58,
     "metadata": {},
     "output_type": "execute_result"
    }
   ],
   "source": [
    "a = b = c = d = f = 123"
   ]
  },
  {
   "cell_type": "code",
   "execution_count": 59,
   "id": "a5173618-78ec-4949-9c86-a944add97b32",
   "metadata": {},
   "outputs": [
    {
     "data": {
      "text/plain": [
       "5"
      ]
     },
     "execution_count": 59,
     "metadata": {},
     "output_type": "execute_result"
    }
   ],
   "source": [
    "a = 5"
   ]
  },
  {
   "cell_type": "code",
   "execution_count": 60,
   "id": "c7a956ae-376a-4639-911d-b08940ad733a",
   "metadata": {},
   "outputs": [
    {
     "data": {
      "text/plain": [
       "123"
      ]
     },
     "execution_count": 60,
     "metadata": {},
     "output_type": "execute_result"
    }
   ],
   "source": [
    "b "
   ]
  },
  {
   "cell_type": "code",
   "execution_count": 61,
   "id": "4d9b4051-0652-40e0-bc6c-202f865291d1",
   "metadata": {},
   "outputs": [
    {
     "data": {
      "text/plain": [
       "123"
      ]
     },
     "execution_count": 61,
     "metadata": {},
     "output_type": "execute_result"
    }
   ],
   "source": [
    "f"
   ]
  },
  {
   "cell_type": "code",
   "execution_count": 62,
   "id": "cafe65ec-ab0a-4441-9f82-f1feb90e224c",
   "metadata": {},
   "outputs": [
    {
     "data": {
      "text/plain": [
       "5"
      ]
     },
     "execution_count": 62,
     "metadata": {},
     "output_type": "execute_result"
    }
   ],
   "source": [
    "a"
   ]
  },
  {
   "cell_type": "markdown",
   "id": "6983a3e4-6e52-4d77-886a-8586e41663a9",
   "metadata": {},
   "source": [
    "The assignments are evaluated right-to-left.\n",
    "Assignments for different variables can be combined"
   ]
  },
  {
   "cell_type": "code",
   "execution_count": 63,
   "id": "48a7418b-261d-403a-a57c-fc1a705139d3",
   "metadata": {},
   "outputs": [
    {
     "data": {
      "text/plain": [
       "(3, 4)"
      ]
     },
     "execution_count": 63,
     "metadata": {},
     "output_type": "execute_result"
    }
   ],
   "source": [
    "a = 1; b = 2; c = 3; d = 4\n",
    "a, b = c, d"
   ]
  },
  {
   "cell_type": "code",
   "execution_count": 64,
   "id": "a9594078-6c25-4db3-8de8-5664e8e323fc",
   "metadata": {},
   "outputs": [
    {
     "data": {
      "text/plain": [
       "3"
      ]
     },
     "execution_count": 64,
     "metadata": {},
     "output_type": "execute_result"
    }
   ],
   "source": [
    "a"
   ]
  },
  {
   "cell_type": "code",
   "execution_count": 65,
   "id": "bdcabc89-f4a9-4cc5-86a7-783fcfdee267",
   "metadata": {},
   "outputs": [
    {
     "data": {
      "text/plain": [
       "4"
      ]
     },
     "execution_count": 65,
     "metadata": {},
     "output_type": "execute_result"
    }
   ],
   "source": [
    "b"
   ]
  },
  {
   "cell_type": "markdown",
   "id": "a22d1a0e-afb7-4c41-a703-424c47734eab",
   "metadata": {},
   "source": [
    "Like in many other languages, the Boolean operators working on the true and false\n",
    "values for and, or, and not have &&, ||, and ! as symbols, respectively"
   ]
  },
  {
   "cell_type": "code",
   "execution_count": 71,
   "id": "ade9a6fa-1017-4101-83d4-b89e5750681f",
   "metadata": {},
   "outputs": [
    {
     "data": {
      "text/plain": [
       "true"
      ]
     },
     "execution_count": 71,
     "metadata": {},
     "output_type": "execute_result"
    }
   ],
   "source": [
    "true && true"
   ]
  },
  {
   "cell_type": "code",
   "execution_count": 72,
   "id": "1dbca7f5-4ae1-4ed1-b457-4feee8889c65",
   "metadata": {},
   "outputs": [
    {
     "data": {
      "text/plain": [
       "false"
      ]
     },
     "execution_count": 72,
     "metadata": {},
     "output_type": "execute_result"
    }
   ],
   "source": [
    "false || false"
   ]
  },
  {
   "cell_type": "markdown",
   "id": "8eac0080-2896-4aa6-b7f2-20d6b15cf729",
   "metadata": {},
   "source": [
    "Julia applies a short-circuit optimization here. That means the following:\n",
    "- In a && b, b is not evaluated when a is false (since && is already false)\n",
    "- In a || b, b is not evaluated when a is true (since || is already true)"
   ]
  },
  {
   "cell_type": "markdown",
   "id": "b6dca014-4f9b-4968-9093-ae2768d26682",
   "metadata": {},
   "source": [
    "The operators & and | are also used for non-short-circuit Boolean evaluations."
   ]
  },
  {
   "cell_type": "markdown",
   "id": "62fdaef2-300c-42ef-b79a-877461cc60dc",
   "metadata": {},
   "source": [
    "Julia also supports bitwise operations on integers. Note that n++ or n-- with n as an integer\n",
    "does not exist in Julia, as it does in C++ or Java. Use n += 1 or n -= 1 instead."
   ]
  },
  {
   "cell_type": "markdown",
   "id": "f5c47da3-b164-4fe5-b693-e35c63b4a40f",
   "metadata": {},
   "source": [
    "# Rational and complex numbers "
   ]
  },
  {
   "cell_type": "markdown",
   "id": "a7e4df62-a494-4abd-bab1-175c6af2902c",
   "metadata": {},
   "source": [
    "The global constant im represents the square root\n",
    "of -1, so that 3.2 + 7.1im is a complex number with floating point coefficients, so it is of\n",
    "the type Complex{Float64}"
   ]
  },
  {
   "cell_type": "code",
   "execution_count": 74,
   "id": "0ac9687d-0ddd-49b9-85f0-9bbf89db5568",
   "metadata": {},
   "outputs": [
    {
     "data": {
      "text/plain": [
       "3 + 2im"
      ]
     },
     "execution_count": 74,
     "metadata": {},
     "output_type": "execute_result"
    }
   ],
   "source": [
    "a = 3 + 2im"
   ]
  },
  {
   "cell_type": "code",
   "execution_count": 75,
   "id": "aa2e306f-ed8e-47f2-9918-d7f1cc6fd1fc",
   "metadata": {},
   "outputs": [
    {
     "data": {
      "text/plain": [
       "Complex{Int64}"
      ]
     },
     "execution_count": 75,
     "metadata": {},
     "output_type": "execute_result"
    }
   ],
   "source": [
    "typeof(a)"
   ]
  },
  {
   "cell_type": "markdown",
   "id": "1afd837e-a375-479e-acba-c5808adfdb83",
   "metadata": {},
   "source": [
    "This is the first example of a parametric type in Julia. For this example, we can write this as\n",
    "Complex{T}, where type T can take a number of different type values, such as Int32,\n",
    "Int64, or Float64."
   ]
  },
  {
   "cell_type": "code",
   "execution_count": 78,
   "id": "e4fc9c83-1b9b-453a-9a5e-6727772e0778",
   "metadata": {},
   "outputs": [
    {
     "data": {
      "text/plain": [
       "ComplexF32 (alias for Complex{Float32})"
      ]
     },
     "execution_count": 78,
     "metadata": {},
     "output_type": "execute_result"
    }
   ],
   "source": [
    "Complex{Float32}"
   ]
  },
  {
   "cell_type": "markdown",
   "id": "e00643d1-4777-454f-938b-2b18e47897f5",
   "metadata": {},
   "source": [
    "All operations and elementary functions, such as exp(), sqrt(), sinh(), real(),\n",
    "imag(), abs(), and so on, are also defined on complex numbers; for example, "
   ]
  },
  {
   "cell_type": "code",
   "execution_count": 79,
   "id": "02225388-eabf-4827-8438-976a2a27ab9c",
   "metadata": {},
   "outputs": [
    {
     "data": {
      "text/plain": [
       "7.787810988975014"
      ]
     },
     "execution_count": 79,
     "metadata": {},
     "output_type": "execute_result"
    }
   ],
   "source": [
    "abs(3.2 +7.1im)"
   ]
  },
  {
   "cell_type": "markdown",
   "id": "6fa707e9-af15-4f25-b456-3f26c57cabac",
   "metadata": {},
   "source": [
    "If a and b are two variables that contain a number, use complex(a,b) to form a complex\n",
    "number with them"
   ]
  },
  {
   "cell_type": "code",
   "execution_count": 80,
   "id": "dd368e5f-abd9-4b87-b290-b289ce249147",
   "metadata": {},
   "outputs": [
    {
     "data": {
      "text/plain": [
       "23 + 2im"
      ]
     },
     "execution_count": 80,
     "metadata": {},
     "output_type": "execute_result"
    }
   ],
   "source": [
    "complex(23,2)"
   ]
  },
  {
   "cell_type": "markdown",
   "id": "4737bf3c-f58b-4985-a8ef-728042eb914e",
   "metadata": {},
   "source": [
    "Rational numbers are useful when you want to work with exact ratios\n",
    "of integers, for example, 3//4, which is of type Rational{Int64}."
   ]
  },
  {
   "cell_type": "code",
   "execution_count": 83,
   "id": "85932ea2-bb4b-4316-bd8e-99800a7c45de",
   "metadata": {},
   "outputs": [
    {
     "ename": "LoadError",
     "evalue": "TypeError: in Rational, in T, expected T<:Integer, got Type{Float64}",
     "output_type": "error",
     "traceback": [
      "TypeError: in Rational, in T, expected T<:Integer, got Type{Float64}",
      "",
      "Stacktrace:",
      " [1] top-level scope",
      "   @ In[83]:1",
      " [2] eval",
      "   @ ./boot.jl:360 [inlined]",
      " [3] include_string(mapexpr::typeof(REPL.softscope), mod::Module, code::String, filename::String)",
      "   @ Base ./loading.jl:1116"
     ]
    }
   ],
   "source": [
    "Rational{Float64}"
   ]
  },
  {
   "cell_type": "code",
   "execution_count": 84,
   "id": "3bdc1d91-1271-4d47-a6c4-c45bea04665a",
   "metadata": {},
   "outputs": [
    {
     "data": {
      "text/plain": [
       "Rational{Int64}"
      ]
     },
     "execution_count": 84,
     "metadata": {},
     "output_type": "execute_result"
    }
   ],
   "source": [
    "Rational{Int64}"
   ]
  },
  {
   "cell_type": "code",
   "execution_count": 86,
   "id": "65284fa1-2cc5-42f2-a5bc-562a10fc3620",
   "metadata": {},
   "outputs": [
    {
     "data": {
      "text/plain": [
       "2//3"
      ]
     },
     "execution_count": 86,
     "metadata": {},
     "output_type": "execute_result"
    }
   ],
   "source": [
    "b = Rational(2,3)"
   ]
  },
  {
   "cell_type": "code",
   "execution_count": 91,
   "id": "a0a9fd2e-0842-40c8-9308-8e1b4279a47d",
   "metadata": {},
   "outputs": [
    {
     "data": {
      "text/plain": [
       "3"
      ]
     },
     "execution_count": 91,
     "metadata": {},
     "output_type": "execute_result"
    }
   ],
   "source": [
    "b.den"
   ]
  },
  {
   "cell_type": "code",
   "execution_count": 92,
   "id": "fead89b6-120e-462c-8821-cb8e304b8d42",
   "metadata": {},
   "outputs": [
    {
     "data": {
      "text/plain": [
       "2"
      ]
     },
     "execution_count": 92,
     "metadata": {},
     "output_type": "execute_result"
    }
   ],
   "source": [
    "b.num"
   ]
  },
  {
   "cell_type": "code",
   "execution_count": 93,
   "id": "b63c93f7-624b-4a43-a2e6-b772ed0c7b0a",
   "metadata": {},
   "outputs": [
    {
     "data": {
      "text/plain": [
       "2 + 1im"
      ]
     },
     "execution_count": 93,
     "metadata": {},
     "output_type": "execute_result"
    }
   ],
   "source": [
    "a = complex(2,1)"
   ]
  },
  {
   "cell_type": "code",
   "execution_count": 94,
   "id": "ab04f8bc-08b9-456c-8c49-393601892633",
   "metadata": {},
   "outputs": [
    {
     "data": {
      "text/plain": [
       "3 + 6im"
      ]
     },
     "execution_count": 94,
     "metadata": {},
     "output_type": "execute_result"
    }
   ],
   "source": [
    "b = complex(3,6)"
   ]
  },
  {
   "cell_type": "code",
   "execution_count": 96,
   "id": "46f9d9bd-1e3f-4ff3-b4d1-853860f9bfd6",
   "metadata": {},
   "outputs": [
    {
     "ename": "LoadError",
     "evalue": "MethodError: no method matching isless(::Complex{Int64}, ::Complex{Int64})\n\u001b[0mClosest candidates are:\n\u001b[0m  isless(::Any, \u001b[91m::Missing\u001b[39m) at missing.jl:88\n\u001b[0m  isless(\u001b[91m::Missing\u001b[39m, ::Any) at missing.jl:87",
     "output_type": "error",
     "traceback": [
      "MethodError: no method matching isless(::Complex{Int64}, ::Complex{Int64})\n\u001b[0mClosest candidates are:\n\u001b[0m  isless(::Any, \u001b[91m::Missing\u001b[39m) at missing.jl:88\n\u001b[0m  isless(\u001b[91m::Missing\u001b[39m, ::Any) at missing.jl:87",
      "",
      "Stacktrace:",
      " [1] <(x::Complex{Int64}, y::Complex{Int64})",
      "   @ Base ./operators.jl:279",
      " [2] <=(x::Complex{Int64}, y::Complex{Int64})",
      "   @ Base ./operators.jl:328",
      " [3] top-level scope",
      "   @ In[96]:1",
      " [4] eval",
      "   @ ./boot.jl:360 [inlined]",
      " [5] include_string(mapexpr::typeof(REPL.softscope), mod::Module, code::String, filename::String)",
      "   @ Base ./loading.jl:1116"
     ]
    }
   ],
   "source": [
    "a <= b"
   ]
  },
  {
   "cell_type": "markdown",
   "id": "ee514867-0e59-4fc1-8eb3-b7015f864e54",
   "metadata": {},
   "source": [
    "# Characters"
   ]
  },
  {
   "cell_type": "markdown",
   "id": "36e10d21-e7a3-439d-be10-36cfdeff34b2",
   "metadata": {},
   "source": [
    "Like C or Java, but unlike Python, Julia implements a type for a single character, the Char\n",
    "type"
   ]
  },
  {
   "cell_type": "markdown",
   "id": "49e1cdcf-2662-4e46-9614-2e78b6aaf2a9",
   "metadata": {},
   "source": [
    "A character literal is written as 'A', where typeof('A') returns Char. A Char value\n",
    "is a Unicode code point, and it ranges from '\\0' to '\\Uffffffff'. Convert this to its\n",
    "code point with Int(): Int('A') returns 65, and Int('α') returns 945, so this takes\n",
    "two bytes."
   ]
  },
  {
   "cell_type": "code",
   "execution_count": 97,
   "id": "83d1db19-9e91-4adb-b7aa-133675a3ecdf",
   "metadata": {},
   "outputs": [
    {
     "data": {
      "text/plain": [
       "Char"
      ]
     },
     "execution_count": 97,
     "metadata": {},
     "output_type": "execute_result"
    }
   ],
   "source": [
    "typeof('A')"
   ]
  },
  {
   "cell_type": "code",
   "execution_count": 98,
   "id": "2a5154d3-4367-4290-bda9-67e58cd87352",
   "metadata": {},
   "outputs": [
    {
     "data": {
      "text/plain": [
       "'#': ASCII/Unicode U+0023 (category Po: Punctuation, other)"
      ]
     },
     "execution_count": 98,
     "metadata": {},
     "output_type": "execute_result"
    }
   ],
   "source": [
    "'\\U23'"
   ]
  },
  {
   "cell_type": "code",
   "execution_count": 99,
   "id": "66730488-81c8-4463-82b2-33e8b916a916",
   "metadata": {},
   "outputs": [
    {
     "ename": "LoadError",
     "evalue": "UndefVarError: int not defined",
     "output_type": "error",
     "traceback": [
      "UndefVarError: int not defined",
      "",
      "Stacktrace:",
      " [1] top-level scope",
      "   @ In[99]:1",
      " [2] eval",
      "   @ ./boot.jl:360 [inlined]",
      " [3] include_string(mapexpr::typeof(REPL.softscope), mod::Module, code::String, filename::String)",
      "   @ Base ./loading.jl:1116"
     ]
    }
   ],
   "source": [
    "int('A')"
   ]
  },
  {
   "cell_type": "markdown",
   "id": "2ae3fe23-bfd7-4943-ae96-bcecfad9bd75",
   "metadata": {},
   "source": [
    "Convert this to its\n",
    "code point with Int(): Int('A') returns 65, and Int('α') returns 945, so this takes\n",
    "two bytes."
   ]
  },
  {
   "cell_type": "markdown",
   "id": "4368e489-09cf-492b-8265-56b10841286c",
   "metadata": {},
   "source": [
    "The reverse also works: Char(65) returns 'A', Char(945) returns '\\u3b1', which is the\n",
    "code point for α (3b1 is hexadecimal for 945)."
   ]
  },
  {
   "cell_type": "code",
   "execution_count": 100,
   "id": "10efae75-1019-4f7a-a14a-fd4f0c896694",
   "metadata": {},
   "outputs": [
    {
     "data": {
      "text/plain": [
       "'ʍ': Unicode U+028D (category Ll: Letter, lowercase)"
      ]
     },
     "execution_count": 100,
     "metadata": {},
     "output_type": "execute_result"
    }
   ],
   "source": [
    "Char(653)"
   ]
  },
  {
   "cell_type": "code",
   "execution_count": 104,
   "id": "02384255-2640-4e86-8e75-f27752159a53",
   "metadata": {},
   "outputs": [
    {
     "data": {
      "text/plain": [
       "'#': ASCII/Unicode U+0023 (category Po: Punctuation, other)"
      ]
     },
     "execution_count": 104,
     "metadata": {},
     "output_type": "execute_result"
    }
   ],
   "source": [
    "Char(35)"
   ]
  },
  {
   "cell_type": "markdown",
   "id": "5a21355d-d366-41ab-9943-65cd726ec5ca",
   "metadata": {},
   "source": [
    "Unicode characters can be entered by a \\u in single quotes, followed by four hexadecimal\n",
    "digits (ranging from 0-9 or A-F), or \\U followed by eight hexadecimal digits"
   ]
  },
  {
   "cell_type": "code",
   "execution_count": 106,
   "id": "0f8ee6b5-c220-40c1-908e-51cb6a586aaa",
   "metadata": {},
   "outputs": [
    {
     "data": {
      "text/plain": [
       "'ℵ': Unicode U+2135 (category Lo: Letter, other)"
      ]
     },
     "execution_count": 106,
     "metadata": {},
     "output_type": "execute_result"
    }
   ],
   "source": [
    "'\\u2135'"
   ]
  },
  {
   "cell_type": "code",
   "execution_count": 107,
   "id": "5e381cd1-b0fe-485d-8f8e-a9fcadc5be72",
   "metadata": {},
   "outputs": [
    {
     "data": {
      "text/plain": [
       "'\\U323bc': Unicode U+323BC (category Cn: Other, not assigned)"
      ]
     },
     "execution_count": 107,
     "metadata": {},
     "output_type": "execute_result"
    }
   ],
   "source": [
    "'\\U323bc'"
   ]
  },
  {
   "cell_type": "markdown",
   "id": "1df1df18-565d-43b4-8dfc-607fb1c1a11c",
   "metadata": {},
   "source": [
    "The\n",
    "isvalid(Char, value) function can test whether a number returns an existing Unicode\n",
    "character: isvalid(Char,0x3b1) returns true"
   ]
  },
  {
   "cell_type": "code",
   "execution_count": 3,
   "id": "3e67c619-74fa-4d3f-aabe-ffc2ffffd149",
   "metadata": {},
   "outputs": [
    {
     "data": {
      "text/plain": [
       "true"
      ]
     },
     "execution_count": 3,
     "metadata": {},
     "output_type": "execute_result"
    }
   ],
   "source": [
    "isvalid(Char,0x3b1)"
   ]
  },
  {
   "cell_type": "code",
   "execution_count": 117,
   "id": "4876af9b-adcb-401b-a5ec-e49af3ef6e61",
   "metadata": {},
   "outputs": [
    {
     "ename": "LoadError",
     "evalue": "MethodError: no method matching isvalid(::Char, ::Int32)\n\u001b[0mClosest candidates are:\n\u001b[0m  isvalid(\u001b[91m::SubString\u001b[39m, ::Integer) at strings/substring.jl:87\n\u001b[0m  isvalid(::AbstractChar) at strings/unicode.jl:56\n\u001b[0m  isvalid(\u001b[91m::Type{T}\u001b[39m, ::Integer) where T<:AbstractChar at strings/unicode.jl:58\n\u001b[0m  ...",
     "output_type": "error",
     "traceback": [
      "MethodError: no method matching isvalid(::Char, ::Int32)\n\u001b[0mClosest candidates are:\n\u001b[0m  isvalid(\u001b[91m::SubString\u001b[39m, ::Integer) at strings/substring.jl:87\n\u001b[0m  isvalid(::AbstractChar) at strings/unicode.jl:56\n\u001b[0m  isvalid(\u001b[91m::Type{T}\u001b[39m, ::Integer) where T<:AbstractChar at strings/unicode.jl:58\n\u001b[0m  ...",
      "",
      "Stacktrace:",
      " [1] top-level scope",
      "   @ In[117]:1",
      " [2] eval",
      "   @ ./boot.jl:360 [inlined]",
      " [3] include_string(mapexpr::typeof(REPL.softscope), mod::Module, code::String, filename::String)",
      "   @ Base ./loading.jl:1116"
     ]
    }
   ],
   "source": [
    "isvalid('b',Int32('b'))"
   ]
  },
  {
   "cell_type": "markdown",
   "id": "89105200-3d5e-4c3b-a075-3830b332b797",
   "metadata": {},
   "source": [
    "The normal escape characters, such as \\t\n",
    "(tab), \\n (newline), \\', and so on, also exist in Julia."
   ]
  },
  {
   "cell_type": "code",
   "execution_count": 118,
   "id": "1b03c478-924c-49cc-8ed5-f93e6e19115f",
   "metadata": {},
   "outputs": [
    {
     "ename": "LoadError",
     "evalue": "MethodError: no method matching isvalid(::Int32, ::Char)\n\u001b[0mClosest candidates are:\n\u001b[0m  isvalid(\u001b[91m::Type{var\"#s77\"} where var\"#s77\"<:AbstractChar\u001b[39m, ::AbstractChar) at strings/unicode.jl:59",
     "output_type": "error",
     "traceback": [
      "MethodError: no method matching isvalid(::Int32, ::Char)\n\u001b[0mClosest candidates are:\n\u001b[0m  isvalid(\u001b[91m::Type{var\"#s77\"} where var\"#s77\"<:AbstractChar\u001b[39m, ::AbstractChar) at strings/unicode.jl:59",
      "",
      "Stacktrace:",
      " [1] top-level scope",
      "   @ In[118]:1",
      " [2] eval",
      "   @ ./boot.jl:360 [inlined]",
      " [3] include_string(mapexpr::typeof(REPL.softscope), mod::Module, code::String, filename::String)",
      "   @ Base ./loading.jl:1116"
     ]
    }
   ],
   "source": [
    "isvalid(Int32('b'),'b')"
   ]
  },
  {
   "cell_type": "code",
   "execution_count": 119,
   "id": "7cb32998-71c3-48c2-bb63-6f7179e6a4bb",
   "metadata": {},
   "outputs": [
    {
     "data": {
      "text/plain": [
       "'+': ASCII/Unicode U+002B (category Sm: Symbol, math)"
      ]
     },
     "execution_count": 119,
     "metadata": {},
     "output_type": "execute_result"
    }
   ],
   "source": [
    "Char(43)"
   ]
  },
  {
   "cell_type": "code",
   "execution_count": 121,
   "id": "0d0fccf2-8311-4203-a67e-dd97c2f17e25",
   "metadata": {},
   "outputs": [
    {
     "data": {
      "text/plain": [
       "'C': ASCII/Unicode U+0043 (category Lu: Letter, uppercase)"
      ]
     },
     "execution_count": 121,
     "metadata": {},
     "output_type": "execute_result"
    }
   ],
   "source": [
    "'\\U43'"
   ]
  },
  {
   "cell_type": "code",
   "execution_count": 125,
   "id": "646da3aa-8500-4e1c-a49e-d90628dd7900",
   "metadata": {},
   "outputs": [
    {
     "ename": "LoadError",
     "evalue": "MethodError: no method matching isvalid(::Char, ::Char)\n\u001b[0mClosest candidates are:\n\u001b[0m  isvalid(::AbstractChar) at strings/unicode.jl:56\n\u001b[0m  isvalid(\u001b[91m::Type{var\"#s77\"} where var\"#s77\"<:AbstractChar\u001b[39m, ::AbstractChar) at strings/unicode.jl:59",
     "output_type": "error",
     "traceback": [
      "MethodError: no method matching isvalid(::Char, ::Char)\n\u001b[0mClosest candidates are:\n\u001b[0m  isvalid(::AbstractChar) at strings/unicode.jl:56\n\u001b[0m  isvalid(\u001b[91m::Type{var\"#s77\"} where var\"#s77\"<:AbstractChar\u001b[39m, ::AbstractChar) at strings/unicode.jl:59",
      "",
      "Stacktrace:",
      " [1] top-level scope",
      "   @ In[125]:1",
      " [2] eval",
      "   @ ./boot.jl:360 [inlined]",
      " [3] include_string(mapexpr::typeof(REPL.softscope), mod::Module, code::String, filename::String)",
      "   @ Base ./loading.jl:1116"
     ]
    }
   ],
   "source": [
    "isvalid('C','\\U43')"
   ]
  },
  {
   "cell_type": "code",
   "execution_count": 126,
   "id": "78fbcdb8-ecca-4ea5-bdb2-97d8f023ea6a",
   "metadata": {},
   "outputs": [
    {
     "ename": "LoadError",
     "evalue": "UndefVarError: int not defined",
     "output_type": "error",
     "traceback": [
      "UndefVarError: int not defined",
      "",
      "Stacktrace:",
      " [1] top-level scope",
      "   @ In[126]:1",
      " [2] eval",
      "   @ ./boot.jl:360 [inlined]",
      " [3] include_string(mapexpr::typeof(REPL.softscope), mod::Module, code::String, filename::String)",
      "   @ Base ./loading.jl:1116"
     ]
    }
   ],
   "source": [
    "int('\\U43')"
   ]
  },
  {
   "cell_type": "markdown",
   "id": "20defb11-08f8-4160-8f09-360f847ab3e5",
   "metadata": {},
   "source": [
    "# Strings"
   ]
  },
  {
   "cell_type": "markdown",
   "id": "25d206b1-1afe-4cfc-8e18-aebef532867f",
   "metadata": {},
   "source": [
    "Literal strings are always of type String:"
   ]
  },
  {
   "cell_type": "code",
   "execution_count": 1,
   "id": "722a1449-298f-47c1-abfd-0ffbd9cc84fc",
   "metadata": {},
   "outputs": [
    {
     "data": {
      "text/plain": [
       "String"
      ]
     },
     "execution_count": 1,
     "metadata": {},
     "output_type": "execute_result"
    }
   ],
   "source": [
    "typeof(\"This is a string\")"
   ]
  },
  {
   "cell_type": "markdown",
   "id": "d3b8e94a-c213-4a71-968b-223f0be83941",
   "metadata": {},
   "source": [
    "This is also true if they contain UTF-8 characters that cannot be represented in ASCII, as in\n",
    "this example:"
   ]
  },
  {
   "cell_type": "code",
   "execution_count": 2,
   "id": "65c9fd87-35ac-4cd2-aa4a-420f1af42057",
   "metadata": {},
   "outputs": [
    {
     "data": {
      "text/plain": [
       "String"
      ]
     },
     "execution_count": 2,
     "metadata": {},
     "output_type": "execute_result"
    }
   ],
   "source": [
    "typeof(\"Güdrun\")"
   ]
  },
  {
   "cell_type": "markdown",
   "id": "be87eedb-8960-4837-8bee-9c25f033ebc8",
   "metadata": {},
   "source": [
    "UTF-16 and UTF-32 are also supported"
   ]
  },
  {
   "cell_type": "markdown",
   "id": "e2fd59f2-52d3-422b-bd50-397f12a36c33",
   "metadata": {},
   "source": [
    "Strings are contained in double quotes (\" \") or\n",
    "triple quotes (\"\"\" \"\"\"). They are immutable, which means that they cannot be altered once\n",
    "they have been defined:"
   ]
  },
  {
   "cell_type": "code",
   "execution_count": 4,
   "id": "eb51280c-d605-4875-9b3e-7d40c5756cae",
   "metadata": {},
   "outputs": [
    {
     "data": {
      "text/plain": [
       "\"What the heck is going on here\""
      ]
     },
     "execution_count": 4,
     "metadata": {},
     "output_type": "execute_result"
    }
   ],
   "source": [
    "\"What the heck is going on here\""
   ]
  },
  {
   "cell_type": "code",
   "execution_count": 5,
   "id": "47be75a3-8b95-417f-8c91-7391cb7e177e",
   "metadata": {},
   "outputs": [
    {
     "data": {
      "text/plain": [
       "\"What the heck is going on here\""
      ]
     },
     "execution_count": 5,
     "metadata": {},
     "output_type": "execute_result"
    }
   ],
   "source": [
    "\"\"\"What the heck is going on here\"\"\""
   ]
  },
  {
   "cell_type": "code",
   "execution_count": 6,
   "id": "b6226822-8c0a-46bc-9e6f-3bc3c3e79ba2",
   "metadata": {},
   "outputs": [
    {
     "data": {
      "text/plain": [
       "'a': ASCII/Unicode U+0061 (category Ll: Letter, lowercase)"
      ]
     },
     "execution_count": 6,
     "metadata": {},
     "output_type": "execute_result"
    }
   ],
   "source": [
    "ans[3]"
   ]
  },
  {
   "cell_type": "code",
   "execution_count": 7,
   "id": "6da6df5d-a1d5-45c3-8f54-1aaeaf1672d5",
   "metadata": {},
   "outputs": [
    {
     "ename": "LoadError",
     "evalue": "MethodError: no method matching setindex!(::Char, ::Char, ::Int64)",
     "output_type": "error",
     "traceback": [
      "MethodError: no method matching setindex!(::Char, ::Char, ::Int64)",
      "",
      "Stacktrace:",
      " [1] top-level scope",
      "   @ In[7]:1",
      " [2] eval",
      "   @ ./boot.jl:360 [inlined]",
      " [3] include_string(mapexpr::typeof(REPL.softscope), mod::Module, code::String, filename::String)",
      "   @ Base ./loading.jl:1116"
     ]
    }
   ],
   "source": [
    "ans[3] = 'd'"
   ]
  },
  {
   "cell_type": "code",
   "execution_count": 8,
   "id": "a27a078f-dbd3-4d9c-948a-699fc3cc509f",
   "metadata": {},
   "outputs": [
    {
     "data": {
      "text/plain": [
       "\"This is a string\""
      ]
     },
     "execution_count": 8,
     "metadata": {},
     "output_type": "execute_result"
    }
   ],
   "source": [
    "str = \"This is a string\""
   ]
  },
  {
   "cell_type": "code",
   "execution_count": 9,
   "id": "271053b5-8b1a-462d-b7d0-970f4f132263",
   "metadata": {},
   "outputs": [
    {
     "data": {
      "text/plain": [
       "'T': ASCII/Unicode U+0054 (category Lu: Letter, uppercase)"
      ]
     },
     "execution_count": 9,
     "metadata": {},
     "output_type": "execute_result"
    }
   ],
   "source": [
    "str[1]"
   ]
  },
  {
   "cell_type": "code",
   "execution_count": 10,
   "id": "1f1e81f9-8db5-4ccf-a53e-c4b15aa3e6d8",
   "metadata": {},
   "outputs": [
    {
     "data": {
      "text/plain": [
       "'g': ASCII/Unicode U+0067 (category Ll: Letter, lowercase)"
      ]
     },
     "execution_count": 10,
     "metadata": {},
     "output_type": "execute_result"
    }
   ],
   "source": [
    "str[end]"
   ]
  },
  {
   "cell_type": "code",
   "execution_count": 11,
   "id": "0b1bd5ba-b384-426a-95f8-6b43d82c8b7b",
   "metadata": {},
   "outputs": [
    {
     "ename": "LoadError",
     "evalue": "BoundsError: attempt to access 16-codeunit String at index [-1]",
     "output_type": "error",
     "traceback": [
      "BoundsError: attempt to access 16-codeunit String at index [-1]",
      "",
      "Stacktrace:",
      " [1] checkbounds",
      "   @ ./strings/basic.jl:216 [inlined]",
      " [2] codeunit",
      "   @ ./strings/string.jl:102 [inlined]",
      " [3] getindex(s::String, i::Int64)",
      "   @ Base ./strings/string.jl:223",
      " [4] top-level scope",
      "   @ In[11]:1",
      " [5] eval",
      "   @ ./boot.jl:360 [inlined]",
      " [6] include_string(mapexpr::typeof(REPL.softscope), mod::Module, code::String, filename::String)",
      "   @ Base ./loading.jl:1116"
     ]
    }
   ],
   "source": [
    "str[-1]"
   ]
  },
  {
   "cell_type": "markdown",
   "id": "08b79503-40c9-4e71-99ce-6add0d8ffbfa",
   "metadata": {},
   "source": [
    "length() returns the\n",
    "number of characters"
   ]
  },
  {
   "cell_type": "code",
   "execution_count": 13,
   "id": "24ed6484-6945-4fb5-a3b9-de49237ce7b6",
   "metadata": {},
   "outputs": [
    {
     "data": {
      "text/plain": [
       "16"
      ]
     },
     "execution_count": 13,
     "metadata": {},
     "output_type": "execute_result"
    }
   ],
   "source": [
    "length(str)"
   ]
  },
  {
   "cell_type": "code",
   "execution_count": 20,
   "id": "88c204d3-eb58-4378-b131-64316dbe19c5",
   "metadata": {},
   "outputs": [
    {
     "data": {
      "text/plain": [
       "\"Güdrun\""
      ]
     },
     "execution_count": 20,
     "metadata": {},
     "output_type": "execute_result"
    }
   ],
   "source": [
    "str = \"Güdrun\""
   ]
  },
  {
   "cell_type": "code",
   "execution_count": 21,
   "id": "66369d54-1d7c-4718-85a8-1e7bafafa22a",
   "metadata": {},
   "outputs": [
    {
     "data": {
      "text/plain": [
       "6"
      ]
     },
     "execution_count": 21,
     "metadata": {},
     "output_type": "execute_result"
    }
   ],
   "source": [
    "length(str)"
   ]
  },
  {
   "cell_type": "code",
   "execution_count": 24,
   "id": "7a28b1e3-a114-4777-a161-5967942c6519",
   "metadata": {},
   "outputs": [
    {
     "ename": "LoadError",
     "evalue": "UndefVarError: endof not defined",
     "output_type": "error",
     "traceback": [
      "UndefVarError: endof not defined",
      "",
      "Stacktrace:",
      " [1] top-level scope",
      "   @ In[24]:1",
      " [2] eval",
      "   @ ./boot.jl:360 [inlined]",
      " [3] include_string(mapexpr::typeof(REPL.softscope), mod::Module, code::String, filename::String)",
      "   @ Base ./loading.jl:1116"
     ]
    }
   ],
   "source": [
    "endof(str)"
   ]
  },
  {
   "cell_type": "code",
   "execution_count": 26,
   "id": "489f91bd-fc53-49dc-b575-f131d99e0019",
   "metadata": {},
   "outputs": [
    {
     "data": {
      "text/plain": [
       "'ü': Unicode U+00FC (category Ll: Letter, lowercase)"
      ]
     },
     "execution_count": 26,
     "metadata": {},
     "output_type": "execute_result"
    }
   ],
   "source": [
    "str[2]"
   ]
  },
  {
   "cell_type": "code",
   "execution_count": 25,
   "id": "aacfa27d-62a7-4d6c-a53f-8ee4c0557f57",
   "metadata": {},
   "outputs": [
    {
     "ename": "LoadError",
     "evalue": "StringIndexError: invalid index [3], valid nearby indices [2]=>'ü', [4]=>'d'",
     "output_type": "error",
     "traceback": [
      "StringIndexError: invalid index [3], valid nearby indices [2]=>'ü', [4]=>'d'",
      "",
      "Stacktrace:",
      " [1] getindex(s::String, i::Int64)",
      "   @ Base ./strings/string.jl:226",
      " [2] top-level scope",
      "   @ In[25]:1",
      " [3] eval",
      "   @ ./boot.jl:360 [inlined]",
      " [4] include_string(mapexpr::typeof(REPL.softscope), mod::Module, code::String, filename::String)",
      "   @ Base ./loading.jl:1116"
     ]
    }
   ],
   "source": [
    "str[3]"
   ]
  },
  {
   "cell_type": "code",
   "execution_count": 27,
   "id": "d9e40085-b17e-4deb-a694-e9b331da9118",
   "metadata": {},
   "outputs": [
    {
     "ename": "LoadError",
     "evalue": "ArgumentError: Package String not found in current path:\n- Run `import Pkg; Pkg.add(\"String\")` to install the String package.\n",
     "output_type": "error",
     "traceback": [
      "ArgumentError: Package String not found in current path:\n- Run `import Pkg; Pkg.add(\"String\")` to install the String package.\n",
      "",
      "Stacktrace:",
      " [1] require(into::Module, mod::Symbol)",
      "   @ Base ./loading.jl:893",
      " [2] eval",
      "   @ ./boot.jl:360 [inlined]",
      " [3] include_string(mapexpr::typeof(REPL.softscope), mod::Module, code::String, filename::String)",
      "   @ Base ./loading.jl:1116"
     ]
    }
   ],
   "source": [
    "using String"
   ]
  },
  {
   "cell_type": "markdown",
   "id": "4e7fc3cf-7f57-4385-9f9b-4831fe19e354",
   "metadata": {},
   "source": [
    "Strings can contain Unicode characters, which can take up to\n",
    "four bytes, so not every index is a valid character index."
   ]
  },
  {
   "cell_type": "code",
   "execution_count": 28,
   "id": "96798665-ec1a-44a5-8efd-cec7f98aa85f",
   "metadata": {},
   "outputs": [
    {
     "data": {
      "text/plain": [
       "\"I am the α: the beginning\""
      ]
     },
     "execution_count": 28,
     "metadata": {},
     "output_type": "execute_result"
    }
   ],
   "source": [
    "str2 = \"I am the α: the beginning\""
   ]
  },
  {
   "cell_type": "code",
   "execution_count": 29,
   "id": "c0fb2ef4-a1c3-4cf7-a4d1-28ef1ed0638b",
   "metadata": {},
   "outputs": [
    {
     "data": {
      "text/plain": [
       "'α': Unicode U+03B1 (category Ll: Letter, lowercase)"
      ]
     },
     "execution_count": 29,
     "metadata": {},
     "output_type": "execute_result"
    }
   ],
   "source": [
    "str2[10]"
   ]
  },
  {
   "cell_type": "code",
   "execution_count": 30,
   "id": "645521fd-8545-43e8-b016-9f3dbec30c68",
   "metadata": {},
   "outputs": [
    {
     "ename": "LoadError",
     "evalue": "StringIndexError: invalid index [11], valid nearby indices [10]=>'α', [12]=>':'",
     "output_type": "error",
     "traceback": [
      "StringIndexError: invalid index [11], valid nearby indices [10]=>'α', [12]=>':'",
      "",
      "Stacktrace:",
      " [1] getindex(s::String, i::Int64)",
      "   @ Base ./strings/string.jl:226",
      " [2] top-level scope",
      "   @ In[30]:1",
      " [3] eval",
      "   @ ./boot.jl:360 [inlined]",
      " [4] include_string(mapexpr::typeof(REPL.softscope), mod::Module, code::String, filename::String)",
      "   @ Base ./loading.jl:1116"
     ]
    }
   ],
   "source": [
    "str2[11]"
   ]
  },
  {
   "cell_type": "code",
   "execution_count": 32,
   "id": "071bc14a-2173-4d4d-a0b7-bb6e9665644a",
   "metadata": {},
   "outputs": [
    {
     "data": {
      "text/plain": [
       "':': ASCII/Unicode U+003A (category Po: Punctuation, other)"
      ]
     },
     "execution_count": 32,
     "metadata": {},
     "output_type": "execute_result"
    }
   ],
   "source": [
    "str2[12]"
   ]
  },
  {
   "cell_type": "markdown",
   "id": "4484ce19-01ae-47e4-8153-56c0307e4de1",
   "metadata": {},
   "source": [
    "We can see 25 characters. length(str2) returns 25, but the last index given by\n",
    "lastindex(str2) returns 26"
   ]
  },
  {
   "cell_type": "code",
   "execution_count": 33,
   "id": "cd7167ae-0c70-4cc7-a006-89827b3befeb",
   "metadata": {},
   "outputs": [
    {
     "data": {
      "text/plain": [
       "26"
      ]
     },
     "execution_count": 33,
     "metadata": {},
     "output_type": "execute_result"
    }
   ],
   "source": [
    "lastindex(str2)"
   ]
  },
  {
   "cell_type": "code",
   "execution_count": 34,
   "id": "376a43dd-fc56-48f9-aabd-39a7caccb726",
   "metadata": {},
   "outputs": [
    {
     "data": {
      "text/plain": [
       "25"
      ]
     },
     "execution_count": 34,
     "metadata": {},
     "output_type": "execute_result"
    }
   ],
   "source": [
    "length(str2)"
   ]
  },
  {
   "cell_type": "markdown",
   "id": "e0e70106-cd76-44ff-ba2d-1445c8ca60da",
   "metadata": {},
   "source": [
    "For this reason, looping over a string's characters can best\n",
    "be done as an iteration and not by using the index, as follows:"
   ]
  },
  {
   "cell_type": "code",
   "execution_count": 36,
   "id": "c8eedabc-6956-4269-adf1-fda985207a09",
   "metadata": {},
   "outputs": [
    {
     "name": "stdout",
     "output_type": "stream",
     "text": [
      "I am the α: the beginning"
     ]
    }
   ],
   "source": [
    "for c in str2\n",
    "print(c)\n",
    "end"
   ]
  },
  {
   "cell_type": "markdown",
   "id": "1b66645e-8df1-46c9-b62d-5fffe519b0bb",
   "metadata": {},
   "source": [
    "A substring can be obtained by taking a range of indices:str[3:5] or\n",
    "using str[3:end]"
   ]
  },
  {
   "cell_type": "code",
   "execution_count": 38,
   "id": "c685de3e-c5b5-4602-bb53-0b26f5ab5376",
   "metadata": {},
   "outputs": [
    {
     "data": {
      "text/plain": [
       "\"Güdrun\""
      ]
     },
     "execution_count": 38,
     "metadata": {},
     "output_type": "execute_result"
    }
   ],
   "source": [
    "str"
   ]
  },
  {
   "cell_type": "code",
   "execution_count": 39,
   "id": "5ad7acea-be77-4abf-8c72-f041694d2b0e",
   "metadata": {},
   "outputs": [
    {
     "data": {
      "text/plain": [
       "\"üd\""
      ]
     },
     "execution_count": 39,
     "metadata": {},
     "output_type": "execute_result"
    }
   ],
   "source": [
    "str[2:4]"
   ]
  },
  {
   "cell_type": "code",
   "execution_count": 40,
   "id": "e70ded13-5f9d-4a2b-84b7-1978d5d00be1",
   "metadata": {},
   "outputs": [
    {
     "data": {
      "text/plain": [
       "\"üdrun\""
      ]
     },
     "execution_count": 40,
     "metadata": {},
     "output_type": "execute_result"
    }
   ],
   "source": [
    "str[2:end]"
   ]
  },
  {
   "cell_type": "markdown",
   "id": "fb3abadc-0828-49ee-9652-7c42b7e3a580",
   "metadata": {},
   "source": [
    "A string that contains a single character is\n",
    "different from that Char value"
   ]
  },
  {
   "cell_type": "code",
   "execution_count": 41,
   "id": "08b7ffac-8898-4058-a5cb-9fe4fe57b4e4",
   "metadata": {},
   "outputs": [
    {
     "data": {
      "text/plain": [
       "false"
      ]
     },
     "execution_count": 41,
     "metadata": {},
     "output_type": "execute_result"
    }
   ],
   "source": [
    "'A' == \"A\""
   ]
  },
  {
   "cell_type": "markdown",
   "id": "7a13b0d2-6480-4a6f-8345-2a35e2fde866",
   "metadata": {},
   "source": [
    "Julia has an elegant string interpolation mechanism for constructing strings: $var inside a string is replaced by the value of var, and $(expr), where expr is an expression, is replaced by its computed value."
   ]
  },
  {
   "cell_type": "code",
   "execution_count": 42,
   "id": "5482fb41-75d5-44d2-9abd-70c8ce6013b8",
   "metadata": {},
   "outputs": [
    {
     "data": {
      "text/plain": [
       "\"What the heck 2\""
      ]
     },
     "execution_count": 42,
     "metadata": {},
     "output_type": "execute_result"
    }
   ],
   "source": [
    "\"What the heck $(rem(10,4))\""
   ]
  },
  {
   "cell_type": "markdown",
   "id": "d0bc1a27-3fc1-4950-a56c-c983bfbd32b0",
   "metadata": {},
   "source": [
    "You can also concatenate strings with the * operator or with the string() function: \"ABC\" * \"DEF\" returns \"ABCDEF\", and string(\"abc\", \"def\", \"ghi\") returns \"abcdefghi\"."
   ]
  },
  {
   "cell_type": "code",
   "execution_count": 43,
   "id": "9e49b8cc-b6cb-40c0-ae8e-39b997c5f0f2",
   "metadata": {},
   "outputs": [
    {
     "data": {
      "text/plain": [
       "\"abcdef\""
      ]
     },
     "execution_count": 43,
     "metadata": {},
     "output_type": "execute_result"
    }
   ],
   "source": [
    "\"abc\"*\"def\""
   ]
  },
  {
   "cell_type": "code",
   "execution_count": 45,
   "id": "acce34c9-5f02-4420-8ef8-81b5eba0d086",
   "metadata": {},
   "outputs": [
    {
     "data": {
      "text/plain": [
       "\"abcdefghi\""
      ]
     },
     "execution_count": 45,
     "metadata": {},
     "output_type": "execute_result"
    }
   ],
   "source": [
    "string(\"abc\",\"def\",\"ghi\")"
   ]
  },
  {
   "cell_type": "markdown",
   "id": "20b8be3f-e81f-47fb-a238-2445bde36208",
   "metadata": {},
   "source": [
    "Strings prefixed with : are of type Symbol, such as :green; we already used it in the\n",
    "printstyled function. They are more efficient than strings and are used for IDs or keys."
   ]
  },
  {
   "cell_type": "code",
   "execution_count": 46,
   "id": "05971502-e4fc-4c1c-8a48-bc45b1390ccf",
   "metadata": {},
   "outputs": [
    {
     "data": {
      "text/plain": [
       ":what"
      ]
     },
     "execution_count": 46,
     "metadata": {},
     "output_type": "execute_result"
    }
   ],
   "source": [
    ":what"
   ]
  },
  {
   "cell_type": "code",
   "execution_count": 47,
   "id": "e07a8c9e-1afd-4b59-af51-5610b6e71b4c",
   "metadata": {},
   "outputs": [
    {
     "data": {
      "text/plain": [
       ":green"
      ]
     },
     "execution_count": 47,
     "metadata": {},
     "output_type": "execute_result"
    }
   ],
   "source": [
    ":green"
   ]
  },
  {
   "cell_type": "code",
   "execution_count": 49,
   "id": "80a0ac04-5fd7-49d3-8dfe-58e150495e61",
   "metadata": {},
   "outputs": [
    {
     "data": {
      "text/plain": [
       ":javid"
      ]
     },
     "execution_count": 49,
     "metadata": {},
     "output_type": "execute_result"
    }
   ],
   "source": [
    ":javid"
   ]
  },
  {
   "cell_type": "markdown",
   "id": "e1b1da79-47a7-492b-8245-5bda041c7638",
   "metadata": {},
   "source": [
    "They are more efficient than strings and are used for IDs or keys.\n",
    "Symbols cannot be concatenated."
   ]
  },
  {
   "cell_type": "markdown",
   "id": "c1ff8dcc-77bc-4281-a5e0-13222835e350",
   "metadata": {},
   "source": [
    "They should only be used if they are expected to remain\n",
    "constant over the course of the execution of the program."
   ]
  },
  {
   "cell_type": "markdown",
   "id": "d36cbbd7-3efe-4df8-b693-a82eaa641107",
   "metadata": {},
   "source": [
    "The String type is very rich, and it has 96 functions defined on it, given by\n",
    "methodswith(String)"
   ]
  },
  {
   "cell_type": "code",
   "execution_count": 50,
   "id": "5186ea0f-c150-4c31-a123-f16a7a801d3b",
   "metadata": {},
   "outputs": [
    {
     "data": {
      "text/html": [
       "126-element Vector{Method}:<ul><li> vparse(s_::<b>String</b>) in VersionParsing at <a href=\"file:///home/javid/.julia/packages/VersionParsing/YFVo1/src/VersionParsing.jl\" target=\"_blank\">/home/javid/.julia/packages/VersionParsing/YFVo1/src/VersionParsing.jl:39</a><li> subscribe(socket::<b>ZMQ.Socket</b>, filter::<b>Union{String, Vector{UInt8}}</b>) in ZMQ at <a href=\"file:///home/javid/.julia/packages/ZMQ/R3wSD/src/sockopts.jl\" target=\"_blank\">/home/javid/.julia/packages/ZMQ/R3wSD/src/sockopts.jl:75</a><li> unsubscribe(socket::<b>ZMQ.Socket</b>, filter::<b>Union{String, Vector{UInt8}}</b>) in ZMQ at <a href=\"file:///home/javid/.julia/packages/ZMQ/R3wSD/src/sockopts.jl\" target=\"_blank\">/home/javid/.julia/packages/ZMQ/R3wSD/src/sockopts.jl:75</a><li> has_preference(uuid::<b>Base.UUID</b>, key::<b>String</b>) in Preferences at <a href=\"file:///home/javid/.julia/packages/Preferences/SHSJJ/src/Preferences.jl\" target=\"_blank\">/home/javid/.julia/packages/Preferences/SHSJJ/src/Preferences.jl:69</a><li> has_preference(uuid::<b>Base.UUID</b>, key::<b>String</b>, default) in Preferences at <a href=\"file:///home/javid/.julia/packages/Preferences/SHSJJ/src/Preferences.jl\" target=\"_blank\">/home/javid/.julia/packages/Preferences/SHSJJ/src/Preferences.jl:69</a><li> has_preference(m::<b>Module</b>, key::<b>String</b>) in Preferences at <a href=\"file:///home/javid/.julia/packages/Preferences/SHSJJ/src/Preferences.jl\" target=\"_blank\">/home/javid/.julia/packages/Preferences/SHSJJ/src/Preferences.jl:73</a><li> has_preference(m::<b>Module</b>, key::<b>String</b>, default) in Preferences at <a href=\"file:///home/javid/.julia/packages/Preferences/SHSJJ/src/Preferences.jl\" target=\"_blank\">/home/javid/.julia/packages/Preferences/SHSJJ/src/Preferences.jl:73</a><li> load_preference(uuid::<b>Base.UUID</b>, key::<b>String</b>) in Preferences at <a href=\"file:///home/javid/.julia/packages/Preferences/SHSJJ/src/Preferences.jl\" target=\"_blank\">/home/javid/.julia/packages/Preferences/SHSJJ/src/Preferences.jl:27</a><li> load_preference(uuid::<b>Base.UUID</b>, key::<b>String</b>, default) in Preferences at <a href=\"file:///home/javid/.julia/packages/Preferences/SHSJJ/src/Preferences.jl\" target=\"_blank\">/home/javid/.julia/packages/Preferences/SHSJJ/src/Preferences.jl:27</a><li> load_preference(m::<b>Module</b>, key::<b>String</b>) in Preferences at <a href=\"file:///home/javid/.julia/packages/Preferences/SHSJJ/src/Preferences.jl\" target=\"_blank\">/home/javid/.julia/packages/Preferences/SHSJJ/src/Preferences.jl:47</a><li> load_preference(m::<b>Module</b>, key::<b>String</b>, default) in Preferences at <a href=\"file:///home/javid/.julia/packages/Preferences/SHSJJ/src/Preferences.jl\" target=\"_blank\">/home/javid/.julia/packages/Preferences/SHSJJ/src/Preferences.jl:47</a><li> set_preferences!(target_toml::<b>String</b>, pkg_name::<b>String</b>, pairs::<b>Pair{String, var\"#s10\"} where var\"#s10\"...</b>; <i>force</i>) in Preferences at <a href=\"file:///home/javid/.julia/packages/Preferences/SHSJJ/src/Preferences.jl\" target=\"_blank\">/home/javid/.julia/packages/Preferences/SHSJJ/src/Preferences.jl:124</a><li> hmac_sha1(key::<b>Vector{UInt8}</b>, str::<b>String</b>) in SHA at <a href=\"file:///build/julia/src/julia-1.6.4/usr/share/julia/stdlib/v1.6/SHA/src/SHA.jl\" target=\"_blank\">/usr/share/julia/stdlib/v1.6/SHA/src/SHA.jl:109</a><li> hmac_sha224(key::<b>Vector{UInt8}</b>, str::<b>String</b>) in SHA at <a href=\"file:///build/julia/src/julia-1.6.4/usr/share/julia/stdlib/v1.6/SHA/src/SHA.jl\" target=\"_blank\">/usr/share/julia/stdlib/v1.6/SHA/src/SHA.jl:109</a><li> hmac_sha256(key::<b>Vector{UInt8}</b>, str::<b>String</b>) in SHA at <a href=\"file:///build/julia/src/julia-1.6.4/usr/share/julia/stdlib/v1.6/SHA/src/SHA.jl\" target=\"_blank\">/usr/share/julia/stdlib/v1.6/SHA/src/SHA.jl:109</a><li> hmac_sha2_224(key::<b>Vector{UInt8}</b>, str::<b>String</b>) in SHA at <a href=\"file:///build/julia/src/julia-1.6.4/usr/share/julia/stdlib/v1.6/SHA/src/SHA.jl\" target=\"_blank\">/usr/share/julia/stdlib/v1.6/SHA/src/SHA.jl:109</a><li> hmac_sha2_256(key::<b>Vector{UInt8}</b>, str::<b>String</b>) in SHA at <a href=\"file:///build/julia/src/julia-1.6.4/usr/share/julia/stdlib/v1.6/SHA/src/SHA.jl\" target=\"_blank\">/usr/share/julia/stdlib/v1.6/SHA/src/SHA.jl:109</a><li> hmac_sha2_384(key::<b>Vector{UInt8}</b>, str::<b>String</b>) in SHA at <a href=\"file:///build/julia/src/julia-1.6.4/usr/share/julia/stdlib/v1.6/SHA/src/SHA.jl\" target=\"_blank\">/usr/share/julia/stdlib/v1.6/SHA/src/SHA.jl:109</a><li> hmac_sha2_512(key::<b>Vector{UInt8}</b>, str::<b>String</b>) in SHA at <a href=\"file:///build/julia/src/julia-1.6.4/usr/share/julia/stdlib/v1.6/SHA/src/SHA.jl\" target=\"_blank\">/usr/share/julia/stdlib/v1.6/SHA/src/SHA.jl:109</a><li> hmac_sha384(key::<b>Vector{UInt8}</b>, str::<b>String</b>) in SHA at <a href=\"file:///build/julia/src/julia-1.6.4/usr/share/julia/stdlib/v1.6/SHA/src/SHA.jl\" target=\"_blank\">/usr/share/julia/stdlib/v1.6/SHA/src/SHA.jl:109</a><li> hmac_sha3_224(key::<b>Vector{UInt8}</b>, str::<b>String</b>) in SHA at <a href=\"file:///build/julia/src/julia-1.6.4/usr/share/julia/stdlib/v1.6/SHA/src/SHA.jl\" target=\"_blank\">/usr/share/julia/stdlib/v1.6/SHA/src/SHA.jl:109</a><li> hmac_sha3_256(key::<b>Vector{UInt8}</b>, str::<b>String</b>) in SHA at <a href=\"file:///build/julia/src/julia-1.6.4/usr/share/julia/stdlib/v1.6/SHA/src/SHA.jl\" target=\"_blank\">/usr/share/julia/stdlib/v1.6/SHA/src/SHA.jl:109</a><li> hmac_sha3_384(key::<b>Vector{UInt8}</b>, str::<b>String</b>) in SHA at <a href=\"file:///build/julia/src/julia-1.6.4/usr/share/julia/stdlib/v1.6/SHA/src/SHA.jl\" target=\"_blank\">/usr/share/julia/stdlib/v1.6/SHA/src/SHA.jl:109</a><li> hmac_sha3_512(key::<b>Vector{UInt8}</b>, str::<b>String</b>) in SHA at <a href=\"file:///build/julia/src/julia-1.6.4/usr/share/julia/stdlib/v1.6/SHA/src/SHA.jl\" target=\"_blank\">/usr/share/julia/stdlib/v1.6/SHA/src/SHA.jl:109</a><li> hmac_sha512(key::<b>Vector{UInt8}</b>, str::<b>String</b>) in SHA at <a href=\"file:///build/julia/src/julia-1.6.4/usr/share/julia/stdlib/v1.6/SHA/src/SHA.jl\" target=\"_blank\">/usr/share/julia/stdlib/v1.6/SHA/src/SHA.jl:109</a><li> sha1(str::<b>String</b>) in SHA at <a href=\"file:///build/julia/src/julia-1.6.4/usr/share/julia/stdlib/v1.6/SHA/src/SHA.jl\" target=\"_blank\">/usr/share/julia/stdlib/v1.6/SHA/src/SHA.jl:107</a><li> sha224(str::<b>String</b>) in SHA at <a href=\"file:///build/julia/src/julia-1.6.4/usr/share/julia/stdlib/v1.6/SHA/src/SHA.jl\" target=\"_blank\">/usr/share/julia/stdlib/v1.6/SHA/src/SHA.jl:107</a><li> sha256(str::<b>String</b>) in SHA at <a href=\"file:///build/julia/src/julia-1.6.4/usr/share/julia/stdlib/v1.6/SHA/src/SHA.jl\" target=\"_blank\">/usr/share/julia/stdlib/v1.6/SHA/src/SHA.jl:107</a><li> sha2_224(str::<b>String</b>) in SHA at <a href=\"file:///build/julia/src/julia-1.6.4/usr/share/julia/stdlib/v1.6/SHA/src/SHA.jl\" target=\"_blank\">/usr/share/julia/stdlib/v1.6/SHA/src/SHA.jl:107</a><li> sha2_256(str::<b>String</b>) in SHA at <a href=\"file:///build/julia/src/julia-1.6.4/usr/share/julia/stdlib/v1.6/SHA/src/SHA.jl\" target=\"_blank\">/usr/share/julia/stdlib/v1.6/SHA/src/SHA.jl:107</a><li> sha2_384(str::<b>String</b>) in SHA at <a href=\"file:///build/julia/src/julia-1.6.4/usr/share/julia/stdlib/v1.6/SHA/src/SHA.jl\" target=\"_blank\">/usr/share/julia/stdlib/v1.6/SHA/src/SHA.jl:107</a><li> sha2_512(str::<b>String</b>) in SHA at <a href=\"file:///build/julia/src/julia-1.6.4/usr/share/julia/stdlib/v1.6/SHA/src/SHA.jl\" target=\"_blank\">/usr/share/julia/stdlib/v1.6/SHA/src/SHA.jl:107</a><li> sha384(str::<b>String</b>) in SHA at <a href=\"file:///build/julia/src/julia-1.6.4/usr/share/julia/stdlib/v1.6/SHA/src/SHA.jl\" target=\"_blank\">/usr/share/julia/stdlib/v1.6/SHA/src/SHA.jl:107</a><li> sha3_224(str::<b>String</b>) in SHA at <a href=\"file:///build/julia/src/julia-1.6.4/usr/share/julia/stdlib/v1.6/SHA/src/SHA.jl\" target=\"_blank\">/usr/share/julia/stdlib/v1.6/SHA/src/SHA.jl:107</a><li> sha3_256(str::<b>String</b>) in SHA at <a href=\"file:///build/julia/src/julia-1.6.4/usr/share/julia/stdlib/v1.6/SHA/src/SHA.jl\" target=\"_blank\">/usr/share/julia/stdlib/v1.6/SHA/src/SHA.jl:107</a><li> sha3_384(str::<b>String</b>) in SHA at <a href=\"file:///build/julia/src/julia-1.6.4/usr/share/julia/stdlib/v1.6/SHA/src/SHA.jl\" target=\"_blank\">/usr/share/julia/stdlib/v1.6/SHA/src/SHA.jl:107</a><li> sha3_512(str::<b>String</b>) in SHA at <a href=\"file:///build/julia/src/julia-1.6.4/usr/share/julia/stdlib/v1.6/SHA/src/SHA.jl\" target=\"_blank\">/usr/share/julia/stdlib/v1.6/SHA/src/SHA.jl:107</a><li> sha512(str::<b>String</b>) in SHA at <a href=\"file:///build/julia/src/julia-1.6.4/usr/share/julia/stdlib/v1.6/SHA/src/SHA.jl\" target=\"_blank\">/usr/share/julia/stdlib/v1.6/SHA/src/SHA.jl:107</a><li> unwatch_folder(s::<b>String</b>) in FileWatching at <a href=\"file:///build/julia/src/julia-1.6.4/usr/share/julia/stdlib/v1.6/FileWatching/src/FileWatching.jl\" target=\"_blank\">/usr/share/julia/stdlib/v1.6/FileWatching/src/FileWatching.jl:780</a><li> watch_file(s::<b>String</b>) in FileWatching at <a href=\"file:///build/julia/src/julia-1.6.4/usr/share/julia/stdlib/v1.6/FileWatching/src/FileWatching.jl\" target=\"_blank\">/usr/share/julia/stdlib/v1.6/FileWatching/src/FileWatching.jl:701</a><li> watch_file(s::<b>String</b>, timeout_s::<b>Float64</b>) in FileWatching at <a href=\"file:///build/julia/src/julia-1.6.4/usr/share/julia/stdlib/v1.6/FileWatching/src/FileWatching.jl\" target=\"_blank\">/usr/share/julia/stdlib/v1.6/FileWatching/src/FileWatching.jl:701</a><li> watch_folder(s::<b>String</b>) in FileWatching at <a href=\"file:///build/julia/src/julia-1.6.4/usr/share/julia/stdlib/v1.6/FileWatching/src/FileWatching.jl\" target=\"_blank\">/usr/share/julia/stdlib/v1.6/FileWatching/src/FileWatching.jl:735</a><li> watch_folder(s::<b>String</b>, timeout_s::<b>Real</b>) in FileWatching at <a href=\"file:///build/julia/src/julia-1.6.4/usr/share/julia/stdlib/v1.6/FileWatching/src/FileWatching.jl\" target=\"_blank\">/usr/share/julia/stdlib/v1.6/FileWatching/src/FileWatching.jl:735</a><li> artifact_hash(name::<b>String</b>, artifacts_toml::<b>String</b>; <i>platform, pkg_uuid</i>) in Artifacts at <a href=\"file:///build/julia/src/julia-1.6.4/usr/share/julia/stdlib/v1.6/Artifacts/src/Artifacts.jl\" target=\"_blank\">/usr/share/julia/stdlib/v1.6/Artifacts/src/Artifacts.jl:419</a><li> artifact_meta(name::<b>String</b>, artifacts_toml::<b>String</b>; <i>platform, pkg_uuid</i>) in Artifacts at <a href=\"file:///build/julia/src/julia-1.6.4/usr/share/julia/stdlib/v1.6/Artifacts/src/Artifacts.jl\" target=\"_blank\">/usr/share/julia/stdlib/v1.6/Artifacts/src/Artifacts.jl:366</a><li> artifact_meta(name::<b>String</b>, artifact_dict::<b>Dict</b>, artifacts_toml::<b>String</b>; <i>platform</i>) in Artifacts at <a href=\"file:///build/julia/src/julia-1.6.4/usr/share/julia/stdlib/v1.6/Artifacts/src/Artifacts.jl\" target=\"_blank\">/usr/share/julia/stdlib/v1.6/Artifacts/src/Artifacts.jl:378</a><li> find_artifacts_toml(path::<b>String</b>) in Artifacts at <a href=\"file:///build/julia/src/julia-1.6.4/usr/share/julia/stdlib/v1.6/Artifacts/src/Artifacts.jl\" target=\"_blank\">/usr/share/julia/stdlib/v1.6/Artifacts/src/Artifacts.jl:484</a><li> select_downloadable_artifacts(artifact_dict::<b>Dict</b>, artifacts_toml::<b>String</b>; <i>platform, pkg_uuid, include_lazy</i>) in Artifacts at <a href=\"file:///build/julia/src/julia-1.6.4/usr/share/julia/stdlib/v1.6/Artifacts/src/Artifacts.jl\" target=\"_blank\">/usr/share/julia/stdlib/v1.6/Artifacts/src/Artifacts.jl:430</a><li> select_downloadable_artifacts(artifacts_toml::<b>String</b>; <i>platform, include_lazy, pkg_uuid</i>) in Artifacts at <a href=\"file:///build/julia/src/julia-1.6.4/usr/share/julia/stdlib/v1.6/Artifacts/src/Artifacts.jl\" target=\"_blank\">/usr/share/julia/stdlib/v1.6/Artifacts/src/Artifacts.jl:462</a><li> var\"@pkg_str\"(__source__::<b>LineNumberNode</b>, __module__::<b>Module</b>, str::<b>String</b>) in Pkg.REPLMode at <a href=\"file:///build/julia/src/julia-1.6.4/usr/share/julia/stdlib/v1.6/Pkg/src/REPLMode/REPLMode.jl\" target=\"_blank\">/usr/share/julia/stdlib/v1.6/Pkg/src/REPLMode/REPLMode.jl:464</a><li> uuid5(ns::<b>Base.UUID</b>, name::<b>String</b>) in UUIDs at <a href=\"file:///build/julia/src/julia-1.6.4/usr/share/julia/stdlib/v1.6/UUIDs/src/UUIDs.jl\" target=\"_blank\">/usr/share/julia/stdlib/v1.6/UUIDs/src/UUIDs.jl:135</a><li> getaddrinfo(host::<b>String</b>, T::<b>Type{var\"#s814\"} where var\"#s814\"<:Sockets.IPAddr</b>) in Sockets at <a href=\"file:///build/julia/src/julia-1.6.4/usr/share/julia/stdlib/v1.6/Sockets/src/addrinfo.jl\" target=\"_blank\">/usr/share/julia/stdlib/v1.6/Sockets/src/addrinfo.jl:130</a><li> getalladdrinfo(host::<b>String</b>) in Sockets at <a href=\"file:///build/julia/src/julia-1.6.4/usr/share/julia/stdlib/v1.6/Sockets/src/addrinfo.jl\" target=\"_blank\">/usr/share/julia/stdlib/v1.6/Sockets/src/addrinfo.jl:66</a><li> join_multicast_group(sock::<b>Sockets.UDPSocket</b>, group_addr::<b>String</b>) in Sockets at <a href=\"file:///build/julia/src/julia-1.6.4/usr/share/julia/stdlib/v1.6/Sockets/src/Sockets.jl\" target=\"_blank\">/usr/share/julia/stdlib/v1.6/Sockets/src/Sockets.jl:761</a><li> join_multicast_group(sock::<b>Sockets.UDPSocket</b>, group_addr::<b>String</b>, interface_addr::<b>Union{Nothing, String}</b>) in Sockets at <a href=\"file:///build/julia/src/julia-1.6.4/usr/share/julia/stdlib/v1.6/Sockets/src/Sockets.jl\" target=\"_blank\">/usr/share/julia/stdlib/v1.6/Sockets/src/Sockets.jl:761</a><li> leave_multicast_group(sock::<b>Sockets.UDPSocket</b>, group_addr::<b>String</b>) in Sockets at <a href=\"file:///build/julia/src/julia-1.6.4/usr/share/julia/stdlib/v1.6/Sockets/src/Sockets.jl\" target=\"_blank\">/usr/share/julia/stdlib/v1.6/Sockets/src/Sockets.jl:780</a><li> leave_multicast_group(sock::<b>Sockets.UDPSocket</b>, group_addr::<b>String</b>, interface_addr::<b>Union{Nothing, String}</b>) in Sockets at <a href=\"file:///build/julia/src/julia-1.6.4/usr/share/julia/stdlib/v1.6/Sockets/src/Sockets.jl\" target=\"_blank\">/usr/share/julia/stdlib/v1.6/Sockets/src/Sockets.jl:780</a><li> ==(a::<b>String</b>, b::<b>String</b>) in Base at <a href=\"https://github.com/JuliaLang/julia/tree/35f0c911f443ae0d3933e1bce4321afd0f345aed/base/strings/string.jl#L118\" target=\"_blank\">strings/string.jl:118</a><li> ==(a::<b>Union{SubString{String}, String}</b>, b::<b>Union{SubString{String}, String}</b>) in Base at <a href=\"https://github.com/JuliaLang/julia/tree/35f0c911f443ae0d3933e1bce4321afd0f345aed/base/strings/substring.jl#L102\" target=\"_blank\">strings/substring.jl:102</a><li> abspath(a::<b>String</b>) in Base.Filesystem at <a href=\"https://github.com/JuliaLang/julia/tree/35f0c911f443ae0d3933e1bce4321afd0f345aed/base/path.jl#L390\" target=\"_blank\">path.jl:390</a><li> ascii(s::<b>String</b>) in Base at <a href=\"https://github.com/JuliaLang/julia/tree/35f0c911f443ae0d3933e1bce4321afd0f345aed/base/strings/util.jl#L708\" target=\"_blank\">strings/util.jl:708</a><li> chomp(s::<b>String</b>) in Base at <a href=\"https://github.com/JuliaLang/julia/tree/35f0c911f443ae0d3933e1bce4321afd0f345aed/base/strings/util.jl#L212\" target=\"_blank\">strings/util.jl:212</a><li> cmp(a::<b>String</b>, b::<b>String</b>) in Base at <a href=\"https://github.com/JuliaLang/julia/tree/35f0c911f443ae0d3933e1bce4321afd0f345aed/base/strings/string.jl#L112\" target=\"_blank\">strings/string.jl:112</a><li> codeunit(s::<b>String</b>) in Base at <a href=\"https://github.com/JuliaLang/julia/tree/35f0c911f443ae0d3933e1bce4321afd0f345aed/base/strings/string.jl#L99\" target=\"_blank\">strings/string.jl:99</a><li> codeunit(s::<b>String</b>, i::<b>Integer</b>) in Base at <a href=\"https://github.com/JuliaLang/julia/tree/35f0c911f443ae0d3933e1bce4321afd0f345aed/base/strings/string.jl#L101\" target=\"_blank\">strings/string.jl:101</a><li> convert(::<b>Type{String}</b>, x::<b>String</b>) in Base at <a href=\"https://github.com/JuliaLang/julia/tree/35f0c911f443ae0d3933e1bce4321afd0f345aed/base/essentials.jl#L210\" target=\"_blank\">essentials.jl:210</a><li> dump(io::<b>IOContext</b>, x::<b>String</b>, n::<b>Int64</b>, indent) in Base at <a href=\"https://github.com/JuliaLang/julia/tree/35f0c911f443ae0d3933e1bce4321afd0f345aed/base/show.jl#L2461\" target=\"_blank\">show.jl:2461</a><li> endswith(a::<b>Union{SubString{String}, String}</b>, b::<b>Union{SubString{String}, String}</b>) in Base at <a href=\"https://github.com/JuliaLang/julia/tree/35f0c911f443ae0d3933e1bce4321afd0f345aed/base/strings/util.jl#L60\" target=\"_blank\">strings/util.jl:60</a><li> filter(f, s::<b>Union{SubString{String}, String}</b>) in Base at <a href=\"https://github.com/JuliaLang/julia/tree/35f0c911f443ae0d3933e1bce4321afd0f345aed/base/strings/substring.jl#L242\" target=\"_blank\">strings/substring.jl:242</a><li> findall(path::<b>String</b>, idx::<b>LibGit2.GitIndex</b>) in LibGit2 at <a href=\"file:///build/julia/src/julia-1.6.4/usr/share/julia/stdlib/v1.6/LibGit2/src/index.jl\" target=\"_blank\">/usr/share/julia/stdlib/v1.6/LibGit2/src/index.jl:191</a><li> findnext(pred::<b>Base.Fix2{var\"#s77\", var\"#s76\"} where {var\"#s77\"<:Union{typeof(==), typeof(isequal)}, var\"#s76\"<:AbstractChar}</b>, s::<b>String</b>, i::<b>Integer</b>) in Base at <a href=\"https://github.com/JuliaLang/julia/tree/35f0c911f443ae0d3933e1bce4321afd0f345aed/base/strings/search.jl#L5\" target=\"_blank\">strings/search.jl:5</a><li> findnext(re::<b>Regex</b>, str::<b>Union{String, SubString}</b>, idx::<b>Integer</b>) in Base at <a href=\"https://github.com/JuliaLang/julia/tree/35f0c911f443ae0d3933e1bce4321afd0f345aed/base/regex.jl#L321\" target=\"_blank\">regex.jl:321</a><li> findprev(pred::<b>Base.Fix2{var\"#s77\", var\"#s76\"} where {var\"#s77\"<:Union{typeof(==), typeof(isequal)}, var\"#s76\"<:AbstractChar}</b>, s::<b>String</b>, i::<b>Integer</b>) in Base at <a href=\"https://github.com/JuliaLang/julia/tree/35f0c911f443ae0d3933e1bce4321afd0f345aed/base/strings/search.jl#L49\" target=\"_blank\">strings/search.jl:49</a><li> gensym(s::<b>String</b>) in Base at <a href=\"https://github.com/JuliaLang/julia/tree/35f0c911f443ae0d3933e1bce4321afd0f345aed/base/expr.jl#L12\" target=\"_blank\">expr.jl:12</a><li> getindex(p::<b>Base.BinaryPlatforms.AbstractPlatform</b>, k::<b>String</b>) in Base.BinaryPlatforms at <a href=\"https://github.com/JuliaLang/julia/tree/35f0c911f443ae0d3933e1bce4321afd0f345aed/base/binaryplatforms.jl#L137\" target=\"_blank\">binaryplatforms.jl:137</a><li> getindex(s::<b>String</b>, i::<b>Int64</b>) in Base at <a href=\"https://github.com/JuliaLang/julia/tree/35f0c911f443ae0d3933e1bce4321afd0f345aed/base/strings/string.jl#L222\" target=\"_blank\">strings/string.jl:222</a><li> getindex(s::<b>String</b>, r::<b>UnitRange{Int64}</b>) in Base at <a href=\"https://github.com/JuliaLang/julia/tree/35f0c911f443ae0d3933e1bce4321afd0f345aed/base/strings/string.jl#L257\" target=\"_blank\">strings/string.jl:257</a><li> getindex(s::<b>String</b>, r::<b>UnitRange{var\"#s77\"} where var\"#s77\"<:Integer</b>) in Base at <a href=\"https://github.com/JuliaLang/julia/tree/35f0c911f443ae0d3933e1bce4321afd0f345aed/base/strings/string.jl#L255\" target=\"_blank\">strings/string.jl:255</a><li> hash(s::<b>String</b>, h::<b>UInt64</b>) in Base at <a href=\"https://github.com/JuliaLang/julia/tree/35f0c911f443ae0d3933e1bce4321afd0f345aed/base/hashing.jl#L101\" target=\"_blank\">hashing.jl:101</a><li> haskey(p::<b>Base.BinaryPlatforms.AbstractPlatform</b>, k::<b>String</b>) in Base.BinaryPlatforms at <a href=\"https://github.com/JuliaLang/julia/tree/35f0c911f443ae0d3933e1bce4321afd0f345aed/base/binaryplatforms.jl#L138\" target=\"_blank\">binaryplatforms.jl:138</a><li> hex2bytes(s::<b>Union{String, AbstractVector{UInt8}}</b>) in Base at <a href=\"https://github.com/JuliaLang/julia/tree/35f0c911f443ae0d3933e1bce4321afd0f345aed/base/strings/util.jl#L636\" target=\"_blank\">strings/util.jl:636</a><li> hex2bytes!(d::<b>AbstractVector{UInt8}</b>, s::<b>Union{String, AbstractVector{UInt8}}</b>) in Base at <a href=\"https://github.com/JuliaLang/julia/tree/35f0c911f443ae0d3933e1bce4321afd0f345aed/base/strings/util.jl#L650\" target=\"_blank\">strings/util.jl:650</a><li> isascii(s::<b>String</b>) in Base at <a href=\"https://github.com/JuliaLang/julia/tree/35f0c911f443ae0d3933e1bce4321afd0f345aed/base/strings/string.jl#L314\" target=\"_blank\">strings/string.jl:314</a><li> isdirpath(path::<b>String</b>) in Base.Filesystem at <a href=\"https://github.com/JuliaLang/julia/tree/35f0c911f443ae0d3933e1bce4321afd0f345aed/base/path.jl#L117\" target=\"_blank\">path.jl:117</a><li> isvalid(::<b>Type{String}</b>, s::<b>Union{String, SubArray{UInt8, 1, Vector{UInt8}, I, true} where I<:Union{Tuple{Vararg{Real, N} where N}, Tuple{AbstractUnitRange, Vararg{Any, N} where N}}, Vector{UInt8}}</b>) in Base at <a href=\"https://github.com/JuliaLang/julia/tree/35f0c911f443ae0d3933e1bce4321afd0f345aed/base/strings/string.jl#L185\" target=\"_blank\">strings/string.jl:185</a><li> isvalid(s::<b>String</b>) in Base at <a href=\"https://github.com/JuliaLang/julia/tree/35f0c911f443ae0d3933e1bce4321afd0f345aed/base/strings/string.jl#L186\" target=\"_blank\">strings/string.jl:186</a><li> isvalid(s::<b>String</b>, i::<b>Int64</b>) in Base at <a href=\"https://github.com/JuliaLang/julia/tree/35f0c911f443ae0d3933e1bce4321afd0f345aed/base/strings/string.jl#L312\" target=\"_blank\">strings/string.jl:312</a><li> iterate(s::<b>String</b>) in Base at <a href=\"https://github.com/JuliaLang/julia/tree/35f0c911f443ae0d3933e1bce4321afd0f345aed/base/strings/string.jl#L192\" target=\"_blank\">strings/string.jl:192</a><li> iterate(s::<b>String</b>, i::<b>Int64</b>) in Base at <a href=\"https://github.com/JuliaLang/julia/tree/35f0c911f443ae0d3933e1bce4321afd0f345aed/base/strings/string.jl#L192\" target=\"_blank\">strings/string.jl:192</a><li> length(s::<b>String</b>) in Base at <a href=\"https://github.com/JuliaLang/julia/tree/35f0c911f443ae0d3933e1bce4321afd0f345aed/base/strings/string.jl#L272\" target=\"_blank\">strings/string.jl:272</a><li> length(s::<b>String</b>, i::<b>Int64</b>, j::<b>Int64</b>) in Base at <a href=\"https://github.com/JuliaLang/julia/tree/35f0c911f443ae0d3933e1bce4321afd0f345aed/base/strings/string.jl#L274\" target=\"_blank\">strings/string.jl:274</a><li> match(re::<b>Regex</b>, str::<b>Union{SubString{String}, String}</b>, idx::<b>Integer</b>) in Base at <a href=\"https://github.com/JuliaLang/julia/tree/35f0c911f443ae0d3933e1bce4321afd0f345aed/base/regex.jl#L295\" target=\"_blank\">regex.jl:295</a><li> match(re::<b>Regex</b>, str::<b>Union{SubString{String}, String}</b>, idx::<b>Integer</b>, add_opts::<b>UInt32</b>) in Base at <a href=\"https://github.com/JuliaLang/julia/tree/35f0c911f443ae0d3933e1bce4321afd0f345aed/base/regex.jl#L295\" target=\"_blank\">regex.jl:295</a><li> ncodeunits(s::<b>String</b>) in Base at <a href=\"https://github.com/JuliaLang/julia/tree/35f0c911f443ae0d3933e1bce4321afd0f345aed/base/strings/string.jl#L98\" target=\"_blank\">strings/string.jl:98</a><li> nextind(s::<b>String</b>, i::<b>Int64</b>) in Base at <a href=\"https://github.com/JuliaLang/julia/tree/35f0c911f443ae0d3933e1bce4321afd0f345aed/base/strings/string.jl#L150\" target=\"_blank\">strings/string.jl:150</a><li> normpath(path::<b>String</b>) in Base.Filesystem at <a href=\"https://github.com/JuliaLang/julia/tree/35f0c911f443ae0d3933e1bce4321afd0f345aed/base/path.jl#L342\" target=\"_blank\">path.jl:342</a><li> pointer(s::<b>String</b>) in Base at <a href=\"https://github.com/JuliaLang/julia/tree/35f0c911f443ae0d3933e1bce4321afd0f345aed/base/strings/string.jl#L95\" target=\"_blank\">strings/string.jl:95</a><li> pointer(s::<b>String</b>, i::<b>Integer</b>) in Base at <a href=\"https://github.com/JuliaLang/julia/tree/35f0c911f443ae0d3933e1bce4321afd0f345aed/base/strings/string.jl#L96\" target=\"_blank\">strings/string.jl:96</a><li> print(io::<b>IO</b>, s::<b>Union{SubString{String}, String}</b>) in Base at <a href=\"https://github.com/JuliaLang/julia/tree/35f0c911f443ae0d3933e1bce4321afd0f345aed/base/strings/io.jl#L187\" target=\"_blank\">strings/io.jl:187</a><li> relpath(path::<b>String</b>) in Base.Filesystem at <a href=\"https://github.com/JuliaLang/julia/tree/35f0c911f443ae0d3933e1bce4321afd0f345aed/base/path.jl#L511\" target=\"_blank\">path.jl:511</a><li> relpath(path::<b>String</b>, startpath::<b>String</b>) in Base.Filesystem at <a href=\"https://github.com/JuliaLang/julia/tree/35f0c911f443ae0d3933e1bce4321afd0f345aed/base/path.jl#L511\" target=\"_blank\">path.jl:511</a><li> repeat(s::<b>Union{SubString{String}, String}</b>, r::<b>Integer</b>) in Base at <a href=\"https://github.com/JuliaLang/julia/tree/35f0c911f443ae0d3933e1bce4321afd0f345aed/base/strings/substring.jl#L225\" target=\"_blank\">strings/substring.jl:225</a><li> replace(str::<b>String</b>, pat_repl::<b>Pair{var\"#s75\", B} where {var\"#s75\"<:AbstractChar, B}</b>; <i>count</i>) in Base at <a href=\"https://github.com/JuliaLang/julia/tree/35f0c911f443ae0d3933e1bce4321afd0f345aed/base/strings/util.jl#L513\" target=\"_blank\">strings/util.jl:513</a><li> replace(str::<b>String</b>, pat_repl::<b>Pair{var\"#s72\", B} where {var\"#s72\"<:Union{Tuple{Vararg{AbstractChar, N} where N}, Set{var\"#s53\"} where var\"#s53\"<:AbstractChar, AbstractVector{var\"#s54\"} where var\"#s54\"<:AbstractChar}, B}</b>; <i>count</i>) in Base at <a href=\"https://github.com/JuliaLang/julia/tree/35f0c911f443ae0d3933e1bce4321afd0f345aed/base/strings/util.jl#L518\" target=\"_blank\">strings/util.jl:518</a><li> replace(str::<b>String</b>, pat_repl::<b>Pair</b>; <i>count</i>) in Base at <a href=\"https://github.com/JuliaLang/julia/tree/35f0c911f443ae0d3933e1bce4321afd0f345aed/base/strings/util.jl#L524\" target=\"_blank\">strings/util.jl:524</a><li> reverse(s::<b>Union{SubString{String}, String}</b>) in Base at <a href=\"https://github.com/JuliaLang/julia/tree/35f0c911f443ae0d3933e1bce4321afd0f345aed/base/strings/substring.jl#L166\" target=\"_blank\">strings/substring.jl:166</a><li> setindex!(p::<b>Base.BinaryPlatforms.AbstractPlatform</b>, v::<b>String</b>, k::<b>String</b>) in Base.BinaryPlatforms at <a href=\"https://github.com/JuliaLang/julia/tree/35f0c911f443ae0d3933e1bce4321afd0f345aed/base/binaryplatforms.jl#L139\" target=\"_blank\">binaryplatforms.jl:139</a><li> sizeof(s::<b>String</b>) in Base at <a href=\"https://github.com/JuliaLang/julia/tree/35f0c911f443ae0d3933e1bce4321afd0f345aed/base/Base.jl#L147\" target=\"_blank\">Base.jl:147</a><li> splitdir(path::<b>String</b>) in Base.Filesystem at <a href=\"https://github.com/JuliaLang/julia/tree/35f0c911f443ae0d3933e1bce4321afd0f345aed/base/path.jl#L130\" target=\"_blank\">path.jl:130</a><li> splitdrive(path::<b>String</b>) in Base.Filesystem at <a href=\"https://github.com/JuliaLang/julia/tree/35f0c911f443ae0d3933e1bce4321afd0f345aed/base/path.jl#L28\" target=\"_blank\">path.jl:28</a><li> splitext(path::<b>String</b>) in Base.Filesystem at <a href=\"https://github.com/JuliaLang/julia/tree/35f0c911f443ae0d3933e1bce4321afd0f345aed/base/path.jl#L201\" target=\"_blank\">path.jl:201</a><li> splitpath(p::<b>String</b>) in Base.Filesystem at <a href=\"https://github.com/JuliaLang/julia/tree/35f0c911f443ae0d3933e1bce4321afd0f345aed/base/path.jl#L233\" target=\"_blank\">path.jl:233</a><li> startswith(a::<b>Union{SubString{String}, String}</b>, b::<b>Union{SubString{String}, String}</b>) in Base at <a href=\"https://github.com/JuliaLang/julia/tree/35f0c911f443ae0d3933e1bce4321afd0f345aed/base/strings/util.jl#L48\" target=\"_blank\">strings/util.jl:48</a><li> string(a::<b>String</b>) in Base at <a href=\"https://github.com/JuliaLang/julia/tree/35f0c911f443ae0d3933e1bce4321afd0f345aed/base/strings/substring.jl#L177\" target=\"_blank\">strings/substring.jl:177</a><li> thisind(s::<b>String</b>, i::<b>Int64</b>) in Base at <a href=\"https://github.com/JuliaLang/julia/tree/35f0c911f443ae0d3933e1bce4321afd0f345aed/base/strings/string.jl#L129\" target=\"_blank\">strings/string.jl:129</a><li> transcode(::<b>Type{String}</b>, src::<b>String</b>) in Base at <a href=\"https://github.com/JuliaLang/julia/tree/35f0c911f443ae0d3933e1bce4321afd0f345aed/base/c.jl#L290\" target=\"_blank\">c.jl:290</a><li> transcode(::<b>Type{T}</b>, src::<b>String</b>)<i> where T<:Union{Int32, UInt32}</i> in Base at <a href=\"https://github.com/JuliaLang/julia/tree/35f0c911f443ae0d3933e1bce4321afd0f345aed/base/c.jl#L277\" target=\"_blank\">c.jl:277</a><li> transcode(T, src::<b>String</b>) in Base at <a href=\"https://github.com/JuliaLang/julia/tree/35f0c911f443ae0d3933e1bce4321afd0f345aed/base/c.jl#L291\" target=\"_blank\">c.jl:291</a><li> tryparse(::<b>Type{Float64}</b>, s::<b>String</b>) in Base at <a href=\"https://github.com/JuliaLang/julia/tree/35f0c911f443ae0d3933e1bce4321afd0f345aed/base/parse.jl#L247\" target=\"_blank\">parse.jl:247</a><li> tryparse(::<b>Type{Float32}</b>, s::<b>String</b>) in Base at <a href=\"https://github.com/JuliaLang/julia/tree/35f0c911f443ae0d3933e1bce4321afd0f345aed/base/parse.jl#L267\" target=\"_blank\">parse.jl:267</a><li> typemin(::<b>String</b>) in Base at <a href=\"https://github.com/JuliaLang/julia/tree/35f0c911f443ae0d3933e1bce4321afd0f345aed/base/strings/string.jl#L125\" target=\"_blank\">strings/string.jl:125</a><li> unsafe_wrap(::<b>Type{Vector{UInt8}}</b>, s::<b>String</b>) in Base at <a href=\"https://github.com/JuliaLang/julia/tree/35f0c911f443ae0d3933e1bce4321afd0f345aed/base/strings/string.jl#L85\" target=\"_blank\">strings/string.jl:85</a><li> write(io::<b>IO</b>, s::<b>Union{SubString{String}, String}</b>) in Base at <a href=\"https://github.com/JuliaLang/julia/tree/35f0c911f443ae0d3933e1bce4321afd0f345aed/base/strings/io.jl#L185\" target=\"_blank\">strings/io.jl:185</a><li> crc32c(s::<b>String</b>) in CRC32c at <a href=\"file:///build/julia/src/julia-1.6.4/usr/share/julia/stdlib/v1.6/CRC32c/src/CRC32c.jl\" target=\"_blank\">/usr/share/julia/stdlib/v1.6/CRC32c/src/CRC32c.jl:39</a><li> crc32c(s::<b>String</b>, crc::<b>UInt32</b>) in CRC32c at <a href=\"file:///build/julia/src/julia-1.6.4/usr/share/julia/stdlib/v1.6/CRC32c/src/CRC32c.jl\" target=\"_blank\">/usr/share/julia/stdlib/v1.6/CRC32c/src/CRC32c.jl:39</a><li> serialize(s::<b>Serialization.AbstractSerializer</b>, ss::<b>String</b>) in Serialization at <a href=\"file:///build/julia/src/julia-1.6.4/usr/share/julia/stdlib/v1.6/Serialization/src/Serialization.jl\" target=\"_blank\">/usr/share/julia/stdlib/v1.6/Serialization/src/Serialization.jl:288</a></ul>"
      ],
      "text/plain": [
       "[1] vparse(s_::String) in VersionParsing at /home/javid/.julia/packages/VersionParsing/YFVo1/src/VersionParsing.jl:39\n",
       "[2] subscribe(socket::ZMQ.Socket, filter::Union{String, Vector{UInt8}}) in ZMQ at /home/javid/.julia/packages/ZMQ/R3wSD/src/sockopts.jl:75\n",
       "[3] unsubscribe(socket::ZMQ.Socket, filter::Union{String, Vector{UInt8}}) in ZMQ at /home/javid/.julia/packages/ZMQ/R3wSD/src/sockopts.jl:75\n",
       "[4] has_preference(uuid::Base.UUID, key::String) in Preferences at /home/javid/.julia/packages/Preferences/SHSJJ/src/Preferences.jl:69\n",
       "[5] has_preference(uuid::Base.UUID, key::String, default) in Preferences at /home/javid/.julia/packages/Preferences/SHSJJ/src/Preferences.jl:69\n",
       "[6] has_preference(m::Module, key::String) in Preferences at /home/javid/.julia/packages/Preferences/SHSJJ/src/Preferences.jl:73\n",
       "[7] has_preference(m::Module, key::String, default) in Preferences at /home/javid/.julia/packages/Preferences/SHSJJ/src/Preferences.jl:73\n",
       "[8] load_preference(uuid::Base.UUID, key::String) in Preferences at /home/javid/.julia/packages/Preferences/SHSJJ/src/Preferences.jl:27\n",
       "[9] load_preference(uuid::Base.UUID, key::String, default) in Preferences at /home/javid/.julia/packages/Preferences/SHSJJ/src/Preferences.jl:27\n",
       "[10] load_preference(m::Module, key::String) in Preferences at /home/javid/.julia/packages/Preferences/SHSJJ/src/Preferences.jl:47\n",
       "[11] load_preference(m::Module, key::String, default) in Preferences at /home/javid/.julia/packages/Preferences/SHSJJ/src/Preferences.jl:47\n",
       "[12] set_preferences!(target_toml::String, pkg_name::String, pairs::Pair{String, var\"#s10\"} where var\"#s10\"...; force) in Preferences at /home/javid/.julia/packages/Preferences/SHSJJ/src/Preferences.jl:124\n",
       "[13] hmac_sha1(key::Vector{UInt8}, str::String) in SHA at /usr/share/julia/stdlib/v1.6/SHA/src/SHA.jl:109\n",
       "[14] hmac_sha224(key::Vector{UInt8}, str::String) in SHA at /usr/share/julia/stdlib/v1.6/SHA/src/SHA.jl:109\n",
       "[15] hmac_sha256(key::Vector{UInt8}, str::String) in SHA at /usr/share/julia/stdlib/v1.6/SHA/src/SHA.jl:109\n",
       "[16] hmac_sha2_224(key::Vector{UInt8}, str::String) in SHA at /usr/share/julia/stdlib/v1.6/SHA/src/SHA.jl:109\n",
       "[17] hmac_sha2_256(key::Vector{UInt8}, str::String) in SHA at /usr/share/julia/stdlib/v1.6/SHA/src/SHA.jl:109\n",
       "[18] hmac_sha2_384(key::Vector{UInt8}, str::String) in SHA at /usr/share/julia/stdlib/v1.6/SHA/src/SHA.jl:109\n",
       "[19] hmac_sha2_512(key::Vector{UInt8}, str::String) in SHA at /usr/share/julia/stdlib/v1.6/SHA/src/SHA.jl:109\n",
       "[20] hmac_sha384(key::Vector{UInt8}, str::String) in SHA at /usr/share/julia/stdlib/v1.6/SHA/src/SHA.jl:109\n",
       "[21] hmac_sha3_224(key::Vector{UInt8}, str::String) in SHA at /usr/share/julia/stdlib/v1.6/SHA/src/SHA.jl:109\n",
       "[22] hmac_sha3_256(key::Vector{UInt8}, str::String) in SHA at /usr/share/julia/stdlib/v1.6/SHA/src/SHA.jl:109\n",
       "[23] hmac_sha3_384(key::Vector{UInt8}, str::String) in SHA at /usr/share/julia/stdlib/v1.6/SHA/src/SHA.jl:109\n",
       "[24] hmac_sha3_512(key::Vector{UInt8}, str::String) in SHA at /usr/share/julia/stdlib/v1.6/SHA/src/SHA.jl:109\n",
       "[25] hmac_sha512(key::Vector{UInt8}, str::String) in SHA at /usr/share/julia/stdlib/v1.6/SHA/src/SHA.jl:109\n",
       "[26] sha1(str::String) in SHA at /usr/share/julia/stdlib/v1.6/SHA/src/SHA.jl:107\n",
       "[27] sha224(str::String) in SHA at /usr/share/julia/stdlib/v1.6/SHA/src/SHA.jl:107\n",
       "[28] sha256(str::String) in SHA at /usr/share/julia/stdlib/v1.6/SHA/src/SHA.jl:107\n",
       "[29] sha2_224(str::String) in SHA at /usr/share/julia/stdlib/v1.6/SHA/src/SHA.jl:107\n",
       "[30] sha2_256(str::String) in SHA at /usr/share/julia/stdlib/v1.6/SHA/src/SHA.jl:107\n",
       "[31] sha2_384(str::String) in SHA at /usr/share/julia/stdlib/v1.6/SHA/src/SHA.jl:107\n",
       "[32] sha2_512(str::String) in SHA at /usr/share/julia/stdlib/v1.6/SHA/src/SHA.jl:107\n",
       "[33] sha384(str::String) in SHA at /usr/share/julia/stdlib/v1.6/SHA/src/SHA.jl:107\n",
       "[34] sha3_224(str::String) in SHA at /usr/share/julia/stdlib/v1.6/SHA/src/SHA.jl:107\n",
       "[35] sha3_256(str::String) in SHA at /usr/share/julia/stdlib/v1.6/SHA/src/SHA.jl:107\n",
       "[36] sha3_384(str::String) in SHA at /usr/share/julia/stdlib/v1.6/SHA/src/SHA.jl:107\n",
       "[37] sha3_512(str::String) in SHA at /usr/share/julia/stdlib/v1.6/SHA/src/SHA.jl:107\n",
       "[38] sha512(str::String) in SHA at /usr/share/julia/stdlib/v1.6/SHA/src/SHA.jl:107\n",
       "[39] unwatch_folder(s::String) in FileWatching at /usr/share/julia/stdlib/v1.6/FileWatching/src/FileWatching.jl:780\n",
       "[40] watch_file(s::String) in FileWatching at /usr/share/julia/stdlib/v1.6/FileWatching/src/FileWatching.jl:701\n",
       "[41] watch_file(s::String, timeout_s::Float64) in FileWatching at /usr/share/julia/stdlib/v1.6/FileWatching/src/FileWatching.jl:701\n",
       "[42] watch_folder(s::String) in FileWatching at /usr/share/julia/stdlib/v1.6/FileWatching/src/FileWatching.jl:735\n",
       "[43] watch_folder(s::String, timeout_s::Real) in FileWatching at /usr/share/julia/stdlib/v1.6/FileWatching/src/FileWatching.jl:735\n",
       "[44] artifact_hash(name::String, artifacts_toml::String; platform, pkg_uuid) in Artifacts at /usr/share/julia/stdlib/v1.6/Artifacts/src/Artifacts.jl:419\n",
       "[45] artifact_meta(name::String, artifacts_toml::String; platform, pkg_uuid) in Artifacts at /usr/share/julia/stdlib/v1.6/Artifacts/src/Artifacts.jl:366\n",
       "[46] artifact_meta(name::String, artifact_dict::Dict, artifacts_toml::String; platform) in Artifacts at /usr/share/julia/stdlib/v1.6/Artifacts/src/Artifacts.jl:378\n",
       "[47] find_artifacts_toml(path::String) in Artifacts at /usr/share/julia/stdlib/v1.6/Artifacts/src/Artifacts.jl:484\n",
       "[48] select_downloadable_artifacts(artifact_dict::Dict, artifacts_toml::String; platform, pkg_uuid, include_lazy) in Artifacts at /usr/share/julia/stdlib/v1.6/Artifacts/src/Artifacts.jl:430\n",
       "[49] select_downloadable_artifacts(artifacts_toml::String; platform, include_lazy, pkg_uuid) in Artifacts at /usr/share/julia/stdlib/v1.6/Artifacts/src/Artifacts.jl:462\n",
       "[50] var\"@pkg_str\"(__source__::LineNumberNode, __module__::Module, str::String) in Pkg.REPLMode at /usr/share/julia/stdlib/v1.6/Pkg/src/REPLMode/REPLMode.jl:464\n",
       "[51] uuid5(ns::Base.UUID, name::String) in UUIDs at /usr/share/julia/stdlib/v1.6/UUIDs/src/UUIDs.jl:135\n",
       "[52] getaddrinfo(host::String, T::Type{var\"#s814\"} where var\"#s814\"<:Sockets.IPAddr) in Sockets at /usr/share/julia/stdlib/v1.6/Sockets/src/addrinfo.jl:130\n",
       "[53] getalladdrinfo(host::String) in Sockets at /usr/share/julia/stdlib/v1.6/Sockets/src/addrinfo.jl:66\n",
       "[54] join_multicast_group(sock::Sockets.UDPSocket, group_addr::String) in Sockets at /usr/share/julia/stdlib/v1.6/Sockets/src/Sockets.jl:761\n",
       "[55] join_multicast_group(sock::Sockets.UDPSocket, group_addr::String, interface_addr::Union{Nothing, String}) in Sockets at /usr/share/julia/stdlib/v1.6/Sockets/src/Sockets.jl:761\n",
       "[56] leave_multicast_group(sock::Sockets.UDPSocket, group_addr::String) in Sockets at /usr/share/julia/stdlib/v1.6/Sockets/src/Sockets.jl:780\n",
       "[57] leave_multicast_group(sock::Sockets.UDPSocket, group_addr::String, interface_addr::Union{Nothing, String}) in Sockets at /usr/share/julia/stdlib/v1.6/Sockets/src/Sockets.jl:780\n",
       "[58] ==(a::String, b::String) in Base at strings/string.jl:118\n",
       "[59] ==(a::Union{SubString{String}, String}, b::Union{SubString{String}, String}) in Base at strings/substring.jl:102\n",
       "[60] abspath(a::String) in Base.Filesystem at path.jl:390\n",
       "[61] ascii(s::String) in Base at strings/util.jl:708\n",
       "[62] chomp(s::String) in Base at strings/util.jl:212\n",
       "[63] cmp(a::String, b::String) in Base at strings/string.jl:112\n",
       "[64] codeunit(s::String) in Base at strings/string.jl:99\n",
       "[65] codeunit(s::String, i::Integer) in Base at strings/string.jl:101\n",
       "[66] convert(::Type{String}, x::String) in Base at essentials.jl:210\n",
       "[67] dump(io::IOContext, x::String, n::Int64, indent) in Base at show.jl:2461\n",
       "[68] endswith(a::Union{SubString{String}, String}, b::Union{SubString{String}, String}) in Base at strings/util.jl:60\n",
       "[69] filter(f, s::Union{SubString{String}, String}) in Base at strings/substring.jl:242\n",
       "[70] findall(path::String, idx::LibGit2.GitIndex) in LibGit2 at /usr/share/julia/stdlib/v1.6/LibGit2/src/index.jl:191\n",
       "[71] findnext(pred::Base.Fix2{var\"#s77\", var\"#s76\"} where {var\"#s77\"<:Union{typeof(==), typeof(isequal)}, var\"#s76\"<:AbstractChar}, s::String, i::Integer) in Base at strings/search.jl:5\n",
       "[72] findnext(re::Regex, str::Union{String, SubString}, idx::Integer) in Base at regex.jl:321\n",
       "[73] findprev(pred::Base.Fix2{var\"#s77\", var\"#s76\"} where {var\"#s77\"<:Union{typeof(==), typeof(isequal)}, var\"#s76\"<:AbstractChar}, s::String, i::Integer) in Base at strings/search.jl:49\n",
       "[74] gensym(s::String) in Base at expr.jl:12\n",
       "[75] getindex(p::Base.BinaryPlatforms.AbstractPlatform, k::String) in Base.BinaryPlatforms at binaryplatforms.jl:137\n",
       "[76] getindex(s::String, i::Int64) in Base at strings/string.jl:222\n",
       "[77] getindex(s::String, r::UnitRange{Int64}) in Base at strings/string.jl:257\n",
       "[78] getindex(s::String, r::UnitRange{var\"#s77\"} where var\"#s77\"<:Integer) in Base at strings/string.jl:255\n",
       "[79] hash(s::String, h::UInt64) in Base at hashing.jl:101\n",
       "[80] haskey(p::Base.BinaryPlatforms.AbstractPlatform, k::String) in Base.BinaryPlatforms at binaryplatforms.jl:138\n",
       "[81] hex2bytes(s::Union{String, AbstractVector{UInt8}}) in Base at strings/util.jl:636\n",
       "[82] hex2bytes!(d::AbstractVector{UInt8}, s::Union{String, AbstractVector{UInt8}}) in Base at strings/util.jl:650\n",
       "[83] isascii(s::String) in Base at strings/string.jl:314\n",
       "[84] isdirpath(path::String) in Base.Filesystem at path.jl:117\n",
       "[85] isvalid(::Type{String}, s::Union{String, SubArray{UInt8, 1, Vector{UInt8}, I, true} where I<:Union{Tuple{Vararg{Real, N} where N}, Tuple{AbstractUnitRange, Vararg{Any, N} where N}}, Vector{UInt8}}) in Base at strings/string.jl:185\n",
       "[86] isvalid(s::String) in Base at strings/string.jl:186\n",
       "[87] isvalid(s::String, i::Int64) in Base at strings/string.jl:312\n",
       "[88] iterate(s::String) in Base at strings/string.jl:192\n",
       "[89] iterate(s::String, i::Int64) in Base at strings/string.jl:192\n",
       "[90] length(s::String) in Base at strings/string.jl:272\n",
       "[91] length(s::String, i::Int64, j::Int64) in Base at strings/string.jl:274\n",
       "[92] match(re::Regex, str::Union{SubString{String}, String}, idx::Integer) in Base at regex.jl:295\n",
       "[93] match(re::Regex, str::Union{SubString{String}, String}, idx::Integer, add_opts::UInt32) in Base at regex.jl:295\n",
       "[94] ncodeunits(s::String) in Base at strings/string.jl:98\n",
       "[95] nextind(s::String, i::Int64) in Base at strings/string.jl:150\n",
       "[96] normpath(path::String) in Base.Filesystem at path.jl:342\n",
       "[97] pointer(s::String) in Base at strings/string.jl:95\n",
       "[98] pointer(s::String, i::Integer) in Base at strings/string.jl:96\n",
       "[99] print(io::IO, s::Union{SubString{String}, String}) in Base at strings/io.jl:187\n",
       "[100] relpath(path::String) in Base.Filesystem at path.jl:511\n",
       "[101] relpath(path::String, startpath::String) in Base.Filesystem at path.jl:511\n",
       "[102] repeat(s::Union{SubString{String}, String}, r::Integer) in Base at strings/substring.jl:225\n",
       "[103] replace(str::String, pat_repl::Pair{var\"#s75\", B} where {var\"#s75\"<:AbstractChar, B}; count) in Base at strings/util.jl:513\n",
       "[104] replace(str::String, pat_repl::Pair{var\"#s72\", B} where {var\"#s72\"<:Union{Tuple{Vararg{AbstractChar, N} where N}, Set{var\"#s53\"} where var\"#s53\"<:AbstractChar, AbstractVector{var\"#s54\"} where var\"#s54\"<:AbstractChar}, B}; count) in Base at strings/util.jl:518\n",
       "[105] replace(str::String, pat_repl::Pair; count) in Base at strings/util.jl:524\n",
       "[106] reverse(s::Union{SubString{String}, String}) in Base at strings/substring.jl:166\n",
       "[107] setindex!(p::Base.BinaryPlatforms.AbstractPlatform, v::String, k::String) in Base.BinaryPlatforms at binaryplatforms.jl:139\n",
       "[108] sizeof(s::String) in Base at Base.jl:147\n",
       "[109] splitdir(path::String) in Base.Filesystem at path.jl:130\n",
       "[110] splitdrive(path::String) in Base.Filesystem at path.jl:28\n",
       "[111] splitext(path::String) in Base.Filesystem at path.jl:201\n",
       "[112] splitpath(p::String) in Base.Filesystem at path.jl:233\n",
       "[113] startswith(a::Union{SubString{String}, String}, b::Union{SubString{String}, String}) in Base at strings/util.jl:48\n",
       "[114] string(a::String) in Base at strings/substring.jl:177\n",
       "[115] thisind(s::String, i::Int64) in Base at strings/string.jl:129\n",
       "[116] transcode(::Type{String}, src::String) in Base at c.jl:290\n",
       "[117] transcode(::Type{T}, src::String) where T<:Union{Int32, UInt32} in Base at c.jl:277\n",
       "[118] transcode(T, src::String) in Base at c.jl:291\n",
       "[119] tryparse(::Type{Float64}, s::String) in Base at parse.jl:247\n",
       "[120] tryparse(::Type{Float32}, s::String) in Base at parse.jl:267\n",
       "[121] typemin(::String) in Base at strings/string.jl:125\n",
       "[122] unsafe_wrap(::Type{Vector{UInt8}}, s::String) in Base at strings/string.jl:85\n",
       "[123] write(io::IO, s::Union{SubString{String}, String}) in Base at strings/io.jl:185\n",
       "[124] crc32c(s::String) in CRC32c at /usr/share/julia/stdlib/v1.6/CRC32c/src/CRC32c.jl:39\n",
       "[125] crc32c(s::String, crc::UInt32) in CRC32c at /usr/share/julia/stdlib/v1.6/CRC32c/src/CRC32c.jl:39\n",
       "[126] serialize(s::Serialization.AbstractSerializer, ss::String) in Serialization at /usr/share/julia/stdlib/v1.6/Serialization/src/Serialization.jl:288"
      ]
     },
     "execution_count": 50,
     "metadata": {},
     "output_type": "execute_result"
    }
   ],
   "source": [
    "methodswith(String)"
   ]
  },
  {
   "cell_type": "markdown",
   "id": "bfb44676-4fac-4824-bc24-8f9ffe63467e",
   "metadata": {},
   "source": [
    "- replace(string, str1, str2): This changes substrings str1 to str2 in\n",
    "string, for example, replace(\"Julia\",\"u\" => \"o\") returns \"Jolia\".\n",
    "-split(string, char or [chars]): This splits a string on the specified\n",
    "character or characters, for example, split(\"34,Tom Jones,Pickwick\n",
    "Street 10,Aberdeen\", ',') returns the four strings in an array: [\"34\",\"Tom\n",
    "Jones\",\"Pickwick Street 10\",\"Aberdeen\"]. If char is not specified, the\n",
    "split is done on space characters (spaces, tabs, newlines, and so on)."
   ]
  },
  {
   "cell_type": "markdown",
   "id": "6598005c-3283-42bb-9008-67f1f77adb3d",
   "metadata": {},
   "source": [
    "# Formatting numbers and strings "
   ]
  },
  {
   "cell_type": "markdown",
   "id": "9fa32205-bab8-42f0-bcfe-033aeaaf9f7e",
   "metadata": {},
   "source": [
    "The @printf macro from the Printf package (we'll look deeper into macros in Chapter 7,\n",
    "Metaprogramming in Julia) takes a format string and one or more variables to substitute into\n",
    "this string while being formatted. It works in a manner similar to printf in C"
   ]
  },
  {
   "cell_type": "code",
   "execution_count": 52,
   "id": "a7806396-c00c-412e-91d2-060994c915a5",
   "metadata": {},
   "outputs": [
    {
     "data": {
      "text/plain": [
       "\"javid\""
      ]
     },
     "execution_count": 52,
     "metadata": {},
     "output_type": "execute_result"
    }
   ],
   "source": [
    "name = \"javid\""
   ]
  },
  {
   "cell_type": "code",
   "execution_count": 54,
   "id": "5c78a0e5-883c-422b-86ed-a0f582adf82d",
   "metadata": {},
   "outputs": [],
   "source": [
    "using Printf"
   ]
  },
  {
   "cell_type": "code",
   "execution_count": 59,
   "id": "29664aa0-bbe0-4460-a874-228c33274c4f",
   "metadata": {},
   "outputs": [
    {
     "name": "stdout",
     "output_type": "stream",
     "text": [
      "Hello, javid \n"
     ]
    }
   ],
   "source": [
    "a = @printf(\"Hello, %s \\n\",name)"
   ]
  },
  {
   "cell_type": "code",
   "execution_count": 60,
   "id": "06a9d0e5-a4c2-423a-b86b-0720e8c51e4d",
   "metadata": {},
   "outputs": [],
   "source": [
    "a"
   ]
  },
  {
   "cell_type": "markdown",
   "id": "fc174a7c-b893-405d-bb77-7e1db58ad816",
   "metadata": {},
   "source": [
    "If you need a string as the return value, use the macro @sprintf."
   ]
  },
  {
   "cell_type": "code",
   "execution_count": 61,
   "id": "3f6f74dc-74ef-42ec-b920-1bbd8ebbacab",
   "metadata": {},
   "outputs": [
    {
     "data": {
      "text/plain": [
       "\"Hello, javid \\n\""
      ]
     },
     "execution_count": 61,
     "metadata": {},
     "output_type": "execute_result"
    }
   ],
   "source": [
    "b = @sprintf(\"Hello, %s \\n\",name)"
   ]
  },
  {
   "cell_type": "code",
   "execution_count": 62,
   "id": "7223e530-f725-452f-ac22-c5c89e78943e",
   "metadata": {},
   "outputs": [
    {
     "data": {
      "text/plain": [
       "\"Hello, javid \\n\""
      ]
     },
     "execution_count": 62,
     "metadata": {},
     "output_type": "execute_result"
    }
   ],
   "source": [
    "b"
   ]
  },
  {
   "cell_type": "markdown",
   "id": "ef0a53b7-8228-4be2-af00-6640919bbe2c",
   "metadata": {},
   "source": [
    "The following formatting.jl script shows the most common formats:"
   ]
  },
  {
   "cell_type": "code",
   "execution_count": 63,
   "id": "cac4ded3-0b10-4a6a-831b-6434a6871f29",
   "metadata": {},
   "outputs": [
    {
     "name": "stdout",
     "output_type": "stream",
     "text": [
      "100000\n",
      "x = 7.357\n",
      "1.52 33.98\n",
      "\"7.357\"\n",
      "7.356790e+00\n",
      "output: α\n",
      "I like Julia\n",
      "                             text right justified!\n",
      "a pointer: 0x00000002540be400\n"
     ]
    }
   ],
   "source": [
    "using Printf\n",
    "# d for integers:\n",
    "@printf(\"%d\\n\", 1e5) #> 100000\n",
    "x = 7.35679\n",
    "# f = float format, rounded if needed:\n",
    "@printf(\"x = %0.3f\\n\", x) #> 7.357\n",
    "aa = 1.5231071779744345\n",
    "bb = 33.976886930000695\n",
    "@printf(\"%.2f %.2f\\n\", aa, bb) #> 1.52 33.98\n",
    "# or to create another string:\n",
    "str = @sprintf(\"%0.3f\", x)\n",
    "show(str) #> \"7.357\"\n",
    "println()\n",
    "# e = scientific format with e:\n",
    "@printf(\"%0.6e\\n\", x) #> 7.356790e+00\n",
    "# c = for characters:\n",
    "@printf(\"output: %c\\n\", 'α') #> output: α\n",
    "# s for strings:\n",
    "@printf(\"%s\\n\", \"I like Julia\")\n",
    "# right justify:\n",
    "@printf(\"%50s\\n\", \"text right justified!\")\n",
    "# p for pointers:\n",
    "@printf(\"a pointer: %p\\n\", 1e10) #> a pointer: 0x00000002540be400"
   ]
  },
  {
   "cell_type": "code",
   "execution_count": 73,
   "id": "2fa09a39-9327-4607-baf7-9d06f2d9750d",
   "metadata": {},
   "outputs": [
    {
     "name": "stdout",
     "output_type": "stream",
     "text": [
      "00398"
     ]
    }
   ],
   "source": [
    "@printf(\"%05d\", 398)"
   ]
  },
  {
   "cell_type": "markdown",
   "id": "4639f345-ed01-49b4-bbef-b10234ee4d03",
   "metadata": {},
   "source": [
    "A special kind of string is VersionNumber, which the form v\"0.3.0\" (note the preceding\n",
    "v), with optional additional details. They can be compared, and are used for Julia's\n",
    "versions, but also in the package versions and dependency mechanism of Pkg (refer to the\n",
    "Packages section of Chapter 1, Installing the Julia Platform). If you have the code that works\n",
    "differently for different versions, use something as follows:"
   ]
  },
  {
   "cell_type": "code",
   "execution_count": 75,
   "id": "34e28991-8b63-4783-bece-ea510b2282c1",
   "metadata": {},
   "outputs": [
    {
     "name": "stdout",
     "output_type": "stream",
     "text": [
      "We're good to go :)"
     ]
    }
   ],
   "source": [
    "if v\"0.5\" <= VERSION < v\"2.6-\"\n",
    "    print(\"We're good to go :)\")\n",
    "end"
   ]
  },
  {
   "cell_type": "markdown",
   "id": "d6258fa9-84f6-4f44-bcbd-273a2eecf0c5",
   "metadata": {},
   "source": [
    "# Regular expressions"
   ]
  },
  {
   "cell_type": "markdown",
   "id": "fc00dddf-8c22-417e-ac54-4e7194adcc05",
   "metadata": {},
   "source": [
    "To search for and match patterns in text and other data, regular expressions are an\n",
    "indispensable tool for the data scientist. Julia adheres to the Perl syntax of regular\n",
    "expressions. For a complete reference, refer to"
   ]
  },
  {
   "cell_type": "markdown",
   "id": "e4269bbb-0850-421c-bee7-870f6014314e",
   "metadata": {},
   "source": [
    "Regular expressions are\n",
    "represented in Julia as a double (or triple) quoted string preceded by r, such as r\"...\"\n",
    "(optionally, followed by one or more of the i, s, m, or x flags), and they are of type Regex."
   ]
  },
  {
   "cell_type": "code",
   "execution_count": 76,
   "id": "9bd34dd6-e8fb-46b2-aec2-4195344fe8c9",
   "metadata": {},
   "outputs": [
    {
     "name": "stdout",
     "output_type": "stream",
     "text": [
      "true\n"
     ]
    }
   ],
   "source": [
    "email_pattern = r\".+@.+\"\n",
    "input = \"john.doe@mit.edu\"\n",
    "println(occursin(email_pattern, input))"
   ]
  },
  {
   "cell_type": "markdown",
   "id": "48af7c2b-de0b-4db7-86d9-9b3f3fa84492",
   "metadata": {},
   "source": [
    "The regular expression pattern + matches any (non-empty) group of characters. Thus, this\n",
    "pattern matches any string that contains @ somewhere in the middle."
   ]
  },
  {
   "cell_type": "code",
   "execution_count": 77,
   "id": "ab8ed9d8-edca-42d3-9e22-5cc8025a8952",
   "metadata": {},
   "outputs": [
    {
     "name": "stdout",
     "output_type": "stream",
     "text": [
      "credit card found\n",
      "4457418557635128\n",
      "1\n",
      "Int64[]\n"
     ]
    }
   ],
   "source": [
    "visa = r\"^(?:4[0-9]{12}(?:[0-9]{3})?)$\" # the pattern\n",
    "input = \"4457418557635128\"\n",
    "occursin(visa, input) #> true\n",
    "if occursin(visa, input)\n",
    "println(\"credit card found\")\n",
    "m = match(visa, input)\n",
    "println(m.match) #> 4457418557635128\n",
    "println(m.offset) #> 1\n",
    "println(m.offsets) #> []\n",
    "end"
   ]
  },
  {
   "cell_type": "markdown",
   "id": "b738cf41-22b6-4fd8-85cb-b92ba95217e3",
   "metadata": {},
   "source": [
    "The occursin(regex, string) function returns true or false, depending on whether\n",
    "the given regex matches the string, so we can use it in an if expression"
   ]
  },
  {
   "cell_type": "markdown",
   "id": "2b02c2a9-cf2d-40f8-9d02-b8a882513d37",
   "metadata": {},
   "source": [
    "If you want the\n",
    "detailed information of the pattern matching, use match instead of occursin."
   ]
  },
  {
   "cell_type": "markdown",
   "id": "60920c3d-854d-4ebd-8d36-f1452957dcc9",
   "metadata": {},
   "source": [
    "This either\n",
    "returns nothing when there is no match, or an object of type RegexMatch when the\n",
    "pattern is found (nothing is, in fact, a value to indicate that nothing is returned or printed,\n",
    "and it has a type of Nothing)."
   ]
  },
  {
   "cell_type": "markdown",
   "id": "d60c0cdb-28d7-440c-91e7-5489da3af880",
   "metadata": {},
   "source": [
    "The RegexMatch object has the following properties:\n",
    "- match contains the entire substring that matches (in this example, it contains the\n",
    "complete number)\n",
    "- offset states at what position the matching begins (here, it is 1)\n",
    "- offsets gives the same information as the preceding line, but for each of the\n",
    "captured substrings\n",
    "- captures contains the captured substrings as a tuple (refer to the following\n",
    "example)"
   ]
  },
  {
   "cell_type": "markdown",
   "id": "f5059ee9-0163-47a5-aa5e-e8d5c37783b0",
   "metadata": {},
   "source": [
    "Besides checking whether a string matches a particular pattern, regular expressions can also\n",
    "be used to capture parts of the string. We can do this by enclosing parts of the pattern in\n",
    "parentheses ( )."
   ]
  },
  {
   "cell_type": "code",
   "execution_count": 78,
   "id": "61f8f186-b33f-4d3b-a75c-ea3a1fdc56d1",
   "metadata": {},
   "outputs": [
    {
     "data": {
      "text/plain": [
       "r\"(.+)@(.+)\""
      ]
     },
     "execution_count": 78,
     "metadata": {},
     "output_type": "execute_result"
    }
   ],
   "source": [
    "email_pattern = r\"(.+)@(.+)\""
   ]
  },
  {
   "cell_type": "markdown",
   "id": "b8e6cd46-ff69-41d2-9e3d-2293b4661ea5",
   "metadata": {},
   "source": [
    "Notice how the characters before @ are enclosed in brackets. This tells the regular\n",
    "expression engine that we want to capture this specific set of characters. To see how this\n",
    "works, consider the following example"
   ]
  },
  {
   "cell_type": "code",
   "execution_count": 79,
   "id": "e4dc5162-b99f-4f93-a72b-6239050ad1d7",
   "metadata": {},
   "outputs": [
    {
     "name": "stdout",
     "output_type": "stream",
     "text": [
      "Union{Nothing, SubString{String}}[\"john.doe\", \"mit.edu\"]\n"
     ]
    }
   ],
   "source": [
    "email_pattern = r\"(.+)@(.+)\"\n",
    "input = \"john.doe@mit.edu\"\n",
    "m = match(email_pattern, input)\n",
    "println(m.captures) #> Union{Nothing,SubString{String}}[\"john.doe\", \"mit.edu\"]"
   ]
  },
  {
   "cell_type": "markdown",
   "id": "7ddbda2a-fb84-48f3-a272-f2409c13031c",
   "metadata": {},
   "source": [
    "The search and replace functions also take regular expressions as arguments, for\n",
    "example, replace(\"Julia\", r\"u[\\w]*l\" => \"red\") returns \"Jredia\". If you want to\n",
    "work with all the matches, matchall and eachmatch come in handy:"
   ]
  },
  {
   "cell_type": "code",
   "execution_count": 80,
   "id": "c0d2b424-6bad-4f36-be8f-c07238d6aab6",
   "metadata": {},
   "outputs": [
    {
     "name": "stdout",
     "output_type": "stream",
     "text": [
      "SubString{String}[\"The\", \"sky\", \"blue\"]"
     ]
    }
   ],
   "source": [
    "str = \"The sky is blue\"\n",
    "reg = r\"[\\w]{3,}\" # matches words of 3 chars or more\n",
    "r = collect((m.match for m = eachmatch(reg, str)))\n",
    "show(r) #> [\"The\",\"sky\",\"blue\"]"
   ]
  },
  {
   "cell_type": "code",
   "execution_count": 81,
   "id": "1555792f-49b1-4206-8d97-d951791b60e1",
   "metadata": {},
   "outputs": [
    {
     "name": "stdout",
     "output_type": "stream",
     "text": [
      "\"The\" \n",
      "\"sky\" \n",
      "\"blue\" \n"
     ]
    }
   ],
   "source": [
    "iter = eachmatch(reg, str)\n",
    "for i in iter\n",
    "println(\"\\\"$(i.match)\\\" \")\n",
    "end"
   ]
  },
  {
   "cell_type": "markdown",
   "id": "69b0323d-4a4a-4487-b2a6-14c2b887521e",
   "metadata": {},
   "source": [
    "# Ranges and arrays"
   ]
  },
  {
   "cell_type": "markdown",
   "id": "e29bd6ae-15e5-493d-9577-7be49b528718",
   "metadata": {},
   "source": [
    "Ranges come in handy when you have to work with an interval of numbers, for example,\n",
    "one up to thousand: 1:1000. The type of this object, typeof(1:1000), is\n",
    "UnitRange{Int64}. By default, the step is 1, but this can also be specified as the second\n",
    "number; 0:5:100 gives all multiples of 5 up to 100. You can iterate over a range, as\n",
    "follows:"
   ]
  },
  {
   "cell_type": "code",
   "execution_count": 83,
   "id": "6a0190b5-1b24-467b-a842-39d382ab0c73",
   "metadata": {},
   "outputs": [
    {
     "name": "stdout",
     "output_type": "stream",
     "text": [
      "0,5,10,15,20,25,30,35,40,45,50,55,60,65,70,75,80,85,90,95,100,"
     ]
    }
   ],
   "source": [
    "for i in 0:5:100\n",
    "    print(i,',')\n",
    "end"
   ]
  },
  {
   "cell_type": "code",
   "execution_count": 91,
   "id": "6eedfccd-0bb6-4b71-8b5e-8b8cd92de612",
   "metadata": {},
   "outputs": [
    {
     "data": {
      "text/plain": [
       "Vector{SubString{String}} (alias for Array{SubString{String}, 1})"
      ]
     },
     "execution_count": 91,
     "metadata": {},
     "output_type": "execute_result"
    }
   ],
   "source": [
    "a = split(\"A,B,C,D\",\",\")\n",
    "typeof(a) #> Array{SubString{String},1}"
   ]
  },
  {
   "cell_type": "code",
   "execution_count": 90,
   "id": "e2f42ccf-c224-457e-8b82-7c0d12abfb53",
   "metadata": {},
   "outputs": [
    {
     "name": "stdout",
     "output_type": "stream",
     "text": [
      "SubString{String}[\"A\", \"B\", \"C\", \"D\", \"\"]"
     ]
    }
   ],
   "source": [
    "show(a) #> SubString{String}[\"A\",\"B\",\"C\",\"D\"]"
   ]
  },
  {
   "cell_type": "markdown",
   "id": "4efb2c04-95f7-44bb-b8fa-2e3655dac377",
   "metadata": {},
   "source": [
    "Julia's arrays are very efficient, powerful, and flexible. The general type format for an array\n",
    "is Array{Type, n}, with n number of dimensions"
   ]
  },
  {
   "cell_type": "code",
   "execution_count": 94,
   "id": "30dd750e-2964-41cb-a091-b40675d2b378",
   "metadata": {},
   "outputs": [
    {
     "data": {
      "text/plain": [
       "Array{Int64, 3}"
      ]
     },
     "execution_count": 94,
     "metadata": {},
     "output_type": "execute_result"
    }
   ],
   "source": [
    "Array{Int,3}"
   ]
  },
  {
   "cell_type": "markdown",
   "id": "60258500-7581-4ffe-9a4d-e115c4f241d1",
   "metadata": {},
   "source": [
    "As with the complex\n",
    "type, we can see that the Array type is generic, and all the elements have to be of the same\n",
    "type."
   ]
  },
  {
   "cell_type": "markdown",
   "id": "1b67aaf3-adf0-4c43-abae-e420498fe07c",
   "metadata": {},
   "source": [
    "A one-dimensional array (also called a vector in Julia) can be initialized by separating\n",
    "its values by commas and enclosing them in square brackets,"
   ]
  },
  {
   "cell_type": "code",
   "execution_count": 95,
   "id": "a976c801-a3c6-496c-b8ff-5805c3ad9124",
   "metadata": {},
   "outputs": [
    {
     "data": {
      "text/plain": [
       "6-element Vector{Int64}:\n",
       " 2\n",
       " 3\n",
       " 4\n",
       " 5\n",
       " 6\n",
       " 7"
      ]
     },
     "execution_count": 95,
     "metadata": {},
     "output_type": "execute_result"
    }
   ],
   "source": [
    "vector = [2, 3, 4, 5, 6, 7,]"
   ]
  },
  {
   "cell_type": "code",
   "execution_count": 96,
   "id": "767555e4-07ce-4615-9f35-fa607dd0596e",
   "metadata": {},
   "outputs": [
    {
     "data": {
      "text/plain": [
       "Vector{Int64} (alias for Array{Int64, 1})"
      ]
     },
     "execution_count": 96,
     "metadata": {},
     "output_type": "execute_result"
    }
   ],
   "source": [
    "typeof(vector)"
   ]
  },
  {
   "cell_type": "markdown",
   "id": "2c509664-d090-4b73-bc84-7e3ed670d1b3",
   "metadata": {},
   "source": [
    "the type is automatically inferred with this\n",
    "notation. If you want the type to be Any, then define it as follows: arra = Any[100, 25,\n",
    "\"ABC\"]"
   ]
  },
  {
   "cell_type": "code",
   "execution_count": 97,
   "id": "18af4532-5941-48ce-a795-ba9a4f9d0a37",
   "metadata": {},
   "outputs": [
    {
     "data": {
      "text/plain": [
       "4-element Vector{Any}:\n",
       "   :red\n",
       "   \"blue\"\n",
       " 23\n",
       " 29.34"
      ]
     },
     "execution_count": 97,
     "metadata": {},
     "output_type": "execute_result"
    }
   ],
   "source": [
    "vector = Any[:red, \"blue\", 23, 29.34]"
   ]
  },
  {
   "cell_type": "markdown",
   "id": "be2fc562-6d80-49a1-a058-43584f1aa4d8",
   "metadata": {},
   "source": [
    "Notice that we don't have to indicate the number of elements. Julia takes care of that and\n",
    "lets an array grow dynamically when needed."
   ]
  },
  {
   "cell_type": "markdown",
   "id": "43c18991-4bfa-4fd0-ab5b-b592d7fe3d98",
   "metadata": {},
   "source": [
    "Arrays can also be constructed by passing a type parameter and a number of elements:"
   ]
  },
  {
   "cell_type": "code",
   "execution_count": 98,
   "id": "b0278438-c4ca-4119-b45e-338a40bd86ff",
   "metadata": {},
   "outputs": [
    {
     "data": {
      "text/plain": [
       "2×3 Matrix{Int64}:\n",
       " 4294967296  30064771077  38654705666\n",
       " 4294967297  34359738370  17179869187"
      ]
     },
     "execution_count": 98,
     "metadata": {},
     "output_type": "execute_result"
    }
   ],
   "source": [
    "arr = Array{Int}(undef,(2,3))"
   ]
  },
  {
   "cell_type": "code",
   "execution_count": 106,
   "id": "038ffe6c-a767-47a5-8d63-594efbfabccb",
   "metadata": {},
   "outputs": [
    {
     "data": {
      "text/plain": [
       "2×3 Matrix{Int64}:\n",
       " 0  1                0\n",
       " 1  1  139904037597185"
      ]
     },
     "execution_count": 106,
     "metadata": {},
     "output_type": "execute_result"
    }
   ],
   "source": [
    "arr2 = Array{Int}(undef,(2,3))"
   ]
  },
  {
   "cell_type": "markdown",
   "id": "1d0eab93-c11c-4f30-8226-a723a55e3d05",
   "metadata": {},
   "source": [
    "undef makes sure that your array gets populated with random values of the given type."
   ]
  },
  {
   "cell_type": "markdown",
   "id": "95c6e72a-96fb-4a1b-828b-6eefdd7cf46e",
   "metadata": {},
   "source": [
    "You can define an array with 0 elements of type Float64 as follows:"
   ]
  },
  {
   "cell_type": "code",
   "execution_count": 107,
   "id": "db3baa39-4640-4cce-97bd-5021956ce2d6",
   "metadata": {},
   "outputs": [
    {
     "data": {
      "text/plain": [
       "Float64[]"
      ]
     },
     "execution_count": 107,
     "metadata": {},
     "output_type": "execute_result"
    }
   ],
   "source": [
    "arr3 = Float64[]"
   ]
  },
  {
   "cell_type": "code",
   "execution_count": 108,
   "id": "84bf1bca-936a-4436-8c90-d40476fbbd64",
   "metadata": {},
   "outputs": [
    {
     "data": {
      "text/plain": [
       "0"
      ]
     },
     "execution_count": 108,
     "metadata": {},
     "output_type": "execute_result"
    }
   ],
   "source": [
    "length(arr3)"
   ]
  },
  {
   "cell_type": "markdown",
   "id": "5f802485-6ae5-4daa-91ba-fd03e2e5c77b",
   "metadata": {},
   "source": [
    "To populate this array, use push!"
   ]
  },
  {
   "cell_type": "code",
   "execution_count": 109,
   "id": "6882e049-e023-418b-b5e5-2a5393969062",
   "metadata": {},
   "outputs": [
    {
     "data": {
      "text/plain": [
       "1-element Vector{Float64}:\n",
       " 398.0"
      ]
     },
     "execution_count": 109,
     "metadata": {},
     "output_type": "execute_result"
    }
   ],
   "source": [
    "push!(arr3,398)"
   ]
  },
  {
   "cell_type": "code",
   "execution_count": 110,
   "id": "e205e558-e793-43a5-a335-5f01cd688ed7",
   "metadata": {},
   "outputs": [
    {
     "data": {
      "text/plain": [
       "1-element Vector{Float64}:\n",
       " 398.0"
      ]
     },
     "execution_count": 110,
     "metadata": {},
     "output_type": "execute_result"
    }
   ],
   "source": [
    "arr3"
   ]
  },
  {
   "cell_type": "markdown",
   "id": "4985cb77-81c9-4737-ac20-2851a83dceb9",
   "metadata": {},
   "source": [
    "Creating an empty array with arr3 = [] is not very useful because the element type is\n",
    "Any. Julia wants to be able to infer the type!"
   ]
  },
  {
   "cell_type": "code",
   "execution_count": 111,
   "id": "9a2f34db-4d4c-48e8-b9dc-88869a86cccf",
   "metadata": {},
   "outputs": [
    {
     "data": {
      "text/plain": [
       "Any[]"
      ]
     },
     "execution_count": 111,
     "metadata": {},
     "output_type": "execute_result"
    }
   ],
   "source": [
    "arr4 = []"
   ]
  },
  {
   "cell_type": "code",
   "execution_count": 112,
   "id": "14bc8ca8-1c55-4ec7-87f3-22bd9d5d819b",
   "metadata": {},
   "outputs": [
    {
     "data": {
      "text/plain": [
       "1-element Vector{Any}:\n",
       " \"what the heck is going on here\""
      ]
     },
     "execution_count": 112,
     "metadata": {},
     "output_type": "execute_result"
    }
   ],
   "source": [
    "push!(arr4,\"what the heck is going on here\")"
   ]
  },
  {
   "cell_type": "markdown",
   "id": "e581e0aa-751a-434c-86f1-b8bbb475d6f1",
   "metadata": {},
   "source": [
    "Arrays can also be initialized from a range with the collect function:"
   ]
  },
  {
   "cell_type": "code",
   "execution_count": 114,
   "id": "66bab27d-3c4c-4d62-8aa0-90b637b957e0",
   "metadata": {},
   "outputs": [
    {
     "data": {
      "text/plain": [
       "9-element Vector{Float64}:\n",
       " 1.0\n",
       " 1.5\n",
       " 2.0\n",
       " 2.5\n",
       " 3.0\n",
       " 3.5\n",
       " 4.0\n",
       " 4.5\n",
       " 5.0"
      ]
     },
     "execution_count": 114,
     "metadata": {},
     "output_type": "execute_result"
    }
   ],
   "source": [
    "arr5 = collect(1:.5:5)"
   ]
  },
  {
   "cell_type": "markdown",
   "id": "18b1bff3-b2c2-4be8-b82f-d51caffca628",
   "metadata": {},
   "source": [
    "Of course, when dealing with large arrays, it is better to indicate the final number of\n",
    "elements from the start for the performance."
   ]
  },
  {
   "cell_type": "markdown",
   "id": "b05cbc4e-2617-4575-ac9c-b774cf3ab964",
   "metadata": {},
   "source": [
    "Suppose you know beforehand that arr2 will\n",
    "need 10^5 elements, but not more. If you use sizehint!(arr2, 10^5), you'll be able to\n",
    "push! at least 10^5 elements without Julia having to reallocate and copy the data already\n",
    "added, leading to a substantial improvement in performance."
   ]
  },
  {
   "cell_type": "code",
   "execution_count": 116,
   "id": "40c16302-a5e7-4c5d-92f3-a2ae4cc6df7f",
   "metadata": {},
   "outputs": [
    {
     "data": {
      "text/plain": [
       "Float64[]"
      ]
     },
     "execution_count": 116,
     "metadata": {},
     "output_type": "execute_result"
    }
   ],
   "source": [
    "arr2 = Float64[]"
   ]
  },
  {
   "cell_type": "code",
   "execution_count": 117,
   "id": "17aa8955-a518-4a3f-9886-9c02f2df4154",
   "metadata": {},
   "outputs": [
    {
     "data": {
      "text/plain": [
       "Float64[]"
      ]
     },
     "execution_count": 117,
     "metadata": {},
     "output_type": "execute_result"
    }
   ],
   "source": [
    "sizehint!(arr2,10^4)"
   ]
  },
  {
   "cell_type": "markdown",
   "id": "a556275f-6480-4e1f-81a0-6e8de311ce74",
   "metadata": {},
   "source": [
    "Arrays store a sequence of values of the same type (called elements), indexed by integers 1\n",
    "through the number of elements (as in mathematics, but unlike most other high-level\n",
    "languages such as Python)."
   ]
  },
  {
   "cell_type": "markdown",
   "id": "de89674f-b15f-43ef-a34d-a533ac064209",
   "metadata": {},
   "source": [
    "Like with strings, we can access the individual elements with\n",
    "the bracket notation"
   ]
  },
  {
   "cell_type": "markdown",
   "id": "6a618b65-8065-4084-a06d-28da3fb5f330",
   "metadata": {},
   "source": [
    "You can also set a specific element the other way around:"
   ]
  },
  {
   "cell_type": "code",
   "execution_count": 118,
   "id": "27a8ae21-2273-4cbd-b65b-69de1a9d053d",
   "metadata": {},
   "outputs": [
    {
     "data": {
      "text/plain": [
       "5-element Vector{Int64}:\n",
       " 1\n",
       " 2\n",
       " 3\n",
       " 4\n",
       " 5"
      ]
     },
     "execution_count": 118,
     "metadata": {},
     "output_type": "execute_result"
    }
   ],
   "source": [
    "a = collect(1:5)"
   ]
  },
  {
   "cell_type": "code",
   "execution_count": 120,
   "id": "efb05497-e66a-417c-9eb3-9a95b9791d07",
   "metadata": {},
   "outputs": [
    {
     "data": {
      "text/plain": [
       "598"
      ]
     },
     "execution_count": 120,
     "metadata": {},
     "output_type": "execute_result"
    }
   ],
   "source": [
    "a[2] = 598"
   ]
  },
  {
   "cell_type": "code",
   "execution_count": 121,
   "id": "f1504ffb-6b7b-427d-89a3-fcd283a29214",
   "metadata": {},
   "outputs": [
    {
     "data": {
      "text/plain": [
       "5-element Vector{Int64}:\n",
       "   1\n",
       " 598\n",
       "   3\n",
       "   4\n",
       "   5"
      ]
     },
     "execution_count": 121,
     "metadata": {},
     "output_type": "execute_result"
    }
   ],
   "source": [
    "a"
   ]
  },
  {
   "cell_type": "markdown",
   "id": "9c935444-8688-43a1-b787-654663af6058",
   "metadata": {},
   "source": [
    "The main characteristics of an array are given by the following functions:\n",
    "- The element type is given by eltype(arr); in our example, this is Int64\n",
    "- The number of elements is given by length(arr), and here this is 3\n",
    "- The number of dimensions is given by ndims(arr), and here this is 1\n",
    "-The number of elements in dimension n is given by size(arr, n), and here,\n",
    "size(arr, 1) returns 3"
   ]
  },
  {
   "cell_type": "markdown",
   "id": "a5b48886-6c3e-4174-950d-cb9b8a92225a",
   "metadata": {},
   "source": [
    "A for...in loop over an array is read-only, and you cannot change elements of the array\n",
    "inside it:"
   ]
  },
  {
   "cell_type": "code",
   "execution_count": 123,
   "id": "b43e37e2-b643-4c1a-89e5-4256a6765d64",
   "metadata": {},
   "outputs": [],
   "source": [
    "da = [1,2,3,4,5]\n",
    "for n in da\n",
    "n *= 2\n",
    "end"
   ]
  },
  {
   "cell_type": "code",
   "execution_count": 124,
   "id": "b309a805-1e54-41bb-94d2-14eb67eae94d",
   "metadata": {},
   "outputs": [
    {
     "data": {
      "text/plain": [
       "5-element Vector{Int64}:\n",
       " 1\n",
       " 2\n",
       " 3\n",
       " 4\n",
       " 5"
      ]
     },
     "execution_count": 124,
     "metadata": {},
     "output_type": "execute_result"
    }
   ],
   "source": [
    "da #> 5-element Array{Int64,1}: 1 2 3 4 5"
   ]
  },
  {
   "cell_type": "code",
   "execution_count": 125,
   "id": "3c501b34-3b48-4910-a755-e372c22e5f16",
   "metadata": {},
   "outputs": [],
   "source": [
    "for i in 1:length(da)\n",
    "da[i] *= 2\n",
    "end"
   ]
  },
  {
   "cell_type": "code",
   "execution_count": 126,
   "id": "06925cc8-51b9-4bf9-95df-92a95914e896",
   "metadata": {},
   "outputs": [
    {
     "data": {
      "text/plain": [
       "5-element Vector{Int64}:\n",
       "  2\n",
       "  4\n",
       "  6\n",
       "  8\n",
       " 10"
      ]
     },
     "execution_count": 126,
     "metadata": {},
     "output_type": "execute_result"
    }
   ],
   "source": [
    "da #> 5-element Array{Int64,1}: 2 4 6 8 10"
   ]
  },
  {
   "cell_type": "markdown",
   "id": "3205aa9c-ddde-4fd8-948f-00214af1bd9b",
   "metadata": {},
   "source": [
    "It is easy to join the array elements to a string separated by a comma character and a space,\n",
    "for example"
   ]
  },
  {
   "cell_type": "code",
   "execution_count": 127,
   "id": "6284e3da-3288-402e-a1a9-5e7d68367d8b",
   "metadata": {},
   "outputs": [
    {
     "data": {
      "text/plain": [
       "10-element Vector{Int64}:\n",
       "  1\n",
       "  2\n",
       "  3\n",
       "  4\n",
       "  5\n",
       "  6\n",
       "  7\n",
       "  8\n",
       "  9\n",
       " 10"
      ]
     },
     "execution_count": 127,
     "metadata": {},
     "output_type": "execute_result"
    }
   ],
   "source": [
    "arr = collect(1:10)"
   ]
  },
  {
   "cell_type": "code",
   "execution_count": 130,
   "id": "d353285d-2a25-4e55-9412-adcc65df3e70",
   "metadata": {},
   "outputs": [
    {
     "data": {
      "text/plain": [
       "\"1, 2, 3, 4, 5, 6, 7, 8, 9, 10\""
      ]
     },
     "execution_count": 130,
     "metadata": {},
     "output_type": "execute_result"
    }
   ],
   "source": [
    "join(arr,\", \")"
   ]
  },
  {
   "cell_type": "markdown",
   "id": "f5795391-7e5f-49d7-b4f7-ce8ecbaecdea",
   "metadata": {},
   "source": [
    "We can also use this range syntax (called a slice as in Python) to obtain subarrays:"
   ]
  },
  {
   "cell_type": "code",
   "execution_count": 132,
   "id": "9fde6dba-f6f2-4cab-a685-0ada2f9055d9",
   "metadata": {},
   "outputs": [
    {
     "data": {
      "text/plain": [
       "3-element Vector{Int64}:\n",
       "  8\n",
       "  9\n",
       " 10"
      ]
     },
     "execution_count": 132,
     "metadata": {},
     "output_type": "execute_result"
    }
   ],
   "source": [
    "arr[8:end]"
   ]
  },
  {
   "cell_type": "markdown",
   "id": "59e0adee-1f92-4368-b11c-2f552c18d6f6",
   "metadata": {},
   "source": [
    "Slices can be assigned to, with one value or with another array"
   ]
  },
  {
   "cell_type": "code",
   "execution_count": 133,
   "id": "e9016300-7f9f-4b64-9240-9804a4d0c954",
   "metadata": {},
   "outputs": [
    {
     "data": {
      "text/plain": [
       "10-element Vector{Int64}:\n",
       "  1\n",
       "  2\n",
       "  3\n",
       "  4\n",
       "  5\n",
       "  6\n",
       "  7\n",
       "  8\n",
       "  9\n",
       " 10"
      ]
     },
     "execution_count": 133,
     "metadata": {},
     "output_type": "execute_result"
    }
   ],
   "source": [
    "arr = collect(1:10)"
   ]
  },
  {
   "cell_type": "code",
   "execution_count": 134,
   "id": "f692b397-db8a-4414-bb13-f92329ee0f34",
   "metadata": {},
   "outputs": [
    {
     "data": {
      "text/plain": [
       "6-element Vector{Int64}:\n",
       " 1\n",
       " 2\n",
       " 3\n",
       " 4\n",
       " 5\n",
       " 6"
      ]
     },
     "execution_count": 134,
     "metadata": {},
     "output_type": "execute_result"
    }
   ],
   "source": [
    "arr[5:10] = collect(1:6)"
   ]
  },
  {
   "cell_type": "code",
   "execution_count": 135,
   "id": "e06185ac-acd6-4bf9-b119-ff456a54eb2f",
   "metadata": {},
   "outputs": [
    {
     "data": {
      "text/plain": [
       "10-element Vector{Int64}:\n",
       " 1\n",
       " 2\n",
       " 3\n",
       " 4\n",
       " 1\n",
       " 2\n",
       " 3\n",
       " 4\n",
       " 5\n",
       " 6"
      ]
     },
     "execution_count": 135,
     "metadata": {},
     "output_type": "execute_result"
    }
   ],
   "source": [
    "arr"
   ]
  },
  {
   "cell_type": "markdown",
   "id": "30aff3a4-767c-4ea3-8172-a233d19d744c",
   "metadata": {},
   "source": [
    "# Other ways to create arrays"
   ]
  },
  {
   "cell_type": "markdown",
   "id": "240905a8-6a49-416f-abfa-f83098b612e0",
   "metadata": {},
   "source": [
    "For convenience, zeros(n) returns an n element array with all the elements equal to 0.0,\n",
    "and ones(n) does the same with elements equal to 1.0."
   ]
  },
  {
   "cell_type": "code",
   "execution_count": 140,
   "id": "18fd365e-ab1d-4187-b84c-6792f03187fc",
   "metadata": {},
   "outputs": [
    {
     "data": {
      "text/plain": [
       "4×4 Matrix{Int64}:\n",
       " 0  0  0  0\n",
       " 0  0  0  0\n",
       " 0  0  0  0\n",
       " 0  0  0  0"
      ]
     },
     "execution_count": 140,
     "metadata": {},
     "output_type": "execute_result"
    }
   ],
   "source": [
    "a = zeros(Int,(4,4))"
   ]
  },
  {
   "cell_type": "code",
   "execution_count": 141,
   "id": "43d18d01-7db2-4e89-ae90-5e85d834b9c1",
   "metadata": {},
   "outputs": [
    {
     "data": {
      "text/plain": [
       "4×4 Matrix{Int64}:\n",
       " 1  1  1  1\n",
       " 1  1  1  1\n",
       " 1  1  1  1\n",
       " 1  1  1  1"
      ]
     },
     "execution_count": 141,
     "metadata": {},
     "output_type": "execute_result"
    }
   ],
   "source": [
    "b = ones(Int,(4,4))"
   ]
  },
  {
   "cell_type": "markdown",
   "id": "60f93131-0c90-40a2-9f3d-313d23e8b99b",
   "metadata": {},
   "source": [
    "range(start, stop=value, length=value) creates a vector of n equally spaced\n",
    "numbers from start to stop, for example, as follows:"
   ]
  },
  {
   "cell_type": "code",
   "execution_count": 145,
   "id": "019f43da-37f4-4a91-9fc7-a3fdba62eb64",
   "metadata": {},
   "outputs": [
    {
     "data": {
      "text/plain": [
       "10:20:90"
      ]
     },
     "execution_count": 145,
     "metadata": {},
     "output_type": "execute_result"
    }
   ],
   "source": [
    "range(10,step=20,100)"
   ]
  },
  {
   "cell_type": "code",
   "execution_count": 146,
   "id": "8aa9b38e-1d57-4732-9dd4-37410910a08b",
   "metadata": {},
   "outputs": [
    {
     "name": "stdout",
     "output_type": "stream",
     "text": [
      "1, 2, 3, 4, 5, 6, 7, 8, 9, 10, "
     ]
    }
   ],
   "source": [
    "for i in 1:10\n",
    "    print(i,\", \")\n",
    "end"
   ]
  },
  {
   "cell_type": "code",
   "execution_count": 149,
   "id": "915f10bc-ba8b-4dd0-8029-2d5fe191dafb",
   "metadata": {},
   "outputs": [
    {
     "name": "stdout",
     "output_type": "stream",
     "text": [
      "0, 1, 2, 3, 4, 5, 6, 7, 8, 9, 10, "
     ]
    }
   ],
   "source": [
    "for i in range(0,step=1,10)\n",
    "    print(i,\", \")\n",
    "end"
   ]
  },
  {
   "cell_type": "markdown",
   "id": "519369a4-d6d1-45c8-8507-7b86815562fe",
   "metadata": {},
   "source": [
    "You can use the following to create an array with undefined values #undef, as shown here:"
   ]
  },
  {
   "cell_type": "code",
   "execution_count": 151,
   "id": "48608547-c3e4-4f1d-a8dc-4216e101151b",
   "metadata": {},
   "outputs": [
    {
     "data": {
      "text/plain": [
       "1×100 Matrix{Any}:\n",
       " #undef  #undef  #undef  #undef  #undef  …  #undef  #undef  #undef  #undef"
      ]
     },
     "execution_count": 151,
     "metadata": {},
     "output_type": "execute_result"
    }
   ],
   "source": [
    "a = Array{Any}(undef,(1,100))"
   ]
  },
  {
   "cell_type": "code",
   "execution_count": 152,
   "id": "d75d5f5b-6b76-4916-8ad8-cbfa37f0b9ef",
   "metadata": {},
   "outputs": [
    {
     "data": {
      "text/plain": [
       "1×100 Matrix{Any}:\n",
       " \"what the heck\"  \"what the heck\"  …  \"what the heck\"  \"what the heck\""
      ]
     },
     "execution_count": 152,
     "metadata": {},
     "output_type": "execute_result"
    }
   ],
   "source": [
    "fill!(a,\"what the heck\")"
   ]
  },
  {
   "cell_type": "markdown",
   "id": "d121dabb-a6f4-4bd5-9e40-8ce42bd56efc",
   "metadata": {},
   "source": [
    "To create a five-element array with random Int32 numbers, execute the following:"
   ]
  },
  {
   "cell_type": "code",
   "execution_count": 157,
   "id": "84e625bb-0c59-426f-9723-d08095cf3de9",
   "metadata": {},
   "outputs": [
    {
     "data": {
      "text/plain": [
       "20×20 Matrix{Char}:\n",
       " '\\U6f497'   '\\U36e8a'   '\\U1fee6'   …  '\\U995db'  '\\U50b7a'   '\\Ub9d64'\n",
       " '\\Uef943'   '\\U43d0e'   '\\Ud80cf'      '\\Ueedf3'  '\\U10ed93'  '\\U3be84'\n",
       " '\\Ub1d3c'   '\\U1a158'   '\\uf272'       '\\Ubca94'  '\\U13db0'   '\\U8343b'\n",
       " '\\U8ca08'   '\\U62494'   '\\U78f85'      '\\Uc8aeb'  '\\U9c3ce'   '\\Uc9e22'\n",
       " '\\U8370e'   '\\U3a79b'   '\\U9ffa0'      '\\U1bd39'  '慅'         '\\U1c1dd'\n",
       " '\\Uc30a2'   '\\Uc5393'   '𨆧'         …  '𗻲'        '\\U7c282'   '\\U109a5d'\n",
       " '\\Ub7412'   '\\U76e20'   '\\U5aed9'      '𤶛'        '\\Ucd44d'   '\\Ue5a17'\n",
       " '\\U94390'   '\\U60068'   '\\U10fe27'     '\\U7d1fe'  '🞬'         '\\U99574'\n",
       " '\\Ubdc39'   '\\U7ec83'   '\\Ub5ab6'      '\\Ub84d6'  '\\Ud710c'   '\\Uae643'\n",
       " '\\Ucff4f'   '\\Ud16d0'   '\\U7ccff'      '\\Uc6596'  '\\Uc0c89'   '럵'\n",
       " '\\U107fe5'  '\\U9b99b'   '\\U10a4af'  …  '\\U54b64'  '\\U5e60e'   '\\Ue3f5b'\n",
       " '\\Ub3fcd'   '\\Uc6c62'   '\\Uf9cdf'      '\\U5eb73'  '\\Ue99dc'   '\\Uef994'\n",
       " '\\U9e300'   '\\U6d29f'   '\\Ua5b29'      '𦜅'        '\\Ueeb21'   '\\Ua614c'\n",
       " '\\U4f024'   '\\U106787'  '\\U1b77c'      '\\Ua7aac'  '𬐩'         '\\ue852'\n",
       " '\\Ud6565'   '\\Ue72cb'   '\\Uccd14'      '\\U5acad'  'ᔞ'         '\\U72ea7'\n",
       " '\\Ua28b1'   '\\U5babe'   '\\U43b5c'   …  '\\U646b7'  '\\U405b7'   '𪻵'\n",
       " '\\Ub07b2'   '\\Uef465'   '\\U10135a'     '\\U59aed'  '\\Ue426e'   '\\U427ba'\n",
       " '\\Ua6205'   '極'         '\\U15512'      '\\Ub2eda'  '\\U80dc5'   '\\U64711'\n",
       " '\\Ud3b2c'   '\\U45331'   '\\U41308'      '\\U52236'  '\\U10b3c2'  '𣩧'\n",
       " '\\U91bf6'   '\\Uf28dd'   '\\U92d68'      '\\Ub912e'  '\\U44dd1'   '\\Udb2cf'"
      ]
     },
     "execution_count": 157,
     "metadata": {},
     "output_type": "execute_result"
    }
   ],
   "source": [
    "rand(Char,(20,20))"
   ]
  },
  {
   "cell_type": "markdown",
   "id": "f2145331-d71e-4a10-9f75-7f9d5b4c137b",
   "metadata": {},
   "source": [
    "# Some common functions for arrays"
   ]
  },
  {
   "cell_type": "code",
   "execution_count": 159,
   "id": "9b1434be-eae1-464e-b3a3-9ec67996506d",
   "metadata": {},
   "outputs": [],
   "source": [
    "a = [100, 200, 300];\n",
    "b = collect(600:100:900);"
   ]
  },
  {
   "cell_type": "code",
   "execution_count": 161,
   "id": "c5cd3a89-fcfe-471a-a531-bb1fed1997a5",
   "metadata": {},
   "outputs": [
    {
     "data": {
      "text/plain": [
       "11-element Vector{Int64}:\n",
       " 100\n",
       " 200\n",
       " 300\n",
       " 600\n",
       " 700\n",
       " 800\n",
       " 900\n",
       " 600\n",
       " 700\n",
       " 800\n",
       " 900"
      ]
     },
     "execution_count": 161,
     "metadata": {},
     "output_type": "execute_result"
    }
   ],
   "source": [
    "c = append!(a,b)"
   ]
  },
  {
   "cell_type": "code",
   "execution_count": 162,
   "id": "cf0ce2a3-76ab-4ec5-b3e6-46d86830902b",
   "metadata": {},
   "outputs": [
    {
     "data": {
      "text/plain": [
       "15-element Vector{Int64}:\n",
       " 600\n",
       " 700\n",
       " 800\n",
       " 900\n",
       " 100\n",
       " 200\n",
       " 300\n",
       " 600\n",
       " 700\n",
       " 800\n",
       " 900\n",
       " 600\n",
       " 700\n",
       " 800\n",
       " 900"
      ]
     },
     "execution_count": 162,
     "metadata": {},
     "output_type": "execute_result"
    }
   ],
   "source": [
    "d = append!(b,a)"
   ]
  },
  {
   "cell_type": "markdown",
   "id": "3ab23eb7-50c2-4977-84ee-f9547babf932",
   "metadata": {},
   "source": [
    "The array, b, is changed by applying this append! method—that's why it ends in an\n",
    "exclamation mark (!). This is a general convention."
   ]
  },
  {
   "cell_type": "markdown",
   "id": "63c768cb-4109-4820-83c0-675d6d52a0fb",
   "metadata": {},
   "source": [
    "A function whose name ends in a ! changes its first argument."
   ]
  },
  {
   "cell_type": "markdown",
   "id": "80d5102b-7504-4149-b1d2-a66ffe5b1544",
   "metadata": {},
   "source": [
    "Likewise, push! and pop! append one element at the end, or take one away and return\n",
    "that, while the array is changed:"
   ]
  },
  {
   "cell_type": "code",
   "execution_count": 163,
   "id": "48d2a2b1-14e7-4557-a1aa-e390a92a4373",
   "metadata": {},
   "outputs": [
    {
     "data": {
      "text/plain": [
       "15-element Vector{Int64}:\n",
       " 600\n",
       " 700\n",
       " 800\n",
       " 900\n",
       " 100\n",
       " 200\n",
       " 300\n",
       " 600\n",
       " 700\n",
       " 800\n",
       " 900\n",
       " 600\n",
       " 700\n",
       " 800\n",
       "  42"
      ]
     },
     "execution_count": 163,
     "metadata": {},
     "output_type": "execute_result"
    }
   ],
   "source": [
    "pop!(b) #> 300, b is now [1, 2, 3, 4, 5, 6, 7, 100, 200]\n",
    "push!(b, 42) # b is now [1, 2, 3, 4, 5, 6, 7, 100, 200, 42]"
   ]
  },
  {
   "cell_type": "markdown",
   "id": "737406a3-aa53-42a3-bdbc-66548257935d",
   "metadata": {},
   "source": [
    "If you want to do the same operations on the front of the array, use popfirst! and\n",
    "pushfirst! (formerly unshift! and shift!, respectively):"
   ]
  },
  {
   "cell_type": "code",
   "execution_count": 164,
   "id": "0c723f09-9469-4ef5-9aa6-bad27b37fa01",
   "metadata": {},
   "outputs": [
    {
     "data": {
      "text/plain": [
       "15-element Vector{Int64}:\n",
       "  42\n",
       " 700\n",
       " 800\n",
       " 900\n",
       " 100\n",
       " 200\n",
       " 300\n",
       " 600\n",
       " 700\n",
       " 800\n",
       " 900\n",
       " 600\n",
       " 700\n",
       " 800\n",
       "  42"
      ]
     },
     "execution_count": 164,
     "metadata": {},
     "output_type": "execute_result"
    }
   ],
   "source": [
    "popfirst!(b) #> 1, b is now [2, 3, 4, 5, 6, 7, 100, 200, 42]\n",
    "pushfirst!(b, 42) # b is now [42, 2, 3, 4, 5, 6, 7, 100, 200, 42]"
   ]
  },
  {
   "cell_type": "markdown",
   "id": "be23b8f8-98d8-42a0-943c-ad330b231191",
   "metadata": {},
   "source": [
    "To remove an element at a certain index, use the splice! function, as follows:"
   ]
  },
  {
   "cell_type": "code",
   "execution_count": 165,
   "id": "2928bb03-541d-48c1-a2a6-c1b169a150e0",
   "metadata": {},
   "outputs": [
    {
     "data": {
      "text/plain": [
       "15-element Vector{Int64}:\n",
       "  42\n",
       " 700\n",
       " 800\n",
       " 900\n",
       " 100\n",
       " 200\n",
       " 300\n",
       " 600\n",
       " 700\n",
       " 800\n",
       " 900\n",
       " 600\n",
       " 700\n",
       " 800\n",
       "  42"
      ]
     },
     "execution_count": 165,
     "metadata": {},
     "output_type": "execute_result"
    }
   ],
   "source": [
    "b"
   ]
  },
  {
   "cell_type": "code",
   "execution_count": 166,
   "id": "4ab1a349-525b-4c88-9e33-acf07d45287b",
   "metadata": {},
   "outputs": [
    {
     "data": {
      "text/plain": [
       "42"
      ]
     },
     "execution_count": 166,
     "metadata": {},
     "output_type": "execute_result"
    }
   ],
   "source": [
    "splice!(b,1)"
   ]
  },
  {
   "cell_type": "code",
   "execution_count": 167,
   "id": "e8499d9a-4839-4bb3-b6b5-c5adc679175d",
   "metadata": {},
   "outputs": [
    {
     "data": {
      "text/plain": [
       "14-element Vector{Int64}:\n",
       " 700\n",
       " 800\n",
       " 900\n",
       " 100\n",
       " 200\n",
       " 300\n",
       " 600\n",
       " 700\n",
       " 800\n",
       " 900\n",
       " 600\n",
       " 700\n",
       " 800\n",
       "  42"
      ]
     },
     "execution_count": 167,
     "metadata": {},
     "output_type": "execute_result"
    }
   ],
   "source": [
    "b"
   ]
  },
  {
   "cell_type": "markdown",
   "id": "c22866f7-979d-4e8d-9660-d2dfbc0850ac",
   "metadata": {},
   "source": [
    "Checking whether an array contains an element is very easy with the in function:"
   ]
  },
  {
   "cell_type": "code",
   "execution_count": 170,
   "id": "04aed000-91e8-4b94-b683-b64f0a218f49",
   "metadata": {},
   "outputs": [
    {
     "data": {
      "text/plain": [
       "false"
      ]
     },
     "execution_count": 170,
     "metadata": {},
     "output_type": "execute_result"
    }
   ],
   "source": [
    "in(b,42)"
   ]
  },
  {
   "cell_type": "code",
   "execution_count": 171,
   "id": "8ca83458-5007-49de-ae4e-cfcbf6c3e480",
   "metadata": {},
   "outputs": [
    {
     "data": {
      "text/plain": [
       "true"
      ]
     },
     "execution_count": 171,
     "metadata": {},
     "output_type": "execute_result"
    }
   ],
   "source": [
    "in(42,b)"
   ]
  },
  {
   "cell_type": "code",
   "execution_count": 169,
   "id": "22db461b-297c-468c-94f0-8f1db34d2af7",
   "metadata": {},
   "outputs": [
    {
     "data": {
      "text/plain": [
       "true"
      ]
     },
     "execution_count": 169,
     "metadata": {},
     "output_type": "execute_result"
    }
   ],
   "source": [
    "42 in b"
   ]
  },
  {
   "cell_type": "markdown",
   "id": "19dd05ec-85f0-4e7b-b732-de176b909010",
   "metadata": {},
   "source": [
    "To sort an array, use sort! if you want the array to be changed in place, or sort if the\n",
    "original array must stay the same:"
   ]
  },
  {
   "cell_type": "code",
   "execution_count": 172,
   "id": "fb2e47cd-344d-451e-b711-e438fd078df6",
   "metadata": {},
   "outputs": [
    {
     "data": {
      "text/plain": [
       "14-element Vector{Int64}:\n",
       "  42\n",
       " 100\n",
       " 200\n",
       " 300\n",
       " 600\n",
       " 600\n",
       " 700\n",
       " 700\n",
       " 700\n",
       " 800\n",
       " 800\n",
       " 800\n",
       " 900\n",
       " 900"
      ]
     },
     "execution_count": 172,
     "metadata": {},
     "output_type": "execute_result"
    }
   ],
   "source": [
    "sort(b)"
   ]
  },
  {
   "cell_type": "code",
   "execution_count": 173,
   "id": "1a488817-5e99-4ece-b2f5-40bf55979d9d",
   "metadata": {},
   "outputs": [
    {
     "data": {
      "text/plain": [
       "14-element Vector{Int64}:\n",
       "  42\n",
       " 100\n",
       " 200\n",
       " 300\n",
       " 600\n",
       " 600\n",
       " 700\n",
       " 700\n",
       " 700\n",
       " 800\n",
       " 800\n",
       " 800\n",
       " 900\n",
       " 900"
      ]
     },
     "execution_count": 173,
     "metadata": {},
     "output_type": "execute_result"
    }
   ],
   "source": [
    "sort!(b)"
   ]
  },
  {
   "cell_type": "code",
   "execution_count": 174,
   "id": "820cf5d8-fab3-438a-aba8-e6619ff69629",
   "metadata": {},
   "outputs": [
    {
     "data": {
      "text/plain": [
       "14-element Vector{Int64}:\n",
       "  42\n",
       " 100\n",
       " 200\n",
       " 300\n",
       " 600\n",
       " 600\n",
       " 700\n",
       " 700\n",
       " 700\n",
       " 800\n",
       " 800\n",
       " 800\n",
       " 900\n",
       " 900"
      ]
     },
     "execution_count": 174,
     "metadata": {},
     "output_type": "execute_result"
    }
   ],
   "source": [
    "b"
   ]
  },
  {
   "cell_type": "markdown",
   "id": "8ddcd21f-2373-4e0e-ad08-a579eae3a653",
   "metadata": {},
   "source": [
    "To loop over an array, you can use a simple for loop:\n"
   ]
  },
  {
   "cell_type": "code",
   "execution_count": 177,
   "id": "a5f33184-04e6-4020-85c8-c4c84e5d75b9",
   "metadata": {},
   "outputs": [
    {
     "name": "stdout",
     "output_type": "stream",
     "text": [
      "42 100 200 300 600 600 700 700 700 800 800 800 900 900 "
     ]
    }
   ],
   "source": [
    "for e in b\n",
    "    print(\"$e \") # or process e in another way\n",
    "end"
   ]
  },
  {
   "cell_type": "markdown",
   "id": "ef372f2d-d559-4dfa-adbf-da374349e510",
   "metadata": {},
   "source": [
    "If a dot (.) precedes operators such as + or *, the operation is done element-wise, that is, on\n",
    "the corresponding elements of the arrays:"
   ]
  },
  {
   "cell_type": "code",
   "execution_count": 178,
   "id": "8cd2cdf4-f51d-4d53-8943-83bbf69d6a96",
   "metadata": {},
   "outputs": [
    {
     "data": {
      "text/plain": [
       "9-element Vector{Int64}:\n",
       " 1\n",
       " 2\n",
       " 3\n",
       " 4\n",
       " 5\n",
       " 6\n",
       " 7\n",
       " 8\n",
       " 9"
      ]
     },
     "execution_count": 178,
     "metadata": {},
     "output_type": "execute_result"
    }
   ],
   "source": [
    "a = collect(1:9)"
   ]
  },
  {
   "cell_type": "code",
   "execution_count": 180,
   "id": "2239cc47-bd7a-4adc-90f8-1722c69fcf1c",
   "metadata": {},
   "outputs": [
    {
     "data": {
      "text/plain": [
       "9-element Vector{Int64}:\n",
       "  1\n",
       "  4\n",
       "  9\n",
       " 16\n",
       " 25\n",
       " 36\n",
       " 49\n",
       " 64\n",
       " 81"
      ]
     },
     "execution_count": 180,
     "metadata": {},
     "output_type": "execute_result"
    }
   ],
   "source": [
    "a .^ 2"
   ]
  },
  {
   "cell_type": "code",
   "execution_count": 184,
   "id": "c729a05f-fb34-4c59-9bd9-d577d03efd79",
   "metadata": {},
   "outputs": [
    {
     "data": {
      "text/plain": [
       "9-element Vector{Int64}:\n",
       " 1\n",
       " 0\n",
       " 1\n",
       " 0\n",
       " 1\n",
       " 0\n",
       " 1\n",
       " 0\n",
       " 1"
      ]
     },
     "execution_count": 184,
     "metadata": {},
     "output_type": "execute_result"
    }
   ],
   "source": [
    "a .% 2"
   ]
  },
  {
   "cell_type": "code",
   "execution_count": 185,
   "id": "39703792-e4da-4587-ab0d-6ccd9f38dbae",
   "metadata": {},
   "outputs": [
    {
     "data": {
      "text/plain": [
       "9-element Vector{Rational{Int64}}:\n",
       " 1//2\n",
       " 1//1\n",
       " 3//2\n",
       " 2//1\n",
       " 5//2\n",
       " 3//1\n",
       " 7//2\n",
       " 4//1\n",
       " 9//2"
      ]
     },
     "execution_count": 185,
     "metadata": {},
     "output_type": "execute_result"
    }
   ],
   "source": [
    "a .// 2"
   ]
  },
  {
   "cell_type": "code",
   "execution_count": 189,
   "id": "c7a10e3f-93da-4004-a313-bc976c3dc61f",
   "metadata": {},
   "outputs": [
    {
     "data": {
      "text/plain": [
       "9-element Vector{Float64}:\n",
       " 2.0\n",
       " 1.0\n",
       " 0.6666666666666666\n",
       " 0.5\n",
       " 0.4\n",
       " 0.3333333333333333\n",
       " 0.2857142857142857\n",
       " 0.25\n",
       " 0.2222222222222222"
      ]
     },
     "execution_count": 189,
     "metadata": {},
     "output_type": "execute_result"
    }
   ],
   "source": [
    "a .\\ 2\n"
   ]
  },
  {
   "cell_type": "code",
   "execution_count": 190,
   "id": "2c64eaea-7598-4b26-a0d2-8853d5712923",
   "metadata": {},
   "outputs": [
    {
     "data": {
      "text/plain": [
       "9-element Vector{Float64}:\n",
       " 0.3333333333333333\n",
       " 0.6666666666666666\n",
       " 1.0\n",
       " 1.3333333333333333\n",
       " 1.6666666666666667\n",
       " 2.0\n",
       " 2.3333333333333335\n",
       " 2.6666666666666665\n",
       " 3.0"
      ]
     },
     "execution_count": 190,
     "metadata": {},
     "output_type": "execute_result"
    }
   ],
   "source": [
    "a ./ 3"
   ]
  },
  {
   "cell_type": "code",
   "execution_count": 199,
   "id": "32949c50-ce04-42cb-b8c2-e31f65cb6800",
   "metadata": {},
   "outputs": [
    {
     "data": {
      "text/plain": [
       "9-element Vector{Int64}:\n",
       "   1\n",
       "   8\n",
       "  27\n",
       "  64\n",
       " 125\n",
       " 216\n",
       " 343\n",
       " 512\n",
       " 729"
      ]
     },
     "execution_count": 199,
     "metadata": {},
     "output_type": "execute_result"
    }
   ],
   "source": [
    "a .^ 3"
   ]
  },
  {
   "cell_type": "code",
   "execution_count": 200,
   "id": "f8689d76-8391-45e0-9816-1e5079e3d47f",
   "metadata": {},
   "outputs": [
    {
     "data": {
      "text/plain": [
       "9-element Vector{Int64}:\n",
       " 0\n",
       " 1\n",
       " 1\n",
       " 2\n",
       " 2\n",
       " 3\n",
       " 3\n",
       " 4\n",
       " 4"
      ]
     },
     "execution_count": 200,
     "metadata": {},
     "output_type": "execute_result"
    }
   ],
   "source": [
    "a .÷ 2"
   ]
  },
  {
   "cell_type": "code",
   "execution_count": 201,
   "id": "5b6e115a-b9d4-4bb8-8463-f1628f30a182",
   "metadata": {},
   "outputs": [],
   "source": [
    "a = [1, 2, 3];\n",
    "b = [4, 5, 6];"
   ]
  },
  {
   "cell_type": "code",
   "execution_count": 202,
   "id": "c5c66cdc-40a5-4efe-95f8-f91f5b0fb948",
   "metadata": {},
   "outputs": [],
   "source": [
    "using LinearAlgebra"
   ]
  },
  {
   "cell_type": "code",
   "execution_count": 203,
   "id": "ea06daa8-4887-416e-bd2f-9599ff79d2fb",
   "metadata": {},
   "outputs": [
    {
     "data": {
      "text/plain": [
       "32"
      ]
     },
     "execution_count": 203,
     "metadata": {},
     "output_type": "execute_result"
    }
   ],
   "source": [
    "LinearAlgebra.dot(a, b)"
   ]
  },
  {
   "cell_type": "code",
   "execution_count": 205,
   "id": "d7859a47-faaf-4759-bd48-282103411561",
   "metadata": {},
   "outputs": [
    {
     "data": {
      "text/plain": [
       "32"
      ]
     },
     "execution_count": 205,
     "metadata": {},
     "output_type": "execute_result"
    }
   ],
   "source": [
    "sum(a .* b)"
   ]
  },
  {
   "cell_type": "markdown",
   "id": "d6fa62ef-cc6c-4bac-84cc-dbc66b54184a",
   "metadata": {},
   "source": [
    "Lots of other useful methods exist, such as repeat([1, 2, 3], inner = [2]), which\n",
    "produces [1,1,2,2,3,3]."
   ]
  },
  {
   "cell_type": "code",
   "execution_count": 210,
   "id": "7815c31b-bbe4-4fb8-89bf-afeb4bad9eb1",
   "metadata": {},
   "outputs": [
    {
     "data": {
      "text/plain": [
       "3×3 Matrix{Int64}:\n",
       " 1  1  1\n",
       " 2  2  2\n",
       " 3  3  3"
      ]
     },
     "execution_count": 210,
     "metadata": {},
     "output_type": "execute_result"
    }
   ],
   "source": [
    "repeat(a,1,3)"
   ]
  },
  {
   "cell_type": "code",
   "execution_count": 211,
   "id": "1e19748e-c277-4481-83a7-d387e707645d",
   "metadata": {},
   "outputs": [
    {
     "data": {
      "text/html": [
       "52-element Vector{Method}:<ul><li> launch(manager::<b>Distributed.SSHManager</b>, params::<b>Dict</b>, launched::<b>Array</b>, launch_ntfy::<b>Condition</b>) in Distributed at <a href=\"file:///build/julia/src/julia-1.6.4/usr/share/julia/stdlib/v1.6/Distributed/src/managers.jl\" target=\"_blank\">/usr/share/julia/stdlib/v1.6/Distributed/src/managers.jl:158</a><li> launch(manager::<b>Distributed.LocalManager</b>, params::<b>Dict</b>, launched::<b>Array</b>, c::<b>Condition</b>) in Distributed at <a href=\"file:///build/julia/src/julia-1.6.4/usr/share/julia/stdlib/v1.6/Distributed/src/managers.jl\" target=\"_blank\">/usr/share/julia/stdlib/v1.6/Distributed/src/managers.jl:448</a><li> copyto!(dest::<b>BitArray</b>, doffs::<b>Integer</b>, src::<b>Array</b>, soffs::<b>Integer</b>, n::<b>Integer</b>) in Base at <a href=\"https://github.com/JuliaLang/julia/tree/35f0c911f443ae0d3933e1bce4321afd0f345aed/base/bitarray.jl#L461\" target=\"_blank\">bitarray.jl:461</a><li> copyto!(dest::<b>BitArray</b>, src::<b>Array</b>) in Base at <a href=\"https://github.com/JuliaLang/julia/tree/35f0c911f443ae0d3933e1bce4321afd0f345aed/base/bitarray.jl#L472\" target=\"_blank\">bitarray.jl:472</a><li> copyto!(S::<b>SharedArrays.SharedArray</b>, A::<b>Array</b>) in SharedArrays at <a href=\"file:///build/julia/src/julia-1.6.4/usr/share/julia/stdlib/v1.6/SharedArrays/src/SharedArrays.jl\" target=\"_blank\">/usr/share/julia/stdlib/v1.6/SharedArrays/src/SharedArrays.jl:589</a><li> copyto!(dest::<b>Array{T, N} where N</b>, doffs::<b>Integer</b>, src::<b>Array{T, N} where N</b>, soffs::<b>Integer</b>, n::<b>Integer</b>)<i> where T</i> in Base at <a href=\"https://github.com/JuliaLang/julia/tree/35f0c911f443ae0d3933e1bce4321afd0f345aed/base/array.jl#L303\" target=\"_blank\">array.jl:303</a><li> copyto!(dest::<b>Array</b>, doffs::<b>Integer</b>, src::<b>Array</b>, soffs::<b>Integer</b>, n::<b>Integer</b>) in Base at <a href=\"https://github.com/JuliaLang/julia/tree/35f0c911f443ae0d3933e1bce4321afd0f345aed/base/array.jl#L298\" target=\"_blank\">array.jl:298</a><li> copyto!(dest::<b>Array{T, N} where N</b>, src::<b>Array{T, N} where N</b>)<i> where T</i> in Base at <a href=\"https://github.com/JuliaLang/julia/tree/35f0c911f443ae0d3933e1bce4321afd0f345aed/base/array.jl#L328\" target=\"_blank\">array.jl:328</a><li> copyto!(dest::<b>Array</b>, src::<b>Array</b>) in Base at <a href=\"https://github.com/JuliaLang/julia/tree/35f0c911f443ae0d3933e1bce4321afd0f345aed/base/array.jl#L325\" target=\"_blank\">array.jl:325</a><li> rand!(rng::<b>MbedTLS.CtrDrbg</b>, buf::<b>Array</b>) in MbedTLS at <a href=\"file:///home/javid/.julia/packages/MbedTLS/4YY6E/src/ctr_drbg.jl\" target=\"_blank\">/home/javid/.julia/packages/MbedTLS/4YY6E/src/ctr_drbg.jl:37</a><li> +(A::<b>SparseArrays.AbstractSparseMatrixCSC</b>, B::<b>Array</b>) in SparseArrays at <a href=\"file:///build/julia/src/julia-1.6.4/usr/share/julia/stdlib/v1.6/SparseArrays/src/sparsematrix.jl\" target=\"_blank\">/usr/share/julia/stdlib/v1.6/SparseArrays/src/sparsematrix.jl:1744</a><li> +(A::<b>Array</b>, Bs::<b>Array...</b>) in Base at <a href=\"https://github.com/JuliaLang/julia/tree/35f0c911f443ae0d3933e1bce4321afd0f345aed/base/arraymath.jl#L43\" target=\"_blank\">arraymath.jl:43</a><li> +(A::<b>Array</b>, B::<b>SparseArrays.AbstractSparseMatrixCSC</b>) in SparseArrays at <a href=\"file:///build/julia/src/julia-1.6.4/usr/share/julia/stdlib/v1.6/SparseArrays/src/sparsematrix.jl\" target=\"_blank\">/usr/share/julia/stdlib/v1.6/SparseArrays/src/sparsematrix.jl:1745</a><li> -(A::<b>SparseArrays.AbstractSparseMatrixCSC</b>, B::<b>Array</b>) in SparseArrays at <a href=\"file:///build/julia/src/julia-1.6.4/usr/share/julia/stdlib/v1.6/SparseArrays/src/sparsematrix.jl\" target=\"_blank\">/usr/share/julia/stdlib/v1.6/SparseArrays/src/sparsematrix.jl:1746</a><li> -(A::<b>Array</b>, B::<b>SparseArrays.AbstractSparseMatrixCSC</b>) in SparseArrays at <a href=\"file:///build/julia/src/julia-1.6.4/usr/share/julia/stdlib/v1.6/SparseArrays/src/sparsematrix.jl\" target=\"_blank\">/usr/share/julia/stdlib/v1.6/SparseArrays/src/sparsematrix.jl:1747</a><li> convert(T::<b>Type{var\"#s814\"} where var\"#s814\"<:SharedArrays.SharedArray</b>, a::<b>Array</b>) in SharedArrays at <a href=\"file:///build/julia/src/julia-1.6.4/usr/share/julia/stdlib/v1.6/SharedArrays/src/SharedArrays.jl\" target=\"_blank\">/usr/share/julia/stdlib/v1.6/SharedArrays/src/SharedArrays.jl:377</a><li> copy(a::<b>T</b>)<i> where T<:Array</i> in Base at <a href=\"https://github.com/JuliaLang/julia/tree/35f0c911f443ae0d3933e1bce4321afd0f345aed/base/array.jl#L349\" target=\"_blank\">array.jl:349</a><li> dump(io::<b>IOContext</b>, x::<b>Array</b>, n::<b>Int64</b>, indent) in Base at <a href=\"https://github.com/JuliaLang/julia/tree/35f0c911f443ae0d3933e1bce4321afd0f345aed/base/show.jl#L2478\" target=\"_blank\">show.jl:2478</a><li> fill!(dest::<b>Array{T, N} where N</b>, x)<i> where T</i> in Base at <a href=\"https://github.com/JuliaLang/julia/tree/35f0c911f443ae0d3933e1bce4321afd0f345aed/base/array.jl#L332\" target=\"_blank\">array.jl:332</a><li> filter(f, a::<b>Array{T, N}</b>)<i> where {T, N}</i> in Base at <a href=\"https://github.com/JuliaLang/julia/tree/35f0c911f443ae0d3933e1bce4321afd0f345aed/base/array.jl#L2506\" target=\"_blank\">array.jl:2506</a><li> getindex(A::<b>Array</b>, i1::<b>Int64</b>) in Base at <a href=\"https://github.com/JuliaLang/julia/tree/35f0c911f443ae0d3933e1bce4321afd0f345aed/base/array.jl#L805\" target=\"_blank\">array.jl:805</a><li> getindex(A::<b>Array</b>, i1::<b>Int64</b>, i2::<b>Int64</b>, I::<b>Int64...</b>) in Base at <a href=\"https://github.com/JuliaLang/julia/tree/35f0c911f443ae0d3933e1bce4321afd0f345aed/base/array.jl#L806\" target=\"_blank\">array.jl:806</a><li> getindex(A::<b>Array</b>, I::<b>UnitRange{Int64}</b>) in Base at <a href=\"https://github.com/JuliaLang/julia/tree/35f0c911f443ae0d3933e1bce4321afd0f345aed/base/array.jl#L809\" target=\"_blank\">array.jl:809</a><li> getindex(A::<b>Array</b>, c::<b>Colon</b>) in Base at <a href=\"https://github.com/JuliaLang/julia/tree/35f0c911f443ae0d3933e1bce4321afd0f345aed/base/array.jl#L819\" target=\"_blank\">array.jl:819</a><li> getindex(A::<b>Array{S, N} where N</b>, I::<b>AbstractRange{Int64}</b>)<i> where S</i> in Base at <a href=\"https://github.com/JuliaLang/julia/tree/35f0c911f443ae0d3933e1bce4321afd0f345aed/base/array.jl#L829\" target=\"_blank\">array.jl:829</a><li> getindex(A::<b>Array</b>, i1::<b>Integer</b>, I::<b>Integer...</b>) in Base at <a href=\"https://github.com/JuliaLang/julia/tree/35f0c911f443ae0d3933e1bce4321afd0f345aed/base/abstractarray.jl#L1173\" target=\"_blank\">abstractarray.jl:1173</a><li> getindex(A::<b>Array</b>, i1::<b>Union{Integer, CartesianIndex}</b>, I::<b>Union{Integer, CartesianIndex}...</b>) in Base at <a href=\"https://github.com/JuliaLang/julia/tree/35f0c911f443ae0d3933e1bce4321afd0f345aed/base/multidimensional.jl#L643\" target=\"_blank\">multidimensional.jl:643</a><li> isassigned(a::<b>Array</b>, i::<b>Int64...</b>) in Base at <a href=\"https://github.com/JuliaLang/julia/tree/35f0c911f443ae0d3933e1bce4321afd0f345aed/base/array.jl#L201\" target=\"_blank\">array.jl:201</a><li> iterate(A::<b>Array</b>) in Base at <a href=\"https://github.com/JuliaLang/julia/tree/35f0c911f443ae0d3933e1bce4321afd0f345aed/base/array.jl#L781\" target=\"_blank\">array.jl:781</a><li> iterate(A::<b>Array</b>, i) in Base at <a href=\"https://github.com/JuliaLang/julia/tree/35f0c911f443ae0d3933e1bce4321afd0f345aed/base/array.jl#L781\" target=\"_blank\">array.jl:781</a><li> length(a::<b>Array</b>) in Base at <a href=\"https://github.com/JuliaLang/julia/tree/35f0c911f443ae0d3933e1bce4321afd0f345aed/base/array.jl#L197\" target=\"_blank\">array.jl:197</a><li> permutedims!(P::<b>Array{T, N}</b>, B::<b>StridedArray{T, N}</b>, perm)<i> where {T, N}</i> in Base at <a href=\"https://github.com/JuliaLang/julia/tree/35f0c911f443ae0d3933e1bce4321afd0f345aed/base/multidimensional.jl#L1515\" target=\"_blank\">multidimensional.jl:1515</a><li> reshape(a::<b>Array{T, M}</b>, dims::<b>Tuple{Vararg{Int64, N}}</b>)<i> where {T, N, M}</i> in Base at <a href=\"https://github.com/JuliaLang/julia/tree/35f0c911f443ae0d3933e1bce4321afd0f345aed/base/reshapedarray.jl#L40\" target=\"_blank\">reshapedarray.jl:40</a><li> setindex!(A::<b>Array{T, N} where N</b>, x, i1::<b>Int64</b>)<i> where T</i> in Base at <a href=\"https://github.com/JuliaLang/julia/tree/35f0c911f443ae0d3933e1bce4321afd0f345aed/base/array.jl#L843\" target=\"_blank\">array.jl:843</a><li> setindex!(A::<b>Array{T, N} where N</b>, x, i1::<b>Int64</b>, i2::<b>Int64</b>, I::<b>Int64...</b>)<i> where T</i> in Base at <a href=\"https://github.com/JuliaLang/julia/tree/35f0c911f443ae0d3933e1bce4321afd0f345aed/base/array.jl#L844\" target=\"_blank\">array.jl:844</a><li> setindex!(A::<b>Array{T, N} where N</b>, X::<b>Array{T, N} where N</b>, I::<b>UnitRange{Int64}</b>)<i> where T</i> in Base at <a href=\"https://github.com/JuliaLang/julia/tree/35f0c911f443ae0d3933e1bce4321afd0f345aed/base/array.jl#L864\" target=\"_blank\">array.jl:864</a><li> setindex!(A::<b>Array</b>, X::<b>AbstractArray</b>, I::<b>AbstractVector{Int64}</b>) in Base at <a href=\"https://github.com/JuliaLang/julia/tree/35f0c911f443ae0d3933e1bce4321afd0f345aed/base/array.jl#L848\" target=\"_blank\">array.jl:848</a><li> setindex!(A::<b>Array{T, N} where N</b>, X::<b>Array{T, N} where N</b>, c::<b>Colon</b>)<i> where T</i> in Base at <a href=\"https://github.com/JuliaLang/julia/tree/35f0c911f443ae0d3933e1bce4321afd0f345aed/base/array.jl#L874\" target=\"_blank\">array.jl:874</a><li> setindex!(A::<b>Array</b>, v, i1::<b>Union{Integer, CartesianIndex}</b>, I::<b>Union{Integer, CartesianIndex}...</b>) in Base at <a href=\"https://github.com/JuliaLang/julia/tree/35f0c911f443ae0d3933e1bce4321afd0f345aed/base/multidimensional.jl#L645\" target=\"_blank\">multidimensional.jl:645</a><li> similar(a::<b>Array{T, N} where N</b>, m::<b>Int64</b>)<i> where T</i> in Base at <a href=\"https://github.com/JuliaLang/julia/tree/35f0c911f443ae0d3933e1bce4321afd0f345aed/base/array.jl#L357\" target=\"_blank\">array.jl:357</a><li> similar(a::<b>Array</b>, T::<b>Type</b>, dims::<b>Tuple{Vararg{Int64, N}}</b>)<i> where N</i> in Base at <a href=\"https://github.com/JuliaLang/julia/tree/35f0c911f443ae0d3933e1bce4321afd0f345aed/base/array.jl#L358\" target=\"_blank\">array.jl:358</a><li> similar(a::<b>Array{T, N} where N</b>, dims::<b>Tuple{Vararg{Int64, N}}</b>)<i> where {T, N}</i> in Base at <a href=\"https://github.com/JuliaLang/julia/tree/35f0c911f443ae0d3933e1bce4321afd0f345aed/base/array.jl#L359\" target=\"_blank\">array.jl:359</a><li> size(a::<b>Array{var\"#s77\", N} where var\"#s77\"</b>)<i> where N</i> in Base at <a href=\"https://github.com/JuliaLang/julia/tree/35f0c911f443ae0d3933e1bce4321afd0f345aed/base/array.jl#L135\" target=\"_blank\">array.jl:135</a><li> size(a::<b>Array</b>, d::<b>Integer</b>) in Base at <a href=\"https://github.com/JuliaLang/julia/tree/35f0c911f443ae0d3933e1bce4321afd0f345aed/base/array.jl#L132\" target=\"_blank\">array.jl:132</a><li> sizeof(a::<b>Array</b>) in Base at <a href=\"https://github.com/JuliaLang/julia/tree/35f0c911f443ae0d3933e1bce4321afd0f345aed/base/array.jl#L199\" target=\"_blank\">array.jl:199</a><li> unsafe_copyto!(dest::<b>Array{T, N} where N</b>, doffs, src::<b>Array{T, N} where N</b>, soffs, n)<i> where T</i> in Base at <a href=\"https://github.com/JuliaLang/julia/tree/35f0c911f443ae0d3933e1bce4321afd0f345aed/base/array.jl#L262\" target=\"_blank\">array.jl:262</a><li> unsafe_copyto!(dest::<b>Array</b>, doffs, src::<b>Array</b>, soffs, n) in Base at <a href=\"https://github.com/JuliaLang/julia/tree/35f0c911f443ae0d3933e1bce4321afd0f345aed/base/array.jl#L289\" target=\"_blank\">array.jl:289</a><li> write(s::<b>IO</b>, a::<b>Array</b>) in Base at <a href=\"https://github.com/JuliaLang/julia/tree/35f0c911f443ae0d3933e1bce4321afd0f345aed/base/io.jl#L667\" target=\"_blank\">io.jl:667</a><li> curl_easy_getinfo(handle, opt, ptrval::<b>Array{T, N} where N</b>)<i> where T</i> in LibCURL at <a href=\"file:///build/julia/src/julia-1.6.4/usr/share/julia/stdlib/v1.6/LibCURL/src/LibCURL.jl\" target=\"_blank\">/usr/share/julia/stdlib/v1.6/LibCURL/src/LibCURL.jl:40</a><li> curl_easy_setopt(handle, opt, ptrval::<b>Array{T, N} where N</b>)<i> where T</i> in LibCURL at <a href=\"file:///build/julia/src/julia-1.6.4/usr/share/julia/stdlib/v1.6/LibCURL/src/LibCURL.jl\" target=\"_blank\">/usr/share/julia/stdlib/v1.6/LibCURL/src/LibCURL.jl:30</a><li> curl_multi_setopt(handle, opt, ptrval::<b>Array{T, N} where N</b>)<i> where T</i> in LibCURL at <a href=\"file:///build/julia/src/julia-1.6.4/usr/share/julia/stdlib/v1.6/LibCURL/src/LibCURL.jl\" target=\"_blank\">/usr/share/julia/stdlib/v1.6/LibCURL/src/LibCURL.jl:35</a><li> serialize(s::<b>Serialization.AbstractSerializer</b>, a::<b>Array</b>) in Serialization at <a href=\"file:///build/julia/src/julia-1.6.4/usr/share/julia/stdlib/v1.6/Serialization/src/Serialization.jl\" target=\"_blank\">/usr/share/julia/stdlib/v1.6/Serialization/src/Serialization.jl:255</a></ul>"
      ],
      "text/plain": [
       "[1] launch(manager::Distributed.SSHManager, params::Dict, launched::Array, launch_ntfy::Condition) in Distributed at /usr/share/julia/stdlib/v1.6/Distributed/src/managers.jl:158\n",
       "[2] launch(manager::Distributed.LocalManager, params::Dict, launched::Array, c::Condition) in Distributed at /usr/share/julia/stdlib/v1.6/Distributed/src/managers.jl:448\n",
       "[3] copyto!(dest::BitArray, doffs::Integer, src::Array, soffs::Integer, n::Integer) in Base at bitarray.jl:461\n",
       "[4] copyto!(dest::BitArray, src::Array) in Base at bitarray.jl:472\n",
       "[5] copyto!(S::SharedArrays.SharedArray, A::Array) in SharedArrays at /usr/share/julia/stdlib/v1.6/SharedArrays/src/SharedArrays.jl:589\n",
       "[6] copyto!(dest::Array{T, N} where N, doffs::Integer, src::Array{T, N} where N, soffs::Integer, n::Integer) where T in Base at array.jl:303\n",
       "[7] copyto!(dest::Array, doffs::Integer, src::Array, soffs::Integer, n::Integer) in Base at array.jl:298\n",
       "[8] copyto!(dest::Array{T, N} where N, src::Array{T, N} where N) where T in Base at array.jl:328\n",
       "[9] copyto!(dest::Array, src::Array) in Base at array.jl:325\n",
       "[10] rand!(rng::MbedTLS.CtrDrbg, buf::Array) in MbedTLS at /home/javid/.julia/packages/MbedTLS/4YY6E/src/ctr_drbg.jl:37\n",
       "[11] +(A::SparseArrays.AbstractSparseMatrixCSC, B::Array) in SparseArrays at /usr/share/julia/stdlib/v1.6/SparseArrays/src/sparsematrix.jl:1744\n",
       "[12] +(A::Array, Bs::Array...) in Base at arraymath.jl:43\n",
       "[13] +(A::Array, B::SparseArrays.AbstractSparseMatrixCSC) in SparseArrays at /usr/share/julia/stdlib/v1.6/SparseArrays/src/sparsematrix.jl:1745\n",
       "[14] -(A::SparseArrays.AbstractSparseMatrixCSC, B::Array) in SparseArrays at /usr/share/julia/stdlib/v1.6/SparseArrays/src/sparsematrix.jl:1746\n",
       "[15] -(A::Array, B::SparseArrays.AbstractSparseMatrixCSC) in SparseArrays at /usr/share/julia/stdlib/v1.6/SparseArrays/src/sparsematrix.jl:1747\n",
       "[16] convert(T::Type{var\"#s814\"} where var\"#s814\"<:SharedArrays.SharedArray, a::Array) in SharedArrays at /usr/share/julia/stdlib/v1.6/SharedArrays/src/SharedArrays.jl:377\n",
       "[17] copy(a::T) where T<:Array in Base at array.jl:349\n",
       "[18] dump(io::IOContext, x::Array, n::Int64, indent) in Base at show.jl:2478\n",
       "[19] fill!(dest::Array{T, N} where N, x) where T in Base at array.jl:332\n",
       "[20] filter(f, a::Array{T, N}) where {T, N} in Base at array.jl:2506\n",
       "[21] getindex(A::Array, i1::Int64) in Base at array.jl:805\n",
       "[22] getindex(A::Array, i1::Int64, i2::Int64, I::Int64...) in Base at array.jl:806\n",
       "[23] getindex(A::Array, I::UnitRange{Int64}) in Base at array.jl:809\n",
       "[24] getindex(A::Array, c::Colon) in Base at array.jl:819\n",
       "[25] getindex(A::Array{S, N} where N, I::AbstractRange{Int64}) where S in Base at array.jl:829\n",
       "[26] getindex(A::Array, i1::Integer, I::Integer...) in Base at abstractarray.jl:1173\n",
       "[27] getindex(A::Array, i1::Union{Integer, CartesianIndex}, I::Union{Integer, CartesianIndex}...) in Base at multidimensional.jl:643\n",
       "[28] isassigned(a::Array, i::Int64...) in Base at array.jl:201\n",
       "[29] iterate(A::Array) in Base at array.jl:781\n",
       "[30] iterate(A::Array, i) in Base at array.jl:781\n",
       "[31] length(a::Array) in Base at array.jl:197\n",
       "[32] permutedims!(P::Array{T, N}, B::StridedArray{T, N}, perm) where {T, N} in Base at multidimensional.jl:1515\n",
       "[33] reshape(a::Array{T, M}, dims::Tuple{Vararg{Int64, N}}) where {T, N, M} in Base at reshapedarray.jl:40\n",
       "[34] setindex!(A::Array{T, N} where N, x, i1::Int64) where T in Base at array.jl:843\n",
       "[35] setindex!(A::Array{T, N} where N, x, i1::Int64, i2::Int64, I::Int64...) where T in Base at array.jl:844\n",
       "[36] setindex!(A::Array{T, N} where N, X::Array{T, N} where N, I::UnitRange{Int64}) where T in Base at array.jl:864\n",
       "[37] setindex!(A::Array, X::AbstractArray, I::AbstractVector{Int64}) in Base at array.jl:848\n",
       "[38] setindex!(A::Array{T, N} where N, X::Array{T, N} where N, c::Colon) where T in Base at array.jl:874\n",
       "[39] setindex!(A::Array, v, i1::Union{Integer, CartesianIndex}, I::Union{Integer, CartesianIndex}...) in Base at multidimensional.jl:645\n",
       "[40] similar(a::Array{T, N} where N, m::Int64) where T in Base at array.jl:357\n",
       "[41] similar(a::Array, T::Type, dims::Tuple{Vararg{Int64, N}}) where N in Base at array.jl:358\n",
       "[42] similar(a::Array{T, N} where N, dims::Tuple{Vararg{Int64, N}}) where {T, N} in Base at array.jl:359\n",
       "[43] size(a::Array{var\"#s77\", N} where var\"#s77\") where N in Base at array.jl:135\n",
       "[44] size(a::Array, d::Integer) in Base at array.jl:132\n",
       "[45] sizeof(a::Array) in Base at array.jl:199\n",
       "[46] unsafe_copyto!(dest::Array{T, N} where N, doffs, src::Array{T, N} where N, soffs, n) where T in Base at array.jl:262\n",
       "[47] unsafe_copyto!(dest::Array, doffs, src::Array, soffs, n) in Base at array.jl:289\n",
       "[48] write(s::IO, a::Array) in Base at io.jl:667\n",
       "[49] curl_easy_getinfo(handle, opt, ptrval::Array{T, N} where N) where T in LibCURL at /usr/share/julia/stdlib/v1.6/LibCURL/src/LibCURL.jl:40\n",
       "[50] curl_easy_setopt(handle, opt, ptrval::Array{T, N} where N) where T in LibCURL at /usr/share/julia/stdlib/v1.6/LibCURL/src/LibCURL.jl:30\n",
       "[51] curl_multi_setopt(handle, opt, ptrval::Array{T, N} where N) where T in LibCURL at /usr/share/julia/stdlib/v1.6/LibCURL/src/LibCURL.jl:35\n",
       "[52] serialize(s::Serialization.AbstractSerializer, a::Array) in Serialization at /usr/share/julia/stdlib/v1.6/Serialization/src/Serialization.jl:255"
      ]
     },
     "execution_count": 211,
     "metadata": {},
     "output_type": "execute_result"
    }
   ],
   "source": [
    "methodswith(Array)"
   ]
  },
  {
   "cell_type": "markdown",
   "id": "e684c73b-d225-41c8-b0a5-0d5af1c04129",
   "metadata": {},
   "source": [
    "When you assign an array to another array, and then change the first array, both the arrays\n",
    "change. Consider the following example:"
   ]
  },
  {
   "cell_type": "code",
   "execution_count": 213,
   "id": "7a36497a-00ee-4a34-921e-cd76c5b36976",
   "metadata": {},
   "outputs": [
    {
     "name": "stdout",
     "output_type": "stream",
     "text": [
      "[1, 2, 4, 6][1, 2, 4, 0][1, 2, 4, 0]"
     ]
    }
   ],
   "source": [
    "a = [1,2,4,6]\n",
    "a1 = a\n",
    "show(a1) #> [1,2,4,6]\n",
    "a[4] = 0\n",
    "show(a) #> [1,2,4,0]\n",
    "show(a1) #> [1,2,4,0]"
   ]
  },
  {
   "cell_type": "code",
   "execution_count": 215,
   "id": "e0edb0b8-c354-48d9-a39d-abc2ac74eda6",
   "metadata": {},
   "outputs": [],
   "source": [
    "a1 = copy(a);"
   ]
  },
  {
   "cell_type": "code",
   "execution_count": 216,
   "id": "96c7ff79-f436-43f4-9653-c1748192423e",
   "metadata": {},
   "outputs": [
    {
     "name": "stdout",
     "output_type": "stream",
     "text": [
      "[1, 2, 4, 0]"
     ]
    }
   ],
   "source": [
    "show(a1)"
   ]
  },
  {
   "cell_type": "code",
   "execution_count": 217,
   "id": "a3ab1609-4060-432d-9ed0-d4122f266fe1",
   "metadata": {},
   "outputs": [
    {
     "data": {
      "text/plain": [
       "5"
      ]
     },
     "execution_count": 217,
     "metadata": {},
     "output_type": "execute_result"
    }
   ],
   "source": [
    "a1[2] = 5"
   ]
  },
  {
   "cell_type": "code",
   "execution_count": 219,
   "id": "912054c0-c8f4-46ad-a746-d59af87701ce",
   "metadata": {},
   "outputs": [
    {
     "name": "stdout",
     "output_type": "stream",
     "text": [
      "[1, 5, 4, 0]"
     ]
    }
   ],
   "source": [
    "show(a1)"
   ]
  },
  {
   "cell_type": "code",
   "execution_count": 220,
   "id": "ecbdba02-fb1f-45bf-a5ae-9466079105e2",
   "metadata": {},
   "outputs": [
    {
     "name": "stdout",
     "output_type": "stream",
     "text": [
      "[1, 2, 4, 0]"
     ]
    }
   ],
   "source": [
    "show(a)"
   ]
  },
  {
   "cell_type": "markdown",
   "id": "40c44939-78d9-4ec8-a60f-ecb35f2fb382",
   "metadata": {},
   "source": [
    "As we have seen, arrays are mutable (in contrast to strings), and as arguments to a function,\n",
    "they are passed by reference. As a consequence, the function can change them, as in this\n",
    "example:"
   ]
  },
  {
   "cell_type": "code",
   "execution_count": 221,
   "id": "eeafdd59-9e02-4ded-9591-c8ce998f144f",
   "metadata": {},
   "outputs": [
    {
     "data": {
      "text/plain": [
       "change_array (generic function with 1 method)"
      ]
     },
     "execution_count": 221,
     "metadata": {},
     "output_type": "execute_result"
    }
   ],
   "source": [
    "function change_array(arr)\n",
    "    arr[2] = 323\n",
    "end\n"
   ]
  },
  {
   "cell_type": "code",
   "execution_count": 222,
   "id": "bdf7d3f0-6a4b-47e2-a75f-198af8e8b8e7",
   "metadata": {},
   "outputs": [],
   "source": [
    "a = collect(1:10);"
   ]
  },
  {
   "cell_type": "code",
   "execution_count": 224,
   "id": "bb07bb7d-b126-4468-8339-bb2f7d2f4b59",
   "metadata": {},
   "outputs": [
    {
     "name": "stdout",
     "output_type": "stream",
     "text": [
      "[1, 2, 3, 4, 5, 6, 7, 8, 9, 10]"
     ]
    }
   ],
   "source": [
    "show(a)"
   ]
  },
  {
   "cell_type": "code",
   "execution_count": 225,
   "id": "9d01a378-3e11-4708-944c-4dc85df30ed7",
   "metadata": {},
   "outputs": [
    {
     "data": {
      "text/plain": [
       "323"
      ]
     },
     "execution_count": 225,
     "metadata": {},
     "output_type": "execute_result"
    }
   ],
   "source": [
    "change_array(a)"
   ]
  },
  {
   "cell_type": "code",
   "execution_count": 226,
   "id": "8c6d64ec-7bd2-4880-99f4-5cc9d6186686",
   "metadata": {},
   "outputs": [
    {
     "name": "stdout",
     "output_type": "stream",
     "text": [
      "[1, 323, 3, 4, 5, 6, 7, 8, 9, 10]"
     ]
    }
   ],
   "source": [
    "show(a)"
   ]
  },
  {
   "cell_type": "markdown",
   "id": "d201fa41-4ea0-4656-8fe5-9cb5bd896a8f",
   "metadata": {},
   "source": [
    "Suppose you have an array arr = ['a', 'b', 'c']. Which function on arr do we need\n",
    "to return all characters in one string?\n",
    "The function join will do the trick: join(arr) returns the string \"abc\"."
   ]
  },
  {
   "cell_type": "code",
   "execution_count": 228,
   "id": "0e724767-615a-40c8-ad6e-2af583767f85",
   "metadata": {},
   "outputs": [],
   "source": [
    "arr = ['a', 'b', 'c'];"
   ]
  },
  {
   "cell_type": "code",
   "execution_count": 229,
   "id": "1f60fc77-ced9-4971-aaab-fcceb5b57e2d",
   "metadata": {},
   "outputs": [
    {
     "name": "stdout",
     "output_type": "stream",
     "text": [
      "['a', 'b', 'c']"
     ]
    }
   ],
   "source": [
    "show(arr)"
   ]
  },
  {
   "cell_type": "code",
   "execution_count": 230,
   "id": "89ccf1b3-a02f-47c0-a5c9-5b8b2da2d742",
   "metadata": {},
   "outputs": [
    {
     "data": {
      "text/plain": [
       "\"abc\""
      ]
     },
     "execution_count": 230,
     "metadata": {},
     "output_type": "execute_result"
    }
   ],
   "source": [
    "join(arr)"
   ]
  },
  {
   "cell_type": "code",
   "execution_count": 231,
   "id": "851d5d1d-8eb8-477b-bdb1-2c9f8d375508",
   "metadata": {},
   "outputs": [
    {
     "data": {
      "text/plain": [
       "\"['a', 'b', 'c']\""
      ]
     },
     "execution_count": 231,
     "metadata": {},
     "output_type": "execute_result"
    }
   ],
   "source": [
    "string(arr)"
   ]
  },
  {
   "cell_type": "code",
   "execution_count": 232,
   "id": "15dfd1cc-51ef-443a-885d-805aa1672324",
   "metadata": {},
   "outputs": [
    {
     "data": {
      "text/plain": [
       "\"abc\""
      ]
     },
     "execution_count": 232,
     "metadata": {},
     "output_type": "execute_result"
    }
   ],
   "source": [
    "string(arr...)"
   ]
  },
  {
   "cell_type": "markdown",
   "id": "0407331b-2ead-45e3-943f-850deb405187",
   "metadata": {},
   "source": [
    "string(arr) does not: this returns ['a', 'b', 'c'], but string(arr...) does return\n",
    "\"abc\". This is because ... is the splice operator (also known as splat). It causes\n",
    "the contents of arr to be passed as individual arguments, rather than passing arr as an\n",
    "array."
   ]
  },
  {
   "cell_type": "code",
   "execution_count": null,
   "id": "b98819cb-b0dc-49de-9c54-d7b33c3bd9c6",
   "metadata": {},
   "outputs": [],
   "source": []
  }
 ],
 "metadata": {
  "kernelspec": {
   "display_name": "Julia 1.6.4",
   "language": "julia",
   "name": "julia-1.6"
  },
  "language_info": {
   "file_extension": ".jl",
   "mimetype": "application/julia",
   "name": "julia",
   "version": "1.6.4"
  }
 },
 "nbformat": 4,
 "nbformat_minor": 5
}
