{
 "cells": [
  {
   "cell_type": "markdown",
   "id": "5bfd1a15-bfbf-46b8-aa7a-4bac18bbb13f",
   "metadata": {},
   "source": [
    "# Functions"
   ]
  },
  {
   "cell_type": "markdown",
   "id": "aac2dec5-8971-463e-ac17-6c1ac2a611b1",
   "metadata": {},
   "source": [
    "Julia is first and foremost a functional language because computations and data\n",
    "transformations are done through functions; they are first-class citizens in Julia. Programs\n",
    "are structured around defining functions and to overload them for different combinations\n",
    "of argument types. This chapter discusses this keystone concept, covering the following\n",
    "topics:"
   ]
  },
  {
   "cell_type": "markdown",
   "id": "a39e2bdf-acd0-4b8a-be0b-11416b55440a",
   "metadata": {},
   "source": [
    "- Defining functions\n",
    "- Optional and keyword arguments\n",
    "- Anonymous functions\n",
    "- First-class functions and closures\n",
    "- Recursive functions\n",
    "- Broadcasting\n",
    "- Map, filter, and list comprehensions\n",
    "- Generic functions and multiple dispatch"
   ]
  },
  {
   "cell_type": "markdown",
   "id": "bac4c8e3-e2d7-4f4a-8044-5664bb78ee6a",
   "metadata": {},
   "source": [
    "# Defining functions"
   ]
  },
  {
   "cell_type": "markdown",
   "id": "f6f2dfdd-a275-4c84-8633-179113e3326c",
   "metadata": {},
   "source": [
    "A function is an object that gets a number of arguments (the argument list, arglist) as the\n",
    "input, then does something with these values in the function body, and returns none, one,\n",
    "or more value(s)"
   ]
  },
  {
   "cell_type": "markdown",
   "id": "1f501cf5-566e-4c5f-9baf-49d86fe7fdc1",
   "metadata": {},
   "source": [
    "Multiple arguments are separated by commas (,) in an arglist (in fact,\n",
    "they form a tuple, as do the return values"
   ]
  },
  {
   "cell_type": "markdown",
   "id": "2b4b2349-7a69-4694-8787-dd2c5195e4d8",
   "metadata": {},
   "source": [
    "The arguments are also optionally typed, and the type(s) can be user-defined. The\n",
    "general syntax is as follows:"
   ]
  },
  {
   "cell_type": "code",
   "execution_count": 2,
   "id": "53db667a-a7ea-4857-8a47-8ca594dcb199",
   "metadata": {},
   "outputs": [
    {
     "data": {
      "text/plain": [
       "foo (generic function with 1 method)"
      ]
     },
     "execution_count": 2,
     "metadata": {},
     "output_type": "execute_result"
    }
   ],
   "source": [
    "function foo(args)\n",
    "    return args\n",
    "end\n"
   ]
  },
  {
   "cell_type": "markdown",
   "id": "cdf7585f-1b99-4db7-9c39-b58a7fc42229",
   "metadata": {},
   "source": [
    "A function's argument list can also be empty"
   ]
  },
  {
   "cell_type": "code",
   "execution_count": 5,
   "id": "9b4d7027-fa37-49c8-baeb-bcca4bc20ccd",
   "metadata": {},
   "outputs": [
    {
     "data": {
      "text/plain": [
       "multi (generic function with 1 method)"
      ]
     },
     "execution_count": 5,
     "metadata": {},
     "output_type": "execute_result"
    }
   ],
   "source": [
    "function multi(x, y)\n",
    "    print(\"The values to multiply include: \\n $x, $y \\n And the result is $(x*y)\")\n",
    "    return x*y\n",
    "end\n",
    "\n",
    "    \n",
    "    "
   ]
  },
  {
   "cell_type": "code",
   "execution_count": 7,
   "id": "586edf17-444d-4329-ba68-c83e0e27a789",
   "metadata": {},
   "outputs": [
    {
     "name": "stdout",
     "output_type": "stream",
     "text": [
      "The values to multiply include: \n",
      " 10, 10 \n",
      " And the result is 100"
     ]
    }
   ],
   "source": [
    "multi(10,10);"
   ]
  },
  {
   "cell_type": "markdown",
   "id": "1fe20046-cf64-4b1d-a47b-89635be2b344",
   "metadata": {},
   "source": [
    "Function names such as mult are, by convention, in lower-case. They can contain Unicode\n",
    "characters, which are useful in mathematical notations."
   ]
  },
  {
   "cell_type": "markdown",
   "id": "d7e691d8-e5af-4ffa-a13e-89d532318974",
   "metadata": {},
   "source": [
    "The return keyword in the last line\n",
    "is optional; we could have written the line as x * y."
   ]
  },
  {
   "cell_type": "code",
   "execution_count": 8,
   "id": "5d0d552a-1437-40ce-a39b-2ec533a33f99",
   "metadata": {},
   "outputs": [
    {
     "data": {
      "text/plain": [
       "multi (generic function with 1 method)"
      ]
     },
     "execution_count": 8,
     "metadata": {},
     "output_type": "execute_result"
    }
   ],
   "source": [
    "function multi(x, y)\n",
    "    print(\"The values to multiply include: \\n $x, $y \\n And the result is $(x*y)\")\n",
    "    x*y\n",
    "end\n",
    "\n",
    "    \n",
    "    "
   ]
  },
  {
   "cell_type": "code",
   "execution_count": 10,
   "id": "d0081b67-4fec-4cb9-84b3-795c6f119e6b",
   "metadata": {},
   "outputs": [
    {
     "name": "stdout",
     "output_type": "stream",
     "text": [
      "The values to multiply include: \n",
      " 10, 10 \n",
      " And the result is 100"
     ]
    },
    {
     "data": {
      "text/plain": [
       "100"
      ]
     },
     "execution_count": 10,
     "metadata": {},
     "output_type": "execute_result"
    }
   ],
   "source": [
    "multi(10,10)"
   ]
  },
  {
   "cell_type": "markdown",
   "id": "068353b4-bbff-4e8e-bbb2-887c2a162de1",
   "metadata": {},
   "source": [
    "In general, the value of the last\n",
    "expression in the function is returned, but writing return is mostly a good idea in\n",
    "multiline functions to increase readability."
   ]
  },
  {
   "cell_type": "markdown",
   "id": "75db2ed2-1337-4c7f-9840-68017519fa3a",
   "metadata": {},
   "source": [
    "if you\n",
    "only need its side-effects (that is, how the function affects the program state; for instance, by\n",
    "changing the global variables). The return keyword can also be used within a condition in\n",
    "other parts of the function body to exit the function earlier, as in this example:"
   ]
  },
  {
   "cell_type": "code",
   "execution_count": 12,
   "id": "b46c4806-f3d7-41ac-8f29-8c050e611c95",
   "metadata": {},
   "outputs": [
    {
     "data": {
      "text/plain": [
       "mult (generic function with 1 method)"
      ]
     },
     "execution_count": 12,
     "metadata": {},
     "output_type": "execute_result"
    }
   ],
   "source": [
    "function mult(x, y)\n",
    "    println(\"x is $x and y is $y\")\n",
    "    if x == 1\n",
    "        return \n",
    "    end\n",
    "    x * y\n",
    "end"
   ]
  },
  {
   "cell_type": "code",
   "execution_count": 16,
   "id": "cdead27e-7695-4f61-8afc-9374f6d4b378",
   "metadata": {},
   "outputs": [
    {
     "name": "stdout",
     "output_type": "stream",
     "text": [
      "x is 1 and y is 10\n"
     ]
    }
   ],
   "source": [
    "a = mult(1,10)"
   ]
  },
  {
   "cell_type": "code",
   "execution_count": 18,
   "id": "8a58e663-d58b-41d6-91e4-27ab94c1c497",
   "metadata": {},
   "outputs": [
    {
     "data": {
      "text/plain": [
       "Nothing"
      ]
     },
     "execution_count": 18,
     "metadata": {},
     "output_type": "execute_result"
    }
   ],
   "source": [
    "typeof(a)"
   ]
  },
  {
   "cell_type": "markdown",
   "id": "a07416da-0040-4da5-874d-51d9878a86bf",
   "metadata": {},
   "source": [
    "In this case, return can also be used without a value so that the function returns nothing."
   ]
  },
  {
   "cell_type": "markdown",
   "id": "49abe860-432c-48af-85c6-6a76aca1e59c",
   "metadata": {},
   "source": [
    "Functions are not limited to returning a single value. Here is an example with multiple\n",
    "return values:"
   ]
  },
  {
   "cell_type": "code",
   "execution_count": 22,
   "id": "874e74cd-dfb1-4907-86a1-22b6284827e2",
   "metadata": {},
   "outputs": [
    {
     "data": {
      "text/plain": [
       "custom_fn (generic function with 1 method)"
      ]
     },
     "execution_count": 22,
     "metadata": {},
     "output_type": "execute_result"
    }
   ],
   "source": [
    "function custom_fn(n, m)\n",
    "    return n*m, div(n,m), n%m\n",
    "end\n"
   ]
  },
  {
   "cell_type": "code",
   "execution_count": 23,
   "id": "4c28dbf5-5081-46cb-ac79-16449bbb5538",
   "metadata": {},
   "outputs": [
    {
     "data": {
      "text/plain": [
       "(40, 2, 2)"
      ]
     },
     "execution_count": 23,
     "metadata": {},
     "output_type": "execute_result"
    }
   ],
   "source": [
    "custom_fn(10,4)"
   ]
  },
  {
   "cell_type": "markdown",
   "id": "1736c934-89d0-4765-a084-4c0dcb9f9f37",
   "metadata": {},
   "source": [
    "The return values can be\n",
    "extracted to other variables such as"
   ]
  },
  {
   "cell_type": "code",
   "execution_count": 24,
   "id": "2d69b15c-08c1-49ca-8543-88099951eed1",
   "metadata": {},
   "outputs": [
    {
     "data": {
      "text/plain": [
       "(40, 2, 2)"
      ]
     },
     "execution_count": 24,
     "metadata": {},
     "output_type": "execute_result"
    }
   ],
   "source": [
    "a, b, c = custom_fn(10,4)"
   ]
  },
  {
   "cell_type": "code",
   "execution_count": 25,
   "id": "c118b2a1-0eda-4e42-b1e1-ed630114fff7",
   "metadata": {},
   "outputs": [
    {
     "data": {
      "text/plain": [
       "40"
      ]
     },
     "execution_count": 25,
     "metadata": {},
     "output_type": "execute_result"
    }
   ],
   "source": [
    "a"
   ]
  },
  {
   "cell_type": "code",
   "execution_count": 26,
   "id": "b52a1c44-0b70-4cd1-8924-bd18c1e26ec3",
   "metadata": {},
   "outputs": [
    {
     "data": {
      "text/plain": [
       "2"
      ]
     },
     "execution_count": 26,
     "metadata": {},
     "output_type": "execute_result"
    }
   ],
   "source": [
    "b"
   ]
  },
  {
   "cell_type": "code",
   "execution_count": 27,
   "id": "d42acec6-6b74-4148-a3b7-191ac89af597",
   "metadata": {},
   "outputs": [
    {
     "data": {
      "text/plain": [
       "2"
      ]
     },
     "execution_count": 27,
     "metadata": {},
     "output_type": "execute_result"
    }
   ],
   "source": [
    "c"
   ]
  },
  {
   "cell_type": "markdown",
   "id": "84ed0d56-c8ae-4883-ab48-68c02393188f",
   "metadata": {},
   "source": [
    "In fact, you can say that Julia always returns a single value,\n",
    "but this value can be a tuple that can be used to pass multiple variables back to the\n",
    "program."
   ]
  },
  {
   "cell_type": "markdown",
   "id": "c0b8ee72-7b2d-4156-a229-1170841bfde4",
   "metadata": {},
   "source": [
    "We can also have a variable with a number of arguments using the ellipsis operator\n",
    "(...). An example of this operator is as follows:"
   ]
  },
  {
   "cell_type": "code",
   "execution_count": 29,
   "id": "96c6c4a8-031d-4f12-aee0-555336ceea2d",
   "metadata": {},
   "outputs": [
    {
     "data": {
      "text/plain": [
       "varargs (generic function with 1 method)"
      ]
     },
     "execution_count": 29,
     "metadata": {},
     "output_type": "execute_result"
    }
   ],
   "source": [
    "function varargs(n, m, args...)\n",
    "    println(\"$n, $m, $args\")\n",
    "end\n"
   ]
  },
  {
   "cell_type": "code",
   "execution_count": 31,
   "id": "a01df6cf-5f70-4955-8e3c-8daf9b0c5726",
   "metadata": {},
   "outputs": [
    {
     "name": "stdout",
     "output_type": "stream",
     "text": [
      "1, 2, (3, 4, 5, 6)\n"
     ]
    }
   ],
   "source": [
    "a = varargs(1,2,3,4,5,6);"
   ]
  },
  {
   "cell_type": "markdown",
   "id": "16bec759-a05e-42b9-b963-da0d3dfd3a86",
   "metadata": {},
   "source": [
    "Here, n and m are just positional arguments (there can be more or none at all). The args...\n",
    "argument takes in all the remaining parameters in a tuple. If we call the function with\n",
    "varargs(1, 2, 3, 4), then n is 1, m is 2, and args has the value (3, 4)"
   ]
  },
  {
   "cell_type": "markdown",
   "id": "47919e77-8e08-46df-b797-108d6dc00caf",
   "metadata": {},
   "source": [
    "The same\n",
    "splat operator can also be used to unpack a tuple or an array into individual arguments. For\n",
    "example, we can define a second variable argument function as follows:"
   ]
  },
  {
   "cell_type": "code",
   "execution_count": 37,
   "id": "c43ef66a-6c27-430c-bf5f-aecc1f0d85bf",
   "metadata": {},
   "outputs": [],
   "source": [
    "a = collect(1:10);"
   ]
  },
  {
   "cell_type": "code",
   "execution_count": 38,
   "id": "db2d66ff-ea06-4e1b-8904-df40ab11c5cf",
   "metadata": {},
   "outputs": [
    {
     "name": "stdout",
     "output_type": "stream",
     "text": [
      "1, 2, (3, 4, 5, 6, 7, 8, 9, 10)\n"
     ]
    }
   ],
   "source": [
    "varargs(a...)"
   ]
  },
  {
   "cell_type": "markdown",
   "id": "9bfcf1f3-3419-4fa3-b7db-da9f49ff311a",
   "metadata": {},
   "source": [
    "The receiving function does\n",
    "not need to be a variable argument function, but then the number of spliced parameters\n",
    "must exactly match the number of arguments"
   ]
  },
  {
   "cell_type": "code",
   "execution_count": 39,
   "id": "22bc9b1d-03c6-4de3-8d1c-668580eb11c5",
   "metadata": {},
   "outputs": [
    {
     "data": {
      "text/plain": [
       "f (generic function with 1 method)"
      ]
     },
     "execution_count": 39,
     "metadata": {},
     "output_type": "execute_result"
    }
   ],
   "source": [
    "function f(a,b)\n",
    "    return a,b\n",
    "end\n"
   ]
  },
  {
   "cell_type": "code",
   "execution_count": 40,
   "id": "b60a6f36-814c-4539-9a14-b62e9c10c5e7",
   "metadata": {},
   "outputs": [
    {
     "ename": "LoadError",
     "evalue": "MethodError: no method matching f(::Int64, ::Int64, ::Int64, ::Int64, ::Int64, ::Int64, ::Int64, ::Int64, ::Int64, ::Int64)\n\u001b[0mClosest candidates are:\n\u001b[0m  f(::Any, ::Any) at In[39]:1",
     "output_type": "error",
     "traceback": [
      "MethodError: no method matching f(::Int64, ::Int64, ::Int64, ::Int64, ::Int64, ::Int64, ::Int64, ::Int64, ::Int64, ::Int64)\n\u001b[0mClosest candidates are:\n\u001b[0m  f(::Any, ::Any) at In[39]:1",
      "",
      "Stacktrace:",
      " [1] top-level scope",
      "   @ In[40]:1",
      " [2] eval",
      "   @ ./boot.jl:360 [inlined]",
      " [3] include_string(mapexpr::typeof(REPL.softscope), mod::Module, code::String, filename::String)",
      "   @ Base ./loading.jl:1116"
     ]
    }
   ],
   "source": [
    "f = f(a...)"
   ]
  },
  {
   "cell_type": "markdown",
   "id": "8fa700e9-bcb5-44a4-bfb5-b6ac9cc259b0",
   "metadata": {},
   "source": [
    "It is important to realize that, in Julia, all arguments to functions (with the exception of\n",
    "plain data such as numbers and chars) are passed by reference"
   ]
  },
  {
   "cell_type": "markdown",
   "id": "ce1c5ac6-f0c2-4f8e-b3ea-08b249f69a9c",
   "metadata": {},
   "source": [
    "Their values are not copied\n",
    "when they are passed, which means they can be changed from inside the function, and the\n",
    "changes will be visible to the calling code"
   ]
  },
  {
   "cell_type": "code",
   "execution_count": 65,
   "id": "11588d93-49ab-41f5-8a01-d3de9a285d60",
   "metadata": {},
   "outputs": [
    {
     "data": {
      "text/plain": [
       "f (generic function with 2 methods)"
      ]
     },
     "execution_count": 65,
     "metadata": {},
     "output_type": "execute_result"
    }
   ],
   "source": [
    "function f(a)\n",
    "    a = 20\n",
    "    return \n",
    "end\n"
   ]
  },
  {
   "cell_type": "code",
   "execution_count": 66,
   "id": "5a29d134-ab4c-4c45-8d29-b49a80d090ce",
   "metadata": {},
   "outputs": [
    {
     "data": {
      "text/plain": [
       "100"
      ]
     },
     "execution_count": 66,
     "metadata": {},
     "output_type": "execute_result"
    }
   ],
   "source": [
    "b = 100"
   ]
  },
  {
   "cell_type": "code",
   "execution_count": 67,
   "id": "2d61655b-612e-4aab-af38-deb5f3eed276",
   "metadata": {},
   "outputs": [],
   "source": [
    "f(b)"
   ]
  },
  {
   "cell_type": "code",
   "execution_count": 68,
   "id": "dc4798db-5281-42ea-9dc1-4a905b7fa9f8",
   "metadata": {},
   "outputs": [
    {
     "data": {
      "text/plain": [
       "100"
      ]
     },
     "execution_count": 68,
     "metadata": {},
     "output_type": "execute_result"
    }
   ],
   "source": [
    "b"
   ]
  },
  {
   "cell_type": "markdown",
   "id": "e246e4a7-0536-450f-8ae6-2b10fd2b2b8d",
   "metadata": {},
   "source": [
    "The above was an example of plain data"
   ]
  },
  {
   "cell_type": "code",
   "execution_count": 69,
   "id": "95269692-186d-47f6-a561-b6840652ed22",
   "metadata": {},
   "outputs": [
    {
     "data": {
      "text/plain": [
       "f (generic function with 2 methods)"
      ]
     },
     "execution_count": 69,
     "metadata": {},
     "output_type": "execute_result"
    }
   ],
   "source": [
    "function f(a)\n",
    "    push!(a,100)\n",
    "    return \n",
    "end\n"
   ]
  },
  {
   "cell_type": "code",
   "execution_count": 70,
   "id": "c0d13d66-7bd7-4efd-829c-61e6cd58b6cc",
   "metadata": {},
   "outputs": [
    {
     "data": {
      "text/plain": [
       "2-element Vector{Int64}:\n",
       " 1\n",
       " 2"
      ]
     },
     "execution_count": 70,
     "metadata": {},
     "output_type": "execute_result"
    }
   ],
   "source": [
    "b = [1, 2]"
   ]
  },
  {
   "cell_type": "code",
   "execution_count": 71,
   "id": "aa006bfe-8dfb-4a8c-bc70-2b9ebaaf58bd",
   "metadata": {},
   "outputs": [],
   "source": [
    "f(b)"
   ]
  },
  {
   "cell_type": "code",
   "execution_count": 72,
   "id": "77891a7a-1271-4adc-9915-5495b564a51c",
   "metadata": {},
   "outputs": [
    {
     "data": {
      "text/plain": [
       "3-element Vector{Int64}:\n",
       "   1\n",
       "   2\n",
       " 100"
      ]
     },
     "execution_count": 72,
     "metadata": {},
     "output_type": "execute_result"
    }
   ],
   "source": [
    "b"
   ]
  },
  {
   "cell_type": "markdown",
   "id": "fc7c392e-e1d6-462e-840d-3cb9874ba3d3",
   "metadata": {},
   "source": [
    "The above was an example of non plain data"
   ]
  },
  {
   "cell_type": "markdown",
   "id": "d5601983-6278-4ff5-ab1f-a16eb3b0a572",
   "metadata": {},
   "source": [
    "Due to the way Julia compiles, a function must be defined by the time it is actually called\n",
    "(but it can be used before that in other function definitions)."
   ]
  },
  {
   "cell_type": "markdown",
   "id": "3ea9b3e7-09aa-4dc2-93a7-829c098d25b2",
   "metadata": {},
   "source": [
    "It can also be useful to indicate the argument types, to restrict the kind of parameters\n",
    "passed when calling. Our function header for floating point numbers would then look\n",
    "like: function mult(x::Float64, y::Float64)."
   ]
  },
  {
   "cell_type": "markdown",
   "id": "3f52abc9-a92b-43cb-887c-01afeb21fc2d",
   "metadata": {},
   "source": [
    "When this is the only mult function,\n",
    "and we call this function with mult(5, 6), we receive an error, ERROR: MethodError:\n",
    "no method matching mult(::Int64, ::Int64), proving that Julia is indeed a\n",
    "strongly typed language. It does not accept integer parameters for floating point\n",
    "arguments."
   ]
  },
  {
   "cell_type": "markdown",
   "id": "ddd5ce60-169c-43bf-8b77-5d5de07afc2c",
   "metadata": {},
   "source": [
    "If we define a function without types, it is generic; the Julia JIT compiler is ready to\n",
    "generate versions called methods for different argument types when needed. Define the\n",
    "previous function mult in the REPL, and you will see the output as mult (generic\n",
    "function with 1 method)."
   ]
  },
  {
   "cell_type": "markdown",
   "id": "79f2ab33-c684-47f8-b550-7b23b62e804e",
   "metadata": {},
   "source": [
    "There is also a more compact, one-line function syntax (the assignment form) for short\n",
    "functions, for example, mult(x, y) = x * y. Use this, preferably, for simple one-line\n",
    "functions, as it will lend the code greater clarity. Because of this, mathematical functions\n",
    "can also be written in an intuitive form:"
   ]
  },
  {
   "cell_type": "code",
   "execution_count": 74,
   "id": "c239ca16-193b-4a5a-8568-a8db91b828a7",
   "metadata": {},
   "outputs": [
    {
     "data": {
      "text/plain": [
       "f (generic function with 2 methods)"
      ]
     },
     "execution_count": 74,
     "metadata": {},
     "output_type": "execute_result"
    }
   ],
   "source": [
    "f(x, y) = x^3 - y + x * y"
   ]
  },
  {
   "cell_type": "code",
   "execution_count": 75,
   "id": "bfb2701a-c78c-4cfa-b0db-cabdba1cd82c",
   "metadata": {},
   "outputs": [
    {
     "data": {
      "text/plain": [
       "12"
      ]
     },
     "execution_count": 75,
     "metadata": {},
     "output_type": "execute_result"
    }
   ],
   "source": [
    "f(2,4)"
   ]
  },
  {
   "cell_type": "markdown",
   "id": "229578a7-8478-41b4-b49b-5cbc9d5cda3e",
   "metadata": {},
   "source": [
    "A function defines its own scope. The set of variables that are declared inside a function are\n",
    "only known inside the function, and this is also true for the arguments."
   ]
  },
  {
   "cell_type": "markdown",
   "id": "17bfab9c-bbc3-4280-84d2-b28093fbd5df",
   "metadata": {},
   "source": [
    "Functions can be\n",
    "defined as top-level (global) or nested (a function can be defined within another function).\n",
    "Usually, functions with related functionality are grouped in their own Julia file, which is\n",
    "included in a main file. Or, if the function is big enough, it can have its own file, preferably\n",
    "with the same name as the function."
   ]
  },
  {
   "cell_type": "markdown",
   "id": "2325a9c7-7e9b-4c15-ad13-caee30621d9d",
   "metadata": {},
   "source": [
    "# Optional and keyword arguments "
   ]
  },
  {
   "cell_type": "markdown",
   "id": "e7c62ec9-da10-4111-89ce-b582f13c2031",
   "metadata": {},
   "source": [
    "When defining functions, one or more arguments can be given a default value such as\n",
    "f(arg = val). If no parameter is supplied for arg, then val is taken as the value of arg."
   ]
  },
  {
   "cell_type": "markdown",
   "id": "b52c23b3-65b8-453d-a0f8-8cd72292fca6",
   "metadata": {},
   "source": [
    "The position of these arguments in the function's input is important, just as it is for\n",
    "normal arguments; that's why they are called optional positional arguments."
   ]
  },
  {
   "cell_type": "code",
   "execution_count": 76,
   "id": "c03aed67-847d-412f-aed1-5ccd0bd98d57",
   "metadata": {},
   "outputs": [
    {
     "data": {
      "text/plain": [
       "f (generic function with 2 methods)"
      ]
     },
     "execution_count": 76,
     "metadata": {},
     "output_type": "execute_result"
    }
   ],
   "source": [
    "f(a, b=15) = a*b"
   ]
  },
  {
   "cell_type": "code",
   "execution_count": 77,
   "id": "e8f99c86-e329-4c9e-b20a-fc79436f9373",
   "metadata": {},
   "outputs": [
    {
     "data": {
      "text/plain": [
       "15"
      ]
     },
     "execution_count": 77,
     "metadata": {},
     "output_type": "execute_result"
    }
   ],
   "source": [
    "f(1)"
   ]
  },
  {
   "cell_type": "code",
   "execution_count": 1,
   "id": "791aae26-9995-4e42-834c-8f206fbeab57",
   "metadata": {},
   "outputs": [
    {
     "data": {
      "text/plain": [
       "custom_function (generic function with 3 methods)"
      ]
     },
     "execution_count": 1,
     "metadata": {},
     "output_type": "execute_result"
    }
   ],
   "source": [
    "custom_function(a::Int64=32, b::Int64=15) = a*b"
   ]
  },
  {
   "cell_type": "code",
   "execution_count": 2,
   "id": "cdc356c6-3ccd-4718-9ffd-8873eeae10a1",
   "metadata": {},
   "outputs": [
    {
     "data": {
      "text/plain": [
       "480"
      ]
     },
     "execution_count": 2,
     "metadata": {},
     "output_type": "execute_result"
    }
   ],
   "source": [
    "custom_function()"
   ]
  },
  {
   "cell_type": "code",
   "execution_count": 3,
   "id": "001f3e53-dae8-4acb-b33c-138f080dd920",
   "metadata": {},
   "outputs": [
    {
     "ename": "LoadError",
     "evalue": "MethodError: no method matching custom_function(::Int64; b=23)\n\u001b[0mClosest candidates are:\n\u001b[0m  custom_function(::Int64) at In[1]:1\u001b[91m got unsupported keyword argument \"b\"\u001b[39m\n\u001b[0m  custom_function(::Int64, \u001b[91m::Int64\u001b[39m) at In[1]:1\u001b[91m got unsupported keyword argument \"b\"\u001b[39m\n\u001b[0m  custom_function() at In[1]:1\u001b[91m got unsupported keyword argument \"b\"\u001b[39m",
     "output_type": "error",
     "traceback": [
      "MethodError: no method matching custom_function(::Int64; b=23)\n\u001b[0mClosest candidates are:\n\u001b[0m  custom_function(::Int64) at In[1]:1\u001b[91m got unsupported keyword argument \"b\"\u001b[39m\n\u001b[0m  custom_function(::Int64, \u001b[91m::Int64\u001b[39m) at In[1]:1\u001b[91m got unsupported keyword argument \"b\"\u001b[39m\n\u001b[0m  custom_function() at In[1]:1\u001b[91m got unsupported keyword argument \"b\"\u001b[39m",
      "",
      "Stacktrace:",
      " [1] top-level scope",
      "   @ In[3]:1",
      " [2] eval",
      "   @ ./boot.jl:373 [inlined]",
      " [3] include_string(mapexpr::typeof(REPL.softscope), mod::Module, code::String, filename::String)",
      "   @ Base ./loading.jl:1196"
     ]
    }
   ],
   "source": [
    "custom_function(10,b=23)"
   ]
  },
  {
   "cell_type": "markdown",
   "id": "b65424dc-ac29-4af3-aeee-63b501fdc408",
   "metadata": {},
   "source": [
    "no method matching custom_function(::Int64; b=23)"
   ]
  },
  {
   "cell_type": "markdown",
   "id": "f432185b-b4b2-4649-9a41-e72929ffc77f",
   "metadata": {},
   "source": [
    "Notice the above Error"
   ]
  },
  {
   "cell_type": "markdown",
   "id": "d1d15b76-ff90-4ef6-8414-f7a1c231dfe8",
   "metadata": {},
   "source": [
    "These arguments are still only defined by position:\n",
    "calling f(2, b = 5) raises an error as ERROR: function f does not accept\n",
    "keyword arguments."
   ]
  },
  {
   "cell_type": "markdown",
   "id": "4ab22f4e-859f-4d22-865e-75191e9f499c",
   "metadata": {},
   "source": [
    "Until now, arguments were only defined by position. For code clarity, it can be useful to\n",
    "explicitly call them by name, so they are called optional keyword arguments. Because the\n",
    "arguments are given explicit names, their order is irrelevant, but they must come last and\n",
    "be separated from the positional arguments by a semi-colon (;)"
   ]
  },
  {
   "cell_type": "code",
   "execution_count": 88,
   "id": "0f437f01-5f8c-4586-9c8a-333a3f54b5bf",
   "metadata": {},
   "outputs": [
    {
     "data": {
      "text/plain": [
       "custom_function (generic function with 3 methods)"
      ]
     },
     "execution_count": 88,
     "metadata": {},
     "output_type": "execute_result"
    }
   ],
   "source": [
    "custom_function(;a::Int64, b::Int64=15) = a*b"
   ]
  },
  {
   "cell_type": "code",
   "execution_count": 90,
   "id": "b1c4b574-cfa9-4b76-8e11-cfe6234df563",
   "metadata": {},
   "outputs": [
    {
     "data": {
      "text/plain": [
       "529"
      ]
     },
     "execution_count": 90,
     "metadata": {},
     "output_type": "execute_result"
    }
   ],
   "source": [
    "custom_function(b=23, a=23)"
   ]
  },
  {
   "cell_type": "markdown",
   "id": "9c4d406e-18e5-4df0-ada1-d852b5ff2bfa",
   "metadata": {},
   "source": [
    "Normal, optional positional, and keyword arguments can be combined as\n",
    "follows:"
   ]
  },
  {
   "cell_type": "code",
   "execution_count": 95,
   "id": "323411b1-f236-4d9f-98fd-e903c48df8b4",
   "metadata": {},
   "outputs": [
    {
     "data": {
      "text/plain": [
       "allargs (generic function with 2 methods)"
      ]
     },
     "execution_count": 95,
     "metadata": {},
     "output_type": "execute_result"
    }
   ],
   "source": [
    "function allargs(normal_arg, optional_positional_arg=2; keyword_arg=\"ABC\")\n",
    "    println(\"normal arg: $normal_arg\" )\n",
    "    println(\"optional arg: $optional_positional_arg\" )\n",
    "    println(\"keyword arg: $keyword_arg\")\n",
    "end"
   ]
  },
  {
   "cell_type": "code",
   "execution_count": 96,
   "id": "96ab5435-b176-4336-95ba-163ecd080ef3",
   "metadata": {},
   "outputs": [
    {
     "name": "stdout",
     "output_type": "stream",
     "text": [
      "normal arg: 1\n",
      "optional arg: 3\n",
      "keyword arg: 4\n"
     ]
    }
   ],
   "source": [
    "allargs(1, 3, keyword_arg=4)"
   ]
  },
  {
   "cell_type": "markdown",
   "id": "4ec404e7-d49a-4aa6-ae74-298072375a21",
   "metadata": {},
   "source": [
    "A useful case is when the keyword arguments are splatted as follows:"
   ]
  },
  {
   "cell_type": "code",
   "execution_count": 107,
   "id": "00ee9417-a5a6-40b9-bc59-4468e4556f19",
   "metadata": {},
   "outputs": [
    {
     "data": {
      "text/plain": [
       "f (generic function with 5 methods)"
      ]
     },
     "execution_count": 107,
     "metadata": {},
     "output_type": "execute_result"
    }
   ],
   "source": [
    "function f(;args...)\n",
    "#     println(args)\n",
    "    show(args)\n",
    "end\n"
   ]
  },
  {
   "cell_type": "code",
   "execution_count": 108,
   "id": "6f9d3b81-3837-4fc2-8d36-ffd5dbc6d748",
   "metadata": {},
   "outputs": [
    {
     "name": "stdout",
     "output_type": "stream",
     "text": [
      "Base.Iterators.Pairs{Symbol, Any, Tuple{Symbol, Symbol, Symbol}, NamedTuple{(:k1, :k2, :c), Tuple{String, String, Irrational{:π}}}}(:k1 => \"WTF\", :k2 => \"OTG\", :c => π)"
     ]
    }
   ],
   "source": [
    "f(k1=\"WTF\",k2=\"OTG\",c=pi)"
   ]
  },
  {
   "cell_type": "markdown",
   "id": "2c5c0890-e4bd-40f6-ade3-c66be032eb8e",
   "metadata": {},
   "source": [
    "Calling this with varargs2(k1=\"name1\", k2=\"name2\", k3=7) returns\n",
    "pairs(::NamedTuple) with three entries: (:k1,\"name1\") (:k2,\"name2\") (:k3,7)."
   ]
  },
  {
   "cell_type": "markdown",
   "id": "9929e87f-47b6-43a8-b0fb-d88c4ef55dcb",
   "metadata": {},
   "source": [
    "Now, args is a collection of (key, value) tuples, where each key comes from the name of\n",
    "the keyword argument, and it is also a symbol (refer to the Strings section of Chapter 2,\n",
    "Variables, Types, and Operations) because of the colon (:) as prefix."
   ]
  },
  {
   "cell_type": "markdown",
   "id": "058f94cd-fca5-4829-9a7d-c6e07d8fdb10",
   "metadata": {},
   "source": [
    "# Anonymous functions"
   ]
  },
  {
   "cell_type": "markdown",
   "id": "6bf1539f-76b0-40e3-aaab-592f609717d1",
   "metadata": {},
   "source": [
    "The function f(x, y) at the end of the Defining functions section can also be written with\n",
    "no name, as an anonymous function: (x, y) -> x^3 - y + x * y. We can, however,\n",
    "bind it to a name, such as f = (x, y) -> x^3 - y + x * y, and then call it, for\n",
    "example, as f(3, 2)."
   ]
  },
  {
   "cell_type": "code",
   "execution_count": 113,
   "id": "a3e8970d-8333-4137-93d3-838d6e4c74ce",
   "metadata": {},
   "outputs": [
    {
     "data": {
      "text/plain": [
       "#14 (generic function with 1 method)"
      ]
     },
     "execution_count": 113,
     "metadata": {},
     "output_type": "execute_result"
    }
   ],
   "source": [
    "cf = (x,y) -> x+y "
   ]
  },
  {
   "cell_type": "code",
   "execution_count": 114,
   "id": "23ba02b7-474e-42bf-969b-34ea44964cb0",
   "metadata": {},
   "outputs": [
    {
     "data": {
      "text/plain": [
       "20"
      ]
     },
     "execution_count": 114,
     "metadata": {},
     "output_type": "execute_result"
    }
   ],
   "source": [
    "cf(10,10)"
   ]
  },
  {
   "cell_type": "code",
   "execution_count": 118,
   "id": "c80097ee-d5a4-428d-91e3-9ae3b31fcd91",
   "metadata": {},
   "outputs": [
    {
     "data": {
      "text/plain": [
       "#18 (generic function with 1 method)"
      ]
     },
     "execution_count": 118,
     "metadata": {},
     "output_type": "execute_result"
    }
   ],
   "source": [
    "function ()\n",
    "    print(\"What the heck is going on here :)\")\n",
    "end\n"
   ]
  },
  {
   "cell_type": "code",
   "execution_count": 119,
   "id": "05ddfe59-5bb7-4741-bb83-0b7430914f0e",
   "metadata": {},
   "outputs": [
    {
     "name": "stdout",
     "output_type": "stream",
     "text": [
      "What the heck is going on here :)"
     ]
    }
   ],
   "source": [
    "ans()"
   ]
  },
  {
   "cell_type": "code",
   "execution_count": 121,
   "id": "93e257dc-303a-4d0e-80ae-ef96ed788603",
   "metadata": {},
   "outputs": [
    {
     "data": {
      "text/plain": [
       "#20 (generic function with 1 method)"
      ]
     },
     "execution_count": 121,
     "metadata": {},
     "output_type": "execute_result"
    }
   ],
   "source": [
    "() -> print(\"What the heck is going on here\")"
   ]
  },
  {
   "cell_type": "code",
   "execution_count": 122,
   "id": "2f21992d-9478-45c9-9127-0a64ac04ba57",
   "metadata": {},
   "outputs": [
    {
     "name": "stdout",
     "output_type": "stream",
     "text": [
      "What the heck is going on here"
     ]
    }
   ],
   "source": [
    "ans()"
   ]
  },
  {
   "cell_type": "markdown",
   "id": "607308cf-6c39-447e-8875-0623df776602",
   "metadata": {},
   "source": [
    "Here is an anonymous function taking three arguments: (x, y, z) -> 3x + 2y - z.\n",
    "When the performance is important, try to use named functions instead, because calling\n",
    "anonymous functions involves a huge overhead"
   ]
  },
  {
   "cell_type": "markdown",
   "id": "9b764cfb-7804-40cd-aa74-b19bd36ff873",
   "metadata": {},
   "source": [
    "Anonymous functions are mostly used\n",
    "when passing a function as an argument to another function, which is precisely what we\n",
    "will discuss in the next section."
   ]
  },
  {
   "cell_type": "markdown",
   "id": "4238ee9a-9213-41d3-bb21-239e2a68e2ea",
   "metadata": {},
   "source": [
    "# First-class functions and closures"
   ]
  },
  {
   "cell_type": "markdown",
   "id": "cf545ff0-b07d-4fd6-a016-f25d98146214",
   "metadata": {},
   "source": [
    "Firstly, functions have their own type:\n",
    "Function. Functions can also be assigned to a variable by their name:"
   ]
  },
  {
   "cell_type": "code",
   "execution_count": 125,
   "id": "9fb791c2-b109-4f7d-a0dc-4eea1de12a3a",
   "metadata": {},
   "outputs": [
    {
     "data": {
      "text/plain": [
       "mult (generic function with 1 method)"
      ]
     },
     "execution_count": 125,
     "metadata": {},
     "output_type": "execute_result"
    }
   ],
   "source": [
    "mult(x,y) = x*y"
   ]
  },
  {
   "cell_type": "code",
   "execution_count": 126,
   "id": "f397d8ed-f0cb-4558-ba3a-5b45747edeff",
   "metadata": {},
   "outputs": [
    {
     "data": {
      "text/plain": [
       "mult (generic function with 1 method)"
      ]
     },
     "execution_count": 126,
     "metadata": {},
     "output_type": "execute_result"
    }
   ],
   "source": [
    "m = mult"
   ]
  },
  {
   "cell_type": "code",
   "execution_count": 127,
   "id": "0761482d-f62a-425f-a2c9-cc62d87445e7",
   "metadata": {},
   "outputs": [
    {
     "data": {
      "text/plain": [
       "200"
      ]
     },
     "execution_count": 127,
     "metadata": {},
     "output_type": "execute_result"
    }
   ],
   "source": [
    "m(10,20)"
   ]
  },
  {
   "cell_type": "markdown",
   "id": "147314f7-d39c-47a5-a9a4-880dcbde7406",
   "metadata": {},
   "source": [
    "This is useful when working with anonymous functions, such as c = x -> x + 2, or as\n",
    "follows:"
   ]
  },
  {
   "cell_type": "code",
   "execution_count": 129,
   "id": "362211f8-2321-41c1-8291-fde5fdf59c14",
   "metadata": {},
   "outputs": [
    {
     "data": {
      "text/plain": [
       "#24 (generic function with 1 method)"
      ]
     },
     "execution_count": 129,
     "metadata": {},
     "output_type": "execute_result"
    }
   ],
   "source": [
    "plasto =\n",
    "function (x)\n",
    "    x+2\n",
    "end\n"
   ]
  },
  {
   "cell_type": "code",
   "execution_count": 130,
   "id": "48e4da6b-ada4-4afb-b652-9b4dc8749b39",
   "metadata": {},
   "outputs": [
    {
     "data": {
      "text/plain": [
       "22"
      ]
     },
     "execution_count": 130,
     "metadata": {},
     "output_type": "execute_result"
    }
   ],
   "source": [
    "plasto(20)"
   ]
  },
  {
   "cell_type": "markdown",
   "id": "f9dca2ae-8b75-466c-a87c-34ad262df273",
   "metadata": {},
   "source": [
    "Operators are just functions written with their arguments in an infix form; for example, x +\n",
    "y is equivalent to +(x, y)."
   ]
  },
  {
   "cell_type": "code",
   "execution_count": 10,
   "id": "e91ad9b0-4efe-487f-8e76-b3ab00b02432",
   "metadata": {},
   "outputs": [
    {
     "data": {
      "text/plain": [
       "30"
      ]
     },
     "execution_count": 10,
     "metadata": {},
     "output_type": "execute_result"
    }
   ],
   "source": [
    "+(10,20)"
   ]
  },
  {
   "cell_type": "code",
   "execution_count": 11,
   "id": "055afc78-06b1-432d-8244-fb6f6976388d",
   "metadata": {},
   "outputs": [
    {
     "data": {
      "text/plain": [
       "typeof(+) (singleton type of function +, subtype of Function)"
      ]
     },
     "execution_count": 11,
     "metadata": {},
     "output_type": "execute_result"
    }
   ],
   "source": [
    "typeof(+)"
   ]
  },
  {
   "cell_type": "code",
   "execution_count": 12,
   "id": "136a4147-e128-4d81-8d53-406c4f9ba822",
   "metadata": {},
   "outputs": [
    {
     "data": {
      "text/plain": [
       "typeof(-) (singleton type of function -, subtype of Function)"
      ]
     },
     "execution_count": 12,
     "metadata": {},
     "output_type": "execute_result"
    }
   ],
   "source": [
    "typeof(-)"
   ]
  },
  {
   "cell_type": "markdown",
   "id": "b256fa0c-df51-4fc3-894e-7e1ff8eb3922",
   "metadata": {},
   "source": [
    "A function can take a function (or multiple functions) as its argument, which calculates the\n",
    "numerical derivative of a function f;"
   ]
  },
  {
   "cell_type": "code",
   "execution_count": 15,
   "id": "f5d37e22-d65f-40e0-a55e-1cbdde19a85f",
   "metadata": {},
   "outputs": [
    {
     "data": {
      "text/plain": [
       "numerical_derivative (generic function with 2 methods)"
      ]
     },
     "execution_count": 15,
     "metadata": {},
     "output_type": "execute_result"
    }
   ],
   "source": [
    "function numerical_derivative(f, x, dx=.01)\n",
    "    derivative = (f(x+dx)-f(x))/(dx)\n",
    "    return derivative\n",
    "end\n"
   ]
  },
  {
   "cell_type": "code",
   "execution_count": 16,
   "id": "00d1da35-b1a5-4531-9b30-a35791012acf",
   "metadata": {},
   "outputs": [
    {
     "data": {
      "text/plain": [
       "f (generic function with 1 method)"
      ]
     },
     "execution_count": 16,
     "metadata": {},
     "output_type": "execute_result"
    }
   ],
   "source": [
    "f(x) = x^3"
   ]
  },
  {
   "cell_type": "code",
   "execution_count": 17,
   "id": "9c802cc7-daf1-42b3-86ee-63a1481df56b",
   "metadata": {},
   "outputs": [
    {
     "data": {
      "text/plain": [
       "48.120099999998445"
      ]
     },
     "execution_count": 17,
     "metadata": {},
     "output_type": "execute_result"
    }
   ],
   "source": [
    "numerical_derivative(f,4)"
   ]
  },
  {
   "cell_type": "markdown",
   "id": "86ec78c7-6a0d-47fe-867b-dddb6c647698",
   "metadata": {},
   "source": [
    "A function can also return another function (or multiple functions) as its value. This is\n",
    "demonstrated in the following code, which calculates the derivative of a function (this is\n",
    "also a function):"
   ]
  },
  {
   "cell_type": "code",
   "execution_count": 18,
   "id": "9c062054-6f12-421c-a9cd-b0c05cf0bbee",
   "metadata": {},
   "outputs": [
    {
     "data": {
      "text/plain": [
       "derivative (generic function with 1 method)"
      ]
     },
     "execution_count": 18,
     "metadata": {},
     "output_type": "execute_result"
    }
   ],
   "source": [
    "function derivative(f)\n",
    "    return function(x)\n",
    "        # pick a small value for h\n",
    "        h = x == 0 ? sqrt(eps(Float64)) : sqrt(eps(Float64)) .* x\n",
    "        xph = x + h\n",
    "        dx = xph - x\n",
    "        f1 = f(xph) # evaluate f at x + h\n",
    "        f0 = f(x) # evaluate f at x\n",
    "        return (f1 - f0) ./ dx # divide by h\n",
    "    end\n",
    "end"
   ]
  },
  {
   "cell_type": "code",
   "execution_count": 136,
   "id": "b4301fa6-de40-4fc7-876c-458354fcc22f",
   "metadata": {},
   "outputs": [
    {
     "data": {
      "text/plain": [
       "f (generic function with 1 method)"
      ]
     },
     "execution_count": 136,
     "metadata": {},
     "output_type": "execute_result"
    }
   ],
   "source": [
    "f(x) = sin.(x) .^ 3 .+ 7*cos.(sqrt.(x) .+4)"
   ]
  },
  {
   "cell_type": "code",
   "execution_count": 137,
   "id": "8b27f1a8-4355-4456-9ef3-878f021f154f",
   "metadata": {},
   "outputs": [
    {
     "data": {
      "text/plain": [
       "#1 (generic function with 1 method)"
      ]
     },
     "execution_count": 137,
     "metadata": {},
     "output_type": "execute_result"
    }
   ],
   "source": [
    "df = derivative(f)"
   ]
  },
  {
   "cell_type": "code",
   "execution_count": 142,
   "id": "3a3634b7-0bcc-4b98-9207-6aa8d469ffd6",
   "metadata": {},
   "outputs": [],
   "source": [
    "x = collect(0:.01:5);"
   ]
  },
  {
   "cell_type": "code",
   "execution_count": 143,
   "id": "44884cf9-d242-4817-8fc4-5e32b776876d",
   "metadata": {},
   "outputs": [],
   "source": [
    "ff = f(x);"
   ]
  },
  {
   "cell_type": "code",
   "execution_count": 144,
   "id": "a1d22362-bb6e-48eb-a138-8dd9586f9313",
   "metadata": {},
   "outputs": [],
   "source": [
    "fdf = df(x);"
   ]
  },
  {
   "cell_type": "code",
   "execution_count": 145,
   "id": "a1579efe-2454-4296-b31b-daa6e52a6d49",
   "metadata": {},
   "outputs": [],
   "source": [
    "using Plots"
   ]
  },
  {
   "cell_type": "code",
   "execution_count": 146,
   "id": "fe965207-9580-4fde-9662-b7c96d2fa44e",
   "metadata": {},
   "outputs": [
    {
     "data": {
      "image/svg+xml": [
       "<?xml version=\"1.0\" encoding=\"utf-8\"?>\n",
       "<svg xmlns=\"http://www.w3.org/2000/svg\" xmlns:xlink=\"http://www.w3.org/1999/xlink\" width=\"600\" height=\"400\" viewBox=\"0 0 2400 1600\">\n",
       "<defs>\n",
       "  <clipPath id=\"clip270\">\n",
       "    <rect x=\"0\" y=\"0\" width=\"2400\" height=\"1600\"/>\n",
       "  </clipPath>\n",
       "</defs>\n",
       "<path clip-path=\"url(#clip270)\" d=\"\n",
       "M0 1600 L2400 1600 L2400 0 L0 0  Z\n",
       "  \" fill=\"#ffffff\" fill-rule=\"evenodd\" fill-opacity=\"1\"/>\n",
       "<defs>\n",
       "  <clipPath id=\"clip271\">\n",
       "    <rect x=\"480\" y=\"0\" width=\"1681\" height=\"1600\"/>\n",
       "  </clipPath>\n",
       "</defs>\n",
       "<path clip-path=\"url(#clip270)\" d=\"\n",
       "M192.941 1486.45 L2352.76 1486.45 L2352.76 47.2441 L192.941 47.2441  Z\n",
       "  \" fill=\"#ffffff\" fill-rule=\"evenodd\" fill-opacity=\"1\"/>\n",
       "<defs>\n",
       "  <clipPath id=\"clip272\">\n",
       "    <rect x=\"192\" y=\"47\" width=\"2161\" height=\"1440\"/>\n",
       "  </clipPath>\n",
       "</defs>\n",
       "<polyline clip-path=\"url(#clip272)\" style=\"stroke:#000000; stroke-linecap:butt; stroke-linejoin:round; stroke-width:2; stroke-opacity:0.1; fill:none\" points=\"\n",
       "  254.067,1486.45 254.067,47.2441 \n",
       "  \"/>\n",
       "<polyline clip-path=\"url(#clip272)\" style=\"stroke:#000000; stroke-linecap:butt; stroke-linejoin:round; stroke-width:2; stroke-opacity:0.1; fill:none\" points=\"\n",
       "  661.58,1486.45 661.58,47.2441 \n",
       "  \"/>\n",
       "<polyline clip-path=\"url(#clip272)\" style=\"stroke:#000000; stroke-linecap:butt; stroke-linejoin:round; stroke-width:2; stroke-opacity:0.1; fill:none\" points=\"\n",
       "  1069.09,1486.45 1069.09,47.2441 \n",
       "  \"/>\n",
       "<polyline clip-path=\"url(#clip272)\" style=\"stroke:#000000; stroke-linecap:butt; stroke-linejoin:round; stroke-width:2; stroke-opacity:0.1; fill:none\" points=\"\n",
       "  1476.6,1486.45 1476.6,47.2441 \n",
       "  \"/>\n",
       "<polyline clip-path=\"url(#clip272)\" style=\"stroke:#000000; stroke-linecap:butt; stroke-linejoin:round; stroke-width:2; stroke-opacity:0.1; fill:none\" points=\"\n",
       "  1884.12,1486.45 1884.12,47.2441 \n",
       "  \"/>\n",
       "<polyline clip-path=\"url(#clip272)\" style=\"stroke:#000000; stroke-linecap:butt; stroke-linejoin:round; stroke-width:2; stroke-opacity:0.1; fill:none\" points=\"\n",
       "  2291.63,1486.45 2291.63,47.2441 \n",
       "  \"/>\n",
       "<polyline clip-path=\"url(#clip270)\" style=\"stroke:#000000; stroke-linecap:butt; stroke-linejoin:round; stroke-width:4; stroke-opacity:1; fill:none\" points=\"\n",
       "  192.941,1486.45 2352.76,1486.45 \n",
       "  \"/>\n",
       "<polyline clip-path=\"url(#clip270)\" style=\"stroke:#000000; stroke-linecap:butt; stroke-linejoin:round; stroke-width:4; stroke-opacity:1; fill:none\" points=\"\n",
       "  254.067,1486.45 254.067,1467.55 \n",
       "  \"/>\n",
       "<polyline clip-path=\"url(#clip270)\" style=\"stroke:#000000; stroke-linecap:butt; stroke-linejoin:round; stroke-width:4; stroke-opacity:1; fill:none\" points=\"\n",
       "  661.58,1486.45 661.58,1467.55 \n",
       "  \"/>\n",
       "<polyline clip-path=\"url(#clip270)\" style=\"stroke:#000000; stroke-linecap:butt; stroke-linejoin:round; stroke-width:4; stroke-opacity:1; fill:none\" points=\"\n",
       "  1069.09,1486.45 1069.09,1467.55 \n",
       "  \"/>\n",
       "<polyline clip-path=\"url(#clip270)\" style=\"stroke:#000000; stroke-linecap:butt; stroke-linejoin:round; stroke-width:4; stroke-opacity:1; fill:none\" points=\"\n",
       "  1476.6,1486.45 1476.6,1467.55 \n",
       "  \"/>\n",
       "<polyline clip-path=\"url(#clip270)\" style=\"stroke:#000000; stroke-linecap:butt; stroke-linejoin:round; stroke-width:4; stroke-opacity:1; fill:none\" points=\"\n",
       "  1884.12,1486.45 1884.12,1467.55 \n",
       "  \"/>\n",
       "<polyline clip-path=\"url(#clip270)\" style=\"stroke:#000000; stroke-linecap:butt; stroke-linejoin:round; stroke-width:4; stroke-opacity:1; fill:none\" points=\"\n",
       "  2291.63,1486.45 2291.63,1467.55 \n",
       "  \"/>\n",
       "<path clip-path=\"url(#clip270)\" d=\"M254.067 1517.37 Q250.456 1517.37 248.628 1520.93 Q246.822 1524.47 246.822 1531.6 Q246.822 1538.71 248.628 1542.27 Q250.456 1545.82 254.067 1545.82 Q257.702 1545.82 259.507 1542.27 Q261.336 1538.71 261.336 1531.6 Q261.336 1524.47 259.507 1520.93 Q257.702 1517.37 254.067 1517.37 M254.067 1513.66 Q259.878 1513.66 262.933 1518.27 Q266.012 1522.85 266.012 1531.6 Q266.012 1540.33 262.933 1544.94 Q259.878 1549.52 254.067 1549.52 Q248.257 1549.52 245.179 1544.94 Q242.123 1540.33 242.123 1531.6 Q242.123 1522.85 245.179 1518.27 Q248.257 1513.66 254.067 1513.66 Z\" fill=\"#000000\" fill-rule=\"evenodd\" fill-opacity=\"1\" /><path clip-path=\"url(#clip270)\" d=\"M651.962 1544.91 L659.601 1544.91 L659.601 1518.55 L651.29 1520.21 L651.29 1515.95 L659.554 1514.29 L664.23 1514.29 L664.23 1544.91 L671.869 1544.91 L671.869 1548.85 L651.962 1548.85 L651.962 1544.91 Z\" fill=\"#000000\" fill-rule=\"evenodd\" fill-opacity=\"1\" /><path clip-path=\"url(#clip270)\" d=\"M1063.74 1544.91 L1080.06 1544.91 L1080.06 1548.85 L1058.12 1548.85 L1058.12 1544.91 Q1060.78 1542.16 1065.37 1537.53 Q1069.97 1532.88 1071.15 1531.53 Q1073.4 1529.01 1074.28 1527.27 Q1075.18 1525.51 1075.18 1523.82 Q1075.18 1521.07 1073.24 1519.33 Q1071.31 1517.6 1068.21 1517.6 Q1066.01 1517.6 1063.56 1518.36 Q1061.13 1519.13 1058.35 1520.68 L1058.35 1515.95 Q1061.18 1514.82 1063.63 1514.24 Q1066.08 1513.66 1068.12 1513.66 Q1073.49 1513.66 1076.68 1516.35 Q1079.88 1519.03 1079.88 1523.52 Q1079.88 1525.65 1079.07 1527.57 Q1078.28 1529.47 1076.18 1532.07 Q1075.6 1532.74 1072.49 1535.95 Q1069.39 1539.15 1063.74 1544.91 Z\" fill=\"#000000\" fill-rule=\"evenodd\" fill-opacity=\"1\" /><path clip-path=\"url(#clip270)\" d=\"M1480.85 1530.21 Q1484.21 1530.93 1486.08 1533.2 Q1487.98 1535.47 1487.98 1538.8 Q1487.98 1543.92 1484.46 1546.72 Q1480.94 1549.52 1474.46 1549.52 Q1472.29 1549.52 1469.97 1549.08 Q1467.68 1548.66 1465.23 1547.81 L1465.23 1543.29 Q1467.17 1544.43 1469.49 1545.01 Q1471.8 1545.58 1474.32 1545.58 Q1478.72 1545.58 1481.01 1543.85 Q1483.33 1542.11 1483.33 1538.8 Q1483.33 1535.75 1481.18 1534.03 Q1479.05 1532.3 1475.23 1532.3 L1471.2 1532.3 L1471.2 1528.45 L1475.41 1528.45 Q1478.86 1528.45 1480.69 1527.09 Q1482.52 1525.7 1482.52 1523.11 Q1482.52 1520.45 1480.62 1519.03 Q1478.75 1517.6 1475.23 1517.6 Q1473.31 1517.6 1471.11 1518.01 Q1468.91 1518.43 1466.27 1519.31 L1466.27 1515.14 Q1468.93 1514.4 1471.25 1514.03 Q1473.58 1513.66 1475.64 1513.66 Q1480.97 1513.66 1484.07 1516.09 Q1487.17 1518.5 1487.17 1522.62 Q1487.17 1525.49 1485.53 1527.48 Q1483.88 1529.45 1480.85 1530.21 Z\" fill=\"#000000\" fill-rule=\"evenodd\" fill-opacity=\"1\" /><path clip-path=\"url(#clip270)\" d=\"M1887.13 1518.36 L1875.32 1536.81 L1887.13 1536.81 L1887.13 1518.36 M1885.9 1514.29 L1891.78 1514.29 L1891.78 1536.81 L1896.71 1536.81 L1896.71 1540.7 L1891.78 1540.7 L1891.78 1548.85 L1887.13 1548.85 L1887.13 1540.7 L1871.52 1540.7 L1871.52 1536.19 L1885.9 1514.29 Z\" fill=\"#000000\" fill-rule=\"evenodd\" fill-opacity=\"1\" /><path clip-path=\"url(#clip270)\" d=\"M2281.91 1514.29 L2300.26 1514.29 L2300.26 1518.22 L2286.19 1518.22 L2286.19 1526.7 Q2287.21 1526.35 2288.23 1526.19 Q2289.24 1526 2290.26 1526 Q2296.05 1526 2299.43 1529.17 Q2302.81 1532.34 2302.81 1537.76 Q2302.81 1543.34 2299.34 1546.44 Q2295.87 1549.52 2289.55 1549.52 Q2287.37 1549.52 2285.1 1549.15 Q2282.86 1548.78 2280.45 1548.04 L2280.45 1543.34 Q2282.53 1544.47 2284.75 1545.03 Q2286.98 1545.58 2289.45 1545.58 Q2293.46 1545.58 2295.8 1543.48 Q2298.13 1541.37 2298.13 1537.76 Q2298.13 1534.15 2295.8 1532.04 Q2293.46 1529.94 2289.45 1529.94 Q2287.58 1529.94 2285.7 1530.35 Q2283.85 1530.77 2281.91 1531.65 L2281.91 1514.29 Z\" fill=\"#000000\" fill-rule=\"evenodd\" fill-opacity=\"1\" /><polyline clip-path=\"url(#clip272)\" style=\"stroke:#000000; stroke-linecap:butt; stroke-linejoin:round; stroke-width:2; stroke-opacity:0.1; fill:none\" points=\"\n",
       "  192.941,1189.07 2352.76,1189.07 \n",
       "  \"/>\n",
       "<polyline clip-path=\"url(#clip272)\" style=\"stroke:#000000; stroke-linecap:butt; stroke-linejoin:round; stroke-width:2; stroke-opacity:0.1; fill:none\" points=\"\n",
       "  192.941,879.931 2352.76,879.931 \n",
       "  \"/>\n",
       "<polyline clip-path=\"url(#clip272)\" style=\"stroke:#000000; stroke-linecap:butt; stroke-linejoin:round; stroke-width:2; stroke-opacity:0.1; fill:none\" points=\"\n",
       "  192.941,570.794 2352.76,570.794 \n",
       "  \"/>\n",
       "<polyline clip-path=\"url(#clip272)\" style=\"stroke:#000000; stroke-linecap:butt; stroke-linejoin:round; stroke-width:2; stroke-opacity:0.1; fill:none\" points=\"\n",
       "  192.941,261.656 2352.76,261.656 \n",
       "  \"/>\n",
       "<polyline clip-path=\"url(#clip270)\" style=\"stroke:#000000; stroke-linecap:butt; stroke-linejoin:round; stroke-width:4; stroke-opacity:1; fill:none\" points=\"\n",
       "  192.941,1486.45 192.941,47.2441 \n",
       "  \"/>\n",
       "<polyline clip-path=\"url(#clip270)\" style=\"stroke:#000000; stroke-linecap:butt; stroke-linejoin:round; stroke-width:4; stroke-opacity:1; fill:none\" points=\"\n",
       "  192.941,1189.07 211.838,1189.07 \n",
       "  \"/>\n",
       "<polyline clip-path=\"url(#clip270)\" style=\"stroke:#000000; stroke-linecap:butt; stroke-linejoin:round; stroke-width:4; stroke-opacity:1; fill:none\" points=\"\n",
       "  192.941,879.931 211.838,879.931 \n",
       "  \"/>\n",
       "<polyline clip-path=\"url(#clip270)\" style=\"stroke:#000000; stroke-linecap:butt; stroke-linejoin:round; stroke-width:4; stroke-opacity:1; fill:none\" points=\"\n",
       "  192.941,570.794 211.838,570.794 \n",
       "  \"/>\n",
       "<polyline clip-path=\"url(#clip270)\" style=\"stroke:#000000; stroke-linecap:butt; stroke-linejoin:round; stroke-width:4; stroke-opacity:1; fill:none\" points=\"\n",
       "  192.941,261.656 211.838,261.656 \n",
       "  \"/>\n",
       "<path clip-path=\"url(#clip270)\" d=\"M50.9921 1189.52 L80.6679 1189.52 L80.6679 1193.46 L50.9921 1193.46 L50.9921 1189.52 Z\" fill=\"#000000\" fill-rule=\"evenodd\" fill-opacity=\"1\" /><path clip-path=\"url(#clip270)\" d=\"M94.7882 1202.41 L111.108 1202.41 L111.108 1206.35 L89.1632 1206.35 L89.1632 1202.41 Q91.8252 1199.66 96.4085 1195.03 Q101.015 1190.38 102.196 1189.03 Q104.441 1186.51 105.321 1184.78 Q106.223 1183.02 106.223 1181.33 Q106.223 1178.57 104.279 1176.84 Q102.358 1175.1 99.2558 1175.1 Q97.0567 1175.1 94.603 1175.86 Q92.1725 1176.63 89.3947 1178.18 L89.3947 1173.46 Q92.2188 1172.32 94.6724 1171.74 Q97.1261 1171.16 99.1632 1171.16 Q104.534 1171.16 107.728 1173.85 Q110.922 1176.53 110.922 1181.03 Q110.922 1183.15 110.112 1185.08 Q109.325 1186.97 107.219 1189.57 Q106.64 1190.24 103.538 1193.46 Q100.436 1196.65 94.7882 1202.41 Z\" fill=\"#000000\" fill-rule=\"evenodd\" fill-opacity=\"1\" /><path clip-path=\"url(#clip270)\" d=\"M120.922 1200.47 L125.807 1200.47 L125.807 1206.35 L120.922 1206.35 L120.922 1200.47 Z\" fill=\"#000000\" fill-rule=\"evenodd\" fill-opacity=\"1\" /><path clip-path=\"url(#clip270)\" d=\"M136.038 1171.79 L154.394 1171.79 L154.394 1175.72 L140.32 1175.72 L140.32 1184.2 Q141.339 1183.85 142.357 1183.69 Q143.376 1183.5 144.394 1183.5 Q150.181 1183.5 153.561 1186.67 Q156.941 1189.84 156.941 1195.26 Q156.941 1200.84 153.468 1203.94 Q149.996 1207.02 143.677 1207.02 Q141.501 1207.02 139.232 1206.65 Q136.987 1206.28 134.58 1205.54 L134.58 1200.84 Q136.663 1201.97 138.885 1202.53 Q141.107 1203.09 143.584 1203.09 Q147.589 1203.09 149.927 1200.98 Q152.265 1198.87 152.265 1195.26 Q152.265 1191.65 149.927 1189.54 Q147.589 1187.44 143.584 1187.44 Q141.709 1187.44 139.834 1187.85 Q137.982 1188.27 136.038 1189.15 L136.038 1171.79 Z\" fill=\"#000000\" fill-rule=\"evenodd\" fill-opacity=\"1\" /><path clip-path=\"url(#clip270)\" d=\"M99.765 865.73 Q96.1539 865.73 94.3252 869.295 Q92.5197 872.837 92.5197 879.966 Q92.5197 887.073 94.3252 890.637 Q96.1539 894.179 99.765 894.179 Q103.399 894.179 105.205 890.637 Q107.033 887.073 107.033 879.966 Q107.033 872.837 105.205 869.295 Q103.399 865.73 99.765 865.73 M99.765 862.026 Q105.575 862.026 108.631 866.633 Q111.709 871.216 111.709 879.966 Q111.709 888.693 108.631 893.299 Q105.575 897.883 99.765 897.883 Q93.9549 897.883 90.8762 893.299 Q87.8206 888.693 87.8206 879.966 Q87.8206 871.216 90.8762 866.633 Q93.9549 862.026 99.765 862.026 Z\" fill=\"#000000\" fill-rule=\"evenodd\" fill-opacity=\"1\" /><path clip-path=\"url(#clip270)\" d=\"M119.927 891.332 L124.811 891.332 L124.811 897.211 L119.927 897.211 L119.927 891.332 Z\" fill=\"#000000\" fill-rule=\"evenodd\" fill-opacity=\"1\" /><path clip-path=\"url(#clip270)\" d=\"M144.996 865.73 Q141.385 865.73 139.556 869.295 Q137.751 872.837 137.751 879.966 Q137.751 887.073 139.556 890.637 Q141.385 894.179 144.996 894.179 Q148.63 894.179 150.436 890.637 Q152.265 887.073 152.265 879.966 Q152.265 872.837 150.436 869.295 Q148.63 865.73 144.996 865.73 M144.996 862.026 Q150.806 862.026 153.862 866.633 Q156.941 871.216 156.941 879.966 Q156.941 888.693 153.862 893.299 Q150.806 897.883 144.996 897.883 Q139.186 897.883 136.107 893.299 Q133.052 888.693 133.052 879.966 Q133.052 871.216 136.107 866.633 Q139.186 862.026 144.996 862.026 Z\" fill=\"#000000\" fill-rule=\"evenodd\" fill-opacity=\"1\" /><path clip-path=\"url(#clip270)\" d=\"M94.7882 584.139 L111.108 584.139 L111.108 588.074 L89.1632 588.074 L89.1632 584.139 Q91.8252 581.384 96.4085 576.754 Q101.015 572.102 102.196 570.759 Q104.441 568.236 105.321 566.5 Q106.223 564.741 106.223 563.051 Q106.223 560.296 104.279 558.56 Q102.358 556.824 99.2558 556.824 Q97.0567 556.824 94.603 557.588 Q92.1725 558.352 89.3947 559.903 L89.3947 555.181 Q92.2188 554.046 94.6724 553.468 Q97.1261 552.889 99.1632 552.889 Q104.534 552.889 107.728 555.574 Q110.922 558.259 110.922 562.75 Q110.922 564.88 110.112 566.801 Q109.325 568.699 107.219 571.292 Q106.64 571.963 103.538 575.18 Q100.436 578.375 94.7882 584.139 Z\" fill=\"#000000\" fill-rule=\"evenodd\" fill-opacity=\"1\" /><path clip-path=\"url(#clip270)\" d=\"M120.922 582.194 L125.807 582.194 L125.807 588.074 L120.922 588.074 L120.922 582.194 Z\" fill=\"#000000\" fill-rule=\"evenodd\" fill-opacity=\"1\" /><path clip-path=\"url(#clip270)\" d=\"M136.038 553.514 L154.394 553.514 L154.394 557.449 L140.32 557.449 L140.32 565.921 Q141.339 565.574 142.357 565.412 Q143.376 565.227 144.394 565.227 Q150.181 565.227 153.561 568.398 Q156.941 571.569 156.941 576.986 Q156.941 582.565 153.468 585.666 Q149.996 588.745 143.677 588.745 Q141.501 588.745 139.232 588.375 Q136.987 588.004 134.58 587.264 L134.58 582.565 Q136.663 583.699 138.885 584.254 Q141.107 584.81 143.584 584.81 Q147.589 584.81 149.927 582.704 Q152.265 580.597 152.265 576.986 Q152.265 573.375 149.927 571.268 Q147.589 569.162 143.584 569.162 Q141.709 569.162 139.834 569.579 Q137.982 569.995 136.038 570.875 L136.038 553.514 Z\" fill=\"#000000\" fill-rule=\"evenodd\" fill-opacity=\"1\" /><path clip-path=\"url(#clip270)\" d=\"M89.8114 244.376 L108.168 244.376 L108.168 248.311 L94.0937 248.311 L94.0937 256.784 Q95.1123 256.436 96.1308 256.274 Q97.1493 256.089 98.1678 256.089 Q103.955 256.089 107.334 259.26 Q110.714 262.432 110.714 267.848 Q110.714 273.427 107.242 276.529 Q103.77 279.608 97.4502 279.608 Q95.2743 279.608 93.0058 279.237 Q90.7604 278.867 88.353 278.126 L88.353 273.427 Q90.4364 274.561 92.6586 275.117 Q94.8808 275.672 97.3576 275.672 Q101.362 275.672 103.7 273.566 Q106.038 271.459 106.038 267.848 Q106.038 264.237 103.7 262.131 Q101.362 260.024 97.3576 260.024 Q95.4826 260.024 93.6076 260.441 Q91.7558 260.858 89.8114 261.737 L89.8114 244.376 Z\" fill=\"#000000\" fill-rule=\"evenodd\" fill-opacity=\"1\" /><path clip-path=\"url(#clip270)\" d=\"M119.927 273.057 L124.811 273.057 L124.811 278.936 L119.927 278.936 L119.927 273.057 Z\" fill=\"#000000\" fill-rule=\"evenodd\" fill-opacity=\"1\" /><path clip-path=\"url(#clip270)\" d=\"M144.996 247.455 Q141.385 247.455 139.556 251.02 Q137.751 254.561 137.751 261.691 Q137.751 268.797 139.556 272.362 Q141.385 275.904 144.996 275.904 Q148.63 275.904 150.436 272.362 Q152.265 268.797 152.265 261.691 Q152.265 254.561 150.436 251.02 Q148.63 247.455 144.996 247.455 M144.996 243.751 Q150.806 243.751 153.862 248.358 Q156.941 252.941 156.941 261.691 Q156.941 270.418 153.862 275.024 Q150.806 279.608 144.996 279.608 Q139.186 279.608 136.107 275.024 Q133.052 270.418 133.052 261.691 Q133.052 252.941 136.107 248.358 Q139.186 243.751 144.996 243.751 Z\" fill=\"#000000\" fill-rule=\"evenodd\" fill-opacity=\"1\" /><polyline clip-path=\"url(#clip272)\" style=\"stroke:#009af9; stroke-linecap:butt; stroke-linejoin:round; stroke-width:4; stroke-opacity:1; fill:none\" points=\"\n",
       "  254.067,1445.72 258.143,1377.49 262.218,1347.73 266.293,1324.35 270.368,1304.29 274.443,1286.35 278.518,1269.94 282.593,1254.68 286.668,1240.35 290.744,1226.77 \n",
       "  294.819,1213.82 298.894,1201.42 302.969,1189.48 307.044,1177.96 311.119,1166.81 315.194,1155.98 319.269,1145.45 323.345,1135.2 327.42,1125.18 331.495,1115.39 \n",
       "  335.57,1105.81 339.645,1096.42 343.72,1087.21 347.795,1078.16 351.87,1069.27 355.946,1060.52 360.021,1051.9 364.096,1043.42 368.171,1035.04 372.246,1026.78 \n",
       "  376.321,1018.63 380.396,1010.57 384.471,1002.61 388.547,994.738 392.622,986.949 396.697,979.238 400.772,971.603 404.847,964.04 408.922,956.545 412.997,949.114 \n",
       "  417.072,941.745 421.148,934.434 425.223,927.18 429.298,919.978 433.373,912.828 437.448,905.726 441.523,898.671 445.598,891.66 449.673,884.692 453.749,877.765 \n",
       "  457.824,870.877 461.899,864.027 465.974,857.213 470.049,850.434 474.124,843.689 478.199,836.975 482.274,830.294 486.349,823.642 490.425,817.02 494.5,810.426 \n",
       "  498.575,803.86 502.65,797.32 506.725,790.807 510.8,784.32 514.875,777.857 518.95,771.419 523.026,765.005 527.101,758.614 531.176,752.247 535.251,745.902 \n",
       "  539.326,739.58 543.401,733.281 547.476,727.004 551.551,720.749 555.627,714.516 559.702,708.306 563.777,702.117 567.852,695.95 571.927,689.806 576.002,683.683 \n",
       "  580.077,677.583 584.152,671.506 588.228,665.451 592.303,659.419 596.378,653.41 600.453,647.425 604.528,641.463 608.603,635.526 612.678,629.613 616.753,623.725 \n",
       "  620.829,617.862 624.904,612.024 628.979,606.213 633.054,600.429 637.129,594.671 641.204,588.941 645.279,583.239 649.354,577.565 653.43,571.921 657.505,566.306 \n",
       "  661.58,560.721 665.655,555.167 669.73,549.645 673.805,544.154 677.88,538.696 681.955,533.271 686.031,527.88 690.106,522.523 694.181,517.201 698.256,511.915 \n",
       "  702.331,506.665 706.406,501.452 710.481,496.276 714.556,491.139 718.632,486.04 722.707,480.98 726.782,475.961 730.857,470.982 734.932,466.044 739.007,461.148 \n",
       "  743.082,456.295 747.157,451.484 751.233,446.717 755.308,441.994 759.383,437.315 763.458,432.682 767.533,428.095 771.608,423.554 775.683,419.06 779.758,414.613 \n",
       "  783.833,410.214 787.909,405.863 791.984,401.561 796.059,397.308 800.134,393.104 804.209,388.951 808.284,384.848 812.359,380.795 816.434,376.794 820.51,372.844 \n",
       "  824.585,368.946 828.66,365.1 832.735,361.306 836.81,357.565 840.885,353.877 844.96,350.242 849.035,346.659 853.111,343.131 857.186,339.655 861.261,336.234 \n",
       "  865.336,332.866 869.411,329.552 873.486,326.291 877.561,323.085 881.636,319.932 885.712,316.833 889.787,313.788 893.862,310.797 897.937,307.859 902.012,304.975 \n",
       "  906.087,302.144 910.162,299.367 914.237,296.642 918.313,293.97 922.388,291.351 926.463,288.784 930.538,286.269 934.613,283.805 938.688,281.393 942.763,279.032 \n",
       "  946.838,276.721 950.914,274.461 954.989,272.25 959.064,270.089 963.139,267.976 967.214,265.912 971.289,263.895 975.364,261.926 979.439,260.003 983.515,258.126 \n",
       "  987.59,256.295 991.665,254.509 995.74,252.766 999.815,251.068 1003.89,249.412 1007.97,247.799 1012.04,246.226 1016.12,244.695 1020.19,243.204 1024.27,241.751 \n",
       "  1028.34,240.338 1032.42,238.961 1036.49,237.622 1040.57,236.319 1044.64,235.051 1048.72,233.817 1052.79,232.616 1056.87,231.449 1060.94,230.312 1065.02,229.207 \n",
       "  1069.09,228.132 1073.17,227.086 1077.24,226.068 1081.32,225.077 1085.39,224.112 1089.47,223.173 1093.54,222.258 1097.62,221.366 1101.69,220.498 1105.77,219.65 \n",
       "  1109.84,218.824 1113.92,218.017 1117.99,217.229 1122.07,216.459 1126.14,215.705 1130.22,214.968 1134.29,214.246 1138.37,213.538 1142.44,212.843 1146.52,212.16 \n",
       "  1150.59,211.489 1154.67,210.828 1158.74,210.176 1162.82,209.533 1166.9,208.898 1170.97,208.27 1175.05,207.648 1179.12,207.032 1183.2,206.419 1187.27,205.81 \n",
       "  1191.35,205.204 1195.42,204.599 1199.5,203.996 1203.57,203.393 1207.65,202.79 1211.72,202.185 1215.8,201.579 1219.87,200.97 1223.95,200.358 1228.02,199.742 \n",
       "  1232.1,199.121 1236.17,198.495 1240.25,197.863 1244.32,197.225 1248.4,196.58 1252.47,195.927 1256.55,195.266 1260.62,194.597 1264.7,193.918 1268.77,193.23 \n",
       "  1272.85,192.532 1276.92,191.823 1281,191.104 1285.07,190.374 1289.15,189.632 1293.22,188.878 1297.3,188.112 1301.37,187.334 1305.45,186.543 1309.52,185.739 \n",
       "  1313.6,184.922 1317.67,184.092 1321.75,183.248 1325.82,182.391 1329.9,181.52 1333.98,180.635 1338.05,179.737 1342.13,178.825 1346.2,177.899 1350.28,176.959 \n",
       "  1354.35,176.006 1358.43,175.038 1362.5,174.057 1366.58,173.063 1370.65,172.056 1374.73,171.035 1378.8,170.001 1382.88,168.955 1386.95,167.896 1391.03,166.824 \n",
       "  1395.1,165.741 1399.18,164.646 1403.25,163.54 1407.33,162.422 1411.4,161.294 1415.48,160.156 1419.55,159.008 1423.63,157.85 1427.7,156.684 1431.78,155.509 \n",
       "  1435.85,154.325 1439.93,153.135 1444,151.937 1448.08,150.732 1452.15,149.522 1456.23,148.306 1460.3,147.085 1464.38,145.86 1468.45,144.631 1472.53,143.399 \n",
       "  1476.6,142.165 1480.68,140.929 1484.75,139.692 1488.83,138.454 1492.9,137.216 1496.98,135.979 1501.06,134.744 1505.13,133.51 1509.21,132.28 1513.28,131.053 \n",
       "  1517.36,129.83 1521.43,128.613 1525.51,127.4 1529.58,126.195 1533.66,124.996 1537.73,123.805 1541.81,122.623 1545.88,121.45 1549.96,120.287 1554.03,119.134 \n",
       "  1558.11,117.993 1562.18,116.864 1566.26,115.748 1570.33,114.645 1574.41,113.556 1578.48,112.482 1582.56,111.424 1586.63,110.381 1590.71,109.356 1594.78,108.348 \n",
       "  1598.86,107.358 1602.93,106.387 1607.01,105.435 1611.08,104.504 1615.16,103.592 1619.23,102.702 1623.31,101.834 1627.38,100.988 1631.46,100.165 1635.53,99.3647 \n",
       "  1639.61,98.5887 1643.68,97.8369 1647.76,97.1099 1651.83,96.4082 1655.91,95.7322 1659.98,95.0823 1664.06,94.459 1668.14,93.8625 1672.21,93.2933 1676.29,92.7516 \n",
       "  1680.36,92.2379 1684.44,91.7524 1688.51,91.2954 1692.59,90.8671 1696.66,90.4677 1700.74,90.0976 1704.81,89.7568 1708.89,89.4456 1712.96,89.164 1717.04,88.9122 \n",
       "  1721.11,88.6903 1725.19,88.4984 1729.26,88.3364 1733.34,88.2044 1737.41,88.1025 1741.49,88.0305 1745.56,87.9885 1749.64,87.9763 1753.71,87.9938 1757.79,88.041 \n",
       "  1761.86,88.1177 1765.94,88.2236 1770.01,88.3587 1774.09,88.5226 1778.16,88.7152 1782.24,88.9361 1786.31,89.1851 1790.39,89.4619 1794.46,89.766 1798.54,90.0972 \n",
       "  1802.61,90.455 1806.69,90.8391 1810.76,91.2489 1814.84,91.6842 1818.91,92.1443 1822.99,92.6287 1827.07,93.1371 1831.14,93.6687 1835.22,94.2231 1839.29,94.7997 \n",
       "  1843.37,95.3978 1847.44,96.017 1851.52,96.6564 1855.59,97.3155 1859.67,97.9936 1863.74,98.69 1867.82,99.4041 1871.89,100.135 1875.97,100.882 1880.04,101.644 \n",
       "  1884.12,102.422 1888.19,103.213 1892.27,104.017 1896.34,104.833 1900.42,105.661 1904.49,106.499 1908.57,107.347 1912.64,108.204 1916.72,109.069 1920.79,109.942 \n",
       "  1924.87,110.821 1928.94,111.705 1933.02,112.594 1937.09,113.487 1941.17,114.382 1945.24,115.28 1949.32,116.179 1953.39,117.077 1957.47,117.975 1961.54,118.872 \n",
       "  1965.62,119.766 1969.69,120.656 1973.77,121.542 1977.84,122.423 1981.92,123.298 1985.99,124.166 1990.07,125.026 1994.15,125.877 1998.22,126.719 2002.3,127.55 \n",
       "  2006.37,128.369 2010.45,129.177 2014.52,129.972 2018.6,130.752 2022.67,131.519 2026.75,132.269 2030.82,133.003 2034.9,133.721 2038.97,134.42 2043.05,135.101 \n",
       "  2047.12,135.763 2051.2,136.404 2055.27,137.025 2059.35,137.625 2063.42,138.202 2067.5,138.757 2071.57,139.288 2075.65,139.795 2079.72,140.277 2083.8,140.735 \n",
       "  2087.87,141.166 2091.95,141.571 2096.02,141.95 2100.1,142.301 2104.17,142.624 2108.25,142.919 2112.32,143.185 2116.4,143.422 2120.47,143.63 2124.55,143.808 \n",
       "  2128.62,143.955 2132.7,144.072 2136.77,144.159 2140.85,144.214 2144.92,144.238 2149,144.23 2153.07,144.191 2157.15,144.12 2161.23,144.016 2165.3,143.881 \n",
       "  2169.38,143.714 2173.45,143.514 2177.53,143.282 2181.6,143.018 2185.68,142.721 2189.75,142.392 2193.83,142.031 2197.9,141.638 2201.98,141.213 2206.05,140.756 \n",
       "  2210.13,140.268 2214.2,139.748 2218.28,139.197 2222.35,138.615 2226.43,138.002 2230.5,137.359 2234.58,136.686 2238.65,135.983 2242.73,135.251 2246.8,134.49 \n",
       "  2250.88,133.7 2254.95,132.883 2259.03,132.037 2263.1,131.165 2267.18,130.266 2271.25,129.34 2275.33,128.389 2279.4,127.413 2283.48,126.413 2287.55,125.389 \n",
       "  2291.63,124.342 \n",
       "  \"/>\n",
       "<path clip-path=\"url(#clip270)\" d=\"\n",
       "M1988.35 198.898 L2280.76 198.898 L2280.76 95.2176 L1988.35 95.2176  Z\n",
       "  \" fill=\"#ffffff\" fill-rule=\"evenodd\" fill-opacity=\"1\"/>\n",
       "<polyline clip-path=\"url(#clip270)\" style=\"stroke:#000000; stroke-linecap:butt; stroke-linejoin:round; stroke-width:4; stroke-opacity:1; fill:none\" points=\"\n",
       "  1988.35,198.898 2280.76,198.898 2280.76,95.2176 1988.35,95.2176 1988.35,198.898 \n",
       "  \"/>\n",
       "<polyline clip-path=\"url(#clip270)\" style=\"stroke:#009af9; stroke-linecap:butt; stroke-linejoin:round; stroke-width:4; stroke-opacity:1; fill:none\" points=\"\n",
       "  2012.35,147.058 2156.34,147.058 \n",
       "  \"/>\n",
       "<path clip-path=\"url(#clip270)\" d=\"M2194.18 166.745 Q2192.37 171.375 2190.66 172.787 Q2188.95 174.199 2186.08 174.199 L2182.67 174.199 L2182.67 170.634 L2185.17 170.634 Q2186.93 170.634 2187.91 169.8 Q2188.88 168.967 2190.06 165.865 L2190.82 163.921 L2180.34 138.412 L2184.85 138.412 L2192.95 158.689 L2201.05 138.412 L2205.57 138.412 L2194.18 166.745 Z\" fill=\"#000000\" fill-rule=\"evenodd\" fill-opacity=\"1\" /><path clip-path=\"url(#clip270)\" d=\"M2212.86 160.402 L2220.5 160.402 L2220.5 134.037 L2212.19 135.703 L2212.19 131.444 L2220.45 129.778 L2225.13 129.778 L2225.13 160.402 L2232.77 160.402 L2232.77 164.338 L2212.86 164.338 L2212.86 160.402 Z\" fill=\"#000000\" fill-rule=\"evenodd\" fill-opacity=\"1\" /></svg>\n"
      ]
     },
     "execution_count": 146,
     "metadata": {},
     "output_type": "execute_result"
    }
   ],
   "source": [
    "plot(x,ff)"
   ]
  },
  {
   "cell_type": "code",
   "execution_count": 147,
   "id": "904d2671-8434-4d3c-bf5c-43d22117e1b5",
   "metadata": {},
   "outputs": [
    {
     "data": {
      "image/svg+xml": [
       "<?xml version=\"1.0\" encoding=\"utf-8\"?>\n",
       "<svg xmlns=\"http://www.w3.org/2000/svg\" xmlns:xlink=\"http://www.w3.org/1999/xlink\" width=\"600\" height=\"400\" viewBox=\"0 0 2400 1600\">\n",
       "<defs>\n",
       "  <clipPath id=\"clip310\">\n",
       "    <rect x=\"0\" y=\"0\" width=\"2400\" height=\"1600\"/>\n",
       "  </clipPath>\n",
       "</defs>\n",
       "<path clip-path=\"url(#clip310)\" d=\"\n",
       "M0 1600 L2400 1600 L2400 0 L0 0  Z\n",
       "  \" fill=\"#ffffff\" fill-rule=\"evenodd\" fill-opacity=\"1\"/>\n",
       "<defs>\n",
       "  <clipPath id=\"clip311\">\n",
       "    <rect x=\"480\" y=\"0\" width=\"1681\" height=\"1600\"/>\n",
       "  </clipPath>\n",
       "</defs>\n",
       "<path clip-path=\"url(#clip310)\" d=\"\n",
       "M140.696 1486.45 L2352.76 1486.45 L2352.76 47.2441 L140.696 47.2441  Z\n",
       "  \" fill=\"#ffffff\" fill-rule=\"evenodd\" fill-opacity=\"1\"/>\n",
       "<defs>\n",
       "  <clipPath id=\"clip312\">\n",
       "    <rect x=\"140\" y=\"47\" width=\"2213\" height=\"1440\"/>\n",
       "  </clipPath>\n",
       "</defs>\n",
       "<polyline clip-path=\"url(#clip312)\" style=\"stroke:#000000; stroke-linecap:butt; stroke-linejoin:round; stroke-width:2; stroke-opacity:0.1; fill:none\" points=\"\n",
       "  203.301,1486.45 203.301,47.2441 \n",
       "  \"/>\n",
       "<polyline clip-path=\"url(#clip312)\" style=\"stroke:#000000; stroke-linecap:butt; stroke-linejoin:round; stroke-width:2; stroke-opacity:0.1; fill:none\" points=\"\n",
       "  620.671,1486.45 620.671,47.2441 \n",
       "  \"/>\n",
       "<polyline clip-path=\"url(#clip312)\" style=\"stroke:#000000; stroke-linecap:butt; stroke-linejoin:round; stroke-width:2; stroke-opacity:0.1; fill:none\" points=\"\n",
       "  1038.04,1486.45 1038.04,47.2441 \n",
       "  \"/>\n",
       "<polyline clip-path=\"url(#clip312)\" style=\"stroke:#000000; stroke-linecap:butt; stroke-linejoin:round; stroke-width:2; stroke-opacity:0.1; fill:none\" points=\"\n",
       "  1455.41,1486.45 1455.41,47.2441 \n",
       "  \"/>\n",
       "<polyline clip-path=\"url(#clip312)\" style=\"stroke:#000000; stroke-linecap:butt; stroke-linejoin:round; stroke-width:2; stroke-opacity:0.1; fill:none\" points=\"\n",
       "  1872.78,1486.45 1872.78,47.2441 \n",
       "  \"/>\n",
       "<polyline clip-path=\"url(#clip312)\" style=\"stroke:#000000; stroke-linecap:butt; stroke-linejoin:round; stroke-width:2; stroke-opacity:0.1; fill:none\" points=\"\n",
       "  2290.15,1486.45 2290.15,47.2441 \n",
       "  \"/>\n",
       "<polyline clip-path=\"url(#clip310)\" style=\"stroke:#000000; stroke-linecap:butt; stroke-linejoin:round; stroke-width:4; stroke-opacity:1; fill:none\" points=\"\n",
       "  140.696,1486.45 2352.76,1486.45 \n",
       "  \"/>\n",
       "<polyline clip-path=\"url(#clip310)\" style=\"stroke:#000000; stroke-linecap:butt; stroke-linejoin:round; stroke-width:4; stroke-opacity:1; fill:none\" points=\"\n",
       "  203.301,1486.45 203.301,1467.55 \n",
       "  \"/>\n",
       "<polyline clip-path=\"url(#clip310)\" style=\"stroke:#000000; stroke-linecap:butt; stroke-linejoin:round; stroke-width:4; stroke-opacity:1; fill:none\" points=\"\n",
       "  620.671,1486.45 620.671,1467.55 \n",
       "  \"/>\n",
       "<polyline clip-path=\"url(#clip310)\" style=\"stroke:#000000; stroke-linecap:butt; stroke-linejoin:round; stroke-width:4; stroke-opacity:1; fill:none\" points=\"\n",
       "  1038.04,1486.45 1038.04,1467.55 \n",
       "  \"/>\n",
       "<polyline clip-path=\"url(#clip310)\" style=\"stroke:#000000; stroke-linecap:butt; stroke-linejoin:round; stroke-width:4; stroke-opacity:1; fill:none\" points=\"\n",
       "  1455.41,1486.45 1455.41,1467.55 \n",
       "  \"/>\n",
       "<polyline clip-path=\"url(#clip310)\" style=\"stroke:#000000; stroke-linecap:butt; stroke-linejoin:round; stroke-width:4; stroke-opacity:1; fill:none\" points=\"\n",
       "  1872.78,1486.45 1872.78,1467.55 \n",
       "  \"/>\n",
       "<polyline clip-path=\"url(#clip310)\" style=\"stroke:#000000; stroke-linecap:butt; stroke-linejoin:round; stroke-width:4; stroke-opacity:1; fill:none\" points=\"\n",
       "  2290.15,1486.45 2290.15,1467.55 \n",
       "  \"/>\n",
       "<path clip-path=\"url(#clip310)\" d=\"M203.301 1517.37 Q199.69 1517.37 197.861 1520.93 Q196.056 1524.47 196.056 1531.6 Q196.056 1538.71 197.861 1542.27 Q199.69 1545.82 203.301 1545.82 Q206.935 1545.82 208.741 1542.27 Q210.57 1538.71 210.57 1531.6 Q210.57 1524.47 208.741 1520.93 Q206.935 1517.37 203.301 1517.37 M203.301 1513.66 Q209.111 1513.66 212.167 1518.27 Q215.245 1522.85 215.245 1531.6 Q215.245 1540.33 212.167 1544.94 Q209.111 1549.52 203.301 1549.52 Q197.491 1549.52 194.412 1544.94 Q191.357 1540.33 191.357 1531.6 Q191.357 1522.85 194.412 1518.27 Q197.491 1513.66 203.301 1513.66 Z\" fill=\"#000000\" fill-rule=\"evenodd\" fill-opacity=\"1\" /><path clip-path=\"url(#clip310)\" d=\"M611.053 1544.91 L618.692 1544.91 L618.692 1518.55 L610.382 1520.21 L610.382 1515.95 L618.645 1514.29 L623.321 1514.29 L623.321 1544.91 L630.96 1544.91 L630.96 1548.85 L611.053 1548.85 L611.053 1544.91 Z\" fill=\"#000000\" fill-rule=\"evenodd\" fill-opacity=\"1\" /><path clip-path=\"url(#clip310)\" d=\"M1032.69 1544.91 L1049.01 1544.91 L1049.01 1548.85 L1027.07 1548.85 L1027.07 1544.91 Q1029.73 1542.16 1034.31 1537.53 Q1038.92 1532.88 1040.1 1531.53 Q1042.35 1529.01 1043.23 1527.27 Q1044.13 1525.51 1044.13 1523.82 Q1044.13 1521.07 1042.18 1519.33 Q1040.26 1517.6 1037.16 1517.6 Q1034.96 1517.6 1032.51 1518.36 Q1030.08 1519.13 1027.3 1520.68 L1027.3 1515.95 Q1030.12 1514.82 1032.58 1514.24 Q1035.03 1513.66 1037.07 1513.66 Q1042.44 1513.66 1045.63 1516.35 Q1048.83 1519.03 1048.83 1523.52 Q1048.83 1525.65 1048.02 1527.57 Q1047.23 1529.47 1045.12 1532.07 Q1044.55 1532.74 1041.44 1535.95 Q1038.34 1539.15 1032.69 1544.91 Z\" fill=\"#000000\" fill-rule=\"evenodd\" fill-opacity=\"1\" /><path clip-path=\"url(#clip310)\" d=\"M1459.66 1530.21 Q1463.01 1530.93 1464.89 1533.2 Q1466.79 1535.47 1466.79 1538.8 Q1466.79 1543.92 1463.27 1546.72 Q1459.75 1549.52 1453.27 1549.52 Q1451.09 1549.52 1448.78 1549.08 Q1446.49 1548.66 1444.03 1547.81 L1444.03 1543.29 Q1445.98 1544.43 1448.29 1545.01 Q1450.61 1545.58 1453.13 1545.58 Q1457.53 1545.58 1459.82 1543.85 Q1462.14 1542.11 1462.14 1538.8 Q1462.14 1535.75 1459.98 1534.03 Q1457.85 1532.3 1454.03 1532.3 L1450.01 1532.3 L1450.01 1528.45 L1454.22 1528.45 Q1457.67 1528.45 1459.5 1527.09 Q1461.32 1525.7 1461.32 1523.11 Q1461.32 1520.45 1459.43 1519.03 Q1457.55 1517.6 1454.03 1517.6 Q1452.11 1517.6 1449.91 1518.01 Q1447.71 1518.43 1445.08 1519.31 L1445.08 1515.14 Q1447.74 1514.4 1450.05 1514.03 Q1452.39 1513.66 1454.45 1513.66 Q1459.77 1513.66 1462.88 1516.09 Q1465.98 1518.5 1465.98 1522.62 Q1465.98 1525.49 1464.33 1527.48 Q1462.69 1529.45 1459.66 1530.21 Z\" fill=\"#000000\" fill-rule=\"evenodd\" fill-opacity=\"1\" /><path clip-path=\"url(#clip310)\" d=\"M1875.79 1518.36 L1863.98 1536.81 L1875.79 1536.81 L1875.79 1518.36 M1874.56 1514.29 L1880.44 1514.29 L1880.44 1536.81 L1885.37 1536.81 L1885.37 1540.7 L1880.44 1540.7 L1880.44 1548.85 L1875.79 1548.85 L1875.79 1540.7 L1860.19 1540.7 L1860.19 1536.19 L1874.56 1514.29 Z\" fill=\"#000000\" fill-rule=\"evenodd\" fill-opacity=\"1\" /><path clip-path=\"url(#clip310)\" d=\"M2280.43 1514.29 L2298.78 1514.29 L2298.78 1518.22 L2284.71 1518.22 L2284.71 1526.7 Q2285.73 1526.35 2286.75 1526.19 Q2287.77 1526 2288.78 1526 Q2294.57 1526 2297.95 1529.17 Q2301.33 1532.34 2301.33 1537.76 Q2301.33 1543.34 2297.86 1546.44 Q2294.39 1549.52 2288.07 1549.52 Q2285.89 1549.52 2283.62 1549.15 Q2281.38 1548.78 2278.97 1548.04 L2278.97 1543.34 Q2281.05 1544.47 2283.28 1545.03 Q2285.5 1545.58 2287.97 1545.58 Q2291.98 1545.58 2294.32 1543.48 Q2296.66 1541.37 2296.66 1537.76 Q2296.66 1534.15 2294.32 1532.04 Q2291.98 1529.94 2287.97 1529.94 Q2286.1 1529.94 2284.22 1530.35 Q2282.37 1530.77 2280.43 1531.65 L2280.43 1514.29 Z\" fill=\"#000000\" fill-rule=\"evenodd\" fill-opacity=\"1\" /><polyline clip-path=\"url(#clip312)\" style=\"stroke:#000000; stroke-linecap:butt; stroke-linejoin:round; stroke-width:2; stroke-opacity:0.1; fill:none\" points=\"\n",
       "  140.696,1412.11 2352.76,1412.11 \n",
       "  \"/>\n",
       "<polyline clip-path=\"url(#clip312)\" style=\"stroke:#000000; stroke-linecap:butt; stroke-linejoin:round; stroke-width:2; stroke-opacity:0.1; fill:none\" points=\"\n",
       "  140.696,1180.94 2352.76,1180.94 \n",
       "  \"/>\n",
       "<polyline clip-path=\"url(#clip312)\" style=\"stroke:#000000; stroke-linecap:butt; stroke-linejoin:round; stroke-width:2; stroke-opacity:0.1; fill:none\" points=\"\n",
       "  140.696,949.772 2352.76,949.772 \n",
       "  \"/>\n",
       "<polyline clip-path=\"url(#clip312)\" style=\"stroke:#000000; stroke-linecap:butt; stroke-linejoin:round; stroke-width:2; stroke-opacity:0.1; fill:none\" points=\"\n",
       "  140.696,718.604 2352.76,718.604 \n",
       "  \"/>\n",
       "<polyline clip-path=\"url(#clip312)\" style=\"stroke:#000000; stroke-linecap:butt; stroke-linejoin:round; stroke-width:2; stroke-opacity:0.1; fill:none\" points=\"\n",
       "  140.696,487.435 2352.76,487.435 \n",
       "  \"/>\n",
       "<polyline clip-path=\"url(#clip312)\" style=\"stroke:#000000; stroke-linecap:butt; stroke-linejoin:round; stroke-width:2; stroke-opacity:0.1; fill:none\" points=\"\n",
       "  140.696,256.267 2352.76,256.267 \n",
       "  \"/>\n",
       "<polyline clip-path=\"url(#clip310)\" style=\"stroke:#000000; stroke-linecap:butt; stroke-linejoin:round; stroke-width:4; stroke-opacity:1; fill:none\" points=\"\n",
       "  140.696,1486.45 140.696,47.2441 \n",
       "  \"/>\n",
       "<polyline clip-path=\"url(#clip310)\" style=\"stroke:#000000; stroke-linecap:butt; stroke-linejoin:round; stroke-width:4; stroke-opacity:1; fill:none\" points=\"\n",
       "  140.696,1412.11 159.593,1412.11 \n",
       "  \"/>\n",
       "<polyline clip-path=\"url(#clip310)\" style=\"stroke:#000000; stroke-linecap:butt; stroke-linejoin:round; stroke-width:4; stroke-opacity:1; fill:none\" points=\"\n",
       "  140.696,1180.94 159.593,1180.94 \n",
       "  \"/>\n",
       "<polyline clip-path=\"url(#clip310)\" style=\"stroke:#000000; stroke-linecap:butt; stroke-linejoin:round; stroke-width:4; stroke-opacity:1; fill:none\" points=\"\n",
       "  140.696,949.772 159.593,949.772 \n",
       "  \"/>\n",
       "<polyline clip-path=\"url(#clip310)\" style=\"stroke:#000000; stroke-linecap:butt; stroke-linejoin:round; stroke-width:4; stroke-opacity:1; fill:none\" points=\"\n",
       "  140.696,718.604 159.593,718.604 \n",
       "  \"/>\n",
       "<polyline clip-path=\"url(#clip310)\" style=\"stroke:#000000; stroke-linecap:butt; stroke-linejoin:round; stroke-width:4; stroke-opacity:1; fill:none\" points=\"\n",
       "  140.696,487.435 159.593,487.435 \n",
       "  \"/>\n",
       "<polyline clip-path=\"url(#clip310)\" style=\"stroke:#000000; stroke-linecap:butt; stroke-linejoin:round; stroke-width:4; stroke-opacity:1; fill:none\" points=\"\n",
       "  140.696,256.267 159.593,256.267 \n",
       "  \"/>\n",
       "<path clip-path=\"url(#clip310)\" d=\"M92.7512 1397.91 Q89.1401 1397.91 87.3114 1401.47 Q85.5058 1405.01 85.5058 1412.14 Q85.5058 1419.25 87.3114 1422.82 Q89.1401 1426.36 92.7512 1426.36 Q96.3854 1426.36 98.1909 1422.82 Q100.02 1419.25 100.02 1412.14 Q100.02 1405.01 98.1909 1401.47 Q96.3854 1397.91 92.7512 1397.91 M92.7512 1394.2 Q98.5613 1394.2 101.617 1398.81 Q104.696 1403.39 104.696 1412.14 Q104.696 1420.87 101.617 1425.48 Q98.5613 1430.06 92.7512 1430.06 Q86.941 1430.06 83.8623 1425.48 Q80.8068 1420.87 80.8068 1412.14 Q80.8068 1403.39 83.8623 1398.81 Q86.941 1394.2 92.7512 1394.2 Z\" fill=\"#000000\" fill-rule=\"evenodd\" fill-opacity=\"1\" /><path clip-path=\"url(#clip310)\" d=\"M83.7929 1163.66 L102.149 1163.66 L102.149 1167.6 L88.0753 1167.6 L88.0753 1176.07 Q89.0938 1175.72 90.1123 1175.56 Q91.1308 1175.37 92.1493 1175.37 Q97.9363 1175.37 101.316 1178.54 Q104.696 1181.72 104.696 1187.13 Q104.696 1192.71 101.223 1195.81 Q97.7511 1198.89 91.4317 1198.89 Q89.2558 1198.89 86.9873 1198.52 Q84.7419 1198.15 82.3346 1197.41 L82.3346 1192.71 Q84.4179 1193.85 86.6401 1194.4 Q88.8623 1194.96 91.3391 1194.96 Q95.3437 1194.96 97.6817 1192.85 Q100.02 1190.74 100.02 1187.13 Q100.02 1183.52 97.6817 1181.42 Q95.3437 1179.31 91.3391 1179.31 Q89.4641 1179.31 87.5892 1179.73 Q85.7373 1180.14 83.7929 1181.02 L83.7929 1163.66 Z\" fill=\"#000000\" fill-rule=\"evenodd\" fill-opacity=\"1\" /><path clip-path=\"url(#clip310)\" d=\"M53.3995 963.117 L61.0384 963.117 L61.0384 936.752 L52.7282 938.418 L52.7282 934.159 L60.9921 932.492 L65.668 932.492 L65.668 963.117 L73.3068 963.117 L73.3068 967.052 L53.3995 967.052 L53.3995 963.117 Z\" fill=\"#000000\" fill-rule=\"evenodd\" fill-opacity=\"1\" /><path clip-path=\"url(#clip310)\" d=\"M92.7512 935.571 Q89.1401 935.571 87.3114 939.136 Q85.5058 942.677 85.5058 949.807 Q85.5058 956.913 87.3114 960.478 Q89.1401 964.02 92.7512 964.02 Q96.3854 964.02 98.1909 960.478 Q100.02 956.913 100.02 949.807 Q100.02 942.677 98.1909 939.136 Q96.3854 935.571 92.7512 935.571 M92.7512 931.867 Q98.5613 931.867 101.617 936.474 Q104.696 941.057 104.696 949.807 Q104.696 958.534 101.617 963.14 Q98.5613 967.724 92.7512 967.724 Q86.941 967.724 83.8623 963.14 Q80.8068 958.534 80.8068 949.807 Q80.8068 941.057 83.8623 936.474 Q86.941 931.867 92.7512 931.867 Z\" fill=\"#000000\" fill-rule=\"evenodd\" fill-opacity=\"1\" /><path clip-path=\"url(#clip310)\" d=\"M54.3949 731.949 L62.0337 731.949 L62.0337 705.583 L53.7236 707.25 L53.7236 702.991 L61.9874 701.324 L66.6633 701.324 L66.6633 731.949 L74.3022 731.949 L74.3022 735.884 L54.3949 735.884 L54.3949 731.949 Z\" fill=\"#000000\" fill-rule=\"evenodd\" fill-opacity=\"1\" /><path clip-path=\"url(#clip310)\" d=\"M83.7929 701.324 L102.149 701.324 L102.149 705.259 L88.0753 705.259 L88.0753 713.731 Q89.0938 713.384 90.1123 713.222 Q91.1308 713.037 92.1493 713.037 Q97.9363 713.037 101.316 716.208 Q104.696 719.379 104.696 724.796 Q104.696 730.375 101.223 733.476 Q97.7511 736.555 91.4317 736.555 Q89.2558 736.555 86.9873 736.185 Q84.7419 735.814 82.3346 735.074 L82.3346 730.375 Q84.4179 731.509 86.6401 732.064 Q88.8623 732.62 91.3391 732.62 Q95.3437 732.62 97.6817 730.514 Q100.02 728.407 100.02 724.796 Q100.02 721.185 97.6817 719.078 Q95.3437 716.972 91.3391 716.972 Q89.4641 716.972 87.5892 717.389 Q85.7373 717.805 83.7929 718.685 L83.7929 701.324 Z\" fill=\"#000000\" fill-rule=\"evenodd\" fill-opacity=\"1\" /><path clip-path=\"url(#clip310)\" d=\"M56.6171 500.78 L72.9365 500.78 L72.9365 504.715 L50.9921 504.715 L50.9921 500.78 Q53.6541 498.026 58.2375 493.396 Q62.8439 488.743 64.0245 487.401 Q66.2698 484.878 67.1494 483.141 Q68.0522 481.382 68.0522 479.692 Q68.0522 476.938 66.1078 475.202 Q64.1865 473.466 61.0847 473.466 Q58.8856 473.466 56.4319 474.229 Q54.0014 474.993 51.2236 476.544 L51.2236 471.822 Q54.0477 470.688 56.5014 470.109 Q58.955 469.53 60.9921 469.53 Q66.3624 469.53 69.5568 472.216 Q72.7513 474.901 72.7513 479.391 Q72.7513 481.521 71.9411 483.442 Q71.1541 485.341 69.0476 487.933 Q68.4689 488.604 65.367 491.822 Q62.2652 495.016 56.6171 500.78 Z\" fill=\"#000000\" fill-rule=\"evenodd\" fill-opacity=\"1\" /><path clip-path=\"url(#clip310)\" d=\"M92.7512 473.234 Q89.1401 473.234 87.3114 476.799 Q85.5058 480.341 85.5058 487.47 Q85.5058 494.577 87.3114 498.141 Q89.1401 501.683 92.7512 501.683 Q96.3854 501.683 98.1909 498.141 Q100.02 494.577 100.02 487.47 Q100.02 480.341 98.1909 476.799 Q96.3854 473.234 92.7512 473.234 M92.7512 469.53 Q98.5613 469.53 101.617 474.137 Q104.696 478.72 104.696 487.47 Q104.696 496.197 101.617 500.803 Q98.5613 505.387 92.7512 505.387 Q86.941 505.387 83.8623 500.803 Q80.8068 496.197 80.8068 487.47 Q80.8068 478.72 83.8623 474.137 Q86.941 469.53 92.7512 469.53 Z\" fill=\"#000000\" fill-rule=\"evenodd\" fill-opacity=\"1\" /><path clip-path=\"url(#clip310)\" d=\"M57.6125 269.612 L73.9318 269.612 L73.9318 273.547 L51.9875 273.547 L51.9875 269.612 Q54.6495 266.857 59.2328 262.228 Q63.8393 257.575 65.0198 256.232 Q67.2652 253.709 68.1448 251.973 Q69.0476 250.214 69.0476 248.524 Q69.0476 245.769 67.1032 244.033 Q65.1819 242.297 62.08 242.297 Q59.881 242.297 57.4273 243.061 Q54.9967 243.825 52.219 245.376 L52.219 240.654 Q55.043 239.519 57.4967 238.941 Q59.9504 238.362 61.9874 238.362 Q67.3578 238.362 70.5522 241.047 Q73.7466 243.732 73.7466 248.223 Q73.7466 250.353 72.9365 252.274 Q72.1494 254.172 70.0429 256.765 Q69.4642 257.436 66.3624 260.654 Q63.2606 263.848 57.6125 269.612 Z\" fill=\"#000000\" fill-rule=\"evenodd\" fill-opacity=\"1\" /><path clip-path=\"url(#clip310)\" d=\"M83.7929 238.987 L102.149 238.987 L102.149 242.922 L88.0753 242.922 L88.0753 251.394 Q89.0938 251.047 90.1123 250.885 Q91.1308 250.7 92.1493 250.7 Q97.9363 250.7 101.316 253.871 Q104.696 257.042 104.696 262.459 Q104.696 268.038 101.223 271.14 Q97.7511 274.218 91.4317 274.218 Q89.2558 274.218 86.9873 273.848 Q84.7419 273.478 82.3346 272.737 L82.3346 268.038 Q84.4179 269.172 86.6401 269.728 Q88.8623 270.283 91.3391 270.283 Q95.3437 270.283 97.6817 268.177 Q100.02 266.07 100.02 262.459 Q100.02 258.848 97.6817 256.742 Q95.3437 254.635 91.3391 254.635 Q89.4641 254.635 87.5892 255.052 Q85.7373 255.468 83.7929 256.348 L83.7929 238.987 Z\" fill=\"#000000\" fill-rule=\"evenodd\" fill-opacity=\"1\" /><polyline clip-path=\"url(#clip312)\" style=\"stroke:#009af9; stroke-linecap:butt; stroke-linejoin:round; stroke-width:4; stroke-opacity:1; fill:none\" points=\"\n",
       "  207.475,87.9763 211.648,449.327 215.822,610.273 219.996,706.705 224.17,772.829 228.343,821.861 232.517,860.126 236.691,891.087 240.864,916.82 245.038,938.653 \n",
       "  249.212,957.484 253.385,973.944 257.559,988.488 261.733,1001.46 265.907,1013.12 270.08,1023.67 274.254,1033.27 278.428,1042.05 282.601,1050.12 286.775,1057.56 \n",
       "  290.949,1064.44 295.122,1070.83 299.296,1076.78 303.47,1082.33 307.643,1087.52 311.817,1092.38 315.991,1096.95 320.165,1101.24 324.338,1105.28 328.512,1109.1 \n",
       "  332.686,1112.7 336.859,1116.1 341.033,1119.32 345.207,1122.37 349.38,1125.26 353.554,1128.01 357.728,1130.61 361.902,1133.09 366.075,1135.45 370.249,1137.7 \n",
       "  374.423,1139.84 378.596,1141.88 382.77,1143.83 386.944,1145.69 391.117,1147.46 395.291,1149.17 399.465,1150.79 403.639,1152.36 407.812,1153.85 411.986,1155.29 \n",
       "  416.16,1156.67 420.333,1158 424.507,1159.28 428.681,1160.51 432.854,1161.7 437.028,1162.85 441.202,1163.97 445.376,1165.05 449.549,1166.09 453.723,1167.11 \n",
       "  457.897,1168.1 462.07,1169.07 466.244,1170.01 470.418,1170.94 474.591,1171.84 478.765,1172.73 482.939,1173.61 487.113,1174.47 491.286,1175.32 495.46,1176.16 \n",
       "  499.634,1177 503.807,1177.83 507.981,1178.66 512.155,1179.48 516.328,1180.31 520.502,1181.13 524.676,1181.95 528.85,1182.78 533.023,1183.61 537.197,1184.45 \n",
       "  541.371,1185.3 545.544,1186.15 549.718,1187.01 553.892,1187.88 558.065,1188.77 562.239,1189.66 566.413,1190.57 570.587,1191.49 574.76,1192.42 578.934,1193.37 \n",
       "  583.108,1194.34 587.281,1195.33 591.455,1196.33 595.629,1197.35 599.802,1198.38 603.976,1199.44 608.15,1200.52 612.324,1201.62 616.497,1202.74 620.671,1203.87 \n",
       "  624.845,1205.04 629.018,1206.22 633.192,1207.42 637.366,1208.65 641.539,1209.9 645.713,1211.18 649.887,1212.47 654.06,1213.79 658.234,1215.13 662.408,1216.5 \n",
       "  666.582,1217.89 670.755,1219.3 674.929,1220.74 679.103,1222.2 683.276,1223.68 687.45,1225.19 691.624,1226.72 695.797,1228.27 699.971,1229.84 704.145,1231.44 \n",
       "  708.319,1233.05 712.492,1234.69 716.666,1236.35 720.84,1238.03 725.013,1239.73 729.187,1241.45 733.361,1243.19 737.534,1244.95 741.708,1246.73 745.882,1248.53 \n",
       "  750.056,1250.34 754.229,1252.17 758.403,1254.02 762.577,1255.88 766.75,1257.75 770.924,1259.64 775.098,1261.55 779.271,1263.47 783.445,1265.39 787.619,1267.34 \n",
       "  791.793,1269.29 795.966,1271.25 800.14,1273.22 804.314,1275.19 808.487,1277.18 812.661,1279.17 816.835,1281.17 821.008,1283.17 825.182,1285.18 829.356,1287.19 \n",
       "  833.53,1289.2 837.703,1291.21 841.877,1293.23 846.051,1295.24 850.224,1297.25 854.398,1299.26 858.572,1301.27 862.745,1303.27 866.919,1305.27 871.093,1307.26 \n",
       "  875.267,1309.25 879.44,1311.22 883.614,1313.19 887.788,1315.15 891.961,1317.1 896.135,1319.04 900.309,1320.96 904.482,1322.88 908.656,1324.77 912.83,1326.66 \n",
       "  917.004,1328.52 921.177,1330.37 925.351,1332.21 929.525,1334.02 933.698,1335.82 937.872,1337.6 942.046,1339.35 946.219,1341.08 950.393,1342.8 954.567,1344.48 \n",
       "  958.741,1346.15 962.914,1347.79 967.088,1349.41 971.262,1351 975.435,1352.56 979.609,1354.09 983.783,1355.6 987.956,1357.08 992.13,1358.53 996.304,1359.96 \n",
       "  1000.48,1361.35 1004.65,1362.71 1008.82,1364.04 1013,1365.34 1017.17,1366.61 1021.35,1367.84 1025.52,1369.04 1029.69,1370.21 1033.87,1371.35 1038.04,1372.45 \n",
       "  1042.21,1373.52 1046.39,1374.56 1050.56,1375.56 1054.74,1376.52 1058.91,1377.45 1063.08,1378.35 1067.26,1379.21 1071.43,1380.03 1075.6,1380.82 1079.78,1381.58 \n",
       "  1083.95,1382.3 1088.13,1382.98 1092.3,1383.63 1096.47,1384.25 1100.65,1384.83 1104.82,1385.37 1108.99,1385.88 1113.17,1386.36 1117.34,1386.8 1121.51,1387.21 \n",
       "  1125.69,1387.58 1129.86,1387.92 1134.04,1388.23 1138.21,1388.5 1142.38,1388.74 1146.56,1388.95 1150.73,1389.13 1154.9,1389.28 1159.08,1389.39 1163.25,1389.48 \n",
       "  1167.43,1389.54 1171.6,1389.56 1175.77,1389.56 1179.95,1389.53 1184.12,1389.48 1188.29,1389.39 1192.47,1389.28 1196.64,1389.15 1200.82,1388.99 1204.99,1388.81 \n",
       "  1209.16,1388.6 1213.34,1388.37 1217.51,1388.12 1221.68,1387.85 1225.86,1387.55 1230.03,1387.24 1234.2,1386.91 1238.38,1386.56 1242.55,1386.2 1246.73,1385.82 \n",
       "  1250.9,1385.42 1255.07,1385.01 1259.25,1384.59 1263.42,1384.15 1267.59,1383.7 1271.77,1383.24 1275.94,1382.77 1280.12,1382.3 1284.29,1381.81 1288.46,1381.32 \n",
       "  1292.64,1380.82 1296.81,1380.31 1300.98,1379.8 1305.16,1379.29 1309.33,1378.78 1313.5,1378.26 1317.68,1377.74 1321.85,1377.23 1326.03,1376.71 1330.2,1376.2 \n",
       "  1334.37,1375.69 1338.55,1375.18 1342.72,1374.68 1346.89,1374.19 1351.07,1373.7 1355.24,1373.22 1359.42,1372.75 1363.59,1372.28 1367.76,1371.83 1371.94,1371.39 \n",
       "  1376.11,1370.96 1380.28,1370.54 1384.46,1370.13 1388.63,1369.74 1392.81,1369.36 1396.98,1369 1401.15,1368.66 1405.33,1368.33 1409.5,1368.02 1413.67,1367.72 \n",
       "  1417.85,1367.45 1422.02,1367.19 1426.19,1366.96 1430.37,1366.75 1434.54,1366.55 1438.72,1366.38 1442.89,1366.23 1447.06,1366.11 1451.24,1366 1455.41,1365.92 \n",
       "  1459.58,1365.86 1463.76,1365.83 1467.93,1365.82 1472.11,1365.84 1476.28,1365.88 1480.45,1365.95 1484.63,1366.05 1488.8,1366.17 1492.97,1366.31 1497.15,1366.48 \n",
       "  1501.32,1366.68 1505.5,1366.91 1509.67,1367.16 1513.84,1367.44 1518.02,1367.74 1522.19,1368.07 1526.36,1368.43 1530.54,1368.81 1534.71,1369.23 1538.88,1369.66 \n",
       "  1543.06,1370.13 1547.23,1370.62 1551.41,1371.13 1555.58,1371.67 1559.75,1372.24 1563.93,1372.83 1568.1,1373.45 1572.27,1374.09 1576.45,1374.76 1580.62,1375.45 \n",
       "  1584.8,1376.16 1588.97,1376.89 1593.14,1377.65 1597.32,1378.43 1601.49,1379.23 1605.66,1380.06 1609.84,1380.9 1614.01,1381.76 1618.18,1382.64 1622.36,1383.54 \n",
       "  1626.53,1384.46 1630.71,1385.4 1634.88,1386.35 1639.05,1387.32 1643.23,1388.3 1647.4,1389.3 1651.57,1390.31 1655.75,1391.34 1659.92,1392.38 1664.1,1393.43 \n",
       "  1668.27,1394.49 1672.44,1395.56 1676.62,1396.64 1680.79,1397.72 1684.96,1398.82 1689.14,1399.92 1693.31,1401.03 1697.49,1402.14 1701.66,1403.25 1705.83,1404.37 \n",
       "  1710.01,1405.49 1714.18,1406.61 1718.35,1407.74 1722.53,1408.86 1726.7,1409.98 1730.87,1411.1 1735.05,1412.21 1739.22,1413.32 1743.4,1414.43 1747.57,1415.52 \n",
       "  1751.74,1416.62 1755.92,1417.7 1760.09,1418.78 1764.26,1419.84 1768.44,1420.9 1772.61,1421.94 1776.79,1422.97 1780.96,1423.99 1785.13,1424.99 1789.31,1425.98 \n",
       "  1793.48,1426.95 1797.65,1427.91 1801.83,1428.85 1806,1429.77 1810.18,1430.67 1814.35,1431.55 1818.52,1432.42 1822.7,1433.26 1826.87,1434.07 1831.04,1434.87 \n",
       "  1835.22,1435.64 1839.39,1436.39 1843.56,1437.11 1847.74,1437.81 1851.91,1438.48 1856.09,1439.13 1860.26,1439.74 1864.43,1440.33 1868.61,1440.9 1872.78,1441.43 \n",
       "  1876.95,1441.93 1881.13,1442.41 1885.3,1442.85 1889.48,1443.26 1893.65,1443.64 1897.82,1443.99 1902,1444.31 1906.17,1444.6 1910.34,1444.85 1914.52,1445.08 \n",
       "  1918.69,1445.27 1922.86,1445.42 1927.04,1445.55 1931.21,1445.64 1935.39,1445.69 1939.56,1445.72 1943.73,1445.71 1947.91,1445.66 1952.08,1445.58 1956.25,1445.47 \n",
       "  1960.43,1445.33 1964.6,1445.15 1968.78,1444.94 1972.95,1444.69 1977.12,1444.42 1981.3,1444.1 1985.47,1443.76 1989.64,1443.39 1993.82,1442.98 1997.99,1442.54 \n",
       "  2002.17,1442.07 2006.34,1441.56 2010.51,1441.03 2014.69,1440.47 2018.86,1439.88 2023.03,1439.25 2027.21,1438.6 2031.38,1437.92 2035.55,1437.21 2039.73,1436.48 \n",
       "  2043.9,1435.71 2048.08,1434.93 2052.25,1434.11 2056.42,1433.27 2060.6,1432.41 2064.77,1431.52 2068.94,1430.61 2073.12,1429.68 2077.29,1428.73 2081.47,1427.75 \n",
       "  2085.64,1426.76 2089.81,1425.75 2093.99,1424.72 2098.16,1423.67 2102.33,1422.6 2106.51,1421.52 2110.68,1420.43 2114.86,1419.32 2119.03,1418.19 2123.2,1417.06 \n",
       "  2127.38,1415.91 2131.55,1414.76 2135.72,1413.59 2139.9,1412.42 2144.07,1411.23 2148.24,1410.05 2152.42,1408.85 2156.59,1407.65 2160.77,1406.45 2164.94,1405.24 \n",
       "  2169.11,1404.04 2173.29,1402.83 2177.46,1401.62 2181.63,1400.42 2185.81,1399.21 2189.98,1398.01 2194.16,1396.82 2198.33,1395.62 2202.5,1394.44 2206.68,1393.26 \n",
       "  2210.85,1392.09 2215.02,1390.93 2219.2,1389.77 2223.37,1388.63 2227.54,1387.5 2231.72,1386.38 2235.89,1385.28 2240.07,1384.19 2244.24,1383.12 2248.41,1382.06 \n",
       "  2252.59,1381.01 2256.76,1379.99 2260.93,1378.98 2265.11,1378 2269.28,1377.03 2273.46,1376.08 2277.63,1375.16 2281.8,1374.26 2285.98,1373.38 2290.15,1372.52 \n",
       "  \n",
       "  \"/>\n",
       "<path clip-path=\"url(#clip310)\" d=\"\n",
       "M1980.81 198.898 L2279.02 198.898 L2279.02 95.2176 L1980.81 95.2176  Z\n",
       "  \" fill=\"#ffffff\" fill-rule=\"evenodd\" fill-opacity=\"1\"/>\n",
       "<polyline clip-path=\"url(#clip310)\" style=\"stroke:#000000; stroke-linecap:butt; stroke-linejoin:round; stroke-width:4; stroke-opacity:1; fill:none\" points=\"\n",
       "  1980.81,198.898 2279.02,198.898 2279.02,95.2176 1980.81,95.2176 1980.81,198.898 \n",
       "  \"/>\n",
       "<polyline clip-path=\"url(#clip310)\" style=\"stroke:#009af9; stroke-linecap:butt; stroke-linejoin:round; stroke-width:4; stroke-opacity:1; fill:none\" points=\"\n",
       "  2005.38,147.058 2152.85,147.058 \n",
       "  \"/>\n",
       "<path clip-path=\"url(#clip310)\" d=\"M2191.28 166.745 Q2189.47 171.375 2187.76 172.787 Q2186.04 174.199 2183.17 174.199 L2179.77 174.199 L2179.77 170.634 L2182.27 170.634 Q2184.03 170.634 2185 169.8 Q2185.98 168.967 2187.16 165.865 L2187.92 163.921 L2177.43 138.412 L2181.95 138.412 L2190.05 158.689 L2198.15 138.412 L2202.66 138.412 L2191.28 166.745 Z\" fill=\"#000000\" fill-rule=\"evenodd\" fill-opacity=\"1\" /><path clip-path=\"url(#clip310)\" d=\"M2209.96 160.402 L2217.6 160.402 L2217.6 134.037 L2209.29 135.703 L2209.29 131.444 L2217.55 129.778 L2222.22 129.778 L2222.22 160.402 L2229.86 160.402 L2229.86 164.338 L2209.96 164.338 L2209.96 160.402 Z\" fill=\"#000000\" fill-rule=\"evenodd\" fill-opacity=\"1\" /></svg>\n"
      ]
     },
     "execution_count": 147,
     "metadata": {},
     "output_type": "execute_result"
    }
   ],
   "source": [
    "plot(x,fdf)"
   ]
  },
  {
   "cell_type": "markdown",
   "id": "af88e258-219e-42e0-b727-27fd99dfdaf8",
   "metadata": {},
   "source": [
    "Here is an example of a counter function that returns (a tuple of) two anonymous\n",
    "functions:"
   ]
  },
  {
   "cell_type": "code",
   "execution_count": 149,
   "id": "4f84883e-eaed-48d5-a92b-fd031e6beac3",
   "metadata": {},
   "outputs": [
    {
     "data": {
      "text/plain": [
       "counter (generic function with 1 method)"
      ]
     },
     "execution_count": 149,
     "metadata": {},
     "output_type": "execute_result"
    }
   ],
   "source": [
    "function counter()\n",
    "    n = 0\n",
    "    return ()-> n +=1, ()->n = 0\n",
    "end\n"
   ]
  },
  {
   "cell_type": "code",
   "execution_count": 150,
   "id": "88961870-b216-4ca3-89a6-9478c3c804d8",
   "metadata": {},
   "outputs": [
    {
     "data": {
      "text/plain": [
       "(var\"#3#5\"(Core.Box(0)), var\"#4#6\"(Core.Box(0)))"
      ]
     },
     "execution_count": 150,
     "metadata": {},
     "output_type": "execute_result"
    }
   ],
   "source": [
    "add, reset = counter()"
   ]
  },
  {
   "cell_type": "code",
   "execution_count": 157,
   "id": "0b2411bf-269d-4241-9bca-60ecf596d7bb",
   "metadata": {},
   "outputs": [
    {
     "data": {
      "text/plain": [
       "5"
      ]
     },
     "execution_count": 157,
     "metadata": {},
     "output_type": "execute_result"
    }
   ],
   "source": [
    "add()"
   ]
  },
  {
   "cell_type": "code",
   "execution_count": 158,
   "id": "6665789e-ea1d-4960-9d18-882c4386a766",
   "metadata": {},
   "outputs": [
    {
     "data": {
      "text/plain": [
       "0"
      ]
     },
     "execution_count": 158,
     "metadata": {},
     "output_type": "execute_result"
    }
   ],
   "source": [
    "reset()"
   ]
  },
  {
   "cell_type": "code",
   "execution_count": 159,
   "id": "1fd85438-6bcb-4bd4-bb38-957050f038e4",
   "metadata": {},
   "outputs": [
    {
     "data": {
      "text/plain": [
       "1"
      ]
     },
     "execution_count": 159,
     "metadata": {},
     "output_type": "execute_result"
    }
   ],
   "source": [
    "add()"
   ]
  },
  {
   "cell_type": "markdown",
   "id": "8a740659-7a60-430e-bd09-ea8ef39a2b32",
   "metadata": {},
   "source": [
    "What we see is that, in the counter function, the variable n is captured in the anonymous\n",
    "functions. It can only be manipulated by the functions, addOne and reset. The two\n",
    "functions are said to be closed over the variable n and both have references to n. That's why\n",
    "they are called closures."
   ]
  },
  {
   "cell_type": "markdown",
   "id": "08218684-20fd-48f9-a262-afa4b70f0b1c",
   "metadata": {},
   "source": [
    "Currying (also called a partial application) is the technique of translating the evaluation of\n",
    "a function that takes multiple arguments (or a tuple of arguments) into evaluating a\n",
    "sequence of functions, each with a single argument. Here is an example of function"
   ]
  },
  {
   "cell_type": "code",
   "execution_count": 169,
   "id": "7679e834-92f1-415c-a7f8-96a66243d5cf",
   "metadata": {},
   "outputs": [
    {
     "ename": "LoadError",
     "evalue": "UndefVarError: clear! not defined",
     "output_type": "error",
     "traceback": [
      "UndefVarError: clear! not defined",
      "",
      "Stacktrace:",
      " [1] top-level scope",
      "   @ In[169]:1",
      " [2] eval",
      "   @ ./boot.jl:373 [inlined]",
      " [3] include_string(mapexpr::typeof(REPL.softscope), mod::Module, code::String, filename::String)",
      "   @ Base ./loading.jl:1196"
     ]
    }
   ],
   "source": []
  },
  {
   "cell_type": "code",
   "execution_count": 170,
   "id": "a8b2979c-7173-4d9b-bc8d-2b0276ace1af",
   "metadata": {},
   "outputs": [
    {
     "data": {
      "text/plain": [
       "add_x (generic function with 1 method)"
      ]
     },
     "execution_count": 170,
     "metadata": {},
     "output_type": "execute_result"
    }
   ],
   "source": [
    "function add_x(x)\n",
    "    return function f(y)\n",
    "        return x + y\n",
    "    end\n",
    "end"
   ]
  },
  {
   "cell_type": "code",
   "execution_count": 171,
   "id": "102a14d1-c9f4-4ae2-9b7d-4c518eafa1f5",
   "metadata": {},
   "outputs": [
    {
     "data": {
      "text/plain": [
       "(::var\"#f#9\"{Int64}) (generic function with 1 method)"
      ]
     },
     "execution_count": 171,
     "metadata": {},
     "output_type": "execute_result"
    }
   ],
   "source": [
    "add_2 = add_x(2)"
   ]
  },
  {
   "cell_type": "code",
   "execution_count": 172,
   "id": "9df28de3-f7bc-40e9-b00b-dc278cc56760",
   "metadata": {},
   "outputs": [
    {
     "data": {
      "text/plain": [
       "100"
      ]
     },
     "execution_count": 172,
     "metadata": {},
     "output_type": "execute_result"
    }
   ],
   "source": [
    "add_2(98)"
   ]
  },
  {
   "cell_type": "code",
   "execution_count": 174,
   "id": "09a4a9b4-92c6-4af8-a084-74fa8c73d3df",
   "metadata": {},
   "outputs": [
    {
     "data": {
      "text/plain": [
       "3"
      ]
     },
     "execution_count": 174,
     "metadata": {},
     "output_type": "execute_result"
    }
   ],
   "source": [
    "add_x(1)(2)"
   ]
  },
  {
   "cell_type": "markdown",
   "id": "15e8b0fc-d443-401e-8fee-7eb512ebaff9",
   "metadata": {},
   "source": [
    "This example can be written more\n",
    "succinctly as add(x) = f(y) = x + y"
   ]
  },
  {
   "cell_type": "code",
   "execution_count": 177,
   "id": "443e86af-9db8-4a02-ae33-d9c231e5c114",
   "metadata": {},
   "outputs": [
    {
     "data": {
      "text/plain": [
       "add_x (generic function with 1 method)"
      ]
     },
     "execution_count": 177,
     "metadata": {},
     "output_type": "execute_result"
    }
   ],
   "source": [
    "add_x(x) = f(y) = x + y"
   ]
  },
  {
   "cell_type": "code",
   "execution_count": 179,
   "id": "f72859f0-132f-44f5-8561-91708d500f17",
   "metadata": {},
   "outputs": [
    {
     "data": {
      "text/plain": [
       "5"
      ]
     },
     "execution_count": 179,
     "metadata": {},
     "output_type": "execute_result"
    }
   ],
   "source": [
    "add_x(2)(3)"
   ]
  },
  {
   "cell_type": "markdown",
   "id": "509c8762-0cf0-4040-b268-18e17c448d40",
   "metadata": {},
   "source": [
    "# Nested Functions "
   ]
  },
  {
   "cell_type": "code",
   "execution_count": 180,
   "id": "74b6e5d1-1054-4cc2-9559-a24cd7b69f15",
   "metadata": {},
   "outputs": [
    {
     "data": {
      "text/plain": [
       "a (generic function with 1 method)"
      ]
     },
     "execution_count": 180,
     "metadata": {},
     "output_type": "execute_result"
    }
   ],
   "source": [
    "function a(x)\n",
    "    z = x * 2\n",
    "    function b(z)\n",
    "        z += 1\n",
    "    end\n",
    "    b(z)\n",
    "end\n"
   ]
  },
  {
   "cell_type": "code",
   "execution_count": 182,
   "id": "72314d14-0ef3-4f65-9f27-ccb3f92deb8d",
   "metadata": {},
   "outputs": [
    {
     "data": {
      "text/plain": [
       "11"
      ]
     },
     "execution_count": 182,
     "metadata": {},
     "output_type": "execute_result"
    }
   ],
   "source": [
    "a(5)"
   ]
  },
  {
   "cell_type": "markdown",
   "id": "478ce13c-9b8a-44ea-9d0b-06c44baa08bf",
   "metadata": {},
   "source": [
    "A function can also be recursive, that is, it can call itself. To show some examples, we need\n",
    "to be able to test a condition in code."
   ]
  },
  {
   "cell_type": "markdown",
   "id": "56804e03-38d4-4c37-8347-64f80073f26d",
   "metadata": {},
   "source": [
    "The simplest way to do this in Julia is to use the\n",
    "ternary operator ? of the form expr ? b : c (ternary because it takes three arguments).\n",
    "Julia also has a normal if construct."
   ]
  },
  {
   "cell_type": "code",
   "execution_count": 189,
   "id": "fcf0d7c4-cb10-4c17-872a-fc803467ba2d",
   "metadata": {},
   "outputs": [
    {
     "data": {
      "text/plain": [
       "sum (generic function with 1 method)"
      ]
     },
     "execution_count": 189,
     "metadata": {},
     "output_type": "execute_result"
    }
   ],
   "source": [
    "sum(n) = n > 1 ? sum(n-1) + n : n"
   ]
  },
  {
   "cell_type": "code",
   "execution_count": 190,
   "id": "865ec995-2e19-4ccf-9faf-8fccff9d0186",
   "metadata": {},
   "outputs": [
    {
     "data": {
      "text/plain": [
       "45"
      ]
     },
     "execution_count": 190,
     "metadata": {},
     "output_type": "execute_result"
    }
   ],
   "source": [
    "sum(9)"
   ]
  },
  {
   "cell_type": "code",
   "execution_count": 191,
   "id": "f0a10979-b4a4-4bc0-a285-4777e187a129",
   "metadata": {},
   "outputs": [
    {
     "data": {
      "text/plain": [
       "fib (generic function with 1 method)"
      ]
     },
     "execution_count": 191,
     "metadata": {},
     "output_type": "execute_result"
    }
   ],
   "source": [
    "fib(n) = n > 1 ? fib(n-1) * n : n"
   ]
  },
  {
   "cell_type": "code",
   "execution_count": 196,
   "id": "6b1de851-37c4-440b-9607-02e4803eafc5",
   "metadata": {},
   "outputs": [
    {
     "data": {
      "text/plain": [
       "fib (generic function with 1 method)"
      ]
     },
     "execution_count": 196,
     "metadata": {},
     "output_type": "execute_result"
    }
   ],
   "source": [
    "fib(n) = n < 3 ? n : fib(n-1) + fib(n-2) + fib(n-3)"
   ]
  },
  {
   "cell_type": "code",
   "execution_count": 198,
   "id": "cd3685ed-7732-4486-8ec2-61440bba6d5c",
   "metadata": {},
   "outputs": [
    {
     "data": {
      "text/plain": [
       "230"
      ]
     },
     "execution_count": 198,
     "metadata": {},
     "output_type": "execute_result"
    }
   ],
   "source": [
    "fib(10)"
   ]
  },
  {
   "cell_type": "markdown",
   "id": "705a7e91-fc5a-4da0-9fff-6104521c0003",
   "metadata": {},
   "source": [
    "# Broadcasting"
   ]
  },
  {
   "cell_type": "markdown",
   "id": "b5b4fce3-fc6e-4b7d-94cf-91b4f60a14b6",
   "metadata": {},
   "source": [
    "A function f can be broadcast over all elements of an array (or matrix) by using the dot\n",
    "notation f.(matrix"
   ]
  },
  {
   "cell_type": "code",
   "execution_count": 200,
   "id": "c58be435-b2da-4ee8-a447-31b67929fe30",
   "metadata": {},
   "outputs": [],
   "source": [
    "arr = collect(1:10);"
   ]
  },
  {
   "cell_type": "code",
   "execution_count": 201,
   "id": "34b6d9e7-37ee-4a85-b086-d27879ee43cb",
   "metadata": {},
   "outputs": [
    {
     "ename": "LoadError",
     "evalue": "MethodError: no method matching sin(::Vector{Int64})\n\u001b[0mClosest candidates are:\n\u001b[0m  sin(\u001b[91m::T\u001b[39m) where T<:Union{Float32, Float64} at /usr/share/julia/base/special/trig.jl:29\n\u001b[0m  sin(\u001b[91m::LinearAlgebra.Hermitian{var\"#s858\", S} where {var\"#s858\"<:Complex, S<:(AbstractMatrix{<:var\"#s858\"})}\u001b[39m) at /usr/share/julia/stdlib/v1.7/LinearAlgebra/src/symmetric.jl:761\n\u001b[0m  sin(\u001b[91m::Union{LinearAlgebra.Hermitian{var\"#s859\", S}, LinearAlgebra.Symmetric{var\"#s859\", S}} where {var\"#s859\"<:Real, S}\u001b[39m) at /usr/share/julia/stdlib/v1.7/LinearAlgebra/src/symmetric.jl:757\n\u001b[0m  ...",
     "output_type": "error",
     "traceback": [
      "MethodError: no method matching sin(::Vector{Int64})\n\u001b[0mClosest candidates are:\n\u001b[0m  sin(\u001b[91m::T\u001b[39m) where T<:Union{Float32, Float64} at /usr/share/julia/base/special/trig.jl:29\n\u001b[0m  sin(\u001b[91m::LinearAlgebra.Hermitian{var\"#s858\", S} where {var\"#s858\"<:Complex, S<:(AbstractMatrix{<:var\"#s858\"})}\u001b[39m) at /usr/share/julia/stdlib/v1.7/LinearAlgebra/src/symmetric.jl:761\n\u001b[0m  sin(\u001b[91m::Union{LinearAlgebra.Hermitian{var\"#s859\", S}, LinearAlgebra.Symmetric{var\"#s859\", S}} where {var\"#s859\"<:Real, S}\u001b[39m) at /usr/share/julia/stdlib/v1.7/LinearAlgebra/src/symmetric.jl:757\n\u001b[0m  ...",
      "",
      "Stacktrace:",
      " [1] top-level scope",
      "   @ In[201]:1",
      " [2] eval",
      "   @ ./boot.jl:373 [inlined]",
      " [3] include_string(mapexpr::typeof(REPL.softscope), mod::Module, code::String, filename::String)",
      "   @ Base ./loading.jl:1196"
     ]
    }
   ],
   "source": [
    "sin(arr)"
   ]
  },
  {
   "cell_type": "code",
   "execution_count": 202,
   "id": "5c64b65b-87d7-40a2-a231-3afceacd5b1c",
   "metadata": {},
   "outputs": [
    {
     "data": {
      "text/plain": [
       "10-element Vector{Float64}:\n",
       "  0.8414709848078965\n",
       "  0.9092974268256817\n",
       "  0.1411200080598672\n",
       " -0.7568024953079282\n",
       " -0.9589242746631385\n",
       " -0.27941549819892586\n",
       "  0.6569865987187891\n",
       "  0.9893582466233818\n",
       "  0.4121184852417566\n",
       " -0.5440211108893698"
      ]
     },
     "execution_count": 202,
     "metadata": {},
     "output_type": "execute_result"
    }
   ],
   "source": [
    "sin.(arr)"
   ]
  },
  {
   "cell_type": "code",
   "execution_count": 203,
   "id": "2af51b51-4b06-4f43-a749-719c7dfaa2f1",
   "metadata": {},
   "outputs": [
    {
     "data": {
      "text/plain": [
       "f (generic function with 2 methods)"
      ]
     },
     "execution_count": 203,
     "metadata": {},
     "output_type": "execute_result"
    }
   ],
   "source": [
    "f(x,y,z) = x ^ 3 + y * x -z"
   ]
  },
  {
   "cell_type": "code",
   "execution_count": 205,
   "id": "116f75ea-3363-4489-87f4-9d45d3c2b01a",
   "metadata": {},
   "outputs": [
    {
     "data": {
      "text/plain": [
       "10-element Vector{Int64}:\n",
       "    1\n",
       "   10\n",
       "   33\n",
       "   76\n",
       "  145\n",
       "  246\n",
       "  385\n",
       "  568\n",
       "  801\n",
       " 1090"
      ]
     },
     "execution_count": 205,
     "metadata": {},
     "output_type": "execute_result"
    }
   ],
   "source": [
    "f.(arr,arr,arr)"
   ]
  },
  {
   "cell_type": "markdown",
   "id": "5008eb60-3d57-4672-80ac-1513e3cbdb19",
   "metadata": {},
   "source": [
    "# Map, filter, and list comprehensions "
   ]
  },
  {
   "cell_type": "markdown",
   "id": "0a673d9f-5e0e-4c3d-a6af-0875c3ddac7d",
   "metadata": {},
   "source": [
    "Maps and filters are typical for functional languages. A map is a function of the form\n",
    "map(func, coll), where func is a (often anonymous) function that is successively\n",
    "applied to every element of the coll collection, so map returns a new collection"
   ]
  },
  {
   "cell_type": "code",
   "execution_count": 208,
   "id": "e436c01b-438c-4ccb-b7e0-e6333415cf71",
   "metadata": {},
   "outputs": [
    {
     "name": "stdout",
     "output_type": "stream",
     "text": [
      "[1, 2, 3, 4, 5, 6, 7, 8, 9, 10]"
     ]
    }
   ],
   "source": [
    "show(arr)"
   ]
  },
  {
   "cell_type": "code",
   "execution_count": 212,
   "id": "49aff0d0-12ac-4b3f-9745-ff09976f4c6e",
   "metadata": {},
   "outputs": [
    {
     "data": {
      "text/plain": [
       "10-element Vector{Float64}:\n",
       "  0.8414709848078965\n",
       "  0.9092974268256817\n",
       "  0.1411200080598672\n",
       " -0.7568024953079282\n",
       " -0.9589242746631385\n",
       " -0.27941549819892586\n",
       "  0.6569865987187891\n",
       "  0.9893582466233818\n",
       "  0.4121184852417566\n",
       " -0.5440211108893698"
      ]
     },
     "execution_count": 212,
     "metadata": {},
     "output_type": "execute_result"
    }
   ],
   "source": [
    "d = map(sin,arr)"
   ]
  },
  {
   "cell_type": "code",
   "execution_count": 214,
   "id": "ccda428f-0000-4f3f-8146-e7aad4b85919",
   "metadata": {},
   "outputs": [
    {
     "data": {
      "text/plain": [
       "10-element Vector{Float64}:\n",
       "  0.8414709848078965\n",
       "  0.9092974268256817\n",
       "  0.1411200080598672\n",
       " -0.7568024953079282\n",
       " -0.9589242746631385\n",
       " -0.27941549819892586\n",
       "  0.6569865987187891\n",
       "  0.9893582466233818\n",
       "  0.4121184852417566\n",
       " -0.5440211108893698"
      ]
     },
     "execution_count": 214,
     "metadata": {},
     "output_type": "execute_result"
    }
   ],
   "source": [
    "d = map((x)->sin(x),arr)"
   ]
  },
  {
   "cell_type": "markdown",
   "id": "1b414f99-9ff0-4adb-a91f-64ddcd42baa0",
   "metadata": {},
   "source": [
    "The map function can also be used with functions that take more than one argument. In this\n",
    "case, it requires a collection for each argument; for example, map(*, [1, 2, 3], [4, 5,\n",
    "6]) works per element and returns [4, 10, 18]."
   ]
  },
  {
   "cell_type": "code",
   "execution_count": 215,
   "id": "5b695ffc-3ba8-4a47-86be-772a969732bd",
   "metadata": {},
   "outputs": [
    {
     "data": {
      "text/plain": [
       "3-element Vector{Int64}:\n",
       "  2\n",
       "  6\n",
       " 12"
      ]
     },
     "execution_count": 215,
     "metadata": {},
     "output_type": "execute_result"
    }
   ],
   "source": [
    "map(*, [1, 2, 3,], [2, 3, 4])"
   ]
  },
  {
   "cell_type": "markdown",
   "id": "b11c72fa-5165-4933-9119-d05221cda14e",
   "metadata": {},
   "source": [
    "When the function passed to map requires several lines, it can be a bit unwieldy to write as\n",
    "an anonymous function. For instance, consider using the following function:"
   ]
  },
  {
   "cell_type": "code",
   "execution_count": 219,
   "id": "f61738d8-2c35-4c1c-b31f-e8336e38ca22",
   "metadata": {},
   "outputs": [
    {
     "data": {
      "text/plain": [
       "7-element Vector{Int64}:\n",
       " 1\n",
       " 2\n",
       " 1\n",
       " 0\n",
       " 1\n",
       " 2\n",
       " 1"
      ]
     },
     "execution_count": 219,
     "metadata": {},
     "output_type": "execute_result"
    }
   ],
   "source": [
    "map(x-> begin\n",
    "        if x == 0 return 0\n",
    "            elseif iseven(x) return 2\n",
    "            elseif isodd(x) return 1\n",
    "        end\n",
    "    end\n",
    ",collect(-3:3))\n"
   ]
  },
  {
   "cell_type": "markdown",
   "id": "53565004-aa62-4673-a893-0ea9deea990e",
   "metadata": {},
   "source": [
    "This can be simplified with a do block as follows:"
   ]
  },
  {
   "cell_type": "code",
   "execution_count": 221,
   "id": "ebc65403-8561-4f1c-a23f-3332a6bffc8e",
   "metadata": {},
   "outputs": [
    {
     "data": {
      "text/plain": [
       "7-element Vector{Int64}:\n",
       " 1\n",
       " 2\n",
       " 1\n",
       " 0\n",
       " 1\n",
       " 2\n",
       " 1"
      ]
     },
     "execution_count": 221,
     "metadata": {},
     "output_type": "execute_result"
    }
   ],
   "source": [
    "map(collect(-3:3)) do x\n",
    "    if x == 0 return 0\n",
    "    elseif iseven(x) return 2\n",
    "    elseif isodd(x) return 1\n",
    "    end\n",
    "end\n",
    "    "
   ]
  },
  {
   "cell_type": "markdown",
   "id": "42d13789-7a91-4b4e-a33b-eb046e8210b8",
   "metadata": {},
   "source": [
    "The do x statement creates an anonymous function with the argument x and passes it as\n",
    "the first argument to map."
   ]
  },
  {
   "cell_type": "markdown",
   "id": "fc87e073-36e6-48ed-a1c4-bbe231a07208",
   "metadata": {},
   "source": [
    "A filter is a function of the form filter(func, coll), where func is a (often\n",
    "anonymous) Boolean function that is checked on each element of the collection coll. Filter\n",
    "returns a new collection with only the elements on which func is evaluated to be true. For\n",
    "example, the following code filters the even numbers and returns [2, 4, 6, 8, 10]:"
   ]
  },
  {
   "cell_type": "code",
   "execution_count": 231,
   "id": "af4990be-3a96-4766-b397-5a582d5da9fa",
   "metadata": {},
   "outputs": [
    {
     "data": {
      "text/plain": [
       "2-element Vector{Int64}:\n",
       " 0\n",
       " 3"
      ]
     },
     "execution_count": 231,
     "metadata": {},
     "output_type": "execute_result"
    }
   ],
   "source": [
    "filter(x -> rand(Bool),collect(-3:3))"
   ]
  },
  {
   "cell_type": "markdown",
   "id": "237381ca-380c-4ac4-b4c7-1d59fd38ff64",
   "metadata": {},
   "source": [
    "An incredibly powerful and simple way to create an array is to use a list comprehension.\n",
    "This is a kind of implicit loop which creates the result array and fills it with values. Some\n",
    "examples are as follows:"
   ]
  },
  {
   "cell_type": "code",
   "execution_count": 232,
   "id": "b6cf2ef7-d9a4-4f25-a3b4-e804cce86a90",
   "metadata": {},
   "outputs": [
    {
     "data": {
      "text/plain": [
       "7-element Vector{Float64}:\n",
       " -27.0\n",
       "  -8.0\n",
       "  -1.0\n",
       "   0.0\n",
       "   1.0\n",
       "   8.0\n",
       "  27.0"
      ]
     },
     "execution_count": 232,
     "metadata": {},
     "output_type": "execute_result"
    }
   ],
   "source": [
    "arr = Float64[x ^ 3 for x in -3:3]"
   ]
  },
  {
   "cell_type": "code",
   "execution_count": 233,
   "id": "f4f1391b-51a3-43d1-a9e3-d1e27fa87081",
   "metadata": {},
   "outputs": [
    {
     "data": {
      "text/plain": [
       "7-element Vector{Float64}:\n",
       " -27.0\n",
       "  -8.0\n",
       "  -1.0\n",
       "   0.0\n",
       "   1.0\n",
       "   8.0\n",
       "  27.0"
      ]
     },
     "execution_count": 233,
     "metadata": {},
     "output_type": "execute_result"
    }
   ],
   "source": [
    "cubes = Float64[x ^ 3 for x in collect(-3:3)]"
   ]
  },
  {
   "cell_type": "code",
   "execution_count": 234,
   "id": "6df04ac6-33be-4daf-a788-c6aa364c0183",
   "metadata": {},
   "outputs": [
    {
     "data": {
      "text/plain": [
       "11×11×11 Array{Float64, 3}:\n",
       "[:, :, 1] =\n",
       "  5.83095   5.0       4.24264   3.60555  …   4.24264   5.0       5.83095\n",
       "  5.91608   5.09902   4.3589    3.74166      4.3589    5.09902   5.91608\n",
       "  6.16441   5.38516   4.69042   4.12311      4.69042   5.38516   6.16441\n",
       "  6.55744   5.83095   5.19615   4.69042      5.19615   5.83095   6.55744\n",
       "  7.07107   6.40312   5.83095   5.38516      5.83095   6.40312   7.07107\n",
       "  7.68115   7.07107   6.55744   6.16441  …   6.55744   7.07107   7.68115\n",
       "  8.3666    7.81025   7.34847   7.0          7.34847   7.81025   8.3666\n",
       "  9.11043   8.60233   8.18535   7.87401      8.18535   8.60233   9.11043\n",
       "  9.89949   9.43398   9.05539   8.77496      9.05539   9.43398   9.89949\n",
       " 10.7238   10.2956    9.94987   9.69536      9.94987  10.2956   10.7238\n",
       " 11.5758   11.1803   10.8628   10.6301   …  10.8628   11.1803   11.5758\n",
       "\n",
       "[:, :, 2] =\n",
       "  6.40312   5.65685   5.0       4.47214  …   5.0       5.65685   6.40312\n",
       "  6.48074   5.74456   5.09902   4.58258      5.09902   5.74456   6.48074\n",
       "  6.7082    6.0       5.38516   4.89898      5.38516   6.0       6.7082\n",
       "  7.07107   6.40312   5.83095   5.38516      5.83095   6.40312   7.07107\n",
       "  7.54983   6.9282    6.40312   6.0          6.40312   6.9282    7.54983\n",
       "  8.12404   7.54983   7.07107   6.7082   …   7.07107   7.54983   8.12404\n",
       "  8.77496   8.24621   7.81025   7.48331      7.81025   8.24621   8.77496\n",
       "  9.48683   9.0       8.60233   8.30662      8.60233   9.0       9.48683\n",
       " 10.247     9.79796   9.43398   9.16515      9.43398   9.79796  10.247\n",
       " 11.0454   10.6301   10.2956   10.0499      10.2956   10.6301   11.0454\n",
       " 11.8743   11.4891   11.1803   10.9545   …  11.1803   11.4891   11.8743\n",
       "\n",
       "[:, :, 3] =\n",
       "  7.07107   6.40312   5.83095   5.38516  …   5.83095   6.40312   7.07107\n",
       "  7.14143   6.48074   5.91608   5.47723      5.91608   6.48074   7.14143\n",
       "  7.34847   6.7082    6.16441   5.74456      6.16441   6.7082    7.34847\n",
       "  7.68115   7.07107   6.55744   6.16441      6.55744   7.07107   7.68115\n",
       "  8.12404   7.54983   7.07107   6.7082       7.07107   7.54983   8.12404\n",
       "  8.66025   8.12404   7.68115   7.34847  …   7.68115   8.12404   8.66025\n",
       "  9.27362   8.77496   8.3666    8.06226      8.3666    8.77496   9.27362\n",
       "  9.94987   9.48683   9.11043   8.83176      9.11043   9.48683   9.94987\n",
       " 10.6771   10.247     9.89949   9.64365      9.89949  10.247    10.6771\n",
       " 11.4455   11.0454   10.7238   10.4881      10.7238   11.0454   11.4455\n",
       " 12.2474   11.8743   11.5758   11.3578   …  11.5758   11.8743   12.2474\n",
       "\n",
       ";;; … \n",
       "\n",
       "[:, :, 9] =\n",
       " 12.083   11.7047  11.4018  11.1803  …  11.1803  11.4018  11.7047  12.083\n",
       " 12.1244  11.7473  11.4455  11.225      11.225   11.4455  11.7473  12.1244\n",
       " 12.2474  11.8743  11.5758  11.3578     11.3578  11.5758  11.8743  12.2474\n",
       " 12.4499  12.083   11.7898  11.5758     11.5758  11.7898  12.083   12.4499\n",
       " 12.7279  12.3693  12.083   11.8743     11.8743  12.083   12.3693  12.7279\n",
       " 13.0767  12.7279  12.4499  12.2474  …  12.2474  12.4499  12.7279  13.0767\n",
       " 13.4907  13.1529  12.8841  12.6886     12.6886  12.8841  13.1529  13.4907\n",
       " 13.9642  13.6382  13.3791  13.1909     13.1909  13.3791  13.6382  13.9642\n",
       " 14.4914  14.1774  13.9284  13.7477     13.7477  13.9284  14.1774  14.4914\n",
       " 15.0665  14.7648  14.5258  14.3527     14.3527  14.5258  14.7648  15.0665\n",
       " 15.6844  15.3948  15.1658  15.0     …  15.0     15.1658  15.3948  15.6844\n",
       "\n",
       "[:, :, 10] =\n",
       " 13.0     12.6491  12.3693  12.1655  …  12.1655  12.3693  12.6491  13.0\n",
       " 13.0384  12.6886  12.4097  12.2066     12.2066  12.4097  12.6886  13.0384\n",
       " 13.1529  12.8062  12.53    12.3288     12.3288  12.53    12.8062  13.1529\n",
       " 13.3417  13.0     12.7279  12.53       12.53    12.7279  13.0     13.3417\n",
       " 13.6015  13.2665  13.0     12.8062     12.8062  13.0     13.2665  13.6015\n",
       " 13.9284  13.6015  13.3417  13.1529  …  13.1529  13.3417  13.6015  13.9284\n",
       " 14.3178  14.0     13.7477  13.5647     13.5647  13.7477  14.0     14.3178\n",
       " 14.7648  14.4568  14.2127  14.0357     14.0357  14.2127  14.4568  14.7648\n",
       " 15.2643  14.9666  14.7309  14.5602     14.5602  14.7309  14.9666  15.2643\n",
       " 15.8114  15.5242  15.2971  15.1327     15.1327  15.2971  15.5242  15.8114\n",
       " 16.4012  16.1245  15.906   15.748   …  15.748   15.906   16.1245  16.4012\n",
       "\n",
       "[:, :, 11] =\n",
       " 13.9284  13.6015  13.3417  13.1529  …  13.1529  13.3417  13.6015  13.9284\n",
       " 13.9642  13.6382  13.3791  13.1909     13.1909  13.3791  13.6382  13.9642\n",
       " 14.0712  13.7477  13.4907  13.3041     13.3041  13.4907  13.7477  14.0712\n",
       " 14.2478  13.9284  13.6748  13.4907     13.4907  13.6748  13.9284  14.2478\n",
       " 14.4914  14.1774  13.9284  13.7477     13.7477  13.9284  14.1774  14.4914\n",
       " 14.7986  14.4914  14.2478  14.0712  …  14.0712  14.2478  14.4914  14.7986\n",
       " 15.1658  14.8661  14.6287  14.4568     14.4568  14.6287  14.8661  15.1658\n",
       " 15.5885  15.2971  15.0665  14.8997     14.8997  15.0665  15.2971  15.5885\n",
       " 16.0624  15.7797  15.5563  15.3948     15.3948  15.5563  15.7797  16.0624\n",
       " 16.5831  16.3095  16.0935  15.9374     15.9374  16.0935  16.3095  16.5831\n",
       " 17.1464  16.8819  16.6733  16.5227  …  16.5227  16.6733  16.8819  17.1464"
      ]
     },
     "execution_count": 234,
     "metadata": {},
     "output_type": "execute_result"
    }
   ],
   "source": [
    "cube = Float64[sqrt(x ^ 2 + y ^ 2 + z ^ 2) for x in 0:10, y in -5:5, z in 3:13]"
   ]
  },
  {
   "cell_type": "markdown",
   "id": "60fdf25d-9a51-4d6d-a53d-201480fe603a",
   "metadata": {},
   "source": [
    "# Generic functions and multiple dispatch"
   ]
  },
  {
   "cell_type": "markdown",
   "id": "23572c84-9a8f-46ce-b47a-8b72657dadd6",
   "metadata": {},
   "source": [
    "We have already seen that functions are inherently defined as generic, that is, they can be\n",
    "used for different types of their arguments. The compiler will generate a separate version of\n",
    "the function each time it is called with arguments of a new type"
   ]
  },
  {
   "cell_type": "markdown",
   "id": "72ed5b7b-5e32-4c02-a048-04043281d75e",
   "metadata": {},
   "source": [
    "In Julia, a concrete version\n",
    "of a function for a specific combination of argument types is called a method"
   ]
  },
  {
   "cell_type": "markdown",
   "id": "c487886e-55b0-49d3-b7a5-86515d57671b",
   "metadata": {},
   "source": [
    "To define a\n",
    "new method for a function (also called overloading), just use the same function name but a\n",
    "different signature, that is, with different argument types."
   ]
  },
  {
   "cell_type": "markdown",
   "id": "3ea0cf6e-ad44-4d2e-ba0b-137d9e44a155",
   "metadata": {},
   "source": [
    "A list of all the methods is stored\n",
    "in a virtual method table (vtable) on the function itself"
   ]
  },
  {
   "cell_type": "markdown",
   "id": "41a56d89-ea39-4d57-838f-c5b9fefe46a5",
   "metadata": {},
   "source": [
    "; methods do not belong to a\n",
    "particular type."
   ]
  },
  {
   "cell_type": "markdown",
   "id": "02595cd8-4f6b-44d8-b096-c2a8e2d6ee5a",
   "metadata": {},
   "source": [
    "When a function is called, Julia will lookup in vtable at runtime to find\n",
    "which concrete method it should call, based on the types of all its arguments; this is\n",
    "Julia's multiple dispatch mechanism, which Python, C++, or Fortran do not implement this"
   ]
  },
  {
   "cell_type": "markdown",
   "id": "dd48dcec-f615-4549-ada9-228e89c3d2a9",
   "metadata": {},
   "source": [
    "Note that only\n",
    "positional arguments are taken into account for multiple dispatch, and not keyword\n",
    "arguments."
   ]
  },
  {
   "cell_type": "markdown",
   "id": "f9062158-75c5-4b06-b972-cf4af1635aca",
   "metadata": {},
   "source": [
    "For each of these different methods, specialized low-level code is generated, targeted to the\n",
    "processor's instruction set. In contrast to object-oriented (OO) languages, vtable is stored\n",
    "in the function, and not in the type (or class)"
   ]
  },
  {
   "cell_type": "markdown",
   "id": "b4f8bf9b-9fb7-4400-8ee7-0d68256c8f02",
   "metadata": {},
   "source": [
    "In OO languages, a method is called on a\n",
    "single object, object.method(), which is generally called single dispatch. In Julia, one\n",
    "can say that a function belongs to multiple types, or that a function is specialized or\n",
    "overloaded for different types"
   ]
  },
  {
   "cell_type": "markdown",
   "id": "6a828cae-a113-4cf9-8f2d-5200361c44df",
   "metadata": {},
   "source": [
    "Julia's ability to compile code that reads like a high-level\n",
    "dynamic language into machine code that performs almost entirely like C is derived from\n",
    "its ability to do multiple dispatch."
   ]
  },
  {
   "cell_type": "markdown",
   "id": "be8100fa-ecb4-4283-a42a-453a41586adf",
   "metadata": {},
   "source": [
    "Number is a supertype of Integer"
   ]
  },
  {
   "cell_type": "code",
   "execution_count": 242,
   "id": "d7ae4515-fa5e-4460-b614-85be35e62332",
   "metadata": {},
   "outputs": [
    {
     "data": {
      "text/plain": [
       "f (generic function with 7 methods)"
      ]
     },
     "execution_count": 242,
     "metadata": {},
     "output_type": "execute_result"
    }
   ],
   "source": [
    "f(n, m) = \"base case\"\n",
    "f(n::Number, m::Number) = \"n and m are both Numbers\"\n",
    "f(n::Number, m) = \"n is a number\"\n",
    "f(n, m::Number) = \"m is a number\"\n",
    "f(n::Integer, m::Integer) = \"n and m are both Integers\""
   ]
  },
  {
   "cell_type": "code",
   "execution_count": 244,
   "id": "b859a655-e565-4daa-9526-f75610deb440",
   "metadata": {},
   "outputs": [
    {
     "data": {
      "text/plain": [
       "\"n and m are both Integers\""
      ]
     },
     "execution_count": 244,
     "metadata": {},
     "output_type": "execute_result"
    }
   ],
   "source": [
    "f(2,3)"
   ]
  },
  {
   "cell_type": "code",
   "execution_count": 245,
   "id": "c29f586b-205c-4be8-a81b-eda39a4a7218",
   "metadata": {},
   "outputs": [
    {
     "data": {
      "text/plain": [
       "\"n is a number\""
      ]
     },
     "execution_count": 245,
     "metadata": {},
     "output_type": "execute_result"
    }
   ],
   "source": [
    "f(2,\"what\")"
   ]
  },
  {
   "cell_type": "code",
   "execution_count": 246,
   "id": "56bb1ad0-fc31-495b-8ef5-a7a599162ad8",
   "metadata": {},
   "outputs": [
    {
     "data": {
      "text/plain": [
       "\"m is a number\""
      ]
     },
     "execution_count": 246,
     "metadata": {},
     "output_type": "execute_result"
    }
   ],
   "source": [
    "f(\"what\",2)"
   ]
  },
  {
   "cell_type": "code",
   "execution_count": 247,
   "id": "7d43ee4e-570b-40e6-a607-41ba212d900d",
   "metadata": {},
   "outputs": [
    {
     "data": {
      "text/plain": [
       "\"n and m are both Numbers\""
      ]
     },
     "execution_count": 247,
     "metadata": {},
     "output_type": "execute_result"
    }
   ],
   "source": [
    "f(3.0,3.3)"
   ]
  },
  {
   "cell_type": "code",
   "execution_count": 248,
   "id": "c425f555-f2ef-411c-8fa6-1e9fc047d49f",
   "metadata": {},
   "outputs": [
    {
     "data": {
      "text/plain": [
       "\"base case\""
      ]
     },
     "execution_count": 248,
     "metadata": {},
     "output_type": "execute_result"
    }
   ],
   "source": [
    "f(\"what\", \"the heck\")"
   ]
  },
  {
   "cell_type": "markdown",
   "id": "39f45009-2632-4cbd-aebe-df89bfa6b3df",
   "metadata": {},
   "source": [
    "Calling f(n, m) will never result in an error, because if no other method matches, the base\n",
    "case will be invoked when we add a new method:"
   ]
  },
  {
   "cell_type": "markdown",
   "id": "ad5d026a-aaa9-451e-b420-5d08347c846b",
   "metadata": {},
   "source": [
    "To get a quick overview of all the versions of a function, type methods(fname) into the\n",
    "REPL."
   ]
  },
  {
   "cell_type": "code",
   "execution_count": 249,
   "id": "b8a1bbe5-0912-40cf-a4cd-4b19ff8c03ac",
   "metadata": {},
   "outputs": [
    {
     "data": {
      "text/html": [
       "# 7 methods for generic function <b>f</b>:<ul><li> f(n::<b>Integer</b>, m::<b>Integer</b>) in Main at In[242]:5</li> <li> f(n::<b>Number</b>, m::<b>Number</b>) in Main at In[242]:2</li> <li> f(n, m::<b>Number</b>) in Main at In[242]:4</li> <li> f(n::<b>Number</b>, m) in Main at In[242]:3</li> <li> f(y) in Main at In[176]:1</li> <li> f(n, m) in Main at In[242]:1</li> <li> f(x, y, z) in Main at In[203]:1</li> </ul>"
      ],
      "text/plain": [
       "# 7 methods for generic function \"f\":\n",
       "[1] f(n::Integer, m::Integer) in Main at In[242]:5\n",
       "[2] f(n::Number, m::Number) in Main at In[242]:2\n",
       "[3] f(n, m::Number) in Main at In[242]:4\n",
       "[4] f(n::Number, m) in Main at In[242]:3\n",
       "[5] f(y) in Main at In[176]:1\n",
       "[6] f(n, m) in Main at In[242]:1\n",
       "[7] f(x, y, z) in Main at In[203]:1"
      ]
     },
     "execution_count": 249,
     "metadata": {},
     "output_type": "execute_result"
    }
   ],
   "source": [
    "methods(f)"
   ]
  },
  {
   "cell_type": "code",
   "execution_count": 251,
   "id": "83808238-0406-415f-8094-79155202ef47",
   "metadata": {},
   "outputs": [
    {
     "data": {
      "text/html": [
       "# 1 method for anonymous function <b>#3</b>:<ul><li> (::<b>var\"#3#5\"</b>)() in Main at In[149]:3</li> </ul>"
      ],
      "text/plain": [
       "# 1 method for anonymous function \"#3\":\n",
       "[1] (::var\"#3#5\")() in Main at In[149]:3"
      ]
     },
     "execution_count": 251,
     "metadata": {},
     "output_type": "execute_result"
    }
   ],
   "source": [
    "methods(add)"
   ]
  },
  {
   "cell_type": "code",
   "execution_count": 253,
   "id": "8689693e-08b2-4d77-b606-4de17d9cbec0",
   "metadata": {},
   "outputs": [],
   "source": [
    "# methods(+)"
   ]
  },
  {
   "cell_type": "markdown",
   "id": "841ec02f-bf06-4c2a-9803-a11d67cefcc7",
   "metadata": {},
   "source": [
    "The macro @which gives you the exact method that is used and where in the source code\n",
    "that method is defined, for example, @which 2 * 2 returns *(x::Int64, y::Int64) at\n",
    "int.jl:47."
   ]
  },
  {
   "cell_type": "code",
   "execution_count": 255,
   "id": "7c989785-d66a-422a-bbdd-b965f752074f",
   "metadata": {},
   "outputs": [
    {
     "data": {
      "text/html": [
       "*(x::<b>T</b>, y::<b>T</b>)<i> where T<:Union{Int128, Int16, Int32, Int64, Int8, UInt128, UInt16, UInt32, UInt64, UInt8}</i> in Base at <a href=\"https://github.com/JuliaLang/julia/tree/3bf9d1773144bc4943232dc2ffaac307a700853d/base/int.jl#L88\" target=\"_blank\">int.jl:88</a>"
      ],
      "text/plain": [
       "*(x::T, y::T) where T<:Union{Int128, Int16, Int32, Int64, Int8, UInt128, UInt16, UInt32, UInt64, UInt8} in Base at int.jl:88"
      ]
     },
     "execution_count": 255,
     "metadata": {},
     "output_type": "execute_result"
    }
   ],
   "source": [
    "@which 2 * 2"
   ]
  },
  {
   "cell_type": "markdown",
   "id": "22b449d2-5bf5-4d42-9604-e07bf304e295",
   "metadata": {},
   "source": [
    "This also works the other way around. If you want to know which methods are\n",
    "defined for a certain type, or use that type, ask methodswith(Type) from the\n",
    "InteractiveUtils module"
   ]
  },
  {
   "cell_type": "code",
   "execution_count": 257,
   "id": "6d732cb4-9be0-418d-881a-169f84c6bc13",
   "metadata": {},
   "outputs": [
    {
     "data": {
      "text/html": [
       "147-element Vector{Method}:<ul><li> filter(f, s::<b>Union{SubString{String}, String}</b>) in Base at <a href=\"https://github.com/JuliaLang/julia/tree/3bf9d1773144bc4943232dc2ffaac307a700853d/base/strings/substring.jl#L242\" target=\"_blank\">strings/substring.jl:242</a><li> length(s::<b>String</b>) in Base at <a href=\"https://github.com/JuliaLang/julia/tree/3bf9d1773144bc4943232dc2ffaac307a700853d/base/strings/string.jl#L272\" target=\"_blank\">strings/string.jl:272</a><li> length(s::<b>String</b>, i::<b>Int64</b>, j::<b>Int64</b>) in Base at <a href=\"https://github.com/JuliaLang/julia/tree/3bf9d1773144bc4943232dc2ffaac307a700853d/base/strings/string.jl#L274\" target=\"_blank\">strings/string.jl:274</a><li> reverse(s::<b>Union{SubString{String}, String}</b>) in Base at <a href=\"https://github.com/JuliaLang/julia/tree/3bf9d1773144bc4943232dc2ffaac307a700853d/base/strings/substring.jl#L166\" target=\"_blank\">strings/substring.jl:166</a><li> ColorSchemes.ColorSchemeCategory(name::<b>String</b>) in ColorSchemes at <a href=\"file:///home/javid/.julia/packages/ColorSchemes/p8fep/src/ColorSchemes.jl\" target=\"_blank\">/home/javid/.julia/packages/ColorSchemes/p8fep/src/ColorSchemes.jl:51</a><li> Animation(dir::<b>String</b>, frames::<b>Vector{String}</b>) in Plots at <a href=\"file:///home/javid/.julia/packages/Plots/UeTBV/src/animation.jl\" target=\"_blank\">/home/javid/.julia/packages/Plots/UeTBV/src/animation.jl:3</a><li> colormap(cname::<b>String</b>) in Colors at <a href=\"file:///home/javid/.julia/packages/Colors/yDxFN/src/colormaps.jl\" target=\"_blank\">/home/javid/.julia/packages/Colors/yDxFN/src/colormaps.jl:283</a><li> colormap(cname::<b>String</b>, N::<b>Int64</b>; <i>mid, logscale, kvs...</i>) in Colors at <a href=\"file:///home/javid/.julia/packages/Colors/yDxFN/src/colormaps.jl\" target=\"_blank\">/home/javid/.julia/packages/Colors/yDxFN/src/colormaps.jl:283</a><li> ZMQ.Message(m::<b>String</b>) in ZMQ at <a href=\"file:///home/javid/.julia/packages/ZMQ/R3wSD/src/message.jl\" target=\"_blank\">/home/javid/.julia/packages/ZMQ/R3wSD/src/message.jl:76</a><li> subscribe(socket::<b>ZMQ.Socket</b>, filter::<b>Union{String, Vector{UInt8}}</b>) in ZMQ at <a href=\"file:///home/javid/.julia/packages/ZMQ/R3wSD/src/sockopts.jl\" target=\"_blank\">/home/javid/.julia/packages/ZMQ/R3wSD/src/sockopts.jl:75</a><li> unsubscribe(socket::<b>ZMQ.Socket</b>, filter::<b>Union{String, Vector{UInt8}}</b>) in ZMQ at <a href=\"file:///home/javid/.julia/packages/ZMQ/R3wSD/src/sockopts.jl\" target=\"_blank\">/home/javid/.julia/packages/ZMQ/R3wSD/src/sockopts.jl:75</a><li> artifact_hash(name::<b>String</b>, artifacts_toml::<b>String</b>; <i>platform, pkg_uuid</i>) in Artifacts at <a href=\"file:///build/julia/src/julia-1.7.0/usr/share/julia/stdlib/v1.7/Artifacts/src/Artifacts.jl\" target=\"_blank\">/usr/share/julia/stdlib/v1.7/Artifacts/src/Artifacts.jl:419</a><li> artifact_meta(name::<b>String</b>, artifact_dict::<b>Dict</b>, artifacts_toml::<b>String</b>; <i>platform</i>) in Artifacts at <a href=\"file:///build/julia/src/julia-1.7.0/usr/share/julia/stdlib/v1.7/Artifacts/src/Artifacts.jl\" target=\"_blank\">/usr/share/julia/stdlib/v1.7/Artifacts/src/Artifacts.jl:378</a><li> artifact_meta(name::<b>String</b>, artifacts_toml::<b>String</b>; <i>platform, pkg_uuid</i>) in Artifacts at <a href=\"file:///build/julia/src/julia-1.7.0/usr/share/julia/stdlib/v1.7/Artifacts/src/Artifacts.jl\" target=\"_blank\">/usr/share/julia/stdlib/v1.7/Artifacts/src/Artifacts.jl:366</a><li> find_artifacts_toml(path::<b>String</b>) in Artifacts at <a href=\"file:///build/julia/src/julia-1.7.0/usr/share/julia/stdlib/v1.7/Artifacts/src/Artifacts.jl\" target=\"_blank\">/usr/share/julia/stdlib/v1.7/Artifacts/src/Artifacts.jl:484</a><li> select_downloadable_artifacts(artifact_dict::<b>Dict</b>, artifacts_toml::<b>String</b>; <i>platform, pkg_uuid, include_lazy</i>) in Artifacts at <a href=\"file:///build/julia/src/julia-1.7.0/usr/share/julia/stdlib/v1.7/Artifacts/src/Artifacts.jl\" target=\"_blank\">/usr/share/julia/stdlib/v1.7/Artifacts/src/Artifacts.jl:430</a><li> select_downloadable_artifacts(artifacts_toml::<b>String</b>; <i>platform, include_lazy, pkg_uuid</i>) in Artifacts at <a href=\"file:///build/julia/src/julia-1.7.0/usr/share/julia/stdlib/v1.7/Artifacts/src/Artifacts.jl\" target=\"_blank\">/usr/share/julia/stdlib/v1.7/Artifacts/src/Artifacts.jl:462</a><li> FileWatching.FileMonitor(file::<b>String</b>) in FileWatching at <a href=\"file:///build/julia/src/julia-1.7.0/usr/share/julia/stdlib/v1.7/FileWatching/src/FileWatching.jl\" target=\"_blank\">/usr/share/julia/stdlib/v1.7/FileWatching/src/FileWatching.jl:80</a><li> FileWatching.FolderMonitor(folder::<b>String</b>) in FileWatching at <a href=\"file:///build/julia/src/julia-1.7.0/usr/share/julia/stdlib/v1.7/FileWatching/src/FileWatching.jl\" target=\"_blank\">/usr/share/julia/stdlib/v1.7/FileWatching/src/FileWatching.jl:102</a><li> FileWatching.PollingFileWatcher(file::<b>String</b>) in FileWatching at <a href=\"file:///build/julia/src/julia-1.7.0/usr/share/julia/stdlib/v1.7/FileWatching/src/FileWatching.jl\" target=\"_blank\">/usr/share/julia/stdlib/v1.7/FileWatching/src/FileWatching.jl:131</a><li> FileWatching.PollingFileWatcher(file::<b>String</b>, interval::<b>Float64</b>) in FileWatching at <a href=\"file:///build/julia/src/julia-1.7.0/usr/share/julia/stdlib/v1.7/FileWatching/src/FileWatching.jl\" target=\"_blank\">/usr/share/julia/stdlib/v1.7/FileWatching/src/FileWatching.jl:131</a><li> unwatch_folder(s::<b>String</b>) in FileWatching at <a href=\"file:///build/julia/src/julia-1.7.0/usr/share/julia/stdlib/v1.7/FileWatching/src/FileWatching.jl\" target=\"_blank\">/usr/share/julia/stdlib/v1.7/FileWatching/src/FileWatching.jl:780</a><li> watch_file(s::<b>String</b>) in FileWatching at <a href=\"file:///build/julia/src/julia-1.7.0/usr/share/julia/stdlib/v1.7/FileWatching/src/FileWatching.jl\" target=\"_blank\">/usr/share/julia/stdlib/v1.7/FileWatching/src/FileWatching.jl:701</a><li> watch_file(s::<b>String</b>, timeout_s::<b>Float64</b>) in FileWatching at <a href=\"file:///build/julia/src/julia-1.7.0/usr/share/julia/stdlib/v1.7/FileWatching/src/FileWatching.jl\" target=\"_blank\">/usr/share/julia/stdlib/v1.7/FileWatching/src/FileWatching.jl:701</a><li> watch_folder(s::<b>String</b>) in FileWatching at <a href=\"file:///build/julia/src/julia-1.7.0/usr/share/julia/stdlib/v1.7/FileWatching/src/FileWatching.jl\" target=\"_blank\">/usr/share/julia/stdlib/v1.7/FileWatching/src/FileWatching.jl:735</a><li> watch_folder(s::<b>String</b>, timeout_s::<b>Real</b>) in FileWatching at <a href=\"file:///build/julia/src/julia-1.7.0/usr/share/julia/stdlib/v1.7/FileWatching/src/FileWatching.jl\" target=\"_blank\">/usr/share/julia/stdlib/v1.7/FileWatching/src/FileWatching.jl:735</a><li> vparse(s_::<b>String</b>) in VersionParsing at <a href=\"file:///home/javid/.julia/packages/VersionParsing/YFVo1/src/VersionParsing.jl\" target=\"_blank\">/home/javid/.julia/packages/VersionParsing/YFVo1/src/VersionParsing.jl:39</a><li> ==(a::<b>String</b>, b::<b>String</b>) in Base at <a href=\"https://github.com/JuliaLang/julia/tree/3bf9d1773144bc4943232dc2ffaac307a700853d/base/strings/string.jl#L118\" target=\"_blank\">strings/string.jl:118</a><li> ==(a::<b>Union{SubString{String}, String}</b>, b::<b>Union{SubString{String}, String}</b>) in Base at <a href=\"https://github.com/JuliaLang/julia/tree/3bf9d1773144bc4943232dc2ffaac307a700853d/base/strings/substring.jl#L102\" target=\"_blank\">strings/substring.jl:102</a><li> DimensionMismatch(msg::<b>String</b>) in Base at <a href=\"https://github.com/JuliaLang/julia/tree/3bf9d1773144bc4943232dc2ffaac307a700853d/base/array.jl#L12\" target=\"_blank\">array.jl:12</a><li> IOBuffer(str::<b>String</b>) in Base at <a href=\"https://github.com/JuliaLang/julia/tree/3bf9d1773144bc4943232dc2ffaac307a700853d/base/strings/io.jl#L304\" target=\"_blank\">strings/io.jl:304</a><li> InvalidStateException(msg::<b>String</b>, state::<b>Symbol</b>) in Base at <a href=\"https://github.com/JuliaLang/julia/tree/3bf9d1773144bc4943232dc2ffaac307a700853d/base/channels.jl#L298\" target=\"_blank\">channels.jl:298</a><li> MissingException(msg::<b>String</b>) in Base at <a href=\"https://github.com/JuliaLang/julia/tree/3bf9d1773144bc4943232dc2ffaac307a700853d/base/missing.jl#L15\" target=\"_blank\">missing.jl:15</a><li> abspath(a::<b>String</b>) in Base.Filesystem at <a href=\"https://github.com/JuliaLang/julia/tree/3bf9d1773144bc4943232dc2ffaac307a700853d/base/path.jl#L415\" target=\"_blank\">path.jl:415</a><li> ascii(s::<b>String</b>) in Base at <a href=\"https://github.com/JuliaLang/julia/tree/3bf9d1773144bc4943232dc2ffaac307a700853d/base/strings/util.jl#L777\" target=\"_blank\">strings/util.jl:777</a><li> chomp(s::<b>String</b>) in Base at <a href=\"https://github.com/JuliaLang/julia/tree/3bf9d1773144bc4943232dc2ffaac307a700853d/base/strings/util.jl#L218\" target=\"_blank\">strings/util.jl:218</a><li> cmp(a::<b>String</b>, b::<b>String</b>) in Base at <a href=\"https://github.com/JuliaLang/julia/tree/3bf9d1773144bc4943232dc2ffaac307a700853d/base/strings/string.jl#L112\" target=\"_blank\">strings/string.jl:112</a><li> codeunit(s::<b>String</b>) in Base at <a href=\"https://github.com/JuliaLang/julia/tree/3bf9d1773144bc4943232dc2ffaac307a700853d/base/strings/string.jl#L99\" target=\"_blank\">strings/string.jl:99</a><li> codeunit(s::<b>String</b>, i::<b>Integer</b>) in Base at <a href=\"https://github.com/JuliaLang/julia/tree/3bf9d1773144bc4943232dc2ffaac307a700853d/base/strings/string.jl#L101\" target=\"_blank\">strings/string.jl:101</a><li> convert(::<b>Type{String}</b>, x::<b>String</b>) in Base at <a href=\"https://github.com/JuliaLang/julia/tree/3bf9d1773144bc4943232dc2ffaac307a700853d/base/essentials.jl#L223\" target=\"_blank\">essentials.jl:223</a><li> dump(io::<b>IOContext</b>, x::<b>String</b>, n::<b>Int64</b>, indent) in Base at <a href=\"https://github.com/JuliaLang/julia/tree/3bf9d1773144bc4943232dc2ffaac307a700853d/base/show.jl#L2600\" target=\"_blank\">show.jl:2600</a><li> endswith(a::<b>Union{SubString{String}, String}</b>, b::<b>Union{SubString{String}, String}</b>) in Base at <a href=\"https://github.com/JuliaLang/julia/tree/3bf9d1773144bc4943232dc2ffaac307a700853d/base/strings/util.jl#L60\" target=\"_blank\">strings/util.jl:60</a><li> findall(path::<b>String</b>, idx::<b>LibGit2.GitIndex</b>) in LibGit2 at <a href=\"file:///build/julia/src/julia-1.7.0/usr/share/julia/stdlib/v1.7/LibGit2/src/index.jl\" target=\"_blank\">/usr/share/julia/stdlib/v1.7/LibGit2/src/index.jl:191</a><li> findnext(pred::<b>Base.Fix2{<:Union{typeof(==), typeof(isequal)}, <:AbstractChar}</b>, s::<b>String</b>, i::<b>Integer</b>) in Base at <a href=\"https://github.com/JuliaLang/julia/tree/3bf9d1773144bc4943232dc2ffaac307a700853d/base/strings/search.jl#L5\" target=\"_blank\">strings/search.jl:5</a><li> findnext(re::<b>Regex</b>, str::<b>Union{String, SubString}</b>, idx::<b>Integer</b>) in Base at <a href=\"https://github.com/JuliaLang/julia/tree/3bf9d1773144bc4943232dc2ffaac307a700853d/base/regex.jl#L393\" target=\"_blank\">regex.jl:393</a><li> findprev(pred::<b>Base.Fix2{<:Union{typeof(==), typeof(isequal)}, <:AbstractChar}</b>, s::<b>String</b>, i::<b>Integer</b>) in Base at <a href=\"https://github.com/JuliaLang/julia/tree/3bf9d1773144bc4943232dc2ffaac307a700853d/base/strings/search.jl#L49\" target=\"_blank\">strings/search.jl:49</a><li> gensym(s::<b>String</b>) in Base at <a href=\"https://github.com/JuliaLang/julia/tree/3bf9d1773144bc4943232dc2ffaac307a700853d/base/expr.jl#L12\" target=\"_blank\">expr.jl:12</a><li> getindex(p::<b>Base.BinaryPlatforms.AbstractPlatform</b>, k::<b>String</b>) in Base.BinaryPlatforms at <a href=\"https://github.com/JuliaLang/julia/tree/3bf9d1773144bc4943232dc2ffaac307a700853d/base/binaryplatforms.jl#L137\" target=\"_blank\">binaryplatforms.jl:137</a><li> getindex(s::<b>String</b>, i::<b>Int64</b>) in Base at <a href=\"https://github.com/JuliaLang/julia/tree/3bf9d1773144bc4943232dc2ffaac307a700853d/base/strings/string.jl#L222\" target=\"_blank\">strings/string.jl:222</a><li> getindex(s::<b>String</b>, r::<b>UnitRange{Int64}</b>) in Base at <a href=\"https://github.com/JuliaLang/julia/tree/3bf9d1773144bc4943232dc2ffaac307a700853d/base/strings/string.jl#L257\" target=\"_blank\">strings/string.jl:257</a><li> getindex(s::<b>String</b>, r::<b>UnitRange{<:Integer}</b>) in Base at <a href=\"https://github.com/JuliaLang/julia/tree/3bf9d1773144bc4943232dc2ffaac307a700853d/base/strings/string.jl#L255\" target=\"_blank\">strings/string.jl:255</a><li> hash(s::<b>String</b>, h::<b>UInt64</b>) in Base at <a href=\"https://github.com/JuliaLang/julia/tree/3bf9d1773144bc4943232dc2ffaac307a700853d/base/hashing.jl#L105\" target=\"_blank\">hashing.jl:105</a><li> haskey(p::<b>Base.BinaryPlatforms.AbstractPlatform</b>, k::<b>String</b>) in Base.BinaryPlatforms at <a href=\"https://github.com/JuliaLang/julia/tree/3bf9d1773144bc4943232dc2ffaac307a700853d/base/binaryplatforms.jl#L138\" target=\"_blank\">binaryplatforms.jl:138</a><li> hex2bytes!(dest::<b>AbstractArray{UInt8}</b>, s::<b>String</b>) in Base at <a href=\"https://github.com/JuliaLang/julia/tree/3bf9d1773144bc4943232dc2ffaac307a700853d/base/strings/util.jl#L687\" target=\"_blank\">strings/util.jl:687</a><li> isascii(s::<b>String</b>) in Base at <a href=\"https://github.com/JuliaLang/julia/tree/3bf9d1773144bc4943232dc2ffaac307a700853d/base/strings/string.jl#L314\" target=\"_blank\">strings/string.jl:314</a><li> isdirpath(path::<b>String</b>) in Base.Filesystem at <a href=\"https://github.com/JuliaLang/julia/tree/3bf9d1773144bc4943232dc2ffaac307a700853d/base/path.jl#L117\" target=\"_blank\">path.jl:117</a><li> isvalid(::<b>Type{String}</b>, s::<b>Union{String, SubArray{UInt8, 1, Vector{UInt8}, I, true} where I<:Union{Tuple{Vararg{Real}}, Tuple{AbstractUnitRange, Vararg{Any}}}, Vector{UInt8}}</b>) in Base at <a href=\"https://github.com/JuliaLang/julia/tree/3bf9d1773144bc4943232dc2ffaac307a700853d/base/strings/string.jl#L185\" target=\"_blank\">strings/string.jl:185</a><li> isvalid(s::<b>String</b>) in Base at <a href=\"https://github.com/JuliaLang/julia/tree/3bf9d1773144bc4943232dc2ffaac307a700853d/base/strings/string.jl#L186\" target=\"_blank\">strings/string.jl:186</a><li> isvalid(s::<b>String</b>, i::<b>Int64</b>) in Base at <a href=\"https://github.com/JuliaLang/julia/tree/3bf9d1773144bc4943232dc2ffaac307a700853d/base/strings/string.jl#L312\" target=\"_blank\">strings/string.jl:312</a><li> iterate(s::<b>String</b>) in Base at <a href=\"https://github.com/JuliaLang/julia/tree/3bf9d1773144bc4943232dc2ffaac307a700853d/base/strings/string.jl#L192\" target=\"_blank\">strings/string.jl:192</a><li> iterate(s::<b>String</b>, i::<b>Int64</b>) in Base at <a href=\"https://github.com/JuliaLang/julia/tree/3bf9d1773144bc4943232dc2ffaac307a700853d/base/strings/string.jl#L192\" target=\"_blank\">strings/string.jl:192</a><li> match(re::<b>Regex</b>, str::<b>Union{SubString{String}, String}</b>, idx::<b>Integer</b>) in Base at <a href=\"https://github.com/JuliaLang/julia/tree/3bf9d1773144bc4943232dc2ffaac307a700853d/base/regex.jl#L367\" target=\"_blank\">regex.jl:367</a><li> match(re::<b>Regex</b>, str::<b>Union{SubString{String}, String}</b>, idx::<b>Integer</b>, add_opts::<b>UInt32</b>) in Base at <a href=\"https://github.com/JuliaLang/julia/tree/3bf9d1773144bc4943232dc2ffaac307a700853d/base/regex.jl#L367\" target=\"_blank\">regex.jl:367</a><li> ncodeunits(s::<b>String</b>) in Base at <a href=\"https://github.com/JuliaLang/julia/tree/3bf9d1773144bc4943232dc2ffaac307a700853d/base/strings/string.jl#L98\" target=\"_blank\">strings/string.jl:98</a><li> nextind(s::<b>String</b>, i::<b>Int64</b>) in Base at <a href=\"https://github.com/JuliaLang/julia/tree/3bf9d1773144bc4943232dc2ffaac307a700853d/base/strings/string.jl#L150\" target=\"_blank\">strings/string.jl:150</a><li> normpath(path::<b>String</b>) in Base.Filesystem at <a href=\"https://github.com/JuliaLang/julia/tree/3bf9d1773144bc4943232dc2ffaac307a700853d/base/path.jl#L367\" target=\"_blank\">path.jl:367</a><li> pointer(s::<b>String</b>) in Base at <a href=\"https://github.com/JuliaLang/julia/tree/3bf9d1773144bc4943232dc2ffaac307a700853d/base/strings/string.jl#L95\" target=\"_blank\">strings/string.jl:95</a><li> pointer(s::<b>String</b>, i::<b>Integer</b>) in Base at <a href=\"https://github.com/JuliaLang/julia/tree/3bf9d1773144bc4943232dc2ffaac307a700853d/base/strings/string.jl#L96\" target=\"_blank\">strings/string.jl:96</a><li> print(io::<b>IO</b>, s::<b>Union{SubString{String}, String}</b>) in Base at <a href=\"https://github.com/JuliaLang/julia/tree/3bf9d1773144bc4943232dc2ffaac307a700853d/base/strings/io.jl#L246\" target=\"_blank\">strings/io.jl:246</a><li> relpath(path::<b>String</b>) in Base.Filesystem at <a href=\"https://github.com/JuliaLang/julia/tree/3bf9d1773144bc4943232dc2ffaac307a700853d/base/path.jl#L536\" target=\"_blank\">path.jl:536</a><li> relpath(path::<b>String</b>, startpath::<b>String</b>) in Base.Filesystem at <a href=\"https://github.com/JuliaLang/julia/tree/3bf9d1773144bc4943232dc2ffaac307a700853d/base/path.jl#L536\" target=\"_blank\">path.jl:536</a><li> repeat(s::<b>Union{SubString{String}, String}</b>, r::<b>Integer</b>) in Base at <a href=\"https://github.com/JuliaLang/julia/tree/3bf9d1773144bc4943232dc2ffaac307a700853d/base/strings/substring.jl#L225\" target=\"_blank\">strings/substring.jl:225</a><li> replace(str::<b>String</b>, pat_repl::<b>Vararg{Pair, N}</b>; <i>count</i>)<i> where N</i> in Base at <a href=\"https://github.com/JuliaLang/julia/tree/3bf9d1773144bc4943232dc2ffaac307a700853d/base/strings/util.jl#L535\" target=\"_blank\">strings/util.jl:535</a><li> setindex!(p::<b>Base.BinaryPlatforms.AbstractPlatform</b>, v::<b>String</b>, k::<b>String</b>) in Base.BinaryPlatforms at <a href=\"https://github.com/JuliaLang/julia/tree/3bf9d1773144bc4943232dc2ffaac307a700853d/base/binaryplatforms.jl#L139\" target=\"_blank\">binaryplatforms.jl:139</a><li> sizeof(s::<b>String</b>) in Base at <a href=\"https://github.com/JuliaLang/julia/tree/3bf9d1773144bc4943232dc2ffaac307a700853d/base/Base.jl#L179\" target=\"_blank\">Base.jl:179</a><li> splitdir(path::<b>String</b>) in Base.Filesystem at <a href=\"https://github.com/JuliaLang/julia/tree/3bf9d1773144bc4943232dc2ffaac307a700853d/base/path.jl#L130\" target=\"_blank\">path.jl:130</a><li> splitdrive(path::<b>String</b>) in Base.Filesystem at <a href=\"https://github.com/JuliaLang/julia/tree/3bf9d1773144bc4943232dc2ffaac307a700853d/base/path.jl#L28\" target=\"_blank\">path.jl:28</a><li> splitext(path::<b>String</b>) in Base.Filesystem at <a href=\"https://github.com/JuliaLang/julia/tree/3bf9d1773144bc4943232dc2ffaac307a700853d/base/path.jl#L207\" target=\"_blank\">path.jl:207</a><li> splitpath(p::<b>String</b>) in Base.Filesystem at <a href=\"https://github.com/JuliaLang/julia/tree/3bf9d1773144bc4943232dc2ffaac307a700853d/base/path.jl#L239\" target=\"_blank\">path.jl:239</a><li> startswith(a::<b>Union{SubString{String}, String}</b>, b::<b>Union{SubString{String}, String}</b>) in Base at <a href=\"https://github.com/JuliaLang/julia/tree/3bf9d1773144bc4943232dc2ffaac307a700853d/base/strings/util.jl#L48\" target=\"_blank\">strings/util.jl:48</a><li> string(a::<b>String</b>) in Base at <a href=\"https://github.com/JuliaLang/julia/tree/3bf9d1773144bc4943232dc2ffaac307a700853d/base/strings/substring.jl#L177\" target=\"_blank\">strings/substring.jl:177</a><li> thisind(s::<b>String</b>, i::<b>Int64</b>) in Base at <a href=\"https://github.com/JuliaLang/julia/tree/3bf9d1773144bc4943232dc2ffaac307a700853d/base/strings/string.jl#L129\" target=\"_blank\">strings/string.jl:129</a><li> transcode(::<b>Type{String}</b>, src::<b>String</b>) in Base at <a href=\"https://github.com/JuliaLang/julia/tree/3bf9d1773144bc4943232dc2ffaac307a700853d/base/c.jl#L290\" target=\"_blank\">c.jl:290</a><li> transcode(::<b>Type{T}</b>, src::<b>String</b>)<i> where T<:Union{Int32, UInt32}</i> in Base at <a href=\"https://github.com/JuliaLang/julia/tree/3bf9d1773144bc4943232dc2ffaac307a700853d/base/c.jl#L277\" target=\"_blank\">c.jl:277</a><li> transcode(T, src::<b>String</b>) in Base at <a href=\"https://github.com/JuliaLang/julia/tree/3bf9d1773144bc4943232dc2ffaac307a700853d/base/c.jl#L291\" target=\"_blank\">c.jl:291</a><li> tryparse(::<b>Type{Float64}</b>, s::<b>String</b>) in Base at <a href=\"https://github.com/JuliaLang/julia/tree/3bf9d1773144bc4943232dc2ffaac307a700853d/base/parse.jl#L247\" target=\"_blank\">parse.jl:247</a><li> tryparse(::<b>Type{Float32}</b>, s::<b>String</b>) in Base at <a href=\"https://github.com/JuliaLang/julia/tree/3bf9d1773144bc4943232dc2ffaac307a700853d/base/parse.jl#L267\" target=\"_blank\">parse.jl:267</a><li> typemin(::<b>String</b>) in Base at <a href=\"https://github.com/JuliaLang/julia/tree/3bf9d1773144bc4943232dc2ffaac307a700853d/base/strings/string.jl#L125\" target=\"_blank\">strings/string.jl:125</a><li> unsafe_wrap(::<b>Type{Vector{UInt8}}</b>, s::<b>String</b>) in Base at <a href=\"https://github.com/JuliaLang/julia/tree/3bf9d1773144bc4943232dc2ffaac307a700853d/base/strings/string.jl#L85\" target=\"_blank\">strings/string.jl:85</a><li> write(io::<b>IO</b>, s::<b>Union{SubString{String}, String}</b>) in Base at <a href=\"https://github.com/JuliaLang/julia/tree/3bf9d1773144bc4943232dc2ffaac307a700853d/base/strings/io.jl#L244\" target=\"_blank\">strings/io.jl:244</a><li> Downloads.RequestError(url::<b>String</b>, code::<b>Int64</b>, message::<b>String</b>, response::<b>Downloads.Response</b>) in Downloads at <a href=\"file:///build/julia/src/julia-1.7.0/usr/share/julia/stdlib/v1.7/Downloads/src/Downloads.jl\" target=\"_blank\">/usr/share/julia/stdlib/v1.7/Downloads/src/Downloads.jl:126</a><li> Downloads.Response(proto::<b>Union{Nothing, String}</b>, url::<b>String</b>, status::<b>Int64</b>, message::<b>String</b>, headers::<b>Vector{Pair{String, String}}</b>) in Downloads at <a href=\"file:///build/julia/src/julia-1.7.0/usr/share/julia/stdlib/v1.7/Downloads/src/Downloads.jl\" target=\"_blank\">/usr/share/julia/stdlib/v1.7/Downloads/src/Downloads.jl:93</a><li> serialize(s::<b>Serialization.AbstractSerializer</b>, ss::<b>String</b>) in Serialization at <a href=\"file:///build/julia/src/julia-1.7.0/usr/share/julia/stdlib/v1.7/Serialization/src/Serialization.jl\" target=\"_blank\">/usr/share/julia/stdlib/v1.7/Serialization/src/Serialization.jl:292</a><li> uuid5(ns::<b>Base.UUID</b>, name::<b>String</b>) in UUIDs at <a href=\"file:///build/julia/src/julia-1.7.0/usr/share/julia/stdlib/v1.7/UUIDs/src/UUIDs.jl\" target=\"_blank\">/usr/share/julia/stdlib/v1.7/UUIDs/src/UUIDs.jl:135</a><li> hmac_sha1(key::<b>Vector{UInt8}</b>, str::<b>String</b>) in SHA at <a href=\"file:///build/julia/src/julia-1.7.0/usr/share/julia/stdlib/v1.7/SHA/src/SHA.jl\" target=\"_blank\">/usr/share/julia/stdlib/v1.7/SHA/src/SHA.jl:109</a><li> hmac_sha224(key::<b>Vector{UInt8}</b>, str::<b>String</b>) in SHA at <a href=\"file:///build/julia/src/julia-1.7.0/usr/share/julia/stdlib/v1.7/SHA/src/SHA.jl\" target=\"_blank\">/usr/share/julia/stdlib/v1.7/SHA/src/SHA.jl:109</a><li> hmac_sha256(key::<b>Vector{UInt8}</b>, str::<b>String</b>) in SHA at <a href=\"file:///build/julia/src/julia-1.7.0/usr/share/julia/stdlib/v1.7/SHA/src/SHA.jl\" target=\"_blank\">/usr/share/julia/stdlib/v1.7/SHA/src/SHA.jl:109</a><li> hmac_sha2_224(key::<b>Vector{UInt8}</b>, str::<b>String</b>) in SHA at <a href=\"file:///build/julia/src/julia-1.7.0/usr/share/julia/stdlib/v1.7/SHA/src/SHA.jl\" target=\"_blank\">/usr/share/julia/stdlib/v1.7/SHA/src/SHA.jl:109</a><li> hmac_sha2_256(key::<b>Vector{UInt8}</b>, str::<b>String</b>) in SHA at <a href=\"file:///build/julia/src/julia-1.7.0/usr/share/julia/stdlib/v1.7/SHA/src/SHA.jl\" target=\"_blank\">/usr/share/julia/stdlib/v1.7/SHA/src/SHA.jl:109</a><li> hmac_sha2_384(key::<b>Vector{UInt8}</b>, str::<b>String</b>) in SHA at <a href=\"file:///build/julia/src/julia-1.7.0/usr/share/julia/stdlib/v1.7/SHA/src/SHA.jl\" target=\"_blank\">/usr/share/julia/stdlib/v1.7/SHA/src/SHA.jl:109</a><li> hmac_sha2_512(key::<b>Vector{UInt8}</b>, str::<b>String</b>) in SHA at <a href=\"file:///build/julia/src/julia-1.7.0/usr/share/julia/stdlib/v1.7/SHA/src/SHA.jl\" target=\"_blank\">/usr/share/julia/stdlib/v1.7/SHA/src/SHA.jl:109</a><li> hmac_sha384(key::<b>Vector{UInt8}</b>, str::<b>String</b>) in SHA at <a href=\"file:///build/julia/src/julia-1.7.0/usr/share/julia/stdlib/v1.7/SHA/src/SHA.jl\" target=\"_blank\">/usr/share/julia/stdlib/v1.7/SHA/src/SHA.jl:109</a><li> hmac_sha3_224(key::<b>Vector{UInt8}</b>, str::<b>String</b>) in SHA at <a href=\"file:///build/julia/src/julia-1.7.0/usr/share/julia/stdlib/v1.7/SHA/src/SHA.jl\" target=\"_blank\">/usr/share/julia/stdlib/v1.7/SHA/src/SHA.jl:109</a><li> hmac_sha3_256(key::<b>Vector{UInt8}</b>, str::<b>String</b>) in SHA at <a href=\"file:///build/julia/src/julia-1.7.0/usr/share/julia/stdlib/v1.7/SHA/src/SHA.jl\" target=\"_blank\">/usr/share/julia/stdlib/v1.7/SHA/src/SHA.jl:109</a><li> hmac_sha3_384(key::<b>Vector{UInt8}</b>, str::<b>String</b>) in SHA at <a href=\"file:///build/julia/src/julia-1.7.0/usr/share/julia/stdlib/v1.7/SHA/src/SHA.jl\" target=\"_blank\">/usr/share/julia/stdlib/v1.7/SHA/src/SHA.jl:109</a><li> hmac_sha3_512(key::<b>Vector{UInt8}</b>, str::<b>String</b>) in SHA at <a href=\"file:///build/julia/src/julia-1.7.0/usr/share/julia/stdlib/v1.7/SHA/src/SHA.jl\" target=\"_blank\">/usr/share/julia/stdlib/v1.7/SHA/src/SHA.jl:109</a><li> hmac_sha512(key::<b>Vector{UInt8}</b>, str::<b>String</b>) in SHA at <a href=\"file:///build/julia/src/julia-1.7.0/usr/share/julia/stdlib/v1.7/SHA/src/SHA.jl\" target=\"_blank\">/usr/share/julia/stdlib/v1.7/SHA/src/SHA.jl:109</a><li> sha1(str::<b>String</b>) in SHA at <a href=\"file:///build/julia/src/julia-1.7.0/usr/share/julia/stdlib/v1.7/SHA/src/SHA.jl\" target=\"_blank\">/usr/share/julia/stdlib/v1.7/SHA/src/SHA.jl:107</a><li> sha224(str::<b>String</b>) in SHA at <a href=\"file:///build/julia/src/julia-1.7.0/usr/share/julia/stdlib/v1.7/SHA/src/SHA.jl\" target=\"_blank\">/usr/share/julia/stdlib/v1.7/SHA/src/SHA.jl:107</a><li> sha256(str::<b>String</b>) in SHA at <a href=\"file:///build/julia/src/julia-1.7.0/usr/share/julia/stdlib/v1.7/SHA/src/SHA.jl\" target=\"_blank\">/usr/share/julia/stdlib/v1.7/SHA/src/SHA.jl:107</a><li> sha2_224(str::<b>String</b>) in SHA at <a href=\"file:///build/julia/src/julia-1.7.0/usr/share/julia/stdlib/v1.7/SHA/src/SHA.jl\" target=\"_blank\">/usr/share/julia/stdlib/v1.7/SHA/src/SHA.jl:107</a><li> sha2_256(str::<b>String</b>) in SHA at <a href=\"file:///build/julia/src/julia-1.7.0/usr/share/julia/stdlib/v1.7/SHA/src/SHA.jl\" target=\"_blank\">/usr/share/julia/stdlib/v1.7/SHA/src/SHA.jl:107</a><li> sha2_384(str::<b>String</b>) in SHA at <a href=\"file:///build/julia/src/julia-1.7.0/usr/share/julia/stdlib/v1.7/SHA/src/SHA.jl\" target=\"_blank\">/usr/share/julia/stdlib/v1.7/SHA/src/SHA.jl:107</a><li> sha2_512(str::<b>String</b>) in SHA at <a href=\"file:///build/julia/src/julia-1.7.0/usr/share/julia/stdlib/v1.7/SHA/src/SHA.jl\" target=\"_blank\">/usr/share/julia/stdlib/v1.7/SHA/src/SHA.jl:107</a><li> sha384(str::<b>String</b>) in SHA at <a href=\"file:///build/julia/src/julia-1.7.0/usr/share/julia/stdlib/v1.7/SHA/src/SHA.jl\" target=\"_blank\">/usr/share/julia/stdlib/v1.7/SHA/src/SHA.jl:107</a><li> sha3_224(str::<b>String</b>) in SHA at <a href=\"file:///build/julia/src/julia-1.7.0/usr/share/julia/stdlib/v1.7/SHA/src/SHA.jl\" target=\"_blank\">/usr/share/julia/stdlib/v1.7/SHA/src/SHA.jl:107</a><li> sha3_256(str::<b>String</b>) in SHA at <a href=\"file:///build/julia/src/julia-1.7.0/usr/share/julia/stdlib/v1.7/SHA/src/SHA.jl\" target=\"_blank\">/usr/share/julia/stdlib/v1.7/SHA/src/SHA.jl:107</a><li> sha3_384(str::<b>String</b>) in SHA at <a href=\"file:///build/julia/src/julia-1.7.0/usr/share/julia/stdlib/v1.7/SHA/src/SHA.jl\" target=\"_blank\">/usr/share/julia/stdlib/v1.7/SHA/src/SHA.jl:107</a><li> sha3_512(str::<b>String</b>) in SHA at <a href=\"file:///build/julia/src/julia-1.7.0/usr/share/julia/stdlib/v1.7/SHA/src/SHA.jl\" target=\"_blank\">/usr/share/julia/stdlib/v1.7/SHA/src/SHA.jl:107</a><li> sha512(str::<b>String</b>) in SHA at <a href=\"file:///build/julia/src/julia-1.7.0/usr/share/julia/stdlib/v1.7/SHA/src/SHA.jl\" target=\"_blank\">/usr/share/julia/stdlib/v1.7/SHA/src/SHA.jl:107</a><li> has_preference(uuid::<b>Base.UUID</b>, key::<b>String</b>) in Preferences at <a href=\"file:///home/javid/.julia/packages/Preferences/SHSJJ/src/Preferences.jl\" target=\"_blank\">/home/javid/.julia/packages/Preferences/SHSJJ/src/Preferences.jl:69</a><li> has_preference(uuid::<b>Base.UUID</b>, key::<b>String</b>, default) in Preferences at <a href=\"file:///home/javid/.julia/packages/Preferences/SHSJJ/src/Preferences.jl\" target=\"_blank\">/home/javid/.julia/packages/Preferences/SHSJJ/src/Preferences.jl:69</a><li> has_preference(m::<b>Module</b>, key::<b>String</b>) in Preferences at <a href=\"file:///home/javid/.julia/packages/Preferences/SHSJJ/src/Preferences.jl\" target=\"_blank\">/home/javid/.julia/packages/Preferences/SHSJJ/src/Preferences.jl:73</a><li> has_preference(m::<b>Module</b>, key::<b>String</b>, default) in Preferences at <a href=\"file:///home/javid/.julia/packages/Preferences/SHSJJ/src/Preferences.jl\" target=\"_blank\">/home/javid/.julia/packages/Preferences/SHSJJ/src/Preferences.jl:73</a><li> load_preference(uuid::<b>Base.UUID</b>, key::<b>String</b>) in Preferences at <a href=\"file:///home/javid/.julia/packages/Preferences/SHSJJ/src/Preferences.jl\" target=\"_blank\">/home/javid/.julia/packages/Preferences/SHSJJ/src/Preferences.jl:27</a><li> load_preference(uuid::<b>Base.UUID</b>, key::<b>String</b>, default) in Preferences at <a href=\"file:///home/javid/.julia/packages/Preferences/SHSJJ/src/Preferences.jl\" target=\"_blank\">/home/javid/.julia/packages/Preferences/SHSJJ/src/Preferences.jl:27</a><li> load_preference(m::<b>Module</b>, key::<b>String</b>) in Preferences at <a href=\"file:///home/javid/.julia/packages/Preferences/SHSJJ/src/Preferences.jl\" target=\"_blank\">/home/javid/.julia/packages/Preferences/SHSJJ/src/Preferences.jl:47</a><li> load_preference(m::<b>Module</b>, key::<b>String</b>, default) in Preferences at <a href=\"file:///home/javid/.julia/packages/Preferences/SHSJJ/src/Preferences.jl\" target=\"_blank\">/home/javid/.julia/packages/Preferences/SHSJJ/src/Preferences.jl:47</a><li> set_preferences!(target_toml::<b>String</b>, pkg_name::<b>String</b>, pairs::<b>Pair{String}...</b>; <i>force</i>) in Preferences at <a href=\"file:///home/javid/.julia/packages/Preferences/SHSJJ/src/Preferences.jl\" target=\"_blank\">/home/javid/.julia/packages/Preferences/SHSJJ/src/Preferences.jl:124</a><li> loadfont(name::<b>String</b>) in GR at <a href=\"file:///home/javid/.julia/packages/GR/SOvTP/src/GR.jl\" target=\"_blank\">/home/javid/.julia/packages/GR/SOvTP/src/GR.jl:4290</a><li> LineNumberNode(l::<b>Int64</b>, f::<b>String</b>) in Core at <a href=\"file:///usr/share/julia/base/boot.jl\" target=\"_blank\">boot.jl:413</a><li> String(s::<b>String</b>) in Core at <a href=\"file:///usr/share/julia/base/boot.jl\" target=\"_blank\">boot.jl:363</a><li> Symbol(s::<b>String</b>) in Core at <a href=\"file:///usr/share/julia/base/boot.jl\" target=\"_blank\">boot.jl:487</a><li> getaddrinfo(host::<b>String</b>, T::<b>Type{<:Sockets.IPAddr}</b>) in Sockets at <a href=\"file:///build/julia/src/julia-1.7.0/usr/share/julia/stdlib/v1.7/Sockets/src/addrinfo.jl\" target=\"_blank\">/usr/share/julia/stdlib/v1.7/Sockets/src/addrinfo.jl:130</a><li> getalladdrinfo(host::<b>String</b>) in Sockets at <a href=\"file:///build/julia/src/julia-1.7.0/usr/share/julia/stdlib/v1.7/Sockets/src/addrinfo.jl\" target=\"_blank\">/usr/share/julia/stdlib/v1.7/Sockets/src/addrinfo.jl:66</a><li> join_multicast_group(sock::<b>Sockets.UDPSocket</b>, group_addr::<b>String</b>) in Sockets at <a href=\"file:///build/julia/src/julia-1.7.0/usr/share/julia/stdlib/v1.7/Sockets/src/Sockets.jl\" target=\"_blank\">/usr/share/julia/stdlib/v1.7/Sockets/src/Sockets.jl:761</a><li> join_multicast_group(sock::<b>Sockets.UDPSocket</b>, group_addr::<b>String</b>, interface_addr::<b>Union{Nothing, String}</b>) in Sockets at <a href=\"file:///build/julia/src/julia-1.7.0/usr/share/julia/stdlib/v1.7/Sockets/src/Sockets.jl\" target=\"_blank\">/usr/share/julia/stdlib/v1.7/Sockets/src/Sockets.jl:761</a><li> leave_multicast_group(sock::<b>Sockets.UDPSocket</b>, group_addr::<b>String</b>) in Sockets at <a href=\"file:///build/julia/src/julia-1.7.0/usr/share/julia/stdlib/v1.7/Sockets/src/Sockets.jl\" target=\"_blank\">/usr/share/julia/stdlib/v1.7/Sockets/src/Sockets.jl:780</a><li> leave_multicast_group(sock::<b>Sockets.UDPSocket</b>, group_addr::<b>String</b>, interface_addr::<b>Union{Nothing, String}</b>) in Sockets at <a href=\"file:///build/julia/src/julia-1.7.0/usr/share/julia/stdlib/v1.7/Sockets/src/Sockets.jl\" target=\"_blank\">/usr/share/julia/stdlib/v1.7/Sockets/src/Sockets.jl:780</a><li> JSON.Writer.JSONText(s::<b>String</b>) in JSON.Writer at <a href=\"file:///home/javid/.julia/packages/JSON/QXB8U/src/Writer.jl\" target=\"_blank\">/home/javid/.julia/packages/JSON/QXB8U/src/Writer.jl:342</a><li> crc32c(s::<b>String</b>) in CRC32c at <a href=\"file:///build/julia/src/julia-1.7.0/usr/share/julia/stdlib/v1.7/CRC32c/src/CRC32c.jl\" target=\"_blank\">/usr/share/julia/stdlib/v1.7/CRC32c/src/CRC32c.jl:39</a><li> crc32c(s::<b>String</b>, crc::<b>UInt32</b>) in CRC32c at <a href=\"file:///build/julia/src/julia-1.7.0/usr/share/julia/stdlib/v1.7/CRC32c/src/CRC32c.jl\" target=\"_blank\">/usr/share/julia/stdlib/v1.7/CRC32c/src/CRC32c.jl:39</a><li> with_scratch_directory(f::<b>Function</b>, scratch_dir::<b>String</b>) in Scratch at <a href=\"file:///home/javid/.julia/packages/Scratch/8Fv6N/src/Scratch.jl\" target=\"_blank\">/home/javid/.julia/packages/Scratch/8Fv6N/src/Scratch.jl:16</a><li> var\"@pkg_str\"(__source__::<b>LineNumberNode</b>, __module__::<b>Module</b>, str::<b>String</b>) in Pkg.REPLMode at <a href=\"file:///build/julia/src/julia-1.7.0/usr/share/julia/stdlib/v1.7/Pkg/src/REPLMode/REPLMode.jl\" target=\"_blank\">/usr/share/julia/stdlib/v1.7/Pkg/src/REPLMode/REPLMode.jl:463</a><li> Pkg.Types.PackageSpec(name::<b>Union{Nothing, String}</b>, uuid::<b>Union{Nothing, Base.UUID}</b>, version::<b>Union{Nothing, Pkg.Types.UpgradeLevel, VersionNumber, String, Pkg.Versions.VersionSpec}</b>, tree_hash::<b>Union{Nothing, Base.SHA1}</b>, repo::<b>Pkg.Types.GitRepo</b>, path::<b>Union{Nothing, String}</b>, pinned::<b>Bool</b>, url, rev, subdir) in Pkg.Types at <a href=\"file:///build/julia/src/julia-1.7.0/usr/share/julia/stdlib/v1.7/Pkg/src/Types.jl\" target=\"_blank\">/usr/share/julia/stdlib/v1.7/Pkg/src/Types.jl:92</a><li> Pkg.Registry.RegistrySpec(name::<b>String</b>) in Pkg.Registry at <a href=\"file:///build/julia/src/julia-1.7.0/usr/share/julia/stdlib/v1.7/Pkg/src/Registry/Registry.jl\" target=\"_blank\">/usr/share/julia/stdlib/v1.7/Pkg/src/Registry/Registry.jl:20</a><li> Pkg.Registry.RegistrySpec(name::<b>Union{Nothing, String}</b>, uuid::<b>Union{Nothing, Base.UUID}</b>, url::<b>Union{Nothing, String}</b>, path::<b>Union{Nothing, String}</b>, linked::<b>Union{Nothing, Bool}</b>) in Pkg.Registry at <a href=\"file:///build/julia/src/julia-1.7.0/usr/share/julia/stdlib/v1.7/Pkg/src/Registry/Registry.jl\" target=\"_blank\">/usr/share/julia/stdlib/v1.7/Pkg/src/Registry/Registry.jl:12</a></ul>"
      ],
      "text/plain": [
       "[1] filter(f, s::Union{SubString{String}, String}) in Base at strings/substring.jl:242\n",
       "[2] length(s::String) in Base at strings/string.jl:272\n",
       "[3] length(s::String, i::Int64, j::Int64) in Base at strings/string.jl:274\n",
       "[4] reverse(s::Union{SubString{String}, String}) in Base at strings/substring.jl:166\n",
       "[5] ColorSchemes.ColorSchemeCategory(name::String) in ColorSchemes at /home/javid/.julia/packages/ColorSchemes/p8fep/src/ColorSchemes.jl:51\n",
       "[6] Animation(dir::String, frames::Vector{String}) in Plots at /home/javid/.julia/packages/Plots/UeTBV/src/animation.jl:3\n",
       "[7] colormap(cname::String) in Colors at /home/javid/.julia/packages/Colors/yDxFN/src/colormaps.jl:283\n",
       "[8] colormap(cname::String, N::Int64; mid, logscale, kvs...) in Colors at /home/javid/.julia/packages/Colors/yDxFN/src/colormaps.jl:283\n",
       "[9] ZMQ.Message(m::String) in ZMQ at /home/javid/.julia/packages/ZMQ/R3wSD/src/message.jl:76\n",
       "[10] subscribe(socket::ZMQ.Socket, filter::Union{String, Vector{UInt8}}) in ZMQ at /home/javid/.julia/packages/ZMQ/R3wSD/src/sockopts.jl:75\n",
       "[11] unsubscribe(socket::ZMQ.Socket, filter::Union{String, Vector{UInt8}}) in ZMQ at /home/javid/.julia/packages/ZMQ/R3wSD/src/sockopts.jl:75\n",
       "[12] artifact_hash(name::String, artifacts_toml::String; platform, pkg_uuid) in Artifacts at /usr/share/julia/stdlib/v1.7/Artifacts/src/Artifacts.jl:419\n",
       "[13] artifact_meta(name::String, artifact_dict::Dict, artifacts_toml::String; platform) in Artifacts at /usr/share/julia/stdlib/v1.7/Artifacts/src/Artifacts.jl:378\n",
       "[14] artifact_meta(name::String, artifacts_toml::String; platform, pkg_uuid) in Artifacts at /usr/share/julia/stdlib/v1.7/Artifacts/src/Artifacts.jl:366\n",
       "[15] find_artifacts_toml(path::String) in Artifacts at /usr/share/julia/stdlib/v1.7/Artifacts/src/Artifacts.jl:484\n",
       "[16] select_downloadable_artifacts(artifact_dict::Dict, artifacts_toml::String; platform, pkg_uuid, include_lazy) in Artifacts at /usr/share/julia/stdlib/v1.7/Artifacts/src/Artifacts.jl:430\n",
       "[17] select_downloadable_artifacts(artifacts_toml::String; platform, include_lazy, pkg_uuid) in Artifacts at /usr/share/julia/stdlib/v1.7/Artifacts/src/Artifacts.jl:462\n",
       "[18] FileWatching.FileMonitor(file::String) in FileWatching at /usr/share/julia/stdlib/v1.7/FileWatching/src/FileWatching.jl:80\n",
       "[19] FileWatching.FolderMonitor(folder::String) in FileWatching at /usr/share/julia/stdlib/v1.7/FileWatching/src/FileWatching.jl:102\n",
       "[20] FileWatching.PollingFileWatcher(file::String) in FileWatching at /usr/share/julia/stdlib/v1.7/FileWatching/src/FileWatching.jl:131\n",
       "[21] FileWatching.PollingFileWatcher(file::String, interval::Float64) in FileWatching at /usr/share/julia/stdlib/v1.7/FileWatching/src/FileWatching.jl:131\n",
       "[22] unwatch_folder(s::String) in FileWatching at /usr/share/julia/stdlib/v1.7/FileWatching/src/FileWatching.jl:780\n",
       "[23] watch_file(s::String) in FileWatching at /usr/share/julia/stdlib/v1.7/FileWatching/src/FileWatching.jl:701\n",
       "[24] watch_file(s::String, timeout_s::Float64) in FileWatching at /usr/share/julia/stdlib/v1.7/FileWatching/src/FileWatching.jl:701\n",
       "[25] watch_folder(s::String) in FileWatching at /usr/share/julia/stdlib/v1.7/FileWatching/src/FileWatching.jl:735\n",
       "[26] watch_folder(s::String, timeout_s::Real) in FileWatching at /usr/share/julia/stdlib/v1.7/FileWatching/src/FileWatching.jl:735\n",
       "[27] vparse(s_::String) in VersionParsing at /home/javid/.julia/packages/VersionParsing/YFVo1/src/VersionParsing.jl:39\n",
       "[28] ==(a::String, b::String) in Base at strings/string.jl:118\n",
       "[29] ==(a::Union{SubString{String}, String}, b::Union{SubString{String}, String}) in Base at strings/substring.jl:102\n",
       "[30] DimensionMismatch(msg::String) in Base at array.jl:12\n",
       "[31] IOBuffer(str::String) in Base at strings/io.jl:304\n",
       "[32] InvalidStateException(msg::String, state::Symbol) in Base at channels.jl:298\n",
       "[33] MissingException(msg::String) in Base at missing.jl:15\n",
       "[34] abspath(a::String) in Base.Filesystem at path.jl:415\n",
       "[35] ascii(s::String) in Base at strings/util.jl:777\n",
       "[36] chomp(s::String) in Base at strings/util.jl:218\n",
       "[37] cmp(a::String, b::String) in Base at strings/string.jl:112\n",
       "[38] codeunit(s::String) in Base at strings/string.jl:99\n",
       "[39] codeunit(s::String, i::Integer) in Base at strings/string.jl:101\n",
       "[40] convert(::Type{String}, x::String) in Base at essentials.jl:223\n",
       "[41] dump(io::IOContext, x::String, n::Int64, indent) in Base at show.jl:2600\n",
       "[42] endswith(a::Union{SubString{String}, String}, b::Union{SubString{String}, String}) in Base at strings/util.jl:60\n",
       "[43] findall(path::String, idx::LibGit2.GitIndex) in LibGit2 at /usr/share/julia/stdlib/v1.7/LibGit2/src/index.jl:191\n",
       "[44] findnext(pred::Base.Fix2{<:Union{typeof(==), typeof(isequal)}, <:AbstractChar}, s::String, i::Integer) in Base at strings/search.jl:5\n",
       "[45] findnext(re::Regex, str::Union{String, SubString}, idx::Integer) in Base at regex.jl:393\n",
       "[46] findprev(pred::Base.Fix2{<:Union{typeof(==), typeof(isequal)}, <:AbstractChar}, s::String, i::Integer) in Base at strings/search.jl:49\n",
       "[47] gensym(s::String) in Base at expr.jl:12\n",
       "[48] getindex(p::Base.BinaryPlatforms.AbstractPlatform, k::String) in Base.BinaryPlatforms at binaryplatforms.jl:137\n",
       "[49] getindex(s::String, i::Int64) in Base at strings/string.jl:222\n",
       "[50] getindex(s::String, r::UnitRange{Int64}) in Base at strings/string.jl:257\n",
       "[51] getindex(s::String, r::UnitRange{<:Integer}) in Base at strings/string.jl:255\n",
       "[52] hash(s::String, h::UInt64) in Base at hashing.jl:105\n",
       "[53] haskey(p::Base.BinaryPlatforms.AbstractPlatform, k::String) in Base.BinaryPlatforms at binaryplatforms.jl:138\n",
       "[54] hex2bytes!(dest::AbstractArray{UInt8}, s::String) in Base at strings/util.jl:687\n",
       "[55] isascii(s::String) in Base at strings/string.jl:314\n",
       "[56] isdirpath(path::String) in Base.Filesystem at path.jl:117\n",
       "[57] isvalid(::Type{String}, s::Union{String, SubArray{UInt8, 1, Vector{UInt8}, I, true} where I<:Union{Tuple{Vararg{Real}}, Tuple{AbstractUnitRange, Vararg{Any}}}, Vector{UInt8}}) in Base at strings/string.jl:185\n",
       "[58] isvalid(s::String) in Base at strings/string.jl:186\n",
       "[59] isvalid(s::String, i::Int64) in Base at strings/string.jl:312\n",
       "[60] iterate(s::String) in Base at strings/string.jl:192\n",
       "[61] iterate(s::String, i::Int64) in Base at strings/string.jl:192\n",
       "[62] match(re::Regex, str::Union{SubString{String}, String}, idx::Integer) in Base at regex.jl:367\n",
       "[63] match(re::Regex, str::Union{SubString{String}, String}, idx::Integer, add_opts::UInt32) in Base at regex.jl:367\n",
       "[64] ncodeunits(s::String) in Base at strings/string.jl:98\n",
       "[65] nextind(s::String, i::Int64) in Base at strings/string.jl:150\n",
       "[66] normpath(path::String) in Base.Filesystem at path.jl:367\n",
       "[67] pointer(s::String) in Base at strings/string.jl:95\n",
       "[68] pointer(s::String, i::Integer) in Base at strings/string.jl:96\n",
       "[69] print(io::IO, s::Union{SubString{String}, String}) in Base at strings/io.jl:246\n",
       "[70] relpath(path::String) in Base.Filesystem at path.jl:536\n",
       "[71] relpath(path::String, startpath::String) in Base.Filesystem at path.jl:536\n",
       "[72] repeat(s::Union{SubString{String}, String}, r::Integer) in Base at strings/substring.jl:225\n",
       "[73] replace(str::String, pat_repl::Vararg{Pair, N}; count) where N in Base at strings/util.jl:535\n",
       "[74] setindex!(p::Base.BinaryPlatforms.AbstractPlatform, v::String, k::String) in Base.BinaryPlatforms at binaryplatforms.jl:139\n",
       "[75] sizeof(s::String) in Base at Base.jl:179\n",
       "[76] splitdir(path::String) in Base.Filesystem at path.jl:130\n",
       "[77] splitdrive(path::String) in Base.Filesystem at path.jl:28\n",
       "[78] splitext(path::String) in Base.Filesystem at path.jl:207\n",
       "[79] splitpath(p::String) in Base.Filesystem at path.jl:239\n",
       "[80] startswith(a::Union{SubString{String}, String}, b::Union{SubString{String}, String}) in Base at strings/util.jl:48\n",
       "[81] string(a::String) in Base at strings/substring.jl:177\n",
       "[82] thisind(s::String, i::Int64) in Base at strings/string.jl:129\n",
       "[83] transcode(::Type{String}, src::String) in Base at c.jl:290\n",
       "[84] transcode(::Type{T}, src::String) where T<:Union{Int32, UInt32} in Base at c.jl:277\n",
       "[85] transcode(T, src::String) in Base at c.jl:291\n",
       "[86] tryparse(::Type{Float64}, s::String) in Base at parse.jl:247\n",
       "[87] tryparse(::Type{Float32}, s::String) in Base at parse.jl:267\n",
       "[88] typemin(::String) in Base at strings/string.jl:125\n",
       "[89] unsafe_wrap(::Type{Vector{UInt8}}, s::String) in Base at strings/string.jl:85\n",
       "[90] write(io::IO, s::Union{SubString{String}, String}) in Base at strings/io.jl:244\n",
       "[91] Downloads.RequestError(url::String, code::Int64, message::String, response::Downloads.Response) in Downloads at /usr/share/julia/stdlib/v1.7/Downloads/src/Downloads.jl:126\n",
       "[92] Downloads.Response(proto::Union{Nothing, String}, url::String, status::Int64, message::String, headers::Vector{Pair{String, String}}) in Downloads at /usr/share/julia/stdlib/v1.7/Downloads/src/Downloads.jl:93\n",
       "[93] serialize(s::Serialization.AbstractSerializer, ss::String) in Serialization at /usr/share/julia/stdlib/v1.7/Serialization/src/Serialization.jl:292\n",
       "[94] uuid5(ns::Base.UUID, name::String) in UUIDs at /usr/share/julia/stdlib/v1.7/UUIDs/src/UUIDs.jl:135\n",
       "[95] hmac_sha1(key::Vector{UInt8}, str::String) in SHA at /usr/share/julia/stdlib/v1.7/SHA/src/SHA.jl:109\n",
       "[96] hmac_sha224(key::Vector{UInt8}, str::String) in SHA at /usr/share/julia/stdlib/v1.7/SHA/src/SHA.jl:109\n",
       "[97] hmac_sha256(key::Vector{UInt8}, str::String) in SHA at /usr/share/julia/stdlib/v1.7/SHA/src/SHA.jl:109\n",
       "[98] hmac_sha2_224(key::Vector{UInt8}, str::String) in SHA at /usr/share/julia/stdlib/v1.7/SHA/src/SHA.jl:109\n",
       "[99] hmac_sha2_256(key::Vector{UInt8}, str::String) in SHA at /usr/share/julia/stdlib/v1.7/SHA/src/SHA.jl:109\n",
       "[100] hmac_sha2_384(key::Vector{UInt8}, str::String) in SHA at /usr/share/julia/stdlib/v1.7/SHA/src/SHA.jl:109\n",
       "[101] hmac_sha2_512(key::Vector{UInt8}, str::String) in SHA at /usr/share/julia/stdlib/v1.7/SHA/src/SHA.jl:109\n",
       "[102] hmac_sha384(key::Vector{UInt8}, str::String) in SHA at /usr/share/julia/stdlib/v1.7/SHA/src/SHA.jl:109\n",
       "[103] hmac_sha3_224(key::Vector{UInt8}, str::String) in SHA at /usr/share/julia/stdlib/v1.7/SHA/src/SHA.jl:109\n",
       "[104] hmac_sha3_256(key::Vector{UInt8}, str::String) in SHA at /usr/share/julia/stdlib/v1.7/SHA/src/SHA.jl:109\n",
       "[105] hmac_sha3_384(key::Vector{UInt8}, str::String) in SHA at /usr/share/julia/stdlib/v1.7/SHA/src/SHA.jl:109\n",
       "[106] hmac_sha3_512(key::Vector{UInt8}, str::String) in SHA at /usr/share/julia/stdlib/v1.7/SHA/src/SHA.jl:109\n",
       "[107] hmac_sha512(key::Vector{UInt8}, str::String) in SHA at /usr/share/julia/stdlib/v1.7/SHA/src/SHA.jl:109\n",
       "[108] sha1(str::String) in SHA at /usr/share/julia/stdlib/v1.7/SHA/src/SHA.jl:107\n",
       "[109] sha224(str::String) in SHA at /usr/share/julia/stdlib/v1.7/SHA/src/SHA.jl:107\n",
       "[110] sha256(str::String) in SHA at /usr/share/julia/stdlib/v1.7/SHA/src/SHA.jl:107\n",
       "[111] sha2_224(str::String) in SHA at /usr/share/julia/stdlib/v1.7/SHA/src/SHA.jl:107\n",
       "[112] sha2_256(str::String) in SHA at /usr/share/julia/stdlib/v1.7/SHA/src/SHA.jl:107\n",
       "[113] sha2_384(str::String) in SHA at /usr/share/julia/stdlib/v1.7/SHA/src/SHA.jl:107\n",
       "[114] sha2_512(str::String) in SHA at /usr/share/julia/stdlib/v1.7/SHA/src/SHA.jl:107\n",
       "[115] sha384(str::String) in SHA at /usr/share/julia/stdlib/v1.7/SHA/src/SHA.jl:107\n",
       "[116] sha3_224(str::String) in SHA at /usr/share/julia/stdlib/v1.7/SHA/src/SHA.jl:107\n",
       "[117] sha3_256(str::String) in SHA at /usr/share/julia/stdlib/v1.7/SHA/src/SHA.jl:107\n",
       "[118] sha3_384(str::String) in SHA at /usr/share/julia/stdlib/v1.7/SHA/src/SHA.jl:107\n",
       "[119] sha3_512(str::String) in SHA at /usr/share/julia/stdlib/v1.7/SHA/src/SHA.jl:107\n",
       "[120] sha512(str::String) in SHA at /usr/share/julia/stdlib/v1.7/SHA/src/SHA.jl:107\n",
       "[121] has_preference(uuid::Base.UUID, key::String) in Preferences at /home/javid/.julia/packages/Preferences/SHSJJ/src/Preferences.jl:69\n",
       "[122] has_preference(uuid::Base.UUID, key::String, default) in Preferences at /home/javid/.julia/packages/Preferences/SHSJJ/src/Preferences.jl:69\n",
       "[123] has_preference(m::Module, key::String) in Preferences at /home/javid/.julia/packages/Preferences/SHSJJ/src/Preferences.jl:73\n",
       "[124] has_preference(m::Module, key::String, default) in Preferences at /home/javid/.julia/packages/Preferences/SHSJJ/src/Preferences.jl:73\n",
       "[125] load_preference(uuid::Base.UUID, key::String) in Preferences at /home/javid/.julia/packages/Preferences/SHSJJ/src/Preferences.jl:27\n",
       "[126] load_preference(uuid::Base.UUID, key::String, default) in Preferences at /home/javid/.julia/packages/Preferences/SHSJJ/src/Preferences.jl:27\n",
       "[127] load_preference(m::Module, key::String) in Preferences at /home/javid/.julia/packages/Preferences/SHSJJ/src/Preferences.jl:47\n",
       "[128] load_preference(m::Module, key::String, default) in Preferences at /home/javid/.julia/packages/Preferences/SHSJJ/src/Preferences.jl:47\n",
       "[129] set_preferences!(target_toml::String, pkg_name::String, pairs::Pair{String}...; force) in Preferences at /home/javid/.julia/packages/Preferences/SHSJJ/src/Preferences.jl:124\n",
       "[130] loadfont(name::String) in GR at /home/javid/.julia/packages/GR/SOvTP/src/GR.jl:4290\n",
       "[131] LineNumberNode(l::Int64, f::String) in Core at boot.jl:413\n",
       "[132] String(s::String) in Core at boot.jl:363\n",
       "[133] Symbol(s::String) in Core at boot.jl:487\n",
       "[134] getaddrinfo(host::String, T::Type{<:Sockets.IPAddr}) in Sockets at /usr/share/julia/stdlib/v1.7/Sockets/src/addrinfo.jl:130\n",
       "[135] getalladdrinfo(host::String) in Sockets at /usr/share/julia/stdlib/v1.7/Sockets/src/addrinfo.jl:66\n",
       "[136] join_multicast_group(sock::Sockets.UDPSocket, group_addr::String) in Sockets at /usr/share/julia/stdlib/v1.7/Sockets/src/Sockets.jl:761\n",
       "[137] join_multicast_group(sock::Sockets.UDPSocket, group_addr::String, interface_addr::Union{Nothing, String}) in Sockets at /usr/share/julia/stdlib/v1.7/Sockets/src/Sockets.jl:761\n",
       "[138] leave_multicast_group(sock::Sockets.UDPSocket, group_addr::String) in Sockets at /usr/share/julia/stdlib/v1.7/Sockets/src/Sockets.jl:780\n",
       "[139] leave_multicast_group(sock::Sockets.UDPSocket, group_addr::String, interface_addr::Union{Nothing, String}) in Sockets at /usr/share/julia/stdlib/v1.7/Sockets/src/Sockets.jl:780\n",
       "[140] JSON.Writer.JSONText(s::String) in JSON.Writer at /home/javid/.julia/packages/JSON/QXB8U/src/Writer.jl:342\n",
       "[141] crc32c(s::String) in CRC32c at /usr/share/julia/stdlib/v1.7/CRC32c/src/CRC32c.jl:39\n",
       "[142] crc32c(s::String, crc::UInt32) in CRC32c at /usr/share/julia/stdlib/v1.7/CRC32c/src/CRC32c.jl:39\n",
       "[143] with_scratch_directory(f::Function, scratch_dir::String) in Scratch at /home/javid/.julia/packages/Scratch/8Fv6N/src/Scratch.jl:16\n",
       "[144] var\"@pkg_str\"(__source__::LineNumberNode, __module__::Module, str::String) in Pkg.REPLMode at /usr/share/julia/stdlib/v1.7/Pkg/src/REPLMode/REPLMode.jl:463\n",
       "[145] Pkg.Types.PackageSpec(name::Union{Nothing, String}, uuid::Union{Nothing, Base.UUID}, version::Union{Nothing, Pkg.Types.UpgradeLevel, VersionNumber, String, Pkg.Versions.VersionSpec}, tree_hash::Union{Nothing, Base.SHA1}, repo::Pkg.Types.GitRepo, path::Union{Nothing, String}, pinned::Bool, url, rev, subdir) in Pkg.Types at /usr/share/julia/stdlib/v1.7/Pkg/src/Types.jl:92\n",
       "[146] Pkg.Registry.RegistrySpec(name::String) in Pkg.Registry at /usr/share/julia/stdlib/v1.7/Pkg/src/Registry/Registry.jl:20\n",
       "[147] Pkg.Registry.RegistrySpec(name::Union{Nothing, String}, uuid::Union{Nothing, Base.UUID}, url::Union{Nothing, String}, path::Union{Nothing, String}, linked::Union{Nothing, Bool}) in Pkg.Registry at /usr/share/julia/stdlib/v1.7/Pkg/src/Registry/Registry.jl:12"
      ]
     },
     "execution_count": 257,
     "metadata": {},
     "output_type": "execute_result"
    }
   ],
   "source": [
    "methodswith(String)"
   ]
  },
  {
   "cell_type": "markdown",
   "id": "0199d206-d0e5-41b6-bde6-f06d19400b57",
   "metadata": {},
   "source": [
    "As already noted, type stability is crucial for optimal performance. A function is type-stable\n",
    "if the return type(s) of all the output variables can be deduced from the types of the inputs."
   ]
  },
  {
   "cell_type": "markdown",
   "id": "330bd5a7-ec78-4500-ad5c-b76c5af80332",
   "metadata": {},
   "source": [
    "Some crude performance measurements (execution time and memory used) on the\n",
    "execution of functions can be obtained from the macro @time, for example:"
   ]
  },
  {
   "cell_type": "code",
   "execution_count": 263,
   "id": "487ebd38-9ebf-47f6-8c72-289f20c8b239",
   "metadata": {},
   "outputs": [
    {
     "name": "stdout",
     "output_type": "stream",
     "text": [
      "  2.483461 seconds\n"
     ]
    },
    {
     "data": {
      "text/plain": [
       "950439251"
      ]
     },
     "execution_count": 263,
     "metadata": {},
     "output_type": "execute_result"
    }
   ],
   "source": [
    "@time fib(35)"
   ]
  },
  {
   "cell_type": "code",
   "execution_count": 264,
   "id": "d8bb175b-8908-4630-8d70-a25164d6dcbb",
   "metadata": {},
   "outputs": [
    {
     "data": {
      "text/html": [
       "fib(n) in Main at In[196]:1"
      ],
      "text/plain": [
       "fib(n) in Main at In[196]:1"
      ]
     },
     "execution_count": 264,
     "metadata": {},
     "output_type": "execute_result"
    }
   ],
   "source": [
    "@which(fib(2))"
   ]
  },
  {
   "cell_type": "code",
   "execution_count": 265,
   "id": "524429f3-5357-4f62-b379-2a89037a94cf",
   "metadata": {},
   "outputs": [
    {
     "data": {
      "text/plain": [
       "fib (generic function with 1 method)"
      ]
     },
     "execution_count": 265,
     "metadata": {},
     "output_type": "execute_result"
    }
   ],
   "source": [
    "fib(n) = n < 2 ? n : fib(n-1) + fib(n-2)"
   ]
  },
  {
   "cell_type": "code",
   "execution_count": 267,
   "id": "cac2c43a-01b4-42d7-b188-3f7316ade1bf",
   "metadata": {},
   "outputs": [
    {
     "name": "stdout",
     "output_type": "stream",
     "text": [
      "  0.054141 seconds\n"
     ]
    },
    {
     "data": {
      "text/plain": [
       "9227465"
      ]
     },
     "execution_count": 267,
     "metadata": {},
     "output_type": "execute_result"
    }
   ],
   "source": [
    "@time fib(35)"
   ]
  },
  {
   "cell_type": "markdown",
   "id": "57a63d97-9b0a-4ba7-b2c3-2fc78e1aa611",
   "metadata": {},
   "source": [
    "@elapsed only returns the execution time. @elapsed fib(35) returns 0.115188593."
   ]
  },
  {
   "cell_type": "code",
   "execution_count": 269,
   "id": "7f18c736-733b-412c-bef4-f1a50adf3205",
   "metadata": {},
   "outputs": [
    {
     "data": {
      "text/plain": [
       "0.060157082"
      ]
     },
     "execution_count": 269,
     "metadata": {},
     "output_type": "execute_result"
    }
   ],
   "source": [
    "@elapsed fib(35)"
   ]
  },
  {
   "cell_type": "markdown",
   "id": "234b4018-5c60-426a-b921-bcc15c071371",
   "metadata": {},
   "source": [
    "In Julia, the first call of a method invokes the LLVM JIT compiler backend (refer to the How\n",
    "Julia works section in Chapter 1, Installing the Julia Platform), to emit machine code for it, so\n",
    "this warm-up call will take a bit longer. Start timing or benchmarking from the second call\n",
    "onward, after doing a dry run."
   ]
  },
  {
   "cell_type": "code",
   "execution_count": null,
   "id": "d9dc06fd-a44f-46e4-97e6-73644859b38f",
   "metadata": {},
   "outputs": [],
   "source": []
  }
 ],
 "metadata": {
  "kernelspec": {
   "display_name": "Julia 1.6.4",
   "language": "julia",
   "name": "julia-1.6"
  },
  "language_info": {
   "file_extension": ".jl",
   "mimetype": "application/julia",
   "name": "julia",
   "version": "1.7.0"
  }
 },
 "nbformat": 4,
 "nbformat_minor": 5
}
