{
 "cells": [
  {
   "cell_type": "markdown",
   "id": "0373757a-75dc-4b66-b64e-a4c5eaf1dc6a",
   "metadata": {},
   "source": [
    "# Selection Logic"
   ]
  },
  {
   "cell_type": "markdown",
   "id": "a40fac23-96d3-4251-b967-710644beb319",
   "metadata": {},
   "source": [
    "## Boolean Expressions"
   ]
  },
  {
   "cell_type": "markdown",
   "id": "daa9310d-fcb6-4f20-a2c1-b8723e0c2056",
   "metadata": {},
   "source": [
    "Caution: Some languages allow the use of a numeric expression (n, say) where a Boolean\n",
    "expression is expected. If n is non-zero, it is interpreted as true; if zero, it is false. Julia does\n",
    "not allow this. It is an error if the value of an expression (used as a condition) is anything but\n",
    "true or false."
   ]
  },
  {
   "cell_type": "code",
   "execution_count": 5,
   "id": "24178e32-5436-4a47-8f67-43cee957bb9a",
   "metadata": {},
   "outputs": [
    {
     "data": {
      "text/plain": [
       "1"
      ]
     },
     "execution_count": 5,
     "metadata": {},
     "output_type": "execute_result"
    }
   ],
   "source": [
    "b = 1"
   ]
  },
  {
   "cell_type": "code",
   "execution_count": 6,
   "id": "ac8b086f-2fcb-4b7d-8faf-ef01a963e981",
   "metadata": {},
   "outputs": [
    {
     "ename": "LoadError",
     "evalue": "TypeError: non-boolean (Int64) used in boolean context",
     "output_type": "error",
     "traceback": [
      "TypeError: non-boolean (Int64) used in boolean context",
      "",
      "Stacktrace:",
      " [1] top-level scope",
      "   @ In[6]:1",
      " [2] eval",
      "   @ ./boot.jl:373 [inlined]",
      " [3] include_string(mapexpr::typeof(REPL.softscope), mod::Module, code::String, filename::String)",
      "   @ Base ./loading.jl:1196"
     ]
    }
   ],
   "source": [
    "if b \n",
    "    print(\"Done!\")\n",
    "end\n"
   ]
  },
  {
   "cell_type": "markdown",
   "id": "afcb66a1-9b56-44f6-9d8c-309278ab739e",
   "metadata": {},
   "source": [
    "## The if Statement"
   ]
  },
  {
   "cell_type": "code",
   "execution_count": 7,
   "id": "4434a11c-f938-4014-b0ec-23aee7fe59cf",
   "metadata": {},
   "outputs": [],
   "source": [
    "using Printf"
   ]
  },
  {
   "cell_type": "code",
   "execution_count": 8,
   "id": "fc0537b3-f1cd-4b40-b694-d780aee55047",
   "metadata": {},
   "outputs": [
    {
     "data": {
      "text/plain": [
       "jobCharge (generic function with 1 method)"
      ]
     },
     "execution_count": 8,
     "metadata": {},
     "output_type": "execute_result"
    }
   ],
   "source": [
    "function jobCharge()\n",
    "    print(\"Hours worked? \")\n",
    "    hours = parse(Float64, readline())\n",
    "    print(\"Cost of parts? \")\n",
    "    parts = parse(Float64, readline())\n",
    "    jobCharge = hours * 100 + parts\n",
    "    if jobCharge < 150\n",
    "        jobCharge = 150\n",
    "    end\n",
    "    @printf(\"\\nTotal charges: \\$%0.2f\\n\", jobCharge)\n",
    "end # jobCharge"
   ]
  },
  {
   "cell_type": "code",
   "execution_count": 9,
   "id": "9e062c2e-d1a4-4d4c-a950-78443d808add",
   "metadata": {},
   "outputs": [
    {
     "name": "stdin",
     "output_type": "stream",
     "text": [
      "stdin>  3.2\n",
      "stdin>  3554\n"
     ]
    },
    {
     "name": "stdout",
     "output_type": "stream",
     "text": [
      "Hours worked? Cost of parts? \n",
      "Total charges: $3874.00\n"
     ]
    }
   ],
   "source": [
    "jobCharge()"
   ]
  },
  {
   "cell_type": "markdown",
   "id": "90c06268-21cc-465b-b682-a61aadd45dde",
   "metadata": {},
   "source": [
    "## Symbolic Constants"
   ]
  },
  {
   "cell_type": "markdown",
   "id": "ac067102-6960-4cd9-b2a1-91fa9453eb35",
   "metadata": {},
   "source": [
    "In Julia, we use the const declaration to define symbolic constants (among other things). We\n",
    "show how by rewriting Program P3.1 as Program P3.6."
   ]
  },
  {
   "cell_type": "code",
   "execution_count": 10,
   "id": "8517141e-8a75-416a-a2fd-005083e13ed4",
   "metadata": {},
   "outputs": [
    {
     "data": {
      "text/plain": [
       "jobCharge (generic function with 1 method)"
      ]
     },
     "execution_count": 10,
     "metadata": {},
     "output_type": "execute_result"
    }
   ],
   "source": [
    "const ChargePerHour = 100\n",
    "const MinJobCost = 150\n",
    "function jobCharge()\n",
    "    print(\"Hours worked? \")\n",
    "    hours = parse(Float64, readline())\n",
    "    print(\"Cost of parts? \")\n",
    "    parts = parse(Float64, readline())\n",
    "    jobCharge = hours * ChargePerHour + parts\n",
    "    if jobCharge < MinJobCost\n",
    "        jobCharge = MinJobCost\n",
    "    end\n",
    "    @printf(\"\\nTotal charges: \\$%0.2f\\n\", jobCharge)\n",
    "end # jobCharge"
   ]
  },
  {
   "cell_type": "code",
   "execution_count": 11,
   "id": "dea83f18-a35d-4ed6-b123-61cfa31f38fb",
   "metadata": {},
   "outputs": [
    {
     "name": "stdin",
     "output_type": "stream",
     "text": [
      "stdin>  2\n",
      "stdin>  3\n"
     ]
    },
    {
     "name": "stdout",
     "output_type": "stream",
     "text": [
      "Hours worked? Cost of parts? \n",
      "Total charges: $203.00\n"
     ]
    }
   ],
   "source": [
    "jobCharge()"
   ]
  },
  {
   "cell_type": "markdown",
   "id": "f7517c0b-b887-4d7d-8266-09d0b3db26d3",
   "metadata": {},
   "source": [
    "The identifier const is used to declare global variables (outside of any function) whose values\n",
    "will not change during the execution of the program. It allows us to declare an identifier as a\n",
    "symbolic constant."
   ]
  },
  {
   "cell_type": "markdown",
   "id": "3ed8b9de-c579-4c81-a296-fee114dfc836",
   "metadata": {},
   "source": [
    "Julia allows us to declare more than one constant in the same declaration. Here, we\n",
    "could have used this:"
   ]
  },
  {
   "cell_type": "code",
   "execution_count": 12,
   "id": "920c8875-65f1-4730-ad76-9ba27dfd4002",
   "metadata": {},
   "outputs": [
    {
     "data": {
      "text/plain": [
       "(100, 150)"
      ]
     },
     "execution_count": 12,
     "metadata": {},
     "output_type": "execute_result"
    }
   ],
   "source": [
    "const ChargePerHour, MinJobCost = 100, 150"
   ]
  },
  {
   "cell_type": "markdown",
   "id": "c66b420b-bc1b-433a-bd66-afc3d57a1ea6",
   "metadata": {},
   "source": [
    "## The if…elseif…else Statement"
   ]
  },
  {
   "cell_type": "markdown",
   "id": "e2e09776-8ea0-451a-a5af-2d68108f2c3c",
   "metadata": {},
   "source": [
    "In expressing the logic of our program, we use the if statement when there is only one option.\n",
    "We use the if…else statement when there are two. But when there are three or more we use the\n",
    "if…elseif…else statement."
   ]
  },
  {
   "cell_type": "code",
   "execution_count": null,
   "id": "eced96b1-373d-4925-aea9-1cf7c94e0cc3",
   "metadata": {},
   "outputs": [],
   "source": []
  }
 ],
 "metadata": {
  "kernelspec": {
   "display_name": "Julia 1.7.1",
   "language": "julia",
   "name": "julia-1.7"
  },
  "language_info": {
   "file_extension": ".jl",
   "mimetype": "application/julia",
   "name": "julia",
   "version": "1.7.1"
  }
 },
 "nbformat": 4,
 "nbformat_minor": 5
}
