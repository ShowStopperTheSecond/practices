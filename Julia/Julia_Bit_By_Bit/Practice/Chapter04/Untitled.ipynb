{
 "cells": [
  {
   "cell_type": "markdown",
   "id": "a26ae148-471a-478f-9820-6b0e0a6642c9",
   "metadata": {},
   "source": [
    "# The for and while Statements"
   ]
  },
  {
   "cell_type": "markdown",
   "id": "7f05ad08-4e1c-4788-99d5-2d47646ebf7c",
   "metadata": {},
   "source": [
    "## The for Statement"
   ]
  },
  {
   "cell_type": "code",
   "execution_count": 12,
   "id": "6db2f1cc-c45c-4916-b504-5d40aed17727",
   "metadata": {},
   "outputs": [
    {
     "data": {
      "text/plain": [
       "printLines (generic function with 2 methods)"
      ]
     },
     "execution_count": 12,
     "metadata": {},
     "output_type": "execute_result"
    }
   ],
   "source": [
    "function printLines(message=\"WTF\")\n",
    "    n = parse(Int,readline())\n",
    "    for _ in 1:n\n",
    "        println(message)\n",
    "        \n",
    "    end\n",
    "end\n"
   ]
  },
  {
   "cell_type": "code",
   "execution_count": 14,
   "id": "44fe80d5-6ece-4c20-9b0d-d4c584cf85a1",
   "metadata": {},
   "outputs": [
    {
     "name": "stdin",
     "output_type": "stream",
     "text": [
      "stdin>  2\n"
     ]
    },
    {
     "name": "stdout",
     "output_type": "stream",
     "text": [
      "WTF\n",
      "WTF\n"
     ]
    }
   ],
   "source": [
    "printLines()"
   ]
  },
  {
   "cell_type": "markdown",
   "id": "c1b8cd27-b3f6-4d08-9bfa-1102284d5931",
   "metadata": {},
   "source": [
    "### Some interesting Inlines"
   ]
  },
  {
   "cell_type": "code",
   "execution_count": 17,
   "id": "455225a5-3030-4b92-8db4-fe0c0ad89f5a",
   "metadata": {},
   "outputs": [
    {
     "data": {
      "text/plain": [
       "1"
      ]
     },
     "execution_count": 17,
     "metadata": {},
     "output_type": "execute_result"
    }
   ],
   "source": [
    "first = 10\n",
    "inc = first <= 30 ? 1 : 2"
   ]
  },
  {
   "cell_type": "code",
   "execution_count": 18,
   "id": "c19ad622-6ee2-4de3-99e5-a8c8a373d2f3",
   "metadata": {},
   "outputs": [
    {
     "data": {
      "text/plain": [
       "1"
      ]
     },
     "execution_count": 18,
     "metadata": {},
     "output_type": "execute_result"
    }
   ],
   "source": [
    "first <= 30 ? inc=1 : inc=-1"
   ]
  },
  {
   "cell_type": "code",
   "execution_count": 19,
   "id": "faaa2008-31e4-42cb-9d62-ed1102121e8f",
   "metadata": {},
   "outputs": [
    {
     "data": {
      "text/plain": [
       "1"
      ]
     },
     "execution_count": 19,
     "metadata": {},
     "output_type": "execute_result"
    }
   ],
   "source": [
    "inc"
   ]
  },
  {
   "cell_type": "markdown",
   "id": "db7b6eab-f6a1-4a0a-8e6b-3e5f3f4c993f",
   "metadata": {},
   "source": [
    "We can't use 0 as step size"
   ]
  },
  {
   "cell_type": "code",
   "execution_count": 20,
   "id": "dbe500d6-4d35-4bbe-8fbc-3850144bb271",
   "metadata": {},
   "outputs": [
    {
     "ename": "LoadError",
     "evalue": "ArgumentError: step cannot be zero",
     "output_type": "error",
     "traceback": [
      "ArgumentError: step cannot be zero",
      "",
      "Stacktrace:",
      " [1] steprange_last(start::Int64, step::Int64, stop::Int64)",
      "   @ Base ./range.jl:288",
      " [2] StepRange",
      "   @ ./range.jl:275 [inlined]",
      " [3] StepRange",
      "   @ ./range.jl:330 [inlined]",
      " [4] _colon",
      "   @ ./range.jl:24 [inlined]",
      " [5] (::Colon)(start::Int64, step::Int64, stop::Int64)",
      "   @ Base ./range.jl:22",
      " [6] top-level scope",
      "   @ In[20]:1",
      " [7] eval",
      "   @ ./boot.jl:373 [inlined]",
      " [8] include_string(mapexpr::typeof(REPL.softscope), mod::Module, code::String, filename::String)",
      "   @ Base ./loading.jl:1196"
     ]
    }
   ],
   "source": [
    "1:0:10"
   ]
  },
  {
   "cell_type": "markdown",
   "id": "d8f84d88-2a26-494c-8d8c-07096ec0a48d",
   "metadata": {},
   "source": [
    "### Tip"
   ]
  },
  {
   "cell_type": "markdown",
   "id": "099039a1-3921-458b-942e-b3b5deab12f8",
   "metadata": {},
   "source": [
    "Julia lets you specify the calculation exactly as shown:"
   ]
  },
  {
   "cell_type": "code",
   "execution_count": 21,
   "id": "165d13ba-21f2-4fca-8bcd-6aef07e2b687",
   "metadata": {},
   "outputs": [
    {
     "data": {
      "text/plain": [
       "50"
      ]
     },
     "execution_count": 21,
     "metadata": {},
     "output_type": "execute_result"
    }
   ],
   "source": [
    "5(10)"
   ]
  },
  {
   "cell_type": "code",
   "execution_count": 22,
   "id": "6f5f7815-5405-4252-b1d8-dc2a02d891a3",
   "metadata": {},
   "outputs": [
    {
     "data": {
      "text/plain": [
       "29"
      ]
     },
     "execution_count": 22,
     "metadata": {},
     "output_type": "execute_result"
    }
   ],
   "source": [
    "a=10\n",
    "b=29"
   ]
  },
  {
   "cell_type": "code",
   "execution_count": 24,
   "id": "f3766142-b55c-44b2-89f9-796185b4d476",
   "metadata": {},
   "outputs": [
    {
     "data": {
      "text/plain": [
       "100"
      ]
     },
     "execution_count": 24,
     "metadata": {},
     "output_type": "execute_result"
    }
   ],
   "source": [
    "10(a)"
   ]
  },
  {
   "cell_type": "markdown",
   "id": "7b7252f1-2aea-41f8-9895-09dee7c89966",
   "metadata": {},
   "source": [
    "## The Expressive Power of for"
   ]
  },
  {
   "cell_type": "markdown",
   "id": "8d2371e3-3833-4fd1-a00f-5a33f89a74b2",
   "metadata": {},
   "source": [
    "Terminology: The symbols = and ∈, and the word in are synonyms of each other. They can be\n",
    "used interchangeably. For example, the following all mean the same thing:"
   ]
  },
  {
   "cell_type": "code",
   "execution_count": 25,
   "id": "f3c0c1a4-2a63-47d5-a665-04f0dc7920e9",
   "metadata": {},
   "outputs": [],
   "source": [
    "# for n = 1:4\n",
    "# for n in 1:4\n",
    "# for n ∈ 1:4"
   ]
  },
  {
   "cell_type": "markdown",
   "id": "f186a97a-5771-4165-bcf5-f24e0c4a43d9",
   "metadata": {},
   "source": [
    "So why do we need three operators all meaning the same thing? It's just that in some situations,\n",
    "one might be more natural to use than the others. In the examples with numbers we saw before,\n",
    "= was probably the most appropriate to use; but it is more natural to talk about characters in a\n",
    "string or elements belonging to (∈) a set."
   ]
  },
  {
   "cell_type": "markdown",
   "id": "23241bcf-259f-4d93-8825-de071927fe9d",
   "metadata": {},
   "source": [
    "### For each line in a file:"
   ]
  },
  {
   "cell_type": "code",
   "execution_count": 34,
   "id": "40f18b9f-c60b-4cbb-a267-4f5848b3f5d2",
   "metadata": {},
   "outputs": [
    {
     "name": "stdout",
     "output_type": "stream",
     "text": [
      " 1. why don't you grovel at my feet (grovel: crawel,beg) \n",
      " 2. why must i stoop so low? (stoop: act of bending the body forward and backward) \n",
      " 3. you make it sound you and I are an Item \n",
      " 4. ever since i reached puberty ... (adulthoot) \n",
      " 5. it's as though we added fuel to fire \n",
      " 6. did you think you could elude me? (elude: evade or escape from) \n",
      " 7. i will fleece you( fleece :the wool coat of a sheep) \n",
      " 8. beat your head to a pulp (pulp: soft, wet shapeless) \n",
      " 9. soil his fur with blood (soil: make dirty) \n",
      "10. your locks are just like father's (locks:  a piece of a person's hair that coils or hangs together) \n"
     ]
    }
   ],
   "source": [
    "using Printf\n",
    "for (indx, line) in enumerate(eachline(\"/home/javid/home/quotes/Quotes\"))\n",
    "    if indx>10\n",
    "        break\n",
    "    end\n",
    "    @printf(\"%2d. %s \\n\", indx, line)\n",
    "end\n",
    "\n",
    "    "
   ]
  },
  {
   "cell_type": "markdown",
   "id": "2162a19c-89ae-4125-b36a-4ec8ea002647",
   "metadata": {},
   "source": [
    "## Read Data From File"
   ]
  },
  {
   "cell_type": "code",
   "execution_count": 51,
   "id": "b8a415ca-5423-4485-8cf3-fb2ac35d9e6f",
   "metadata": {},
   "outputs": [
    {
     "data": {
      "text/plain": [
       "IOStream(<file /home/javid/home/quotes/Quotes>)"
      ]
     },
     "execution_count": 51,
     "metadata": {},
     "output_type": "execute_result"
    }
   ],
   "source": [
    "file = open(\"/home/javid/home/quotes/Quotes\")"
   ]
  },
  {
   "cell_type": "code",
   "execution_count": 52,
   "id": "596f2017-3cc3-4e26-9d9e-7ed90c00b0f2",
   "metadata": {},
   "outputs": [
    {
     "name": "stdout",
     "output_type": "stream",
     "text": [
      "why don't you grovel at my feet (grovel: crawel,beg)\n",
      "why must i stoop so low? (stoop: act of bending the body forward and backward)\n",
      "you make it sound you and I are an Item\n",
      "ever since i reached puberty ... (adulthoot)\n",
      "it's as though we added fuel to fire\n",
      "did you think you could elude me? (elude: evade or escape from)\n",
      "i will fleece you( fleece :the wool coat of a sheep)\n",
      "beat your head to a pulp (pulp: soft, wet shapeless)\n",
      "soil his fur with blood (soil: make dirty)\n",
      "your locks are just like father's (locks:  a piece of a person's hair that coils or hangs together)\n",
      "stop quibbling over small matters ( quibble: argue about a trivial matter. )\n"
     ]
    }
   ],
   "source": [
    "for (idx, line) in enumerate(readlines(file))\n",
    "    println(line)\n",
    "    if idx>10 break end\n",
    "end\n"
   ]
  },
  {
   "cell_type": "markdown",
   "id": "d4034f89-197e-41ef-adaa-42d9a10ae740",
   "metadata": {},
   "source": [
    "#### Julia returns NaN in case of 0/0"
   ]
  },
  {
   "cell_type": "markdown",
   "id": "a85d9e26-967c-4dab-a761-78838205a1e5",
   "metadata": {},
   "source": [
    "NaN stands for \"Not a Number\". While this is better than the program crashing and reporting an\n",
    "execution error, it is better for us to anticipate this possibility and cater for it."
   ]
  },
  {
   "cell_type": "markdown",
   "id": "6aa352dc-d73c-4998-88ea-50572798d625",
   "metadata": {},
   "source": [
    "The moral of the story is, whenever possible, you should try to anticipate the ways in which\n",
    "your program might fail and cater for them"
   ]
  },
  {
   "cell_type": "markdown",
   "id": "2dfae128-a738-4eea-bb09-1063189f023b",
   "metadata": {},
   "source": [
    "## Find Largest Number"
   ]
  },
  {
   "cell_type": "code",
   "execution_count": 18,
   "id": "cc14ab68-e454-4eec-a93d-9c0853c19085",
   "metadata": {},
   "outputs": [],
   "source": [
    "nums = rand(1:89,20);"
   ]
  },
  {
   "cell_type": "code",
   "execution_count": 19,
   "id": "e14f5cf1-2ee5-45c3-9d9b-93ab4d5a0cd1",
   "metadata": {},
   "outputs": [
    {
     "data": {
      "text/plain": [
       "46"
      ]
     },
     "execution_count": 19,
     "metadata": {},
     "output_type": "execute_result"
    }
   ],
   "source": [
    "largest = nums[1]"
   ]
  },
  {
   "cell_type": "code",
   "execution_count": 20,
   "id": "6783f1ec-b325-422e-8d7b-624377651c3c",
   "metadata": {},
   "outputs": [],
   "source": [
    "for n in nums\n",
    "    if n > largest\n",
    "        largest = n\n",
    "    end\n",
    "end\n"
   ]
  },
  {
   "cell_type": "code",
   "execution_count": 21,
   "id": "dc826b5f-a826-4a14-bd79-c36adb3aa9fa",
   "metadata": {},
   "outputs": [
    {
     "data": {
      "text/plain": [
       "88"
      ]
     },
     "execution_count": 21,
     "metadata": {},
     "output_type": "execute_result"
    }
   ],
   "source": [
    "largest"
   ]
  },
  {
   "cell_type": "code",
   "execution_count": 24,
   "id": "70740c7c-4db8-4fc2-b049-ec6b609e3189",
   "metadata": {},
   "outputs": [
    {
     "data": {
      "text/plain": [
       "88"
      ]
     },
     "execution_count": 24,
     "metadata": {},
     "output_type": "execute_result"
    }
   ],
   "source": [
    "maximum(nums)"
   ]
  },
  {
   "cell_type": "markdown",
   "id": "8a545280-43f0-4734-bfca-7debfc1566f2",
   "metadata": {},
   "source": [
    "## Find 'Largest' Word"
   ]
  },
  {
   "cell_type": "code",
   "execution_count": 40,
   "id": "a2808f0b-2d3a-4b33-9c15-6dd7f4c11426",
   "metadata": {},
   "outputs": [
    {
     "data": {
      "text/plain": [
       "100-element Vector{String}:\n",
       " \"hbIhR\"\n",
       " \"cwWmgaTpu`wBG\\\\a\"\n",
       " \"MpVYuvRxy]h\"\n",
       " \"wyEwbxTf`AeeHoHuiw\"\n",
       " \"[xxD`WsqeEOBh\"\n",
       " \"PGgvZ]XwmIUxJEkIIY\"\n",
       " \"jWcydhZfXQxMKcTr_em\"\n",
       " \"xlXEC\"\n",
       " \"Ja\\\\rzjmyUGfFi\"\n",
       " \"ihCxTBb\"\n",
       " \"aJjWZMiyjQD\"\n",
       " \"A_EZjo\"\n",
       " \"tmKWMEtqYuAEtY^\"\n",
       " ⋮\n",
       " \"ycj[iZ\"\n",
       " \"arVMkZ\"\n",
       " \"taCNNpkJErEyp\"\n",
       " \"DYvvOXvgmPZ\"\n",
       " \"weWZClGfeob^bo\"\n",
       " \"N]`csIWbmqH]r_Xly\"\n",
       " \"[gv]R\"\n",
       " \"kvoju\"\n",
       " \"DeUaUzBAok]Xwj\"\n",
       " \"`exOuly[m\"\n",
       " \"xQbfNbC\"\n",
       " \"EeHmBqqRWFSJoChVh\""
      ]
     },
     "execution_count": 40,
     "metadata": {},
     "output_type": "execute_result"
    }
   ],
   "source": [
    "words = [string(rand('A':'z', rand(5:19))...) for _ in 1:100]"
   ]
  },
  {
   "cell_type": "code",
   "execution_count": 48,
   "id": "20f34492-ecb3-4506-9d86-9a273cc84062",
   "metadata": {},
   "outputs": [],
   "source": [
    "largest_word = words[1]\n",
    "for word in words\n",
    "    if word>largest_word && length(word) > length(largest_word)\n",
    "        largest_word = word\n",
    "    end\n",
    "end\n"
   ]
  },
  {
   "cell_type": "code",
   "execution_count": 49,
   "id": "e04855e4-0733-4c46-979c-5ea12bca76c7",
   "metadata": {},
   "outputs": [
    {
     "data": {
      "text/plain": [
       "\"wyEwbxTf`AeeHoHuiw\""
      ]
     },
     "execution_count": 49,
     "metadata": {},
     "output_type": "execute_result"
    }
   ],
   "source": [
    "largest_word"
   ]
  },
  {
   "cell_type": "markdown",
   "id": "f44b8fe4-5e45-42e9-a060-618699c7bcee",
   "metadata": {},
   "source": [
    "## Nested for Statement"
   ]
  },
  {
   "cell_type": "code",
   "execution_count": 56,
   "id": "52ae254c-c401-4e36-bd84-695f73fde32e",
   "metadata": {},
   "outputs": [
    {
     "name": "stdout",
     "output_type": "stream",
     "text": [
      "11\n",
      "12\n",
      "21\n",
      "22\n"
     ]
    }
   ],
   "source": [
    "for i ∈ 1:2 , j ∈ 1:2\n",
    "    println(i, j)\n",
    "end\n"
   ]
  },
  {
   "cell_type": "markdown",
   "id": "ee47d697-535c-4c9b-9c70-1dc563c03e7f",
   "metadata": {},
   "source": [
    "## Read Data From File, Cont'd"
   ]
  },
  {
   "cell_type": "code",
   "execution_count": 58,
   "id": "8b578615-da81-446d-9c44-6be0765481c9",
   "metadata": {},
   "outputs": [
    {
     "data": {
      "text/plain": [
       "getData (generic function with 1 method)"
      ]
     },
     "execution_count": 58,
     "metadata": {},
     "output_type": "execute_result"
    }
   ],
   "source": [
    "function getData()\n",
    "    for line in eachline(\"input.txt\")\n",
    "        for snum in split(line)\n",
    "            print(\"$snum \")\n",
    "        end\n",
    "    end\n",
    "    println()\n",
    "end"
   ]
  },
  {
   "cell_type": "markdown",
   "id": "3e135480-9349-4c5f-a922-505ea2857d6a",
   "metadata": {},
   "source": [
    "### File Pointer"
   ]
  },
  {
   "cell_type": "markdown",
   "id": "111b71a9-1543-4e1c-a9fa-f758fd0c02e0",
   "metadata": {},
   "source": [
    "Assume we want to read data from the file input.txt. The first thing we need to do is declare\n",
    "an identifier called a “file pointer” and associate it with the file. We can do so with this\n",
    "statement:"
   ]
  },
  {
   "cell_type": "code",
   "execution_count": 76,
   "id": "5f95c4f6-a414-40dc-983f-7e3862d1ebed",
   "metadata": {},
   "outputs": [
    {
     "data": {
      "text/plain": [
       "IOStream(<file /home/javid/home/quotes/Quotes>)"
      ]
     },
     "execution_count": 76,
     "metadata": {},
     "output_type": "execute_result"
    }
   ],
   "source": [
    "inn = open(\"/home/javid/home/quotes/Quotes\", \"r\")"
   ]
  },
  {
   "cell_type": "code",
   "execution_count": 77,
   "id": "a0c110ec-6108-4f45-a677-d1bc9a0defce",
   "metadata": {},
   "outputs": [
    {
     "name": "stdout",
     "output_type": "stream",
     "text": [
      "why don't you grovel at my feet"
     ]
    }
   ],
   "source": [
    "for (idx, w) in enumerate(read(inn))\n",
    "    print(Char(w))\n",
    "    if idx > 30 break end\n",
    "end\n"
   ]
  },
  {
   "cell_type": "markdown",
   "id": "5e28c283-1c4c-4407-b215-9a4b412fd28c",
   "metadata": {},
   "source": [
    "eof: If we need to, we can check if the pointer has reached the end of the file associated with\n",
    "inn; eof(inn) returns true if the pointer has reached end-of-file and false, if it has not."
   ]
  },
  {
   "cell_type": "code",
   "execution_count": 78,
   "id": "1ea627e0-f465-415a-a48d-3635fc5caf97",
   "metadata": {},
   "outputs": [
    {
     "data": {
      "text/plain": [
       "true"
      ]
     },
     "execution_count": 78,
     "metadata": {},
     "output_type": "execute_result"
    }
   ],
   "source": [
    "eof(inn)"
   ]
  },
  {
   "cell_type": "code",
   "execution_count": 82,
   "id": "d2b70d5c-5687-42d1-8a2a-96e59e48c185",
   "metadata": {},
   "outputs": [
    {
     "data": {
      "text/plain": [
       "\"what\\\\ i\""
      ]
     },
     "execution_count": 82,
     "metadata": {},
     "output_type": "execute_result"
    }
   ],
   "source": [
    "a = \"what\\\\ i\""
   ]
  },
  {
   "cell_type": "code",
   "execution_count": 83,
   "id": "79aed6b0-852c-4ee8-8ddc-7fc4d47663f1",
   "metadata": {},
   "outputs": [
    {
     "name": "stdout",
     "output_type": "stream",
     "text": [
      "what\\ i"
     ]
    }
   ],
   "source": [
    "print(a)"
   ]
  },
  {
   "cell_type": "markdown",
   "id": "b6ccd2ca-fa99-4046-aa19-6f5b9a53d744",
   "metadata": {},
   "source": [
    "Tip: If the data file is in the current working directory, we don't need to specify the full path;\n",
    "we can simply use the file name, e.g. input.txt. To find out the current working directory,\n",
    "type pwd() (print working directory):"
   ]
  },
  {
   "cell_type": "code",
   "execution_count": 84,
   "id": "e5bb35c1-e0ba-4c30-8076-8c5a705956ae",
   "metadata": {},
   "outputs": [
    {
     "data": {
      "text/plain": [
       "\"/run/media/javid/FC201C01201BC216/arco_home/julia/Julia_Bit_By_Bit/Practice/Chapter04\""
      ]
     },
     "execution_count": 84,
     "metadata": {},
     "output_type": "execute_result"
    }
   ],
   "source": [
    "pwd()"
   ]
  },
  {
   "cell_type": "markdown",
   "id": "71999a2d-f466-4732-a165-b7f4b8a1d14e",
   "metadata": {},
   "source": [
    "## The while Statement"
   ]
  },
  {
   "cell_type": "code",
   "execution_count": null,
   "id": "ea797e61-c724-4d9f-b5a5-856b8b8636ed",
   "metadata": {},
   "outputs": [],
   "source": [
    "inn = open(\"/home/javid/home/quotes/Quotes\", \"r\")\n",
    "inp = readline(inn)\n",
    "while !eof(inn)\n",
    "    println(inp)\n",
    "    inp = readline(inn)\n",
    "end"
   ]
  },
  {
   "cell_type": "markdown",
   "id": "7d9d9618-f1dc-4133-aa43-239b2c674b4e",
   "metadata": {},
   "source": [
    "Caution: If the end-of-file is reached, readline will store the empty string in inp"
   ]
  },
  {
   "cell_type": "markdown",
   "id": "d2341740-e2ad-4a1f-b0bc-b4f91fe547f3",
   "metadata": {},
   "source": [
    "We wrote the code as we did in order to simplify the explanation. But since Julia lets us read a\n",
    "value, assign and test it in the while condition, we could write it like this:"
   ]
  },
  {
   "cell_type": "code",
   "execution_count": 88,
   "id": "832f502a-1405-4a79-9709-cf83c18d37ec",
   "metadata": {},
   "outputs": [
    {
     "name": "stdout",
     "output_type": "stream",
     "text": [
      "why don't you grovel at my feet (grovel: crawel,beg)\n",
      "why must i stoop so low? (stoop: act of bending the body forward and backward)\n",
      "you make it sound you and I are an Item\n",
      "ever since i reached puberty ... (adulthoot)\n",
      "it's as though we added fuel to fire\n",
      "did you think you could elude me? (elude: evade or escape from)\n",
      "i will fleece you( fleece :the wool coat of a sheep)\n",
      "beat your head to a pulp (pulp: soft, wet shapeless)\n",
      "soil his fur with blood (soil: make dirty)\n",
      "your locks are just like father's (locks:  a piece of a person's hair that coils or hangs together)\n",
      "stop quibbling over small matters ( quibble: argue about a trivial matter. )\n",
      "my hucnch was right(hunch:  a feeling or guess based on intuition. )\n",
      "they've come to bid a final farewell (bid: offer (a certain price) for something, especially at an auction.)\n",
      "why would you get so sappy on me(sappy: over semtimental)\n",
      "i've been missing all my cram classess for high school (cram:  study intensively just before an examination.)\n",
      "you must train hard as the next line\n",
      "he is much kinder than sis made him out to be\n",
      "you don't sound repentent at all (repentant: regretful)\n",
      "she seems sorta dashing (dashing: attractive)\n",
      "I came along bacause I thought kagome would be here with you\n",
      "why must I be stuck alone with you\n",
      "I wanted to make up with you\n",
      "I was released from hospital \n",
      "noway will I be beholden to a demon\n",
      "she got a sharp mouth \n",
      "I can ward them off alone (ward: gaurd protect)\n",
      "it calcified inside the demon's body (calcify: make rigid)\n",
      "sorry for the seizure of your phone :)\n",
      "after his run-in with kikyo (run-in: a disagreement or fight.)\n",
      "she is a fair skinned( fair skin: having pale skin; pale-complexioned.)\n",
      "heard the daughter of the lord hearabouts has been possessed\n",
      "I said I compensate(compensate:  MAKE AMENDS, make up, make reparation, recompense, atone, requitAMENDe, pay; expiate, make good, rectify.)\n",
      "he is malicious (malicious: malevolent, spiteful, wishing harm on another)\n",
      "be he was a lecher(lecher: a man who is always thinking about sex and looking for sexual pleasure)\n",
      "how long are you going to sulk (sulk:express anger or resentment by refusing to speak or interact)\n",
      "I have done nothing wrong to warrant your attack (warrant: deserve)\n",
      "repent and turn over the jewl fragment (repent: regret one's past actions, rue past events, feel sorrow about past occurrences)\n",
      "that was a splendid idea\n",
      "I can put my fears to rest\n",
      "a lie is sometimes expedient(expedient: an action that is useful or necessary for a particular purpose, but not always fair or right)\n",
      "The government found it expedient to relax censorship a little. \n",
      "what a shyster(trickster, rogue, crook; unethical lawyer or politician )\n",
      "no sense in wasting your time with him \n",
      "living in this world only adds to your disgrace \n",
      "getting a hold of one sword sure loosened your mouth \n",
      "it is an unrequited love( one way love)\n",
      "I've longed to see you (To long for means to pine for means to have strong desire to meet someone ,strong feeling of need for something.)\n",
      "the sacred jewl grows even more beautiful when is is tainted(taint: contaminate, pollute, corrupt, mar; bring shame or dishonor upon)\n",
      "we can't wage war in empty stomach(wage: engage in, conduct (war, battle))\n",
      "you can't cross the netherworld(nether:lower world, place of dead, world of deads)\n",
      "someone purposefully set you two at odds\n",
      "my feeling when my lips were against yours were real \n",
      "I saw everything from the front row seat\n",
      "he is inuyasha's vassal ( subordinate; servant, enslaved person)\n",
      "please keep me informed \n",
      "is he the youngest of two doltish brothers(doltish: idiot, stupid person)\n",
      "the mirror is filled to the brim (brim: edge, lip; edge of a hat)\n",
      "are you raising your voice against injustice?\n",
      "you only believe in preaching \n",
      "you were an apprentice (apprentice: trainee, pupil)\n",
      "it gave me creeps (induce a feeling of revulsion or fear in someone.)\n",
      "he agonized over it(agonize: suffer, be in torment)\n",
      "fight him to your heart content()\n",
      "what are you blaberring (blabber: chatter, babble; gossip talk indiscreetly or excessively.)\n",
      "such an eyesore\n",
      "the wound inflicted upon him during the battle(inflicted: imposed upon, enforced, meted out)\n",
      "you're not worth tormenting\n",
      "it won't relive my anger\n",
      "I'll put you at ease\n",
      "stop acting cocky(cocky: conceited, overweening, overconfident, cocksure, swollen-headed, self-important, egotistical, presumptuous, boastful, self-assertive; bold, forward, insolent, cheeky.)\n",
      "He is just a little punk(punk: a worthless person. ▶a thug or criminal.)\n",
      "how can you be so callous(callous: HEARTLESS, unfeeling, uncaring, cold, cold-hearted, hard, as hard as nails, hard-hearted. not caring about other people's feelings or suffering)\n",
      "she was the culprit anyway(culprit:  a person who is responsible for a crime or other misdeed. ▶the cause of a problem.)\n",
      "lying through his teeth again\n",
      "you dashed her hopes (dash: destroy or frustrate (hopes or expectations).)\n",
      "got a gripe with me(gripe : a trivial complaint.)\n",
      "what are you mumbling about(mumble: speak in a low voice, speak unintelligibly; chew without teeth)\n",
      "if you lag behind we'll leave you\n",
      "withoug sullying his hands (sully: to make sth dirty)\n",
      "you shouldn't overexert yourself(exert: make a physical or mental effort.)\n",
      "NO wonder she didn't go bokers when when you stroked her butt(bonkers: crazy, insane, cuckoo, mad| stroke:  move one's hand with gentle pressure over)\n",
      "why did he go off by himself\n",
      "I sorta had an inkling (inkling: a slight suspicion; a hint.)\n",
      "you're so dense(dense: stupid)\n",
      "I has such a grand time(grand:   informal excellent.)\n",
      "I saw mesmerised (mesmerise: to have such a strong effect on you that you cannot give your attention to anything else)\n",
      "it's the power of bead he gave me(bead:  a small, rounded piece of glass, stone, plastic, etc., perforated and typically threaded in a string with others to make a necklace or rosary.)\n",
      "if you offer prayer\n",
      "stop dawdling (dawdle: waste time. ▶move slowly and idly.)\n",
      "don't speak ill of him\n",
      "you become fodder for the tree of human-faced fruit(fodder:   food for cattle and other livestock.)\n",
      "those men turn deaf ears to me\n",
      "you sacrifice others so just you can have longevity (longevity: long life; length of life)\n",
      "this is my way of making amend(amend: archaic put right.  make minor improvements to (a document, proposal, etc.).)\n",
      "let's pray for his repose(repose: a state of restfulness or tranquillity.  the state of being calm and composed. )\n",
      "I can teach you how to detor minor demons(deter: discourage (someone) from doing something by instilling fear of the consequences)\n",
      "call it a premonition (premonition: a feeling that sth is going to happen, especially sth unpleasant)\n",
      "you're so studious( studious:  spending a lot of time studying or reading.)\n",
      "I will be back by the dusk (dusk: state between light and darkness, twilight, nightfall)\n",
      "you want to use the sacred jewl to make it heed your orders(heed:  pay attention to; take notice of.)\n",
      "we were victims of naraku's treachery(treachery: betrayal, perfidy, treason, disloyalty)\n",
      "we shall have a feast fo you to show our grattitude :)\n",
      "what a pesky centipode(pesky: troublesome, bothersome; irksome, tiresome; annoying, irritating)\n",
      "I'm betrothed to Myoga (betroth: ngage to marry, bind with a promise to wed)\n",
      "he does things that even I, his vassal, can not fathom(fathom:  understand (something) after much thought.)\n",
      "why does my heart yearns so much(yearn: to want sth very much, especially when it is very difficult to get)\n",
      "you eased up on me earlier (: to treat (someone) in a less harsh or demanding way The students might respond better if the teacher eased up on them a little.)\n",
      "seems like she is inyusha's wench(wench: country girl, servant girl (Archaic); whore or promiscuous woman (Offensive Slang))\n",
      "just what are they scheming(scheme: plan, design; system; plot, intrigue; diagram, outline)\n",
      "a war waged eons past(eon: long period of time, age)\n",
      "How could you say that, you unfilial son(unfilial: not behaving as befits a son or daughter, not fulfilling one's duties as a son or daughter)\n",
      "we'll be off now ()\n",
      "leave no stone unturned\n",
      "and men resort to trickery and betrayal \n",
      "I'm just jesting \n",
      "He is so dashing (dashig:racing; daring, bold, spirited; showy; dapper, handsome)\n",
      "It's disconcerting to be stared at(disconcert: disturb the composure of; unsettle.;to make (someone) upset or embarrassed)\n",
      "we can't ignore the villagers plight(plight: misfortune, trouble; complication, entanglement)\n",
      "if you feign ignorance you'll get hurt badly(fiegn: fake)\n",
      "he is the farthest thing from god(farthest: most distant)\n",
      "shrewd young girl. you did a good job of finding me (shrewd: smart, clever)\n",
      "just some pesky monkeys (pesky:  troublesome, bothersome; irksome, tiresome; annoying, irritating)\n",
      "he has not been that commendable (commendable: laudable, praiseworthy, admirable, deserving)\n",
      "I wish you could confide in me more (confide: trust in; entrust, give to for safekeeping; trustfully tell a secret)\n",
      "He has been jilted(jilted: rejected suddenly by one's lover, \"dumped\")\n",
      "pluck  up your courage(be courages)\n",
      "No time to dally (dally: flirt; trifle; waste time)\n",
      "why are you all frantic over one cat( frantic: frenzied, wild, mad, hysterical)\n",
      "I bet you had the hots for her \n",
      "was it just mother's whim( whim: a sudden wish, desire, decision, etc.)\n",
      "I shall be off now \n",
      "you sowed these seed in the first place (plant seeds; scatter, disperse)\n",
      "you reap what you sowed\n",
      "he made us feel beholden( beholden: indebted, in debt, obligated)\n",
      "what good does it do to impersonate you(impersonate: pose as someone else, assume the character of another person)\n",
      "I have unravaled the mystery (unravel: untwist, unwind, untangle; become unraveled; solve, figure out)\n",
      "I'll turn you into stew (stew: dish of meat and vegetables that is cooked by simmering; state of worry or confusion, agitated state; whorehouse, brothel (Archaic))\n",
      "let's be civil about this \n",
      "I impersonated you but I really did nothing to disparage you (disparage: lower in rank by words or actions, malign, depreciate, belittle)\n",
      "the breeze feels so nice( breeze: light wind; quarrel, feud)\n",
      "that's all I overheard (overhear: hear by chance, hear without the speaker's knowledge or intention)\n",
      "we must make haste\n"
     ]
    }
   ],
   "source": [
    "inn = open(\"/home/javid/home/quotes/Quotes\", \"r\")\n",
    "while (inp = readline(inn)) != \"\"\n",
    "    println(inp)\n",
    "end"
   ]
  },
  {
   "cell_type": "markdown",
   "id": "d482af5c-8ae1-4fa3-810a-ea8d761c0539",
   "metadata": {},
   "source": [
    "### When we are finished reading data from the file, we should close it, like this:"
   ]
  },
  {
   "cell_type": "code",
   "execution_count": 91,
   "id": "d21797f0-5390-4713-863f-00dd0a8c65d9",
   "metadata": {},
   "outputs": [],
   "source": [
    "close(inn)"
   ]
  },
  {
   "cell_type": "markdown",
   "id": "17cb9e99-b844-4fc8-9497-c2c491a36570",
   "metadata": {},
   "source": [
    "## Sum of Numbers (Prompt)"
   ]
  },
  {
   "cell_type": "markdown",
   "id": "0ddd690b-32fc-4783-9971-f3dccef0aac0",
   "metadata": {},
   "source": [
    "Julia gives us a better, more flexible option. If the user hits Enter/Return in response\n",
    "to the prompt, the empty string (instead of a number) is stored in the variable used to hold the\n",
    "input"
   ]
  },
  {
   "cell_type": "code",
   "execution_count": 100,
   "id": "a48c788f-c91d-44bb-85ec-ee9d8b444bb2",
   "metadata": {},
   "outputs": [
    {
     "name": "stdin",
     "output_type": "stream",
     "text": [
      "stdin>  2\n",
      "stdin>  3\n",
      "stdin>  4\n",
      "stdin>  5\n",
      "stdin>  \n"
     ]
    },
    {
     "name": "stdout",
     "output_type": "stream",
     "text": [
      "14"
     ]
    }
   ],
   "source": [
    "sum = 0\n",
    "while (line=readline()) != \"\"\n",
    "    sum += parse(Int, line)\n",
    "end\n",
    "\n",
    "print(sum)"
   ]
  },
  {
   "cell_type": "markdown",
   "id": "3111edc3-8755-483c-aec3-8e6c65079eda",
   "metadata": {},
   "source": [
    "### Greatest Common Divisor"
   ]
  },
  {
   "cell_type": "markdown",
   "id": "20f32f6e-2626-49cc-84b4-29c587deeee2",
   "metadata": {},
   "source": [
    "The greatest common divisor, GCD, (also called the highest common factor, HCF) of two\n",
    "number is the biggest number that's a factor of both. We want to write a program that will run\n",
    "as follow"
   ]
  },
  {
   "cell_type": "code",
   "execution_count": 101,
   "id": "e6ad7838-6de5-43f5-b50e-f66a5b863e2b",
   "metadata": {},
   "outputs": [],
   "source": [
    "# while n is not 0 do\n",
    "#     set r to m % n\n",
    "#     set m to n\n",
    "#     set n to r\n",
    "# endwhile\n",
    "# GCD is m"
   ]
  },
  {
   "cell_type": "code",
   "execution_count": 108,
   "id": "321987ef-f442-4cb8-8668-23f9e3e131dc",
   "metadata": {},
   "outputs": [
    {
     "name": "stdin",
     "output_type": "stream",
     "text": [
      "stdin>  3\n",
      "stdin>  4\n"
     ]
    },
    {
     "name": "stdout",
     "output_type": "stream",
     "text": [
      "1"
     ]
    }
   ],
   "source": [
    "m = parse(Int, readline())\n",
    "n = parse(Int, readline())\n",
    "while n !=0\n",
    "    r = m%n\n",
    "    m = n\n",
    "    n = r\n",
    "end\n",
    "print(m)"
   ]
  },
  {
   "cell_type": "markdown",
   "id": "3b3ae356-4d2b-4cdc-9097-072790cccd52",
   "metadata": {},
   "source": [
    "Tip: Julia provides the standard function gcd(m,n) which returns the greatest common divisor\n",
    "of m and n."
   ]
  },
  {
   "cell_type": "code",
   "execution_count": 109,
   "id": "e49ef81a-6e11-4479-819f-784ad7066388",
   "metadata": {},
   "outputs": [
    {
     "data": {
      "text/plain": [
       "1"
      ]
     },
     "execution_count": 109,
     "metadata": {},
     "output_type": "execute_result"
    }
   ],
   "source": [
    "gcd(34,13)"
   ]
  },
  {
   "cell_type": "markdown",
   "id": "6324766d-6168-490a-ad66-e1904289a3d2",
   "metadata": {},
   "source": [
    "## Send Output to a File"
   ]
  },
  {
   "cell_type": "markdown",
   "id": "c9f50465-4ee1-4ffa-b980-e364e8d81782",
   "metadata": {},
   "source": [
    "The process is similar to reading from a file. We must declare a “file pointer” (we use out) and\n",
    "associate it with the actual file (output.txt, say) using open. We can do it like this:"
   ]
  },
  {
   "cell_type": "code",
   "execution_count": 116,
   "id": "a98af69d-daef-4312-986e-ac865462dd6e",
   "metadata": {},
   "outputs": [
    {
     "data": {
      "text/plain": [
       "IOStream(<file output.txt>)"
      ]
     },
     "execution_count": 116,
     "metadata": {},
     "output_type": "execute_result"
    }
   ],
   "source": [
    "out = open(\"output.txt\", \"w\")"
   ]
  },
  {
   "cell_type": "markdown",
   "id": "6d4164ab-db72-4ec3-b17b-38afa689c0bd",
   "metadata": {},
   "source": [
    "\"w\" indicates writing. When this\n",
    "statement is executed, the file output.txt is created if it does not already exist. If it exists, its\n",
    "contents are destroyed. In other words, whatever you write to the file will replace its original\n",
    "contents."
   ]
  },
  {
   "cell_type": "markdown",
   "id": "6a82e9c2-a4a1-4eb6-9aa5-ba3f8aa9ef52",
   "metadata": {},
   "source": [
    "Having opened a file to receive output, we can use the familiar print/println statements with\n",
    "one modification. Now we use the following to send the same line of output to a file designated by out:"
   ]
  },
  {
   "cell_type": "code",
   "execution_count": 117,
   "id": "81671d64-7572-4b7f-8dcb-14283555a839",
   "metadata": {},
   "outputs": [],
   "source": [
    "words = [string(rand('A':'z', rand(5:19))...) for _ in 1:100];"
   ]
  },
  {
   "cell_type": "code",
   "execution_count": 118,
   "id": "28a51034-bb2b-408e-ba3f-67859aed952b",
   "metadata": {},
   "outputs": [],
   "source": [
    "for word in words\n",
    "    println(out, word)\n",
    "end\n"
   ]
  },
  {
   "cell_type": "code",
   "execution_count": 119,
   "id": "efb70235-4512-4699-92d0-79c03c906ab4",
   "metadata": {},
   "outputs": [],
   "source": [
    "close(out)"
   ]
  },
  {
   "cell_type": "markdown",
   "id": "b75899e1-3013-4cef-9271-a2c5d909db31",
   "metadata": {},
   "source": [
    "It is very important that you close the output file with close(out). If you do not, it is possible\n",
    "that some of your output would be missing. Julia does not send output directly to your file every\n",
    "time you issue a print/println statement. Writing to a disk is time-consuming compared to\n",
    "writing to memory."
   ]
  },
  {
   "cell_type": "markdown",
   "id": "be6d861f-bd0b-4c7c-8316-3035ec5c642b",
   "metadata": {},
   "source": [
    "For faster performance, Julia buffers your output (stores it in a temporary place in memory) and\n",
    "only writes to the file when the buffer is full or you close the file. When the program executes\n",
    "close(out), all pending output is sent to the file before it is closed."
   ]
  },
  {
   "cell_type": "markdown",
   "id": "15b34770-8a58-4d07-a0de-4e747c15cd21",
   "metadata": {},
   "source": [
    "## Payroll"
   ]
  },
  {
   "cell_type": "markdown",
   "id": "df0b3bcb-57cf-4a71-a56c-b9406373c776",
   "metadata": {},
   "source": [
    "## break/continue in while"
   ]
  },
  {
   "cell_type": "code",
   "execution_count": 133,
   "id": "c27658aa-cba4-4f81-93ec-c082028065e3",
   "metadata": {},
   "outputs": [
    {
     "name": "stdout",
     "output_type": "stream",
     "text": [
      "5"
     ]
    }
   ],
   "source": [
    "counter = 0\n",
    "while true\n",
    "    number = rand(1:6)\n",
    "    counter += 1 \n",
    "    if number == 6 \n",
    "        break\n",
    "    end\n",
    "end\n",
    "print(counter)"
   ]
  }
 ],
 "metadata": {
  "kernelspec": {
   "display_name": "Julia 1.7.1",
   "language": "julia",
   "name": "julia-1.7"
  },
  "language_info": {
   "file_extension": ".jl",
   "mimetype": "application/julia",
   "name": "julia",
   "version": "1.7.1"
  }
 },
 "nbformat": 4,
 "nbformat_minor": 5
}
