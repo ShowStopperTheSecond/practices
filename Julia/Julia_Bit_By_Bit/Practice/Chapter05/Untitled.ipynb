{
 "cells": [
  {
   "cell_type": "markdown",
   "id": "3d284be0-557e-454f-aab0-1f726c255c76",
   "metadata": {},
   "source": [
    "# Functions"
   ]
  },
  {
   "cell_type": "markdown",
   "id": "68ef779f-7bd7-43b6-9011-1b8a3a4df772",
   "metadata": {},
   "source": [
    "## Function Basics"
   ]
  },
  {
   "cell_type": "code",
   "execution_count": 2,
   "id": "1f5f6cd6-24fd-4fb0-a41d-f9c91c680dae",
   "metadata": {},
   "outputs": [
    {
     "data": {
      "text/plain": [
       "square (generic function with 1 method)"
      ]
     },
     "execution_count": 2,
     "metadata": {},
     "output_type": "execute_result"
    }
   ],
   "source": [
    "function square(m::Number)\n",
    "    return m*m\n",
    "end\n"
   ]
  },
  {
   "cell_type": "code",
   "execution_count": 3,
   "id": "ebbf8f2c-c689-4c82-9af7-af379ef9d7df",
   "metadata": {},
   "outputs": [
    {
     "data": {
      "text/plain": [
       "4.0"
      ]
     },
     "execution_count": 3,
     "metadata": {},
     "output_type": "execute_result"
    }
   ],
   "source": [
    "square(2.)"
   ]
  },
  {
   "cell_type": "code",
   "execution_count": 4,
   "id": "5c82b649-e6d2-4a74-bd84-2ff6f7498dd5",
   "metadata": {},
   "outputs": [
    {
     "data": {
      "text/plain": [
       "square (generic function with 1 method)"
      ]
     },
     "execution_count": 4,
     "metadata": {},
     "output_type": "execute_result"
    }
   ],
   "source": [
    "square"
   ]
  },
  {
   "cell_type": "code",
   "execution_count": null,
   "id": "0309fc28-4fc6-4a4b-8d52-f027f8440f19",
   "metadata": {},
   "outputs": [],
   "source": []
  }
 ],
 "metadata": {
  "kernelspec": {
   "display_name": "Julia 1.7.1",
   "language": "julia",
   "name": "julia-1.7"
  },
  "language_info": {
   "file_extension": ".jl",
   "mimetype": "application/julia",
   "name": "julia",
   "version": "1.7.1"
  }
 },
 "nbformat": 4,
 "nbformat_minor": 5
}
