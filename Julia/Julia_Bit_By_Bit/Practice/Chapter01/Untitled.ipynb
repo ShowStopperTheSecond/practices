{
 "cells": [
  {
   "cell_type": "markdown",
   "id": "292f5a97-093d-4ac7-9d1b-9238431f78d4",
   "metadata": {},
   "source": [
    "# Elementary Concepts"
   ]
  },
  {
   "cell_type": "code",
   "execution_count": 9,
   "id": "6dec415f-7f15-4f64-a991-0f827760cf12",
   "metadata": {},
   "outputs": [
    {
     "data": {
      "text/plain": [
       "areaOfSquare (generic function with 1 method)"
      ]
     },
     "execution_count": 9,
     "metadata": {},
     "output_type": "execute_result"
    }
   ],
   "source": [
    "function areaOfSquare()\n",
    "    println(\"Please Enter length of side:\")\n",
    "    side = parse(Int, readline())\n",
    "    area = side ^ 2\n",
    "    println(\"\\n The area of square is: $area\")\n",
    "end\n"
   ]
  },
  {
   "cell_type": "code",
   "execution_count": 10,
   "id": "bde3fdbd-bda7-4d6e-9980-673c96ad2b87",
   "metadata": {},
   "outputs": [
    {
     "name": "stdin",
     "output_type": "stream",
     "text": [
      "stdin>  34\n"
     ]
    },
    {
     "name": "stdout",
     "output_type": "stream",
     "text": [
      "Please Enter length of side:\n",
      "\n",
      " The area of square is: 1156\n"
     ]
    }
   ],
   "source": [
    "areaOfSquare()"
   ]
  },
  {
   "cell_type": "code",
   "execution_count": 10,
   "id": "9dcbcde2-b51a-49a5-a102-7ed519cf31e2",
   "metadata": {},
   "outputs": [
    {
     "data": {
      "text/plain": [
       "greetings (generic function with 1 method)"
      ]
     },
     "execution_count": 10,
     "metadata": {},
     "output_type": "execute_result"
    }
   ],
   "source": [
    "function greetings()\n",
    "    print(\"What the heck is your name?\")\n",
    "    name = \"\"\n",
    "    while isempty(name)\n",
    "        name = readline()\n",
    "    end\n",
    "    println()\n",
    "    print(\"Welcome Fucking $name\")\n",
    "end\n"
   ]
  },
  {
   "cell_type": "code",
   "execution_count": 12,
   "id": "2e986c1e-72dc-42cf-9a53-5f509fdc0f98",
   "metadata": {},
   "outputs": [
    {
     "name": "stdin",
     "output_type": "stream",
     "text": [
      "stdin>  \n",
      "stdin>  \n",
      "stdin>  \n",
      "stdin>  \n",
      "stdin>  \n",
      "stdin>  None of your Business\n"
     ]
    },
    {
     "name": "stdout",
     "output_type": "stream",
     "text": [
      "What the heck is your name?\n",
      "Welcome Fucking None of your Business"
     ]
    }
   ],
   "source": [
    "greetings()"
   ]
  },
  {
   "cell_type": "code",
   "execution_count": 14,
   "id": "aeee2ffc-bdb4-4c21-9c74-a771cf57c913",
   "metadata": {},
   "outputs": [
    {
     "name": "stdout",
     "output_type": "stream",
     "text": [
      "wwww\n",
      "\n",
      "\n"
     ]
    }
   ],
   "source": [
    "println(\"wwww\\n\\n\")"
   ]
  },
  {
   "cell_type": "code",
   "execution_count": 31,
   "id": "50213004-1da8-4320-84c3-7de96c67df8c",
   "metadata": {},
   "outputs": [
    {
     "name": "stdout",
     "output_type": "stream",
     "text": [
      "\tWhat the heck is going on here \n"
     ]
    }
   ],
   "source": [
    "println(\"\\tWhat the heck is going on here \")"
   ]
  },
  {
   "cell_type": "code",
   "execution_count": null,
   "id": "8a1e45e2-8520-45bd-bdda-e654f2462fc2",
   "metadata": {},
   "outputs": [],
   "source": []
  },
  {
   "cell_type": "code",
   "execution_count": null,
   "id": "6806bb60-0724-494c-a8b2-c736f06c8745",
   "metadata": {},
   "outputs": [],
   "source": []
  }
 ],
 "metadata": {
  "kernelspec": {
   "display_name": "Julia 1.7.1",
   "language": "julia",
   "name": "julia-1.7"
  },
  "language_info": {
   "file_extension": ".jl",
   "mimetype": "application/julia",
   "name": "julia",
   "version": "1.7.1"
  }
 },
 "nbformat": 4,
 "nbformat_minor": 5
}
