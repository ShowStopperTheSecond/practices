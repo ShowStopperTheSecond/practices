{
 "cells": [
  {
   "cell_type": "markdown",
   "id": "24732aa0-37c5-4bad-9abe-d5f3b3914544",
   "metadata": {},
   "source": [
    "# Numbers"
   ]
  },
  {
   "cell_type": "markdown",
   "id": "80438de3-1658-41c0-8649-ad0da1e0bddb",
   "metadata": {},
   "source": [
    "## Introduction"
   ]
  },
  {
   "cell_type": "markdown",
   "id": "bdc39202-7b4d-4fc6-a3a1-bd8ddfcb6f61",
   "metadata": {},
   "source": [
    "## How to Read Integers"
   ]
  },
  {
   "cell_type": "markdown",
   "id": "ae20fd70-3107-47fa-89b3-80b23f38450b",
   "metadata": {},
   "source": [
    "To get Julia to convert the string read (\"13\", say,) to the number (integer) 13. This can\n",
    "be done with the standard Julia function, parse, as follows:"
   ]
  },
  {
   "cell_type": "code",
   "execution_count": 9,
   "id": "cc3f0181-022e-4d27-b616-8416d42228f2",
   "metadata": {},
   "outputs": [
    {
     "name": "stdin",
     "output_type": "stream",
     "text": [
      "stdin>  2\n",
      "stdin>  2\n"
     ]
    },
    {
     "data": {
      "text/plain": [
       "4.0f0"
      ]
     },
     "execution_count": 9,
     "metadata": {},
     "output_type": "execute_result"
    }
   ],
   "source": [
    "a = parse(Float32, readline())\n",
    "b = parse(Float32, readline())\n",
    "c = a * b"
   ]
  },
  {
   "cell_type": "markdown",
   "id": "9d90158f-a034-4c69-985e-45e4f8b15c12",
   "metadata": {},
   "source": [
    "As before, readline() will fetch whatever is typed; parse will then try to convert the input to a\n",
    "whole number; that's the purpose of Int."
   ]
  },
  {
   "cell_type": "code",
   "execution_count": 10,
   "id": "d36327db-912a-4bb7-8b59-befef844afe9",
   "metadata": {},
   "outputs": [
    {
     "data": {
      "text/plain": [
       "Int64"
      ]
     },
     "execution_count": 10,
     "metadata": {},
     "output_type": "execute_result"
    }
   ],
   "source": [
    "Int"
   ]
  },
  {
   "cell_type": "code",
   "execution_count": 24,
   "id": "00e20f95-5254-46bd-b0c5-a923ac607757",
   "metadata": {},
   "outputs": [
    {
     "data": {
      "text/plain": [
       "average (generic function with 1 method)"
      ]
     },
     "execution_count": 24,
     "metadata": {},
     "output_type": "execute_result"
    }
   ],
   "source": [
    "function average()\n",
    "    sum = 0\n",
    "    for n in 'a':'c'\n",
    "        println(\"Please enter the number $n:\")\n",
    "        sum += parse(Float64, readline())\n",
    "    end\n",
    "    println(\"The average is $(round((sum/3), digits=2))\")\n",
    "end\n"
   ]
  },
  {
   "cell_type": "code",
   "execution_count": 25,
   "id": "b9c2afc0-3ab3-4241-be51-def409c9f268",
   "metadata": {},
   "outputs": [
    {
     "name": "stdin",
     "output_type": "stream",
     "text": [
      "stdin>  3\n",
      "stdin>  3.553\n",
      "stdin>  .4902\n"
     ]
    },
    {
     "name": "stdout",
     "output_type": "stream",
     "text": [
      "Please enter the number a:\n",
      "Please enter the number b:\n",
      "Please enter the number c:\n",
      "The average is 2.35\n"
     ]
    }
   ],
   "source": [
    "average()"
   ]
  },
  {
   "cell_type": "markdown",
   "id": "00a06b09-8f46-4e14-b482-c97a0f7d902b",
   "metadata": {},
   "source": [
    "After the average is calculated, it is rounded to 2 decimal places, using the option\n",
    "digits=2. To round to a whole number, use digits=0.\n",
    "round() is an example of a built-in (standard) function. Julia provides many functions\n",
    "which enable us to be more productive"
   ]
  },
  {
   "cell_type": "code",
   "execution_count": 27,
   "id": "c6b52576-a799-4cec-8358-ccb78b255d43",
   "metadata": {},
   "outputs": [
    {
     "data": {
      "text/plain": [
       "true"
      ]
     },
     "execution_count": 27,
     "metadata": {},
     "output_type": "execute_result"
    }
   ],
   "source": [
    "isinteger(30.0)"
   ]
  },
  {
   "cell_type": "code",
   "execution_count": 28,
   "id": "5dca175a-0ab2-4f86-861b-6c74dd9e4965",
   "metadata": {},
   "outputs": [
    {
     "data": {
      "text/plain": [
       "square (generic function with 1 method)"
      ]
     },
     "execution_count": 28,
     "metadata": {},
     "output_type": "execute_result"
    }
   ],
   "source": [
    "function square()\n",
    "    println(\"Please Enter the side length of the square:\")\n",
    "    side = parse(Float32, readline())\n",
    "    if isinteger(side)\n",
    "        println(\"The side is $(Int(side)) and the area is $(Int(side*side)) \")\n",
    "    else\n",
    "        println(\"The side is $((side)) and the area is $((side*side)) \")\n",
    "    end\n",
    "end\n",
    "\n",
    "        \n",
    "        "
   ]
  },
  {
   "cell_type": "code",
   "execution_count": 30,
   "id": "d193938e-b4c8-43df-ad2f-0385dc4c8e20",
   "metadata": {},
   "outputs": [
    {
     "name": "stdin",
     "output_type": "stream",
     "text": [
      "stdin>  2.3\n"
     ]
    },
    {
     "name": "stdout",
     "output_type": "stream",
     "text": [
      "Please Enter the side length of the square:\n",
      "The side is 2.3 and the area is 5.29 \n"
     ]
    }
   ],
   "source": [
    "square()"
   ]
  },
  {
   "cell_type": "code",
   "execution_count": 35,
   "id": "97500a4a-f76b-4ee9-9446-9173ea3042b1",
   "metadata": {},
   "outputs": [],
   "source": [
    "using Printf"
   ]
  },
  {
   "cell_type": "code",
   "execution_count": 58,
   "id": "48a5d515-c9ae-4c98-8f3a-a0abfd71ec75",
   "metadata": {},
   "outputs": [
    {
     "name": "stdout",
     "output_type": "stream",
     "text": [
      "WTF $555.26 \n"
     ]
    }
   ],
   "source": [
    "@printf(\"WTF \\$%0.2f \\n\",555.256564)\n"
   ]
  },
  {
   "cell_type": "markdown",
   "id": "4e981cd9-4ba5-4a5c-99db-ad82db2e2272",
   "metadata": {},
   "source": [
    "To read multiple values from the same line one hack around could be this:"
   ]
  },
  {
   "cell_type": "code",
   "execution_count": 65,
   "id": "405a938a-0846-45b8-b16d-03d0401eaf02",
   "metadata": {},
   "outputs": [
    {
     "name": "stdin",
     "output_type": "stream",
     "text": [
      "stdin>  1 2 3 4 5\n"
     ]
    }
   ],
   "source": [
    "a, b = [parse(Int, x) for x in split(readline())];"
   ]
  },
  {
   "cell_type": "code",
   "execution_count": 66,
   "id": "c3709a12-e92b-4464-93f4-d2787a6fe90b",
   "metadata": {},
   "outputs": [
    {
     "data": {
      "text/plain": [
       "1"
      ]
     },
     "execution_count": 66,
     "metadata": {},
     "output_type": "execute_result"
    }
   ],
   "source": [
    "a"
   ]
  },
  {
   "cell_type": "code",
   "execution_count": 67,
   "id": "6526ab46-f12c-411d-8dcb-32e93f5455da",
   "metadata": {},
   "outputs": [
    {
     "data": {
      "text/plain": [
       "2"
      ]
     },
     "execution_count": 67,
     "metadata": {},
     "output_type": "execute_result"
    }
   ],
   "source": [
    "b"
   ]
  },
  {
   "cell_type": "markdown",
   "id": "347dfc56-64b7-4bc5-8509-a8a7947b0496",
   "metadata": {},
   "source": [
    "## Integers"
   ]
  },
  {
   "cell_type": "code",
   "execution_count": 2,
   "id": "f7fd1461-94f3-44c5-b8e8-5e9ce4f4ab7a",
   "metadata": {},
   "outputs": [],
   "source": [
    "If we wish, we can declare our integers to be exactly the size we want. If we wanted to work\n",
    "with 16-bit integers, we could write a statement like this within our function:\n",
    "    "
   ]
  },
  {
   "cell_type": "code",
   "execution_count": 3,
   "id": "a911d2cb-db6f-4f6c-a34d-c9f661ab426f",
   "metadata": {},
   "outputs": [
    {
     "data": {
      "text/plain": [
       "ex (generic function with 1 method)"
      ]
     },
     "execution_count": 3,
     "metadata": {},
     "output_type": "execute_result"
    }
   ],
   "source": [
    "function ex()\n",
    "    num :: Int16 = 12\n",
    "end\n"
   ]
  },
  {
   "cell_type": "markdown",
   "id": "4c07014c-4a77-456b-ad65-49181f7b07e0",
   "metadata": {},
   "source": [
    "If you wish, you can have spaces on either side (or both sides) of ::. This is valid:"
   ]
  },
  {
   "cell_type": "markdown",
   "id": "f08834d2-0e9d-492f-980b-c32de39a0f79",
   "metadata": {},
   "source": [
    "as of this writing, you can use the word local to declare a variable without\n",
    "assigning a value, like this:"
   ]
  },
  {
   "cell_type": "code",
   "execution_count": 4,
   "id": "ce11b79f-8ff2-4a22-a5e1-634760a06e31",
   "metadata": {},
   "outputs": [],
   "source": [
    "local a::String "
   ]
  },
  {
   "cell_type": "markdown",
   "id": "2ecedaa2-69ba-4e3d-ae99-45bee4e7401b",
   "metadata": {},
   "source": [
    "We can declare several in one statement, like this:"
   ]
  },
  {
   "cell_type": "code",
   "execution_count": 9,
   "id": "2cae5357-bad9-45c3-ad47-7658c17c9843",
   "metadata": {},
   "outputs": [
    {
     "data": {
      "text/plain": [
       "ex2 (generic function with 1 method)"
      ]
     },
     "execution_count": 9,
     "metadata": {},
     "output_type": "execute_result"
    }
   ],
   "source": [
    "function ex2()\n",
    "    local aa::Int32, bb::Float32, cc::Int16\n",
    "    println(typeof(aa))\n",
    "end\n"
   ]
  },
  {
   "cell_type": "markdown",
   "id": "663781cc-12b6-4d04-bbe2-6d0956347462",
   "metadata": {},
   "source": [
    "We can assign a value in the declaration but only if we are declaring one item. We can do this:"
   ]
  },
  {
   "cell_type": "code",
   "execution_count": 12,
   "id": "88637b4a-fa35-45c7-8a3f-aeaab8115373",
   "metadata": {},
   "outputs": [
    {
     "data": {
      "text/plain": [
       "ex3 (generic function with 1 method)"
      ]
     },
     "execution_count": 12,
     "metadata": {},
     "output_type": "execute_result"
    }
   ],
   "source": [
    "function ex3()\n",
    "    local aa::Int32 = 32\n",
    "    println(aa)\n",
    "    \n",
    "end\n"
   ]
  },
  {
   "cell_type": "code",
   "execution_count": 13,
   "id": "6b5de235-54d3-499e-aeb7-dcb7e20178f9",
   "metadata": {},
   "outputs": [
    {
     "name": "stdout",
     "output_type": "stream",
     "text": [
      "32\n"
     ]
    }
   ],
   "source": [
    "ex3()"
   ]
  },
  {
   "cell_type": "markdown",
   "id": "42793fe1-2a3f-4b30-8b5d-2fafc7e5ed13",
   "metadata": {},
   "source": [
    "But not like this: "
   ]
  },
  {
   "cell_type": "code",
   "execution_count": 16,
   "id": "f252bf45-a506-482d-abca-fb70e805b9cf",
   "metadata": {},
   "outputs": [
    {
     "ename": "LoadError",
     "evalue": "syntax: invalid assignment location \"99\" around In[16]:1",
     "output_type": "error",
     "traceback": [
      "syntax: invalid assignment location \"99\" around In[16]:1",
      "",
      "Stacktrace:",
      " [1] top-level scope",
      "   @ In[16]:1",
      " [2] eval",
      "   @ ./boot.jl:373 [inlined]",
      " [3] include_string(mapexpr::typeof(REPL.softscope), mod::Module, code::String, filename::String)",
      "   @ Base ./loading.jl:1196"
     ]
    }
   ],
   "source": [
    "local aa::Int16=99, bb::Int8=79"
   ]
  },
  {
   "cell_type": "markdown",
   "id": "4d68e7e6-7937-4106-808f-1f97011c003e",
   "metadata": {},
   "source": [
    "Julia lets us work with unsigned integers. To illustrate, with 8 bits we can store bit patterns from\n",
    "00000000 to 11111111. To represent positive and negative numbers, Julia uses 00000000 to\n",
    "01111111 for integers from 0 to 127; and 10000000 to 11111111 for negative integers from -128\n",
    "to -1."
   ]
  },
  {
   "cell_type": "markdown",
   "id": "d6ab7aec-26e5-451f-97df-41dad21df189",
   "metadata": {},
   "source": [
    "The range of numbers which can be stored in 8 bits is -128 to 127, or -27 to +27-1."
   ]
  },
  {
   "cell_type": "markdown",
   "id": "1a43d44e-b30a-45a1-9687-369b80b45cc4",
   "metadata": {},
   "source": [
    "To declare unsigned integers, we put U in front of the integer types Int8, Int16, Int32, Int64\n",
    "and Int128 to get UInt8, UInt16, UInt32, UInt64 and UInt128. The range of numbers that can be\n",
    "stored for each of these types is shown here:"
   ]
  },
  {
   "cell_type": "code",
   "execution_count": 18,
   "id": "0bace3e4-74c6-4e81-8401-54b2ddd44603",
   "metadata": {},
   "outputs": [
    {
     "ename": "LoadError",
     "evalue": "InexactError: trunc(Int8, 200)",
     "output_type": "error",
     "traceback": [
      "InexactError: trunc(Int8, 200)",
      "",
      "Stacktrace:",
      " [1] throw_inexacterror(f::Symbol, #unused#::Type{Int8}, val::Int64)",
      "   @ Core ./boot.jl:612",
      " [2] checked_trunc_sint",
      "   @ ./boot.jl:634 [inlined]",
      " [3] toInt8",
      "   @ ./boot.jl:649 [inlined]",
      " [4] Int8",
      "   @ ./boot.jl:759 [inlined]",
      " [5] convert(#unused#::Type{Int8}, x::Int64)",
      "   @ Base ./number.jl:7",
      " [6] top-level scope",
      "   @ In[18]:1",
      " [7] eval",
      "   @ ./boot.jl:373 [inlined]",
      " [8] include_string(mapexpr::typeof(REPL.softscope), mod::Module, code::String, filename::String)",
      "   @ Base ./loading.jl:1196"
     ]
    }
   ],
   "source": [
    "local n::Int8 = 200"
   ]
  },
  {
   "cell_type": "code",
   "execution_count": 19,
   "id": "3a5fcf54-643e-40d4-a5ce-48897d5b3a97",
   "metadata": {},
   "outputs": [
    {
     "data": {
      "text/plain": [
       "200"
      ]
     },
     "execution_count": 19,
     "metadata": {},
     "output_type": "execute_result"
    }
   ],
   "source": [
    "local n::UInt8 = 200"
   ]
  },
  {
   "cell_type": "markdown",
   "id": "6643d614-d438-4c08-9f4f-6ba41e5731de",
   "metadata": {},
   "source": [
    "Oo"
   ]
  },
  {
   "cell_type": "markdown",
   "id": "c33c3b60-2101-4718-bf83-18cb15be7ecd",
   "metadata": {},
   "source": [
    "Tip: Julia lets you use the underscore (_) in writing numbers. You can use it anywhere you\n",
    "choose. The following are valid: 32_767, 12_34, 43_6.31_592 (436.31592). The value of a\n",
    "number is the same with or without _."
   ]
  },
  {
   "cell_type": "markdown",
   "id": "3b98739f-1a49-49b0-98e1-a1da8802905e",
   "metadata": {},
   "source": [
    "To write other symbols"
   ]
  },
  {
   "cell_type": "markdown",
   "id": "f8464317-83e5-4319-9861-2a2b8189e6a4",
   "metadata": {},
   "source": [
    "In julia repl, type \\div then Tab to complete this."
   ]
  },
  {
   "cell_type": "markdown",
   "id": "438e3721-91fb-4817-8fab-7f37483fe41e",
   "metadata": {},
   "source": [
    " https://docs.julialang.org/en/v1/manual/unicode-input/"
   ]
  },
  {
   "cell_type": "code",
   "execution_count": 21,
   "id": "278a4ffd-656c-4704-81a0-474684e2a09d",
   "metadata": {},
   "outputs": [
    {
     "data": {
      "text/plain": [
       "1.0471975511965976"
      ]
     },
     "execution_count": 21,
     "metadata": {},
     "output_type": "execute_result"
    }
   ],
   "source": [
    "Θ = pi /3"
   ]
  },
  {
   "cell_type": "markdown",
   "id": "a4c369e4-b085-47cf-936e-a55a76214d4a",
   "metadata": {},
   "source": [
    "To type ÷ on MacOS, type Option-/. On a Windows keyboard with a numeric keypad, make\n",
    "sure Num Lock is on, and type Alt-246 or Alt-0247 (press and hold Alt, type 246 or 0247) Note that\n",
    "you must use the keypad, not the number keys above the letters. At the julia> prompt, type \\div\n",
    "and press the Tab key."
   ]
  },
  {
   "cell_type": "code",
   "execution_count": 23,
   "id": "f7e70f77-5721-468d-ab96-4bf70b1f9b85",
   "metadata": {},
   "outputs": [
    {
     "data": {
      "text/plain": [
       "-1"
      ]
     },
     "execution_count": 23,
     "metadata": {},
     "output_type": "execute_result"
    }
   ],
   "source": [
    "-10 % -3"
   ]
  },
  {
   "cell_type": "markdown",
   "id": "6bd4685d-5e02-450f-b091-09df532ae7b1",
   "metadata": {},
   "source": [
    "It is helpful to remember that the value of x % y is of the same sign as x, and smaller in\n",
    "magnitude than y."
   ]
  },
  {
   "cell_type": "markdown",
   "id": "f5737782-880e-4643-a7e8-ede6b0e33453",
   "metadata": {},
   "source": [
    "The remainder operator % and the integer divide operator ÷ have the same precedence as\n",
    "multiplication (*) and division (/)."
   ]
  },
  {
   "cell_type": "markdown",
   "id": "3cc94b13-a458-4ef7-8491-a3a95f02326a",
   "metadata": {},
   "source": [
    "Of particular interest is the exponentiation operator ^ which raises a number to a given power.\n",
    "It's interesting because it's one of the few operators which associates from right to left. Consider\n",
    "this:"
   ]
  },
  {
   "cell_type": "code",
   "execution_count": 24,
   "id": "ce530ff2-5c48-42e8-be57-65bfc9205001",
   "metadata": {},
   "outputs": [
    {
     "data": {
      "text/plain": [
       "6561"
      ]
     },
     "execution_count": 24,
     "metadata": {},
     "output_type": "execute_result"
    }
   ],
   "source": [
    "3^2^3"
   ]
  },
  {
   "cell_type": "markdown",
   "id": "1bee6a6b-c2f8-49ad-8100-9c512a5853ef",
   "metadata": {},
   "source": [
    "This is evaluated as 3^(2^3) = 3^8, giving 6561. But (3^2)^3 = 9^3 = 729."
   ]
  },
  {
   "cell_type": "code",
   "execution_count": 43,
   "id": "406aaf17-4d41-47aa-8987-89413e26a844",
   "metadata": {},
   "outputs": [],
   "source": [
    "using Printf"
   ]
  },
  {
   "cell_type": "code",
   "execution_count": 71,
   "id": "33fcd353-bed7-4d4d-8add-a11072ff22f1",
   "metadata": {},
   "outputs": [
    {
     "name": "stdout",
     "output_type": "stream",
     "text": [
      "-05"
     ]
    }
   ],
   "source": [
    "@printf(\"%03d\",-5)"
   ]
  },
  {
   "cell_type": "markdown",
   "id": "6b2e457a-75fc-44f9-ab63-2f8fbedbd51c",
   "metadata": {},
   "source": [
    "%d is called a format specification. When the string is printed, %d will be replaced by the value\n",
    "of n, the variable after the comma. Since the value of n has 3 digits, it will be printed using 3\n",
    "print columns. If its value was 65535, it would be printed using 5 print columns."
   ]
  },
  {
   "cell_type": "markdown",
   "id": "575aaf40-634c-4457-85ea-1a701d2374de",
   "metadata": {},
   "source": [
    "The minus sign can be used to specify left-justification; %-wd (w is a positive integer) will print\n",
    "a value left-justified in a field width of w. For example, to print an integer left-justified in field\n",
    "width of 5, we use %-5d."
   ]
  },
  {
   "cell_type": "code",
   "execution_count": 73,
   "id": "ec9cf9d7-d615-469e-b7da-10c97d19b75f",
   "metadata": {},
   "outputs": [
    {
     "name": "stdout",
     "output_type": "stream",
     "text": [
      "99995      what the heck"
     ]
    }
   ],
   "source": [
    "@printf(\"%-10d what the heck\",99995)"
   ]
  },
  {
   "cell_type": "code",
   "execution_count": 74,
   "id": "a918d603-e4fa-4ea0-8205-a96e6957df6a",
   "metadata": {},
   "outputs": [
    {
     "name": "stdout",
     "output_type": "stream",
     "text": [
      "     99995 what the heck"
     ]
    }
   ],
   "source": [
    "@printf(\"%10d what the heck\",99995)"
   ]
  },
  {
   "cell_type": "markdown",
   "id": "4ca8b594-0607-41bc-8ded-3926eb81f9e4",
   "metadata": {},
   "source": [
    "A field width is useful when we want to line up numbers one below the other. Suppose we have\n",
    "three Int variables a, b and c with values 9876, -3 and 501, respectively. The statements"
   ]
  },
  {
   "cell_type": "code",
   "execution_count": 75,
   "id": "144f62e5-18be-4c9b-b480-d94171f1ba76",
   "metadata": {},
   "outputs": [
    {
     "name": "stdout",
     "output_type": "stream",
     "text": [
      "1235\n",
      "-5\n",
      "325\n"
     ]
    }
   ],
   "source": [
    "@printf(\"%d\\n\", 1235)\n",
    "@printf(\"%d\\n\", -5)\n",
    "@printf(\"%d\\n\", 325)"
   ]
  },
  {
   "cell_type": "code",
   "execution_count": 76,
   "id": "2e0ce7d8-31d0-48e5-b732-d798aaed41e8",
   "metadata": {},
   "outputs": [
    {
     "name": "stdout",
     "output_type": "stream",
     "text": [
      " 1235\n",
      "   -5\n",
      "  325\n"
     ]
    }
   ],
   "source": [
    "@printf(\"%5d\\n\", 1235)\n",
    "@printf(\"%5d\\n\", -5)\n",
    "@printf(\"%5d\\n\", 325)"
   ]
  },
  {
   "cell_type": "code",
   "execution_count": 77,
   "id": "1e4bafb2-4f22-401c-a302-730b7d697e3c",
   "metadata": {},
   "outputs": [
    {
     "name": "stdout",
     "output_type": "stream",
     "text": [
      " 1235\n",
      "   -5\n",
      "  325\n"
     ]
    }
   ],
   "source": [
    "@printf(\"%5d\\n%5d\\n%5d\\n\", 1235, -5, 325)"
   ]
  },
  {
   "cell_type": "markdown",
   "id": "2e690a99-0820-486e-bf5f-18ee81f77e7c",
   "metadata": {},
   "source": [
    "## Floating-point Numbers"
   ]
  },
  {
   "cell_type": "markdown",
   "id": "935b82ed-4923-4a98-84fd-b97ba34ebd97",
   "metadata": {},
   "source": [
    "Using scientific notation, with an optional sign, including a decimal point and including\n",
    "an exponent part. For example, we can write 42.715 as 0.42715E2 which means\n",
    "“0.42715 multiplied by 10 to the power 2”.\n",
    "Similarly, 0.537 can be written as 5.37e-1, that is, 5.37×10-1. The exponent can be\n",
    "specified using either e or E"
   ]
  },
  {
   "cell_type": "code",
   "execution_count": 1,
   "id": "ffe0ef5c-e257-4969-9723-4a1189c1aa07",
   "metadata": {},
   "outputs": [
    {
     "data": {
      "text/plain": [
       "0.01"
      ]
     },
     "execution_count": 1,
     "metadata": {},
     "output_type": "execute_result"
    }
   ],
   "source": [
    "1e-2"
   ]
  },
  {
   "cell_type": "code",
   "execution_count": 2,
   "id": "7a425f15-ec7a-4ee5-9bef-7604488ad22c",
   "metadata": {},
   "outputs": [
    {
     "data": {
      "text/plain": [
       "0.01"
      ]
     },
     "execution_count": 2,
     "metadata": {},
     "output_type": "execute_result"
    }
   ],
   "source": [
    "1E-2"
   ]
  },
  {
   "cell_type": "markdown",
   "id": "e947403d-a19d-490e-8f39-ca506b718505",
   "metadata": {},
   "source": [
    "We declare a floating-point variable using either Float32 or Float64. A Float32 value is stored\n",
    "as a 32-bit floating-point number, giving 6-7 significant digits. This is usually referred to as\n",
    "single-precision."
   ]
  },
  {
   "cell_type": "markdown",
   "id": "a334a3e1-08e7-46b7-90f7-97cccb44ea6c",
   "metadata": {},
   "source": [
    "A Float64 value is stored as a 64-bit floating-point number, giving 13-14 significant digits. We\n",
    "call this double-precision."
   ]
  },
  {
   "cell_type": "markdown",
   "id": "b1694bc8-74e5-4bef-b12d-6bc0bacc0ce1",
   "metadata": {},
   "source": [
    "If a number is written in scientific notation using e or E,\n",
    "it's also Float64."
   ]
  },
  {
   "cell_type": "markdown",
   "id": "03ce4110-c5dd-4edb-a5d1-76a3e17ae65c",
   "metadata": {},
   "source": [
    "On the other hand, if a number is written in scientific notation using f (but not F), it is considered\n",
    "Float32. So, for instance, 3.45f1 is the Float32 equivalent of 34.5. Suppose we write this:"
   ]
  },
  {
   "cell_type": "markdown",
   "id": "57c6c67c-97e3-4313-a686-c71a9038d59e",
   "metadata": {},
   "source": [
    "### Print Float64 and Float32 Variables"
   ]
  },
  {
   "cell_type": "markdown",
   "id": "e3994b88-1b90-4e04-b69b-63705015473f",
   "metadata": {},
   "source": [
    "We have been using the format specification %d in @printf statements to print the value of an\n",
    "integer variable. If we wish to print the value of a floating-point variable, we use %f. For\n",
    "example, consider the following:"
   ]
  },
  {
   "cell_type": "code",
   "execution_count": 6,
   "id": "a2199f82-77f4-4a7d-be76-8b7b8f84d294",
   "metadata": {},
   "outputs": [
    {
     "data": {
      "text/plain": [
       "1.7"
      ]
     },
     "execution_count": 6,
     "metadata": {},
     "output_type": "execute_result"
    }
   ],
   "source": [
    "d = Float64(1.7)"
   ]
  },
  {
   "cell_type": "code",
   "execution_count": 7,
   "id": "29508f4a-015f-401d-9ff9-82f91f305866",
   "metadata": {},
   "outputs": [],
   "source": [
    "using Printf"
   ]
  },
  {
   "cell_type": "code",
   "execution_count": 8,
   "id": "bfa710b7-099e-4d89-9eee-0efd6010b066",
   "metadata": {},
   "outputs": [
    {
     "name": "stdout",
     "output_type": "stream",
     "text": [
      "WTF 1.700000"
     ]
    }
   ],
   "source": [
    "@printf(\"WTF %f\", d)"
   ]
  },
  {
   "cell_type": "code",
   "execution_count": 21,
   "id": "d0695f2a-ac4e-4811-8d0b-f62a0a4067ef",
   "metadata": {},
   "outputs": [
    {
     "name": "stdout",
     "output_type": "stream",
     "text": [
      "WTF *0256.000"
     ]
    }
   ],
   "source": [
    "@printf(\"WTF *%08.3f\", 256)"
   ]
  },
  {
   "cell_type": "code",
   "execution_count": 23,
   "id": "f3456872-e8d1-4621-9e05-05e5c0182fbd",
   "metadata": {},
   "outputs": [
    {
     "name": "stdout",
     "output_type": "stream",
     "text": [
      "WTF *256.000"
     ]
    }
   ],
   "source": [
    "@printf(\"WTF *%.3f\", 256)"
   ]
  },
  {
   "cell_type": "markdown",
   "id": "eeec8c5b-bcb7-47c6-a9ea-6e711a38e7d9",
   "metadata": {},
   "source": [
    "### Assignment Between Float64 and Float32"
   ]
  },
  {
   "cell_type": "markdown",
   "id": "b520e5e9-f8fb-459e-9a71-6cab45bbcad2",
   "metadata": {},
   "source": [
    "Since Float32 is smaller than Float64, you can store a Float32 value in a Float64 variable\n",
    "without any problems."
   ]
  },
  {
   "cell_type": "markdown",
   "id": "01d23e7e-dfee-4df5-bd2d-0e0b082d619f",
   "metadata": {},
   "source": [
    "However, if you assign a Float64 to a Float32, some precision may be lost. Consider the\n",
    "following:"
   ]
  },
  {
   "cell_type": "code",
   "execution_count": 24,
   "id": "107c6262-5cf2-4c0e-8d86-90440460636e",
   "metadata": {},
   "outputs": [
    {
     "name": "stdout",
     "output_type": "stream",
     "text": [
      "Float64: 987654321.123450, Float32: 987654336.000000 \n"
     ]
    }
   ],
   "source": [
    "d6 = Float64(987654321.12345)\n",
    "d3 = Float32(d6)\n",
    "@printf(\"Float64: %f, Float32: %f \\n\", d6, d3)"
   ]
  },
  {
   "cell_type": "markdown",
   "id": "71f0458b-1239-4676-8a13-d87731ccf1dc",
   "metadata": {},
   "source": [
    "In the following, observe that the type of b changes according to the type of the operands. If\n",
    "both operands are Int, the result is Int; if at least one is Float, the result is Float."
   ]
  },
  {
   "cell_type": "code",
   "execution_count": 25,
   "id": "e771a2e8-50f0-42dd-9637-684cb3666e95",
   "metadata": {},
   "outputs": [
    {
     "data": {
      "text/plain": [
       "Int64"
      ]
     },
     "execution_count": 25,
     "metadata": {},
     "output_type": "execute_result"
    }
   ],
   "source": [
    "b = 19 ÷ 5\n",
    "typeof(b)"
   ]
  },
  {
   "cell_type": "code",
   "execution_count": 26,
   "id": "d76c7cbc-d391-48f0-a213-ca5fc0228759",
   "metadata": {},
   "outputs": [
    {
     "data": {
      "text/plain": [
       "Float64"
      ]
     },
     "execution_count": 26,
     "metadata": {},
     "output_type": "execute_result"
    }
   ],
   "source": [
    "b = 19 ÷ 5.0\n",
    "typeof(b)"
   ]
  },
  {
   "cell_type": "markdown",
   "id": "cffd5015-a6fb-4fad-b080-ced74fc5973c",
   "metadata": {},
   "source": [
    "What happens if we have an expression with Float32 and/or Float64 values? If op1 and op2 are\n",
    "the two operands of an operator, the following shows the type of calculation performed and,\n",
    "hence, the type of the answer:"
   ]
  },
  {
   "cell_type": "markdown",
   "id": "f427a439-c712-4677-b579-1302c7fc92ab",
   "metadata": {},
   "source": [
    "Float32 is performed only if both operands are Float32; otherwise, Float64 is performed"
   ]
  },
  {
   "cell_type": "markdown",
   "id": "bb4ee1d7-c8a6-4bfb-ab68-818098ae7668",
   "metadata": {},
   "source": [
    "### Mixed Expressions"
   ]
  },
  {
   "cell_type": "markdown",
   "id": "9c24004f-672d-4927-8e8b-123ed1be5b68",
   "metadata": {},
   "source": [
    "If either operand of an arithmetic operator is floating-point, the calculation is done in\n",
    "floating-point arithmetic. The calculation is done in Float64 unless both operands are\n",
    "Float32, in which case the calculation is done in Float32."
   ]
  },
  {
   "cell_type": "markdown",
   "id": "6c8cd333-4c25-4bb4-977d-9d55615fb791",
   "metadata": {},
   "source": [
    "The entire construct consisting of the variable, = and the expression is referred to as an\n",
    "assignment statement. The value of an assignment statement is simply the value assigned to the\n",
    "variable; if a is 15 and b is 20, then the following statement assigns the value 35 to c:\n",
    "c = a + b"
   ]
  },
  {
   "cell_type": "code",
   "execution_count": 27,
   "id": "e4840379-ec1a-42b3-b4ff-91366fc294f5",
   "metadata": {},
   "outputs": [
    {
     "data": {
      "text/plain": [
       "25"
      ]
     },
     "execution_count": 27,
     "metadata": {},
     "output_type": "execute_result"
    }
   ],
   "source": [
    "a = 14\n",
    "b = 11\n",
    "c = a + b"
   ]
  },
  {
   "cell_type": "markdown",
   "id": "9cf0d62d-0a2a-4e04-8d34-f5481e5a264c",
   "metadata": {},
   "source": [
    "The operator = evaluates from right to left, so the above is equivalent to this:"
   ]
  },
  {
   "cell_type": "code",
   "execution_count": 28,
   "id": "b114b566-a2cb-4a2d-8ffd-0c900f6d07ca",
   "metadata": {},
   "outputs": [
    {
     "data": {
      "text/plain": [
       "13"
      ]
     },
     "execution_count": 28,
     "metadata": {},
     "output_type": "execute_result"
    }
   ],
   "source": [
    "a = (b = (c = 13))"
   ]
  },
  {
   "cell_type": "code",
   "execution_count": 29,
   "id": "d503bc59-9b70-416b-89a9-e91ed0cd7520",
   "metadata": {},
   "outputs": [
    {
     "data": {
      "text/plain": [
       "13"
      ]
     },
     "execution_count": 29,
     "metadata": {},
     "output_type": "execute_result"
    }
   ],
   "source": [
    "a"
   ]
  },
  {
   "cell_type": "code",
   "execution_count": 30,
   "id": "93c16b61-8cf9-431a-b9d6-51c05ce122a1",
   "metadata": {},
   "outputs": [
    {
     "data": {
      "text/plain": [
       "13"
      ]
     },
     "execution_count": 30,
     "metadata": {},
     "output_type": "execute_result"
    }
   ],
   "source": [
    "b"
   ]
  },
  {
   "cell_type": "code",
   "execution_count": 31,
   "id": "2c16aa39-0e67-4426-8506-883968ae2c03",
   "metadata": {},
   "outputs": [
    {
     "data": {
      "text/plain": [
       "13"
      ]
     },
     "execution_count": 31,
     "metadata": {},
     "output_type": "execute_result"
    }
   ],
   "source": [
    "c"
   ]
  },
  {
   "cell_type": "markdown",
   "id": "2a5687bc-813d-4881-be4b-7e2599544e1a",
   "metadata": {},
   "source": [
    "## Updating Operators"
   ]
  },
  {
   "cell_type": "markdown",
   "id": "b7ff428d-9823-4401-9e30-5fb7ae28abc7",
   "metadata": {},
   "source": [
    "It may be useful to remember that an updating operator could change the type of the variable on\n",
    "the left-hand side. We illustrate with the following:"
   ]
  },
  {
   "cell_type": "markdown",
   "id": "e99efabc-f2e9-453e-9563-804b02aa6f6b",
   "metadata": {},
   "source": [
    "Suppose b is Float64 and n is Int64. Consider this:"
   ]
  },
  {
   "cell_type": "markdown",
   "id": "22bbc9f9-b1db-4e67-8f30-4e7c0b639747",
   "metadata": {},
   "source": [
    "n = b # attempt to assign Float64 to Int64"
   ]
  },
  {
   "cell_type": "markdown",
   "id": "8f2d890d-d6d9-4c9b-a17e-5c5e6427ebf7",
   "metadata": {},
   "source": [
    "The assignment is valid only if the value of b is an integer (like 7 or even 7.0). Any other value\n",
    "of b (e.g. 7.4) would give an InexactError. In this case, the error would be"
   ]
  },
  {
   "cell_type": "markdown",
   "id": "79b96e4e-5f1d-40ad-8c5b-e37266ec233b",
   "metadata": {},
   "source": [
    "This means we want to convert 7.4 to Int64, which is not a valid operation. So, in general, we\n",
    "cannot assign a float value to an Int variable."
   ]
  },
  {
   "cell_type": "markdown",
   "id": "2db75e29-1801-4d2c-9c2b-5b6e86576916",
   "metadata": {},
   "source": [
    "### trunc"
   ]
  },
  {
   "cell_type": "code",
   "execution_count": 32,
   "id": "506258ed-4abf-4a26-88a9-54a85d9b4862",
   "metadata": {},
   "outputs": [
    {
     "data": {
      "text/plain": [
       "1.2"
      ]
     },
     "execution_count": 32,
     "metadata": {},
     "output_type": "execute_result"
    }
   ],
   "source": [
    "b = 1.2"
   ]
  },
  {
   "cell_type": "code",
   "execution_count": 33,
   "id": "70d6b9f3-6578-4d72-a22c-ad5e97c007c3",
   "metadata": {},
   "outputs": [
    {
     "data": {
      "text/plain": [
       "1.0"
      ]
     },
     "execution_count": 33,
     "metadata": {},
     "output_type": "execute_result"
    }
   ],
   "source": [
    "trunc(b)"
   ]
  },
  {
   "cell_type": "code",
   "execution_count": 34,
   "id": "de0ba65c-925f-4070-b80c-c46db4057d6d",
   "metadata": {},
   "outputs": [
    {
     "data": {
      "text/plain": [
       "1"
      ]
     },
     "execution_count": 34,
     "metadata": {},
     "output_type": "execute_result"
    }
   ],
   "source": [
    "trunc(Int, b)"
   ]
  },
  {
   "cell_type": "markdown",
   "id": "00dbb099-67c8-469c-b07f-4b0a006bcec7",
   "metadata": {},
   "source": [
    "### ceil"
   ]
  },
  {
   "cell_type": "markdown",
   "id": "4bbc10f5-6609-474d-a303-a677f3425ef2",
   "metadata": {},
   "source": [
    "ceil(x) returns the nearest integral value of the same type as x that is greater than or equal to x."
   ]
  },
  {
   "cell_type": "code",
   "execution_count": 37,
   "id": "9ed705a5-72f0-4280-b298-dcd16b4253cc",
   "metadata": {},
   "outputs": [
    {
     "data": {
      "text/plain": [
       "5.0"
      ]
     },
     "execution_count": 37,
     "metadata": {},
     "output_type": "execute_result"
    }
   ],
   "source": [
    "ceil(5.0)"
   ]
  },
  {
   "cell_type": "code",
   "execution_count": 38,
   "id": "b967391d-142c-41b8-acc6-a97a0ae9c032",
   "metadata": {},
   "outputs": [
    {
     "data": {
      "text/plain": [
       "6.0"
      ]
     },
     "execution_count": 38,
     "metadata": {},
     "output_type": "execute_result"
    }
   ],
   "source": [
    "ceil(5.3)"
   ]
  },
  {
   "cell_type": "code",
   "execution_count": 39,
   "id": "483582ec-c4fd-41c9-ad12-821d7f97bf30",
   "metadata": {},
   "outputs": [
    {
     "data": {
      "text/plain": [
       "6"
      ]
     },
     "execution_count": 39,
     "metadata": {},
     "output_type": "execute_result"
    }
   ],
   "source": [
    "ceil(Int, 5.3)"
   ]
  },
  {
   "cell_type": "markdown",
   "id": "01a5aaac-5e5d-4ec7-82b8-933101e147fe",
   "metadata": {},
   "source": [
    "### floor"
   ]
  },
  {
   "cell_type": "markdown",
   "id": "5e254dcc-19be-4e01-a71d-210fe820c66b",
   "metadata": {},
   "source": [
    "floor(x) returns the nearest integral value of the same type as x that is less than or equal to x."
   ]
  },
  {
   "cell_type": "code",
   "execution_count": 40,
   "id": "e7438089-2957-4763-859f-e665befb1a1b",
   "metadata": {},
   "outputs": [
    {
     "data": {
      "text/plain": [
       "7.0"
      ]
     },
     "execution_count": 40,
     "metadata": {},
     "output_type": "execute_result"
    }
   ],
   "source": [
    "floor(7.0)"
   ]
  },
  {
   "cell_type": "code",
   "execution_count": 41,
   "id": "474c19c5-423a-4564-aed3-4b7d03f726a8",
   "metadata": {},
   "outputs": [
    {
     "data": {
      "text/plain": [
       "7.0"
      ]
     },
     "execution_count": 41,
     "metadata": {},
     "output_type": "execute_result"
    }
   ],
   "source": [
    "floor(7.3)"
   ]
  },
  {
   "cell_type": "code",
   "execution_count": 42,
   "id": "313da89a-144d-4e71-882d-3c4a5fab4532",
   "metadata": {},
   "outputs": [
    {
     "data": {
      "text/plain": [
       "40"
      ]
     },
     "execution_count": 42,
     "metadata": {},
     "output_type": "execute_result"
    }
   ],
   "source": [
    "floor(Int, 40.3)"
   ]
  },
  {
   "cell_type": "markdown",
   "id": "3afe56ca-edc8-476e-9edc-18da16f06054",
   "metadata": {},
   "source": [
    "### round"
   ]
  },
  {
   "cell_type": "code",
   "execution_count": 43,
   "id": "e62be3f7-74f5-4742-a87d-690846eaa6b5",
   "metadata": {},
   "outputs": [
    {
     "data": {
      "text/plain": [
       "4"
      ]
     },
     "execution_count": 43,
     "metadata": {},
     "output_type": "execute_result"
    }
   ],
   "source": [
    "round(Int64, 3.5)"
   ]
  },
  {
   "cell_type": "code",
   "execution_count": 44,
   "id": "06fd26b2-ec12-4cc0-88ab-130094552dc1",
   "metadata": {},
   "outputs": [
    {
     "data": {
      "text/plain": [
       "4"
      ]
     },
     "execution_count": 44,
     "metadata": {},
     "output_type": "execute_result"
    }
   ],
   "source": [
    "round(Int64, 4.5)"
   ]
  },
  {
   "cell_type": "markdown",
   "id": "4c6241ee-e0dd-4caf-acdd-b014b620f6ad",
   "metadata": {},
   "source": [
    "Huh? Not what we learnt in school! The technical reason is this: Julia uses the IEEE754 standard\n",
    "for rounding. This rounds to the nearest integer, with fractional values of 0.5 being rounded to\n",
    "the nearest even integer. We get the answer 4 because 4 is the nearest even integer to 4.5.\n",
    "Round(3.5) works as expected because 4 is the nearest even integer to 3.5."
   ]
  },
  {
   "cell_type": "markdown",
   "id": "75ac3e65-1814-4bf5-879a-f2aa1d8806e4",
   "metadata": {},
   "source": [
    "In any case, this seeming anomaly is merely the default behaviour of round. Julia provides many\n",
    "options for rounding.\n",
    "One such option is RoundNearestTiesAway. It is used as follows:"
   ]
  },
  {
   "cell_type": "code",
   "execution_count": 46,
   "id": "5013dad6-dcf5-4488-9fda-dd3e4b0ca86a",
   "metadata": {},
   "outputs": [
    {
     "data": {
      "text/plain": [
       "5"
      ]
     },
     "execution_count": 46,
     "metadata": {},
     "output_type": "execute_result"
    }
   ],
   "source": [
    "round(Int64, 4.5, RoundNearestTiesAway)"
   ]
  },
  {
   "cell_type": "markdown",
   "id": "0cf68184-ba15-440a-8792-86578c116e88",
   "metadata": {},
   "source": [
    "The option RoundNearestTiesAway rounds to the nearest integer, with fractional values of 0.5\n",
    "rounded away from zero"
   ]
  },
  {
   "cell_type": "code",
   "execution_count": 47,
   "id": "6e9d31f9-67c1-4ae9-aaa1-102be4a0e69f",
   "metadata": {},
   "outputs": [
    {
     "data": {
      "text/plain": [
       "-5"
      ]
     },
     "execution_count": 47,
     "metadata": {},
     "output_type": "execute_result"
    }
   ],
   "source": [
    "round(Int64, -4.5, RoundNearestTiesAway)"
   ]
  },
  {
   "cell_type": "markdown",
   "id": "1607f885-de8d-4d12-9ba1-b3a462856f36",
   "metadata": {},
   "source": [
    "RoundNearestTiesUp - rounds to nearest integer, with fractional values of 0.5 rounded towards\n",
    "positive infinity. For example:"
   ]
  },
  {
   "cell_type": "code",
   "execution_count": 48,
   "id": "fff5d07e-e224-42d6-b95a-067560944c86",
   "metadata": {},
   "outputs": [
    {
     "data": {
      "text/plain": [
       "5"
      ]
     },
     "execution_count": 48,
     "metadata": {},
     "output_type": "execute_result"
    }
   ],
   "source": [
    "round(Int64, 4.5, RoundNearestTiesUp)"
   ]
  },
  {
   "cell_type": "code",
   "execution_count": 49,
   "id": "6d428588-2643-41f0-95ca-511ab2142989",
   "metadata": {},
   "outputs": [
    {
     "data": {
      "text/plain": [
       "-4"
      ]
     },
     "execution_count": 49,
     "metadata": {},
     "output_type": "execute_result"
    }
   ],
   "source": [
    "round(Int64, -4.5, RoundNearestTiesUp)"
   ]
  },
  {
   "cell_type": "markdown",
   "id": "c2f65802-b0cd-40d4-9403-656dfd8911fa",
   "metadata": {},
   "source": [
    "- RoundToZero - this is an alias for trunc\n",
    "- RoundUp - alias for ceil\n",
    "- RoundDown - alias for floor"
   ]
  },
  {
   "cell_type": "markdown",
   "id": "c5958ce7-c0f8-4912-99de-65d8b2122b8e",
   "metadata": {},
   "source": [
    "In the examples above, we rounded to a whole number. But round can round to any number of\n",
    "decimal places we desire. Suppose we want to round to two decimal places. The following\n",
    "illustrates how:"
   ]
  },
  {
   "cell_type": "code",
   "execution_count": 52,
   "id": "381b4958-40b4-45b9-8aba-128bd8cd21fb",
   "metadata": {},
   "outputs": [
    {
     "data": {
      "text/plain": [
       "π = 3.1415926535897..."
      ]
     },
     "execution_count": 52,
     "metadata": {},
     "output_type": "execute_result"
    }
   ],
   "source": [
    "pi"
   ]
  },
  {
   "cell_type": "code",
   "execution_count": 51,
   "id": "d9587950-8521-4e28-9785-d22a188d20ac",
   "metadata": {},
   "outputs": [
    {
     "data": {
      "text/plain": [
       "3.14"
      ]
     },
     "execution_count": 51,
     "metadata": {},
     "output_type": "execute_result"
    }
   ],
   "source": [
    "round(pi, digits=2)"
   ]
  },
  {
   "cell_type": "markdown",
   "id": "8fa80374-8dd5-4533-b4c0-f90b1c411c9a",
   "metadata": {},
   "source": [
    "But note this: if the third decimal place is 5, and is followed by 0s or nothing, the second decimal\n",
    "place determines the answer; if it is even, it remains the same and if it is odd, 1 is added to it. In\n",
    "other words, the digit in the second decimal place is rounded to the nearest even digit."
   ]
  },
  {
   "cell_type": "code",
   "execution_count": 56,
   "id": "12d2dd26-504f-4a1f-88a7-3ecc526661de",
   "metadata": {},
   "outputs": [
    {
     "data": {
      "text/plain": [
       "π = 3.1415926535897..."
      ]
     },
     "execution_count": 56,
     "metadata": {},
     "output_type": "execute_result"
    }
   ],
   "source": [
    "π"
   ]
  },
  {
   "cell_type": "markdown",
   "id": "7d328706-1fb3-4120-a054-105c92f7c9aa",
   "metadata": {},
   "source": [
    "In general, if we want to round to d decimal places, we look at the digit in the (d+1)st position.\n",
    "If it is less than or greater than 5, the usual rules of rounding apply.\n",
    "If it is 5, and is followed by 0s or nothing, the digit in the dth position is rounded to the nearest\n",
    "even digit. If the 5 is followed by any non-zero value, the digit to the left is incremented."
   ]
  },
  {
   "cell_type": "markdown",
   "id": "12fd96b1-08b8-48d9-9d7a-3c8add010d4e",
   "metadata": {},
   "source": [
    "For completeness, we point out that what follows digits= can be a negative integer. But, for\n",
    "instance, what does round(456.78, digits=-1) mean?"
   ]
  },
  {
   "cell_type": "markdown",
   "id": "8293bd1c-a928-46ea-895e-f708b25dc6e1",
   "metadata": {},
   "source": [
    "- d=0 means round to the nearest whole number\n",
    "- d=1 means round to the nearest tenth\n",
    "- d=2 means round to the nearest hundredth, and so on"
   ]
  },
  {
   "cell_type": "markdown",
   "id": "5654ec07-a82f-462f-ab9f-ed3b60781b84",
   "metadata": {},
   "source": [
    "- d=-1 means round to the nearest ten\n",
    "- d=-2 means round to the nearest hundred\n",
    "- d=-3 means round to the nearest thousand, and so on"
   ]
  },
  {
   "cell_type": "code",
   "execution_count": 57,
   "id": "6f98fedb-ab5a-4ac3-bc99-1542ee656f7f",
   "metadata": {},
   "outputs": [
    {
     "data": {
      "text/plain": [
       "1300.0"
      ]
     },
     "execution_count": 57,
     "metadata": {},
     "output_type": "execute_result"
    }
   ],
   "source": [
    "round(1332, digits=-2)"
   ]
  },
  {
   "cell_type": "code",
   "execution_count": null,
   "id": "33875e68-33b1-457c-a7cd-0ce82c9575d9",
   "metadata": {},
   "outputs": [],
   "source": []
  }
 ],
 "metadata": {
  "kernelspec": {
   "display_name": "Julia 1.7.1",
   "language": "julia",
   "name": "julia-1.7"
  },
  "language_info": {
   "file_extension": ".jl",
   "mimetype": "application/julia",
   "name": "julia",
   "version": "1.7.1"
  }
 },
 "nbformat": 4,
 "nbformat_minor": 5
}
