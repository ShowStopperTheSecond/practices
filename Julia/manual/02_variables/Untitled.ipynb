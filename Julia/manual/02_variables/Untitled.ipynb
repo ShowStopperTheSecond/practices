{
 "cells": [
  {
   "cell_type": "markdown",
   "id": "a60de7d0-7554-4866-bb77-fd1dcb7d226c",
   "metadata": {},
   "source": [
    "# Variables"
   ]
  },
  {
   "cell_type": "markdown",
   "id": "d9f6688d-52b0-4fee-b9ea-01b8300d1f2a",
   "metadata": {},
   "source": [
    "Julia provides an extremely flexible system for naming variables. Variable names are case-sensitive, and have no semantic meaning (that is, the language will not treat variables differently based on their names).\n",
    "\n"
   ]
  },
  {
   "cell_type": "markdown",
   "id": "05a9f42f-aecf-419e-a62d-a58927cbff6f",
   "metadata": {},
   "source": [
    "Unicode names (in UTF-8 encoding) are allowed:\n",
    "\n"
   ]
  },
  {
   "cell_type": "code",
   "execution_count": 2,
   "id": "395651fa-eb83-4600-ab3f-a4298f8486b7",
   "metadata": {},
   "outputs": [
    {
     "data": {
      "text/plain": [
       "π = 3.1415926535897..."
      ]
     },
     "execution_count": 2,
     "metadata": {},
     "output_type": "execute_result"
    }
   ],
   "source": [
    "θ = pi"
   ]
  },
  {
   "cell_type": "markdown",
   "id": "ac83b77e-d7b6-4bf0-bd3f-07a2b9f76afa",
   "metadata": {},
   "source": [
    "In the Julia REPL and several other Julia editing environments, you can type many Unicode math symbols by typing the backslashed LaTeX symbol name followed by tab. For example, the variable name δ can be entered by typing \\delta-tab, or even α̂⁽²⁾ by \\alpha-tab-\\hat- tab-\\^(2)-tab. (If you find a symbol somewhere, e.g. in someone else's code, that you don't know how to type, the REPL help will tell you: just type ? and then paste the symbol.)\n",
    "\n"
   ]
  },
  {
   "cell_type": "code",
   "execution_count": 8,
   "id": "334e807a-2799-4848-9f6b-2c089ecbe09b",
   "metadata": {},
   "outputs": [
    {
     "data": {
      "text/plain": [
       "π = 3.1415926535897..."
      ]
     },
     "execution_count": 8,
     "metadata": {},
     "output_type": "execute_result"
    }
   ],
   "source": [
    "π"
   ]
  },
  {
   "cell_type": "code",
   "execution_count": 9,
   "id": "1eb19fa0-e5d5-4245-b15b-1655124392bb",
   "metadata": {},
   "outputs": [
    {
     "name": "stdout",
     "output_type": "stream",
     "text": [
      "\"\u001b[36mπ\u001b[39m\" can be typed by \u001b[36m\\pi<tab>\u001b[39m\n",
      "\n",
      "search: \u001b[0m\u001b[1mπ\u001b[22m\n",
      "\n"
     ]
    },
    {
     "data": {
      "text/latex": [
       "\\begin{verbatim}\n",
       "π\n",
       "pi\n",
       "\\end{verbatim}\n",
       "The constant pi.\n",
       "\n",
       "Unicode \\texttt{π} can be typed by writing \\texttt{{\\textbackslash}pi} then pressing tab in the Julia REPL, and in many editors.\n",
       "\n",
       "See also: \\href{@ref}{\\texttt{sinpi}}, \\href{@ref}{\\texttt{sincospi}}, \\href{@ref}{\\texttt{deg2rad}}.\n",
       "\n",
       "\\section{Examples}\n",
       "\\begin{verbatim}\n",
       "julia> pi\n",
       "π = 3.1415926535897...\n",
       "\n",
       "julia> 1/2pi\n",
       "0.15915494309189535\n",
       "\\end{verbatim}\n"
      ],
      "text/markdown": [
       "```\n",
       "π\n",
       "pi\n",
       "```\n",
       "\n",
       "The constant pi.\n",
       "\n",
       "Unicode `π` can be typed by writing `\\pi` then pressing tab in the Julia REPL, and in many editors.\n",
       "\n",
       "See also: [`sinpi`](@ref), [`sincospi`](@ref), [`deg2rad`](@ref).\n",
       "\n",
       "# Examples\n",
       "\n",
       "```jldoctest\n",
       "julia> pi\n",
       "π = 3.1415926535897...\n",
       "\n",
       "julia> 1/2pi\n",
       "0.15915494309189535\n",
       "```\n"
      ],
      "text/plain": [
       "\u001b[36m  π\u001b[39m\n",
       "\u001b[36m  pi\u001b[39m\n",
       "\n",
       "  The constant pi.\n",
       "\n",
       "  Unicode \u001b[36mπ\u001b[39m can be typed by writing \u001b[36m\\pi\u001b[39m then pressing tab in the Julia REPL,\n",
       "  and in many editors.\n",
       "\n",
       "  See also: \u001b[36msinpi\u001b[39m, \u001b[36msincospi\u001b[39m, \u001b[36mdeg2rad\u001b[39m.\n",
       "\n",
       "\u001b[1m  Examples\u001b[22m\n",
       "\u001b[1m  ≡≡≡≡≡≡≡≡≡≡\u001b[22m\n",
       "\n",
       "\u001b[36m  julia> pi\u001b[39m\n",
       "\u001b[36m  π = 3.1415926535897...\u001b[39m\n",
       "\u001b[36m  \u001b[39m\n",
       "\u001b[36m  julia> 1/2pi\u001b[39m\n",
       "\u001b[36m  0.15915494309189535\u001b[39m"
      ]
     },
     "execution_count": 9,
     "metadata": {},
     "output_type": "execute_result"
    }
   ],
   "source": [
    "?π"
   ]
  },
  {
   "cell_type": "markdown",
   "id": "008675bf-8ee2-4187-9a79-df159c87402b",
   "metadata": {},
   "source": [
    "Julia will even let you redefine built-in constants and functions if needed (although this is not recommended to avoid potential confusions):"
   ]
  },
  {
   "cell_type": "markdown",
   "id": "83f73c1c-a23f-4a03-9829-c7bc0223453f",
   "metadata": {},
   "source": [
    "However, if you try to redefine a built-in constant or function already in use, Julia will give you an error:"
   ]
  },
  {
   "cell_type": "markdown",
   "id": "4f2ea7b7-f7cf-44a2-a88d-b2830b578dc3",
   "metadata": {},
   "source": [
    "---"
   ]
  },
  {
   "cell_type": "markdown",
   "id": "8e3d5a38-f55e-449e-a45b-8e5f7afe21ba",
   "metadata": {},
   "source": [
    "A particular class of variable names is one that contains only underscores. These identifiers can only be assigned values but cannot be used to assign values to other variables. More technically, they can only be used as an L-value, but not as an R-value:"
   ]
  },
  {
   "cell_type": "code",
   "execution_count": 20,
   "id": "5ac3ecdc-694f-4141-b4a9-2284809f3f17",
   "metadata": {},
   "outputs": [
    {
     "data": {
      "text/plain": [
       "\"javid\""
      ]
     },
     "execution_count": 20,
     "metadata": {},
     "output_type": "execute_result"
    }
   ],
   "source": [
    "_ = \"javid\""
   ]
  },
  {
   "cell_type": "code",
   "execution_count": 21,
   "id": "e92899d7-63a4-4d2c-875d-238506fddcda",
   "metadata": {},
   "outputs": [
    {
     "ename": "LoadError",
     "evalue": "syntax: all-underscore identifier used as rvalue",
     "output_type": "error",
     "traceback": [
      "syntax: all-underscore identifier used as rvalue",
      "",
      "Stacktrace:",
      " [1] top-level scope",
      "   @ In[21]:1",
      " [2] eval",
      "   @ ./boot.jl:373 [inlined]",
      " [3] include_string(mapexpr::typeof(REPL.softscope), mod::Module, code::String, filename::String)",
      "   @ Base ./loading.jl:1196"
     ]
    }
   ],
   "source": [
    "k = _"
   ]
  },
  {
   "cell_type": "code",
   "execution_count": 22,
   "id": "53eedd98-c4c8-4eb8-b34a-bab1844a6fb9",
   "metadata": {},
   "outputs": [
    {
     "ename": "LoadError",
     "evalue": "all-underscore identifier used as rvalue",
     "output_type": "error",
     "traceback": [
      "all-underscore identifier used as rvalue",
      "",
      "Stacktrace:",
      " [1] top-level scope",
      "   @ In[22]:1",
      " [2] eval",
      "   @ ./boot.jl:373 [inlined]",
      " [3] include_string(mapexpr::typeof(REPL.softscope), mod::Module, code::String, filename::String)",
      "   @ Base ./loading.jl:1196"
     ]
    }
   ],
   "source": [
    "_"
   ]
  },
  {
   "cell_type": "markdown",
   "id": "11a5b8a9-fe81-44f9-adee-13d06ad13439",
   "metadata": {},
   "source": [
    "The only explicitly disallowed names for variables are the names of the built-in [Keywords](https://docs.julialang.org/en/v1/base/base/#Keywords):\n",
    "\n"
   ]
  },
  {
   "cell_type": "markdown",
   "id": "8933b955-296e-45c4-8f21-8d7697ad7e10",
   "metadata": {},
   "source": [
    "Some Unicode characters are considered to be equivalent in identifiers. Different ways of entering Unicode combining characters (e.g., accents) are treated as equivalent (specifically, Julia identifiers are NFC-normalized). Julia also includes a few non-standard equivalences for characters that are visually similar and are easily entered by some input methods. The Unicode characters ɛ (U+025B: Latin small letter open e) and µ (U+00B5: micro sign) are treated as equivalent to the corresponding Greek letters. The middle dot · (U+00B7) and the Greek interpunct · (U+0387) are both treated as the mathematical dot operator ⋅ (U+22C5). The minus sign − (U+2212) is treated as equivalent to the hyphen-minus sign - (U+002D)."
   ]
  },
  {
   "cell_type": "markdown",
   "id": "ae8d4a39-7e5e-4df7-af5d-55dbb1d681da",
   "metadata": {},
   "source": [
    "--- \n",
    "## Stylistic Conventions\n",
    " \n",
    "While Julia imposes few restrictions on valid names, it has become useful to adopt the following conventions:\n",
    "\n",
    "- Names of variables are in lower case.\n",
    "- Word separation can be indicated by underscores ('_'), but use of underscores is discouraged unless the name would be hard to read otherwise.\n",
    "- Names of Types and Modules begin with a capital letter and word separation is shown with upper camel case instead of underscores.\n",
    "- Names of functions and macros are in lower case, without underscores.\n",
    "- Functions that write to their arguments have names that end in !. These are sometimes called \"mutating\" or \"in-place\" functions because they are intended to produce changes in their arguments after the function is called, not just return a value.\n"
   ]
  },
  {
   "cell_type": "code",
   "execution_count": null,
   "id": "3ee8620e-2c5b-4f7c-8c3a-d43bb94b69d6",
   "metadata": {},
   "outputs": [],
   "source": []
  }
 ],
 "metadata": {
  "kernelspec": {
   "display_name": "Julia 1.7.1",
   "language": "julia",
   "name": "julia-1.7"
  },
  "language_info": {
   "file_extension": ".jl",
   "mimetype": "application/julia",
   "name": "julia",
   "version": "1.7.1"
  }
 },
 "nbformat": 4,
 "nbformat_minor": 5
}
