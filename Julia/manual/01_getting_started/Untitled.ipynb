{
 "cells": [
  {
   "cell_type": "markdown",
   "id": "417f98ce-bc26-43e8-836c-78a9c336085c",
   "metadata": {},
   "source": [
    "### Julia Installation \n",
    "\n",
    "Installation from binary souece code is the silmplest and most reliable one. Just download the source code and copy it to your /opt directory and then make and make a symbolic link for the file in /opt/julia/bin/julia to your local binary path in /usr/local/bin/"
   ]
  },
  {
   "cell_type": "markdown",
   "id": "5bf134b4-35ee-4331-8c13-ea32baf099b4",
   "metadata": {},
   "source": [
    "### Adding jupyter-notebook support \n",
    "In REPL mode add the package IJulia and you're done :) "
   ]
  },
  {
   "cell_type": "markdown",
   "id": "6f99c2cc-e517-41ad-8b43-2821752c91a6",
   "metadata": {},
   "source": [
    "### Including function from other files \n",
    "To include codes from another script simpley do as follow:\n",
    "\n",
    "```include(\"MyScript.jl\")```"
   ]
  },
  {
   "cell_type": "markdown",
   "id": "5d1fb220-3388-4079-ae1a-30f18df0c391",
   "metadata": {},
   "source": [
    "### Some other tips"
   ]
  },
  {
   "cell_type": "markdown",
   "id": "625f23d6-3b9b-426b-8dfa-b6f840bd10fa",
   "metadata": {},
   "source": [
    "- if an expression is entered into an interactive session with a trailing semicolon, its value is not shown. \n",
    "- The variable ans is bound to the value of the last evaluated expression whether it is shown or not. \n",
    "- The ans variable is only bound in interactive sessions, not when Julia code is run in other ways.\n",
    "- To run system commands in interactive mode just insert ; before the command. For exampe ```; ls```"
   ]
  },
  {
   "cell_type": "markdown",
   "id": "8f7c9182-f5d4-4696-86a4-ab96096c6f50",
   "metadata": {},
   "source": [
    "To run code in a file non-interactively, you can give it as the first argument to the julia command:\n",
    "\n",
    "```\n",
    "$ julia script.jl arg1 arg2...\n",
    "```\n"
   ]
  },
  {
   "cell_type": "markdown",
   "id": "4f970064-6f16-4272-bc3a-fdceb0d10deb",
   "metadata": {},
   "source": [
    "--- "
   ]
  },
  {
   "cell_type": "markdown",
   "id": "484394d0-4ce5-4413-831b-e4aab0055642",
   "metadata": {},
   "source": [
    "As the example implies, the following command-line arguments to julia are interpreted as command-line arguments to the program script.jl, passed in the global constant ARGS. The name of the script itself is passed in as the global PROGRAM_FILE. Note that ARGS is also set when a Julia expression is given using the -e option on the command line (see the julia help output below) but PROGRAM_FILE will be empty. For example, to just print the arguments given to a script, you could do this:"
   ]
  },
  {
   "cell_type": "code",
   "execution_count": 9,
   "id": "ca9e9409-90c4-4c12-84f0-e3de1935f5b1",
   "metadata": {},
   "outputs": [
    {
     "name": "stdout",
     "output_type": "stream",
     "text": [
      "\n",
      "foo\n",
      "bar\n"
     ]
    }
   ],
   "source": [
    "; julia -e 'println(PROGRAM_FILE); for x in ARGS; println(x); end' foo bar"
   ]
  },
  {
   "cell_type": "markdown",
   "id": "4764bf51-d8ef-4ff8-a3fe-832268a77bbc",
   "metadata": {},
   "source": [
    "The -- delimiter can be used to separate command-line arguments intended for the script file from arguments intended for Julia:\n",
    "\n",
    "\n",
    "```julia [switches] -- [programfile] [args...]```"
   ]
  },
  {
   "cell_type": "markdown",
   "id": "885ce8c7-63ee-4988-9a50-1f40b1847cc2",
   "metadata": {},
   "source": [
    "``` $ julia --color=yes -O -- script.jl arg1 arg2..```"
   ]
  },
  {
   "cell_type": "markdown",
   "id": "fa2dba47-5365-4179-bbd8-d33677827398",
   "metadata": {},
   "source": [
    "---"
   ]
  },
  {
   "cell_type": "markdown",
   "id": "7cbebc5b-322a-4b41-9ff9-d3605193d898",
   "metadata": {},
   "source": [
    "If you have code that you want executed whenever Julia is run, you can put it in ``` ~/.julia/config/startup.jl```:"
   ]
  }
 ],
 "metadata": {
  "kernelspec": {
   "display_name": "Julia 1.7.1",
   "language": "julia",
   "name": "julia-1.7"
  },
  "language_info": {
   "file_extension": ".jl",
   "mimetype": "application/julia",
   "name": "julia",
   "version": "1.7.1"
  }
 },
 "nbformat": 4,
 "nbformat_minor": 5
}
